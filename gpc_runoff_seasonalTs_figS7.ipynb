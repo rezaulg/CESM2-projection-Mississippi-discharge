{
 "cells": [
  {
   "cell_type": "markdown",
   "metadata": {},
   "source": [
    "This script reads the Nc file for Mosart Discharge downloaded from Casper log-in"
   ]
  },
  {
   "cell_type": "code",
   "execution_count": 1,
   "metadata": {},
   "outputs": [],
   "source": [
    "# To support both python 2 and python 3\n",
    "from __future__ import division, print_function, unicode_literals\n",
    "\n",
    "# Common imports\n",
    "import numpy as np\n",
    "import os\n",
    "\n",
    "# to make this notebook's output stable across runs\n",
    "np.random.seed(42)\n",
    "# To plot pretty figures\n",
    "%matplotlib inline\n",
    "#%matplotlib notebook\n",
    "\n",
    "import matplotlib as mpl\n",
    "import matplotlib.pyplot as plt\n",
    "mpl.rc('axes', labelsize=14)\n",
    "mpl.rc('xtick', labelsize=12)\n",
    "mpl.rc('ytick', labelsize=12)\n",
    "\n",
    "\n",
    "# Where to save the figures\n",
    "PROJECT_ROOT_DIR = \".\"  \n",
    "\n",
    "path2Create = r'C:/rezaul/1.academic/1.research/2.project/mrb/output/'\n",
    " \n",
    "if not os.path.exists(path2Create):\n",
    "    os.makedirs(path2Create)    \n",
    "    \n",
    "path2Save = 'C:/rezaul/1.academic/1.research/2.project/mrb/output/fig/disch/'\n",
    "\n",
    "if not os.path.exists(path2Save):\n",
    "    os.makedirs(path2Save)    \n",
    "\n",
    "IMAGES_PATH = os.path.join(path2Save)\n",
    "outputPath = os.path.join(path2Save)\n",
    "\n",
    "def save_fig(fig_id, tight_layout=True, fig_extension=\"png\", resolution=300):\n",
    "    path = os.path.join(IMAGES_PATH, fig_id + \".\" + fig_extension)\n",
    "    \n",
    "    print(\"Saving figure\", fig_id)\n",
    "    if tight_layout:\n",
    "        plt.tight_layout()\n",
    "    plt.savefig(path, format=fig_extension, dpi=resolution)\n"
   ]
  },
  {
   "cell_type": "code",
   "execution_count": null,
   "metadata": {},
   "outputs": [],
   "source": []
  },
  {
   "cell_type": "markdown",
   "metadata": {},
   "source": [
    "## Import Libraries"
   ]
  },
  {
   "cell_type": "code",
   "execution_count": 2,
   "metadata": {},
   "outputs": [],
   "source": [
    "# Common imports\n",
    "import numpy as np\n",
    "import pandas as pd\n",
    "import os\n",
    "import glob\n",
    "from datetime import datetime\n",
    "#from osgeo import gdal # Import the GDAL library\n",
    "#import gdal\n",
    "\n",
    "import cmocean\n",
    "\n",
    "#import matplotlib.pyplot as plt # Import the Matplotlib package\n",
    "from matplotlib import pyplot as plt  # Import the Matplotlib package\n",
    "from numpy import linspace # Import the Linspace numpy library\n",
    "from numpy import meshgrid # Import the Meshgrid numpy library\n",
    "\n",
    "#from init import *\n",
    "import scipy.io as sio\n",
    "# Common imports\n",
    "import calendar\n",
    "import datetime\n",
    "import matplotlib.dates as mdates\n",
    "from numpy import array, ma\n",
    "#import scipy.io\n",
    "from scipy.io import loadmat   # https://scipy-cookbook.readthedocs.io/items/Reading_mat_files.html\n",
    "import xarray as xr\n"
   ]
  },
  {
   "cell_type": "code",
   "execution_count": 3,
   "metadata": {},
   "outputs": [],
   "source": [
    "# Stats\n",
    "from statsmodels.distributions.empirical_distribution import ECDF\n",
    "from scipy.stats import gamma, norm\n",
    "from scipy.signal import detrend\n",
    "\n",
    "from netCDF4 import Dataset   # http://code.google.com/p/netcdf4-python/\n",
    "from numpy.random import normal\n",
    "from numpy import hstack\n",
    "\n",
    "import math\n"
   ]
  },
  {
   "cell_type": "code",
   "execution_count": 4,
   "metadata": {},
   "outputs": [],
   "source": [
    "# Plotting\n",
    "import matplotlib.colors as colors\n",
    "from copy import copy\n",
    "import matplotlib.cm as cm\n",
    "#from matplotlib_scalebar.scalebar import ScaleBar\n",
    "\n",
    "import seaborn as sns\n",
    "import matplotlib.gridspec as gridspec\n"
   ]
  },
  {
   "cell_type": "code",
   "execution_count": 5,
   "metadata": {},
   "outputs": [],
   "source": [
    "# Projection\n",
    "import cartopy.crs as ccrs\n",
    "\n",
    "import cartopy.feature as cfeature\n",
    "import cartopy.io.shapereader as shpreader\n",
    "from descartes import PolygonPatch\n",
    "import shapefile as shp  # Requires the pyshp package\n"
   ]
  },
  {
   "cell_type": "code",
   "execution_count": 6,
   "metadata": {},
   "outputs": [],
   "source": [
    "from descartes import PolygonPatch\n",
    "import shapefile as shp  # Requires the pyshp package\n",
    "sf=shp.Reader('C:/rezaul/1.academic/1.research/1.data/shapeFile/missi/Miss_RiverBasin.shp')"
   ]
  },
  {
   "cell_type": "code",
   "execution_count": null,
   "metadata": {},
   "outputs": [],
   "source": []
  },
  {
   "cell_type": "code",
   "execution_count": null,
   "metadata": {},
   "outputs": [],
   "source": []
  },
  {
   "cell_type": "markdown",
   "metadata": {},
   "source": [
    "## Basin shape files"
   ]
  },
  {
   "cell_type": "code",
   "execution_count": 7,
   "metadata": {},
   "outputs": [],
   "source": [
    "shapeFile_Missi = 'C:/rezaul/1.academic/1.research/2.project/mrb/dt/shapeFile/mississippi_basins/mississippi_basins/mississippi_1.shp'\n",
    "shapeFile_Arkansas = 'C:/rezaul/1.academic/1.research/2.project/mrb/dt/shapeFile/mississippi_basins/mississippi_basins/arkansas_basin_1.shp'\n",
    "shapeFile_Missouri = 'C:/rezaul/1.academic/1.research/2.project/mrb/dt/shapeFile/mississippi_basins/mississippi_basins/missouri_basin_1.shp'\n",
    "shapeFile_Ohio = 'C:/rezaul/1.academic/1.research/2.project/mrb/dt/shapeFile/mississippi_basins/mississippi_basins/ohio_basin_1.shp'"
   ]
  },
  {
   "cell_type": "code",
   "execution_count": 8,
   "metadata": {},
   "outputs": [],
   "source": [
    "sf_Missi = shp.Reader(shapeFile_Missi)\n",
    "sf_Arkansas = shp.Reader(shapeFile_Arkansas)\n",
    "sf_Missouri = shp.Reader(shapeFile_Missouri)\n",
    "sf_Ohio = shp.Reader(shapeFile_Ohio)"
   ]
  },
  {
   "cell_type": "code",
   "execution_count": 9,
   "metadata": {},
   "outputs": [],
   "source": [
    "reader_Missi = shpreader.Reader(shapeFile_Missi)\n",
    "basin_Missi = list(reader_Missi.geometries())\n",
    "#\n",
    "reader_Arkansas = shpreader.Reader(shapeFile_Arkansas)\n",
    "basin_Arkansas = list(reader_Arkansas.geometries())\n",
    "#\n",
    "reader_Missouri = shpreader.Reader(shapeFile_Missouri)\n",
    "basin_Missouri = list(reader_Missouri.geometries())\n",
    "#\n",
    "reader_Ohio = shpreader.Reader(shapeFile_Ohio)\n",
    "basin_Ohio = list(reader_Ohio.geometries())\n",
    "#\n"
   ]
  },
  {
   "cell_type": "code",
   "execution_count": 10,
   "metadata": {},
   "outputs": [
    {
     "name": "stdout",
     "output_type": "stream",
     "text": [
      "<shapefile.ShapeRecord object at 0x00000168D1996DC0>\n",
      "<shapefile.ShapeRecord object at 0x00000168D19962B0>\n",
      "<shapefile.ShapeRecord object at 0x00000168D19B0850>\n",
      "<shapefile.ShapeRecord object at 0x00000168D1996EB0>\n"
     ]
    }
   ],
   "source": [
    "feature_Missi = sf_Missi.shapeRecords()[0]\n",
    "print(feature_Missi)\n",
    "\n",
    "feature_Arkansas = sf_Arkansas.shapeRecords()[0]\n",
    "print(feature_Arkansas)\n",
    "\n",
    "feature_Missouri = sf_Missouri.shapeRecords()[0]\n",
    "print(feature_Missouri)\n",
    "\n",
    "feature_Ohio = sf_Ohio.shapeRecords()[0]\n",
    "print(feature_Ohio)\n"
   ]
  },
  {
   "cell_type": "code",
   "execution_count": null,
   "metadata": {},
   "outputs": [],
   "source": []
  },
  {
   "cell_type": "code",
   "execution_count": null,
   "metadata": {},
   "outputs": [],
   "source": []
  },
  {
   "cell_type": "markdown",
   "metadata": {},
   "source": [
    "## Read Nc file"
   ]
  },
  {
   "cell_type": "code",
   "execution_count": 11,
   "metadata": {},
   "outputs": [
    {
     "name": "stdout",
     "output_type": "stream",
     "text": [
      "C:/rezaul/1.academic/1.research/2.project/mrb/dt/cesm/cesm2LE/param/runoff/mon/b.e21.BHISTcmip6.f09_g17.LE2-1001.001.clm2.h0.QOVER.185001-185912.nc\n"
     ]
    }
   ],
   "source": [
    "filePath = 'C:/rezaul/1.academic/1.research/2.project/mrb/dt/cesm/cesm2LE/param/runoff/mon'\n",
    "fileName = 'b.e21.BHISTcmip6.f09_g17.LE2-1001.001.clm2.h0.QOVER.185001-185912.nc'\n",
    "ncFile_param = str(filePath) + '/' + str(fileName)\n",
    "print(ncFile_param)"
   ]
  },
  {
   "cell_type": "code",
   "execution_count": 12,
   "metadata": {},
   "outputs": [],
   "source": [
    "file_param = Dataset(ncFile_param, mode='r')\n",
    "file_param\n",
    "\n",
    "lons = file_param.variables['lon'][:]\n",
    "lats = file_param.variables['lat'][:]"
   ]
  },
  {
   "cell_type": "code",
   "execution_count": 13,
   "metadata": {},
   "outputs": [
    {
     "name": "stdout",
     "output_type": "stream",
     "text": [
      "[-90.       -89.057594 -88.11518  -87.172775]\n"
     ]
    }
   ],
   "source": [
    "print(lats[0:4])"
   ]
  },
  {
   "cell_type": "code",
   "execution_count": 14,
   "metadata": {},
   "outputs": [
    {
     "name": "stdout",
     "output_type": "stream",
     "text": [
      "[0.   1.25 2.5  3.75]\n"
     ]
    }
   ],
   "source": [
    "print(lons[0:4])"
   ]
  },
  {
   "cell_type": "code",
   "execution_count": 15,
   "metadata": {},
   "outputs": [
    {
     "name": "stderr",
     "output_type": "stream",
     "text": [
      "C:\\Users\\muham\\anaconda3\\lib\\site-packages\\xarray\\backends\\plugins.py:61: RuntimeWarning: Engine 'rasterio' loading failed:\n",
      "DLL load failed while importing _base: The specified procedure could not be found.\n",
      "  warnings.warn(f\"Engine {name!r} loading failed:\\n{ex}\", RuntimeWarning)\n"
     ]
    },
    {
     "data": {
      "text/html": [
       "<div><svg style=\"position: absolute; width: 0; height: 0; overflow: hidden\">\n",
       "<defs>\n",
       "<symbol id=\"icon-database\" viewBox=\"0 0 32 32\">\n",
       "<path d=\"M16 0c-8.837 0-16 2.239-16 5v4c0 2.761 7.163 5 16 5s16-2.239 16-5v-4c0-2.761-7.163-5-16-5z\"></path>\n",
       "<path d=\"M16 17c-8.837 0-16-2.239-16-5v6c0 2.761 7.163 5 16 5s16-2.239 16-5v-6c0 2.761-7.163 5-16 5z\"></path>\n",
       "<path d=\"M16 26c-8.837 0-16-2.239-16-5v6c0 2.761 7.163 5 16 5s16-2.239 16-5v-6c0 2.761-7.163 5-16 5z\"></path>\n",
       "</symbol>\n",
       "<symbol id=\"icon-file-text2\" viewBox=\"0 0 32 32\">\n",
       "<path d=\"M28.681 7.159c-0.694-0.947-1.662-2.053-2.724-3.116s-2.169-2.030-3.116-2.724c-1.612-1.182-2.393-1.319-2.841-1.319h-15.5c-1.378 0-2.5 1.121-2.5 2.5v27c0 1.378 1.122 2.5 2.5 2.5h23c1.378 0 2.5-1.122 2.5-2.5v-19.5c0-0.448-0.137-1.23-1.319-2.841zM24.543 5.457c0.959 0.959 1.712 1.825 2.268 2.543h-4.811v-4.811c0.718 0.556 1.584 1.309 2.543 2.268zM28 29.5c0 0.271-0.229 0.5-0.5 0.5h-23c-0.271 0-0.5-0.229-0.5-0.5v-27c0-0.271 0.229-0.5 0.5-0.5 0 0 15.499-0 15.5 0v7c0 0.552 0.448 1 1 1h7v19.5z\"></path>\n",
       "<path d=\"M23 26h-14c-0.552 0-1-0.448-1-1s0.448-1 1-1h14c0.552 0 1 0.448 1 1s-0.448 1-1 1z\"></path>\n",
       "<path d=\"M23 22h-14c-0.552 0-1-0.448-1-1s0.448-1 1-1h14c0.552 0 1 0.448 1 1s-0.448 1-1 1z\"></path>\n",
       "<path d=\"M23 18h-14c-0.552 0-1-0.448-1-1s0.448-1 1-1h14c0.552 0 1 0.448 1 1s-0.448 1-1 1z\"></path>\n",
       "</symbol>\n",
       "</defs>\n",
       "</svg>\n",
       "<style>/* CSS stylesheet for displaying xarray objects in jupyterlab.\n",
       " *\n",
       " */\n",
       "\n",
       ":root {\n",
       "  --xr-font-color0: var(--jp-content-font-color0, rgba(0, 0, 0, 1));\n",
       "  --xr-font-color2: var(--jp-content-font-color2, rgba(0, 0, 0, 0.54));\n",
       "  --xr-font-color3: var(--jp-content-font-color3, rgba(0, 0, 0, 0.38));\n",
       "  --xr-border-color: var(--jp-border-color2, #e0e0e0);\n",
       "  --xr-disabled-color: var(--jp-layout-color3, #bdbdbd);\n",
       "  --xr-background-color: var(--jp-layout-color0, white);\n",
       "  --xr-background-color-row-even: var(--jp-layout-color1, white);\n",
       "  --xr-background-color-row-odd: var(--jp-layout-color2, #eeeeee);\n",
       "}\n",
       "\n",
       "html[theme=dark],\n",
       "body.vscode-dark {\n",
       "  --xr-font-color0: rgba(255, 255, 255, 1);\n",
       "  --xr-font-color2: rgba(255, 255, 255, 0.54);\n",
       "  --xr-font-color3: rgba(255, 255, 255, 0.38);\n",
       "  --xr-border-color: #1F1F1F;\n",
       "  --xr-disabled-color: #515151;\n",
       "  --xr-background-color: #111111;\n",
       "  --xr-background-color-row-even: #111111;\n",
       "  --xr-background-color-row-odd: #313131;\n",
       "}\n",
       "\n",
       ".xr-wrap {\n",
       "  display: block !important;\n",
       "  min-width: 300px;\n",
       "  max-width: 700px;\n",
       "}\n",
       "\n",
       ".xr-text-repr-fallback {\n",
       "  /* fallback to plain text repr when CSS is not injected (untrusted notebook) */\n",
       "  display: none;\n",
       "}\n",
       "\n",
       ".xr-header {\n",
       "  padding-top: 6px;\n",
       "  padding-bottom: 6px;\n",
       "  margin-bottom: 4px;\n",
       "  border-bottom: solid 1px var(--xr-border-color);\n",
       "}\n",
       "\n",
       ".xr-header > div,\n",
       ".xr-header > ul {\n",
       "  display: inline;\n",
       "  margin-top: 0;\n",
       "  margin-bottom: 0;\n",
       "}\n",
       "\n",
       ".xr-obj-type,\n",
       ".xr-array-name {\n",
       "  margin-left: 2px;\n",
       "  margin-right: 10px;\n",
       "}\n",
       "\n",
       ".xr-obj-type {\n",
       "  color: var(--xr-font-color2);\n",
       "}\n",
       "\n",
       ".xr-sections {\n",
       "  padding-left: 0 !important;\n",
       "  display: grid;\n",
       "  grid-template-columns: 150px auto auto 1fr 20px 20px;\n",
       "}\n",
       "\n",
       ".xr-section-item {\n",
       "  display: contents;\n",
       "}\n",
       "\n",
       ".xr-section-item input {\n",
       "  display: none;\n",
       "}\n",
       "\n",
       ".xr-section-item input + label {\n",
       "  color: var(--xr-disabled-color);\n",
       "}\n",
       "\n",
       ".xr-section-item input:enabled + label {\n",
       "  cursor: pointer;\n",
       "  color: var(--xr-font-color2);\n",
       "}\n",
       "\n",
       ".xr-section-item input:enabled + label:hover {\n",
       "  color: var(--xr-font-color0);\n",
       "}\n",
       "\n",
       ".xr-section-summary {\n",
       "  grid-column: 1;\n",
       "  color: var(--xr-font-color2);\n",
       "  font-weight: 500;\n",
       "}\n",
       "\n",
       ".xr-section-summary > span {\n",
       "  display: inline-block;\n",
       "  padding-left: 0.5em;\n",
       "}\n",
       "\n",
       ".xr-section-summary-in:disabled + label {\n",
       "  color: var(--xr-font-color2);\n",
       "}\n",
       "\n",
       ".xr-section-summary-in + label:before {\n",
       "  display: inline-block;\n",
       "  content: '►';\n",
       "  font-size: 11px;\n",
       "  width: 15px;\n",
       "  text-align: center;\n",
       "}\n",
       "\n",
       ".xr-section-summary-in:disabled + label:before {\n",
       "  color: var(--xr-disabled-color);\n",
       "}\n",
       "\n",
       ".xr-section-summary-in:checked + label:before {\n",
       "  content: '▼';\n",
       "}\n",
       "\n",
       ".xr-section-summary-in:checked + label > span {\n",
       "  display: none;\n",
       "}\n",
       "\n",
       ".xr-section-summary,\n",
       ".xr-section-inline-details {\n",
       "  padding-top: 4px;\n",
       "  padding-bottom: 4px;\n",
       "}\n",
       "\n",
       ".xr-section-inline-details {\n",
       "  grid-column: 2 / -1;\n",
       "}\n",
       "\n",
       ".xr-section-details {\n",
       "  display: none;\n",
       "  grid-column: 1 / -1;\n",
       "  margin-bottom: 5px;\n",
       "}\n",
       "\n",
       ".xr-section-summary-in:checked ~ .xr-section-details {\n",
       "  display: contents;\n",
       "}\n",
       "\n",
       ".xr-array-wrap {\n",
       "  grid-column: 1 / -1;\n",
       "  display: grid;\n",
       "  grid-template-columns: 20px auto;\n",
       "}\n",
       "\n",
       ".xr-array-wrap > label {\n",
       "  grid-column: 1;\n",
       "  vertical-align: top;\n",
       "}\n",
       "\n",
       ".xr-preview {\n",
       "  color: var(--xr-font-color3);\n",
       "}\n",
       "\n",
       ".xr-array-preview,\n",
       ".xr-array-data {\n",
       "  padding: 0 5px !important;\n",
       "  grid-column: 2;\n",
       "}\n",
       "\n",
       ".xr-array-data,\n",
       ".xr-array-in:checked ~ .xr-array-preview {\n",
       "  display: none;\n",
       "}\n",
       "\n",
       ".xr-array-in:checked ~ .xr-array-data,\n",
       ".xr-array-preview {\n",
       "  display: inline-block;\n",
       "}\n",
       "\n",
       ".xr-dim-list {\n",
       "  display: inline-block !important;\n",
       "  list-style: none;\n",
       "  padding: 0 !important;\n",
       "  margin: 0;\n",
       "}\n",
       "\n",
       ".xr-dim-list li {\n",
       "  display: inline-block;\n",
       "  padding: 0;\n",
       "  margin: 0;\n",
       "}\n",
       "\n",
       ".xr-dim-list:before {\n",
       "  content: '(';\n",
       "}\n",
       "\n",
       ".xr-dim-list:after {\n",
       "  content: ')';\n",
       "}\n",
       "\n",
       ".xr-dim-list li:not(:last-child):after {\n",
       "  content: ',';\n",
       "  padding-right: 5px;\n",
       "}\n",
       "\n",
       ".xr-has-index {\n",
       "  font-weight: bold;\n",
       "}\n",
       "\n",
       ".xr-var-list,\n",
       ".xr-var-item {\n",
       "  display: contents;\n",
       "}\n",
       "\n",
       ".xr-var-item > div,\n",
       ".xr-var-item label,\n",
       ".xr-var-item > .xr-var-name span {\n",
       "  background-color: var(--xr-background-color-row-even);\n",
       "  margin-bottom: 0;\n",
       "}\n",
       "\n",
       ".xr-var-item > .xr-var-name:hover span {\n",
       "  padding-right: 5px;\n",
       "}\n",
       "\n",
       ".xr-var-list > li:nth-child(odd) > div,\n",
       ".xr-var-list > li:nth-child(odd) > label,\n",
       ".xr-var-list > li:nth-child(odd) > .xr-var-name span {\n",
       "  background-color: var(--xr-background-color-row-odd);\n",
       "}\n",
       "\n",
       ".xr-var-name {\n",
       "  grid-column: 1;\n",
       "}\n",
       "\n",
       ".xr-var-dims {\n",
       "  grid-column: 2;\n",
       "}\n",
       "\n",
       ".xr-var-dtype {\n",
       "  grid-column: 3;\n",
       "  text-align: right;\n",
       "  color: var(--xr-font-color2);\n",
       "}\n",
       "\n",
       ".xr-var-preview {\n",
       "  grid-column: 4;\n",
       "}\n",
       "\n",
       ".xr-var-name,\n",
       ".xr-var-dims,\n",
       ".xr-var-dtype,\n",
       ".xr-preview,\n",
       ".xr-attrs dt {\n",
       "  white-space: nowrap;\n",
       "  overflow: hidden;\n",
       "  text-overflow: ellipsis;\n",
       "  padding-right: 10px;\n",
       "}\n",
       "\n",
       ".xr-var-name:hover,\n",
       ".xr-var-dims:hover,\n",
       ".xr-var-dtype:hover,\n",
       ".xr-attrs dt:hover {\n",
       "  overflow: visible;\n",
       "  width: auto;\n",
       "  z-index: 1;\n",
       "}\n",
       "\n",
       ".xr-var-attrs,\n",
       ".xr-var-data {\n",
       "  display: none;\n",
       "  background-color: var(--xr-background-color) !important;\n",
       "  padding-bottom: 5px !important;\n",
       "}\n",
       "\n",
       ".xr-var-attrs-in:checked ~ .xr-var-attrs,\n",
       ".xr-var-data-in:checked ~ .xr-var-data {\n",
       "  display: block;\n",
       "}\n",
       "\n",
       ".xr-var-data > table {\n",
       "  float: right;\n",
       "}\n",
       "\n",
       ".xr-var-name span,\n",
       ".xr-var-data,\n",
       ".xr-attrs {\n",
       "  padding-left: 25px !important;\n",
       "}\n",
       "\n",
       ".xr-attrs,\n",
       ".xr-var-attrs,\n",
       ".xr-var-data {\n",
       "  grid-column: 1 / -1;\n",
       "}\n",
       "\n",
       "dl.xr-attrs {\n",
       "  padding: 0;\n",
       "  margin: 0;\n",
       "  display: grid;\n",
       "  grid-template-columns: 125px auto;\n",
       "}\n",
       "\n",
       ".xr-attrs dt,\n",
       ".xr-attrs dd {\n",
       "  padding: 0;\n",
       "  margin: 0;\n",
       "  float: left;\n",
       "  padding-right: 10px;\n",
       "  width: auto;\n",
       "}\n",
       "\n",
       ".xr-attrs dt {\n",
       "  font-weight: normal;\n",
       "  grid-column: 1;\n",
       "}\n",
       "\n",
       ".xr-attrs dt:hover span {\n",
       "  display: inline-block;\n",
       "  background: var(--xr-background-color);\n",
       "  padding-right: 10px;\n",
       "}\n",
       "\n",
       ".xr-attrs dd {\n",
       "  grid-column: 2;\n",
       "  white-space: pre-wrap;\n",
       "  word-break: break-all;\n",
       "}\n",
       "\n",
       ".xr-icon-database,\n",
       ".xr-icon-file-text2 {\n",
       "  display: inline-block;\n",
       "  vertical-align: middle;\n",
       "  width: 1em;\n",
       "  height: 1.5em !important;\n",
       "  stroke-width: 0;\n",
       "  stroke: currentColor;\n",
       "  fill: currentColor;\n",
       "}\n",
       "</style><pre class='xr-text-repr-fallback'>&lt;xarray.Dataset&gt;\n",
       "Dimensions:       (levgrnd: 25, levlak: 10, levdcmp: 25, lon: 288, lat: 192,\n",
       "                   time: 120, hist_interval: 2)\n",
       "Coordinates:\n",
       "  * levgrnd       (levgrnd) float32 0.01 0.04 0.09 0.16 ... 19.48 28.87 42.0\n",
       "  * levlak        (levlak) float32 0.05 0.6 2.1 4.6 ... 18.6 25.6 34.33 44.78\n",
       "  * levdcmp       (levdcmp) float32 0.01 0.04 0.09 0.16 ... 19.48 28.87 42.0\n",
       "  * lon           (lon) float32 0.0 1.25 2.5 3.75 ... 355.0 356.2 357.5 358.8\n",
       "  * lat           (lat) float32 -90.0 -89.06 -88.12 -87.17 ... 88.12 89.06 90.0\n",
       "  * time          (time) object 1850-02-01 00:00:00 ... 1860-01-01 00:00:00\n",
       "Dimensions without coordinates: hist_interval\n",
       "Data variables: (12/22)\n",
       "    area          (lat, lon) float32 29.95 29.95 29.95 29.95 ... nan nan nan nan\n",
       "    landfrac      (lat, lon) float32 1.0 1.0 1.0 1.0 1.0 ... nan nan nan nan nan\n",
       "    landmask      (lat, lon) float64 1.0 1.0 1.0 1.0 1.0 ... nan nan nan nan nan\n",
       "    pftmask       (lat, lon) float64 1.0 1.0 1.0 1.0 1.0 ... nan nan nan nan nan\n",
       "    nbedrock      (lat, lon) float64 20.0 20.0 20.0 20.0 ... nan nan nan nan\n",
       "    ZSOI          (levgrnd, lat, lon) float32 ...\n",
       "    ...            ...\n",
       "    mscur         (time) float64 0.0 0.0 0.0 0.0 0.0 0.0 ... 0.0 0.0 0.0 0.0 0.0\n",
       "    nstep         (time) float64 1.488e+03 2.832e+03 ... 1.737e+05 1.752e+05\n",
       "    time_bounds   (time, hist_interval) object 1849-12-31 23:30:00 ... 1860-0...\n",
       "    date_written  (time) object b&#x27;01/31/2011111111&#x27; ... b&#x27;02/01/2011111111&#x27;\n",
       "    time_written  (time) object b&#x27;16:34:5711111111&#x27; ... b&#x27;09:31:2811111111&#x27;\n",
       "    QOVER         (time, lat, lon) float32 ...\n",
       "Attributes: (12/100)\n",
       "    title:                                     CLM History file information\n",
       "    comment:                                   NOTE: None of the variables ar...\n",
       "    Conventions:                               CF-1.0\n",
       "    history:                                   created on 01/31/20 16:34:57\n",
       "    source:                                    Community Land Model CLM4.0\n",
       "    hostname:                                  aleph\n",
       "    ...                                        ...\n",
       "    cft_irrigated_switchgrass:                 60\n",
       "    cft_tropical_corn:                         61\n",
       "    cft_irrigated_tropical_corn:               62\n",
       "    cft_tropical_soybean:                      63\n",
       "    cft_irrigated_tropical_soybean:            64\n",
       "    time_period_freq:                          month_1</pre><div class='xr-wrap' style='display:none'><div class='xr-header'><div class='xr-obj-type'>xarray.Dataset</div></div><ul class='xr-sections'><li class='xr-section-item'><input id='section-fd7d51f7-374c-400b-a277-a6dac1a2fdba' class='xr-section-summary-in' type='checkbox' disabled ><label for='section-fd7d51f7-374c-400b-a277-a6dac1a2fdba' class='xr-section-summary'  title='Expand/collapse section'>Dimensions:</label><div class='xr-section-inline-details'><ul class='xr-dim-list'><li><span class='xr-has-index'>levgrnd</span>: 25</li><li><span class='xr-has-index'>levlak</span>: 10</li><li><span class='xr-has-index'>levdcmp</span>: 25</li><li><span class='xr-has-index'>lon</span>: 288</li><li><span class='xr-has-index'>lat</span>: 192</li><li><span class='xr-has-index'>time</span>: 120</li><li><span>hist_interval</span>: 2</li></ul></div><div class='xr-section-details'></div></li><li class='xr-section-item'><input id='section-b62650ea-e62c-445d-872f-1c3be80d5a0e' class='xr-section-summary-in' type='checkbox'  checked><label for='section-b62650ea-e62c-445d-872f-1c3be80d5a0e' class='xr-section-summary' >Coordinates: <span>(6)</span></label><div class='xr-section-inline-details'></div><div class='xr-section-details'><ul class='xr-var-list'><li class='xr-var-item'><div class='xr-var-name'><span class='xr-has-index'>levgrnd</span></div><div class='xr-var-dims'>(levgrnd)</div><div class='xr-var-dtype'>float32</div><div class='xr-var-preview xr-preview'>0.01 0.04 0.09 ... 19.48 28.87 42.0</div><input id='attrs-2abcced4-7cd5-4829-b3f7-2edb8ae29242' class='xr-var-attrs-in' type='checkbox' ><label for='attrs-2abcced4-7cd5-4829-b3f7-2edb8ae29242' title='Show/Hide attributes'><svg class='icon xr-icon-file-text2'><use xlink:href='#icon-file-text2'></use></svg></label><input id='data-047ed302-24d4-4ee9-8b96-373d9372a854' class='xr-var-data-in' type='checkbox'><label for='data-047ed302-24d4-4ee9-8b96-373d9372a854' title='Show/Hide data repr'><svg class='icon xr-icon-database'><use xlink:href='#icon-database'></use></svg></label><div class='xr-var-attrs'><dl class='xr-attrs'><dt><span>long_name :</span></dt><dd>coordinate soil levels</dd><dt><span>units :</span></dt><dd>m</dd></dl></div><div class='xr-var-data'><pre>array([1.000000e-02, 4.000000e-02, 9.000000e-02, 1.600000e-01, 2.600000e-01,\n",
       "       4.000000e-01, 5.800000e-01, 8.000000e-01, 1.060000e+00, 1.360000e+00,\n",
       "       1.700000e+00, 2.080000e+00, 2.500000e+00, 2.990000e+00, 3.580000e+00,\n",
       "       4.270000e+00, 5.060000e+00, 5.950000e+00, 6.940000e+00, 8.030000e+00,\n",
       "       9.795000e+00, 1.332777e+01, 1.948313e+01, 2.887072e+01, 4.199844e+01],\n",
       "      dtype=float32)</pre></div></li><li class='xr-var-item'><div class='xr-var-name'><span class='xr-has-index'>levlak</span></div><div class='xr-var-dims'>(levlak)</div><div class='xr-var-dtype'>float32</div><div class='xr-var-preview xr-preview'>0.05 0.6 2.1 ... 25.6 34.33 44.78</div><input id='attrs-f26b309c-481d-499e-8499-5f12d28df462' class='xr-var-attrs-in' type='checkbox' ><label for='attrs-f26b309c-481d-499e-8499-5f12d28df462' title='Show/Hide attributes'><svg class='icon xr-icon-file-text2'><use xlink:href='#icon-file-text2'></use></svg></label><input id='data-370882a9-fe2b-4e38-92c7-e2445f6959d4' class='xr-var-data-in' type='checkbox'><label for='data-370882a9-fe2b-4e38-92c7-e2445f6959d4' title='Show/Hide data repr'><svg class='icon xr-icon-database'><use xlink:href='#icon-database'></use></svg></label><div class='xr-var-attrs'><dl class='xr-attrs'><dt><span>long_name :</span></dt><dd>coordinate lake levels</dd><dt><span>units :</span></dt><dd>m</dd></dl></div><div class='xr-var-data'><pre>array([ 0.05 ,  0.6  ,  2.1  ,  4.6  ,  8.1  , 12.6  , 18.6  , 25.6  , 34.325,\n",
       "       44.775], dtype=float32)</pre></div></li><li class='xr-var-item'><div class='xr-var-name'><span class='xr-has-index'>levdcmp</span></div><div class='xr-var-dims'>(levdcmp)</div><div class='xr-var-dtype'>float32</div><div class='xr-var-preview xr-preview'>0.01 0.04 0.09 ... 19.48 28.87 42.0</div><input id='attrs-1884e89c-d722-4d04-bb64-be73e0bfe028' class='xr-var-attrs-in' type='checkbox' ><label for='attrs-1884e89c-d722-4d04-bb64-be73e0bfe028' title='Show/Hide attributes'><svg class='icon xr-icon-file-text2'><use xlink:href='#icon-file-text2'></use></svg></label><input id='data-298d2607-0e73-45d1-b8f4-536227627077' class='xr-var-data-in' type='checkbox'><label for='data-298d2607-0e73-45d1-b8f4-536227627077' title='Show/Hide data repr'><svg class='icon xr-icon-database'><use xlink:href='#icon-database'></use></svg></label><div class='xr-var-attrs'><dl class='xr-attrs'><dt><span>long_name :</span></dt><dd>coordinate soil levels</dd><dt><span>units :</span></dt><dd>m</dd></dl></div><div class='xr-var-data'><pre>array([1.000000e-02, 4.000000e-02, 9.000000e-02, 1.600000e-01, 2.600000e-01,\n",
       "       4.000000e-01, 5.800000e-01, 8.000000e-01, 1.060000e+00, 1.360000e+00,\n",
       "       1.700000e+00, 2.080000e+00, 2.500000e+00, 2.990000e+00, 3.580000e+00,\n",
       "       4.270000e+00, 5.060000e+00, 5.950000e+00, 6.940000e+00, 8.030000e+00,\n",
       "       9.795000e+00, 1.332777e+01, 1.948313e+01, 2.887072e+01, 4.199844e+01],\n",
       "      dtype=float32)</pre></div></li><li class='xr-var-item'><div class='xr-var-name'><span class='xr-has-index'>lon</span></div><div class='xr-var-dims'>(lon)</div><div class='xr-var-dtype'>float32</div><div class='xr-var-preview xr-preview'>0.0 1.25 2.5 ... 356.2 357.5 358.8</div><input id='attrs-74d925bb-77bf-4ad2-b41b-7c54029f3709' class='xr-var-attrs-in' type='checkbox' ><label for='attrs-74d925bb-77bf-4ad2-b41b-7c54029f3709' title='Show/Hide attributes'><svg class='icon xr-icon-file-text2'><use xlink:href='#icon-file-text2'></use></svg></label><input id='data-827e869e-9761-42c2-8c0b-ee41938c2cbb' class='xr-var-data-in' type='checkbox'><label for='data-827e869e-9761-42c2-8c0b-ee41938c2cbb' title='Show/Hide data repr'><svg class='icon xr-icon-database'><use xlink:href='#icon-database'></use></svg></label><div class='xr-var-attrs'><dl class='xr-attrs'><dt><span>long_name :</span></dt><dd>coordinate longitude</dd><dt><span>units :</span></dt><dd>degrees_east</dd></dl></div><div class='xr-var-data'><pre>array([  0.  ,   1.25,   2.5 , ..., 356.25, 357.5 , 358.75], dtype=float32)</pre></div></li><li class='xr-var-item'><div class='xr-var-name'><span class='xr-has-index'>lat</span></div><div class='xr-var-dims'>(lat)</div><div class='xr-var-dtype'>float32</div><div class='xr-var-preview xr-preview'>-90.0 -89.06 -88.12 ... 89.06 90.0</div><input id='attrs-f88f13dc-5d2e-4346-b8d6-a4f8a87a5a03' class='xr-var-attrs-in' type='checkbox' ><label for='attrs-f88f13dc-5d2e-4346-b8d6-a4f8a87a5a03' title='Show/Hide attributes'><svg class='icon xr-icon-file-text2'><use xlink:href='#icon-file-text2'></use></svg></label><input id='data-003b4554-f37a-41f5-87ba-3ef88db97bd0' class='xr-var-data-in' type='checkbox'><label for='data-003b4554-f37a-41f5-87ba-3ef88db97bd0' title='Show/Hide data repr'><svg class='icon xr-icon-database'><use xlink:href='#icon-database'></use></svg></label><div class='xr-var-attrs'><dl class='xr-attrs'><dt><span>long_name :</span></dt><dd>coordinate latitude</dd><dt><span>units :</span></dt><dd>degrees_north</dd></dl></div><div class='xr-var-data'><pre>array([-90.      , -89.057594, -88.11518 , -87.172775, -86.23037 , -85.28796 ,\n",
       "       -84.34555 , -83.403145, -82.46073 , -81.518326, -80.57591 , -79.63351 ,\n",
       "       -78.6911  , -77.74869 , -76.80628 , -75.86388 , -74.92146 , -73.97906 ,\n",
       "       -73.03665 , -72.09424 , -71.15183 , -70.20943 , -69.26701 , -68.32461 ,\n",
       "       -67.3822  , -66.43979 , -65.49738 , -64.55498 , -63.612564, -62.67016 ,\n",
       "       -61.72775 , -60.78534 , -59.842934, -58.900524, -57.958115, -57.015705,\n",
       "       -56.0733  , -55.13089 , -54.18848 , -53.246075, -52.303665, -51.361256,\n",
       "       -50.41885 , -49.47644 , -48.53403 , -47.59162 , -46.649216, -45.706806,\n",
       "       -44.764397, -43.82199 , -42.87958 , -41.937172, -40.994766, -40.052357,\n",
       "       -39.109947, -38.167538, -37.225132, -36.282722, -35.340313, -34.397907,\n",
       "       -33.455498, -32.51309 , -31.57068 , -30.628273, -29.685863, -28.743456,\n",
       "       -27.801046, -26.858639, -25.916231, -24.973822, -24.031414, -23.089005,\n",
       "       -22.146597, -21.20419 , -20.26178 , -19.319372, -18.376963, -17.434555,\n",
       "       -16.492147, -15.549738, -14.607329, -13.664922, -12.722513, -11.780105,\n",
       "       -10.837696,  -9.895288,  -8.95288 ,  -8.010471,  -7.068063,  -6.125654,\n",
       "        -5.183246,  -4.240838,  -3.298429,  -2.356021,  -1.413613,  -0.471204,\n",
       "         0.471204,   1.413613,   2.356021,   3.298429,   4.240838,   5.183246,\n",
       "         6.125654,   7.068063,   8.010471,   8.95288 ,   9.895288,  10.837696,\n",
       "        11.780105,  12.722513,  13.664922,  14.607329,  15.549738,  16.492147,\n",
       "        17.434555,  18.376963,  19.319372,  20.26178 ,  21.20419 ,  22.146597,\n",
       "        23.089005,  24.031414,  24.973822,  25.916231,  26.858639,  27.801046,\n",
       "        28.743456,  29.685863,  30.628273,  31.57068 ,  32.51309 ,  33.455498,\n",
       "        34.397907,  35.340313,  36.282722,  37.225132,  38.167538,  39.109947,\n",
       "        40.052357,  40.994766,  41.937172,  42.87958 ,  43.82199 ,  44.764397,\n",
       "        45.706806,  46.649216,  47.59162 ,  48.53403 ,  49.47644 ,  50.41885 ,\n",
       "        51.361256,  52.303665,  53.246075,  54.18848 ,  55.13089 ,  56.0733  ,\n",
       "        57.015705,  57.958115,  58.900524,  59.842934,  60.78534 ,  61.72775 ,\n",
       "        62.67016 ,  63.612564,  64.55498 ,  65.49738 ,  66.43979 ,  67.3822  ,\n",
       "        68.32461 ,  69.26701 ,  70.20943 ,  71.15183 ,  72.09424 ,  73.03665 ,\n",
       "        73.97906 ,  74.92146 ,  75.86388 ,  76.80628 ,  77.74869 ,  78.6911  ,\n",
       "        79.63351 ,  80.57591 ,  81.518326,  82.46073 ,  83.403145,  84.34555 ,\n",
       "        85.28796 ,  86.23037 ,  87.172775,  88.11518 ,  89.057594,  90.      ],\n",
       "      dtype=float32)</pre></div></li><li class='xr-var-item'><div class='xr-var-name'><span class='xr-has-index'>time</span></div><div class='xr-var-dims'>(time)</div><div class='xr-var-dtype'>object</div><div class='xr-var-preview xr-preview'>1850-02-01 00:00:00 ... 1860-01-...</div><input id='attrs-cbea771d-9451-4cbe-9931-a29a9fe3b9b2' class='xr-var-attrs-in' type='checkbox' ><label for='attrs-cbea771d-9451-4cbe-9931-a29a9fe3b9b2' title='Show/Hide attributes'><svg class='icon xr-icon-file-text2'><use xlink:href='#icon-file-text2'></use></svg></label><input id='data-5ce812d3-a275-4fca-9665-8c4fac67d757' class='xr-var-data-in' type='checkbox'><label for='data-5ce812d3-a275-4fca-9665-8c4fac67d757' title='Show/Hide data repr'><svg class='icon xr-icon-database'><use xlink:href='#icon-database'></use></svg></label><div class='xr-var-attrs'><dl class='xr-attrs'><dt><span>long_name :</span></dt><dd>time</dd><dt><span>bounds :</span></dt><dd>time_bounds</dd></dl></div><div class='xr-var-data'><pre>array([cftime.DatetimeNoLeap(1850, 2, 1, 0, 0, 0, 0),\n",
       "       cftime.DatetimeNoLeap(1850, 3, 1, 0, 0, 0, 0),\n",
       "       cftime.DatetimeNoLeap(1850, 4, 1, 0, 0, 0, 0),\n",
       "       cftime.DatetimeNoLeap(1850, 5, 1, 0, 0, 0, 0),\n",
       "       cftime.DatetimeNoLeap(1850, 6, 1, 0, 0, 0, 0),\n",
       "       cftime.DatetimeNoLeap(1850, 7, 1, 0, 0, 0, 0),\n",
       "       cftime.DatetimeNoLeap(1850, 8, 1, 0, 0, 0, 0),\n",
       "       cftime.DatetimeNoLeap(1850, 9, 1, 0, 0, 0, 0),\n",
       "       cftime.DatetimeNoLeap(1850, 10, 1, 0, 0, 0, 0),\n",
       "       cftime.DatetimeNoLeap(1850, 11, 1, 0, 0, 0, 0),\n",
       "       cftime.DatetimeNoLeap(1850, 12, 1, 0, 0, 0, 0),\n",
       "       cftime.DatetimeNoLeap(1851, 1, 1, 0, 0, 0, 0),\n",
       "       cftime.DatetimeNoLeap(1851, 2, 1, 0, 0, 0, 0),\n",
       "       cftime.DatetimeNoLeap(1851, 3, 1, 0, 0, 0, 0),\n",
       "       cftime.DatetimeNoLeap(1851, 4, 1, 0, 0, 0, 0),\n",
       "       cftime.DatetimeNoLeap(1851, 5, 1, 0, 0, 0, 0),\n",
       "       cftime.DatetimeNoLeap(1851, 6, 1, 0, 0, 0, 0),\n",
       "       cftime.DatetimeNoLeap(1851, 7, 1, 0, 0, 0, 0),\n",
       "       cftime.DatetimeNoLeap(1851, 8, 1, 0, 0, 0, 0),\n",
       "       cftime.DatetimeNoLeap(1851, 9, 1, 0, 0, 0, 0),\n",
       "       cftime.DatetimeNoLeap(1851, 10, 1, 0, 0, 0, 0),\n",
       "       cftime.DatetimeNoLeap(1851, 11, 1, 0, 0, 0, 0),\n",
       "       cftime.DatetimeNoLeap(1851, 12, 1, 0, 0, 0, 0),\n",
       "       cftime.DatetimeNoLeap(1852, 1, 1, 0, 0, 0, 0),\n",
       "       cftime.DatetimeNoLeap(1852, 2, 1, 0, 0, 0, 0),\n",
       "       cftime.DatetimeNoLeap(1852, 3, 1, 0, 0, 0, 0),\n",
       "       cftime.DatetimeNoLeap(1852, 4, 1, 0, 0, 0, 0),\n",
       "       cftime.DatetimeNoLeap(1852, 5, 1, 0, 0, 0, 0),\n",
       "       cftime.DatetimeNoLeap(1852, 6, 1, 0, 0, 0, 0),\n",
       "       cftime.DatetimeNoLeap(1852, 7, 1, 0, 0, 0, 0),\n",
       "       cftime.DatetimeNoLeap(1852, 8, 1, 0, 0, 0, 0),\n",
       "       cftime.DatetimeNoLeap(1852, 9, 1, 0, 0, 0, 0),\n",
       "       cftime.DatetimeNoLeap(1852, 10, 1, 0, 0, 0, 0),\n",
       "       cftime.DatetimeNoLeap(1852, 11, 1, 0, 0, 0, 0),\n",
       "       cftime.DatetimeNoLeap(1852, 12, 1, 0, 0, 0, 0),\n",
       "       cftime.DatetimeNoLeap(1853, 1, 1, 0, 0, 0, 0),\n",
       "       cftime.DatetimeNoLeap(1853, 2, 1, 0, 0, 0, 0),\n",
       "       cftime.DatetimeNoLeap(1853, 3, 1, 0, 0, 0, 0),\n",
       "       cftime.DatetimeNoLeap(1853, 4, 1, 0, 0, 0, 0),\n",
       "       cftime.DatetimeNoLeap(1853, 5, 1, 0, 0, 0, 0),\n",
       "       cftime.DatetimeNoLeap(1853, 6, 1, 0, 0, 0, 0),\n",
       "       cftime.DatetimeNoLeap(1853, 7, 1, 0, 0, 0, 0),\n",
       "       cftime.DatetimeNoLeap(1853, 8, 1, 0, 0, 0, 0),\n",
       "       cftime.DatetimeNoLeap(1853, 9, 1, 0, 0, 0, 0),\n",
       "       cftime.DatetimeNoLeap(1853, 10, 1, 0, 0, 0, 0),\n",
       "       cftime.DatetimeNoLeap(1853, 11, 1, 0, 0, 0, 0),\n",
       "       cftime.DatetimeNoLeap(1853, 12, 1, 0, 0, 0, 0),\n",
       "       cftime.DatetimeNoLeap(1854, 1, 1, 0, 0, 0, 0),\n",
       "       cftime.DatetimeNoLeap(1854, 2, 1, 0, 0, 0, 0),\n",
       "       cftime.DatetimeNoLeap(1854, 3, 1, 0, 0, 0, 0),\n",
       "       cftime.DatetimeNoLeap(1854, 4, 1, 0, 0, 0, 0),\n",
       "       cftime.DatetimeNoLeap(1854, 5, 1, 0, 0, 0, 0),\n",
       "       cftime.DatetimeNoLeap(1854, 6, 1, 0, 0, 0, 0),\n",
       "       cftime.DatetimeNoLeap(1854, 7, 1, 0, 0, 0, 0),\n",
       "       cftime.DatetimeNoLeap(1854, 8, 1, 0, 0, 0, 0),\n",
       "       cftime.DatetimeNoLeap(1854, 9, 1, 0, 0, 0, 0),\n",
       "       cftime.DatetimeNoLeap(1854, 10, 1, 0, 0, 0, 0),\n",
       "       cftime.DatetimeNoLeap(1854, 11, 1, 0, 0, 0, 0),\n",
       "       cftime.DatetimeNoLeap(1854, 12, 1, 0, 0, 0, 0),\n",
       "       cftime.DatetimeNoLeap(1855, 1, 1, 0, 0, 0, 0),\n",
       "       cftime.DatetimeNoLeap(1855, 2, 1, 0, 0, 0, 0),\n",
       "       cftime.DatetimeNoLeap(1855, 3, 1, 0, 0, 0, 0),\n",
       "       cftime.DatetimeNoLeap(1855, 4, 1, 0, 0, 0, 0),\n",
       "       cftime.DatetimeNoLeap(1855, 5, 1, 0, 0, 0, 0),\n",
       "       cftime.DatetimeNoLeap(1855, 6, 1, 0, 0, 0, 0),\n",
       "       cftime.DatetimeNoLeap(1855, 7, 1, 0, 0, 0, 0),\n",
       "       cftime.DatetimeNoLeap(1855, 8, 1, 0, 0, 0, 0),\n",
       "       cftime.DatetimeNoLeap(1855, 9, 1, 0, 0, 0, 0),\n",
       "       cftime.DatetimeNoLeap(1855, 10, 1, 0, 0, 0, 0),\n",
       "       cftime.DatetimeNoLeap(1855, 11, 1, 0, 0, 0, 0),\n",
       "       cftime.DatetimeNoLeap(1855, 12, 1, 0, 0, 0, 0),\n",
       "       cftime.DatetimeNoLeap(1856, 1, 1, 0, 0, 0, 0),\n",
       "       cftime.DatetimeNoLeap(1856, 2, 1, 0, 0, 0, 0),\n",
       "       cftime.DatetimeNoLeap(1856, 3, 1, 0, 0, 0, 0),\n",
       "       cftime.DatetimeNoLeap(1856, 4, 1, 0, 0, 0, 0),\n",
       "       cftime.DatetimeNoLeap(1856, 5, 1, 0, 0, 0, 0),\n",
       "       cftime.DatetimeNoLeap(1856, 6, 1, 0, 0, 0, 0),\n",
       "       cftime.DatetimeNoLeap(1856, 7, 1, 0, 0, 0, 0),\n",
       "       cftime.DatetimeNoLeap(1856, 8, 1, 0, 0, 0, 0),\n",
       "       cftime.DatetimeNoLeap(1856, 9, 1, 0, 0, 0, 0),\n",
       "       cftime.DatetimeNoLeap(1856, 10, 1, 0, 0, 0, 0),\n",
       "       cftime.DatetimeNoLeap(1856, 11, 1, 0, 0, 0, 0),\n",
       "       cftime.DatetimeNoLeap(1856, 12, 1, 0, 0, 0, 0),\n",
       "       cftime.DatetimeNoLeap(1857, 1, 1, 0, 0, 0, 0),\n",
       "       cftime.DatetimeNoLeap(1857, 2, 1, 0, 0, 0, 0),\n",
       "       cftime.DatetimeNoLeap(1857, 3, 1, 0, 0, 0, 0),\n",
       "       cftime.DatetimeNoLeap(1857, 4, 1, 0, 0, 0, 0),\n",
       "       cftime.DatetimeNoLeap(1857, 5, 1, 0, 0, 0, 0),\n",
       "       cftime.DatetimeNoLeap(1857, 6, 1, 0, 0, 0, 0),\n",
       "       cftime.DatetimeNoLeap(1857, 7, 1, 0, 0, 0, 0),\n",
       "       cftime.DatetimeNoLeap(1857, 8, 1, 0, 0, 0, 0),\n",
       "       cftime.DatetimeNoLeap(1857, 9, 1, 0, 0, 0, 0),\n",
       "       cftime.DatetimeNoLeap(1857, 10, 1, 0, 0, 0, 0),\n",
       "       cftime.DatetimeNoLeap(1857, 11, 1, 0, 0, 0, 0),\n",
       "       cftime.DatetimeNoLeap(1857, 12, 1, 0, 0, 0, 0),\n",
       "       cftime.DatetimeNoLeap(1858, 1, 1, 0, 0, 0, 0),\n",
       "       cftime.DatetimeNoLeap(1858, 2, 1, 0, 0, 0, 0),\n",
       "       cftime.DatetimeNoLeap(1858, 3, 1, 0, 0, 0, 0),\n",
       "       cftime.DatetimeNoLeap(1858, 4, 1, 0, 0, 0, 0),\n",
       "       cftime.DatetimeNoLeap(1858, 5, 1, 0, 0, 0, 0),\n",
       "       cftime.DatetimeNoLeap(1858, 6, 1, 0, 0, 0, 0),\n",
       "       cftime.DatetimeNoLeap(1858, 7, 1, 0, 0, 0, 0),\n",
       "       cftime.DatetimeNoLeap(1858, 8, 1, 0, 0, 0, 0),\n",
       "       cftime.DatetimeNoLeap(1858, 9, 1, 0, 0, 0, 0),\n",
       "       cftime.DatetimeNoLeap(1858, 10, 1, 0, 0, 0, 0),\n",
       "       cftime.DatetimeNoLeap(1858, 11, 1, 0, 0, 0, 0),\n",
       "       cftime.DatetimeNoLeap(1858, 12, 1, 0, 0, 0, 0),\n",
       "       cftime.DatetimeNoLeap(1859, 1, 1, 0, 0, 0, 0),\n",
       "       cftime.DatetimeNoLeap(1859, 2, 1, 0, 0, 0, 0),\n",
       "       cftime.DatetimeNoLeap(1859, 3, 1, 0, 0, 0, 0),\n",
       "       cftime.DatetimeNoLeap(1859, 4, 1, 0, 0, 0, 0),\n",
       "       cftime.DatetimeNoLeap(1859, 5, 1, 0, 0, 0, 0),\n",
       "       cftime.DatetimeNoLeap(1859, 6, 1, 0, 0, 0, 0),\n",
       "       cftime.DatetimeNoLeap(1859, 7, 1, 0, 0, 0, 0),\n",
       "       cftime.DatetimeNoLeap(1859, 8, 1, 0, 0, 0, 0),\n",
       "       cftime.DatetimeNoLeap(1859, 9, 1, 0, 0, 0, 0),\n",
       "       cftime.DatetimeNoLeap(1859, 10, 1, 0, 0, 0, 0),\n",
       "       cftime.DatetimeNoLeap(1859, 11, 1, 0, 0, 0, 0),\n",
       "       cftime.DatetimeNoLeap(1859, 12, 1, 0, 0, 0, 0),\n",
       "       cftime.DatetimeNoLeap(1860, 1, 1, 0, 0, 0, 0)], dtype=object)</pre></div></li></ul></div></li><li class='xr-section-item'><input id='section-7bc1556d-ac99-4605-b0e6-4868579a829a' class='xr-section-summary-in' type='checkbox'  ><label for='section-7bc1556d-ac99-4605-b0e6-4868579a829a' class='xr-section-summary' >Data variables: <span>(22)</span></label><div class='xr-section-inline-details'></div><div class='xr-section-details'><ul class='xr-var-list'><li class='xr-var-item'><div class='xr-var-name'><span>area</span></div><div class='xr-var-dims'>(lat, lon)</div><div class='xr-var-dtype'>float32</div><div class='xr-var-preview xr-preview'>...</div><input id='attrs-4302a179-94f0-4a83-8124-7aadd4133fe0' class='xr-var-attrs-in' type='checkbox' ><label for='attrs-4302a179-94f0-4a83-8124-7aadd4133fe0' title='Show/Hide attributes'><svg class='icon xr-icon-file-text2'><use xlink:href='#icon-file-text2'></use></svg></label><input id='data-6c4d41b4-eb31-4707-b441-0937d4a151dd' class='xr-var-data-in' type='checkbox'><label for='data-6c4d41b4-eb31-4707-b441-0937d4a151dd' title='Show/Hide data repr'><svg class='icon xr-icon-database'><use xlink:href='#icon-database'></use></svg></label><div class='xr-var-attrs'><dl class='xr-attrs'><dt><span>long_name :</span></dt><dd>grid cell areas</dd><dt><span>units :</span></dt><dd>km^2</dd></dl></div><div class='xr-var-data'><pre>array([[ 29.945992,  29.945992,  29.945992, ...,  29.945992,  29.945992,\n",
       "         29.945992],\n",
       "       [239.5558  , 239.5558  , 239.5558  , ..., 239.5558  , 239.5558  ,\n",
       "        239.5558  ],\n",
       "       [479.0468  , 479.0468  , 479.0468  , ..., 479.0468  , 479.0468  ,\n",
       "        479.0468  ],\n",
       "       ...,\n",
       "       [       nan,        nan,        nan, ...,        nan,        nan,\n",
       "               nan],\n",
       "       [       nan,        nan,        nan, ...,        nan,        nan,\n",
       "               nan],\n",
       "       [       nan,        nan,        nan, ...,        nan,        nan,\n",
       "               nan]], dtype=float32)</pre></div></li><li class='xr-var-item'><div class='xr-var-name'><span>landfrac</span></div><div class='xr-var-dims'>(lat, lon)</div><div class='xr-var-dtype'>float32</div><div class='xr-var-preview xr-preview'>...</div><input id='attrs-9ee358da-81ce-4be0-88e0-85fb38b66b60' class='xr-var-attrs-in' type='checkbox' ><label for='attrs-9ee358da-81ce-4be0-88e0-85fb38b66b60' title='Show/Hide attributes'><svg class='icon xr-icon-file-text2'><use xlink:href='#icon-file-text2'></use></svg></label><input id='data-b9b737d5-6063-4b51-8525-a8f309fe7f7b' class='xr-var-data-in' type='checkbox'><label for='data-b9b737d5-6063-4b51-8525-a8f309fe7f7b' title='Show/Hide data repr'><svg class='icon xr-icon-database'><use xlink:href='#icon-database'></use></svg></label><div class='xr-var-attrs'><dl class='xr-attrs'><dt><span>long_name :</span></dt><dd>land fraction</dd></dl></div><div class='xr-var-data'><pre>array([[ 1.,  1.,  1., ...,  1.,  1.,  1.],\n",
       "       [ 1.,  1.,  1., ...,  1.,  1.,  1.],\n",
       "       [ 1.,  1.,  1., ...,  1.,  1.,  1.],\n",
       "       ...,\n",
       "       [nan, nan, nan, ..., nan, nan, nan],\n",
       "       [nan, nan, nan, ..., nan, nan, nan],\n",
       "       [nan, nan, nan, ..., nan, nan, nan]], dtype=float32)</pre></div></li><li class='xr-var-item'><div class='xr-var-name'><span>landmask</span></div><div class='xr-var-dims'>(lat, lon)</div><div class='xr-var-dtype'>float64</div><div class='xr-var-preview xr-preview'>...</div><input id='attrs-bd4cd0c5-4433-425c-bee2-8d18adf01f2c' class='xr-var-attrs-in' type='checkbox' ><label for='attrs-bd4cd0c5-4433-425c-bee2-8d18adf01f2c' title='Show/Hide attributes'><svg class='icon xr-icon-file-text2'><use xlink:href='#icon-file-text2'></use></svg></label><input id='data-1ed0776f-4c9f-48b7-849f-427c2c770cd0' class='xr-var-data-in' type='checkbox'><label for='data-1ed0776f-4c9f-48b7-849f-427c2c770cd0' title='Show/Hide data repr'><svg class='icon xr-icon-database'><use xlink:href='#icon-database'></use></svg></label><div class='xr-var-attrs'><dl class='xr-attrs'><dt><span>long_name :</span></dt><dd>land/ocean mask (0.=ocean and 1.=land)</dd></dl></div><div class='xr-var-data'><pre>array([[ 1.,  1.,  1., ...,  1.,  1.,  1.],\n",
       "       [ 1.,  1.,  1., ...,  1.,  1.,  1.],\n",
       "       [ 1.,  1.,  1., ...,  1.,  1.,  1.],\n",
       "       ...,\n",
       "       [nan, nan, nan, ..., nan, nan, nan],\n",
       "       [nan, nan, nan, ..., nan, nan, nan],\n",
       "       [nan, nan, nan, ..., nan, nan, nan]])</pre></div></li><li class='xr-var-item'><div class='xr-var-name'><span>pftmask</span></div><div class='xr-var-dims'>(lat, lon)</div><div class='xr-var-dtype'>float64</div><div class='xr-var-preview xr-preview'>...</div><input id='attrs-603f3319-1579-47dd-87e7-1e5490fdf53e' class='xr-var-attrs-in' type='checkbox' ><label for='attrs-603f3319-1579-47dd-87e7-1e5490fdf53e' title='Show/Hide attributes'><svg class='icon xr-icon-file-text2'><use xlink:href='#icon-file-text2'></use></svg></label><input id='data-1826bdf3-1bb5-4435-b072-919c84baf776' class='xr-var-data-in' type='checkbox'><label for='data-1826bdf3-1bb5-4435-b072-919c84baf776' title='Show/Hide data repr'><svg class='icon xr-icon-database'><use xlink:href='#icon-database'></use></svg></label><div class='xr-var-attrs'><dl class='xr-attrs'><dt><span>long_name :</span></dt><dd>pft real/fake mask (0.=fake and 1.=real)</dd></dl></div><div class='xr-var-data'><pre>array([[ 1.,  1.,  1., ...,  1.,  1.,  1.],\n",
       "       [ 1.,  1.,  1., ...,  1.,  1.,  1.],\n",
       "       [ 1.,  1.,  1., ...,  1.,  1.,  1.],\n",
       "       ...,\n",
       "       [nan, nan, nan, ..., nan, nan, nan],\n",
       "       [nan, nan, nan, ..., nan, nan, nan],\n",
       "       [nan, nan, nan, ..., nan, nan, nan]])</pre></div></li><li class='xr-var-item'><div class='xr-var-name'><span>nbedrock</span></div><div class='xr-var-dims'>(lat, lon)</div><div class='xr-var-dtype'>float64</div><div class='xr-var-preview xr-preview'>...</div><input id='attrs-da29cac7-173b-4466-a001-f7fef9a066c2' class='xr-var-attrs-in' type='checkbox' ><label for='attrs-da29cac7-173b-4466-a001-f7fef9a066c2' title='Show/Hide attributes'><svg class='icon xr-icon-file-text2'><use xlink:href='#icon-file-text2'></use></svg></label><input id='data-36a60db7-f5ac-42d5-ad86-34a6aaf6ca36' class='xr-var-data-in' type='checkbox'><label for='data-36a60db7-f5ac-42d5-ad86-34a6aaf6ca36' title='Show/Hide data repr'><svg class='icon xr-icon-database'><use xlink:href='#icon-database'></use></svg></label><div class='xr-var-attrs'><dl class='xr-attrs'><dt><span>long_name :</span></dt><dd>index of shallowest bedrock layer</dd></dl></div><div class='xr-var-data'><pre>array([[20., 20., 20., ..., 20., 20., 20.],\n",
       "       [20., 20., 20., ..., 20., 20., 20.],\n",
       "       [20., 20., 20., ..., 20., 20., 20.],\n",
       "       ...,\n",
       "       [nan, nan, nan, ..., nan, nan, nan],\n",
       "       [nan, nan, nan, ..., nan, nan, nan],\n",
       "       [nan, nan, nan, ..., nan, nan, nan]])</pre></div></li><li class='xr-var-item'><div class='xr-var-name'><span>ZSOI</span></div><div class='xr-var-dims'>(levgrnd, lat, lon)</div><div class='xr-var-dtype'>float32</div><div class='xr-var-preview xr-preview'>...</div><input id='attrs-b62dd081-6cab-40c0-ac2e-89bb18a5a948' class='xr-var-attrs-in' type='checkbox' ><label for='attrs-b62dd081-6cab-40c0-ac2e-89bb18a5a948' title='Show/Hide attributes'><svg class='icon xr-icon-file-text2'><use xlink:href='#icon-file-text2'></use></svg></label><input id='data-0d4311c5-0b1e-4f75-88ad-a581a9a80685' class='xr-var-data-in' type='checkbox'><label for='data-0d4311c5-0b1e-4f75-88ad-a581a9a80685' title='Show/Hide data repr'><svg class='icon xr-icon-database'><use xlink:href='#icon-database'></use></svg></label><div class='xr-var-attrs'><dl class='xr-attrs'><dt><span>long_name :</span></dt><dd>soil depth</dd><dt><span>units :</span></dt><dd>m</dd></dl></div><div class='xr-var-data'><pre>[1382400 values with dtype=float32]</pre></div></li><li class='xr-var-item'><div class='xr-var-name'><span>DZSOI</span></div><div class='xr-var-dims'>(levgrnd, lat, lon)</div><div class='xr-var-dtype'>float32</div><div class='xr-var-preview xr-preview'>...</div><input id='attrs-46b669b4-1f10-4e2f-b597-57e7b81d9367' class='xr-var-attrs-in' type='checkbox' ><label for='attrs-46b669b4-1f10-4e2f-b597-57e7b81d9367' title='Show/Hide attributes'><svg class='icon xr-icon-file-text2'><use xlink:href='#icon-file-text2'></use></svg></label><input id='data-cf659142-d80d-4f27-ba4d-adc8c8625212' class='xr-var-data-in' type='checkbox'><label for='data-cf659142-d80d-4f27-ba4d-adc8c8625212' title='Show/Hide data repr'><svg class='icon xr-icon-database'><use xlink:href='#icon-database'></use></svg></label><div class='xr-var-attrs'><dl class='xr-attrs'><dt><span>long_name :</span></dt><dd>soil thickness</dd><dt><span>units :</span></dt><dd>m</dd></dl></div><div class='xr-var-data'><pre>[1382400 values with dtype=float32]</pre></div></li><li class='xr-var-item'><div class='xr-var-name'><span>WATSAT</span></div><div class='xr-var-dims'>(levgrnd, lat, lon)</div><div class='xr-var-dtype'>float32</div><div class='xr-var-preview xr-preview'>...</div><input id='attrs-1341b35b-4ac9-47b2-bf20-35bc16adb1f4' class='xr-var-attrs-in' type='checkbox' ><label for='attrs-1341b35b-4ac9-47b2-bf20-35bc16adb1f4' title='Show/Hide attributes'><svg class='icon xr-icon-file-text2'><use xlink:href='#icon-file-text2'></use></svg></label><input id='data-dbc1e8b1-1e68-485d-abc5-d845fb9a0242' class='xr-var-data-in' type='checkbox'><label for='data-dbc1e8b1-1e68-485d-abc5-d845fb9a0242' title='Show/Hide data repr'><svg class='icon xr-icon-database'><use xlink:href='#icon-database'></use></svg></label><div class='xr-var-attrs'><dl class='xr-attrs'><dt><span>long_name :</span></dt><dd>saturated soil water content (porosity)</dd><dt><span>units :</span></dt><dd>mm3/mm3</dd></dl></div><div class='xr-var-data'><pre>[1382400 values with dtype=float32]</pre></div></li><li class='xr-var-item'><div class='xr-var-name'><span>SUCSAT</span></div><div class='xr-var-dims'>(levgrnd, lat, lon)</div><div class='xr-var-dtype'>float32</div><div class='xr-var-preview xr-preview'>...</div><input id='attrs-4288bbdd-eb2d-452c-be0d-f0f1a73ea995' class='xr-var-attrs-in' type='checkbox' ><label for='attrs-4288bbdd-eb2d-452c-be0d-f0f1a73ea995' title='Show/Hide attributes'><svg class='icon xr-icon-file-text2'><use xlink:href='#icon-file-text2'></use></svg></label><input id='data-2a03d8a2-53c1-45f9-a636-1bf10b2739fb' class='xr-var-data-in' type='checkbox'><label for='data-2a03d8a2-53c1-45f9-a636-1bf10b2739fb' title='Show/Hide data repr'><svg class='icon xr-icon-database'><use xlink:href='#icon-database'></use></svg></label><div class='xr-var-attrs'><dl class='xr-attrs'><dt><span>long_name :</span></dt><dd>saturated soil matric potential</dd><dt><span>units :</span></dt><dd>mm</dd></dl></div><div class='xr-var-data'><pre>[1382400 values with dtype=float32]</pre></div></li><li class='xr-var-item'><div class='xr-var-name'><span>BSW</span></div><div class='xr-var-dims'>(levgrnd, lat, lon)</div><div class='xr-var-dtype'>float32</div><div class='xr-var-preview xr-preview'>...</div><input id='attrs-2a787a05-c568-4fb2-a371-e7d643513152' class='xr-var-attrs-in' type='checkbox' ><label for='attrs-2a787a05-c568-4fb2-a371-e7d643513152' title='Show/Hide attributes'><svg class='icon xr-icon-file-text2'><use xlink:href='#icon-file-text2'></use></svg></label><input id='data-27f459e4-4311-45c2-8d8d-50934328d896' class='xr-var-data-in' type='checkbox'><label for='data-27f459e4-4311-45c2-8d8d-50934328d896' title='Show/Hide data repr'><svg class='icon xr-icon-database'><use xlink:href='#icon-database'></use></svg></label><div class='xr-var-attrs'><dl class='xr-attrs'><dt><span>long_name :</span></dt><dd>slope of soil water retention curve</dd><dt><span>units :</span></dt><dd>unitless</dd></dl></div><div class='xr-var-data'><pre>[1382400 values with dtype=float32]</pre></div></li><li class='xr-var-item'><div class='xr-var-name'><span>HKSAT</span></div><div class='xr-var-dims'>(levgrnd, lat, lon)</div><div class='xr-var-dtype'>float32</div><div class='xr-var-preview xr-preview'>...</div><input id='attrs-ee3f34fc-189c-473a-b0a4-9b5e452362f2' class='xr-var-attrs-in' type='checkbox' ><label for='attrs-ee3f34fc-189c-473a-b0a4-9b5e452362f2' title='Show/Hide attributes'><svg class='icon xr-icon-file-text2'><use xlink:href='#icon-file-text2'></use></svg></label><input id='data-2ad41548-beec-4db4-853d-d38a71c0fc7c' class='xr-var-data-in' type='checkbox'><label for='data-2ad41548-beec-4db4-853d-d38a71c0fc7c' title='Show/Hide data repr'><svg class='icon xr-icon-database'><use xlink:href='#icon-database'></use></svg></label><div class='xr-var-attrs'><dl class='xr-attrs'><dt><span>long_name :</span></dt><dd>saturated hydraulic conductivity</dd><dt><span>units :</span></dt><dd>mm s-1</dd></dl></div><div class='xr-var-data'><pre>[1382400 values with dtype=float32]</pre></div></li><li class='xr-var-item'><div class='xr-var-name'><span>ZLAKE</span></div><div class='xr-var-dims'>(levlak, lat, lon)</div><div class='xr-var-dtype'>float32</div><div class='xr-var-preview xr-preview'>...</div><input id='attrs-42b4a58d-e850-4b9c-a7ab-0a6d86841feb' class='xr-var-attrs-in' type='checkbox' ><label for='attrs-42b4a58d-e850-4b9c-a7ab-0a6d86841feb' title='Show/Hide attributes'><svg class='icon xr-icon-file-text2'><use xlink:href='#icon-file-text2'></use></svg></label><input id='data-1e25c393-e36a-4b6c-b7ce-823fa9b7b831' class='xr-var-data-in' type='checkbox'><label for='data-1e25c393-e36a-4b6c-b7ce-823fa9b7b831' title='Show/Hide data repr'><svg class='icon xr-icon-database'><use xlink:href='#icon-database'></use></svg></label><div class='xr-var-attrs'><dl class='xr-attrs'><dt><span>long_name :</span></dt><dd>lake layer node depth</dd><dt><span>units :</span></dt><dd>m</dd></dl></div><div class='xr-var-data'><pre>[552960 values with dtype=float32]</pre></div></li><li class='xr-var-item'><div class='xr-var-name'><span>DZLAKE</span></div><div class='xr-var-dims'>(levlak, lat, lon)</div><div class='xr-var-dtype'>float32</div><div class='xr-var-preview xr-preview'>...</div><input id='attrs-144037b8-8caf-42db-b753-de0ae519d844' class='xr-var-attrs-in' type='checkbox' ><label for='attrs-144037b8-8caf-42db-b753-de0ae519d844' title='Show/Hide attributes'><svg class='icon xr-icon-file-text2'><use xlink:href='#icon-file-text2'></use></svg></label><input id='data-aeace519-bfc8-49f2-a963-3dd50f214ce9' class='xr-var-data-in' type='checkbox'><label for='data-aeace519-bfc8-49f2-a963-3dd50f214ce9' title='Show/Hide data repr'><svg class='icon xr-icon-database'><use xlink:href='#icon-database'></use></svg></label><div class='xr-var-attrs'><dl class='xr-attrs'><dt><span>long_name :</span></dt><dd>lake layer thickness</dd><dt><span>units :</span></dt><dd>m</dd></dl></div><div class='xr-var-data'><pre>[552960 values with dtype=float32]</pre></div></li><li class='xr-var-item'><div class='xr-var-name'><span>mcdate</span></div><div class='xr-var-dims'>(time)</div><div class='xr-var-dtype'>float64</div><div class='xr-var-preview xr-preview'>...</div><input id='attrs-d558fc15-8cb8-43d1-9d8c-a306d6f41d45' class='xr-var-attrs-in' type='checkbox' ><label for='attrs-d558fc15-8cb8-43d1-9d8c-a306d6f41d45' title='Show/Hide attributes'><svg class='icon xr-icon-file-text2'><use xlink:href='#icon-file-text2'></use></svg></label><input id='data-9f4e3c12-3fec-4fba-b5dc-e8cf69c7cfaa' class='xr-var-data-in' type='checkbox'><label for='data-9f4e3c12-3fec-4fba-b5dc-e8cf69c7cfaa' title='Show/Hide data repr'><svg class='icon xr-icon-database'><use xlink:href='#icon-database'></use></svg></label><div class='xr-var-attrs'><dl class='xr-attrs'><dt><span>long_name :</span></dt><dd>current date (YYYYMMDD)</dd></dl></div><div class='xr-var-data'><pre>array([18500201., 18500301., 18500401., 18500501., 18500601., 18500701.,\n",
       "       18500801., 18500901., 18501001., 18501101., 18501201., 18510101.,\n",
       "       18510201., 18510301., 18510401., 18510501., 18510601., 18510701.,\n",
       "       18510801., 18510901., 18511001., 18511101., 18511201., 18520101.,\n",
       "       18520201., 18520301., 18520401., 18520501., 18520601., 18520701.,\n",
       "       18520801., 18520901., 18521001., 18521101., 18521201., 18530101.,\n",
       "       18530201., 18530301., 18530401., 18530501., 18530601., 18530701.,\n",
       "       18530801., 18530901., 18531001., 18531101., 18531201., 18540101.,\n",
       "       18540201., 18540301., 18540401., 18540501., 18540601., 18540701.,\n",
       "       18540801., 18540901., 18541001., 18541101., 18541201., 18550101.,\n",
       "       18550201., 18550301., 18550401., 18550501., 18550601., 18550701.,\n",
       "       18550801., 18550901., 18551001., 18551101., 18551201., 18560101.,\n",
       "       18560201., 18560301., 18560401., 18560501., 18560601., 18560701.,\n",
       "       18560801., 18560901., 18561001., 18561101., 18561201., 18570101.,\n",
       "       18570201., 18570301., 18570401., 18570501., 18570601., 18570701.,\n",
       "       18570801., 18570901., 18571001., 18571101., 18571201., 18580101.,\n",
       "       18580201., 18580301., 18580401., 18580501., 18580601., 18580701.,\n",
       "       18580801., 18580901., 18581001., 18581101., 18581201., 18590101.,\n",
       "       18590201., 18590301., 18590401., 18590501., 18590601., 18590701.,\n",
       "       18590801., 18590901., 18591001., 18591101., 18591201., 18600101.])</pre></div></li><li class='xr-var-item'><div class='xr-var-name'><span>mcsec</span></div><div class='xr-var-dims'>(time)</div><div class='xr-var-dtype'>float64</div><div class='xr-var-preview xr-preview'>...</div><input id='attrs-372d12cb-9ae6-4987-86d0-52027af9f702' class='xr-var-attrs-in' type='checkbox' ><label for='attrs-372d12cb-9ae6-4987-86d0-52027af9f702' title='Show/Hide attributes'><svg class='icon xr-icon-file-text2'><use xlink:href='#icon-file-text2'></use></svg></label><input id='data-b7a34c04-1fdb-4924-9c32-9b91638b5b11' class='xr-var-data-in' type='checkbox'><label for='data-b7a34c04-1fdb-4924-9c32-9b91638b5b11' title='Show/Hide data repr'><svg class='icon xr-icon-database'><use xlink:href='#icon-database'></use></svg></label><div class='xr-var-attrs'><dl class='xr-attrs'><dt><span>long_name :</span></dt><dd>current seconds of current date</dd><dt><span>units :</span></dt><dd>s</dd></dl></div><div class='xr-var-data'><pre>array([0., 0., 0., 0., 0., 0., 0., 0., 0., 0., 0., 0., 0., 0., 0., 0., 0., 0.,\n",
       "       0., 0., 0., 0., 0., 0., 0., 0., 0., 0., 0., 0., 0., 0., 0., 0., 0., 0.,\n",
       "       0., 0., 0., 0., 0., 0., 0., 0., 0., 0., 0., 0., 0., 0., 0., 0., 0., 0.,\n",
       "       0., 0., 0., 0., 0., 0., 0., 0., 0., 0., 0., 0., 0., 0., 0., 0., 0., 0.,\n",
       "       0., 0., 0., 0., 0., 0., 0., 0., 0., 0., 0., 0., 0., 0., 0., 0., 0., 0.,\n",
       "       0., 0., 0., 0., 0., 0., 0., 0., 0., 0., 0., 0., 0., 0., 0., 0., 0., 0.,\n",
       "       0., 0., 0., 0., 0., 0., 0., 0., 0., 0., 0., 0.])</pre></div></li><li class='xr-var-item'><div class='xr-var-name'><span>mdcur</span></div><div class='xr-var-dims'>(time)</div><div class='xr-var-dtype'>float64</div><div class='xr-var-preview xr-preview'>...</div><input id='attrs-48e9db2c-3181-4860-9567-514c2408371b' class='xr-var-attrs-in' type='checkbox' ><label for='attrs-48e9db2c-3181-4860-9567-514c2408371b' title='Show/Hide attributes'><svg class='icon xr-icon-file-text2'><use xlink:href='#icon-file-text2'></use></svg></label><input id='data-27f42a4d-19b1-4e83-9881-9463bf77acdf' class='xr-var-data-in' type='checkbox'><label for='data-27f42a4d-19b1-4e83-9881-9463bf77acdf' title='Show/Hide data repr'><svg class='icon xr-icon-database'><use xlink:href='#icon-database'></use></svg></label><div class='xr-var-attrs'><dl class='xr-attrs'><dt><span>long_name :</span></dt><dd>current day (from base day)</dd></dl></div><div class='xr-var-data'><pre>array([  31.,   59.,   90.,  120.,  151.,  181.,  212.,  243.,  273.,  304.,\n",
       "        334.,  365.,  396.,  424.,  455.,  485.,  516.,  546.,  577.,  608.,\n",
       "        638.,  669.,  699.,  730.,  761.,  789.,  820.,  850.,  881.,  911.,\n",
       "        942.,  973., 1003., 1034., 1064., 1095., 1126., 1154., 1185., 1215.,\n",
       "       1246., 1276., 1307., 1338., 1368., 1399., 1429., 1460., 1491., 1519.,\n",
       "       1550., 1580., 1611., 1641., 1672., 1703., 1733., 1764., 1794., 1825.,\n",
       "       1856., 1884., 1915., 1945., 1976., 2006., 2037., 2068., 2098., 2129.,\n",
       "       2159., 2190., 2221., 2249., 2280., 2310., 2341., 2371., 2402., 2433.,\n",
       "       2463., 2494., 2524., 2555., 2586., 2614., 2645., 2675., 2706., 2736.,\n",
       "       2767., 2798., 2828., 2859., 2889., 2920., 2951., 2979., 3010., 3040.,\n",
       "       3071., 3101., 3132., 3163., 3193., 3224., 3254., 3285., 3316., 3344.,\n",
       "       3375., 3405., 3436., 3466., 3497., 3528., 3558., 3589., 3619., 3650.])</pre></div></li><li class='xr-var-item'><div class='xr-var-name'><span>mscur</span></div><div class='xr-var-dims'>(time)</div><div class='xr-var-dtype'>float64</div><div class='xr-var-preview xr-preview'>...</div><input id='attrs-1cfa9042-c1a5-4b24-ad11-05b848a0c664' class='xr-var-attrs-in' type='checkbox' ><label for='attrs-1cfa9042-c1a5-4b24-ad11-05b848a0c664' title='Show/Hide attributes'><svg class='icon xr-icon-file-text2'><use xlink:href='#icon-file-text2'></use></svg></label><input id='data-07ba7265-21ed-4709-b778-ba555a4f8eb8' class='xr-var-data-in' type='checkbox'><label for='data-07ba7265-21ed-4709-b778-ba555a4f8eb8' title='Show/Hide data repr'><svg class='icon xr-icon-database'><use xlink:href='#icon-database'></use></svg></label><div class='xr-var-attrs'><dl class='xr-attrs'><dt><span>long_name :</span></dt><dd>current seconds of current day</dd></dl></div><div class='xr-var-data'><pre>array([0., 0., 0., 0., 0., 0., 0., 0., 0., 0., 0., 0., 0., 0., 0., 0., 0., 0.,\n",
       "       0., 0., 0., 0., 0., 0., 0., 0., 0., 0., 0., 0., 0., 0., 0., 0., 0., 0.,\n",
       "       0., 0., 0., 0., 0., 0., 0., 0., 0., 0., 0., 0., 0., 0., 0., 0., 0., 0.,\n",
       "       0., 0., 0., 0., 0., 0., 0., 0., 0., 0., 0., 0., 0., 0., 0., 0., 0., 0.,\n",
       "       0., 0., 0., 0., 0., 0., 0., 0., 0., 0., 0., 0., 0., 0., 0., 0., 0., 0.,\n",
       "       0., 0., 0., 0., 0., 0., 0., 0., 0., 0., 0., 0., 0., 0., 0., 0., 0., 0.,\n",
       "       0., 0., 0., 0., 0., 0., 0., 0., 0., 0., 0., 0.])</pre></div></li><li class='xr-var-item'><div class='xr-var-name'><span>nstep</span></div><div class='xr-var-dims'>(time)</div><div class='xr-var-dtype'>float64</div><div class='xr-var-preview xr-preview'>...</div><input id='attrs-21b4ee98-e40b-4667-a718-a874f46ad986' class='xr-var-attrs-in' type='checkbox' ><label for='attrs-21b4ee98-e40b-4667-a718-a874f46ad986' title='Show/Hide attributes'><svg class='icon xr-icon-file-text2'><use xlink:href='#icon-file-text2'></use></svg></label><input id='data-36ce670c-27f0-4350-bb45-cc05bbfc83ca' class='xr-var-data-in' type='checkbox'><label for='data-36ce670c-27f0-4350-bb45-cc05bbfc83ca' title='Show/Hide data repr'><svg class='icon xr-icon-database'><use xlink:href='#icon-database'></use></svg></label><div class='xr-var-attrs'><dl class='xr-attrs'><dt><span>long_name :</span></dt><dd>time step</dd></dl></div><div class='xr-var-data'><pre>array([  1488.,   2832.,   4320.,   5760.,   7248.,   8688.,  10176.,  11664.,\n",
       "        13104.,  14592.,  16032.,  17520.,  19008.,  20352.,  21840.,  23280.,\n",
       "        24768.,  26208.,  27696.,  29184.,  30624.,  32112.,  33552.,  35040.,\n",
       "        36528.,  37872.,  39360.,  40800.,  42288.,  43728.,  45216.,  46704.,\n",
       "        48144.,  49632.,  51072.,  52560.,  54048.,  55392.,  56880.,  58320.,\n",
       "        59808.,  61248.,  62736.,  64224.,  65664.,  67152.,  68592.,  70080.,\n",
       "        71568.,  72912.,  74400.,  75840.,  77328.,  78768.,  80256.,  81744.,\n",
       "        83184.,  84672.,  86112.,  87600.,  89088.,  90432.,  91920.,  93360.,\n",
       "        94848.,  96288.,  97776.,  99264., 100704., 102192., 103632., 105120.,\n",
       "       106608., 107952., 109440., 110880., 112368., 113808., 115296., 116784.,\n",
       "       118224., 119712., 121152., 122640., 124128., 125472., 126960., 128400.,\n",
       "       129888., 131328., 132816., 134304., 135744., 137232., 138672., 140160.,\n",
       "       141648., 142992., 144480., 145920., 147408., 148848., 150336., 151824.,\n",
       "       153264., 154752., 156192., 157680., 159168., 160512., 162000., 163440.,\n",
       "       164928., 166368., 167856., 169344., 170784., 172272., 173712., 175200.])</pre></div></li><li class='xr-var-item'><div class='xr-var-name'><span>time_bounds</span></div><div class='xr-var-dims'>(time, hist_interval)</div><div class='xr-var-dtype'>object</div><div class='xr-var-preview xr-preview'>...</div><input id='attrs-f8820371-f4a2-4e92-b3b5-601d22812f9f' class='xr-var-attrs-in' type='checkbox' ><label for='attrs-f8820371-f4a2-4e92-b3b5-601d22812f9f' title='Show/Hide attributes'><svg class='icon xr-icon-file-text2'><use xlink:href='#icon-file-text2'></use></svg></label><input id='data-f719e9ba-14ab-4696-b401-c6ff8ec106f5' class='xr-var-data-in' type='checkbox'><label for='data-f719e9ba-14ab-4696-b401-c6ff8ec106f5' title='Show/Hide data repr'><svg class='icon xr-icon-database'><use xlink:href='#icon-database'></use></svg></label><div class='xr-var-attrs'><dl class='xr-attrs'><dt><span>long_name :</span></dt><dd>history time interval endpoints</dd></dl></div><div class='xr-var-data'><pre>array([[cftime.DatetimeNoLeap(1849, 12, 31, 23, 30, 0, 0),\n",
       "        cftime.DatetimeNoLeap(1850, 2, 1, 0, 0, 0, 0)],\n",
       "       [cftime.DatetimeNoLeap(1850, 2, 1, 0, 0, 0, 0),\n",
       "        cftime.DatetimeNoLeap(1850, 3, 1, 0, 0, 0, 0)],\n",
       "       [cftime.DatetimeNoLeap(1850, 3, 1, 0, 0, 0, 0),\n",
       "        cftime.DatetimeNoLeap(1850, 4, 1, 0, 0, 0, 0)],\n",
       "       ...,\n",
       "       [cftime.DatetimeNoLeap(1859, 10, 1, 0, 0, 0, 0),\n",
       "        cftime.DatetimeNoLeap(1859, 11, 1, 0, 0, 0, 0)],\n",
       "       [cftime.DatetimeNoLeap(1859, 11, 1, 0, 0, 0, 0),\n",
       "        cftime.DatetimeNoLeap(1859, 12, 1, 0, 0, 0, 0)],\n",
       "       [cftime.DatetimeNoLeap(1859, 12, 1, 0, 0, 0, 0),\n",
       "        cftime.DatetimeNoLeap(1860, 1, 1, 0, 0, 0, 0)]], dtype=object)</pre></div></li><li class='xr-var-item'><div class='xr-var-name'><span>date_written</span></div><div class='xr-var-dims'>(time)</div><div class='xr-var-dtype'>object</div><div class='xr-var-preview xr-preview'>...</div><input id='attrs-1454ed90-0aff-4684-8ca3-076467070642' class='xr-var-attrs-in' type='checkbox' disabled><label for='attrs-1454ed90-0aff-4684-8ca3-076467070642' title='Show/Hide attributes'><svg class='icon xr-icon-file-text2'><use xlink:href='#icon-file-text2'></use></svg></label><input id='data-69d796cf-4ed8-46f3-8bff-23ece6196be2' class='xr-var-data-in' type='checkbox'><label for='data-69d796cf-4ed8-46f3-8bff-23ece6196be2' title='Show/Hide data repr'><svg class='icon xr-icon-database'><use xlink:href='#icon-database'></use></svg></label><div class='xr-var-attrs'><dl class='xr-attrs'></dl></div><div class='xr-var-data'><pre>array([b&#x27;01/31/2011111111&#x27;, b&#x27;01/31/2011111111&#x27;, b&#x27;01/31/2011111111&#x27;,\n",
       "       b&#x27;01/31/2011111111&#x27;, b&#x27;01/31/2011111111&#x27;, b&#x27;01/31/2011111111&#x27;,\n",
       "       b&#x27;01/31/2011111111&#x27;, b&#x27;01/31/2011111111&#x27;, b&#x27;01/31/2011111111&#x27;,\n",
       "       b&#x27;01/31/2011111111&#x27;, b&#x27;01/31/2011111111&#x27;, b&#x27;01/31/2011111111&#x27;,\n",
       "       b&#x27;01/31/2011111111&#x27;, b&#x27;01/31/2011111111&#x27;, b&#x27;01/31/2011111111&#x27;,\n",
       "       b&#x27;01/31/2011111111&#x27;, b&#x27;01/31/2011111111&#x27;, b&#x27;01/31/2011111111&#x27;,\n",
       "       b&#x27;01/31/2011111111&#x27;, b&#x27;01/31/2011111111&#x27;, b&#x27;01/31/2011111111&#x27;,\n",
       "       b&#x27;01/31/2011111111&#x27;, b&#x27;01/31/2011111111&#x27;, b&#x27;01/31/2011111111&#x27;,\n",
       "       b&#x27;01/31/2011111111&#x27;, b&#x27;01/31/2011111111&#x27;, b&#x27;01/31/2011111111&#x27;,\n",
       "       b&#x27;01/31/2011111111&#x27;, b&#x27;01/31/2011111111&#x27;, b&#x27;01/31/2011111111&#x27;,\n",
       "       b&#x27;01/31/2011111111&#x27;, b&#x27;01/31/2011111111&#x27;, b&#x27;01/31/2011111111&#x27;,\n",
       "       b&#x27;01/31/2011111111&#x27;, b&#x27;01/31/2011111111&#x27;, b&#x27;01/31/2011111111&#x27;,\n",
       "       b&#x27;01/31/2011111111&#x27;, b&#x27;01/31/2011111111&#x27;, b&#x27;01/31/2011111111&#x27;,\n",
       "       b&#x27;01/31/2011111111&#x27;, b&#x27;01/31/2011111111&#x27;, b&#x27;01/31/2011111111&#x27;,\n",
       "       b&#x27;01/31/2011111111&#x27;, b&#x27;01/31/2011111111&#x27;, b&#x27;01/31/2011111111&#x27;,\n",
       "       b&#x27;01/31/2011111111&#x27;, b&#x27;01/31/2011111111&#x27;, b&#x27;01/31/2011111111&#x27;,\n",
       "       b&#x27;01/31/2011111111&#x27;, b&#x27;01/31/2011111111&#x27;, b&#x27;01/31/2011111111&#x27;,\n",
       "       b&#x27;01/31/2011111111&#x27;, b&#x27;01/31/2011111111&#x27;, b&#x27;02/01/2011111111&#x27;,\n",
       "       b&#x27;02/01/2011111111&#x27;, b&#x27;02/01/2011111111&#x27;, b&#x27;02/01/2011111111&#x27;,\n",
       "       b&#x27;02/01/2011111111&#x27;, b&#x27;02/01/2011111111&#x27;, b&#x27;02/01/2011111111&#x27;,\n",
       "       b&#x27;02/01/2011111111&#x27;, b&#x27;02/01/2011111111&#x27;, b&#x27;02/01/2011111111&#x27;,\n",
       "       b&#x27;02/01/2011111111&#x27;, b&#x27;02/01/2011111111&#x27;, b&#x27;02/01/2011111111&#x27;,\n",
       "       b&#x27;02/01/2011111111&#x27;, b&#x27;02/01/2011111111&#x27;, b&#x27;02/01/2011111111&#x27;,\n",
       "       b&#x27;02/01/2011111111&#x27;, b&#x27;02/01/2011111111&#x27;, b&#x27;02/01/2011111111&#x27;,\n",
       "       b&#x27;02/01/2011111111&#x27;, b&#x27;02/01/2011111111&#x27;, b&#x27;02/01/2011111111&#x27;,\n",
       "       b&#x27;02/01/2011111111&#x27;, b&#x27;02/01/2011111111&#x27;, b&#x27;02/01/2011111111&#x27;,\n",
       "       b&#x27;02/01/2011111111&#x27;, b&#x27;02/01/2011111111&#x27;, b&#x27;02/01/2011111111&#x27;,\n",
       "       b&#x27;02/01/2011111111&#x27;, b&#x27;02/01/2011111111&#x27;, b&#x27;02/01/2011111111&#x27;,\n",
       "       b&#x27;02/01/2011111111&#x27;, b&#x27;02/01/2011111111&#x27;, b&#x27;02/01/2011111111&#x27;,\n",
       "       b&#x27;02/01/2011111111&#x27;, b&#x27;02/01/2011111111&#x27;, b&#x27;02/01/2011111111&#x27;,\n",
       "       b&#x27;02/01/2011111111&#x27;, b&#x27;02/01/2011111111&#x27;, b&#x27;02/01/2011111111&#x27;,\n",
       "       b&#x27;02/01/2011111111&#x27;, b&#x27;02/01/2011111111&#x27;, b&#x27;02/01/2011111111&#x27;,\n",
       "       b&#x27;02/01/2011111111&#x27;, b&#x27;02/01/2011111111&#x27;, b&#x27;02/01/2011111111&#x27;,\n",
       "       b&#x27;02/01/2011111111&#x27;, b&#x27;02/01/2011111111&#x27;, b&#x27;02/01/2011111111&#x27;,\n",
       "       b&#x27;02/01/2011111111&#x27;, b&#x27;02/01/2011111111&#x27;, b&#x27;02/01/2011111111&#x27;,\n",
       "       b&#x27;02/01/2011111111&#x27;, b&#x27;02/01/2011111111&#x27;, b&#x27;02/01/2011111111&#x27;,\n",
       "       b&#x27;02/01/2011111111&#x27;, b&#x27;02/01/2011111111&#x27;, b&#x27;02/01/2011111111&#x27;,\n",
       "       b&#x27;02/01/2011111111&#x27;, b&#x27;02/01/2011111111&#x27;, b&#x27;02/01/2011111111&#x27;,\n",
       "       b&#x27;02/01/2011111111&#x27;, b&#x27;02/01/2011111111&#x27;, b&#x27;02/01/2011111111&#x27;,\n",
       "       b&#x27;02/01/2011111111&#x27;, b&#x27;02/01/2011111111&#x27;, b&#x27;02/01/2011111111&#x27;],\n",
       "      dtype=object)</pre></div></li><li class='xr-var-item'><div class='xr-var-name'><span>time_written</span></div><div class='xr-var-dims'>(time)</div><div class='xr-var-dtype'>object</div><div class='xr-var-preview xr-preview'>...</div><input id='attrs-5f3985c7-5595-4a09-ba73-d1befced6ad3' class='xr-var-attrs-in' type='checkbox' disabled><label for='attrs-5f3985c7-5595-4a09-ba73-d1befced6ad3' title='Show/Hide attributes'><svg class='icon xr-icon-file-text2'><use xlink:href='#icon-file-text2'></use></svg></label><input id='data-faaec13c-3e4b-4346-a71f-ae5bb7e8966d' class='xr-var-data-in' type='checkbox'><label for='data-faaec13c-3e4b-4346-a71f-ae5bb7e8966d' title='Show/Hide data repr'><svg class='icon xr-icon-database'><use xlink:href='#icon-database'></use></svg></label><div class='xr-var-attrs'><dl class='xr-attrs'></dl></div><div class='xr-var-data'><pre>array([b&#x27;16:34:5711111111&#x27;, b&#x27;16:42:5111111111&#x27;, b&#x27;16:51:4011111111&#x27;,\n",
       "       b&#x27;17:00:0311111111&#x27;, b&#x27;17:08:4211111111&#x27;, b&#x27;17:17:0211111111&#x27;,\n",
       "       b&#x27;17:25:3911111111&#x27;, b&#x27;17:34:2011111111&#x27;, b&#x27;17:42:4611111111&#x27;,\n",
       "       b&#x27;17:51:3011111111&#x27;, b&#x27;17:59:5511111111&#x27;, b&#x27;18:08:3811111111&#x27;,\n",
       "       b&#x27;18:17:2511111111&#x27;, b&#x27;18:25:1611111111&#x27;, b&#x27;18:33:5711111111&#x27;,\n",
       "       b&#x27;18:42:2211111111&#x27;, b&#x27;18:50:5911111111&#x27;, b&#x27;18:59:2211111111&#x27;,\n",
       "       b&#x27;19:08:0211111111&#x27;, b&#x27;19:16:4211111111&#x27;, b&#x27;19:25:0611111111&#x27;,\n",
       "       b&#x27;19:33:4611111111&#x27;, b&#x27;19:42:1511111111&#x27;, b&#x27;19:51:0311111111&#x27;,\n",
       "       b&#x27;19:59:4911111111&#x27;, b&#x27;20:07:4511111111&#x27;, b&#x27;20:16:2511111111&#x27;,\n",
       "       b&#x27;20:24:4911111111&#x27;, b&#x27;20:33:2611111111&#x27;, b&#x27;20:41:4711111111&#x27;,\n",
       "       b&#x27;20:50:2711111111&#x27;, b&#x27;20:59:0511111111&#x27;, b&#x27;21:07:2511111111&#x27;,\n",
       "       b&#x27;21:16:0511111111&#x27;, b&#x27;21:24:2911111111&#x27;, b&#x27;21:33:0711111111&#x27;,\n",
       "       b&#x27;21:41:5411111111&#x27;, b&#x27;21:49:4611111111&#x27;, b&#x27;21:58:3211111111&#x27;,\n",
       "       b&#x27;22:06:5411111111&#x27;, b&#x27;22:15:3111111111&#x27;, b&#x27;22:23:5211111111&#x27;,\n",
       "       b&#x27;22:32:3111111111&#x27;, b&#x27;22:41:1411111111&#x27;, b&#x27;22:49:4111111111&#x27;,\n",
       "       b&#x27;22:58:2211111111&#x27;, b&#x27;23:06:4711111111&#x27;, b&#x27;23:15:2711111111&#x27;,\n",
       "       b&#x27;23:24:1911111111&#x27;, b&#x27;23:32:1611111111&#x27;, b&#x27;23:41:0111111111&#x27;,\n",
       "       b&#x27;23:49:2311111111&#x27;, b&#x27;23:58:0311111111&#x27;, b&#x27;00:06:2711111111&#x27;,\n",
       "       b&#x27;00:15:0811111111&#x27;, b&#x27;00:23:4711111111&#x27;, b&#x27;00:32:1211111111&#x27;,\n",
       "       b&#x27;00:40:5511111111&#x27;, b&#x27;00:49:2611111111&#x27;, b&#x27;00:58:0311111111&#x27;,\n",
       "       b&#x27;01:06:4711111111&#x27;, b&#x27;01:14:4211111111&#x27;, b&#x27;01:23:2311111111&#x27;,\n",
       "       b&#x27;01:31:4611111111&#x27;, b&#x27;01:40:2611111111&#x27;, b&#x27;01:48:4811111111&#x27;,\n",
       "       b&#x27;01:57:2911111111&#x27;, b&#x27;02:06:1111111111&#x27;, b&#x27;02:14:4211111111&#x27;,\n",
       "       b&#x27;02:23:3411111111&#x27;, b&#x27;02:32:0411111111&#x27;, b&#x27;02:40:4611111111&#x27;,\n",
       "       b&#x27;02:49:3011111111&#x27;, b&#x27;02:57:3011111111&#x27;, b&#x27;03:06:1511111111&#x27;,\n",
       "       b&#x27;03:14:3711111111&#x27;, b&#x27;03:23:1311111111&#x27;, b&#x27;03:31:3311111111&#x27;,\n",
       "       b&#x27;03:40:0911111111&#x27;, b&#x27;03:48:5211111111&#x27;, b&#x27;03:57:2311111111&#x27;,\n",
       "       b&#x27;04:06:1111111111&#x27;, b&#x27;04:14:3911111111&#x27;, b&#x27;04:23:2011111111&#x27;,\n",
       "       b&#x27;04:32:0011111111&#x27;, b&#x27;04:39:5911111111&#x27;, b&#x27;04:48:4311111111&#x27;,\n",
       "       b&#x27;04:57:0711111111&#x27;, b&#x27;05:05:4611111111&#x27;, b&#x27;05:14:1111111111&#x27;,\n",
       "       b&#x27;05:22:5111111111&#x27;, b&#x27;05:31:3611111111&#x27;, b&#x27;05:40:0311111111&#x27;,\n",
       "       b&#x27;05:48:4611111111&#x27;, b&#x27;05:57:1911111111&#x27;, b&#x27;06:06:0111111111&#x27;,\n",
       "       b&#x27;06:14:4911111111&#x27;, b&#x27;06:22:4511111111&#x27;, b&#x27;06:31:2411111111&#x27;,\n",
       "       b&#x27;06:39:4611111111&#x27;, b&#x27;06:48:3111111111&#x27;, b&#x27;06:57:0711111111&#x27;,\n",
       "       b&#x27;07:05:4311111111&#x27;, b&#x27;07:14:3111111111&#x27;, b&#x27;07:23:0211111111&#x27;,\n",
       "       b&#x27;07:31:4411111111&#x27;, b&#x27;07:40:0811111111&#x27;, b&#x27;07:48:5911111111&#x27;,\n",
       "       b&#x27;07:57:4311111111&#x27;, b&#x27;08:05:3911111111&#x27;, b&#x27;08:14:2411111111&#x27;,\n",
       "       b&#x27;08:22:4611111111&#x27;, b&#x27;08:31:2411111111&#x27;, b&#x27;08:39:4711111111&#x27;,\n",
       "       b&#x27;08:48:2711111111&#x27;, b&#x27;08:57:1111111111&#x27;, b&#x27;09:05:3511111111&#x27;,\n",
       "       b&#x27;09:14:1811111111&#x27;, b&#x27;09:22:5111111111&#x27;, b&#x27;09:31:2811111111&#x27;],\n",
       "      dtype=object)</pre></div></li><li class='xr-var-item'><div class='xr-var-name'><span>QOVER</span></div><div class='xr-var-dims'>(time, lat, lon)</div><div class='xr-var-dtype'>float32</div><div class='xr-var-preview xr-preview'>...</div><input id='attrs-952a77f1-412d-4991-8c68-16e69dec8284' class='xr-var-attrs-in' type='checkbox' ><label for='attrs-952a77f1-412d-4991-8c68-16e69dec8284' title='Show/Hide attributes'><svg class='icon xr-icon-file-text2'><use xlink:href='#icon-file-text2'></use></svg></label><input id='data-b526420b-5727-4ccc-bde5-10c612329fcd' class='xr-var-data-in' type='checkbox'><label for='data-b526420b-5727-4ccc-bde5-10c612329fcd' title='Show/Hide data repr'><svg class='icon xr-icon-database'><use xlink:href='#icon-database'></use></svg></label><div class='xr-var-attrs'><dl class='xr-attrs'><dt><span>long_name :</span></dt><dd>surface runoff</dd><dt><span>units :</span></dt><dd>mm/s</dd><dt><span>cell_methods :</span></dt><dd>time: mean</dd></dl></div><div class='xr-var-data'><pre>[6635520 values with dtype=float32]</pre></div></li></ul></div></li><li class='xr-section-item'><input id='section-fbd1e714-22a4-42ca-b7f8-5207187aefce' class='xr-section-summary-in' type='checkbox'  ><label for='section-fbd1e714-22a4-42ca-b7f8-5207187aefce' class='xr-section-summary' >Attributes: <span>(100)</span></label><div class='xr-section-inline-details'></div><div class='xr-section-details'><dl class='xr-attrs'><dt><span>title :</span></dt><dd>CLM History file information</dd><dt><span>comment :</span></dt><dd>NOTE: None of the variables are weighted by land fraction!</dd><dt><span>Conventions :</span></dt><dd>CF-1.0</dd><dt><span>history :</span></dt><dd>created on 01/31/20 16:34:57</dd><dt><span>source :</span></dt><dd>Community Land Model CLM4.0</dd><dt><span>hostname :</span></dt><dd>aleph</dd><dt><span>username :</span></dt><dd>sunseon</dd><dt><span>version :</span></dt><dd>cesm2.1.2-rc.03-18-g4ee0b23</dd><dt><span>revision_id :</span></dt><dd>$Id: histFileMod.F90 42903 2012-12-21 15:32:10Z muszala $</dd><dt><span>case_title :</span></dt><dd>UNSET</dd><dt><span>case_id :</span></dt><dd>b.e21.BHISTcmip6.f09_g17.LE2-1001.001</dd><dt><span>Surface_dataset :</span></dt><dd>surfdata_0.9x1.25_hist_78pfts_CMIP6_simyr1850_c190214.nc</dd><dt><span>Initial_conditions_dataset :</span></dt><dd>finidat_interp_dest.nc</dd><dt><span>PFT_physiological_constants_dataset :</span></dt><dd>clm5_params.c171117.nc</dd><dt><span>ltype_vegetated_or_bare_soil :</span></dt><dd>1</dd><dt><span>ltype_crop :</span></dt><dd>2</dd><dt><span>ltype_UNUSED :</span></dt><dd>3</dd><dt><span>ltype_landice_multiple_elevation_classes :</span></dt><dd>4</dd><dt><span>ltype_deep_lake :</span></dt><dd>5</dd><dt><span>ltype_wetland :</span></dt><dd>6</dd><dt><span>ltype_urban_tbd :</span></dt><dd>7</dd><dt><span>ltype_urban_hd :</span></dt><dd>8</dd><dt><span>ltype_urban_md :</span></dt><dd>9</dd><dt><span>ctype_vegetated_or_bare_soil :</span></dt><dd>1</dd><dt><span>ctype_crop :</span></dt><dd>2</dd><dt><span>ctype_crop_noncompete :</span></dt><dd>2*100+m, m=cft_lb,cft_ub</dd><dt><span>ctype_landice :</span></dt><dd>3</dd><dt><span>ctype_landice_multiple_elevation_classes :</span></dt><dd>4*100+m, m=1,glcnec</dd><dt><span>ctype_deep_lake :</span></dt><dd>5</dd><dt><span>ctype_wetland :</span></dt><dd>6</dd><dt><span>ctype_urban_roof :</span></dt><dd>71</dd><dt><span>ctype_urban_sunwall :</span></dt><dd>72</dd><dt><span>ctype_urban_shadewall :</span></dt><dd>73</dd><dt><span>ctype_urban_impervious_road :</span></dt><dd>74</dd><dt><span>ctype_urban_pervious_road :</span></dt><dd>75</dd><dt><span>cft_c3_crop :</span></dt><dd>1</dd><dt><span>cft_c3_irrigated :</span></dt><dd>2</dd><dt><span>cft_temperate_corn :</span></dt><dd>3</dd><dt><span>cft_irrigated_temperate_corn :</span></dt><dd>4</dd><dt><span>cft_spring_wheat :</span></dt><dd>5</dd><dt><span>cft_irrigated_spring_wheat :</span></dt><dd>6</dd><dt><span>cft_winter_wheat :</span></dt><dd>7</dd><dt><span>cft_irrigated_winter_wheat :</span></dt><dd>8</dd><dt><span>cft_temperate_soybean :</span></dt><dd>9</dd><dt><span>cft_irrigated_temperate_soybean :</span></dt><dd>10</dd><dt><span>cft_barley :</span></dt><dd>11</dd><dt><span>cft_irrigated_barley :</span></dt><dd>12</dd><dt><span>cft_winter_barley :</span></dt><dd>13</dd><dt><span>cft_irrigated_winter_barley :</span></dt><dd>14</dd><dt><span>cft_rye :</span></dt><dd>15</dd><dt><span>cft_irrigated_rye :</span></dt><dd>16</dd><dt><span>cft_winter_rye :</span></dt><dd>17</dd><dt><span>cft_irrigated_winter_rye :</span></dt><dd>18</dd><dt><span>cft_cassava :</span></dt><dd>19</dd><dt><span>cft_irrigated_cassava :</span></dt><dd>20</dd><dt><span>cft_citrus :</span></dt><dd>21</dd><dt><span>cft_irrigated_citrus :</span></dt><dd>22</dd><dt><span>cft_cocoa :</span></dt><dd>23</dd><dt><span>cft_irrigated_cocoa :</span></dt><dd>24</dd><dt><span>cft_coffee :</span></dt><dd>25</dd><dt><span>cft_irrigated_coffee :</span></dt><dd>26</dd><dt><span>cft_cotton :</span></dt><dd>27</dd><dt><span>cft_irrigated_cotton :</span></dt><dd>28</dd><dt><span>cft_datepalm :</span></dt><dd>29</dd><dt><span>cft_irrigated_datepalm :</span></dt><dd>30</dd><dt><span>cft_foddergrass :</span></dt><dd>31</dd><dt><span>cft_irrigated_foddergrass :</span></dt><dd>32</dd><dt><span>cft_grapes :</span></dt><dd>33</dd><dt><span>cft_irrigated_grapes :</span></dt><dd>34</dd><dt><span>cft_groundnuts :</span></dt><dd>35</dd><dt><span>cft_irrigated_groundnuts :</span></dt><dd>36</dd><dt><span>cft_millet :</span></dt><dd>37</dd><dt><span>cft_irrigated_millet :</span></dt><dd>38</dd><dt><span>cft_oilpalm :</span></dt><dd>39</dd><dt><span>cft_irrigated_oilpalm :</span></dt><dd>40</dd><dt><span>cft_potatoes :</span></dt><dd>41</dd><dt><span>cft_irrigated_potatoes :</span></dt><dd>42</dd><dt><span>cft_pulses :</span></dt><dd>43</dd><dt><span>cft_irrigated_pulses :</span></dt><dd>44</dd><dt><span>cft_rapeseed :</span></dt><dd>45</dd><dt><span>cft_irrigated_rapeseed :</span></dt><dd>46</dd><dt><span>cft_rice :</span></dt><dd>47</dd><dt><span>cft_irrigated_rice :</span></dt><dd>48</dd><dt><span>cft_sorghum :</span></dt><dd>49</dd><dt><span>cft_irrigated_sorghum :</span></dt><dd>50</dd><dt><span>cft_sugarbeet :</span></dt><dd>51</dd><dt><span>cft_irrigated_sugarbeet :</span></dt><dd>52</dd><dt><span>cft_sugarcane :</span></dt><dd>53</dd><dt><span>cft_irrigated_sugarcane :</span></dt><dd>54</dd><dt><span>cft_sunflower :</span></dt><dd>55</dd><dt><span>cft_irrigated_sunflower :</span></dt><dd>56</dd><dt><span>cft_miscanthus :</span></dt><dd>57</dd><dt><span>cft_irrigated_miscanthus :</span></dt><dd>58</dd><dt><span>cft_switchgrass :</span></dt><dd>59</dd><dt><span>cft_irrigated_switchgrass :</span></dt><dd>60</dd><dt><span>cft_tropical_corn :</span></dt><dd>61</dd><dt><span>cft_irrigated_tropical_corn :</span></dt><dd>62</dd><dt><span>cft_tropical_soybean :</span></dt><dd>63</dd><dt><span>cft_irrigated_tropical_soybean :</span></dt><dd>64</dd><dt><span>time_period_freq :</span></dt><dd>month_1</dd></dl></div></li></ul></div></div>"
      ],
      "text/plain": [
       "<xarray.Dataset>\n",
       "Dimensions:       (levgrnd: 25, levlak: 10, levdcmp: 25, lon: 288, lat: 192,\n",
       "                   time: 120, hist_interval: 2)\n",
       "Coordinates:\n",
       "  * levgrnd       (levgrnd) float32 0.01 0.04 0.09 0.16 ... 19.48 28.87 42.0\n",
       "  * levlak        (levlak) float32 0.05 0.6 2.1 4.6 ... 18.6 25.6 34.33 44.78\n",
       "  * levdcmp       (levdcmp) float32 0.01 0.04 0.09 0.16 ... 19.48 28.87 42.0\n",
       "  * lon           (lon) float32 0.0 1.25 2.5 3.75 ... 355.0 356.2 357.5 358.8\n",
       "  * lat           (lat) float32 -90.0 -89.06 -88.12 -87.17 ... 88.12 89.06 90.0\n",
       "  * time          (time) object 1850-02-01 00:00:00 ... 1860-01-01 00:00:00\n",
       "Dimensions without coordinates: hist_interval\n",
       "Data variables: (12/22)\n",
       "    area          (lat, lon) float32 ...\n",
       "    landfrac      (lat, lon) float32 ...\n",
       "    landmask      (lat, lon) float64 ...\n",
       "    pftmask       (lat, lon) float64 ...\n",
       "    nbedrock      (lat, lon) float64 ...\n",
       "    ZSOI          (levgrnd, lat, lon) float32 ...\n",
       "    ...            ...\n",
       "    mscur         (time) float64 ...\n",
       "    nstep         (time) float64 ...\n",
       "    time_bounds   (time, hist_interval) object ...\n",
       "    date_written  (time) object ...\n",
       "    time_written  (time) object ...\n",
       "    QOVER         (time, lat, lon) float32 ...\n",
       "Attributes: (12/100)\n",
       "    title:                                     CLM History file information\n",
       "    comment:                                   NOTE: None of the variables ar...\n",
       "    Conventions:                               CF-1.0\n",
       "    history:                                   created on 01/31/20 16:34:57\n",
       "    source:                                    Community Land Model CLM4.0\n",
       "    hostname:                                  aleph\n",
       "    ...                                        ...\n",
       "    cft_irrigated_switchgrass:                 60\n",
       "    cft_tropical_corn:                         61\n",
       "    cft_irrigated_tropical_corn:               62\n",
       "    cft_tropical_soybean:                      63\n",
       "    cft_irrigated_tropical_soybean:            64\n",
       "    time_period_freq:                          month_1"
      ]
     },
     "execution_count": 15,
     "metadata": {},
     "output_type": "execute_result"
    }
   ],
   "source": [
    "file_xr  = xr.open_dataset(ncFile_param) \n",
    "file_xr"
   ]
  },
  {
   "cell_type": "code",
   "execution_count": 16,
   "metadata": {},
   "outputs": [
    {
     "name": "stdout",
     "output_type": "stream",
     "text": [
      "(120, 192, 288)\n",
      "<xarray.DataArray 'QOVER' (time: 120, lat: 192, lon: 288)>\n",
      "[6635520 values with dtype=float32]\n",
      "Coordinates:\n",
      "  * lon      (lon) float32 0.0 1.25 2.5 3.75 5.0 ... 355.0 356.2 357.5 358.8\n",
      "  * lat      (lat) float32 -90.0 -89.06 -88.12 -87.17 ... 87.17 88.12 89.06 90.0\n",
      "  * time     (time) object 1850-02-01 00:00:00 ... 1860-01-01 00:00:00\n",
      "Attributes:\n",
      "    long_name:     surface runoff\n",
      "    units:         mm/s\n",
      "    cell_methods:  time: mean\n"
     ]
    }
   ],
   "source": [
    "param_val = file_xr['QOVER']\n",
    "\n",
    "print(param_val.shape)\n",
    "print(param_val)"
   ]
  },
  {
   "cell_type": "code",
   "execution_count": 17,
   "metadata": {},
   "outputs": [
    {
     "name": "stdout",
     "output_type": "stream",
     "text": [
      "120\n",
      "(120, 192, 288)\n",
      "\n"
     ]
    }
   ],
   "source": [
    "\n",
    "file_paramHist = Dataset(ncFile_param, mode='r')\n",
    "file_paramHist\n",
    "\n",
    "lons = file_paramHist.variables['lon'][:]\n",
    "lats = file_paramHist.variables['lat'][:]\n",
    "times = file_paramHist.variables['time'][:]\n",
    "ntim = times.shape[0]\n",
    "print(ntim)\n",
    "\n",
    "time = np.arange(ntim)\n",
    "time\n",
    "\n",
    "param_valHist = file_paramHist.variables['QOVER'][:]*86400*30   \n",
    "\n",
    "\n",
    "print(param_valHist.shape)\n",
    "print('')\n",
    "    \n",
    "    "
   ]
  },
  {
   "cell_type": "code",
   "execution_count": null,
   "metadata": {},
   "outputs": [],
   "source": []
  },
  {
   "cell_type": "code",
   "execution_count": null,
   "metadata": {},
   "outputs": [],
   "source": []
  },
  {
   "cell_type": "code",
   "execution_count": null,
   "metadata": {},
   "outputs": [],
   "source": []
  },
  {
   "cell_type": "markdown",
   "metadata": {},
   "source": [
    "## Setting US boundaries"
   ]
  },
  {
   "cell_type": "code",
   "execution_count": 18,
   "metadata": {},
   "outputs": [],
   "source": [
    "# Save only U.S. \n",
    "latboundsUs = [ 25 , 55]\n",
    "lonboundsUs = [230 , 300]\n"
   ]
  },
  {
   "cell_type": "code",
   "execution_count": 19,
   "metadata": {},
   "outputs": [],
   "source": [
    "# latitude lower and upper index\n",
    "latli = np.argmin( np.abs( lats - latboundsUs[0] ) )\n",
    "latui = np.argmin( np.abs( lats - latboundsUs[1] ) ) \n",
    "\n",
    "# longitude lower and upper index\n",
    "lonli = np.argmin( np.abs( lons - lonboundsUs[0] ) )\n",
    "lonui = np.argmin( np.abs( lons - lonboundsUs[1] ) )  "
   ]
  },
  {
   "cell_type": "code",
   "execution_count": 20,
   "metadata": {},
   "outputs": [
    {
     "name": "stdout",
     "output_type": "stream",
     "text": [
      "122 154\n"
     ]
    }
   ],
   "source": [
    "print(latli, latui)\n"
   ]
  },
  {
   "cell_type": "code",
   "execution_count": 21,
   "metadata": {},
   "outputs": [
    {
     "name": "stdout",
     "output_type": "stream",
     "text": [
      "184 240\n"
     ]
    }
   ],
   "source": [
    "print(lonli, lonui)"
   ]
  },
  {
   "cell_type": "code",
   "execution_count": 22,
   "metadata": {},
   "outputs": [
    {
     "name": "stdout",
     "output_type": "stream",
     "text": [
      "(120, 32, 56)\n"
     ]
    }
   ],
   "source": [
    "param_val_sample_Us = param_val[:, latli:latui , lonli:lonui]\n",
    "print(param_val_sample_Us.shape)"
   ]
  },
  {
   "cell_type": "code",
   "execution_count": 23,
   "metadata": {},
   "outputs": [
    {
     "name": "stdout",
     "output_type": "stream",
     "text": [
      "32\n",
      "56\n",
      "120\n"
     ]
    }
   ],
   "source": [
    "t,y_Us,x_Us = param_val_sample_Us.shape\n",
    "print(y_Us)\n",
    "print(x_Us)\n",
    "print(t)"
   ]
  },
  {
   "cell_type": "code",
   "execution_count": 24,
   "metadata": {},
   "outputs": [
    {
     "name": "stdout",
     "output_type": "stream",
     "text": [
      "[24.973822 25.916231 26.858639 27.801046 28.743456 29.685863 30.628273\n",
      " 31.57068  32.51309  33.455498 34.397907 35.340313 36.282722 37.225132\n",
      " 38.167538 39.109947 40.052357 40.994766 41.937172 42.87958  43.82199\n",
      " 44.764397 45.706806 46.649216 47.59162  48.53403  49.47644  50.41885\n",
      " 51.361256 52.303665 53.246075 54.18848 ]\n"
     ]
    }
   ],
   "source": [
    "lats_Us = lats[latli:latui]\n",
    "print(lats_Us)"
   ]
  },
  {
   "cell_type": "code",
   "execution_count": 25,
   "metadata": {},
   "outputs": [
    {
     "name": "stdout",
     "output_type": "stream",
     "text": [
      "[230.   231.25 232.5  233.75 235.   236.25 237.5  238.75 240.   241.25\n",
      " 242.5  243.75 245.   246.25 247.5  248.75 250.   251.25 252.5  253.75\n",
      " 255.   256.25 257.5  258.75 260.   261.25 262.5  263.75 265.   266.25\n",
      " 267.5  268.75 270.   271.25 272.5  273.75 275.   276.25 277.5  278.75\n",
      " 280.   281.25 282.5  283.75 285.   286.25 287.5  288.75 290.   291.25\n",
      " 292.5  293.75 295.   296.25 297.5  298.75]\n"
     ]
    }
   ],
   "source": [
    "lons_Us = lons[lonli:lonui]\n",
    "print(lons_Us)"
   ]
  },
  {
   "cell_type": "code",
   "execution_count": null,
   "metadata": {},
   "outputs": [],
   "source": []
  },
  {
   "cell_type": "code",
   "execution_count": null,
   "metadata": {},
   "outputs": [],
   "source": []
  },
  {
   "cell_type": "markdown",
   "metadata": {},
   "source": [
    "## Using data from Ensemble Members"
   ]
  },
  {
   "cell_type": "markdown",
   "metadata": {},
   "source": [
    "### Lat Lon info from CESM2"
   ]
  },
  {
   "cell_type": "code",
   "execution_count": 26,
   "metadata": {},
   "outputs": [
    {
     "name": "stdout",
     "output_type": "stream",
     "text": [
      "(32,)\n",
      "[24.973822 25.916231 26.858639 27.801046 28.743456 29.685863 30.628273\n",
      " 31.57068  32.51309  33.455498 34.397907 35.340313 36.282722 37.225132\n",
      " 38.167538 39.109947 40.052357 40.994766 41.937172 42.87958  43.82199\n",
      " 44.764397 45.706806 46.649216 47.59162  48.53403  49.47644  50.41885\n",
      " 51.361256 52.303665 53.246075 54.18848 ]\n"
     ]
    }
   ],
   "source": [
    "file_LatUs = 'C:/rezaul/1.academic/1.research/2.project/mrb/dt/cesm/cesm2LE/param/CESM2_FLOOD/sm/latsUsArr.npy'\n",
    "latUs_cesm2 = np.load(file_LatUs)\n",
    "print(latUs_cesm2.shape)\n",
    "print(latUs_cesm2)"
   ]
  },
  {
   "cell_type": "code",
   "execution_count": 27,
   "metadata": {},
   "outputs": [
    {
     "name": "stdout",
     "output_type": "stream",
     "text": [
      "(56,)\n",
      "[230.   231.25 232.5  233.75 235.   236.25 237.5  238.75 240.   241.25\n",
      " 242.5  243.75 245.   246.25 247.5  248.75 250.   251.25 252.5  253.75\n",
      " 255.   256.25 257.5  258.75 260.   261.25 262.5  263.75 265.   266.25\n",
      " 267.5  268.75 270.   271.25 272.5  273.75 275.   276.25 277.5  278.75\n",
      " 280.   281.25 282.5  283.75 285.   286.25 287.5  288.75 290.   291.25\n",
      " 292.5  293.75 295.   296.25 297.5  298.75]\n"
     ]
    }
   ],
   "source": [
    "file_LonUs = 'C:/rezaul/1.academic/1.research/2.project/mrb/dt/cesm/cesm2LE/param/CESM2_FLOOD/sm/lonsUsArr.npy'\n",
    "lonUs_cesm2 = np.load(file_LonUs)\n",
    "print(lonUs_cesm2.shape)\n",
    "print(lonUs_cesm2)"
   ]
  },
  {
   "cell_type": "code",
   "execution_count": null,
   "metadata": {},
   "outputs": [],
   "source": []
  },
  {
   "cell_type": "markdown",
   "metadata": {},
   "source": [
    "### Hist Sel (1930-2014)"
   ]
  },
  {
   "cell_type": "code",
   "execution_count": 28,
   "metadata": {},
   "outputs": [
    {
     "name": "stdout",
     "output_type": "stream",
     "text": [
      "(1980, 32, 56, 50)\n"
     ]
    },
    {
     "data": {
      "text/plain": [
       "9.999999616903162e+35"
      ]
     },
     "execution_count": 28,
     "metadata": {},
     "output_type": "execute_result"
    }
   ],
   "source": [
    "file_hist_ensMems = 'C:/rezaul/1.academic/1.research/2.project/mrb/dt/cesm/cesm2LE/param/runoff/mon/monRunoffUsHistEnsMems.npy'\n",
    "file_hist_ensMems_loaded = np.load(file_hist_ensMems)\n",
    "print(file_hist_ensMems_loaded.shape)\n",
    "maxVal = np.nanmax(file_hist_ensMems_loaded)\n",
    "maxVal"
   ]
  },
  {
   "cell_type": "markdown",
   "metadata": {},
   "source": [
    "## Historical years and 3 time periods (i.e., Era) in Scenario years"
   ]
  },
  {
   "cell_type": "code",
   "execution_count": 29,
   "metadata": {},
   "outputs": [
    {
     "name": "stdout",
     "output_type": "stream",
     "text": [
      "12\n"
     ]
    }
   ],
   "source": [
    "nMonsPerYr = 12     \n",
    "print(nMonsPerYr)"
   ]
  },
  {
   "cell_type": "code",
   "execution_count": 30,
   "metadata": {},
   "outputs": [],
   "source": [
    "histYrSt = 1850\n",
    "histYrSelSt = 1930\n",
    "\n",
    "refPeriodYrSt = 1971\n",
    "refPeriodYrEnd = 2000\n",
    "\n",
    "scenYrSt = 2015\n",
    "scenEraTwoYrSt = 2045\n",
    "scenEraThreeYrSt = 2075\n",
    "\n",
    "scenYrEnd = 2100\n",
    "#"
   ]
  },
  {
   "cell_type": "code",
   "execution_count": 31,
   "metadata": {},
   "outputs": [
    {
     "name": "stdout",
     "output_type": "stream",
     "text": [
      "960\n"
     ]
    }
   ],
   "source": [
    "refPeriodStepSt = (histYrSelSt - histYrSt)*nMonsPerYr\n",
    "print(refPeriodStepSt)"
   ]
  },
  {
   "cell_type": "code",
   "execution_count": 32,
   "metadata": {},
   "outputs": [
    {
     "name": "stdout",
     "output_type": "stream",
     "text": [
      "(1020, 32, 56, 50)\n"
     ]
    }
   ],
   "source": [
    "file_histSel_ensMems_loaded = file_hist_ensMems_loaded[refPeriodStepSt::, :, :, :]\n",
    "print(file_histSel_ensMems_loaded.shape)"
   ]
  },
  {
   "cell_type": "code",
   "execution_count": null,
   "metadata": {},
   "outputs": [],
   "source": []
  },
  {
   "cell_type": "code",
   "execution_count": null,
   "metadata": {},
   "outputs": [],
   "source": []
  },
  {
   "cell_type": "markdown",
   "metadata": {},
   "source": [
    "### Scen"
   ]
  },
  {
   "cell_type": "code",
   "execution_count": 33,
   "metadata": {},
   "outputs": [
    {
     "name": "stdout",
     "output_type": "stream",
     "text": [
      "(1032, 32, 56, 50)\n"
     ]
    },
    {
     "data": {
      "text/plain": [
       "9.999999616903162e+35"
      ]
     },
     "execution_count": 33,
     "metadata": {},
     "output_type": "execute_result"
    }
   ],
   "source": [
    "file_scen_ensMems = 'C:/rezaul/1.academic/1.research/2.project/mrb/dt/cesm/cesm2LE/param/runoff/mon/monRunoffUsScenEnsMems.npy'\n",
    "file_scen_ensMems_loaded = np.load(file_scen_ensMems)\n",
    "print(file_scen_ensMems_loaded.shape)\n",
    "maxVal = np.nanmax(file_scen_ensMems_loaded)\n",
    "maxVal"
   ]
  },
  {
   "cell_type": "code",
   "execution_count": null,
   "metadata": {},
   "outputs": [],
   "source": []
  },
  {
   "cell_type": "markdown",
   "metadata": {},
   "source": [
    "## Concatenate two data arrays"
   ]
  },
  {
   "cell_type": "code",
   "execution_count": 34,
   "metadata": {},
   "outputs": [
    {
     "name": "stdout",
     "output_type": "stream",
     "text": [
      "(1020, 32, 56, 50)\n",
      "(1032, 32, 56, 50)\n"
     ]
    }
   ],
   "source": [
    "print(file_histSel_ensMems_loaded.shape)\n",
    "print(file_scen_ensMems_loaded.shape)\n"
   ]
  },
  {
   "cell_type": "code",
   "execution_count": 35,
   "metadata": {},
   "outputs": [
    {
     "name": "stdout",
     "output_type": "stream",
     "text": [
      "(2052, 32, 56, 50)\n"
     ]
    }
   ],
   "source": [
    "param_histSel_scen_ensMems_Us = np.concatenate((file_histSel_ensMems_loaded, file_scen_ensMems_loaded), axis=0)\n",
    "print(param_histSel_scen_ensMems_Us.shape)"
   ]
  },
  {
   "cell_type": "code",
   "execution_count": null,
   "metadata": {},
   "outputs": [],
   "source": []
  },
  {
   "cell_type": "markdown",
   "metadata": {},
   "source": [
    "## Writing in an Xarray Data array"
   ]
  },
  {
   "cell_type": "code",
   "execution_count": 36,
   "metadata": {},
   "outputs": [
    {
     "name": "stdout",
     "output_type": "stream",
     "text": [
      "(2052, 32, 56, 50)\n"
     ]
    }
   ],
   "source": [
    "print(param_histSel_scen_ensMems_Us.shape)"
   ]
  },
  {
   "cell_type": "code",
   "execution_count": 37,
   "metadata": {},
   "outputs": [
    {
     "name": "stdout",
     "output_type": "stream",
     "text": [
      "2052\n",
      "32\n",
      "56\n",
      "50\n"
     ]
    }
   ],
   "source": [
    "t_histSel_scen, y_Us, x_Us, ens_size = param_histSel_scen_ensMems_Us.shape\n",
    "\n",
    "print(t_histSel_scen)\n",
    "print(y_Us)\n",
    "print(x_Us)\n",
    "print(ens_size)"
   ]
  },
  {
   "cell_type": "code",
   "execution_count": 38,
   "metadata": {},
   "outputs": [],
   "source": [
    "Month_steps = [x for x in range(t_histSel_scen)]\n",
    "#print(Month_steps)\n"
   ]
  },
  {
   "cell_type": "code",
   "execution_count": 39,
   "metadata": {},
   "outputs": [
    {
     "name": "stdout",
     "output_type": "stream",
     "text": [
      "[0, 1, 2, 3, 4, 5, 6, 7, 8, 9, 10, 11, 12, 13, 14, 15, 16, 17, 18, 19, 20, 21, 22, 23, 24, 25, 26, 27, 28, 29, 30, 31, 32, 33, 34, 35, 36, 37, 38, 39, 40, 41, 42, 43, 44, 45, 46, 47, 48, 49]\n"
     ]
    }
   ],
   "source": [
    "Ensembles = [x for x in range(ens_size)]\n",
    "print(Ensembles)"
   ]
  },
  {
   "cell_type": "code",
   "execution_count": null,
   "metadata": {},
   "outputs": [],
   "source": []
  },
  {
   "cell_type": "code",
   "execution_count": 40,
   "metadata": {},
   "outputs": [
    {
     "name": "stdout",
     "output_type": "stream",
     "text": [
      "(2052, 32, 56, 50)\n"
     ]
    }
   ],
   "source": [
    "param_histSel_scen_ensMems_Us_xarray = xr.DataArray(param_histSel_scen_ensMems_Us, coords=[Month_steps, latUs_cesm2, lonUs_cesm2, Ensembles], dims=[\"Month_steps\",\"Lat\",\"Lon\",\"Ensembles\"])\n",
    "print(param_histSel_scen_ensMems_Us_xarray.shape)\n",
    "#print(param_histSel_scen_ensMems_Us_xarray)"
   ]
  },
  {
   "cell_type": "code",
   "execution_count": null,
   "metadata": {},
   "outputs": [],
   "source": []
  },
  {
   "cell_type": "code",
   "execution_count": null,
   "metadata": {},
   "outputs": [],
   "source": []
  },
  {
   "cell_type": "markdown",
   "metadata": {},
   "source": [
    "## Masking files for the US Domain only"
   ]
  },
  {
   "cell_type": "markdown",
   "metadata": {},
   "source": [
    "## Mississippi"
   ]
  },
  {
   "cell_type": "code",
   "execution_count": 41,
   "metadata": {},
   "outputs": [
    {
     "name": "stdout",
     "output_type": "stream",
     "text": [
      "C:/rezaul/1.academic/1.research/2.project/mrb/dt/shapeFile/mask/mrb_us/mask_missiWri_us_CESM_longThree.nc\n"
     ]
    }
   ],
   "source": [
    "MaskFile_Missi_to_load = 'C:/rezaul/1.academic/1.research/2.project/mrb/dt/shapeFile/mask/mrb_us/mask_missiWri_us_CESM_longThree.nc'\n",
    "print(MaskFile_Missi_to_load)"
   ]
  },
  {
   "cell_type": "code",
   "execution_count": 42,
   "metadata": {},
   "outputs": [
    {
     "name": "stdout",
     "output_type": "stream",
     "text": [
      "<xarray.DataArray 'Mask' (Lat: 32, Lon: 56)>\n",
      "array([[0, 0, 0, ..., 0, 0, 0],\n",
      "       [0, 0, 0, ..., 0, 0, 0],\n",
      "       [0, 0, 0, ..., 0, 0, 0],\n",
      "       ...,\n",
      "       [0, 0, 0, ..., 0, 0, 0],\n",
      "       [0, 0, 0, ..., 0, 0, 0],\n",
      "       [0, 0, 0, ..., 0, 0, 0]])\n",
      "Coordinates:\n",
      "  * Lat      (Lat) float32 24.97 25.92 26.86 27.8 ... 51.36 52.3 53.25 54.19\n",
      "  * Lon      (Lon) float32 230.0 231.2 232.5 233.8 ... 295.0 296.2 297.5 298.8\n"
     ]
    }
   ],
   "source": [
    "MaskFile_Missi = xr.open_dataset(MaskFile_Missi_to_load)['Mask']\n",
    "print(MaskFile_Missi)"
   ]
  },
  {
   "cell_type": "code",
   "execution_count": 43,
   "metadata": {},
   "outputs": [
    {
     "name": "stdout",
     "output_type": "stream",
     "text": [
      "(2052, 32, 56, 50)\n"
     ]
    }
   ],
   "source": [
    "param_masked_Missi = param_histSel_scen_ensMems_Us_xarray.where(MaskFile_Missi>0)\n",
    "print(param_masked_Missi.shape)\n",
    "#print(param_masked_Missi)"
   ]
  },
  {
   "cell_type": "code",
   "execution_count": null,
   "metadata": {},
   "outputs": [],
   "source": []
  },
  {
   "cell_type": "markdown",
   "metadata": {},
   "source": [
    "## Missouri"
   ]
  },
  {
   "cell_type": "code",
   "execution_count": 44,
   "metadata": {},
   "outputs": [
    {
     "name": "stdout",
     "output_type": "stream",
     "text": [
      "C:/rezaul/1.academic/1.research/2.project/mrb/dt/shapeFile/mask/mrb_us/mask_missouri_us_CESM_longThree.nc\n"
     ]
    }
   ],
   "source": [
    "MaskFile_Missouri_to_load = 'C:/rezaul/1.academic/1.research/2.project/mrb/dt/shapeFile/mask/mrb_us/mask_missouri_us_CESM_longThree.nc'\n",
    "print(MaskFile_Missouri_to_load)"
   ]
  },
  {
   "cell_type": "code",
   "execution_count": 45,
   "metadata": {},
   "outputs": [
    {
     "name": "stdout",
     "output_type": "stream",
     "text": [
      "<xarray.DataArray 'Mask' (Lat: 32, Lon: 56)>\n",
      "array([[0, 0, 0, ..., 0, 0, 0],\n",
      "       [0, 0, 0, ..., 0, 0, 0],\n",
      "       [0, 0, 0, ..., 0, 0, 0],\n",
      "       ...,\n",
      "       [0, 0, 0, ..., 0, 0, 0],\n",
      "       [0, 0, 0, ..., 0, 0, 0],\n",
      "       [0, 0, 0, ..., 0, 0, 0]])\n",
      "Coordinates:\n",
      "  * Lat      (Lat) float32 24.97 25.92 26.86 27.8 ... 51.36 52.3 53.25 54.19\n",
      "  * Lon      (Lon) float32 230.0 231.2 232.5 233.8 ... 295.0 296.2 297.5 298.8\n"
     ]
    }
   ],
   "source": [
    "MaskFile_Missouri = xr.open_dataset(MaskFile_Missouri_to_load)['Mask']\n",
    "print(MaskFile_Missouri)"
   ]
  },
  {
   "cell_type": "code",
   "execution_count": 46,
   "metadata": {},
   "outputs": [
    {
     "name": "stdout",
     "output_type": "stream",
     "text": [
      "(2052, 32, 56, 50)\n"
     ]
    }
   ],
   "source": [
    "param_masked_Missouri = param_histSel_scen_ensMems_Us_xarray.where(MaskFile_Missouri>0)\n",
    "print(param_masked_Missouri.shape)\n",
    "#print(param_masked_Missouri)"
   ]
  },
  {
   "cell_type": "code",
   "execution_count": null,
   "metadata": {},
   "outputs": [],
   "source": []
  },
  {
   "cell_type": "markdown",
   "metadata": {},
   "source": [
    "## Arkansas"
   ]
  },
  {
   "cell_type": "code",
   "execution_count": 47,
   "metadata": {},
   "outputs": [
    {
     "name": "stdout",
     "output_type": "stream",
     "text": [
      "C:/rezaul/1.academic/1.research/2.project/mrb/dt/shapeFile/mask/mrb_us/mask_arkansas_us_CESM_longThree.nc\n"
     ]
    }
   ],
   "source": [
    "MaskFile_Arkansas_to_load = 'C:/rezaul/1.academic/1.research/2.project/mrb/dt/shapeFile/mask/mrb_us/mask_arkansas_us_CESM_longThree.nc'\n",
    "print(MaskFile_Arkansas_to_load)"
   ]
  },
  {
   "cell_type": "code",
   "execution_count": 48,
   "metadata": {},
   "outputs": [
    {
     "name": "stdout",
     "output_type": "stream",
     "text": [
      "<xarray.DataArray 'Mask' (Lat: 32, Lon: 56)>\n",
      "array([[0, 0, 0, ..., 0, 0, 0],\n",
      "       [0, 0, 0, ..., 0, 0, 0],\n",
      "       [0, 0, 0, ..., 0, 0, 0],\n",
      "       ...,\n",
      "       [0, 0, 0, ..., 0, 0, 0],\n",
      "       [0, 0, 0, ..., 0, 0, 0],\n",
      "       [0, 0, 0, ..., 0, 0, 0]])\n",
      "Coordinates:\n",
      "  * Lat      (Lat) float32 24.97 25.92 26.86 27.8 ... 51.36 52.3 53.25 54.19\n",
      "  * Lon      (Lon) float32 230.0 231.2 232.5 233.8 ... 295.0 296.2 297.5 298.8\n"
     ]
    }
   ],
   "source": [
    "MaskFile_Arkansas = xr.open_dataset(MaskFile_Arkansas_to_load)['Mask']\n",
    "print(MaskFile_Arkansas)"
   ]
  },
  {
   "cell_type": "code",
   "execution_count": 49,
   "metadata": {},
   "outputs": [
    {
     "name": "stdout",
     "output_type": "stream",
     "text": [
      "(2052, 32, 56, 50)\n"
     ]
    }
   ],
   "source": [
    "param_masked_Arkansas = param_histSel_scen_ensMems_Us_xarray.where(MaskFile_Arkansas>0)\n",
    "print(param_masked_Arkansas.shape)\n",
    "#print(param_masked_Arkansas)"
   ]
  },
  {
   "cell_type": "code",
   "execution_count": null,
   "metadata": {},
   "outputs": [],
   "source": []
  },
  {
   "cell_type": "markdown",
   "metadata": {},
   "source": [
    "## Ohio"
   ]
  },
  {
   "cell_type": "code",
   "execution_count": 50,
   "metadata": {},
   "outputs": [
    {
     "name": "stdout",
     "output_type": "stream",
     "text": [
      "C:/rezaul/1.academic/1.research/2.project/mrb/dt/shapeFile/mask/mrb_us/mask_ohio_us_CESM_longThree.nc\n"
     ]
    }
   ],
   "source": [
    "MaskFile_Ohio_to_load = 'C:/rezaul/1.academic/1.research/2.project/mrb/dt/shapeFile/mask/mrb_us/mask_ohio_us_CESM_longThree.nc'\n",
    "print(MaskFile_Ohio_to_load)"
   ]
  },
  {
   "cell_type": "code",
   "execution_count": 51,
   "metadata": {},
   "outputs": [
    {
     "name": "stdout",
     "output_type": "stream",
     "text": [
      "<xarray.DataArray 'Mask' (Lat: 32, Lon: 56)>\n",
      "array([[0, 0, 0, ..., 0, 0, 0],\n",
      "       [0, 0, 0, ..., 0, 0, 0],\n",
      "       [0, 0, 0, ..., 0, 0, 0],\n",
      "       ...,\n",
      "       [0, 0, 0, ..., 0, 0, 0],\n",
      "       [0, 0, 0, ..., 0, 0, 0],\n",
      "       [0, 0, 0, ..., 0, 0, 0]])\n",
      "Coordinates:\n",
      "  * Lat      (Lat) float32 24.97 25.92 26.86 27.8 ... 51.36 52.3 53.25 54.19\n",
      "  * Lon      (Lon) float32 230.0 231.2 232.5 233.8 ... 295.0 296.2 297.5 298.8\n"
     ]
    }
   ],
   "source": [
    "MaskFile_Ohio = xr.open_dataset(MaskFile_Ohio_to_load)['Mask']\n",
    "print(MaskFile_Ohio)"
   ]
  },
  {
   "cell_type": "code",
   "execution_count": 52,
   "metadata": {},
   "outputs": [
    {
     "name": "stdout",
     "output_type": "stream",
     "text": [
      "(2052, 32, 56, 50)\n"
     ]
    }
   ],
   "source": [
    "param_masked_Ohio = param_histSel_scen_ensMems_Us_xarray.where(MaskFile_Ohio>0)\n",
    "print(param_masked_Ohio.shape)\n",
    "#print(param_masked_Ohio)"
   ]
  },
  {
   "cell_type": "code",
   "execution_count": null,
   "metadata": {},
   "outputs": [],
   "source": []
  },
  {
   "cell_type": "code",
   "execution_count": null,
   "metadata": {},
   "outputs": [],
   "source": []
  },
  {
   "cell_type": "markdown",
   "metadata": {},
   "source": [
    "## Masking for Lower Mississippi Basin"
   ]
  },
  {
   "cell_type": "code",
   "execution_count": 53,
   "metadata": {},
   "outputs": [
    {
     "name": "stdout",
     "output_type": "stream",
     "text": [
      "(2052, 32, 56, 50)\n"
     ]
    }
   ],
   "source": [
    "print(param_histSel_scen_ensMems_Us_xarray.shape)"
   ]
  },
  {
   "cell_type": "code",
   "execution_count": 54,
   "metadata": {},
   "outputs": [
    {
     "name": "stdout",
     "output_type": "stream",
     "text": [
      "(2052, 7, 2, 50)\n"
     ]
    }
   ],
   "source": [
    "param_masked_lowMissi = param_histSel_scen_ensMems_Us_xarray.sel(Lat=slice(30.,37.), Lon = slice(268., 271.))\n",
    "print(param_masked_lowMissi.shape)"
   ]
  },
  {
   "cell_type": "code",
   "execution_count": 55,
   "metadata": {},
   "outputs": [
    {
     "name": "stdout",
     "output_type": "stream",
     "text": [
      "(2052, 7, 2)\n"
     ]
    }
   ],
   "source": [
    "param_masked_ensMean_lowMissi = np.nanmean(param_masked_lowMissi, axis = 3)\n",
    "print(param_masked_ensMean_lowMissi.shape)"
   ]
  },
  {
   "cell_type": "code",
   "execution_count": 56,
   "metadata": {},
   "outputs": [
    {
     "name": "stdout",
     "output_type": "stream",
     "text": [
      "(2052,)\n"
     ]
    }
   ],
   "source": [
    "param_masked_ensMean_basinAvg_lowMissi = np.nanmean(param_masked_ensMean_lowMissi, axis=(1,2))\n",
    "print(param_masked_ensMean_basinAvg_lowMissi.shape)"
   ]
  },
  {
   "cell_type": "code",
   "execution_count": null,
   "metadata": {},
   "outputs": [],
   "source": []
  },
  {
   "cell_type": "code",
   "execution_count": null,
   "metadata": {},
   "outputs": [],
   "source": []
  },
  {
   "cell_type": "markdown",
   "metadata": {},
   "source": [
    "## The masked rasters for different basins"
   ]
  },
  {
   "cell_type": "code",
   "execution_count": 57,
   "metadata": {},
   "outputs": [
    {
     "name": "stdout",
     "output_type": "stream",
     "text": [
      "(2052, 32, 56, 50)\n",
      "(2052, 32, 56, 50)\n",
      "(2052, 32, 56, 50)\n",
      "(2052, 32, 56, 50)\n",
      "\n",
      "(2052, 7, 2, 50)\n"
     ]
    }
   ],
   "source": [
    "print(param_masked_Missi.shape)\n",
    "print(param_masked_Missouri.shape)\n",
    "print(param_masked_Arkansas.shape)\n",
    "print(param_masked_Ohio.shape)\n",
    "print('')\n",
    "print(param_masked_lowMissi.shape)"
   ]
  },
  {
   "cell_type": "code",
   "execution_count": null,
   "metadata": {},
   "outputs": [],
   "source": []
  },
  {
   "cell_type": "markdown",
   "metadata": {},
   "source": [
    "## Time series for basin-average Param value: Monthly resolution"
   ]
  },
  {
   "cell_type": "code",
   "execution_count": 58,
   "metadata": {},
   "outputs": [
    {
     "name": "stdout",
     "output_type": "stream",
     "text": [
      "(2052, 50)\n"
     ]
    }
   ],
   "source": [
    "param_masked_ensMem_basinAvg_Missi = np.nanmean(param_masked_Missi, axis=(1,2))\n",
    "print(param_masked_ensMem_basinAvg_Missi.shape)"
   ]
  },
  {
   "cell_type": "code",
   "execution_count": 59,
   "metadata": {},
   "outputs": [
    {
     "name": "stdout",
     "output_type": "stream",
     "text": [
      "(2052, 50)\n"
     ]
    }
   ],
   "source": [
    "param_masked_ensMem_basinAvg_Missouri = np.nanmean(param_masked_Missouri, axis=(1,2))\n",
    "print(param_masked_ensMem_basinAvg_Missouri.shape)"
   ]
  },
  {
   "cell_type": "code",
   "execution_count": 60,
   "metadata": {},
   "outputs": [
    {
     "name": "stdout",
     "output_type": "stream",
     "text": [
      "(2052, 50)\n"
     ]
    }
   ],
   "source": [
    "param_masked_ensMem_basinAvg_Arkansas = np.nanmean(param_masked_Arkansas, axis=(1,2))\n",
    "print(param_masked_ensMem_basinAvg_Arkansas.shape)"
   ]
  },
  {
   "cell_type": "code",
   "execution_count": 61,
   "metadata": {},
   "outputs": [
    {
     "name": "stdout",
     "output_type": "stream",
     "text": [
      "(2052, 50)\n"
     ]
    }
   ],
   "source": [
    "param_masked_ensMem_basinAvg_Ohio = np.nanmean(param_masked_Ohio, axis=(1,2))\n",
    "print(param_masked_ensMem_basinAvg_Ohio.shape)"
   ]
  },
  {
   "cell_type": "code",
   "execution_count": 62,
   "metadata": {},
   "outputs": [
    {
     "name": "stdout",
     "output_type": "stream",
     "text": [
      "(2052, 50)\n"
     ]
    }
   ],
   "source": [
    "param_masked_ensMem_basinAvg_lowMissi = np.nanmean(param_masked_lowMissi, axis=(1,2))\n",
    "print(param_masked_ensMem_basinAvg_lowMissi.shape)"
   ]
  },
  {
   "cell_type": "code",
   "execution_count": null,
   "metadata": {},
   "outputs": [],
   "source": []
  },
  {
   "cell_type": "markdown",
   "metadata": {},
   "source": [
    "## Ensemble Mean"
   ]
  },
  {
   "cell_type": "code",
   "execution_count": 63,
   "metadata": {},
   "outputs": [
    {
     "name": "stdout",
     "output_type": "stream",
     "text": [
      "(2052,)\n",
      "[ 7.63076553  9.33811523 14.20124111 ...  5.57646339  8.01606262\n",
      "  8.94030983]\n"
     ]
    }
   ],
   "source": [
    "param_masked_ensMean_basinAvg_Missi = np.nanmean(param_masked_ensMem_basinAvg_Missi, axis =1)\n",
    "print(param_masked_ensMean_basinAvg_Missi.shape)\n",
    "print(param_masked_ensMean_basinAvg_Missi)\n"
   ]
  },
  {
   "cell_type": "code",
   "execution_count": 64,
   "metadata": {},
   "outputs": [
    {
     "name": "stdout",
     "output_type": "stream",
     "text": [
      "(2052,)\n",
      "[ 2.21496108  4.45056714 10.29316906 ...  3.16619136  3.58546779\n",
      "  3.23218811]\n"
     ]
    }
   ],
   "source": [
    "param_masked_ensMean_basinAvg_Missouri = np.nanmean(param_masked_ensMem_basinAvg_Missouri, axis =1)\n",
    "print(param_masked_ensMean_basinAvg_Missouri.shape)\n",
    "print(param_masked_ensMean_basinAvg_Missouri)\n"
   ]
  },
  {
   "cell_type": "code",
   "execution_count": 65,
   "metadata": {},
   "outputs": [
    {
     "name": "stdout",
     "output_type": "stream",
     "text": [
      "(2052,)\n",
      "[5.25676636 6.69210952 6.73412017 ... 4.4610692  5.37031015 5.52531739]\n"
     ]
    }
   ],
   "source": [
    "param_masked_ensMean_basinAvg_Arkansas = np.nanmean(param_masked_ensMem_basinAvg_Arkansas, axis =1)\n",
    "print(param_masked_ensMean_basinAvg_Arkansas.shape)\n",
    "print(param_masked_ensMean_basinAvg_Arkansas)\n"
   ]
  },
  {
   "cell_type": "code",
   "execution_count": 66,
   "metadata": {},
   "outputs": [
    {
     "name": "stdout",
     "output_type": "stream",
     "text": [
      "(2052,)\n",
      "[29.64321106 30.85696291 37.86150415 ... 15.00457112 26.75147055\n",
      " 32.98715353]\n"
     ]
    }
   ],
   "source": [
    "param_masked_ensMean_basinAvg_Ohio = np.nanmean(param_masked_ensMem_basinAvg_Ohio, axis =1)\n",
    "print(param_masked_ensMean_basinAvg_Ohio.shape)\n",
    "print(param_masked_ensMean_basinAvg_Ohio)\n"
   ]
  },
  {
   "cell_type": "code",
   "execution_count": 67,
   "metadata": {},
   "outputs": [
    {
     "name": "stdout",
     "output_type": "stream",
     "text": [
      "(2052,)\n",
      "[ 9.29547928 10.11499776 11.50396088 ...  6.16939378  9.21646394\n",
      " 10.86448092]\n"
     ]
    }
   ],
   "source": [
    "param_masked_ensMean_basinAvg_lowMissi = np.nanmean(param_masked_ensMem_basinAvg_lowMissi, axis =1)\n",
    "print(param_masked_ensMean_basinAvg_lowMissi.shape)\n",
    "print(param_masked_ensMean_basinAvg_lowMissi)\n"
   ]
  },
  {
   "cell_type": "code",
   "execution_count": null,
   "metadata": {},
   "outputs": [],
   "source": []
  },
  {
   "cell_type": "code",
   "execution_count": null,
   "metadata": {},
   "outputs": [],
   "source": []
  },
  {
   "cell_type": "code",
   "execution_count": 68,
   "metadata": {},
   "outputs": [
    {
     "name": "stdout",
     "output_type": "stream",
     "text": [
      "2052\n",
      "50\n"
     ]
    }
   ],
   "source": [
    "t_histSel_scen,ens_size = param_masked_ensMem_basinAvg_Missi.shape\n",
    "print(t_histSel_scen)\n",
    "print(ens_size)"
   ]
  },
  {
   "cell_type": "code",
   "execution_count": 69,
   "metadata": {},
   "outputs": [],
   "source": [
    "Month_steps = [x for x in range(t_histSel_scen)]"
   ]
  },
  {
   "cell_type": "code",
   "execution_count": null,
   "metadata": {},
   "outputs": [],
   "source": []
  },
  {
   "cell_type": "code",
   "execution_count": null,
   "metadata": {},
   "outputs": [],
   "source": []
  },
  {
   "cell_type": "markdown",
   "metadata": {},
   "source": [
    "## For Seasonal Values"
   ]
  },
  {
   "cell_type": "code",
   "execution_count": 70,
   "metadata": {},
   "outputs": [],
   "source": [
    "def Season(value):\n",
    "    if value <= 2:\n",
    "        return \"Winter\"\n",
    "    if 3 <= value <= 5:\n",
    "        return \"Spring\"\n",
    "    elif 6 <= value <= 8:\n",
    "        return \"Summer\"\n",
    "    elif 9 <= value <= 11:\n",
    "        return \"Fall\"\n",
    "    elif value == 12:\n",
    "        return \"Winter\""
   ]
  },
  {
   "cell_type": "code",
   "execution_count": 71,
   "metadata": {},
   "outputs": [
    {
     "name": "stdout",
     "output_type": "stream",
     "text": [
      "['1930-01', '1930-02', '1930-03'] 2100-12\n"
     ]
    }
   ],
   "source": [
    "dates_histSelScen = xr.cftime_range(start='193001',freq='1M', periods=2052, calendar='noleap').strftime('%Y-%m').to_list()\n",
    "print(dates_histSelScen[:3], dates_histSelScen[-1])\n"
   ]
  },
  {
   "cell_type": "code",
   "execution_count": null,
   "metadata": {},
   "outputs": [],
   "source": []
  },
  {
   "cell_type": "code",
   "execution_count": null,
   "metadata": {},
   "outputs": [],
   "source": []
  },
  {
   "cell_type": "markdown",
   "metadata": {},
   "source": [
    "# Missouri basin"
   ]
  },
  {
   "cell_type": "code",
   "execution_count": 72,
   "metadata": {},
   "outputs": [
    {
     "name": "stdout",
     "output_type": "stream",
     "text": [
      "(2052,)\n"
     ]
    }
   ],
   "source": [
    "print(param_masked_ensMean_basinAvg_Missouri.shape)"
   ]
  },
  {
   "cell_type": "code",
   "execution_count": 73,
   "metadata": {},
   "outputs": [
    {
     "name": "stdout",
     "output_type": "stream",
     "text": [
      "(2052,)\n",
      "<xarray.DataArray (Month_steps: 2052)>\n",
      "array([ 2.21496108,  4.45056714, 10.29316906, ...,  3.16619136,\n",
      "        3.58546779,  3.23218811])\n",
      "Coordinates:\n",
      "  * Month_steps  (Month_steps) int32 0 1 2 3 4 5 ... 2047 2048 2049 2050 2051\n",
      "(2052,)\n",
      "<xarray.DataArray (Month_steps: 3)>\n",
      "array([ 2.21496108,  4.45056714, 10.29316906])\n",
      "Coordinates:\n",
      "  * Month_steps  (Month_steps) datetime64[ns] 1930-01-01 1930-02-01 1930-03-01\n",
      "(2052, 2)\n",
      "  Month_steps     Runoff\n",
      "0  1930-01-01   2.214961\n",
      "1  1930-02-01   4.450567\n",
      "2  1930-03-01  10.293169\n",
      "(2052, 3)\n",
      "   Month_steps     Runoff  Season_year\n",
      "0   1930-01-01   2.214961         1930\n",
      "1   1930-02-01   4.450567         1930\n",
      "2   1930-03-01  10.293169         1930\n",
      "3   1930-04-01  10.772664         1930\n",
      "4   1930-05-01   6.427795         1930\n",
      "5   1930-06-01   6.805761         1930\n",
      "6   1930-07-01   4.026923         1930\n",
      "7   1930-08-01   3.027726         1930\n",
      "8   1930-09-01   2.999195         1930\n",
      "9   1930-10-01   3.260929         1930\n",
      "10  1930-11-01   3.068931         1930\n",
      "11  1930-12-01   2.396034         1931\n",
      "12  1931-01-01   2.150491         1931\n",
      "13  1931-02-01   4.240580         1931\n",
      "14  1931-03-01  10.090057         1931\n",
      "(2052, 4)\n",
      "   Month_steps     Runoff  Season_year  Season_mon\n",
      "0   1930-01-01   2.214961         1930           1\n",
      "1   1930-02-01   4.450567         1930           2\n",
      "2   1930-03-01  10.293169         1930           3\n",
      "3   1930-04-01  10.772664         1930           4\n",
      "4   1930-05-01   6.427795         1930           5\n",
      "5   1930-06-01   6.805761         1930           6\n",
      "6   1930-07-01   4.026923         1930           7\n",
      "7   1930-08-01   3.027726         1930           8\n",
      "8   1930-09-01   2.999195         1930           9\n",
      "9   1930-10-01   3.260929         1930          10\n",
      "10  1930-11-01   3.068931         1930          11\n",
      "11  1930-12-01   2.396034         1931          12\n",
      "12  1931-01-01   2.150491         1931           1\n",
      "13  1931-02-01   4.240580         1931           2\n",
      "14  1931-03-01  10.090057         1931           3\n",
      "(2052, 5)\n",
      "   Month_steps     Runoff  Season_year  Season_mon  Season\n",
      "0   1930-01-01   2.214961         1930           1  Winter\n",
      "1   1930-02-01   4.450567         1930           2  Winter\n",
      "2   1930-03-01  10.293169         1930           3  Spring\n",
      "3   1930-04-01  10.772664         1930           4  Spring\n",
      "4   1930-05-01   6.427795         1930           5  Spring\n",
      "5   1930-06-01   6.805761         1930           6  Summer\n",
      "6   1930-07-01   4.026923         1930           7  Summer\n",
      "7   1930-08-01   3.027726         1930           8  Summer\n",
      "8   1930-09-01   2.999195         1930           9    Fall\n",
      "9   1930-10-01   3.260929         1930          10    Fall\n",
      "10  1930-11-01   3.068931         1930          11    Fall\n",
      "11  1930-12-01   2.396034         1931          12  Winter\n",
      "12  1931-01-01   2.150491         1931           1  Winter\n",
      "13  1931-02-01   4.240580         1931           2  Winter\n",
      "14  1931-03-01  10.090057         1931           3  Spring\n",
      "(172, 2)\n",
      "               Runoff  Season_mon\n",
      "Season_year                      \n",
      "1930         3.332764         1.5\n",
      "1931         2.929035         5.0\n",
      "1932         2.989835         5.0\n",
      "1933         2.995648         5.0\n",
      "1934         3.033760         5.0\n",
      "...               ...         ...\n",
      "2097         3.988142         5.0\n",
      "2098         3.715861         5.0\n",
      "2099         3.923401         5.0\n",
      "2100         3.839187         5.0\n",
      "2101         3.232188        12.0\n",
      "\n",
      "[172 rows x 2 columns]\n",
      "(171, 2)\n",
      "               Runoff  Season_mon\n",
      "Season_year                      \n",
      "2096         3.922176         5.0\n",
      "2097         3.988142         5.0\n",
      "2098         3.715861         5.0\n",
      "2099         3.923401         5.0\n",
      "2100         3.839187         5.0\n",
      "(171, 2)\n",
      "               Runoff  Season_mon\n",
      "Season_year                      \n",
      "1930         9.164543           4\n",
      "1931         8.988905           4\n",
      "1932         8.798246           4\n",
      "1933         8.828957           4\n",
      "1934         8.774091           4\n",
      "...               ...         ...\n",
      "2096         6.250274           4\n",
      "2097         6.383315           4\n",
      "2098         6.312420           4\n",
      "2099         6.423674           4\n",
      "2100         6.427643           4\n",
      "\n",
      "[171 rows x 2 columns]\n",
      "(171, 2)\n",
      "               Runoff  Season_mon\n",
      "Season_year                      \n",
      "1930         4.620137           7\n",
      "1931         4.394412           7\n",
      "1932         4.479100           7\n",
      "1933         4.339239           7\n",
      "1934         4.541821           7\n",
      "...               ...         ...\n",
      "2096         4.205177           7\n",
      "2097         4.098628           7\n",
      "2098         4.075544           7\n",
      "2099         3.918329           7\n",
      "2100         4.336052           7\n",
      "\n",
      "[171 rows x 2 columns]\n",
      "(171, 2)\n",
      "               Runoff  Season_mon\n",
      "Season_year                      \n",
      "1930         3.109685          10\n",
      "1931         3.203764          10\n",
      "1932         3.175076          10\n",
      "1933         3.179249          10\n",
      "1934         3.221944          10\n",
      "...               ...         ...\n",
      "2096         3.366455          10\n",
      "2097         3.437073          10\n",
      "2098         3.277320          10\n",
      "2099         3.308986          10\n",
      "2100         3.322383          10\n",
      "\n",
      "[171 rows x 2 columns]\n",
      "(171,)\n",
      "Season_year\n",
      "1930    3.332764\n",
      "1931    2.929035\n",
      "1932    2.989835\n",
      "1933    2.995648\n",
      "1934    3.033760\n",
      "          ...   \n",
      "2096    3.922176\n",
      "2097    3.988142\n",
      "2098    3.715861\n",
      "2099    3.923401\n",
      "2100    3.839187\n",
      "Name: Runoff, Length: 171, dtype: float64\n",
      "(171,)\n",
      "Season_year\n",
      "1930    9.164543\n",
      "1931    8.988905\n",
      "1932    8.798246\n",
      "1933    8.828957\n",
      "1934    8.774091\n",
      "          ...   \n",
      "2096    6.250274\n",
      "2097    6.383315\n",
      "2098    6.312420\n",
      "2099    6.423674\n",
      "2100    6.427643\n",
      "Name: Runoff, Length: 171, dtype: float64\n",
      "(171,)\n",
      "Season_year\n",
      "1930    4.620137\n",
      "1931    4.394412\n",
      "1932    4.479100\n",
      "1933    4.339239\n",
      "1934    4.541821\n",
      "          ...   \n",
      "2096    4.205177\n",
      "2097    4.098628\n",
      "2098    4.075544\n",
      "2099    3.918329\n",
      "2100    4.336052\n",
      "Name: Runoff, Length: 171, dtype: float64\n",
      "(171,)\n",
      "Season_year\n",
      "1930    3.109685\n",
      "1931    3.203764\n",
      "1932    3.175076\n",
      "1933    3.179249\n",
      "1934    3.221944\n",
      "          ...   \n",
      "2096    3.366455\n",
      "2097    3.437073\n",
      "2098    3.277320\n",
      "2099    3.308986\n",
      "2100    3.322383\n",
      "Name: Runoff, Length: 171, dtype: float64\n"
     ]
    }
   ],
   "source": [
    "\n",
    "param_masked_ensMean_basinAvg_Missouri_xarray = xr.DataArray(param_masked_ensMean_basinAvg_Missouri, coords=[Month_steps], dims=[\"Month_steps\"])\n",
    "print(param_masked_ensMean_basinAvg_Missouri_xarray.shape)\n",
    "print(param_masked_ensMean_basinAvg_Missouri_xarray)\n",
    "\n",
    "#df['Day_steps'] = dates_histSelScen\n",
    "param_masked_ensMean_basinAvg_Missouri_xarray['Month_steps'] = pd.to_datetime(dates_histSelScen)\n",
    "print(param_masked_ensMean_basinAvg_Missouri_xarray.shape)\n",
    "print(param_masked_ensMean_basinAvg_Missouri_xarray.head(3))\n",
    "\n",
    "#df = disch_histSel_Scen_ensMean_vicks_xarray.to_dataframe(name='Discharge').unstack().reset_index()\n",
    "df_param_Missouri = param_masked_ensMean_basinAvg_Missouri_xarray.to_dataframe(name='Runoff').reset_index()\n",
    "print(df_param_Missouri.shape)\n",
    "print(df_param_Missouri.head(3))\n",
    "\n",
    "df_param_Missouri['Season_year'] = df_param_Missouri.Month_steps.dt.year.where(df_param_Missouri.Month_steps.dt.month < 12, df_param_Missouri.Month_steps.dt.year + 1)\n",
    "print(df_param_Missouri.shape)\n",
    "print(df_param_Missouri.head(15))\n",
    "\n",
    "\n",
    "df_param_Missouri['Season_mon'] = df_param_Missouri.Month_steps.dt.month.where(df_param_Missouri.Month_steps.dt.month == 1, df_param_Missouri.Month_steps.dt.month)\n",
    "print(df_param_Missouri.shape)\n",
    "print(df_param_Missouri.head(15))\n",
    "\n",
    "\n",
    "df_param_Missouri['Season'] = df_param_Missouri['Season_mon'].map(Season)\n",
    "#display(df_param_Missouri.head())\n",
    "print(df_param_Missouri.shape)\n",
    "print(df_param_Missouri.head(15))\n",
    "\n",
    "df_param_winter_Missouri_withOneExtra = df_param_Missouri[df_param_Missouri[\"Season\"] == 'Winter'].groupby('Season_year').mean('Season_year')\n",
    "print(df_param_winter_Missouri_withOneExtra.shape)\n",
    "print(df_param_winter_Missouri_withOneExtra)\n",
    "\n",
    "## to Delete the last (unwanted) row\n",
    "df_param_winter_Missouri = df_param_winter_Missouri_withOneExtra.iloc[:-1 , :]\n",
    "print(df_param_winter_Missouri.shape)\n",
    "print(df_param_winter_Missouri.tail())\n",
    "\n",
    "df_param_spring_Missouri = df_param_Missouri[df_param_Missouri[\"Season\"] == 'Spring'].groupby('Season_year').mean('Season_year')\n",
    "print(df_param_spring_Missouri.shape)\n",
    "print(df_param_spring_Missouri)\n",
    "\n",
    "df_param_summer_Missouri = df_param_Missouri[df_param_Missouri[\"Season\"] == 'Summer'].groupby('Season_year').mean('Season_year')\n",
    "print(df_param_summer_Missouri.shape)\n",
    "print(df_param_summer_Missouri)\n",
    "\n",
    "df_param_fall_Missouri = df_param_Missouri[df_param_Missouri[\"Season\"] == 'Fall'].groupby('Season_year').mean('Season_year')\n",
    "print(df_param_fall_Missouri.shape)\n",
    "print(df_param_fall_Missouri)\n",
    "\n",
    "param_winter_Missouri = df_param_winter_Missouri['Runoff']\n",
    "print(param_winter_Missouri.shape)\n",
    "print(param_winter_Missouri)\n",
    "\n",
    "param_spring_Missouri = df_param_spring_Missouri['Runoff']\n",
    "print(param_spring_Missouri.shape)\n",
    "print(param_spring_Missouri)\n",
    "\n",
    "param_summer_Missouri = df_param_summer_Missouri['Runoff']\n",
    "print(param_summer_Missouri.shape)\n",
    "print(param_summer_Missouri)\n",
    "\n",
    "param_fall_Missouri = df_param_fall_Missouri['Runoff']\n",
    "print(param_fall_Missouri.shape)\n",
    "print(param_fall_Missouri)\n",
    "\n"
   ]
  },
  {
   "cell_type": "code",
   "execution_count": null,
   "metadata": {},
   "outputs": [],
   "source": []
  },
  {
   "cell_type": "markdown",
   "metadata": {},
   "source": [
    "## Arkansas basin"
   ]
  },
  {
   "cell_type": "code",
   "execution_count": 74,
   "metadata": {},
   "outputs": [
    {
     "name": "stdout",
     "output_type": "stream",
     "text": [
      "(2052,)\n"
     ]
    }
   ],
   "source": [
    "print(param_masked_ensMean_basinAvg_Arkansas.shape)"
   ]
  },
  {
   "cell_type": "code",
   "execution_count": 75,
   "metadata": {},
   "outputs": [
    {
     "name": "stdout",
     "output_type": "stream",
     "text": [
      "(2052,)\n",
      "<xarray.DataArray (Month_steps: 2052)>\n",
      "array([5.25676636, 6.69210952, 6.73412017, ..., 4.4610692 , 5.37031015,\n",
      "       5.52531739])\n",
      "Coordinates:\n",
      "  * Month_steps  (Month_steps) int32 0 1 2 3 4 5 ... 2047 2048 2049 2050 2051\n",
      "(2052,)\n",
      "<xarray.DataArray (Month_steps: 3)>\n",
      "array([5.25676636, 6.69210952, 6.73412017])\n",
      "Coordinates:\n",
      "  * Month_steps  (Month_steps) datetime64[ns] 1930-01-01 1930-02-01 1930-03-01\n",
      "(2052, 2)\n",
      "  Month_steps    Runoff\n",
      "0  1930-01-01  5.256766\n",
      "1  1930-02-01  6.692110\n",
      "2  1930-03-01  6.734120\n",
      "(2052, 3)\n",
      "   Month_steps    Runoff  Season_year\n",
      "0   1930-01-01  5.256766         1930\n",
      "1   1930-02-01  6.692110         1930\n",
      "2   1930-03-01  6.734120         1930\n",
      "3   1930-04-01  8.271155         1930\n",
      "4   1930-05-01  8.976835         1930\n",
      "5   1930-06-01  6.778337         1930\n",
      "6   1930-07-01  3.308205         1930\n",
      "7   1930-08-01  3.252657         1930\n",
      "8   1930-09-01  5.120562         1930\n",
      "9   1930-10-01  4.390906         1930\n",
      "10  1930-11-01  5.263279         1930\n",
      "11  1930-12-01  4.945267         1931\n",
      "12  1931-01-01  4.566920         1931\n",
      "13  1931-02-01  6.078228         1931\n",
      "14  1931-03-01  6.958005         1931\n",
      "(2052, 4)\n",
      "   Month_steps    Runoff  Season_year  Season_mon\n",
      "0   1930-01-01  5.256766         1930           1\n",
      "1   1930-02-01  6.692110         1930           2\n",
      "2   1930-03-01  6.734120         1930           3\n",
      "3   1930-04-01  8.271155         1930           4\n",
      "4   1930-05-01  8.976835         1930           5\n",
      "5   1930-06-01  6.778337         1930           6\n",
      "6   1930-07-01  3.308205         1930           7\n",
      "7   1930-08-01  3.252657         1930           8\n",
      "8   1930-09-01  5.120562         1930           9\n",
      "9   1930-10-01  4.390906         1930          10\n",
      "10  1930-11-01  5.263279         1930          11\n",
      "11  1930-12-01  4.945267         1931          12\n",
      "12  1931-01-01  4.566920         1931           1\n",
      "13  1931-02-01  6.078228         1931           2\n",
      "14  1931-03-01  6.958005         1931           3\n",
      "(2052, 5)\n",
      "   Month_steps    Runoff  Season_year  Season_mon  Season\n",
      "0   1930-01-01  5.256766         1930           1  Winter\n",
      "1   1930-02-01  6.692110         1930           2  Winter\n",
      "2   1930-03-01  6.734120         1930           3  Spring\n",
      "3   1930-04-01  8.271155         1930           4  Spring\n",
      "4   1930-05-01  8.976835         1930           5  Spring\n",
      "5   1930-06-01  6.778337         1930           6  Summer\n",
      "6   1930-07-01  3.308205         1930           7  Summer\n",
      "7   1930-08-01  3.252657         1930           8  Summer\n",
      "8   1930-09-01  5.120562         1930           9    Fall\n",
      "9   1930-10-01  4.390906         1930          10    Fall\n",
      "10  1930-11-01  5.263279         1930          11    Fall\n",
      "11  1930-12-01  4.945267         1931          12  Winter\n",
      "12  1931-01-01  4.566920         1931           1  Winter\n",
      "13  1931-02-01  6.078228         1931           2  Winter\n",
      "14  1931-03-01  6.958005         1931           3  Spring\n",
      "(172, 2)\n",
      "               Runoff  Season_mon\n",
      "Season_year                      \n",
      "1930         5.974438         1.5\n",
      "1931         5.196805         5.0\n",
      "1932         5.389786         5.0\n",
      "1933         5.489425         5.0\n",
      "1934         4.986346         5.0\n",
      "...               ...         ...\n",
      "2097         6.023304         5.0\n",
      "2098         5.217586         5.0\n",
      "2099         5.289221         5.0\n",
      "2100         5.321003         5.0\n",
      "2101         5.525317        12.0\n",
      "\n",
      "[172 rows x 2 columns]\n",
      "(171, 2)\n",
      "               Runoff  Season_mon\n",
      "Season_year                      \n",
      "2096         5.976732         5.0\n",
      "2097         6.023304         5.0\n",
      "2098         5.217586         5.0\n",
      "2099         5.289221         5.0\n",
      "2100         5.321003         5.0\n",
      "(171, 2)\n",
      "               Runoff  Season_mon\n",
      "Season_year                      \n",
      "1930         7.994037           4\n",
      "1931         7.862702           4\n",
      "1932         8.209438           4\n",
      "1933         8.199589           4\n",
      "1934         8.114184           4\n",
      "...               ...         ...\n",
      "2096         8.781481           4\n",
      "2097         8.551204           4\n",
      "2098         8.700970           4\n",
      "2099         8.046934           4\n",
      "2100         8.396132           4\n",
      "\n",
      "[171 rows x 2 columns]\n",
      "(171, 2)\n",
      "               Runoff  Season_mon\n",
      "Season_year                      \n",
      "1930         4.446400           7\n",
      "1931         4.730464           7\n",
      "1932         4.218242           7\n",
      "1933         4.468456           7\n",
      "1934         4.337722           7\n",
      "...               ...         ...\n",
      "2096         4.732113           7\n",
      "2097         4.705815           7\n",
      "2098         4.625363           7\n",
      "2099         4.616001           7\n",
      "2100         4.754760           7\n",
      "\n",
      "[171 rows x 2 columns]\n",
      "(171, 2)\n",
      "               Runoff  Season_mon\n",
      "Season_year                      \n",
      "1930         4.924916          10\n",
      "1931         5.670190          10\n",
      "1932         5.124789          10\n",
      "1933         5.726811          10\n",
      "1934         5.641014          10\n",
      "...               ...         ...\n",
      "2096         5.611465          10\n",
      "2097         5.321081          10\n",
      "2098         5.508203          10\n",
      "2099         5.560622          10\n",
      "2100         4.984978          10\n",
      "\n",
      "[171 rows x 2 columns]\n",
      "(171,)\n",
      "Season_year\n",
      "1930    5.974438\n",
      "1931    5.196805\n",
      "1932    5.389786\n",
      "1933    5.489425\n",
      "1934    4.986346\n",
      "          ...   \n",
      "2096    5.976732\n",
      "2097    6.023304\n",
      "2098    5.217586\n",
      "2099    5.289221\n",
      "2100    5.321003\n",
      "Name: Runoff, Length: 171, dtype: float64\n",
      "(171,)\n",
      "Season_year\n",
      "1930    7.994037\n",
      "1931    7.862702\n",
      "1932    8.209438\n",
      "1933    8.199589\n",
      "1934    8.114184\n",
      "          ...   \n",
      "2096    8.781481\n",
      "2097    8.551204\n",
      "2098    8.700970\n",
      "2099    8.046934\n",
      "2100    8.396132\n",
      "Name: Runoff, Length: 171, dtype: float64\n",
      "(171,)\n",
      "Season_year\n",
      "1930    4.446400\n",
      "1931    4.730464\n",
      "1932    4.218242\n",
      "1933    4.468456\n",
      "1934    4.337722\n",
      "          ...   \n",
      "2096    4.732113\n",
      "2097    4.705815\n",
      "2098    4.625363\n",
      "2099    4.616001\n",
      "2100    4.754760\n",
      "Name: Runoff, Length: 171, dtype: float64\n",
      "(171,)\n",
      "Season_year\n",
      "1930    4.924916\n",
      "1931    5.670190\n",
      "1932    5.124789\n",
      "1933    5.726811\n",
      "1934    5.641014\n",
      "          ...   \n",
      "2096    5.611465\n",
      "2097    5.321081\n",
      "2098    5.508203\n",
      "2099    5.560622\n",
      "2100    4.984978\n",
      "Name: Runoff, Length: 171, dtype: float64\n"
     ]
    }
   ],
   "source": [
    "param_masked_ensMean_basinAvg_Arkansas_xarray = xr.DataArray(param_masked_ensMean_basinAvg_Arkansas, coords=[Month_steps], dims=[\"Month_steps\"])\n",
    "print(param_masked_ensMean_basinAvg_Arkansas_xarray.shape)\n",
    "print(param_masked_ensMean_basinAvg_Arkansas_xarray)\n",
    "\n",
    "#df['Day_steps'] = dates_histSelScen\n",
    "param_masked_ensMean_basinAvg_Arkansas_xarray['Month_steps'] = pd.to_datetime(dates_histSelScen)\n",
    "print(param_masked_ensMean_basinAvg_Arkansas_xarray.shape)\n",
    "print(param_masked_ensMean_basinAvg_Arkansas_xarray.head(3))\n",
    "\n",
    "#df = disch_histSel_Scen_ensMean_vicks_xarray.to_dataframe(name='Discharge').unstack().reset_index()\n",
    "df_param_Arkansas = param_masked_ensMean_basinAvg_Arkansas_xarray.to_dataframe(name='Runoff').reset_index()\n",
    "print(df_param_Arkansas.shape)\n",
    "print(df_param_Arkansas.head(3))\n",
    "\n",
    "df_param_Arkansas['Season_year'] = df_param_Arkansas.Month_steps.dt.year.where(df_param_Arkansas.Month_steps.dt.month < 12, df_param_Arkansas.Month_steps.dt.year + 1)\n",
    "print(df_param_Arkansas.shape)\n",
    "print(df_param_Arkansas.head(15))\n",
    "\n",
    "\n",
    "\n",
    "df_param_Arkansas['Season_mon'] = df_param_Arkansas.Month_steps.dt.month.where(df_param_Arkansas.Month_steps.dt.month == 1, df_param_Arkansas.Month_steps.dt.month)\n",
    "print(df_param_Arkansas.shape)\n",
    "print(df_param_Arkansas.head(15))\n",
    "\n",
    "df_param_Arkansas['Season'] = df_param_Arkansas['Season_mon'].map(Season)\n",
    "#display(df_param_Arkansas.head())\n",
    "print(df_param_Arkansas.shape)\n",
    "print(df_param_Arkansas.head(15))\n",
    "\n",
    "df_param_winter_Arkansas_withOneExtra = df_param_Arkansas[df_param_Arkansas[\"Season\"] == 'Winter'].groupby('Season_year').mean('Season_year')\n",
    "print(df_param_winter_Arkansas_withOneExtra.shape)\n",
    "print(df_param_winter_Arkansas_withOneExtra)\n",
    "\n",
    "## to Delete the last (unwanted) row\n",
    "df_param_winter_Arkansas = df_param_winter_Arkansas_withOneExtra.iloc[:-1 , :]\n",
    "print(df_param_winter_Arkansas.shape)\n",
    "print(df_param_winter_Arkansas.tail())\n",
    "#+++++++++++++++++++++++++++++++++++++++++++++++++++++++++++++++++++++++++++++++++++++++++++++\n",
    "\n",
    "## Split into Seasons\n",
    "df_param_spring_Arkansas = df_param_Arkansas[df_param_Arkansas[\"Season\"] == 'Spring'].groupby('Season_year').mean('Season_year')\n",
    "print(df_param_spring_Arkansas.shape)\n",
    "print(df_param_spring_Arkansas)\n",
    "\n",
    "df_param_summer_Arkansas = df_param_Arkansas[df_param_Arkansas[\"Season\"] == 'Summer'].groupby('Season_year').mean('Season_year')\n",
    "print(df_param_summer_Arkansas.shape)\n",
    "print(df_param_summer_Arkansas)\n",
    "\n",
    "df_param_fall_Arkansas = df_param_Arkansas[df_param_Arkansas[\"Season\"] == 'Fall'].groupby('Season_year').mean('Season_year')\n",
    "print(df_param_fall_Arkansas.shape)\n",
    "print(df_param_fall_Arkansas)\n",
    "\n",
    "param_winter_Arkansas = df_param_winter_Arkansas['Runoff']\n",
    "print(param_winter_Arkansas.shape)\n",
    "print(param_winter_Arkansas)\n",
    "\n",
    "param_spring_Arkansas = df_param_spring_Arkansas['Runoff']\n",
    "print(param_spring_Arkansas.shape)\n",
    "print(param_spring_Arkansas)\n",
    "\n",
    "param_summer_Arkansas = df_param_summer_Arkansas['Runoff']\n",
    "print(param_summer_Arkansas.shape)\n",
    "print(param_summer_Arkansas)\n",
    "\n",
    "param_fall_Arkansas = df_param_fall_Arkansas['Runoff']\n",
    "print(param_fall_Arkansas.shape)\n",
    "print(param_fall_Arkansas)\n"
   ]
  },
  {
   "cell_type": "code",
   "execution_count": null,
   "metadata": {},
   "outputs": [],
   "source": []
  },
  {
   "cell_type": "markdown",
   "metadata": {},
   "source": [
    "# Ohio basin"
   ]
  },
  {
   "cell_type": "code",
   "execution_count": 76,
   "metadata": {},
   "outputs": [
    {
     "name": "stdout",
     "output_type": "stream",
     "text": [
      "(2052,)\n"
     ]
    }
   ],
   "source": [
    "print(param_masked_ensMean_basinAvg_Ohio.shape)"
   ]
  },
  {
   "cell_type": "code",
   "execution_count": 77,
   "metadata": {},
   "outputs": [
    {
     "name": "stdout",
     "output_type": "stream",
     "text": [
      "(2052,)\n",
      "<xarray.DataArray (Month_steps: 2052)>\n",
      "array([29.64321106, 30.85696291, 37.86150415, ..., 15.00457112,\n",
      "       26.75147055, 32.98715353])\n",
      "Coordinates:\n",
      "  * Month_steps  (Month_steps) int32 0 1 2 3 4 5 ... 2047 2048 2049 2050 2051\n",
      "(2052,)\n",
      "<xarray.DataArray (Month_steps: 3)>\n",
      "array([29.64321106, 30.85696291, 37.86150415])\n",
      "Coordinates:\n",
      "  * Month_steps  (Month_steps) datetime64[ns] 1930-01-01 1930-02-01 1930-03-01\n",
      "(2052, 2)\n",
      "  Month_steps     Runoff\n",
      "0  1930-01-01  29.643211\n",
      "1  1930-02-01  30.856963\n",
      "2  1930-03-01  37.861504\n",
      "(2052, 3)\n",
      "   Month_steps     Runoff  Season_year\n",
      "0   1930-01-01  29.643211         1930\n",
      "1   1930-02-01  30.856963         1930\n",
      "2   1930-03-01  37.861504         1930\n",
      "3   1930-04-01  31.357712         1930\n",
      "4   1930-05-01  24.724178         1930\n",
      "5   1930-06-01  23.387421         1930\n",
      "6   1930-07-01  17.037560         1930\n",
      "7   1930-08-01  16.110097         1930\n",
      "8   1930-09-01  15.935789         1930\n",
      "9   1930-10-01  15.442707         1930\n",
      "10  1930-11-01  21.301378         1930\n",
      "11  1930-12-01  27.127575         1931\n",
      "12  1931-01-01  27.469693         1931\n",
      "13  1931-02-01  32.115184         1931\n",
      "14  1931-03-01  42.100741         1931\n",
      "(2052, 4)\n",
      "   Month_steps     Runoff  Season_year  Season_mon\n",
      "0   1930-01-01  29.643211         1930           1\n",
      "1   1930-02-01  30.856963         1930           2\n",
      "2   1930-03-01  37.861504         1930           3\n",
      "3   1930-04-01  31.357712         1930           4\n",
      "4   1930-05-01  24.724178         1930           5\n",
      "5   1930-06-01  23.387421         1930           6\n",
      "6   1930-07-01  17.037560         1930           7\n",
      "7   1930-08-01  16.110097         1930           8\n",
      "8   1930-09-01  15.935789         1930           9\n",
      "9   1930-10-01  15.442707         1930          10\n",
      "10  1930-11-01  21.301378         1930          11\n",
      "11  1930-12-01  27.127575         1931          12\n",
      "12  1931-01-01  27.469693         1931           1\n",
      "13  1931-02-01  32.115184         1931           2\n",
      "14  1931-03-01  42.100741         1931           3\n",
      "(2052, 5)\n",
      "   Month_steps     Runoff  Season_year  Season_mon  Season\n",
      "0   1930-01-01  29.643211         1930           1  Winter\n",
      "1   1930-02-01  30.856963         1930           2  Winter\n",
      "2   1930-03-01  37.861504         1930           3  Spring\n",
      "3   1930-04-01  31.357712         1930           4  Spring\n",
      "4   1930-05-01  24.724178         1930           5  Spring\n",
      "5   1930-06-01  23.387421         1930           6  Summer\n",
      "6   1930-07-01  17.037560         1930           7  Summer\n",
      "7   1930-08-01  16.110097         1930           8  Summer\n",
      "8   1930-09-01  15.935789         1930           9    Fall\n",
      "9   1930-10-01  15.442707         1930          10    Fall\n",
      "10  1930-11-01  21.301378         1930          11    Fall\n",
      "11  1930-12-01  27.127575         1931          12  Winter\n",
      "12  1931-01-01  27.469693         1931           1  Winter\n",
      "13  1931-02-01  32.115184         1931           2  Winter\n",
      "14  1931-03-01  42.100741         1931           3  Spring\n",
      "(172, 2)\n",
      "                Runoff  Season_mon\n",
      "Season_year                       \n",
      "1930         30.250087         1.5\n",
      "1931         28.904151         5.0\n",
      "1932         28.855265         5.0\n",
      "1933         27.883500         5.0\n",
      "1934         29.293714         5.0\n",
      "...                ...         ...\n",
      "2097         35.678652         5.0\n",
      "2098         32.799399         5.0\n",
      "2099         32.014613         5.0\n",
      "2100         33.171692         5.0\n",
      "2101         32.987154        12.0\n",
      "\n",
      "[172 rows x 2 columns]\n",
      "(171, 2)\n",
      "                Runoff  Season_mon\n",
      "Season_year                       \n",
      "2096         34.243201         5.0\n",
      "2097         35.678652         5.0\n",
      "2098         32.799399         5.0\n",
      "2099         32.014613         5.0\n",
      "2100         33.171692         5.0\n",
      "(171, 2)\n",
      "               Runoff  Season_mon\n",
      "Season_year                      \n",
      "1930         9.164543           4\n",
      "1931         8.988905           4\n",
      "1932         8.798246           4\n",
      "1933         8.828957           4\n",
      "1934         8.774091           4\n",
      "...               ...         ...\n",
      "2096         6.250274           4\n",
      "2097         6.383315           4\n",
      "2098         6.312420           4\n",
      "2099         6.423674           4\n",
      "2100         6.427643           4\n",
      "\n",
      "[171 rows x 2 columns]\n",
      "(171, 2)\n",
      "               Runoff  Season_mon\n",
      "Season_year                      \n",
      "1930         4.620137           7\n",
      "1931         4.394412           7\n",
      "1932         4.479100           7\n",
      "1933         4.339239           7\n",
      "1934         4.541821           7\n",
      "...               ...         ...\n",
      "2096         4.205177           7\n",
      "2097         4.098628           7\n",
      "2098         4.075544           7\n",
      "2099         3.918329           7\n",
      "2100         4.336052           7\n",
      "\n",
      "[171 rows x 2 columns]\n",
      "(171, 2)\n",
      "                Runoff  Season_mon\n",
      "Season_year                       \n",
      "1930         17.559958          10\n",
      "1931         18.227881          10\n",
      "1932         17.056084          10\n",
      "1933         17.529417          10\n",
      "1934         16.948638          10\n",
      "...                ...         ...\n",
      "2096         19.269918          10\n",
      "2097         18.772760          10\n",
      "2098         18.373075          10\n",
      "2099         19.084801          10\n",
      "2100         19.034247          10\n",
      "\n",
      "[171 rows x 2 columns]\n",
      "(171,)\n",
      "Season_year\n",
      "1930    30.250087\n",
      "1931    28.904151\n",
      "1932    28.855265\n",
      "1933    27.883500\n",
      "1934    29.293714\n",
      "          ...    \n",
      "2096    34.243201\n",
      "2097    35.678652\n",
      "2098    32.799399\n",
      "2099    32.014613\n",
      "2100    33.171692\n",
      "Name: Runoff, Length: 171, dtype: float64\n",
      "(171,)\n",
      "Season_year\n",
      "1930    9.164543\n",
      "1931    8.988905\n",
      "1932    8.798246\n",
      "1933    8.828957\n",
      "1934    8.774091\n",
      "          ...   \n",
      "2096    6.250274\n",
      "2097    6.383315\n",
      "2098    6.312420\n",
      "2099    6.423674\n",
      "2100    6.427643\n",
      "Name: Runoff, Length: 171, dtype: float64\n",
      "(171,)\n",
      "Season_year\n",
      "1930    4.620137\n",
      "1931    4.394412\n",
      "1932    4.479100\n",
      "1933    4.339239\n",
      "1934    4.541821\n",
      "          ...   \n",
      "2096    4.205177\n",
      "2097    4.098628\n",
      "2098    4.075544\n",
      "2099    3.918329\n",
      "2100    4.336052\n",
      "Name: Runoff, Length: 171, dtype: float64\n",
      "(171,)\n",
      "Season_year\n",
      "1930    17.559958\n",
      "1931    18.227881\n",
      "1932    17.056084\n",
      "1933    17.529417\n",
      "1934    16.948638\n",
      "          ...    \n",
      "2096    19.269918\n",
      "2097    18.772760\n",
      "2098    18.373075\n",
      "2099    19.084801\n",
      "2100    19.034247\n",
      "Name: Runoff, Length: 171, dtype: float64\n"
     ]
    }
   ],
   "source": [
    "\n",
    "param_masked_ensMean_basinAvg_Ohio_xarray = xr.DataArray(param_masked_ensMean_basinAvg_Ohio, coords=[Month_steps], dims=[\"Month_steps\"])\n",
    "print(param_masked_ensMean_basinAvg_Ohio_xarray.shape)\n",
    "print(param_masked_ensMean_basinAvg_Ohio_xarray)\n",
    "\n",
    "#df['Day_steps'] = dates_histSelScen\n",
    "param_masked_ensMean_basinAvg_Ohio_xarray['Month_steps'] = pd.to_datetime(dates_histSelScen)\n",
    "print(param_masked_ensMean_basinAvg_Ohio_xarray.shape)\n",
    "print(param_masked_ensMean_basinAvg_Ohio_xarray.head(3))\n",
    "\n",
    "#df = disch_histSel_Scen_ensMean_vicks_xarray.to_dataframe(name='Discharge').unstack().reset_index()\n",
    "df_param_Ohio = param_masked_ensMean_basinAvg_Ohio_xarray.to_dataframe(name='Runoff').reset_index()\n",
    "print(df_param_Ohio.shape)\n",
    "print(df_param_Ohio.head(3))\n",
    "\n",
    "df_param_Ohio['Season_year'] = df_param_Ohio.Month_steps.dt.year.where(df_param_Ohio.Month_steps.dt.month < 12, df_param_Ohio.Month_steps.dt.year + 1)\n",
    "print(df_param_Ohio.shape)\n",
    "print(df_param_Ohio.head(15))\n",
    "#++++++++++++++++++++++++++++++++++++++++++++++++++++++++++++++++++++++++++++++++++++++++++\n",
    "\n",
    "\n",
    "df_param_Ohio['Season_mon'] = df_param_Ohio.Month_steps.dt.month.where(df_param_Ohio.Month_steps.dt.month == 1, df_param_Ohio.Month_steps.dt.month)\n",
    "print(df_param_Ohio.shape)\n",
    "print(df_param_Ohio.head(15))\n",
    "\n",
    "df_param_Ohio['Season'] = df_param_Ohio['Season_mon'].map(Season)\n",
    "#display(df_param_Ohio.head())\n",
    "print(df_param_Ohio.shape)\n",
    "print(df_param_Ohio.head(15))\n",
    "\n",
    "df_param_winter_Ohio_withOneExtra = df_param_Ohio[df_param_Ohio[\"Season\"] == 'Winter'].groupby('Season_year').mean('Season_year')\n",
    "print(df_param_winter_Ohio_withOneExtra.shape)\n",
    "print(df_param_winter_Ohio_withOneExtra)\n",
    "\n",
    "## to Delete the last (unwanted) row\n",
    "df_param_winter_Ohio = df_param_winter_Ohio_withOneExtra.iloc[:-1 , :]\n",
    "print(df_param_winter_Ohio.shape)\n",
    "print(df_param_winter_Ohio.tail())\n",
    "#+++++++++++++++++++++++++++++++++++++++++++++++++++++++++++++++++++++++++++++++++++++\n",
    "\n",
    "\n",
    "## Split into Seasons\n",
    "df_param_spring_Ohio = df_param_Missouri[df_param_Ohio[\"Season\"] == 'Spring'].groupby('Season_year').mean('Season_year')\n",
    "print(df_param_spring_Ohio.shape)\n",
    "print(df_param_spring_Ohio)\n",
    "\n",
    "df_param_summer_Ohio = df_param_Missouri[df_param_Ohio[\"Season\"] == 'Summer'].groupby('Season_year').mean('Season_year')\n",
    "print(df_param_summer_Ohio.shape)\n",
    "print(df_param_summer_Ohio)\n",
    "\n",
    "df_param_fall_Ohio = df_param_Ohio[df_param_Ohio[\"Season\"] == 'Fall'].groupby('Season_year').mean('Season_year')\n",
    "print(df_param_fall_Ohio.shape)\n",
    "print(df_param_fall_Ohio)\n",
    "\n",
    "param_winter_Ohio = df_param_winter_Ohio['Runoff']\n",
    "print(param_winter_Ohio.shape)\n",
    "print(param_winter_Ohio)\n",
    "\n",
    "param_spring_Ohio = df_param_spring_Ohio['Runoff']\n",
    "print(param_spring_Ohio.shape)\n",
    "print(param_spring_Ohio)\n",
    "\n",
    "param_summer_Ohio = df_param_summer_Ohio['Runoff']\n",
    "print(param_summer_Ohio.shape)\n",
    "print(param_summer_Ohio)\n",
    "\n",
    "param_fall_Ohio = df_param_fall_Ohio['Runoff']\n",
    "print(param_fall_Ohio.shape)\n",
    "print(param_fall_Ohio)\n",
    "#+++++++++++++++++++++++++++++++++++++++++++++++++++++++++++++++++++++++++++++++++++++\n"
   ]
  },
  {
   "cell_type": "code",
   "execution_count": null,
   "metadata": {},
   "outputs": [],
   "source": []
  },
  {
   "cell_type": "markdown",
   "metadata": {},
   "source": [
    "## Lower Mississippi basin"
   ]
  },
  {
   "cell_type": "code",
   "execution_count": 78,
   "metadata": {},
   "outputs": [
    {
     "name": "stdout",
     "output_type": "stream",
     "text": [
      "(2052,)\n"
     ]
    }
   ],
   "source": [
    "print(param_masked_ensMean_basinAvg_lowMissi.shape)"
   ]
  },
  {
   "cell_type": "code",
   "execution_count": 79,
   "metadata": {},
   "outputs": [
    {
     "name": "stdout",
     "output_type": "stream",
     "text": [
      "(2052,)\n",
      "<xarray.DataArray (Month_steps: 2052)>\n",
      "array([ 9.29547928, 10.11499776, 11.50396088, ...,  6.16939378,\n",
      "        9.21646394, 10.86448092])\n",
      "Coordinates:\n",
      "  * Month_steps  (Month_steps) int32 0 1 2 3 4 5 ... 2047 2048 2049 2050 2051\n",
      "(2052,)\n",
      "<xarray.DataArray (Month_steps: 3)>\n",
      "array([ 9.29547928, 10.11499776, 11.50396088])\n",
      "Coordinates:\n",
      "  * Month_steps  (Month_steps) datetime64[ns] 1930-01-01 1930-02-01 1930-03-01\n",
      "(2052, 2)\n",
      "  Month_steps     Runoff\n",
      "0  1930-01-01   9.295479\n",
      "1  1930-02-01  10.114998\n",
      "2  1930-03-01  11.503961\n",
      "(2052, 3)\n",
      "   Month_steps     Runoff  Season_year\n",
      "0   1930-01-01   9.295479         1930\n",
      "1   1930-02-01  10.114998         1930\n",
      "2   1930-03-01  11.503961         1930\n",
      "3   1930-04-01  12.492102         1930\n",
      "4   1930-05-01  10.715692         1930\n",
      "5   1930-06-01   8.845513         1930\n",
      "6   1930-07-01   6.376529         1930\n",
      "7   1930-08-01   5.235101         1930\n",
      "8   1930-09-01   6.147067         1930\n",
      "9   1930-10-01   6.056909         1930\n",
      "10  1930-11-01   7.992388         1930\n",
      "11  1930-12-01   9.892197         1931\n",
      "12  1931-01-01   8.807090         1931\n",
      "13  1931-02-01   9.738485         1931\n",
      "14  1931-03-01  12.674267         1931\n",
      "(2052, 4)\n",
      "   Month_steps     Runoff  Season_year  Season_mon\n",
      "0   1930-01-01   9.295479         1930           1\n",
      "1   1930-02-01  10.114998         1930           2\n",
      "2   1930-03-01  11.503961         1930           3\n",
      "3   1930-04-01  12.492102         1930           4\n",
      "4   1930-05-01  10.715692         1930           5\n",
      "5   1930-06-01   8.845513         1930           6\n",
      "6   1930-07-01   6.376529         1930           7\n",
      "7   1930-08-01   5.235101         1930           8\n",
      "8   1930-09-01   6.147067         1930           9\n",
      "9   1930-10-01   6.056909         1930          10\n",
      "10  1930-11-01   7.992388         1930          11\n",
      "11  1930-12-01   9.892197         1931          12\n",
      "12  1931-01-01   8.807090         1931           1\n",
      "13  1931-02-01   9.738485         1931           2\n",
      "14  1931-03-01  12.674267         1931           3\n",
      "(2052, 5)\n",
      "   Month_steps     Runoff  Season_year  Season_mon  Season\n",
      "0   1930-01-01   9.295479         1930           1  Winter\n",
      "1   1930-02-01  10.114998         1930           2  Winter\n",
      "2   1930-03-01  11.503961         1930           3  Spring\n",
      "3   1930-04-01  12.492102         1930           4  Spring\n",
      "4   1930-05-01  10.715692         1930           5  Spring\n",
      "5   1930-06-01   8.845513         1930           6  Summer\n",
      "6   1930-07-01   6.376529         1930           7  Summer\n",
      "7   1930-08-01   5.235101         1930           8  Summer\n",
      "8   1930-09-01   6.147067         1930           9    Fall\n",
      "9   1930-10-01   6.056909         1930          10    Fall\n",
      "10  1930-11-01   7.992388         1930          11    Fall\n",
      "11  1930-12-01   9.892197         1931          12  Winter\n",
      "12  1931-01-01   8.807090         1931           1  Winter\n",
      "13  1931-02-01   9.738485         1931           2  Winter\n",
      "14  1931-03-01  12.674267         1931           3  Spring\n",
      "(172, 2)\n",
      "                Runoff  Season_mon\n",
      "Season_year                       \n",
      "1930          9.705239         1.5\n",
      "1931          9.479258         5.0\n",
      "1932          9.536315         5.0\n",
      "1933          9.403885         5.0\n",
      "1934          9.733311         5.0\n",
      "...                ...         ...\n",
      "2097         12.861250         5.0\n",
      "2098         11.272262         5.0\n",
      "2099         11.183942         5.0\n",
      "2100         10.794565         5.0\n",
      "2101         10.864481        12.0\n",
      "\n",
      "[172 rows x 2 columns]\n",
      "(171, 2)\n",
      "                Runoff  Season_mon\n",
      "Season_year                       \n",
      "2096         11.812634         5.0\n",
      "2097         12.861250         5.0\n",
      "2098         11.272262         5.0\n",
      "2099         11.183942         5.0\n",
      "2100         10.794565         5.0\n",
      "(171, 2)\n",
      "                Runoff  Season_mon\n",
      "Season_year                       \n",
      "1930         11.570585           4\n",
      "1931         12.035403           4\n",
      "1932         12.516090           4\n",
      "1933         12.841962           4\n",
      "1934         12.493252           4\n",
      "...                ...         ...\n",
      "2096         14.864844           4\n",
      "2097         15.367799           4\n",
      "2098         14.746577           4\n",
      "2099         13.682223           4\n",
      "2100         13.881044           4\n",
      "\n",
      "[171 rows x 2 columns]\n",
      "(171, 2)\n",
      "               Runoff  Season_mon\n",
      "Season_year                      \n",
      "1930         6.819048           7\n",
      "1931         7.952316           7\n",
      "1932         7.203514           7\n",
      "1933         7.916777           7\n",
      "1934         7.924299           7\n",
      "...               ...         ...\n",
      "2096         9.056080           7\n",
      "2097         8.746690           7\n",
      "2098         8.325333           7\n",
      "2099         8.409767           7\n",
      "2100         8.782388           7\n",
      "\n",
      "[171 rows x 2 columns]\n",
      "(171, 2)\n",
      "               Runoff  Season_mon\n",
      "Season_year                      \n",
      "1930         6.732121          10\n",
      "1931         7.423999          10\n",
      "1932         7.091811          10\n",
      "1933         7.279482          10\n",
      "1934         7.332844          10\n",
      "...               ...         ...\n",
      "2096         8.289020          10\n",
      "2097         8.439506          10\n",
      "2098         8.172163          10\n",
      "2099         7.891929          10\n",
      "2100         7.489854          10\n",
      "\n",
      "[171 rows x 2 columns]\n",
      "(171,)\n",
      "Season_year\n",
      "1930     9.705239\n",
      "1931     9.479258\n",
      "1932     9.536315\n",
      "1933     9.403885\n",
      "1934     9.733311\n",
      "          ...    \n",
      "2096    11.812634\n",
      "2097    12.861250\n",
      "2098    11.272262\n",
      "2099    11.183942\n",
      "2100    10.794565\n",
      "Name: Runoff, Length: 171, dtype: float64\n",
      "(171,)\n",
      "Season_year\n",
      "1930    11.570585\n",
      "1931    12.035403\n",
      "1932    12.516090\n",
      "1933    12.841962\n",
      "1934    12.493252\n",
      "          ...    \n",
      "2096    14.864844\n",
      "2097    15.367799\n",
      "2098    14.746577\n",
      "2099    13.682223\n",
      "2100    13.881044\n",
      "Name: Runoff, Length: 171, dtype: float64\n",
      "(171,)\n",
      "Season_year\n",
      "1930    6.819048\n",
      "1931    7.952316\n",
      "1932    7.203514\n",
      "1933    7.916777\n",
      "1934    7.924299\n",
      "          ...   \n",
      "2096    9.056080\n",
      "2097    8.746690\n",
      "2098    8.325333\n",
      "2099    8.409767\n",
      "2100    8.782388\n",
      "Name: Runoff, Length: 171, dtype: float64\n",
      "(171,)\n",
      "Season_year\n",
      "1930    6.732121\n",
      "1931    7.423999\n",
      "1932    7.091811\n",
      "1933    7.279482\n",
      "1934    7.332844\n",
      "          ...   \n",
      "2096    8.289020\n",
      "2097    8.439506\n",
      "2098    8.172163\n",
      "2099    7.891929\n",
      "2100    7.489854\n",
      "Name: Runoff, Length: 171, dtype: float64\n"
     ]
    }
   ],
   "source": [
    "param_masked_ensMean_basinAvg_lowMissi_xarray = xr.DataArray(param_masked_ensMean_basinAvg_lowMissi, coords=[Month_steps], dims=[\"Month_steps\"])\n",
    "print(param_masked_ensMean_basinAvg_lowMissi_xarray.shape)\n",
    "print(param_masked_ensMean_basinAvg_lowMissi_xarray)\n",
    "\n",
    "#df['Day_steps'] = dates_histSelScen\n",
    "param_masked_ensMean_basinAvg_lowMissi_xarray['Month_steps'] = pd.to_datetime(dates_histSelScen)\n",
    "print(param_masked_ensMean_basinAvg_lowMissi_xarray.shape)\n",
    "print(param_masked_ensMean_basinAvg_lowMissi_xarray.head(3))\n",
    "\n",
    "#df = disch_histSel_Scen_ensMean_vicks_xarray.to_dataframe(name='Discharge').unstack().reset_index()\n",
    "df_param_lowMissi = param_masked_ensMean_basinAvg_lowMissi_xarray.to_dataframe(name='Runoff').reset_index()\n",
    "print(df_param_lowMissi.shape)\n",
    "print(df_param_lowMissi.head(3))\n",
    "\n",
    "df_param_lowMissi['Season_year'] = df_param_lowMissi.Month_steps.dt.year.where(df_param_lowMissi.Month_steps.dt.month < 12, df_param_lowMissi.Month_steps.dt.year + 1)\n",
    "print(df_param_lowMissi.shape)\n",
    "print(df_param_lowMissi.head(15))\n",
    "#++++++++++++++++++++++++++++++++++++++++++++++++++++++++++++++++++++++++++++++++++++++++++\n",
    "\n",
    "df_param_lowMissi['Season_mon'] = df_param_lowMissi.Month_steps.dt.month.where(df_param_lowMissi.Month_steps.dt.month == 1, df_param_lowMissi.Month_steps.dt.month)\n",
    "print(df_param_lowMissi.shape)\n",
    "print(df_param_lowMissi.head(15))\n",
    "\n",
    "df_param_lowMissi['Season'] = df_param_lowMissi['Season_mon'].map(Season)\n",
    "#display(df_param_lowMissi.head())\n",
    "print(df_param_lowMissi.shape)\n",
    "print(df_param_lowMissi.head(15))\n",
    "\n",
    "df_param_winter_lowMissi_withOneExtra = df_param_lowMissi[df_param_lowMissi[\"Season\"] == 'Winter'].groupby('Season_year').mean('Season_year')\n",
    "print(df_param_winter_lowMissi_withOneExtra.shape)\n",
    "print(df_param_winter_lowMissi_withOneExtra)\n",
    "\n",
    "## to Delete the last (unwanted) row\n",
    "df_param_winter_lowMissi = df_param_winter_lowMissi_withOneExtra.iloc[:-1 , :]\n",
    "print(df_param_winter_lowMissi.shape)\n",
    "print(df_param_winter_lowMissi.tail())\n",
    "#+++++++++++++++++++++++++++++++++++++++++++++++++++++++++++++++++++++++++++++++++++++\n",
    "\n",
    "\n",
    "## Split into Seasons\n",
    "df_param_spring_lowMissi = df_param_lowMissi[df_param_lowMissi[\"Season\"] == 'Spring'].groupby('Season_year').mean('Season_year')\n",
    "print(df_param_spring_lowMissi.shape)\n",
    "print(df_param_spring_lowMissi)\n",
    "\n",
    "df_param_summer_lowMissi = df_param_lowMissi[df_param_lowMissi[\"Season\"] == 'Summer'].groupby('Season_year').mean('Season_year')\n",
    "print(df_param_summer_lowMissi.shape)\n",
    "print(df_param_summer_lowMissi)\n",
    "\n",
    "df_param_fall_lowMissi = df_param_lowMissi[df_param_lowMissi[\"Season\"] == 'Fall'].groupby('Season_year').mean('Season_year')\n",
    "print(df_param_fall_lowMissi.shape)\n",
    "print(df_param_fall_lowMissi)\n",
    "\n",
    "param_winter_lowMissi = df_param_winter_lowMissi['Runoff']\n",
    "print(param_winter_lowMissi.shape)\n",
    "print(param_winter_lowMissi)\n",
    "\n",
    "param_spring_lowMissi = df_param_spring_lowMissi['Runoff']\n",
    "print(param_spring_lowMissi.shape)\n",
    "print(param_spring_lowMissi)\n",
    "\n",
    "param_summer_lowMissi = df_param_summer_lowMissi['Runoff']\n",
    "print(param_summer_lowMissi.shape)\n",
    "print(param_summer_lowMissi)\n",
    "\n",
    "param_fall_lowMissi = df_param_fall_lowMissi['Runoff']\n",
    "print(param_fall_lowMissi.shape)\n",
    "print(param_fall_lowMissi)\n",
    "\n"
   ]
  },
  {
   "cell_type": "code",
   "execution_count": null,
   "metadata": {},
   "outputs": [],
   "source": []
  },
  {
   "cell_type": "markdown",
   "metadata": {},
   "source": [
    "## Plotting Runoff Values for the four basins in the four seasons"
   ]
  },
  {
   "cell_type": "code",
   "execution_count": 80,
   "metadata": {},
   "outputs": [
    {
     "name": "stdout",
     "output_type": "stream",
     "text": [
      "(171,)\n",
      "(171,)\n",
      "(171,)\n",
      "(171,)\n",
      "\n",
      "(171,)\n",
      "(171,)\n",
      "(171,)\n",
      "(171,)\n",
      "\n",
      "(171,)\n",
      "(171,)\n",
      "(171,)\n",
      "(171,)\n",
      "\n",
      "(171,)\n",
      "(171,)\n",
      "(171,)\n",
      "(171,)\n"
     ]
    }
   ],
   "source": [
    "print(param_winter_Missouri.shape)\n",
    "print(param_spring_Missouri.shape)\n",
    "print(param_summer_Missouri.shape)\n",
    "print(param_fall_Missouri.shape)\n",
    "\n",
    "print('')\n",
    "print(param_winter_Arkansas.shape)\n",
    "print(param_spring_Arkansas.shape)\n",
    "print(param_summer_Arkansas.shape)\n",
    "print(param_fall_Arkansas.shape)\n",
    "\n",
    "print('')\n",
    "print(param_winter_Ohio.shape)\n",
    "print(param_spring_Ohio.shape)\n",
    "print(param_summer_Ohio.shape)\n",
    "print(param_fall_Ohio.shape)\n",
    "\n",
    "print('')\n",
    "print(param_winter_lowMissi.shape)\n",
    "print(param_spring_lowMissi.shape)\n",
    "print(param_summer_lowMissi.shape)\n",
    "print(param_fall_lowMissi.shape)\n",
    "\n"
   ]
  },
  {
   "cell_type": "markdown",
   "metadata": {},
   "source": [
    "## Find the maximum value for each basin"
   ]
  },
  {
   "cell_type": "code",
   "execution_count": 81,
   "metadata": {},
   "outputs": [
    {
     "name": "stdout",
     "output_type": "stream",
     "text": [
      "9.346942027322566\n",
      "9.595457581164055\n",
      "36.99453931277458\n",
      "16.102244861176587\n"
     ]
    }
   ],
   "source": [
    "param_max_Missouri = np.nanmax(param_spring_Missouri)\n",
    "print(param_max_Missouri)\n",
    "\n",
    "param_max_Arkansas = np.nanmax(param_spring_Arkansas)\n",
    "print(param_max_Arkansas)\n",
    "\n",
    "param_max_Ohio = np.nanmax(param_winter_Ohio)\n",
    "print(param_max_Ohio)\n",
    "\n",
    "param_max_lowMissi = np.nanmax(param_spring_lowMissi)\n",
    "print(param_max_lowMissi)\n"
   ]
  },
  {
   "cell_type": "code",
   "execution_count": 82,
   "metadata": {},
   "outputs": [
    {
     "name": "stdout",
     "output_type": "stream",
     "text": [
      "\n",
      "\n",
      "\n",
      "\n"
     ]
    }
   ],
   "source": [
    "\n",
    "param_winter_ratio_Missouri = param_winter_Missouri/param_max_Missouri\n",
    "param_spring_ratio_Missouri = param_spring_Missouri/param_max_Missouri\n",
    "param_summer_ratio_Missouri = param_summer_Missouri/param_max_Missouri\n",
    "param_fall_ratio_Missouri = param_fall_Missouri/param_max_Missouri\n",
    "print('')\n",
    "\n",
    "\n",
    "param_winter_ratio_Arkansas = param_winter_Arkansas/param_max_Arkansas\n",
    "param_spring_ratio_Arkansas = param_spring_Arkansas/param_max_Arkansas\n",
    "param_summer_ratio_Arkansas = param_summer_Arkansas/param_max_Arkansas\n",
    "param_fall_ratio_Arkansas = param_fall_Arkansas/param_max_Arkansas\n",
    "print('')\n",
    "\n",
    "param_winter_ratio_Ohio = param_winter_Ohio/param_max_Ohio\n",
    "param_spring_ratio_Ohio = param_spring_Ohio/param_max_Ohio\n",
    "param_summer_ratio_Ohio = param_summer_Ohio/param_max_Ohio\n",
    "param_fall_ratio_Ohio = param_fall_Ohio/param_max_Ohio\n",
    "print('')\n",
    "\n",
    "param_winter_ratio_lowMissi = param_winter_lowMissi/param_max_lowMissi\n",
    "param_spring_ratio_lowMissi = param_spring_lowMissi/param_max_lowMissi\n",
    "param_summer_ratio_lowMissi = param_summer_lowMissi/param_max_lowMissi\n",
    "param_fall_ratio_lowMissi = param_fall_lowMissi/param_max_lowMissi\n",
    "print('')\n"
   ]
  },
  {
   "cell_type": "code",
   "execution_count": null,
   "metadata": {},
   "outputs": [],
   "source": []
  },
  {
   "cell_type": "code",
   "execution_count": null,
   "metadata": {},
   "outputs": [],
   "source": []
  },
  {
   "cell_type": "markdown",
   "metadata": {},
   "source": [
    "## Compute Anomalies"
   ]
  },
  {
   "cell_type": "markdown",
   "metadata": {},
   "source": [
    "## The Four time slots"
   ]
  },
  {
   "cell_type": "code",
   "execution_count": 83,
   "metadata": {},
   "outputs": [],
   "source": [
    "histYrSelSt = 1930\n",
    "\n",
    "refPeriodYrSt = 1971\n",
    "refPeriodYrEnd = 2000\n",
    "\n",
    "scenYrSt = 2015\n",
    "scenEraTwoYrSt = 2045\n",
    "scenEraThreeYrSt = 2075\n",
    "\n",
    "scenYrEnd = 2100\n",
    "#"
   ]
  },
  {
   "cell_type": "code",
   "execution_count": 84,
   "metadata": {},
   "outputs": [
    {
     "name": "stdout",
     "output_type": "stream",
     "text": [
      "12\n"
     ]
    }
   ],
   "source": [
    "nMonsPerYr = 12     \n",
    "print(nMonsPerYr)"
   ]
  },
  {
   "cell_type": "code",
   "execution_count": null,
   "metadata": {},
   "outputs": [],
   "source": []
  },
  {
   "cell_type": "markdown",
   "metadata": {},
   "source": [
    "## Reference Period"
   ]
  },
  {
   "cell_type": "code",
   "execution_count": 85,
   "metadata": {},
   "outputs": [
    {
     "name": "stdout",
     "output_type": "stream",
     "text": [
      "41 71\n",
      "30\n"
     ]
    }
   ],
   "source": [
    "refPeriodStepSt = refPeriodYrSt - histYrSelSt\n",
    "refPeriodStepEnd = refPeriodYrEnd - histYrSelSt + 1\n",
    "print(refPeriodStepSt, refPeriodStepEnd)\n",
    "print(refPeriodStepEnd-refPeriodStepSt)"
   ]
  },
  {
   "cell_type": "markdown",
   "metadata": {},
   "source": [
    "## Era1"
   ]
  },
  {
   "cell_type": "code",
   "execution_count": 86,
   "metadata": {},
   "outputs": [
    {
     "name": "stdout",
     "output_type": "stream",
     "text": [
      "85 115\n",
      "30\n"
     ]
    }
   ],
   "source": [
    "scenEraOneStepSt = scenYrSt - histYrSelSt\n",
    "scenEraOneStepEnd = scenEraTwoYrSt - histYrSelSt\n",
    "print(scenEraOneStepSt, scenEraOneStepEnd)\n",
    "print(scenEraOneStepEnd-scenEraOneStepSt)"
   ]
  },
  {
   "cell_type": "markdown",
   "metadata": {},
   "source": [
    "## Era2"
   ]
  },
  {
   "cell_type": "code",
   "execution_count": 87,
   "metadata": {},
   "outputs": [
    {
     "name": "stdout",
     "output_type": "stream",
     "text": [
      "115 145\n",
      "30\n"
     ]
    }
   ],
   "source": [
    "scenEraTwoStepSt = scenEraTwoYrSt - histYrSelSt\n",
    "scenEraTwoStepEnd = scenEraThreeYrSt - histYrSelSt\n",
    "print(scenEraTwoStepSt, scenEraTwoStepEnd)\n",
    "print(scenEraTwoStepEnd-scenEraTwoStepSt)"
   ]
  },
  {
   "cell_type": "markdown",
   "metadata": {},
   "source": [
    "## Era3"
   ]
  },
  {
   "cell_type": "code",
   "execution_count": 88,
   "metadata": {},
   "outputs": [
    {
     "name": "stdout",
     "output_type": "stream",
     "text": [
      "145 171\n",
      "26\n"
     ]
    }
   ],
   "source": [
    "scenEraThreeStepSt = scenEraThreeYrSt - histYrSelSt\n",
    "scenEraThreeStepEnd = scenYrEnd - histYrSelSt + 1\n",
    "print(scenEraThreeStepSt, scenEraThreeStepEnd)\n",
    "print(scenEraThreeStepEnd-scenEraThreeStepSt)"
   ]
  },
  {
   "cell_type": "code",
   "execution_count": null,
   "metadata": {},
   "outputs": [],
   "source": []
  },
  {
   "cell_type": "code",
   "execution_count": 89,
   "metadata": {},
   "outputs": [
    {
     "name": "stdout",
     "output_type": "stream",
     "text": [
      "(171,)\n",
      "(171,)\n",
      "(171,)\n",
      "(171,)\n",
      "\n",
      "(171,)\n",
      "(171,)\n",
      "(171,)\n",
      "(171,)\n",
      "\n",
      "(171,)\n",
      "(171,)\n",
      "(171,)\n",
      "(171,)\n",
      "\n",
      "(171,)\n",
      "(171,)\n",
      "(171,)\n",
      "(171,)\n"
     ]
    }
   ],
   "source": [
    "print(param_winter_Missouri.shape)\n",
    "print(param_spring_Missouri.shape)\n",
    "print(param_summer_Missouri.shape)\n",
    "print(param_fall_Missouri.shape)\n",
    "\n",
    "print('')\n",
    "print(param_winter_Arkansas.shape)\n",
    "print(param_spring_Arkansas.shape)\n",
    "print(param_summer_Arkansas.shape)\n",
    "print(param_fall_Arkansas.shape)\n",
    "\n",
    "print('')\n",
    "print(param_winter_Ohio.shape)\n",
    "print(param_spring_Ohio.shape)\n",
    "print(param_summer_Ohio.shape)\n",
    "print(param_fall_Ohio.shape)\n",
    "\n",
    "print('')\n",
    "print(param_winter_lowMissi.shape)\n",
    "print(param_spring_lowMissi.shape)\n",
    "print(param_summer_lowMissi.shape)\n",
    "print(param_fall_lowMissi.shape)\n"
   ]
  },
  {
   "cell_type": "code",
   "execution_count": null,
   "metadata": {},
   "outputs": [],
   "source": []
  },
  {
   "cell_type": "markdown",
   "metadata": {},
   "source": [
    "## Missouri basin"
   ]
  },
  {
   "cell_type": "code",
   "execution_count": 90,
   "metadata": {},
   "outputs": [
    {
     "name": "stdout",
     "output_type": "stream",
     "text": [
      "(30,)\n",
      "(30,)\n",
      "(30,)\n",
      "(26,)\n",
      "(30,)\n",
      "(30,)\n",
      "(30,)\n",
      "(26,)\n",
      "(30,)\n",
      "(30,)\n",
      "(30,)\n",
      "(26,)\n",
      "(30,)\n",
      "(30,)\n",
      "(30,)\n",
      "(26,)\n"
     ]
    }
   ],
   "source": [
    "## Winter\n",
    "param_winter_refPeriod_Missouri = param_winter_Missouri[refPeriodStepSt:refPeriodStepEnd]\n",
    "print(param_winter_refPeriod_Missouri.shape)\n",
    "\n",
    "param_winter_eraOne_Missouri = param_winter_Missouri[scenEraOneStepSt:scenEraOneStepEnd]\n",
    "print(param_winter_eraOne_Missouri.shape)\n",
    "\n",
    "param_winter_eraTwo_Missouri = param_winter_Missouri[scenEraTwoStepSt:scenEraTwoStepEnd]\n",
    "print(param_winter_eraTwo_Missouri.shape)\n",
    "\n",
    "param_winter_eraThree_Missouri = param_winter_Missouri[scenEraThreeStepSt:scenEraThreeStepEnd]\n",
    "print(param_winter_eraThree_Missouri.shape)\n",
    "#+++++++++++++++++++++++++++++++++++++++++++++++++++++++++++++++++++++++++++++++++++++++++++++++++++++++++\n",
    "\n",
    "## Spring\n",
    "param_spring_refPeriod_Missouri = param_spring_Missouri[refPeriodStepSt:refPeriodStepEnd]\n",
    "print(param_spring_refPeriod_Missouri.shape)\n",
    "\n",
    "param_spring_eraOne_Missouri = param_spring_Missouri[scenEraOneStepSt:scenEraOneStepEnd]\n",
    "print(param_spring_eraOne_Missouri.shape)\n",
    "\n",
    "param_spring_eraTwo_Missouri = param_spring_Missouri[scenEraTwoStepSt:scenEraTwoStepEnd]\n",
    "print(param_spring_eraTwo_Missouri.shape)\n",
    "\n",
    "param_spring_eraThree_Missouri = param_spring_Missouri[scenEraThreeStepSt:scenEraThreeStepEnd]\n",
    "print(param_spring_eraThree_Missouri.shape)\n",
    "\n",
    "## Summer\n",
    "param_summer_refPeriod_Missouri = param_summer_Missouri[refPeriodStepSt:refPeriodStepEnd]\n",
    "print(param_summer_refPeriod_Missouri.shape)\n",
    "\n",
    "param_summer_eraOne_Missouri = param_summer_Missouri[scenEraOneStepSt:scenEraOneStepEnd]\n",
    "print(param_summer_eraOne_Missouri.shape)\n",
    "\n",
    "param_summer_eraTwo_Missouri = param_summer_Missouri[scenEraTwoStepSt:scenEraTwoStepEnd]\n",
    "print(param_summer_eraTwo_Missouri.shape)\n",
    "\n",
    "param_summer_eraThree_Missouri = param_summer_Missouri[scenEraThreeStepSt:scenEraThreeStepEnd]\n",
    "print(param_summer_eraThree_Missouri.shape)\n",
    "\n",
    "## Fall\n",
    "param_fall_refPeriod_Missouri = param_fall_Missouri[refPeriodStepSt:refPeriodStepEnd]\n",
    "print(param_fall_refPeriod_Missouri.shape)\n",
    "\n",
    "param_fall_eraOne_Missouri = param_fall_Missouri[scenEraOneStepSt:scenEraOneStepEnd]\n",
    "print(param_fall_eraOne_Missouri.shape)\n",
    "\n",
    "param_fall_eraTwo_Missouri = param_fall_Missouri[scenEraTwoStepSt:scenEraTwoStepEnd]\n",
    "print(param_fall_eraTwo_Missouri.shape)\n",
    "\n",
    "param_fall_eraThree_Missouri = param_fall_Missouri[scenEraThreeStepSt:scenEraThreeStepEnd]\n",
    "print(param_fall_eraThree_Missouri.shape)\n",
    "#====================================================\n"
   ]
  },
  {
   "cell_type": "code",
   "execution_count": 91,
   "metadata": {},
   "outputs": [
    {
     "name": "stdout",
     "output_type": "stream",
     "text": [
      "2.881877989977456\n",
      "0.10679889332826044\n",
      "8.533320353364742\n",
      "0.23800742556294674\n",
      "4.6186449283626265\n",
      "0.1614108930643383\n",
      "3.0405241675650907\n",
      "0.09599262662173606\n"
     ]
    }
   ],
   "source": [
    "## Find the mean and standard deviation of the reference period values\n",
    "## Winter\n",
    "param_winter_refPeriodMean_refPeriod_Missouri = np.nanmean(param_winter_refPeriod_Missouri)\n",
    "print(param_winter_refPeriodMean_refPeriod_Missouri)\n",
    "param_winter_refPeriodStd_refPeriod_Missouri = np.nanstd(param_winter_refPeriod_Missouri)\n",
    "print(param_winter_refPeriodStd_refPeriod_Missouri)\n",
    "\n",
    "## Spring\n",
    "param_spring_refPeriodMean_refPeriod_Missouri = np.nanmean(param_spring_refPeriod_Missouri)\n",
    "print(param_spring_refPeriodMean_refPeriod_Missouri)\n",
    "param_spring_refPeriodStd_refPeriod_Missouri = np.nanstd(param_spring_refPeriod_Missouri)\n",
    "print(param_spring_refPeriodStd_refPeriod_Missouri)\n",
    "\n",
    "## Summer\n",
    "param_summer_refPeriodMean_refPeriod_Missouri = np.nanmean(param_summer_refPeriod_Missouri)\n",
    "print(param_summer_refPeriodMean_refPeriod_Missouri)\n",
    "param_summer_refPeriodStd_refPeriod_Missouri = np.nanstd(param_summer_refPeriod_Missouri)\n",
    "print(param_summer_refPeriodStd_refPeriod_Missouri)\n",
    "\n",
    "## Fall\n",
    "param_fall_refPeriodMean_refPeriod_Missouri = np.nanmean(param_fall_refPeriod_Missouri)\n",
    "print(param_fall_refPeriodMean_refPeriod_Missouri)\n",
    "param_fall_refPeriodStd_refPeriod_Missouri = np.nanstd(param_fall_refPeriod_Missouri)\n",
    "print(param_fall_refPeriodStd_refPeriod_Missouri)\n",
    "#+++++++++++++++++++++++++++++++++++++++++++++++++++++++++++++++++++++++++++++++++++++++++++++++++++++++++"
   ]
  },
  {
   "cell_type": "code",
   "execution_count": 92,
   "metadata": {},
   "outputs": [
    {
     "name": "stdout",
     "output_type": "stream",
     "text": [
      "(171,)\n",
      "(171,)\n",
      "(30,)\n",
      "(30,)\n",
      "(26,)\n",
      "(171,)\n",
      "(171,)\n",
      "(30,)\n",
      "(30,)\n",
      "(26,)\n",
      "(171,)\n",
      "(171,)\n",
      "(30,)\n",
      "(30,)\n",
      "(26,)\n",
      "(171,)\n",
      "(171,)\n",
      "(30,)\n",
      "(30,)\n",
      "(26,)\n"
     ]
    }
   ],
   "source": [
    "## For Anom Plot\n",
    "####### Winter\n",
    "param_winterAnom_Missouri = (param_winter_Missouri - param_winter_refPeriodMean_refPeriod_Missouri)\n",
    "print(param_winterAnom_Missouri.shape)\n",
    "param_winterAnomScore_Missouri = (param_winter_Missouri - param_winter_refPeriodMean_refPeriod_Missouri)/param_winter_refPeriodStd_refPeriod_Missouri\n",
    "print(param_winterAnomScore_Missouri.shape)\n",
    "\n",
    "## For Box Plot\n",
    "param_winterAnom_eraOne_Missouri = param_winterAnom_Missouri[scenEraOneStepSt:scenEraOneStepEnd]\n",
    "print(param_winterAnom_eraOne_Missouri.shape)\n",
    "param_winterAnom_eraTwo_Missouri = param_winterAnom_Missouri[scenEraTwoStepSt:scenEraTwoStepEnd]\n",
    "print(param_winterAnom_eraTwo_Missouri.shape)\n",
    "param_winterAnom_eraThree_Missouri = param_winterAnom_Missouri[scenEraThreeStepSt:scenEraThreeStepEnd]\n",
    "print(param_winterAnom_eraThree_Missouri.shape)\n",
    "#+++++++++++++++++++++++++++++++++++++++++++++++++++++++++++++++++++++++++++++++++++++++++++++++++++++++++++++++++++++++\n",
    "\n",
    "####### Spring\n",
    "param_springAnom_Missouri = (param_spring_Missouri - param_spring_refPeriodMean_refPeriod_Missouri)\n",
    "print(param_springAnom_Missouri.shape)\n",
    "param_springAnomScore_Missouri = (param_spring_Missouri - param_spring_refPeriodMean_refPeriod_Missouri)/param_spring_refPeriodStd_refPeriod_Missouri\n",
    "print(param_springAnomScore_Missouri.shape)\n",
    "\n",
    "## For Box Plot\n",
    "param_springAnom_eraOne_Missouri = param_springAnom_Missouri[scenEraOneStepSt:scenEraOneStepEnd]\n",
    "print(param_springAnom_eraOne_Missouri.shape)\n",
    "param_springAnom_eraTwo_Missouri = param_springAnom_Missouri[scenEraTwoStepSt:scenEraTwoStepEnd]\n",
    "print(param_springAnom_eraTwo_Missouri.shape)\n",
    "param_springAnom_eraThree_Missouri = param_springAnom_Missouri[scenEraThreeStepSt:scenEraThreeStepEnd]\n",
    "print(param_springAnom_eraThree_Missouri.shape)\n",
    "#+++++++++++++++++++++++++++++++++++++++++++++++++++++++++++++++++++++++++++++++++++++++++++++++++++++++++++++++++++++++\n",
    "\n",
    "####### Summer\n",
    "param_summerAnom_Missouri = (param_summer_Missouri - param_summer_refPeriodMean_refPeriod_Missouri)\n",
    "print(param_summerAnom_Missouri.shape)\n",
    "param_summerAnomScore_Missouri = (param_summer_Missouri - param_summer_refPeriodMean_refPeriod_Missouri)/param_summer_refPeriodStd_refPeriod_Missouri\n",
    "print(param_summerAnomScore_Missouri.shape)\n",
    "\n",
    "## For Box Plot\n",
    "param_summerAnom_eraOne_Missouri = param_summerAnom_Missouri[scenEraOneStepSt:scenEraOneStepEnd]\n",
    "print(param_summerAnom_eraOne_Missouri.shape)\n",
    "param_summerAnom_eraTwo_Missouri = param_summerAnom_Missouri[scenEraTwoStepSt:scenEraTwoStepEnd]\n",
    "print(param_summerAnom_eraTwo_Missouri.shape)\n",
    "param_summerAnom_eraThree_Missouri = param_summerAnom_Missouri[scenEraThreeStepSt:scenEraThreeStepEnd]\n",
    "print(param_summerAnom_eraThree_Missouri.shape)\n",
    "#+++++++++++++++++++++++++++++++++++++++++++++++++++++++++++++++++++++++++++++++++++++++++++++++++++++++++++++++++++++++\n",
    "\n",
    "####### Fall\n",
    "param_fallAnom_Missouri = (param_fall_Missouri - param_fall_refPeriodMean_refPeriod_Missouri)\n",
    "print(param_fallAnom_Missouri.shape)\n",
    "param_fallAnomScore_Missouri = (param_fall_Missouri - param_fall_refPeriodMean_refPeriod_Missouri)/param_fall_refPeriodStd_refPeriod_Missouri\n",
    "print(param_fallAnomScore_Missouri.shape)\n",
    "\n",
    "## For Box Plot\n",
    "param_fallAnom_eraOne_Missouri = param_fallAnom_Missouri[scenEraOneStepSt:scenEraOneStepEnd]\n",
    "print(param_fallAnom_eraOne_Missouri.shape)\n",
    "param_fallAnom_eraTwo_Missouri = param_fallAnom_Missouri[scenEraTwoStepSt:scenEraTwoStepEnd]\n",
    "print(param_fallAnom_eraTwo_Missouri.shape)\n",
    "param_fallAnom_eraThree_Missouri = param_fallAnom_Missouri[scenEraThreeStepSt:scenEraThreeStepEnd]\n",
    "print(param_fallAnom_eraThree_Missouri.shape)\n",
    "#+++++++++++++++++++++++++++++++++++++++++++++++++++++++++++++++++++++++++++++++++++++++++++++++++++++++++++++++++++++++\n",
    "\n"
   ]
  },
  {
   "cell_type": "code",
   "execution_count": null,
   "metadata": {},
   "outputs": [],
   "source": []
  },
  {
   "cell_type": "markdown",
   "metadata": {},
   "source": [
    "## Arkansas basin"
   ]
  },
  {
   "cell_type": "code",
   "execution_count": 93,
   "metadata": {},
   "outputs": [
    {
     "name": "stdout",
     "output_type": "stream",
     "text": [
      "(30,)\n",
      "(30,)\n",
      "(30,)\n",
      "(26,)\n",
      "(30,)\n",
      "(30,)\n",
      "(30,)\n",
      "(26,)\n",
      "(30,)\n",
      "(30,)\n",
      "(30,)\n",
      "(26,)\n",
      "(30,)\n",
      "(30,)\n",
      "(30,)\n",
      "(26,)\n"
     ]
    }
   ],
   "source": [
    "## Winter\n",
    "param_winter_refPeriod_Arkansas = param_winter_Arkansas[refPeriodStepSt:refPeriodStepEnd]\n",
    "print(param_winter_refPeriod_Arkansas.shape)\n",
    "\n",
    "param_winter_eraOne_Arkansas = param_winter_Arkansas[scenEraOneStepSt:scenEraOneStepEnd]\n",
    "print(param_winter_eraOne_Arkansas.shape)\n",
    "\n",
    "param_winter_eraTwo_Arkansas = param_winter_Arkansas[scenEraTwoStepSt:scenEraTwoStepEnd]\n",
    "print(param_winter_eraTwo_Arkansas.shape)\n",
    "\n",
    "param_winter_eraThree_Arkansas = param_winter_Arkansas[scenEraThreeStepSt:scenEraThreeStepEnd]\n",
    "print(param_winter_eraThree_Arkansas.shape)\n",
    "#+++++++++++++++++++++++++++++++++++++++++++++++++++++++++++++++++++++++++++++++++++++++++++++++++++++++++\n",
    "\n",
    "## Spring\n",
    "param_spring_refPeriod_Arkansas = param_spring_Arkansas[refPeriodStepSt:refPeriodStepEnd]\n",
    "print(param_spring_refPeriod_Arkansas.shape)\n",
    "\n",
    "param_spring_eraOne_Arkansas = param_spring_Arkansas[scenEraOneStepSt:scenEraOneStepEnd]\n",
    "print(param_spring_eraOne_Arkansas.shape)\n",
    "\n",
    "param_spring_eraTwo_Arkansas = param_spring_Arkansas[scenEraTwoStepSt:scenEraTwoStepEnd]\n",
    "print(param_spring_eraTwo_Arkansas.shape)\n",
    "\n",
    "param_spring_eraThree_Arkansas = param_spring_Arkansas[scenEraThreeStepSt:scenEraThreeStepEnd]\n",
    "print(param_spring_eraThree_Arkansas.shape)\n",
    "\n",
    "## Summer\n",
    "param_summer_refPeriod_Arkansas = param_summer_Arkansas[refPeriodStepSt:refPeriodStepEnd]\n",
    "print(param_summer_refPeriod_Arkansas.shape)\n",
    "\n",
    "param_summer_eraOne_Arkansas = param_summer_Arkansas[scenEraOneStepSt:scenEraOneStepEnd]\n",
    "print(param_summer_eraOne_Arkansas.shape)\n",
    "\n",
    "param_summer_eraTwo_Arkansas = param_summer_Arkansas[scenEraTwoStepSt:scenEraTwoStepEnd]\n",
    "print(param_summer_eraTwo_Arkansas.shape)\n",
    "\n",
    "param_summer_eraThree_Arkansas = param_summer_Arkansas[scenEraThreeStepSt:scenEraThreeStepEnd]\n",
    "print(param_summer_eraThree_Arkansas.shape)\n",
    "\n",
    "## Fall\n",
    "param_fall_refPeriod_Arkansas = param_fall_Arkansas[refPeriodStepSt:refPeriodStepEnd]\n",
    "print(param_fall_refPeriod_Arkansas.shape)\n",
    "\n",
    "param_fall_eraOne_Arkansas = param_fall_Arkansas[scenEraOneStepSt:scenEraOneStepEnd]\n",
    "print(param_fall_eraOne_Arkansas.shape)\n",
    "\n",
    "param_fall_eraTwo_Arkansas = param_fall_Arkansas[scenEraTwoStepSt:scenEraTwoStepEnd]\n",
    "print(param_fall_eraTwo_Arkansas.shape)\n",
    "\n",
    "param_fall_eraThree_Arkansas = param_fall_Arkansas[scenEraThreeStepSt:scenEraThreeStepEnd]\n",
    "print(param_fall_eraThree_Arkansas.shape)\n",
    "#====================================================\n"
   ]
  },
  {
   "cell_type": "code",
   "execution_count": 94,
   "metadata": {},
   "outputs": [
    {
     "name": "stdout",
     "output_type": "stream",
     "text": [
      "5.311473384535474\n",
      "0.19648018066629097\n",
      "8.109174337173913\n",
      "0.3246300577387819\n",
      "4.47907193281675\n",
      "0.23137571378399693\n",
      "5.412523535398548\n",
      "0.23873098298789294\n"
     ]
    }
   ],
   "source": [
    "## Find the mean and standard deviation of the reference period values\n",
    "## Winter\n",
    "param_winter_refPeriodMean_refPeriod_Arkansas = np.nanmean(param_winter_refPeriod_Arkansas)\n",
    "print(param_winter_refPeriodMean_refPeriod_Arkansas)\n",
    "param_winter_refPeriodStd_refPeriod_Arkansas = np.nanstd(param_winter_refPeriod_Arkansas)\n",
    "print(param_winter_refPeriodStd_refPeriod_Arkansas)\n",
    "\n",
    "## Spring\n",
    "param_spring_refPeriodMean_refPeriod_Arkansas = np.nanmean(param_spring_refPeriod_Arkansas)\n",
    "print(param_spring_refPeriodMean_refPeriod_Arkansas)\n",
    "param_spring_refPeriodStd_refPeriod_Arkansas = np.nanstd(param_spring_refPeriod_Arkansas)\n",
    "print(param_spring_refPeriodStd_refPeriod_Arkansas)\n",
    "\n",
    "## Summer\n",
    "param_summer_refPeriodMean_refPeriod_Arkansas = np.nanmean(param_summer_refPeriod_Arkansas)\n",
    "print(param_summer_refPeriodMean_refPeriod_Arkansas)\n",
    "param_summer_refPeriodStd_refPeriod_Arkansas = np.nanstd(param_summer_refPeriod_Arkansas)\n",
    "print(param_summer_refPeriodStd_refPeriod_Arkansas)\n",
    "\n",
    "## Fall\n",
    "param_fall_refPeriodMean_refPeriod_Arkansas = np.nanmean(param_fall_refPeriod_Arkansas)\n",
    "print(param_fall_refPeriodMean_refPeriod_Arkansas)\n",
    "param_fall_refPeriodStd_refPeriod_Arkansas = np.nanstd(param_fall_refPeriod_Arkansas)\n",
    "print(param_fall_refPeriodStd_refPeriod_Arkansas)\n",
    "#+++++++++++++++++++++++++++++++++++++++++++++++++++++++++++++++++++++++++++++++++++++++++++++++++++++++++"
   ]
  },
  {
   "cell_type": "code",
   "execution_count": 95,
   "metadata": {},
   "outputs": [
    {
     "name": "stdout",
     "output_type": "stream",
     "text": [
      "(171,)\n",
      "(171,)\n",
      "(30,)\n",
      "(30,)\n",
      "(26,)\n",
      "(171,)\n",
      "(171,)\n",
      "(30,)\n",
      "(30,)\n",
      "(26,)\n",
      "(171,)\n",
      "(171,)\n",
      "(30,)\n",
      "(30,)\n",
      "(26,)\n",
      "(171,)\n",
      "(171,)\n",
      "(30,)\n",
      "(30,)\n",
      "(26,)\n"
     ]
    }
   ],
   "source": [
    "## For Anom Plot\n",
    "####### Winter\n",
    "param_winterAnom_Arkansas = (param_winter_Arkansas - param_winter_refPeriodMean_refPeriod_Arkansas)\n",
    "print(param_winterAnom_Arkansas.shape)\n",
    "param_winterAnomScore_Arkansas = (param_winter_Arkansas - param_winter_refPeriodMean_refPeriod_Arkansas)/param_winter_refPeriodStd_refPeriod_Arkansas\n",
    "print(param_winterAnomScore_Arkansas.shape)\n",
    "\n",
    "## For Box Plot\n",
    "param_winterAnom_eraOne_Arkansas = param_winterAnom_Arkansas[scenEraOneStepSt:scenEraOneStepEnd]\n",
    "print(param_winterAnom_eraOne_Arkansas.shape)\n",
    "param_winterAnom_eraTwo_Arkansas = param_winterAnom_Arkansas[scenEraTwoStepSt:scenEraTwoStepEnd]\n",
    "print(param_winterAnom_eraTwo_Arkansas.shape)\n",
    "param_winterAnom_eraThree_Arkansas = param_winterAnom_Arkansas[scenEraThreeStepSt:scenEraThreeStepEnd]\n",
    "print(param_winterAnom_eraThree_Arkansas.shape)\n",
    "#+++++++++++++++++++++++++++++++++++++++++++++++++++++++++++++++++++++++++++++++++++++++++++++++++++++++++++++++++++++++\n",
    "\n",
    "\n",
    "####### Spring\n",
    "param_springAnom_Arkansas = (param_spring_Arkansas - param_spring_refPeriodMean_refPeriod_Arkansas)\n",
    "print(param_springAnom_Arkansas.shape)\n",
    "param_springAnomScore_Arkansas = (param_spring_Arkansas - param_spring_refPeriodMean_refPeriod_Arkansas)/param_spring_refPeriodStd_refPeriod_Arkansas\n",
    "print(param_springAnomScore_Arkansas.shape)\n",
    "\n",
    "## For Box Plot\n",
    "param_springAnom_eraOne_Arkansas = param_springAnom_Arkansas[scenEraOneStepSt:scenEraOneStepEnd]\n",
    "print(param_springAnom_eraOne_Arkansas.shape)\n",
    "param_springAnom_eraTwo_Arkansas = param_springAnom_Arkansas[scenEraTwoStepSt:scenEraTwoStepEnd]\n",
    "print(param_springAnom_eraTwo_Arkansas.shape)\n",
    "param_springAnom_eraThree_Arkansas = param_springAnom_Arkansas[scenEraThreeStepSt:scenEraThreeStepEnd]\n",
    "print(param_springAnom_eraThree_Arkansas.shape)\n",
    "#+++++++++++++++++++++++++++++++++++++++++++++++++++++++++++++++++++++++++++++++++++++++++++++++++++++++++++++++++++++++\n",
    "\n",
    "####### Summer\n",
    "param_summerAnom_Arkansas = (param_summer_Arkansas - param_summer_refPeriodMean_refPeriod_Arkansas)\n",
    "print(param_summerAnom_Arkansas.shape)\n",
    "param_summerAnomScore_Arkansas = (param_summer_Arkansas - param_summer_refPeriodMean_refPeriod_Arkansas)/param_summer_refPeriodStd_refPeriod_Arkansas\n",
    "print(param_summerAnomScore_Arkansas.shape)\n",
    "\n",
    "## For Box Plot\n",
    "param_summerAnom_eraOne_Arkansas = param_summerAnom_Arkansas[scenEraOneStepSt:scenEraOneStepEnd]\n",
    "print(param_summerAnom_eraOne_Arkansas.shape)\n",
    "param_summerAnom_eraTwo_Arkansas = param_summerAnom_Arkansas[scenEraTwoStepSt:scenEraTwoStepEnd]\n",
    "print(param_summerAnom_eraTwo_Arkansas.shape)\n",
    "param_summerAnom_eraThree_Arkansas = param_summerAnom_Arkansas[scenEraThreeStepSt:scenEraThreeStepEnd]\n",
    "print(param_summerAnom_eraThree_Arkansas.shape)\n",
    "#+++++++++++++++++++++++++++++++++++++++++++++++++++++++++++++++++++++++++++++++++++++++++++++++++++++++++++++++++++++++\n",
    "\n",
    "####### Fall\n",
    "param_fallAnom_Arkansas = (param_fall_Arkansas - param_fall_refPeriodMean_refPeriod_Arkansas)\n",
    "print(param_fallAnom_Arkansas.shape)\n",
    "param_fallAnomScore_Arkansas = (param_fall_Arkansas - param_fall_refPeriodMean_refPeriod_Arkansas)/param_fall_refPeriodStd_refPeriod_Arkansas\n",
    "print(param_fallAnomScore_Arkansas.shape)\n",
    "\n",
    "## For Box Plot\n",
    "param_fallAnom_eraOne_Arkansas = param_fallAnom_Arkansas[scenEraOneStepSt:scenEraOneStepEnd]\n",
    "print(param_fallAnom_eraOne_Arkansas.shape)\n",
    "param_fallAnom_eraTwo_Arkansas = param_fallAnom_Arkansas[scenEraTwoStepSt:scenEraTwoStepEnd]\n",
    "print(param_fallAnom_eraTwo_Arkansas.shape)\n",
    "param_fallAnom_eraThree_Arkansas = param_fallAnom_Arkansas[scenEraThreeStepSt:scenEraThreeStepEnd]\n",
    "print(param_fallAnom_eraThree_Arkansas.shape)\n",
    "#+++++++++++++++++++++++++++++++++++++++++++++++++++++++++++++++++++++++++++++++++++++++++++++++++++++++++++++++++++++++\n",
    "\n"
   ]
  },
  {
   "cell_type": "code",
   "execution_count": null,
   "metadata": {},
   "outputs": [],
   "source": []
  },
  {
   "cell_type": "markdown",
   "metadata": {},
   "source": [
    "## Ohio basin"
   ]
  },
  {
   "cell_type": "code",
   "execution_count": 96,
   "metadata": {},
   "outputs": [
    {
     "name": "stdout",
     "output_type": "stream",
     "text": [
      "(30,)\n",
      "(30,)\n",
      "(30,)\n",
      "(26,)\n",
      "(30,)\n",
      "(30,)\n",
      "(30,)\n",
      "(26,)\n",
      "(30,)\n",
      "(30,)\n",
      "(30,)\n",
      "(26,)\n",
      "(30,)\n",
      "(30,)\n",
      "(30,)\n",
      "(26,)\n"
     ]
    }
   ],
   "source": [
    "## Winter\n",
    "param_winter_refPeriod_Ohio = param_winter_Ohio[refPeriodStepSt:refPeriodStepEnd]\n",
    "print(param_winter_refPeriod_Ohio.shape)\n",
    "\n",
    "param_winter_eraOne_Ohio = param_winter_Ohio[scenEraOneStepSt:scenEraOneStepEnd]\n",
    "print(param_winter_eraOne_Ohio.shape)\n",
    "\n",
    "param_winter_eraTwo_Ohio = param_winter_Ohio[scenEraTwoStepSt:scenEraTwoStepEnd]\n",
    "print(param_winter_eraTwo_Ohio.shape)\n",
    "\n",
    "param_winter_eraThree_Ohio = param_winter_Ohio[scenEraThreeStepSt:scenEraThreeStepEnd]\n",
    "print(param_winter_eraThree_Ohio.shape)\n",
    "#+++++++++++++++++++++++++++++++++++++++++++++++++++++++++++++++++++++++++++++++++++++++++++++++++++++++++\n",
    "\n",
    "## Spring\n",
    "param_spring_refPeriod_Ohio = param_spring_Ohio[refPeriodStepSt:refPeriodStepEnd]\n",
    "print(param_spring_refPeriod_Ohio.shape)\n",
    "\n",
    "param_spring_eraOne_Ohio = param_spring_Ohio[scenEraOneStepSt:scenEraOneStepEnd]\n",
    "print(param_spring_eraOne_Ohio.shape)\n",
    "\n",
    "param_spring_eraTwo_Ohio = param_spring_Ohio[scenEraTwoStepSt:scenEraTwoStepEnd]\n",
    "print(param_spring_eraTwo_Ohio.shape)\n",
    "\n",
    "param_spring_eraThree_Ohio = param_spring_Ohio[scenEraThreeStepSt:scenEraThreeStepEnd]\n",
    "print(param_spring_eraThree_Ohio.shape)\n",
    "\n",
    "## Summer\n",
    "param_summer_refPeriod_Ohio = param_summer_Ohio[refPeriodStepSt:refPeriodStepEnd]\n",
    "print(param_summer_refPeriod_Ohio.shape)\n",
    "\n",
    "param_summer_eraOne_Ohio = param_summer_Ohio[scenEraOneStepSt:scenEraOneStepEnd]\n",
    "print(param_summer_eraOne_Ohio.shape)\n",
    "\n",
    "param_summer_eraTwo_Ohio = param_summer_Ohio[scenEraTwoStepSt:scenEraTwoStepEnd]\n",
    "print(param_summer_eraTwo_Ohio.shape)\n",
    "\n",
    "param_summer_eraThree_Ohio = param_summer_Ohio[scenEraThreeStepSt:scenEraThreeStepEnd]\n",
    "print(param_summer_eraThree_Ohio.shape)\n",
    "\n",
    "## Fall\n",
    "param_fall_refPeriod_Ohio = param_fall_Ohio[refPeriodStepSt:refPeriodStepEnd]\n",
    "print(param_fall_refPeriod_Ohio.shape)\n",
    "\n",
    "param_fall_eraOne_Ohio = param_fall_Ohio[scenEraOneStepSt:scenEraOneStepEnd]\n",
    "print(param_fall_eraOne_Ohio.shape)\n",
    "\n",
    "param_fall_eraTwo_Ohio = param_fall_Ohio[scenEraTwoStepSt:scenEraTwoStepEnd]\n",
    "print(param_fall_eraTwo_Ohio.shape)\n",
    "\n",
    "param_fall_eraThree_Ohio = param_fall_Ohio[scenEraThreeStepSt:scenEraThreeStepEnd]\n",
    "print(param_fall_eraThree_Ohio.shape)\n",
    "#====================================================\n"
   ]
  },
  {
   "cell_type": "code",
   "execution_count": 97,
   "metadata": {},
   "outputs": [
    {
     "name": "stdout",
     "output_type": "stream",
     "text": [
      "28.932939705030517\n",
      "1.1122825817303554\n",
      "8.533320353364742\n",
      "0.23800742556294674\n",
      "4.6186449283626265\n",
      "0.1614108930643383\n",
      "17.110424064479442\n",
      "0.7486837286525331\n"
     ]
    }
   ],
   "source": [
    "## Find the mean and standard deviation of the reference period values\n",
    "## Winter\n",
    "param_winter_refPeriodMean_refPeriod_Ohio = np.nanmean(param_winter_refPeriod_Ohio)\n",
    "print(param_winter_refPeriodMean_refPeriod_Ohio)\n",
    "param_winter_refPeriodStd_refPeriod_Ohio = np.nanstd(param_winter_refPeriod_Ohio)\n",
    "print(param_winter_refPeriodStd_refPeriod_Ohio)\n",
    "\n",
    "## Spring\n",
    "param_spring_refPeriodMean_refPeriod_Ohio = np.nanmean(param_spring_refPeriod_Ohio)\n",
    "print(param_spring_refPeriodMean_refPeriod_Ohio)\n",
    "param_spring_refPeriodStd_refPeriod_Ohio = np.nanstd(param_spring_refPeriod_Ohio)\n",
    "print(param_spring_refPeriodStd_refPeriod_Ohio)\n",
    "\n",
    "## Summer\n",
    "param_summer_refPeriodMean_refPeriod_Ohio = np.nanmean(param_summer_refPeriod_Ohio)\n",
    "print(param_summer_refPeriodMean_refPeriod_Ohio)\n",
    "param_summer_refPeriodStd_refPeriod_Ohio = np.nanstd(param_summer_refPeriod_Ohio)\n",
    "print(param_summer_refPeriodStd_refPeriod_Ohio)\n",
    "\n",
    "## Fall\n",
    "param_fall_refPeriodMean_refPeriod_Ohio = np.nanmean(param_fall_refPeriod_Ohio)\n",
    "print(param_fall_refPeriodMean_refPeriod_Ohio)\n",
    "param_fall_refPeriodStd_refPeriod_Ohio = np.nanstd(param_fall_refPeriod_Ohio)\n",
    "print(param_fall_refPeriodStd_refPeriod_Ohio)\n",
    "#+++++++++++++++++++++++++++++++++++++++++++++++++++++++++++++++++++++++++++++++++++++++++++++++++++++++++"
   ]
  },
  {
   "cell_type": "code",
   "execution_count": 98,
   "metadata": {},
   "outputs": [
    {
     "name": "stdout",
     "output_type": "stream",
     "text": [
      "(171,)\n",
      "(171,)\n",
      "(30,)\n",
      "(30,)\n",
      "(26,)\n",
      "(171,)\n",
      "(171,)\n",
      "(30,)\n",
      "(30,)\n",
      "(26,)\n",
      "(171,)\n",
      "(171,)\n",
      "(30,)\n",
      "(30,)\n",
      "(26,)\n",
      "(171,)\n",
      "(171,)\n",
      "(30,)\n",
      "(30,)\n",
      "(26,)\n"
     ]
    }
   ],
   "source": [
    "## For Anom Plot\n",
    "####### Winter\n",
    "param_winterAnom_Ohio = (param_winter_Ohio - param_winter_refPeriodMean_refPeriod_Ohio)\n",
    "print(param_winterAnom_Ohio.shape)\n",
    "param_winterAnomScore_Ohio = (param_winter_Ohio - param_winter_refPeriodMean_refPeriod_Ohio)/param_winter_refPeriodStd_refPeriod_Ohio\n",
    "print(param_winterAnomScore_Ohio.shape)\n",
    "\n",
    "## For Box Plot\n",
    "param_winterAnom_eraOne_Ohio = param_winterAnom_Ohio[scenEraOneStepSt:scenEraOneStepEnd]\n",
    "print(param_winterAnom_eraOne_Ohio.shape)\n",
    "param_winterAnom_eraTwo_Ohio = param_winterAnom_Ohio[scenEraTwoStepSt:scenEraTwoStepEnd]\n",
    "print(param_winterAnom_eraTwo_Ohio.shape)\n",
    "param_winterAnom_eraThree_Ohio = param_winterAnom_Ohio[scenEraThreeStepSt:scenEraThreeStepEnd]\n",
    "print(param_winterAnom_eraThree_Ohio.shape)\n",
    "#+++++++++++++++++++++++++++++++++++++++++++++++++++++++++++++++++++++++++++++++++++++++++++++++++++++++++++++++++++++++\n",
    "\n",
    "####### Spring\n",
    "param_springAnom_Ohio = (param_spring_Ohio - param_spring_refPeriodMean_refPeriod_Ohio)\n",
    "print(param_springAnom_Ohio.shape)\n",
    "param_springAnomScore_Ohio = (param_spring_Ohio - param_spring_refPeriodMean_refPeriod_Ohio)/param_spring_refPeriodStd_refPeriod_Ohio\n",
    "print(param_springAnomScore_Ohio.shape)\n",
    "\n",
    "## For Box Plot\n",
    "param_springAnom_eraOne_Ohio = param_springAnom_Ohio[scenEraOneStepSt:scenEraOneStepEnd]\n",
    "print(param_springAnom_eraOne_Ohio.shape)\n",
    "param_springAnom_eraTwo_Ohio = param_springAnom_Ohio[scenEraTwoStepSt:scenEraTwoStepEnd]\n",
    "print(param_springAnom_eraTwo_Ohio.shape)\n",
    "param_springAnom_eraThree_Ohio = param_springAnom_Ohio[scenEraThreeStepSt:scenEraThreeStepEnd]\n",
    "print(param_springAnom_eraThree_Ohio.shape)\n",
    "#+++++++++++++++++++++++++++++++++++++++++++++++++++++++++++++++++++++++++++++++++++++++++++++++++++++++++++++++++++++++\n",
    "\n",
    "####### Summer\n",
    "param_summerAnom_Ohio = (param_summer_Ohio - param_summer_refPeriodMean_refPeriod_Ohio)\n",
    "print(param_summerAnom_Ohio.shape)\n",
    "param_summerAnomScore_Ohio = (param_summer_Ohio - param_summer_refPeriodMean_refPeriod_Ohio)/param_summer_refPeriodStd_refPeriod_Ohio\n",
    "print(param_summerAnomScore_Ohio.shape)\n",
    "\n",
    "## For Box Plot\n",
    "param_summerAnom_eraOne_Ohio = param_summerAnom_Ohio[scenEraOneStepSt:scenEraOneStepEnd]\n",
    "print(param_summerAnom_eraOne_Ohio.shape)\n",
    "param_summerAnom_eraTwo_Ohio = param_summerAnom_Ohio[scenEraTwoStepSt:scenEraTwoStepEnd]\n",
    "print(param_summerAnom_eraTwo_Ohio.shape)\n",
    "param_summerAnom_eraThree_Ohio = param_summerAnom_Ohio[scenEraThreeStepSt:scenEraThreeStepEnd]\n",
    "print(param_summerAnom_eraThree_Ohio.shape)\n",
    "#+++++++++++++++++++++++++++++++++++++++++++++++++++++++++++++++++++++++++++++++++++++++++++++++++++++++++++++++++++++++\n",
    "\n",
    "####### Fall\n",
    "param_fallAnom_Ohio = (param_fall_Ohio - param_fall_refPeriodMean_refPeriod_Ohio)\n",
    "print(param_fallAnom_Ohio.shape)\n",
    "param_fallAnomScore_Ohio = (param_fall_Ohio - param_fall_refPeriodMean_refPeriod_Ohio)/param_fall_refPeriodStd_refPeriod_Ohio\n",
    "print(param_fallAnomScore_Ohio.shape)\n",
    "\n",
    "## For Box Plot\n",
    "param_fallAnom_eraOne_Ohio = param_fallAnom_Ohio[scenEraOneStepSt:scenEraOneStepEnd]\n",
    "print(param_fallAnom_eraOne_Ohio.shape)\n",
    "param_fallAnom_eraTwo_Ohio = param_fallAnom_Ohio[scenEraTwoStepSt:scenEraTwoStepEnd]\n",
    "print(param_fallAnom_eraTwo_Ohio.shape)\n",
    "param_fallAnom_eraThree_Ohio = param_fallAnom_Ohio[scenEraThreeStepSt:scenEraThreeStepEnd]\n",
    "print(param_fallAnom_eraThree_Ohio.shape)\n",
    "#+++++++++++++++++++++++++++++++++++++++++++++++++++++++++++++++++++++++++++++++++++++++++++++++++++++++++++++++++++++++"
   ]
  },
  {
   "cell_type": "code",
   "execution_count": null,
   "metadata": {},
   "outputs": [],
   "source": []
  },
  {
   "cell_type": "markdown",
   "metadata": {},
   "source": [
    "## Lower Mississippi River Basin"
   ]
  },
  {
   "cell_type": "code",
   "execution_count": 99,
   "metadata": {},
   "outputs": [
    {
     "name": "stdout",
     "output_type": "stream",
     "text": [
      "(30,)\n",
      "(30,)\n",
      "(30,)\n",
      "(26,)\n",
      "(30,)\n",
      "(30,)\n",
      "(30,)\n",
      "(26,)\n",
      "(30,)\n",
      "(30,)\n",
      "(30,)\n",
      "(26,)\n",
      "(30,)\n",
      "(30,)\n",
      "(30,)\n",
      "(26,)\n"
     ]
    }
   ],
   "source": [
    "## Winter\n",
    "param_winter_refPeriod_lowMissi = param_winter_lowMissi[refPeriodStepSt:refPeriodStepEnd]\n",
    "print(param_winter_refPeriod_lowMissi.shape)\n",
    "\n",
    "param_winter_eraOne_lowMissi = param_winter_lowMissi[scenEraOneStepSt:scenEraOneStepEnd]\n",
    "print(param_winter_eraOne_lowMissi.shape)\n",
    "\n",
    "param_winter_eraTwo_lowMissi = param_winter_lowMissi[scenEraTwoStepSt:scenEraTwoStepEnd]\n",
    "print(param_winter_eraTwo_lowMissi.shape)\n",
    "\n",
    "param_winter_eraThree_lowMissi = param_winter_lowMissi[scenEraThreeStepSt:scenEraThreeStepEnd]\n",
    "print(param_winter_eraThree_lowMissi.shape)\n",
    "#+++++++++++++++++++++++++++++++++++++++++++++++++++++++++++++++++++++++++++++++++++++++++++++++++++++++++\n",
    "\n",
    "## Spring\n",
    "param_spring_refPeriod_lowMissi = param_spring_lowMissi[refPeriodStepSt:refPeriodStepEnd]\n",
    "print(param_spring_refPeriod_lowMissi.shape)\n",
    "\n",
    "param_spring_eraOne_lowMissi = param_spring_lowMissi[scenEraOneStepSt:scenEraOneStepEnd]\n",
    "print(param_spring_eraOne_lowMissi.shape)\n",
    "\n",
    "param_spring_eraTwo_lowMissi = param_spring_lowMissi[scenEraTwoStepSt:scenEraTwoStepEnd]\n",
    "print(param_spring_eraTwo_lowMissi.shape)\n",
    "\n",
    "param_spring_eraThree_lowMissi = param_spring_lowMissi[scenEraThreeStepSt:scenEraThreeStepEnd]\n",
    "print(param_spring_eraThree_lowMissi.shape)\n",
    "\n",
    "## Summer\n",
    "param_summer_refPeriod_lowMissi = param_summer_lowMissi[refPeriodStepSt:refPeriodStepEnd]\n",
    "print(param_summer_refPeriod_lowMissi.shape)\n",
    "\n",
    "param_summer_eraOne_lowMissi = param_summer_lowMissi[scenEraOneStepSt:scenEraOneStepEnd]\n",
    "print(param_summer_eraOne_lowMissi.shape)\n",
    "\n",
    "param_summer_eraTwo_lowMissi = param_summer_lowMissi[scenEraTwoStepSt:scenEraTwoStepEnd]\n",
    "print(param_summer_eraTwo_lowMissi.shape)\n",
    "\n",
    "param_summer_eraThree_lowMissi = param_summer_lowMissi[scenEraThreeStepSt:scenEraThreeStepEnd]\n",
    "print(param_summer_eraThree_lowMissi.shape)\n",
    "\n",
    "## Fall\n",
    "param_fall_refPeriod_lowMissi = param_fall_lowMissi[refPeriodStepSt:refPeriodStepEnd]\n",
    "print(param_fall_refPeriod_lowMissi.shape)\n",
    "\n",
    "param_fall_eraOne_lowMissi = param_fall_lowMissi[scenEraOneStepSt:scenEraOneStepEnd]\n",
    "print(param_fall_eraOne_lowMissi.shape)\n",
    "\n",
    "param_fall_eraTwo_lowMissi = param_fall_lowMissi[scenEraTwoStepSt:scenEraTwoStepEnd]\n",
    "print(param_fall_eraTwo_lowMissi.shape)\n",
    "\n",
    "param_fall_eraThree_lowMissi = param_fall_lowMissi[scenEraThreeStepSt:scenEraThreeStepEnd]\n",
    "print(param_fall_eraThree_lowMissi.shape)\n",
    "#====================================================\n"
   ]
  },
  {
   "cell_type": "code",
   "execution_count": 100,
   "metadata": {},
   "outputs": [
    {
     "name": "stdout",
     "output_type": "stream",
     "text": [
      "10.150720397170252\n",
      "0.4215869246635772\n",
      "13.1221606673642\n",
      "0.5559716551320276\n",
      "8.994193007990265\n",
      "0.3590879658195257\n",
      "7.385799859681084\n",
      "0.4155489495279005\n"
     ]
    }
   ],
   "source": [
    "## Find the mean and standard deviation of the reference period values\n",
    "## Winter\n",
    "param_winter_refPeriodMean_refPeriod_lowMissi = np.nanmean(param_winter_refPeriod_lowMissi)\n",
    "print(param_winter_refPeriodMean_refPeriod_lowMissi)\n",
    "param_winter_refPeriodStd_refPeriod_lowMissi = np.nanstd(param_winter_refPeriod_lowMissi)\n",
    "print(param_winter_refPeriodStd_refPeriod_lowMissi)\n",
    "\n",
    "## Spring\n",
    "param_spring_refPeriodMean_refPeriod_lowMissi = np.nanmean(param_spring_refPeriod_lowMissi)\n",
    "print(param_spring_refPeriodMean_refPeriod_lowMissi)\n",
    "param_spring_refPeriodStd_refPeriod_lowMissi = np.nanstd(param_spring_refPeriod_lowMissi)\n",
    "print(param_spring_refPeriodStd_refPeriod_lowMissi)\n",
    "\n",
    "## Summer\n",
    "param_summer_refPeriodMean_refPeriod_lowMissi = np.nanmean(param_summer_refPeriod_lowMissi)\n",
    "print(param_summer_refPeriodMean_refPeriod_lowMissi)\n",
    "param_summer_refPeriodStd_refPeriod_lowMissi = np.nanstd(param_summer_refPeriod_lowMissi)\n",
    "print(param_summer_refPeriodStd_refPeriod_lowMissi)\n",
    "\n",
    "## Fall\n",
    "param_fall_refPeriodMean_refPeriod_lowMissi = np.nanmean(param_fall_refPeriod_lowMissi)\n",
    "print(param_fall_refPeriodMean_refPeriod_lowMissi)\n",
    "param_fall_refPeriodStd_refPeriod_lowMissi = np.nanstd(param_fall_refPeriod_lowMissi)\n",
    "print(param_fall_refPeriodStd_refPeriod_lowMissi)\n",
    "#+++++++++++++++++++++++++++++++++++++++++++++++++++++++++++++++++++++++++++++++++++++++++++++++++++++++++"
   ]
  },
  {
   "cell_type": "code",
   "execution_count": 101,
   "metadata": {},
   "outputs": [
    {
     "name": "stdout",
     "output_type": "stream",
     "text": [
      "(171,)\n",
      "(171,)\n",
      "(30,)\n",
      "(30,)\n",
      "(26,)\n",
      "(171,)\n",
      "(171,)\n",
      "(30,)\n",
      "(30,)\n",
      "(26,)\n",
      "(171,)\n",
      "(171,)\n",
      "(30,)\n",
      "(30,)\n",
      "(26,)\n",
      "(171,)\n",
      "(171,)\n",
      "(30,)\n",
      "(30,)\n",
      "(26,)\n"
     ]
    }
   ],
   "source": [
    "## For Anom Plot\n",
    "####### Winter\n",
    "param_winterAnom_lowMissi = (param_winter_lowMissi - param_winter_refPeriodMean_refPeriod_lowMissi)\n",
    "print(param_winterAnom_lowMissi.shape)\n",
    "param_winterAnomScore_lowMissi = (param_winter_lowMissi - param_winter_refPeriodMean_refPeriod_lowMissi)/param_winter_refPeriodStd_refPeriod_lowMissi\n",
    "print(param_winterAnomScore_lowMissi.shape)\n",
    "\n",
    "## For Box Plot\n",
    "param_winterAnom_eraOne_lowMissi = param_winterAnom_lowMissi[scenEraOneStepSt:scenEraOneStepEnd]\n",
    "print(param_winterAnom_eraOne_lowMissi.shape)\n",
    "param_winterAnom_eraTwo_lowMissi = param_winterAnom_lowMissi[scenEraTwoStepSt:scenEraTwoStepEnd]\n",
    "print(param_winterAnom_eraTwo_lowMissi.shape)\n",
    "param_winterAnom_eraThree_lowMissi = param_winterAnom_lowMissi[scenEraThreeStepSt:scenEraThreeStepEnd]\n",
    "print(param_winterAnom_eraThree_lowMissi.shape)\n",
    "#+++++++++++++++++++++++++++++++++++++++++++++++++++++++++++++++++++++++++++++++++++++++++++++++++++++++++++++++++++++++\n",
    "\n",
    "####### Spring\n",
    "param_springAnom_lowMissi = (param_spring_lowMissi - param_spring_refPeriodMean_refPeriod_lowMissi)\n",
    "print(param_springAnom_lowMissi.shape)\n",
    "param_springAnomScore_lowMissi = (param_spring_lowMissi - param_spring_refPeriodMean_refPeriod_lowMissi)/param_spring_refPeriodStd_refPeriod_lowMissi\n",
    "print(param_springAnomScore_lowMissi.shape)\n",
    "\n",
    "## For Box Plot\n",
    "param_springAnom_eraOne_lowMissi = param_springAnom_lowMissi[scenEraOneStepSt:scenEraOneStepEnd]\n",
    "print(param_springAnom_eraOne_lowMissi.shape)\n",
    "param_springAnom_eraTwo_lowMissi = param_springAnom_lowMissi[scenEraTwoStepSt:scenEraTwoStepEnd]\n",
    "print(param_springAnom_eraTwo_lowMissi.shape)\n",
    "param_springAnom_eraThree_lowMissi = param_springAnom_lowMissi[scenEraThreeStepSt:scenEraThreeStepEnd]\n",
    "print(param_springAnom_eraThree_lowMissi.shape)\n",
    "#+++++++++++++++++++++++++++++++++++++++++++++++++++++++++++++++++++++++++++++++++++++++++++++++++++++++++++++++++++++++\n",
    "\n",
    "####### Summer\n",
    "param_summerAnom_lowMissi = (param_summer_lowMissi - param_summer_refPeriodMean_refPeriod_lowMissi)\n",
    "print(param_summerAnom_lowMissi.shape)\n",
    "param_summerAnomScore_lowMissi = (param_summer_lowMissi - param_summer_refPeriodMean_refPeriod_lowMissi)/param_summer_refPeriodStd_refPeriod_lowMissi\n",
    "print(param_summerAnomScore_lowMissi.shape)\n",
    "\n",
    "## For Box Plot\n",
    "param_summerAnom_eraOne_lowMissi = param_summerAnom_lowMissi[scenEraOneStepSt:scenEraOneStepEnd]\n",
    "print(param_summerAnom_eraOne_lowMissi.shape)\n",
    "param_summerAnom_eraTwo_lowMissi = param_summerAnom_lowMissi[scenEraTwoStepSt:scenEraTwoStepEnd]\n",
    "print(param_summerAnom_eraTwo_lowMissi.shape)\n",
    "param_summerAnom_eraThree_lowMissi = param_summerAnom_lowMissi[scenEraThreeStepSt:scenEraThreeStepEnd]\n",
    "print(param_summerAnom_eraThree_lowMissi.shape)\n",
    "#+++++++++++++++++++++++++++++++++++++++++++++++++++++++++++++++++++++++++++++++++++++++++++++++++++++++++++++++++++++++\n",
    "\n",
    "####### Fall\n",
    "param_fallAnom_lowMissi = (param_fall_lowMissi - param_fall_refPeriodMean_refPeriod_lowMissi)\n",
    "print(param_fallAnom_lowMissi.shape)\n",
    "param_fallAnomScore_lowMissi = (param_fall_lowMissi - param_fall_refPeriodMean_refPeriod_lowMissi)/param_fall_refPeriodStd_refPeriod_lowMissi\n",
    "print(param_fallAnomScore_lowMissi.shape)\n",
    "\n",
    "## For Box Plot\n",
    "param_fallAnom_eraOne_lowMissi = param_fallAnom_lowMissi[scenEraOneStepSt:scenEraOneStepEnd]\n",
    "print(param_fallAnom_eraOne_lowMissi.shape)\n",
    "param_fallAnom_eraTwo_lowMissi = param_fallAnom_lowMissi[scenEraTwoStepSt:scenEraTwoStepEnd]\n",
    "print(param_fallAnom_eraTwo_lowMissi.shape)\n",
    "param_fallAnom_eraThree_lowMissi = param_fallAnom_lowMissi[scenEraThreeStepSt:scenEraThreeStepEnd]\n",
    "print(param_fallAnom_eraThree_lowMissi.shape)\n",
    "#+++++++++++++++++++++++++++++++++++++++++++++++++++++++++++++++++++++++++++++++++++++++++++++++++++++++++++++++++++++++\n"
   ]
  },
  {
   "cell_type": "code",
   "execution_count": null,
   "metadata": {},
   "outputs": [],
   "source": []
  },
  {
   "cell_type": "code",
   "execution_count": null,
   "metadata": {},
   "outputs": [],
   "source": []
  },
  {
   "cell_type": "markdown",
   "metadata": {},
   "source": [
    "## Formatting Figure"
   ]
  },
  {
   "cell_type": "code",
   "execution_count": 102,
   "metadata": {},
   "outputs": [
    {
     "data": {
      "text/html": [
       "<div>\n",
       "<style scoped>\n",
       "    .dataframe tbody tr th:only-of-type {\n",
       "        vertical-align: middle;\n",
       "    }\n",
       "\n",
       "    .dataframe tbody tr th {\n",
       "        vertical-align: top;\n",
       "    }\n",
       "\n",
       "    .dataframe thead th {\n",
       "        text-align: right;\n",
       "    }\n",
       "</style>\n",
       "<table border=\"1\" class=\"dataframe\">\n",
       "  <thead>\n",
       "    <tr style=\"text-align: right;\">\n",
       "      <th></th>\n",
       "      <th>t1</th>\n",
       "    </tr>\n",
       "  </thead>\n",
       "  <tbody>\n",
       "    <tr>\n",
       "      <th>0</th>\n",
       "      <td>1930-01-01</td>\n",
       "    </tr>\n",
       "    <tr>\n",
       "      <th>1</th>\n",
       "      <td>1931-01-01</td>\n",
       "    </tr>\n",
       "    <tr>\n",
       "      <th>2</th>\n",
       "      <td>1932-01-01</td>\n",
       "    </tr>\n",
       "    <tr>\n",
       "      <th>3</th>\n",
       "      <td>1933-01-01</td>\n",
       "    </tr>\n",
       "    <tr>\n",
       "      <th>4</th>\n",
       "      <td>1934-01-01</td>\n",
       "    </tr>\n",
       "    <tr>\n",
       "      <th>...</th>\n",
       "      <td>...</td>\n",
       "    </tr>\n",
       "    <tr>\n",
       "      <th>166</th>\n",
       "      <td>2096-01-01</td>\n",
       "    </tr>\n",
       "    <tr>\n",
       "      <th>167</th>\n",
       "      <td>2097-01-01</td>\n",
       "    </tr>\n",
       "    <tr>\n",
       "      <th>168</th>\n",
       "      <td>2098-01-01</td>\n",
       "    </tr>\n",
       "    <tr>\n",
       "      <th>169</th>\n",
       "      <td>2099-01-01</td>\n",
       "    </tr>\n",
       "    <tr>\n",
       "      <th>170</th>\n",
       "      <td>2100-01-01</td>\n",
       "    </tr>\n",
       "  </tbody>\n",
       "</table>\n",
       "<p>171 rows × 1 columns</p>\n",
       "</div>"
      ],
      "text/plain": [
       "            t1\n",
       "0   1930-01-01\n",
       "1   1931-01-01\n",
       "2   1932-01-01\n",
       "3   1933-01-01\n",
       "4   1934-01-01\n",
       "..         ...\n",
       "166 2096-01-01\n",
       "167 2097-01-01\n",
       "168 2098-01-01\n",
       "169 2099-01-01\n",
       "170 2100-01-01\n",
       "\n",
       "[171 rows x 1 columns]"
      ]
     },
     "execution_count": 102,
     "metadata": {},
     "output_type": "execute_result"
    }
   ],
   "source": [
    "yrSt = 1930\n",
    "yrEnd = 2100\n",
    "\n",
    "\n",
    "timeList = []\n",
    "for yr in range(yrSt, yrEnd+1):    \n",
    "    \n",
    "    \n",
    "    yMD = datetime.datetime(yr,1,1)    \n",
    "    timeList.append(yMD)\n",
    "                   \n",
    "                        \n",
    "timeListDf = pd.DataFrame(timeList)\n",
    "\n",
    "timeListDf.columns = ['t1']\n",
    "timeListDf\n"
   ]
  },
  {
   "cell_type": "code",
   "execution_count": 103,
   "metadata": {},
   "outputs": [
    {
     "data": {
      "text/plain": [
       "Int64Index([0, 20, 40, 60, 80, 100, 120, 140, 160], dtype='int64')"
      ]
     },
     "execution_count": 103,
     "metadata": {},
     "output_type": "execute_result"
    }
   ],
   "source": [
    "yMD = timeListDf['t1'].dt.strftime('%Y').sort_values()\n",
    "multiple = 20\n",
    "\n",
    "multiple = np.ceil(multiple)\n",
    "timeTickLebels = yMD[yMD.index % multiple == 0]\n",
    "timeTicks = yMD.index[yMD.index % multiple == 0]\n",
    "timeTicks\n"
   ]
  },
  {
   "cell_type": "code",
   "execution_count": 104,
   "metadata": {},
   "outputs": [],
   "source": [
    "width = 0.5  # the width of the bars\n",
    "\n",
    "my_colors = [\"green\", \"blue\", \n",
    "             \"orange\", \"red\"]\n",
    "sns.set_palette( my_colors )"
   ]
  },
  {
   "cell_type": "code",
   "execution_count": null,
   "metadata": {},
   "outputs": [],
   "source": []
  },
  {
   "cell_type": "code",
   "execution_count": null,
   "metadata": {},
   "outputs": [],
   "source": []
  },
  {
   "cell_type": "code",
   "execution_count": 105,
   "metadata": {},
   "outputs": [
    {
     "name": "stderr",
     "output_type": "stream",
     "text": [
      "<ipython-input-105-93f74d922065>:26: UserWarning: FixedFormatter should only be used together with FixedLocator\n",
      "  ax1.xaxis.set_major_formatter(plt.FixedFormatter(yMD))\n",
      "<ipython-input-105-93f74d922065>:46: UserWarning: FixedFormatter should only be used together with FixedLocator\n",
      "  ax2.xaxis.set_major_formatter(plt.FixedFormatter(yMD))\n",
      "<ipython-input-105-93f74d922065>:71: UserWarning: FixedFormatter should only be used together with FixedLocator\n",
      "  ax3.xaxis.set_major_formatter(plt.FixedFormatter(yMD))\n",
      "<ipython-input-105-93f74d922065>:94: UserWarning: FixedFormatter should only be used together with FixedLocator\n",
      "  ax4.xaxis.set_major_formatter(plt.FixedFormatter(yMD))\n"
     ]
    },
    {
     "data": {
      "image/png": "[encoded data removed]",
      "text/plain": [
       "<Figure size 864x720 with 4 Axes>"
      ]
     },
     "metadata": {
      "needs_background": "light"
     },
     "output_type": "display_data"
    }
   ],
   "source": [
    "#%matplotlib notebook\n",
    "\n",
    "\n",
    "tickFontSize = 14\n",
    "textFontSize = 16\n",
    "legendFontSize = 15\n",
    "titleFontSize = 16\n",
    "\n",
    "linewidth = 0.8\n",
    "dashLinewidth = 0.7\n",
    "\n",
    "#++++++++++++++++++++++++++++++++++++++++++++++++++++++++++++++++++++++++++\n",
    "fig = plt.figure(figsize=(12, 10), constrained_layout=False)\n",
    "axs = [plt.subplot(4, 1, x + 1,) for x in range(4)]\n",
    "ax1 = axs[0]\n",
    "\n",
    "ln12=ax1.plot(range(171), param_winterAnom_Missouri, label=\"Winter\", color = 'green', linestyle='-', linewidth=1.0)\n",
    "ln13=ax1.plot(range(171), param_springAnom_Missouri, label=\"Spring\", color = 'blue', linestyle='-', linewidth=1.0)\n",
    "ln14=ax1.plot(range(171), param_summerAnom_Missouri, label=\"Summer\", color = 'orange', linestyle='-', linewidth=1.0)\n",
    "ln15=ax1.plot(range(171), param_fallAnom_Missouri, label=\"Fall\", color = 'red', linestyle='-', linewidth=1.0)\n",
    "ln16=ax1.axhline(y = 0, color = 'k', label = '', linestyle='--', linewidth=0.7)\n",
    "ln17=ax1.axvspan(1, 84.5, color='b',alpha=0.03)\n",
    "\n",
    "ax1.set_title('(a) Missouri', y=0.98, pad=-14, fontsize = textFontSize, loc='left')\n",
    "#+++++++++++++++++++++++++++\n",
    "ax1.xaxis.set_major_formatter(plt.FixedFormatter(yMD))\n",
    "ax1.set_xticks(timeTicks)\n",
    "ax1.set_xticklabels('', )\n",
    "\n",
    "ax1.set_xlim([0, 170])\n",
    "ax1.set_ylim([-2.45, 1.25])\n",
    "\n",
    "ax1.set_yticks([-2, -1, 0, 1]) \n",
    "ax1.set_yticklabels(['-2', '-1', '0', '1'],  fontsize = tickFontSize) \n",
    "#+++++++++++++++++++++++++++++++++++++\n",
    "\n",
    "ax2 = axs[1]\n",
    "ln22=ax2.plot(range(171), param_winterAnom_Arkansas, label=\"Winter\", color = 'green', linestyle='-', linewidth=1.0)\n",
    "ln23=ax2.plot(range(171), param_springAnom_Arkansas, label=\"Spring\", color = 'blue', linestyle='-', linewidth=1.0)\n",
    "ln24=ax2.plot(range(171), param_summerAnom_Arkansas, label=\"Summer\", color = 'orange', linestyle='-', linewidth=1.0)\n",
    "ln25=ax2.plot(range(171), param_fallAnom_Arkansas, label=\"Fall\", color = 'red', linestyle='-', linewidth=1.0)\n",
    "ln26=ax2.axhline(y = 0, color = 'k', label = '', linestyle='--', linewidth=0.7)\n",
    "ln27=ax2.axvspan(1, 84.5, color='b',alpha=0.03)\n",
    "\n",
    "ax2.set_title('(b) Arkansas', y=0.98, pad=-14, fontsize = textFontSize, loc='left')\n",
    "ax2.xaxis.set_major_formatter(plt.FixedFormatter(yMD))\n",
    "ax2.set_xticks(timeTicks)\n",
    "ax2.set_xticklabels('', )\n",
    "\n",
    "ax2.set_xlim([0, 170])\n",
    "ax2.set_ylim([-0.8, 1.55])\n",
    "\n",
    "ax2.set_yticks([0, 1]) \n",
    "ax2.set_yticklabels(['0', '1'],  fontsize = tickFontSize) \n",
    "\n",
    "ax2.set_ylabel('Anomaly, mm/mon', fontsize = textFontSize)\n",
    "\n",
    "ax2.yaxis.set_label_coords(-.045, -.1)\n",
    "#+++++++++++++++++++++++++++++++++++++\n",
    "#+++++++++++++++++++++++++++++++++++++\n",
    "\n",
    "ax3 = axs[2]\n",
    "ln32=ax3.plot(range(171), param_winterAnom_Ohio, label=\"Winter\", color = 'green', linestyle='-', linewidth=1.0)\n",
    "ln33=ax3.plot(range(171), param_springAnom_Ohio, label=\"Spring\", color = 'blue', linestyle='-', linewidth=1.0)\n",
    "ln34=ax3.plot(range(171), param_summerAnom_Ohio, label=\"Summer\", color = 'orange', linestyle='-', linewidth=1.0)\n",
    "ln35=ax3.plot(range(171), param_fallAnom_Ohio, label=\"Fall\", color = 'red', linestyle='-', linewidth=1.0)\n",
    "ln36=ax3.axhline(y = 0, color = 'k', label = '', linestyle='--', linewidth=0.7)\n",
    "ln37=ax3.axvspan(1, 84.5, color='b',alpha=0.03)\n",
    "\n",
    "ax3.set_title('(c) Ohio', y=0.98, pad=-14, fontsize = textFontSize, loc='left')\n",
    "ax3.xaxis.set_major_formatter(plt.FixedFormatter(yMD))\n",
    "ax3.set_xticks(timeTicks)\n",
    "ax3.set_xticklabels('', )\n",
    "\n",
    "ax3.set_xlim([0, 170])\n",
    "ax3.set_ylim([-3.3, 8.4])\n",
    "\n",
    "ax3.set_yticks([0, 5]) \n",
    "ax3.set_yticklabels(['0', '5'],  fontsize = tickFontSize) \n",
    "ax3.legend(ncol=4, loc=(+0.185, -1.75),frameon=False, fontsize=legendFontSize)\n",
    "#+++++++++++++++++++++++++++++++++++++\n",
    "#+++++++++++++++++++++++++++++++++++++\n",
    "\n",
    "ax4 = axs[3]\n",
    "ln42=ax4.plot(range(171), param_winterAnom_lowMissi, label=\"Winter\", color = 'green', linestyle='-', linewidth=1.0)\n",
    "ln43=ax4.plot(range(171), param_springAnom_lowMissi, label=\"Spring\", color = 'blue', linestyle='-', linewidth=1.0)\n",
    "ln44=ax4.plot(range(171), param_summerAnom_lowMissi, label=\"Summer\", color = 'orange', linestyle='-', linewidth=1.0)\n",
    "ln45=ax4.plot(range(171), param_fallAnom_lowMissi, label=\"Fall\", color = 'red', linestyle='-', linewidth=1.0)\n",
    "ln46=ax4.axhline(y = 0, color = 'k', label = '', linestyle='--', linewidth=0.7)\n",
    "ln47=ax4.axvspan(1, 84.5, color='b',alpha=0.03)\n",
    "\n",
    "ax4.set_title('(d) Lower Mississippi', y=0.98, pad=-14, fontsize = textFontSize, loc='left')\n",
    "\n",
    "ax4.xaxis.set_major_formatter(plt.FixedFormatter(yMD))\n",
    "ax4.set_xticks(timeTicks)\n",
    "ax4.set_xticklabels(timeTickLebels, minor=False, rotation=0, fontsize = tickFontSize)\n",
    "\n",
    "ax4.set_xlim([0, 170])\n",
    "ax4.set_ylim([-2.05, 3.1])\n",
    "\n",
    "ax4.set_yticks([-2, 0, 2]) \n",
    "ax4.set_yticklabels(['-2', '0', '2'],  fontsize = tickFontSize) \n",
    "\n",
    "ax4.set_xlabel('Time', fontsize = textFontSize)\n",
    "\n",
    "#+++++++++++++++++++++++++++++++++++++\n",
    "#+++++++++++++++++++++++++++++++++++++\n",
    "\n",
    "plt.show()\n",
    "\n",
    "#plt.savefig(r'C:\\rezaul\\1.academic\\1.research\\2.project\\mrb\\output\\fig\\paperOne\\param\\runoff\\seasonal\\runoffSeasonalAnomTs.pdf') \n",
    "#plt.savefig(r'C:\\rezaul\\1.academic\\1.research\\2.project\\mrb\\output\\fig\\paperOne\\param\\runoff\\seasonal\\runoffSeasonalAnomTs.png', dpi=600)  \n",
    "\n",
    "\n"
   ]
  },
  {
   "cell_type": "code",
   "execution_count": null,
   "metadata": {},
   "outputs": [],
   "source": []
  },
  {
   "cell_type": "code",
   "execution_count": null,
   "metadata": {},
   "outputs": [],
   "source": []
  },
  {
   "cell_type": "code",
   "execution_count": null,
   "metadata": {},
   "outputs": [],
   "source": []
  },
  {
   "cell_type": "code",
   "execution_count": 106,
   "metadata": {},
   "outputs": [
    {
     "ename": "SyntaxError",
     "evalue": "invalid syntax (<ipython-input-106-665768e7338e>, line 1)",
     "output_type": "error",
     "traceback": [
      "\u001b[1;36m  File \u001b[1;32m\"<ipython-input-106-665768e7338e>\"\u001b[1;36m, line \u001b[1;32m1\u001b[0m\n\u001b[1;33m    STOP here ===========\u001b[0m\n\u001b[1;37m         ^\u001b[0m\n\u001b[1;31mSyntaxError\u001b[0m\u001b[1;31m:\u001b[0m invalid syntax\n"
     ]
    }
   ],
   "source": [
    "STOP here ==========="
   ]
  },
  {
   "cell_type": "code",
   "execution_count": null,
   "metadata": {},
   "outputs": [],
   "source": []
  },
  {
   "cell_type": "code",
   "execution_count": null,
   "metadata": {},
   "outputs": [],
   "source": []
  },
  {
   "cell_type": "code",
   "execution_count": null,
   "metadata": {},
   "outputs": [],
   "source": []
  },
  {
   "cell_type": "code",
   "execution_count": null,
   "metadata": {},
   "outputs": [],
   "source": []
  }
 ],
 "metadata": {
  "kernelspec": {
   "display_name": "Python 3",
   "language": "python",
   "name": "python3"
  },
  "language_info": {
   "codemirror_mode": {
    "name": "ipython",
    "version": 3
   },
   "file_extension": ".py",
   "mimetype": "text/x-python",
   "name": "python",
   "nbconvert_exporter": "python",
   "pygments_lexer": "ipython3",
   "version": "3.8.5"
  }
 },
 "nbformat": 4,
 "nbformat_minor": 4
}
