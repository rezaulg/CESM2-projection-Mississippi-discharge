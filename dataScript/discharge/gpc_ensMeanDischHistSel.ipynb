{
 "cells": [
  {
   "cell_type": "markdown",
   "id": "0bd0070a-39dc-45d9-a19e-c579a4072873",
   "metadata": {},
   "source": [
    "## This script accesses the CESM2 Discharge data for the Historical years from GLADE repository of NCAR"
   ]
  },
  {
   "cell_type": "code",
   "execution_count": 1,
   "id": "dd9787ab-8358-4d70-b4c7-a802b65f0682",
   "metadata": {},
   "outputs": [],
   "source": [
    "import xarray as xr\n",
    "from netCDF4 import Dataset  \n",
    "import numpy as np\n",
    "from numpy import unravel_index\n",
    "\n",
    "from matplotlib import pyplot as plt \n",
    "from numpy import linspace "
   ]
  },
  {
   "cell_type": "code",
   "execution_count": 2,
   "id": "9bed25d6-4d5d-4839-bb3c-be561674e834",
   "metadata": {},
   "outputs": [],
   "source": [
    "# Projection\n",
    "import cartopy.crs as ccrs\n",
    "import cartopy.feature as cfeature"
   ]
  },
  {
   "cell_type": "code",
   "execution_count": 3,
   "id": "dad07f4d-a11f-47f5-8987-30c6504e7f9c",
   "metadata": {},
   "outputs": [],
   "source": [
    "from descartes import PolygonPatch\n",
    "import shapefile as shp  # Requires the pyshp package\n",
    "import cartopy.io.shapereader as shpreader"
   ]
  },
  {
   "cell_type": "code",
   "execution_count": 4,
   "id": "8767997b-b417-4590-aad3-18cae3e81ca4",
   "metadata": {},
   "outputs": [],
   "source": [
    "# Common imports\n",
    "import calendar\n",
    "import datetime\n",
    "import pandas as pd\n",
    "from matplotlib import pyplot as plt\n",
    "import matplotlib.dates as mdates\n",
    "from numpy import array, ma\n",
    "import scipy.io"
   ]
  },
  {
   "cell_type": "code",
   "execution_count": 5,
   "id": "6d3746ca-c6d6-4930-aad1-2701ee5f07b4",
   "metadata": {},
   "outputs": [
    {
     "name": "stdout",
     "output_type": "stream",
     "text": [
      "/glade/campaign/cgd/cesm/CESM2-LE/rof/proc/tseries/month_1\n"
     ]
    }
   ],
   "source": [
    "cd '/glade/campaign/cgd/cesm/CESM2-LE/rof/proc/tseries/month_1'"
   ]
  },
  {
   "cell_type": "code",
   "execution_count": 7,
   "id": "a4d8cdb4-8740-4063-b74c-76ee36740b4c",
   "metadata": {},
   "outputs": [
    {
     "name": "stdout",
     "output_type": "stream",
     "text": [
      "/glade/campaign/cgd/cesm/CESM2-LE/rof/proc/tseries/month_1/RIVER_DISCHARGE_OVER_LAND_LIQ\n"
     ]
    }
   ],
   "source": [
    "cd RIVER_DISCHARGE_OVER_LAND_LIQ"
   ]
  },
  {
   "cell_type": "code",
   "execution_count": 8,
   "id": "9ecc61a3-12dd-4f17-919e-fb644ef030d3",
   "metadata": {},
   "outputs": [
    {
     "data": {
      "text/plain": [
       "'/glade/campaign/cgd/cesm/CESM2-LE/rof/proc/tseries/month_1/RIVER_DISCHARGE_OVER_LAND_LIQ'"
      ]
     },
     "execution_count": 8,
     "metadata": {},
     "output_type": "execute_result"
    }
   ],
   "source": [
    "pwd"
   ]
  },
  {
   "cell_type": "markdown",
   "id": "61b27ca4-9427-4db1-a01e-f4a61c9653f7",
   "metadata": {},
   "source": [
    "## Accessing One File"
   ]
  },
  {
   "cell_type": "code",
   "execution_count": 9,
   "id": "f8e4682e-f2e3-434e-9ecf-5554065bf812",
   "metadata": {},
   "outputs": [
    {
     "name": "stdout",
     "output_type": "stream",
     "text": [
      "/glade/campaign/cgd/cesm/CESM2-LE/rof/proc/tseries/month_1/RIVER_DISCHARGE_OVER_LAND_LIQ/b.e21.BHISTcmip6.f09_g17.LE2-1001.001.mosart.h0.RIVER_DISCHARGE_OVER_LAND_LIQ.185001-185912.nc\n"
     ]
    }
   ],
   "source": [
    "filePath = '/glade/campaign/cgd/cesm/CESM2-LE/rof/proc/tseries/month_1/RIVER_DISCHARGE_OVER_LAND_LIQ'\n",
    "fileName_Sample = 'b.e21.BHISTcmip6.f09_g17.LE2-1001.001.mosart.h0.RIVER_DISCHARGE_OVER_LAND_LIQ.185001-185912.nc'\n",
    "ncFile_disch_Sample = str(filePath) + '/' + str(fileName_Sample)\n",
    "print(ncFile_disch_Sample)"
   ]
  },
  {
   "cell_type": "code",
   "execution_count": 10,
   "id": "38fda3e5-9302-4c68-b220-2df987af412a",
   "metadata": {
    "tags": []
   },
   "outputs": [
    {
     "data": {
      "text/plain": [
       "<xarray.Dataset>\n",
       "Dimensions:                        (hist_interval: 2, lat: 360, lon: 720, time: 120)\n",
       "Coordinates:\n",
       "  * lon                            (lon) float64 -179.8 -179.2 ... 179.2 179.8\n",
       "  * lat                            (lat) float64 -89.75 -89.25 ... 89.25 89.75\n",
       "  * time                           (time) datetime64[ns] 1850-02-01 ... 1860-01-01\n",
       "Dimensions without coordinates: hist_interval\n",
       "Data variables:\n",
       "    mask                           (lat, lon) float64 ...\n",
       "    area                           (lat, lon) float64 ...\n",
       "    areatotal                      (lat, lon) float64 ...\n",
       "    areatotal2                     (lat, lon) float64 ...\n",
       "    mcdate                         (time) float64 ...\n",
       "    mcsec                          (time) float64 ...\n",
       "    mdcur                          (time) float64 ...\n",
       "    mscur                          (time) float64 ...\n",
       "    nstep                          (time) float64 ...\n",
       "    time_bounds                    (time, hist_interval) float64 ...\n",
       "    date_written                   (time) object ...\n",
       "    time_written                   (time) object ...\n",
       "    RIVER_DISCHARGE_OVER_LAND_LIQ  (time, lat, lon) float64 ...\n",
       "Attributes:\n",
       "    title:              MOSART History file information\n",
       "    comment:            NOTE: None of the variables are weighted by land frac...\n",
       "    Conventions:        CF-1.0\n",
       "    history:            created on 01/31/20 16:34:55\n",
       "    source:             Model for Scale Adaptive River Transport MOSART1.0\n",
       "    hostname:           aleph\n",
       "    username:           sunseon\n",
       "    version:            cesm2.1.2-rc.03-18-g4ee0b23\n",
       "    model_doi_url:      https://doi.org/10.5065/D67H1H0V\n",
       "    case_title:         UNSET\n",
       "    case_id:            b.e21.BHISTcmip6.f09_g17.LE2-1001.001\n",
       "    RTM_input_dataset:  MOSART_routing_Global_0.5x0.5_c170601.nc\n",
       "    time_period_freq:   month_1"
      ]
     },
     "execution_count": 10,
     "metadata": {},
     "output_type": "execute_result"
    }
   ],
   "source": [
    "file_xr_Sample  = xr.open_dataset(ncFile_disch_Sample) \n",
    "file_xr_Sample"
   ]
  },
  {
   "cell_type": "code",
   "execution_count": 11,
   "id": "1ab47bf6-7fbf-49ca-905e-0a4380b0b8df",
   "metadata": {
    "tags": []
   },
   "outputs": [
    {
     "name": "stdout",
     "output_type": "stream",
     "text": [
      "120\n",
      "(120, 360, 720)\n",
      "\n"
     ]
    }
   ],
   "source": [
    "file_disch_Sample = Dataset(ncFile_disch_Sample, mode='r')\n",
    "file_disch_Sample\n",
    "\n",
    "lons = file_disch_Sample.variables['lon'][:]\n",
    "lats = file_disch_Sample.variables['lat'][:]\n",
    "times = file_disch_Sample.variables['time'][:]\n",
    "ntim = times.shape[0]\n",
    "print(ntim)\n",
    "\n",
    "time = np.arange(ntim)\n",
    "time\n",
    "\n",
    "param_disch_Sample = file_disch_Sample.variables['RIVER_DISCHARGE_OVER_LAND_LIQ'][:]\n",
    "\n",
    "print(param_disch_Sample.shape)\n",
    "print('')"
   ]
  },
  {
   "cell_type": "code",
   "execution_count": 12,
   "id": "4e52913b-b397-4b76-a55e-9a766aac8762",
   "metadata": {},
   "outputs": [
    {
     "name": "stdout",
     "output_type": "stream",
     "text": [
      "360\n",
      "720\n",
      "120\n",
      "1980\n",
      "50\n"
     ]
    }
   ],
   "source": [
    "t,y,x = param_disch_Sample.shape\n",
    "print(y)\n",
    "print(x)\n",
    "print(t)\n",
    "\n",
    "nDecades = 16\n",
    "monStepHistTot = t*nDecades + 60   # =185001_201412 (60 is half of 120)\n",
    "print(monStepHistTot)\n",
    "\n",
    "ensMem = 50     # 50 ensemble members for monthly discharge data\n",
    "print(ensMem)"
   ]
  },
  {
   "cell_type": "markdown",
   "id": "da1770c9-d750-45d0-9349-3494fa2c6642",
   "metadata": {},
   "source": [
    "## Setting US boundaries"
   ]
  },
  {
   "cell_type": "code",
   "execution_count": 13,
   "id": "e7f727ef-cf77-4c4d-8199-db34d756807b",
   "metadata": {},
   "outputs": [],
   "source": [
    "# Save only U.S. \n",
    "latboundsUs = [ 25 , 55]\n",
    "lonboundsUs = [-130 , -60]\n"
   ]
  },
  {
   "cell_type": "code",
   "execution_count": 14,
   "id": "c15dd736-4c72-454d-8106-b98210f439c7",
   "metadata": {},
   "outputs": [],
   "source": [
    "# latitude lower and upper index\n",
    "latli = np.argmin( np.abs( lats - latboundsUs[0] ) )\n",
    "latui = np.argmin( np.abs( lats - latboundsUs[1] ) ) \n",
    "\n",
    "# longitude lower and upper index\n",
    "lonli = np.argmin( np.abs( lons - lonboundsUs[0] ) )\n",
    "lonui = np.argmin( np.abs( lons - lonboundsUs[1] ) )  "
   ]
  },
  {
   "cell_type": "code",
   "execution_count": 15,
   "id": "9ae98643-81ca-4423-916a-0bd3fd20591e",
   "metadata": {},
   "outputs": [
    {
     "name": "stdout",
     "output_type": "stream",
     "text": [
      "(120, 360, 720)\n"
     ]
    }
   ],
   "source": [
    "print(param_disch_Sample.shape)"
   ]
  },
  {
   "cell_type": "code",
   "execution_count": 16,
   "id": "01523a7f-efa9-434a-b47a-3f54c1765280",
   "metadata": {},
   "outputs": [
    {
     "name": "stdout",
     "output_type": "stream",
     "text": [
      "(120, 60, 140)\n"
     ]
    }
   ],
   "source": [
    "param_disch_Sample_US = param_disch_Sample[:, latli:latui , lonli:lonui]\n",
    "print(param_disch_Sample_US.shape)"
   ]
  },
  {
   "cell_type": "code",
   "execution_count": 17,
   "id": "8f8438ba-d542-4a0f-9c41-b88f015e32bf",
   "metadata": {},
   "outputs": [
    {
     "name": "stdout",
     "output_type": "stream",
     "text": [
      "60\n",
      "140\n",
      "120\n"
     ]
    }
   ],
   "source": [
    "t,y_US,x_US = param_disch_Sample_US.shape\n",
    "print(y_US)\n",
    "print(x_US)\n",
    "print(t)"
   ]
  },
  {
   "cell_type": "code",
   "execution_count": 18,
   "id": "6a8355ec-96c6-4889-90e0-5aa6daaaa9ce",
   "metadata": {},
   "outputs": [
    {
     "name": "stdout",
     "output_type": "stream",
     "text": [
      "(1980, 60, 140, 50)\n"
     ]
    }
   ],
   "source": [
    "#\n",
    "monDischUsHistEnsMem = np.zeros((monStepHistTot, y_US, x_US, ensMem, )) \n",
    "monDischUsHistEnsMem[:] = np.nan\n",
    "print(monDischUsHistEnsMem.shape)"
   ]
  },
  {
   "cell_type": "code",
   "execution_count": 19,
   "id": "05d20e26-220d-481d-8b7d-7cf32b8958fb",
   "metadata": {},
   "outputs": [
    {
     "name": "stdout",
     "output_type": "stream",
     "text": [
      "1001.001\n",
      "1021.002\n",
      "1041.003\n",
      "1061.004\n",
      "1081.005\n",
      "1101.006\n",
      "1121.007\n",
      "1141.008\n",
      "1161.009\n",
      "1181.010\n",
      "1231.001\n",
      "1231.002\n",
      "1231.003\n",
      "1231.004\n",
      "1231.005\n",
      "1231.006\n",
      "1231.007\n",
      "1231.008\n",
      "1231.009\n",
      "1231.010\n",
      "1251.001\n",
      "1251.002\n",
      "1251.003\n",
      "1251.004\n",
      "1251.005\n",
      "1251.006\n",
      "1251.007\n",
      "1251.008\n",
      "1251.009\n",
      "1251.010\n",
      "1281.001\n",
      "1281.002\n",
      "1281.003\n",
      "1281.004\n",
      "1281.005\n",
      "1281.006\n",
      "1281.007\n",
      "1281.008\n",
      "1281.009\n",
      "1281.010\n",
      "1301.001\n",
      "1301.002\n",
      "1301.003\n",
      "1301.004\n",
      "1301.005\n",
      "1301.006\n",
      "1301.007\n",
      "1301.008\n",
      "1301.009\n",
      "1301.010\n"
     ]
    }
   ],
   "source": [
    "\n",
    "filePath = '/glade/campaign/cgd/cesm/CESM2-LE/rof/proc/tseries/month_1/RIVER_DISCHARGE_OVER_LAND_LIQ'\n",
    "\n",
    "yrCtrlIds = ['1001', '1021', '1041', '1061', '1081', '1101', '1121', '1141', '1161', '1181', '1231', '1251', '1281', '1301'];\n",
    "yrId = 0\n",
    "monId = 0\n",
    "\n",
    "monSt = 1\n",
    "monEnd = 12\n",
    "\n",
    "memId = -1\n",
    "for yrCtrl in yrCtrlIds:    \n",
    "    yrId = yrId + 1   \n",
    "    \n",
    "    if yrId < 11:\n",
    "        memId = memId + 1\n",
    "        tStepSt = 0\n",
    "        yrHistSt = 1849\n",
    "        yrHistEnd = yrHistSt + 9\n",
    "    \n",
    "        monId = monId + 1  \n",
    "        yrMonDigits = str(yrCtrl)+'.' + str(monId).rjust(3,'0')\n",
    "        print(yrMonDigits)\n",
    "        \n",
    "        for decade in range(17):\n",
    "            yrHistSt = yrHistSt + 1\n",
    "            yrHistEnd = yrHistEnd + 1\n",
    "            \n",
    "            yrMonHistSt = str(yrHistSt) + str(monSt).rjust(2,'0')\n",
    "            yrMonHistEnd = str(yrHistEnd) + str(monEnd).rjust(2,'0')  \n",
    "            \n",
    "            fileName = 'b.e21.BHISTcmip6.f09_g17.LE2-'+yrMonDigits+'.mosart.h0.RIVER_DISCHARGE_OVER_LAND_LIQ.' +yrMonHistSt+'-'+yrMonHistEnd+'.nc'\n",
    "            ncFile_disch = str(filePath) + '/' + str(fileName)\n",
    "            file_disch = Dataset(ncFile_disch, mode='r')                        \n",
    "            param_DischToAdd = file_disch.variables['RIVER_DISCHARGE_OVER_LAND_LIQ'][:, latli:latui , lonli:lonui]            \n",
    "            t,y_US,x_US = param_DischToAdd.shape\n",
    "            tStepEnd = tStepSt + t            \n",
    "           \n",
    "            \n",
    "            monDischUsHistEnsMem[tStepSt:tStepEnd, :, :, memId] = param_DischToAdd  \n",
    "            \n",
    "            yrHistSt = yrHistEnd\n",
    "            tStepSt = tStepEnd\n",
    "            \n",
    "            if decade <15:\n",
    "                yrHistEnd = yrHistSt + 9\n",
    "            else:\n",
    "                yrHistEnd = yrHistSt + 4\n",
    "            \n",
    "    else: \n",
    "        \n",
    "    \n",
    "        for monCont in range(1, 11): \n",
    "            \n",
    "            tStepSt = 0\n",
    "            memId = memId + 1\n",
    "            yrMonDigits = str(yrCtrl)+'.' + str(monCont).rjust(3,'0')\n",
    "            print(yrMonDigits)\n",
    "            \n",
    "            yrHistSt = 1849\n",
    "            yrHistEnd = yrHistSt + 9\n",
    "            \n",
    "            for decade in range(17):            \n",
    "                yrHistSt = yrHistSt + 1\n",
    "                yrHistEnd = yrHistEnd + 1\n",
    "    \n",
    "                yrMonHistSt = str(yrHistSt) + str(monSt).rjust(2,'0')\n",
    "                yrMonHistEnd = str(yrHistEnd) + str(monEnd).rjust(2,'0')  \n",
    "                \n",
    "                fileName = 'b.e21.BHISTcmip6.f09_g17.LE2-'+yrMonDigits+'.mosart.h0.RIVER_DISCHARGE_OVER_LAND_LIQ.' +yrMonHistSt+'-'+yrMonHistEnd+'.nc'\n",
    "                ncFile_disch = str(filePath) + '/' + str(fileName)\n",
    "                file_disch = Dataset(ncFile_disch, mode='r')                        \n",
    "                param_DischToAdd = file_disch.variables['RIVER_DISCHARGE_OVER_LAND_LIQ'][:, latli:latui , lonli:lonui]              \n",
    "                t,y_US,x_US = param_DischToAdd.shape\n",
    "                tStepEnd = tStepSt + t \n",
    "                \n",
    "                    \n",
    "                monDischUsHistEnsMem[tStepSt:tStepEnd, :, :, memId] = param_DischToAdd \n",
    "                \n",
    "            \n",
    "                yrHistSt = yrHistEnd\n",
    "                tStepSt = tStepEnd               \n",
    "                \n",
    "                if decade <15:\n",
    "                    yrHistEnd = yrHistSt + 9\n",
    "                else:\n",
    "                    yrHistEnd = yrHistSt + 4\n",
    "        \n",
    "    \n"
   ]
  },
  {
   "cell_type": "code",
   "execution_count": 20,
   "id": "4485643c-0e35-4eb3-8b5c-b4e2d6e6638e",
   "metadata": {},
   "outputs": [
    {
     "name": "stdout",
     "output_type": "stream",
     "text": [
      "(1980, 60, 140, 50)\n"
     ]
    }
   ],
   "source": [
    "print(monDischUsHistEnsMem.shape)"
   ]
  },
  {
   "cell_type": "markdown",
   "id": "5561954c-2fbf-496f-962d-ee9643928052",
   "metadata": {},
   "source": [
    "## Subsetting data for 1930~2014 as required for GPC paper"
   ]
  },
  {
   "cell_type": "code",
   "execution_count": 21,
   "id": "33b7500f-7a92-4a07-bd1e-2a4eecac6fd0",
   "metadata": {},
   "outputs": [
    {
     "name": "stdout",
     "output_type": "stream",
     "text": [
      "(1980, 60, 140, 50)\n"
     ]
    }
   ],
   "source": [
    "print(monDischUsHistEnsMem.shape)"
   ]
  },
  {
   "cell_type": "code",
   "execution_count": 22,
   "id": "45ec341f-a105-4a5e-949e-c4c223610cf1",
   "metadata": {},
   "outputs": [
    {
     "name": "stdout",
     "output_type": "stream",
     "text": [
      "85\n"
     ]
    }
   ],
   "source": [
    "histYrSt  = 1850\n",
    "histTrgtYrSt = 1930\n",
    "histYrEnd = 2014\n",
    "\n",
    "nYrsHist = (histYrEnd - histTrgtYrSt + 1)\n",
    "print(nYrsHist)"
   ]
  },
  {
   "cell_type": "code",
   "execution_count": 23,
   "id": "2eb57a51-c62f-409e-8015-bf7b77500a4c",
   "metadata": {},
   "outputs": [
    {
     "name": "stdout",
     "output_type": "stream",
     "text": [
      "960 1980\n"
     ]
    }
   ],
   "source": [
    "histTrgtStepSt = (histTrgtYrSt - histYrSt)*12     # = from 1930\n",
    "histTrgtStepEnd = (histYrEnd - histYrSt + 1)*12\n",
    "print(histTrgtStepSt, histTrgtStepEnd)\n"
   ]
  },
  {
   "cell_type": "code",
   "execution_count": 24,
   "id": "b75b29b3-eed2-4af3-8533-3990eb9a2308",
   "metadata": {},
   "outputs": [
    {
     "name": "stdout",
     "output_type": "stream",
     "text": [
      "(1980, 60, 140, 50)\n"
     ]
    }
   ],
   "source": [
    "print(monDischUsHistEnsMem.shape)"
   ]
  },
  {
   "cell_type": "code",
   "execution_count": 25,
   "id": "5d7d5747-910b-4be5-a634-23f741289da6",
   "metadata": {},
   "outputs": [
    {
     "name": "stdout",
     "output_type": "stream",
     "text": [
      "(1020, 60, 140, 50)\n"
     ]
    }
   ],
   "source": [
    "monDischUsHistSelEnsMembers = monDischUsHistEnsMem[histTrgtStepSt:histTrgtStepEnd,:,:,:]\n",
    "print(monDischUsHistSelEnsMembers.shape)"
   ]
  },
  {
   "cell_type": "markdown",
   "id": "c5e22e20-bc96-4b23-9a44-e1ee69fc84ae",
   "metadata": {},
   "source": [
    "## Calculate Ensemble Mean value"
   ]
  },
  {
   "cell_type": "code",
   "execution_count": 27,
   "id": "02e428f3-91f2-420b-b967-e76e1cedbd1d",
   "metadata": {},
   "outputs": [
    {
     "name": "stdout",
     "output_type": "stream",
     "text": [
      "(1020, 60, 140)\n"
     ]
    }
   ],
   "source": [
    "monDischUsHistSelEnsMean = np.nanmean(monDischUsHistSelEnsMembers, axis = 3)\n",
    "print(monDischUsHistSelEnsMean.shape)"
   ]
  },
  {
   "cell_type": "code",
   "execution_count": 45,
   "id": "8846efa0-b57b-4f03-81e9-3750ab7b9aec",
   "metadata": {},
   "outputs": [],
   "source": [
    "np.save('/glade/scratch/mrhaider/cesm2/param/discharge/mon/monDischUsHistSelEnsMean.npy', monDischUsHistSelEnsMean)"
   ]
  },
  {
   "cell_type": "code",
   "execution_count": 36,
   "id": "7e3925d3-9954-4bcc-a069-a25d304fc120",
   "metadata": {},
   "outputs": [
    {
     "name": "stdout",
     "output_type": "stream",
     "text": [
      "[24.75 25.25 25.75 26.25 26.75 27.25 27.75 28.25 28.75 29.25 29.75 30.25\n",
      " 30.75 31.25 31.75 32.25 32.75 33.25 33.75 34.25 34.75 35.25 35.75 36.25\n",
      " 36.75 37.25 37.75 38.25 38.75 39.25 39.75 40.25 40.75 41.25 41.75 42.25\n",
      " 42.75 43.25 43.75 44.25 44.75 45.25 45.75 46.25 46.75 47.25 47.75 48.25\n",
      " 48.75 49.25 49.75 50.25 50.75 51.25 51.75 52.25 52.75 53.25 53.75 54.25]\n"
     ]
    }
   ],
   "source": [
    "lats_US = lats[latli:latui]\n",
    "lons_US = lons[lonli:lonui]\n",
    "\n",
    "print(lats_US)\n"
   ]
  },
  {
   "cell_type": "code",
   "execution_count": 37,
   "id": "b9c3ee00-aafc-4f8b-b725-1542751417ff",
   "metadata": {},
   "outputs": [
    {
     "name": "stdout",
     "output_type": "stream",
     "text": [
      "[24.75 25.25 25.75 26.25 26.75 27.25 27.75 28.25 28.75 29.25 29.75 30.25\n",
      " 30.75 31.25 31.75 32.25 32.75 33.25 33.75 34.25 34.75 35.25 35.75 36.25\n",
      " 36.75 37.25 37.75 38.25 38.75 39.25 39.75 40.25 40.75 41.25 41.75 42.25\n",
      " 42.75 43.25 43.75 44.25 44.75 45.25 45.75 46.25 46.75 47.25 47.75 48.25\n",
      " 48.75 49.25 49.75 50.25 50.75 51.25 51.75 52.25 52.75 53.25 53.75 54.25]\n",
      "[-130.25 -129.75 -129.25 -128.75 -128.25 -127.75 -127.25 -126.75 -126.25\n",
      " -125.75 -125.25 -124.75 -124.25 -123.75 -123.25 -122.75 -122.25 -121.75\n",
      " -121.25 -120.75 -120.25 -119.75 -119.25 -118.75 -118.25 -117.75 -117.25\n",
      " -116.75 -116.25 -115.75 -115.25 -114.75 -114.25 -113.75 -113.25 -112.75\n",
      " -112.25 -111.75 -111.25 -110.75 -110.25 -109.75 -109.25 -108.75 -108.25\n",
      " -107.75 -107.25 -106.75 -106.25 -105.75 -105.25 -104.75 -104.25 -103.75\n",
      " -103.25 -102.75 -102.25 -101.75 -101.25 -100.75 -100.25  -99.75  -99.25\n",
      "  -98.75  -98.25  -97.75  -97.25  -96.75  -96.25  -95.75  -95.25  -94.75\n",
      "  -94.25  -93.75  -93.25  -92.75  -92.25  -91.75  -91.25  -90.75  -90.25\n",
      "  -89.75  -89.25  -88.75  -88.25  -87.75  -87.25  -86.75  -86.25  -85.75\n",
      "  -85.25  -84.75  -84.25  -83.75  -83.25  -82.75  -82.25  -81.75  -81.25\n",
      "  -80.75  -80.25  -79.75  -79.25  -78.75  -78.25  -77.75  -77.25  -76.75\n",
      "  -76.25  -75.75  -75.25  -74.75  -74.25  -73.75  -73.25  -72.75  -72.25\n",
      "  -71.75  -71.25  -70.75  -70.25  -69.75  -69.25  -68.75  -68.25  -67.75\n",
      "  -67.25  -66.75  -66.25  -65.75  -65.25  -64.75  -64.25  -63.75  -63.25\n",
      "  -62.75  -62.25  -61.75  -61.25  -60.75]\n"
     ]
    }
   ],
   "source": [
    "latsUsArr = np.array(lats_US)\n",
    "print(latsUsArr)\n",
    "\n",
    "lonsUsArr = np.array(lons_US)\n",
    "print(lonsUsArr)\n"
   ]
  },
  {
   "cell_type": "code",
   "execution_count": 32,
   "id": "1aff9c9d-9144-402e-9244-d67da0b95f4a",
   "metadata": {},
   "outputs": [],
   "source": [
    "np.save('/glade/scratch/mrhaider/cesm2/param/discharge/mon/latsUsArr.npy', latsUsArr)"
   ]
  },
  {
   "cell_type": "code",
   "execution_count": 33,
   "id": "86ab8f36-5c01-4078-b111-bc0c2f1bf8bd",
   "metadata": {},
   "outputs": [],
   "source": [
    "np.save('/glade/scratch/mrhaider/cesm2/param/discharge/mon/lonsUsArr.npy', lonsUsArr)"
   ]
  },
  {
   "cell_type": "code",
   "execution_count": null,
   "id": "48afa878-31b2-44b3-8d9e-663280b94f4c",
   "metadata": {},
   "outputs": [],
   "source": []
  },
  {
   "cell_type": "code",
   "execution_count": null,
   "id": "3824310a-bc67-4b56-9de5-65501dc29608",
   "metadata": {},
   "outputs": [],
   "source": []
  },
  {
   "cell_type": "code",
   "execution_count": null,
   "id": "5f6a5390-d220-42cd-8105-758c6fafb3ff",
   "metadata": {},
   "outputs": [],
   "source": []
  },
  {
   "cell_type": "code",
   "execution_count": 44,
   "id": "f92a3e15-b8ec-4424-8ad9-e0470c01a687",
   "metadata": {},
   "outputs": [
    {
     "ename": "SyntaxError",
     "evalue": "invalid syntax (<ipython-input-44-665768e7338e>, line 1)",
     "output_type": "error",
     "traceback": [
      "\u001b[0;36m  File \u001b[0;32m\"<ipython-input-44-665768e7338e>\"\u001b[0;36m, line \u001b[0;32m1\u001b[0m\n\u001b[0;31m    STOP here ===========\u001b[0m\n\u001b[0m            ^\u001b[0m\n\u001b[0;31mSyntaxError\u001b[0m\u001b[0;31m:\u001b[0m invalid syntax\n"
     ]
    }
   ],
   "source": [
    "STOP here ==========="
   ]
  },
  {
   "cell_type": "code",
   "execution_count": null,
   "id": "0e0e4ebe-df03-4051-8cb4-95cd0819dc1f",
   "metadata": {},
   "outputs": [],
   "source": []
  },
  {
   "cell_type": "code",
   "execution_count": null,
   "id": "e8463560-a9de-4bce-996b-38f50e742264",
   "metadata": {},
   "outputs": [],
   "source": []
  },
  {
   "cell_type": "code",
   "execution_count": null,
   "id": "44fd0c4d-1fe9-4439-9b48-301c141a3dd3",
   "metadata": {},
   "outputs": [],
   "source": []
  }
 ],
 "metadata": {
  "kernelspec": {
   "display_name": "Pangeo (Python 3.6)",
   "language": "python",
   "name": "pangeo-3.6"
  },
  "language_info": {
   "codemirror_mode": {
    "name": "ipython",
    "version": 3
   },
   "file_extension": ".py",
   "mimetype": "text/x-python",
   "name": "python",
   "nbconvert_exporter": "python",
   "pygments_lexer": "ipython3",
   "version": "3.6.7"
  }
 },
 "nbformat": 4,
 "nbformat_minor": 5
}
