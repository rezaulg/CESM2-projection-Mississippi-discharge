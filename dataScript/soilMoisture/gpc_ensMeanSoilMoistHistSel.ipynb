{
 "cells": [
  {
   "cell_type": "markdown",
   "id": "0d29d143-913f-470e-b903-42a29fb6de12",
   "metadata": {},
   "source": [
    "## This script accesses the CESM2 Soil Moisture data for the Scenario years from GLADE repository of NCAR"
   ]
  },
  {
   "cell_type": "code",
   "execution_count": 1,
   "id": "f9a3d619-b2f3-4a8c-ae31-b478295e60ec",
   "metadata": {},
   "outputs": [],
   "source": [
    "import xarray as xr\n",
    "from netCDF4 import Dataset \n",
    "import numpy as np\n",
    "from numpy import unravel_index\n",
    "\n",
    "from matplotlib import pyplot as plt \n",
    "from numpy import linspace \n"
   ]
  },
  {
   "cell_type": "code",
   "execution_count": 2,
   "id": "d162bc54-e82a-47b4-b1e2-9a14446a767d",
   "metadata": {},
   "outputs": [],
   "source": [
    "# Projection\n",
    "import cartopy.crs as ccrs\n",
    "import cartopy.feature as cfeature"
   ]
  },
  {
   "cell_type": "code",
   "execution_count": 3,
   "id": "6f1074c7-d021-4adc-9a7f-bacab4922838",
   "metadata": {},
   "outputs": [],
   "source": [
    "from descartes import PolygonPatch\n",
    "import shapefile as shp  # Requires the pyshp package\n",
    "import cartopy.io.shapereader as shpreader"
   ]
  },
  {
   "cell_type": "code",
   "execution_count": 4,
   "id": "7d3ee324-497f-4daa-9121-f8624243ce16",
   "metadata": {},
   "outputs": [],
   "source": [
    "# Common imports\n",
    "import calendar\n",
    "import datetime\n",
    "import pandas as pd\n",
    "from matplotlib import pyplot as plt\n",
    "import matplotlib.dates as mdates\n",
    "from numpy import array, ma\n",
    "import scipy.io"
   ]
  },
  {
   "cell_type": "code",
   "execution_count": 5,
   "id": "8b79cebd-0f2e-4209-9106-d8c879b23c39",
   "metadata": {},
   "outputs": [
    {
     "name": "stdout",
     "output_type": "stream",
     "text": [
      "/glade/campaign/cgd/cesm/CESM2-LE/lnd/proc/tseries/month_1/SOILWATER_10CM\n"
     ]
    }
   ],
   "source": [
    "cd '/glade/campaign/cgd/cesm/CESM2-LE/lnd/proc/tseries/month_1/SOILWATER_10CM'"
   ]
  },
  {
   "cell_type": "code",
   "execution_count": 6,
   "id": "f1086923-59e6-4bda-b3f3-dbddd907e525",
   "metadata": {},
   "outputs": [
    {
     "data": {
      "text/plain": [
       "'/glade/campaign/cgd/cesm/CESM2-LE/lnd/proc/tseries/month_1/SOILWATER_10CM'"
      ]
     },
     "execution_count": 6,
     "metadata": {},
     "output_type": "execute_result"
    }
   ],
   "source": [
    "pwd"
   ]
  },
  {
   "cell_type": "markdown",
   "id": "dc501411-26c7-4463-ac74-002b53eb3d94",
   "metadata": {},
   "source": [
    "## Accessing One File"
   ]
  },
  {
   "cell_type": "code",
   "execution_count": 7,
   "id": "d6c45a9d-2c7d-44e6-aa00-88bb33ac21fc",
   "metadata": {},
   "outputs": [
    {
     "name": "stdout",
     "output_type": "stream",
     "text": [
      "/glade/campaign/cgd/cesm/CESM2-LE/lnd/proc/tseries/month_1/SOILWATER_10CM/b.e21.BHISTcmip6.f09_g17.LE2-1001.001.clm2.h0.SOILWATER_10CM.185001-185912.nc\n"
     ]
    }
   ],
   "source": [
    "filePath = '/glade/campaign/cgd/cesm/CESM2-LE/lnd/proc/tseries/month_1/SOILWATER_10CM'\n",
    "fileName_Sample = 'b.e21.BHISTcmip6.f09_g17.LE2-1001.001.clm2.h0.SOILWATER_10CM.185001-185912.nc'\n",
    "ncFile_soilMoist_Sample = str(filePath) + '/' + str(fileName_Sample)\n",
    "print(ncFile_soilMoist_Sample)"
   ]
  },
  {
   "cell_type": "code",
   "execution_count": 8,
   "id": "00bc1936-dec3-426c-8a91-08a91a200be1",
   "metadata": {},
   "outputs": [
    {
     "data": {
      "text/plain": [
       "<xarray.Dataset>\n",
       "Dimensions:         (hist_interval: 2, lat: 192, levdcmp: 25, levgrnd: 25, levlak: 10, lon: 288, time: 120)\n",
       "Coordinates:\n",
       "  * levgrnd         (levgrnd) float32 0.01 0.04 0.09 ... 28.870724 41.998436\n",
       "  * levlak          (levlak) float32 0.05 0.6 2.1 4.6 ... 25.6 34.325 44.775\n",
       "  * levdcmp         (levdcmp) float32 0.01 0.04 0.09 ... 28.870724 41.998436\n",
       "  * lon             (lon) float32 0.0 1.25 2.5 3.75 ... 356.25 357.5 358.75\n",
       "  * lat             (lat) float32 -90.0 -89.057594 -88.11518 ... 89.057594 90.0\n",
       "  * time            (time) datetime64[ns] 1850-02-01 1850-03-01 ... 1860-01-01\n",
       "Dimensions without coordinates: hist_interval\n",
       "Data variables:\n",
       "    area            (lat, lon) float32 ...\n",
       "    landfrac        (lat, lon) float32 ...\n",
       "    landmask        (lat, lon) float64 ...\n",
       "    pftmask         (lat, lon) float64 ...\n",
       "    nbedrock        (lat, lon) float64 ...\n",
       "    ZSOI            (levgrnd, lat, lon) float32 ...\n",
       "    DZSOI           (levgrnd, lat, lon) float32 ...\n",
       "    WATSAT          (levgrnd, lat, lon) float32 ...\n",
       "    SUCSAT          (levgrnd, lat, lon) float32 ...\n",
       "    BSW             (levgrnd, lat, lon) float32 ...\n",
       "    HKSAT           (levgrnd, lat, lon) float32 ...\n",
       "    ZLAKE           (levlak, lat, lon) float32 ...\n",
       "    DZLAKE          (levlak, lat, lon) float32 ...\n",
       "    mcdate          (time) float64 ...\n",
       "    mcsec           (time) float64 ...\n",
       "    mdcur           (time) float64 ...\n",
       "    mscur           (time) float64 ...\n",
       "    nstep           (time) float64 ...\n",
       "    time_bounds     (time, hist_interval) float64 ...\n",
       "    date_written    (time) object ...\n",
       "    time_written    (time) object ...\n",
       "    SOILWATER_10CM  (time, lat, lon) float32 ...\n",
       "Attributes:\n",
       "    title:                                     CLM History file information\n",
       "    comment:                                   NOTE: None of the variables ar...\n",
       "    Conventions:                               CF-1.0\n",
       "    history:                                   created on 01/31/20 16:34:57\n",
       "    source:                                    Community Land Model CLM4.0\n",
       "    hostname:                                  aleph\n",
       "    username:                                  sunseon\n",
       "    version:                                   cesm2.1.2-rc.03-18-g4ee0b23\n",
       "    revision_id:                               $Id: histFileMod.F90 42903 201...\n",
       "    case_title:                                UNSET\n",
       "    case_id:                                   b.e21.BHISTcmip6.f09_g17.LE2-1...\n",
       "    Surface_dataset:                           surfdata_0.9x1.25_hist_78pfts_...\n",
       "    Initial_conditions_dataset:                finidat_interp_dest.nc\n",
       "    PFT_physiological_constants_dataset:       clm5_params.c171117.nc\n",
       "    ltype_vegetated_or_bare_soil:              1\n",
       "    ltype_crop:                                2\n",
       "    ltype_UNUSED:                              3\n",
       "    ltype_landice_multiple_elevation_classes:  4\n",
       "    ltype_deep_lake:                           5\n",
       "    ltype_wetland:                             6\n",
       "    ltype_urban_tbd:                           7\n",
       "    ltype_urban_hd:                            8\n",
       "    ltype_urban_md:                            9\n",
       "    ctype_vegetated_or_bare_soil:              1\n",
       "    ctype_crop:                                2\n",
       "    ctype_crop_noncompete:                     2*100+m, m=cft_lb,cft_ub\n",
       "    ctype_landice:                             3\n",
       "    ctype_landice_multiple_elevation_classes:  4*100+m, m=1,glcnec\n",
       "    ctype_deep_lake:                           5\n",
       "    ctype_wetland:                             6\n",
       "    ctype_urban_roof:                          71\n",
       "    ctype_urban_sunwall:                       72\n",
       "    ctype_urban_shadewall:                     73\n",
       "    ctype_urban_impervious_road:               74\n",
       "    ctype_urban_pervious_road:                 75\n",
       "    cft_c3_crop:                               1\n",
       "    cft_c3_irrigated:                          2\n",
       "    cft_temperate_corn:                        3\n",
       "    cft_irrigated_temperate_corn:              4\n",
       "    cft_spring_wheat:                          5\n",
       "    cft_irrigated_spring_wheat:                6\n",
       "    cft_winter_wheat:                          7\n",
       "    cft_irrigated_winter_wheat:                8\n",
       "    cft_temperate_soybean:                     9\n",
       "    cft_irrigated_temperate_soybean:           10\n",
       "    cft_barley:                                11\n",
       "    cft_irrigated_barley:                      12\n",
       "    cft_winter_barley:                         13\n",
       "    cft_irrigated_winter_barley:               14\n",
       "    cft_rye:                                   15\n",
       "    cft_irrigated_rye:                         16\n",
       "    cft_winter_rye:                            17\n",
       "    cft_irrigated_winter_rye:                  18\n",
       "    cft_cassava:                               19\n",
       "    cft_irrigated_cassava:                     20\n",
       "    cft_citrus:                                21\n",
       "    cft_irrigated_citrus:                      22\n",
       "    cft_cocoa:                                 23\n",
       "    cft_irrigated_cocoa:                       24\n",
       "    cft_coffee:                                25\n",
       "    cft_irrigated_coffee:                      26\n",
       "    cft_cotton:                                27\n",
       "    cft_irrigated_cotton:                      28\n",
       "    cft_datepalm:                              29\n",
       "    cft_irrigated_datepalm:                    30\n",
       "    cft_foddergrass:                           31\n",
       "    cft_irrigated_foddergrass:                 32\n",
       "    cft_grapes:                                33\n",
       "    cft_irrigated_grapes:                      34\n",
       "    cft_groundnuts:                            35\n",
       "    cft_irrigated_groundnuts:                  36\n",
       "    cft_millet:                                37\n",
       "    cft_irrigated_millet:                      38\n",
       "    cft_oilpalm:                               39\n",
       "    cft_irrigated_oilpalm:                     40\n",
       "    cft_potatoes:                              41\n",
       "    cft_irrigated_potatoes:                    42\n",
       "    cft_pulses:                                43\n",
       "    cft_irrigated_pulses:                      44\n",
       "    cft_rapeseed:                              45\n",
       "    cft_irrigated_rapeseed:                    46\n",
       "    cft_rice:                                  47\n",
       "    cft_irrigated_rice:                        48\n",
       "    cft_sorghum:                               49\n",
       "    cft_irrigated_sorghum:                     50\n",
       "    cft_sugarbeet:                             51\n",
       "    cft_irrigated_sugarbeet:                   52\n",
       "    cft_sugarcane:                             53\n",
       "    cft_irrigated_sugarcane:                   54\n",
       "    cft_sunflower:                             55\n",
       "    cft_irrigated_sunflower:                   56\n",
       "    cft_miscanthus:                            57\n",
       "    cft_irrigated_miscanthus:                  58\n",
       "    cft_switchgrass:                           59\n",
       "    cft_irrigated_switchgrass:                 60\n",
       "    cft_tropical_corn:                         61\n",
       "    cft_irrigated_tropical_corn:               62\n",
       "    cft_tropical_soybean:                      63\n",
       "    cft_irrigated_tropical_soybean:            64\n",
       "    time_period_freq:                          month_1"
      ]
     },
     "execution_count": 8,
     "metadata": {},
     "output_type": "execute_result"
    }
   ],
   "source": [
    "file_xr_Sample  = xr.open_dataset(ncFile_soilMoist_Sample) \n",
    "file_xr_Sample"
   ]
  },
  {
   "cell_type": "markdown",
   "id": "5948622e-8bee-4ff8-ba4b-d06b51b4d3ae",
   "metadata": {},
   "source": [
    "## Find the unit"
   ]
  },
  {
   "cell_type": "code",
   "execution_count": 9,
   "id": "f7740aff-29ca-47cb-9e87-506a3c8afbb2",
   "metadata": {},
   "outputs": [
    {
     "name": "stdout",
     "output_type": "stream",
     "text": [
      "(120, 192, 288)\n",
      "<xarray.DataArray 'SOILWATER_10CM' (time: 120, lat: 192, lon: 288)>\n",
      "[6635520 values with dtype=float32]\n",
      "Coordinates:\n",
      "  * lon      (lon) float32 0.0 1.25 2.5 3.75 5.0 ... 355.0 356.25 357.5 358.75\n",
      "  * lat      (lat) float32 -90.0 -89.057594 -88.11518 ... 89.057594 90.0\n",
      "  * time     (time) datetime64[ns] 1850-02-01 1850-03-01 ... 1860-01-01\n",
      "Attributes:\n",
      "    long_name:     soil liquid water + ice in top 10cm of soil (veg landunits...\n",
      "    units:         kg/m2\n",
      "    cell_methods:  time: mean\n"
     ]
    }
   ],
   "source": [
    "param_sm = file_xr_Sample['SOILWATER_10CM']\n",
    "print(param_sm.shape)\n",
    "print(param_sm)"
   ]
  },
  {
   "cell_type": "code",
   "execution_count": 10,
   "id": "bd1d6e35-ee7b-4e7c-ab9b-bf550ae6b297",
   "metadata": {},
   "outputs": [
    {
     "data": {
      "text/plain": [
       "<class 'netCDF4._netCDF4.Dataset'>\n",
       "root group (NETCDF4_CLASSIC data model, file format HDF5):\n",
       "    title: CLM History file information\n",
       "    comment: NOTE: None of the variables are weighted by land fraction!\n",
       "    Conventions: CF-1.0\n",
       "    history: created on 01/31/20 16:34:57\n",
       "    source: Community Land Model CLM4.0\n",
       "    hostname: aleph\n",
       "    username: sunseon\n",
       "    version: cesm2.1.2-rc.03-18-g4ee0b23\n",
       "    revision_id: $Id: histFileMod.F90 42903 2012-12-21 15:32:10Z muszala $\n",
       "    case_title: UNSET\n",
       "    case_id: b.e21.BHISTcmip6.f09_g17.LE2-1001.001\n",
       "    Surface_dataset: surfdata_0.9x1.25_hist_78pfts_CMIP6_simyr1850_c190214.nc\n",
       "    Initial_conditions_dataset: finidat_interp_dest.nc\n",
       "    PFT_physiological_constants_dataset: clm5_params.c171117.nc\n",
       "    ltype_vegetated_or_bare_soil: 1\n",
       "    ltype_crop: 2\n",
       "    ltype_UNUSED: 3\n",
       "    ltype_landice_multiple_elevation_classes: 4\n",
       "    ltype_deep_lake: 5\n",
       "    ltype_wetland: 6\n",
       "    ltype_urban_tbd: 7\n",
       "    ltype_urban_hd: 8\n",
       "    ltype_urban_md: 9\n",
       "    ctype_vegetated_or_bare_soil: 1\n",
       "    ctype_crop: 2\n",
       "    ctype_crop_noncompete: 2*100+m, m=cft_lb,cft_ub\n",
       "    ctype_landice: 3\n",
       "    ctype_landice_multiple_elevation_classes: 4*100+m, m=1,glcnec\n",
       "    ctype_deep_lake: 5\n",
       "    ctype_wetland: 6\n",
       "    ctype_urban_roof: 71\n",
       "    ctype_urban_sunwall: 72\n",
       "    ctype_urban_shadewall: 73\n",
       "    ctype_urban_impervious_road: 74\n",
       "    ctype_urban_pervious_road: 75\n",
       "    cft_c3_crop: 1\n",
       "    cft_c3_irrigated: 2\n",
       "    cft_temperate_corn: 3\n",
       "    cft_irrigated_temperate_corn: 4\n",
       "    cft_spring_wheat: 5\n",
       "    cft_irrigated_spring_wheat: 6\n",
       "    cft_winter_wheat: 7\n",
       "    cft_irrigated_winter_wheat: 8\n",
       "    cft_temperate_soybean: 9\n",
       "    cft_irrigated_temperate_soybean: 10\n",
       "    cft_barley: 11\n",
       "    cft_irrigated_barley: 12\n",
       "    cft_winter_barley: 13\n",
       "    cft_irrigated_winter_barley: 14\n",
       "    cft_rye: 15\n",
       "    cft_irrigated_rye: 16\n",
       "    cft_winter_rye: 17\n",
       "    cft_irrigated_winter_rye: 18\n",
       "    cft_cassava: 19\n",
       "    cft_irrigated_cassava: 20\n",
       "    cft_citrus: 21\n",
       "    cft_irrigated_citrus: 22\n",
       "    cft_cocoa: 23\n",
       "    cft_irrigated_cocoa: 24\n",
       "    cft_coffee: 25\n",
       "    cft_irrigated_coffee: 26\n",
       "    cft_cotton: 27\n",
       "    cft_irrigated_cotton: 28\n",
       "    cft_datepalm: 29\n",
       "    cft_irrigated_datepalm: 30\n",
       "    cft_foddergrass: 31\n",
       "    cft_irrigated_foddergrass: 32\n",
       "    cft_grapes: 33\n",
       "    cft_irrigated_grapes: 34\n",
       "    cft_groundnuts: 35\n",
       "    cft_irrigated_groundnuts: 36\n",
       "    cft_millet: 37\n",
       "    cft_irrigated_millet: 38\n",
       "    cft_oilpalm: 39\n",
       "    cft_irrigated_oilpalm: 40\n",
       "    cft_potatoes: 41\n",
       "    cft_irrigated_potatoes: 42\n",
       "    cft_pulses: 43\n",
       "    cft_irrigated_pulses: 44\n",
       "    cft_rapeseed: 45\n",
       "    cft_irrigated_rapeseed: 46\n",
       "    cft_rice: 47\n",
       "    cft_irrigated_rice: 48\n",
       "    cft_sorghum: 49\n",
       "    cft_irrigated_sorghum: 50\n",
       "    cft_sugarbeet: 51\n",
       "    cft_irrigated_sugarbeet: 52\n",
       "    cft_sugarcane: 53\n",
       "    cft_irrigated_sugarcane: 54\n",
       "    cft_sunflower: 55\n",
       "    cft_irrigated_sunflower: 56\n",
       "    cft_miscanthus: 57\n",
       "    cft_irrigated_miscanthus: 58\n",
       "    cft_switchgrass: 59\n",
       "    cft_irrigated_switchgrass: 60\n",
       "    cft_tropical_corn: 61\n",
       "    cft_irrigated_tropical_corn: 62\n",
       "    cft_tropical_soybean: 63\n",
       "    cft_irrigated_tropical_soybean: 64\n",
       "    time_period_freq: month_1\n",
       "    dimensions(sizes): lon(288), lat(192), gridcell(21013), landunit(62125), column(554298), pft(848480), levgrnd(25), levsoi(20), levurb(5), levlak(10), numrad(2), levsno(12), ltype(9), nlevcan(1), nvegwcs(4), natpft(15), cft(64), glc_nec(10), elevclas(11), string_length(16), scale_type_string_length(32), levdcmp(25), hist_interval(2), time(120)\n",
       "    variables(dimensions): float32 \u001b[4mlevgrnd\u001b[0m(levgrnd), float32 \u001b[4mlevlak\u001b[0m(levlak), float32 \u001b[4mlevdcmp\u001b[0m(levdcmp), float32 \u001b[4mlon\u001b[0m(lon), float32 \u001b[4mlat\u001b[0m(lat), float32 \u001b[4marea\u001b[0m(lat,lon), float32 \u001b[4mlandfrac\u001b[0m(lat,lon), int32 \u001b[4mlandmask\u001b[0m(lat,lon), int32 \u001b[4mpftmask\u001b[0m(lat,lon), int32 \u001b[4mnbedrock\u001b[0m(lat,lon), float32 \u001b[4mZSOI\u001b[0m(levgrnd,lat,lon), float32 \u001b[4mDZSOI\u001b[0m(levgrnd,lat,lon), float32 \u001b[4mWATSAT\u001b[0m(levgrnd,lat,lon), float32 \u001b[4mSUCSAT\u001b[0m(levgrnd,lat,lon), float32 \u001b[4mBSW\u001b[0m(levgrnd,lat,lon), float32 \u001b[4mHKSAT\u001b[0m(levgrnd,lat,lon), float32 \u001b[4mZLAKE\u001b[0m(levlak,lat,lon), float32 \u001b[4mDZLAKE\u001b[0m(levlak,lat,lon), float32 \u001b[4mtime\u001b[0m(time), int32 \u001b[4mmcdate\u001b[0m(time), int32 \u001b[4mmcsec\u001b[0m(time), int32 \u001b[4mmdcur\u001b[0m(time), int32 \u001b[4mmscur\u001b[0m(time), int32 \u001b[4mnstep\u001b[0m(time), float64 \u001b[4mtime_bounds\u001b[0m(time,hist_interval), |S1 \u001b[4mdate_written\u001b[0m(time,string_length), |S1 \u001b[4mtime_written\u001b[0m(time,string_length), float32 \u001b[4mSOILWATER_10CM\u001b[0m(time,lat,lon)\n",
       "    groups: "
      ]
     },
     "execution_count": 10,
     "metadata": {},
     "output_type": "execute_result"
    }
   ],
   "source": [
    "file_soilMoist_Sample = Dataset(ncFile_soilMoist_Sample, mode='r')\n",
    "file_soilMoist_Sample"
   ]
  },
  {
   "cell_type": "code",
   "execution_count": 11,
   "id": "d7260619-ab88-4920-82fd-35c7ea21c24e",
   "metadata": {},
   "outputs": [
    {
     "name": "stdout",
     "output_type": "stream",
     "text": [
      "120\n",
      "(120, 192, 288)\n",
      "\n"
     ]
    }
   ],
   "source": [
    "file_soilMoist_Sample = Dataset(ncFile_soilMoist_Sample, mode='r')\n",
    "file_soilMoist_Sample\n",
    "lons = file_soilMoist_Sample.variables['lon'][:]\n",
    "lats = file_soilMoist_Sample.variables['lat'][:]\n",
    "times = file_soilMoist_Sample.variables['time'][:]\n",
    "ntim = times.shape[0]\n",
    "print(ntim)\n",
    "time = np.arange(ntim)\n",
    "time\n",
    "param_soilMoist_Sample = file_soilMoist_Sample.variables['SOILWATER_10CM'][:]\n",
    "print(param_soilMoist_Sample.shape)\n",
    "print('')"
   ]
  },
  {
   "cell_type": "code",
   "execution_count": 12,
   "id": "09087d20-cec5-4566-a059-57f9c6f4415b",
   "metadata": {},
   "outputs": [
    {
     "name": "stdout",
     "output_type": "stream",
     "text": [
      "192\n",
      "288\n",
      "120\n",
      "1980\n",
      "50\n"
     ]
    }
   ],
   "source": [
    "t,y,x = param_soilMoist_Sample.shape\n",
    "print(y)\n",
    "print(x)\n",
    "print(t)\n",
    "nDecades = 16\n",
    "monStepHistTot = t*nDecades + 60   # =185001_201412 (60 is half of 120)\n",
    "print(monStepHistTot)\n",
    "ensMem = 50\n",
    "print(ensMem)"
   ]
  },
  {
   "cell_type": "code",
   "execution_count": 13,
   "id": "36e9c518-117c-4dfc-a7c0-1801304dac00",
   "metadata": {},
   "outputs": [
    {
     "name": "stdout",
     "output_type": "stream",
     "text": [
      "[-90.        -89.057594  -88.11518   -87.172775  -86.23037   -85.28796\n",
      " -84.34555   -83.403145  -82.46073   -81.518326  -80.57591   -79.63351\n",
      " -78.6911    -77.74869   -76.80628   -75.86388   -74.92146   -73.97906\n",
      " -73.03665   -72.09424   -71.15183   -70.20943   -69.26701   -68.32461\n",
      " -67.3822    -66.43979   -65.49738   -64.55498   -63.612564  -62.67016\n",
      " -61.72775   -60.78534   -59.842934  -58.900524  -57.958115  -57.015705\n",
      " -56.0733    -55.13089   -54.18848   -53.246075  -52.303665  -51.361256\n",
      " -50.41885   -49.47644   -48.53403   -47.59162   -46.649216  -45.706806\n",
      " -44.764397  -43.82199   -42.87958   -41.937172  -40.994766  -40.052357\n",
      " -39.109947  -38.167538  -37.225132  -36.282722  -35.340313  -34.397907\n",
      " -33.455498  -32.51309   -31.57068   -30.628273  -29.685863  -28.743456\n",
      " -27.801046  -26.858639  -25.916231  -24.973822  -24.031414  -23.089005\n",
      " -22.146597  -21.20419   -20.26178   -19.319372  -18.376963  -17.434555\n",
      " -16.492147  -15.549738  -14.607329  -13.664922  -12.722513  -11.780105\n",
      " -10.837696   -9.8952875  -8.95288    -8.010471   -7.068063   -6.125654\n",
      "  -5.183246   -4.2408376  -3.2984293  -2.356021   -1.4136126  -0.4712042\n",
      "   0.4712042   1.4136126   2.356021    3.2984293   4.2408376   5.183246\n",
      "   6.125654    7.068063    8.010471    8.95288     9.8952875  10.837696\n",
      "  11.780105   12.722513   13.664922   14.607329   15.549738   16.492147\n",
      "  17.434555   18.376963   19.319372   20.26178    21.20419    22.146597\n",
      "  23.089005   24.031414   24.973822   25.916231   26.858639   27.801046\n",
      "  28.743456   29.685863   30.628273   31.57068    32.51309    33.455498\n",
      "  34.397907   35.340313   36.282722   37.225132   38.167538   39.109947\n",
      "  40.052357   40.994766   41.937172   42.87958    43.82199    44.764397\n",
      "  45.706806   46.649216   47.59162    48.53403    49.47644    50.41885\n",
      "  51.361256   52.303665   53.246075   54.18848    55.13089    56.0733\n",
      "  57.015705   57.958115   58.900524   59.842934   60.78534    61.72775\n",
      "  62.67016    63.612564   64.55498    65.49738    66.43979    67.3822\n",
      "  68.32461    69.26701    70.20943    71.15183    72.09424    73.03665\n",
      "  73.97906    74.92146    75.86388    76.80628    77.74869    78.6911\n",
      "  79.63351    80.57591    81.518326   82.46073    83.403145   84.34555\n",
      "  85.28796    86.23037    87.172775   88.11518    89.057594   90.       ]\n"
     ]
    }
   ],
   "source": [
    "print(lats)"
   ]
  },
  {
   "cell_type": "code",
   "execution_count": 14,
   "id": "ec9437d6-202d-4c0d-8edd-c49153036098",
   "metadata": {},
   "outputs": [
    {
     "name": "stdout",
     "output_type": "stream",
     "text": [
      "[  0.     1.25   2.5    3.75   5.     6.25   7.5    8.75  10.    11.25\n",
      "  12.5   13.75  15.    16.25  17.5   18.75  20.    21.25  22.5   23.75\n",
      "  25.    26.25  27.5   28.75  30.    31.25  32.5   33.75  35.    36.25\n",
      "  37.5   38.75  40.    41.25  42.5   43.75  45.    46.25  47.5   48.75\n",
      "  50.    51.25  52.5   53.75  55.    56.25  57.5   58.75  60.    61.25\n",
      "  62.5   63.75  65.    66.25  67.5   68.75  70.    71.25  72.5   73.75\n",
      "  75.    76.25  77.5   78.75  80.    81.25  82.5   83.75  85.    86.25\n",
      "  87.5   88.75  90.    91.25  92.5   93.75  95.    96.25  97.5   98.75\n",
      " 100.   101.25 102.5  103.75 105.   106.25 107.5  108.75 110.   111.25\n",
      " 112.5  113.75 115.   116.25 117.5  118.75 120.   121.25 122.5  123.75\n",
      " 125.   126.25 127.5  128.75 130.   131.25 132.5  133.75 135.   136.25\n",
      " 137.5  138.75 140.   141.25 142.5  143.75 145.   146.25 147.5  148.75\n",
      " 150.   151.25 152.5  153.75 155.   156.25 157.5  158.75 160.   161.25\n",
      " 162.5  163.75 165.   166.25 167.5  168.75 170.   171.25 172.5  173.75\n",
      " 175.   176.25 177.5  178.75 180.   181.25 182.5  183.75 185.   186.25\n",
      " 187.5  188.75 190.   191.25 192.5  193.75 195.   196.25 197.5  198.75\n",
      " 200.   201.25 202.5  203.75 205.   206.25 207.5  208.75 210.   211.25\n",
      " 212.5  213.75 215.   216.25 217.5  218.75 220.   221.25 222.5  223.75\n",
      " 225.   226.25 227.5  228.75 230.   231.25 232.5  233.75 235.   236.25\n",
      " 237.5  238.75 240.   241.25 242.5  243.75 245.   246.25 247.5  248.75\n",
      " 250.   251.25 252.5  253.75 255.   256.25 257.5  258.75 260.   261.25\n",
      " 262.5  263.75 265.   266.25 267.5  268.75 270.   271.25 272.5  273.75\n",
      " 275.   276.25 277.5  278.75 280.   281.25 282.5  283.75 285.   286.25\n",
      " 287.5  288.75 290.   291.25 292.5  293.75 295.   296.25 297.5  298.75\n",
      " 300.   301.25 302.5  303.75 305.   306.25 307.5  308.75 310.   311.25\n",
      " 312.5  313.75 315.   316.25 317.5  318.75 320.   321.25 322.5  323.75\n",
      " 325.   326.25 327.5  328.75 330.   331.25 332.5  333.75 335.   336.25\n",
      " 337.5  338.75 340.   341.25 342.5  343.75 345.   346.25 347.5  348.75\n",
      " 350.   351.25 352.5  353.75 355.   356.25 357.5  358.75]\n"
     ]
    }
   ],
   "source": [
    "print(lons)"
   ]
  },
  {
   "cell_type": "markdown",
   "id": "1b603c62-8d21-4d24-baaf-9ad400833979",
   "metadata": {},
   "source": [
    "## Setting US boundaries"
   ]
  },
  {
   "cell_type": "code",
   "execution_count": 15,
   "id": "e381b540-cfbc-47eb-85af-a8653c6d87ea",
   "metadata": {},
   "outputs": [],
   "source": [
    "# Save only U.S. \n",
    "latboundsUs = [ 25 , 55]\n",
    "lonboundsUs = [230 , 300]"
   ]
  },
  {
   "cell_type": "code",
   "execution_count": 16,
   "id": "8e713b01-c2ab-4665-b4ca-19b5a6e91b67",
   "metadata": {},
   "outputs": [],
   "source": [
    "# latitude lower and upper index\n",
    "latli = np.argmin( np.abs( lats - latboundsUs[0] ) )\n",
    "latui = np.argmin( np.abs( lats - latboundsUs[1] ) ) \n",
    "\n",
    "# longitude lower and upper index\n",
    "lonli = np.argmin( np.abs( lons - lonboundsUs[0] ) )\n",
    "lonui = np.argmin( np.abs( lons - lonboundsUs[1] ) )  "
   ]
  },
  {
   "cell_type": "code",
   "execution_count": 17,
   "id": "1717a51c-a44b-49b4-acef-19350d8b4ac6",
   "metadata": {},
   "outputs": [
    {
     "name": "stdout",
     "output_type": "stream",
     "text": [
      "122 154\n"
     ]
    }
   ],
   "source": [
    "print(latli, latui)"
   ]
  },
  {
   "cell_type": "code",
   "execution_count": 18,
   "id": "aeca73e0-e1b5-4102-b449-f91ba0371f4e",
   "metadata": {},
   "outputs": [
    {
     "name": "stdout",
     "output_type": "stream",
     "text": [
      "184 240\n"
     ]
    }
   ],
   "source": [
    "print(lonli, lonui)"
   ]
  },
  {
   "cell_type": "code",
   "execution_count": 19,
   "id": "26bab9b0-f3ed-461f-8892-b46091df1e6a",
   "metadata": {},
   "outputs": [
    {
     "name": "stdout",
     "output_type": "stream",
     "text": [
      "(120, 192, 288)\n"
     ]
    }
   ],
   "source": [
    "print(param_soilMoist_Sample.shape)"
   ]
  },
  {
   "cell_type": "code",
   "execution_count": 20,
   "id": "322d6e0b-5ef1-4848-ab37-d919ac6a6ba1",
   "metadata": {},
   "outputs": [
    {
     "name": "stdout",
     "output_type": "stream",
     "text": [
      "(120, 32, 56)\n"
     ]
    }
   ],
   "source": [
    "param_soilMoist_Sample_US = param_soilMoist_Sample[:, latli:latui , lonli:lonui]\n",
    "print(param_soilMoist_Sample_US.shape)"
   ]
  },
  {
   "cell_type": "code",
   "execution_count": 21,
   "id": "dc096710-d688-4e76-b2fa-d1472e50952e",
   "metadata": {},
   "outputs": [
    {
     "name": "stdout",
     "output_type": "stream",
     "text": [
      "32\n",
      "56\n",
      "120\n"
     ]
    }
   ],
   "source": [
    "t,y_US,x_US = param_soilMoist_Sample_US.shape\n",
    "print(y_US)\n",
    "print(x_US)\n",
    "print(t)"
   ]
  },
  {
   "cell_type": "code",
   "execution_count": 22,
   "id": "771ca9d1-1a00-4d8b-b2b6-401ffd5e3363",
   "metadata": {},
   "outputs": [
    {
     "name": "stdout",
     "output_type": "stream",
     "text": [
      "(1980, 32, 56, 50)\n"
     ]
    }
   ],
   "source": [
    "#\n",
    "monSoilMoistUsHistEnsMem = np.zeros((monStepHistTot, y_US, x_US, ensMem, ))  \n",
    "\n",
    "monSoilMoistUsHistEnsMem[:] = np.nan\n",
    "print(monSoilMoistUsHistEnsMem.shape)"
   ]
  },
  {
   "cell_type": "code",
   "execution_count": 23,
   "id": "f72431be-9d02-4511-b77e-ccfff89e8f62",
   "metadata": {},
   "outputs": [
    {
     "name": "stdout",
     "output_type": "stream",
     "text": [
      "1001.001\n",
      "1021.002\n",
      "1041.003\n",
      "1061.004\n",
      "1081.005\n",
      "1101.006\n",
      "1121.007\n",
      "1141.008\n",
      "1161.009\n",
      "1181.010\n",
      "1231.001\n",
      "1231.002\n",
      "1231.003\n",
      "1231.004\n",
      "1231.005\n",
      "1231.006\n",
      "1231.007\n",
      "1231.008\n",
      "1231.009\n",
      "1231.010\n",
      "1251.001\n",
      "1251.002\n",
      "1251.003\n",
      "1251.004\n",
      "1251.005\n",
      "1251.006\n",
      "1251.007\n",
      "1251.008\n",
      "1251.009\n",
      "1251.010\n",
      "1281.001\n",
      "1281.002\n",
      "1281.003\n",
      "1281.004\n",
      "1281.005\n",
      "1281.006\n",
      "1281.007\n",
      "1281.008\n",
      "1281.009\n",
      "1281.010\n",
      "1301.001\n",
      "1301.002\n",
      "1301.003\n",
      "1301.004\n",
      "1301.005\n",
      "1301.006\n",
      "1301.007\n",
      "1301.008\n",
      "1301.009\n",
      "1301.010\n"
     ]
    }
   ],
   "source": [
    "\n",
    "filePath = '/glade/campaign/cgd/cesm/CESM2-LE/lnd/proc/tseries/month_1/SOILWATER_10CM'\n",
    "\n",
    "yrCtrlIds = ['1001', '1021', '1041', '1061', '1081', '1101', '1121', '1141', '1161', '1181', '1231', '1251', '1281', '1301'];\n",
    "yrId = 0\n",
    "monId = 0\n",
    "\n",
    "monSt = 1\n",
    "monEnd = 12\n",
    "\n",
    "memId = -1\n",
    "for yrCtrl in yrCtrlIds:    \n",
    "    yrId = yrId + 1   \n",
    "    \n",
    "    if yrId < 11:\n",
    "        memId = memId + 1\n",
    "        tStepSt = 0\n",
    "        yrHistSt = 1849\n",
    "        yrHistEnd = yrHistSt + 9\n",
    "    \n",
    "        monId = monId + 1  \n",
    "        yrMonDigits = str(yrCtrl)+'.' + str(monId).rjust(3,'0')\n",
    "        print(yrMonDigits)\n",
    "        \n",
    "        for decade in range(17):\n",
    "            yrHistSt = yrHistSt + 1\n",
    "            yrHistEnd = yrHistEnd + 1\n",
    "            \n",
    "            yrMonHistSt = str(yrHistSt) + str(monSt).rjust(2,'0')\n",
    "            yrMonHistEnd = str(yrHistEnd) + str(monEnd).rjust(2,'0')                      \n",
    "            \n",
    "            \n",
    "            fileName = 'b.e21.BHISTcmip6.f09_g17.LE2-'+yrMonDigits+'.clm2.h0.SOILWATER_10CM.' +yrMonHistSt+'-'+yrMonHistEnd+'.nc'\n",
    "            \n",
    "            \n",
    "            ncFile_soilMoist = str(filePath) + '/' + str(fileName)\n",
    "            file_soilMoist = Dataset(ncFile_soilMoist, mode='r')                        \n",
    "            param_soilMoistToAdd = file_soilMoist.variables['SOILWATER_10CM'][:, latli:latui , lonli:lonui]            \n",
    "            t,y_US,x_US = param_soilMoistToAdd.shape\n",
    "            tStepEnd = tStepSt + t            \n",
    "           \n",
    "                        \n",
    "            monSoilMoistUsHistEnsMem[tStepSt:tStepEnd, :, :, memId] = param_soilMoistToAdd  \n",
    "            \n",
    "            yrHistSt = yrHistEnd\n",
    "            tStepSt = tStepEnd\n",
    "            \n",
    "            if decade <15:\n",
    "                yrHistEnd = yrHistSt + 9\n",
    "            else:\n",
    "                yrHistEnd = yrHistSt + 4\n",
    "            \n",
    "    else:         \n",
    "    \n",
    "        for monCont in range(1, 11): \n",
    "            \n",
    "            tStepSt = 0\n",
    "            memId = memId + 1\n",
    "            yrMonDigits = str(yrCtrl)+'.' + str(monCont).rjust(3,'0')\n",
    "            print(yrMonDigits)\n",
    "            \n",
    "            yrHistSt = 1849\n",
    "            yrHistEnd = yrHistSt + 9\n",
    "            \n",
    "            for decade in range(17):            \n",
    "                yrHistSt = yrHistSt + 1\n",
    "                yrHistEnd = yrHistEnd + 1\n",
    "    \n",
    "                yrMonHistSt = str(yrHistSt) + str(monSt).rjust(2,'0')\n",
    "                yrMonHistEnd = str(yrHistEnd) + str(monEnd).rjust(2,'0')  \n",
    "                \n",
    "                fileName = 'b.e21.BHISTcmip6.f09_g17.LE2-'+yrMonDigits+'.clm2.h0.SOILWATER_10CM.' +yrMonHistSt+'-'+yrMonHistEnd+'.nc'\n",
    "                            \n",
    "                ncFile_soilMoist = str(filePath) + '/' + str(fileName)\n",
    "                file_soilMoist = Dataset(ncFile_soilMoist, mode='r')                        \n",
    "                param_soilMoistToAdd = file_soilMoist.variables['SOILWATER_10CM'][:, latli:latui , lonli:lonui]              \n",
    "                t,y_US,x_US = param_soilMoistToAdd.shape\n",
    "                tStepEnd = tStepSt + t                \n",
    "                                    \n",
    "                monSoilMoistUsHistEnsMem[tStepSt:tStepEnd, :, :, memId] = param_soilMoistToAdd                 \n",
    "            \n",
    "                \n",
    "                yrHistSt = yrHistEnd\n",
    "                tStepSt = tStepEnd   \n",
    "                \n",
    "                if decade <15:\n",
    "                    yrHistEnd = yrHistSt + 9\n",
    "                else:\n",
    "                    yrHistEnd = yrHistSt + 4"
   ]
  },
  {
   "cell_type": "code",
   "execution_count": 24,
   "id": "af506515-7796-4701-83ef-e9538dc135f6",
   "metadata": {},
   "outputs": [
    {
     "name": "stdout",
     "output_type": "stream",
     "text": [
      "(1980, 32, 56, 50)\n"
     ]
    }
   ],
   "source": [
    "print(monSoilMoistUsHistEnsMem.shape)"
   ]
  },
  {
   "cell_type": "code",
   "execution_count": 25,
   "id": "00371d3f-a112-4089-975b-1465e9c689ad",
   "metadata": {},
   "outputs": [
    {
     "name": "stdout",
     "output_type": "stream",
     "text": [
      "(1980, 32, 56)\n"
     ]
    }
   ],
   "source": [
    "monSoilMoistUsHistEnsMean = np.nanmean(monSoilMoistUsHistEnsMem, axis=3)\n",
    "print(monSoilMoistUsHistEnsMean.shape)"
   ]
  },
  {
   "cell_type": "markdown",
   "id": "c46a0baf-3e11-4730-9a8c-f72f4b1ba7ee",
   "metadata": {},
   "source": [
    "## Sub-setting data for 1930~2014"
   ]
  },
  {
   "cell_type": "code",
   "execution_count": 26,
   "id": "62dfd831-fc9b-4eac-94bf-b5528e1ea4d0",
   "metadata": {},
   "outputs": [
    {
     "name": "stdout",
     "output_type": "stream",
     "text": [
      "85\n"
     ]
    }
   ],
   "source": [
    "histYrSt  = 1850\n",
    "histTrgtYrSt = 1930\n",
    "histYrEnd = 2014\n",
    "nYrsHist = (histYrEnd - histTrgtYrSt + 1)\n",
    "print(nYrsHist)"
   ]
  },
  {
   "cell_type": "code",
   "execution_count": 27,
   "id": "9a56f248-cc7a-4c6c-9b0b-3b6e35ea7ac1",
   "metadata": {},
   "outputs": [
    {
     "name": "stdout",
     "output_type": "stream",
     "text": [
      "960 1980\n"
     ]
    }
   ],
   "source": [
    "histTrgtStepSt = (histTrgtYrSt - histYrSt)*12\n",
    "histTrgtStepEnd = (histYrEnd - histYrSt + 1)*12\n",
    "print(histTrgtStepSt, histTrgtStepEnd)"
   ]
  },
  {
   "cell_type": "code",
   "execution_count": 28,
   "id": "2c0ae0bc-3151-4724-a77a-06da9aa140bb",
   "metadata": {},
   "outputs": [
    {
     "name": "stdout",
     "output_type": "stream",
     "text": [
      "(1980, 32, 56, 50)\n"
     ]
    }
   ],
   "source": [
    "print(monSoilMoistUsHistEnsMem.shape)"
   ]
  },
  {
   "cell_type": "code",
   "execution_count": 29,
   "id": "0e7b4a6e-d4d0-4fe2-b403-571b886043ab",
   "metadata": {},
   "outputs": [
    {
     "name": "stdout",
     "output_type": "stream",
     "text": [
      "(1020, 32, 56, 50)\n"
     ]
    }
   ],
   "source": [
    "monSoilMoistUsHistSelEnsMembers = monSoilMoistUsHistEnsMem[histTrgtStepSt:histTrgtStepEnd,:,:,:]\n",
    "print(monSoilMoistUsHistSelEnsMembers.shape)"
   ]
  },
  {
   "cell_type": "code",
   "execution_count": null,
   "id": "9717fc14-b17c-4efc-a03b-d7d9c834ac6f",
   "metadata": {},
   "outputs": [],
   "source": []
  },
  {
   "cell_type": "code",
   "execution_count": 30,
   "id": "2970c928-724e-44d7-8182-39f99c51b574",
   "metadata": {},
   "outputs": [
    {
     "name": "stdout",
     "output_type": "stream",
     "text": [
      "(1020, 32, 56)\n"
     ]
    }
   ],
   "source": [
    "monSoilMoistUsHistSelEnsMean = np.nanmean(monSoilMoistUsHistSelEnsMembers, axis = 3)\n",
    "print(monSoilMoistUsHistSelEnsMean.shape)"
   ]
  },
  {
   "cell_type": "code",
   "execution_count": null,
   "id": "6d12def0-db1d-4c30-b714-8b8609706633",
   "metadata": {},
   "outputs": [],
   "source": []
  },
  {
   "cell_type": "code",
   "execution_count": 31,
   "id": "aaf67127-2e07-4bff-a371-c9665c4e7be9",
   "metadata": {},
   "outputs": [],
   "source": [
    "np.save('/glade/scratch/mrhaider/cesm2/param/soilMoist/mon/monSoilMoistUsHistSelEnsMembers.npy', monSoilMoistUsHistSelEnsMembers)"
   ]
  },
  {
   "cell_type": "code",
   "execution_count": 32,
   "id": "5358bfef-653f-474e-ab8f-303c94afcd72",
   "metadata": {},
   "outputs": [],
   "source": [
    "np.save('/glade/scratch/mrhaider/cesm2/param/soilMoist/mon/monSoilMoistUsHistSelEnsMean.npy', monSoilMoistUsHistSelEnsMean)"
   ]
  },
  {
   "cell_type": "code",
   "execution_count": null,
   "id": "d665c9ee-96ed-4c72-9274-5541ae28d336",
   "metadata": {},
   "outputs": [],
   "source": []
  },
  {
   "cell_type": "code",
   "execution_count": null,
   "id": "06271fca-21ff-4b32-bc3a-42ce8fd44d23",
   "metadata": {},
   "outputs": [],
   "source": []
  },
  {
   "cell_type": "code",
   "execution_count": 33,
   "id": "9bb791aa-4836-48eb-ada8-550aa08a81d6",
   "metadata": {},
   "outputs": [
    {
     "name": "stdout",
     "output_type": "stream",
     "text": [
      "[24.973822 25.916231 26.858639 27.801046 28.743456 29.685863 30.628273\n",
      " 31.57068  32.51309  33.455498 34.397907 35.340313 36.282722 37.225132\n",
      " 38.167538 39.109947 40.052357 40.994766 41.937172 42.87958  43.82199\n",
      " 44.764397 45.706806 46.649216 47.59162  48.53403  49.47644  50.41885\n",
      " 51.361256 52.303665 53.246075 54.18848 ]\n"
     ]
    }
   ],
   "source": [
    "latsUs = lats[latli:latui]\n",
    "lonsUs = lons[lonli:lonui]\n",
    "\n",
    "print(latsUs)\n"
   ]
  },
  {
   "cell_type": "code",
   "execution_count": 34,
   "id": "1455d08d-e763-49b1-a101-5517ea27a009",
   "metadata": {},
   "outputs": [
    {
     "name": "stdout",
     "output_type": "stream",
     "text": [
      "[24.973822 25.916231 26.858639 27.801046 28.743456 29.685863 30.628273\n",
      " 31.57068  32.51309  33.455498 34.397907 35.340313 36.282722 37.225132\n",
      " 38.167538 39.109947 40.052357 40.994766 41.937172 42.87958  43.82199\n",
      " 44.764397 45.706806 46.649216 47.59162  48.53403  49.47644  50.41885\n",
      " 51.361256 52.303665 53.246075 54.18848 ]\n",
      "[230.   231.25 232.5  233.75 235.   236.25 237.5  238.75 240.   241.25\n",
      " 242.5  243.75 245.   246.25 247.5  248.75 250.   251.25 252.5  253.75\n",
      " 255.   256.25 257.5  258.75 260.   261.25 262.5  263.75 265.   266.25\n",
      " 267.5  268.75 270.   271.25 272.5  273.75 275.   276.25 277.5  278.75\n",
      " 280.   281.25 282.5  283.75 285.   286.25 287.5  288.75 290.   291.25\n",
      " 292.5  293.75 295.   296.25 297.5  298.75]\n"
     ]
    }
   ],
   "source": [
    "latsUsArr = np.array(latsUs)\n",
    "print(latsUsArr)\n",
    "\n",
    "lonsUsArr = np.array(lonsUs)\n",
    "print(lonsUsArr)\n"
   ]
  },
  {
   "cell_type": "code",
   "execution_count": 36,
   "id": "c2843184-2ad5-4365-a4c5-5ed300073b2c",
   "metadata": {},
   "outputs": [],
   "source": [
    "np.save('/glade/scratch/mrhaider/cesm2/param/soilMoist/mon/latsUsArr.npy', latsUsArr)"
   ]
  },
  {
   "cell_type": "code",
   "execution_count": 37,
   "id": "d7d112f5-972f-4e4e-8e16-b67c5053f553",
   "metadata": {},
   "outputs": [],
   "source": [
    "np.save('/glade/scratch/mrhaider/cesm2/param/soilMoist/mon/lonsUsArr.npy', lonsUsArr)"
   ]
  },
  {
   "cell_type": "code",
   "execution_count": null,
   "id": "7702174e-ab37-431d-a0e3-414e69bfc07f",
   "metadata": {},
   "outputs": [],
   "source": []
  },
  {
   "cell_type": "code",
   "execution_count": null,
   "id": "740b3d21-4030-492b-b303-f6a83843e7fb",
   "metadata": {},
   "outputs": [],
   "source": []
  },
  {
   "cell_type": "code",
   "execution_count": null,
   "id": "6cb608f6-0598-4f6e-80c2-3b899263426e",
   "metadata": {},
   "outputs": [],
   "source": []
  }
 ],
 "metadata": {
  "kernelspec": {
   "display_name": "Pangeo (Python 3.6)",
   "language": "python",
   "name": "pangeo-3.6"
  },
  "language_info": {
   "codemirror_mode": {
    "name": "ipython",
    "version": 3
   },
   "file_extension": ".py",
   "mimetype": "text/x-python",
   "name": "python",
   "nbconvert_exporter": "python",
   "pygments_lexer": "ipython3",
   "version": "3.6.7"
  }
 },
 "nbformat": 4,
 "nbformat_minor": 5
}
