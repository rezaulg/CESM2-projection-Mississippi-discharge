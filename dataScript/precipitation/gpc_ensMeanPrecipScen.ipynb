{
 "cells": [
  {
   "cell_type": "markdown",
   "id": "2b4c17ed-f14b-451e-bc65-66dcb4d5a00f",
   "metadata": {},
   "source": [
    "## This script accesses the CESM2 Precipitation data for the Scenario years from GLADE repository of NCAR"
   ]
  },
  {
   "cell_type": "code",
   "execution_count": 1,
   "id": "dd9787ab-8358-4d70-b4c7-a802b65f0682",
   "metadata": {},
   "outputs": [],
   "source": [
    "import xarray as xr\n",
    "from netCDF4 import Dataset \n",
    "import numpy as np\n",
    "from numpy import unravel_index\n",
    "\n",
    "from matplotlib import pyplot as plt \n",
    "from numpy import linspace"
   ]
  },
  {
   "cell_type": "code",
   "execution_count": 2,
   "id": "9bed25d6-4d5d-4839-bb3c-be561674e834",
   "metadata": {},
   "outputs": [],
   "source": [
    "# Projection\n",
    "import cartopy.crs as ccrs\n",
    "import cartopy.feature as cfeature"
   ]
  },
  {
   "cell_type": "code",
   "execution_count": 3,
   "id": "dad07f4d-a11f-47f5-8987-30c6504e7f9c",
   "metadata": {},
   "outputs": [],
   "source": [
    "from descartes import PolygonPatch\n",
    "import shapefile as shp  # Requires the pyshp package\n",
    "import cartopy.io.shapereader as shpreader"
   ]
  },
  {
   "cell_type": "code",
   "execution_count": 4,
   "id": "8767997b-b417-4590-aad3-18cae3e81ca4",
   "metadata": {},
   "outputs": [],
   "source": [
    "# Common imports\n",
    "import calendar\n",
    "import datetime\n",
    "import pandas as pd\n",
    "from matplotlib import pyplot as plt\n",
    "import matplotlib.dates as mdates\n",
    "from numpy import array, ma\n",
    "import scipy.io"
   ]
  },
  {
   "cell_type": "code",
   "execution_count": 6,
   "id": "6d3746ca-c6d6-4930-aad1-2701ee5f07b4",
   "metadata": {},
   "outputs": [
    {
     "name": "stdout",
     "output_type": "stream",
     "text": [
      "/glade/campaign/cgd/cesm/CESM2-LE/atm/proc/tseries/month_1/PRECT\n"
     ]
    }
   ],
   "source": [
    "cd '/glade/campaign/cgd/cesm/CESM2-LE/atm/proc/tseries/month_1/PRECT'"
   ]
  },
  {
   "cell_type": "code",
   "execution_count": 7,
   "id": "9ecc61a3-12dd-4f17-919e-fb644ef030d3",
   "metadata": {},
   "outputs": [
    {
     "data": {
      "text/plain": [
       "'/glade/campaign/cgd/cesm/CESM2-LE/atm/proc/tseries/month_1/PRECT'"
      ]
     },
     "execution_count": 7,
     "metadata": {},
     "output_type": "execute_result"
    }
   ],
   "source": [
    "pwd"
   ]
  },
  {
   "cell_type": "markdown",
   "id": "61b27ca4-9427-4db1-a01e-f4a61c9653f7",
   "metadata": {},
   "source": [
    "## Accessing One File"
   ]
  },
  {
   "cell_type": "code",
   "execution_count": 8,
   "id": "0fae7d93-db76-41c0-80bf-be27d92ef432",
   "metadata": {},
   "outputs": [
    {
     "name": "stdout",
     "output_type": "stream",
     "text": [
      "/glade/campaign/cgd/cesm/CESM2-LE/atm/proc/tseries/month_1/PRECT/b.e21.BHISTcmip6.f09_g17.LE2-1001.001.cam.h0.PRECT.185001-185912.nc\n"
     ]
    }
   ],
   "source": [
    "filePath='/glade/campaign/cgd/cesm/CESM2-LE/atm/proc/tseries/month_1/PRECT'\n",
    "fileName_Sample = 'b.e21.BHISTcmip6.f09_g17.LE2-1001.001.cam.h0.PRECT.185001-185912.nc'\n",
    "ncFile_precip_Sample = str(filePath) + '/' + str(fileName_Sample)\n",
    "print(ncFile_precip_Sample)"
   ]
  },
  {
   "cell_type": "code",
   "execution_count": 9,
   "id": "38fda3e5-9302-4c68-b220-2df987af412a",
   "metadata": {},
   "outputs": [
    {
     "data": {
      "text/plain": [
       "<xarray.Dataset>\n",
       "Dimensions:       (ilev: 33, lat: 192, lev: 32, lon: 288, nbnd: 2, time: 120, zlon: 1)\n",
       "Coordinates:\n",
       "  * lat           (lat) float64 -90.0 -89.06 -88.12 -87.17 ... 88.12 89.06 90.0\n",
       "  * zlon          (zlon) float64 0.0\n",
       "  * lon           (lon) float64 0.0 1.25 2.5 3.75 ... 355.0 356.2 357.5 358.8\n",
       "  * lev           (lev) float64 3.643 7.595 14.36 24.61 ... 957.5 976.3 992.6\n",
       "  * ilev          (ilev) float64 2.255 5.032 10.16 18.56 ... 967.5 985.1 1e+03\n",
       "  * time          (time) datetime64[ns] 1850-02-01 1850-03-01 ... 1860-01-01\n",
       "Dimensions without coordinates: nbnd\n",
       "Data variables:\n",
       "    zlon_bnds     (zlon, nbnd) float64 ...\n",
       "    gw            (lat) float64 ...\n",
       "    hyam          (lev) float64 ...\n",
       "    hybm          (lev) float64 ...\n",
       "    P0            float64 ...\n",
       "    hyai          (ilev) float64 ...\n",
       "    hybi          (ilev) float64 ...\n",
       "    ndbase        float64 ...\n",
       "    nsbase        float64 ...\n",
       "    nbdate        float64 ...\n",
       "    nbsec         float64 ...\n",
       "    mdt           float64 ...\n",
       "    date          (time) float64 ...\n",
       "    datesec       (time) float64 ...\n",
       "    time_bnds     (time, nbnd) float64 ...\n",
       "    date_written  (time) object ...\n",
       "    time_written  (time) object ...\n",
       "    ndcur         (time) float64 ...\n",
       "    nscur         (time) float64 ...\n",
       "    co2vmr        (time) float64 ...\n",
       "    ch4vmr        (time) float64 ...\n",
       "    n2ovmr        (time) float64 ...\n",
       "    f11vmr        (time) float64 ...\n",
       "    f12vmr        (time) float64 ...\n",
       "    sol_tsi       (time) float64 ...\n",
       "    nsteph        (time) float64 ...\n",
       "    PRECT         (time, lat, lon) float32 ...\n",
       "Attributes:\n",
       "    Conventions:       CF-1.0\n",
       "    source:            CAM\n",
       "    case:              b.e21.BHISTcmip6.f09_g17.LE2-1001.001\n",
       "    logname:           sunseon\n",
       "    host:              mom1\n",
       "    initial_file:      b.e21.B1850.f09_g17.CMIP6-piControl.001.cam.i.1001-01-...\n",
       "    topography_file:   /mnt/lustre/share/CESM/cesm_input/atm/cam/topo/fv_0.9x...\n",
       "    model_doi_url:     https://doi.org/10.5065/D67H1H0V\n",
       "    time_period_freq:  month_1"
      ]
     },
     "execution_count": 9,
     "metadata": {},
     "output_type": "execute_result"
    }
   ],
   "source": [
    "file_xr_Sample  = xr.open_dataset(ncFile_precip_Sample) \n",
    "file_xr_Sample"
   ]
  },
  {
   "cell_type": "code",
   "execution_count": 10,
   "id": "1ab47bf6-7fbf-49ca-905e-0a4380b0b8df",
   "metadata": {},
   "outputs": [
    {
     "name": "stdout",
     "output_type": "stream",
     "text": [
      "120\n",
      "(120, 192, 288)\n",
      "\n"
     ]
    }
   ],
   "source": [
    "file_precip_Sample = Dataset(ncFile_precip_Sample, mode='r')\n",
    "file_precip_Sample\n",
    "\n",
    "lons = file_precip_Sample.variables['lon'][:]\n",
    "lats = file_precip_Sample.variables['lat'][:]\n",
    "times = file_precip_Sample.variables['time'][:]\n",
    "ntim = times.shape[0]\n",
    "print(ntim)\n",
    "\n",
    "time = np.arange(ntim)\n",
    "time\n",
    "\n",
    "param_precip_Sample = file_precip_Sample.variables['PRECT'][:]*86400*30*1000\n",
    "print(param_precip_Sample.shape)\n",
    "print('')"
   ]
  },
  {
   "cell_type": "code",
   "execution_count": 11,
   "id": "4e52913b-b397-4b76-a55e-9a766aac8762",
   "metadata": {},
   "outputs": [
    {
     "name": "stdout",
     "output_type": "stream",
     "text": [
      "192\n",
      "288\n",
      "120\n",
      "1032\n",
      "50\n"
     ]
    }
   ],
   "source": [
    "t,y,x = param_precip_Sample.shape\n",
    "print(y)\n",
    "print(x)\n",
    "print(t)\n",
    "\n",
    "#nDecades = 16\n",
    "nDecades = 8\n",
    "\n",
    "monStepHistTot = t*nDecades + 72   # =185001_201412 (60 is half of 120)\n",
    "print(monStepHistTot)\n",
    "\n",
    "ensMem = 50\n",
    "print(ensMem)"
   ]
  },
  {
   "cell_type": "code",
   "execution_count": 12,
   "id": "b3f53c26-8cea-4ed3-af37-6b4ff407a07b",
   "metadata": {},
   "outputs": [
    {
     "name": "stdout",
     "output_type": "stream",
     "text": [
      "[-90.         -89.05759162 -88.11518325 -87.17277487 -86.23036649\n",
      " -85.28795812 -84.34554974 -83.40314136 -82.46073298 -81.51832461\n",
      " -80.57591623 -79.63350785 -78.69109948 -77.7486911  -76.80628272\n",
      " -75.86387435 -74.92146597 -73.97905759 -73.03664921 -72.09424084\n",
      " -71.15183246 -70.20942408 -69.26701571 -68.32460733 -67.38219895\n",
      " -66.43979058 -65.4973822  -64.55497382 -63.61256545 -62.67015707\n",
      " -61.72774869 -60.78534031 -59.84293194 -58.90052356 -57.95811518\n",
      " -57.01570681 -56.07329843 -55.13089005 -54.18848168 -53.2460733\n",
      " -52.30366492 -51.36125654 -50.41884817 -49.47643979 -48.53403141\n",
      " -47.59162304 -46.64921466 -45.70680628 -44.76439791 -43.82198953\n",
      " -42.87958115 -41.93717277 -40.9947644  -40.05235602 -39.10994764\n",
      " -38.16753927 -37.22513089 -36.28272251 -35.34031414 -34.39790576\n",
      " -33.45549738 -32.51308901 -31.57068063 -30.62827225 -29.68586387\n",
      " -28.7434555  -27.80104712 -26.85863874 -25.91623037 -24.97382199\n",
      " -24.03141361 -23.08900524 -22.14659686 -21.20418848 -20.2617801\n",
      " -19.31937173 -18.37696335 -17.43455497 -16.4921466  -15.54973822\n",
      " -14.60732984 -13.66492147 -12.72251309 -11.78010471 -10.83769634\n",
      "  -9.89528796  -8.95287958  -8.0104712   -7.06806283  -6.12565445\n",
      "  -5.18324607  -4.2408377   -3.29842932  -2.35602094  -1.41361257\n",
      "  -0.47120419   0.47120419   1.41361257   2.35602094   3.29842932\n",
      "   4.2408377    5.18324607   6.12565445   7.06806283   8.0104712\n",
      "   8.95287958   9.89528796  10.83769634  11.78010471  12.72251309\n",
      "  13.66492147  14.60732984  15.54973822  16.4921466   17.43455497\n",
      "  18.37696335  19.31937173  20.2617801   21.20418848  22.14659686\n",
      "  23.08900524  24.03141361  24.97382199  25.91623037  26.85863874\n",
      "  27.80104712  28.7434555   29.68586387  30.62827225  31.57068063\n",
      "  32.51308901  33.45549738  34.39790576  35.34031414  36.28272251\n",
      "  37.22513089  38.16753927  39.10994764  40.05235602  40.9947644\n",
      "  41.93717277  42.87958115  43.82198953  44.76439791  45.70680628\n",
      "  46.64921466  47.59162304  48.53403141  49.47643979  50.41884817\n",
      "  51.36125654  52.30366492  53.2460733   54.18848168  55.13089005\n",
      "  56.07329843  57.01570681  57.95811518  58.90052356  59.84293194\n",
      "  60.78534031  61.72774869  62.67015707  63.61256545  64.55497382\n",
      "  65.4973822   66.43979058  67.38219895  68.32460733  69.26701571\n",
      "  70.20942408  71.15183246  72.09424084  73.03664921  73.97905759\n",
      "  74.92146597  75.86387435  76.80628272  77.7486911   78.69109948\n",
      "  79.63350785  80.57591623  81.51832461  82.46073298  83.40314136\n",
      "  84.34554974  85.28795812  86.23036649  87.17277487  88.11518325\n",
      "  89.05759162  90.        ]\n"
     ]
    }
   ],
   "source": [
    "print(lats)"
   ]
  },
  {
   "cell_type": "code",
   "execution_count": 13,
   "id": "51d30ccc-9cba-47a7-95d1-59bdf618f99c",
   "metadata": {},
   "outputs": [
    {
     "name": "stdout",
     "output_type": "stream",
     "text": [
      "[  0.     1.25   2.5    3.75   5.     6.25   7.5    8.75  10.    11.25\n",
      "  12.5   13.75  15.    16.25  17.5   18.75  20.    21.25  22.5   23.75\n",
      "  25.    26.25  27.5   28.75  30.    31.25  32.5   33.75  35.    36.25\n",
      "  37.5   38.75  40.    41.25  42.5   43.75  45.    46.25  47.5   48.75\n",
      "  50.    51.25  52.5   53.75  55.    56.25  57.5   58.75  60.    61.25\n",
      "  62.5   63.75  65.    66.25  67.5   68.75  70.    71.25  72.5   73.75\n",
      "  75.    76.25  77.5   78.75  80.    81.25  82.5   83.75  85.    86.25\n",
      "  87.5   88.75  90.    91.25  92.5   93.75  95.    96.25  97.5   98.75\n",
      " 100.   101.25 102.5  103.75 105.   106.25 107.5  108.75 110.   111.25\n",
      " 112.5  113.75 115.   116.25 117.5  118.75 120.   121.25 122.5  123.75\n",
      " 125.   126.25 127.5  128.75 130.   131.25 132.5  133.75 135.   136.25\n",
      " 137.5  138.75 140.   141.25 142.5  143.75 145.   146.25 147.5  148.75\n",
      " 150.   151.25 152.5  153.75 155.   156.25 157.5  158.75 160.   161.25\n",
      " 162.5  163.75 165.   166.25 167.5  168.75 170.   171.25 172.5  173.75\n",
      " 175.   176.25 177.5  178.75 180.   181.25 182.5  183.75 185.   186.25\n",
      " 187.5  188.75 190.   191.25 192.5  193.75 195.   196.25 197.5  198.75\n",
      " 200.   201.25 202.5  203.75 205.   206.25 207.5  208.75 210.   211.25\n",
      " 212.5  213.75 215.   216.25 217.5  218.75 220.   221.25 222.5  223.75\n",
      " 225.   226.25 227.5  228.75 230.   231.25 232.5  233.75 235.   236.25\n",
      " 237.5  238.75 240.   241.25 242.5  243.75 245.   246.25 247.5  248.75\n",
      " 250.   251.25 252.5  253.75 255.   256.25 257.5  258.75 260.   261.25\n",
      " 262.5  263.75 265.   266.25 267.5  268.75 270.   271.25 272.5  273.75\n",
      " 275.   276.25 277.5  278.75 280.   281.25 282.5  283.75 285.   286.25\n",
      " 287.5  288.75 290.   291.25 292.5  293.75 295.   296.25 297.5  298.75\n",
      " 300.   301.25 302.5  303.75 305.   306.25 307.5  308.75 310.   311.25\n",
      " 312.5  313.75 315.   316.25 317.5  318.75 320.   321.25 322.5  323.75\n",
      " 325.   326.25 327.5  328.75 330.   331.25 332.5  333.75 335.   336.25\n",
      " 337.5  338.75 340.   341.25 342.5  343.75 345.   346.25 347.5  348.75\n",
      " 350.   351.25 352.5  353.75 355.   356.25 357.5  358.75]\n"
     ]
    }
   ],
   "source": [
    "print(lons)"
   ]
  },
  {
   "cell_type": "markdown",
   "id": "da1770c9-d750-45d0-9349-3494fa2c6642",
   "metadata": {},
   "source": [
    "## Setting US boundaries"
   ]
  },
  {
   "cell_type": "code",
   "execution_count": 14,
   "id": "e7f727ef-cf77-4c4d-8199-db34d756807b",
   "metadata": {},
   "outputs": [],
   "source": [
    "# Save only U.S. \n",
    "latboundsUs = [ 25 , 55]\n",
    "lonboundsUs = [230 , 300]"
   ]
  },
  {
   "cell_type": "code",
   "execution_count": 15,
   "id": "c15dd736-4c72-454d-8106-b98210f439c7",
   "metadata": {},
   "outputs": [],
   "source": [
    "# latitude lower and upper index\n",
    "latli = np.argmin( np.abs( lats - latboundsUs[0] ) )\n",
    "latui = np.argmin( np.abs( lats - latboundsUs[1] ) ) \n",
    "\n",
    "# longitude lower and upper index\n",
    "lonli = np.argmin( np.abs( lons - lonboundsUs[0] ) )\n",
    "lonui = np.argmin( np.abs( lons - lonboundsUs[1] ) )  "
   ]
  },
  {
   "cell_type": "code",
   "execution_count": 16,
   "id": "f46fa305-83cf-4c3a-9ee8-9b82244ed473",
   "metadata": {},
   "outputs": [
    {
     "name": "stdout",
     "output_type": "stream",
     "text": [
      "122 154\n"
     ]
    }
   ],
   "source": [
    "print(latli, latui)"
   ]
  },
  {
   "cell_type": "code",
   "execution_count": 17,
   "id": "b6a348fa-0e48-4ea3-b639-b4728f70a932",
   "metadata": {},
   "outputs": [
    {
     "name": "stdout",
     "output_type": "stream",
     "text": [
      "184 240\n"
     ]
    }
   ],
   "source": [
    "print(lonli, lonui)"
   ]
  },
  {
   "cell_type": "code",
   "execution_count": 18,
   "id": "9ae98643-81ca-4423-916a-0bd3fd20591e",
   "metadata": {},
   "outputs": [
    {
     "name": "stdout",
     "output_type": "stream",
     "text": [
      "(120, 192, 288)\n"
     ]
    }
   ],
   "source": [
    "print(param_precip_Sample.shape)"
   ]
  },
  {
   "cell_type": "code",
   "execution_count": 19,
   "id": "01523a7f-efa9-434a-b47a-3f54c1765280",
   "metadata": {},
   "outputs": [
    {
     "name": "stdout",
     "output_type": "stream",
     "text": [
      "(120, 32, 56)\n"
     ]
    }
   ],
   "source": [
    "param_precip_Sample_US = param_precip_Sample[:, latli:latui , lonli:lonui]\n",
    "print(param_precip_Sample_US.shape)"
   ]
  },
  {
   "cell_type": "code",
   "execution_count": 20,
   "id": "8f8438ba-d542-4a0f-9c41-b88f015e32bf",
   "metadata": {},
   "outputs": [
    {
     "name": "stdout",
     "output_type": "stream",
     "text": [
      "32\n",
      "56\n",
      "120\n"
     ]
    }
   ],
   "source": [
    "t,y_US,x_US = param_precip_Sample_US.shape\n",
    "print(y_US)\n",
    "print(x_US)\n",
    "print(t)"
   ]
  },
  {
   "cell_type": "code",
   "execution_count": 22,
   "id": "6a8355ec-96c6-4889-90e0-5aa6daaaa9ce",
   "metadata": {},
   "outputs": [
    {
     "name": "stdout",
     "output_type": "stream",
     "text": [
      "(1032, 32, 56, 50)\n"
     ]
    }
   ],
   "source": [
    "#\n",
    "monPrecipUsScenEnsMem = np.zeros((monStepHistTot, y_US, x_US, ensMem, )) \n",
    "monPrecipUsScenEnsMem[:] = np.nan\n",
    "print(monPrecipUsScenEnsMem.shape)"
   ]
  },
  {
   "cell_type": "code",
   "execution_count": 23,
   "id": "05d20e26-220d-481d-8b7d-7cf32b8958fb",
   "metadata": {},
   "outputs": [
    {
     "name": "stdout",
     "output_type": "stream",
     "text": [
      "1001.001\n",
      "1021.002\n",
      "1041.003\n",
      "1061.004\n",
      "1081.005\n",
      "1101.006\n",
      "1121.007\n",
      "1141.008\n",
      "1161.009\n",
      "1181.010\n",
      "1231.001\n",
      "1231.002\n",
      "1231.003\n",
      "1231.004\n",
      "1231.005\n",
      "1231.006\n",
      "1231.007\n",
      "1231.008\n",
      "1231.009\n",
      "1231.010\n",
      "1251.001\n",
      "1251.002\n",
      "1251.003\n",
      "1251.004\n",
      "1251.005\n",
      "1251.006\n",
      "1251.007\n",
      "1251.008\n",
      "1251.009\n",
      "1251.010\n",
      "1281.001\n",
      "1281.002\n",
      "1281.003\n",
      "1281.004\n",
      "1281.005\n",
      "1281.006\n",
      "1281.007\n",
      "1281.008\n",
      "1281.009\n",
      "1281.010\n",
      "1301.001\n",
      "1301.002\n",
      "1301.003\n",
      "1301.004\n",
      "1301.005\n",
      "1301.006\n",
      "1301.007\n",
      "1301.008\n",
      "1301.009\n",
      "1301.010\n"
     ]
    }
   ],
   "source": [
    "\n",
    "filePath = '/glade/campaign/cgd/cesm/CESM2-LE/atm/proc/tseries/month_1/PRECT'\n",
    "\n",
    "yrCtrlIds = ['1001', '1021', '1041', '1061', '1081', '1101', '1121', '1141', '1161', '1181', '1231', '1251', '1281', '1301'];\n",
    "yrId = 0\n",
    "ctrlRunId = 0\n",
    "\n",
    "monSt = 1\n",
    "monEnd = 12\n",
    "\n",
    "memId = -1\n",
    "for yrCtrl in yrCtrlIds:    \n",
    "    yrId = yrId + 1   \n",
    "    \n",
    "    if yrId < 11:\n",
    "        memId = memId + 1\n",
    "        tStepSt = 0\n",
    "        \n",
    "        yrHistSt = 2014        \n",
    "        yrHistEnd = yrHistSt + 9\n",
    "    \n",
    "        ctrlRunId = ctrlRunId + 1  \n",
    "        \n",
    "        yrCtrlDigits = str(yrCtrl)+'.' + str(ctrlRunId).rjust(3,'0')        \n",
    "        print(yrCtrlDigits)\n",
    "        \n",
    "        for decade in range(9):\n",
    "            \n",
    "            yrHistSt = yrHistSt + 1\n",
    "            yrHistEnd = yrHistEnd + 1\n",
    "            \n",
    "            yrMonHistSt = str(yrHistSt) + str(monSt).rjust(2,'0')\n",
    "            yrMonHistEnd = str(yrHistEnd) + str(monEnd).rjust(2,'0')              \n",
    "                        \n",
    "            \n",
    "            fileName = 'b.e21.BSSP370cmip6.f09_g17.LE2-'+yrCtrlDigits+'.cam.h0.PRECT.' +yrMonHistSt+'-'+yrMonHistEnd+'.nc'\n",
    "            \n",
    "            ncFile_precip = str(filePath) + '/' + str(fileName)\n",
    "            file_precip = Dataset(ncFile_precip, mode='r')                        \n",
    "            param_precipToAdd = file_precip.variables['PRECT'][:, latli:latui , lonli:lonui]*86400*30*1000            \n",
    "            t,y_US,x_US = param_precipToAdd.shape\n",
    "            tStepEnd = tStepSt + t            \n",
    "            \n",
    "                        \n",
    "            monPrecipUsScenEnsMem[tStepSt:tStepEnd, :, :, memId] = param_precipToAdd\n",
    "            \n",
    "            \n",
    "            yrHistSt = yrHistEnd            \n",
    "            tStepSt = tStepEnd\n",
    "            \n",
    "            if decade <7:                \n",
    "                yrHistEnd = yrHistSt + 9\n",
    "            else:\n",
    "                yrHistEnd = yrHistSt + 5        \n",
    "            \n",
    "    else: \n",
    "        \n",
    "    \n",
    "        for contRun in range(1, 11):             \n",
    "            \n",
    "            tStepSt = 0\n",
    "            memId = memId + 1\n",
    "            yrCtrlDigits = str(yrCtrl)+'.' + str(contRun).rjust(3,'0')\n",
    "            \n",
    "            print(yrCtrlDigits)\n",
    "            \n",
    "            yrHistSt = 2014            \n",
    "            yrHistEnd = yrHistSt + 9\n",
    "            \n",
    "            for decade in range(9):\n",
    "                    \n",
    "                yrHistSt = yrHistSt + 1\n",
    "                yrHistEnd = yrHistEnd + 1\n",
    "    \n",
    "                yrMonHistSt = str(yrHistSt) + str(monSt).rjust(2,'0')\n",
    "                yrMonHistEnd = str(yrHistEnd) + str(monEnd).rjust(2,'0')  \n",
    "                \n",
    "                \n",
    "                fileName = 'b.e21.BSSP370cmip6.f09_g17.LE2-'+yrCtrlDigits+'.cam.h0.PRECT.' +yrMonHistSt+'-'+yrMonHistEnd+'.nc'\n",
    "            \n",
    "                ncFile_precip = str(filePath) + '/' + str(fileName)\n",
    "                file_precip = Dataset(ncFile_precip, mode='r')                        \n",
    "                param_precipToAdd = file_precip.variables['PRECT'][:, latli:latui , lonli:lonui]*86400*30*1000              \n",
    "                t,y_US,x_US = param_precipToAdd.shape\n",
    "                tStepEnd = tStepSt + t                  \n",
    "                \n",
    "                monPrecipUsScenEnsMem[tStepSt:tStepEnd, :, :, memId] = param_precipToAdd                 \n",
    "            \n",
    "                \n",
    "                yrHistSt = yrHistEnd\n",
    "                tStepSt = tStepEnd        \n",
    "                \n",
    "                \n",
    "                if decade <7:                    \n",
    "                    yrHistEnd = yrHistSt + 9\n",
    "                else:\n",
    "                    yrHistEnd = yrHistSt + 5      \n",
    "    "
   ]
  },
  {
   "cell_type": "code",
   "execution_count": 24,
   "id": "4485643c-0e35-4eb3-8b5c-b4e2d6e6638e",
   "metadata": {},
   "outputs": [
    {
     "name": "stdout",
     "output_type": "stream",
     "text": [
      "(1032, 32, 56, 50)\n"
     ]
    }
   ],
   "source": [
    "print(monPrecipUsScenEnsMem.shape)"
   ]
  },
  {
   "cell_type": "code",
   "execution_count": 25,
   "id": "c1ad490e-b07d-464d-b2f1-698a2c0913cd",
   "metadata": {},
   "outputs": [
    {
     "name": "stdout",
     "output_type": "stream",
     "text": [
      "(1032, 32, 56)\n"
     ]
    }
   ],
   "source": [
    "monPrecipUsScenEnsMean = np.nanmean(monPrecipUsScenEnsMem, axis=3)\n",
    "print(monPrecipUsScenEnsMean.shape)"
   ]
  },
  {
   "cell_type": "code",
   "execution_count": 26,
   "id": "cd476b3d-5871-43ac-b7dc-0c69a231ab84",
   "metadata": {},
   "outputs": [],
   "source": [
    "np.save('/glade/scratch/mrhaider/cesm2/precip/monPrecipUsScenEnsMean.npy', monPrecipUsScenEnsMean)"
   ]
  },
  {
   "cell_type": "code",
   "execution_count": null,
   "id": "14a74202-878e-41a1-ac9c-b80e9098871c",
   "metadata": {},
   "outputs": [],
   "source": []
  },
  {
   "cell_type": "code",
   "execution_count": 30,
   "id": "f0a879cf-63e3-4d7f-b423-e7cc753d5cc3",
   "metadata": {},
   "outputs": [
    {
     "ename": "SyntaxError",
     "evalue": "invalid syntax (<ipython-input-30-e2ad4fe443c1>, line 1)",
     "output_type": "error",
     "traceback": [
      "\u001b[0;36m  File \u001b[0;32m\"<ipython-input-30-e2ad4fe443c1>\"\u001b[0;36m, line \u001b[0;32m1\u001b[0m\n\u001b[0;31m    STOP here ====================\u001b[0m\n\u001b[0m            ^\u001b[0m\n\u001b[0;31mSyntaxError\u001b[0m\u001b[0;31m:\u001b[0m invalid syntax\n"
     ]
    }
   ],
   "source": [
    "STOP here ===================="
   ]
  },
  {
   "cell_type": "code",
   "execution_count": null,
   "id": "b05dc5f1-e142-4200-942d-3064b3adf6c4",
   "metadata": {},
   "outputs": [],
   "source": []
  },
  {
   "cell_type": "code",
   "execution_count": null,
   "id": "44fd0c4d-1fe9-4439-9b48-301c141a3dd3",
   "metadata": {},
   "outputs": [],
   "source": []
  }
 ],
 "metadata": {
  "kernelspec": {
   "display_name": "Pangeo (Python 3.6)",
   "language": "python",
   "name": "pangeo-3.6"
  },
  "language_info": {
   "codemirror_mode": {
    "name": "ipython",
    "version": 3
   },
   "file_extension": ".py",
   "mimetype": "text/x-python",
   "name": "python",
   "nbconvert_exporter": "python",
   "pygments_lexer": "ipython3",
   "version": "3.6.7"
  }
 },
 "nbformat": 4,
 "nbformat_minor": 5
}
