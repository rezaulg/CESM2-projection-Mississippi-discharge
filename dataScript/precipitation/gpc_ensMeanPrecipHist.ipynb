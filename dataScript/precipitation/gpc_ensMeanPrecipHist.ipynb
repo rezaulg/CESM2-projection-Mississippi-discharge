{
 "cells": [
  {
   "cell_type": "markdown",
   "id": "6805def2-1b47-425f-8631-f198401c1004",
   "metadata": {},
   "source": [
    "## This script accesses the CESM2 Precipitation data for the Historical years from GLADE repository of NCAR"
   ]
  },
  {
   "cell_type": "code",
   "execution_count": 1,
   "id": "f9a3d619-b2f3-4a8c-ae31-b478295e60ec",
   "metadata": {},
   "outputs": [],
   "source": [
    "import xarray as xr\n",
    "from netCDF4 import Dataset \n",
    "import numpy as np\n",
    "from numpy import unravel_index\n",
    "\n",
    "from matplotlib import pyplot as plt \n",
    "from numpy import linspace\n"
   ]
  },
  {
   "cell_type": "code",
   "execution_count": 2,
   "id": "d162bc54-e82a-47b4-b1e2-9a14446a767d",
   "metadata": {},
   "outputs": [],
   "source": [
    "# Projection\n",
    "import cartopy.crs as ccrs\n",
    "import cartopy.feature as cfeature"
   ]
  },
  {
   "cell_type": "code",
   "execution_count": 3,
   "id": "6f1074c7-d021-4adc-9a7f-bacab4922838",
   "metadata": {},
   "outputs": [],
   "source": [
    "from descartes import PolygonPatch\n",
    "import shapefile as shp  # Requires the pyshp package\n",
    "import cartopy.io.shapereader as shpreader"
   ]
  },
  {
   "cell_type": "code",
   "execution_count": 4,
   "id": "7d3ee324-497f-4daa-9121-f8624243ce16",
   "metadata": {},
   "outputs": [],
   "source": [
    "# Common imports\n",
    "import calendar\n",
    "import datetime\n",
    "import pandas as pd\n",
    "from matplotlib import pyplot as plt\n",
    "import matplotlib.dates as mdates\n",
    "from numpy import array, ma\n",
    "import scipy.io"
   ]
  },
  {
   "cell_type": "code",
   "execution_count": 6,
   "id": "8b79cebd-0f2e-4209-9106-d8c879b23c39",
   "metadata": {},
   "outputs": [
    {
     "name": "stdout",
     "output_type": "stream",
     "text": [
      "/glade/campaign/cgd/cesm/CESM2-LE/atm/proc/tseries/month_1/PRECT\n"
     ]
    }
   ],
   "source": [
    "cd '/glade/campaign/cgd/cesm/CESM2-LE/atm/proc/tseries/month_1/PRECT'"
   ]
  },
  {
   "cell_type": "code",
   "execution_count": 7,
   "id": "f1086923-59e6-4bda-b3f3-dbddd907e525",
   "metadata": {},
   "outputs": [
    {
     "data": {
      "text/plain": [
       "'/glade/campaign/cgd/cesm/CESM2-LE/atm/proc/tseries/month_1/PRECT'"
      ]
     },
     "execution_count": 7,
     "metadata": {},
     "output_type": "execute_result"
    }
   ],
   "source": [
    "pwd"
   ]
  },
  {
   "cell_type": "markdown",
   "id": "dc501411-26c7-4463-ac74-002b53eb3d94",
   "metadata": {},
   "source": [
    "## Accessing a sample File"
   ]
  },
  {
   "cell_type": "code",
   "execution_count": 9,
   "id": "d6c45a9d-2c7d-44e6-aa00-88bb33ac21fc",
   "metadata": {},
   "outputs": [
    {
     "name": "stdout",
     "output_type": "stream",
     "text": [
      "/glade/campaign/cgd/cesm/CESM2-LE/atm/proc/tseries/month_1/PRECT/b.e21.BHISTcmip6.f09_g17.LE2-1001.001.cam.h0.PRECT.185001-185912.nc\n"
     ]
    }
   ],
   "source": [
    "filePath='/glade/campaign/cgd/cesm/CESM2-LE/atm/proc/tseries/month_1/PRECT'\n",
    "fileName_Sample = 'b.e21.BHISTcmip6.f09_g17.LE2-1001.001.cam.h0.PRECT.185001-185912.nc'\n",
    "ncFile_precip_Sample = str(filePath) + '/' + str(fileName_Sample)\n",
    "print(ncFile_precip_Sample)"
   ]
  },
  {
   "cell_type": "code",
   "execution_count": 10,
   "id": "00bc1936-dec3-426c-8a91-08a91a200be1",
   "metadata": {},
   "outputs": [
    {
     "data": {
      "text/plain": [
       "<xarray.Dataset>\n",
       "Dimensions:       (ilev: 33, lat: 192, lev: 32, lon: 288, nbnd: 2, time: 120, zlon: 1)\n",
       "Coordinates:\n",
       "  * lat           (lat) float64 -90.0 -89.06 -88.12 -87.17 ... 88.12 89.06 90.0\n",
       "  * zlon          (zlon) float64 0.0\n",
       "  * lon           (lon) float64 0.0 1.25 2.5 3.75 ... 355.0 356.2 357.5 358.8\n",
       "  * lev           (lev) float64 3.643 7.595 14.36 24.61 ... 957.5 976.3 992.6\n",
       "  * ilev          (ilev) float64 2.255 5.032 10.16 18.56 ... 967.5 985.1 1e+03\n",
       "  * time          (time) datetime64[ns] 1850-02-01 1850-03-01 ... 1860-01-01\n",
       "Dimensions without coordinates: nbnd\n",
       "Data variables:\n",
       "    zlon_bnds     (zlon, nbnd) float64 ...\n",
       "    gw            (lat) float64 ...\n",
       "    hyam          (lev) float64 ...\n",
       "    hybm          (lev) float64 ...\n",
       "    P0            float64 ...\n",
       "    hyai          (ilev) float64 ...\n",
       "    hybi          (ilev) float64 ...\n",
       "    ndbase        float64 ...\n",
       "    nsbase        float64 ...\n",
       "    nbdate        float64 ...\n",
       "    nbsec         float64 ...\n",
       "    mdt           float64 ...\n",
       "    date          (time) float64 ...\n",
       "    datesec       (time) float64 ...\n",
       "    time_bnds     (time, nbnd) float64 ...\n",
       "    date_written  (time) object ...\n",
       "    time_written  (time) object ...\n",
       "    ndcur         (time) float64 ...\n",
       "    nscur         (time) float64 ...\n",
       "    co2vmr        (time) float64 ...\n",
       "    ch4vmr        (time) float64 ...\n",
       "    n2ovmr        (time) float64 ...\n",
       "    f11vmr        (time) float64 ...\n",
       "    f12vmr        (time) float64 ...\n",
       "    sol_tsi       (time) float64 ...\n",
       "    nsteph        (time) float64 ...\n",
       "    PRECT         (time, lat, lon) float32 ...\n",
       "Attributes:\n",
       "    Conventions:       CF-1.0\n",
       "    source:            CAM\n",
       "    case:              b.e21.BHISTcmip6.f09_g17.LE2-1001.001\n",
       "    logname:           sunseon\n",
       "    host:              mom1\n",
       "    initial_file:      b.e21.B1850.f09_g17.CMIP6-piControl.001.cam.i.1001-01-...\n",
       "    topography_file:   /mnt/lustre/share/CESM/cesm_input/atm/cam/topo/fv_0.9x...\n",
       "    model_doi_url:     https://doi.org/10.5065/D67H1H0V\n",
       "    time_period_freq:  month_1"
      ]
     },
     "execution_count": 10,
     "metadata": {},
     "output_type": "execute_result"
    }
   ],
   "source": [
    "file_xr_Sample  = xr.open_dataset(ncFile_precip_Sample) \n",
    "file_xr_Sample"
   ]
  },
  {
   "cell_type": "code",
   "execution_count": 11,
   "id": "c64207d0-c329-493d-9c7e-099bfda72d99",
   "metadata": {},
   "outputs": [
    {
     "name": "stdout",
     "output_type": "stream",
     "text": [
      "(120, 192, 288)\n",
      "<xarray.DataArray 'PRECT' (time: 120, lat: 192, lon: 288)>\n",
      "[6635520 values with dtype=float32]\n",
      "Coordinates:\n",
      "  * lat      (lat) float64 -90.0 -89.06 -88.12 -87.17 ... 87.17 88.12 89.06 90.0\n",
      "  * lon      (lon) float64 0.0 1.25 2.5 3.75 5.0 ... 355.0 356.2 357.5 358.8\n",
      "  * time     (time) datetime64[ns] 1850-02-01 1850-03-01 ... 1860-01-01\n",
      "Attributes:\n",
      "    units:         m/s\n",
      "    long_name:     Total (convective and large-scale) precipitation rate (liq...\n",
      "    cell_methods:  time: mean\n"
     ]
    }
   ],
   "source": [
    "param_precip = file_xr_Sample['PRECT']\n",
    "\n",
    "print(param_precip.shape)\n",
    "print(param_precip)"
   ]
  },
  {
   "cell_type": "code",
   "execution_count": 12,
   "id": "d7260619-ab88-4920-82fd-35c7ea21c24e",
   "metadata": {},
   "outputs": [
    {
     "name": "stdout",
     "output_type": "stream",
     "text": [
      "120\n",
      "(120, 192, 288)\n",
      "\n"
     ]
    }
   ],
   "source": [
    "file_precip_Sample = Dataset(ncFile_precip_Sample, mode='r')\n",
    "file_precip_Sample\n",
    "\n",
    "lons = file_precip_Sample.variables['lon'][:]\n",
    "lats = file_precip_Sample.variables['lat'][:]\n",
    "times = file_precip_Sample.variables['time'][:]\n",
    "ntim = times.shape[0]\n",
    "print(ntim)\n",
    "time = np.arange(ntim)\n",
    "time\n",
    "param_precip_Sample = file_precip_Sample.variables['PRECT'][:]*86400*30*1000\n",
    "print(param_precip_Sample.shape)\n",
    "print('')"
   ]
  },
  {
   "cell_type": "code",
   "execution_count": 12,
   "id": "09087d20-cec5-4566-a059-57f9c6f4415b",
   "metadata": {},
   "outputs": [
    {
     "name": "stdout",
     "output_type": "stream",
     "text": [
      "192\n",
      "288\n",
      "120\n",
      "1980\n",
      "50\n"
     ]
    }
   ],
   "source": [
    "t,y,x = param_precip_Sample.shape\n",
    "print(y)\n",
    "print(x)\n",
    "print(t)\n",
    "\n",
    "nDecades = 16\n",
    "monStepHistTot = t*nDecades + 60   # =185001_201412 (60 is half of 120)\n",
    "print(monStepHistTot)\n",
    "ensMem = 50\n",
    "print(ensMem)"
   ]
  },
  {
   "cell_type": "code",
   "execution_count": 13,
   "id": "36e9c518-117c-4dfc-a7c0-1801304dac00",
   "metadata": {},
   "outputs": [
    {
     "name": "stdout",
     "output_type": "stream",
     "text": [
      "[-90.         -89.05759162 -88.11518325 -87.17277487 -86.23036649\n",
      " -85.28795812 -84.34554974 -83.40314136 -82.46073298 -81.51832461\n",
      " -80.57591623 -79.63350785 -78.69109948 -77.7486911  -76.80628272\n",
      " -75.86387435 -74.92146597 -73.97905759 -73.03664921 -72.09424084\n",
      " -71.15183246 -70.20942408 -69.26701571 -68.32460733 -67.38219895\n",
      " -66.43979058 -65.4973822  -64.55497382 -63.61256545 -62.67015707\n",
      " -61.72774869 -60.78534031 -59.84293194 -58.90052356 -57.95811518\n",
      " -57.01570681 -56.07329843 -55.13089005 -54.18848168 -53.2460733\n",
      " -52.30366492 -51.36125654 -50.41884817 -49.47643979 -48.53403141\n",
      " -47.59162304 -46.64921466 -45.70680628 -44.76439791 -43.82198953\n",
      " -42.87958115 -41.93717277 -40.9947644  -40.05235602 -39.10994764\n",
      " -38.16753927 -37.22513089 -36.28272251 -35.34031414 -34.39790576\n",
      " -33.45549738 -32.51308901 -31.57068063 -30.62827225 -29.68586387\n",
      " -28.7434555  -27.80104712 -26.85863874 -25.91623037 -24.97382199\n",
      " -24.03141361 -23.08900524 -22.14659686 -21.20418848 -20.2617801\n",
      " -19.31937173 -18.37696335 -17.43455497 -16.4921466  -15.54973822\n",
      " -14.60732984 -13.66492147 -12.72251309 -11.78010471 -10.83769634\n",
      "  -9.89528796  -8.95287958  -8.0104712   -7.06806283  -6.12565445\n",
      "  -5.18324607  -4.2408377   -3.29842932  -2.35602094  -1.41361257\n",
      "  -0.47120419   0.47120419   1.41361257   2.35602094   3.29842932\n",
      "   4.2408377    5.18324607   6.12565445   7.06806283   8.0104712\n",
      "   8.95287958   9.89528796  10.83769634  11.78010471  12.72251309\n",
      "  13.66492147  14.60732984  15.54973822  16.4921466   17.43455497\n",
      "  18.37696335  19.31937173  20.2617801   21.20418848  22.14659686\n",
      "  23.08900524  24.03141361  24.97382199  25.91623037  26.85863874\n",
      "  27.80104712  28.7434555   29.68586387  30.62827225  31.57068063\n",
      "  32.51308901  33.45549738  34.39790576  35.34031414  36.28272251\n",
      "  37.22513089  38.16753927  39.10994764  40.05235602  40.9947644\n",
      "  41.93717277  42.87958115  43.82198953  44.76439791  45.70680628\n",
      "  46.64921466  47.59162304  48.53403141  49.47643979  50.41884817\n",
      "  51.36125654  52.30366492  53.2460733   54.18848168  55.13089005\n",
      "  56.07329843  57.01570681  57.95811518  58.90052356  59.84293194\n",
      "  60.78534031  61.72774869  62.67015707  63.61256545  64.55497382\n",
      "  65.4973822   66.43979058  67.38219895  68.32460733  69.26701571\n",
      "  70.20942408  71.15183246  72.09424084  73.03664921  73.97905759\n",
      "  74.92146597  75.86387435  76.80628272  77.7486911   78.69109948\n",
      "  79.63350785  80.57591623  81.51832461  82.46073298  83.40314136\n",
      "  84.34554974  85.28795812  86.23036649  87.17277487  88.11518325\n",
      "  89.05759162  90.        ]\n"
     ]
    }
   ],
   "source": [
    "print(lats)"
   ]
  },
  {
   "cell_type": "code",
   "execution_count": 14,
   "id": "ec9437d6-202d-4c0d-8edd-c49153036098",
   "metadata": {},
   "outputs": [
    {
     "name": "stdout",
     "output_type": "stream",
     "text": [
      "[  0.     1.25   2.5    3.75   5.     6.25   7.5    8.75  10.    11.25\n",
      "  12.5   13.75  15.    16.25  17.5   18.75  20.    21.25  22.5   23.75\n",
      "  25.    26.25  27.5   28.75  30.    31.25  32.5   33.75  35.    36.25\n",
      "  37.5   38.75  40.    41.25  42.5   43.75  45.    46.25  47.5   48.75\n",
      "  50.    51.25  52.5   53.75  55.    56.25  57.5   58.75  60.    61.25\n",
      "  62.5   63.75  65.    66.25  67.5   68.75  70.    71.25  72.5   73.75\n",
      "  75.    76.25  77.5   78.75  80.    81.25  82.5   83.75  85.    86.25\n",
      "  87.5   88.75  90.    91.25  92.5   93.75  95.    96.25  97.5   98.75\n",
      " 100.   101.25 102.5  103.75 105.   106.25 107.5  108.75 110.   111.25\n",
      " 112.5  113.75 115.   116.25 117.5  118.75 120.   121.25 122.5  123.75\n",
      " 125.   126.25 127.5  128.75 130.   131.25 132.5  133.75 135.   136.25\n",
      " 137.5  138.75 140.   141.25 142.5  143.75 145.   146.25 147.5  148.75\n",
      " 150.   151.25 152.5  153.75 155.   156.25 157.5  158.75 160.   161.25\n",
      " 162.5  163.75 165.   166.25 167.5  168.75 170.   171.25 172.5  173.75\n",
      " 175.   176.25 177.5  178.75 180.   181.25 182.5  183.75 185.   186.25\n",
      " 187.5  188.75 190.   191.25 192.5  193.75 195.   196.25 197.5  198.75\n",
      " 200.   201.25 202.5  203.75 205.   206.25 207.5  208.75 210.   211.25\n",
      " 212.5  213.75 215.   216.25 217.5  218.75 220.   221.25 222.5  223.75\n",
      " 225.   226.25 227.5  228.75 230.   231.25 232.5  233.75 235.   236.25\n",
      " 237.5  238.75 240.   241.25 242.5  243.75 245.   246.25 247.5  248.75\n",
      " 250.   251.25 252.5  253.75 255.   256.25 257.5  258.75 260.   261.25\n",
      " 262.5  263.75 265.   266.25 267.5  268.75 270.   271.25 272.5  273.75\n",
      " 275.   276.25 277.5  278.75 280.   281.25 282.5  283.75 285.   286.25\n",
      " 287.5  288.75 290.   291.25 292.5  293.75 295.   296.25 297.5  298.75\n",
      " 300.   301.25 302.5  303.75 305.   306.25 307.5  308.75 310.   311.25\n",
      " 312.5  313.75 315.   316.25 317.5  318.75 320.   321.25 322.5  323.75\n",
      " 325.   326.25 327.5  328.75 330.   331.25 332.5  333.75 335.   336.25\n",
      " 337.5  338.75 340.   341.25 342.5  343.75 345.   346.25 347.5  348.75\n",
      " 350.   351.25 352.5  353.75 355.   356.25 357.5  358.75]\n"
     ]
    }
   ],
   "source": [
    "print(lons)"
   ]
  },
  {
   "cell_type": "markdown",
   "id": "1b603c62-8d21-4d24-baaf-9ad400833979",
   "metadata": {},
   "source": [
    "## Setting US boundaries"
   ]
  },
  {
   "cell_type": "code",
   "execution_count": 15,
   "id": "e381b540-cfbc-47eb-85af-a8653c6d87ea",
   "metadata": {},
   "outputs": [],
   "source": [
    "# Save only U.S. \n",
    "latboundsUs = [ 25 , 55]\n",
    "lonboundsUs = [230 , 300]"
   ]
  },
  {
   "cell_type": "code",
   "execution_count": 16,
   "id": "8e713b01-c2ab-4665-b4ca-19b5a6e91b67",
   "metadata": {},
   "outputs": [],
   "source": [
    "# latitude lower and upper index\n",
    "latli = np.argmin( np.abs( lats - latboundsUs[0] ) )\n",
    "latui = np.argmin( np.abs( lats - latboundsUs[1] ) ) \n",
    "\n",
    "# longitude lower and upper index\n",
    "lonli = np.argmin( np.abs( lons - lonboundsUs[0] ) )\n",
    "lonui = np.argmin( np.abs( lons - lonboundsUs[1] ) )  "
   ]
  },
  {
   "cell_type": "code",
   "execution_count": 17,
   "id": "1717a51c-a44b-49b4-acef-19350d8b4ac6",
   "metadata": {},
   "outputs": [
    {
     "name": "stdout",
     "output_type": "stream",
     "text": [
      "122 154\n"
     ]
    }
   ],
   "source": [
    "print(latli, latui)"
   ]
  },
  {
   "cell_type": "code",
   "execution_count": 18,
   "id": "aeca73e0-e1b5-4102-b449-f91ba0371f4e",
   "metadata": {},
   "outputs": [
    {
     "name": "stdout",
     "output_type": "stream",
     "text": [
      "184 240\n"
     ]
    }
   ],
   "source": [
    "print(lonli, lonui)"
   ]
  },
  {
   "cell_type": "code",
   "execution_count": 19,
   "id": "26bab9b0-f3ed-461f-8892-b46091df1e6a",
   "metadata": {},
   "outputs": [
    {
     "name": "stdout",
     "output_type": "stream",
     "text": [
      "(120, 192, 288)\n"
     ]
    }
   ],
   "source": [
    "print(param_precip_Sample.shape)"
   ]
  },
  {
   "cell_type": "code",
   "execution_count": 20,
   "id": "322d6e0b-5ef1-4848-ab37-d919ac6a6ba1",
   "metadata": {},
   "outputs": [
    {
     "name": "stdout",
     "output_type": "stream",
     "text": [
      "(120, 32, 56)\n"
     ]
    }
   ],
   "source": [
    "param_precip_Sample_US = param_precip_Sample[:, latli:latui , lonli:lonui]\n",
    "print(param_precip_Sample_US.shape)"
   ]
  },
  {
   "cell_type": "code",
   "execution_count": 21,
   "id": "dc096710-d688-4e76-b2fa-d1472e50952e",
   "metadata": {},
   "outputs": [
    {
     "name": "stdout",
     "output_type": "stream",
     "text": [
      "32\n",
      "56\n",
      "120\n"
     ]
    }
   ],
   "source": [
    "t,y_US,x_US = param_precip_Sample_US.shape\n",
    "print(y_US)\n",
    "print(x_US)\n",
    "print(t)"
   ]
  },
  {
   "cell_type": "code",
   "execution_count": 22,
   "id": "771ca9d1-1a00-4d8b-b2b6-401ffd5e3363",
   "metadata": {},
   "outputs": [
    {
     "name": "stdout",
     "output_type": "stream",
     "text": [
      "(1980, 32, 56, 50)\n"
     ]
    }
   ],
   "source": [
    "#\n",
    "monPrecipUsHistEnsMem = np.zeros((monStepHistTot, y_US, x_US, ensMem, ))\n",
    "monPrecipUsHistEnsMem[:] = np.nan\n",
    "print(monPrecipUsHistEnsMem.shape)"
   ]
  },
  {
   "cell_type": "code",
   "execution_count": 23,
   "id": "f72431be-9d02-4511-b77e-ccfff89e8f62",
   "metadata": {},
   "outputs": [
    {
     "name": "stdout",
     "output_type": "stream",
     "text": [
      "1001.001\n",
      "1021.002\n",
      "1041.003\n",
      "1061.004\n",
      "1081.005\n",
      "1101.006\n",
      "1121.007\n",
      "1141.008\n",
      "1161.009\n",
      "1181.010\n",
      "1231.001\n",
      "1231.002\n",
      "1231.003\n",
      "1231.004\n",
      "1231.005\n",
      "1231.006\n",
      "1231.007\n",
      "1231.008\n",
      "1231.009\n",
      "1231.010\n",
      "1251.001\n",
      "1251.002\n",
      "1251.003\n",
      "1251.004\n",
      "1251.005\n",
      "1251.006\n",
      "1251.007\n",
      "1251.008\n",
      "1251.009\n",
      "1251.010\n",
      "1281.001\n",
      "1281.002\n",
      "1281.003\n",
      "1281.004\n",
      "1281.005\n",
      "1281.006\n",
      "1281.007\n",
      "1281.008\n",
      "1281.009\n",
      "1281.010\n",
      "1301.001\n",
      "1301.002\n",
      "1301.003\n",
      "1301.004\n",
      "1301.005\n",
      "1301.006\n",
      "1301.007\n",
      "1301.008\n",
      "1301.009\n",
      "1301.010\n"
     ]
    }
   ],
   "source": [
    "\n",
    "filePath = '/glade/campaign/cgd/cesm/CESM2-LE/atm/proc/tseries/month_1/PRECT'\n",
    "\n",
    "yrCtrlIds = ['1001', '1021', '1041', '1061', '1081', '1101', '1121', '1141', '1161', '1181', '1231', '1251', '1281', '1301'];\n",
    "yrId = 0\n",
    "monId = 0\n",
    "\n",
    "monSt = 1\n",
    "monEnd = 12\n",
    "\n",
    "memId = -1\n",
    "for yrCtrl in yrCtrlIds:    \n",
    "    yrId = yrId + 1   \n",
    "    \n",
    "    if yrId < 11:\n",
    "        memId = memId + 1\n",
    "        tStepSt = 0\n",
    "        yrHistSt = 1849\n",
    "        yrHistEnd = yrHistSt + 9\n",
    "    \n",
    "        monId = monId + 1  \n",
    "        yrMonDigits = str(yrCtrl)+'.' + str(monId).rjust(3,'0')\n",
    "        print(yrMonDigits)\n",
    "        \n",
    "        for decade in range(17):\n",
    "            yrHistSt = yrHistSt + 1\n",
    "            yrHistEnd = yrHistEnd + 1\n",
    "            \n",
    "            yrMonHistSt = str(yrHistSt) + str(monSt).rjust(2,'0')\n",
    "            yrMonHistEnd = str(yrHistEnd) + str(monEnd).rjust(2,'0')             \n",
    "            \n",
    "            \n",
    "            fileName = 'b.e21.BHISTcmip6.f09_g17.LE2-'+yrMonDigits+'.cam.h0.PRECT.' +yrMonHistSt+'-'+yrMonHistEnd+'.nc'\n",
    "            \n",
    "            ncFile_precip = str(filePath) + '/' + str(fileName)\n",
    "            file_precip = Dataset(ncFile_precip, mode='r')                        \n",
    "            param_precipToAdd = file_precip.variables['PRECT'][:, latli:latui , lonli:lonui]*86400*30*1000            \n",
    "            t,y_US,x_US = param_precipToAdd.shape\n",
    "            tStepEnd = tStepSt + t            \n",
    "           \n",
    "                        \n",
    "            monPrecipUsHistEnsMem[tStepSt:tStepEnd, :, :, memId] = param_precipToAdd  \n",
    "            \n",
    "            yrHistSt = yrHistEnd\n",
    "            tStepSt = tStepEnd\n",
    "            \n",
    "            if decade <15:\n",
    "                yrHistEnd = yrHistSt + 9\n",
    "            else:\n",
    "                yrHistEnd = yrHistSt + 4\n",
    "        \n",
    "            \n",
    "    else: \n",
    "        \n",
    "    \n",
    "        for monCont in range(1, 11): \n",
    "            \n",
    "            tStepSt = 0\n",
    "            memId = memId + 1\n",
    "            yrMonDigits = str(yrCtrl)+'.' + str(monCont).rjust(3,'0')\n",
    "            print(yrMonDigits)\n",
    "            \n",
    "            yrHistSt = 1849\n",
    "            yrHistEnd = yrHistSt + 9\n",
    "            \n",
    "            for decade in range(17):            \n",
    "                yrHistSt = yrHistSt + 1\n",
    "                yrHistEnd = yrHistEnd + 1\n",
    "    \n",
    "                yrMonHistSt = str(yrHistSt) + str(monSt).rjust(2,'0')\n",
    "                yrMonHistEnd = str(yrHistEnd) + str(monEnd).rjust(2,'0')  \n",
    "                \n",
    "                fileName = 'b.e21.BHISTcmip6.f09_g17.LE2-'+yrMonDigits+'.cam.h0.PRECT.' +yrMonHistSt+'-'+yrMonHistEnd+'.nc'\n",
    "                \n",
    "                ncFile_precip = str(filePath) + '/' + str(fileName)\n",
    "                file_precip = Dataset(ncFile_precip, mode='r')                        \n",
    "                param_precipToAdd = file_precip.variables['PRECT'][:, latli:latui , lonli:lonui]*86400*30*1000              \n",
    "                t,y_US,x_US = param_precipToAdd.shape\n",
    "                tStepEnd = tStepSt + t \n",
    "                \n",
    "                                    \n",
    "                monPrecipUsHistEnsMem[tStepSt:tStepEnd, :, :, memId] = param_precipToAdd  \n",
    "                \n",
    "            \n",
    "                \n",
    "                yrHistSt = yrHistEnd\n",
    "                tStepSt = tStepEnd       \n",
    "                \n",
    "                if decade <15:\n",
    "                    yrHistEnd = yrHistSt + 9\n",
    "                else:\n",
    "                    yrHistEnd = yrHistSt + 4           \n"
   ]
  },
  {
   "cell_type": "code",
   "execution_count": 24,
   "id": "af506515-7796-4701-83ef-e9538dc135f6",
   "metadata": {},
   "outputs": [
    {
     "name": "stdout",
     "output_type": "stream",
     "text": [
      "(1980, 32, 56, 50)\n"
     ]
    }
   ],
   "source": [
    "print(monPrecipUsHistEnsMem.shape)"
   ]
  },
  {
   "cell_type": "code",
   "execution_count": 25,
   "id": "00371d3f-a112-4089-975b-1465e9c689ad",
   "metadata": {},
   "outputs": [
    {
     "name": "stdout",
     "output_type": "stream",
     "text": [
      "(1980, 32, 56)\n"
     ]
    }
   ],
   "source": [
    "monPrecipUsHistEnsMean = np.nanmean(monPrecipUsHistEnsMem, axis=3)\n",
    "print(monPrecipUsHistEnsMean.shape)"
   ]
  },
  {
   "cell_type": "code",
   "execution_count": 26,
   "id": "17780444-e973-4868-9642-ea9f65eecbd6",
   "metadata": {},
   "outputs": [],
   "source": [
    "np.save('/glade/scratch/mrhaider/cesm2/precip/monPrecipUsHistEnsMean.npy', monPrecipUsHistEnsMean)"
   ]
  },
  {
   "cell_type": "code",
   "execution_count": null,
   "id": "90672bcd-a9c5-4a8a-9609-5655937a5d85",
   "metadata": {},
   "outputs": [],
   "source": []
  },
  {
   "cell_type": "code",
   "execution_count": null,
   "id": "9f733b1c-7a26-4142-83e7-a921f884b588",
   "metadata": {},
   "outputs": [],
   "source": []
  },
  {
   "cell_type": "code",
   "execution_count": null,
   "id": "acad01ab-ee0f-4476-8af6-2b1c9a1ca858",
   "metadata": {},
   "outputs": [],
   "source": []
  }
 ],
 "metadata": {
  "kernelspec": {
   "display_name": "Pangeo (Python 3.6)",
   "language": "python",
   "name": "pangeo-3.6"
  },
  "language_info": {
   "codemirror_mode": {
    "name": "ipython",
    "version": 3
   },
   "file_extension": ".py",
   "mimetype": "text/x-python",
   "name": "python",
   "nbconvert_exporter": "python",
   "pygments_lexer": "ipython3",
   "version": "3.6.7"
  }
 },
 "nbformat": 4,
 "nbformat_minor": 5
}
