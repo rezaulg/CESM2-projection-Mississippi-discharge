{
 "cells": [
  {
   "cell_type": "markdown",
   "metadata": {},
   "source": [
    "# This script reads CESM2 ET data downloaded from Casper in NCAR (Fig 11)"
   ]
  },
  {
   "cell_type": "markdown",
   "metadata": {},
   "source": [
    "## Import Libraries"
   ]
  },
  {
   "cell_type": "code",
   "execution_count": 1,
   "metadata": {},
   "outputs": [],
   "source": [
    "import numpy as np\n",
    "import pandas as pd\n",
    "import datetime\n",
    "import xarray as xr\n",
    "import seaborn as sns\n",
    "import warnings\n",
    "from matplotlib import pyplot as plt \n",
    "import matplotlib as mpl\n",
    "import shapefile as shp\n",
    "import cartopy.io.shapereader as shpreader\n",
    "from numpy import linspace\n",
    "from numpy import meshgrid\n",
    "import matplotlib.colors as colors\n",
    "from numpy import array, ma\n",
    "import cartopy.crs as ccrs\n",
    "import matplotlib.cm as cm\n",
    "import cartopy.feature as cfeature"
   ]
  },
  {
   "cell_type": "markdown",
   "metadata": {},
   "source": [
    "## Basin shape files"
   ]
  },
  {
   "cell_type": "code",
   "execution_count": 2,
   "metadata": {},
   "outputs": [],
   "source": [
    "shapeFile_Missi = 'C:/rezaul/1.academic/1.research/2.project/mrb/dt/shapeFile/mississippi_basins/mississippi_basins/mississippi_1.shp'\n",
    "shapeFile_Arkansas = 'C:/rezaul/1.academic/1.research/2.project/mrb/dt/shapeFile/mississippi_basins/mississippi_basins/arkansas_basin_1.shp'\n",
    "shapeFile_Missouri = 'C:/rezaul/1.academic/1.research/2.project/mrb/dt/shapeFile/mississippi_basins/mississippi_basins/missouri_basin_1.shp'\n",
    "shapeFile_Ohio = 'C:/rezaul/1.academic/1.research/2.project/mrb/dt/shapeFile/mississippi_basins/mississippi_basins/ohio_basin_1.shp'\n"
   ]
  },
  {
   "cell_type": "code",
   "execution_count": 3,
   "metadata": {},
   "outputs": [],
   "source": [
    "sf_Missi = shp.Reader(shapeFile_Missi)\n",
    "sf_Arkansas = shp.Reader(shapeFile_Arkansas)\n",
    "sf_Missouri = shp.Reader(shapeFile_Missouri)\n",
    "sf_Ohio = shp.Reader(shapeFile_Ohio)\n"
   ]
  },
  {
   "cell_type": "code",
   "execution_count": 4,
   "metadata": {},
   "outputs": [],
   "source": [
    "reader_Missi = shpreader.Reader(shapeFile_Missi)\n",
    "basin_Missi = list(reader_Missi.geometries())\n",
    "#\n",
    "reader_Arkansas = shpreader.Reader(shapeFile_Arkansas)\n",
    "basin_Arkansas = list(reader_Arkansas.geometries())\n",
    "#\n",
    "reader_Missouri = shpreader.Reader(shapeFile_Missouri)\n",
    "basin_Missouri = list(reader_Missouri.geometries())\n",
    "#\n",
    "reader_Ohio = shpreader.Reader(shapeFile_Ohio)\n",
    "basin_Ohio = list(reader_Ohio.geometries())\n",
    "#"
   ]
  },
  {
   "cell_type": "code",
   "execution_count": 5,
   "metadata": {},
   "outputs": [
    {
     "name": "stdout",
     "output_type": "stream",
     "text": [
      "<shapefile.ShapeRecord object at 0x0000014FDDE212E0>\n",
      "<shapefile.ShapeRecord object at 0x0000014FC1D38730>\n",
      "<shapefile.ShapeRecord object at 0x0000014FC1D38F10>\n",
      "<shapefile.ShapeRecord object at 0x0000014FDDE21220>\n"
     ]
    }
   ],
   "source": [
    "feature_Missi = sf_Missi.shapeRecords()[0]\n",
    "print(feature_Missi)\n",
    "\n",
    "feature_Arkansas = sf_Arkansas.shapeRecords()[0]\n",
    "print(feature_Arkansas)\n",
    "\n",
    "feature_Missouri = sf_Missouri.shapeRecords()[0]\n",
    "print(feature_Missouri)\n",
    "\n",
    "feature_Ohio = sf_Ohio.shapeRecords()[0]\n",
    "print(feature_Ohio)\n"
   ]
  },
  {
   "cell_type": "markdown",
   "metadata": {},
   "source": [
    "## Read Lat, Lon data for the selected Domain processed from \"GLADE\" in Casper"
   ]
  },
  {
   "cell_type": "markdown",
   "metadata": {},
   "source": [
    "## Lat"
   ]
  },
  {
   "cell_type": "code",
   "execution_count": 6,
   "metadata": {},
   "outputs": [
    {
     "name": "stdout",
     "output_type": "stream",
     "text": [
      "(32,)\n",
      "[24.973822 25.916231 26.858639 27.801046 28.743456 29.685863 30.628273\n",
      " 31.57068  32.51309  33.455498 34.397907 35.340313 36.282722 37.225132\n",
      " 38.167538 39.109947 40.052357 40.994766 41.937172 42.87958  43.82199\n",
      " 44.764397 45.706806 46.649216 47.59162  48.53403  49.47644  50.41885\n",
      " 51.361256 52.303665 53.246075 54.18848 ]\n",
      "32\n"
     ]
    }
   ],
   "source": [
    "file_LatUs = 'C:/rezaul/1.academic/1.research/2.project/mrb/dt/cesm/cesm2LE/param/precip/mon/latsUsArr.npy'\n",
    "lats_US = np.load(file_LatUs)\n",
    "print(lats_US.shape)\n",
    "print(lats_US)\n",
    "\n",
    "y_US = lats_US.shape[0]\n",
    "print(y_US)"
   ]
  },
  {
   "cell_type": "markdown",
   "metadata": {},
   "source": [
    "## Lon"
   ]
  },
  {
   "cell_type": "code",
   "execution_count": 7,
   "metadata": {},
   "outputs": [
    {
     "name": "stdout",
     "output_type": "stream",
     "text": [
      "(56,)\n",
      "[230.   231.25 232.5  233.75 235.   236.25 237.5  238.75 240.   241.25\n",
      " 242.5  243.75 245.   246.25 247.5  248.75 250.   251.25 252.5  253.75\n",
      " 255.   256.25 257.5  258.75 260.   261.25 262.5  263.75 265.   266.25\n",
      " 267.5  268.75 270.   271.25 272.5  273.75 275.   276.25 277.5  278.75\n",
      " 280.   281.25 282.5  283.75 285.   286.25 287.5  288.75 290.   291.25\n",
      " 292.5  293.75 295.   296.25 297.5  298.75]\n",
      "56\n"
     ]
    }
   ],
   "source": [
    "file_LonUs = 'C:/rezaul/1.academic/1.research/2.project/mrb/dt/cesm/cesm2LE/param/precip/mon/lonsUsArr.npy'\n",
    "lons_US = np.load(file_LonUs)\n",
    "print(lons_US.shape)\n",
    "print(lons_US)\n",
    "\n",
    "x_US = lons_US.shape[0]\n",
    "print(x_US)"
   ]
  },
  {
   "cell_type": "markdown",
   "metadata": {},
   "source": [
    "### Historical (1850-2014): 1980 months"
   ]
  },
  {
   "cell_type": "code",
   "execution_count": 8,
   "metadata": {},
   "outputs": [
    {
     "name": "stdout",
     "output_type": "stream",
     "text": [
      "(1980, 32, 56)\n"
     ]
    }
   ],
   "source": [
    "file_hist_ensMean = 'C:/rezaul/1.academic/1.research/2.project/mrb/dt/cesm/cesm2LE/param/et/mon/monEtUsHistEnsMean.npy'\n",
    "file_hist_ensMean_loaded = np.load(file_hist_ensMean)\n",
    "print(file_hist_ensMean_loaded.shape)"
   ]
  },
  {
   "cell_type": "markdown",
   "metadata": {},
   "source": [
    "### Scenario (2105-2100): 1032 months"
   ]
  },
  {
   "cell_type": "code",
   "execution_count": 9,
   "metadata": {},
   "outputs": [
    {
     "name": "stdout",
     "output_type": "stream",
     "text": [
      "(1032, 32, 56)\n"
     ]
    }
   ],
   "source": [
    "file_scen_ensMean = 'C:/rezaul/1.academic/1.research/2.project/mrb/dt/cesm/cesm2LE/param/et/mon/monEtUsScenEnsMean.npy'\n",
    "file_scen_ensMean_loaded = np.load(file_scen_ensMean)\n",
    "print(file_scen_ensMean_loaded.shape)"
   ]
  },
  {
   "cell_type": "code",
   "execution_count": null,
   "metadata": {},
   "outputs": [],
   "source": []
  },
  {
   "cell_type": "markdown",
   "metadata": {},
   "source": [
    "## The two files (Hist and Scen)"
   ]
  },
  {
   "cell_type": "code",
   "execution_count": 10,
   "metadata": {},
   "outputs": [
    {
     "name": "stdout",
     "output_type": "stream",
     "text": [
      "(1980, 32, 56)\n",
      "(1032, 32, 56)\n"
     ]
    }
   ],
   "source": [
    "print(file_hist_ensMean_loaded.shape)\n",
    "print(file_scen_ensMean_loaded.shape)"
   ]
  },
  {
   "cell_type": "code",
   "execution_count": null,
   "metadata": {},
   "outputs": [],
   "source": []
  },
  {
   "cell_type": "markdown",
   "metadata": {},
   "source": [
    "## The four time slots"
   ]
  },
  {
   "cell_type": "code",
   "execution_count": 11,
   "metadata": {},
   "outputs": [],
   "source": [
    "\n",
    "histYrSt = 1850\n",
    "\n",
    "refPeriodYrSt = 1971\n",
    "refPeriodYrEnd = 2000\n",
    "#++++++++++++++++++++++++\n",
    "\n",
    "scenYrSt = 2015\n",
    "scenEraOneYrEnd = 2044\n",
    "\n",
    "scenEraTwoYrSt = 2045\n",
    "scenEraTwoYrEnd = 2074\n",
    "\n",
    "scenEraThreeYrSt = 2075\n",
    "scenYrEnd = 2100\n",
    "#\n"
   ]
  },
  {
   "cell_type": "markdown",
   "metadata": {},
   "source": [
    "## tsteps"
   ]
  },
  {
   "cell_type": "code",
   "execution_count": 12,
   "metadata": {},
   "outputs": [
    {
     "name": "stdout",
     "output_type": "stream",
     "text": [
      "12\n"
     ]
    }
   ],
   "source": [
    "nMonsPerYr = 12     # \n",
    "print(nMonsPerYr)"
   ]
  },
  {
   "cell_type": "markdown",
   "metadata": {},
   "source": [
    "## Reference Period"
   ]
  },
  {
   "cell_type": "code",
   "execution_count": 13,
   "metadata": {},
   "outputs": [
    {
     "name": "stdout",
     "output_type": "stream",
     "text": [
      "1452 1814\n",
      "362\n"
     ]
    }
   ],
   "source": [
    "refPeriodStepSt = (refPeriodYrSt - histYrSt)*nMonsPerYr\n",
    "refPeriodStepEnd = (refPeriodYrEnd - histYrSt + 1)*nMonsPerYr + 2   # To include Jan and Feb of the following year in 2001\n",
    "print(refPeriodStepSt, refPeriodStepEnd)\n",
    "print(refPeriodStepEnd-refPeriodStepSt)"
   ]
  },
  {
   "cell_type": "markdown",
   "metadata": {},
   "source": [
    "## Era 1"
   ]
  },
  {
   "cell_type": "code",
   "execution_count": 14,
   "metadata": {},
   "outputs": [
    {
     "name": "stdout",
     "output_type": "stream",
     "text": [
      "0 362\n",
      "362\n"
     ]
    }
   ],
   "source": [
    "scenEraOneStepSt = 0\n",
    "scenEraOneStepEnd = (scenEraOneYrEnd - scenYrSt + 1)*nMonsPerYr + 2  # To include Jan and Feb of the following year in 2045\n",
    "print(scenEraOneStepSt, scenEraOneStepEnd)\n",
    "print(scenEraOneStepEnd-scenEraOneStepSt)"
   ]
  },
  {
   "cell_type": "markdown",
   "metadata": {},
   "source": [
    "## Era 2"
   ]
  },
  {
   "cell_type": "code",
   "execution_count": 15,
   "metadata": {},
   "outputs": [
    {
     "name": "stdout",
     "output_type": "stream",
     "text": [
      "360 722\n",
      "362\n"
     ]
    }
   ],
   "source": [
    "scenEraTwoStepSt = (scenEraTwoYrSt - scenYrSt)*nMonsPerYr\n",
    "scenEraTwoStepEnd = (scenEraTwoYrEnd - scenYrSt + 1)*nMonsPerYr + 2   # To include Jan and Feb of the following year in 2075\n",
    "print(scenEraTwoStepSt, scenEraTwoStepEnd)\n",
    "print(scenEraTwoStepEnd-scenEraTwoStepSt)"
   ]
  },
  {
   "cell_type": "markdown",
   "metadata": {},
   "source": [
    "## Era 3"
   ]
  },
  {
   "cell_type": "code",
   "execution_count": 16,
   "metadata": {},
   "outputs": [
    {
     "name": "stdout",
     "output_type": "stream",
     "text": [
      "720 1032\n",
      "312\n"
     ]
    }
   ],
   "source": [
    "scenEraThreeStepSt = (scenEraThreeYrSt - scenYrSt)*nMonsPerYr\n",
    "scenEraThreeStepEnd = (scenYrEnd - scenYrSt + 1)*nMonsPerYr    # Data ends at Dec, 2100\n",
    "print(scenEraThreeStepSt, scenEraThreeStepEnd)\n",
    "print(scenEraThreeStepEnd-scenEraThreeStepSt)"
   ]
  },
  {
   "cell_type": "code",
   "execution_count": null,
   "metadata": {},
   "outputs": [],
   "source": []
  },
  {
   "cell_type": "markdown",
   "metadata": {},
   "source": [
    "## Subsetting the data into different periods / Eras"
   ]
  },
  {
   "cell_type": "code",
   "execution_count": 17,
   "metadata": {},
   "outputs": [
    {
     "name": "stdout",
     "output_type": "stream",
     "text": [
      "(1980, 32, 56)\n",
      "(1032, 32, 56)\n"
     ]
    }
   ],
   "source": [
    "print(file_hist_ensMean_loaded.shape)\n",
    "print(file_scen_ensMean_loaded.shape)"
   ]
  },
  {
   "cell_type": "code",
   "execution_count": 18,
   "metadata": {},
   "outputs": [
    {
     "name": "stdout",
     "output_type": "stream",
     "text": [
      "(362, 32, 56)\n"
     ]
    }
   ],
   "source": [
    "param_refPeriod_Us_ensmean = file_hist_ensMean_loaded[refPeriodStepSt:refPeriodStepEnd, :]\n",
    "print(param_refPeriod_Us_ensmean.shape)"
   ]
  },
  {
   "cell_type": "code",
   "execution_count": 19,
   "metadata": {},
   "outputs": [
    {
     "name": "stdout",
     "output_type": "stream",
     "text": [
      "(362, 32, 56)\n"
     ]
    }
   ],
   "source": [
    "param_scenEraOne_Us_ensmean = file_scen_ensMean_loaded[scenEraOneStepSt:scenEraOneStepEnd, :]\n",
    "print(param_scenEraOne_Us_ensmean.shape)"
   ]
  },
  {
   "cell_type": "code",
   "execution_count": 20,
   "metadata": {},
   "outputs": [
    {
     "name": "stdout",
     "output_type": "stream",
     "text": [
      "(362, 32, 56)\n"
     ]
    }
   ],
   "source": [
    "param_scenEraTwo_Us_ensmean = file_scen_ensMean_loaded[scenEraTwoStepSt:scenEraTwoStepEnd, :]\n",
    "print(param_scenEraTwo_Us_ensmean.shape)"
   ]
  },
  {
   "cell_type": "code",
   "execution_count": 21,
   "metadata": {},
   "outputs": [
    {
     "name": "stdout",
     "output_type": "stream",
     "text": [
      "(312, 32, 56)\n"
     ]
    }
   ],
   "source": [
    "param_scenEraThree_Us_ensmean = file_scen_ensMean_loaded[scenEraThreeStepSt:scenEraThreeStepEnd, :]\n",
    "print(param_scenEraThree_Us_ensmean.shape)"
   ]
  },
  {
   "cell_type": "markdown",
   "metadata": {},
   "source": [
    "## Seasons start here"
   ]
  },
  {
   "cell_type": "code",
   "execution_count": 22,
   "metadata": {},
   "outputs": [
    {
     "name": "stdout",
     "output_type": "stream",
     "text": [
      "12\n"
     ]
    }
   ],
   "source": [
    "print(nMonsPerYr)"
   ]
  },
  {
   "cell_type": "code",
   "execution_count": 23,
   "metadata": {},
   "outputs": [
    {
     "name": "stdout",
     "output_type": "stream",
     "text": [
      "(362, 32, 56)\n",
      "(362, 32, 56)\n",
      "(362, 32, 56)\n",
      "(312, 32, 56)\n"
     ]
    }
   ],
   "source": [
    "param_refPeriod_Us_ensmean = file_hist_ensMean_loaded[refPeriodStepSt:refPeriodStepEnd, :]\n",
    "print(param_refPeriod_Us_ensmean.shape)\n",
    "\n",
    "param_scenEraOne_Us_ensmean = file_scen_ensMean_loaded[scenEraOneStepSt:scenEraOneStepEnd, :]\n",
    "print(param_scenEraOne_Us_ensmean.shape)\n",
    "\n",
    "param_scenEraTwo_Us_ensmean = file_scen_ensMean_loaded[scenEraTwoStepSt:scenEraTwoStepEnd, :]\n",
    "print(param_scenEraTwo_Us_ensmean.shape)\n",
    "\n",
    "param_scenEraThree_Us_ensmean = file_scen_ensMean_loaded[scenEraThreeStepSt:scenEraThreeStepEnd, :]\n",
    "print(param_scenEraThree_Us_ensmean.shape)"
   ]
  },
  {
   "cell_type": "code",
   "execution_count": null,
   "metadata": {},
   "outputs": [],
   "source": []
  },
  {
   "cell_type": "markdown",
   "metadata": {},
   "source": [
    "## MAM"
   ]
  },
  {
   "cell_type": "markdown",
   "metadata": {},
   "source": [
    "## ref Period"
   ]
  },
  {
   "cell_type": "code",
   "execution_count": 24,
   "metadata": {},
   "outputs": [],
   "source": [
    "mamMonSt = 3\n",
    "mamMonMid = 4\n",
    "mamMonEnd = 5"
   ]
  },
  {
   "cell_type": "code",
   "execution_count": 25,
   "metadata": {},
   "outputs": [
    {
     "name": "stdout",
     "output_type": "stream",
     "text": [
      "(30, 32, 56)\n",
      "(30, 32, 56)\n",
      "(30, 32, 56)\n"
     ]
    }
   ],
   "source": [
    "\n",
    "param_mamSt_refPeriod_Us_ensmean = param_refPeriod_Us_ensmean[mamMonSt-1::nMonsPerYr]\n",
    "print(param_mamSt_refPeriod_Us_ensmean.shape)\n",
    "\n",
    "param_mamMid_refPeriod_Us_ensmean = param_refPeriod_Us_ensmean[mamMonMid-1::nMonsPerYr]\n",
    "print(param_mamMid_refPeriod_Us_ensmean.shape)\n",
    "\n",
    "param_mamEnd_refPeriod_Us_ensmean = param_refPeriod_Us_ensmean[mamMonEnd-1::nMonsPerYr]\n",
    "print(param_mamEnd_refPeriod_Us_ensmean.shape)\n"
   ]
  },
  {
   "cell_type": "code",
   "execution_count": 26,
   "metadata": {},
   "outputs": [
    {
     "name": "stdout",
     "output_type": "stream",
     "text": [
      "(32, 56)\n",
      "(32, 56)\n",
      "(32, 56)\n"
     ]
    }
   ],
   "source": [
    "param_mamSt_refPeriod_Us_ensmean_timeAvg = np.nanmean(param_mamSt_refPeriod_Us_ensmean, axis = 0)\n",
    "print(param_mamSt_refPeriod_Us_ensmean_timeAvg.shape)\n",
    "\n",
    "param_mamMid_refPeriod_Us_ensmean_timeAvg = np.nanmean(param_mamMid_refPeriod_Us_ensmean, axis = 0)\n",
    "print(param_mamMid_refPeriod_Us_ensmean_timeAvg.shape)\n",
    "\n",
    "param_mamEnd_refPeriod_Us_ensmean_timeAvg = np.nanmean(param_mamEnd_refPeriod_Us_ensmean, axis = 0)\n",
    "print(param_mamEnd_refPeriod_Us_ensmean_timeAvg.shape)\n"
   ]
  },
  {
   "cell_type": "code",
   "execution_count": 27,
   "metadata": {},
   "outputs": [
    {
     "name": "stdout",
     "output_type": "stream",
     "text": [
      "(32, 56)\n"
     ]
    }
   ],
   "source": [
    "param_mamTot_refPeriod_Us_ensmean_timeAvg = (param_mamSt_refPeriod_Us_ensmean_timeAvg+param_mamMid_refPeriod_Us_ensmean_timeAvg+param_mamEnd_refPeriod_Us_ensmean_timeAvg)/3\n",
    "print(param_mamTot_refPeriod_Us_ensmean_timeAvg.shape)"
   ]
  },
  {
   "cell_type": "markdown",
   "metadata": {},
   "source": [
    "## Scen Era 1"
   ]
  },
  {
   "cell_type": "code",
   "execution_count": 28,
   "metadata": {},
   "outputs": [
    {
     "name": "stdout",
     "output_type": "stream",
     "text": [
      "(30, 32, 56)\n",
      "(30, 32, 56)\n",
      "(30, 32, 56)\n"
     ]
    }
   ],
   "source": [
    "\n",
    "param_mamSt_scenEraOne_Us_ensmean = param_scenEraOne_Us_ensmean[mamMonSt-1::nMonsPerYr]\n",
    "print(param_mamSt_scenEraOne_Us_ensmean.shape)\n",
    "\n",
    "param_mamMid_scenEraOne_Us_ensmean = param_scenEraOne_Us_ensmean[mamMonMid-1::nMonsPerYr]\n",
    "print(param_mamMid_scenEraOne_Us_ensmean.shape)\n",
    "\n",
    "param_mamEnd_scenEraOne_Us_ensmean = param_scenEraOne_Us_ensmean[mamMonEnd-1::nMonsPerYr]\n",
    "print(param_mamEnd_scenEraOne_Us_ensmean.shape)\n"
   ]
  },
  {
   "cell_type": "code",
   "execution_count": 29,
   "metadata": {},
   "outputs": [
    {
     "name": "stdout",
     "output_type": "stream",
     "text": [
      "(32, 56)\n",
      "(32, 56)\n",
      "(32, 56)\n"
     ]
    }
   ],
   "source": [
    "param_mamSt_scenEraOne_Us_ensmean_timeAvg = np.nanmean(param_mamSt_scenEraOne_Us_ensmean, axis = 0)\n",
    "print(param_mamSt_scenEraOne_Us_ensmean_timeAvg.shape)\n",
    "\n",
    "param_mamMid_scenEraOne_Us_ensmean_timeAvg = np.nanmean(param_mamMid_scenEraOne_Us_ensmean, axis = 0)\n",
    "print(param_mamMid_scenEraOne_Us_ensmean_timeAvg.shape)\n",
    "\n",
    "param_mamEnd_scenEraOne_Us_ensmean_timeAvg = np.nanmean(param_mamEnd_scenEraOne_Us_ensmean, axis = 0)\n",
    "print(param_mamEnd_scenEraOne_Us_ensmean_timeAvg.shape)\n"
   ]
  },
  {
   "cell_type": "code",
   "execution_count": 30,
   "metadata": {},
   "outputs": [
    {
     "name": "stdout",
     "output_type": "stream",
     "text": [
      "(32, 56)\n"
     ]
    }
   ],
   "source": [
    "param_mamTot_scenEraOne_Us_ensmean_timeAvg = (param_mamSt_scenEraOne_Us_ensmean_timeAvg+param_mamMid_scenEraOne_Us_ensmean_timeAvg+param_mamEnd_scenEraOne_Us_ensmean_timeAvg)/3\n",
    "print(param_mamTot_scenEraOne_Us_ensmean_timeAvg.shape)\n"
   ]
  },
  {
   "cell_type": "markdown",
   "metadata": {},
   "source": [
    "## Scen Era 2"
   ]
  },
  {
   "cell_type": "code",
   "execution_count": 31,
   "metadata": {},
   "outputs": [
    {
     "name": "stdout",
     "output_type": "stream",
     "text": [
      "(30, 32, 56)\n",
      "(30, 32, 56)\n",
      "(30, 32, 56)\n"
     ]
    }
   ],
   "source": [
    "\n",
    "param_mamSt_scenEraTwo_Us_ensmean = param_scenEraTwo_Us_ensmean[mamMonSt-1::nMonsPerYr]\n",
    "print(param_mamSt_scenEraTwo_Us_ensmean.shape)\n",
    "\n",
    "param_mamMid_scenEraTwo_Us_ensmean = param_scenEraTwo_Us_ensmean[mamMonMid-1::nMonsPerYr]\n",
    "print(param_mamMid_scenEraTwo_Us_ensmean.shape)\n",
    "\n",
    "param_mamEnd_scenEraTwo_Us_ensmean = param_scenEraTwo_Us_ensmean[mamMonEnd-1::nMonsPerYr]\n",
    "print(param_mamEnd_scenEraTwo_Us_ensmean.shape)\n"
   ]
  },
  {
   "cell_type": "code",
   "execution_count": 32,
   "metadata": {},
   "outputs": [
    {
     "name": "stdout",
     "output_type": "stream",
     "text": [
      "(32, 56)\n",
      "(32, 56)\n",
      "(32, 56)\n"
     ]
    }
   ],
   "source": [
    "param_mamSt_scenEraTwo_Us_ensmean_timeAvg = np.nanmean(param_mamSt_scenEraTwo_Us_ensmean, axis = 0)\n",
    "print(param_mamSt_scenEraTwo_Us_ensmean_timeAvg.shape)\n",
    "\n",
    "param_mamMid_scenEraTwo_Us_ensmean_timeAvg = np.nanmean(param_mamMid_scenEraTwo_Us_ensmean, axis = 0)\n",
    "print(param_mamMid_scenEraTwo_Us_ensmean_timeAvg.shape)\n",
    "\n",
    "param_mamEnd_scenEraTwo_Us_ensmean_timeAvg = np.nanmean(param_mamEnd_scenEraTwo_Us_ensmean, axis = 0)\n",
    "print(param_mamEnd_scenEraTwo_Us_ensmean_timeAvg.shape)\n"
   ]
  },
  {
   "cell_type": "code",
   "execution_count": 33,
   "metadata": {},
   "outputs": [
    {
     "name": "stdout",
     "output_type": "stream",
     "text": [
      "(32, 56)\n"
     ]
    }
   ],
   "source": [
    "param_mamTot_scenEraTwo_Us_ensmean_timeAvg = (param_mamSt_scenEraTwo_Us_ensmean_timeAvg+param_mamMid_scenEraTwo_Us_ensmean_timeAvg+param_mamEnd_scenEraTwo_Us_ensmean_timeAvg)/3\n",
    "print(param_mamTot_scenEraTwo_Us_ensmean_timeAvg.shape)\n"
   ]
  },
  {
   "cell_type": "markdown",
   "metadata": {},
   "source": [
    "## Scen Era 3"
   ]
  },
  {
   "cell_type": "code",
   "execution_count": 34,
   "metadata": {},
   "outputs": [
    {
     "name": "stdout",
     "output_type": "stream",
     "text": [
      "(26, 32, 56)\n",
      "(26, 32, 56)\n",
      "(26, 32, 56)\n"
     ]
    }
   ],
   "source": [
    "\n",
    "param_mamSt_scenEraThree_Us_ensmean = param_scenEraThree_Us_ensmean[mamMonSt-1::nMonsPerYr]\n",
    "print(param_mamSt_scenEraThree_Us_ensmean.shape)\n",
    "\n",
    "param_mamMid_scenEraThree_Us_ensmean = param_scenEraThree_Us_ensmean[mamMonMid-1::nMonsPerYr]\n",
    "print(param_mamMid_scenEraThree_Us_ensmean.shape)\n",
    "\n",
    "param_mamEnd_scenEraThree_Us_ensmean = param_scenEraThree_Us_ensmean[mamMonEnd-1::nMonsPerYr]\n",
    "print(param_mamEnd_scenEraThree_Us_ensmean.shape)\n"
   ]
  },
  {
   "cell_type": "code",
   "execution_count": 35,
   "metadata": {},
   "outputs": [
    {
     "name": "stdout",
     "output_type": "stream",
     "text": [
      "(32, 56)\n",
      "(32, 56)\n",
      "(32, 56)\n"
     ]
    }
   ],
   "source": [
    "param_mamSt_scenEraThree_Us_ensmean_timeAvg = np.nanmean(param_mamSt_scenEraThree_Us_ensmean, axis = 0)\n",
    "print(param_mamSt_scenEraThree_Us_ensmean_timeAvg.shape)\n",
    "\n",
    "param_mamMid_scenEraThree_Us_ensmean_timeAvg = np.nanmean(param_mamMid_scenEraThree_Us_ensmean, axis = 0)\n",
    "print(param_mamMid_scenEraThree_Us_ensmean_timeAvg.shape)\n",
    "\n",
    "param_mamEnd_scenEraThree_Us_ensmean_timeAvg = np.nanmean(param_mamEnd_scenEraThree_Us_ensmean, axis = 0)\n",
    "print(param_mamEnd_scenEraThree_Us_ensmean_timeAvg.shape)\n"
   ]
  },
  {
   "cell_type": "code",
   "execution_count": 36,
   "metadata": {},
   "outputs": [
    {
     "name": "stdout",
     "output_type": "stream",
     "text": [
      "(32, 56)\n"
     ]
    }
   ],
   "source": [
    "param_mamTot_scenEraThree_Us_ensmean_timeAvg = (param_mamSt_scenEraThree_Us_ensmean_timeAvg+param_mamMid_scenEraThree_Us_ensmean_timeAvg+param_mamEnd_scenEraThree_Us_ensmean_timeAvg)/3\n",
    "print(param_mamTot_scenEraThree_Us_ensmean_timeAvg.shape)\n"
   ]
  },
  {
   "cell_type": "markdown",
   "metadata": {},
   "source": [
    "### Differences at the three Eras"
   ]
  },
  {
   "cell_type": "code",
   "execution_count": 37,
   "metadata": {},
   "outputs": [
    {
     "name": "stdout",
     "output_type": "stream",
     "text": [
      "(32, 56)\n"
     ]
    }
   ],
   "source": [
    "param_mamTot_scenEraOne_pDiff_Us_ensmean_timeAvg = (param_mamTot_scenEraOne_Us_ensmean_timeAvg - param_mamTot_refPeriod_Us_ensmean_timeAvg)\n",
    "print(param_mamTot_scenEraOne_pDiff_Us_ensmean_timeAvg.shape)"
   ]
  },
  {
   "cell_type": "code",
   "execution_count": 38,
   "metadata": {},
   "outputs": [
    {
     "name": "stdout",
     "output_type": "stream",
     "text": [
      "(32, 56)\n"
     ]
    }
   ],
   "source": [
    "param_mamTot_scenEraTwo_pDiff_Us_ensmean_timeAvg = (param_mamTot_scenEraTwo_Us_ensmean_timeAvg - param_mamTot_refPeriod_Us_ensmean_timeAvg)\n",
    "print(param_mamTot_scenEraTwo_pDiff_Us_ensmean_timeAvg.shape)"
   ]
  },
  {
   "cell_type": "code",
   "execution_count": 39,
   "metadata": {},
   "outputs": [
    {
     "name": "stdout",
     "output_type": "stream",
     "text": [
      "(32, 56)\n"
     ]
    }
   ],
   "source": [
    "param_mamTot_scenEraThree_pDiff_Us_ensmean_timeAvg = (param_mamTot_scenEraThree_Us_ensmean_timeAvg - param_mamTot_refPeriod_Us_ensmean_timeAvg)\n",
    "print(param_mamTot_scenEraThree_pDiff_Us_ensmean_timeAvg.shape)"
   ]
  },
  {
   "cell_type": "code",
   "execution_count": null,
   "metadata": {},
   "outputs": [],
   "source": []
  },
  {
   "cell_type": "markdown",
   "metadata": {},
   "source": [
    "## Basin Mask (MAM)"
   ]
  },
  {
   "cell_type": "markdown",
   "metadata": {},
   "source": [
    "## Writing in an Xarray Data array"
   ]
  },
  {
   "cell_type": "code",
   "execution_count": 40,
   "metadata": {},
   "outputs": [
    {
     "name": "stdout",
     "output_type": "stream",
     "text": [
      "32\n",
      "56\n"
     ]
    }
   ],
   "source": [
    "y_Us, x_Us = param_mamTot_scenEraOne_pDiff_Us_ensmean_timeAvg.shape\n",
    "print(y_Us)\n",
    "print(x_Us)"
   ]
  },
  {
   "cell_type": "code",
   "execution_count": 41,
   "metadata": {},
   "outputs": [
    {
     "name": "stdout",
     "output_type": "stream",
     "text": [
      "(32, 56)\n",
      "<xarray.DataArray (Lat: 32, Lon: 56)>\n",
      "array([[ 0.        ,  0.        ,  0.        , ...,  0.        ,\n",
      "         0.        ,  0.        ],\n",
      "       [ 0.        ,  0.        ,  0.        , ...,  0.        ,\n",
      "         0.        ,  0.        ],\n",
      "       [ 0.        ,  0.        ,  0.        , ...,  0.        ,\n",
      "         0.        ,  0.        ],\n",
      "       ...,\n",
      "       [ 0.        ,  0.67796015,  2.92311158, ...,  1.03799035,\n",
      "         4.68965748,  6.46560677],\n",
      "       [ 0.33901494,  2.69603137,  2.49117218, ...,  1.56046961,\n",
      "         2.72102437, -0.80858488],\n",
      "       [ 2.35033254,  2.524977  ,  2.00910702, ...,  0.89630152,\n",
      "         1.33796831, -1.59893774]])\n",
      "Coordinates:\n",
      "  * Lat      (Lat) float32 24.97 25.92 26.86 27.8 ... 51.36 52.3 53.25 54.19\n",
      "  * Lon      (Lon) float32 230.0 231.2 232.5 233.8 ... 295.0 296.2 297.5 298.8\n"
     ]
    }
   ],
   "source": [
    "param_mamTot_scenEraOne_diff_Us_xarray = xr.DataArray(param_mamTot_scenEraOne_pDiff_Us_ensmean_timeAvg, coords=[lats_US, lons_US], dims=[\"Lat\",\"Lon\"])\n",
    "print(param_mamTot_scenEraOne_diff_Us_xarray.shape)\n",
    "print(param_mamTot_scenEraOne_diff_Us_xarray)"
   ]
  },
  {
   "cell_type": "code",
   "execution_count": 42,
   "metadata": {},
   "outputs": [
    {
     "name": "stdout",
     "output_type": "stream",
     "text": [
      "(32, 56)\n",
      "<xarray.DataArray (Lat: 32, Lon: 56)>\n",
      "array([[0.        , 0.        , 0.        , ..., 0.        , 0.        ,\n",
      "        0.        ],\n",
      "       [0.        , 0.        , 0.        , ..., 0.        , 0.        ,\n",
      "        0.        ],\n",
      "       [0.        , 0.        , 0.        , ..., 0.        , 0.        ,\n",
      "        0.        ],\n",
      "       ...,\n",
      "       [0.        , 1.55130074, 6.20696404, ..., 1.90784443, 8.47271852,\n",
      "        9.95102345],\n",
      "       [0.98123992, 5.12369145, 6.44614797, ..., 1.44441203, 2.20655098,\n",
      "        1.14298529],\n",
      "       [4.57578693, 5.9580773 , 4.50736373, ..., 0.53505836, 1.03893819,\n",
      "        1.06452084]])\n",
      "Coordinates:\n",
      "  * Lat      (Lat) float32 24.97 25.92 26.86 27.8 ... 51.36 52.3 53.25 54.19\n",
      "  * Lon      (Lon) float32 230.0 231.2 232.5 233.8 ... 295.0 296.2 297.5 298.8\n"
     ]
    }
   ],
   "source": [
    "param_mamTot_scenEraTwo_diff_Us_xarray = xr.DataArray(param_mamTot_scenEraTwo_pDiff_Us_ensmean_timeAvg, coords=[lats_US, lons_US], dims=[\"Lat\",\"Lon\"])\n",
    "print(param_mamTot_scenEraTwo_diff_Us_xarray.shape)\n",
    "print(param_mamTot_scenEraTwo_diff_Us_xarray)"
   ]
  },
  {
   "cell_type": "code",
   "execution_count": 43,
   "metadata": {},
   "outputs": [
    {
     "name": "stdout",
     "output_type": "stream",
     "text": [
      "(32, 56)\n",
      "<xarray.DataArray (Lat: 32, Lon: 56)>\n",
      "array([[ 0.        ,  0.        ,  0.        , ...,  0.        ,\n",
      "         0.        ,  0.        ],\n",
      "       [ 0.        ,  0.        ,  0.        , ...,  0.        ,\n",
      "         0.        ,  0.        ],\n",
      "       [ 0.        ,  0.        ,  0.        , ...,  0.        ,\n",
      "         0.        ,  0.        ],\n",
      "       ...,\n",
      "       [ 0.        ,  2.55297359,  8.94190127, ...,  4.99615574,\n",
      "        11.84757149, 12.05706757],\n",
      "       [ 1.75497583,  6.92517759, 11.25393422, ...,  5.2517145 ,\n",
      "         5.49555764,  3.73707131],\n",
      "       [ 6.25025213, 10.18242006,  7.85472125, ...,  2.85960941,\n",
      "         3.83177147,  4.3663594 ]])\n",
      "Coordinates:\n",
      "  * Lat      (Lat) float32 24.97 25.92 26.86 27.8 ... 51.36 52.3 53.25 54.19\n",
      "  * Lon      (Lon) float32 230.0 231.2 232.5 233.8 ... 295.0 296.2 297.5 298.8\n"
     ]
    }
   ],
   "source": [
    "param_mamTot_scenEraThree_diff_Us_xarray = xr.DataArray(param_mamTot_scenEraThree_pDiff_Us_ensmean_timeAvg, coords=[lats_US, lons_US], dims=[\"Lat\",\"Lon\"])\n",
    "print(param_mamTot_scenEraThree_diff_Us_xarray.shape)\n",
    "print(param_mamTot_scenEraThree_diff_Us_xarray)"
   ]
  },
  {
   "cell_type": "code",
   "execution_count": null,
   "metadata": {},
   "outputs": [],
   "source": []
  },
  {
   "cell_type": "code",
   "execution_count": null,
   "metadata": {},
   "outputs": [],
   "source": []
  },
  {
   "cell_type": "markdown",
   "metadata": {},
   "source": [
    "## Mask files for the Basin Domain only"
   ]
  },
  {
   "cell_type": "markdown",
   "metadata": {},
   "source": [
    "### Mississippi"
   ]
  },
  {
   "cell_type": "code",
   "execution_count": 44,
   "metadata": {},
   "outputs": [
    {
     "name": "stdout",
     "output_type": "stream",
     "text": [
      "C:/rezaul/1.academic/1.research/2.project/mrb/dt/shapeFile/mask/mrb_us/mask_missiWri_us_CESM_longThree.nc\n"
     ]
    }
   ],
   "source": [
    "MaskFile_Missi_to_load = 'C:/rezaul/1.academic/1.research/2.project/mrb/dt/shapeFile/mask/mrb_us/mask_missiWri_us_CESM_longThree.nc'\n",
    "print(MaskFile_Missi_to_load)"
   ]
  },
  {
   "cell_type": "code",
   "execution_count": 45,
   "metadata": {},
   "outputs": [
    {
     "name": "stdout",
     "output_type": "stream",
     "text": [
      "<xarray.DataArray 'Mask' (Lat: 32, Lon: 56)>\n",
      "array([[0, 0, 0, ..., 0, 0, 0],\n",
      "       [0, 0, 0, ..., 0, 0, 0],\n",
      "       [0, 0, 0, ..., 0, 0, 0],\n",
      "       ...,\n",
      "       [0, 0, 0, ..., 0, 0, 0],\n",
      "       [0, 0, 0, ..., 0, 0, 0],\n",
      "       [0, 0, 0, ..., 0, 0, 0]])\n",
      "Coordinates:\n",
      "  * Lat      (Lat) float32 24.97 25.92 26.86 27.8 ... 51.36 52.3 53.25 54.19\n",
      "  * Lon      (Lon) float32 230.0 231.2 232.5 233.8 ... 295.0 296.2 297.5 298.8\n"
     ]
    },
    {
     "name": "stderr",
     "output_type": "stream",
     "text": [
      "C:\\Users\\muham\\anaconda3\\lib\\site-packages\\xarray\\backends\\plugins.py:61: RuntimeWarning: Engine 'rasterio' loading failed:\n",
      "DLL load failed while importing _base: The specified procedure could not be found.\n",
      "  warnings.warn(f\"Engine {name!r} loading failed:\\n{ex}\", RuntimeWarning)\n"
     ]
    }
   ],
   "source": [
    "MaskFile_Missi = xr.open_dataset(MaskFile_Missi_to_load)['Mask']\n",
    "print(MaskFile_Missi)"
   ]
  },
  {
   "cell_type": "code",
   "execution_count": 46,
   "metadata": {},
   "outputs": [
    {
     "name": "stdout",
     "output_type": "stream",
     "text": [
      "(32, 56)\n",
      "<xarray.DataArray (Lat: 32, Lon: 56)>\n",
      "array([[nan, nan, nan, ..., nan, nan, nan],\n",
      "       [nan, nan, nan, ..., nan, nan, nan],\n",
      "       [nan, nan, nan, ..., nan, nan, nan],\n",
      "       ...,\n",
      "       [nan, nan, nan, ..., nan, nan, nan],\n",
      "       [nan, nan, nan, ..., nan, nan, nan],\n",
      "       [nan, nan, nan, ..., nan, nan, nan]])\n",
      "Coordinates:\n",
      "  * Lat      (Lat) float32 24.97 25.92 26.86 27.8 ... 51.36 52.3 53.25 54.19\n",
      "  * Lon      (Lon) float32 230.0 231.2 232.5 233.8 ... 295.0 296.2 297.5 298.8\n"
     ]
    }
   ],
   "source": [
    "param_mamTot_scenEraOne_diff_masked_Missi = param_mamTot_scenEraOne_diff_Us_xarray.where(MaskFile_Missi>0)\n",
    "print(param_mamTot_scenEraOne_diff_masked_Missi.shape)\n",
    "print(param_mamTot_scenEraOne_diff_masked_Missi)"
   ]
  },
  {
   "cell_type": "code",
   "execution_count": 47,
   "metadata": {},
   "outputs": [
    {
     "name": "stdout",
     "output_type": "stream",
     "text": [
      "(32, 56)\n",
      "<xarray.DataArray (Lat: 32, Lon: 56)>\n",
      "array([[nan, nan, nan, ..., nan, nan, nan],\n",
      "       [nan, nan, nan, ..., nan, nan, nan],\n",
      "       [nan, nan, nan, ..., nan, nan, nan],\n",
      "       ...,\n",
      "       [nan, nan, nan, ..., nan, nan, nan],\n",
      "       [nan, nan, nan, ..., nan, nan, nan],\n",
      "       [nan, nan, nan, ..., nan, nan, nan]])\n",
      "Coordinates:\n",
      "  * Lat      (Lat) float32 24.97 25.92 26.86 27.8 ... 51.36 52.3 53.25 54.19\n",
      "  * Lon      (Lon) float32 230.0 231.2 232.5 233.8 ... 295.0 296.2 297.5 298.8\n"
     ]
    }
   ],
   "source": [
    "param_mamTot_scenEraTwo_diff_masked_Missi = param_mamTot_scenEraTwo_diff_Us_xarray.where(MaskFile_Missi>0)\n",
    "print(param_mamTot_scenEraTwo_diff_masked_Missi.shape)\n",
    "print(param_mamTot_scenEraTwo_diff_masked_Missi)"
   ]
  },
  {
   "cell_type": "code",
   "execution_count": 48,
   "metadata": {},
   "outputs": [
    {
     "name": "stdout",
     "output_type": "stream",
     "text": [
      "(32, 56)\n",
      "<xarray.DataArray (Lat: 32, Lon: 56)>\n",
      "array([[nan, nan, nan, ..., nan, nan, nan],\n",
      "       [nan, nan, nan, ..., nan, nan, nan],\n",
      "       [nan, nan, nan, ..., nan, nan, nan],\n",
      "       ...,\n",
      "       [nan, nan, nan, ..., nan, nan, nan],\n",
      "       [nan, nan, nan, ..., nan, nan, nan],\n",
      "       [nan, nan, nan, ..., nan, nan, nan]])\n",
      "Coordinates:\n",
      "  * Lat      (Lat) float32 24.97 25.92 26.86 27.8 ... 51.36 52.3 53.25 54.19\n",
      "  * Lon      (Lon) float32 230.0 231.2 232.5 233.8 ... 295.0 296.2 297.5 298.8\n"
     ]
    }
   ],
   "source": [
    "param_mamTot_scenEraThree_diff_masked_Missi = param_mamTot_scenEraThree_diff_Us_xarray.where(MaskFile_Missi>0)\n",
    "print(param_mamTot_scenEraThree_diff_masked_Missi.shape)\n",
    "print(param_mamTot_scenEraThree_diff_masked_Missi)"
   ]
  },
  {
   "cell_type": "code",
   "execution_count": null,
   "metadata": {},
   "outputs": [],
   "source": []
  },
  {
   "cell_type": "markdown",
   "metadata": {},
   "source": [
    "## Find max and min values"
   ]
  },
  {
   "cell_type": "code",
   "execution_count": 49,
   "metadata": {},
   "outputs": [
    {
     "name": "stdout",
     "output_type": "stream",
     "text": [
      "11.701425069266406\n",
      "0.5939208922795842\n"
     ]
    }
   ],
   "source": [
    "maxVal_mamTot_diff_masked_scenEraOne = np.nanmax(param_mamTot_scenEraOne_diff_masked_Missi)\n",
    "print(maxVal_mamTot_diff_masked_scenEraOne)\n",
    "minVal_mamTot_diff_masked_scenEraOne = np.nanmin(param_mamTot_scenEraOne_diff_masked_Missi)\n",
    "print(minVal_mamTot_diff_masked_scenEraOne)"
   ]
  },
  {
   "cell_type": "code",
   "execution_count": 50,
   "metadata": {},
   "outputs": [
    {
     "name": "stdout",
     "output_type": "stream",
     "text": [
      "18.74311456207611\n",
      "2.3501355243756734\n"
     ]
    }
   ],
   "source": [
    "maxVal_mamTot_diff_masked_scenEraTwo = np.nanmax(param_mamTot_scenEraTwo_diff_masked_Missi)\n",
    "print(maxVal_mamTot_diff_masked_scenEraTwo)\n",
    "minVal_mamTot_diff_masked_scenEraTwo = np.nanmin(param_mamTot_scenEraTwo_diff_masked_Missi)\n",
    "print(minVal_mamTot_diff_masked_scenEraTwo)"
   ]
  },
  {
   "cell_type": "code",
   "execution_count": 51,
   "metadata": {},
   "outputs": [
    {
     "name": "stdout",
     "output_type": "stream",
     "text": [
      "25.257792628379228\n",
      "2.1016264714730397\n"
     ]
    }
   ],
   "source": [
    "maxVal_mamTot_diff_masked_scenEraThree = np.nanmax(param_mamTot_scenEraThree_diff_masked_Missi)\n",
    "print(maxVal_mamTot_diff_masked_scenEraThree)\n",
    "minVal_mamTot_diff_masked_scenEraThree = np.nanmin(param_mamTot_scenEraThree_diff_masked_Missi)\n",
    "print(minVal_mamTot_diff_masked_scenEraThree)"
   ]
  },
  {
   "cell_type": "code",
   "execution_count": null,
   "metadata": {},
   "outputs": [],
   "source": []
  },
  {
   "cell_type": "code",
   "execution_count": null,
   "metadata": {},
   "outputs": [],
   "source": []
  },
  {
   "cell_type": "markdown",
   "metadata": {},
   "source": [
    "## Plotting"
   ]
  },
  {
   "cell_type": "code",
   "execution_count": 52,
   "metadata": {},
   "outputs": [
    {
     "name": "stdout",
     "output_type": "stream",
     "text": [
      "24.973822\n",
      "54.18848\n",
      "230.0\n",
      "298.75\n"
     ]
    }
   ],
   "source": [
    "\n",
    "latUsMin = lats_US.min()     # = or = latsCfsDnSc\n",
    "print(latUsMin)\n",
    "\n",
    "latUsMax = lats_US.max()\n",
    "print(latUsMax)\n",
    "\n",
    "lonUsMin = lons_US.min()\n",
    "print(lonUsMin)\n",
    "\n",
    "lonUsMax = lons_US.max()\n",
    "print(lonUsMax)"
   ]
  },
  {
   "cell_type": "code",
   "execution_count": 53,
   "metadata": {},
   "outputs": [
    {
     "name": "stdout",
     "output_type": "stream",
     "text": [
      "[230.0, 298.75, 24.973822, 54.18848]\n"
     ]
    }
   ],
   "source": [
    "extentUs = [lonUsMin, lonUsMax, latUsMin, latUsMax]\n",
    "print(extentUs)"
   ]
  },
  {
   "cell_type": "code",
   "execution_count": 54,
   "metadata": {},
   "outputs": [
    {
     "name": "stdout",
     "output_type": "stream",
     "text": [
      "[230.   231.25 232.5  233.75 235.   236.25 237.5  238.75 240.   241.25\n",
      " 242.5  243.75 245.   246.25 247.5  248.75 250.   251.25 252.5  253.75\n",
      " 255.   256.25 257.5  258.75 260.   261.25 262.5  263.75 265.   266.25\n",
      " 267.5  268.75 270.   271.25 272.5  273.75 275.   276.25 277.5  278.75\n",
      " 280.   281.25 282.5  283.75 285.   286.25 287.5  288.75 290.   291.25\n",
      " 292.5  293.75 295.   296.25 297.5  298.75]\n",
      "[24.97382164 25.91622999 26.85863833 27.80104668 28.74345503 29.68586337\n",
      " 30.62827172 31.57068006 32.51308841 33.45549676 34.3979051  35.34031345\n",
      " 36.2827218  37.22513014 38.16753849 39.10994684 40.05235518 40.99476353\n",
      " 41.93717187 42.87958022 43.82198857 44.76439691 45.70680526 46.64921361\n",
      " 47.59162195 48.5340303  49.47643865 50.41884699 51.36125534 52.30366368\n",
      " 53.24607203 54.18848038]\n"
     ]
    }
   ],
   "source": [
    "x_Us = linspace(lonUsMin, lonUsMax, x_US)\n",
    "y_Us = linspace(latUsMin, latUsMax, y_US)\n",
    "print(x_Us)\n",
    "print(y_Us)\n",
    "\n",
    "# Create the rectangular grid out of these values\n",
    "xx_Us, yy_Us = meshgrid(x_Us, y_Us)\n"
   ]
  },
  {
   "cell_type": "code",
   "execution_count": null,
   "metadata": {},
   "outputs": [],
   "source": []
  },
  {
   "cell_type": "code",
   "execution_count": 55,
   "metadata": {},
   "outputs": [
    {
     "name": "stdout",
     "output_type": "stream",
     "text": [
      "0.0\n",
      "12.0\n"
     ]
    }
   ],
   "source": [
    "vmin_mamTot_scenEraOne = np.floor(minVal_mamTot_diff_masked_scenEraOne)\n",
    "vmax_mamTot_scenEraOne = np.ceil(maxVal_mamTot_diff_masked_scenEraOne)\n",
    "print(vmin_mamTot_scenEraOne)\n",
    "print(vmax_mamTot_scenEraOne)"
   ]
  },
  {
   "cell_type": "code",
   "execution_count": 56,
   "metadata": {},
   "outputs": [
    {
     "name": "stdout",
     "output_type": "stream",
     "text": [
      "2.0\n",
      "19.0\n"
     ]
    }
   ],
   "source": [
    "vmin_mamTot_scenEraTwo = np.floor(minVal_mamTot_diff_masked_scenEraTwo)\n",
    "vmax_mamTot_scenEraTwo = np.ceil(maxVal_mamTot_diff_masked_scenEraTwo)\n",
    "print(vmin_mamTot_scenEraTwo)\n",
    "print(vmax_mamTot_scenEraTwo)"
   ]
  },
  {
   "cell_type": "code",
   "execution_count": 57,
   "metadata": {},
   "outputs": [
    {
     "name": "stdout",
     "output_type": "stream",
     "text": [
      "2.0\n",
      "26.0\n"
     ]
    }
   ],
   "source": [
    "vmin_mamTot_scenEraThree = np.floor(minVal_mamTot_diff_masked_scenEraThree)\n",
    "vmax_mamTot_scenEraThree = np.ceil(maxVal_mamTot_diff_masked_scenEraThree)\n",
    "print(vmin_mamTot_scenEraThree)\n",
    "print(vmax_mamTot_scenEraThree)"
   ]
  },
  {
   "cell_type": "code",
   "execution_count": 58,
   "metadata": {},
   "outputs": [
    {
     "name": "stdout",
     "output_type": "stream",
     "text": [
      "13\n"
     ]
    }
   ],
   "source": [
    "nDiv_mamTot_scenEraOne = int(vmax_mamTot_scenEraOne - vmin_mamTot_scenEraOne + 1)\n",
    "print(nDiv_mamTot_scenEraOne)"
   ]
  },
  {
   "cell_type": "code",
   "execution_count": 59,
   "metadata": {},
   "outputs": [
    {
     "name": "stdout",
     "output_type": "stream",
     "text": [
      "18\n"
     ]
    }
   ],
   "source": [
    "nDiv_mamTot_scenEraTwo = int(vmax_mamTot_scenEraTwo - vmin_mamTot_scenEraTwo + 1)\n",
    "print(nDiv_mamTot_scenEraTwo)"
   ]
  },
  {
   "cell_type": "code",
   "execution_count": 60,
   "metadata": {},
   "outputs": [
    {
     "name": "stdout",
     "output_type": "stream",
     "text": [
      "25\n"
     ]
    }
   ],
   "source": [
    "\n",
    "nDiv_mamTot_scenEraThree = int(vmax_mamTot_scenEraThree - vmin_mamTot_scenEraThree + 1)\n",
    "print(nDiv_mamTot_scenEraThree)\n"
   ]
  },
  {
   "cell_type": "code",
   "execution_count": null,
   "metadata": {},
   "outputs": [],
   "source": []
  },
  {
   "cell_type": "code",
   "execution_count": null,
   "metadata": {},
   "outputs": [],
   "source": []
  },
  {
   "cell_type": "markdown",
   "metadata": {},
   "source": [
    "## JJA"
   ]
  },
  {
   "cell_type": "markdown",
   "metadata": {},
   "source": [
    "## ref Period"
   ]
  },
  {
   "cell_type": "code",
   "execution_count": 61,
   "metadata": {},
   "outputs": [],
   "source": [
    "jjaMonSt = 6\n",
    "jjaMonMid = 7\n",
    "jjaMonEnd = 8"
   ]
  },
  {
   "cell_type": "code",
   "execution_count": 62,
   "metadata": {},
   "outputs": [
    {
     "name": "stdout",
     "output_type": "stream",
     "text": [
      "(30, 32, 56)\n",
      "(30, 32, 56)\n",
      "(30, 32, 56)\n"
     ]
    }
   ],
   "source": [
    "\n",
    "param_jjaSt_refPeriod_Us_ensmean = param_refPeriod_Us_ensmean[jjaMonSt-1::nMonsPerYr]\n",
    "print(param_jjaSt_refPeriod_Us_ensmean.shape)\n",
    "\n",
    "param_jjaMid_refPeriod_Us_ensmean = param_refPeriod_Us_ensmean[jjaMonMid-1::nMonsPerYr]\n",
    "print(param_jjaMid_refPeriod_Us_ensmean.shape)\n",
    "\n",
    "param_jjaEnd_refPeriod_Us_ensmean = param_refPeriod_Us_ensmean[jjaMonEnd-1::nMonsPerYr]\n",
    "print(param_jjaEnd_refPeriod_Us_ensmean.shape)\n"
   ]
  },
  {
   "cell_type": "code",
   "execution_count": 63,
   "metadata": {},
   "outputs": [
    {
     "name": "stdout",
     "output_type": "stream",
     "text": [
      "(32, 56)\n",
      "(32, 56)\n",
      "(32, 56)\n"
     ]
    }
   ],
   "source": [
    "param_jjaSt_refPeriod_Us_ensmean_timeAvg = np.nanmean(param_jjaSt_refPeriod_Us_ensmean, axis = 0)\n",
    "print(param_jjaSt_refPeriod_Us_ensmean_timeAvg.shape)\n",
    "\n",
    "param_jjaMid_refPeriod_Us_ensmean_timeAvg = np.nanmean(param_jjaMid_refPeriod_Us_ensmean, axis = 0)\n",
    "print(param_jjaMid_refPeriod_Us_ensmean_timeAvg.shape)\n",
    "\n",
    "param_jjaEnd_refPeriod_Us_ensmean_timeAvg = np.nanmean(param_jjaEnd_refPeriod_Us_ensmean, axis = 0)\n",
    "print(param_jjaEnd_refPeriod_Us_ensmean_timeAvg.shape)\n"
   ]
  },
  {
   "cell_type": "code",
   "execution_count": 64,
   "metadata": {},
   "outputs": [
    {
     "name": "stdout",
     "output_type": "stream",
     "text": [
      "(32, 56)\n"
     ]
    }
   ],
   "source": [
    "param_jjaTot_refPeriod_Us_ensmean_timeAvg = (param_jjaSt_refPeriod_Us_ensmean_timeAvg+param_jjaMid_refPeriod_Us_ensmean_timeAvg+param_jjaEnd_refPeriod_Us_ensmean_timeAvg)/3\n",
    "print(param_jjaTot_refPeriod_Us_ensmean_timeAvg.shape)"
   ]
  },
  {
   "cell_type": "markdown",
   "metadata": {},
   "source": [
    "## Scen Era 1"
   ]
  },
  {
   "cell_type": "code",
   "execution_count": 65,
   "metadata": {},
   "outputs": [
    {
     "name": "stdout",
     "output_type": "stream",
     "text": [
      "(30, 32, 56)\n",
      "(30, 32, 56)\n",
      "(30, 32, 56)\n"
     ]
    }
   ],
   "source": [
    "\n",
    "param_jjaSt_scenEraOne_Us_ensmean = param_scenEraOne_Us_ensmean[jjaMonSt-1::nMonsPerYr]\n",
    "print(param_jjaSt_scenEraOne_Us_ensmean.shape)\n",
    "\n",
    "param_jjaMid_scenEraOne_Us_ensmean = param_scenEraOne_Us_ensmean[jjaMonMid-1::nMonsPerYr]\n",
    "print(param_jjaMid_scenEraOne_Us_ensmean.shape)\n",
    "\n",
    "param_jjaEnd_scenEraOne_Us_ensmean = param_scenEraOne_Us_ensmean[jjaMonEnd-1::nMonsPerYr]\n",
    "print(param_jjaEnd_scenEraOne_Us_ensmean.shape)\n"
   ]
  },
  {
   "cell_type": "code",
   "execution_count": 66,
   "metadata": {},
   "outputs": [
    {
     "name": "stdout",
     "output_type": "stream",
     "text": [
      "(32, 56)\n",
      "(32, 56)\n",
      "(32, 56)\n"
     ]
    }
   ],
   "source": [
    "param_jjaSt_scenEraOne_Us_ensmean_timeAvg = np.nanmean(param_jjaSt_scenEraOne_Us_ensmean, axis = 0)\n",
    "print(param_jjaSt_scenEraOne_Us_ensmean_timeAvg.shape)\n",
    "\n",
    "param_jjaMid_scenEraOne_Us_ensmean_timeAvg = np.nanmean(param_jjaMid_scenEraOne_Us_ensmean, axis = 0)\n",
    "print(param_jjaMid_scenEraOne_Us_ensmean_timeAvg.shape)\n",
    "\n",
    "param_jjaEnd_scenEraOne_Us_ensmean_timeAvg = np.nanmean(param_jjaEnd_scenEraOne_Us_ensmean, axis = 0)\n",
    "print(param_jjaEnd_scenEraOne_Us_ensmean_timeAvg.shape)\n"
   ]
  },
  {
   "cell_type": "code",
   "execution_count": 67,
   "metadata": {},
   "outputs": [
    {
     "name": "stdout",
     "output_type": "stream",
     "text": [
      "(32, 56)\n"
     ]
    }
   ],
   "source": [
    "param_jjaTot_scenEraOne_Us_ensmean_timeAvg = (param_jjaSt_scenEraOne_Us_ensmean_timeAvg+param_jjaMid_scenEraOne_Us_ensmean_timeAvg+param_jjaEnd_scenEraOne_Us_ensmean_timeAvg)/3\n",
    "print(param_jjaTot_scenEraOne_Us_ensmean_timeAvg.shape)\n"
   ]
  },
  {
   "cell_type": "markdown",
   "metadata": {},
   "source": [
    "## Scen Era 2"
   ]
  },
  {
   "cell_type": "code",
   "execution_count": 68,
   "metadata": {},
   "outputs": [
    {
     "name": "stdout",
     "output_type": "stream",
     "text": [
      "(30, 32, 56)\n",
      "(30, 32, 56)\n",
      "(30, 32, 56)\n"
     ]
    }
   ],
   "source": [
    "\n",
    "param_jjaSt_scenEraTwo_Us_ensmean = param_scenEraTwo_Us_ensmean[jjaMonSt-1::nMonsPerYr]\n",
    "print(param_jjaSt_scenEraTwo_Us_ensmean.shape)\n",
    "\n",
    "param_jjaMid_scenEraTwo_Us_ensmean = param_scenEraTwo_Us_ensmean[jjaMonMid-1::nMonsPerYr]\n",
    "print(param_jjaMid_scenEraTwo_Us_ensmean.shape)\n",
    "\n",
    "param_jjaEnd_scenEraTwo_Us_ensmean = param_scenEraTwo_Us_ensmean[jjaMonEnd-1::nMonsPerYr]\n",
    "print(param_jjaEnd_scenEraTwo_Us_ensmean.shape)\n"
   ]
  },
  {
   "cell_type": "code",
   "execution_count": 69,
   "metadata": {},
   "outputs": [
    {
     "name": "stdout",
     "output_type": "stream",
     "text": [
      "(32, 56)\n",
      "(32, 56)\n",
      "(32, 56)\n"
     ]
    }
   ],
   "source": [
    "param_jjaSt_scenEraTwo_Us_ensmean_timeAvg = np.nanmean(param_jjaSt_scenEraTwo_Us_ensmean, axis = 0)\n",
    "print(param_jjaSt_scenEraTwo_Us_ensmean_timeAvg.shape)\n",
    "\n",
    "param_jjaMid_scenEraTwo_Us_ensmean_timeAvg = np.nanmean(param_jjaMid_scenEraTwo_Us_ensmean, axis = 0)\n",
    "print(param_jjaMid_scenEraTwo_Us_ensmean_timeAvg.shape)\n",
    "\n",
    "param_jjaEnd_scenEraTwo_Us_ensmean_timeAvg = np.nanmean(param_jjaEnd_scenEraTwo_Us_ensmean, axis = 0)\n",
    "print(param_jjaEnd_scenEraTwo_Us_ensmean_timeAvg.shape)\n"
   ]
  },
  {
   "cell_type": "code",
   "execution_count": 70,
   "metadata": {},
   "outputs": [
    {
     "name": "stdout",
     "output_type": "stream",
     "text": [
      "(32, 56)\n"
     ]
    }
   ],
   "source": [
    "param_jjaTot_scenEraTwo_Us_ensmean_timeAvg = (param_jjaSt_scenEraTwo_Us_ensmean_timeAvg+param_jjaMid_scenEraTwo_Us_ensmean_timeAvg+param_jjaEnd_scenEraTwo_Us_ensmean_timeAvg)/3\n",
    "print(param_jjaTot_scenEraTwo_Us_ensmean_timeAvg.shape)\n"
   ]
  },
  {
   "cell_type": "markdown",
   "metadata": {},
   "source": [
    "## Scen Era 3"
   ]
  },
  {
   "cell_type": "code",
   "execution_count": 71,
   "metadata": {},
   "outputs": [
    {
     "name": "stdout",
     "output_type": "stream",
     "text": [
      "(26, 32, 56)\n",
      "(26, 32, 56)\n",
      "(26, 32, 56)\n"
     ]
    }
   ],
   "source": [
    "\n",
    "param_jjaSt_scenEraThree_Us_ensmean = param_scenEraThree_Us_ensmean[jjaMonSt-1::nMonsPerYr]\n",
    "print(param_jjaSt_scenEraThree_Us_ensmean.shape)\n",
    "\n",
    "param_jjaMid_scenEraThree_Us_ensmean = param_scenEraThree_Us_ensmean[jjaMonMid-1::nMonsPerYr]\n",
    "print(param_jjaMid_scenEraThree_Us_ensmean.shape)\n",
    "\n",
    "param_jjaEnd_scenEraThree_Us_ensmean = param_scenEraThree_Us_ensmean[jjaMonEnd-1::nMonsPerYr]\n",
    "print(param_jjaEnd_scenEraThree_Us_ensmean.shape)\n"
   ]
  },
  {
   "cell_type": "code",
   "execution_count": 72,
   "metadata": {},
   "outputs": [
    {
     "name": "stdout",
     "output_type": "stream",
     "text": [
      "(32, 56)\n",
      "(32, 56)\n",
      "(32, 56)\n"
     ]
    }
   ],
   "source": [
    "param_jjaSt_scenEraThree_Us_ensmean_timeAvg = np.nanmean(param_jjaSt_scenEraThree_Us_ensmean, axis = 0)\n",
    "print(param_jjaSt_scenEraThree_Us_ensmean_timeAvg.shape)\n",
    "\n",
    "param_jjaMid_scenEraThree_Us_ensmean_timeAvg = np.nanmean(param_jjaMid_scenEraThree_Us_ensmean, axis = 0)\n",
    "print(param_jjaMid_scenEraThree_Us_ensmean_timeAvg.shape)\n",
    "\n",
    "param_jjaEnd_scenEraThree_Us_ensmean_timeAvg = np.nanmean(param_jjaEnd_scenEraThree_Us_ensmean, axis = 0)\n",
    "print(param_jjaEnd_scenEraThree_Us_ensmean_timeAvg.shape)\n"
   ]
  },
  {
   "cell_type": "code",
   "execution_count": 73,
   "metadata": {},
   "outputs": [
    {
     "name": "stdout",
     "output_type": "stream",
     "text": [
      "(32, 56)\n"
     ]
    }
   ],
   "source": [
    "param_jjaTot_scenEraThree_Us_ensmean_timeAvg = (param_jjaSt_scenEraThree_Us_ensmean_timeAvg+param_jjaMid_scenEraThree_Us_ensmean_timeAvg+param_jjaEnd_scenEraThree_Us_ensmean_timeAvg)/3\n",
    "print(param_jjaTot_scenEraThree_Us_ensmean_timeAvg.shape)\n"
   ]
  },
  {
   "cell_type": "markdown",
   "metadata": {},
   "source": [
    "## Differences at the three Eras"
   ]
  },
  {
   "cell_type": "code",
   "execution_count": 74,
   "metadata": {},
   "outputs": [
    {
     "name": "stdout",
     "output_type": "stream",
     "text": [
      "(32, 56)\n"
     ]
    }
   ],
   "source": [
    "param_jjaTot_scenEraOne_pDiff_Us_ensmean_timeAvg = (param_jjaTot_scenEraOne_Us_ensmean_timeAvg - param_jjaTot_refPeriod_Us_ensmean_timeAvg)\n",
    "print(param_jjaTot_scenEraOne_pDiff_Us_ensmean_timeAvg.shape)"
   ]
  },
  {
   "cell_type": "code",
   "execution_count": 75,
   "metadata": {},
   "outputs": [
    {
     "name": "stdout",
     "output_type": "stream",
     "text": [
      "(32, 56)\n"
     ]
    }
   ],
   "source": [
    "param_jjaTot_scenEraTwo_pDiff_Us_ensmean_timeAvg = (param_jjaTot_scenEraTwo_Us_ensmean_timeAvg - param_jjaTot_refPeriod_Us_ensmean_timeAvg)\n",
    "print(param_jjaTot_scenEraTwo_pDiff_Us_ensmean_timeAvg.shape)"
   ]
  },
  {
   "cell_type": "code",
   "execution_count": 76,
   "metadata": {},
   "outputs": [
    {
     "name": "stdout",
     "output_type": "stream",
     "text": [
      "(32, 56)\n"
     ]
    }
   ],
   "source": [
    "param_jjaTot_scenEraThree_pDiff_Us_ensmean_timeAvg = (param_jjaTot_scenEraThree_Us_ensmean_timeAvg - param_jjaTot_refPeriod_Us_ensmean_timeAvg)\n",
    "print(param_jjaTot_scenEraThree_pDiff_Us_ensmean_timeAvg.shape)"
   ]
  },
  {
   "cell_type": "code",
   "execution_count": null,
   "metadata": {},
   "outputs": [],
   "source": []
  },
  {
   "cell_type": "markdown",
   "metadata": {},
   "source": [
    "## Basin Mask (JJA)"
   ]
  },
  {
   "cell_type": "markdown",
   "metadata": {},
   "source": [
    "## Writing in an Xarray Data array"
   ]
  },
  {
   "cell_type": "code",
   "execution_count": 77,
   "metadata": {},
   "outputs": [
    {
     "name": "stdout",
     "output_type": "stream",
     "text": [
      "(32, 56)\n",
      "<xarray.DataArray (Lat: 32, Lon: 56)>\n",
      "array([[  0.        ,   0.        ,   0.        , ...,   0.        ,\n",
      "          0.        ,   0.        ],\n",
      "       [  0.        ,   0.        ,   0.        , ...,   0.        ,\n",
      "          0.        ,   0.        ],\n",
      "       [  0.        ,   0.        ,   0.        , ...,   0.        ,\n",
      "          0.        ,   0.        ],\n",
      "       ...,\n",
      "       [  0.        ,  -2.15050928,   1.24691572, ...,  -6.8402714 ,\n",
      "          5.32231362,   2.51275045],\n",
      "       [ -2.94931459,  -0.19205983,   4.27622179, ...,   9.88500216,\n",
      "          0.1167084 ,  -9.36678219],\n",
      "       [ -0.60518168,   3.41753212,   2.59886321, ...,  11.84286319,\n",
      "         11.52715548, -10.37976638]])\n",
      "Coordinates:\n",
      "  * Lat      (Lat) float32 24.97 25.92 26.86 27.8 ... 51.36 52.3 53.25 54.19\n",
      "  * Lon      (Lon) float32 230.0 231.2 232.5 233.8 ... 295.0 296.2 297.5 298.8\n"
     ]
    }
   ],
   "source": [
    "param_jjaTot_scenEraOne_diff_Us_xarray = xr.DataArray(param_jjaTot_scenEraOne_pDiff_Us_ensmean_timeAvg, coords=[lats_US, lons_US], dims=[\"Lat\",\"Lon\"])                                                      \n",
    "print(param_jjaTot_scenEraOne_diff_Us_xarray.shape)\n",
    "print(param_jjaTot_scenEraOne_diff_Us_xarray)"
   ]
  },
  {
   "cell_type": "code",
   "execution_count": 78,
   "metadata": {},
   "outputs": [
    {
     "name": "stdout",
     "output_type": "stream",
     "text": [
      "(32, 56)\n",
      "<xarray.DataArray (Lat: 32, Lon: 56)>\n",
      "array([[ 0.        ,  0.        ,  0.        , ...,  0.        ,\n",
      "         0.        ,  0.        ],\n",
      "       [ 0.        ,  0.        ,  0.        , ...,  0.        ,\n",
      "         0.        ,  0.        ],\n",
      "       [ 0.        ,  0.        ,  0.        , ...,  0.        ,\n",
      "         0.        ,  0.        ],\n",
      "       ...,\n",
      "       [ 0.        , -3.7396418 ,  1.87320132, ..., -5.65153005,\n",
      "        13.37696679,  6.52460876],\n",
      "       [-4.80830176, -0.29910058,  7.05245227, ..., -1.30953076,\n",
      "        -4.45808434, -2.48802345],\n",
      "       [-0.57299644,  6.44539583,  4.28963943, ...,  9.91475378,\n",
      "         4.07632977, -3.67064349]])\n",
      "Coordinates:\n",
      "  * Lat      (Lat) float32 24.97 25.92 26.86 27.8 ... 51.36 52.3 53.25 54.19\n",
      "  * Lon      (Lon) float32 230.0 231.2 232.5 233.8 ... 295.0 296.2 297.5 298.8\n"
     ]
    }
   ],
   "source": [
    "param_jjaTot_scenEraTwo_diff_Us_xarray = xr.DataArray(param_jjaTot_scenEraTwo_pDiff_Us_ensmean_timeAvg, coords=[lats_US, lons_US], dims=[\"Lat\",\"Lon\"])                                                      \n",
    "print(param_jjaTot_scenEraTwo_diff_Us_xarray.shape)\n",
    "print(param_jjaTot_scenEraTwo_diff_Us_xarray)"
   ]
  },
  {
   "cell_type": "code",
   "execution_count": 79,
   "metadata": {},
   "outputs": [
    {
     "name": "stdout",
     "output_type": "stream",
     "text": [
      "(32, 56)\n",
      "<xarray.DataArray (Lat: 32, Lon: 56)>\n",
      "array([[ 0.        ,  0.        ,  0.        , ...,  0.        ,\n",
      "         0.        ,  0.        ],\n",
      "       [ 0.        ,  0.        ,  0.        , ...,  0.        ,\n",
      "         0.        ,  0.        ],\n",
      "       [ 0.        ,  0.        ,  0.        , ...,  0.        ,\n",
      "         0.        ,  0.        ],\n",
      "       ...,\n",
      "       [ 0.        , -5.16806369,  2.15628271, ...,  2.53099931,\n",
      "        24.11144392, 13.78406521],\n",
      "       [-6.38852434, -0.1834158 ,  8.78801264, ...,  4.34832233,\n",
      "         4.98373132,  6.36939959],\n",
      "       [-0.4005732 ,  8.83993918,  5.82184975, ..., 17.04405807,\n",
      "         6.0736589 ,  4.85699943]])\n",
      "Coordinates:\n",
      "  * Lat      (Lat) float32 24.97 25.92 26.86 27.8 ... 51.36 52.3 53.25 54.19\n",
      "  * Lon      (Lon) float32 230.0 231.2 232.5 233.8 ... 295.0 296.2 297.5 298.8\n"
     ]
    }
   ],
   "source": [
    "param_jjaTot_scenEraThree_diff_Us_xarray = xr.DataArray(param_jjaTot_scenEraThree_pDiff_Us_ensmean_timeAvg, coords=[lats_US, lons_US], dims=[\"Lat\",\"Lon\"])                                                      \n",
    "print(param_jjaTot_scenEraThree_diff_Us_xarray.shape)\n",
    "print(param_jjaTot_scenEraThree_diff_Us_xarray)"
   ]
  },
  {
   "cell_type": "code",
   "execution_count": null,
   "metadata": {},
   "outputs": [],
   "source": []
  },
  {
   "cell_type": "markdown",
   "metadata": {},
   "source": [
    "## Masking files for the Basin Domain only"
   ]
  },
  {
   "cell_type": "markdown",
   "metadata": {},
   "source": [
    "### Mississippi"
   ]
  },
  {
   "cell_type": "code",
   "execution_count": 80,
   "metadata": {},
   "outputs": [
    {
     "name": "stdout",
     "output_type": "stream",
     "text": [
      "(32, 56)\n",
      "<xarray.DataArray (Lat: 32, Lon: 56)>\n",
      "array([[nan, nan, nan, ..., nan, nan, nan],\n",
      "       [nan, nan, nan, ..., nan, nan, nan],\n",
      "       [nan, nan, nan, ..., nan, nan, nan],\n",
      "       ...,\n",
      "       [nan, nan, nan, ..., nan, nan, nan],\n",
      "       [nan, nan, nan, ..., nan, nan, nan],\n",
      "       [nan, nan, nan, ..., nan, nan, nan]])\n",
      "Coordinates:\n",
      "  * Lat      (Lat) float32 24.97 25.92 26.86 27.8 ... 51.36 52.3 53.25 54.19\n",
      "  * Lon      (Lon) float32 230.0 231.2 232.5 233.8 ... 295.0 296.2 297.5 298.8\n"
     ]
    }
   ],
   "source": [
    "param_jjaTot_scenEraOne_diff_masked_Missi = param_jjaTot_scenEraOne_diff_Us_xarray.where(MaskFile_Missi>0)\n",
    "print(param_jjaTot_scenEraOne_diff_masked_Missi.shape)\n",
    "print(param_jjaTot_scenEraOne_diff_masked_Missi)"
   ]
  },
  {
   "cell_type": "code",
   "execution_count": 81,
   "metadata": {},
   "outputs": [
    {
     "name": "stdout",
     "output_type": "stream",
     "text": [
      "(32, 56)\n",
      "<xarray.DataArray (Lat: 32, Lon: 56)>\n",
      "array([[nan, nan, nan, ..., nan, nan, nan],\n",
      "       [nan, nan, nan, ..., nan, nan, nan],\n",
      "       [nan, nan, nan, ..., nan, nan, nan],\n",
      "       ...,\n",
      "       [nan, nan, nan, ..., nan, nan, nan],\n",
      "       [nan, nan, nan, ..., nan, nan, nan],\n",
      "       [nan, nan, nan, ..., nan, nan, nan]])\n",
      "Coordinates:\n",
      "  * Lat      (Lat) float32 24.97 25.92 26.86 27.8 ... 51.36 52.3 53.25 54.19\n",
      "  * Lon      (Lon) float32 230.0 231.2 232.5 233.8 ... 295.0 296.2 297.5 298.8\n"
     ]
    }
   ],
   "source": [
    "param_jjaTot_scenEraTwo_diff_masked_Missi = param_jjaTot_scenEraTwo_diff_Us_xarray.where(MaskFile_Missi>0)\n",
    "print(param_jjaTot_scenEraTwo_diff_masked_Missi.shape)\n",
    "print(param_jjaTot_scenEraTwo_diff_masked_Missi)"
   ]
  },
  {
   "cell_type": "code",
   "execution_count": 82,
   "metadata": {},
   "outputs": [
    {
     "name": "stdout",
     "output_type": "stream",
     "text": [
      "(32, 56)\n",
      "<xarray.DataArray (Lat: 32, Lon: 56)>\n",
      "array([[nan, nan, nan, ..., nan, nan, nan],\n",
      "       [nan, nan, nan, ..., nan, nan, nan],\n",
      "       [nan, nan, nan, ..., nan, nan, nan],\n",
      "       ...,\n",
      "       [nan, nan, nan, ..., nan, nan, nan],\n",
      "       [nan, nan, nan, ..., nan, nan, nan],\n",
      "       [nan, nan, nan, ..., nan, nan, nan]])\n",
      "Coordinates:\n",
      "  * Lat      (Lat) float32 24.97 25.92 26.86 27.8 ... 51.36 52.3 53.25 54.19\n",
      "  * Lon      (Lon) float32 230.0 231.2 232.5 233.8 ... 295.0 296.2 297.5 298.8\n"
     ]
    }
   ],
   "source": [
    "param_jjaTot_scenEraThree_diff_masked_Missi = param_jjaTot_scenEraThree_diff_Us_xarray.where(MaskFile_Missi>0)\n",
    "print(param_jjaTot_scenEraThree_diff_masked_Missi.shape)\n",
    "print(param_jjaTot_scenEraThree_diff_masked_Missi)"
   ]
  },
  {
   "cell_type": "code",
   "execution_count": null,
   "metadata": {},
   "outputs": [],
   "source": []
  },
  {
   "cell_type": "code",
   "execution_count": null,
   "metadata": {},
   "outputs": [],
   "source": []
  },
  {
   "cell_type": "markdown",
   "metadata": {},
   "source": [
    "## Find max and min values"
   ]
  },
  {
   "cell_type": "code",
   "execution_count": 83,
   "metadata": {},
   "outputs": [
    {
     "name": "stdout",
     "output_type": "stream",
     "text": [
      "14.556994529266376\n",
      "-13.53468438447453\n"
     ]
    }
   ],
   "source": [
    "maxVal_jjaTot_diff_masked_scenEraOne = np.nanmax(param_jjaTot_scenEraOne_diff_masked_Missi)\n",
    "print(maxVal_jjaTot_diff_masked_scenEraOne)\n",
    "minVal_jjaTot_diff_masked_scenEraOne = np.nanmin(param_jjaTot_scenEraOne_diff_masked_Missi)\n",
    "print(minVal_jjaTot_diff_masked_scenEraOne)"
   ]
  },
  {
   "cell_type": "code",
   "execution_count": 84,
   "metadata": {},
   "outputs": [
    {
     "name": "stdout",
     "output_type": "stream",
     "text": [
      "21.973009953217115\n",
      "-22.868129280017456\n"
     ]
    }
   ],
   "source": [
    "maxVal_jjaTot_diff_masked_scenEraTwo = np.nanmax(param_jjaTot_scenEraTwo_diff_masked_Missi)\n",
    "print(maxVal_jjaTot_diff_masked_scenEraTwo)\n",
    "minVal_jjaTot_diff_masked_scenEraTwo = np.nanmin(param_jjaTot_scenEraTwo_diff_masked_Missi)\n",
    "print(minVal_jjaTot_diff_masked_scenEraTwo)"
   ]
  },
  {
   "cell_type": "code",
   "execution_count": 85,
   "metadata": {},
   "outputs": [
    {
     "name": "stdout",
     "output_type": "stream",
     "text": [
      "25.953917309993315\n",
      "-33.31088071332823\n"
     ]
    }
   ],
   "source": [
    "maxVal_jjaTot_diff_masked_scenEraThree = np.nanmax(param_jjaTot_scenEraThree_diff_masked_Missi)\n",
    "print(maxVal_jjaTot_diff_masked_scenEraThree)\n",
    "minVal_jjaTot_diff_masked_scenEraThree = np.nanmin(param_jjaTot_scenEraThree_diff_masked_Missi)\n",
    "print(minVal_jjaTot_diff_masked_scenEraThree)"
   ]
  },
  {
   "cell_type": "code",
   "execution_count": null,
   "metadata": {},
   "outputs": [],
   "source": []
  },
  {
   "cell_type": "code",
   "execution_count": 86,
   "metadata": {},
   "outputs": [
    {
     "name": "stdout",
     "output_type": "stream",
     "text": [
      "-34.0\n",
      "26.0\n"
     ]
    }
   ],
   "source": [
    "vmin_jjaTot_scenEraThree = np.floor(minVal_jjaTot_diff_masked_scenEraThree)\n",
    "vmax_jjaTot_scenEraThree = np.ceil(maxVal_jjaTot_diff_masked_scenEraThree)\n",
    "print(vmin_jjaTot_scenEraThree)\n",
    "print(vmax_jjaTot_scenEraThree)"
   ]
  },
  {
   "cell_type": "code",
   "execution_count": 87,
   "metadata": {},
   "outputs": [
    {
     "name": "stdout",
     "output_type": "stream",
     "text": [
      "61\n"
     ]
    }
   ],
   "source": [
    "nDiv_jjaTot_scenEraThree = int(vmax_jjaTot_scenEraThree - vmin_jjaTot_scenEraThree + 1)\n",
    "print(nDiv_jjaTot_scenEraThree)"
   ]
  },
  {
   "cell_type": "code",
   "execution_count": null,
   "metadata": {},
   "outputs": [],
   "source": []
  },
  {
   "cell_type": "code",
   "execution_count": null,
   "metadata": {},
   "outputs": [],
   "source": []
  },
  {
   "cell_type": "markdown",
   "metadata": {},
   "source": [
    "## SON"
   ]
  },
  {
   "cell_type": "markdown",
   "metadata": {},
   "source": [
    "## ref Period"
   ]
  },
  {
   "cell_type": "code",
   "execution_count": 88,
   "metadata": {},
   "outputs": [],
   "source": [
    "sonMonSt = 9\n",
    "sonMonMid = 10\n",
    "sonMonEnd = 11"
   ]
  },
  {
   "cell_type": "code",
   "execution_count": 89,
   "metadata": {},
   "outputs": [
    {
     "name": "stdout",
     "output_type": "stream",
     "text": [
      "(30, 32, 56)\n",
      "(30, 32, 56)\n",
      "(30, 32, 56)\n"
     ]
    }
   ],
   "source": [
    "\n",
    "param_sonSt_refPeriod_Us_ensmean = param_refPeriod_Us_ensmean[sonMonSt-1::nMonsPerYr]\n",
    "print(param_sonSt_refPeriod_Us_ensmean.shape)\n",
    "\n",
    "param_sonMid_refPeriod_Us_ensmean = param_refPeriod_Us_ensmean[sonMonMid-1::nMonsPerYr]\n",
    "print(param_sonMid_refPeriod_Us_ensmean.shape)\n",
    "\n",
    "param_sonEnd_refPeriod_Us_ensmean = param_refPeriod_Us_ensmean[sonMonEnd-1::nMonsPerYr]\n",
    "print(param_sonEnd_refPeriod_Us_ensmean.shape)\n"
   ]
  },
  {
   "cell_type": "code",
   "execution_count": 90,
   "metadata": {},
   "outputs": [
    {
     "name": "stdout",
     "output_type": "stream",
     "text": [
      "(32, 56)\n",
      "(32, 56)\n",
      "(32, 56)\n"
     ]
    }
   ],
   "source": [
    "param_sonSt_refPeriod_Us_ensmean_timeAvg = np.nanmean(param_sonSt_refPeriod_Us_ensmean, axis = 0)\n",
    "print(param_sonSt_refPeriod_Us_ensmean_timeAvg.shape)\n",
    "\n",
    "param_sonMid_refPeriod_Us_ensmean_timeAvg = np.nanmean(param_sonMid_refPeriod_Us_ensmean, axis = 0)\n",
    "print(param_sonMid_refPeriod_Us_ensmean_timeAvg.shape)\n",
    "\n",
    "param_sonEnd_refPeriod_Us_ensmean_timeAvg = np.nanmean(param_sonEnd_refPeriod_Us_ensmean, axis = 0)\n",
    "print(param_sonEnd_refPeriod_Us_ensmean_timeAvg.shape)\n"
   ]
  },
  {
   "cell_type": "code",
   "execution_count": 91,
   "metadata": {},
   "outputs": [
    {
     "name": "stdout",
     "output_type": "stream",
     "text": [
      "(32, 56)\n"
     ]
    }
   ],
   "source": [
    "param_sonTot_refPeriod_Us_ensmean_timeAvg = (param_sonSt_refPeriod_Us_ensmean_timeAvg+param_sonMid_refPeriod_Us_ensmean_timeAvg+param_sonEnd_refPeriod_Us_ensmean_timeAvg)/3\n",
    "print(param_sonTot_refPeriod_Us_ensmean_timeAvg.shape)"
   ]
  },
  {
   "cell_type": "markdown",
   "metadata": {},
   "source": [
    "## Scen Era 1"
   ]
  },
  {
   "cell_type": "code",
   "execution_count": 92,
   "metadata": {},
   "outputs": [
    {
     "name": "stdout",
     "output_type": "stream",
     "text": [
      "(30, 32, 56)\n",
      "(30, 32, 56)\n",
      "(30, 32, 56)\n"
     ]
    }
   ],
   "source": [
    "\n",
    "param_sonSt_scenEraOne_Us_ensmean = param_scenEraOne_Us_ensmean[sonMonSt-1::nMonsPerYr]\n",
    "print(param_sonSt_scenEraOne_Us_ensmean.shape)\n",
    "\n",
    "param_sonMid_scenEraOne_Us_ensmean = param_scenEraOne_Us_ensmean[sonMonMid-1::nMonsPerYr]\n",
    "print(param_sonMid_scenEraOne_Us_ensmean.shape)\n",
    "\n",
    "param_sonEnd_scenEraOne_Us_ensmean = param_scenEraOne_Us_ensmean[sonMonEnd-1::nMonsPerYr]\n",
    "print(param_sonEnd_scenEraOne_Us_ensmean.shape)\n"
   ]
  },
  {
   "cell_type": "code",
   "execution_count": 93,
   "metadata": {},
   "outputs": [
    {
     "name": "stdout",
     "output_type": "stream",
     "text": [
      "(32, 56)\n",
      "(32, 56)\n",
      "(32, 56)\n"
     ]
    }
   ],
   "source": [
    "param_sonSt_scenEraOne_Us_ensmean_timeAvg = np.nanmean(param_sonSt_scenEraOne_Us_ensmean, axis = 0)\n",
    "print(param_sonSt_scenEraOne_Us_ensmean_timeAvg.shape)\n",
    "\n",
    "param_sonMid_scenEraOne_Us_ensmean_timeAvg = np.nanmean(param_sonMid_scenEraOne_Us_ensmean, axis = 0)\n",
    "print(param_sonMid_scenEraOne_Us_ensmean_timeAvg.shape)\n",
    "\n",
    "param_sonEnd_scenEraOne_Us_ensmean_timeAvg = np.nanmean(param_sonEnd_scenEraOne_Us_ensmean, axis = 0)\n",
    "print(param_sonEnd_scenEraOne_Us_ensmean_timeAvg.shape)\n"
   ]
  },
  {
   "cell_type": "code",
   "execution_count": 94,
   "metadata": {},
   "outputs": [
    {
     "name": "stdout",
     "output_type": "stream",
     "text": [
      "(32, 56)\n"
     ]
    }
   ],
   "source": [
    "param_sonTot_scenEraOne_Us_ensmean_timeAvg = (param_sonSt_scenEraOne_Us_ensmean_timeAvg+param_sonMid_scenEraOne_Us_ensmean_timeAvg+param_sonEnd_scenEraOne_Us_ensmean_timeAvg)/3\n",
    "print(param_sonTot_scenEraOne_Us_ensmean_timeAvg.shape)\n"
   ]
  },
  {
   "cell_type": "markdown",
   "metadata": {},
   "source": [
    "## Scen Era 2"
   ]
  },
  {
   "cell_type": "code",
   "execution_count": 95,
   "metadata": {},
   "outputs": [
    {
     "name": "stdout",
     "output_type": "stream",
     "text": [
      "(30, 32, 56)\n",
      "(30, 32, 56)\n",
      "(30, 32, 56)\n"
     ]
    }
   ],
   "source": [
    "\n",
    "param_sonSt_scenEraTwo_Us_ensmean = param_scenEraTwo_Us_ensmean[sonMonSt-1::nMonsPerYr]\n",
    "print(param_sonSt_scenEraTwo_Us_ensmean.shape)\n",
    "\n",
    "param_sonMid_scenEraTwo_Us_ensmean = param_scenEraTwo_Us_ensmean[sonMonMid-1::nMonsPerYr]\n",
    "print(param_sonMid_scenEraTwo_Us_ensmean.shape)\n",
    "\n",
    "param_sonEnd_scenEraTwo_Us_ensmean = param_scenEraTwo_Us_ensmean[sonMonEnd-1::nMonsPerYr]\n",
    "print(param_sonEnd_scenEraTwo_Us_ensmean.shape)\n"
   ]
  },
  {
   "cell_type": "code",
   "execution_count": 96,
   "metadata": {},
   "outputs": [
    {
     "name": "stdout",
     "output_type": "stream",
     "text": [
      "(32, 56)\n",
      "(32, 56)\n",
      "(32, 56)\n"
     ]
    }
   ],
   "source": [
    "param_sonSt_scenEraTwo_Us_ensmean_timeAvg = np.nanmean(param_sonSt_scenEraTwo_Us_ensmean, axis = 0)\n",
    "print(param_sonSt_scenEraTwo_Us_ensmean_timeAvg.shape)\n",
    "\n",
    "param_sonMid_scenEraTwo_Us_ensmean_timeAvg = np.nanmean(param_sonMid_scenEraTwo_Us_ensmean, axis = 0)\n",
    "print(param_sonMid_scenEraTwo_Us_ensmean_timeAvg.shape)\n",
    "\n",
    "param_sonEnd_scenEraTwo_Us_ensmean_timeAvg = np.nanmean(param_sonEnd_scenEraTwo_Us_ensmean, axis = 0)\n",
    "print(param_sonEnd_scenEraTwo_Us_ensmean_timeAvg.shape)\n"
   ]
  },
  {
   "cell_type": "code",
   "execution_count": 97,
   "metadata": {},
   "outputs": [
    {
     "name": "stdout",
     "output_type": "stream",
     "text": [
      "(32, 56)\n"
     ]
    }
   ],
   "source": [
    "param_sonTot_scenEraTwo_Us_ensmean_timeAvg = (param_sonSt_scenEraTwo_Us_ensmean_timeAvg+param_sonMid_scenEraTwo_Us_ensmean_timeAvg+param_sonEnd_scenEraTwo_Us_ensmean_timeAvg)/3\n",
    "print(param_sonTot_scenEraTwo_Us_ensmean_timeAvg.shape)\n"
   ]
  },
  {
   "cell_type": "markdown",
   "metadata": {},
   "source": [
    "## Scen Era 3"
   ]
  },
  {
   "cell_type": "code",
   "execution_count": 98,
   "metadata": {},
   "outputs": [
    {
     "name": "stdout",
     "output_type": "stream",
     "text": [
      "(26, 32, 56)\n",
      "(26, 32, 56)\n",
      "(26, 32, 56)\n"
     ]
    }
   ],
   "source": [
    "\n",
    "param_sonSt_scenEraThree_Us_ensmean = param_scenEraThree_Us_ensmean[sonMonSt-1::nMonsPerYr]\n",
    "print(param_sonSt_scenEraThree_Us_ensmean.shape)\n",
    "\n",
    "param_sonMid_scenEraThree_Us_ensmean = param_scenEraThree_Us_ensmean[sonMonMid-1::nMonsPerYr]\n",
    "print(param_sonMid_scenEraThree_Us_ensmean.shape)\n",
    "\n",
    "param_sonEnd_scenEraThree_Us_ensmean = param_scenEraThree_Us_ensmean[sonMonEnd-1::nMonsPerYr]\n",
    "print(param_sonEnd_scenEraThree_Us_ensmean.shape)\n"
   ]
  },
  {
   "cell_type": "code",
   "execution_count": 99,
   "metadata": {},
   "outputs": [
    {
     "name": "stdout",
     "output_type": "stream",
     "text": [
      "(32, 56)\n",
      "(32, 56)\n",
      "(32, 56)\n"
     ]
    }
   ],
   "source": [
    "param_sonSt_scenEraThree_Us_ensmean_timeAvg = np.nanmean(param_sonSt_scenEraThree_Us_ensmean, axis = 0)\n",
    "print(param_sonSt_scenEraThree_Us_ensmean_timeAvg.shape)\n",
    "\n",
    "param_sonMid_scenEraThree_Us_ensmean_timeAvg = np.nanmean(param_sonMid_scenEraThree_Us_ensmean, axis = 0)\n",
    "print(param_sonMid_scenEraThree_Us_ensmean_timeAvg.shape)\n",
    "\n",
    "param_sonEnd_scenEraThree_Us_ensmean_timeAvg = np.nanmean(param_sonEnd_scenEraThree_Us_ensmean, axis = 0)\n",
    "print(param_sonEnd_scenEraThree_Us_ensmean_timeAvg.shape)\n"
   ]
  },
  {
   "cell_type": "code",
   "execution_count": 100,
   "metadata": {},
   "outputs": [
    {
     "name": "stdout",
     "output_type": "stream",
     "text": [
      "(32, 56)\n"
     ]
    }
   ],
   "source": [
    "param_sonTot_scenEraThree_Us_ensmean_timeAvg = (param_sonSt_scenEraThree_Us_ensmean_timeAvg+param_sonMid_scenEraThree_Us_ensmean_timeAvg+param_sonEnd_scenEraThree_Us_ensmean_timeAvg)/3\n",
    "print(param_sonTot_scenEraThree_Us_ensmean_timeAvg.shape)\n"
   ]
  },
  {
   "cell_type": "markdown",
   "metadata": {},
   "source": [
    "## Differences at the three Eras"
   ]
  },
  {
   "cell_type": "code",
   "execution_count": 101,
   "metadata": {},
   "outputs": [
    {
     "name": "stdout",
     "output_type": "stream",
     "text": [
      "(32, 56)\n"
     ]
    }
   ],
   "source": [
    "param_sonTot_scenEraOne_pDiff_Us_ensmean_timeAvg = (param_sonTot_scenEraOne_Us_ensmean_timeAvg - param_sonTot_refPeriod_Us_ensmean_timeAvg)\n",
    "print(param_sonTot_scenEraOne_pDiff_Us_ensmean_timeAvg.shape)"
   ]
  },
  {
   "cell_type": "code",
   "execution_count": 102,
   "metadata": {},
   "outputs": [
    {
     "name": "stdout",
     "output_type": "stream",
     "text": [
      "(32, 56)\n"
     ]
    }
   ],
   "source": [
    "param_sonTot_scenEraTwo_pDiff_Us_ensmean_timeAvg = (param_sonTot_scenEraTwo_Us_ensmean_timeAvg - param_sonTot_refPeriod_Us_ensmean_timeAvg)\n",
    "print(param_sonTot_scenEraTwo_pDiff_Us_ensmean_timeAvg.shape)"
   ]
  },
  {
   "cell_type": "code",
   "execution_count": 103,
   "metadata": {},
   "outputs": [
    {
     "name": "stdout",
     "output_type": "stream",
     "text": [
      "(32, 56)\n"
     ]
    }
   ],
   "source": [
    "param_sonTot_scenEraThree_pDiff_Us_ensmean_timeAvg = (param_sonTot_scenEraThree_Us_ensmean_timeAvg - param_sonTot_refPeriod_Us_ensmean_timeAvg)\n",
    "print(param_sonTot_scenEraThree_pDiff_Us_ensmean_timeAvg.shape)"
   ]
  },
  {
   "cell_type": "code",
   "execution_count": null,
   "metadata": {},
   "outputs": [],
   "source": []
  },
  {
   "cell_type": "markdown",
   "metadata": {},
   "source": [
    "## Basin Mask (SON)"
   ]
  },
  {
   "cell_type": "markdown",
   "metadata": {},
   "source": [
    "## Writing in an Xarray Data array"
   ]
  },
  {
   "cell_type": "code",
   "execution_count": 104,
   "metadata": {},
   "outputs": [
    {
     "name": "stdout",
     "output_type": "stream",
     "text": [
      "(32, 56)\n",
      "<xarray.DataArray (Lat: 32, Lon: 56)>\n",
      "array([[  0.        ,   0.        ,   0.        , ...,   0.        ,\n",
      "          0.        ,   0.        ],\n",
      "       [  0.        ,   0.        ,   0.        , ...,   0.        ,\n",
      "          0.        ,   0.        ],\n",
      "       [  0.        ,   0.        ,   0.        , ...,   0.        ,\n",
      "          0.        ,   0.        ],\n",
      "       ...,\n",
      "       [  0.        ,   1.81247909,   1.50360738, ...,  -7.99443586,\n",
      "          2.95685909,   3.43391958],\n",
      "       [  1.26651915,   1.53720309,   1.6504518 , ...,  -0.66868263,\n",
      "         -3.29948591,  -8.43878503],\n",
      "       [  1.33771467,   1.65887548,   1.56731024, ...,   4.49470177,\n",
      "         -0.07761996, -10.35145195]])\n",
      "Coordinates:\n",
      "  * Lat      (Lat) float32 24.97 25.92 26.86 27.8 ... 51.36 52.3 53.25 54.19\n",
      "  * Lon      (Lon) float32 230.0 231.2 232.5 233.8 ... 295.0 296.2 297.5 298.8\n"
     ]
    }
   ],
   "source": [
    "param_sonTot_scenEraOne_diff_Us_xarray = xr.DataArray(param_sonTot_scenEraOne_pDiff_Us_ensmean_timeAvg, coords=[lats_US, lons_US], dims=[\"Lat\",\"Lon\"])\n",
    "print(param_sonTot_scenEraOne_diff_Us_xarray.shape)\n",
    "print(param_sonTot_scenEraOne_diff_Us_xarray)"
   ]
  },
  {
   "cell_type": "code",
   "execution_count": 105,
   "metadata": {},
   "outputs": [
    {
     "name": "stdout",
     "output_type": "stream",
     "text": [
      "(32, 56)\n",
      "<xarray.DataArray (Lat: 32, Lon: 56)>\n",
      "array([[  0.        ,   0.        ,   0.        , ...,   0.        ,\n",
      "          0.        ,   0.        ],\n",
      "       [  0.        ,   0.        ,   0.        , ...,   0.        ,\n",
      "          0.        ,   0.        ],\n",
      "       [  0.        ,   0.        ,   0.        , ...,   0.        ,\n",
      "          0.        ,   0.        ],\n",
      "       ...,\n",
      "       [  0.        ,   4.69331379,   3.31075588, ...,  -9.30711747,\n",
      "          5.91071783,   6.0165972 ],\n",
      "       [  3.61070296,   3.21417615,   3.49166918, ..., -10.37612878,\n",
      "         -8.48991682,  -6.16123152],\n",
      "       [  2.78257465,   3.44314271,   3.10781874, ...,  -1.59979365,\n",
      "         -8.91497796,  -7.4354611 ]])\n",
      "Coordinates:\n",
      "  * Lat      (Lat) float32 24.97 25.92 26.86 27.8 ... 51.36 52.3 53.25 54.19\n",
      "  * Lon      (Lon) float32 230.0 231.2 232.5 233.8 ... 295.0 296.2 297.5 298.8\n"
     ]
    }
   ],
   "source": [
    "param_sonTot_scenEraTwo_diff_Us_xarray = xr.DataArray(param_sonTot_scenEraTwo_pDiff_Us_ensmean_timeAvg, coords=[lats_US, lons_US], dims=[\"Lat\",\"Lon\"])\n",
    "print(param_sonTot_scenEraTwo_diff_Us_xarray.shape)\n",
    "print(param_sonTot_scenEraTwo_diff_Us_xarray)"
   ]
  },
  {
   "cell_type": "code",
   "execution_count": 106,
   "metadata": {},
   "outputs": [
    {
     "name": "stdout",
     "output_type": "stream",
     "text": [
      "(32, 56)\n",
      "<xarray.DataArray (Lat: 32, Lon: 56)>\n",
      "array([[ 0.        ,  0.        ,  0.        , ...,  0.        ,\n",
      "         0.        ,  0.        ],\n",
      "       [ 0.        ,  0.        ,  0.        , ...,  0.        ,\n",
      "         0.        ,  0.        ],\n",
      "       [ 0.        ,  0.        ,  0.        , ...,  0.        ,\n",
      "         0.        ,  0.        ],\n",
      "       ...,\n",
      "       [ 0.        ,  7.72445318,  5.3910332 , ..., -6.64518657,\n",
      "         9.14685356,  9.01762021],\n",
      "       [ 6.07301549,  5.06387692,  5.78862972, ..., -9.32435969,\n",
      "        -5.91788461, -3.73892621],\n",
      "       [ 4.34571695,  5.59407989,  5.13154607, ...,  0.11081238,\n",
      "        -9.21418754, -4.77266613]])\n",
      "Coordinates:\n",
      "  * Lat      (Lat) float32 24.97 25.92 26.86 27.8 ... 51.36 52.3 53.25 54.19\n",
      "  * Lon      (Lon) float32 230.0 231.2 232.5 233.8 ... 295.0 296.2 297.5 298.8\n"
     ]
    }
   ],
   "source": [
    "param_sonTot_scenEraThree_diff_Us_xarray = xr.DataArray(param_sonTot_scenEraThree_pDiff_Us_ensmean_timeAvg, coords=[lats_US, lons_US], dims=[\"Lat\",\"Lon\"])\n",
    "print(param_sonTot_scenEraThree_diff_Us_xarray.shape)\n",
    "print(param_sonTot_scenEraThree_diff_Us_xarray)"
   ]
  },
  {
   "cell_type": "code",
   "execution_count": null,
   "metadata": {},
   "outputs": [],
   "source": []
  },
  {
   "cell_type": "markdown",
   "metadata": {},
   "source": [
    "## Masking files for the Basin Domain only"
   ]
  },
  {
   "cell_type": "markdown",
   "metadata": {},
   "source": [
    "### Mississippi"
   ]
  },
  {
   "cell_type": "code",
   "execution_count": 107,
   "metadata": {},
   "outputs": [
    {
     "name": "stdout",
     "output_type": "stream",
     "text": [
      "(32, 56)\n",
      "<xarray.DataArray (Lat: 32, Lon: 56)>\n",
      "array([[nan, nan, nan, ..., nan, nan, nan],\n",
      "       [nan, nan, nan, ..., nan, nan, nan],\n",
      "       [nan, nan, nan, ..., nan, nan, nan],\n",
      "       ...,\n",
      "       [nan, nan, nan, ..., nan, nan, nan],\n",
      "       [nan, nan, nan, ..., nan, nan, nan],\n",
      "       [nan, nan, nan, ..., nan, nan, nan]])\n",
      "Coordinates:\n",
      "  * Lat      (Lat) float32 24.97 25.92 26.86 27.8 ... 51.36 52.3 53.25 54.19\n",
      "  * Lon      (Lon) float32 230.0 231.2 232.5 233.8 ... 295.0 296.2 297.5 298.8\n"
     ]
    }
   ],
   "source": [
    "param_sonTot_scenEraOne_diff_masked_Missi = param_sonTot_scenEraOne_diff_Us_xarray.where(MaskFile_Missi>0)\n",
    "print(param_sonTot_scenEraOne_diff_masked_Missi.shape)\n",
    "print(param_sonTot_scenEraOne_diff_masked_Missi)"
   ]
  },
  {
   "cell_type": "code",
   "execution_count": 108,
   "metadata": {},
   "outputs": [
    {
     "name": "stdout",
     "output_type": "stream",
     "text": [
      "(32, 56)\n",
      "<xarray.DataArray (Lat: 32, Lon: 56)>\n",
      "array([[nan, nan, nan, ..., nan, nan, nan],\n",
      "       [nan, nan, nan, ..., nan, nan, nan],\n",
      "       [nan, nan, nan, ..., nan, nan, nan],\n",
      "       ...,\n",
      "       [nan, nan, nan, ..., nan, nan, nan],\n",
      "       [nan, nan, nan, ..., nan, nan, nan],\n",
      "       [nan, nan, nan, ..., nan, nan, nan]])\n",
      "Coordinates:\n",
      "  * Lat      (Lat) float32 24.97 25.92 26.86 27.8 ... 51.36 52.3 53.25 54.19\n",
      "  * Lon      (Lon) float32 230.0 231.2 232.5 233.8 ... 295.0 296.2 297.5 298.8\n"
     ]
    }
   ],
   "source": [
    "param_sonTot_scenEraTwo_diff_masked_Missi = param_sonTot_scenEraTwo_diff_Us_xarray.where(MaskFile_Missi>0)\n",
    "print(param_sonTot_scenEraTwo_diff_masked_Missi.shape)\n",
    "print(param_sonTot_scenEraTwo_diff_masked_Missi)"
   ]
  },
  {
   "cell_type": "code",
   "execution_count": 109,
   "metadata": {},
   "outputs": [
    {
     "name": "stdout",
     "output_type": "stream",
     "text": [
      "(32, 56)\n",
      "<xarray.DataArray (Lat: 32, Lon: 56)>\n",
      "array([[nan, nan, nan, ..., nan, nan, nan],\n",
      "       [nan, nan, nan, ..., nan, nan, nan],\n",
      "       [nan, nan, nan, ..., nan, nan, nan],\n",
      "       ...,\n",
      "       [nan, nan, nan, ..., nan, nan, nan],\n",
      "       [nan, nan, nan, ..., nan, nan, nan],\n",
      "       [nan, nan, nan, ..., nan, nan, nan]])\n",
      "Coordinates:\n",
      "  * Lat      (Lat) float32 24.97 25.92 26.86 27.8 ... 51.36 52.3 53.25 54.19\n",
      "  * Lon      (Lon) float32 230.0 231.2 232.5 233.8 ... 295.0 296.2 297.5 298.8\n"
     ]
    }
   ],
   "source": [
    "param_sonTot_scenEraThree_diff_masked_Missi = param_sonTot_scenEraThree_diff_Us_xarray.where(MaskFile_Missi>0)\n",
    "print(param_sonTot_scenEraThree_diff_masked_Missi.shape)\n",
    "print(param_sonTot_scenEraThree_diff_masked_Missi)"
   ]
  },
  {
   "cell_type": "code",
   "execution_count": null,
   "metadata": {},
   "outputs": [],
   "source": []
  },
  {
   "cell_type": "code",
   "execution_count": null,
   "metadata": {},
   "outputs": [],
   "source": []
  },
  {
   "cell_type": "markdown",
   "metadata": {},
   "source": [
    "## Find max and min values"
   ]
  },
  {
   "cell_type": "code",
   "execution_count": 110,
   "metadata": {},
   "outputs": [
    {
     "name": "stdout",
     "output_type": "stream",
     "text": [
      "6.579964687378379\n",
      "-5.443037863486097\n"
     ]
    }
   ],
   "source": [
    "maxVal_sonTot_diff_masked_scenEraOne = np.nanmax(param_sonTot_scenEraOne_diff_masked_Missi)\n",
    "print(maxVal_sonTot_diff_masked_scenEraOne)\n",
    "minVal_sonTot_diff_masked_scenEraOne = np.nanmin(param_sonTot_scenEraOne_diff_masked_Missi)\n",
    "print(minVal_sonTot_diff_masked_scenEraOne)"
   ]
  },
  {
   "cell_type": "code",
   "execution_count": 111,
   "metadata": {},
   "outputs": [
    {
     "name": "stdout",
     "output_type": "stream",
     "text": [
      "8.797117057110881\n",
      "-12.138792307960102\n"
     ]
    }
   ],
   "source": [
    "maxVal_sonTot_diff_masked_scenEraTwo = np.nanmax(param_sonTot_scenEraTwo_diff_masked_Missi)\n",
    "print(maxVal_sonTot_diff_masked_scenEraTwo)\n",
    "minVal_sonTot_diff_masked_scenEraTwo = np.nanmin(param_sonTot_scenEraTwo_diff_masked_Missi)\n",
    "print(minVal_sonTot_diff_masked_scenEraTwo)"
   ]
  },
  {
   "cell_type": "code",
   "execution_count": 112,
   "metadata": {},
   "outputs": [
    {
     "name": "stdout",
     "output_type": "stream",
     "text": [
      "11.174694247673663\n",
      "-11.247490847213506\n"
     ]
    }
   ],
   "source": [
    "maxVal_sonTot_diff_masked_scenEraThree = np.nanmax(param_sonTot_scenEraThree_diff_masked_Missi)\n",
    "print(maxVal_sonTot_diff_masked_scenEraThree)\n",
    "minVal_sonTot_diff_masked_scenEraThree = np.nanmin(param_sonTot_scenEraThree_diff_masked_Missi)\n",
    "print(minVal_sonTot_diff_masked_scenEraThree)"
   ]
  },
  {
   "cell_type": "code",
   "execution_count": 113,
   "metadata": {},
   "outputs": [
    {
     "name": "stdout",
     "output_type": "stream",
     "text": [
      "-12.0\n",
      "12.0\n"
     ]
    }
   ],
   "source": [
    "vmin_sonTot_scenEraThree = np.floor(minVal_sonTot_diff_masked_scenEraThree)\n",
    "vmax_sonTot_scenEraThree = np.ceil(maxVal_sonTot_diff_masked_scenEraThree)\n",
    "print(vmin_sonTot_scenEraThree)\n",
    "print(vmax_sonTot_scenEraThree)"
   ]
  },
  {
   "cell_type": "code",
   "execution_count": 114,
   "metadata": {},
   "outputs": [
    {
     "name": "stdout",
     "output_type": "stream",
     "text": [
      "25\n"
     ]
    }
   ],
   "source": [
    "nDiv_sonTot_scenEraThree = int(vmax_sonTot_scenEraThree - vmin_sonTot_scenEraThree + 1)\n",
    "print(nDiv_sonTot_scenEraThree)"
   ]
  },
  {
   "cell_type": "code",
   "execution_count": null,
   "metadata": {},
   "outputs": [],
   "source": []
  },
  {
   "cell_type": "code",
   "execution_count": null,
   "metadata": {},
   "outputs": [],
   "source": []
  },
  {
   "cell_type": "markdown",
   "metadata": {},
   "source": [
    "## DJF"
   ]
  },
  {
   "cell_type": "markdown",
   "metadata": {},
   "source": [
    "## ref Period"
   ]
  },
  {
   "cell_type": "code",
   "execution_count": 115,
   "metadata": {},
   "outputs": [],
   "source": [
    "djfMonSt = 12\n",
    "djfMonMid = 1\n",
    "djfMonEnd = 2"
   ]
  },
  {
   "cell_type": "code",
   "execution_count": 116,
   "metadata": {},
   "outputs": [
    {
     "name": "stdout",
     "output_type": "stream",
     "text": [
      "(30, 32, 56)\n",
      "(30, 32, 56)\n",
      "(30, 32, 56)\n"
     ]
    }
   ],
   "source": [
    "\n",
    "param_djfSt_refPeriod_Us_ensmean = param_refPeriod_Us_ensmean[djfMonSt-1::nMonsPerYr]\n",
    "print(param_djfSt_refPeriod_Us_ensmean.shape)\n",
    "\n",
    "param_djfMid_refPeriod_Us_ensmean = param_refPeriod_Us_ensmean[djfMonMid-1::nMonsPerYr]\n",
    "param_djfMid_refPeriod_Us_ensmean = param_djfMid_refPeriod_Us_ensmean[1::]\n",
    "print(param_djfMid_refPeriod_Us_ensmean.shape)\n",
    "\n",
    "param_djfEnd_refPeriod_Us_ensmean = param_refPeriod_Us_ensmean[djfMonEnd-1::nMonsPerYr]\n",
    "param_djfEnd_refPeriod_Us_ensmean = param_djfEnd_refPeriod_Us_ensmean[1::]\n",
    "print(param_djfEnd_refPeriod_Us_ensmean.shape)\n"
   ]
  },
  {
   "cell_type": "code",
   "execution_count": 117,
   "metadata": {},
   "outputs": [
    {
     "name": "stdout",
     "output_type": "stream",
     "text": [
      "(32, 56)\n",
      "(32, 56)\n",
      "(32, 56)\n"
     ]
    }
   ],
   "source": [
    "param_djfSt_refPeriod_Us_ensmean_timeAvg = np.nanmean(param_djfSt_refPeriod_Us_ensmean, axis = 0)\n",
    "print(param_djfSt_refPeriod_Us_ensmean_timeAvg.shape)\n",
    "\n",
    "param_djfMid_refPeriod_Us_ensmean_timeAvg = np.nanmean(param_djfMid_refPeriod_Us_ensmean, axis = 0)\n",
    "print(param_djfMid_refPeriod_Us_ensmean_timeAvg.shape)\n",
    "\n",
    "param_djfEnd_refPeriod_Us_ensmean_timeAvg = np.nanmean(param_djfEnd_refPeriod_Us_ensmean, axis = 0)\n",
    "print(param_djfEnd_refPeriod_Us_ensmean_timeAvg.shape)\n"
   ]
  },
  {
   "cell_type": "code",
   "execution_count": 118,
   "metadata": {},
   "outputs": [
    {
     "name": "stdout",
     "output_type": "stream",
     "text": [
      "(32, 56)\n"
     ]
    }
   ],
   "source": [
    "param_djfTot_refPeriod_Us_ensmean_timeAvg = (param_djfSt_refPeriod_Us_ensmean_timeAvg+param_djfMid_refPeriod_Us_ensmean_timeAvg+param_djfEnd_refPeriod_Us_ensmean_timeAvg)/3\n",
    "print(param_djfTot_refPeriod_Us_ensmean_timeAvg.shape)"
   ]
  },
  {
   "cell_type": "markdown",
   "metadata": {},
   "source": [
    "## Scen Era 1"
   ]
  },
  {
   "cell_type": "code",
   "execution_count": 119,
   "metadata": {},
   "outputs": [
    {
     "name": "stdout",
     "output_type": "stream",
     "text": [
      "(30, 32, 56)\n",
      "(30, 32, 56)\n",
      "(30, 32, 56)\n"
     ]
    }
   ],
   "source": [
    "\n",
    "param_djfSt_scenEraOne_Us_ensmean = param_scenEraOne_Us_ensmean[djfMonSt-1::nMonsPerYr]\n",
    "print(param_djfSt_scenEraOne_Us_ensmean.shape)\n",
    "\n",
    "param_djfMid_scenEraOne_Us_ensmean = param_scenEraOne_Us_ensmean[djfMonMid-1::nMonsPerYr]\n",
    "param_djfMid_scenEraOne_Us_ensmean = param_djfMid_scenEraOne_Us_ensmean[1::]\n",
    "print(param_djfMid_scenEraOne_Us_ensmean.shape)\n",
    "\n",
    "param_djfEnd_scenEraOne_Us_ensmean = param_scenEraOne_Us_ensmean[djfMonEnd-1::nMonsPerYr]\n",
    "param_djfEnd_scenEraOne_Us_ensmean = param_djfEnd_scenEraOne_Us_ensmean[1::]\n",
    "print(param_djfEnd_scenEraOne_Us_ensmean.shape)\n"
   ]
  },
  {
   "cell_type": "code",
   "execution_count": 120,
   "metadata": {},
   "outputs": [
    {
     "name": "stdout",
     "output_type": "stream",
     "text": [
      "(32, 56)\n",
      "(32, 56)\n",
      "(32, 56)\n"
     ]
    }
   ],
   "source": [
    "param_djfSt_scenEraOne_Us_ensmean_timeAvg = np.nanmean(param_djfSt_scenEraOne_Us_ensmean, axis = 0)\n",
    "print(param_djfSt_scenEraOne_Us_ensmean_timeAvg.shape)\n",
    "\n",
    "param_djfMid_scenEraOne_Us_ensmean_timeAvg = np.nanmean(param_djfMid_scenEraOne_Us_ensmean, axis = 0)\n",
    "print(param_djfMid_scenEraOne_Us_ensmean_timeAvg.shape)\n",
    "\n",
    "param_djfEnd_scenEraOne_Us_ensmean_timeAvg = np.nanmean(param_djfEnd_scenEraOne_Us_ensmean, axis = 0)\n",
    "print(param_djfEnd_scenEraOne_Us_ensmean_timeAvg.shape)\n"
   ]
  },
  {
   "cell_type": "code",
   "execution_count": 121,
   "metadata": {},
   "outputs": [
    {
     "name": "stdout",
     "output_type": "stream",
     "text": [
      "(32, 56)\n"
     ]
    }
   ],
   "source": [
    "param_djfTot_scenEraOne_Us_ensmean_timeAvg = (param_djfSt_scenEraOne_Us_ensmean_timeAvg+param_djfMid_scenEraOne_Us_ensmean_timeAvg+param_djfEnd_scenEraOne_Us_ensmean_timeAvg)/3\n",
    "print(param_djfTot_scenEraOne_Us_ensmean_timeAvg.shape)\n"
   ]
  },
  {
   "cell_type": "markdown",
   "metadata": {},
   "source": [
    "## Scen Era 2"
   ]
  },
  {
   "cell_type": "code",
   "execution_count": 122,
   "metadata": {},
   "outputs": [
    {
     "name": "stdout",
     "output_type": "stream",
     "text": [
      "(30, 32, 56)\n",
      "(30, 32, 56)\n",
      "(30, 32, 56)\n"
     ]
    }
   ],
   "source": [
    "\n",
    "param_djfSt_scenEraTwo_Us_ensmean = param_scenEraTwo_Us_ensmean[djfMonSt-1::nMonsPerYr]\n",
    "print(param_djfSt_scenEraTwo_Us_ensmean.shape)\n",
    "\n",
    "param_djfMid_scenEraTwo_Us_ensmean = param_scenEraTwo_Us_ensmean[djfMonMid-1::nMonsPerYr]\n",
    "param_djfMid_scenEraTwo_Us_ensmean = param_djfMid_scenEraTwo_Us_ensmean[1::]\n",
    "print(param_djfMid_scenEraTwo_Us_ensmean.shape)\n",
    "\n",
    "param_djfEnd_scenEraTwo_Us_ensmean = param_scenEraTwo_Us_ensmean[djfMonEnd-1::nMonsPerYr]\n",
    "param_djfEnd_scenEraTwo_Us_ensmean = param_djfEnd_scenEraTwo_Us_ensmean[1::]\n",
    "print(param_djfEnd_scenEraTwo_Us_ensmean.shape)\n"
   ]
  },
  {
   "cell_type": "code",
   "execution_count": 123,
   "metadata": {},
   "outputs": [
    {
     "name": "stdout",
     "output_type": "stream",
     "text": [
      "(32, 56)\n",
      "(32, 56)\n",
      "(32, 56)\n"
     ]
    }
   ],
   "source": [
    "param_djfSt_scenEraTwo_Us_ensmean_timeAvg = np.nanmean(param_djfSt_scenEraTwo_Us_ensmean, axis = 0)\n",
    "print(param_djfSt_scenEraTwo_Us_ensmean_timeAvg.shape)\n",
    "\n",
    "param_djfMid_scenEraTwo_Us_ensmean_timeAvg = np.nanmean(param_djfMid_scenEraTwo_Us_ensmean, axis = 0)\n",
    "print(param_djfMid_scenEraTwo_Us_ensmean_timeAvg.shape)\n",
    "\n",
    "param_djfEnd_scenEraTwo_Us_ensmean_timeAvg = np.nanmean(param_djfEnd_scenEraTwo_Us_ensmean, axis = 0)\n",
    "print(param_djfEnd_scenEraTwo_Us_ensmean_timeAvg.shape)\n"
   ]
  },
  {
   "cell_type": "code",
   "execution_count": 124,
   "metadata": {},
   "outputs": [
    {
     "name": "stdout",
     "output_type": "stream",
     "text": [
      "(32, 56)\n"
     ]
    }
   ],
   "source": [
    "param_djfTot_scenEraTwo_Us_ensmean_timeAvg = (param_djfSt_scenEraTwo_Us_ensmean_timeAvg+param_djfMid_scenEraTwo_Us_ensmean_timeAvg+param_djfEnd_scenEraTwo_Us_ensmean_timeAvg)/3\n",
    "print(param_djfTot_scenEraTwo_Us_ensmean_timeAvg.shape)\n"
   ]
  },
  {
   "cell_type": "markdown",
   "metadata": {},
   "source": [
    "## Scen Era 3"
   ]
  },
  {
   "cell_type": "code",
   "execution_count": 125,
   "metadata": {},
   "outputs": [
    {
     "name": "stdout",
     "output_type": "stream",
     "text": [
      "(26, 32, 56)\n",
      "(26, 32, 56)\n",
      "(26, 32, 56)\n"
     ]
    }
   ],
   "source": [
    "\n",
    "param_djfSt_scenEraThree_Us_ensmean = param_scenEraThree_Us_ensmean[djfMonSt-1::nMonsPerYr]\n",
    "print(param_djfSt_scenEraThree_Us_ensmean.shape)\n",
    "\n",
    "param_djfMid_scenEraThree_Us_ensmean = param_scenEraThree_Us_ensmean[djfMonMid-1::nMonsPerYr]\n",
    "print(param_djfMid_scenEraThree_Us_ensmean.shape)\n",
    "\n",
    "param_djfEnd_scenEraThree_Us_ensmean = param_scenEraThree_Us_ensmean[djfMonEnd-1::nMonsPerYr]\n",
    "print(param_djfEnd_scenEraThree_Us_ensmean.shape)\n"
   ]
  },
  {
   "cell_type": "code",
   "execution_count": 126,
   "metadata": {},
   "outputs": [
    {
     "name": "stdout",
     "output_type": "stream",
     "text": [
      "(32, 56)\n",
      "(32, 56)\n",
      "(32, 56)\n"
     ]
    }
   ],
   "source": [
    "param_djfSt_scenEraThree_Us_ensmean_timeAvg = np.nanmean(param_djfSt_scenEraThree_Us_ensmean, axis = 0)\n",
    "print(param_djfSt_scenEraThree_Us_ensmean_timeAvg.shape)\n",
    "\n",
    "param_djfMid_scenEraThree_Us_ensmean_timeAvg = np.nanmean(param_djfMid_scenEraThree_Us_ensmean, axis = 0)\n",
    "print(param_djfMid_scenEraThree_Us_ensmean_timeAvg.shape)\n",
    "\n",
    "param_djfEnd_scenEraThree_Us_ensmean_timeAvg = np.nanmean(param_djfEnd_scenEraThree_Us_ensmean, axis = 0)\n",
    "print(param_djfEnd_scenEraThree_Us_ensmean_timeAvg.shape)\n"
   ]
  },
  {
   "cell_type": "code",
   "execution_count": 127,
   "metadata": {},
   "outputs": [
    {
     "name": "stdout",
     "output_type": "stream",
     "text": [
      "(32, 56)\n"
     ]
    }
   ],
   "source": [
    "param_djfTot_scenEraThree_Us_ensmean_timeAvg = (param_djfSt_scenEraThree_Us_ensmean_timeAvg+param_djfMid_scenEraThree_Us_ensmean_timeAvg+param_djfEnd_scenEraThree_Us_ensmean_timeAvg)/3\n",
    "print(param_djfTot_scenEraThree_Us_ensmean_timeAvg.shape)\n"
   ]
  },
  {
   "cell_type": "markdown",
   "metadata": {},
   "source": [
    "## Differences at the three Eras"
   ]
  },
  {
   "cell_type": "code",
   "execution_count": 128,
   "metadata": {},
   "outputs": [
    {
     "name": "stdout",
     "output_type": "stream",
     "text": [
      "(32, 56)\n"
     ]
    }
   ],
   "source": [
    "param_djfTot_scenEraOne_pDiff_Us_ensmean_timeAvg = (param_djfTot_scenEraOne_Us_ensmean_timeAvg - param_djfTot_refPeriod_Us_ensmean_timeAvg)\n",
    "print(param_djfTot_scenEraOne_pDiff_Us_ensmean_timeAvg.shape)"
   ]
  },
  {
   "cell_type": "code",
   "execution_count": 129,
   "metadata": {},
   "outputs": [
    {
     "name": "stdout",
     "output_type": "stream",
     "text": [
      "(32, 56)\n"
     ]
    }
   ],
   "source": [
    "param_djfTot_scenEraTwo_pDiff_Us_ensmean_timeAvg = (param_djfTot_scenEraTwo_Us_ensmean_timeAvg - param_djfTot_refPeriod_Us_ensmean_timeAvg)\n",
    "print(param_djfTot_scenEraTwo_pDiff_Us_ensmean_timeAvg.shape)"
   ]
  },
  {
   "cell_type": "code",
   "execution_count": 130,
   "metadata": {},
   "outputs": [
    {
     "name": "stdout",
     "output_type": "stream",
     "text": [
      "(32, 56)\n"
     ]
    }
   ],
   "source": [
    "param_djfTot_scenEraThree_pDiff_Us_ensmean_timeAvg = (param_djfTot_scenEraThree_Us_ensmean_timeAvg - param_djfTot_refPeriod_Us_ensmean_timeAvg)\n",
    "print(param_djfTot_scenEraThree_pDiff_Us_ensmean_timeAvg.shape)"
   ]
  },
  {
   "cell_type": "code",
   "execution_count": null,
   "metadata": {},
   "outputs": [],
   "source": []
  },
  {
   "cell_type": "markdown",
   "metadata": {},
   "source": [
    "## Basin Mask (DJF)"
   ]
  },
  {
   "cell_type": "markdown",
   "metadata": {},
   "source": [
    "### Writing in an Xarray Data array"
   ]
  },
  {
   "cell_type": "code",
   "execution_count": 131,
   "metadata": {},
   "outputs": [
    {
     "name": "stdout",
     "output_type": "stream",
     "text": [
      "(32, 56)\n",
      "<xarray.DataArray (Lat: 32, Lon: 56)>\n",
      "array([[ 0.        ,  0.        ,  0.        , ...,  0.        ,\n",
      "         0.        ,  0.        ],\n",
      "       [ 0.        ,  0.        ,  0.        , ...,  0.        ,\n",
      "         0.        ,  0.        ],\n",
      "       [ 0.        ,  0.        ,  0.        , ...,  0.        ,\n",
      "         0.        ,  0.        ],\n",
      "       ...,\n",
      "       [ 0.        ,  2.88794721,  0.42030788, ..., -0.38296443,\n",
      "         1.00332834,  1.32986754],\n",
      "       [ 2.72944806,  1.05437117,  0.1900728 , ...,  0.76850854,\n",
      "         0.65750962, -1.05099692],\n",
      "       [ 0.9543621 ,  0.23420986,  0.40967419, ...,  0.95845456,\n",
      "         0.85508441, -1.31313691]])\n",
      "Coordinates:\n",
      "  * Lat      (Lat) float32 24.97 25.92 26.86 27.8 ... 51.36 52.3 53.25 54.19\n",
      "  * Lon      (Lon) float32 230.0 231.2 232.5 233.8 ... 295.0 296.2 297.5 298.8\n"
     ]
    }
   ],
   "source": [
    "param_djfTot_scenEraOne_diff_Us_xarray = xr.DataArray(param_djfTot_scenEraOne_pDiff_Us_ensmean_timeAvg, coords=[lats_US, lons_US], dims=[\"Lat\",\"Lon\"])\n",
    "print(param_djfTot_scenEraOne_diff_Us_xarray.shape)\n",
    "print(param_djfTot_scenEraOne_diff_Us_xarray)"
   ]
  },
  {
   "cell_type": "code",
   "execution_count": 132,
   "metadata": {},
   "outputs": [
    {
     "name": "stdout",
     "output_type": "stream",
     "text": [
      "(32, 56)\n",
      "<xarray.DataArray (Lat: 32, Lon: 56)>\n",
      "array([[ 0.        ,  0.        ,  0.        , ...,  0.        ,\n",
      "         0.        ,  0.        ],\n",
      "       [ 0.        ,  0.        ,  0.        , ...,  0.        ,\n",
      "         0.        ,  0.        ],\n",
      "       [ 0.        ,  0.        ,  0.        , ...,  0.        ,\n",
      "         0.        ,  0.        ],\n",
      "       ...,\n",
      "       [ 0.        ,  6.8022877 ,  1.5519482 , ...,  0.40559619,\n",
      "         2.76000254,  3.23523947],\n",
      "       [ 6.32748831,  2.86324585,  0.60024357, ..., -0.14220301,\n",
      "         0.41947084,  0.75956385],\n",
      "       [ 2.52050689,  0.52214244,  0.83807468, ...,  0.98524318,\n",
      "         0.21040166,  0.05616072]])\n",
      "Coordinates:\n",
      "  * Lat      (Lat) float32 24.97 25.92 26.86 27.8 ... 51.36 52.3 53.25 54.19\n",
      "  * Lon      (Lon) float32 230.0 231.2 232.5 233.8 ... 295.0 296.2 297.5 298.8\n"
     ]
    }
   ],
   "source": [
    "param_djfTot_scenEraTwo_diff_Us_xarray = xr.DataArray(param_djfTot_scenEraTwo_pDiff_Us_ensmean_timeAvg, coords=[lats_US, lons_US], dims=[\"Lat\",\"Lon\"])\n",
    "print(param_djfTot_scenEraTwo_diff_Us_xarray.shape)\n",
    "print(param_djfTot_scenEraTwo_diff_Us_xarray)"
   ]
  },
  {
   "cell_type": "code",
   "execution_count": 133,
   "metadata": {},
   "outputs": [
    {
     "name": "stdout",
     "output_type": "stream",
     "text": [
      "(32, 56)\n",
      "<xarray.DataArray (Lat: 32, Lon: 56)>\n",
      "array([[ 0.        ,  0.        ,  0.        , ...,  0.        ,\n",
      "         0.        ,  0.        ],\n",
      "       [ 0.        ,  0.        ,  0.        , ...,  0.        ,\n",
      "         0.        ,  0.        ],\n",
      "       [ 0.        ,  0.        ,  0.        , ...,  0.        ,\n",
      "         0.        ,  0.        ],\n",
      "       ...,\n",
      "       [ 0.        , 10.24077579,  3.64481834, ...,  2.18710359,\n",
      "         5.00475146,  5.61985433],\n",
      "       [ 9.45086408,  5.26901824,  1.542863  , ...,  0.4957982 ,\n",
      "         1.98223848,  2.80918862],\n",
      "       [ 4.52559151,  1.23817287,  1.46094967, ...,  2.24166859,\n",
      "         0.50916076,  1.54760456]])\n",
      "Coordinates:\n",
      "  * Lat      (Lat) float32 24.97 25.92 26.86 27.8 ... 51.36 52.3 53.25 54.19\n",
      "  * Lon      (Lon) float32 230.0 231.2 232.5 233.8 ... 295.0 296.2 297.5 298.8\n"
     ]
    }
   ],
   "source": [
    "param_djfTot_scenEraThree_diff_Us_xarray = xr.DataArray(param_djfTot_scenEraThree_pDiff_Us_ensmean_timeAvg, coords=[lats_US, lons_US], dims=[\"Lat\",\"Lon\"])\n",
    "print(param_djfTot_scenEraThree_diff_Us_xarray.shape)\n",
    "print(param_djfTot_scenEraThree_diff_Us_xarray)"
   ]
  },
  {
   "cell_type": "code",
   "execution_count": null,
   "metadata": {},
   "outputs": [],
   "source": []
  },
  {
   "cell_type": "markdown",
   "metadata": {},
   "source": [
    "## Creating Mask files for the Basin Domain only"
   ]
  },
  {
   "cell_type": "markdown",
   "metadata": {},
   "source": [
    "## Mississippi"
   ]
  },
  {
   "cell_type": "code",
   "execution_count": 134,
   "metadata": {},
   "outputs": [
    {
     "name": "stdout",
     "output_type": "stream",
     "text": [
      "(32, 56)\n",
      "<xarray.DataArray (Lat: 32, Lon: 56)>\n",
      "array([[nan, nan, nan, ..., nan, nan, nan],\n",
      "       [nan, nan, nan, ..., nan, nan, nan],\n",
      "       [nan, nan, nan, ..., nan, nan, nan],\n",
      "       ...,\n",
      "       [nan, nan, nan, ..., nan, nan, nan],\n",
      "       [nan, nan, nan, ..., nan, nan, nan],\n",
      "       [nan, nan, nan, ..., nan, nan, nan]])\n",
      "Coordinates:\n",
      "  * Lat      (Lat) float32 24.97 25.92 26.86 27.8 ... 51.36 52.3 53.25 54.19\n",
      "  * Lon      (Lon) float32 230.0 231.2 232.5 233.8 ... 295.0 296.2 297.5 298.8\n"
     ]
    }
   ],
   "source": [
    "param_djfTot_scenEraOne_diff_masked_Missi = param_djfTot_scenEraOne_diff_Us_xarray.where(MaskFile_Missi>0)\n",
    "print(param_djfTot_scenEraOne_diff_masked_Missi.shape)\n",
    "print(param_djfTot_scenEraOne_diff_masked_Missi)"
   ]
  },
  {
   "cell_type": "code",
   "execution_count": 135,
   "metadata": {},
   "outputs": [
    {
     "name": "stdout",
     "output_type": "stream",
     "text": [
      "(32, 56)\n",
      "<xarray.DataArray (Lat: 32, Lon: 56)>\n",
      "array([[nan, nan, nan, ..., nan, nan, nan],\n",
      "       [nan, nan, nan, ..., nan, nan, nan],\n",
      "       [nan, nan, nan, ..., nan, nan, nan],\n",
      "       ...,\n",
      "       [nan, nan, nan, ..., nan, nan, nan],\n",
      "       [nan, nan, nan, ..., nan, nan, nan],\n",
      "       [nan, nan, nan, ..., nan, nan, nan]])\n",
      "Coordinates:\n",
      "  * Lat      (Lat) float32 24.97 25.92 26.86 27.8 ... 51.36 52.3 53.25 54.19\n",
      "  * Lon      (Lon) float32 230.0 231.2 232.5 233.8 ... 295.0 296.2 297.5 298.8\n"
     ]
    }
   ],
   "source": [
    "param_djfTot_scenEraTwo_diff_masked_Missi = param_djfTot_scenEraTwo_diff_Us_xarray.where(MaskFile_Missi>0)\n",
    "print(param_djfTot_scenEraTwo_diff_masked_Missi.shape)\n",
    "print(param_djfTot_scenEraTwo_diff_masked_Missi)"
   ]
  },
  {
   "cell_type": "code",
   "execution_count": 136,
   "metadata": {},
   "outputs": [
    {
     "name": "stdout",
     "output_type": "stream",
     "text": [
      "(32, 56)\n",
      "<xarray.DataArray (Lat: 32, Lon: 56)>\n",
      "array([[nan, nan, nan, ..., nan, nan, nan],\n",
      "       [nan, nan, nan, ..., nan, nan, nan],\n",
      "       [nan, nan, nan, ..., nan, nan, nan],\n",
      "       ...,\n",
      "       [nan, nan, nan, ..., nan, nan, nan],\n",
      "       [nan, nan, nan, ..., nan, nan, nan],\n",
      "       [nan, nan, nan, ..., nan, nan, nan]])\n",
      "Coordinates:\n",
      "  * Lat      (Lat) float32 24.97 25.92 26.86 27.8 ... 51.36 52.3 53.25 54.19\n",
      "  * Lon      (Lon) float32 230.0 231.2 232.5 233.8 ... 295.0 296.2 297.5 298.8\n"
     ]
    }
   ],
   "source": [
    "param_djfTot_scenEraThree_diff_masked_Missi = param_djfTot_scenEraThree_diff_Us_xarray.where(MaskFile_Missi>0)\n",
    "print(param_djfTot_scenEraThree_diff_masked_Missi.shape)\n",
    "print(param_djfTot_scenEraThree_diff_masked_Missi)"
   ]
  },
  {
   "cell_type": "code",
   "execution_count": null,
   "metadata": {},
   "outputs": [],
   "source": []
  },
  {
   "cell_type": "code",
   "execution_count": null,
   "metadata": {},
   "outputs": [],
   "source": []
  },
  {
   "cell_type": "markdown",
   "metadata": {},
   "source": [
    "## Find max and min values"
   ]
  },
  {
   "cell_type": "code",
   "execution_count": 137,
   "metadata": {},
   "outputs": [
    {
     "name": "stdout",
     "output_type": "stream",
     "text": [
      "5.522639436763711\n",
      "0.6295519711161524\n"
     ]
    }
   ],
   "source": [
    "maxVal_djfTot_diff_masked_scenEraOne = np.nanmax(param_djfTot_scenEraOne_diff_masked_Missi)\n",
    "print(maxVal_djfTot_diff_masked_scenEraOne)\n",
    "minVal_djfTot_diff_masked_scenEraOne = np.nanmin(param_djfTot_scenEraOne_diff_masked_Missi)\n",
    "print(minVal_djfTot_diff_masked_scenEraOne)"
   ]
  },
  {
   "cell_type": "code",
   "execution_count": 138,
   "metadata": {},
   "outputs": [
    {
     "name": "stdout",
     "output_type": "stream",
     "text": [
      "6.653621674333408\n",
      "0.7294877894892124\n"
     ]
    }
   ],
   "source": [
    "maxVal_djfTot_diff_masked_scenEraTwo = np.nanmax(param_djfTot_scenEraTwo_diff_masked_Missi)\n",
    "print(maxVal_djfTot_diff_masked_scenEraTwo)\n",
    "minVal_djfTot_diff_masked_scenEraTwo = np.nanmin(param_djfTot_scenEraTwo_diff_masked_Missi)\n",
    "print(minVal_djfTot_diff_masked_scenEraTwo)"
   ]
  },
  {
   "cell_type": "code",
   "execution_count": 139,
   "metadata": {},
   "outputs": [
    {
     "name": "stdout",
     "output_type": "stream",
     "text": [
      "8.275530285334455\n",
      "1.4855058545687712\n"
     ]
    }
   ],
   "source": [
    "maxVal_djfTot_diff_masked_scenEraThree = np.nanmax(param_djfTot_scenEraThree_diff_masked_Missi)\n",
    "print(maxVal_djfTot_diff_masked_scenEraThree)\n",
    "minVal_djfTot_diff_masked_scenEraThree = np.nanmin(param_djfTot_scenEraThree_diff_masked_Missi)\n",
    "print(minVal_djfTot_diff_masked_scenEraThree)"
   ]
  },
  {
   "cell_type": "code",
   "execution_count": 140,
   "metadata": {},
   "outputs": [
    {
     "name": "stdout",
     "output_type": "stream",
     "text": [
      "1.0\n",
      "9.0\n"
     ]
    }
   ],
   "source": [
    "vmin_djfTot_scenEraThree = np.floor(minVal_djfTot_diff_masked_scenEraThree)\n",
    "vmax_djfTot_scenEraThree = np.ceil(maxVal_djfTot_diff_masked_scenEraThree)\n",
    "print(vmin_djfTot_scenEraThree)\n",
    "print(vmax_djfTot_scenEraThree)"
   ]
  },
  {
   "cell_type": "code",
   "execution_count": 141,
   "metadata": {},
   "outputs": [
    {
     "name": "stdout",
     "output_type": "stream",
     "text": [
      "9\n"
     ]
    }
   ],
   "source": [
    "nDiv_djfTot_scenEraThree = int(vmax_djfTot_scenEraThree - vmin_djfTot_scenEraThree + 1)\n",
    "print(nDiv_djfTot_scenEraThree)"
   ]
  },
  {
   "cell_type": "code",
   "execution_count": 142,
   "metadata": {},
   "outputs": [
    {
     "name": "stdout",
     "output_type": "stream",
     "text": [
      "44\n"
     ]
    }
   ],
   "source": [
    "nDiv_djfTot_scenEraThree = int(vmax_djfTot_scenEraThree - vmin_jjaTot_scenEraThree + 1)\n",
    "print(nDiv_djfTot_scenEraThree)"
   ]
  },
  {
   "cell_type": "code",
   "execution_count": null,
   "metadata": {},
   "outputs": [],
   "source": []
  },
  {
   "cell_type": "code",
   "execution_count": null,
   "metadata": {},
   "outputs": [],
   "source": []
  },
  {
   "cell_type": "markdown",
   "metadata": {},
   "source": [
    "## Figure formatting"
   ]
  },
  {
   "cell_type": "code",
   "execution_count": null,
   "metadata": {},
   "outputs": [],
   "source": []
  },
  {
   "cell_type": "code",
   "execution_count": 143,
   "metadata": {},
   "outputs": [
    {
     "name": "stdout",
     "output_type": "stream",
     "text": [
      "[<GeoAxesSubplot:>, <GeoAxesSubplot:>, <GeoAxesSubplot:>, <GeoAxesSubplot:>, <GeoAxesSubplot:>, <GeoAxesSubplot:>, <GeoAxesSubplot:>, <GeoAxesSubplot:>, <GeoAxesSubplot:>, <GeoAxesSubplot:>, <GeoAxesSubplot:>, <GeoAxesSubplot:>]\n"
     ]
    },
    {
     "name": "stderr",
     "output_type": "stream",
     "text": [
      "<ipython-input-143-2a284a121577>:80: MatplotlibDeprecationWarning: Case-insensitive properties were deprecated in 3.3 and support will be removed two minor releases later\n",
      "  ax1.set_yticklabels(latTickLebelsStr, fontSize = tickFontSize)\n",
      "<ipython-input-143-2a284a121577>:81: MatplotlibDeprecationWarning: Case-insensitive properties were deprecated in 3.3 and support will be removed two minor releases later\n",
      "  ax1.set_xticklabels('', fontSize = tickFontSize)\n",
      "<ipython-input-143-2a284a121577>:107: MatplotlibDeprecationWarning: Case-insensitive properties were deprecated in 3.3 and support will be removed two minor releases later\n",
      "  ax2.set_yticklabels('', fontSize = tickFontSize)\n",
      "<ipython-input-143-2a284a121577>:110: MatplotlibDeprecationWarning: Case-insensitive properties were deprecated in 3.3 and support will be removed two minor releases later\n",
      "  ax2.set_xticklabels('', fontSize = tickFontSize)\n",
      "<ipython-input-143-2a284a121577>:136: MatplotlibDeprecationWarning: Case-insensitive properties were deprecated in 3.3 and support will be removed two minor releases later\n",
      "  ax3.set_yticklabels('', fontSize = tickFontSize)\n",
      "<ipython-input-143-2a284a121577>:138: MatplotlibDeprecationWarning: Case-insensitive properties were deprecated in 3.3 and support will be removed two minor releases later\n",
      "  ax3.set_xticklabels('', fontSize = tickFontSize)\n",
      "<ipython-input-143-2a284a121577>:166: MatplotlibDeprecationWarning: Case-insensitive properties were deprecated in 3.3 and support will be removed two minor releases later\n",
      "  ax4.set_yticklabels(latTickLebelsStr, fontSize = tickFontSize)\n",
      "<ipython-input-143-2a284a121577>:167: MatplotlibDeprecationWarning: Case-insensitive properties were deprecated in 3.3 and support will be removed two minor releases later\n",
      "  ax4.set_xticklabels('', fontSize = tickFontSize)\n",
      "<ipython-input-143-2a284a121577>:194: MatplotlibDeprecationWarning: Case-insensitive properties were deprecated in 3.3 and support will be removed two minor releases later\n",
      "  ax5.set_yticklabels('', fontSize = tickFontSize)\n",
      "<ipython-input-143-2a284a121577>:197: MatplotlibDeprecationWarning: Case-insensitive properties were deprecated in 3.3 and support will be removed two minor releases later\n",
      "  ax5.set_xticklabels('', fontSize = tickFontSize)\n",
      "<ipython-input-143-2a284a121577>:220: MatplotlibDeprecationWarning: Case-insensitive properties were deprecated in 3.3 and support will be removed two minor releases later\n",
      "  ax6.set_yticklabels('', fontSize = tickFontSize)\n",
      "<ipython-input-143-2a284a121577>:223: MatplotlibDeprecationWarning: Case-insensitive properties were deprecated in 3.3 and support will be removed two minor releases later\n",
      "  ax6.set_xticklabels('', fontSize = tickFontSize)\n",
      "<ipython-input-143-2a284a121577>:250: MatplotlibDeprecationWarning: Case-insensitive properties were deprecated in 3.3 and support will be removed two minor releases later\n",
      "  ax7.set_yticklabels(latTickLebelsStr, fontSize = tickFontSize)\n",
      "<ipython-input-143-2a284a121577>:251: MatplotlibDeprecationWarning: Case-insensitive properties were deprecated in 3.3 and support will be removed two minor releases later\n",
      "  ax7.set_xticklabels('', fontSize = tickFontSize)\n",
      "<ipython-input-143-2a284a121577>:277: MatplotlibDeprecationWarning: Case-insensitive properties were deprecated in 3.3 and support will be removed two minor releases later\n",
      "  ax8.set_yticklabels('', fontSize = tickFontSize)\n",
      "<ipython-input-143-2a284a121577>:279: MatplotlibDeprecationWarning: Case-insensitive properties were deprecated in 3.3 and support will be removed two minor releases later\n",
      "  ax8.set_xticklabels('', fontSize = tickFontSize)\n",
      "<ipython-input-143-2a284a121577>:302: MatplotlibDeprecationWarning: Case-insensitive properties were deprecated in 3.3 and support will be removed two minor releases later\n",
      "  ax9.set_yticklabels('', fontSize = tickFontSize)\n",
      "<ipython-input-143-2a284a121577>:304: MatplotlibDeprecationWarning: Case-insensitive properties were deprecated in 3.3 and support will be removed two minor releases later\n",
      "  ax9.set_xticklabels('', fontSize = tickFontSize)\n",
      "<ipython-input-143-2a284a121577>:330: MatplotlibDeprecationWarning: Case-insensitive properties were deprecated in 3.3 and support will be removed two minor releases later\n",
      "  ax10.set_yticklabels(latTickLebelsStr, fontSize = tickFontSize)\n",
      "<ipython-input-143-2a284a121577>:331: MatplotlibDeprecationWarning: Case-insensitive properties were deprecated in 3.3 and support will be removed two minor releases later\n",
      "  ax10.set_xticklabels(lonTickLebelsStr, fontSize = tickFontSize)\n",
      "<ipython-input-143-2a284a121577>:367: MatplotlibDeprecationWarning: Case-insensitive properties were deprecated in 3.3 and support will be removed two minor releases later\n",
      "  ax11.set_yticklabels('', fontSize = tickFontSize)\n",
      "<ipython-input-143-2a284a121577>:370: MatplotlibDeprecationWarning: Case-insensitive properties were deprecated in 3.3 and support will be removed two minor releases later\n",
      "  ax11.set_xticklabels(lonTickLebelsStr, fontSize = tickFontSize)\n",
      "<ipython-input-143-2a284a121577>:394: MatplotlibDeprecationWarning: Case-insensitive properties were deprecated in 3.3 and support will be removed two minor releases later\n",
      "  ax12.set_yticklabels('', fontSize = tickFontSize)\n",
      "<ipython-input-143-2a284a121577>:397: MatplotlibDeprecationWarning: Case-insensitive properties were deprecated in 3.3 and support will be removed two minor releases later\n",
      "  ax12.set_xticklabels(lonTickLebelsStr, fontSize = tickFontSize)\n",
      "<ipython-input-143-2a284a121577>:407: UserWarning: This figure was using constrained_layout, but that is incompatible with subplots_adjust and/or tight_layout; disabling constrained_layout.\n",
      "  plt.subplots_adjust(left=0.13,\n",
      "C:\\Users\\muham\\anaconda3\\lib\\site-packages\\cartopy\\mpl\\style.py:90: UserWarning: facecolor will have no effect as it has been defined as \"never\".\n",
      "  warnings.warn('facecolor will have no effect as it has been '\n"
     ]
    },
    {
     "data": {
      "image/png": "[encoded data removed]",
      "text/plain": [
       "<Figure size 792x360 with 13 Axes>"
      ]
     },
     "metadata": {
      "needs_background": "light"
     },
     "output_type": "display_data"
    }
   ],
   "source": [
    "\n",
    "fraction_seasonMax = 2.8\n",
    "nDiv_seasonMax = int(vmax_jjaTot_scenEraThree - vmin_jjaTot_scenEraThree + 1)\n",
    "\n",
    "\n",
    "tickFontSize = 9\n",
    "textFontSize = 11\n",
    "legendFontSize = 10\n",
    "titleFontSize = 11\n",
    "\n",
    "\n",
    "cbarTickFontSize = 10\n",
    "cbarTextFontSize = 13\n",
    "\n",
    "\n",
    "linewidth = 0.7\n",
    "#++++++++++++++++++++\n",
    "\n",
    "# Plot for August\n",
    "#   https://stackoverflow.com/questions/7404116/defining-the-midpoint-of-a-colormap-in-matplotlib\n",
    "class MidpointNormalize(mpl.colors.Normalize):\n",
    "    def __init__(self, vmin, vmax, midpoint=0, clip=False):\n",
    "        self.midpoint = midpoint\n",
    "        mpl.colors.Normalize.__init__(self, vmin, vmax, clip)\n",
    "\n",
    "    def __call__(self, value, clip=None):\n",
    "        normalized_min = max(0, 1 / 2 * (1 - abs((self.midpoint - self.vmin) / (self.midpoint - self.vmax))))\n",
    "        normalized_max = min(1, 1 / 2 * (1 + abs((self.vmax - self.midpoint) / (self.midpoint - self.vmin))))\n",
    "        normalized_mid = 0.5\n",
    "        x, y = [self.vmin, self.midpoint, self.vmax], [normalized_min, normalized_mid, normalized_max]\n",
    "        return np.ma.masked_array(np.interp(value, x, y))\n",
    "\n",
    "\n",
    "norm = MidpointNormalize(vmin=vmin_jjaTot_scenEraThree, vmax=vmax_jjaTot_scenEraThree+0, midpoint=0)\n",
    "levels = np.linspace(vmin_jjaTot_scenEraThree, vmax_jjaTot_scenEraThree+0, int(nDiv_seasonMax/fraction_seasonMax)) # to draw 11 levels\n",
    "boundaries=np.linspace(vmin_jjaTot_scenEraThree,vmax_jjaTot_scenEraThree+0, int(nDiv_seasonMax/fraction_seasonMax))\n",
    "\n",
    "latTickLebelsStr = ['27', '37', '47', ]\n",
    "lonTickLebelsStr = ['115', '105', '95', '85', '75',]\n",
    "\n",
    "latTicks = [27, 37, 47]\n",
    "lonTicks = [-115, -105, -95, -85, -75]\n",
    "\n",
    "yLimLow = 27\n",
    "yLimHigh = 52.5\n",
    "\n",
    "xLimLow = -115\n",
    "xLimHigh = -75\n",
    "\n",
    "\n",
    "\n",
    "fig = plt.figure(figsize=(11, 5), constrained_layout=True)\n",
    "axs = [plt.subplot(4, 3, x + 1, projection = ccrs.PlateCarree()) for x in range(12)]\n",
    "\n",
    "print(axs)\n",
    "ax1 = axs[0]\n",
    "\n",
    "cp1 = ax1.contourf(x_Us, y_Us,param_djfTot_scenEraOne_diff_masked_Missi,transform=ccrs.PlateCarree(),cmap=cm.BrBG_r,levels = levels,norm=norm,)\n",
    "                              \n",
    "plt.grid(b=True, which='major', color='#666666', linestyle='-')\n",
    "\n",
    "\n",
    "ax1.add_feature(cfeature.RIVERS.with_scale('110m'), color='b', label='Rivers')     # couche rivières = was 50 m\n",
    "missi = cfeature.ShapelyFeature(basin_Missi, ccrs.PlateCarree())\n",
    "arkansas = cfeature.ShapelyFeature(basin_Arkansas, ccrs.PlateCarree())\n",
    "missouri = cfeature.ShapelyFeature(basin_Missouri, ccrs.PlateCarree())\n",
    "ohio = cfeature.ShapelyFeature(basin_Ohio, ccrs.PlateCarree())\n",
    "\n",
    "ax1.add_feature(missi,facecolor='none',edgecolor='black',linewidth=linewidth) # Mississippi\n",
    "ax1.add_feature(arkansas,facecolor='none',edgecolor='black',linewidth=linewidth) # Arkansas\n",
    "ax1.add_feature(missouri,facecolor='none',edgecolor='black',linewidth=linewidth) # Missouri\n",
    "ax1.add_feature(ohio,facecolor='none',edgecolor='black',linewidth=linewidth) # Ohio\n",
    "\n",
    "ax1.add_feature(cfeature.COASTLINE)\n",
    "ax1.set_xlim([xLimLow, xLimHigh])\n",
    "ax1.set_ylim([yLimLow, yLimHigh])\n",
    "\n",
    "ax1.set_yticks(latTicks) \n",
    "ax1.set_xticks(lonTicks) \n",
    "\n",
    "ax1.set_yticklabels(latTickLebelsStr, fontSize = tickFontSize)\n",
    "ax1.set_xticklabels('', fontSize = tickFontSize)\n",
    "\n",
    "ax1.set_title('(a)', x = 0.45, y=1.08, pad=-14, fontsize = textFontSize, loc='left')\n",
    "ax1.text(-108.0, 54, r'2015-2044', fontsize=titleFontSize)\n",
    "#++++++++++++++++++++++++++++++++++++++++++++++++++++++++++++++++++++++++++++++++++++++++++++++++++\n",
    "\n",
    "ax2 = axs[1]\n",
    "cp2 = ax2.contourf(x_Us, y_Us,param_djfTot_scenEraTwo_diff_masked_Missi,transform=ccrs.PlateCarree(),cmap=cm.BrBG_r,levels = levels,norm=norm,)\n",
    "\n",
    "p2 = ax2.get_position().get_points().flatten()\n",
    "\n",
    "plt.grid(b=True, which='major', color='#666666', linestyle='-')\n",
    "ax2.add_feature(cfeature.RIVERS.with_scale('110m'), color='b', label='Rivers')     # couche rivières = was 50 m\n",
    "\n",
    "ax2.add_feature(missi,facecolor='none',edgecolor='black',linewidth=linewidth) # Mississippi\n",
    "ax2.add_feature(arkansas,facecolor='none',edgecolor='black',linewidth=linewidth) # Arkansas\n",
    "ax2.add_feature(missouri,facecolor='none',edgecolor='black',linewidth=linewidth) # Missouri\n",
    "ax2.add_feature(ohio,facecolor='none',edgecolor='black',linewidth=linewidth) # Ohio\n",
    "\n",
    "ax2.add_feature(cfeature.COASTLINE)\n",
    "#ax2.set_xlim([-115, -75])\n",
    "#ax2.set_ylim([27, 52.5])\n",
    "ax2.set_xlim([xLimLow, xLimHigh])\n",
    "ax2.set_ylim([yLimLow, yLimHigh])\n",
    "\n",
    "ax2.set_yticks(latTicks) \n",
    "ax2.set_yticklabels('', fontSize = tickFontSize)\n",
    "\n",
    "ax2.set_xticks(lonTicks) \n",
    "ax2.set_xticklabels('', fontSize = tickFontSize)\n",
    "ax2.set_title('(b)', x = 0.45, y=1.08, pad=-14, fontsize = textFontSize, loc='left')\n",
    "ax2.text(-108.0, 54, r'2045-2074', fontsize=titleFontSize)\n",
    "#+++++++++++++++++++++++++++++++++++++++++++++++++++++++++++++++++++++++++++++++++++++++++++++++++\n",
    "#+++++++++++++++++++++++++++++++++++++++++++++++++++++++++++++++++++++++++++++++++++++++++++++++++\n",
    "\n",
    "\n",
    "ax3 = axs[2]\n",
    "cp3 = ax3.contourf(x_Us, y_Us,param_djfTot_scenEraThree_diff_masked_Missi,transform=ccrs.PlateCarree(),cmap=cm.BrBG_r,levels = levels,norm=norm,)\n",
    "\n",
    "plt.grid(b=True, which='major', color='#666666', linestyle='-')\n",
    "ax3.add_feature(cfeature.RIVERS.with_scale('110m'), color='b', label='Rivers')     # couche rivières = was 50 m\n",
    "\n",
    "ax3.add_feature(missi,facecolor='none',edgecolor='black',linewidth=linewidth) # Mississippi\n",
    "ax3.add_feature(arkansas,facecolor='none',edgecolor='black',linewidth=linewidth) # Arkansas\n",
    "ax3.add_feature(missouri,facecolor='none',edgecolor='black',linewidth=linewidth) # Missouri\n",
    "ax3.add_feature(ohio,facecolor='none',edgecolor='black',linewidth=linewidth) # Ohio\n",
    "\n",
    "ax3.add_feature(cfeature.COASTLINE)\n",
    "#ax3.set_xlim([-115, -75])\n",
    "#ax3.set_ylim([27, 52.5])\n",
    "ax3.set_xlim([xLimLow, xLimHigh])\n",
    "ax3.set_ylim([yLimLow, yLimHigh])\n",
    "\n",
    "ax3.set_yticks(latTicks) \n",
    "\n",
    "ax3.set_yticklabels('', fontSize = tickFontSize)\n",
    "ax3.set_xticks(lonTicks) \n",
    "ax3.set_xticklabels('', fontSize = tickFontSize)\n",
    "ax3.set_title('(c)', x = 0.45, y=1.08, pad=-14, fontsize = textFontSize, loc='left')\n",
    "ax3.text(-108.0, 54, r'2075-2100', fontsize=titleFontSize)\n",
    "#+++++++++++++++++++++++++++++++++++++++++++++++++++++++++++++++++++++++++++++++++++++++++++\n",
    "#+++++++++++++++++++++++++++++++++++++++++++++++++++++++++++++++++++++++++++++++++++++++++++\n",
    "\n",
    "\n",
    "ax4 = axs[3]\n",
    "cp4 = ax4.contourf(x_Us, y_Us,param_mamTot_scenEraOne_diff_masked_Missi,transform=ccrs.PlateCarree(),cmap=cm.BrBG_r,levels = levels,norm=norm,)\n",
    "\n",
    "plt.grid(b=True, which='major', color='#666666', linestyle='-')\n",
    "\n",
    "ax4.add_feature(cfeature.RIVERS.with_scale('110m'), color='b', label='Rivers')     # couche rivières = was 50 m\n",
    "ax4.add_feature(missi,facecolor='none',edgecolor='black',linewidth=linewidth) # Mississippi\n",
    "ax4.add_feature(arkansas,facecolor='none',edgecolor='black',linewidth=linewidth) # Arkansas\n",
    "ax4.add_feature(missouri,facecolor='none',edgecolor='black',linewidth=linewidth) # Missouri\n",
    "ax4.add_feature(ohio,facecolor='none',edgecolor='black',linewidth=linewidth) # Ohio\n",
    "\n",
    "ax4.add_feature(cfeature.COASTLINE)\n",
    "#ax4.set_xlim([-115, -75])\n",
    "#ax4.set_ylim([27, 52.5])\n",
    "ax4.set_xlim([xLimLow, xLimHigh])\n",
    "ax4.set_ylim([yLimLow, yLimHigh])\n",
    "\n",
    "\n",
    "ax4.set_yticks(latTicks) \n",
    "ax4.set_xticks(lonTicks) \n",
    "\n",
    "ax4.set_yticklabels(latTickLebelsStr, fontSize = tickFontSize)\n",
    "ax4.set_xticklabels('', fontSize = tickFontSize)\n",
    "ax4.set_ylabel('Latitude (°N)', fontsize = titleFontSize, y=-0.15)\n",
    "\n",
    "ax4.set_title('(d)', x = 0.45, y=1.08, pad=-14, fontsize = textFontSize, loc='left')\n",
    "#+++++++++++++++++++++++++++++++++++++++++++++++++++++++++++++++++++++++++++\n",
    "\n",
    "ax5 = axs[4]\n",
    "cp5 = ax5.contourf(x_Us, y_Us,param_mamTot_scenEraTwo_diff_masked_Missi,transform=ccrs.PlateCarree(),cmap=cm.BrBG_r,levels = levels,norm=norm,)\n",
    "\n",
    "p5 = ax5.get_position().get_points().flatten()\n",
    "\n",
    "plt.grid(b=True, which='major', color='#666666', linestyle='-')\n",
    "ax5.add_feature(cfeature.RIVERS.with_scale('110m'), color='b', label='Rivers')     # couche rivières = was 50 m\n",
    "\n",
    "ax5.add_feature(missi,facecolor='none',edgecolor='black',linewidth=linewidth) # Mississippi\n",
    "ax5.add_feature(arkansas,facecolor='none',edgecolor='black',linewidth=linewidth) # Arkansas\n",
    "ax5.add_feature(missouri,facecolor='none',edgecolor='black',linewidth=linewidth) # Missouri\n",
    "ax5.add_feature(ohio,facecolor='none',edgecolor='black',linewidth=linewidth) # Ohio\n",
    "\n",
    "ax5.add_feature(cfeature.COASTLINE)\n",
    "#ax5.set_xlim([-115, -75])\n",
    "#ax5.set_ylim([27, 52.5])\n",
    "ax5.set_xlim([xLimLow, xLimHigh])\n",
    "ax5.set_ylim([yLimLow, yLimHigh])\n",
    "\n",
    "\n",
    "ax5.set_yticks(latTicks) \n",
    "ax5.set_yticklabels('', fontSize = tickFontSize)\n",
    "\n",
    "ax5.set_xticks(lonTicks) \n",
    "ax5.set_xticklabels('', fontSize = tickFontSize)\n",
    "ax5.set_title('(e)', x = 0.45, y=1.08, pad=-14, fontsize = textFontSize, loc='left')\n",
    "#+++++++++++++++++++++++++++++++++++++++++++++++++++++++++++++++++++++++++++++++++++++++++++++++++\n",
    "\n",
    "ax6 = axs[5]\n",
    "cp6 = ax6.contourf(x_Us, y_Us,param_mamTot_scenEraThree_diff_masked_Missi,transform=ccrs.PlateCarree(),cmap=cm.BrBG_r,levels = levels,norm=norm,)\n",
    "\n",
    "plt.grid(b=True, which='major', color='#666666', linestyle='-')\n",
    "ax6.add_feature(cfeature.RIVERS.with_scale('110m'), color='b', label='Rivers')     # couche rivières = was 50 m\n",
    "\n",
    "ax6.add_feature(missi,facecolor='none',edgecolor='black',linewidth=linewidth) # Mississippi\n",
    "ax6.add_feature(arkansas,facecolor='none',edgecolor='black',linewidth=linewidth) # Arkansas\n",
    "ax6.add_feature(missouri,facecolor='none',edgecolor='black',linewidth=linewidth) # Missouri\n",
    "ax6.add_feature(ohio,facecolor='none',edgecolor='black',linewidth=linewidth) # Ohio\n",
    "\n",
    "ax6.add_feature(cfeature.COASTLINE)\n",
    "#ax6.set_xlim([-115, -75])\n",
    "#ax6.set_ylim([27, 52.5])\n",
    "ax6.set_xlim([xLimLow, xLimHigh])\n",
    "ax6.set_ylim([yLimLow, yLimHigh])\n",
    "\n",
    "ax6.set_yticks(latTicks) \n",
    "\n",
    "ax6.set_yticklabels('', fontSize = tickFontSize)\n",
    "\n",
    "ax6.set_xticks(lonTicks) \n",
    "ax6.set_xticklabels('', fontSize = tickFontSize)\n",
    "\n",
    "ax6.set_title('(f)', x = 0.45, y=1.08, pad=-14, fontsize = textFontSize, loc='left')\n",
    "#+++++++++++++++++++++++++++++++++++++++++++++++++++++++++++++++++++++++++++++++++++++++++++\n",
    "\n",
    "\n",
    "ax7 = axs[6]\n",
    "cp7 = ax7.contourf(x_Us, y_Us,param_jjaTot_scenEraOne_diff_masked_Missi,transform=ccrs.PlateCarree(),cmap=cm.BrBG_r,levels = levels,norm=norm,)\n",
    "\n",
    "plt.grid(b=True, which='major', color='#666666', linestyle='-')\n",
    "\n",
    "\n",
    "ax7.add_feature(cfeature.RIVERS.with_scale('110m'), color='b', label='Rivers')     # couche rivières = was 50 m\n",
    "ax7.add_feature(missi,facecolor='none',edgecolor='black',linewidth=linewidth) # Mississippi\n",
    "ax7.add_feature(arkansas,facecolor='none',edgecolor='black',linewidth=linewidth) # Arkansas\n",
    "ax7.add_feature(missouri,facecolor='none',edgecolor='black',linewidth=linewidth) # Missouri\n",
    "ax7.add_feature(ohio,facecolor='none',edgecolor='black',linewidth=linewidth) # Ohio\n",
    "\n",
    "ax7.add_feature(cfeature.COASTLINE)\n",
    "#ax7.set_xlim([-115, -75])\n",
    "#ax7.set_ylim([27, 52.5])\n",
    "ax7.set_xlim([xLimLow, xLimHigh])\n",
    "ax7.set_ylim([yLimLow, yLimHigh])\n",
    "\n",
    "ax7.set_yticks(latTicks) \n",
    "ax7.set_xticks(lonTicks) \n",
    "\n",
    "ax7.set_yticklabels(latTickLebelsStr, fontSize = tickFontSize)\n",
    "ax7.set_xticklabels('', fontSize = tickFontSize)\n",
    "ax7.set_title('(g)', x = 0.45, y=1.08, pad=-14, fontsize = textFontSize, loc='left')\n",
    "#+++++++++++++++++++++++++++++++++++++++++++++++++++++++++++++++++++++++++++\n",
    "\n",
    "ax8 = axs[7]\n",
    "cp8 = ax8.contourf(x_Us, y_Us,param_jjaTot_scenEraTwo_diff_masked_Missi,transform=ccrs.PlateCarree(),cmap=cm.BrBG_r,levels = levels,norm=norm,)\n",
    "\n",
    "p8 = ax8.get_position().get_points().flatten()\n",
    "\n",
    "plt.grid(b=True, which='major', color='#666666', linestyle='-')\n",
    "ax8.add_feature(cfeature.RIVERS.with_scale('110m'), color='b', label='Rivers')     # couche rivières = was 50 m\n",
    "\n",
    "ax8.add_feature(missi,facecolor='none',edgecolor='black',linewidth=linewidth) # Mississippi\n",
    "ax8.add_feature(arkansas,facecolor='none',edgecolor='black',linewidth=linewidth) # Arkansas\n",
    "ax8.add_feature(missouri,facecolor='none',edgecolor='black',linewidth=linewidth) # Missouri\n",
    "ax8.add_feature(ohio,facecolor='none',edgecolor='black',linewidth=linewidth) # Ohio\n",
    "\n",
    "ax8.add_feature(cfeature.COASTLINE)\n",
    "#ax8.set_xlim([-115, -75])\n",
    "#ax8.set_ylim([27, 52.5])\n",
    "ax8.set_xlim([xLimLow, xLimHigh])\n",
    "ax8.set_ylim([yLimLow, yLimHigh])\n",
    "\n",
    "\n",
    "ax8.set_yticks(latTicks) \n",
    "\n",
    "ax8.set_yticklabels('', fontSize = tickFontSize)\n",
    "ax8.set_xticks(lonTicks) \n",
    "ax8.set_xticklabels('', fontSize = tickFontSize)\n",
    "ax8.set_title('(h)', x = 0.45, y=1.08, pad=-14, fontsize = textFontSize, loc='left')\n",
    "#+++++++++++++++++++++++++++++++++++++++++++++++++++++++++++++++++++++++++++++++++++++++++++++++++\n",
    "\n",
    "ax9 = axs[8]\n",
    "cp9 = ax9.contourf(x_Us, y_Us,param_jjaTot_scenEraThree_diff_masked_Missi,transform=ccrs.PlateCarree(),cmap=cm.BrBG_r,levels = levels,norm=norm,)\n",
    "\n",
    "plt.grid(b=True, which='major', color='#666666', linestyle='-')\n",
    "ax9.add_feature(cfeature.RIVERS.with_scale('110m'), color='b', label='Rivers')     # couche rivières = was 50 m\n",
    "\n",
    "ax9.add_feature(missi,facecolor='none',edgecolor='black',linewidth=linewidth) # Mississippi\n",
    "ax9.add_feature(arkansas,facecolor='none',edgecolor='black',linewidth=linewidth) # Arkansas\n",
    "ax9.add_feature(missouri,facecolor='none',edgecolor='black',linewidth=linewidth) # Missouri\n",
    "ax9.add_feature(ohio,facecolor='none',edgecolor='black',linewidth=linewidth) # Ohio\n",
    "\n",
    "ax9.add_feature(cfeature.COASTLINE)\n",
    "#ax9.set_xlim([-115, -75])\n",
    "#ax9.set_ylim([27, 52.5])\n",
    "ax9.set_xlim([xLimLow, xLimHigh])\n",
    "ax9.set_ylim([yLimLow, yLimHigh])\n",
    "\n",
    "ax9.set_yticks(latTicks) \n",
    "\n",
    "ax9.set_yticklabels('', fontSize = tickFontSize)\n",
    "ax9.set_xticks(lonTicks) \n",
    "ax9.set_xticklabels('', fontSize = tickFontSize)\n",
    "ax9.set_title('(i)', x = 0.45, y=1.08, pad=-14, fontsize = textFontSize, loc='left')\n",
    "#+++++++++++++++++++++++++++++++++++++++++++++++++++++++++++++++++++++++++++++++++++++++++++\n",
    "\n",
    "\n",
    "ax10 = axs[9]\n",
    "cp10 = ax10.contourf(x_Us, y_Us,param_sonTot_scenEraOne_diff_masked_Missi,transform=ccrs.PlateCarree(),cmap=cm.BrBG_r,levels = levels,norm=norm,)\n",
    "\n",
    "plt.grid(b=True, which='major', color='#666666', linestyle='-')\n",
    "\n",
    "\n",
    "ax10.add_feature(cfeature.RIVERS.with_scale('110m'), color='b', label='Rivers')     # couche rivières = was 50 m\n",
    "ax10.add_feature(missi,facecolor='none',edgecolor='black',linewidth=linewidth) # Mississippi\n",
    "ax10.add_feature(arkansas,facecolor='none',edgecolor='black',linewidth=linewidth) # Arkansas\n",
    "ax10.add_feature(missouri,facecolor='none',edgecolor='black',linewidth=linewidth) # Missouri\n",
    "ax10.add_feature(ohio,facecolor='none',edgecolor='black',linewidth=linewidth) # Ohio\n",
    "\n",
    "ax10.add_feature(cfeature.COASTLINE)\n",
    "#ax10.set_xlim([-115, -75])\n",
    "#ax10.set_ylim([27, 52.5])\n",
    "ax10.set_xlim([xLimLow, xLimHigh])\n",
    "ax10.set_ylim([yLimLow, yLimHigh])\n",
    "\n",
    "ax10.set_yticks(latTicks) \n",
    "ax10.set_xticks(lonTicks) \n",
    "\n",
    "ax10.set_yticklabels(latTickLebelsStr, fontSize = tickFontSize)\n",
    "ax10.set_xticklabels(lonTickLebelsStr, fontSize = tickFontSize)\n",
    "ax10.set_title('(j)', x = 0.45, y=1.08, pad=-14, fontsize = textFontSize, loc='left')\n",
    "#+++++++++++++++++++++++++++++++++++++++++++++++++++++++++++++++++++++++++++\n",
    "\n",
    "\n",
    "ax11 = axs[10]\n",
    "cp11 = ax11.contourf(x_Us, y_Us,param_sonTot_scenEraTwo_diff_masked_Missi,transform=ccrs.PlateCarree(),cmap=cm.BrBG_r,levels = levels,norm=norm,)\n",
    "\n",
    "p11 = ax11.get_position().get_points().flatten()\n",
    "cbax11 = fig.add_axes([p11[0]+0.18, +0.02, (p11[2]-p11[0])*0.12, 0.9])\n",
    "\n",
    "cbar11 =plt.colorbar(cp11, ax=ax11, cax=cbax11, shrink=.5, ticks=boundaries, orientation = 'vertical') \n",
    "cbar11.ax.tick_params(labelsize = cbarTickFontSize)  # set your label size here\n",
    "\n",
    "for label in cbar11.ax.yaxis.get_ticklabels()[1::2]:\n",
    "    label.set_visible(False)\n",
    "    \n",
    "cbar11.set_label(\"mm/mon\", fontsize = cbarTextFontSize)\n",
    "\n",
    "\n",
    "plt.grid(b=True, which='major', color='#666666', linestyle='-')\n",
    "ax11.add_feature(cfeature.RIVERS.with_scale('110m'), color='b', label='Rivers')     # couche rivières = was 50 m\n",
    "\n",
    "ax11.add_feature(missi,facecolor='none',edgecolor='black',linewidth=linewidth) # Mississippi\n",
    "ax11.add_feature(arkansas,facecolor='none',edgecolor='black',linewidth=linewidth) # Arkansas\n",
    "ax11.add_feature(missouri,facecolor='none',edgecolor='black',linewidth=linewidth) # Missouri\n",
    "ax11.add_feature(ohio,facecolor='none',edgecolor='black',linewidth=linewidth) # Ohio\n",
    "\n",
    "ax11.add_feature(cfeature.COASTLINE)\n",
    "#ax11.set_xlim([-115, -75])\n",
    "#ax11.set_ylim([27, 52.5])\n",
    "ax11.set_xlim([xLimLow, xLimHigh])\n",
    "ax11.set_ylim([yLimLow, yLimHigh])\n",
    "\n",
    "ax11.set_yticks(latTicks) \n",
    "\n",
    "ax11.set_yticklabels('', fontSize = tickFontSize)\n",
    "ax11.set_xticks(lonTicks) \n",
    "\n",
    "ax11.set_xticklabels(lonTickLebelsStr, fontSize = tickFontSize)\n",
    "ax11.set_xlabel('Longitude (°W)', fontsize = titleFontSize)\n",
    "ax11.set_title('(k)', x = 0.45, y=1.08, pad=-14, fontsize = textFontSize, loc='left')\n",
    "#+++++++++++++++++++++++++++++++++++++++++++++++++++++++++++++++++++++++++++++++++++++++++++++++++\n",
    "\n",
    "ax12 = axs[11]\n",
    "cp12 = ax12.contourf(x_Us, y_Us,param_sonTot_scenEraThree_diff_masked_Missi,transform=ccrs.PlateCarree(),cmap=cm.BrBG_r,levels = levels,norm=norm,)\n",
    "\n",
    "plt.grid(b=True, which='major', color='#666666', linestyle='-')\n",
    "ax12.add_feature(cfeature.RIVERS.with_scale('110m'), color='b', label='Rivers')     # couche rivières = was 50 m\n",
    "\n",
    "ax12.add_feature(missi,facecolor='none',edgecolor='black',linewidth=linewidth) # Mississippi\n",
    "ax12.add_feature(arkansas,facecolor='none',edgecolor='black',linewidth=linewidth) # Arkansas\n",
    "ax12.add_feature(missouri,facecolor='none',edgecolor='black',linewidth=linewidth) # Missouri\n",
    "ax12.add_feature(ohio,facecolor='none',edgecolor='black',linewidth=linewidth) # Ohio\n",
    "\n",
    "ax12.add_feature(cfeature.COASTLINE)\n",
    "#ax12.set_xlim([-115, -75])\n",
    "#ax12.set_ylim([27, 52.5])\n",
    "ax12.set_xlim([xLimLow, xLimHigh])\n",
    "ax12.set_ylim([yLimLow, yLimHigh])\n",
    "\n",
    "ax12.set_yticks(latTicks) \n",
    "\n",
    "ax12.set_yticklabels('', fontSize = tickFontSize)\n",
    "ax12.set_xticks(lonTicks) \n",
    "\n",
    "ax12.set_xticklabels(lonTickLebelsStr, fontSize = tickFontSize)\n",
    "ax12.set_title('(l)', x = 0.45, y=1.08, pad=-14, fontsize = textFontSize, loc='left')\n",
    "#+++++++++++++++++++++++++++++++++++++++++++++++++++++++++++++++++++++++++++++++++++++++++++\n",
    "#+++++++++++++++++++++++++++++++++++++++++++++++++++++++++++++++++++++++++++++++++++++++++++++++++\n",
    "\n",
    "plt.text(-145, 18, 'DJF', fontsize=titleFontSize)\n",
    "plt.text(-169, 4, 'MAM', fontsize=titleFontSize)\n",
    "plt.text(-137, -10, 'JJA', fontsize=titleFontSize)\n",
    "plt.text(-160, -24, 'SON', fontsize=titleFontSize)\n",
    "\n",
    "plt.subplots_adjust(left=0.13,\n",
    "                    bottom=0.1,\n",
    "                    right=0.6,\n",
    "                    top=0.9,\n",
    "                    wspace=0.1,\n",
    "                    hspace=0.2)\n",
    "import warnings\n",
    "\n",
    "with warnings.catch_warnings():\n",
    "    warnings.filterwarnings(\"ignore\", category=DeprecationWarning)\n",
    "\n",
    "#plt.savefig(r'C:\\rezaul\\1.academic\\1.research\\2.project\\mrb\\output\\fig\\paperOne\\param\\et\\seasonal\\tcfEtSeasMap.pdf') \n",
    "#plt.savefig(r'C:\\rezaul\\1.academic\\1.research\\2.project\\mrb\\output\\fig\\paperOne\\param\\et\\seasonal\\tcfEtSeasMap.png', dpi=600)  \n",
    "\n",
    "\n",
    "\n",
    "plt.show()\n",
    "#++++++++++++++++++++++++++++++++++++++++++++++++++++++++++++++++++++++++++++++++++++++++++++++++++\n",
    "#++++++++++++++++++++++++++++++++++++++++++++++++++++++++++++++++++++++++++++++++++"
   ]
  },
  {
   "cell_type": "code",
   "execution_count": null,
   "metadata": {},
   "outputs": [],
   "source": []
  },
  {
   "cell_type": "code",
   "execution_count": null,
   "metadata": {},
   "outputs": [],
   "source": []
  },
  {
   "cell_type": "code",
   "execution_count": null,
   "metadata": {},
   "outputs": [],
   "source": []
  },
  {
   "cell_type": "code",
   "execution_count": 144,
   "metadata": {},
   "outputs": [
    {
     "ename": "SyntaxError",
     "evalue": "invalid syntax (<ipython-input-144-5b483f7718ca>, line 1)",
     "output_type": "error",
     "traceback": [
      "\u001b[1;36m  File \u001b[1;32m\"<ipython-input-144-5b483f7718ca>\"\u001b[1;36m, line \u001b[1;32m1\u001b[0m\n\u001b[1;33m    STOP here ===============\u001b[0m\n\u001b[1;37m         ^\u001b[0m\n\u001b[1;31mSyntaxError\u001b[0m\u001b[1;31m:\u001b[0m invalid syntax\n"
     ]
    }
   ],
   "source": [
    "STOP here ==============="
   ]
  },
  {
   "cell_type": "code",
   "execution_count": null,
   "metadata": {},
   "outputs": [],
   "source": []
  },
  {
   "cell_type": "code",
   "execution_count": null,
   "metadata": {},
   "outputs": [],
   "source": []
  },
  {
   "cell_type": "code",
   "execution_count": null,
   "metadata": {},
   "outputs": [],
   "source": []
  },
  {
   "cell_type": "code",
   "execution_count": null,
   "metadata": {},
   "outputs": [],
   "source": []
  }
 ],
 "metadata": {
  "kernelspec": {
   "display_name": "Python 3",
   "language": "python",
   "name": "python3"
  },
  "language_info": {
   "codemirror_mode": {
    "name": "ipython",
    "version": 3
   },
   "file_extension": ".py",
   "mimetype": "text/x-python",
   "name": "python",
   "nbconvert_exporter": "python",
   "pygments_lexer": "ipython3",
   "version": "3.8.5"
  }
 },
 "nbformat": 4,
 "nbformat_minor": 4
}
