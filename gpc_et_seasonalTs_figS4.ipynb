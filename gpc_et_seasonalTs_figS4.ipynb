{
 "cells": [
  {
   "cell_type": "markdown",
   "metadata": {},
   "source": [
    "## This script reads CESM2 ET data downloaded from Casper in NCAR (Fig S4)"
   ]
  },
  {
   "cell_type": "markdown",
   "metadata": {},
   "source": [
    "## Import Libraries"
   ]
  },
  {
   "cell_type": "code",
   "execution_count": 1,
   "metadata": {},
   "outputs": [],
   "source": [
    "import numpy as np\n",
    "import pandas as pd\n",
    "import datetime\n",
    "import xarray as xr\n",
    "import seaborn as sns\n",
    "import warnings\n",
    "from matplotlib import pyplot as plt \n",
    "import matplotlib as mpl\n",
    "import shapefile as shp\n",
    "import cartopy.io.shapereader as shpreader\n",
    "from numpy import linspace\n",
    "from numpy import meshgrid\n",
    "import matplotlib.colors as colors\n",
    "from numpy import array, ma\n",
    "import cartopy.crs as ccrs\n",
    "import matplotlib.cm as cm\n",
    "import cartopy.feature as cfeature"
   ]
  },
  {
   "cell_type": "markdown",
   "metadata": {},
   "source": [
    "## Read Lat, Lon data for the selected Domain processed from \"GLADE\" in Casper"
   ]
  },
  {
   "cell_type": "markdown",
   "metadata": {},
   "source": [
    "## Lat"
   ]
  },
  {
   "cell_type": "code",
   "execution_count": 2,
   "metadata": {},
   "outputs": [
    {
     "name": "stdout",
     "output_type": "stream",
     "text": [
      "(32,)\n",
      "[24.973822 25.916231 26.858639 27.801046 28.743456 29.685863 30.628273\n",
      " 31.57068  32.51309  33.455498 34.397907 35.340313 36.282722 37.225132\n",
      " 38.167538 39.109947 40.052357 40.994766 41.937172 42.87958  43.82199\n",
      " 44.764397 45.706806 46.649216 47.59162  48.53403  49.47644  50.41885\n",
      " 51.361256 52.303665 53.246075 54.18848 ]\n"
     ]
    }
   ],
   "source": [
    "file_LatUs = 'C:/rezaul/1.academic/1.research/2.project/mrb/dt/cesm/cesm2LE/param/precip/mon/latsUsArr.npy'\n",
    "lats_US = np.load(file_LatUs)\n",
    "print(lats_US.shape)\n",
    "print(lats_US)\n",
    "\n",
    "latUs_cesm2 = lats_US"
   ]
  },
  {
   "cell_type": "markdown",
   "metadata": {},
   "source": [
    "## Lon"
   ]
  },
  {
   "cell_type": "code",
   "execution_count": 3,
   "metadata": {},
   "outputs": [
    {
     "name": "stdout",
     "output_type": "stream",
     "text": [
      "(56,)\n",
      "[230.   231.25 232.5  233.75 235.   236.25 237.5  238.75 240.   241.25\n",
      " 242.5  243.75 245.   246.25 247.5  248.75 250.   251.25 252.5  253.75\n",
      " 255.   256.25 257.5  258.75 260.   261.25 262.5  263.75 265.   266.25\n",
      " 267.5  268.75 270.   271.25 272.5  273.75 275.   276.25 277.5  278.75\n",
      " 280.   281.25 282.5  283.75 285.   286.25 287.5  288.75 290.   291.25\n",
      " 292.5  293.75 295.   296.25 297.5  298.75]\n"
     ]
    }
   ],
   "source": [
    "file_LonUs = 'C:/rezaul/1.academic/1.research/2.project/mrb/dt/cesm/cesm2LE/param/precip/mon/lonsUsArr.npy'\n",
    "lons_US = np.load(file_LonUs)\n",
    "print(lons_US.shape)\n",
    "print(lons_US)\n",
    "\n",
    "lonUs_cesm2 = lons_US"
   ]
  },
  {
   "cell_type": "markdown",
   "metadata": {},
   "source": [
    "## Using data from Ensemble Members"
   ]
  },
  {
   "cell_type": "markdown",
   "metadata": {},
   "source": [
    "### Historical (1850-2014): 1980 months"
   ]
  },
  {
   "cell_type": "code",
   "execution_count": 4,
   "metadata": {},
   "outputs": [
    {
     "name": "stdout",
     "output_type": "stream",
     "text": [
      "(1980, 32, 56, 50)\n"
     ]
    },
    {
     "data": {
      "text/plain": [
       "9.999999616903162e+35"
      ]
     },
     "execution_count": 4,
     "metadata": {},
     "output_type": "execute_result"
    }
   ],
   "source": [
    "file_hist_ensMems = 'C:/rezaul/1.academic/1.research/2.project/mrb/dt/cesm/cesm2LE/param/et/mon/monEtUsHistEnsMems.npy'\n",
    "file_hist_ensMems_loaded = np.load(file_hist_ensMems)\n",
    "print(file_hist_ensMems_loaded.shape)\n",
    "maxVal = np.nanmax(file_hist_ensMems_loaded)\n",
    "maxVal"
   ]
  },
  {
   "cell_type": "code",
   "execution_count": 5,
   "metadata": {},
   "outputs": [
    {
     "name": "stdout",
     "output_type": "stream",
     "text": [
      "(1980, 32, 56)\n"
     ]
    }
   ],
   "source": [
    "file_hist_ensMean = 'C:/rezaul/1.academic/1.research/2.project/mrb/dt/cesm/cesm2LE/param/et/mon/monEtUsHistEnsMean.npy'\n",
    "file_hist_ensMean_loaded = np.load(file_hist_ensMean)\n",
    "print(file_hist_ensMean_loaded.shape)"
   ]
  },
  {
   "cell_type": "markdown",
   "metadata": {},
   "source": [
    "## Historical years and 3 time periods (i.e., Era) in Scenario years"
   ]
  },
  {
   "cell_type": "code",
   "execution_count": 6,
   "metadata": {},
   "outputs": [
    {
     "name": "stdout",
     "output_type": "stream",
     "text": [
      "12\n"
     ]
    }
   ],
   "source": [
    "nMonsPerYr = 12     \n",
    "print(nMonsPerYr)"
   ]
  },
  {
   "cell_type": "code",
   "execution_count": 7,
   "metadata": {},
   "outputs": [],
   "source": [
    "histYrSt = 1850\n",
    "histYrSelSt = 1930\n",
    "\n",
    "refPeriodYrSt = 1971\n",
    "refPeriodYrEnd = 2000\n",
    "\n",
    "scenYrSt = 2015\n",
    "scenEraTwoYrSt = 2045\n",
    "scenEraThreeYrSt = 2075\n",
    "\n",
    "scenYrEnd = 2100\n",
    "#"
   ]
  },
  {
   "cell_type": "code",
   "execution_count": 8,
   "metadata": {},
   "outputs": [
    {
     "name": "stdout",
     "output_type": "stream",
     "text": [
      "960\n"
     ]
    }
   ],
   "source": [
    "refPeriodStepSt = (histYrSelSt - histYrSt)*nMonsPerYr\n",
    "print(refPeriodStepSt)"
   ]
  },
  {
   "cell_type": "code",
   "execution_count": 9,
   "metadata": {},
   "outputs": [
    {
     "name": "stdout",
     "output_type": "stream",
     "text": [
      "(1020, 32, 56)\n"
     ]
    }
   ],
   "source": [
    "file_histSel_ensMean_loaded = file_hist_ensMean_loaded[refPeriodStepSt::, :, :]\n",
    "print(file_histSel_ensMean_loaded.shape)"
   ]
  },
  {
   "cell_type": "markdown",
   "metadata": {},
   "source": [
    "### Scenario (2015-2100)"
   ]
  },
  {
   "cell_type": "code",
   "execution_count": 10,
   "metadata": {},
   "outputs": [
    {
     "name": "stdout",
     "output_type": "stream",
     "text": [
      "(1032, 32, 56, 50)\n"
     ]
    },
    {
     "data": {
      "text/plain": [
       "9.999999616903162e+35"
      ]
     },
     "execution_count": 10,
     "metadata": {},
     "output_type": "execute_result"
    }
   ],
   "source": [
    "file_scen_ensMems = 'C:/rezaul/1.academic/1.research/2.project/mrb/dt/cesm/cesm2LE/param/et/mon/monEtUsScenEnsMems.npy'\n",
    "file_scen_ensMems_loaded = np.load(file_scen_ensMems)\n",
    "print(file_scen_ensMems_loaded.shape)\n",
    "maxVal = np.nanmax(file_scen_ensMems_loaded)\n",
    "maxVal"
   ]
  },
  {
   "cell_type": "code",
   "execution_count": 11,
   "metadata": {},
   "outputs": [
    {
     "name": "stdout",
     "output_type": "stream",
     "text": [
      "(1032, 32, 56)\n"
     ]
    }
   ],
   "source": [
    "file_scen_ensMean = 'C:/rezaul/1.academic/1.research/2.project/mrb/dt/cesm/cesm2LE/param/et/mon/monEtUsScenEnsMean.npy'\n",
    "file_scen_ensMean_loaded = np.load(file_scen_ensMean)\n",
    "print(file_scen_ensMean_loaded.shape)"
   ]
  },
  {
   "cell_type": "markdown",
   "metadata": {},
   "source": [
    "## Concatenate two data arrays"
   ]
  },
  {
   "cell_type": "code",
   "execution_count": 12,
   "metadata": {},
   "outputs": [
    {
     "name": "stdout",
     "output_type": "stream",
     "text": [
      "(1020, 32, 56)\n",
      "(1032, 32, 56)\n"
     ]
    }
   ],
   "source": [
    "print(file_histSel_ensMean_loaded.shape)\n",
    "print(file_scen_ensMean_loaded.shape)\n"
   ]
  },
  {
   "cell_type": "code",
   "execution_count": 13,
   "metadata": {},
   "outputs": [
    {
     "name": "stdout",
     "output_type": "stream",
     "text": [
      "(2052, 32, 56)\n"
     ]
    }
   ],
   "source": [
    "param_histSel_scen_ensMean_Us = np.concatenate((file_histSel_ensMean_loaded, file_scen_ensMean_loaded), axis=0)\n",
    "print(param_histSel_scen_ensMean_Us.shape)"
   ]
  },
  {
   "cell_type": "markdown",
   "metadata": {},
   "source": [
    "## Writing in an Xarray Data array"
   ]
  },
  {
   "cell_type": "code",
   "execution_count": 14,
   "metadata": {},
   "outputs": [
    {
     "name": "stdout",
     "output_type": "stream",
     "text": [
      "(2052, 32, 56)\n"
     ]
    }
   ],
   "source": [
    "print(param_histSel_scen_ensMean_Us.shape)"
   ]
  },
  {
   "cell_type": "code",
   "execution_count": 15,
   "metadata": {},
   "outputs": [
    {
     "name": "stdout",
     "output_type": "stream",
     "text": [
      "2052\n",
      "32\n",
      "56\n"
     ]
    }
   ],
   "source": [
    "t_histSel_scen, y_Us, x_Us = param_histSel_scen_ensMean_Us.shape\n",
    "\n",
    "print(t_histSel_scen)\n",
    "print(y_Us)\n",
    "print(x_Us)"
   ]
  },
  {
   "cell_type": "code",
   "execution_count": 16,
   "metadata": {},
   "outputs": [],
   "source": [
    "Month_steps = [x for x in range(t_histSel_scen)]\n",
    "#print(Month_steps)\n"
   ]
  },
  {
   "cell_type": "code",
   "execution_count": 17,
   "metadata": {},
   "outputs": [
    {
     "name": "stdout",
     "output_type": "stream",
     "text": [
      "(2052, 32, 56)\n"
     ]
    }
   ],
   "source": [
    "param_histSel_scen_ensMean_Us_xarray = xr.DataArray(param_histSel_scen_ensMean_Us, coords=[Month_steps, latUs_cesm2, lonUs_cesm2], dims=[\"Month_steps\",\"Lat\",\"Lon\"])\n",
    "print(param_histSel_scen_ensMean_Us_xarray.shape)\n",
    "#print(param_histSel_scen_ensMean_Us_xarray)"
   ]
  },
  {
   "cell_type": "markdown",
   "metadata": {},
   "source": [
    "## Masking files for the US Domain only"
   ]
  },
  {
   "cell_type": "markdown",
   "metadata": {},
   "source": [
    "## Mississippi"
   ]
  },
  {
   "cell_type": "code",
   "execution_count": 18,
   "metadata": {},
   "outputs": [
    {
     "name": "stdout",
     "output_type": "stream",
     "text": [
      "C:/rezaul/1.academic/1.research/2.project/mrb/dt/shapeFile/mask/mrb_us/mask_missiWri_us_CESM_longThree.nc\n"
     ]
    }
   ],
   "source": [
    "MaskFile_Missi_to_load = 'C:/rezaul/1.academic/1.research/2.project/mrb/dt/shapeFile/mask/mrb_us/mask_missiWri_us_CESM_longThree.nc'\n",
    "print(MaskFile_Missi_to_load)"
   ]
  },
  {
   "cell_type": "code",
   "execution_count": 19,
   "metadata": {},
   "outputs": [
    {
     "name": "stdout",
     "output_type": "stream",
     "text": [
      "<xarray.DataArray 'Mask' (Lat: 32, Lon: 56)>\n",
      "array([[0, 0, 0, ..., 0, 0, 0],\n",
      "       [0, 0, 0, ..., 0, 0, 0],\n",
      "       [0, 0, 0, ..., 0, 0, 0],\n",
      "       ...,\n",
      "       [0, 0, 0, ..., 0, 0, 0],\n",
      "       [0, 0, 0, ..., 0, 0, 0],\n",
      "       [0, 0, 0, ..., 0, 0, 0]])\n",
      "Coordinates:\n",
      "  * Lat      (Lat) float32 24.97 25.92 26.86 27.8 ... 51.36 52.3 53.25 54.19\n",
      "  * Lon      (Lon) float32 230.0 231.2 232.5 233.8 ... 295.0 296.2 297.5 298.8\n"
     ]
    },
    {
     "name": "stderr",
     "output_type": "stream",
     "text": [
      "C:\\Users\\muham\\anaconda3\\lib\\site-packages\\xarray\\backends\\plugins.py:61: RuntimeWarning: Engine 'rasterio' loading failed:\n",
      "DLL load failed while importing _base: The specified procedure could not be found.\n",
      "  warnings.warn(f\"Engine {name!r} loading failed:\\n{ex}\", RuntimeWarning)\n"
     ]
    }
   ],
   "source": [
    "MaskFile_Missi = xr.open_dataset(MaskFile_Missi_to_load)['Mask']\n",
    "print(MaskFile_Missi)"
   ]
  },
  {
   "cell_type": "code",
   "execution_count": 20,
   "metadata": {},
   "outputs": [
    {
     "name": "stdout",
     "output_type": "stream",
     "text": [
      "(2052, 32, 56)\n"
     ]
    }
   ],
   "source": [
    "param_masked_Missi = param_histSel_scen_ensMean_Us_xarray.where(MaskFile_Missi>0)\n",
    "print(param_masked_Missi.shape)\n",
    "#print(param_masked_Missi)"
   ]
  },
  {
   "cell_type": "markdown",
   "metadata": {},
   "source": [
    "## Missouri"
   ]
  },
  {
   "cell_type": "code",
   "execution_count": 21,
   "metadata": {},
   "outputs": [
    {
     "name": "stdout",
     "output_type": "stream",
     "text": [
      "C:/rezaul/1.academic/1.research/2.project/mrb/dt/shapeFile/mask/mrb_us/mask_missouri_us_CESM_longThree.nc\n"
     ]
    }
   ],
   "source": [
    "MaskFile_Missouri_to_load = 'C:/rezaul/1.academic/1.research/2.project/mrb/dt/shapeFile/mask/mrb_us/mask_missouri_us_CESM_longThree.nc'\n",
    "print(MaskFile_Missouri_to_load)"
   ]
  },
  {
   "cell_type": "code",
   "execution_count": 22,
   "metadata": {},
   "outputs": [
    {
     "name": "stdout",
     "output_type": "stream",
     "text": [
      "<xarray.DataArray 'Mask' (Lat: 32, Lon: 56)>\n",
      "array([[0, 0, 0, ..., 0, 0, 0],\n",
      "       [0, 0, 0, ..., 0, 0, 0],\n",
      "       [0, 0, 0, ..., 0, 0, 0],\n",
      "       ...,\n",
      "       [0, 0, 0, ..., 0, 0, 0],\n",
      "       [0, 0, 0, ..., 0, 0, 0],\n",
      "       [0, 0, 0, ..., 0, 0, 0]])\n",
      "Coordinates:\n",
      "  * Lat      (Lat) float32 24.97 25.92 26.86 27.8 ... 51.36 52.3 53.25 54.19\n",
      "  * Lon      (Lon) float32 230.0 231.2 232.5 233.8 ... 295.0 296.2 297.5 298.8\n"
     ]
    }
   ],
   "source": [
    "MaskFile_Missouri = xr.open_dataset(MaskFile_Missouri_to_load)['Mask']\n",
    "print(MaskFile_Missouri)"
   ]
  },
  {
   "cell_type": "code",
   "execution_count": 23,
   "metadata": {},
   "outputs": [
    {
     "name": "stdout",
     "output_type": "stream",
     "text": [
      "(2052, 32, 56)\n"
     ]
    }
   ],
   "source": [
    "param_masked_Missouri = param_histSel_scen_ensMean_Us_xarray.where(MaskFile_Missouri>0)\n",
    "print(param_masked_Missouri.shape)\n",
    "#print(param_masked_Missouri)"
   ]
  },
  {
   "cell_type": "markdown",
   "metadata": {},
   "source": [
    "## Arkansas"
   ]
  },
  {
   "cell_type": "code",
   "execution_count": 24,
   "metadata": {},
   "outputs": [
    {
     "name": "stdout",
     "output_type": "stream",
     "text": [
      "C:/rezaul/1.academic/1.research/2.project/mrb/dt/shapeFile/mask/mrb_us/mask_arkansas_us_CESM_longThree.nc\n"
     ]
    }
   ],
   "source": [
    "MaskFile_Arkansas_to_load = 'C:/rezaul/1.academic/1.research/2.project/mrb/dt/shapeFile/mask/mrb_us/mask_arkansas_us_CESM_longThree.nc'\n",
    "print(MaskFile_Arkansas_to_load)"
   ]
  },
  {
   "cell_type": "code",
   "execution_count": 25,
   "metadata": {},
   "outputs": [
    {
     "name": "stdout",
     "output_type": "stream",
     "text": [
      "<xarray.DataArray 'Mask' (Lat: 32, Lon: 56)>\n",
      "array([[0, 0, 0, ..., 0, 0, 0],\n",
      "       [0, 0, 0, ..., 0, 0, 0],\n",
      "       [0, 0, 0, ..., 0, 0, 0],\n",
      "       ...,\n",
      "       [0, 0, 0, ..., 0, 0, 0],\n",
      "       [0, 0, 0, ..., 0, 0, 0],\n",
      "       [0, 0, 0, ..., 0, 0, 0]])\n",
      "Coordinates:\n",
      "  * Lat      (Lat) float32 24.97 25.92 26.86 27.8 ... 51.36 52.3 53.25 54.19\n",
      "  * Lon      (Lon) float32 230.0 231.2 232.5 233.8 ... 295.0 296.2 297.5 298.8\n"
     ]
    }
   ],
   "source": [
    "MaskFile_Arkansas = xr.open_dataset(MaskFile_Arkansas_to_load)['Mask']\n",
    "print(MaskFile_Arkansas)"
   ]
  },
  {
   "cell_type": "code",
   "execution_count": 26,
   "metadata": {},
   "outputs": [
    {
     "name": "stdout",
     "output_type": "stream",
     "text": [
      "(2052, 32, 56)\n"
     ]
    }
   ],
   "source": [
    "param_masked_Arkansas = param_histSel_scen_ensMean_Us_xarray.where(MaskFile_Arkansas>0)\n",
    "print(param_masked_Arkansas.shape)\n",
    "#print(param_masked_Arkansas)"
   ]
  },
  {
   "cell_type": "markdown",
   "metadata": {},
   "source": [
    "## Ohio"
   ]
  },
  {
   "cell_type": "code",
   "execution_count": 27,
   "metadata": {},
   "outputs": [
    {
     "name": "stdout",
     "output_type": "stream",
     "text": [
      "C:/rezaul/1.academic/1.research/2.project/mrb/dt/shapeFile/mask/mrb_us/mask_ohio_us_CESM_longThree.nc\n"
     ]
    }
   ],
   "source": [
    "MaskFile_Ohio_to_load = 'C:/rezaul/1.academic/1.research/2.project/mrb/dt/shapeFile/mask/mrb_us/mask_ohio_us_CESM_longThree.nc'\n",
    "print(MaskFile_Ohio_to_load)"
   ]
  },
  {
   "cell_type": "code",
   "execution_count": 28,
   "metadata": {},
   "outputs": [
    {
     "name": "stdout",
     "output_type": "stream",
     "text": [
      "<xarray.DataArray 'Mask' (Lat: 32, Lon: 56)>\n",
      "array([[0, 0, 0, ..., 0, 0, 0],\n",
      "       [0, 0, 0, ..., 0, 0, 0],\n",
      "       [0, 0, 0, ..., 0, 0, 0],\n",
      "       ...,\n",
      "       [0, 0, 0, ..., 0, 0, 0],\n",
      "       [0, 0, 0, ..., 0, 0, 0],\n",
      "       [0, 0, 0, ..., 0, 0, 0]])\n",
      "Coordinates:\n",
      "  * Lat      (Lat) float32 24.97 25.92 26.86 27.8 ... 51.36 52.3 53.25 54.19\n",
      "  * Lon      (Lon) float32 230.0 231.2 232.5 233.8 ... 295.0 296.2 297.5 298.8\n"
     ]
    }
   ],
   "source": [
    "MaskFile_Ohio = xr.open_dataset(MaskFile_Ohio_to_load)['Mask']\n",
    "print(MaskFile_Ohio)"
   ]
  },
  {
   "cell_type": "code",
   "execution_count": 29,
   "metadata": {},
   "outputs": [
    {
     "name": "stdout",
     "output_type": "stream",
     "text": [
      "(2052, 32, 56)\n"
     ]
    }
   ],
   "source": [
    "param_masked_Ohio = param_histSel_scen_ensMean_Us_xarray.where(MaskFile_Ohio>0)\n",
    "print(param_masked_Ohio.shape)\n",
    "#print(param_masked_Ohio)"
   ]
  },
  {
   "cell_type": "markdown",
   "metadata": {},
   "source": [
    "## Masking for Lower Mississippi Basin"
   ]
  },
  {
   "cell_type": "code",
   "execution_count": 30,
   "metadata": {},
   "outputs": [
    {
     "name": "stdout",
     "output_type": "stream",
     "text": [
      "(2052, 7, 2)\n"
     ]
    }
   ],
   "source": [
    "param_masked_lowMissi = param_histSel_scen_ensMean_Us_xarray.sel(Lat=slice(30.,37.), Lon = slice(268., 271.))\n",
    "print(param_masked_lowMissi.shape)"
   ]
  },
  {
   "cell_type": "markdown",
   "metadata": {},
   "source": [
    "## The masked rasters for different basins"
   ]
  },
  {
   "cell_type": "code",
   "execution_count": 31,
   "metadata": {},
   "outputs": [
    {
     "name": "stdout",
     "output_type": "stream",
     "text": [
      "(2052, 32, 56)\n",
      "(2052, 32, 56)\n",
      "(2052, 32, 56)\n",
      "(2052, 32, 56)\n",
      "\n",
      "(2052, 7, 2)\n"
     ]
    }
   ],
   "source": [
    "print(param_masked_Missi.shape)\n",
    "print(param_masked_Missouri.shape)\n",
    "print(param_masked_Arkansas.shape)\n",
    "print(param_masked_Ohio.shape)\n",
    "print('')\n",
    "print(param_masked_lowMissi.shape)"
   ]
  },
  {
   "cell_type": "markdown",
   "metadata": {},
   "source": [
    "## Time series for basin-average Param value: Monthly resolution"
   ]
  },
  {
   "cell_type": "code",
   "execution_count": 32,
   "metadata": {},
   "outputs": [
    {
     "name": "stdout",
     "output_type": "stream",
     "text": [
      "(2052,)\n"
     ]
    }
   ],
   "source": [
    "param_masked_ensMean_basinAvg_Missi = np.nanmean(param_masked_Missi, axis=(1,2))\n",
    "print(param_masked_ensMean_basinAvg_Missi.shape)"
   ]
  },
  {
   "cell_type": "code",
   "execution_count": 33,
   "metadata": {},
   "outputs": [
    {
     "name": "stdout",
     "output_type": "stream",
     "text": [
      "(2052,)\n"
     ]
    }
   ],
   "source": [
    "param_masked_ensMean_basinAvg_Missouri = np.nanmean(param_masked_Missouri, axis=(1,2))\n",
    "print(param_masked_ensMean_basinAvg_Missouri.shape)"
   ]
  },
  {
   "cell_type": "code",
   "execution_count": 34,
   "metadata": {},
   "outputs": [
    {
     "name": "stdout",
     "output_type": "stream",
     "text": [
      "(2052,)\n"
     ]
    }
   ],
   "source": [
    "param_masked_ensMean_basinAvg_Arkansas = np.nanmean(param_masked_Arkansas, axis=(1,2))\n",
    "print(param_masked_ensMean_basinAvg_Arkansas.shape)"
   ]
  },
  {
   "cell_type": "code",
   "execution_count": 35,
   "metadata": {},
   "outputs": [
    {
     "name": "stdout",
     "output_type": "stream",
     "text": [
      "(2052,)\n"
     ]
    }
   ],
   "source": [
    "param_masked_ensMean_basinAvg_Ohio = np.nanmean(param_masked_Ohio, axis=(1,2))\n",
    "print(param_masked_ensMean_basinAvg_Ohio.shape)"
   ]
  },
  {
   "cell_type": "code",
   "execution_count": 36,
   "metadata": {},
   "outputs": [
    {
     "name": "stdout",
     "output_type": "stream",
     "text": [
      "(2052,)\n"
     ]
    }
   ],
   "source": [
    "param_masked_ensMean_basinAvg_lowMissi = np.nanmean(param_masked_lowMissi, axis=(1,2))\n",
    "print(param_masked_ensMean_basinAvg_lowMissi.shape)"
   ]
  },
  {
   "cell_type": "code",
   "execution_count": 37,
   "metadata": {},
   "outputs": [
    {
     "name": "stdout",
     "output_type": "stream",
     "text": [
      "2052\n"
     ]
    }
   ],
   "source": [
    "t_histSel_scen = param_masked_ensMean_basinAvg_Missi.shape[0]\n",
    "print(t_histSel_scen)"
   ]
  },
  {
   "cell_type": "code",
   "execution_count": 38,
   "metadata": {},
   "outputs": [],
   "source": [
    "Month_steps = [x for x in range(t_histSel_scen)]"
   ]
  },
  {
   "cell_type": "markdown",
   "metadata": {},
   "source": [
    "## For Seasonal Values"
   ]
  },
  {
   "cell_type": "code",
   "execution_count": 39,
   "metadata": {},
   "outputs": [],
   "source": [
    "def Season(value):\n",
    "    if value <= 2:\n",
    "        return \"Winter\"\n",
    "    if 3 <= value <= 5:\n",
    "        return \"Spring\"\n",
    "    elif 6 <= value <= 8:\n",
    "        return \"Summer\"\n",
    "    elif 9 <= value <= 11:\n",
    "        return \"Fall\"\n",
    "    elif value == 12:\n",
    "        return \"Winter\""
   ]
  },
  {
   "cell_type": "code",
   "execution_count": 40,
   "metadata": {},
   "outputs": [
    {
     "name": "stdout",
     "output_type": "stream",
     "text": [
      "['1930-01', '1930-02', '1930-03'] 2100-12\n"
     ]
    }
   ],
   "source": [
    "dates_histSelScen = xr.cftime_range(start='193001',freq='1M', periods=t_histSel_scen, calendar='noleap').strftime('%Y-%m').to_list()\n",
    "print(dates_histSelScen[:3], dates_histSelScen[-1])\n"
   ]
  },
  {
   "cell_type": "markdown",
   "metadata": {},
   "source": [
    "# Missouri basin"
   ]
  },
  {
   "cell_type": "code",
   "execution_count": 41,
   "metadata": {},
   "outputs": [
    {
     "name": "stdout",
     "output_type": "stream",
     "text": [
      "(2052,)\n"
     ]
    }
   ],
   "source": [
    "print(param_masked_ensMean_basinAvg_Missouri.shape)"
   ]
  },
  {
   "cell_type": "code",
   "execution_count": 42,
   "metadata": {},
   "outputs": [
    {
     "name": "stdout",
     "output_type": "stream",
     "text": [
      "(2052,)\n",
      "<xarray.DataArray (Month_steps: 2052)>\n",
      "array([ 2.69516009,  4.5433222 , 13.97208979, ..., 22.24086049,\n",
      "       13.18467612,  8.40835081])\n",
      "Coordinates:\n",
      "  * Month_steps  (Month_steps) int32 0 1 2 3 4 5 ... 2047 2048 2049 2050 2051\n",
      "(2052,)\n",
      "<xarray.DataArray (Month_steps: 3)>\n",
      "array([ 2.69516009,  4.5433222 , 13.97208979])\n",
      "Coordinates:\n",
      "  * Month_steps  (Month_steps) datetime64[ns] 1930-01-01 1930-02-01 1930-03-01\n",
      "(2052, 2)\n",
      "  Month_steps  Evapotranspiration\n",
      "0  1930-01-01            2.695160\n",
      "1  1930-02-01            4.543322\n",
      "2  1930-03-01           13.972090\n",
      "(2052, 3)\n",
      "   Month_steps  Evapotranspiration  Season_year\n",
      "0   1930-01-01            2.695160         1930\n",
      "1   1930-02-01            4.543322         1930\n",
      "2   1930-03-01           13.972090         1930\n",
      "3   1930-04-01           30.629259         1930\n",
      "4   1930-05-01           58.776673         1930\n",
      "5   1930-06-01           83.351575         1930\n",
      "6   1930-07-01           75.280389         1930\n",
      "7   1930-08-01           51.474812         1930\n",
      "8   1930-09-01           32.338568         1930\n",
      "9   1930-10-01           18.403651         1930\n",
      "10  1930-11-01            8.910605         1930\n",
      "11  1930-12-01            4.251592         1931\n",
      "12  1931-01-01            2.975554         1931\n",
      "13  1931-02-01            5.033662         1931\n",
      "14  1931-03-01           14.155163         1931\n",
      "(2052, 4)\n",
      "   Month_steps  Evapotranspiration  Season_year  Season_mon\n",
      "0   1930-01-01            2.695160         1930           1\n",
      "1   1930-02-01            4.543322         1930           2\n",
      "2   1930-03-01           13.972090         1930           3\n",
      "3   1930-04-01           30.629259         1930           4\n",
      "4   1930-05-01           58.776673         1930           5\n",
      "5   1930-06-01           83.351575         1930           6\n",
      "6   1930-07-01           75.280389         1930           7\n",
      "7   1930-08-01           51.474812         1930           8\n",
      "8   1930-09-01           32.338568         1930           9\n",
      "9   1930-10-01           18.403651         1930          10\n",
      "10  1930-11-01            8.910605         1930          11\n",
      "11  1930-12-01            4.251592         1931          12\n",
      "12  1931-01-01            2.975554         1931           1\n",
      "13  1931-02-01            5.033662         1931           2\n",
      "14  1931-03-01           14.155163         1931           3\n",
      "(2052, 5)\n",
      "   Month_steps  Evapotranspiration  Season_year  Season_mon  Season\n",
      "0   1930-01-01            2.695160         1930           1  Winter\n",
      "1   1930-02-01            4.543322         1930           2  Winter\n",
      "2   1930-03-01           13.972090         1930           3  Spring\n",
      "3   1930-04-01           30.629259         1930           4  Spring\n",
      "4   1930-05-01           58.776673         1930           5  Spring\n",
      "5   1930-06-01           83.351575         1930           6  Summer\n",
      "6   1930-07-01           75.280389         1930           7  Summer\n",
      "7   1930-08-01           51.474812         1930           8  Summer\n",
      "8   1930-09-01           32.338568         1930           9    Fall\n",
      "9   1930-10-01           18.403651         1930          10    Fall\n",
      "10  1930-11-01            8.910605         1930          11    Fall\n",
      "11  1930-12-01            4.251592         1931          12  Winter\n",
      "12  1931-01-01            2.975554         1931           1  Winter\n",
      "13  1931-02-01            5.033662         1931           2  Winter\n",
      "14  1931-03-01           14.155163         1931           3  Spring\n",
      "(172, 2)\n",
      "             Evapotranspiration  Season_mon\n",
      "Season_year                                \n",
      "1930                   3.619241         1.5\n",
      "1931                   4.086936         5.0\n",
      "1932                   4.211168         5.0\n",
      "1933                   4.245506         5.0\n",
      "1934                   4.206487         5.0\n",
      "...                         ...         ...\n",
      "2097                   9.008813         5.0\n",
      "2098                   9.262008         5.0\n",
      "2099                   9.250544         5.0\n",
      "2100                   9.258725         5.0\n",
      "2101                   8.408351        12.0\n",
      "\n",
      "[172 rows x 2 columns]\n",
      "(171, 2)\n",
      "             Evapotranspiration  Season_mon\n",
      "Season_year                                \n",
      "2096                   9.217288         5.0\n",
      "2097                   9.008813         5.0\n",
      "2098                   9.262008         5.0\n",
      "2099                   9.250544         5.0\n",
      "2100                   9.258725         5.0\n",
      "(171, 2)\n",
      "             Evapotranspiration  Season_mon\n",
      "Season_year                                \n",
      "1930                  34.459340           4\n",
      "1931                  34.417554           4\n",
      "1932                  34.800254           4\n",
      "1933                  34.357810           4\n",
      "1934                  35.436121           4\n",
      "...                         ...         ...\n",
      "2096                  50.940450           4\n",
      "2097                  49.731623           4\n",
      "2098                  51.414097           4\n",
      "2099                  50.713288           4\n",
      "2100                  51.118223           4\n",
      "\n",
      "[171 rows x 2 columns]\n",
      "(171, 2)\n",
      "             Evapotranspiration  Season_mon\n",
      "Season_year                                \n",
      "1930                  70.035592           7\n",
      "1931                  69.794566           7\n",
      "1932                  69.739783           7\n",
      "1933                  69.283224           7\n",
      "1934                  69.686838           7\n",
      "...                         ...         ...\n",
      "2096                  71.411300           7\n",
      "2097                  71.681548           7\n",
      "2098                  70.537245           7\n",
      "2099                  70.889446           7\n",
      "2100                  73.192723           7\n",
      "\n",
      "[171 rows x 2 columns]\n",
      "(171, 2)\n",
      "             Evapotranspiration  Season_mon\n",
      "Season_year                                \n",
      "1930                  19.884275          10\n",
      "1931                  19.487325          10\n",
      "1932                  19.588275          10\n",
      "1933                  19.686832          10\n",
      "1934                  19.646933          10\n",
      "...                         ...         ...\n",
      "2096                  23.050119          10\n",
      "2097                  22.743224          10\n",
      "2098                  22.026593          10\n",
      "2099                  22.840766          10\n",
      "2100                  23.091177          10\n",
      "\n",
      "[171 rows x 2 columns]\n",
      "(171,)\n",
      "Season_year\n",
      "1930    3.619241\n",
      "1931    4.086936\n",
      "1932    4.211168\n",
      "1933    4.245506\n",
      "1934    4.206487\n",
      "          ...   \n",
      "2096    9.217288\n",
      "2097    9.008813\n",
      "2098    9.262008\n",
      "2099    9.250544\n",
      "2100    9.258725\n",
      "Name: Evapotranspiration, Length: 171, dtype: float64\n",
      "(171,)\n",
      "Season_year\n",
      "1930    34.459340\n",
      "1931    34.417554\n",
      "1932    34.800254\n",
      "1933    34.357810\n",
      "1934    35.436121\n",
      "          ...    \n",
      "2096    50.940450\n",
      "2097    49.731623\n",
      "2098    51.414097\n",
      "2099    50.713288\n",
      "2100    51.118223\n",
      "Name: Evapotranspiration, Length: 171, dtype: float64\n",
      "(171,)\n",
      "Season_year\n",
      "1930    70.035592\n",
      "1931    69.794566\n",
      "1932    69.739783\n",
      "1933    69.283224\n",
      "1934    69.686838\n",
      "          ...    \n",
      "2096    71.411300\n",
      "2097    71.681548\n",
      "2098    70.537245\n",
      "2099    70.889446\n",
      "2100    73.192723\n",
      "Name: Evapotranspiration, Length: 171, dtype: float64\n",
      "(171,)\n",
      "Season_year\n",
      "1930    19.884275\n",
      "1931    19.487325\n",
      "1932    19.588275\n",
      "1933    19.686832\n",
      "1934    19.646933\n",
      "          ...    \n",
      "2096    23.050119\n",
      "2097    22.743224\n",
      "2098    22.026593\n",
      "2099    22.840766\n",
      "2100    23.091177\n",
      "Name: Evapotranspiration, Length: 171, dtype: float64\n"
     ]
    }
   ],
   "source": [
    "\n",
    "param_masked_ensMean_basinAvg_Missouri_xarray = xr.DataArray(param_masked_ensMean_basinAvg_Missouri, coords=[Month_steps], dims=[\"Month_steps\"])\n",
    "print(param_masked_ensMean_basinAvg_Missouri_xarray.shape)\n",
    "print(param_masked_ensMean_basinAvg_Missouri_xarray)\n",
    "\n",
    "#df['Day_steps'] = dates_histSelScen\n",
    "param_masked_ensMean_basinAvg_Missouri_xarray['Month_steps'] = pd.to_datetime(dates_histSelScen)\n",
    "print(param_masked_ensMean_basinAvg_Missouri_xarray.shape)\n",
    "print(param_masked_ensMean_basinAvg_Missouri_xarray.head(3))\n",
    "\n",
    "#df = disch_histSel_Scen_ensMean_vicks_xarray.to_dataframe(name='Discharge').unstack().reset_index()\n",
    "df_param_Missouri = param_masked_ensMean_basinAvg_Missouri_xarray.to_dataframe(name='Evapotranspiration').reset_index()\n",
    "print(df_param_Missouri.shape)\n",
    "print(df_param_Missouri.head(3))\n",
    "\n",
    "df_param_Missouri['Season_year'] = df_param_Missouri.Month_steps.dt.year.where(df_param_Missouri.Month_steps.dt.month < 12, df_param_Missouri.Month_steps.dt.year + 1)\n",
    "print(df_param_Missouri.shape)\n",
    "print(df_param_Missouri.head(15))\n",
    "\n",
    "\n",
    "df_param_Missouri['Season_mon'] = df_param_Missouri.Month_steps.dt.month.where(df_param_Missouri.Month_steps.dt.month == 1, df_param_Missouri.Month_steps.dt.month)\n",
    "print(df_param_Missouri.shape)\n",
    "print(df_param_Missouri.head(15))\n",
    "\n",
    "\n",
    "df_param_Missouri['Season'] = df_param_Missouri['Season_mon'].map(Season)\n",
    "#display(df_param_Missouri.head())\n",
    "print(df_param_Missouri.shape)\n",
    "print(df_param_Missouri.head(15))\n",
    "\n",
    "df_param_winter_Missouri_withOneExtra = df_param_Missouri[df_param_Missouri[\"Season\"] == 'Winter'].groupby('Season_year').mean('Season_year')\n",
    "print(df_param_winter_Missouri_withOneExtra.shape)\n",
    "print(df_param_winter_Missouri_withOneExtra)\n",
    "\n",
    "## to Delete the last (unwanted) row\n",
    "df_param_winter_Missouri = df_param_winter_Missouri_withOneExtra.iloc[:-1 , :]\n",
    "print(df_param_winter_Missouri.shape)\n",
    "print(df_param_winter_Missouri.tail())\n",
    "\n",
    "df_param_spring_Missouri = df_param_Missouri[df_param_Missouri[\"Season\"] == 'Spring'].groupby('Season_year').mean('Season_year')\n",
    "print(df_param_spring_Missouri.shape)\n",
    "print(df_param_spring_Missouri)\n",
    "\n",
    "df_param_summer_Missouri = df_param_Missouri[df_param_Missouri[\"Season\"] == 'Summer'].groupby('Season_year').mean('Season_year')\n",
    "print(df_param_summer_Missouri.shape)\n",
    "print(df_param_summer_Missouri)\n",
    "\n",
    "df_param_fall_Missouri = df_param_Missouri[df_param_Missouri[\"Season\"] == 'Fall'].groupby('Season_year').mean('Season_year')\n",
    "print(df_param_fall_Missouri.shape)\n",
    "print(df_param_fall_Missouri)\n",
    "\n",
    "param_winter_Missouri = df_param_winter_Missouri['Evapotranspiration']\n",
    "print(param_winter_Missouri.shape)\n",
    "print(param_winter_Missouri)\n",
    "\n",
    "param_spring_Missouri = df_param_spring_Missouri['Evapotranspiration']\n",
    "print(param_spring_Missouri.shape)\n",
    "print(param_spring_Missouri)\n",
    "\n",
    "param_summer_Missouri = df_param_summer_Missouri['Evapotranspiration']\n",
    "print(param_summer_Missouri.shape)\n",
    "print(param_summer_Missouri)\n",
    "\n",
    "param_fall_Missouri = df_param_fall_Missouri['Evapotranspiration']\n",
    "print(param_fall_Missouri.shape)\n",
    "print(param_fall_Missouri)\n",
    "\n"
   ]
  },
  {
   "cell_type": "code",
   "execution_count": null,
   "metadata": {},
   "outputs": [],
   "source": []
  },
  {
   "cell_type": "markdown",
   "metadata": {},
   "source": [
    "## Arkansas basin"
   ]
  },
  {
   "cell_type": "code",
   "execution_count": 43,
   "metadata": {},
   "outputs": [
    {
     "name": "stdout",
     "output_type": "stream",
     "text": [
      "(2052,)\n"
     ]
    }
   ],
   "source": [
    "print(param_masked_ensMean_basinAvg_Arkansas.shape)"
   ]
  },
  {
   "cell_type": "code",
   "execution_count": 44,
   "metadata": {},
   "outputs": [
    {
     "name": "stdout",
     "output_type": "stream",
     "text": [
      "(2052,)\n",
      "<xarray.DataArray (Month_steps: 2052)>\n",
      "array([10.13060649, 15.27754933, 27.05489396, ..., 33.72374542,\n",
      "       22.07740897, 15.86714325])\n",
      "Coordinates:\n",
      "  * Month_steps  (Month_steps) int32 0 1 2 3 4 5 ... 2047 2048 2049 2050 2051\n",
      "(2052,)\n",
      "<xarray.DataArray (Month_steps: 3)>\n",
      "array([10.13060649, 15.27754933, 27.05489396])\n",
      "Coordinates:\n",
      "  * Month_steps  (Month_steps) datetime64[ns] 1930-01-01 1930-02-01 1930-03-01\n",
      "(2052, 2)\n",
      "  Month_steps  Evapotranspiration\n",
      "0  1930-01-01           10.130606\n",
      "1  1930-02-01           15.277549\n",
      "2  1930-03-01           27.054894\n",
      "(2052, 3)\n",
      "   Month_steps  Evapotranspiration  Season_year\n",
      "0   1930-01-01           10.130606         1930\n",
      "1   1930-02-01           15.277549         1930\n",
      "2   1930-03-01           27.054894         1930\n",
      "3   1930-04-01           50.092548         1930\n",
      "4   1930-05-01           81.533352         1930\n",
      "5   1930-06-01           84.594051         1930\n",
      "6   1930-07-01           63.723543         1930\n",
      "7   1930-08-01           46.413601         1930\n",
      "8   1930-09-01           39.177662         1930\n",
      "9   1930-10-01           28.405409         1930\n",
      "10  1930-11-01           16.976709         1930\n",
      "11  1930-12-01           10.523035         1931\n",
      "12  1931-01-01           10.040773         1931\n",
      "13  1931-02-01           15.472925         1931\n",
      "14  1931-03-01           27.065216         1931\n",
      "(2052, 4)\n",
      "   Month_steps  Evapotranspiration  Season_year  Season_mon\n",
      "0   1930-01-01           10.130606         1930           1\n",
      "1   1930-02-01           15.277549         1930           2\n",
      "2   1930-03-01           27.054894         1930           3\n",
      "3   1930-04-01           50.092548         1930           4\n",
      "4   1930-05-01           81.533352         1930           5\n",
      "5   1930-06-01           84.594051         1930           6\n",
      "6   1930-07-01           63.723543         1930           7\n",
      "7   1930-08-01           46.413601         1930           8\n",
      "8   1930-09-01           39.177662         1930           9\n",
      "9   1930-10-01           28.405409         1930          10\n",
      "10  1930-11-01           16.976709         1930          11\n",
      "11  1930-12-01           10.523035         1931          12\n",
      "12  1931-01-01           10.040773         1931           1\n",
      "13  1931-02-01           15.472925         1931           2\n",
      "14  1931-03-01           27.065216         1931           3\n",
      "(2052, 5)\n",
      "   Month_steps  Evapotranspiration  Season_year  Season_mon  Season\n",
      "0   1930-01-01           10.130606         1930           1  Winter\n",
      "1   1930-02-01           15.277549         1930           2  Winter\n",
      "2   1930-03-01           27.054894         1930           3  Spring\n",
      "3   1930-04-01           50.092548         1930           4  Spring\n",
      "4   1930-05-01           81.533352         1930           5  Spring\n",
      "5   1930-06-01           84.594051         1930           6  Summer\n",
      "6   1930-07-01           63.723543         1930           7  Summer\n",
      "7   1930-08-01           46.413601         1930           8  Summer\n",
      "8   1930-09-01           39.177662         1930           9    Fall\n",
      "9   1930-10-01           28.405409         1930          10    Fall\n",
      "10  1930-11-01           16.976709         1930          11    Fall\n",
      "11  1930-12-01           10.523035         1931          12  Winter\n",
      "12  1931-01-01           10.040773         1931           1  Winter\n",
      "13  1931-02-01           15.472925         1931           2  Winter\n",
      "14  1931-03-01           27.065216         1931           3  Spring\n",
      "(172, 2)\n",
      "             Evapotranspiration  Season_mon\n",
      "Season_year                                \n",
      "1930                  12.704078         1.5\n",
      "1931                  12.012244         5.0\n",
      "1932                  12.272633         5.0\n",
      "1933                  12.400940         5.0\n",
      "1934                  12.382759         5.0\n",
      "...                         ...         ...\n",
      "2097                  18.508844         5.0\n",
      "2098                  18.260018         5.0\n",
      "2099                  18.251959         5.0\n",
      "2100                  18.384723         5.0\n",
      "2101                  15.867143        12.0\n",
      "\n",
      "[172 rows x 2 columns]\n",
      "(171, 2)\n",
      "             Evapotranspiration  Season_mon\n",
      "Season_year                                \n",
      "2096                  18.763100         5.0\n",
      "2097                  18.508844         5.0\n",
      "2098                  18.260018         5.0\n",
      "2099                  18.251959         5.0\n",
      "2100                  18.384723         5.0\n",
      "(171, 2)\n",
      "             Evapotranspiration  Season_mon\n",
      "Season_year                                \n",
      "1930                  52.893598           4\n",
      "1931                  53.290031           4\n",
      "1932                  53.722408           4\n",
      "1933                  53.289837           4\n",
      "1934                  53.953440           4\n",
      "...                         ...         ...\n",
      "2096                  65.188396           4\n",
      "2097                  64.866283           4\n",
      "2098                  65.386086           4\n",
      "2099                  64.920657           4\n",
      "2100                  64.665888           4\n",
      "\n",
      "[171 rows x 2 columns]\n",
      "(171, 2)\n",
      "             Evapotranspiration  Season_mon\n",
      "Season_year                                \n",
      "1930                  64.910398           7\n",
      "1931                  64.882042           7\n",
      "1932                  64.907012           7\n",
      "1933                  65.092609           7\n",
      "1934                  64.438951           7\n",
      "...                         ...         ...\n",
      "2096                  71.319469           7\n",
      "2097                  72.396953           7\n",
      "2098                  71.319905           7\n",
      "2099                  70.344678           7\n",
      "2100                  69.895867           7\n",
      "\n",
      "[171 rows x 2 columns]\n",
      "(171, 2)\n",
      "             Evapotranspiration  Season_mon\n",
      "Season_year                                \n",
      "1930                  28.186593          10\n",
      "1931                  29.044764          10\n",
      "1932                  28.254671          10\n",
      "1933                  28.623681          10\n",
      "1934                  28.345915          10\n",
      "...                         ...         ...\n",
      "2096                  35.647233          10\n",
      "2097                  33.996247          10\n",
      "2098                  33.466240          10\n",
      "2099                  35.274645          10\n",
      "2100                  33.224528          10\n",
      "\n",
      "[171 rows x 2 columns]\n",
      "(171,)\n",
      "Season_year\n",
      "1930    12.704078\n",
      "1931    12.012244\n",
      "1932    12.272633\n",
      "1933    12.400940\n",
      "1934    12.382759\n",
      "          ...    \n",
      "2096    18.763100\n",
      "2097    18.508844\n",
      "2098    18.260018\n",
      "2099    18.251959\n",
      "2100    18.384723\n",
      "Name: Evapotranspiration, Length: 171, dtype: float64\n",
      "(171,)\n",
      "Season_year\n",
      "1930    52.893598\n",
      "1931    53.290031\n",
      "1932    53.722408\n",
      "1933    53.289837\n",
      "1934    53.953440\n",
      "          ...    \n",
      "2096    65.188396\n",
      "2097    64.866283\n",
      "2098    65.386086\n",
      "2099    64.920657\n",
      "2100    64.665888\n",
      "Name: Evapotranspiration, Length: 171, dtype: float64\n",
      "(171,)\n",
      "Season_year\n",
      "1930    64.910398\n",
      "1931    64.882042\n",
      "1932    64.907012\n",
      "1933    65.092609\n",
      "1934    64.438951\n",
      "          ...    \n",
      "2096    71.319469\n",
      "2097    72.396953\n",
      "2098    71.319905\n",
      "2099    70.344678\n",
      "2100    69.895867\n",
      "Name: Evapotranspiration, Length: 171, dtype: float64\n",
      "(171,)\n",
      "Season_year\n",
      "1930    28.186593\n",
      "1931    29.044764\n",
      "1932    28.254671\n",
      "1933    28.623681\n",
      "1934    28.345915\n",
      "          ...    \n",
      "2096    35.647233\n",
      "2097    33.996247\n",
      "2098    33.466240\n",
      "2099    35.274645\n",
      "2100    33.224528\n",
      "Name: Evapotranspiration, Length: 171, dtype: float64\n"
     ]
    }
   ],
   "source": [
    "param_masked_ensMean_basinAvg_Arkansas_xarray = xr.DataArray(param_masked_ensMean_basinAvg_Arkansas, coords=[Month_steps], dims=[\"Month_steps\"])\n",
    "print(param_masked_ensMean_basinAvg_Arkansas_xarray.shape)\n",
    "print(param_masked_ensMean_basinAvg_Arkansas_xarray)\n",
    "\n",
    "#df['Day_steps'] = dates_histSelScen\n",
    "param_masked_ensMean_basinAvg_Arkansas_xarray['Month_steps'] = pd.to_datetime(dates_histSelScen)\n",
    "print(param_masked_ensMean_basinAvg_Arkansas_xarray.shape)\n",
    "print(param_masked_ensMean_basinAvg_Arkansas_xarray.head(3))\n",
    "\n",
    "#df = disch_histSel_Scen_ensMean_vicks_xarray.to_dataframe(name='Discharge').unstack().reset_index()\n",
    "df_param_Arkansas = param_masked_ensMean_basinAvg_Arkansas_xarray.to_dataframe(name='Evapotranspiration').reset_index()\n",
    "print(df_param_Arkansas.shape)\n",
    "print(df_param_Arkansas.head(3))\n",
    "\n",
    "df_param_Arkansas['Season_year'] = df_param_Arkansas.Month_steps.dt.year.where(df_param_Arkansas.Month_steps.dt.month < 12, df_param_Arkansas.Month_steps.dt.year + 1)\n",
    "print(df_param_Arkansas.shape)\n",
    "print(df_param_Arkansas.head(15))\n",
    "\n",
    "\n",
    "\n",
    "\n",
    "df_param_Arkansas['Season_mon'] = df_param_Arkansas.Month_steps.dt.month.where(df_param_Arkansas.Month_steps.dt.month == 1, df_param_Arkansas.Month_steps.dt.month)\n",
    "print(df_param_Arkansas.shape)\n",
    "print(df_param_Arkansas.head(15))\n",
    "\n",
    "df_param_Arkansas['Season'] = df_param_Arkansas['Season_mon'].map(Season)\n",
    "#display(df_param_Arkansas.head())\n",
    "print(df_param_Arkansas.shape)\n",
    "print(df_param_Arkansas.head(15))\n",
    "\n",
    "df_param_winter_Arkansas_withOneExtra = df_param_Arkansas[df_param_Arkansas[\"Season\"] == 'Winter'].groupby('Season_year').mean('Season_year')\n",
    "print(df_param_winter_Arkansas_withOneExtra.shape)\n",
    "print(df_param_winter_Arkansas_withOneExtra)\n",
    "\n",
    "## to Delete the last (unwanted) row\n",
    "df_param_winter_Arkansas = df_param_winter_Arkansas_withOneExtra.iloc[:-1 , :]\n",
    "print(df_param_winter_Arkansas.shape)\n",
    "print(df_param_winter_Arkansas.tail())\n",
    "#+++++++++++++++++++++++++++++++++++++++++++++++++++++++++++++++++++++++++++++++++++++++++++++\n",
    "\n",
    "## Split into Seasons\n",
    "df_param_spring_Arkansas = df_param_Arkansas[df_param_Arkansas[\"Season\"] == 'Spring'].groupby('Season_year').mean('Season_year')\n",
    "print(df_param_spring_Arkansas.shape)\n",
    "print(df_param_spring_Arkansas)\n",
    "\n",
    "df_param_summer_Arkansas = df_param_Arkansas[df_param_Arkansas[\"Season\"] == 'Summer'].groupby('Season_year').mean('Season_year')\n",
    "print(df_param_summer_Arkansas.shape)\n",
    "print(df_param_summer_Arkansas)\n",
    "\n",
    "df_param_fall_Arkansas = df_param_Arkansas[df_param_Arkansas[\"Season\"] == 'Fall'].groupby('Season_year').mean('Season_year')\n",
    "print(df_param_fall_Arkansas.shape)\n",
    "print(df_param_fall_Arkansas)\n",
    "\n",
    "param_winter_Arkansas = df_param_winter_Arkansas['Evapotranspiration']\n",
    "print(param_winter_Arkansas.shape)\n",
    "print(param_winter_Arkansas)\n",
    "\n",
    "param_spring_Arkansas = df_param_spring_Arkansas['Evapotranspiration']\n",
    "print(param_spring_Arkansas.shape)\n",
    "print(param_spring_Arkansas)\n",
    "\n",
    "param_summer_Arkansas = df_param_summer_Arkansas['Evapotranspiration']\n",
    "print(param_summer_Arkansas.shape)\n",
    "print(param_summer_Arkansas)\n",
    "\n",
    "param_fall_Arkansas = df_param_fall_Arkansas['Evapotranspiration']\n",
    "print(param_fall_Arkansas.shape)\n",
    "print(param_fall_Arkansas)\n"
   ]
  },
  {
   "cell_type": "code",
   "execution_count": null,
   "metadata": {},
   "outputs": [],
   "source": []
  },
  {
   "cell_type": "markdown",
   "metadata": {},
   "source": [
    "# Ohio basin"
   ]
  },
  {
   "cell_type": "code",
   "execution_count": 45,
   "metadata": {},
   "outputs": [
    {
     "name": "stdout",
     "output_type": "stream",
     "text": [
      "(2052,)\n"
     ]
    }
   ],
   "source": [
    "print(param_masked_ensMean_basinAvg_Ohio.shape)"
   ]
  },
  {
   "cell_type": "code",
   "execution_count": 46,
   "metadata": {},
   "outputs": [
    {
     "name": "stdout",
     "output_type": "stream",
     "text": [
      "(2052,)\n",
      "<xarray.DataArray (Month_steps: 2052)>\n",
      "array([13.14200127, 17.5008454 , 31.54233552, ..., 44.60362343,\n",
      "       24.78048603, 18.90834476])\n",
      "Coordinates:\n",
      "  * Month_steps  (Month_steps) int32 0 1 2 3 4 5 ... 2047 2048 2049 2050 2051\n",
      "(2052,)\n",
      "<xarray.DataArray (Month_steps: 3)>\n",
      "array([13.14200127, 17.5008454 , 31.54233552])\n",
      "Coordinates:\n",
      "  * Month_steps  (Month_steps) datetime64[ns] 1930-01-01 1930-02-01 1930-03-01\n",
      "(2052, 2)\n",
      "  Month_steps  Evapotranspiration\n",
      "0  1930-01-01           13.142001\n",
      "1  1930-02-01           17.500845\n",
      "2  1930-03-01           31.542336\n",
      "(2052, 3)\n",
      "   Month_steps  Evapotranspiration  Season_year\n",
      "0   1930-01-01           13.142001         1930\n",
      "1   1930-02-01           17.500845         1930\n",
      "2   1930-03-01           31.542336         1930\n",
      "3   1930-04-01           53.704802         1930\n",
      "4   1930-05-01           92.502481         1930\n",
      "5   1930-06-01          118.231659         1930\n",
      "6   1930-07-01          116.131344         1930\n",
      "7   1930-08-01           95.764552         1930\n",
      "8   1930-09-01           68.982285         1930\n",
      "9   1930-10-01           42.067293         1930\n",
      "10  1930-11-01           20.364296         1930\n",
      "11  1930-12-01           14.562308         1931\n",
      "12  1931-01-01           14.098706         1931\n",
      "13  1931-02-01           17.788026         1931\n",
      "14  1931-03-01           32.171441         1931\n",
      "(2052, 4)\n",
      "   Month_steps  Evapotranspiration  Season_year  Season_mon\n",
      "0   1930-01-01           13.142001         1930           1\n",
      "1   1930-02-01           17.500845         1930           2\n",
      "2   1930-03-01           31.542336         1930           3\n",
      "3   1930-04-01           53.704802         1930           4\n",
      "4   1930-05-01           92.502481         1930           5\n",
      "5   1930-06-01          118.231659         1930           6\n",
      "6   1930-07-01          116.131344         1930           7\n",
      "7   1930-08-01           95.764552         1930           8\n",
      "8   1930-09-01           68.982285         1930           9\n",
      "9   1930-10-01           42.067293         1930          10\n",
      "10  1930-11-01           20.364296         1930          11\n",
      "11  1930-12-01           14.562308         1931          12\n",
      "12  1931-01-01           14.098706         1931           1\n",
      "13  1931-02-01           17.788026         1931           2\n",
      "14  1931-03-01           32.171441         1931           3\n",
      "(2052, 5)\n",
      "   Month_steps  Evapotranspiration  Season_year  Season_mon  Season\n",
      "0   1930-01-01           13.142001         1930           1  Winter\n",
      "1   1930-02-01           17.500845         1930           2  Winter\n",
      "2   1930-03-01           31.542336         1930           3  Spring\n",
      "3   1930-04-01           53.704802         1930           4  Spring\n",
      "4   1930-05-01           92.502481         1930           5  Spring\n",
      "5   1930-06-01          118.231659         1930           6  Summer\n",
      "6   1930-07-01          116.131344         1930           7  Summer\n",
      "7   1930-08-01           95.764552         1930           8  Summer\n",
      "8   1930-09-01           68.982285         1930           9    Fall\n",
      "9   1930-10-01           42.067293         1930          10    Fall\n",
      "10  1930-11-01           20.364296         1930          11    Fall\n",
      "11  1930-12-01           14.562308         1931          12  Winter\n",
      "12  1931-01-01           14.098706         1931           1  Winter\n",
      "13  1931-02-01           17.788026         1931           2  Winter\n",
      "14  1931-03-01           32.171441         1931           3  Spring\n",
      "(172, 2)\n",
      "             Evapotranspiration  Season_mon\n",
      "Season_year                                \n",
      "1930                  15.321423         1.5\n",
      "1931                  15.483013         5.0\n",
      "1932                  15.788167         5.0\n",
      "1933                  15.415206         5.0\n",
      "1934                  16.072623         5.0\n",
      "...                         ...         ...\n",
      "2097                  21.607576         5.0\n",
      "2098                  21.100752         5.0\n",
      "2099                  21.263822         5.0\n",
      "2100                  21.431734         5.0\n",
      "2101                  18.908345        12.0\n",
      "\n",
      "[172 rows x 2 columns]\n",
      "(171, 2)\n",
      "             Evapotranspiration  Season_mon\n",
      "Season_year                                \n",
      "2096                  21.588914         5.0\n",
      "2097                  21.607576         5.0\n",
      "2098                  21.100752         5.0\n",
      "2099                  21.263822         5.0\n",
      "2100                  21.431734         5.0\n",
      "(171, 2)\n",
      "             Evapotranspiration  Season_mon\n",
      "Season_year                                \n",
      "1930                  34.459340           4\n",
      "1931                  34.417554           4\n",
      "1932                  34.800254           4\n",
      "1933                  34.357810           4\n",
      "1934                  35.436121           4\n",
      "...                         ...         ...\n",
      "2096                  50.940450           4\n",
      "2097                  49.731623           4\n",
      "2098                  51.414097           4\n",
      "2099                  50.713288           4\n",
      "2100                  51.118223           4\n",
      "\n",
      "[171 rows x 2 columns]\n",
      "(171, 2)\n",
      "             Evapotranspiration  Season_mon\n",
      "Season_year                                \n",
      "1930                  70.035592           7\n",
      "1931                  69.794566           7\n",
      "1932                  69.739783           7\n",
      "1933                  69.283224           7\n",
      "1934                  69.686838           7\n",
      "...                         ...         ...\n",
      "2096                  71.411300           7\n",
      "2097                  71.681548           7\n",
      "2098                  70.537245           7\n",
      "2099                  70.889446           7\n",
      "2100                  73.192723           7\n",
      "\n",
      "[171 rows x 2 columns]\n",
      "(171, 2)\n",
      "             Evapotranspiration  Season_mon\n",
      "Season_year                                \n",
      "1930                  43.804625          10\n",
      "1931                  44.042945          10\n",
      "1932                  43.296336          10\n",
      "1933                  43.370052          10\n",
      "1934                  42.450243          10\n",
      "...                         ...         ...\n",
      "2096                  47.281412          10\n",
      "2097                  46.625037          10\n",
      "2098                  47.322062          10\n",
      "2099                  47.463939          10\n",
      "2100                  46.929810          10\n",
      "\n",
      "[171 rows x 2 columns]\n",
      "(171,)\n",
      "Season_year\n",
      "1930    15.321423\n",
      "1931    15.483013\n",
      "1932    15.788167\n",
      "1933    15.415206\n",
      "1934    16.072623\n",
      "          ...    \n",
      "2096    21.588914\n",
      "2097    21.607576\n",
      "2098    21.100752\n",
      "2099    21.263822\n",
      "2100    21.431734\n",
      "Name: Evapotranspiration, Length: 171, dtype: float64\n",
      "(171,)\n",
      "Season_year\n",
      "1930    34.459340\n",
      "1931    34.417554\n",
      "1932    34.800254\n",
      "1933    34.357810\n",
      "1934    35.436121\n",
      "          ...    \n",
      "2096    50.940450\n",
      "2097    49.731623\n",
      "2098    51.414097\n",
      "2099    50.713288\n",
      "2100    51.118223\n",
      "Name: Evapotranspiration, Length: 171, dtype: float64\n",
      "(171,)\n",
      "Season_year\n",
      "1930    70.035592\n",
      "1931    69.794566\n",
      "1932    69.739783\n",
      "1933    69.283224\n",
      "1934    69.686838\n",
      "          ...    \n",
      "2096    71.411300\n",
      "2097    71.681548\n",
      "2098    70.537245\n",
      "2099    70.889446\n",
      "2100    73.192723\n",
      "Name: Evapotranspiration, Length: 171, dtype: float64\n",
      "(171,)\n",
      "Season_year\n",
      "1930    43.804625\n",
      "1931    44.042945\n",
      "1932    43.296336\n",
      "1933    43.370052\n",
      "1934    42.450243\n",
      "          ...    \n",
      "2096    47.281412\n",
      "2097    46.625037\n",
      "2098    47.322062\n",
      "2099    47.463939\n",
      "2100    46.929810\n",
      "Name: Evapotranspiration, Length: 171, dtype: float64\n"
     ]
    }
   ],
   "source": [
    "\n",
    "param_masked_ensMean_basinAvg_Ohio_xarray = xr.DataArray(param_masked_ensMean_basinAvg_Ohio, coords=[Month_steps], dims=[\"Month_steps\"])\n",
    "print(param_masked_ensMean_basinAvg_Ohio_xarray.shape)\n",
    "print(param_masked_ensMean_basinAvg_Ohio_xarray)\n",
    "\n",
    "#df['Day_steps'] = dates_histSelScen\n",
    "param_masked_ensMean_basinAvg_Ohio_xarray['Month_steps'] = pd.to_datetime(dates_histSelScen)\n",
    "print(param_masked_ensMean_basinAvg_Ohio_xarray.shape)\n",
    "print(param_masked_ensMean_basinAvg_Ohio_xarray.head(3))\n",
    "\n",
    "#df = disch_histSel_Scen_ensMean_vicks_xarray.to_dataframe(name='Discharge').unstack().reset_index()\n",
    "df_param_Ohio = param_masked_ensMean_basinAvg_Ohio_xarray.to_dataframe(name='Evapotranspiration').reset_index()\n",
    "print(df_param_Ohio.shape)\n",
    "print(df_param_Ohio.head(3))\n",
    "\n",
    "df_param_Ohio['Season_year'] = df_param_Ohio.Month_steps.dt.year.where(df_param_Ohio.Month_steps.dt.month < 12, df_param_Ohio.Month_steps.dt.year + 1)\n",
    "print(df_param_Ohio.shape)\n",
    "print(df_param_Ohio.head(15))\n",
    "#++++++++++++++++++++++++++++++++++++++++++++++++++++++++++++++++++++++++++++++++++++++++++\n",
    "\n",
    "\n",
    "df_param_Ohio['Season_mon'] = df_param_Ohio.Month_steps.dt.month.where(df_param_Ohio.Month_steps.dt.month == 1, df_param_Ohio.Month_steps.dt.month)\n",
    "print(df_param_Ohio.shape)\n",
    "print(df_param_Ohio.head(15))\n",
    "\n",
    "df_param_Ohio['Season'] = df_param_Ohio['Season_mon'].map(Season)\n",
    "#display(df_param_Ohio.head())\n",
    "print(df_param_Ohio.shape)\n",
    "print(df_param_Ohio.head(15))\n",
    "\n",
    "df_param_winter_Ohio_withOneExtra = df_param_Ohio[df_param_Ohio[\"Season\"] == 'Winter'].groupby('Season_year').mean('Season_year')\n",
    "print(df_param_winter_Ohio_withOneExtra.shape)\n",
    "print(df_param_winter_Ohio_withOneExtra)\n",
    "\n",
    "## to Delete the last (unwanted) row\n",
    "df_param_winter_Ohio = df_param_winter_Ohio_withOneExtra.iloc[:-1 , :]\n",
    "print(df_param_winter_Ohio.shape)\n",
    "print(df_param_winter_Ohio.tail())\n",
    "#+++++++++++++++++++++++++++++++++++++++++++++++++++++++++++++++++++++++++++++++++++++\n",
    "\n",
    "\n",
    "## Split into Seasons\n",
    "df_param_spring_Ohio = df_param_Missouri[df_param_Ohio[\"Season\"] == 'Spring'].groupby('Season_year').mean('Season_year')\n",
    "print(df_param_spring_Ohio.shape)\n",
    "print(df_param_spring_Ohio)\n",
    "\n",
    "df_param_summer_Ohio = df_param_Missouri[df_param_Ohio[\"Season\"] == 'Summer'].groupby('Season_year').mean('Season_year')\n",
    "print(df_param_summer_Ohio.shape)\n",
    "print(df_param_summer_Ohio)\n",
    "\n",
    "df_param_fall_Ohio = df_param_Ohio[df_param_Ohio[\"Season\"] == 'Fall'].groupby('Season_year').mean('Season_year')\n",
    "print(df_param_fall_Ohio.shape)\n",
    "print(df_param_fall_Ohio)\n",
    "\n",
    "param_winter_Ohio = df_param_winter_Ohio['Evapotranspiration']\n",
    "print(param_winter_Ohio.shape)\n",
    "print(param_winter_Ohio)\n",
    "\n",
    "param_spring_Ohio = df_param_spring_Ohio['Evapotranspiration']\n",
    "print(param_spring_Ohio.shape)\n",
    "print(param_spring_Ohio)\n",
    "\n",
    "param_summer_Ohio = df_param_summer_Ohio['Evapotranspiration']\n",
    "print(param_summer_Ohio.shape)\n",
    "print(param_summer_Ohio)\n",
    "\n",
    "param_fall_Ohio = df_param_fall_Ohio['Evapotranspiration']\n",
    "print(param_fall_Ohio.shape)\n",
    "print(param_fall_Ohio)\n",
    "#+++++++++++++++++++++++++++++++++++++++++++++++++++++++++++++++++++++++++++++++++++++\n"
   ]
  },
  {
   "cell_type": "code",
   "execution_count": null,
   "metadata": {},
   "outputs": [],
   "source": []
  },
  {
   "cell_type": "markdown",
   "metadata": {},
   "source": [
    "## Lower Mississippi basin"
   ]
  },
  {
   "cell_type": "code",
   "execution_count": 47,
   "metadata": {},
   "outputs": [
    {
     "name": "stdout",
     "output_type": "stream",
     "text": [
      "(2052,)\n"
     ]
    }
   ],
   "source": [
    "print(param_masked_ensMean_basinAvg_lowMissi.shape)"
   ]
  },
  {
   "cell_type": "code",
   "execution_count": 48,
   "metadata": {},
   "outputs": [
    {
     "name": "stdout",
     "output_type": "stream",
     "text": [
      "(2052,)\n",
      "<xarray.DataArray (Month_steps: 2052)>\n",
      "array([17.44775595, 23.87248314, 39.10918264, ..., 51.61682105,\n",
      "       34.18673633, 25.0575712 ])\n",
      "Coordinates:\n",
      "  * Month_steps  (Month_steps) int32 0 1 2 3 4 5 ... 2047 2048 2049 2050 2051\n",
      "(2052,)\n",
      "<xarray.DataArray (Month_steps: 3)>\n",
      "array([17.44775595, 23.87248314, 39.10918264])\n",
      "Coordinates:\n",
      "  * Month_steps  (Month_steps) datetime64[ns] 1930-01-01 1930-02-01 1930-03-01\n",
      "(2052, 2)\n",
      "  Month_steps  Evapotranspiration\n",
      "0  1930-01-01           17.447756\n",
      "1  1930-02-01           23.872483\n",
      "2  1930-03-01           39.109183\n",
      "(2052, 3)\n",
      "   Month_steps  Evapotranspiration  Season_year\n",
      "0   1930-01-01           17.447756         1930\n",
      "1   1930-02-01           23.872483         1930\n",
      "2   1930-03-01           39.109183         1930\n",
      "3   1930-04-01           63.765442         1930\n",
      "4   1930-05-01           94.747415         1930\n",
      "5   1930-06-01          107.327427         1930\n",
      "6   1930-07-01           94.756906         1930\n",
      "7   1930-08-01           72.346843         1930\n",
      "8   1930-09-01           56.909246         1930\n",
      "9   1930-10-01           41.018615         1930\n",
      "10  1930-11-01           26.342724         1930\n",
      "11  1930-12-01           18.491026         1931\n",
      "12  1931-01-01           17.460190         1931\n",
      "13  1931-02-01           23.791300         1931\n",
      "14  1931-03-01           39.011597         1931\n",
      "(2052, 4)\n",
      "   Month_steps  Evapotranspiration  Season_year  Season_mon\n",
      "0   1930-01-01           17.447756         1930           1\n",
      "1   1930-02-01           23.872483         1930           2\n",
      "2   1930-03-01           39.109183         1930           3\n",
      "3   1930-04-01           63.765442         1930           4\n",
      "4   1930-05-01           94.747415         1930           5\n",
      "5   1930-06-01          107.327427         1930           6\n",
      "6   1930-07-01           94.756906         1930           7\n",
      "7   1930-08-01           72.346843         1930           8\n",
      "8   1930-09-01           56.909246         1930           9\n",
      "9   1930-10-01           41.018615         1930          10\n",
      "10  1930-11-01           26.342724         1930          11\n",
      "11  1930-12-01           18.491026         1931          12\n",
      "12  1931-01-01           17.460190         1931           1\n",
      "13  1931-02-01           23.791300         1931           2\n",
      "14  1931-03-01           39.011597         1931           3\n",
      "(2052, 5)\n",
      "   Month_steps  Evapotranspiration  Season_year  Season_mon  Season\n",
      "0   1930-01-01           17.447756         1930           1  Winter\n",
      "1   1930-02-01           23.872483         1930           2  Winter\n",
      "2   1930-03-01           39.109183         1930           3  Spring\n",
      "3   1930-04-01           63.765442         1930           4  Spring\n",
      "4   1930-05-01           94.747415         1930           5  Spring\n",
      "5   1930-06-01          107.327427         1930           6  Summer\n",
      "6   1930-07-01           94.756906         1930           7  Summer\n",
      "7   1930-08-01           72.346843         1930           8  Summer\n",
      "8   1930-09-01           56.909246         1930           9    Fall\n",
      "9   1930-10-01           41.018615         1930          10    Fall\n",
      "10  1930-11-01           26.342724         1930          11    Fall\n",
      "11  1930-12-01           18.491026         1931          12  Winter\n",
      "12  1931-01-01           17.460190         1931           1  Winter\n",
      "13  1931-02-01           23.791300         1931           2  Winter\n",
      "14  1931-03-01           39.011597         1931           3  Spring\n",
      "(172, 2)\n",
      "             Evapotranspiration  Season_mon\n",
      "Season_year                                \n",
      "1930                  20.660120         1.5\n",
      "1931                  19.914172         5.0\n",
      "1932                  20.154738         5.0\n",
      "1933                  20.378639         5.0\n",
      "1934                  20.347433         5.0\n",
      "...                         ...         ...\n",
      "2097                  26.966938         5.0\n",
      "2098                  26.798978         5.0\n",
      "2099                  27.047007         5.0\n",
      "2100                  27.056665         5.0\n",
      "2101                  25.057571        12.0\n",
      "\n",
      "[172 rows x 2 columns]\n",
      "(171, 2)\n",
      "             Evapotranspiration  Season_mon\n",
      "Season_year                                \n",
      "2096                  27.306983         5.0\n",
      "2097                  26.966938         5.0\n",
      "2098                  26.798978         5.0\n",
      "2099                  27.047007         5.0\n",
      "2100                  27.056665         5.0\n",
      "(171, 2)\n",
      "             Evapotranspiration  Season_mon\n",
      "Season_year                                \n",
      "1930                  65.874013           4\n",
      "1931                  65.660677           4\n",
      "1932                  66.164744           4\n",
      "1933                  66.284775           4\n",
      "1934                  67.112275           4\n",
      "...                         ...         ...\n",
      "2096                  78.501163           4\n",
      "2097                  78.046590           4\n",
      "2098                  78.286008           4\n",
      "2099                  78.341457           4\n",
      "2100                  78.449618           4\n",
      "\n",
      "[171 rows x 2 columns]\n",
      "(171, 2)\n",
      "             Evapotranspiration  Season_mon\n",
      "Season_year                                \n",
      "1930                  91.477059           7\n",
      "1931                  93.498163           7\n",
      "1932                  92.806375           7\n",
      "1933                  94.049764           7\n",
      "1934                  92.824811           7\n",
      "...                         ...         ...\n",
      "2096                 103.046548           7\n",
      "2097                 101.849790           7\n",
      "2098                 102.254546           7\n",
      "2099                 101.831037           7\n",
      "2100                 102.141309           7\n",
      "\n",
      "[171 rows x 2 columns]\n",
      "(171, 2)\n",
      "             Evapotranspiration  Season_mon\n",
      "Season_year                                \n",
      "1930                  41.423528          10\n",
      "1931                  42.889863          10\n",
      "1932                  42.346563          10\n",
      "1933                  42.100491          10\n",
      "1934                  41.822125          10\n",
      "...                         ...         ...\n",
      "2096                  53.797795          10\n",
      "2097                  52.629151          10\n",
      "2098                  52.605419          10\n",
      "2099                  53.849843          10\n",
      "2100                  52.301334          10\n",
      "\n",
      "[171 rows x 2 columns]\n",
      "(171,)\n",
      "Season_year\n",
      "1930    20.660120\n",
      "1931    19.914172\n",
      "1932    20.154738\n",
      "1933    20.378639\n",
      "1934    20.347433\n",
      "          ...    \n",
      "2096    27.306983\n",
      "2097    26.966938\n",
      "2098    26.798978\n",
      "2099    27.047007\n",
      "2100    27.056665\n",
      "Name: Evapotranspiration, Length: 171, dtype: float64\n",
      "(171,)\n",
      "Season_year\n",
      "1930    65.874013\n",
      "1931    65.660677\n",
      "1932    66.164744\n",
      "1933    66.284775\n",
      "1934    67.112275\n",
      "          ...    \n",
      "2096    78.501163\n",
      "2097    78.046590\n",
      "2098    78.286008\n",
      "2099    78.341457\n",
      "2100    78.449618\n",
      "Name: Evapotranspiration, Length: 171, dtype: float64\n",
      "(171,)\n",
      "Season_year\n",
      "1930     91.477059\n",
      "1931     93.498163\n",
      "1932     92.806375\n",
      "1933     94.049764\n",
      "1934     92.824811\n",
      "           ...    \n",
      "2096    103.046548\n",
      "2097    101.849790\n",
      "2098    102.254546\n",
      "2099    101.831037\n",
      "2100    102.141309\n",
      "Name: Evapotranspiration, Length: 171, dtype: float64\n",
      "(171,)\n",
      "Season_year\n",
      "1930    41.423528\n",
      "1931    42.889863\n",
      "1932    42.346563\n",
      "1933    42.100491\n",
      "1934    41.822125\n",
      "          ...    \n",
      "2096    53.797795\n",
      "2097    52.629151\n",
      "2098    52.605419\n",
      "2099    53.849843\n",
      "2100    52.301334\n",
      "Name: Evapotranspiration, Length: 171, dtype: float64\n"
     ]
    }
   ],
   "source": [
    "param_masked_ensMean_basinAvg_lowMissi_xarray = xr.DataArray(param_masked_ensMean_basinAvg_lowMissi, coords=[Month_steps], dims=[\"Month_steps\"])\n",
    "print(param_masked_ensMean_basinAvg_lowMissi_xarray.shape)\n",
    "print(param_masked_ensMean_basinAvg_lowMissi_xarray)\n",
    "\n",
    "#df['Day_steps'] = dates_histSelScen\n",
    "param_masked_ensMean_basinAvg_lowMissi_xarray['Month_steps'] = pd.to_datetime(dates_histSelScen)\n",
    "print(param_masked_ensMean_basinAvg_lowMissi_xarray.shape)\n",
    "print(param_masked_ensMean_basinAvg_lowMissi_xarray.head(3))\n",
    "\n",
    "#df = disch_histSel_Scen_ensMean_vicks_xarray.to_dataframe(name='Discharge').unstack().reset_index()\n",
    "df_param_lowMissi = param_masked_ensMean_basinAvg_lowMissi_xarray.to_dataframe(name='Evapotranspiration').reset_index()\n",
    "print(df_param_lowMissi.shape)\n",
    "print(df_param_lowMissi.head(3))\n",
    "\n",
    "df_param_lowMissi['Season_year'] = df_param_lowMissi.Month_steps.dt.year.where(df_param_lowMissi.Month_steps.dt.month < 12, df_param_lowMissi.Month_steps.dt.year + 1)\n",
    "print(df_param_lowMissi.shape)\n",
    "print(df_param_lowMissi.head(15))\n",
    "#++++++++++++++++++++++++++++++++++++++++++++++++++++++++++++++++++++++++++++++++++++++++++\n",
    "\n",
    "df_param_lowMissi['Season_mon'] = df_param_lowMissi.Month_steps.dt.month.where(df_param_lowMissi.Month_steps.dt.month == 1, df_param_lowMissi.Month_steps.dt.month)\n",
    "print(df_param_lowMissi.shape)\n",
    "print(df_param_lowMissi.head(15))\n",
    "\n",
    "df_param_lowMissi['Season'] = df_param_lowMissi['Season_mon'].map(Season)\n",
    "#display(df_param_lowMissi.head())\n",
    "print(df_param_lowMissi.shape)\n",
    "print(df_param_lowMissi.head(15))\n",
    "\n",
    "df_param_winter_lowMissi_withOneExtra = df_param_lowMissi[df_param_lowMissi[\"Season\"] == 'Winter'].groupby('Season_year').mean('Season_year')\n",
    "print(df_param_winter_lowMissi_withOneExtra.shape)\n",
    "print(df_param_winter_lowMissi_withOneExtra)\n",
    "\n",
    "## to Delete the last (unwanted) row\n",
    "df_param_winter_lowMissi = df_param_winter_lowMissi_withOneExtra.iloc[:-1 , :]\n",
    "print(df_param_winter_lowMissi.shape)\n",
    "print(df_param_winter_lowMissi.tail())\n",
    "#+++++++++++++++++++++++++++++++++++++++++++++++++++++++++++++++++++++++++++++++++++++\n",
    "\n",
    "\n",
    "## Split into Seasons\n",
    "df_param_spring_lowMissi = df_param_lowMissi[df_param_lowMissi[\"Season\"] == 'Spring'].groupby('Season_year').mean('Season_year')\n",
    "print(df_param_spring_lowMissi.shape)\n",
    "print(df_param_spring_lowMissi)\n",
    "\n",
    "df_param_summer_lowMissi = df_param_lowMissi[df_param_lowMissi[\"Season\"] == 'Summer'].groupby('Season_year').mean('Season_year')\n",
    "print(df_param_summer_lowMissi.shape)\n",
    "print(df_param_summer_lowMissi)\n",
    "\n",
    "df_param_fall_lowMissi = df_param_lowMissi[df_param_lowMissi[\"Season\"] == 'Fall'].groupby('Season_year').mean('Season_year')\n",
    "print(df_param_fall_lowMissi.shape)\n",
    "print(df_param_fall_lowMissi)\n",
    "\n",
    "param_winter_lowMissi = df_param_winter_lowMissi['Evapotranspiration']\n",
    "print(param_winter_lowMissi.shape)\n",
    "print(param_winter_lowMissi)\n",
    "\n",
    "param_spring_lowMissi = df_param_spring_lowMissi['Evapotranspiration']\n",
    "print(param_spring_lowMissi.shape)\n",
    "print(param_spring_lowMissi)\n",
    "\n",
    "param_summer_lowMissi = df_param_summer_lowMissi['Evapotranspiration']\n",
    "print(param_summer_lowMissi.shape)\n",
    "print(param_summer_lowMissi)\n",
    "\n",
    "param_fall_lowMissi = df_param_fall_lowMissi['Evapotranspiration']\n",
    "print(param_fall_lowMissi.shape)\n",
    "print(param_fall_lowMissi)\n",
    "\n"
   ]
  },
  {
   "cell_type": "code",
   "execution_count": null,
   "metadata": {},
   "outputs": [],
   "source": []
  },
  {
   "cell_type": "markdown",
   "metadata": {},
   "source": [
    "## Plotting Evapotranspiration Values for the four basins in the four seasons"
   ]
  },
  {
   "cell_type": "code",
   "execution_count": 49,
   "metadata": {},
   "outputs": [
    {
     "name": "stdout",
     "output_type": "stream",
     "text": [
      "(171,)\n",
      "(171,)\n",
      "(171,)\n",
      "(171,)\n",
      "\n",
      "(171,)\n",
      "(171,)\n",
      "(171,)\n",
      "(171,)\n",
      "\n",
      "(171,)\n",
      "(171,)\n",
      "(171,)\n",
      "(171,)\n",
      "\n",
      "(171,)\n",
      "(171,)\n",
      "(171,)\n",
      "(171,)\n"
     ]
    }
   ],
   "source": [
    "print(param_winter_Missouri.shape)\n",
    "print(param_spring_Missouri.shape)\n",
    "print(param_summer_Missouri.shape)\n",
    "print(param_fall_Missouri.shape)\n",
    "\n",
    "print('')\n",
    "print(param_winter_Arkansas.shape)\n",
    "print(param_spring_Arkansas.shape)\n",
    "print(param_summer_Arkansas.shape)\n",
    "print(param_fall_Arkansas.shape)\n",
    "\n",
    "print('')\n",
    "print(param_winter_Ohio.shape)\n",
    "print(param_spring_Ohio.shape)\n",
    "print(param_summer_Ohio.shape)\n",
    "print(param_fall_Ohio.shape)\n",
    "\n",
    "print('')\n",
    "print(param_winter_lowMissi.shape)\n",
    "print(param_spring_lowMissi.shape)\n",
    "print(param_summer_lowMissi.shape)\n",
    "print(param_fall_lowMissi.shape)\n",
    "\n"
   ]
  },
  {
   "cell_type": "markdown",
   "metadata": {},
   "source": [
    "## Find the maximum value for each basin"
   ]
  },
  {
   "cell_type": "code",
   "execution_count": 50,
   "metadata": {},
   "outputs": [
    {
     "name": "stdout",
     "output_type": "stream",
     "text": [
      "76.63093414092747\n",
      "74.03887789372675\n",
      "76.63093414092747\n",
      "104.83786150330809\n"
     ]
    }
   ],
   "source": [
    "param_max_Missouri = np.nanmax(param_summer_Missouri)\n",
    "print(param_max_Missouri)\n",
    "\n",
    "param_max_Arkansas = np.nanmax(param_summer_Arkansas)\n",
    "print(param_max_Arkansas)\n",
    "\n",
    "param_max_Ohio = np.nanmax(param_summer_Ohio)\n",
    "print(param_max_Ohio)\n",
    "\n",
    "param_max_lowMissi = np.nanmax(param_summer_lowMissi)\n",
    "print(param_max_lowMissi)\n"
   ]
  },
  {
   "cell_type": "code",
   "execution_count": 51,
   "metadata": {},
   "outputs": [
    {
     "name": "stdout",
     "output_type": "stream",
     "text": [
      "\n",
      "\n",
      "\n",
      "\n"
     ]
    }
   ],
   "source": [
    "\n",
    "param_winter_ratio_Missouri = param_winter_Missouri/param_max_Missouri\n",
    "param_spring_ratio_Missouri = param_spring_Missouri/param_max_Missouri\n",
    "param_summer_ratio_Missouri = param_summer_Missouri/param_max_Missouri\n",
    "param_fall_ratio_Missouri = param_fall_Missouri/param_max_Missouri\n",
    "print('')\n",
    "\n",
    "\n",
    "param_winter_ratio_Arkansas = param_winter_Arkansas/param_max_Arkansas\n",
    "param_spring_ratio_Arkansas = param_spring_Arkansas/param_max_Arkansas\n",
    "param_summer_ratio_Arkansas = param_summer_Arkansas/param_max_Arkansas\n",
    "param_fall_ratio_Arkansas = param_fall_Arkansas/param_max_Arkansas\n",
    "print('')\n",
    "\n",
    "param_winter_ratio_Ohio = param_winter_Ohio/param_max_Ohio\n",
    "param_spring_ratio_Ohio = param_spring_Ohio/param_max_Ohio\n",
    "param_summer_ratio_Ohio = param_summer_Ohio/param_max_Ohio\n",
    "param_fall_ratio_Ohio = param_fall_Ohio/param_max_Ohio\n",
    "print('')\n",
    "\n",
    "param_winter_ratio_lowMissi = param_winter_lowMissi/param_max_lowMissi\n",
    "param_spring_ratio_lowMissi = param_spring_lowMissi/param_max_lowMissi\n",
    "param_summer_ratio_lowMissi = param_summer_lowMissi/param_max_lowMissi\n",
    "param_fall_ratio_lowMissi = param_fall_lowMissi/param_max_lowMissi\n",
    "print('')\n"
   ]
  },
  {
   "cell_type": "code",
   "execution_count": null,
   "metadata": {},
   "outputs": [],
   "source": []
  },
  {
   "cell_type": "code",
   "execution_count": null,
   "metadata": {},
   "outputs": [],
   "source": []
  },
  {
   "cell_type": "markdown",
   "metadata": {},
   "source": [
    "## Compute Anomalies"
   ]
  },
  {
   "cell_type": "markdown",
   "metadata": {},
   "source": [
    "## The Four time slots"
   ]
  },
  {
   "cell_type": "code",
   "execution_count": 52,
   "metadata": {},
   "outputs": [],
   "source": [
    "histYrSelSt = 1930\n",
    "\n",
    "refPeriodYrSt = 1971\n",
    "refPeriodYrEnd = 2000\n",
    "\n",
    "scenYrSt = 2015\n",
    "scenEraTwoYrSt = 2045\n",
    "scenEraThreeYrSt = 2075\n",
    "\n",
    "scenYrEnd = 2100\n",
    "#"
   ]
  },
  {
   "cell_type": "code",
   "execution_count": 53,
   "metadata": {},
   "outputs": [
    {
     "name": "stdout",
     "output_type": "stream",
     "text": [
      "12\n"
     ]
    }
   ],
   "source": [
    "nMonsPerYr = 12     \n",
    "print(nMonsPerYr)"
   ]
  },
  {
   "cell_type": "code",
   "execution_count": null,
   "metadata": {},
   "outputs": [],
   "source": []
  },
  {
   "cell_type": "markdown",
   "metadata": {},
   "source": [
    "## Reference Period"
   ]
  },
  {
   "cell_type": "code",
   "execution_count": 54,
   "metadata": {},
   "outputs": [
    {
     "name": "stdout",
     "output_type": "stream",
     "text": [
      "41 71\n",
      "30\n"
     ]
    }
   ],
   "source": [
    "refPeriodStepSt = refPeriodYrSt - histYrSelSt\n",
    "refPeriodStepEnd = refPeriodYrEnd - histYrSelSt + 1\n",
    "print(refPeriodStepSt, refPeriodStepEnd)\n",
    "print(refPeriodStepEnd-refPeriodStepSt)"
   ]
  },
  {
   "cell_type": "markdown",
   "metadata": {},
   "source": [
    "## Era1"
   ]
  },
  {
   "cell_type": "code",
   "execution_count": 55,
   "metadata": {},
   "outputs": [
    {
     "name": "stdout",
     "output_type": "stream",
     "text": [
      "85 115\n",
      "30\n"
     ]
    }
   ],
   "source": [
    "scenEraOneStepSt = scenYrSt - histYrSelSt\n",
    "scenEraOneStepEnd = scenEraTwoYrSt - histYrSelSt\n",
    "print(scenEraOneStepSt, scenEraOneStepEnd)\n",
    "print(scenEraOneStepEnd-scenEraOneStepSt)"
   ]
  },
  {
   "cell_type": "markdown",
   "metadata": {},
   "source": [
    "## Era2"
   ]
  },
  {
   "cell_type": "code",
   "execution_count": 56,
   "metadata": {},
   "outputs": [
    {
     "name": "stdout",
     "output_type": "stream",
     "text": [
      "115 145\n",
      "30\n"
     ]
    }
   ],
   "source": [
    "scenEraTwoStepSt = scenEraTwoYrSt - histYrSelSt\n",
    "scenEraTwoStepEnd = scenEraThreeYrSt - histYrSelSt\n",
    "print(scenEraTwoStepSt, scenEraTwoStepEnd)\n",
    "print(scenEraTwoStepEnd-scenEraTwoStepSt)"
   ]
  },
  {
   "cell_type": "markdown",
   "metadata": {},
   "source": [
    "## Era3"
   ]
  },
  {
   "cell_type": "code",
   "execution_count": 57,
   "metadata": {},
   "outputs": [
    {
     "name": "stdout",
     "output_type": "stream",
     "text": [
      "145 171\n",
      "26\n"
     ]
    }
   ],
   "source": [
    "scenEraThreeStepSt = scenEraThreeYrSt - histYrSelSt\n",
    "scenEraThreeStepEnd = scenYrEnd - histYrSelSt + 1\n",
    "print(scenEraThreeStepSt, scenEraThreeStepEnd)\n",
    "print(scenEraThreeStepEnd-scenEraThreeStepSt)"
   ]
  },
  {
   "cell_type": "code",
   "execution_count": null,
   "metadata": {},
   "outputs": [],
   "source": []
  },
  {
   "cell_type": "code",
   "execution_count": 58,
   "metadata": {},
   "outputs": [
    {
     "name": "stdout",
     "output_type": "stream",
     "text": [
      "(171,)\n",
      "(171,)\n",
      "(171,)\n",
      "(171,)\n",
      "\n",
      "(171,)\n",
      "(171,)\n",
      "(171,)\n",
      "(171,)\n",
      "\n",
      "(171,)\n",
      "(171,)\n",
      "(171,)\n",
      "(171,)\n",
      "\n",
      "(171,)\n",
      "(171,)\n",
      "(171,)\n",
      "(171,)\n"
     ]
    }
   ],
   "source": [
    "print(param_winter_Missouri.shape)\n",
    "print(param_spring_Missouri.shape)\n",
    "print(param_summer_Missouri.shape)\n",
    "print(param_fall_Missouri.shape)\n",
    "\n",
    "print('')\n",
    "print(param_winter_Arkansas.shape)\n",
    "print(param_spring_Arkansas.shape)\n",
    "print(param_summer_Arkansas.shape)\n",
    "print(param_fall_Arkansas.shape)\n",
    "\n",
    "print('')\n",
    "print(param_winter_Ohio.shape)\n",
    "print(param_spring_Ohio.shape)\n",
    "print(param_summer_Ohio.shape)\n",
    "print(param_fall_Ohio.shape)\n",
    "\n",
    "print('')\n",
    "print(param_winter_lowMissi.shape)\n",
    "print(param_spring_lowMissi.shape)\n",
    "print(param_summer_lowMissi.shape)\n",
    "print(param_fall_lowMissi.shape)\n"
   ]
  },
  {
   "cell_type": "code",
   "execution_count": null,
   "metadata": {},
   "outputs": [],
   "source": []
  },
  {
   "cell_type": "markdown",
   "metadata": {},
   "source": [
    "## Missouri basin"
   ]
  },
  {
   "cell_type": "code",
   "execution_count": 59,
   "metadata": {},
   "outputs": [
    {
     "name": "stdout",
     "output_type": "stream",
     "text": [
      "(30,)\n",
      "(30,)\n",
      "(30,)\n",
      "(26,)\n",
      "(30,)\n",
      "(30,)\n",
      "(30,)\n",
      "(26,)\n",
      "(30,)\n",
      "(30,)\n",
      "(30,)\n",
      "(26,)\n",
      "(30,)\n",
      "(30,)\n",
      "(30,)\n",
      "(26,)\n"
     ]
    }
   ],
   "source": [
    "## Winter\n",
    "param_winter_refPeriod_Missouri = param_winter_Missouri[refPeriodStepSt:refPeriodStepEnd]\n",
    "print(param_winter_refPeriod_Missouri.shape)\n",
    "\n",
    "param_winter_eraOne_Missouri = param_winter_Missouri[scenEraOneStepSt:scenEraOneStepEnd]\n",
    "print(param_winter_eraOne_Missouri.shape)\n",
    "\n",
    "param_winter_eraTwo_Missouri = param_winter_Missouri[scenEraTwoStepSt:scenEraTwoStepEnd]\n",
    "print(param_winter_eraTwo_Missouri.shape)\n",
    "\n",
    "param_winter_eraThree_Missouri = param_winter_Missouri[scenEraThreeStepSt:scenEraThreeStepEnd]\n",
    "print(param_winter_eraThree_Missouri.shape)\n",
    "#+++++++++++++++++++++++++++++++++++++++++++++++++++++++++++++++++++++++++++++++++++++++++++++++++++++++++\n",
    "\n",
    "## Spring\n",
    "param_spring_refPeriod_Missouri = param_spring_Missouri[refPeriodStepSt:refPeriodStepEnd]\n",
    "print(param_spring_refPeriod_Missouri.shape)\n",
    "\n",
    "param_spring_eraOne_Missouri = param_spring_Missouri[scenEraOneStepSt:scenEraOneStepEnd]\n",
    "print(param_spring_eraOne_Missouri.shape)\n",
    "\n",
    "param_spring_eraTwo_Missouri = param_spring_Missouri[scenEraTwoStepSt:scenEraTwoStepEnd]\n",
    "print(param_spring_eraTwo_Missouri.shape)\n",
    "\n",
    "param_spring_eraThree_Missouri = param_spring_Missouri[scenEraThreeStepSt:scenEraThreeStepEnd]\n",
    "print(param_spring_eraThree_Missouri.shape)\n",
    "\n",
    "## Summer\n",
    "param_summer_refPeriod_Missouri = param_summer_Missouri[refPeriodStepSt:refPeriodStepEnd]\n",
    "print(param_summer_refPeriod_Missouri.shape)\n",
    "\n",
    "param_summer_eraOne_Missouri = param_summer_Missouri[scenEraOneStepSt:scenEraOneStepEnd]\n",
    "print(param_summer_eraOne_Missouri.shape)\n",
    "\n",
    "param_summer_eraTwo_Missouri = param_summer_Missouri[scenEraTwoStepSt:scenEraTwoStepEnd]\n",
    "print(param_summer_eraTwo_Missouri.shape)\n",
    "\n",
    "param_summer_eraThree_Missouri = param_summer_Missouri[scenEraThreeStepSt:scenEraThreeStepEnd]\n",
    "print(param_summer_eraThree_Missouri.shape)\n",
    "\n",
    "## Fall\n",
    "param_fall_refPeriod_Missouri = param_fall_Missouri[refPeriodStepSt:refPeriodStepEnd]\n",
    "print(param_fall_refPeriod_Missouri.shape)\n",
    "\n",
    "param_fall_eraOne_Missouri = param_fall_Missouri[scenEraOneStepSt:scenEraOneStepEnd]\n",
    "print(param_fall_eraOne_Missouri.shape)\n",
    "\n",
    "param_fall_eraTwo_Missouri = param_fall_Missouri[scenEraTwoStepSt:scenEraTwoStepEnd]\n",
    "print(param_fall_eraTwo_Missouri.shape)\n",
    "\n",
    "param_fall_eraThree_Missouri = param_fall_Missouri[scenEraThreeStepSt:scenEraThreeStepEnd]\n",
    "print(param_fall_eraThree_Missouri.shape)\n",
    "#====================================================\n"
   ]
  },
  {
   "cell_type": "code",
   "execution_count": 60,
   "metadata": {},
   "outputs": [
    {
     "name": "stdout",
     "output_type": "stream",
     "text": [
      "4.121589902453542\n",
      "0.25400139437377106\n",
      "35.986245125427196\n",
      "0.7477353720787092\n",
      "75.12463091309816\n",
      "0.7543704086149019\n",
      "19.62248968808949\n",
      "0.24488879887877482\n"
     ]
    }
   ],
   "source": [
    "## Find the mean and standard deviation of the reference period values\n",
    "## Winter\n",
    "param_winter_refPeriodMean_refPeriod_Missouri = np.nanmean(param_winter_refPeriod_Missouri)\n",
    "print(param_winter_refPeriodMean_refPeriod_Missouri)\n",
    "param_winter_refPeriodStd_refPeriod_Missouri = np.nanstd(param_winter_refPeriod_Missouri)\n",
    "print(param_winter_refPeriodStd_refPeriod_Missouri)\n",
    "\n",
    "## Spring\n",
    "param_spring_refPeriodMean_refPeriod_Missouri = np.nanmean(param_spring_refPeriod_Missouri)\n",
    "print(param_spring_refPeriodMean_refPeriod_Missouri)\n",
    "param_spring_refPeriodStd_refPeriod_Missouri = np.nanstd(param_spring_refPeriod_Missouri)\n",
    "print(param_spring_refPeriodStd_refPeriod_Missouri)\n",
    "\n",
    "## Summer\n",
    "param_summer_refPeriodMean_refPeriod_Missouri = np.nanmean(param_summer_refPeriod_Missouri)\n",
    "print(param_summer_refPeriodMean_refPeriod_Missouri)\n",
    "param_summer_refPeriodStd_refPeriod_Missouri = np.nanstd(param_summer_refPeriod_Missouri)\n",
    "print(param_summer_refPeriodStd_refPeriod_Missouri)\n",
    "\n",
    "## Fall\n",
    "param_fall_refPeriodMean_refPeriod_Missouri = np.nanmean(param_fall_refPeriod_Missouri)\n",
    "print(param_fall_refPeriodMean_refPeriod_Missouri)\n",
    "param_fall_refPeriodStd_refPeriod_Missouri = np.nanstd(param_fall_refPeriod_Missouri)\n",
    "print(param_fall_refPeriodStd_refPeriod_Missouri)\n",
    "#+++++++++++++++++++++++++++++++++++++++++++++++++++++++++++++++++++++++++++++++++++++++++++++++++++++++++"
   ]
  },
  {
   "cell_type": "code",
   "execution_count": 61,
   "metadata": {},
   "outputs": [
    {
     "name": "stdout",
     "output_type": "stream",
     "text": [
      "(171,)\n",
      "(171,)\n",
      "(30,)\n",
      "(30,)\n",
      "(26,)\n",
      "(171,)\n",
      "(171,)\n",
      "(30,)\n",
      "(30,)\n",
      "(26,)\n",
      "(171,)\n",
      "(171,)\n",
      "(30,)\n",
      "(30,)\n",
      "(26,)\n",
      "(171,)\n",
      "(171,)\n",
      "(30,)\n",
      "(30,)\n",
      "(26,)\n"
     ]
    }
   ],
   "source": [
    "## For Anom Plot\n",
    "####### Winter\n",
    "param_winterAnom_Missouri = (param_winter_Missouri - param_winter_refPeriodMean_refPeriod_Missouri)\n",
    "print(param_winterAnom_Missouri.shape)\n",
    "param_winterAnomScore_Missouri = (param_winter_Missouri - param_winter_refPeriodMean_refPeriod_Missouri)/param_winter_refPeriodStd_refPeriod_Missouri\n",
    "print(param_winterAnomScore_Missouri.shape)\n",
    "\n",
    "## For Box Plot\n",
    "param_winterAnom_eraOne_Missouri = param_winterAnom_Missouri[scenEraOneStepSt:scenEraOneStepEnd]\n",
    "print(param_winterAnom_eraOne_Missouri.shape)\n",
    "param_winterAnom_eraTwo_Missouri = param_winterAnom_Missouri[scenEraTwoStepSt:scenEraTwoStepEnd]\n",
    "print(param_winterAnom_eraTwo_Missouri.shape)\n",
    "param_winterAnom_eraThree_Missouri = param_winterAnom_Missouri[scenEraThreeStepSt:scenEraThreeStepEnd]\n",
    "print(param_winterAnom_eraThree_Missouri.shape)\n",
    "#+++++++++++++++++++++++++++++++++++++++++++++++++++++++++++++++++++++++++++++++++++++++++++++++++++++++++++++++++++++++\n",
    "\n",
    "####### Spring\n",
    "param_springAnom_Missouri = (param_spring_Missouri - param_spring_refPeriodMean_refPeriod_Missouri)\n",
    "print(param_springAnom_Missouri.shape)\n",
    "param_springAnomScore_Missouri = (param_spring_Missouri - param_spring_refPeriodMean_refPeriod_Missouri)/param_spring_refPeriodStd_refPeriod_Missouri\n",
    "print(param_springAnomScore_Missouri.shape)\n",
    "\n",
    "## For Box Plot\n",
    "param_springAnom_eraOne_Missouri = param_springAnom_Missouri[scenEraOneStepSt:scenEraOneStepEnd]\n",
    "print(param_springAnom_eraOne_Missouri.shape)\n",
    "param_springAnom_eraTwo_Missouri = param_springAnom_Missouri[scenEraTwoStepSt:scenEraTwoStepEnd]\n",
    "print(param_springAnom_eraTwo_Missouri.shape)\n",
    "param_springAnom_eraThree_Missouri = param_springAnom_Missouri[scenEraThreeStepSt:scenEraThreeStepEnd]\n",
    "print(param_springAnom_eraThree_Missouri.shape)\n",
    "#+++++++++++++++++++++++++++++++++++++++++++++++++++++++++++++++++++++++++++++++++++++++++++++++++++++++++++++++++++++++\n",
    "\n",
    "####### Summer\n",
    "param_summerAnom_Missouri = (param_summer_Missouri - param_summer_refPeriodMean_refPeriod_Missouri)\n",
    "print(param_summerAnom_Missouri.shape)\n",
    "param_summerAnomScore_Missouri = (param_summer_Missouri - param_summer_refPeriodMean_refPeriod_Missouri)/param_summer_refPeriodStd_refPeriod_Missouri\n",
    "print(param_summerAnomScore_Missouri.shape)\n",
    "\n",
    "## For Box Plot\n",
    "param_summerAnom_eraOne_Missouri = param_summerAnom_Missouri[scenEraOneStepSt:scenEraOneStepEnd]\n",
    "print(param_summerAnom_eraOne_Missouri.shape)\n",
    "param_summerAnom_eraTwo_Missouri = param_summerAnom_Missouri[scenEraTwoStepSt:scenEraTwoStepEnd]\n",
    "print(param_summerAnom_eraTwo_Missouri.shape)\n",
    "param_summerAnom_eraThree_Missouri = param_summerAnom_Missouri[scenEraThreeStepSt:scenEraThreeStepEnd]\n",
    "print(param_summerAnom_eraThree_Missouri.shape)\n",
    "#+++++++++++++++++++++++++++++++++++++++++++++++++++++++++++++++++++++++++++++++++++++++++++++++++++++++++++++++++++++++\n",
    "\n",
    "####### Fall\n",
    "param_fallAnom_Missouri = (param_fall_Missouri - param_fall_refPeriodMean_refPeriod_Missouri)\n",
    "print(param_fallAnom_Missouri.shape)\n",
    "param_fallAnomScore_Missouri = (param_fall_Missouri - param_fall_refPeriodMean_refPeriod_Missouri)/param_fall_refPeriodStd_refPeriod_Missouri\n",
    "print(param_fallAnomScore_Missouri.shape)\n",
    "\n",
    "## For Box Plot\n",
    "param_fallAnom_eraOne_Missouri = param_fallAnom_Missouri[scenEraOneStepSt:scenEraOneStepEnd]\n",
    "print(param_fallAnom_eraOne_Missouri.shape)\n",
    "param_fallAnom_eraTwo_Missouri = param_fallAnom_Missouri[scenEraTwoStepSt:scenEraTwoStepEnd]\n",
    "print(param_fallAnom_eraTwo_Missouri.shape)\n",
    "param_fallAnom_eraThree_Missouri = param_fallAnom_Missouri[scenEraThreeStepSt:scenEraThreeStepEnd]\n",
    "print(param_fallAnom_eraThree_Missouri.shape)\n",
    "#+++++++++++++++++++++++++++++++++++++++++++++++++++++++++++++++++++++++++++++++++++++++++++++++++++++++++++++++++++++++\n",
    "\n"
   ]
  },
  {
   "cell_type": "code",
   "execution_count": null,
   "metadata": {},
   "outputs": [],
   "source": []
  },
  {
   "cell_type": "markdown",
   "metadata": {},
   "source": [
    "## Arkansas basin"
   ]
  },
  {
   "cell_type": "code",
   "execution_count": 62,
   "metadata": {},
   "outputs": [
    {
     "name": "stdout",
     "output_type": "stream",
     "text": [
      "(30,)\n",
      "(30,)\n",
      "(30,)\n",
      "(26,)\n",
      "(30,)\n",
      "(30,)\n",
      "(30,)\n",
      "(26,)\n",
      "(30,)\n",
      "(30,)\n",
      "(30,)\n",
      "(26,)\n",
      "(30,)\n",
      "(30,)\n",
      "(30,)\n",
      "(26,)\n"
     ]
    }
   ],
   "source": [
    "## Winter\n",
    "param_winter_refPeriod_Arkansas = param_winter_Arkansas[refPeriodStepSt:refPeriodStepEnd]\n",
    "print(param_winter_refPeriod_Arkansas.shape)\n",
    "\n",
    "param_winter_eraOne_Arkansas = param_winter_Arkansas[scenEraOneStepSt:scenEraOneStepEnd]\n",
    "print(param_winter_eraOne_Arkansas.shape)\n",
    "\n",
    "param_winter_eraTwo_Arkansas = param_winter_Arkansas[scenEraTwoStepSt:scenEraTwoStepEnd]\n",
    "print(param_winter_eraTwo_Arkansas.shape)\n",
    "\n",
    "param_winter_eraThree_Arkansas = param_winter_Arkansas[scenEraThreeStepSt:scenEraThreeStepEnd]\n",
    "print(param_winter_eraThree_Arkansas.shape)\n",
    "#+++++++++++++++++++++++++++++++++++++++++++++++++++++++++++++++++++++++++++++++++++++++++++++++++++++++++\n",
    "\n",
    "## Spring\n",
    "param_spring_refPeriod_Arkansas = param_spring_Arkansas[refPeriodStepSt:refPeriodStepEnd]\n",
    "print(param_spring_refPeriod_Arkansas.shape)\n",
    "\n",
    "param_spring_eraOne_Arkansas = param_spring_Arkansas[scenEraOneStepSt:scenEraOneStepEnd]\n",
    "print(param_spring_eraOne_Arkansas.shape)\n",
    "\n",
    "param_spring_eraTwo_Arkansas = param_spring_Arkansas[scenEraTwoStepSt:scenEraTwoStepEnd]\n",
    "print(param_spring_eraTwo_Arkansas.shape)\n",
    "\n",
    "param_spring_eraThree_Arkansas = param_spring_Arkansas[scenEraThreeStepSt:scenEraThreeStepEnd]\n",
    "print(param_spring_eraThree_Arkansas.shape)\n",
    "\n",
    "## Summer\n",
    "param_summer_refPeriod_Arkansas = param_summer_Arkansas[refPeriodStepSt:refPeriodStepEnd]\n",
    "print(param_summer_refPeriod_Arkansas.shape)\n",
    "\n",
    "param_summer_eraOne_Arkansas = param_summer_Arkansas[scenEraOneStepSt:scenEraOneStepEnd]\n",
    "print(param_summer_eraOne_Arkansas.shape)\n",
    "\n",
    "param_summer_eraTwo_Arkansas = param_summer_Arkansas[scenEraTwoStepSt:scenEraTwoStepEnd]\n",
    "print(param_summer_eraTwo_Arkansas.shape)\n",
    "\n",
    "param_summer_eraThree_Arkansas = param_summer_Arkansas[scenEraThreeStepSt:scenEraThreeStepEnd]\n",
    "print(param_summer_eraThree_Arkansas.shape)\n",
    "\n",
    "## Fall\n",
    "param_fall_refPeriod_Arkansas = param_fall_Arkansas[refPeriodStepSt:refPeriodStepEnd]\n",
    "print(param_fall_refPeriod_Arkansas.shape)\n",
    "\n",
    "param_fall_eraOne_Arkansas = param_fall_Arkansas[scenEraOneStepSt:scenEraOneStepEnd]\n",
    "print(param_fall_eraOne_Arkansas.shape)\n",
    "\n",
    "param_fall_eraTwo_Arkansas = param_fall_Arkansas[scenEraTwoStepSt:scenEraTwoStepEnd]\n",
    "print(param_fall_eraTwo_Arkansas.shape)\n",
    "\n",
    "param_fall_eraThree_Arkansas = param_fall_Arkansas[scenEraThreeStepSt:scenEraThreeStepEnd]\n",
    "print(param_fall_eraThree_Arkansas.shape)\n",
    "#====================================================\n"
   ]
  },
  {
   "cell_type": "code",
   "execution_count": 63,
   "metadata": {},
   "outputs": [
    {
     "name": "stdout",
     "output_type": "stream",
     "text": [
      "13.01322321924867\n",
      "0.5638236933510743\n",
      "56.34628633145379\n",
      "1.0489951119196994\n",
      "67.93909950214886\n",
      "1.2900855748624251\n",
      "28.87712407646025\n",
      "0.5830293344367831\n"
     ]
    }
   ],
   "source": [
    "## Find the mean and standard deviation of the reference period values\n",
    "## Winter\n",
    "param_winter_refPeriodMean_refPeriod_Arkansas = np.nanmean(param_winter_refPeriod_Arkansas)\n",
    "print(param_winter_refPeriodMean_refPeriod_Arkansas)\n",
    "param_winter_refPeriodStd_refPeriod_Arkansas = np.nanstd(param_winter_refPeriod_Arkansas)\n",
    "print(param_winter_refPeriodStd_refPeriod_Arkansas)\n",
    "\n",
    "## Spring\n",
    "param_spring_refPeriodMean_refPeriod_Arkansas = np.nanmean(param_spring_refPeriod_Arkansas)\n",
    "print(param_spring_refPeriodMean_refPeriod_Arkansas)\n",
    "param_spring_refPeriodStd_refPeriod_Arkansas = np.nanstd(param_spring_refPeriod_Arkansas)\n",
    "print(param_spring_refPeriodStd_refPeriod_Arkansas)\n",
    "\n",
    "## Summer\n",
    "param_summer_refPeriodMean_refPeriod_Arkansas = np.nanmean(param_summer_refPeriod_Arkansas)\n",
    "print(param_summer_refPeriodMean_refPeriod_Arkansas)\n",
    "param_summer_refPeriodStd_refPeriod_Arkansas = np.nanstd(param_summer_refPeriod_Arkansas)\n",
    "print(param_summer_refPeriodStd_refPeriod_Arkansas)\n",
    "\n",
    "## Fall\n",
    "param_fall_refPeriodMean_refPeriod_Arkansas = np.nanmean(param_fall_refPeriod_Arkansas)\n",
    "print(param_fall_refPeriodMean_refPeriod_Arkansas)\n",
    "param_fall_refPeriodStd_refPeriod_Arkansas = np.nanstd(param_fall_refPeriod_Arkansas)\n",
    "print(param_fall_refPeriodStd_refPeriod_Arkansas)\n",
    "#+++++++++++++++++++++++++++++++++++++++++++++++++++++++++++++++++++++++++++++++++++++++++++++++++++++++++"
   ]
  },
  {
   "cell_type": "code",
   "execution_count": 64,
   "metadata": {},
   "outputs": [
    {
     "name": "stdout",
     "output_type": "stream",
     "text": [
      "(171,)\n",
      "(171,)\n",
      "(30,)\n",
      "(30,)\n",
      "(26,)\n",
      "(171,)\n",
      "(171,)\n",
      "(30,)\n",
      "(30,)\n",
      "(26,)\n",
      "(171,)\n",
      "(171,)\n",
      "(30,)\n",
      "(30,)\n",
      "(26,)\n",
      "(171,)\n",
      "(171,)\n",
      "(30,)\n",
      "(30,)\n",
      "(26,)\n"
     ]
    }
   ],
   "source": [
    "## For Anom Plot\n",
    "####### Winter\n",
    "param_winterAnom_Arkansas = (param_winter_Arkansas - param_winter_refPeriodMean_refPeriod_Arkansas)\n",
    "print(param_winterAnom_Arkansas.shape)\n",
    "param_winterAnomScore_Arkansas = (param_winter_Arkansas - param_winter_refPeriodMean_refPeriod_Arkansas)/param_winter_refPeriodStd_refPeriod_Arkansas\n",
    "print(param_winterAnomScore_Arkansas.shape)\n",
    "\n",
    "## For Box Plot\n",
    "param_winterAnom_eraOne_Arkansas = param_winterAnom_Arkansas[scenEraOneStepSt:scenEraOneStepEnd]\n",
    "print(param_winterAnom_eraOne_Arkansas.shape)\n",
    "param_winterAnom_eraTwo_Arkansas = param_winterAnom_Arkansas[scenEraTwoStepSt:scenEraTwoStepEnd]\n",
    "print(param_winterAnom_eraTwo_Arkansas.shape)\n",
    "param_winterAnom_eraThree_Arkansas = param_winterAnom_Arkansas[scenEraThreeStepSt:scenEraThreeStepEnd]\n",
    "print(param_winterAnom_eraThree_Arkansas.shape)\n",
    "#+++++++++++++++++++++++++++++++++++++++++++++++++++++++++++++++++++++++++++++++++++++++++++++++++++++++++++++++++++++++\n",
    "\n",
    "####### Spring\n",
    "param_springAnom_Arkansas = (param_spring_Arkansas - param_spring_refPeriodMean_refPeriod_Arkansas)\n",
    "print(param_springAnom_Arkansas.shape)\n",
    "param_springAnomScore_Arkansas = (param_spring_Arkansas - param_spring_refPeriodMean_refPeriod_Arkansas)/param_spring_refPeriodStd_refPeriod_Arkansas\n",
    "print(param_springAnomScore_Arkansas.shape)\n",
    "\n",
    "## For Box Plot\n",
    "param_springAnom_eraOne_Arkansas = param_springAnom_Arkansas[scenEraOneStepSt:scenEraOneStepEnd]\n",
    "print(param_springAnom_eraOne_Arkansas.shape)\n",
    "param_springAnom_eraTwo_Arkansas = param_springAnom_Arkansas[scenEraTwoStepSt:scenEraTwoStepEnd]\n",
    "print(param_springAnom_eraTwo_Arkansas.shape)\n",
    "param_springAnom_eraThree_Arkansas = param_springAnom_Arkansas[scenEraThreeStepSt:scenEraThreeStepEnd]\n",
    "print(param_springAnom_eraThree_Arkansas.shape)\n",
    "#+++++++++++++++++++++++++++++++++++++++++++++++++++++++++++++++++++++++++++++++++++++++++++++++++++++++++++++++++++++++\n",
    "\n",
    "####### Summer\n",
    "param_summerAnom_Arkansas = (param_summer_Arkansas - param_summer_refPeriodMean_refPeriod_Arkansas)\n",
    "print(param_summerAnom_Arkansas.shape)\n",
    "param_summerAnomScore_Arkansas = (param_summer_Arkansas - param_summer_refPeriodMean_refPeriod_Arkansas)/param_summer_refPeriodStd_refPeriod_Arkansas\n",
    "print(param_summerAnomScore_Arkansas.shape)\n",
    "\n",
    "## For Box Plot\n",
    "param_summerAnom_eraOne_Arkansas = param_summerAnom_Arkansas[scenEraOneStepSt:scenEraOneStepEnd]\n",
    "print(param_summerAnom_eraOne_Arkansas.shape)\n",
    "param_summerAnom_eraTwo_Arkansas = param_summerAnom_Arkansas[scenEraTwoStepSt:scenEraTwoStepEnd]\n",
    "print(param_summerAnom_eraTwo_Arkansas.shape)\n",
    "param_summerAnom_eraThree_Arkansas = param_summerAnom_Arkansas[scenEraThreeStepSt:scenEraThreeStepEnd]\n",
    "print(param_summerAnom_eraThree_Arkansas.shape)\n",
    "#+++++++++++++++++++++++++++++++++++++++++++++++++++++++++++++++++++++++++++++++++++++++++++++++++++++++++++++++++++++++\n",
    "\n",
    "####### Fall\n",
    "param_fallAnom_Arkansas = (param_fall_Arkansas - param_fall_refPeriodMean_refPeriod_Arkansas)\n",
    "print(param_fallAnom_Arkansas.shape)\n",
    "param_fallAnomScore_Arkansas = (param_fall_Arkansas - param_fall_refPeriodMean_refPeriod_Arkansas)/param_fall_refPeriodStd_refPeriod_Arkansas\n",
    "print(param_fallAnomScore_Arkansas.shape)\n",
    "\n",
    "## For Box Plot\n",
    "param_fallAnom_eraOne_Arkansas = param_fallAnom_Arkansas[scenEraOneStepSt:scenEraOneStepEnd]\n",
    "print(param_fallAnom_eraOne_Arkansas.shape)\n",
    "param_fallAnom_eraTwo_Arkansas = param_fallAnom_Arkansas[scenEraTwoStepSt:scenEraTwoStepEnd]\n",
    "print(param_fallAnom_eraTwo_Arkansas.shape)\n",
    "param_fallAnom_eraThree_Arkansas = param_fallAnom_Arkansas[scenEraThreeStepSt:scenEraThreeStepEnd]\n",
    "print(param_fallAnom_eraThree_Arkansas.shape)\n",
    "#+++++++++++++++++++++++++++++++++++++++++++++++++++++++++++++++++++++++++++++++++++++++++++++++++++++++++++++++++++++++\n",
    "\n"
   ]
  },
  {
   "cell_type": "code",
   "execution_count": null,
   "metadata": {},
   "outputs": [],
   "source": []
  },
  {
   "cell_type": "markdown",
   "metadata": {},
   "source": [
    "## Ohio basin"
   ]
  },
  {
   "cell_type": "code",
   "execution_count": 65,
   "metadata": {},
   "outputs": [
    {
     "name": "stdout",
     "output_type": "stream",
     "text": [
      "(30,)\n",
      "(30,)\n",
      "(30,)\n",
      "(26,)\n",
      "(30,)\n",
      "(30,)\n",
      "(30,)\n",
      "(26,)\n",
      "(30,)\n",
      "(30,)\n",
      "(30,)\n",
      "(26,)\n",
      "(30,)\n",
      "(30,)\n",
      "(30,)\n",
      "(26,)\n"
     ]
    }
   ],
   "source": [
    "## Winter\n",
    "param_winter_refPeriod_Ohio = param_winter_Ohio[refPeriodStepSt:refPeriodStepEnd]\n",
    "print(param_winter_refPeriod_Ohio.shape)\n",
    "\n",
    "param_winter_eraOne_Ohio = param_winter_Ohio[scenEraOneStepSt:scenEraOneStepEnd]\n",
    "print(param_winter_eraOne_Ohio.shape)\n",
    "\n",
    "param_winter_eraTwo_Ohio = param_winter_Ohio[scenEraTwoStepSt:scenEraTwoStepEnd]\n",
    "print(param_winter_eraTwo_Ohio.shape)\n",
    "\n",
    "param_winter_eraThree_Ohio = param_winter_Ohio[scenEraThreeStepSt:scenEraThreeStepEnd]\n",
    "print(param_winter_eraThree_Ohio.shape)\n",
    "#+++++++++++++++++++++++++++++++++++++++++++++++++++++++++++++++++++++++++++++++++++++++++++++++++++++++++\n",
    "\n",
    "## Spring\n",
    "param_spring_refPeriod_Ohio = param_spring_Ohio[refPeriodStepSt:refPeriodStepEnd]\n",
    "print(param_spring_refPeriod_Ohio.shape)\n",
    "\n",
    "param_spring_eraOne_Ohio = param_spring_Ohio[scenEraOneStepSt:scenEraOneStepEnd]\n",
    "print(param_spring_eraOne_Ohio.shape)\n",
    "\n",
    "param_spring_eraTwo_Ohio = param_spring_Ohio[scenEraTwoStepSt:scenEraTwoStepEnd]\n",
    "print(param_spring_eraTwo_Ohio.shape)\n",
    "\n",
    "param_spring_eraThree_Ohio = param_spring_Ohio[scenEraThreeStepSt:scenEraThreeStepEnd]\n",
    "print(param_spring_eraThree_Ohio.shape)\n",
    "\n",
    "## Summer\n",
    "param_summer_refPeriod_Ohio = param_summer_Ohio[refPeriodStepSt:refPeriodStepEnd]\n",
    "print(param_summer_refPeriod_Ohio.shape)\n",
    "\n",
    "param_summer_eraOne_Ohio = param_summer_Ohio[scenEraOneStepSt:scenEraOneStepEnd]\n",
    "print(param_summer_eraOne_Ohio.shape)\n",
    "\n",
    "param_summer_eraTwo_Ohio = param_summer_Ohio[scenEraTwoStepSt:scenEraTwoStepEnd]\n",
    "print(param_summer_eraTwo_Ohio.shape)\n",
    "\n",
    "param_summer_eraThree_Ohio = param_summer_Ohio[scenEraThreeStepSt:scenEraThreeStepEnd]\n",
    "print(param_summer_eraThree_Ohio.shape)\n",
    "\n",
    "## Fall\n",
    "param_fall_refPeriod_Ohio = param_fall_Ohio[refPeriodStepSt:refPeriodStepEnd]\n",
    "print(param_fall_refPeriod_Ohio.shape)\n",
    "\n",
    "param_fall_eraOne_Ohio = param_fall_Ohio[scenEraOneStepSt:scenEraOneStepEnd]\n",
    "print(param_fall_eraOne_Ohio.shape)\n",
    "\n",
    "param_fall_eraTwo_Ohio = param_fall_Ohio[scenEraTwoStepSt:scenEraTwoStepEnd]\n",
    "print(param_fall_eraTwo_Ohio.shape)\n",
    "\n",
    "param_fall_eraThree_Ohio = param_fall_Ohio[scenEraThreeStepSt:scenEraThreeStepEnd]\n",
    "print(param_fall_eraThree_Ohio.shape)\n",
    "#====================================================\n"
   ]
  },
  {
   "cell_type": "code",
   "execution_count": 66,
   "metadata": {},
   "outputs": [
    {
     "name": "stdout",
     "output_type": "stream",
     "text": [
      "15.773310475740892\n",
      "0.6383683701005121\n",
      "35.986245125427196\n",
      "0.7477353720787092\n",
      "75.12463091309816\n",
      "0.7543704086149019\n",
      "44.052429040872084\n",
      "0.7590436646163164\n"
     ]
    }
   ],
   "source": [
    "## Find the mean and standard deviation of the reference period values\n",
    "## Winter\n",
    "param_winter_refPeriodMean_refPeriod_Ohio = np.nanmean(param_winter_refPeriod_Ohio)\n",
    "print(param_winter_refPeriodMean_refPeriod_Ohio)\n",
    "param_winter_refPeriodStd_refPeriod_Ohio = np.nanstd(param_winter_refPeriod_Ohio)\n",
    "print(param_winter_refPeriodStd_refPeriod_Ohio)\n",
    "\n",
    "## Spring\n",
    "param_spring_refPeriodMean_refPeriod_Ohio = np.nanmean(param_spring_refPeriod_Ohio)\n",
    "print(param_spring_refPeriodMean_refPeriod_Ohio)\n",
    "param_spring_refPeriodStd_refPeriod_Ohio = np.nanstd(param_spring_refPeriod_Ohio)\n",
    "print(param_spring_refPeriodStd_refPeriod_Ohio)\n",
    "\n",
    "## Summer\n",
    "param_summer_refPeriodMean_refPeriod_Ohio = np.nanmean(param_summer_refPeriod_Ohio)\n",
    "print(param_summer_refPeriodMean_refPeriod_Ohio)\n",
    "param_summer_refPeriodStd_refPeriod_Ohio = np.nanstd(param_summer_refPeriod_Ohio)\n",
    "print(param_summer_refPeriodStd_refPeriod_Ohio)\n",
    "\n",
    "## Fall\n",
    "param_fall_refPeriodMean_refPeriod_Ohio = np.nanmean(param_fall_refPeriod_Ohio)\n",
    "print(param_fall_refPeriodMean_refPeriod_Ohio)\n",
    "param_fall_refPeriodStd_refPeriod_Ohio = np.nanstd(param_fall_refPeriod_Ohio)\n",
    "print(param_fall_refPeriodStd_refPeriod_Ohio)\n",
    "#+++++++++++++++++++++++++++++++++++++++++++++++++++++++++++++++++++++++++++++++++++++++++++++++++++++++++"
   ]
  },
  {
   "cell_type": "code",
   "execution_count": 67,
   "metadata": {},
   "outputs": [
    {
     "name": "stdout",
     "output_type": "stream",
     "text": [
      "(171,)\n",
      "(171,)\n",
      "(30,)\n",
      "(30,)\n",
      "(26,)\n",
      "(171,)\n",
      "(171,)\n",
      "(30,)\n",
      "(30,)\n",
      "(26,)\n",
      "(171,)\n",
      "(171,)\n",
      "(30,)\n",
      "(30,)\n",
      "(26,)\n",
      "(171,)\n",
      "(171,)\n",
      "(30,)\n",
      "(30,)\n",
      "(26,)\n"
     ]
    }
   ],
   "source": [
    "## For Anom Plot\n",
    "####### Winter\n",
    "param_winterAnom_Ohio = (param_winter_Ohio - param_winter_refPeriodMean_refPeriod_Ohio)\n",
    "print(param_winterAnom_Ohio.shape)\n",
    "param_winterAnomScore_Ohio = (param_winter_Ohio - param_winter_refPeriodMean_refPeriod_Ohio)/param_winter_refPeriodStd_refPeriod_Ohio\n",
    "print(param_winterAnomScore_Ohio.shape)\n",
    "\n",
    "## For Box Plot\n",
    "param_winterAnom_eraOne_Ohio = param_winterAnom_Ohio[scenEraOneStepSt:scenEraOneStepEnd]\n",
    "print(param_winterAnom_eraOne_Ohio.shape)\n",
    "param_winterAnom_eraTwo_Ohio = param_winterAnom_Ohio[scenEraTwoStepSt:scenEraTwoStepEnd]\n",
    "print(param_winterAnom_eraTwo_Ohio.shape)\n",
    "param_winterAnom_eraThree_Ohio = param_winterAnom_Ohio[scenEraThreeStepSt:scenEraThreeStepEnd]\n",
    "print(param_winterAnom_eraThree_Ohio.shape)\n",
    "#+++++++++++++++++++++++++++++++++++++++++++++++++++++++++++++++++++++++++++++++++++++++++++++++++++++++++++++++++++++++\n",
    "\n",
    "####### Spring\n",
    "param_springAnom_Ohio = (param_spring_Ohio - param_spring_refPeriodMean_refPeriod_Ohio)\n",
    "print(param_springAnom_Ohio.shape)\n",
    "param_springAnomScore_Ohio = (param_spring_Ohio - param_spring_refPeriodMean_refPeriod_Ohio)/param_spring_refPeriodStd_refPeriod_Ohio\n",
    "print(param_springAnomScore_Ohio.shape)\n",
    "\n",
    "## For Box Plot\n",
    "param_springAnom_eraOne_Ohio = param_springAnom_Ohio[scenEraOneStepSt:scenEraOneStepEnd]\n",
    "print(param_springAnom_eraOne_Ohio.shape)\n",
    "param_springAnom_eraTwo_Ohio = param_springAnom_Ohio[scenEraTwoStepSt:scenEraTwoStepEnd]\n",
    "print(param_springAnom_eraTwo_Ohio.shape)\n",
    "param_springAnom_eraThree_Ohio = param_springAnom_Ohio[scenEraThreeStepSt:scenEraThreeStepEnd]\n",
    "print(param_springAnom_eraThree_Ohio.shape)\n",
    "#+++++++++++++++++++++++++++++++++++++++++++++++++++++++++++++++++++++++++++++++++++++++++++++++++++++++++++++++++++++++\n",
    "\n",
    "####### Summer\n",
    "param_summerAnom_Ohio = (param_summer_Ohio - param_summer_refPeriodMean_refPeriod_Ohio)\n",
    "print(param_summerAnom_Ohio.shape)\n",
    "param_summerAnomScore_Ohio = (param_summer_Ohio - param_summer_refPeriodMean_refPeriod_Ohio)/param_summer_refPeriodStd_refPeriod_Ohio\n",
    "print(param_summerAnomScore_Ohio.shape)\n",
    "\n",
    "## For Box Plot\n",
    "param_summerAnom_eraOne_Ohio = param_summerAnom_Ohio[scenEraOneStepSt:scenEraOneStepEnd]\n",
    "print(param_summerAnom_eraOne_Ohio.shape)\n",
    "param_summerAnom_eraTwo_Ohio = param_summerAnom_Ohio[scenEraTwoStepSt:scenEraTwoStepEnd]\n",
    "print(param_summerAnom_eraTwo_Ohio.shape)\n",
    "param_summerAnom_eraThree_Ohio = param_summerAnom_Ohio[scenEraThreeStepSt:scenEraThreeStepEnd]\n",
    "print(param_summerAnom_eraThree_Ohio.shape)\n",
    "#+++++++++++++++++++++++++++++++++++++++++++++++++++++++++++++++++++++++++++++++++++++++++++++++++++++++++++++++++++++++\n",
    "\n",
    "####### Fall\n",
    "param_fallAnom_Ohio = (param_fall_Ohio - param_fall_refPeriodMean_refPeriod_Ohio)\n",
    "print(param_fallAnom_Ohio.shape)\n",
    "param_fallAnomScore_Ohio = (param_fall_Ohio - param_fall_refPeriodMean_refPeriod_Ohio)/param_fall_refPeriodStd_refPeriod_Ohio\n",
    "print(param_fallAnomScore_Ohio.shape)\n",
    "\n",
    "## For Box Plot\n",
    "param_fallAnom_eraOne_Ohio = param_fallAnom_Ohio[scenEraOneStepSt:scenEraOneStepEnd]\n",
    "print(param_fallAnom_eraOne_Ohio.shape)\n",
    "param_fallAnom_eraTwo_Ohio = param_fallAnom_Ohio[scenEraTwoStepSt:scenEraTwoStepEnd]\n",
    "print(param_fallAnom_eraTwo_Ohio.shape)\n",
    "param_fallAnom_eraThree_Ohio = param_fallAnom_Ohio[scenEraThreeStepSt:scenEraThreeStepEnd]\n",
    "print(param_fallAnom_eraThree_Ohio.shape)\n",
    "#+++++++++++++++++++++++++++++++++++++++++++++++++++++++++++++++++++++++++++++++++++++++++++++++++++++++++++++++++++++++"
   ]
  },
  {
   "cell_type": "markdown",
   "metadata": {},
   "source": [
    "## Lower Mississippi River Basin"
   ]
  },
  {
   "cell_type": "code",
   "execution_count": 68,
   "metadata": {},
   "outputs": [
    {
     "name": "stdout",
     "output_type": "stream",
     "text": [
      "(30,)\n",
      "(30,)\n",
      "(30,)\n",
      "(26,)\n",
      "(30,)\n",
      "(30,)\n",
      "(30,)\n",
      "(26,)\n",
      "(30,)\n",
      "(30,)\n",
      "(30,)\n",
      "(26,)\n",
      "(30,)\n",
      "(30,)\n",
      "(30,)\n",
      "(26,)\n"
     ]
    }
   ],
   "source": [
    "## Winter\n",
    "param_winter_refPeriod_lowMissi = param_winter_lowMissi[refPeriodStepSt:refPeriodStepEnd]\n",
    "print(param_winter_refPeriod_lowMissi.shape)\n",
    "\n",
    "param_winter_eraOne_lowMissi = param_winter_lowMissi[scenEraOneStepSt:scenEraOneStepEnd]\n",
    "print(param_winter_eraOne_lowMissi.shape)\n",
    "\n",
    "param_winter_eraTwo_lowMissi = param_winter_lowMissi[scenEraTwoStepSt:scenEraTwoStepEnd]\n",
    "print(param_winter_eraTwo_lowMissi.shape)\n",
    "\n",
    "param_winter_eraThree_lowMissi = param_winter_lowMissi[scenEraThreeStepSt:scenEraThreeStepEnd]\n",
    "print(param_winter_eraThree_lowMissi.shape)\n",
    "#+++++++++++++++++++++++++++++++++++++++++++++++++++++++++++++++++++++++++++++++++++++++++++++++++++++++++\n",
    "\n",
    "## Spring\n",
    "param_spring_refPeriod_lowMissi = param_spring_lowMissi[refPeriodStepSt:refPeriodStepEnd]\n",
    "print(param_spring_refPeriod_lowMissi.shape)\n",
    "\n",
    "param_spring_eraOne_lowMissi = param_spring_lowMissi[scenEraOneStepSt:scenEraOneStepEnd]\n",
    "print(param_spring_eraOne_lowMissi.shape)\n",
    "\n",
    "param_spring_eraTwo_lowMissi = param_spring_lowMissi[scenEraTwoStepSt:scenEraTwoStepEnd]\n",
    "print(param_spring_eraTwo_lowMissi.shape)\n",
    "\n",
    "param_spring_eraThree_lowMissi = param_spring_lowMissi[scenEraThreeStepSt:scenEraThreeStepEnd]\n",
    "print(param_spring_eraThree_lowMissi.shape)\n",
    "\n",
    "## Summer\n",
    "param_summer_refPeriod_lowMissi = param_summer_lowMissi[refPeriodStepSt:refPeriodStepEnd]\n",
    "print(param_summer_refPeriod_lowMissi.shape)\n",
    "\n",
    "param_summer_eraOne_lowMissi = param_summer_lowMissi[scenEraOneStepSt:scenEraOneStepEnd]\n",
    "print(param_summer_eraOne_lowMissi.shape)\n",
    "\n",
    "param_summer_eraTwo_lowMissi = param_summer_lowMissi[scenEraTwoStepSt:scenEraTwoStepEnd]\n",
    "print(param_summer_eraTwo_lowMissi.shape)\n",
    "\n",
    "param_summer_eraThree_lowMissi = param_summer_lowMissi[scenEraThreeStepSt:scenEraThreeStepEnd]\n",
    "print(param_summer_eraThree_lowMissi.shape)\n",
    "\n",
    "## Fall\n",
    "param_fall_refPeriod_lowMissi = param_fall_lowMissi[refPeriodStepSt:refPeriodStepEnd]\n",
    "print(param_fall_refPeriod_lowMissi.shape)\n",
    "\n",
    "param_fall_eraOne_lowMissi = param_fall_lowMissi[scenEraOneStepSt:scenEraOneStepEnd]\n",
    "print(param_fall_eraOne_lowMissi.shape)\n",
    "\n",
    "param_fall_eraTwo_lowMissi = param_fall_lowMissi[scenEraTwoStepSt:scenEraTwoStepEnd]\n",
    "print(param_fall_eraTwo_lowMissi.shape)\n",
    "\n",
    "param_fall_eraThree_lowMissi = param_fall_lowMissi[scenEraThreeStepSt:scenEraThreeStepEnd]\n",
    "print(param_fall_eraThree_lowMissi.shape)\n",
    "#====================================================\n"
   ]
  },
  {
   "cell_type": "code",
   "execution_count": 69,
   "metadata": {},
   "outputs": [
    {
     "name": "stdout",
     "output_type": "stream",
     "text": [
      "20.232554841539482\n",
      "0.6243403672151208\n",
      "68.84199738524279\n",
      "1.1031834321113736\n",
      "100.6915447706706\n",
      "0.8492136467695296\n",
      "43.23190538316703\n",
      "0.9563146322846828\n"
     ]
    }
   ],
   "source": [
    "## Find the mean and standard deviation of the reference period values\n",
    "## Winter\n",
    "param_winter_refPeriodMean_refPeriod_lowMissi = np.nanmean(param_winter_refPeriod_lowMissi)\n",
    "print(param_winter_refPeriodMean_refPeriod_lowMissi)\n",
    "param_winter_refPeriodStd_refPeriod_lowMissi = np.nanstd(param_winter_refPeriod_lowMissi)\n",
    "print(param_winter_refPeriodStd_refPeriod_lowMissi)\n",
    "\n",
    "## Spring\n",
    "param_spring_refPeriodMean_refPeriod_lowMissi = np.nanmean(param_spring_refPeriod_lowMissi)\n",
    "print(param_spring_refPeriodMean_refPeriod_lowMissi)\n",
    "param_spring_refPeriodStd_refPeriod_lowMissi = np.nanstd(param_spring_refPeriod_lowMissi)\n",
    "print(param_spring_refPeriodStd_refPeriod_lowMissi)\n",
    "\n",
    "## Summer\n",
    "param_summer_refPeriodMean_refPeriod_lowMissi = np.nanmean(param_summer_refPeriod_lowMissi)\n",
    "print(param_summer_refPeriodMean_refPeriod_lowMissi)\n",
    "param_summer_refPeriodStd_refPeriod_lowMissi = np.nanstd(param_summer_refPeriod_lowMissi)\n",
    "print(param_summer_refPeriodStd_refPeriod_lowMissi)\n",
    "\n",
    "## Fall\n",
    "param_fall_refPeriodMean_refPeriod_lowMissi = np.nanmean(param_fall_refPeriod_lowMissi)\n",
    "print(param_fall_refPeriodMean_refPeriod_lowMissi)\n",
    "param_fall_refPeriodStd_refPeriod_lowMissi = np.nanstd(param_fall_refPeriod_lowMissi)\n",
    "print(param_fall_refPeriodStd_refPeriod_lowMissi)\n",
    "#+++++++++++++++++++++++++++++++++++++++++++++++++++++++++++++++++++++++++++++++++++++++++++++++++++++++++"
   ]
  },
  {
   "cell_type": "code",
   "execution_count": 70,
   "metadata": {},
   "outputs": [
    {
     "name": "stdout",
     "output_type": "stream",
     "text": [
      "(171,)\n",
      "(171,)\n",
      "(30,)\n",
      "(30,)\n",
      "(26,)\n",
      "(171,)\n",
      "(171,)\n",
      "(30,)\n",
      "(30,)\n",
      "(26,)\n",
      "(171,)\n",
      "(171,)\n",
      "(30,)\n",
      "(30,)\n",
      "(26,)\n",
      "(171,)\n",
      "(171,)\n",
      "(30,)\n",
      "(30,)\n",
      "(26,)\n"
     ]
    }
   ],
   "source": [
    "## For Anom Plot\n",
    "####### Winter\n",
    "param_winterAnom_lowMissi = (param_winter_lowMissi - param_winter_refPeriodMean_refPeriod_lowMissi)\n",
    "print(param_winterAnom_lowMissi.shape)\n",
    "param_winterAnomScore_lowMissi = (param_winter_lowMissi - param_winter_refPeriodMean_refPeriod_lowMissi)/param_winter_refPeriodStd_refPeriod_lowMissi\n",
    "print(param_winterAnomScore_lowMissi.shape)\n",
    "\n",
    "## For Box Plot\n",
    "param_winterAnom_eraOne_lowMissi = param_winterAnom_lowMissi[scenEraOneStepSt:scenEraOneStepEnd]\n",
    "print(param_winterAnom_eraOne_lowMissi.shape)\n",
    "param_winterAnom_eraTwo_lowMissi = param_winterAnom_lowMissi[scenEraTwoStepSt:scenEraTwoStepEnd]\n",
    "print(param_winterAnom_eraTwo_lowMissi.shape)\n",
    "param_winterAnom_eraThree_lowMissi = param_winterAnom_lowMissi[scenEraThreeStepSt:scenEraThreeStepEnd]\n",
    "print(param_winterAnom_eraThree_lowMissi.shape)\n",
    "#+++++++++++++++++++++++++++++++++++++++++++++++++++++++++++++++++++++++++++++++++++++++++++++++++++++++++++++++++++++++\n",
    "\n",
    "####### Spring\n",
    "param_springAnom_lowMissi = (param_spring_lowMissi - param_spring_refPeriodMean_refPeriod_lowMissi)\n",
    "print(param_springAnom_lowMissi.shape)\n",
    "param_springAnomScore_lowMissi = (param_spring_lowMissi - param_spring_refPeriodMean_refPeriod_lowMissi)/param_spring_refPeriodStd_refPeriod_lowMissi\n",
    "print(param_springAnomScore_lowMissi.shape)\n",
    "\n",
    "## For Box Plot\n",
    "param_springAnom_eraOne_lowMissi = param_springAnom_lowMissi[scenEraOneStepSt:scenEraOneStepEnd]\n",
    "print(param_springAnom_eraOne_lowMissi.shape)\n",
    "param_springAnom_eraTwo_lowMissi = param_springAnom_lowMissi[scenEraTwoStepSt:scenEraTwoStepEnd]\n",
    "print(param_springAnom_eraTwo_lowMissi.shape)\n",
    "param_springAnom_eraThree_lowMissi = param_springAnom_lowMissi[scenEraThreeStepSt:scenEraThreeStepEnd]\n",
    "print(param_springAnom_eraThree_lowMissi.shape)\n",
    "#+++++++++++++++++++++++++++++++++++++++++++++++++++++++++++++++++++++++++++++++++++++++++++++++++++++++++++++++++++++++\n",
    "\n",
    "####### Summer\n",
    "param_summerAnom_lowMissi = (param_summer_lowMissi - param_summer_refPeriodMean_refPeriod_lowMissi)\n",
    "print(param_summerAnom_lowMissi.shape)\n",
    "param_summerAnomScore_lowMissi = (param_summer_lowMissi - param_summer_refPeriodMean_refPeriod_lowMissi)/param_summer_refPeriodStd_refPeriod_lowMissi\n",
    "print(param_summerAnomScore_lowMissi.shape)\n",
    "\n",
    "## For Box Plot\n",
    "param_summerAnom_eraOne_lowMissi = param_summerAnom_lowMissi[scenEraOneStepSt:scenEraOneStepEnd]\n",
    "print(param_summerAnom_eraOne_lowMissi.shape)\n",
    "param_summerAnom_eraTwo_lowMissi = param_summerAnom_lowMissi[scenEraTwoStepSt:scenEraTwoStepEnd]\n",
    "print(param_summerAnom_eraTwo_lowMissi.shape)\n",
    "param_summerAnom_eraThree_lowMissi = param_summerAnom_lowMissi[scenEraThreeStepSt:scenEraThreeStepEnd]\n",
    "print(param_summerAnom_eraThree_lowMissi.shape)\n",
    "#+++++++++++++++++++++++++++++++++++++++++++++++++++++++++++++++++++++++++++++++++++++++++++++++++++++++++++++++++++++++\n",
    "\n",
    "####### Fall\n",
    "param_fallAnom_lowMissi = (param_fall_lowMissi - param_fall_refPeriodMean_refPeriod_lowMissi)\n",
    "print(param_fallAnom_lowMissi.shape)\n",
    "param_fallAnomScore_lowMissi = (param_fall_lowMissi - param_fall_refPeriodMean_refPeriod_lowMissi)/param_fall_refPeriodStd_refPeriod_lowMissi\n",
    "print(param_fallAnomScore_lowMissi.shape)\n",
    "\n",
    "## For Box Plot\n",
    "param_fallAnom_eraOne_lowMissi = param_fallAnom_lowMissi[scenEraOneStepSt:scenEraOneStepEnd]\n",
    "print(param_fallAnom_eraOne_lowMissi.shape)\n",
    "param_fallAnom_eraTwo_lowMissi = param_fallAnom_lowMissi[scenEraTwoStepSt:scenEraTwoStepEnd]\n",
    "print(param_fallAnom_eraTwo_lowMissi.shape)\n",
    "param_fallAnom_eraThree_lowMissi = param_fallAnom_lowMissi[scenEraThreeStepSt:scenEraThreeStepEnd]\n",
    "print(param_fallAnom_eraThree_lowMissi.shape)\n",
    "#+++++++++++++++++++++++++++++++++++++++++++++++++++++++++++++++++++++++++++++++++++++++++++++++++++++++++++++++++++++++\n"
   ]
  },
  {
   "cell_type": "markdown",
   "metadata": {},
   "source": [
    "## Formatting Figure"
   ]
  },
  {
   "cell_type": "code",
   "execution_count": 71,
   "metadata": {},
   "outputs": [
    {
     "data": {
      "text/html": [
       "<div>\n",
       "<style scoped>\n",
       "    .dataframe tbody tr th:only-of-type {\n",
       "        vertical-align: middle;\n",
       "    }\n",
       "\n",
       "    .dataframe tbody tr th {\n",
       "        vertical-align: top;\n",
       "    }\n",
       "\n",
       "    .dataframe thead th {\n",
       "        text-align: right;\n",
       "    }\n",
       "</style>\n",
       "<table border=\"1\" class=\"dataframe\">\n",
       "  <thead>\n",
       "    <tr style=\"text-align: right;\">\n",
       "      <th></th>\n",
       "      <th>t1</th>\n",
       "    </tr>\n",
       "  </thead>\n",
       "  <tbody>\n",
       "    <tr>\n",
       "      <th>0</th>\n",
       "      <td>1930-01-01</td>\n",
       "    </tr>\n",
       "    <tr>\n",
       "      <th>1</th>\n",
       "      <td>1931-01-01</td>\n",
       "    </tr>\n",
       "    <tr>\n",
       "      <th>2</th>\n",
       "      <td>1932-01-01</td>\n",
       "    </tr>\n",
       "    <tr>\n",
       "      <th>3</th>\n",
       "      <td>1933-01-01</td>\n",
       "    </tr>\n",
       "    <tr>\n",
       "      <th>4</th>\n",
       "      <td>1934-01-01</td>\n",
       "    </tr>\n",
       "    <tr>\n",
       "      <th>...</th>\n",
       "      <td>...</td>\n",
       "    </tr>\n",
       "    <tr>\n",
       "      <th>166</th>\n",
       "      <td>2096-01-01</td>\n",
       "    </tr>\n",
       "    <tr>\n",
       "      <th>167</th>\n",
       "      <td>2097-01-01</td>\n",
       "    </tr>\n",
       "    <tr>\n",
       "      <th>168</th>\n",
       "      <td>2098-01-01</td>\n",
       "    </tr>\n",
       "    <tr>\n",
       "      <th>169</th>\n",
       "      <td>2099-01-01</td>\n",
       "    </tr>\n",
       "    <tr>\n",
       "      <th>170</th>\n",
       "      <td>2100-01-01</td>\n",
       "    </tr>\n",
       "  </tbody>\n",
       "</table>\n",
       "<p>171 rows × 1 columns</p>\n",
       "</div>"
      ],
      "text/plain": [
       "            t1\n",
       "0   1930-01-01\n",
       "1   1931-01-01\n",
       "2   1932-01-01\n",
       "3   1933-01-01\n",
       "4   1934-01-01\n",
       "..         ...\n",
       "166 2096-01-01\n",
       "167 2097-01-01\n",
       "168 2098-01-01\n",
       "169 2099-01-01\n",
       "170 2100-01-01\n",
       "\n",
       "[171 rows x 1 columns]"
      ]
     },
     "execution_count": 71,
     "metadata": {},
     "output_type": "execute_result"
    }
   ],
   "source": [
    "yrSt = 1930\n",
    "yrEnd = 2100\n",
    "\n",
    "timeList = []\n",
    "for yr in range(yrSt, yrEnd+1):    \n",
    "    \n",
    "    \n",
    "    yMD = datetime.datetime(yr,1,1)    \n",
    "    timeList.append(yMD)\n",
    "                   \n",
    "                        \n",
    "timeListDf = pd.DataFrame(timeList)\n",
    "\n",
    "timeListDf.columns = ['t1']\n",
    "timeListDf\n"
   ]
  },
  {
   "cell_type": "code",
   "execution_count": 72,
   "metadata": {},
   "outputs": [
    {
     "data": {
      "text/plain": [
       "Int64Index([0, 20, 40, 60, 80, 100, 120, 140, 160], dtype='int64')"
      ]
     },
     "execution_count": 72,
     "metadata": {},
     "output_type": "execute_result"
    }
   ],
   "source": [
    "yMD = timeListDf['t1'].dt.strftime('%Y').sort_values()\n",
    "\n",
    "multiple = 20\n",
    "\n",
    "multiple = np.ceil(multiple)\n",
    "timeTickLebels = yMD[yMD.index % multiple == 0]\n",
    "timeTicks = yMD.index[yMD.index % multiple == 0]\n",
    "timeTicks\n"
   ]
  },
  {
   "cell_type": "code",
   "execution_count": 73,
   "metadata": {},
   "outputs": [],
   "source": [
    "width = 0.5  # the width of the bars\n",
    "\n",
    "my_colors = [\"green\", \"blue\", \n",
    "             \"orange\", \"red\"]\n",
    "sns.set_palette( my_colors )"
   ]
  },
  {
   "cell_type": "code",
   "execution_count": 74,
   "metadata": {},
   "outputs": [
    {
     "name": "stderr",
     "output_type": "stream",
     "text": [
      "<ipython-input-74-6c674c3e955e>:26: UserWarning: FixedFormatter should only be used together with FixedLocator\n",
      "  ax1.xaxis.set_major_formatter(plt.FixedFormatter(yMD))\n",
      "<ipython-input-74-6c674c3e955e>:46: UserWarning: FixedFormatter should only be used together with FixedLocator\n",
      "  ax2.xaxis.set_major_formatter(plt.FixedFormatter(yMD))\n",
      "<ipython-input-74-6c674c3e955e>:70: UserWarning: FixedFormatter should only be used together with FixedLocator\n",
      "  ax3.xaxis.set_major_formatter(plt.FixedFormatter(yMD))\n",
      "<ipython-input-74-6c674c3e955e>:94: UserWarning: FixedFormatter should only be used together with FixedLocator\n",
      "  ax4.xaxis.set_major_formatter(plt.FixedFormatter(yMD))\n"
     ]
    },
    {
     "data": {
      "image/png": "[encoded data removed]",
      "text/plain": [
       "<Figure size 864x720 with 4 Axes>"
      ]
     },
     "metadata": {
      "needs_background": "light"
     },
     "output_type": "display_data"
    }
   ],
   "source": [
    "#%matplotlib notebook\n",
    "\n",
    "tickFontSize = 14\n",
    "textFontSize = 16\n",
    "legendFontSize = 15\n",
    "titleFontSize = 16\n",
    "\n",
    "linewidth = 0.8\n",
    "dashLinewidth = 0.7\n",
    "#++++++++++++++++++++++++++++++++++++++++++++++++++++++++++++++++++++++++++\n",
    "\n",
    "fig = plt.figure(figsize=(12, 10), constrained_layout=False)\n",
    "axs = [plt.subplot(4, 1, x + 1,) for x in range(4)]\n",
    "\n",
    "ax1 = axs[0]\n",
    "\n",
    "ln12=ax1.plot(range(171), param_winterAnom_Missouri, label=\"Winter\", color = 'green', linestyle='-', linewidth=1.0)\n",
    "ln13=ax1.plot(range(171), param_springAnom_Missouri, label=\"Spring\", color = 'blue', linestyle='-', linewidth=1.0)\n",
    "ln14=ax1.plot(range(171), param_summerAnom_Missouri, label=\"Summer\", color = 'orange', linestyle='-', linewidth=1.0)\n",
    "ln15=ax1.plot(range(171), param_fallAnom_Missouri, label=\"Fall\", color = 'red', linestyle='-', linewidth=1.0)\n",
    "ln16=ax1.axhline(y = 0, color = 'k', label = '', linestyle='--', linewidth=0.7)\n",
    "ln17=ax1.axvspan(1, 84.5, color='b',alpha=0.03)\n",
    "\n",
    "ax1.set_title('(a) Missouri', y=0.98, pad=-14, fontsize = textFontSize, loc='left')\n",
    "#+++++++++++++++++++++++++++\n",
    "ax1.xaxis.set_major_formatter(plt.FixedFormatter(yMD))\n",
    "ax1.set_xticks(timeTicks)\n",
    "ax1.set_xticklabels('', )\n",
    "\n",
    "ax1.set_xlim([0, 170])\n",
    "ax1.set_ylim([-6.5, 16])\n",
    "\n",
    "ax1.set_yticks([ 0, 10]) \n",
    "ax1.set_yticklabels(['0', '10'],  fontsize = tickFontSize) \n",
    "#+++++++++++++++++++++++++++++++++++++\n",
    "\n",
    "ax2 = axs[1]\n",
    "ln22=ax2.plot(range(171), param_winterAnom_Arkansas, label=\"Winter\", color = 'green', linestyle='-', linewidth=1.0)\n",
    "ln23=ax2.plot(range(171), param_springAnom_Arkansas, label=\"Spring\", color = 'blue', linestyle='-', linewidth=1.0)\n",
    "ln24=ax2.plot(range(171), param_summerAnom_Arkansas, label=\"Summer\", color = 'orange', linestyle='-', linewidth=1.0)\n",
    "ln25=ax2.plot(range(171), param_fallAnom_Arkansas, label=\"Fall\", color = 'red', linestyle='-', linewidth=1.0)\n",
    "ln26=ax2.axhline(y = 0, color = 'k', label = '', linestyle='--', linewidth=0.7)\n",
    "ln27=ax2.axvspan(1, 84.5, color='b',alpha=0.03)\n",
    "\n",
    "ax2.set_title('(b) Arkansas', y=0.98, pad=-14, fontsize = textFontSize, loc='left')\n",
    "ax2.xaxis.set_major_formatter(plt.FixedFormatter(yMD))\n",
    "ax2.set_xticks(timeTicks)\n",
    "ax2.set_xticklabels('', )\n",
    "\n",
    "ax2.set_xlim([0, 170])\n",
    "ax2.set_ylim([-4, 10.25])\n",
    "\n",
    "ax2.set_yticks([ 0, 5, 10]) \n",
    "ax2.set_yticklabels(['0', '5', '10'],  fontsize = tickFontSize) \n",
    "ax2.set_ylabel('Anomaly, mm/mon', fontsize = textFontSize )\n",
    "ax2.yaxis.set_label_coords(-.045, -.1)\n",
    "\n",
    "#+++++++++++++++++++++++++++++++++++++\n",
    "#+++++++++++++++++++++++++++++++++++++\n",
    "\n",
    "ax3 = axs[2]\n",
    "ln32=ax3.plot(range(171), param_winterAnom_Ohio, label=\"Winter\", color = 'green', linestyle='-', linewidth=1.0)\n",
    "ln33=ax3.plot(range(171), param_springAnom_Ohio, label=\"Spring\", color = 'blue', linestyle='-', linewidth=1.0)\n",
    "ln34=ax3.plot(range(171), param_summerAnom_Ohio, label=\"Summer\", color = 'orange', linestyle='-', linewidth=1.0)\n",
    "ln35=ax3.plot(range(171), param_fallAnom_Ohio, label=\"Fall\", color = 'red', linestyle='-', linewidth=1.0)\n",
    "ln36=ax3.axhline(y = 0, color = 'k', label = '', linestyle='--', linewidth=0.7)\n",
    "ln37=ax3.axvspan(1, 84.5, color='b',alpha=0.03)\n",
    "\n",
    "ax3.set_title('(c) Ohio', y=0.98, pad=-14, fontsize = textFontSize, loc='left')\n",
    "ax3.xaxis.set_major_formatter(plt.FixedFormatter(yMD))\n",
    "ax3.set_xticks(timeTicks)\n",
    "ax3.set_xticklabels('', )\n",
    "\n",
    "ax3.set_xlim([0, 170])\n",
    "ax3.set_ylim([-6.5, 16.25])\n",
    "\n",
    "ax3.set_yticks([ 0, 10]) \n",
    "ax3.set_yticklabels(['0', '10'],  fontsize = tickFontSize) \n",
    "\n",
    "ax3.legend(ncol=4, loc=(+0.185, -1.75),frameon=False, fontsize=legendFontSize)\n",
    "#+++++++++++++++++++++++++++++++++++++\n",
    "#+++++++++++++++++++++++++++++++++++++\n",
    "\n",
    "ax4 = axs[3]\n",
    "ln42=ax4.plot(range(171), param_winterAnom_lowMissi, label=\"Winter\", color = 'green', linestyle='-', linewidth=1.0)\n",
    "ln43=ax4.plot(range(171), param_springAnom_lowMissi, label=\"Spring\", color = 'blue', linestyle='-', linewidth=1.0)\n",
    "ln44=ax4.plot(range(171), param_summerAnom_lowMissi, label=\"Summer\", color = 'orange', linestyle='-', linewidth=1.0)\n",
    "ln45=ax4.plot(range(171), param_fallAnom_lowMissi, label=\"Fall\", color = 'red', linestyle='-', linewidth=1.0)\n",
    "ln46=ax4.axhline(y = 0, color = 'k', label = '', linestyle='--', linewidth=0.7)\n",
    "ln47=ax4.axvspan(1, 84.5, color='b',alpha=0.03)\n",
    "\n",
    "ax4.set_title('(d) Lower Mississippi', y=0.98, pad=-14, fontsize = textFontSize, loc='left')\n",
    "\n",
    "ax4.xaxis.set_major_formatter(plt.FixedFormatter(yMD))\n",
    "ax4.set_xticks(timeTicks)\n",
    "ax4.set_xticklabels(timeTickLebels, minor=False, rotation=0, fontsize = tickFontSize)\n",
    "\n",
    "ax4.set_xlim([0, 170])\n",
    "ax4.set_ylim([-10, 12.5])\n",
    "\n",
    "ax4.set_yticks([-10, 0, 10]) \n",
    "ax4.set_yticklabels(['-10', '0', '10'],  fontsize = tickFontSize) \n",
    "\n",
    "ax4.set_xlabel('Time', fontsize = textFontSize)\n",
    "#+++++++++++++++++++++++++++++++++++++\n",
    "#+++++++++++++++++++++++++++++++++++++\n",
    "\n",
    "\n",
    "#plt.savefig(r'C:\\rezaul\\1.academic\\1.research\\2.project\\mrb\\output\\fig\\paperOne\\param\\et\\seasonal\\etSeasonalAnomTs.pdf') \n",
    "#plt.savefig(r'C:\\rezaul\\1.academic\\1.research\\2.project\\mrb\\output\\fig\\paperOne\\param\\et\\seasonal\\etSeasonalAnomTs.png', dpi=600)  \n",
    "\n",
    "\n",
    "\n",
    "plt.show()\n"
   ]
  },
  {
   "cell_type": "code",
   "execution_count": null,
   "metadata": {},
   "outputs": [],
   "source": []
  },
  {
   "cell_type": "code",
   "execution_count": null,
   "metadata": {},
   "outputs": [],
   "source": []
  },
  {
   "cell_type": "code",
   "execution_count": null,
   "metadata": {},
   "outputs": [],
   "source": []
  },
  {
   "cell_type": "code",
   "execution_count": null,
   "metadata": {},
   "outputs": [],
   "source": []
  },
  {
   "cell_type": "code",
   "execution_count": null,
   "metadata": {},
   "outputs": [],
   "source": []
  },
  {
   "cell_type": "code",
   "execution_count": null,
   "metadata": {},
   "outputs": [],
   "source": []
  },
  {
   "cell_type": "code",
   "execution_count": 75,
   "metadata": {},
   "outputs": [
    {
     "ename": "SyntaxError",
     "evalue": "invalid syntax (<ipython-input-75-f3db6e1961f9>, line 1)",
     "output_type": "error",
     "traceback": [
      "\u001b[1;36m  File \u001b[1;32m\"<ipython-input-75-f3db6e1961f9>\"\u001b[1;36m, line \u001b[1;32m1\u001b[0m\n\u001b[1;33m    STOP here ===================\u001b[0m\n\u001b[1;37m         ^\u001b[0m\n\u001b[1;31mSyntaxError\u001b[0m\u001b[1;31m:\u001b[0m invalid syntax\n"
     ]
    }
   ],
   "source": [
    "STOP here ==================="
   ]
  },
  {
   "cell_type": "code",
   "execution_count": null,
   "metadata": {},
   "outputs": [],
   "source": []
  },
  {
   "cell_type": "code",
   "execution_count": null,
   "metadata": {},
   "outputs": [],
   "source": []
  },
  {
   "cell_type": "code",
   "execution_count": null,
   "metadata": {},
   "outputs": [],
   "source": []
  },
  {
   "cell_type": "code",
   "execution_count": null,
   "metadata": {},
   "outputs": [],
   "source": []
  }
 ],
 "metadata": {
  "kernelspec": {
   "display_name": "Python 3",
   "language": "python",
   "name": "python3"
  },
  "language_info": {
   "codemirror_mode": {
    "name": "ipython",
    "version": 3
   },
   "file_extension": ".py",
   "mimetype": "text/x-python",
   "name": "python",
   "nbconvert_exporter": "python",
   "pygments_lexer": "ipython3",
   "version": "3.8.5"
  }
 },
 "nbformat": 4,
 "nbformat_minor": 4
}
