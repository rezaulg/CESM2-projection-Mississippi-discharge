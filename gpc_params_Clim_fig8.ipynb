{
 "cells": [
  {
   "cell_type": "markdown",
   "metadata": {},
   "source": [
    "This script reads the Nc file for Mosart Discharge downloaded from Casper log-in"
   ]
  },
  {
   "cell_type": "code",
   "execution_count": 1,
   "metadata": {},
   "outputs": [],
   "source": [
    "# To support both python 2 and python 3\n",
    "from __future__ import division, print_function, unicode_literals\n",
    "\n",
    "# Common imports\n",
    "import numpy as np\n",
    "import os\n",
    "\n",
    "# to make this notebook's output stable across runs\n",
    "np.random.seed(42)\n",
    "# To plot pretty figures\n",
    "%matplotlib inline\n",
    "#%matplotlib notebook\n",
    "\n",
    "import matplotlib as mpl\n",
    "import matplotlib.pyplot as plt\n",
    "mpl.rc('axes', labelsize=14)\n",
    "mpl.rc('xtick', labelsize=12)\n",
    "mpl.rc('ytick', labelsize=12)\n",
    "\n",
    "\n",
    "# Where to save the figures\n",
    "PROJECT_ROOT_DIR = \".\"  \n",
    "\n",
    "path2Create = r'C:/rezaul/1.academic/1.research/2.project/mrb/output/'\n",
    " \n",
    "if not os.path.exists(path2Create):\n",
    "    os.makedirs(path2Create)    \n",
    "    \n",
    "path2Save = 'C:/rezaul/1.academic/1.research/2.project/mrb/output/fig/disch/'\n",
    "\n",
    "if not os.path.exists(path2Save):\n",
    "    os.makedirs(path2Save)    \n",
    "\n",
    "IMAGES_PATH = os.path.join(path2Save)\n",
    "outputPath = os.path.join(path2Save)\n",
    "\n",
    "def save_fig(fig_id, tight_layout=True, fig_extension=\"png\", resolution=300):\n",
    "    path = os.path.join(IMAGES_PATH, fig_id + \".\" + fig_extension)\n",
    "    \n",
    "    print(\"Saving figure\", fig_id)\n",
    "    if tight_layout:\n",
    "        plt.tight_layout()\n",
    "    plt.savefig(path, format=fig_extension, dpi=resolution)\n"
   ]
  },
  {
   "cell_type": "code",
   "execution_count": null,
   "metadata": {},
   "outputs": [],
   "source": []
  },
  {
   "cell_type": "markdown",
   "metadata": {},
   "source": [
    "## Import Libraries"
   ]
  },
  {
   "cell_type": "code",
   "execution_count": 2,
   "metadata": {},
   "outputs": [],
   "source": [
    "# Common imports\n",
    "import numpy as np\n",
    "import pandas as pd\n",
    "import os\n",
    "import glob\n",
    "from datetime import datetime\n",
    "#from osgeo import gdal # Import the GDAL library\n",
    "#import gdal\n",
    "\n",
    "import cmocean\n",
    "\n",
    "#import matplotlib.pyplot as plt # Import the Matplotlib package\n",
    "from matplotlib import pyplot as plt  # Import the Matplotlib package\n",
    "from numpy import linspace # Import the Linspace numpy library\n",
    "from numpy import meshgrid # Import the Meshgrid numpy library\n",
    "\n",
    "#from init import *\n",
    "import scipy.io as sio\n",
    "# Common imports\n",
    "import calendar\n",
    "import datetime\n",
    "import matplotlib.dates as mdates\n",
    "from numpy import array, ma\n",
    "#import scipy.io\n",
    "from scipy.io import loadmat   # https://scipy-cookbook.readthedocs.io/items/Reading_mat_files.html\n",
    "import xarray as xr\n"
   ]
  },
  {
   "cell_type": "code",
   "execution_count": 3,
   "metadata": {},
   "outputs": [],
   "source": [
    "# Stats\n",
    "from statsmodels.distributions.empirical_distribution import ECDF\n",
    "from scipy.stats import gamma, norm\n",
    "from scipy.signal import detrend\n",
    "\n",
    "from netCDF4 import Dataset   # http://code.google.com/p/netcdf4-python/\n",
    "from numpy.random import normal\n",
    "from numpy import hstack\n",
    "\n",
    "import math\n"
   ]
  },
  {
   "cell_type": "code",
   "execution_count": 4,
   "metadata": {},
   "outputs": [],
   "source": [
    "# Plotting\n",
    "import matplotlib.colors as colors\n",
    "from copy import copy\n",
    "import matplotlib.cm as cm\n",
    "#from matplotlib_scalebar.scalebar import ScaleBar\n",
    "\n",
    "import seaborn as sns\n",
    "import matplotlib.gridspec as gridspec\n"
   ]
  },
  {
   "cell_type": "code",
   "execution_count": 5,
   "metadata": {},
   "outputs": [],
   "source": [
    "# Projection\n",
    "import cartopy.crs as ccrs\n",
    "\n",
    "import cartopy.feature as cfeature\n",
    "import cartopy.io.shapereader as shpreader\n",
    "from descartes import PolygonPatch\n",
    "import shapefile as shp  # Requires the pyshp package\n"
   ]
  },
  {
   "cell_type": "code",
   "execution_count": 6,
   "metadata": {},
   "outputs": [],
   "source": [
    "from descartes import PolygonPatch\n",
    "import shapefile as shp  # Requires the pyshp package\n",
    "sf=shp.Reader('C:/rezaul/1.academic/1.research/1.data/shapeFile/missi/Miss_RiverBasin.shp')"
   ]
  },
  {
   "cell_type": "code",
   "execution_count": null,
   "metadata": {},
   "outputs": [],
   "source": []
  },
  {
   "cell_type": "markdown",
   "metadata": {},
   "source": [
    "## Basin shape files"
   ]
  },
  {
   "cell_type": "code",
   "execution_count": 7,
   "metadata": {},
   "outputs": [],
   "source": [
    "shapeFile_Missi = 'C:/rezaul/1.academic/1.research/2.project/mrb/dt/shapeFile/mississippi_basins/mississippi_basins/mississippi_1.shp'\n",
    "shapeFile_Arkansas = 'C:/rezaul/1.academic/1.research/2.project/mrb/dt/shapeFile/mississippi_basins/mississippi_basins/arkansas_basin_1.shp'\n",
    "shapeFile_Missouri = 'C:/rezaul/1.academic/1.research/2.project/mrb/dt/shapeFile/mississippi_basins/mississippi_basins/missouri_basin_1.shp'\n",
    "shapeFile_Ohio = 'C:/rezaul/1.academic/1.research/2.project/mrb/dt/shapeFile/mississippi_basins/mississippi_basins/ohio_basin_1.shp'\n"
   ]
  },
  {
   "cell_type": "code",
   "execution_count": 8,
   "metadata": {},
   "outputs": [],
   "source": [
    "sf_Missi = shp.Reader(shapeFile_Missi)\n",
    "sf_Arkansas = shp.Reader(shapeFile_Arkansas)\n",
    "sf_Missouri = shp.Reader(shapeFile_Missouri)\n",
    "sf_Ohio = shp.Reader(shapeFile_Ohio)"
   ]
  },
  {
   "cell_type": "code",
   "execution_count": 9,
   "metadata": {},
   "outputs": [],
   "source": [
    "reader_Missi = shpreader.Reader(shapeFile_Missi)\n",
    "basin_Missi = list(reader_Missi.geometries())\n",
    "#\n",
    "reader_Arkansas = shpreader.Reader(shapeFile_Arkansas)\n",
    "basin_Arkansas = list(reader_Arkansas.geometries())\n",
    "#\n",
    "reader_Missouri = shpreader.Reader(shapeFile_Missouri)\n",
    "basin_Missouri = list(reader_Missouri.geometries())\n",
    "#\n",
    "reader_Ohio = shpreader.Reader(shapeFile_Ohio)\n",
    "basin_Ohio = list(reader_Ohio.geometries())\n",
    "#"
   ]
  },
  {
   "cell_type": "code",
   "execution_count": 10,
   "metadata": {},
   "outputs": [
    {
     "name": "stdout",
     "output_type": "stream",
     "text": [
      "<shapefile.ShapeRecord object at 0x0000021492695A90>\n",
      "<shapefile.ShapeRecord object at 0x0000021492695CA0>\n",
      "<shapefile.ShapeRecord object at 0x00000214926B0AF0>\n",
      "<shapefile.ShapeRecord object at 0x00000214926B0850>\n"
     ]
    }
   ],
   "source": [
    "feature_Missi = sf_Missi.shapeRecords()[0]\n",
    "print(feature_Missi)\n",
    "\n",
    "feature_Arkansas = sf_Arkansas.shapeRecords()[0]\n",
    "print(feature_Arkansas)\n",
    "\n",
    "feature_Missouri = sf_Missouri.shapeRecords()[0]\n",
    "print(feature_Missouri)\n",
    "\n",
    "feature_Ohio = sf_Ohio.shapeRecords()[0]\n",
    "print(feature_Ohio)\n",
    "\n",
    "#feature_LowMissi = sf_LowMissi.shapeRecords()[0]\n",
    "#print(feature_LowMissi)\n"
   ]
  },
  {
   "cell_type": "code",
   "execution_count": null,
   "metadata": {},
   "outputs": [],
   "source": []
  },
  {
   "cell_type": "markdown",
   "metadata": {},
   "source": [
    "## Read Nc file"
   ]
  },
  {
   "cell_type": "code",
   "execution_count": 11,
   "metadata": {},
   "outputs": [
    {
     "name": "stdout",
     "output_type": "stream",
     "text": [
      "C:/rezaul/1.academic/1.research/2.project/mrb/dt/cesm/cesm2LE/param/precip/mon/b.e21.BHISTcmip6.f09_g17.LE2-1001.001.cam.h0.PRECT.185001-185912.nc\n"
     ]
    }
   ],
   "source": [
    "filePath = 'C:/rezaul/1.academic/1.research/2.project/mrb/dt/cesm/cesm2LE/param/precip/mon'\n",
    "fileName = 'b.e21.BHISTcmip6.f09_g17.LE2-1001.001.cam.h0.PRECT.185001-185912.nc'\n",
    "\n",
    "ncFile_param = str(filePath) + '/' + str(fileName)\n",
    "print(ncFile_param)"
   ]
  },
  {
   "cell_type": "code",
   "execution_count": 12,
   "metadata": {},
   "outputs": [],
   "source": [
    "file_param = Dataset(ncFile_param, mode='r')\n",
    "file_param\n",
    "\n",
    "lons = file_param.variables['lon'][:]\n",
    "lats = file_param.variables['lat'][:]"
   ]
  },
  {
   "cell_type": "code",
   "execution_count": 13,
   "metadata": {},
   "outputs": [
    {
     "name": "stdout",
     "output_type": "stream",
     "text": [
      "[-90.         -89.05759162 -88.11518325 -87.17277487]\n"
     ]
    }
   ],
   "source": [
    "print(lats[0:4])"
   ]
  },
  {
   "cell_type": "code",
   "execution_count": 14,
   "metadata": {},
   "outputs": [
    {
     "name": "stdout",
     "output_type": "stream",
     "text": [
      "[0.   1.25 2.5  3.75]\n"
     ]
    }
   ],
   "source": [
    "print(lons[0:4])"
   ]
  },
  {
   "cell_type": "code",
   "execution_count": null,
   "metadata": {},
   "outputs": [],
   "source": []
  },
  {
   "cell_type": "code",
   "execution_count": 15,
   "metadata": {},
   "outputs": [
    {
     "name": "stderr",
     "output_type": "stream",
     "text": [
      "C:\\Users\\muham\\anaconda3\\lib\\site-packages\\xarray\\backends\\plugins.py:61: RuntimeWarning: Engine 'rasterio' loading failed:\n",
      "DLL load failed while importing _base: The specified procedure could not be found.\n",
      "  warnings.warn(f\"Engine {name!r} loading failed:\\n{ex}\", RuntimeWarning)\n"
     ]
    },
    {
     "data": {
      "text/html": [
       "<div><svg style=\"position: absolute; width: 0; height: 0; overflow: hidden\">\n",
       "<defs>\n",
       "<symbol id=\"icon-database\" viewBox=\"0 0 32 32\">\n",
       "<path d=\"M16 0c-8.837 0-16 2.239-16 5v4c0 2.761 7.163 5 16 5s16-2.239 16-5v-4c0-2.761-7.163-5-16-5z\"></path>\n",
       "<path d=\"M16 17c-8.837 0-16-2.239-16-5v6c0 2.761 7.163 5 16 5s16-2.239 16-5v-6c0 2.761-7.163 5-16 5z\"></path>\n",
       "<path d=\"M16 26c-8.837 0-16-2.239-16-5v6c0 2.761 7.163 5 16 5s16-2.239 16-5v-6c0 2.761-7.163 5-16 5z\"></path>\n",
       "</symbol>\n",
       "<symbol id=\"icon-file-text2\" viewBox=\"0 0 32 32\">\n",
       "<path d=\"M28.681 7.159c-0.694-0.947-1.662-2.053-2.724-3.116s-2.169-2.030-3.116-2.724c-1.612-1.182-2.393-1.319-2.841-1.319h-15.5c-1.378 0-2.5 1.121-2.5 2.5v27c0 1.378 1.122 2.5 2.5 2.5h23c1.378 0 2.5-1.122 2.5-2.5v-19.5c0-0.448-0.137-1.23-1.319-2.841zM24.543 5.457c0.959 0.959 1.712 1.825 2.268 2.543h-4.811v-4.811c0.718 0.556 1.584 1.309 2.543 2.268zM28 29.5c0 0.271-0.229 0.5-0.5 0.5h-23c-0.271 0-0.5-0.229-0.5-0.5v-27c0-0.271 0.229-0.5 0.5-0.5 0 0 15.499-0 15.5 0v7c0 0.552 0.448 1 1 1h7v19.5z\"></path>\n",
       "<path d=\"M23 26h-14c-0.552 0-1-0.448-1-1s0.448-1 1-1h14c0.552 0 1 0.448 1 1s-0.448 1-1 1z\"></path>\n",
       "<path d=\"M23 22h-14c-0.552 0-1-0.448-1-1s0.448-1 1-1h14c0.552 0 1 0.448 1 1s-0.448 1-1 1z\"></path>\n",
       "<path d=\"M23 18h-14c-0.552 0-1-0.448-1-1s0.448-1 1-1h14c0.552 0 1 0.448 1 1s-0.448 1-1 1z\"></path>\n",
       "</symbol>\n",
       "</defs>\n",
       "</svg>\n",
       "<style>/* CSS stylesheet for displaying xarray objects in jupyterlab.\n",
       " *\n",
       " */\n",
       "\n",
       ":root {\n",
       "  --xr-font-color0: var(--jp-content-font-color0, rgba(0, 0, 0, 1));\n",
       "  --xr-font-color2: var(--jp-content-font-color2, rgba(0, 0, 0, 0.54));\n",
       "  --xr-font-color3: var(--jp-content-font-color3, rgba(0, 0, 0, 0.38));\n",
       "  --xr-border-color: var(--jp-border-color2, #e0e0e0);\n",
       "  --xr-disabled-color: var(--jp-layout-color3, #bdbdbd);\n",
       "  --xr-background-color: var(--jp-layout-color0, white);\n",
       "  --xr-background-color-row-even: var(--jp-layout-color1, white);\n",
       "  --xr-background-color-row-odd: var(--jp-layout-color2, #eeeeee);\n",
       "}\n",
       "\n",
       "html[theme=dark],\n",
       "body.vscode-dark {\n",
       "  --xr-font-color0: rgba(255, 255, 255, 1);\n",
       "  --xr-font-color2: rgba(255, 255, 255, 0.54);\n",
       "  --xr-font-color3: rgba(255, 255, 255, 0.38);\n",
       "  --xr-border-color: #1F1F1F;\n",
       "  --xr-disabled-color: #515151;\n",
       "  --xr-background-color: #111111;\n",
       "  --xr-background-color-row-even: #111111;\n",
       "  --xr-background-color-row-odd: #313131;\n",
       "}\n",
       "\n",
       ".xr-wrap {\n",
       "  display: block !important;\n",
       "  min-width: 300px;\n",
       "  max-width: 700px;\n",
       "}\n",
       "\n",
       ".xr-text-repr-fallback {\n",
       "  /* fallback to plain text repr when CSS is not injected (untrusted notebook) */\n",
       "  display: none;\n",
       "}\n",
       "\n",
       ".xr-header {\n",
       "  padding-top: 6px;\n",
       "  padding-bottom: 6px;\n",
       "  margin-bottom: 4px;\n",
       "  border-bottom: solid 1px var(--xr-border-color);\n",
       "}\n",
       "\n",
       ".xr-header > div,\n",
       ".xr-header > ul {\n",
       "  display: inline;\n",
       "  margin-top: 0;\n",
       "  margin-bottom: 0;\n",
       "}\n",
       "\n",
       ".xr-obj-type,\n",
       ".xr-array-name {\n",
       "  margin-left: 2px;\n",
       "  margin-right: 10px;\n",
       "}\n",
       "\n",
       ".xr-obj-type {\n",
       "  color: var(--xr-font-color2);\n",
       "}\n",
       "\n",
       ".xr-sections {\n",
       "  padding-left: 0 !important;\n",
       "  display: grid;\n",
       "  grid-template-columns: 150px auto auto 1fr 20px 20px;\n",
       "}\n",
       "\n",
       ".xr-section-item {\n",
       "  display: contents;\n",
       "}\n",
       "\n",
       ".xr-section-item input {\n",
       "  display: none;\n",
       "}\n",
       "\n",
       ".xr-section-item input + label {\n",
       "  color: var(--xr-disabled-color);\n",
       "}\n",
       "\n",
       ".xr-section-item input:enabled + label {\n",
       "  cursor: pointer;\n",
       "  color: var(--xr-font-color2);\n",
       "}\n",
       "\n",
       ".xr-section-item input:enabled + label:hover {\n",
       "  color: var(--xr-font-color0);\n",
       "}\n",
       "\n",
       ".xr-section-summary {\n",
       "  grid-column: 1;\n",
       "  color: var(--xr-font-color2);\n",
       "  font-weight: 500;\n",
       "}\n",
       "\n",
       ".xr-section-summary > span {\n",
       "  display: inline-block;\n",
       "  padding-left: 0.5em;\n",
       "}\n",
       "\n",
       ".xr-section-summary-in:disabled + label {\n",
       "  color: var(--xr-font-color2);\n",
       "}\n",
       "\n",
       ".xr-section-summary-in + label:before {\n",
       "  display: inline-block;\n",
       "  content: '►';\n",
       "  font-size: 11px;\n",
       "  width: 15px;\n",
       "  text-align: center;\n",
       "}\n",
       "\n",
       ".xr-section-summary-in:disabled + label:before {\n",
       "  color: var(--xr-disabled-color);\n",
       "}\n",
       "\n",
       ".xr-section-summary-in:checked + label:before {\n",
       "  content: '▼';\n",
       "}\n",
       "\n",
       ".xr-section-summary-in:checked + label > span {\n",
       "  display: none;\n",
       "}\n",
       "\n",
       ".xr-section-summary,\n",
       ".xr-section-inline-details {\n",
       "  padding-top: 4px;\n",
       "  padding-bottom: 4px;\n",
       "}\n",
       "\n",
       ".xr-section-inline-details {\n",
       "  grid-column: 2 / -1;\n",
       "}\n",
       "\n",
       ".xr-section-details {\n",
       "  display: none;\n",
       "  grid-column: 1 / -1;\n",
       "  margin-bottom: 5px;\n",
       "}\n",
       "\n",
       ".xr-section-summary-in:checked ~ .xr-section-details {\n",
       "  display: contents;\n",
       "}\n",
       "\n",
       ".xr-array-wrap {\n",
       "  grid-column: 1 / -1;\n",
       "  display: grid;\n",
       "  grid-template-columns: 20px auto;\n",
       "}\n",
       "\n",
       ".xr-array-wrap > label {\n",
       "  grid-column: 1;\n",
       "  vertical-align: top;\n",
       "}\n",
       "\n",
       ".xr-preview {\n",
       "  color: var(--xr-font-color3);\n",
       "}\n",
       "\n",
       ".xr-array-preview,\n",
       ".xr-array-data {\n",
       "  padding: 0 5px !important;\n",
       "  grid-column: 2;\n",
       "}\n",
       "\n",
       ".xr-array-data,\n",
       ".xr-array-in:checked ~ .xr-array-preview {\n",
       "  display: none;\n",
       "}\n",
       "\n",
       ".xr-array-in:checked ~ .xr-array-data,\n",
       ".xr-array-preview {\n",
       "  display: inline-block;\n",
       "}\n",
       "\n",
       ".xr-dim-list {\n",
       "  display: inline-block !important;\n",
       "  list-style: none;\n",
       "  padding: 0 !important;\n",
       "  margin: 0;\n",
       "}\n",
       "\n",
       ".xr-dim-list li {\n",
       "  display: inline-block;\n",
       "  padding: 0;\n",
       "  margin: 0;\n",
       "}\n",
       "\n",
       ".xr-dim-list:before {\n",
       "  content: '(';\n",
       "}\n",
       "\n",
       ".xr-dim-list:after {\n",
       "  content: ')';\n",
       "}\n",
       "\n",
       ".xr-dim-list li:not(:last-child):after {\n",
       "  content: ',';\n",
       "  padding-right: 5px;\n",
       "}\n",
       "\n",
       ".xr-has-index {\n",
       "  font-weight: bold;\n",
       "}\n",
       "\n",
       ".xr-var-list,\n",
       ".xr-var-item {\n",
       "  display: contents;\n",
       "}\n",
       "\n",
       ".xr-var-item > div,\n",
       ".xr-var-item label,\n",
       ".xr-var-item > .xr-var-name span {\n",
       "  background-color: var(--xr-background-color-row-even);\n",
       "  margin-bottom: 0;\n",
       "}\n",
       "\n",
       ".xr-var-item > .xr-var-name:hover span {\n",
       "  padding-right: 5px;\n",
       "}\n",
       "\n",
       ".xr-var-list > li:nth-child(odd) > div,\n",
       ".xr-var-list > li:nth-child(odd) > label,\n",
       ".xr-var-list > li:nth-child(odd) > .xr-var-name span {\n",
       "  background-color: var(--xr-background-color-row-odd);\n",
       "}\n",
       "\n",
       ".xr-var-name {\n",
       "  grid-column: 1;\n",
       "}\n",
       "\n",
       ".xr-var-dims {\n",
       "  grid-column: 2;\n",
       "}\n",
       "\n",
       ".xr-var-dtype {\n",
       "  grid-column: 3;\n",
       "  text-align: right;\n",
       "  color: var(--xr-font-color2);\n",
       "}\n",
       "\n",
       ".xr-var-preview {\n",
       "  grid-column: 4;\n",
       "}\n",
       "\n",
       ".xr-var-name,\n",
       ".xr-var-dims,\n",
       ".xr-var-dtype,\n",
       ".xr-preview,\n",
       ".xr-attrs dt {\n",
       "  white-space: nowrap;\n",
       "  overflow: hidden;\n",
       "  text-overflow: ellipsis;\n",
       "  padding-right: 10px;\n",
       "}\n",
       "\n",
       ".xr-var-name:hover,\n",
       ".xr-var-dims:hover,\n",
       ".xr-var-dtype:hover,\n",
       ".xr-attrs dt:hover {\n",
       "  overflow: visible;\n",
       "  width: auto;\n",
       "  z-index: 1;\n",
       "}\n",
       "\n",
       ".xr-var-attrs,\n",
       ".xr-var-data {\n",
       "  display: none;\n",
       "  background-color: var(--xr-background-color) !important;\n",
       "  padding-bottom: 5px !important;\n",
       "}\n",
       "\n",
       ".xr-var-attrs-in:checked ~ .xr-var-attrs,\n",
       ".xr-var-data-in:checked ~ .xr-var-data {\n",
       "  display: block;\n",
       "}\n",
       "\n",
       ".xr-var-data > table {\n",
       "  float: right;\n",
       "}\n",
       "\n",
       ".xr-var-name span,\n",
       ".xr-var-data,\n",
       ".xr-attrs {\n",
       "  padding-left: 25px !important;\n",
       "}\n",
       "\n",
       ".xr-attrs,\n",
       ".xr-var-attrs,\n",
       ".xr-var-data {\n",
       "  grid-column: 1 / -1;\n",
       "}\n",
       "\n",
       "dl.xr-attrs {\n",
       "  padding: 0;\n",
       "  margin: 0;\n",
       "  display: grid;\n",
       "  grid-template-columns: 125px auto;\n",
       "}\n",
       "\n",
       ".xr-attrs dt,\n",
       ".xr-attrs dd {\n",
       "  padding: 0;\n",
       "  margin: 0;\n",
       "  float: left;\n",
       "  padding-right: 10px;\n",
       "  width: auto;\n",
       "}\n",
       "\n",
       ".xr-attrs dt {\n",
       "  font-weight: normal;\n",
       "  grid-column: 1;\n",
       "}\n",
       "\n",
       ".xr-attrs dt:hover span {\n",
       "  display: inline-block;\n",
       "  background: var(--xr-background-color);\n",
       "  padding-right: 10px;\n",
       "}\n",
       "\n",
       ".xr-attrs dd {\n",
       "  grid-column: 2;\n",
       "  white-space: pre-wrap;\n",
       "  word-break: break-all;\n",
       "}\n",
       "\n",
       ".xr-icon-database,\n",
       ".xr-icon-file-text2 {\n",
       "  display: inline-block;\n",
       "  vertical-align: middle;\n",
       "  width: 1em;\n",
       "  height: 1.5em !important;\n",
       "  stroke-width: 0;\n",
       "  stroke: currentColor;\n",
       "  fill: currentColor;\n",
       "}\n",
       "</style><pre class='xr-text-repr-fallback'>&lt;xarray.Dataset&gt;\n",
       "Dimensions:       (lat: 192, zlon: 1, nbnd: 2, lon: 288, lev: 32, ilev: 33,\n",
       "                   time: 120)\n",
       "Coordinates:\n",
       "  * lat           (lat) float64 -90.0 -89.06 -88.12 -87.17 ... 88.12 89.06 90.0\n",
       "  * zlon          (zlon) float64 0.0\n",
       "  * lon           (lon) float64 0.0 1.25 2.5 3.75 ... 355.0 356.2 357.5 358.8\n",
       "  * lev           (lev) float64 3.643 7.595 14.36 24.61 ... 957.5 976.3 992.6\n",
       "  * ilev          (ilev) float64 2.255 5.032 10.16 18.56 ... 967.5 985.1 1e+03\n",
       "  * time          (time) object 1850-02-01 00:00:00 ... 1860-01-01 00:00:00\n",
       "Dimensions without coordinates: nbnd\n",
       "Data variables: (12/27)\n",
       "    zlon_bnds     (zlon, nbnd) float64 0.0 358.8\n",
       "    gw            (lat) float64 3.382e-05 0.0002705 ... 0.0002705 3.382e-05\n",
       "    hyam          (lev) float64 0.003643 0.007595 0.01436 ... 0.001989 0.0\n",
       "    hybm          (lev) float64 0.0 0.0 0.0 0.0 ... 0.9251 0.9512 0.9743 0.9926\n",
       "    P0            float64 1e+05\n",
       "    hyai          (ilev) float64 0.002255 0.005032 0.01016 ... 0.003979 0.0 0.0\n",
       "    ...            ...\n",
       "    n2ovmr        (time) float64 2.73e-07 2.73e-07 ... 2.74e-07 2.74e-07\n",
       "    f11vmr        (time) float64 3.211e-11 3.211e-11 ... 3.211e-11 3.211e-11\n",
       "    f12vmr        (time) float64 0.0 0.0 0.0 0.0 0.0 0.0 ... 0.0 0.0 0.0 0.0 0.0\n",
       "    sol_tsi       (time) float64 -1.0 -1.0 -1.0 -1.0 ... -1.0 -1.0 -1.0 -1.0\n",
       "    nsteph        (time) float64 1.488e+03 2.832e+03 ... 1.737e+05 1.752e+05\n",
       "    PRECT         (time, lat, lon) float32 ...\n",
       "Attributes:\n",
       "    Conventions:       CF-1.0\n",
       "    source:            CAM\n",
       "    case:              b.e21.BHISTcmip6.f09_g17.LE2-1001.001\n",
       "    logname:           sunseon\n",
       "    host:              mom1\n",
       "    initial_file:      b.e21.B1850.f09_g17.CMIP6-piControl.001.cam.i.1001-01-...\n",
       "    topography_file:   /mnt/lustre/share/CESM/cesm_input/atm/cam/topo/fv_0.9x...\n",
       "    model_doi_url:     https://doi.org/10.5065/D67H1H0V\n",
       "    time_period_freq:  month_1</pre><div class='xr-wrap' style='display:none'><div class='xr-header'><div class='xr-obj-type'>xarray.Dataset</div></div><ul class='xr-sections'><li class='xr-section-item'><input id='section-370de75d-1041-4eac-9765-e4f2f36ea5cb' class='xr-section-summary-in' type='checkbox' disabled ><label for='section-370de75d-1041-4eac-9765-e4f2f36ea5cb' class='xr-section-summary'  title='Expand/collapse section'>Dimensions:</label><div class='xr-section-inline-details'><ul class='xr-dim-list'><li><span class='xr-has-index'>lat</span>: 192</li><li><span class='xr-has-index'>zlon</span>: 1</li><li><span>nbnd</span>: 2</li><li><span class='xr-has-index'>lon</span>: 288</li><li><span class='xr-has-index'>lev</span>: 32</li><li><span class='xr-has-index'>ilev</span>: 33</li><li><span class='xr-has-index'>time</span>: 120</li></ul></div><div class='xr-section-details'></div></li><li class='xr-section-item'><input id='section-13f7a63e-40f1-42d3-8dd2-df1d1e9b88b4' class='xr-section-summary-in' type='checkbox'  checked><label for='section-13f7a63e-40f1-42d3-8dd2-df1d1e9b88b4' class='xr-section-summary' >Coordinates: <span>(6)</span></label><div class='xr-section-inline-details'></div><div class='xr-section-details'><ul class='xr-var-list'><li class='xr-var-item'><div class='xr-var-name'><span class='xr-has-index'>lat</span></div><div class='xr-var-dims'>(lat)</div><div class='xr-var-dtype'>float64</div><div class='xr-var-preview xr-preview'>-90.0 -89.06 -88.12 ... 89.06 90.0</div><input id='attrs-57bf7d42-e875-43c9-864e-15946464d751' class='xr-var-attrs-in' type='checkbox' ><label for='attrs-57bf7d42-e875-43c9-864e-15946464d751' title='Show/Hide attributes'><svg class='icon xr-icon-file-text2'><use xlink:href='#icon-file-text2'></use></svg></label><input id='data-7110945c-3d6b-498e-ae5a-e666589c50c4' class='xr-var-data-in' type='checkbox'><label for='data-7110945c-3d6b-498e-ae5a-e666589c50c4' title='Show/Hide data repr'><svg class='icon xr-icon-database'><use xlink:href='#icon-database'></use></svg></label><div class='xr-var-attrs'><dl class='xr-attrs'><dt><span>long_name :</span></dt><dd>latitude</dd><dt><span>units :</span></dt><dd>degrees_north</dd></dl></div><div class='xr-var-data'><pre>array([-90.      , -89.057592, -88.115183, -87.172775, -86.230366, -85.287958,\n",
       "       -84.34555 , -83.403141, -82.460733, -81.518325, -80.575916, -79.633508,\n",
       "       -78.691099, -77.748691, -76.806283, -75.863874, -74.921466, -73.979058,\n",
       "       -73.036649, -72.094241, -71.151832, -70.209424, -69.267016, -68.324607,\n",
       "       -67.382199, -66.439791, -65.497382, -64.554974, -63.612565, -62.670157,\n",
       "       -61.727749, -60.78534 , -59.842932, -58.900524, -57.958115, -57.015707,\n",
       "       -56.073298, -55.13089 , -54.188482, -53.246073, -52.303665, -51.361257,\n",
       "       -50.418848, -49.47644 , -48.534031, -47.591623, -46.649215, -45.706806,\n",
       "       -44.764398, -43.82199 , -42.879581, -41.937173, -40.994764, -40.052356,\n",
       "       -39.109948, -38.167539, -37.225131, -36.282723, -35.340314, -34.397906,\n",
       "       -33.455497, -32.513089, -31.570681, -30.628272, -29.685864, -28.743455,\n",
       "       -27.801047, -26.858639, -25.91623 , -24.973822, -24.031414, -23.089005,\n",
       "       -22.146597, -21.204188, -20.26178 , -19.319372, -18.376963, -17.434555,\n",
       "       -16.492147, -15.549738, -14.60733 , -13.664921, -12.722513, -11.780105,\n",
       "       -10.837696,  -9.895288,  -8.95288 ,  -8.010471,  -7.068063,  -6.125654,\n",
       "        -5.183246,  -4.240838,  -3.298429,  -2.356021,  -1.413613,  -0.471204,\n",
       "         0.471204,   1.413613,   2.356021,   3.298429,   4.240838,   5.183246,\n",
       "         6.125654,   7.068063,   8.010471,   8.95288 ,   9.895288,  10.837696,\n",
       "        11.780105,  12.722513,  13.664921,  14.60733 ,  15.549738,  16.492147,\n",
       "        17.434555,  18.376963,  19.319372,  20.26178 ,  21.204188,  22.146597,\n",
       "        23.089005,  24.031414,  24.973822,  25.91623 ,  26.858639,  27.801047,\n",
       "        28.743455,  29.685864,  30.628272,  31.570681,  32.513089,  33.455497,\n",
       "        34.397906,  35.340314,  36.282723,  37.225131,  38.167539,  39.109948,\n",
       "        40.052356,  40.994764,  41.937173,  42.879581,  43.82199 ,  44.764398,\n",
       "        45.706806,  46.649215,  47.591623,  48.534031,  49.47644 ,  50.418848,\n",
       "        51.361257,  52.303665,  53.246073,  54.188482,  55.13089 ,  56.073298,\n",
       "        57.015707,  57.958115,  58.900524,  59.842932,  60.78534 ,  61.727749,\n",
       "        62.670157,  63.612565,  64.554974,  65.497382,  66.439791,  67.382199,\n",
       "        68.324607,  69.267016,  70.209424,  71.151832,  72.094241,  73.036649,\n",
       "        73.979058,  74.921466,  75.863874,  76.806283,  77.748691,  78.691099,\n",
       "        79.633508,  80.575916,  81.518325,  82.460733,  83.403141,  84.34555 ,\n",
       "        85.287958,  86.230366,  87.172775,  88.115183,  89.057592,  90.      ])</pre></div></li><li class='xr-var-item'><div class='xr-var-name'><span class='xr-has-index'>zlon</span></div><div class='xr-var-dims'>(zlon)</div><div class='xr-var-dtype'>float64</div><div class='xr-var-preview xr-preview'>0.0</div><input id='attrs-fb4a9b61-cbe8-4ea1-bb74-f2326f3282fd' class='xr-var-attrs-in' type='checkbox' ><label for='attrs-fb4a9b61-cbe8-4ea1-bb74-f2326f3282fd' title='Show/Hide attributes'><svg class='icon xr-icon-file-text2'><use xlink:href='#icon-file-text2'></use></svg></label><input id='data-97d922de-ece9-45c5-b616-3c28341f2dea' class='xr-var-data-in' type='checkbox'><label for='data-97d922de-ece9-45c5-b616-3c28341f2dea' title='Show/Hide data repr'><svg class='icon xr-icon-database'><use xlink:href='#icon-database'></use></svg></label><div class='xr-var-attrs'><dl class='xr-attrs'><dt><span>long_name :</span></dt><dd>longitude</dd><dt><span>units :</span></dt><dd>degrees_east</dd><dt><span>bounds :</span></dt><dd>zlon_bnds</dd></dl></div><div class='xr-var-data'><pre>array([0.])</pre></div></li><li class='xr-var-item'><div class='xr-var-name'><span class='xr-has-index'>lon</span></div><div class='xr-var-dims'>(lon)</div><div class='xr-var-dtype'>float64</div><div class='xr-var-preview xr-preview'>0.0 1.25 2.5 ... 356.2 357.5 358.8</div><input id='attrs-39403d87-95cd-4606-ae46-3fa6efe7536d' class='xr-var-attrs-in' type='checkbox' ><label for='attrs-39403d87-95cd-4606-ae46-3fa6efe7536d' title='Show/Hide attributes'><svg class='icon xr-icon-file-text2'><use xlink:href='#icon-file-text2'></use></svg></label><input id='data-c79adeb6-1d6a-41a3-b3cf-45a3a071a3e7' class='xr-var-data-in' type='checkbox'><label for='data-c79adeb6-1d6a-41a3-b3cf-45a3a071a3e7' title='Show/Hide data repr'><svg class='icon xr-icon-database'><use xlink:href='#icon-database'></use></svg></label><div class='xr-var-attrs'><dl class='xr-attrs'><dt><span>long_name :</span></dt><dd>longitude</dd><dt><span>units :</span></dt><dd>degrees_east</dd></dl></div><div class='xr-var-data'><pre>array([  0.  ,   1.25,   2.5 , ..., 356.25, 357.5 , 358.75])</pre></div></li><li class='xr-var-item'><div class='xr-var-name'><span class='xr-has-index'>lev</span></div><div class='xr-var-dims'>(lev)</div><div class='xr-var-dtype'>float64</div><div class='xr-var-preview xr-preview'>3.643 7.595 14.36 ... 976.3 992.6</div><input id='attrs-82e9973c-9b3a-4b25-8558-be98bb5ed3f9' class='xr-var-attrs-in' type='checkbox' ><label for='attrs-82e9973c-9b3a-4b25-8558-be98bb5ed3f9' title='Show/Hide attributes'><svg class='icon xr-icon-file-text2'><use xlink:href='#icon-file-text2'></use></svg></label><input id='data-396c1948-7162-4033-bcd5-8914987a7797' class='xr-var-data-in' type='checkbox'><label for='data-396c1948-7162-4033-bcd5-8914987a7797' title='Show/Hide data repr'><svg class='icon xr-icon-database'><use xlink:href='#icon-database'></use></svg></label><div class='xr-var-attrs'><dl class='xr-attrs'><dt><span>long_name :</span></dt><dd>hybrid level at midpoints (1000*(A+B))</dd><dt><span>units :</span></dt><dd>hPa</dd><dt><span>positive :</span></dt><dd>down</dd><dt><span>standard_name :</span></dt><dd>atmosphere_hybrid_sigma_pressure_coordinate</dd><dt><span>formula_terms :</span></dt><dd>a: hyam b: hybm p0: P0 ps: PS</dd></dl></div><div class='xr-var-data'><pre>array([  3.643466,   7.59482 ,  14.356632,  24.61222 ,  35.92325 ,  43.19375 ,\n",
       "        51.677499,  61.520498,  73.750958,  87.82123 , 103.317127, 121.547241,\n",
       "       142.994039, 168.22508 , 197.908087, 232.828619, 273.910817, 322.241902,\n",
       "       379.100904, 445.992574, 524.687175, 609.778695, 691.38943 , 763.404481,\n",
       "       820.858369, 859.534767, 887.020249, 912.644547, 936.198398, 957.48548 ,\n",
       "       976.325407, 992.556095])</pre></div></li><li class='xr-var-item'><div class='xr-var-name'><span class='xr-has-index'>ilev</span></div><div class='xr-var-dims'>(ilev)</div><div class='xr-var-dtype'>float64</div><div class='xr-var-preview xr-preview'>2.255 5.032 10.16 ... 985.1 1e+03</div><input id='attrs-56521717-b3b6-4819-8f4f-e0001e8e87c1' class='xr-var-attrs-in' type='checkbox' ><label for='attrs-56521717-b3b6-4819-8f4f-e0001e8e87c1' title='Show/Hide attributes'><svg class='icon xr-icon-file-text2'><use xlink:href='#icon-file-text2'></use></svg></label><input id='data-24358ec5-267e-4818-8b08-10330477d159' class='xr-var-data-in' type='checkbox'><label for='data-24358ec5-267e-4818-8b08-10330477d159' title='Show/Hide data repr'><svg class='icon xr-icon-database'><use xlink:href='#icon-database'></use></svg></label><div class='xr-var-attrs'><dl class='xr-attrs'><dt><span>long_name :</span></dt><dd>hybrid level at interfaces (1000*(A+B))</dd><dt><span>units :</span></dt><dd>hPa</dd><dt><span>positive :</span></dt><dd>down</dd><dt><span>standard_name :</span></dt><dd>atmosphere_hybrid_sigma_pressure_coordinate</dd><dt><span>formula_terms :</span></dt><dd>a: hyai b: hybi p0: P0 ps: PS</dd></dl></div><div class='xr-var-data'><pre>array([   2.25524 ,    5.031692,   10.157947,   18.555317,   29.734676,\n",
       "         39.273001,   47.114499,   56.240499,   66.800497,   80.701418,\n",
       "         94.941042,  111.693211,  131.401271,  154.586807,  181.863353,\n",
       "        213.952821,  251.704417,  296.117216,  348.366588,  409.835219,\n",
       "        482.149929,  567.224421,  652.332969,  730.445892,  796.363071,\n",
       "        845.353667,  873.715866,  900.324631,  924.964462,  947.432335,\n",
       "        967.538625,  985.11219 , 1000.      ])</pre></div></li><li class='xr-var-item'><div class='xr-var-name'><span class='xr-has-index'>time</span></div><div class='xr-var-dims'>(time)</div><div class='xr-var-dtype'>object</div><div class='xr-var-preview xr-preview'>1850-02-01 00:00:00 ... 1860-01-...</div><input id='attrs-6919164d-3106-4582-ba8b-338144d74531' class='xr-var-attrs-in' type='checkbox' ><label for='attrs-6919164d-3106-4582-ba8b-338144d74531' title='Show/Hide attributes'><svg class='icon xr-icon-file-text2'><use xlink:href='#icon-file-text2'></use></svg></label><input id='data-a14326e7-d303-42a5-b399-33844f005a3f' class='xr-var-data-in' type='checkbox'><label for='data-a14326e7-d303-42a5-b399-33844f005a3f' title='Show/Hide data repr'><svg class='icon xr-icon-database'><use xlink:href='#icon-database'></use></svg></label><div class='xr-var-attrs'><dl class='xr-attrs'><dt><span>long_name :</span></dt><dd>time</dd><dt><span>bounds :</span></dt><dd>time_bnds</dd></dl></div><div class='xr-var-data'><pre>array([cftime.DatetimeNoLeap(1850, 2, 1, 0, 0, 0, 0),\n",
       "       cftime.DatetimeNoLeap(1850, 3, 1, 0, 0, 0, 0),\n",
       "       cftime.DatetimeNoLeap(1850, 4, 1, 0, 0, 0, 0),\n",
       "       cftime.DatetimeNoLeap(1850, 5, 1, 0, 0, 0, 0),\n",
       "       cftime.DatetimeNoLeap(1850, 6, 1, 0, 0, 0, 0),\n",
       "       cftime.DatetimeNoLeap(1850, 7, 1, 0, 0, 0, 0),\n",
       "       cftime.DatetimeNoLeap(1850, 8, 1, 0, 0, 0, 0),\n",
       "       cftime.DatetimeNoLeap(1850, 9, 1, 0, 0, 0, 0),\n",
       "       cftime.DatetimeNoLeap(1850, 10, 1, 0, 0, 0, 0),\n",
       "       cftime.DatetimeNoLeap(1850, 11, 1, 0, 0, 0, 0),\n",
       "       cftime.DatetimeNoLeap(1850, 12, 1, 0, 0, 0, 0),\n",
       "       cftime.DatetimeNoLeap(1851, 1, 1, 0, 0, 0, 0),\n",
       "       cftime.DatetimeNoLeap(1851, 2, 1, 0, 0, 0, 0),\n",
       "       cftime.DatetimeNoLeap(1851, 3, 1, 0, 0, 0, 0),\n",
       "       cftime.DatetimeNoLeap(1851, 4, 1, 0, 0, 0, 0),\n",
       "       cftime.DatetimeNoLeap(1851, 5, 1, 0, 0, 0, 0),\n",
       "       cftime.DatetimeNoLeap(1851, 6, 1, 0, 0, 0, 0),\n",
       "       cftime.DatetimeNoLeap(1851, 7, 1, 0, 0, 0, 0),\n",
       "       cftime.DatetimeNoLeap(1851, 8, 1, 0, 0, 0, 0),\n",
       "       cftime.DatetimeNoLeap(1851, 9, 1, 0, 0, 0, 0),\n",
       "       cftime.DatetimeNoLeap(1851, 10, 1, 0, 0, 0, 0),\n",
       "       cftime.DatetimeNoLeap(1851, 11, 1, 0, 0, 0, 0),\n",
       "       cftime.DatetimeNoLeap(1851, 12, 1, 0, 0, 0, 0),\n",
       "       cftime.DatetimeNoLeap(1852, 1, 1, 0, 0, 0, 0),\n",
       "       cftime.DatetimeNoLeap(1852, 2, 1, 0, 0, 0, 0),\n",
       "       cftime.DatetimeNoLeap(1852, 3, 1, 0, 0, 0, 0),\n",
       "       cftime.DatetimeNoLeap(1852, 4, 1, 0, 0, 0, 0),\n",
       "       cftime.DatetimeNoLeap(1852, 5, 1, 0, 0, 0, 0),\n",
       "       cftime.DatetimeNoLeap(1852, 6, 1, 0, 0, 0, 0),\n",
       "       cftime.DatetimeNoLeap(1852, 7, 1, 0, 0, 0, 0),\n",
       "       cftime.DatetimeNoLeap(1852, 8, 1, 0, 0, 0, 0),\n",
       "       cftime.DatetimeNoLeap(1852, 9, 1, 0, 0, 0, 0),\n",
       "       cftime.DatetimeNoLeap(1852, 10, 1, 0, 0, 0, 0),\n",
       "       cftime.DatetimeNoLeap(1852, 11, 1, 0, 0, 0, 0),\n",
       "       cftime.DatetimeNoLeap(1852, 12, 1, 0, 0, 0, 0),\n",
       "       cftime.DatetimeNoLeap(1853, 1, 1, 0, 0, 0, 0),\n",
       "       cftime.DatetimeNoLeap(1853, 2, 1, 0, 0, 0, 0),\n",
       "       cftime.DatetimeNoLeap(1853, 3, 1, 0, 0, 0, 0),\n",
       "       cftime.DatetimeNoLeap(1853, 4, 1, 0, 0, 0, 0),\n",
       "       cftime.DatetimeNoLeap(1853, 5, 1, 0, 0, 0, 0),\n",
       "       cftime.DatetimeNoLeap(1853, 6, 1, 0, 0, 0, 0),\n",
       "       cftime.DatetimeNoLeap(1853, 7, 1, 0, 0, 0, 0),\n",
       "       cftime.DatetimeNoLeap(1853, 8, 1, 0, 0, 0, 0),\n",
       "       cftime.DatetimeNoLeap(1853, 9, 1, 0, 0, 0, 0),\n",
       "       cftime.DatetimeNoLeap(1853, 10, 1, 0, 0, 0, 0),\n",
       "       cftime.DatetimeNoLeap(1853, 11, 1, 0, 0, 0, 0),\n",
       "       cftime.DatetimeNoLeap(1853, 12, 1, 0, 0, 0, 0),\n",
       "       cftime.DatetimeNoLeap(1854, 1, 1, 0, 0, 0, 0),\n",
       "       cftime.DatetimeNoLeap(1854, 2, 1, 0, 0, 0, 0),\n",
       "       cftime.DatetimeNoLeap(1854, 3, 1, 0, 0, 0, 0),\n",
       "       cftime.DatetimeNoLeap(1854, 4, 1, 0, 0, 0, 0),\n",
       "       cftime.DatetimeNoLeap(1854, 5, 1, 0, 0, 0, 0),\n",
       "       cftime.DatetimeNoLeap(1854, 6, 1, 0, 0, 0, 0),\n",
       "       cftime.DatetimeNoLeap(1854, 7, 1, 0, 0, 0, 0),\n",
       "       cftime.DatetimeNoLeap(1854, 8, 1, 0, 0, 0, 0),\n",
       "       cftime.DatetimeNoLeap(1854, 9, 1, 0, 0, 0, 0),\n",
       "       cftime.DatetimeNoLeap(1854, 10, 1, 0, 0, 0, 0),\n",
       "       cftime.DatetimeNoLeap(1854, 11, 1, 0, 0, 0, 0),\n",
       "       cftime.DatetimeNoLeap(1854, 12, 1, 0, 0, 0, 0),\n",
       "       cftime.DatetimeNoLeap(1855, 1, 1, 0, 0, 0, 0),\n",
       "       cftime.DatetimeNoLeap(1855, 2, 1, 0, 0, 0, 0),\n",
       "       cftime.DatetimeNoLeap(1855, 3, 1, 0, 0, 0, 0),\n",
       "       cftime.DatetimeNoLeap(1855, 4, 1, 0, 0, 0, 0),\n",
       "       cftime.DatetimeNoLeap(1855, 5, 1, 0, 0, 0, 0),\n",
       "       cftime.DatetimeNoLeap(1855, 6, 1, 0, 0, 0, 0),\n",
       "       cftime.DatetimeNoLeap(1855, 7, 1, 0, 0, 0, 0),\n",
       "       cftime.DatetimeNoLeap(1855, 8, 1, 0, 0, 0, 0),\n",
       "       cftime.DatetimeNoLeap(1855, 9, 1, 0, 0, 0, 0),\n",
       "       cftime.DatetimeNoLeap(1855, 10, 1, 0, 0, 0, 0),\n",
       "       cftime.DatetimeNoLeap(1855, 11, 1, 0, 0, 0, 0),\n",
       "       cftime.DatetimeNoLeap(1855, 12, 1, 0, 0, 0, 0),\n",
       "       cftime.DatetimeNoLeap(1856, 1, 1, 0, 0, 0, 0),\n",
       "       cftime.DatetimeNoLeap(1856, 2, 1, 0, 0, 0, 0),\n",
       "       cftime.DatetimeNoLeap(1856, 3, 1, 0, 0, 0, 0),\n",
       "       cftime.DatetimeNoLeap(1856, 4, 1, 0, 0, 0, 0),\n",
       "       cftime.DatetimeNoLeap(1856, 5, 1, 0, 0, 0, 0),\n",
       "       cftime.DatetimeNoLeap(1856, 6, 1, 0, 0, 0, 0),\n",
       "       cftime.DatetimeNoLeap(1856, 7, 1, 0, 0, 0, 0),\n",
       "       cftime.DatetimeNoLeap(1856, 8, 1, 0, 0, 0, 0),\n",
       "       cftime.DatetimeNoLeap(1856, 9, 1, 0, 0, 0, 0),\n",
       "       cftime.DatetimeNoLeap(1856, 10, 1, 0, 0, 0, 0),\n",
       "       cftime.DatetimeNoLeap(1856, 11, 1, 0, 0, 0, 0),\n",
       "       cftime.DatetimeNoLeap(1856, 12, 1, 0, 0, 0, 0),\n",
       "       cftime.DatetimeNoLeap(1857, 1, 1, 0, 0, 0, 0),\n",
       "       cftime.DatetimeNoLeap(1857, 2, 1, 0, 0, 0, 0),\n",
       "       cftime.DatetimeNoLeap(1857, 3, 1, 0, 0, 0, 0),\n",
       "       cftime.DatetimeNoLeap(1857, 4, 1, 0, 0, 0, 0),\n",
       "       cftime.DatetimeNoLeap(1857, 5, 1, 0, 0, 0, 0),\n",
       "       cftime.DatetimeNoLeap(1857, 6, 1, 0, 0, 0, 0),\n",
       "       cftime.DatetimeNoLeap(1857, 7, 1, 0, 0, 0, 0),\n",
       "       cftime.DatetimeNoLeap(1857, 8, 1, 0, 0, 0, 0),\n",
       "       cftime.DatetimeNoLeap(1857, 9, 1, 0, 0, 0, 0),\n",
       "       cftime.DatetimeNoLeap(1857, 10, 1, 0, 0, 0, 0),\n",
       "       cftime.DatetimeNoLeap(1857, 11, 1, 0, 0, 0, 0),\n",
       "       cftime.DatetimeNoLeap(1857, 12, 1, 0, 0, 0, 0),\n",
       "       cftime.DatetimeNoLeap(1858, 1, 1, 0, 0, 0, 0),\n",
       "       cftime.DatetimeNoLeap(1858, 2, 1, 0, 0, 0, 0),\n",
       "       cftime.DatetimeNoLeap(1858, 3, 1, 0, 0, 0, 0),\n",
       "       cftime.DatetimeNoLeap(1858, 4, 1, 0, 0, 0, 0),\n",
       "       cftime.DatetimeNoLeap(1858, 5, 1, 0, 0, 0, 0),\n",
       "       cftime.DatetimeNoLeap(1858, 6, 1, 0, 0, 0, 0),\n",
       "       cftime.DatetimeNoLeap(1858, 7, 1, 0, 0, 0, 0),\n",
       "       cftime.DatetimeNoLeap(1858, 8, 1, 0, 0, 0, 0),\n",
       "       cftime.DatetimeNoLeap(1858, 9, 1, 0, 0, 0, 0),\n",
       "       cftime.DatetimeNoLeap(1858, 10, 1, 0, 0, 0, 0),\n",
       "       cftime.DatetimeNoLeap(1858, 11, 1, 0, 0, 0, 0),\n",
       "       cftime.DatetimeNoLeap(1858, 12, 1, 0, 0, 0, 0),\n",
       "       cftime.DatetimeNoLeap(1859, 1, 1, 0, 0, 0, 0),\n",
       "       cftime.DatetimeNoLeap(1859, 2, 1, 0, 0, 0, 0),\n",
       "       cftime.DatetimeNoLeap(1859, 3, 1, 0, 0, 0, 0),\n",
       "       cftime.DatetimeNoLeap(1859, 4, 1, 0, 0, 0, 0),\n",
       "       cftime.DatetimeNoLeap(1859, 5, 1, 0, 0, 0, 0),\n",
       "       cftime.DatetimeNoLeap(1859, 6, 1, 0, 0, 0, 0),\n",
       "       cftime.DatetimeNoLeap(1859, 7, 1, 0, 0, 0, 0),\n",
       "       cftime.DatetimeNoLeap(1859, 8, 1, 0, 0, 0, 0),\n",
       "       cftime.DatetimeNoLeap(1859, 9, 1, 0, 0, 0, 0),\n",
       "       cftime.DatetimeNoLeap(1859, 10, 1, 0, 0, 0, 0),\n",
       "       cftime.DatetimeNoLeap(1859, 11, 1, 0, 0, 0, 0),\n",
       "       cftime.DatetimeNoLeap(1859, 12, 1, 0, 0, 0, 0),\n",
       "       cftime.DatetimeNoLeap(1860, 1, 1, 0, 0, 0, 0)], dtype=object)</pre></div></li></ul></div></li><li class='xr-section-item'><input id='section-74cf0cce-93db-49d0-8afe-bf02570bc508' class='xr-section-summary-in' type='checkbox'  ><label for='section-74cf0cce-93db-49d0-8afe-bf02570bc508' class='xr-section-summary' >Data variables: <span>(27)</span></label><div class='xr-section-inline-details'></div><div class='xr-section-details'><ul class='xr-var-list'><li class='xr-var-item'><div class='xr-var-name'><span>zlon_bnds</span></div><div class='xr-var-dims'>(zlon, nbnd)</div><div class='xr-var-dtype'>float64</div><div class='xr-var-preview xr-preview'>...</div><input id='attrs-7edc41c4-498a-4c87-baf0-ba753730d6d8' class='xr-var-attrs-in' type='checkbox' ><label for='attrs-7edc41c4-498a-4c87-baf0-ba753730d6d8' title='Show/Hide attributes'><svg class='icon xr-icon-file-text2'><use xlink:href='#icon-file-text2'></use></svg></label><input id='data-bfe5bd14-624e-49fc-8e52-c70f0a0786e5' class='xr-var-data-in' type='checkbox'><label for='data-bfe5bd14-624e-49fc-8e52-c70f0a0786e5' title='Show/Hide data repr'><svg class='icon xr-icon-database'><use xlink:href='#icon-database'></use></svg></label><div class='xr-var-attrs'><dl class='xr-attrs'><dt><span>long_name :</span></dt><dd>zlon bounds</dd><dt><span>units :</span></dt><dd>degrees_east</dd></dl></div><div class='xr-var-data'><pre>array([[  0.  , 358.75]])</pre></div></li><li class='xr-var-item'><div class='xr-var-name'><span>gw</span></div><div class='xr-var-dims'>(lat)</div><div class='xr-var-dtype'>float64</div><div class='xr-var-preview xr-preview'>...</div><input id='attrs-c9bde227-e9b6-4506-8f09-1da506cd8165' class='xr-var-attrs-in' type='checkbox' ><label for='attrs-c9bde227-e9b6-4506-8f09-1da506cd8165' title='Show/Hide attributes'><svg class='icon xr-icon-file-text2'><use xlink:href='#icon-file-text2'></use></svg></label><input id='data-68d2884d-b308-4fa2-ae4e-c9dfef212e1c' class='xr-var-data-in' type='checkbox'><label for='data-68d2884d-b308-4fa2-ae4e-c9dfef212e1c' title='Show/Hide data repr'><svg class='icon xr-icon-database'><use xlink:href='#icon-database'></use></svg></label><div class='xr-var-attrs'><dl class='xr-attrs'><dt><span>long_name :</span></dt><dd>latitude weights</dd></dl></div><div class='xr-var-data'><pre>array([3.381743e-05, 2.705257e-04, 5.409782e-04, 8.112844e-04, 1.081371e-03,\n",
       "       1.351165e-03, 1.620594e-03, 1.889584e-03, 2.158063e-03, 2.425958e-03,\n",
       "       2.693197e-03, 2.959707e-03, 3.225417e-03, 3.490254e-03, 3.754146e-03,\n",
       "       4.017023e-03, 4.278814e-03, 4.539446e-03, 4.798851e-03, 5.056958e-03,\n",
       "       5.313696e-03, 5.568997e-03, 5.822791e-03, 6.075010e-03, 6.325585e-03,\n",
       "       6.574449e-03, 6.821535e-03, 7.066775e-03, 7.310103e-03, 7.551454e-03,\n",
       "       7.790762e-03, 8.027962e-03, 8.262990e-03, 8.495782e-03, 8.726277e-03,\n",
       "       8.954410e-03, 9.180121e-03, 9.403349e-03, 9.624033e-03, 9.842113e-03,\n",
       "       1.005753e-02, 1.027023e-02, 1.048014e-02, 1.068723e-02, 1.089142e-02,\n",
       "       1.109266e-02, 1.129091e-02, 1.148610e-02, 1.167818e-02, 1.186710e-02,\n",
       "       1.205281e-02, 1.223527e-02, 1.241441e-02, 1.259019e-02, 1.276257e-02,\n",
       "       1.293149e-02, 1.309692e-02, 1.325880e-02, 1.341709e-02, 1.357176e-02,\n",
       "       1.372275e-02, 1.387004e-02, 1.401357e-02, 1.415330e-02, 1.428921e-02,\n",
       "       1.442126e-02, 1.454940e-02, 1.467360e-02, 1.479384e-02, 1.491007e-02,\n",
       "       1.502227e-02, 1.513041e-02, 1.523445e-02, 1.533437e-02, 1.543015e-02,\n",
       "       1.552175e-02, 1.560915e-02, 1.569232e-02, 1.577125e-02, 1.584592e-02,\n",
       "       1.591630e-02, 1.598237e-02, 1.604412e-02, 1.610152e-02, 1.615457e-02,\n",
       "       1.620326e-02, 1.624755e-02, 1.628745e-02, 1.632295e-02, 1.635403e-02,\n",
       "       1.638069e-02, 1.640291e-02, 1.642070e-02, 1.643404e-02, 1.644294e-02,\n",
       "       1.644739e-02, 1.644739e-02, 1.644294e-02, 1.643404e-02, 1.642070e-02,\n",
       "       1.640291e-02, 1.638069e-02, 1.635403e-02, 1.632295e-02, 1.628745e-02,\n",
       "       1.624755e-02, 1.620326e-02, 1.615457e-02, 1.610152e-02, 1.604412e-02,\n",
       "       1.598237e-02, 1.591630e-02, 1.584592e-02, 1.577125e-02, 1.569232e-02,\n",
       "       1.560915e-02, 1.552175e-02, 1.543015e-02, 1.533437e-02, 1.523445e-02,\n",
       "       1.513041e-02, 1.502227e-02, 1.491007e-02, 1.479384e-02, 1.467360e-02,\n",
       "       1.454940e-02, 1.442126e-02, 1.428921e-02, 1.415330e-02, 1.401357e-02,\n",
       "       1.387004e-02, 1.372275e-02, 1.357176e-02, 1.341709e-02, 1.325880e-02,\n",
       "       1.309692e-02, 1.293149e-02, 1.276257e-02, 1.259019e-02, 1.241441e-02,\n",
       "       1.223527e-02, 1.205281e-02, 1.186710e-02, 1.167818e-02, 1.148610e-02,\n",
       "       1.129091e-02, 1.109266e-02, 1.089142e-02, 1.068723e-02, 1.048014e-02,\n",
       "       1.027023e-02, 1.005753e-02, 9.842113e-03, 9.624033e-03, 9.403349e-03,\n",
       "       9.180121e-03, 8.954410e-03, 8.726277e-03, 8.495782e-03, 8.262990e-03,\n",
       "       8.027962e-03, 7.790762e-03, 7.551454e-03, 7.310103e-03, 7.066775e-03,\n",
       "       6.821535e-03, 6.574449e-03, 6.325585e-03, 6.075010e-03, 5.822791e-03,\n",
       "       5.568997e-03, 5.313696e-03, 5.056958e-03, 4.798851e-03, 4.539446e-03,\n",
       "       4.278814e-03, 4.017023e-03, 3.754146e-03, 3.490254e-03, 3.225417e-03,\n",
       "       2.959707e-03, 2.693197e-03, 2.425958e-03, 2.158063e-03, 1.889584e-03,\n",
       "       1.620594e-03, 1.351165e-03, 1.081371e-03, 8.112844e-04, 5.409782e-04,\n",
       "       2.705257e-04, 3.381743e-05])</pre></div></li><li class='xr-var-item'><div class='xr-var-name'><span>hyam</span></div><div class='xr-var-dims'>(lev)</div><div class='xr-var-dtype'>float64</div><div class='xr-var-preview xr-preview'>...</div><input id='attrs-f2e039d9-821c-458b-8550-5ad5400b0f25' class='xr-var-attrs-in' type='checkbox' ><label for='attrs-f2e039d9-821c-458b-8550-5ad5400b0f25' title='Show/Hide attributes'><svg class='icon xr-icon-file-text2'><use xlink:href='#icon-file-text2'></use></svg></label><input id='data-ae3965a6-ad5f-4b4d-99d5-c93332347756' class='xr-var-data-in' type='checkbox'><label for='data-ae3965a6-ad5f-4b4d-99d5-c93332347756' title='Show/Hide data repr'><svg class='icon xr-icon-database'><use xlink:href='#icon-database'></use></svg></label><div class='xr-var-attrs'><dl class='xr-attrs'><dt><span>long_name :</span></dt><dd>hybrid A coefficient at layer midpoints</dd></dl></div><div class='xr-var-data'><pre>array([0.003643, 0.007595, 0.014357, 0.024612, 0.035923, 0.043194, 0.051677,\n",
       "       0.06152 , 0.073751, 0.087821, 0.103317, 0.121547, 0.142994, 0.168225,\n",
       "       0.178231, 0.170324, 0.161023, 0.15008 , 0.137207, 0.122062, 0.104245,\n",
       "       0.084979, 0.066502, 0.050197, 0.037189, 0.028432, 0.022209, 0.016407,\n",
       "       0.011075, 0.006255, 0.001989, 0.      ])</pre></div></li><li class='xr-var-item'><div class='xr-var-name'><span>hybm</span></div><div class='xr-var-dims'>(lev)</div><div class='xr-var-dtype'>float64</div><div class='xr-var-preview xr-preview'>...</div><input id='attrs-3d68e968-ba22-4bfd-acd8-568ca49b58e3' class='xr-var-attrs-in' type='checkbox' ><label for='attrs-3d68e968-ba22-4bfd-acd8-568ca49b58e3' title='Show/Hide attributes'><svg class='icon xr-icon-file-text2'><use xlink:href='#icon-file-text2'></use></svg></label><input id='data-fc76404a-f28d-4a25-ab76-2449f0c2618a' class='xr-var-data-in' type='checkbox'><label for='data-fc76404a-f28d-4a25-ab76-2449f0c2618a' title='Show/Hide data repr'><svg class='icon xr-icon-database'><use xlink:href='#icon-database'></use></svg></label><div class='xr-var-attrs'><dl class='xr-attrs'><dt><span>long_name :</span></dt><dd>hybrid B coefficient at layer midpoints</dd></dl></div><div class='xr-var-data'><pre>array([0.      , 0.      , 0.      , 0.      , 0.      , 0.      , 0.      ,\n",
       "       0.      , 0.      , 0.      , 0.      , 0.      , 0.      , 0.      ,\n",
       "       0.019677, 0.062504, 0.112888, 0.172162, 0.241894, 0.323931, 0.420442,\n",
       "       0.5248  , 0.624888, 0.713208, 0.78367 , 0.831103, 0.864811, 0.896237,\n",
       "       0.925124, 0.951231, 0.974336, 0.992556])</pre></div></li><li class='xr-var-item'><div class='xr-var-name'><span>P0</span></div><div class='xr-var-dims'>()</div><div class='xr-var-dtype'>float64</div><div class='xr-var-preview xr-preview'>...</div><input id='attrs-db7b7516-79c0-469d-b001-9f4451d714bc' class='xr-var-attrs-in' type='checkbox' ><label for='attrs-db7b7516-79c0-469d-b001-9f4451d714bc' title='Show/Hide attributes'><svg class='icon xr-icon-file-text2'><use xlink:href='#icon-file-text2'></use></svg></label><input id='data-dccd9bb7-e0e0-4866-a95c-f02a0d948b7d' class='xr-var-data-in' type='checkbox'><label for='data-dccd9bb7-e0e0-4866-a95c-f02a0d948b7d' title='Show/Hide data repr'><svg class='icon xr-icon-database'><use xlink:href='#icon-database'></use></svg></label><div class='xr-var-attrs'><dl class='xr-attrs'><dt><span>long_name :</span></dt><dd>reference pressure</dd><dt><span>units :</span></dt><dd>Pa</dd></dl></div><div class='xr-var-data'><pre>array(100000.)</pre></div></li><li class='xr-var-item'><div class='xr-var-name'><span>hyai</span></div><div class='xr-var-dims'>(ilev)</div><div class='xr-var-dtype'>float64</div><div class='xr-var-preview xr-preview'>...</div><input id='attrs-54188643-d1fc-4d03-adf8-8610639d939b' class='xr-var-attrs-in' type='checkbox' ><label for='attrs-54188643-d1fc-4d03-adf8-8610639d939b' title='Show/Hide attributes'><svg class='icon xr-icon-file-text2'><use xlink:href='#icon-file-text2'></use></svg></label><input id='data-25333864-83ba-4468-bfa4-c25a8501865f' class='xr-var-data-in' type='checkbox'><label for='data-25333864-83ba-4468-bfa4-c25a8501865f' title='Show/Hide data repr'><svg class='icon xr-icon-database'><use xlink:href='#icon-database'></use></svg></label><div class='xr-var-attrs'><dl class='xr-attrs'><dt><span>long_name :</span></dt><dd>hybrid A coefficient at layer interfaces</dd></dl></div><div class='xr-var-data'><pre>array([0.002255, 0.005032, 0.010158, 0.018555, 0.029735, 0.039273, 0.047114,\n",
       "       0.05624 , 0.0668  , 0.080701, 0.094941, 0.111693, 0.131401, 0.154587,\n",
       "       0.181863, 0.174598, 0.166051, 0.155995, 0.144165, 0.130248, 0.113876,\n",
       "       0.094614, 0.075344, 0.057659, 0.042735, 0.031643, 0.025221, 0.019197,\n",
       "       0.013618, 0.008531, 0.003979, 0.      , 0.      ])</pre></div></li><li class='xr-var-item'><div class='xr-var-name'><span>hybi</span></div><div class='xr-var-dims'>(ilev)</div><div class='xr-var-dtype'>float64</div><div class='xr-var-preview xr-preview'>...</div><input id='attrs-5f3330d4-3f87-4414-851f-3be39dba4532' class='xr-var-attrs-in' type='checkbox' ><label for='attrs-5f3330d4-3f87-4414-851f-3be39dba4532' title='Show/Hide attributes'><svg class='icon xr-icon-file-text2'><use xlink:href='#icon-file-text2'></use></svg></label><input id='data-26f756bb-346b-4a63-ba32-274517f36abf' class='xr-var-data-in' type='checkbox'><label for='data-26f756bb-346b-4a63-ba32-274517f36abf' title='Show/Hide data repr'><svg class='icon xr-icon-database'><use xlink:href='#icon-database'></use></svg></label><div class='xr-var-attrs'><dl class='xr-attrs'><dt><span>long_name :</span></dt><dd>hybrid B coefficient at layer interfaces</dd></dl></div><div class='xr-var-data'><pre>array([0.      , 0.      , 0.      , 0.      , 0.      , 0.      , 0.      ,\n",
       "       0.      , 0.      , 0.      , 0.      , 0.      , 0.      , 0.      ,\n",
       "       0.      , 0.039355, 0.085654, 0.140122, 0.204201, 0.279587, 0.368274,\n",
       "       0.472611, 0.576989, 0.672787, 0.753628, 0.813711, 0.848495, 0.881128,\n",
       "       0.911346, 0.938901, 0.96356 , 0.985112, 1.      ])</pre></div></li><li class='xr-var-item'><div class='xr-var-name'><span>ndbase</span></div><div class='xr-var-dims'>()</div><div class='xr-var-dtype'>float64</div><div class='xr-var-preview xr-preview'>...</div><input id='attrs-6d700d3a-14c6-4be6-aaa2-8ebd6b638c4d' class='xr-var-attrs-in' type='checkbox' ><label for='attrs-6d700d3a-14c6-4be6-aaa2-8ebd6b638c4d' title='Show/Hide attributes'><svg class='icon xr-icon-file-text2'><use xlink:href='#icon-file-text2'></use></svg></label><input id='data-f4c8a52b-9edc-4e7c-a4b4-99cb8693416b' class='xr-var-data-in' type='checkbox'><label for='data-f4c8a52b-9edc-4e7c-a4b4-99cb8693416b' title='Show/Hide data repr'><svg class='icon xr-icon-database'><use xlink:href='#icon-database'></use></svg></label><div class='xr-var-attrs'><dl class='xr-attrs'><dt><span>long_name :</span></dt><dd>base day</dd></dl></div><div class='xr-var-data'><pre>array(0.)</pre></div></li><li class='xr-var-item'><div class='xr-var-name'><span>nsbase</span></div><div class='xr-var-dims'>()</div><div class='xr-var-dtype'>float64</div><div class='xr-var-preview xr-preview'>...</div><input id='attrs-2fc9c813-5f0a-437e-812d-40d421de53b8' class='xr-var-attrs-in' type='checkbox' ><label for='attrs-2fc9c813-5f0a-437e-812d-40d421de53b8' title='Show/Hide attributes'><svg class='icon xr-icon-file-text2'><use xlink:href='#icon-file-text2'></use></svg></label><input id='data-0e0fe7a9-9543-4cd4-b322-4e6c861c0437' class='xr-var-data-in' type='checkbox'><label for='data-0e0fe7a9-9543-4cd4-b322-4e6c861c0437' title='Show/Hide data repr'><svg class='icon xr-icon-database'><use xlink:href='#icon-database'></use></svg></label><div class='xr-var-attrs'><dl class='xr-attrs'><dt><span>long_name :</span></dt><dd>seconds of base day</dd></dl></div><div class='xr-var-data'><pre>array(0.)</pre></div></li><li class='xr-var-item'><div class='xr-var-name'><span>nbdate</span></div><div class='xr-var-dims'>()</div><div class='xr-var-dtype'>float64</div><div class='xr-var-preview xr-preview'>...</div><input id='attrs-7a400ea3-1c5f-445d-a00b-af9356ce69ed' class='xr-var-attrs-in' type='checkbox' ><label for='attrs-7a400ea3-1c5f-445d-a00b-af9356ce69ed' title='Show/Hide attributes'><svg class='icon xr-icon-file-text2'><use xlink:href='#icon-file-text2'></use></svg></label><input id='data-4ac2de5b-2905-4648-b1ed-b1d5e33c1cbe' class='xr-var-data-in' type='checkbox'><label for='data-4ac2de5b-2905-4648-b1ed-b1d5e33c1cbe' title='Show/Hide data repr'><svg class='icon xr-icon-database'><use xlink:href='#icon-database'></use></svg></label><div class='xr-var-attrs'><dl class='xr-attrs'><dt><span>long_name :</span></dt><dd>base date (YYYYMMDD)</dd></dl></div><div class='xr-var-data'><pre>array(18500101.)</pre></div></li><li class='xr-var-item'><div class='xr-var-name'><span>nbsec</span></div><div class='xr-var-dims'>()</div><div class='xr-var-dtype'>float64</div><div class='xr-var-preview xr-preview'>...</div><input id='attrs-b3cfd688-8046-43ee-9d83-836d513ea79c' class='xr-var-attrs-in' type='checkbox' ><label for='attrs-b3cfd688-8046-43ee-9d83-836d513ea79c' title='Show/Hide attributes'><svg class='icon xr-icon-file-text2'><use xlink:href='#icon-file-text2'></use></svg></label><input id='data-6cfd38bf-5f31-4189-9ab2-06df301e9834' class='xr-var-data-in' type='checkbox'><label for='data-6cfd38bf-5f31-4189-9ab2-06df301e9834' title='Show/Hide data repr'><svg class='icon xr-icon-database'><use xlink:href='#icon-database'></use></svg></label><div class='xr-var-attrs'><dl class='xr-attrs'><dt><span>long_name :</span></dt><dd>seconds of base date</dd></dl></div><div class='xr-var-data'><pre>array(0.)</pre></div></li><li class='xr-var-item'><div class='xr-var-name'><span>mdt</span></div><div class='xr-var-dims'>()</div><div class='xr-var-dtype'>float64</div><div class='xr-var-preview xr-preview'>...</div><input id='attrs-b53400c4-aade-415b-92db-3a01bd9d08b1' class='xr-var-attrs-in' type='checkbox' ><label for='attrs-b53400c4-aade-415b-92db-3a01bd9d08b1' title='Show/Hide attributes'><svg class='icon xr-icon-file-text2'><use xlink:href='#icon-file-text2'></use></svg></label><input id='data-1c716fc3-ee04-48dd-a68c-11619c758f4b' class='xr-var-data-in' type='checkbox'><label for='data-1c716fc3-ee04-48dd-a68c-11619c758f4b' title='Show/Hide data repr'><svg class='icon xr-icon-database'><use xlink:href='#icon-database'></use></svg></label><div class='xr-var-attrs'><dl class='xr-attrs'><dt><span>long_name :</span></dt><dd>timestep</dd><dt><span>units :</span></dt><dd>s</dd></dl></div><div class='xr-var-data'><pre>array(1800.)</pre></div></li><li class='xr-var-item'><div class='xr-var-name'><span>date</span></div><div class='xr-var-dims'>(time)</div><div class='xr-var-dtype'>float64</div><div class='xr-var-preview xr-preview'>...</div><input id='attrs-0f83c03a-f1bf-423a-b746-e2f500ae1205' class='xr-var-attrs-in' type='checkbox' ><label for='attrs-0f83c03a-f1bf-423a-b746-e2f500ae1205' title='Show/Hide attributes'><svg class='icon xr-icon-file-text2'><use xlink:href='#icon-file-text2'></use></svg></label><input id='data-249ed97f-9c8e-4b19-945f-96a25f20a721' class='xr-var-data-in' type='checkbox'><label for='data-249ed97f-9c8e-4b19-945f-96a25f20a721' title='Show/Hide data repr'><svg class='icon xr-icon-database'><use xlink:href='#icon-database'></use></svg></label><div class='xr-var-attrs'><dl class='xr-attrs'><dt><span>long_name :</span></dt><dd>current date (YYYYMMDD)</dd></dl></div><div class='xr-var-data'><pre>array([18500201., 18500301., 18500401., 18500501., 18500601., 18500701.,\n",
       "       18500801., 18500901., 18501001., 18501101., 18501201., 18510101.,\n",
       "       18510201., 18510301., 18510401., 18510501., 18510601., 18510701.,\n",
       "       18510801., 18510901., 18511001., 18511101., 18511201., 18520101.,\n",
       "       18520201., 18520301., 18520401., 18520501., 18520601., 18520701.,\n",
       "       18520801., 18520901., 18521001., 18521101., 18521201., 18530101.,\n",
       "       18530201., 18530301., 18530401., 18530501., 18530601., 18530701.,\n",
       "       18530801., 18530901., 18531001., 18531101., 18531201., 18540101.,\n",
       "       18540201., 18540301., 18540401., 18540501., 18540601., 18540701.,\n",
       "       18540801., 18540901., 18541001., 18541101., 18541201., 18550101.,\n",
       "       18550201., 18550301., 18550401., 18550501., 18550601., 18550701.,\n",
       "       18550801., 18550901., 18551001., 18551101., 18551201., 18560101.,\n",
       "       18560201., 18560301., 18560401., 18560501., 18560601., 18560701.,\n",
       "       18560801., 18560901., 18561001., 18561101., 18561201., 18570101.,\n",
       "       18570201., 18570301., 18570401., 18570501., 18570601., 18570701.,\n",
       "       18570801., 18570901., 18571001., 18571101., 18571201., 18580101.,\n",
       "       18580201., 18580301., 18580401., 18580501., 18580601., 18580701.,\n",
       "       18580801., 18580901., 18581001., 18581101., 18581201., 18590101.,\n",
       "       18590201., 18590301., 18590401., 18590501., 18590601., 18590701.,\n",
       "       18590801., 18590901., 18591001., 18591101., 18591201., 18600101.])</pre></div></li><li class='xr-var-item'><div class='xr-var-name'><span>datesec</span></div><div class='xr-var-dims'>(time)</div><div class='xr-var-dtype'>float64</div><div class='xr-var-preview xr-preview'>...</div><input id='attrs-933100b4-6b03-45c0-ad4f-aedafeb01852' class='xr-var-attrs-in' type='checkbox' ><label for='attrs-933100b4-6b03-45c0-ad4f-aedafeb01852' title='Show/Hide attributes'><svg class='icon xr-icon-file-text2'><use xlink:href='#icon-file-text2'></use></svg></label><input id='data-c7b71998-6bcc-4ab7-91c0-f82479ef9a1b' class='xr-var-data-in' type='checkbox'><label for='data-c7b71998-6bcc-4ab7-91c0-f82479ef9a1b' title='Show/Hide data repr'><svg class='icon xr-icon-database'><use xlink:href='#icon-database'></use></svg></label><div class='xr-var-attrs'><dl class='xr-attrs'><dt><span>long_name :</span></dt><dd>current seconds of current date</dd></dl></div><div class='xr-var-data'><pre>array([0., 0., 0., 0., 0., 0., 0., 0., 0., 0., 0., 0., 0., 0., 0., 0., 0., 0.,\n",
       "       0., 0., 0., 0., 0., 0., 0., 0., 0., 0., 0., 0., 0., 0., 0., 0., 0., 0.,\n",
       "       0., 0., 0., 0., 0., 0., 0., 0., 0., 0., 0., 0., 0., 0., 0., 0., 0., 0.,\n",
       "       0., 0., 0., 0., 0., 0., 0., 0., 0., 0., 0., 0., 0., 0., 0., 0., 0., 0.,\n",
       "       0., 0., 0., 0., 0., 0., 0., 0., 0., 0., 0., 0., 0., 0., 0., 0., 0., 0.,\n",
       "       0., 0., 0., 0., 0., 0., 0., 0., 0., 0., 0., 0., 0., 0., 0., 0., 0., 0.,\n",
       "       0., 0., 0., 0., 0., 0., 0., 0., 0., 0., 0., 0.])</pre></div></li><li class='xr-var-item'><div class='xr-var-name'><span>time_bnds</span></div><div class='xr-var-dims'>(time, nbnd)</div><div class='xr-var-dtype'>object</div><div class='xr-var-preview xr-preview'>...</div><input id='attrs-b07e1a48-cd27-4e66-88c4-5c30c8785fea' class='xr-var-attrs-in' type='checkbox' ><label for='attrs-b07e1a48-cd27-4e66-88c4-5c30c8785fea' title='Show/Hide attributes'><svg class='icon xr-icon-file-text2'><use xlink:href='#icon-file-text2'></use></svg></label><input id='data-40b95e72-2ca8-49df-a160-888f6a226490' class='xr-var-data-in' type='checkbox'><label for='data-40b95e72-2ca8-49df-a160-888f6a226490' title='Show/Hide data repr'><svg class='icon xr-icon-database'><use xlink:href='#icon-database'></use></svg></label><div class='xr-var-attrs'><dl class='xr-attrs'><dt><span>long_name :</span></dt><dd>time interval endpoints</dd></dl></div><div class='xr-var-data'><pre>array([[cftime.DatetimeNoLeap(1850, 1, 1, 0, 0, 0, 0),\n",
       "        cftime.DatetimeNoLeap(1850, 2, 1, 0, 0, 0, 0)],\n",
       "       [cftime.DatetimeNoLeap(1850, 2, 1, 0, 0, 0, 0),\n",
       "        cftime.DatetimeNoLeap(1850, 3, 1, 0, 0, 0, 0)],\n",
       "       [cftime.DatetimeNoLeap(1850, 3, 1, 0, 0, 0, 0),\n",
       "        cftime.DatetimeNoLeap(1850, 4, 1, 0, 0, 0, 0)],\n",
       "       ...,\n",
       "       [cftime.DatetimeNoLeap(1859, 10, 1, 0, 0, 0, 0),\n",
       "        cftime.DatetimeNoLeap(1859, 11, 1, 0, 0, 0, 0)],\n",
       "       [cftime.DatetimeNoLeap(1859, 11, 1, 0, 0, 0, 0),\n",
       "        cftime.DatetimeNoLeap(1859, 12, 1, 0, 0, 0, 0)],\n",
       "       [cftime.DatetimeNoLeap(1859, 12, 1, 0, 0, 0, 0),\n",
       "        cftime.DatetimeNoLeap(1860, 1, 1, 0, 0, 0, 0)]], dtype=object)</pre></div></li><li class='xr-var-item'><div class='xr-var-name'><span>date_written</span></div><div class='xr-var-dims'>(time)</div><div class='xr-var-dtype'>object</div><div class='xr-var-preview xr-preview'>...</div><input id='attrs-f8e2074c-22aa-4688-96e7-ea37c99ffec7' class='xr-var-attrs-in' type='checkbox' disabled><label for='attrs-f8e2074c-22aa-4688-96e7-ea37c99ffec7' title='Show/Hide attributes'><svg class='icon xr-icon-file-text2'><use xlink:href='#icon-file-text2'></use></svg></label><input id='data-1b70c07f-8163-4762-964d-9fcfbd819af6' class='xr-var-data-in' type='checkbox'><label for='data-1b70c07f-8163-4762-964d-9fcfbd819af6' title='Show/Hide data repr'><svg class='icon xr-icon-database'><use xlink:href='#icon-database'></use></svg></label><div class='xr-var-attrs'><dl class='xr-attrs'></dl></div><div class='xr-var-data'><pre>array([b&#x27;01/31/20&#x27;, b&#x27;01/31/20&#x27;, b&#x27;01/31/20&#x27;, b&#x27;01/31/20&#x27;, b&#x27;01/31/20&#x27;,\n",
       "       b&#x27;01/31/20&#x27;, b&#x27;01/31/20&#x27;, b&#x27;01/31/20&#x27;, b&#x27;01/31/20&#x27;, b&#x27;01/31/20&#x27;,\n",
       "       b&#x27;01/31/20&#x27;, b&#x27;01/31/20&#x27;, b&#x27;01/31/20&#x27;, b&#x27;01/31/20&#x27;, b&#x27;01/31/20&#x27;,\n",
       "       b&#x27;01/31/20&#x27;, b&#x27;01/31/20&#x27;, b&#x27;01/31/20&#x27;, b&#x27;01/31/20&#x27;, b&#x27;01/31/20&#x27;,\n",
       "       b&#x27;01/31/20&#x27;, b&#x27;01/31/20&#x27;, b&#x27;01/31/20&#x27;, b&#x27;01/31/20&#x27;, b&#x27;01/31/20&#x27;,\n",
       "       b&#x27;01/31/20&#x27;, b&#x27;01/31/20&#x27;, b&#x27;01/31/20&#x27;, b&#x27;01/31/20&#x27;, b&#x27;01/31/20&#x27;,\n",
       "       b&#x27;01/31/20&#x27;, b&#x27;01/31/20&#x27;, b&#x27;01/31/20&#x27;, b&#x27;01/31/20&#x27;, b&#x27;01/31/20&#x27;,\n",
       "       b&#x27;01/31/20&#x27;, b&#x27;01/31/20&#x27;, b&#x27;01/31/20&#x27;, b&#x27;01/31/20&#x27;, b&#x27;01/31/20&#x27;,\n",
       "       b&#x27;01/31/20&#x27;, b&#x27;01/31/20&#x27;, b&#x27;01/31/20&#x27;, b&#x27;01/31/20&#x27;, b&#x27;01/31/20&#x27;,\n",
       "       b&#x27;01/31/20&#x27;, b&#x27;01/31/20&#x27;, b&#x27;01/31/20&#x27;, b&#x27;01/31/20&#x27;, b&#x27;01/31/20&#x27;,\n",
       "       b&#x27;01/31/20&#x27;, b&#x27;01/31/20&#x27;, b&#x27;01/31/20&#x27;, b&#x27;02/01/20&#x27;, b&#x27;02/01/20&#x27;,\n",
       "       b&#x27;02/01/20&#x27;, b&#x27;02/01/20&#x27;, b&#x27;02/01/20&#x27;, b&#x27;02/01/20&#x27;, b&#x27;02/01/20&#x27;,\n",
       "       b&#x27;02/01/20&#x27;, b&#x27;02/01/20&#x27;, b&#x27;02/01/20&#x27;, b&#x27;02/01/20&#x27;, b&#x27;02/01/20&#x27;,\n",
       "       b&#x27;02/01/20&#x27;, b&#x27;02/01/20&#x27;, b&#x27;02/01/20&#x27;, b&#x27;02/01/20&#x27;, b&#x27;02/01/20&#x27;,\n",
       "       b&#x27;02/01/20&#x27;, b&#x27;02/01/20&#x27;, b&#x27;02/01/20&#x27;, b&#x27;02/01/20&#x27;, b&#x27;02/01/20&#x27;,\n",
       "       b&#x27;02/01/20&#x27;, b&#x27;02/01/20&#x27;, b&#x27;02/01/20&#x27;, b&#x27;02/01/20&#x27;, b&#x27;02/01/20&#x27;,\n",
       "       b&#x27;02/01/20&#x27;, b&#x27;02/01/20&#x27;, b&#x27;02/01/20&#x27;, b&#x27;02/01/20&#x27;, b&#x27;02/01/20&#x27;,\n",
       "       b&#x27;02/01/20&#x27;, b&#x27;02/01/20&#x27;, b&#x27;02/01/20&#x27;, b&#x27;02/01/20&#x27;, b&#x27;02/01/20&#x27;,\n",
       "       b&#x27;02/01/20&#x27;, b&#x27;02/01/20&#x27;, b&#x27;02/01/20&#x27;, b&#x27;02/01/20&#x27;, b&#x27;02/01/20&#x27;,\n",
       "       b&#x27;02/01/20&#x27;, b&#x27;02/01/20&#x27;, b&#x27;02/01/20&#x27;, b&#x27;02/01/20&#x27;, b&#x27;02/01/20&#x27;,\n",
       "       b&#x27;02/01/20&#x27;, b&#x27;02/01/20&#x27;, b&#x27;02/01/20&#x27;, b&#x27;02/01/20&#x27;, b&#x27;02/01/20&#x27;,\n",
       "       b&#x27;02/01/20&#x27;, b&#x27;02/01/20&#x27;, b&#x27;02/01/20&#x27;, b&#x27;02/01/20&#x27;, b&#x27;02/01/20&#x27;,\n",
       "       b&#x27;02/01/20&#x27;, b&#x27;02/01/20&#x27;, b&#x27;02/01/20&#x27;, b&#x27;02/01/20&#x27;, b&#x27;02/01/20&#x27;,\n",
       "       b&#x27;02/01/20&#x27;, b&#x27;02/01/20&#x27;, b&#x27;02/01/20&#x27;, b&#x27;02/01/20&#x27;, b&#x27;02/01/20&#x27;],\n",
       "      dtype=object)</pre></div></li><li class='xr-var-item'><div class='xr-var-name'><span>time_written</span></div><div class='xr-var-dims'>(time)</div><div class='xr-var-dtype'>object</div><div class='xr-var-preview xr-preview'>...</div><input id='attrs-ae05237e-2f3a-444b-9d30-c34942eeea79' class='xr-var-attrs-in' type='checkbox' disabled><label for='attrs-ae05237e-2f3a-444b-9d30-c34942eeea79' title='Show/Hide attributes'><svg class='icon xr-icon-file-text2'><use xlink:href='#icon-file-text2'></use></svg></label><input id='data-09f015f2-3e1e-4f46-b5fb-e2a17c163122' class='xr-var-data-in' type='checkbox'><label for='data-09f015f2-3e1e-4f46-b5fb-e2a17c163122' title='Show/Hide data repr'><svg class='icon xr-icon-database'><use xlink:href='#icon-database'></use></svg></label><div class='xr-var-attrs'><dl class='xr-attrs'></dl></div><div class='xr-var-data'><pre>array([b&#x27;16:35:01&#x27;, b&#x27;16:43:02&#x27;, b&#x27;16:51:44&#x27;, b&#x27;17:00:07&#x27;, b&#x27;17:08:46&#x27;,\n",
       "       b&#x27;17:17:06&#x27;, b&#x27;17:25:43&#x27;, b&#x27;17:34:24&#x27;, b&#x27;17:42:50&#x27;, b&#x27;17:51:34&#x27;,\n",
       "       b&#x27;17:59:59&#x27;, b&#x27;18:08:42&#x27;, b&#x27;18:17:29&#x27;, b&#x27;18:25:20&#x27;, b&#x27;18:34:01&#x27;,\n",
       "       b&#x27;18:42:25&#x27;, b&#x27;18:51:03&#x27;, b&#x27;18:59:26&#x27;, b&#x27;19:08:06&#x27;, b&#x27;19:16:46&#x27;,\n",
       "       b&#x27;19:25:10&#x27;, b&#x27;19:33:50&#x27;, b&#x27;19:42:19&#x27;, b&#x27;19:51:08&#x27;, b&#x27;19:59:53&#x27;,\n",
       "       b&#x27;20:07:49&#x27;, b&#x27;20:16:29&#x27;, b&#x27;20:24:53&#x27;, b&#x27;20:33:31&#x27;, b&#x27;20:41:51&#x27;,\n",
       "       b&#x27;20:50:31&#x27;, b&#x27;20:59:08&#x27;, b&#x27;21:07:29&#x27;, b&#x27;21:16:09&#x27;, b&#x27;21:24:32&#x27;,\n",
       "       b&#x27;21:33:11&#x27;, b&#x27;21:41:58&#x27;, b&#x27;21:49:50&#x27;, b&#x27;21:58:36&#x27;, b&#x27;22:06:58&#x27;,\n",
       "       b&#x27;22:15:35&#x27;, b&#x27;22:23:56&#x27;, b&#x27;22:32:35&#x27;, b&#x27;22:41:18&#x27;, b&#x27;22:49:45&#x27;,\n",
       "       b&#x27;22:58:26&#x27;, b&#x27;23:06:51&#x27;, b&#x27;23:15:32&#x27;, b&#x27;23:24:23&#x27;, b&#x27;23:32:20&#x27;,\n",
       "       b&#x27;23:41:05&#x27;, b&#x27;23:49:27&#x27;, b&#x27;23:58:07&#x27;, b&#x27;00:06:31&#x27;, b&#x27;00:15:12&#x27;,\n",
       "       b&#x27;00:23:51&#x27;, b&#x27;00:32:16&#x27;, b&#x27;00:40:58&#x27;, b&#x27;00:49:30&#x27;, b&#x27;00:58:07&#x27;,\n",
       "       b&#x27;01:06:51&#x27;, b&#x27;01:14:46&#x27;, b&#x27;01:23:27&#x27;, b&#x27;01:31:50&#x27;, b&#x27;01:40:30&#x27;,\n",
       "       b&#x27;01:48:52&#x27;, b&#x27;01:57:33&#x27;, b&#x27;02:06:15&#x27;, b&#x27;02:14:46&#x27;, b&#x27;02:23:38&#x27;,\n",
       "       b&#x27;02:32:08&#x27;, b&#x27;02:40:50&#x27;, b&#x27;02:49:34&#x27;, b&#x27;02:57:34&#x27;, b&#x27;03:06:19&#x27;,\n",
       "       b&#x27;03:14:41&#x27;, b&#x27;03:23:17&#x27;, b&#x27;03:31:37&#x27;, b&#x27;03:40:13&#x27;, b&#x27;03:48:56&#x27;,\n",
       "       b&#x27;03:57:27&#x27;, b&#x27;04:06:15&#x27;, b&#x27;04:14:43&#x27;, b&#x27;04:23:24&#x27;, b&#x27;04:32:04&#x27;,\n",
       "       b&#x27;04:40:03&#x27;, b&#x27;04:48:47&#x27;, b&#x27;04:57:11&#x27;, b&#x27;05:05:50&#x27;, b&#x27;05:14:15&#x27;,\n",
       "       b&#x27;05:22:55&#x27;, b&#x27;05:31:40&#x27;, b&#x27;05:40:07&#x27;, b&#x27;05:48:50&#x27;, b&#x27;05:57:23&#x27;,\n",
       "       b&#x27;06:06:06&#x27;, b&#x27;06:14:58&#x27;, b&#x27;06:22:49&#x27;, b&#x27;06:31:28&#x27;, b&#x27;06:39:50&#x27;,\n",
       "       b&#x27;06:48:36&#x27;, b&#x27;06:57:11&#x27;, b&#x27;07:05:47&#x27;, b&#x27;07:14:35&#x27;, b&#x27;07:23:06&#x27;,\n",
       "       b&#x27;07:31:48&#x27;, b&#x27;07:40:12&#x27;, b&#x27;07:49:03&#x27;, b&#x27;07:57:47&#x27;, b&#x27;08:05:43&#x27;,\n",
       "       b&#x27;08:14:28&#x27;, b&#x27;08:22:50&#x27;, b&#x27;08:31:29&#x27;, b&#x27;08:39:51&#x27;, b&#x27;08:48:31&#x27;,\n",
       "       b&#x27;08:57:15&#x27;, b&#x27;09:05:39&#x27;, b&#x27;09:14:22&#x27;, b&#x27;09:22:55&#x27;, b&#x27;09:31:39&#x27;],\n",
       "      dtype=object)</pre></div></li><li class='xr-var-item'><div class='xr-var-name'><span>ndcur</span></div><div class='xr-var-dims'>(time)</div><div class='xr-var-dtype'>float64</div><div class='xr-var-preview xr-preview'>...</div><input id='attrs-b69815fb-fada-4630-8622-26e3c807d38a' class='xr-var-attrs-in' type='checkbox' ><label for='attrs-b69815fb-fada-4630-8622-26e3c807d38a' title='Show/Hide attributes'><svg class='icon xr-icon-file-text2'><use xlink:href='#icon-file-text2'></use></svg></label><input id='data-bc0d2813-fc0e-4415-8adc-76a8e32f6e75' class='xr-var-data-in' type='checkbox'><label for='data-bc0d2813-fc0e-4415-8adc-76a8e32f6e75' title='Show/Hide data repr'><svg class='icon xr-icon-database'><use xlink:href='#icon-database'></use></svg></label><div class='xr-var-attrs'><dl class='xr-attrs'><dt><span>long_name :</span></dt><dd>current day (from base day)</dd></dl></div><div class='xr-var-data'><pre>array([  31.,   59.,   90.,  120.,  151.,  181.,  212.,  243.,  273.,  304.,\n",
       "        334.,  365.,  396.,  424.,  455.,  485.,  516.,  546.,  577.,  608.,\n",
       "        638.,  669.,  699.,  730.,  761.,  789.,  820.,  850.,  881.,  911.,\n",
       "        942.,  973., 1003., 1034., 1064., 1095., 1126., 1154., 1185., 1215.,\n",
       "       1246., 1276., 1307., 1338., 1368., 1399., 1429., 1460., 1491., 1519.,\n",
       "       1550., 1580., 1611., 1641., 1672., 1703., 1733., 1764., 1794., 1825.,\n",
       "       1856., 1884., 1915., 1945., 1976., 2006., 2037., 2068., 2098., 2129.,\n",
       "       2159., 2190., 2221., 2249., 2280., 2310., 2341., 2371., 2402., 2433.,\n",
       "       2463., 2494., 2524., 2555., 2586., 2614., 2645., 2675., 2706., 2736.,\n",
       "       2767., 2798., 2828., 2859., 2889., 2920., 2951., 2979., 3010., 3040.,\n",
       "       3071., 3101., 3132., 3163., 3193., 3224., 3254., 3285., 3316., 3344.,\n",
       "       3375., 3405., 3436., 3466., 3497., 3528., 3558., 3589., 3619., 3650.])</pre></div></li><li class='xr-var-item'><div class='xr-var-name'><span>nscur</span></div><div class='xr-var-dims'>(time)</div><div class='xr-var-dtype'>float64</div><div class='xr-var-preview xr-preview'>...</div><input id='attrs-5c95c37c-76c1-46ca-b86f-e5d4c1cc0819' class='xr-var-attrs-in' type='checkbox' ><label for='attrs-5c95c37c-76c1-46ca-b86f-e5d4c1cc0819' title='Show/Hide attributes'><svg class='icon xr-icon-file-text2'><use xlink:href='#icon-file-text2'></use></svg></label><input id='data-859c095a-b58b-4ffc-8732-26bb55900e45' class='xr-var-data-in' type='checkbox'><label for='data-859c095a-b58b-4ffc-8732-26bb55900e45' title='Show/Hide data repr'><svg class='icon xr-icon-database'><use xlink:href='#icon-database'></use></svg></label><div class='xr-var-attrs'><dl class='xr-attrs'><dt><span>long_name :</span></dt><dd>current seconds of current day</dd></dl></div><div class='xr-var-data'><pre>array([0., 0., 0., 0., 0., 0., 0., 0., 0., 0., 0., 0., 0., 0., 0., 0., 0., 0.,\n",
       "       0., 0., 0., 0., 0., 0., 0., 0., 0., 0., 0., 0., 0., 0., 0., 0., 0., 0.,\n",
       "       0., 0., 0., 0., 0., 0., 0., 0., 0., 0., 0., 0., 0., 0., 0., 0., 0., 0.,\n",
       "       0., 0., 0., 0., 0., 0., 0., 0., 0., 0., 0., 0., 0., 0., 0., 0., 0., 0.,\n",
       "       0., 0., 0., 0., 0., 0., 0., 0., 0., 0., 0., 0., 0., 0., 0., 0., 0., 0.,\n",
       "       0., 0., 0., 0., 0., 0., 0., 0., 0., 0., 0., 0., 0., 0., 0., 0., 0., 0.,\n",
       "       0., 0., 0., 0., 0., 0., 0., 0., 0., 0., 0., 0.])</pre></div></li><li class='xr-var-item'><div class='xr-var-name'><span>co2vmr</span></div><div class='xr-var-dims'>(time)</div><div class='xr-var-dtype'>float64</div><div class='xr-var-preview xr-preview'>...</div><input id='attrs-11c1e818-cf1e-4509-b4c0-4123770db212' class='xr-var-attrs-in' type='checkbox' ><label for='attrs-11c1e818-cf1e-4509-b4c0-4123770db212' title='Show/Hide attributes'><svg class='icon xr-icon-file-text2'><use xlink:href='#icon-file-text2'></use></svg></label><input id='data-af6edfc7-ae4c-4cb4-adeb-2ccb4923b432' class='xr-var-data-in' type='checkbox'><label for='data-af6edfc7-ae4c-4cb4-adeb-2ccb4923b432' title='Show/Hide data repr'><svg class='icon xr-icon-database'><use xlink:href='#icon-database'></use></svg></label><div class='xr-var-attrs'><dl class='xr-attrs'><dt><span>long_name :</span></dt><dd>co2 volume mixing ratio</dd></dl></div><div class='xr-var-data'><pre>array([0.000284, 0.000284, 0.000284, 0.000284, 0.000284, 0.000284, 0.000284,\n",
       "       0.000284, 0.000284, 0.000284, 0.000284, 0.000284, 0.000284, 0.000284,\n",
       "       0.000284, 0.000284, 0.000284, 0.000284, 0.000284, 0.000284, 0.000284,\n",
       "       0.000285, 0.000285, 0.000285, 0.000285, 0.000285, 0.000285, 0.000285,\n",
       "       0.000285, 0.000285, 0.000285, 0.000285, 0.000285, 0.000285, 0.000285,\n",
       "       0.000285, 0.000285, 0.000285, 0.000285, 0.000285, 0.000285, 0.000285,\n",
       "       0.000285, 0.000285, 0.000285, 0.000285, 0.000285, 0.000285, 0.000285,\n",
       "       0.000285, 0.000285, 0.000285, 0.000285, 0.000285, 0.000285, 0.000285,\n",
       "       0.000285, 0.000285, 0.000285, 0.000285, 0.000285, 0.000285, 0.000285,\n",
       "       0.000285, 0.000285, 0.000285, 0.000285, 0.000285, 0.000285, 0.000285,\n",
       "       0.000285, 0.000285, 0.000285, 0.000285, 0.000285, 0.000285, 0.000285,\n",
       "       0.000285, 0.000285, 0.000285, 0.000285, 0.000285, 0.000285, 0.000285,\n",
       "       0.000285, 0.000285, 0.000285, 0.000285, 0.000285, 0.000285, 0.000285,\n",
       "       0.000285, 0.000285, 0.000285, 0.000285, 0.000285, 0.000285, 0.000285,\n",
       "       0.000285, 0.000285, 0.000285, 0.000285, 0.000285, 0.000285, 0.000285,\n",
       "       0.000285, 0.000285, 0.000285, 0.000285, 0.000285, 0.000286, 0.000286,\n",
       "       0.000286, 0.000286, 0.000286, 0.000286, 0.000286, 0.000286, 0.000286,\n",
       "       0.000286])</pre></div></li><li class='xr-var-item'><div class='xr-var-name'><span>ch4vmr</span></div><div class='xr-var-dims'>(time)</div><div class='xr-var-dtype'>float64</div><div class='xr-var-preview xr-preview'>...</div><input id='attrs-2b3dc200-805e-4263-895f-a738fd199057' class='xr-var-attrs-in' type='checkbox' ><label for='attrs-2b3dc200-805e-4263-895f-a738fd199057' title='Show/Hide attributes'><svg class='icon xr-icon-file-text2'><use xlink:href='#icon-file-text2'></use></svg></label><input id='data-2f62bd86-9fac-4e3a-ad78-5785a81d3dba' class='xr-var-data-in' type='checkbox'><label for='data-2f62bd86-9fac-4e3a-ad78-5785a81d3dba' title='Show/Hide data repr'><svg class='icon xr-icon-database'><use xlink:href='#icon-database'></use></svg></label><div class='xr-var-attrs'><dl class='xr-attrs'><dt><span>long_name :</span></dt><dd>ch4 volume mixing ratio</dd></dl></div><div class='xr-var-data'><pre>array([8.082350e-07, 8.082376e-07, 8.082405e-07, 8.082432e-07, 8.082461e-07,\n",
       "       8.082489e-07, 8.082625e-07, 8.082765e-07, 8.082901e-07, 8.083041e-07,\n",
       "       8.083177e-07, 8.083317e-07, 8.083457e-07, 8.083583e-07, 8.083723e-07,\n",
       "       8.083859e-07, 8.083999e-07, 8.084135e-07, 8.084755e-07, 8.085391e-07,\n",
       "       8.086007e-07, 8.086643e-07, 8.087259e-07, 8.087895e-07, 8.088531e-07,\n",
       "       8.089106e-07, 8.089742e-07, 8.090358e-07, 8.090994e-07, 8.091609e-07,\n",
       "       8.092650e-07, 8.093704e-07, 8.094724e-07, 8.095778e-07, 8.096798e-07,\n",
       "       8.097852e-07, 8.098906e-07, 8.099858e-07, 8.100912e-07, 8.101932e-07,\n",
       "       8.102987e-07, 8.104007e-07, 8.105132e-07, 8.106260e-07, 8.107352e-07,\n",
       "       8.108480e-07, 8.109572e-07, 8.110700e-07, 8.111828e-07, 8.112846e-07,\n",
       "       8.113974e-07, 8.115066e-07, 8.116194e-07, 8.117286e-07, 8.118637e-07,\n",
       "       8.119995e-07, 8.121309e-07, 8.122668e-07, 8.123982e-07, 8.125341e-07,\n",
       "       8.126699e-07, 8.127926e-07, 8.129284e-07, 8.130599e-07, 8.131957e-07,\n",
       "       8.133272e-07, 8.134519e-07, 8.135763e-07, 8.136966e-07, 8.138210e-07,\n",
       "       8.139413e-07, 8.140657e-07, 8.141900e-07, 8.143024e-07, 8.144267e-07,\n",
       "       8.145471e-07, 8.146714e-07, 8.147918e-07, 8.149319e-07, 8.150726e-07,\n",
       "       8.152088e-07, 8.153495e-07, 8.154856e-07, 8.156263e-07, 8.157670e-07,\n",
       "       8.158941e-07, 8.160348e-07, 8.161709e-07, 8.163116e-07, 8.164478e-07,\n",
       "       8.166087e-07, 8.167703e-07, 8.169267e-07, 8.170883e-07, 8.172447e-07,\n",
       "       8.174063e-07, 8.175679e-07, 8.177138e-07, 8.178754e-07, 8.180318e-07,\n",
       "       8.181934e-07, 8.183498e-07, 8.185228e-07, 8.186961e-07, 8.188639e-07,\n",
       "       8.190372e-07, 8.192050e-07, 8.193783e-07, 8.195517e-07, 8.197083e-07,\n",
       "       8.198816e-07, 8.200494e-07, 8.202227e-07, 8.203905e-07, 8.205535e-07,\n",
       "       8.207163e-07, 8.208738e-07, 8.210365e-07, 8.211940e-07, 8.213568e-07])</pre></div></li><li class='xr-var-item'><div class='xr-var-name'><span>n2ovmr</span></div><div class='xr-var-dims'>(time)</div><div class='xr-var-dtype'>float64</div><div class='xr-var-preview xr-preview'>...</div><input id='attrs-e032807b-5074-409e-9f84-6fa596f4558a' class='xr-var-attrs-in' type='checkbox' ><label for='attrs-e032807b-5074-409e-9f84-6fa596f4558a' title='Show/Hide attributes'><svg class='icon xr-icon-file-text2'><use xlink:href='#icon-file-text2'></use></svg></label><input id='data-cc820fa3-aaa7-4610-860f-dace7f2ec407' class='xr-var-data-in' type='checkbox'><label for='data-cc820fa3-aaa7-4610-860f-dace7f2ec407' title='Show/Hide data repr'><svg class='icon xr-icon-database'><use xlink:href='#icon-database'></use></svg></label><div class='xr-var-attrs'><dl class='xr-attrs'><dt><span>long_name :</span></dt><dd>n2o volume mixing ratio</dd></dl></div><div class='xr-var-data'><pre>array([2.729934e-07, 2.729985e-07, 2.730042e-07, 2.730097e-07, 2.730155e-07,\n",
       "       2.730210e-07, 2.730271e-07, 2.730333e-07, 2.730393e-07, 2.730455e-07,\n",
       "       2.730515e-07, 2.730577e-07, 2.730639e-07, 2.730694e-07, 2.730756e-07,\n",
       "       2.730816e-07, 2.730878e-07, 2.730938e-07, 2.731001e-07, 2.731063e-07,\n",
       "       2.731124e-07, 2.731187e-07, 2.731248e-07, 2.731311e-07, 2.731373e-07,\n",
       "       2.731430e-07, 2.731493e-07, 2.731554e-07, 2.731616e-07, 2.731677e-07,\n",
       "       2.731758e-07, 2.731840e-07, 2.731919e-07, 2.732001e-07, 2.732080e-07,\n",
       "       2.732161e-07, 2.732243e-07, 2.732317e-07, 2.732398e-07, 2.732477e-07,\n",
       "       2.732559e-07, 2.732638e-07, 2.732722e-07, 2.732806e-07, 2.732887e-07,\n",
       "       2.732971e-07, 2.733053e-07, 2.733137e-07, 2.733221e-07, 2.733296e-07,\n",
       "       2.733380e-07, 2.733462e-07, 2.733546e-07, 2.733627e-07, 2.733718e-07,\n",
       "       2.733809e-07, 2.733897e-07, 2.733987e-07, 2.734075e-07, 2.734166e-07,\n",
       "       2.734257e-07, 2.734339e-07, 2.734430e-07, 2.734518e-07, 2.734609e-07,\n",
       "       2.734697e-07, 2.734788e-07, 2.734880e-07, 2.734969e-07, 2.735061e-07,\n",
       "       2.735150e-07, 2.735242e-07, 2.735333e-07, 2.735416e-07, 2.735508e-07,\n",
       "       2.735597e-07, 2.735689e-07, 2.735778e-07, 2.735860e-07, 2.735943e-07,\n",
       "       2.736022e-07, 2.736105e-07, 2.736184e-07, 2.736267e-07, 2.736349e-07,\n",
       "       2.736423e-07, 2.736506e-07, 2.736586e-07, 2.736668e-07, 2.736748e-07,\n",
       "       2.736817e-07, 2.736886e-07, 2.736952e-07, 2.737021e-07, 2.737087e-07,\n",
       "       2.737156e-07, 2.737225e-07, 2.737287e-07, 2.737356e-07, 2.737422e-07,\n",
       "       2.737491e-07, 2.737558e-07, 2.737674e-07, 2.737792e-07, 2.737907e-07,\n",
       "       2.738025e-07, 2.738139e-07, 2.738257e-07, 2.738375e-07, 2.738481e-07,\n",
       "       2.738600e-07, 2.738714e-07, 2.738832e-07, 2.738946e-07, 2.739082e-07,\n",
       "       2.739219e-07, 2.739351e-07, 2.739488e-07, 2.739620e-07, 2.739757e-07])</pre></div></li><li class='xr-var-item'><div class='xr-var-name'><span>f11vmr</span></div><div class='xr-var-dims'>(time)</div><div class='xr-var-dtype'>float64</div><div class='xr-var-preview xr-preview'>...</div><input id='attrs-05a03f44-16b3-4242-a8aa-ccde9988b61c' class='xr-var-attrs-in' type='checkbox' ><label for='attrs-05a03f44-16b3-4242-a8aa-ccde9988b61c' title='Show/Hide attributes'><svg class='icon xr-icon-file-text2'><use xlink:href='#icon-file-text2'></use></svg></label><input id='data-8028ce5a-f168-4aa0-a6d4-766d5e2b7978' class='xr-var-data-in' type='checkbox'><label for='data-8028ce5a-f168-4aa0-a6d4-766d5e2b7978' title='Show/Hide data repr'><svg class='icon xr-icon-database'><use xlink:href='#icon-database'></use></svg></label><div class='xr-var-attrs'><dl class='xr-attrs'><dt><span>long_name :</span></dt><dd>f11 volume mixing ratio</dd></dl></div><div class='xr-var-data'><pre>array([3.211021e-11, 3.211021e-11, 3.211021e-11, 3.211021e-11, 3.211021e-11,\n",
       "       3.211021e-11, 3.211021e-11, 3.211021e-11, 3.211021e-11, 3.211021e-11,\n",
       "       3.211021e-11, 3.211021e-11, 3.211021e-11, 3.211021e-11, 3.211021e-11,\n",
       "       3.211021e-11, 3.211021e-11, 3.211021e-11, 3.211021e-11, 3.211021e-11,\n",
       "       3.211021e-11, 3.211021e-11, 3.211021e-11, 3.211021e-11, 3.211021e-11,\n",
       "       3.211021e-11, 3.211022e-11, 3.211022e-11, 3.211022e-11, 3.211022e-11,\n",
       "       3.211022e-11, 3.211022e-11, 3.211022e-11, 3.211022e-11, 3.211022e-11,\n",
       "       3.211022e-11, 3.211022e-11, 3.211022e-11, 3.211023e-11, 3.211023e-11,\n",
       "       3.211023e-11, 3.211023e-11, 3.211023e-11, 3.211023e-11, 3.211023e-11,\n",
       "       3.211023e-11, 3.211023e-11, 3.211023e-11, 3.211023e-11, 3.211023e-11,\n",
       "       3.211023e-11, 3.211023e-11, 3.211023e-11, 3.211023e-11, 3.211023e-11,\n",
       "       3.211023e-11, 3.211023e-11, 3.211023e-11, 3.211024e-11, 3.211024e-11,\n",
       "       3.211024e-11, 3.211024e-11, 3.211024e-11, 3.211024e-11, 3.211024e-11,\n",
       "       3.211024e-11, 3.211024e-11, 3.211024e-11, 3.211024e-11, 3.211025e-11,\n",
       "       3.211025e-11, 3.211025e-11, 3.211025e-11, 3.211025e-11, 3.211025e-11,\n",
       "       3.211025e-11, 3.211025e-11, 3.211025e-11, 3.211025e-11, 3.211025e-11,\n",
       "       3.211025e-11, 3.211025e-11, 3.211025e-11, 3.211025e-11, 3.211025e-11,\n",
       "       3.211025e-11, 3.211025e-11, 3.211025e-11, 3.211025e-11, 3.211025e-11,\n",
       "       3.211025e-11, 3.211025e-11, 3.211025e-11, 3.211026e-11, 3.211026e-11,\n",
       "       3.211026e-11, 3.211027e-11, 3.211027e-11, 3.211027e-11, 3.211027e-11,\n",
       "       3.211028e-11, 3.211028e-11, 3.211028e-11, 3.211028e-11, 3.211028e-11,\n",
       "       3.211028e-11, 3.211028e-11, 3.211028e-11, 3.211028e-11, 3.211028e-11,\n",
       "       3.211028e-11, 3.211028e-11, 3.211028e-11, 3.211028e-11, 3.211028e-11,\n",
       "       3.211029e-11, 3.211029e-11, 3.211029e-11, 3.211029e-11, 3.211029e-11])</pre></div></li><li class='xr-var-item'><div class='xr-var-name'><span>f12vmr</span></div><div class='xr-var-dims'>(time)</div><div class='xr-var-dtype'>float64</div><div class='xr-var-preview xr-preview'>...</div><input id='attrs-2153bd8e-26ed-4f5a-ac31-46d7083978bd' class='xr-var-attrs-in' type='checkbox' ><label for='attrs-2153bd8e-26ed-4f5a-ac31-46d7083978bd' title='Show/Hide attributes'><svg class='icon xr-icon-file-text2'><use xlink:href='#icon-file-text2'></use></svg></label><input id='data-0e1f1c08-62d6-4401-b6ee-4889e8a2bb37' class='xr-var-data-in' type='checkbox'><label for='data-0e1f1c08-62d6-4401-b6ee-4889e8a2bb37' title='Show/Hide data repr'><svg class='icon xr-icon-database'><use xlink:href='#icon-database'></use></svg></label><div class='xr-var-attrs'><dl class='xr-attrs'><dt><span>long_name :</span></dt><dd>f12 volume mixing ratio</dd></dl></div><div class='xr-var-data'><pre>array([0., 0., 0., 0., 0., 0., 0., 0., 0., 0., 0., 0., 0., 0., 0., 0., 0., 0.,\n",
       "       0., 0., 0., 0., 0., 0., 0., 0., 0., 0., 0., 0., 0., 0., 0., 0., 0., 0.,\n",
       "       0., 0., 0., 0., 0., 0., 0., 0., 0., 0., 0., 0., 0., 0., 0., 0., 0., 0.,\n",
       "       0., 0., 0., 0., 0., 0., 0., 0., 0., 0., 0., 0., 0., 0., 0., 0., 0., 0.,\n",
       "       0., 0., 0., 0., 0., 0., 0., 0., 0., 0., 0., 0., 0., 0., 0., 0., 0., 0.,\n",
       "       0., 0., 0., 0., 0., 0., 0., 0., 0., 0., 0., 0., 0., 0., 0., 0., 0., 0.,\n",
       "       0., 0., 0., 0., 0., 0., 0., 0., 0., 0., 0., 0.])</pre></div></li><li class='xr-var-item'><div class='xr-var-name'><span>sol_tsi</span></div><div class='xr-var-dims'>(time)</div><div class='xr-var-dtype'>float64</div><div class='xr-var-preview xr-preview'>...</div><input id='attrs-24ac443f-e600-489a-8d6f-2b15a9304145' class='xr-var-attrs-in' type='checkbox' ><label for='attrs-24ac443f-e600-489a-8d6f-2b15a9304145' title='Show/Hide attributes'><svg class='icon xr-icon-file-text2'><use xlink:href='#icon-file-text2'></use></svg></label><input id='data-0629b347-ca6e-40bf-9d7f-f8a84c5173a8' class='xr-var-data-in' type='checkbox'><label for='data-0629b347-ca6e-40bf-9d7f-f8a84c5173a8' title='Show/Hide data repr'><svg class='icon xr-icon-database'><use xlink:href='#icon-database'></use></svg></label><div class='xr-var-attrs'><dl class='xr-attrs'><dt><span>long_name :</span></dt><dd>total solar irradiance</dd><dt><span>units :</span></dt><dd>W/m2</dd></dl></div><div class='xr-var-data'><pre>array([-1., -1., -1., -1., -1., -1., -1., -1., -1., -1., -1., -1., -1., -1.,\n",
       "       -1., -1., -1., -1., -1., -1., -1., -1., -1., -1., -1., -1., -1., -1.,\n",
       "       -1., -1., -1., -1., -1., -1., -1., -1., -1., -1., -1., -1., -1., -1.,\n",
       "       -1., -1., -1., -1., -1., -1., -1., -1., -1., -1., -1., -1., -1., -1.,\n",
       "       -1., -1., -1., -1., -1., -1., -1., -1., -1., -1., -1., -1., -1., -1.,\n",
       "       -1., -1., -1., -1., -1., -1., -1., -1., -1., -1., -1., -1., -1., -1.,\n",
       "       -1., -1., -1., -1., -1., -1., -1., -1., -1., -1., -1., -1., -1., -1.,\n",
       "       -1., -1., -1., -1., -1., -1., -1., -1., -1., -1., -1., -1., -1., -1.,\n",
       "       -1., -1., -1., -1., -1., -1., -1., -1.])</pre></div></li><li class='xr-var-item'><div class='xr-var-name'><span>nsteph</span></div><div class='xr-var-dims'>(time)</div><div class='xr-var-dtype'>float64</div><div class='xr-var-preview xr-preview'>...</div><input id='attrs-faec24ed-d1b5-415f-89f3-78cb20d8cb51' class='xr-var-attrs-in' type='checkbox' ><label for='attrs-faec24ed-d1b5-415f-89f3-78cb20d8cb51' title='Show/Hide attributes'><svg class='icon xr-icon-file-text2'><use xlink:href='#icon-file-text2'></use></svg></label><input id='data-b15acbda-9b40-43c0-8459-52687025650d' class='xr-var-data-in' type='checkbox'><label for='data-b15acbda-9b40-43c0-8459-52687025650d' title='Show/Hide data repr'><svg class='icon xr-icon-database'><use xlink:href='#icon-database'></use></svg></label><div class='xr-var-attrs'><dl class='xr-attrs'><dt><span>long_name :</span></dt><dd>current timestep</dd></dl></div><div class='xr-var-data'><pre>array([  1488.,   2832.,   4320.,   5760.,   7248.,   8688.,  10176.,  11664.,\n",
       "        13104.,  14592.,  16032.,  17520.,  19008.,  20352.,  21840.,  23280.,\n",
       "        24768.,  26208.,  27696.,  29184.,  30624.,  32112.,  33552.,  35040.,\n",
       "        36528.,  37872.,  39360.,  40800.,  42288.,  43728.,  45216.,  46704.,\n",
       "        48144.,  49632.,  51072.,  52560.,  54048.,  55392.,  56880.,  58320.,\n",
       "        59808.,  61248.,  62736.,  64224.,  65664.,  67152.,  68592.,  70080.,\n",
       "        71568.,  72912.,  74400.,  75840.,  77328.,  78768.,  80256.,  81744.,\n",
       "        83184.,  84672.,  86112.,  87600.,  89088.,  90432.,  91920.,  93360.,\n",
       "        94848.,  96288.,  97776.,  99264., 100704., 102192., 103632., 105120.,\n",
       "       106608., 107952., 109440., 110880., 112368., 113808., 115296., 116784.,\n",
       "       118224., 119712., 121152., 122640., 124128., 125472., 126960., 128400.,\n",
       "       129888., 131328., 132816., 134304., 135744., 137232., 138672., 140160.,\n",
       "       141648., 142992., 144480., 145920., 147408., 148848., 150336., 151824.,\n",
       "       153264., 154752., 156192., 157680., 159168., 160512., 162000., 163440.,\n",
       "       164928., 166368., 167856., 169344., 170784., 172272., 173712., 175200.])</pre></div></li><li class='xr-var-item'><div class='xr-var-name'><span>PRECT</span></div><div class='xr-var-dims'>(time, lat, lon)</div><div class='xr-var-dtype'>float32</div><div class='xr-var-preview xr-preview'>...</div><input id='attrs-7e04f26f-e84b-462b-99fa-fe87666d2a59' class='xr-var-attrs-in' type='checkbox' ><label for='attrs-7e04f26f-e84b-462b-99fa-fe87666d2a59' title='Show/Hide attributes'><svg class='icon xr-icon-file-text2'><use xlink:href='#icon-file-text2'></use></svg></label><input id='data-a2353694-bb28-49e6-ae1a-f9b79b64e5f0' class='xr-var-data-in' type='checkbox'><label for='data-a2353694-bb28-49e6-ae1a-f9b79b64e5f0' title='Show/Hide data repr'><svg class='icon xr-icon-database'><use xlink:href='#icon-database'></use></svg></label><div class='xr-var-attrs'><dl class='xr-attrs'><dt><span>units :</span></dt><dd>m/s</dd><dt><span>long_name :</span></dt><dd>Total (convective and large-scale) precipitation rate (liq + ice)</dd><dt><span>cell_methods :</span></dt><dd>time: mean</dd></dl></div><div class='xr-var-data'><pre>[6635520 values with dtype=float32]</pre></div></li></ul></div></li><li class='xr-section-item'><input id='section-de4cdb45-b213-4fee-9ae2-9a16f55033c4' class='xr-section-summary-in' type='checkbox'  checked><label for='section-de4cdb45-b213-4fee-9ae2-9a16f55033c4' class='xr-section-summary' >Attributes: <span>(9)</span></label><div class='xr-section-inline-details'></div><div class='xr-section-details'><dl class='xr-attrs'><dt><span>Conventions :</span></dt><dd>CF-1.0</dd><dt><span>source :</span></dt><dd>CAM</dd><dt><span>case :</span></dt><dd>b.e21.BHISTcmip6.f09_g17.LE2-1001.001</dd><dt><span>logname :</span></dt><dd>sunseon</dd><dt><span>host :</span></dt><dd>mom1</dd><dt><span>initial_file :</span></dt><dd>b.e21.B1850.f09_g17.CMIP6-piControl.001.cam.i.1001-01-01-00000.nc</dd><dt><span>topography_file :</span></dt><dd>/mnt/lustre/share/CESM/cesm_input/atm/cam/topo/fv_0.9x1.25_nc3000_Nsw042_Nrs008_Co060_Fi001_ZR_sgh30_24km_GRNL_c170103.nc</dd><dt><span>model_doi_url :</span></dt><dd>https://doi.org/10.5065/D67H1H0V</dd><dt><span>time_period_freq :</span></dt><dd>month_1</dd></dl></div></li></ul></div></div>"
      ],
      "text/plain": [
       "<xarray.Dataset>\n",
       "Dimensions:       (lat: 192, zlon: 1, nbnd: 2, lon: 288, lev: 32, ilev: 33,\n",
       "                   time: 120)\n",
       "Coordinates:\n",
       "  * lat           (lat) float64 -90.0 -89.06 -88.12 -87.17 ... 88.12 89.06 90.0\n",
       "  * zlon          (zlon) float64 0.0\n",
       "  * lon           (lon) float64 0.0 1.25 2.5 3.75 ... 355.0 356.2 357.5 358.8\n",
       "  * lev           (lev) float64 3.643 7.595 14.36 24.61 ... 957.5 976.3 992.6\n",
       "  * ilev          (ilev) float64 2.255 5.032 10.16 18.56 ... 967.5 985.1 1e+03\n",
       "  * time          (time) object 1850-02-01 00:00:00 ... 1860-01-01 00:00:00\n",
       "Dimensions without coordinates: nbnd\n",
       "Data variables: (12/27)\n",
       "    zlon_bnds     (zlon, nbnd) float64 ...\n",
       "    gw            (lat) float64 ...\n",
       "    hyam          (lev) float64 ...\n",
       "    hybm          (lev) float64 ...\n",
       "    P0            float64 ...\n",
       "    hyai          (ilev) float64 ...\n",
       "    ...            ...\n",
       "    n2ovmr        (time) float64 ...\n",
       "    f11vmr        (time) float64 ...\n",
       "    f12vmr        (time) float64 ...\n",
       "    sol_tsi       (time) float64 ...\n",
       "    nsteph        (time) float64 ...\n",
       "    PRECT         (time, lat, lon) float32 ...\n",
       "Attributes:\n",
       "    Conventions:       CF-1.0\n",
       "    source:            CAM\n",
       "    case:              b.e21.BHISTcmip6.f09_g17.LE2-1001.001\n",
       "    logname:           sunseon\n",
       "    host:              mom1\n",
       "    initial_file:      b.e21.B1850.f09_g17.CMIP6-piControl.001.cam.i.1001-01-...\n",
       "    topography_file:   /mnt/lustre/share/CESM/cesm_input/atm/cam/topo/fv_0.9x...\n",
       "    model_doi_url:     https://doi.org/10.5065/D67H1H0V\n",
       "    time_period_freq:  month_1"
      ]
     },
     "execution_count": 15,
     "metadata": {},
     "output_type": "execute_result"
    }
   ],
   "source": [
    "file_xr  = xr.open_dataset(ncFile_param) \n",
    "file_xr"
   ]
  },
  {
   "cell_type": "code",
   "execution_count": 16,
   "metadata": {},
   "outputs": [
    {
     "name": "stdout",
     "output_type": "stream",
     "text": [
      "(120, 192, 288)\n",
      "<xarray.DataArray 'PRECT' (time: 120, lat: 192, lon: 288)>\n",
      "[6635520 values with dtype=float32]\n",
      "Coordinates:\n",
      "  * lat      (lat) float64 -90.0 -89.06 -88.12 -87.17 ... 87.17 88.12 89.06 90.0\n",
      "  * lon      (lon) float64 0.0 1.25 2.5 3.75 5.0 ... 355.0 356.2 357.5 358.8\n",
      "  * time     (time) object 1850-02-01 00:00:00 ... 1860-01-01 00:00:00\n",
      "Attributes:\n",
      "    units:         m/s\n",
      "    long_name:     Total (convective and large-scale) precipitation rate (liq...\n",
      "    cell_methods:  time: mean\n"
     ]
    }
   ],
   "source": [
    "param_val = file_xr['PRECT']\n",
    "print(param_val.shape)\n",
    "print(param_val)"
   ]
  },
  {
   "cell_type": "code",
   "execution_count": 17,
   "metadata": {},
   "outputs": [
    {
     "name": "stdout",
     "output_type": "stream",
     "text": [
      "120\n",
      "(120, 192, 288)\n",
      "\n"
     ]
    }
   ],
   "source": [
    "\n",
    "file_paramHist = Dataset(ncFile_param, mode='r')\n",
    "file_paramHist\n",
    "\n",
    "lons = file_paramHist.variables['lon'][:]\n",
    "lats = file_paramHist.variables['lat'][:]\n",
    "times = file_paramHist.variables['time'][:]\n",
    "ntim = times.shape[0]\n",
    "print(ntim)\n",
    "\n",
    "time = np.arange(ntim)\n",
    "time\n",
    "\n",
    "param_valHist = file_paramHist.variables['PRECT'][:]*86400*30  \n",
    "\n",
    "print(param_valHist.shape)\n",
    "print('')\n",
    "\n",
    "#++++++++++++++++++++++++++++++++++++++++++++++++++++++++++++\n",
    "    \n",
    "    "
   ]
  },
  {
   "cell_type": "code",
   "execution_count": null,
   "metadata": {},
   "outputs": [],
   "source": []
  },
  {
   "cell_type": "markdown",
   "metadata": {},
   "source": [
    "## Setting US boundaries"
   ]
  },
  {
   "cell_type": "code",
   "execution_count": 18,
   "metadata": {},
   "outputs": [],
   "source": [
    "# Save only U.S. \n",
    "latboundsUs = [ 25 , 55]\n",
    "lonboundsUs = [230 , 300]"
   ]
  },
  {
   "cell_type": "code",
   "execution_count": 19,
   "metadata": {},
   "outputs": [],
   "source": [
    "# latitude lower and upper index\n",
    "latli = np.argmin( np.abs( lats - latboundsUs[0] ) )\n",
    "latui = np.argmin( np.abs( lats - latboundsUs[1] ) ) \n",
    "\n",
    "# longitude lower and upper index\n",
    "lonli = np.argmin( np.abs( lons - lonboundsUs[0] ) )\n",
    "lonui = np.argmin( np.abs( lons - lonboundsUs[1] ) )  "
   ]
  },
  {
   "cell_type": "code",
   "execution_count": 20,
   "metadata": {},
   "outputs": [
    {
     "name": "stdout",
     "output_type": "stream",
     "text": [
      "122 154\n"
     ]
    }
   ],
   "source": [
    "print(latli, latui)\n"
   ]
  },
  {
   "cell_type": "code",
   "execution_count": 21,
   "metadata": {},
   "outputs": [
    {
     "name": "stdout",
     "output_type": "stream",
     "text": [
      "184 240\n"
     ]
    }
   ],
   "source": [
    "print(lonli, lonui)"
   ]
  },
  {
   "cell_type": "code",
   "execution_count": 22,
   "metadata": {},
   "outputs": [
    {
     "name": "stdout",
     "output_type": "stream",
     "text": [
      "(120, 32, 56)\n"
     ]
    }
   ],
   "source": [
    "param_val_sample_Us = param_val[:, latli:latui , lonli:lonui]\n",
    "print(param_val_sample_Us.shape)"
   ]
  },
  {
   "cell_type": "code",
   "execution_count": 23,
   "metadata": {},
   "outputs": [
    {
     "name": "stdout",
     "output_type": "stream",
     "text": [
      "32\n",
      "56\n",
      "120\n"
     ]
    }
   ],
   "source": [
    "t,y_Us,x_Us = param_val_sample_Us.shape\n",
    "print(y_Us)\n",
    "print(x_Us)\n",
    "print(t)"
   ]
  },
  {
   "cell_type": "code",
   "execution_count": 24,
   "metadata": {},
   "outputs": [
    {
     "name": "stdout",
     "output_type": "stream",
     "text": [
      "[24.97382199 25.91623037 26.85863874 27.80104712 28.7434555  29.68586387\n",
      " 30.62827225 31.57068063 32.51308901 33.45549738 34.39790576 35.34031414\n",
      " 36.28272251 37.22513089 38.16753927 39.10994764 40.05235602 40.9947644\n",
      " 41.93717277 42.87958115 43.82198953 44.76439791 45.70680628 46.64921466\n",
      " 47.59162304 48.53403141 49.47643979 50.41884817 51.36125654 52.30366492\n",
      " 53.2460733  54.18848168]\n"
     ]
    }
   ],
   "source": [
    "lats_Us = lats[latli:latui]\n",
    "print(lats_Us)"
   ]
  },
  {
   "cell_type": "code",
   "execution_count": 25,
   "metadata": {},
   "outputs": [
    {
     "name": "stdout",
     "output_type": "stream",
     "text": [
      "[230.   231.25 232.5  233.75 235.   236.25 237.5  238.75 240.   241.25\n",
      " 242.5  243.75 245.   246.25 247.5  248.75 250.   251.25 252.5  253.75\n",
      " 255.   256.25 257.5  258.75 260.   261.25 262.5  263.75 265.   266.25\n",
      " 267.5  268.75 270.   271.25 272.5  273.75 275.   276.25 277.5  278.75\n",
      " 280.   281.25 282.5  283.75 285.   286.25 287.5  288.75 290.   291.25\n",
      " 292.5  293.75 295.   296.25 297.5  298.75]\n"
     ]
    }
   ],
   "source": [
    "lons_Us = lons[lonli:lonui]\n",
    "print(lons_Us)"
   ]
  },
  {
   "cell_type": "code",
   "execution_count": null,
   "metadata": {},
   "outputs": [],
   "source": []
  },
  {
   "cell_type": "markdown",
   "metadata": {},
   "source": [
    "## Using data from Ensemble Members"
   ]
  },
  {
   "cell_type": "markdown",
   "metadata": {},
   "source": [
    "### Lat Lon info from CESM2"
   ]
  },
  {
   "cell_type": "code",
   "execution_count": 26,
   "metadata": {},
   "outputs": [
    {
     "name": "stdout",
     "output_type": "stream",
     "text": [
      "(32,)\n",
      "[24.973822 25.916231 26.858639 27.801046 28.743456 29.685863 30.628273\n",
      " 31.57068  32.51309  33.455498 34.397907 35.340313 36.282722 37.225132\n",
      " 38.167538 39.109947 40.052357 40.994766 41.937172 42.87958  43.82199\n",
      " 44.764397 45.706806 46.649216 47.59162  48.53403  49.47644  50.41885\n",
      " 51.361256 52.303665 53.246075 54.18848 ]\n"
     ]
    }
   ],
   "source": [
    "file_LatUs = 'C:/rezaul/1.academic/1.research/2.project/mrb/dt/cesm/cesm2LE/param/CESM2_FLOOD/sm/latsUsArr.npy'\n",
    "latUs_cesm2 = np.load(file_LatUs)\n",
    "print(latUs_cesm2.shape)\n",
    "print(latUs_cesm2)"
   ]
  },
  {
   "cell_type": "code",
   "execution_count": 27,
   "metadata": {},
   "outputs": [
    {
     "name": "stdout",
     "output_type": "stream",
     "text": [
      "(56,)\n",
      "[230.   231.25 232.5  233.75 235.   236.25 237.5  238.75 240.   241.25\n",
      " 242.5  243.75 245.   246.25 247.5  248.75 250.   251.25 252.5  253.75\n",
      " 255.   256.25 257.5  258.75 260.   261.25 262.5  263.75 265.   266.25\n",
      " 267.5  268.75 270.   271.25 272.5  273.75 275.   276.25 277.5  278.75\n",
      " 280.   281.25 282.5  283.75 285.   286.25 287.5  288.75 290.   291.25\n",
      " 292.5  293.75 295.   296.25 297.5  298.75]\n"
     ]
    }
   ],
   "source": [
    "file_LonUs = 'C:/rezaul/1.academic/1.research/2.project/mrb/dt/cesm/cesm2LE/param/CESM2_FLOOD/sm/lonsUsArr.npy'\n",
    "lonUs_cesm2 = np.load(file_LonUs)\n",
    "print(lonUs_cesm2.shape)\n",
    "print(lonUs_cesm2)"
   ]
  },
  {
   "cell_type": "code",
   "execution_count": null,
   "metadata": {},
   "outputs": [],
   "source": []
  },
  {
   "cell_type": "markdown",
   "metadata": {},
   "source": [
    "### Historical (1850-2014): 1980 months"
   ]
  },
  {
   "cell_type": "code",
   "execution_count": 28,
   "metadata": {},
   "outputs": [
    {
     "name": "stdout",
     "output_type": "stream",
     "text": [
      "(1980, 32, 56, 50)\n"
     ]
    },
    {
     "data": {
      "text/plain": [
       "1416.2439802021254"
      ]
     },
     "execution_count": 28,
     "metadata": {},
     "output_type": "execute_result"
    }
   ],
   "source": [
    "file_hist_ensMems = 'C:/rezaul/1.academic/1.research/2.project/mrb/dt/cesm/cesm2LE/param/precip/mon/monPrecipUsHistEnsMems.npy'\n",
    "file_hist_ensMems_loaded = np.load(file_hist_ensMems)\n",
    "print(file_hist_ensMems_loaded.shape)\n",
    "maxVal = np.nanmax(file_hist_ensMems_loaded)\n",
    "maxVal"
   ]
  },
  {
   "cell_type": "markdown",
   "metadata": {},
   "source": [
    "## Historical years and 3 time periods (i.e., Era) in Scenario years"
   ]
  },
  {
   "cell_type": "code",
   "execution_count": 29,
   "metadata": {},
   "outputs": [
    {
     "name": "stdout",
     "output_type": "stream",
     "text": [
      "12\n"
     ]
    }
   ],
   "source": [
    "nMonsPerYr = 12     \n",
    "print(nMonsPerYr)"
   ]
  },
  {
   "cell_type": "code",
   "execution_count": 30,
   "metadata": {},
   "outputs": [],
   "source": [
    "histYrSt = 1850\n",
    "histYrSelSt = 1930\n",
    "\n",
    "refPeriodYrSt = 1971\n",
    "refPeriodYrEnd = 2000\n",
    "\n",
    "scenYrSt = 2015\n",
    "scenEraTwoYrSt = 2045\n",
    "scenEraThreeYrSt = 2075\n",
    "\n",
    "scenYrEnd = 2100\n",
    "#"
   ]
  },
  {
   "cell_type": "code",
   "execution_count": 31,
   "metadata": {},
   "outputs": [
    {
     "name": "stdout",
     "output_type": "stream",
     "text": [
      "960\n"
     ]
    }
   ],
   "source": [
    "refPeriodStepSt = (histYrSelSt - histYrSt)*nMonsPerYr\n",
    "print(refPeriodStepSt)"
   ]
  },
  {
   "cell_type": "code",
   "execution_count": 32,
   "metadata": {},
   "outputs": [
    {
     "name": "stdout",
     "output_type": "stream",
     "text": [
      "(1020, 32, 56, 50)\n"
     ]
    }
   ],
   "source": [
    "file_histSel_ensMems_loaded = file_hist_ensMems_loaded[refPeriodStepSt::, :, :, :]\n",
    "\n",
    "print(file_histSel_ensMems_loaded.shape)"
   ]
  },
  {
   "cell_type": "code",
   "execution_count": null,
   "metadata": {},
   "outputs": [],
   "source": []
  },
  {
   "cell_type": "markdown",
   "metadata": {},
   "source": [
    "### Scenario (2015-2100)"
   ]
  },
  {
   "cell_type": "code",
   "execution_count": 33,
   "metadata": {},
   "outputs": [
    {
     "name": "stdout",
     "output_type": "stream",
     "text": [
      "(1032, 32, 56, 50)\n"
     ]
    },
    {
     "data": {
      "text/plain": [
       "1645.1687024527928"
      ]
     },
     "execution_count": 33,
     "metadata": {},
     "output_type": "execute_result"
    }
   ],
   "source": [
    "file_scen_ensMems = 'C:/rezaul/1.academic/1.research/2.project/mrb/dt/cesm/cesm2LE/param/precip/mon/monPrecipUsScenEnsMems.npy'\n",
    "file_scen_ensMems_loaded = np.load(file_scen_ensMems)\n",
    "print(file_scen_ensMems_loaded.shape)\n",
    "maxVal = np.nanmax(file_scen_ensMems_loaded)\n",
    "maxVal"
   ]
  },
  {
   "cell_type": "markdown",
   "metadata": {},
   "source": [
    "## Concatenate two data arrays"
   ]
  },
  {
   "cell_type": "code",
   "execution_count": 34,
   "metadata": {},
   "outputs": [
    {
     "name": "stdout",
     "output_type": "stream",
     "text": [
      "(1020, 32, 56, 50)\n",
      "(1032, 32, 56, 50)\n"
     ]
    }
   ],
   "source": [
    "print(file_histSel_ensMems_loaded.shape)\n",
    "print(file_scen_ensMems_loaded.shape)\n"
   ]
  },
  {
   "cell_type": "code",
   "execution_count": 35,
   "metadata": {},
   "outputs": [
    {
     "name": "stdout",
     "output_type": "stream",
     "text": [
      "(2052, 32, 56, 50)\n"
     ]
    }
   ],
   "source": [
    "param_histSel_scen_ensMems_Us = np.concatenate((file_histSel_ensMems_loaded, file_scen_ensMems_loaded), axis=0)\n",
    "print(param_histSel_scen_ensMems_Us.shape)"
   ]
  },
  {
   "cell_type": "code",
   "execution_count": null,
   "metadata": {},
   "outputs": [],
   "source": []
  },
  {
   "cell_type": "markdown",
   "metadata": {},
   "source": [
    "## Writing in an Xarray Data array"
   ]
  },
  {
   "cell_type": "code",
   "execution_count": 36,
   "metadata": {},
   "outputs": [
    {
     "name": "stdout",
     "output_type": "stream",
     "text": [
      "(2052, 32, 56, 50)\n"
     ]
    }
   ],
   "source": [
    "print(param_histSel_scen_ensMems_Us.shape)"
   ]
  },
  {
   "cell_type": "code",
   "execution_count": 37,
   "metadata": {},
   "outputs": [
    {
     "name": "stdout",
     "output_type": "stream",
     "text": [
      "2052\n",
      "32\n",
      "56\n",
      "50\n"
     ]
    }
   ],
   "source": [
    "t_histSel_scen, y_Us, x_Us, ens_size = param_histSel_scen_ensMems_Us.shape\n",
    "\n",
    "print(t_histSel_scen)\n",
    "print(y_Us)\n",
    "print(x_Us)\n",
    "print(ens_size)"
   ]
  },
  {
   "cell_type": "code",
   "execution_count": 38,
   "metadata": {},
   "outputs": [],
   "source": [
    "Month_steps = [x for x in range(t_histSel_scen)]\n",
    "#print(Month_steps)"
   ]
  },
  {
   "cell_type": "code",
   "execution_count": 39,
   "metadata": {},
   "outputs": [
    {
     "name": "stdout",
     "output_type": "stream",
     "text": [
      "[0, 1, 2, 3, 4, 5, 6, 7, 8, 9, 10, 11, 12, 13, 14, 15, 16, 17, 18, 19, 20, 21, 22, 23, 24, 25, 26, 27, 28, 29, 30, 31, 32, 33, 34, 35, 36, 37, 38, 39, 40, 41, 42, 43, 44, 45, 46, 47, 48, 49]\n"
     ]
    }
   ],
   "source": [
    "Ensembles = [x for x in range(ens_size)]\n",
    "print(Ensembles)"
   ]
  },
  {
   "cell_type": "code",
   "execution_count": 40,
   "metadata": {},
   "outputs": [
    {
     "name": "stdout",
     "output_type": "stream",
     "text": [
      "(2052, 32, 56, 50)\n"
     ]
    }
   ],
   "source": [
    "param_histSel_scen_ensMems_Us_xarray = xr.DataArray(param_histSel_scen_ensMems_Us, coords=[Month_steps, latUs_cesm2, lonUs_cesm2, Ensembles], dims=[\"Month_steps\",\"Lat\",\"Lon\",\"Ensembles\"])\n",
    "\n",
    "print(param_histSel_scen_ensMems_Us_xarray.shape)\n",
    "#print(param_histSel_scen_ensMems_Us_xarray)"
   ]
  },
  {
   "cell_type": "code",
   "execution_count": null,
   "metadata": {},
   "outputs": [],
   "source": []
  },
  {
   "cell_type": "markdown",
   "metadata": {},
   "source": [
    "## Masking files for the US Domain only"
   ]
  },
  {
   "cell_type": "markdown",
   "metadata": {},
   "source": [
    "### Mississippi"
   ]
  },
  {
   "cell_type": "code",
   "execution_count": 41,
   "metadata": {},
   "outputs": [
    {
     "name": "stdout",
     "output_type": "stream",
     "text": [
      "C:/rezaul/1.academic/1.research/2.project/mrb/dt/shapeFile/mask/mrb_us/mask_missiWri_us_CESM_longThree.nc\n"
     ]
    }
   ],
   "source": [
    "MaskFile_Missi_to_load = 'C:/rezaul/1.academic/1.research/2.project/mrb/dt/shapeFile/mask/mrb_us/mask_missiWri_us_CESM_longThree.nc'\n",
    "print(MaskFile_Missi_to_load)"
   ]
  },
  {
   "cell_type": "code",
   "execution_count": 42,
   "metadata": {},
   "outputs": [
    {
     "name": "stdout",
     "output_type": "stream",
     "text": [
      "<xarray.DataArray 'Mask' (Lat: 32, Lon: 56)>\n",
      "array([[0, 0, 0, ..., 0, 0, 0],\n",
      "       [0, 0, 0, ..., 0, 0, 0],\n",
      "       [0, 0, 0, ..., 0, 0, 0],\n",
      "       ...,\n",
      "       [0, 0, 0, ..., 0, 0, 0],\n",
      "       [0, 0, 0, ..., 0, 0, 0],\n",
      "       [0, 0, 0, ..., 0, 0, 0]])\n",
      "Coordinates:\n",
      "  * Lat      (Lat) float32 24.97 25.92 26.86 27.8 ... 51.36 52.3 53.25 54.19\n",
      "  * Lon      (Lon) float32 230.0 231.2 232.5 233.8 ... 295.0 296.2 297.5 298.8\n"
     ]
    }
   ],
   "source": [
    "MaskFile_Missi = xr.open_dataset(MaskFile_Missi_to_load)['Mask']\n",
    "print(MaskFile_Missi)"
   ]
  },
  {
   "cell_type": "code",
   "execution_count": 43,
   "metadata": {},
   "outputs": [
    {
     "name": "stdout",
     "output_type": "stream",
     "text": [
      "(2052, 32, 56, 50)\n"
     ]
    }
   ],
   "source": [
    "param_masked_Missi = param_histSel_scen_ensMems_Us_xarray.where(MaskFile_Missi>0)\n",
    "print(param_masked_Missi.shape)\n",
    "#print(param_masked_Missi)"
   ]
  },
  {
   "cell_type": "markdown",
   "metadata": {},
   "source": [
    "### Missouri"
   ]
  },
  {
   "cell_type": "code",
   "execution_count": 44,
   "metadata": {},
   "outputs": [
    {
     "name": "stdout",
     "output_type": "stream",
     "text": [
      "C:/rezaul/1.academic/1.research/2.project/mrb/dt/shapeFile/mask/mrb_us/mask_missouri_us_CESM_longThree.nc\n"
     ]
    }
   ],
   "source": [
    "MaskFile_Missouri_to_load = 'C:/rezaul/1.academic/1.research/2.project/mrb/dt/shapeFile/mask/mrb_us/mask_missouri_us_CESM_longThree.nc'\n",
    "print(MaskFile_Missouri_to_load)"
   ]
  },
  {
   "cell_type": "code",
   "execution_count": 45,
   "metadata": {},
   "outputs": [
    {
     "name": "stdout",
     "output_type": "stream",
     "text": [
      "<xarray.DataArray 'Mask' (Lat: 32, Lon: 56)>\n",
      "array([[0, 0, 0, ..., 0, 0, 0],\n",
      "       [0, 0, 0, ..., 0, 0, 0],\n",
      "       [0, 0, 0, ..., 0, 0, 0],\n",
      "       ...,\n",
      "       [0, 0, 0, ..., 0, 0, 0],\n",
      "       [0, 0, 0, ..., 0, 0, 0],\n",
      "       [0, 0, 0, ..., 0, 0, 0]])\n",
      "Coordinates:\n",
      "  * Lat      (Lat) float32 24.97 25.92 26.86 27.8 ... 51.36 52.3 53.25 54.19\n",
      "  * Lon      (Lon) float32 230.0 231.2 232.5 233.8 ... 295.0 296.2 297.5 298.8\n"
     ]
    }
   ],
   "source": [
    "MaskFile_Missouri = xr.open_dataset(MaskFile_Missouri_to_load)['Mask']\n",
    "print(MaskFile_Missouri)"
   ]
  },
  {
   "cell_type": "code",
   "execution_count": 46,
   "metadata": {},
   "outputs": [
    {
     "name": "stdout",
     "output_type": "stream",
     "text": [
      "(2052, 32, 56, 50)\n"
     ]
    }
   ],
   "source": [
    "param_masked_Missouri = param_histSel_scen_ensMems_Us_xarray.where(MaskFile_Missouri>0)\n",
    "print(param_masked_Missouri.shape)\n",
    "#print(param_masked_Missouri)"
   ]
  },
  {
   "cell_type": "markdown",
   "metadata": {},
   "source": [
    "### Arkansas"
   ]
  },
  {
   "cell_type": "code",
   "execution_count": 47,
   "metadata": {},
   "outputs": [
    {
     "name": "stdout",
     "output_type": "stream",
     "text": [
      "C:/rezaul/1.academic/1.research/2.project/mrb/dt/shapeFile/mask/mrb_us/mask_arkansas_us_CESM_longThree.nc\n"
     ]
    }
   ],
   "source": [
    "MaskFile_Arkansas_to_load = 'C:/rezaul/1.academic/1.research/2.project/mrb/dt/shapeFile/mask/mrb_us/mask_arkansas_us_CESM_longThree.nc'\n",
    "print(MaskFile_Arkansas_to_load)"
   ]
  },
  {
   "cell_type": "code",
   "execution_count": 48,
   "metadata": {},
   "outputs": [
    {
     "name": "stdout",
     "output_type": "stream",
     "text": [
      "<xarray.DataArray 'Mask' (Lat: 32, Lon: 56)>\n",
      "array([[0, 0, 0, ..., 0, 0, 0],\n",
      "       [0, 0, 0, ..., 0, 0, 0],\n",
      "       [0, 0, 0, ..., 0, 0, 0],\n",
      "       ...,\n",
      "       [0, 0, 0, ..., 0, 0, 0],\n",
      "       [0, 0, 0, ..., 0, 0, 0],\n",
      "       [0, 0, 0, ..., 0, 0, 0]])\n",
      "Coordinates:\n",
      "  * Lat      (Lat) float32 24.97 25.92 26.86 27.8 ... 51.36 52.3 53.25 54.19\n",
      "  * Lon      (Lon) float32 230.0 231.2 232.5 233.8 ... 295.0 296.2 297.5 298.8\n"
     ]
    }
   ],
   "source": [
    "MaskFile_Arkansas = xr.open_dataset(MaskFile_Arkansas_to_load)['Mask']\n",
    "print(MaskFile_Arkansas)"
   ]
  },
  {
   "cell_type": "code",
   "execution_count": 49,
   "metadata": {},
   "outputs": [
    {
     "name": "stdout",
     "output_type": "stream",
     "text": [
      "(2052, 32, 56, 50)\n"
     ]
    }
   ],
   "source": [
    "param_masked_Arkansas = param_histSel_scen_ensMems_Us_xarray.where(MaskFile_Arkansas>0)\n",
    "print(param_masked_Arkansas.shape)\n",
    "#print(param_masked_Arkansas)"
   ]
  },
  {
   "cell_type": "markdown",
   "metadata": {},
   "source": [
    "### Ohio"
   ]
  },
  {
   "cell_type": "code",
   "execution_count": 50,
   "metadata": {},
   "outputs": [
    {
     "name": "stdout",
     "output_type": "stream",
     "text": [
      "C:/rezaul/1.academic/1.research/2.project/mrb/dt/shapeFile/mask/mrb_us/mask_ohio_us_CESM_longThree.nc\n"
     ]
    }
   ],
   "source": [
    "MaskFile_Ohio_to_load = 'C:/rezaul/1.academic/1.research/2.project/mrb/dt/shapeFile/mask/mrb_us/mask_ohio_us_CESM_longThree.nc'\n",
    "print(MaskFile_Ohio_to_load)"
   ]
  },
  {
   "cell_type": "code",
   "execution_count": 51,
   "metadata": {},
   "outputs": [
    {
     "name": "stdout",
     "output_type": "stream",
     "text": [
      "<xarray.DataArray 'Mask' (Lat: 32, Lon: 56)>\n",
      "array([[0, 0, 0, ..., 0, 0, 0],\n",
      "       [0, 0, 0, ..., 0, 0, 0],\n",
      "       [0, 0, 0, ..., 0, 0, 0],\n",
      "       ...,\n",
      "       [0, 0, 0, ..., 0, 0, 0],\n",
      "       [0, 0, 0, ..., 0, 0, 0],\n",
      "       [0, 0, 0, ..., 0, 0, 0]])\n",
      "Coordinates:\n",
      "  * Lat      (Lat) float32 24.97 25.92 26.86 27.8 ... 51.36 52.3 53.25 54.19\n",
      "  * Lon      (Lon) float32 230.0 231.2 232.5 233.8 ... 295.0 296.2 297.5 298.8\n"
     ]
    }
   ],
   "source": [
    "MaskFile_Ohio = xr.open_dataset(MaskFile_Ohio_to_load)['Mask']\n",
    "print(MaskFile_Ohio)"
   ]
  },
  {
   "cell_type": "code",
   "execution_count": 52,
   "metadata": {},
   "outputs": [
    {
     "name": "stdout",
     "output_type": "stream",
     "text": [
      "(2052, 32, 56, 50)\n"
     ]
    }
   ],
   "source": [
    "param_masked_Ohio = param_histSel_scen_ensMems_Us_xarray.where(MaskFile_Ohio>0)\n",
    "print(param_masked_Ohio.shape)\n",
    "#print(param_masked_Ohio)"
   ]
  },
  {
   "cell_type": "markdown",
   "metadata": {},
   "source": [
    "### Lower Mississippi River Basin"
   ]
  },
  {
   "cell_type": "code",
   "execution_count": 53,
   "metadata": {},
   "outputs": [
    {
     "name": "stdout",
     "output_type": "stream",
     "text": [
      "(2052, 32, 56, 50)\n"
     ]
    }
   ],
   "source": [
    "print(param_histSel_scen_ensMems_Us_xarray.shape)"
   ]
  },
  {
   "cell_type": "code",
   "execution_count": 54,
   "metadata": {},
   "outputs": [
    {
     "name": "stdout",
     "output_type": "stream",
     "text": [
      "(2052, 7, 2, 50)\n"
     ]
    }
   ],
   "source": [
    "param_masked_lowMissi = param_histSel_scen_ensMems_Us_xarray.sel(Lat=slice(30.,37.), Lon = slice(268., 271.))\n",
    "print(param_masked_lowMissi.shape)"
   ]
  },
  {
   "cell_type": "code",
   "execution_count": 55,
   "metadata": {},
   "outputs": [
    {
     "name": "stdout",
     "output_type": "stream",
     "text": [
      "(2052, 7, 2)\n"
     ]
    }
   ],
   "source": [
    "param_masked_ensMean_lowMissi = np.nanmean(param_masked_lowMissi, axis = 3)\n",
    "print(param_masked_ensMean_lowMissi.shape)"
   ]
  },
  {
   "cell_type": "code",
   "execution_count": 56,
   "metadata": {},
   "outputs": [
    {
     "name": "stdout",
     "output_type": "stream",
     "text": [
      "(2052,)\n"
     ]
    }
   ],
   "source": [
    "param_masked_ensMean_basinAvg_lowMissi = np.nanmean(param_masked_ensMean_lowMissi, axis=(1,2))\n",
    "print(param_masked_ensMean_basinAvg_lowMissi.shape)"
   ]
  },
  {
   "cell_type": "code",
   "execution_count": null,
   "metadata": {},
   "outputs": [],
   "source": []
  },
  {
   "cell_type": "code",
   "execution_count": null,
   "metadata": {},
   "outputs": [],
   "source": []
  },
  {
   "cell_type": "markdown",
   "metadata": {},
   "source": [
    "## The masked rasters for different basins"
   ]
  },
  {
   "cell_type": "code",
   "execution_count": 57,
   "metadata": {},
   "outputs": [
    {
     "name": "stdout",
     "output_type": "stream",
     "text": [
      "(2052, 32, 56, 50)\n",
      "(2052, 32, 56, 50)\n",
      "(2052, 32, 56, 50)\n",
      "(2052, 32, 56, 50)\n",
      "\n",
      "(2052, 7, 2, 50)\n"
     ]
    }
   ],
   "source": [
    "print(param_masked_Missi.shape)\n",
    "print(param_masked_Missouri.shape)\n",
    "print(param_masked_Arkansas.shape)\n",
    "print(param_masked_Ohio.shape)\n",
    "print('')\n",
    "print(param_masked_lowMissi.shape)"
   ]
  },
  {
   "cell_type": "code",
   "execution_count": null,
   "metadata": {},
   "outputs": [],
   "source": []
  },
  {
   "cell_type": "markdown",
   "metadata": {},
   "source": [
    "## Time series for basin-average Param value: Monthly resolution"
   ]
  },
  {
   "cell_type": "code",
   "execution_count": 58,
   "metadata": {},
   "outputs": [
    {
     "name": "stdout",
     "output_type": "stream",
     "text": [
      "(2052, 50)\n"
     ]
    }
   ],
   "source": [
    "param_masked_ensMem_basinAvg_Missi = np.nanmean(param_masked_Missi, axis=(1,2))\n",
    "print(param_masked_ensMem_basinAvg_Missi.shape)"
   ]
  },
  {
   "cell_type": "code",
   "execution_count": 59,
   "metadata": {},
   "outputs": [
    {
     "name": "stdout",
     "output_type": "stream",
     "text": [
      "(2052, 50)\n"
     ]
    }
   ],
   "source": [
    "param_masked_ensMem_basinAvg_Missouri = np.nanmean(param_masked_Missouri, axis=(1,2))\n",
    "print(param_masked_ensMem_basinAvg_Missouri.shape)"
   ]
  },
  {
   "cell_type": "code",
   "execution_count": 60,
   "metadata": {},
   "outputs": [
    {
     "name": "stdout",
     "output_type": "stream",
     "text": [
      "(2052, 50)\n"
     ]
    }
   ],
   "source": [
    "param_masked_ensMem_basinAvg_Arkansas = np.nanmean(param_masked_Arkansas, axis=(1,2))\n",
    "print(param_masked_ensMem_basinAvg_Arkansas.shape)"
   ]
  },
  {
   "cell_type": "code",
   "execution_count": 61,
   "metadata": {},
   "outputs": [
    {
     "name": "stdout",
     "output_type": "stream",
     "text": [
      "(2052, 50)\n"
     ]
    }
   ],
   "source": [
    "param_masked_ensMem_basinAvg_Ohio = np.nanmean(param_masked_Ohio, axis=(1,2))\n",
    "print(param_masked_ensMem_basinAvg_Ohio.shape)"
   ]
  },
  {
   "cell_type": "code",
   "execution_count": 62,
   "metadata": {},
   "outputs": [
    {
     "name": "stdout",
     "output_type": "stream",
     "text": [
      "(2052, 50)\n"
     ]
    }
   ],
   "source": [
    "param_masked_ensMem_basinAvg_lowMissi = np.nanmean(param_masked_lowMissi, axis=(1,2))\n",
    "print(param_masked_ensMem_basinAvg_lowMissi.shape)"
   ]
  },
  {
   "cell_type": "code",
   "execution_count": null,
   "metadata": {},
   "outputs": [],
   "source": []
  },
  {
   "cell_type": "markdown",
   "metadata": {},
   "source": [
    "## Ensemble Mean"
   ]
  },
  {
   "cell_type": "code",
   "execution_count": 63,
   "metadata": {},
   "outputs": [
    {
     "name": "stdout",
     "output_type": "stream",
     "text": [
      "(2052,)\n",
      "[51.54646862 51.66520934 58.95606332 ... 50.779775   64.75033688\n",
      " 66.51196693]\n"
     ]
    }
   ],
   "source": [
    "param_masked_ensMean_basinAvg_Missi = np.nanmean(param_masked_ensMem_basinAvg_Missi, axis =1)\n",
    "print(param_masked_ensMean_basinAvg_Missi.shape)\n",
    "print(param_masked_ensMean_basinAvg_Missi)\n"
   ]
  },
  {
   "cell_type": "code",
   "execution_count": 64,
   "metadata": {},
   "outputs": [
    {
     "name": "stdout",
     "output_type": "stream",
     "text": [
      "(2052,)\n",
      "[27.34115757 27.44920615 33.53488854 ... 34.78054992 39.22076002\n",
      " 35.3271365 ]\n"
     ]
    }
   ],
   "source": [
    "param_masked_ensMean_basinAvg_Missouri = np.nanmean(param_masked_ensMem_basinAvg_Missouri, axis =1)\n",
    "print(param_masked_ensMean_basinAvg_Missouri.shape)\n",
    "print(param_masked_ensMean_basinAvg_Missouri)\n"
   ]
  },
  {
   "cell_type": "code",
   "execution_count": 65,
   "metadata": {},
   "outputs": [
    {
     "name": "stdout",
     "output_type": "stream",
     "text": [
      "(2052,)\n",
      "[45.77816042 52.8953356  55.01010673 ... 47.09226295 53.07093668\n",
      " 52.98572102]\n"
     ]
    }
   ],
   "source": [
    "param_masked_ensMean_basinAvg_Arkansas = np.nanmean(param_masked_ensMem_basinAvg_Arkansas, axis =1)\n",
    "print(param_masked_ensMean_basinAvg_Arkansas.shape)\n",
    "print(param_masked_ensMean_basinAvg_Arkansas)\n"
   ]
  },
  {
   "cell_type": "code",
   "execution_count": 66,
   "metadata": {},
   "outputs": [
    {
     "name": "stdout",
     "output_type": "stream",
     "text": [
      "(2052,)\n",
      "[109.6756834   99.40381857 115.74808547 ...  79.50836331 129.52854612\n",
      " 144.10041449]\n"
     ]
    }
   ],
   "source": [
    "param_masked_ensMean_basinAvg_Ohio = np.nanmean(param_masked_ensMem_basinAvg_Ohio, axis =1)\n",
    "print(param_masked_ensMean_basinAvg_Ohio.shape)\n",
    "print(param_masked_ensMean_basinAvg_Ohio)\n"
   ]
  },
  {
   "cell_type": "code",
   "execution_count": 67,
   "metadata": {},
   "outputs": [
    {
     "name": "stdout",
     "output_type": "stream",
     "text": [
      "(2052,)\n",
      "[106.76868651 106.61268857 118.55483639 ...  76.12450022 112.37746711\n",
      " 131.90343644]\n"
     ]
    }
   ],
   "source": [
    "param_masked_ensMean_basinAvg_lowMissi = np.nanmean(param_masked_ensMem_basinAvg_lowMissi, axis =1)\n",
    "print(param_masked_ensMean_basinAvg_lowMissi.shape)\n",
    "print(param_masked_ensMean_basinAvg_lowMissi)\n"
   ]
  },
  {
   "cell_type": "code",
   "execution_count": null,
   "metadata": {},
   "outputs": [],
   "source": []
  },
  {
   "cell_type": "code",
   "execution_count": null,
   "metadata": {},
   "outputs": [],
   "source": []
  },
  {
   "cell_type": "markdown",
   "metadata": {},
   "source": [
    "## Divide the time series into 4 Eras"
   ]
  },
  {
   "cell_type": "markdown",
   "metadata": {},
   "source": [
    "### The four time slots"
   ]
  },
  {
   "cell_type": "code",
   "execution_count": 68,
   "metadata": {},
   "outputs": [],
   "source": [
    "histYrSelSt = 1930\n",
    "\n",
    "refPeriodYrSt = 1971\n",
    "refPeriodYrEnd = 2000\n",
    "\n",
    "scenYrSt = 2015\n",
    "scenEraTwoYrSt = 2045\n",
    "scenEraThreeYrSt = 2075\n",
    "\n",
    "scenYrEnd = 2100\n",
    "#"
   ]
  },
  {
   "cell_type": "code",
   "execution_count": 69,
   "metadata": {},
   "outputs": [
    {
     "name": "stdout",
     "output_type": "stream",
     "text": [
      "12\n"
     ]
    }
   ],
   "source": [
    "nMonsPerYr = 12     \n",
    "print(nMonsPerYr)"
   ]
  },
  {
   "cell_type": "markdown",
   "metadata": {},
   "source": [
    "## Reference Period"
   ]
  },
  {
   "cell_type": "code",
   "execution_count": 70,
   "metadata": {},
   "outputs": [
    {
     "name": "stdout",
     "output_type": "stream",
     "text": [
      "492 852\n",
      "360\n"
     ]
    }
   ],
   "source": [
    "refPeriodStepSt = (refPeriodYrSt - histYrSelSt)*nMonsPerYr\n",
    "\n",
    "refPeriodStepEnd = (refPeriodYrEnd - histYrSelSt + 1)*nMonsPerYr\n",
    "print(refPeriodStepSt, refPeriodStepEnd)\n",
    "print(refPeriodStepEnd-refPeriodStepSt)"
   ]
  },
  {
   "cell_type": "markdown",
   "metadata": {},
   "source": [
    "## Era 1"
   ]
  },
  {
   "cell_type": "code",
   "execution_count": 71,
   "metadata": {},
   "outputs": [
    {
     "name": "stdout",
     "output_type": "stream",
     "text": [
      "1020 1380\n",
      "360\n"
     ]
    }
   ],
   "source": [
    "scenEraOneStepSt = (scenYrSt - histYrSelSt)*nMonsPerYr\n",
    "scenEraOneStepEnd = (scenEraTwoYrSt - histYrSelSt)*nMonsPerYr\n",
    "\n",
    "print(scenEraOneStepSt, scenEraOneStepEnd)\n",
    "print(scenEraOneStepEnd-scenEraOneStepSt)"
   ]
  },
  {
   "cell_type": "markdown",
   "metadata": {},
   "source": [
    "## Era 2"
   ]
  },
  {
   "cell_type": "code",
   "execution_count": 72,
   "metadata": {},
   "outputs": [
    {
     "name": "stdout",
     "output_type": "stream",
     "text": [
      "1380 1740\n",
      "360\n"
     ]
    }
   ],
   "source": [
    "scenEraTwoStepSt = (scenEraTwoYrSt - histYrSelSt)*nMonsPerYr\n",
    "scenEraTwoStepEnd = (scenEraThreeYrSt - histYrSelSt)*nMonsPerYr\n",
    "\n",
    "print(scenEraTwoStepSt, scenEraTwoStepEnd)\n",
    "print(scenEraTwoStepEnd-scenEraTwoStepSt)"
   ]
  },
  {
   "cell_type": "markdown",
   "metadata": {},
   "source": [
    "## Era 3"
   ]
  },
  {
   "cell_type": "code",
   "execution_count": 73,
   "metadata": {},
   "outputs": [
    {
     "name": "stdout",
     "output_type": "stream",
     "text": [
      "1740 2052\n",
      "312\n"
     ]
    }
   ],
   "source": [
    "scenEraThreeStepSt = (scenEraThreeYrSt - histYrSelSt)*12\n",
    "scenEraThreeStepEnd = (scenYrEnd - histYrSelSt + 1)*12\n",
    "\n",
    "print(scenEraThreeStepSt, scenEraThreeStepEnd)\n",
    "print(scenEraThreeStepEnd-scenEraThreeStepSt)"
   ]
  },
  {
   "cell_type": "code",
   "execution_count": null,
   "metadata": {},
   "outputs": [],
   "source": []
  },
  {
   "cell_type": "code",
   "execution_count": null,
   "metadata": {},
   "outputs": [],
   "source": []
  },
  {
   "cell_type": "markdown",
   "metadata": {},
   "source": [
    "### The Precip files for the sub-basins"
   ]
  },
  {
   "cell_type": "code",
   "execution_count": 74,
   "metadata": {},
   "outputs": [
    {
     "name": "stdout",
     "output_type": "stream",
     "text": [
      "(2052,)\n",
      "(2052,)\n",
      "(2052,)\n",
      "(2052,)\n",
      "(2052,)\n"
     ]
    }
   ],
   "source": [
    "print(param_masked_ensMean_basinAvg_Missi.shape)\n",
    "print(param_masked_ensMean_basinAvg_Missouri.shape)\n",
    "print(param_masked_ensMean_basinAvg_Arkansas.shape)\n",
    "print(param_masked_ensMean_basinAvg_Ohio.shape)\n",
    "print(param_masked_ensMean_basinAvg_lowMissi.shape)\n"
   ]
  },
  {
   "cell_type": "code",
   "execution_count": null,
   "metadata": {},
   "outputs": [],
   "source": []
  },
  {
   "cell_type": "markdown",
   "metadata": {},
   "source": [
    "### Mississippi at the 4 Eras"
   ]
  },
  {
   "cell_type": "code",
   "execution_count": 75,
   "metadata": {},
   "outputs": [
    {
     "name": "stdout",
     "output_type": "stream",
     "text": [
      "(360,)\n",
      "(30, 12)\n",
      "(12,)\n"
     ]
    }
   ],
   "source": [
    "precip_refPeriod_ensMean_mon_Missi = param_masked_ensMean_basinAvg_Missi[refPeriodStepSt:refPeriodStepEnd]\n",
    "print(precip_refPeriod_ensMean_mon_Missi.shape)\n",
    "\n",
    "precip_refPeriod_ensMean_mon_reshape_Missi=np.reshape(precip_refPeriod_ensMean_mon_Missi,(30,12))\n",
    "print(precip_refPeriod_ensMean_mon_reshape_Missi.shape)\n",
    "\n",
    "precip_refPeriod_ensMean_mon_clim_Missi = np.nanmean(precip_refPeriod_ensMean_mon_reshape_Missi, axis = 0)\n",
    "print(precip_refPeriod_ensMean_mon_clim_Missi.shape)\n"
   ]
  },
  {
   "cell_type": "code",
   "execution_count": 76,
   "metadata": {},
   "outputs": [
    {
     "name": "stdout",
     "output_type": "stream",
     "text": [
      "(360,)\n",
      "(30, 12)\n",
      "(12,)\n"
     ]
    }
   ],
   "source": [
    "precip_scenEraOne_ensMean_mon_Missi = param_masked_ensMean_basinAvg_Missi[scenEraOneStepSt:scenEraOneStepEnd]\n",
    "print(precip_scenEraOne_ensMean_mon_Missi.shape)\n",
    "\n",
    "precip_scenEraOne_ensMean_mon_reshape_Missi=np.reshape(precip_scenEraOne_ensMean_mon_Missi,(30,12))\n",
    "print(precip_scenEraOne_ensMean_mon_reshape_Missi.shape)\n",
    "\n",
    "precip_scenEraOne_ensMean_mon_clim_Missi = np.nanmean(precip_scenEraOne_ensMean_mon_reshape_Missi, axis = 0)\n",
    "print(precip_scenEraOne_ensMean_mon_clim_Missi.shape)\n"
   ]
  },
  {
   "cell_type": "code",
   "execution_count": 77,
   "metadata": {},
   "outputs": [
    {
     "name": "stdout",
     "output_type": "stream",
     "text": [
      "(360,)\n",
      "(30, 12)\n",
      "(12,)\n"
     ]
    }
   ],
   "source": [
    "precip_scenEraTwo_ensMean_mon_Missi = param_masked_ensMean_basinAvg_Missi[scenEraTwoStepSt:scenEraTwoStepEnd]\n",
    "print(precip_scenEraTwo_ensMean_mon_Missi.shape)\n",
    "\n",
    "precip_scenEraTwo_ensMean_mon_reshape_Missi=np.reshape(precip_scenEraTwo_ensMean_mon_Missi,(30,12))\n",
    "print(precip_scenEraTwo_ensMean_mon_reshape_Missi.shape)\n",
    "\n",
    "precip_scenEraTwo_ensMean_mon_clim_Missi = np.nanmean(precip_scenEraTwo_ensMean_mon_reshape_Missi, axis = 0)\n",
    "print(precip_scenEraTwo_ensMean_mon_clim_Missi.shape)\n"
   ]
  },
  {
   "cell_type": "code",
   "execution_count": 78,
   "metadata": {},
   "outputs": [
    {
     "name": "stdout",
     "output_type": "stream",
     "text": [
      "(312,)\n",
      "(26, 12)\n",
      "(12,)\n"
     ]
    }
   ],
   "source": [
    "precip_scenEraThree_ensMean_mon_Missi = param_masked_ensMean_basinAvg_Missi[scenEraThreeStepSt:scenEraThreeStepEnd]\n",
    "print(precip_scenEraThree_ensMean_mon_Missi.shape)\n",
    "\n",
    "precip_scenEraThree_ensMean_mon_reshape_Missi=np.reshape(precip_scenEraThree_ensMean_mon_Missi,(26,12))\n",
    "print(precip_scenEraThree_ensMean_mon_reshape_Missi.shape)\n",
    "\n",
    "precip_scenEraThree_ensMean_mon_clim_Missi = np.nanmean(precip_scenEraThree_ensMean_mon_reshape_Missi, axis = 0)\n",
    "print(precip_scenEraThree_ensMean_mon_clim_Missi.shape)\n"
   ]
  },
  {
   "cell_type": "code",
   "execution_count": null,
   "metadata": {},
   "outputs": [],
   "source": []
  },
  {
   "cell_type": "markdown",
   "metadata": {},
   "source": [
    "### Missouri at the 4 Eras"
   ]
  },
  {
   "cell_type": "code",
   "execution_count": 79,
   "metadata": {},
   "outputs": [
    {
     "name": "stdout",
     "output_type": "stream",
     "text": [
      "(360,)\n",
      "(30, 12)\n",
      "(12,)\n"
     ]
    }
   ],
   "source": [
    "precip_refPeriod_ensMean_mon_Missouri = param_masked_ensMean_basinAvg_Missouri[refPeriodStepSt:refPeriodStepEnd]\n",
    "print(precip_refPeriod_ensMean_mon_Missouri.shape)\n",
    "\n",
    "precip_refPeriod_ensMean_mon_reshape_Missouri=np.reshape(precip_refPeriod_ensMean_mon_Missouri,(30,12))\n",
    "print(precip_refPeriod_ensMean_mon_reshape_Missouri.shape)\n",
    "\n",
    "precip_refPeriod_ensMean_mon_clim_Missouri = np.nanmean(precip_refPeriod_ensMean_mon_reshape_Missouri, axis = 0)\n",
    "print(precip_refPeriod_ensMean_mon_clim_Missouri.shape)\n"
   ]
  },
  {
   "cell_type": "code",
   "execution_count": 80,
   "metadata": {},
   "outputs": [
    {
     "name": "stdout",
     "output_type": "stream",
     "text": [
      "(360,)\n",
      "(30, 12)\n",
      "(12,)\n"
     ]
    }
   ],
   "source": [
    "precip_scenEraOne_ensMean_mon_Missouri = param_masked_ensMean_basinAvg_Missouri[scenEraOneStepSt:scenEraOneStepEnd]\n",
    "print(precip_scenEraOne_ensMean_mon_Missouri.shape)\n",
    "\n",
    "precip_scenEraOne_ensMean_mon_reshape_Missouri=np.reshape(precip_scenEraOne_ensMean_mon_Missouri,(30,12))\n",
    "print(precip_scenEraOne_ensMean_mon_reshape_Missouri.shape)\n",
    "\n",
    "precip_scenEraOne_ensMean_mon_clim_Missouri = np.nanmean(precip_scenEraOne_ensMean_mon_reshape_Missouri, axis = 0)\n",
    "print(precip_scenEraOne_ensMean_mon_clim_Missouri.shape)\n"
   ]
  },
  {
   "cell_type": "code",
   "execution_count": 81,
   "metadata": {},
   "outputs": [
    {
     "name": "stdout",
     "output_type": "stream",
     "text": [
      "(360,)\n",
      "(30, 12)\n",
      "(12,)\n"
     ]
    }
   ],
   "source": [
    "precip_scenEraTwo_ensMean_mon_Missouri = param_masked_ensMean_basinAvg_Missouri[scenEraTwoStepSt:scenEraTwoStepEnd]\n",
    "print(precip_scenEraTwo_ensMean_mon_Missouri.shape)\n",
    "\n",
    "precip_scenEraTwo_ensMean_mon_reshape_Missouri=np.reshape(precip_scenEraTwo_ensMean_mon_Missouri,(30,12))\n",
    "print(precip_scenEraTwo_ensMean_mon_reshape_Missouri.shape)\n",
    "\n",
    "precip_scenEraTwo_ensMean_mon_clim_Missouri = np.nanmean(precip_scenEraTwo_ensMean_mon_reshape_Missouri, axis = 0)\n",
    "print(precip_scenEraTwo_ensMean_mon_clim_Missouri.shape)\n"
   ]
  },
  {
   "cell_type": "code",
   "execution_count": 82,
   "metadata": {},
   "outputs": [
    {
     "name": "stdout",
     "output_type": "stream",
     "text": [
      "(312,)\n",
      "(26, 12)\n",
      "(12,)\n"
     ]
    }
   ],
   "source": [
    "precip_scenEraThree_ensMean_mon_Missouri = param_masked_ensMean_basinAvg_Missouri[scenEraThreeStepSt:scenEraThreeStepEnd]\n",
    "print(precip_scenEraThree_ensMean_mon_Missouri.shape)\n",
    "\n",
    "precip_scenEraThree_ensMean_mon_reshape_Missouri=np.reshape(precip_scenEraThree_ensMean_mon_Missouri,(26,12))\n",
    "print(precip_scenEraThree_ensMean_mon_reshape_Missouri.shape)\n",
    "\n",
    "precip_scenEraThree_ensMean_mon_clim_Missouri = np.nanmean(precip_scenEraThree_ensMean_mon_reshape_Missouri, axis = 0)\n",
    "print(precip_scenEraThree_ensMean_mon_clim_Missouri.shape)\n"
   ]
  },
  {
   "cell_type": "code",
   "execution_count": null,
   "metadata": {},
   "outputs": [],
   "source": []
  },
  {
   "cell_type": "markdown",
   "metadata": {},
   "source": [
    "### Arkansas at the 4 Eras"
   ]
  },
  {
   "cell_type": "code",
   "execution_count": 83,
   "metadata": {},
   "outputs": [
    {
     "name": "stdout",
     "output_type": "stream",
     "text": [
      "(360,)\n",
      "(30, 12)\n",
      "(12,)\n"
     ]
    }
   ],
   "source": [
    "precip_refPeriod_ensMean_mon_Arkansas = param_masked_ensMean_basinAvg_Arkansas[refPeriodStepSt:refPeriodStepEnd]\n",
    "print(precip_refPeriod_ensMean_mon_Arkansas.shape)\n",
    "\n",
    "precip_refPeriod_ensMean_mon_reshape_Arkansas=np.reshape(precip_refPeriod_ensMean_mon_Arkansas,(30,12))\n",
    "print(precip_refPeriod_ensMean_mon_reshape_Arkansas.shape)\n",
    "\n",
    "precip_refPeriod_ensMean_mon_clim_Arkansas = np.nanmean(precip_refPeriod_ensMean_mon_reshape_Arkansas, axis = 0)\n",
    "print(precip_refPeriod_ensMean_mon_clim_Arkansas.shape)\n"
   ]
  },
  {
   "cell_type": "code",
   "execution_count": 84,
   "metadata": {},
   "outputs": [
    {
     "name": "stdout",
     "output_type": "stream",
     "text": [
      "(360,)\n",
      "(30, 12)\n",
      "(12,)\n"
     ]
    }
   ],
   "source": [
    "precip_scenEraOne_ensMean_mon_Arkansas = param_masked_ensMean_basinAvg_Arkansas[scenEraOneStepSt:scenEraOneStepEnd]\n",
    "print(precip_scenEraOne_ensMean_mon_Arkansas.shape)\n",
    "\n",
    "precip_scenEraOne_ensMean_mon_reshape_Arkansas=np.reshape(precip_scenEraOne_ensMean_mon_Arkansas,(30,12))\n",
    "print(precip_scenEraOne_ensMean_mon_reshape_Arkansas.shape)\n",
    "\n",
    "precip_scenEraOne_ensMean_mon_clim_Arkansas = np.nanmean(precip_scenEraOne_ensMean_mon_reshape_Arkansas, axis = 0)\n",
    "print(precip_scenEraOne_ensMean_mon_clim_Arkansas.shape)\n"
   ]
  },
  {
   "cell_type": "code",
   "execution_count": 85,
   "metadata": {},
   "outputs": [
    {
     "name": "stdout",
     "output_type": "stream",
     "text": [
      "(360,)\n",
      "(30, 12)\n",
      "(12,)\n"
     ]
    }
   ],
   "source": [
    "precip_scenEraTwo_ensMean_mon_Arkansas = param_masked_ensMean_basinAvg_Arkansas[scenEraTwoStepSt:scenEraTwoStepEnd]\n",
    "print(precip_scenEraTwo_ensMean_mon_Arkansas.shape)\n",
    "\n",
    "precip_scenEraTwo_ensMean_mon_reshape_Arkansas=np.reshape(precip_scenEraTwo_ensMean_mon_Arkansas,(30,12))\n",
    "print(precip_scenEraTwo_ensMean_mon_reshape_Arkansas.shape)\n",
    "\n",
    "precip_scenEraTwo_ensMean_mon_clim_Arkansas = np.nanmean(precip_scenEraTwo_ensMean_mon_reshape_Arkansas, axis = 0)\n",
    "print(precip_scenEraTwo_ensMean_mon_clim_Arkansas.shape)\n"
   ]
  },
  {
   "cell_type": "code",
   "execution_count": 86,
   "metadata": {},
   "outputs": [
    {
     "name": "stdout",
     "output_type": "stream",
     "text": [
      "(312,)\n",
      "(26, 12)\n",
      "(12,)\n"
     ]
    }
   ],
   "source": [
    "precip_scenEraThree_ensMean_mon_Arkansas = param_masked_ensMean_basinAvg_Arkansas[scenEraThreeStepSt:scenEraThreeStepEnd]\n",
    "print(precip_scenEraThree_ensMean_mon_Arkansas.shape)\n",
    "\n",
    "precip_scenEraThree_ensMean_mon_reshape_Arkansas=np.reshape(precip_scenEraThree_ensMean_mon_Arkansas,(26,12))\n",
    "print(precip_scenEraThree_ensMean_mon_reshape_Arkansas.shape)\n",
    "\n",
    "precip_scenEraThree_ensMean_mon_clim_Arkansas = np.nanmean(precip_scenEraThree_ensMean_mon_reshape_Arkansas, axis = 0)\n",
    "print(precip_scenEraThree_ensMean_mon_clim_Arkansas.shape)\n"
   ]
  },
  {
   "cell_type": "code",
   "execution_count": null,
   "metadata": {},
   "outputs": [],
   "source": []
  },
  {
   "cell_type": "markdown",
   "metadata": {},
   "source": [
    "### Ohio at the 4 Eras"
   ]
  },
  {
   "cell_type": "code",
   "execution_count": 87,
   "metadata": {},
   "outputs": [
    {
     "name": "stdout",
     "output_type": "stream",
     "text": [
      "(360,)\n",
      "(30, 12)\n",
      "(12,)\n"
     ]
    }
   ],
   "source": [
    "precip_refPeriod_ensMean_mon_Ohio = param_masked_ensMean_basinAvg_Ohio[refPeriodStepSt:refPeriodStepEnd]\n",
    "print(precip_refPeriod_ensMean_mon_Ohio.shape)\n",
    "\n",
    "precip_refPeriod_ensMean_mon_reshape_Ohio=np.reshape(precip_refPeriod_ensMean_mon_Ohio,(30,12))\n",
    "print(precip_refPeriod_ensMean_mon_reshape_Ohio.shape)\n",
    "\n",
    "precip_refPeriod_ensMean_mon_clim_Ohio = np.nanmean(precip_refPeriod_ensMean_mon_reshape_Ohio, axis = 0)\n",
    "print(precip_refPeriod_ensMean_mon_clim_Ohio.shape)\n"
   ]
  },
  {
   "cell_type": "code",
   "execution_count": 88,
   "metadata": {},
   "outputs": [
    {
     "name": "stdout",
     "output_type": "stream",
     "text": [
      "(360,)\n",
      "(30, 12)\n",
      "(12,)\n"
     ]
    }
   ],
   "source": [
    "precip_scenEraOne_ensMean_mon_Ohio = param_masked_ensMean_basinAvg_Ohio[scenEraOneStepSt:scenEraOneStepEnd]\n",
    "print(precip_scenEraOne_ensMean_mon_Ohio.shape)\n",
    "\n",
    "precip_scenEraOne_ensMean_mon_reshape_Ohio=np.reshape(precip_scenEraOne_ensMean_mon_Ohio,(30,12))\n",
    "print(precip_scenEraOne_ensMean_mon_reshape_Ohio.shape)\n",
    "\n",
    "precip_scenEraOne_ensMean_mon_clim_Ohio = np.nanmean(precip_scenEraOne_ensMean_mon_reshape_Ohio, axis = 0)\n",
    "print(precip_scenEraOne_ensMean_mon_clim_Ohio.shape)\n"
   ]
  },
  {
   "cell_type": "code",
   "execution_count": 89,
   "metadata": {},
   "outputs": [
    {
     "name": "stdout",
     "output_type": "stream",
     "text": [
      "(360,)\n",
      "(30, 12)\n",
      "(12,)\n"
     ]
    }
   ],
   "source": [
    "precip_scenEraTwo_ensMean_mon_Ohio = param_masked_ensMean_basinAvg_Ohio[scenEraTwoStepSt:scenEraTwoStepEnd]\n",
    "print(precip_scenEraTwo_ensMean_mon_Ohio.shape)\n",
    "\n",
    "precip_scenEraTwo_ensMean_mon_reshape_Ohio=np.reshape(precip_scenEraTwo_ensMean_mon_Ohio,(30,12))\n",
    "print(precip_scenEraTwo_ensMean_mon_reshape_Ohio.shape)\n",
    "\n",
    "precip_scenEraTwo_ensMean_mon_clim_Ohio = np.nanmean(precip_scenEraTwo_ensMean_mon_reshape_Ohio, axis = 0)\n",
    "print(precip_scenEraTwo_ensMean_mon_clim_Ohio.shape)\n"
   ]
  },
  {
   "cell_type": "code",
   "execution_count": 90,
   "metadata": {},
   "outputs": [
    {
     "name": "stdout",
     "output_type": "stream",
     "text": [
      "(312,)\n",
      "(26, 12)\n",
      "(12,)\n"
     ]
    }
   ],
   "source": [
    "precip_scenEraThree_ensMean_mon_Ohio = param_masked_ensMean_basinAvg_Ohio[scenEraThreeStepSt:scenEraThreeStepEnd]\n",
    "print(precip_scenEraThree_ensMean_mon_Ohio.shape)\n",
    "\n",
    "precip_scenEraThree_ensMean_mon_reshape_Ohio=np.reshape(precip_scenEraThree_ensMean_mon_Ohio,(26,12))\n",
    "print(precip_scenEraThree_ensMean_mon_reshape_Ohio.shape)\n",
    "\n",
    "precip_scenEraThree_ensMean_mon_clim_Ohio = np.nanmean(precip_scenEraThree_ensMean_mon_reshape_Ohio, axis = 0)\n",
    "print(precip_scenEraThree_ensMean_mon_clim_Ohio.shape)\n"
   ]
  },
  {
   "cell_type": "code",
   "execution_count": null,
   "metadata": {},
   "outputs": [],
   "source": []
  },
  {
   "cell_type": "markdown",
   "metadata": {},
   "source": [
    "### Lower Mississippi at the 4 Eras\n"
   ]
  },
  {
   "cell_type": "code",
   "execution_count": 91,
   "metadata": {},
   "outputs": [
    {
     "name": "stdout",
     "output_type": "stream",
     "text": [
      "(360,)\n",
      "(30, 12)\n",
      "(12,)\n"
     ]
    }
   ],
   "source": [
    "precip_refPeriod_ensMean_mon_lowMissi = param_masked_ensMean_basinAvg_lowMissi[refPeriodStepSt:refPeriodStepEnd]\n",
    "print(precip_refPeriod_ensMean_mon_lowMissi.shape)\n",
    "\n",
    "precip_refPeriod_ensMean_mon_reshape_lowMissi=np.reshape(precip_refPeriod_ensMean_mon_lowMissi,(30,12))\n",
    "print(precip_refPeriod_ensMean_mon_reshape_lowMissi.shape)\n",
    "\n",
    "precip_refPeriod_ensMean_mon_clim_lowMissi = np.nanmean(precip_refPeriod_ensMean_mon_reshape_lowMissi, axis = 0)\n",
    "print(precip_refPeriod_ensMean_mon_clim_lowMissi.shape)\n"
   ]
  },
  {
   "cell_type": "code",
   "execution_count": 92,
   "metadata": {},
   "outputs": [
    {
     "name": "stdout",
     "output_type": "stream",
     "text": [
      "(360,)\n",
      "(30, 12)\n",
      "(12,)\n"
     ]
    }
   ],
   "source": [
    "precip_scenEraOne_ensMean_mon_lowMissi = param_masked_ensMean_basinAvg_lowMissi[scenEraOneStepSt:scenEraOneStepEnd]\n",
    "print(precip_scenEraOne_ensMean_mon_lowMissi.shape)\n",
    "\n",
    "precip_scenEraOne_ensMean_mon_reshape_lowMissi=np.reshape(precip_scenEraOne_ensMean_mon_lowMissi,(30,12))\n",
    "print(precip_scenEraOne_ensMean_mon_reshape_lowMissi.shape)\n",
    "\n",
    "precip_scenEraOne_ensMean_mon_clim_lowMissi = np.nanmean(precip_scenEraOne_ensMean_mon_reshape_lowMissi, axis = 0)\n",
    "print(precip_scenEraOne_ensMean_mon_clim_lowMissi.shape)\n"
   ]
  },
  {
   "cell_type": "code",
   "execution_count": 93,
   "metadata": {},
   "outputs": [
    {
     "name": "stdout",
     "output_type": "stream",
     "text": [
      "(360,)\n",
      "(30, 12)\n",
      "(12,)\n"
     ]
    }
   ],
   "source": [
    "precip_scenEraTwo_ensMean_mon_lowMissi = param_masked_ensMean_basinAvg_lowMissi[scenEraTwoStepSt:scenEraTwoStepEnd]\n",
    "print(precip_scenEraTwo_ensMean_mon_lowMissi.shape)\n",
    "\n",
    "precip_scenEraTwo_ensMean_mon_reshape_lowMissi=np.reshape(precip_scenEraTwo_ensMean_mon_lowMissi,(30,12))\n",
    "print(precip_scenEraTwo_ensMean_mon_reshape_lowMissi.shape)\n",
    "\n",
    "precip_scenEraTwo_ensMean_mon_clim_lowMissi = np.nanmean(precip_scenEraTwo_ensMean_mon_reshape_lowMissi, axis = 0)\n",
    "print(precip_scenEraTwo_ensMean_mon_clim_lowMissi.shape)\n"
   ]
  },
  {
   "cell_type": "code",
   "execution_count": 94,
   "metadata": {},
   "outputs": [
    {
     "name": "stdout",
     "output_type": "stream",
     "text": [
      "(312,)\n",
      "(26, 12)\n",
      "(12,)\n"
     ]
    }
   ],
   "source": [
    "precip_scenEraThree_ensMean_mon_lowMissi = param_masked_ensMean_basinAvg_lowMissi[scenEraThreeStepSt:scenEraThreeStepEnd]\n",
    "print(precip_scenEraThree_ensMean_mon_lowMissi.shape)\n",
    "\n",
    "precip_scenEraThree_ensMean_mon_reshape_lowMissi=np.reshape(precip_scenEraThree_ensMean_mon_lowMissi,(26,12))\n",
    "print(precip_scenEraThree_ensMean_mon_reshape_lowMissi.shape)\n",
    "\n",
    "precip_scenEraThree_ensMean_mon_clim_lowMissi = np.nanmean(precip_scenEraThree_ensMean_mon_reshape_lowMissi, axis = 0)\n",
    "print(precip_scenEraThree_ensMean_mon_clim_lowMissi.shape)\n"
   ]
  },
  {
   "cell_type": "code",
   "execution_count": 95,
   "metadata": {},
   "outputs": [
    {
     "name": "stdout",
     "output_type": "stream",
     "text": [
      "('Jan', 'Feb', 'Mar', 'Apr', 'May', 'Jun', 'Jul', 'Aug', 'Sep', 'Oct', 'Nov', 'Dec')\n",
      "('10000', '15000', '20000', '25000', '30000', '35000', '40000')\n"
     ]
    }
   ],
   "source": [
    "monsStr = 'Jan','Feb','Mar','Apr','May','Jun','Jul', 'Aug', 'Sep','Oct', 'Nov', 'Dec'\n",
    "print(monsStr)\n",
    "\n",
    "dischStr = '10000','15000','20000','25000','30000','35000','40000'\n",
    "print(dischStr)\n"
   ]
  },
  {
   "cell_type": "code",
   "execution_count": null,
   "metadata": {},
   "outputs": [],
   "source": []
  },
  {
   "cell_type": "code",
   "execution_count": null,
   "metadata": {},
   "outputs": [],
   "source": []
  },
  {
   "cell_type": "markdown",
   "metadata": {},
   "source": [
    "## Loading data for the other parameters from the disk"
   ]
  },
  {
   "cell_type": "markdown",
   "metadata": {},
   "source": [
    "### ET"
   ]
  },
  {
   "cell_type": "code",
   "execution_count": 96,
   "metadata": {},
   "outputs": [
    {
     "name": "stdout",
     "output_type": "stream",
     "text": [
      "(2052,)\n",
      "(2052,)\n",
      "(2052,)\n",
      "(2052,)\n",
      "(2052,)\n"
     ]
    }
   ],
   "source": [
    "file_et_Missi = 'C:/rezaul/1.academic/1.research/2.project/mrb/dt/cesm/cesm2LE/param/et/mon/output/et_ensMean_Missi.npy'\n",
    "et_masked_ensMean_basinAvg_Missi = np.load(file_et_Missi)\n",
    "print(et_masked_ensMean_basinAvg_Missi.shape)\n",
    "\n",
    "file_et_Missouri = 'C:/rezaul/1.academic/1.research/2.project/mrb/dt/cesm/cesm2LE/param/et/mon/output/et_ensMean_Missouri.npy'\n",
    "et_masked_ensMean_basinAvg_Missouri = np.load(file_et_Missouri)\n",
    "print(et_masked_ensMean_basinAvg_Missouri.shape)\n",
    "\n",
    "file_et_Arkansas = 'C:/rezaul/1.academic/1.research/2.project/mrb/dt/cesm/cesm2LE/param/et/mon/output/et_ensMean_Arkansas.npy'\n",
    "et_masked_ensMean_basinAvg_Arkansas = np.load(file_et_Arkansas)\n",
    "print(et_masked_ensMean_basinAvg_Arkansas.shape)\n",
    "\n",
    "file_et_Ohio = 'C:/rezaul/1.academic/1.research/2.project/mrb/dt/cesm/cesm2LE/param/et/mon/output/et_ensMean_Ohio.npy'\n",
    "et_masked_ensMean_basinAvg_Ohio = np.load(file_et_Ohio)\n",
    "print(et_masked_ensMean_basinAvg_Ohio.shape)\n",
    "\n",
    "file_et_lowMissi = 'C:/rezaul/1.academic/1.research/2.project/mrb/dt/cesm/cesm2LE/param/et/mon/output/et_ensMean_lowMissi.npy'\n",
    "et_masked_ensMean_basinAvg_lowMissi = np.load(file_et_lowMissi)\n",
    "print(et_masked_ensMean_basinAvg_lowMissi.shape)\n",
    "\n"
   ]
  },
  {
   "cell_type": "markdown",
   "metadata": {},
   "source": [
    "### Mississippi at the 4 Eras"
   ]
  },
  {
   "cell_type": "code",
   "execution_count": 97,
   "metadata": {},
   "outputs": [
    {
     "name": "stdout",
     "output_type": "stream",
     "text": [
      "(360,)\n",
      "(30, 12)\n",
      "(12,)\n"
     ]
    }
   ],
   "source": [
    "et_refPeriod_ensMean_mon_Missi = et_masked_ensMean_basinAvg_Missi[refPeriodStepSt:refPeriodStepEnd]\n",
    "print(et_refPeriod_ensMean_mon_Missi.shape)\n",
    "\n",
    "et_refPeriod_ensMean_mon_reshape_Missi=np.reshape(et_refPeriod_ensMean_mon_Missi,(30,12))\n",
    "print(et_refPeriod_ensMean_mon_reshape_Missi.shape)\n",
    "\n",
    "et_refPeriod_ensMean_mon_clim_Missi = np.nanmean(et_refPeriod_ensMean_mon_reshape_Missi, axis = 0)\n",
    "print(et_refPeriod_ensMean_mon_clim_Missi.shape)\n"
   ]
  },
  {
   "cell_type": "code",
   "execution_count": 98,
   "metadata": {},
   "outputs": [
    {
     "name": "stdout",
     "output_type": "stream",
     "text": [
      "(360,)\n",
      "(30, 12)\n",
      "(12,)\n"
     ]
    }
   ],
   "source": [
    "et_scenEraOne_ensMean_mon_Missi = et_masked_ensMean_basinAvg_Missi[scenEraOneStepSt:scenEraOneStepEnd]\n",
    "print(et_scenEraOne_ensMean_mon_Missi.shape)\n",
    "\n",
    "et_scenEraOne_ensMean_mon_reshape_Missi=np.reshape(et_scenEraOne_ensMean_mon_Missi,(30,12))\n",
    "print(et_scenEraOne_ensMean_mon_reshape_Missi.shape)\n",
    "\n",
    "et_scenEraOne_ensMean_mon_clim_Missi = np.nanmean(et_scenEraOne_ensMean_mon_reshape_Missi, axis = 0)\n",
    "print(et_scenEraOne_ensMean_mon_clim_Missi.shape)\n"
   ]
  },
  {
   "cell_type": "code",
   "execution_count": 99,
   "metadata": {},
   "outputs": [
    {
     "name": "stdout",
     "output_type": "stream",
     "text": [
      "(360,)\n",
      "(30, 12)\n",
      "(12,)\n"
     ]
    }
   ],
   "source": [
    "et_scenEraTwo_ensMean_mon_Missi = et_masked_ensMean_basinAvg_Missi[scenEraTwoStepSt:scenEraTwoStepEnd]\n",
    "print(et_scenEraTwo_ensMean_mon_Missi.shape)\n",
    "\n",
    "et_scenEraTwo_ensMean_mon_reshape_Missi=np.reshape(et_scenEraTwo_ensMean_mon_Missi,(30,12))\n",
    "print(et_scenEraTwo_ensMean_mon_reshape_Missi.shape)\n",
    "\n",
    "et_scenEraTwo_ensMean_mon_clim_Missi = np.nanmean(et_scenEraTwo_ensMean_mon_reshape_Missi, axis = 0)\n",
    "print(et_scenEraTwo_ensMean_mon_clim_Missi.shape)\n"
   ]
  },
  {
   "cell_type": "code",
   "execution_count": 100,
   "metadata": {},
   "outputs": [
    {
     "name": "stdout",
     "output_type": "stream",
     "text": [
      "(312,)\n",
      "(26, 12)\n",
      "(12,)\n"
     ]
    }
   ],
   "source": [
    "et_scenEraThree_ensMean_mon_Missi = et_masked_ensMean_basinAvg_Missi[scenEraThreeStepSt:scenEraThreeStepEnd]\n",
    "print(et_scenEraThree_ensMean_mon_Missi.shape)\n",
    "\n",
    "et_scenEraThree_ensMean_mon_reshape_Missi=np.reshape(et_scenEraThree_ensMean_mon_Missi,(26,12))\n",
    "print(et_scenEraThree_ensMean_mon_reshape_Missi.shape)\n",
    "\n",
    "et_scenEraThree_ensMean_mon_clim_Missi = np.nanmean(et_scenEraThree_ensMean_mon_reshape_Missi, axis = 0)\n",
    "print(et_scenEraThree_ensMean_mon_clim_Missi.shape)\n"
   ]
  },
  {
   "cell_type": "markdown",
   "metadata": {},
   "source": [
    "### Missouri at the 4 Eras"
   ]
  },
  {
   "cell_type": "code",
   "execution_count": 101,
   "metadata": {},
   "outputs": [
    {
     "name": "stdout",
     "output_type": "stream",
     "text": [
      "(360,)\n",
      "(30, 12)\n",
      "(12,)\n"
     ]
    }
   ],
   "source": [
    "et_refPeriod_ensMean_mon_Missouri = et_masked_ensMean_basinAvg_Missouri[refPeriodStepSt:refPeriodStepEnd]\n",
    "print(et_refPeriod_ensMean_mon_Missouri.shape)\n",
    "\n",
    "et_refPeriod_ensMean_mon_reshape_Missouri=np.reshape(et_refPeriod_ensMean_mon_Missouri,(30,12))\n",
    "print(et_refPeriod_ensMean_mon_reshape_Missouri.shape)\n",
    "\n",
    "et_refPeriod_ensMean_mon_clim_Missouri = np.nanmean(et_refPeriod_ensMean_mon_reshape_Missouri, axis = 0)\n",
    "print(et_refPeriod_ensMean_mon_clim_Missouri.shape)\n"
   ]
  },
  {
   "cell_type": "code",
   "execution_count": 102,
   "metadata": {},
   "outputs": [
    {
     "name": "stdout",
     "output_type": "stream",
     "text": [
      "(360,)\n",
      "(30, 12)\n",
      "(12,)\n"
     ]
    }
   ],
   "source": [
    "et_scenEraOne_ensMean_mon_Missouri = et_masked_ensMean_basinAvg_Missouri[scenEraOneStepSt:scenEraOneStepEnd]\n",
    "print(et_scenEraOne_ensMean_mon_Missouri.shape)\n",
    "\n",
    "et_scenEraOne_ensMean_mon_reshape_Missouri=np.reshape(et_scenEraOne_ensMean_mon_Missouri,(30,12))\n",
    "print(et_scenEraOne_ensMean_mon_reshape_Missouri.shape)\n",
    "\n",
    "et_scenEraOne_ensMean_mon_clim_Missouri = np.nanmean(et_scenEraOne_ensMean_mon_reshape_Missouri, axis = 0)\n",
    "print(et_scenEraOne_ensMean_mon_clim_Missouri.shape)\n"
   ]
  },
  {
   "cell_type": "code",
   "execution_count": 103,
   "metadata": {},
   "outputs": [
    {
     "name": "stdout",
     "output_type": "stream",
     "text": [
      "(360,)\n",
      "(30, 12)\n",
      "(12,)\n"
     ]
    }
   ],
   "source": [
    "et_scenEraTwo_ensMean_mon_Missouri = et_masked_ensMean_basinAvg_Missouri[scenEraTwoStepSt:scenEraTwoStepEnd]\n",
    "print(et_scenEraTwo_ensMean_mon_Missouri.shape)\n",
    "\n",
    "et_scenEraTwo_ensMean_mon_reshape_Missouri=np.reshape(et_scenEraTwo_ensMean_mon_Missouri,(30,12))\n",
    "print(et_scenEraTwo_ensMean_mon_reshape_Missouri.shape)\n",
    "\n",
    "et_scenEraTwo_ensMean_mon_clim_Missouri = np.nanmean(et_scenEraTwo_ensMean_mon_reshape_Missouri, axis = 0)\n",
    "print(et_scenEraTwo_ensMean_mon_clim_Missouri.shape)\n"
   ]
  },
  {
   "cell_type": "code",
   "execution_count": 104,
   "metadata": {},
   "outputs": [
    {
     "name": "stdout",
     "output_type": "stream",
     "text": [
      "(312,)\n",
      "(26, 12)\n",
      "(12,)\n"
     ]
    }
   ],
   "source": [
    "et_scenEraThree_ensMean_mon_Missouri = et_masked_ensMean_basinAvg_Missouri[scenEraThreeStepSt:scenEraThreeStepEnd]\n",
    "print(et_scenEraThree_ensMean_mon_Missouri.shape)\n",
    "\n",
    "et_scenEraThree_ensMean_mon_reshape_Missouri=np.reshape(et_scenEraThree_ensMean_mon_Missouri,(26,12))\n",
    "print(et_scenEraThree_ensMean_mon_reshape_Missouri.shape)\n",
    "\n",
    "et_scenEraThree_ensMean_mon_clim_Missouri = np.nanmean(et_scenEraThree_ensMean_mon_reshape_Missouri, axis = 0)\n",
    "print(et_scenEraThree_ensMean_mon_clim_Missouri.shape)\n"
   ]
  },
  {
   "cell_type": "markdown",
   "metadata": {},
   "source": [
    "### Arkansas at the 4 Eras"
   ]
  },
  {
   "cell_type": "code",
   "execution_count": 105,
   "metadata": {},
   "outputs": [
    {
     "name": "stdout",
     "output_type": "stream",
     "text": [
      "(360,)\n",
      "(30, 12)\n",
      "(12,)\n"
     ]
    }
   ],
   "source": [
    "et_refPeriod_ensMean_mon_Arkansas = et_masked_ensMean_basinAvg_Arkansas[refPeriodStepSt:refPeriodStepEnd]\n",
    "print(et_refPeriod_ensMean_mon_Arkansas.shape)\n",
    "\n",
    "et_refPeriod_ensMean_mon_reshape_Arkansas=np.reshape(et_refPeriod_ensMean_mon_Arkansas,(30,12))\n",
    "print(et_refPeriod_ensMean_mon_reshape_Arkansas.shape)\n",
    "\n",
    "et_refPeriod_ensMean_mon_clim_Arkansas = np.nanmean(et_refPeriod_ensMean_mon_reshape_Arkansas, axis = 0)\n",
    "print(et_refPeriod_ensMean_mon_clim_Arkansas.shape)\n"
   ]
  },
  {
   "cell_type": "code",
   "execution_count": 106,
   "metadata": {},
   "outputs": [
    {
     "name": "stdout",
     "output_type": "stream",
     "text": [
      "(360,)\n",
      "(30, 12)\n",
      "(12,)\n"
     ]
    }
   ],
   "source": [
    "et_scenEraOne_ensMean_mon_Arkansas = et_masked_ensMean_basinAvg_Arkansas[scenEraOneStepSt:scenEraOneStepEnd]\n",
    "print(et_scenEraOne_ensMean_mon_Arkansas.shape)\n",
    "\n",
    "et_scenEraOne_ensMean_mon_reshape_Arkansas=np.reshape(et_scenEraOne_ensMean_mon_Arkansas,(30,12))\n",
    "print(et_scenEraOne_ensMean_mon_reshape_Arkansas.shape)\n",
    "\n",
    "et_scenEraOne_ensMean_mon_clim_Arkansas = np.nanmean(et_scenEraOne_ensMean_mon_reshape_Arkansas, axis = 0)\n",
    "print(et_scenEraOne_ensMean_mon_clim_Arkansas.shape)\n"
   ]
  },
  {
   "cell_type": "code",
   "execution_count": 107,
   "metadata": {},
   "outputs": [
    {
     "name": "stdout",
     "output_type": "stream",
     "text": [
      "(360,)\n",
      "(30, 12)\n",
      "(12,)\n"
     ]
    }
   ],
   "source": [
    "et_scenEraTwo_ensMean_mon_Arkansas = et_masked_ensMean_basinAvg_Arkansas[scenEraTwoStepSt:scenEraTwoStepEnd]\n",
    "print(et_scenEraTwo_ensMean_mon_Arkansas.shape)\n",
    "\n",
    "et_scenEraTwo_ensMean_mon_reshape_Arkansas=np.reshape(et_scenEraTwo_ensMean_mon_Arkansas,(30,12))\n",
    "print(et_scenEraTwo_ensMean_mon_reshape_Arkansas.shape)\n",
    "\n",
    "et_scenEraTwo_ensMean_mon_clim_Arkansas = np.nanmean(et_scenEraTwo_ensMean_mon_reshape_Arkansas, axis = 0)\n",
    "print(et_scenEraTwo_ensMean_mon_clim_Arkansas.shape)\n"
   ]
  },
  {
   "cell_type": "code",
   "execution_count": 108,
   "metadata": {},
   "outputs": [
    {
     "name": "stdout",
     "output_type": "stream",
     "text": [
      "(312,)\n",
      "(26, 12)\n",
      "(12,)\n"
     ]
    }
   ],
   "source": [
    "et_scenEraThree_ensMean_mon_Arkansas = et_masked_ensMean_basinAvg_Arkansas[scenEraThreeStepSt:scenEraThreeStepEnd]\n",
    "print(et_scenEraThree_ensMean_mon_Arkansas.shape)\n",
    "\n",
    "et_scenEraThree_ensMean_mon_reshape_Arkansas=np.reshape(et_scenEraThree_ensMean_mon_Arkansas,(26,12))\n",
    "print(et_scenEraThree_ensMean_mon_reshape_Arkansas.shape)\n",
    "\n",
    "et_scenEraThree_ensMean_mon_clim_Arkansas = np.nanmean(et_scenEraThree_ensMean_mon_reshape_Arkansas, axis = 0)\n",
    "print(et_scenEraThree_ensMean_mon_clim_Arkansas.shape)\n"
   ]
  },
  {
   "cell_type": "markdown",
   "metadata": {},
   "source": [
    "### Ohio at the 4 Eras"
   ]
  },
  {
   "cell_type": "code",
   "execution_count": 109,
   "metadata": {},
   "outputs": [
    {
     "name": "stdout",
     "output_type": "stream",
     "text": [
      "(360,)\n",
      "(30, 12)\n",
      "(12,)\n"
     ]
    }
   ],
   "source": [
    "et_refPeriod_ensMean_mon_Ohio = et_masked_ensMean_basinAvg_Ohio[refPeriodStepSt:refPeriodStepEnd]\n",
    "print(et_refPeriod_ensMean_mon_Ohio.shape)\n",
    "\n",
    "et_refPeriod_ensMean_mon_reshape_Ohio=np.reshape(et_refPeriod_ensMean_mon_Ohio,(30,12))\n",
    "print(et_refPeriod_ensMean_mon_reshape_Ohio.shape)\n",
    "\n",
    "et_refPeriod_ensMean_mon_clim_Ohio = np.nanmean(et_refPeriod_ensMean_mon_reshape_Ohio, axis = 0)\n",
    "print(et_refPeriod_ensMean_mon_clim_Ohio.shape)\n"
   ]
  },
  {
   "cell_type": "code",
   "execution_count": 110,
   "metadata": {},
   "outputs": [
    {
     "name": "stdout",
     "output_type": "stream",
     "text": [
      "(360,)\n",
      "(30, 12)\n",
      "(12,)\n"
     ]
    }
   ],
   "source": [
    "et_scenEraOne_ensMean_mon_Ohio = et_masked_ensMean_basinAvg_Ohio[scenEraOneStepSt:scenEraOneStepEnd]\n",
    "print(et_scenEraOne_ensMean_mon_Ohio.shape)\n",
    "\n",
    "et_scenEraOne_ensMean_mon_reshape_Ohio=np.reshape(et_scenEraOne_ensMean_mon_Ohio,(30,12))\n",
    "print(et_scenEraOne_ensMean_mon_reshape_Ohio.shape)\n",
    "\n",
    "et_scenEraOne_ensMean_mon_clim_Ohio = np.nanmean(et_scenEraOne_ensMean_mon_reshape_Ohio, axis = 0)\n",
    "print(et_scenEraOne_ensMean_mon_clim_Ohio.shape)\n"
   ]
  },
  {
   "cell_type": "code",
   "execution_count": 111,
   "metadata": {},
   "outputs": [
    {
     "name": "stdout",
     "output_type": "stream",
     "text": [
      "(360,)\n",
      "(30, 12)\n",
      "(12,)\n"
     ]
    }
   ],
   "source": [
    "et_scenEraTwo_ensMean_mon_Ohio = et_masked_ensMean_basinAvg_Ohio[scenEraTwoStepSt:scenEraTwoStepEnd]\n",
    "print(et_scenEraTwo_ensMean_mon_Ohio.shape)\n",
    "\n",
    "et_scenEraTwo_ensMean_mon_reshape_Ohio=np.reshape(et_scenEraTwo_ensMean_mon_Ohio,(30,12))\n",
    "print(et_scenEraTwo_ensMean_mon_reshape_Ohio.shape)\n",
    "\n",
    "et_scenEraTwo_ensMean_mon_clim_Ohio = np.nanmean(et_scenEraTwo_ensMean_mon_reshape_Ohio, axis = 0)\n",
    "print(et_scenEraTwo_ensMean_mon_clim_Ohio.shape)\n"
   ]
  },
  {
   "cell_type": "code",
   "execution_count": 112,
   "metadata": {},
   "outputs": [
    {
     "name": "stdout",
     "output_type": "stream",
     "text": [
      "(312,)\n",
      "(26, 12)\n",
      "(12,)\n"
     ]
    }
   ],
   "source": [
    "et_scenEraThree_ensMean_mon_Ohio = et_masked_ensMean_basinAvg_Ohio[scenEraThreeStepSt:scenEraThreeStepEnd]\n",
    "print(et_scenEraThree_ensMean_mon_Ohio.shape)\n",
    "\n",
    "et_scenEraThree_ensMean_mon_reshape_Ohio=np.reshape(et_scenEraThree_ensMean_mon_Ohio,(26,12))\n",
    "print(et_scenEraThree_ensMean_mon_reshape_Ohio.shape)\n",
    "\n",
    "et_scenEraThree_ensMean_mon_clim_Ohio = np.nanmean(et_scenEraThree_ensMean_mon_reshape_Ohio, axis = 0)\n",
    "print(et_scenEraThree_ensMean_mon_clim_Ohio.shape)\n"
   ]
  },
  {
   "cell_type": "markdown",
   "metadata": {},
   "source": [
    "### Lower Mississippi at the 4 Eras\n"
   ]
  },
  {
   "cell_type": "code",
   "execution_count": 113,
   "metadata": {},
   "outputs": [
    {
     "name": "stdout",
     "output_type": "stream",
     "text": [
      "(360,)\n",
      "(30, 12)\n",
      "(12,)\n"
     ]
    }
   ],
   "source": [
    "et_refPeriod_ensMean_mon_lowMissi = et_masked_ensMean_basinAvg_lowMissi[refPeriodStepSt:refPeriodStepEnd]\n",
    "print(et_refPeriod_ensMean_mon_lowMissi.shape)\n",
    "\n",
    "et_refPeriod_ensMean_mon_reshape_lowMissi=np.reshape(et_refPeriod_ensMean_mon_lowMissi,(30,12))\n",
    "print(et_refPeriod_ensMean_mon_reshape_lowMissi.shape)\n",
    "\n",
    "et_refPeriod_ensMean_mon_clim_lowMissi = np.nanmean(et_refPeriod_ensMean_mon_reshape_lowMissi, axis = 0)\n",
    "print(et_refPeriod_ensMean_mon_clim_lowMissi.shape)\n"
   ]
  },
  {
   "cell_type": "code",
   "execution_count": 114,
   "metadata": {},
   "outputs": [
    {
     "name": "stdout",
     "output_type": "stream",
     "text": [
      "(360,)\n",
      "(30, 12)\n",
      "(12,)\n"
     ]
    }
   ],
   "source": [
    "et_scenEraOne_ensMean_mon_lowMissi = et_masked_ensMean_basinAvg_lowMissi[scenEraOneStepSt:scenEraOneStepEnd]\n",
    "print(et_scenEraOne_ensMean_mon_lowMissi.shape)\n",
    "\n",
    "et_scenEraOne_ensMean_mon_reshape_lowMissi=np.reshape(et_scenEraOne_ensMean_mon_lowMissi,(30,12))\n",
    "print(et_scenEraOne_ensMean_mon_reshape_lowMissi.shape)\n",
    "\n",
    "et_scenEraOne_ensMean_mon_clim_lowMissi = np.nanmean(et_scenEraOne_ensMean_mon_reshape_lowMissi, axis = 0)\n",
    "print(et_scenEraOne_ensMean_mon_clim_lowMissi.shape)\n"
   ]
  },
  {
   "cell_type": "code",
   "execution_count": 115,
   "metadata": {},
   "outputs": [
    {
     "name": "stdout",
     "output_type": "stream",
     "text": [
      "(360,)\n",
      "(30, 12)\n",
      "(12,)\n"
     ]
    }
   ],
   "source": [
    "et_scenEraTwo_ensMean_mon_lowMissi = et_masked_ensMean_basinAvg_lowMissi[scenEraTwoStepSt:scenEraTwoStepEnd]\n",
    "print(et_scenEraTwo_ensMean_mon_lowMissi.shape)\n",
    "\n",
    "et_scenEraTwo_ensMean_mon_reshape_lowMissi=np.reshape(et_scenEraTwo_ensMean_mon_lowMissi,(30,12))\n",
    "print(et_scenEraTwo_ensMean_mon_reshape_lowMissi.shape)\n",
    "\n",
    "et_scenEraTwo_ensMean_mon_clim_lowMissi = np.nanmean(et_scenEraTwo_ensMean_mon_reshape_lowMissi, axis = 0)\n",
    "print(et_scenEraTwo_ensMean_mon_clim_lowMissi.shape)\n"
   ]
  },
  {
   "cell_type": "code",
   "execution_count": 116,
   "metadata": {},
   "outputs": [
    {
     "name": "stdout",
     "output_type": "stream",
     "text": [
      "(312,)\n",
      "(26, 12)\n",
      "(12,)\n"
     ]
    }
   ],
   "source": [
    "et_scenEraThree_ensMean_mon_lowMissi = et_masked_ensMean_basinAvg_lowMissi[scenEraThreeStepSt:scenEraThreeStepEnd]\n",
    "print(et_scenEraThree_ensMean_mon_lowMissi.shape)\n",
    "\n",
    "et_scenEraThree_ensMean_mon_reshape_lowMissi=np.reshape(et_scenEraThree_ensMean_mon_lowMissi,(26,12))\n",
    "print(et_scenEraThree_ensMean_mon_reshape_lowMissi.shape)\n",
    "\n",
    "et_scenEraThree_ensMean_mon_clim_lowMissi = np.nanmean(et_scenEraThree_ensMean_mon_reshape_lowMissi, axis = 0)\n",
    "print(et_scenEraThree_ensMean_mon_clim_lowMissi.shape)\n"
   ]
  },
  {
   "cell_type": "code",
   "execution_count": null,
   "metadata": {},
   "outputs": [],
   "source": []
  },
  {
   "cell_type": "code",
   "execution_count": null,
   "metadata": {},
   "outputs": [],
   "source": []
  },
  {
   "cell_type": "markdown",
   "metadata": {},
   "source": [
    "## Snow Melt"
   ]
  },
  {
   "cell_type": "code",
   "execution_count": 117,
   "metadata": {},
   "outputs": [
    {
     "name": "stdout",
     "output_type": "stream",
     "text": [
      "(2052,)\n",
      "(2052,)\n",
      "(2052,)\n",
      "(2052,)\n",
      "(2052,)\n"
     ]
    }
   ],
   "source": [
    "file_snowMelt_Missi = 'C:/rezaul/1.academic/1.research/2.project/mrb/dt/cesm/cesm2LE/param/snowMelt/mon/output/snowMelt_ensMean_Missi.npy'\n",
    "snowMelt_masked_ensMean_basinAvg_Missi = np.load(file_snowMelt_Missi)\n",
    "print(snowMelt_masked_ensMean_basinAvg_Missi.shape)\n",
    "\n",
    "file_snowMelt_Missouri = 'C:/rezaul/1.academic/1.research/2.project/mrb/dt/cesm/cesm2LE/param/snowMelt/mon/output/snowMelt_ensMean_Missouri.npy'\n",
    "snowMelt_masked_ensMean_basinAvg_Missouri = np.load(file_snowMelt_Missouri)\n",
    "print(snowMelt_masked_ensMean_basinAvg_Missouri.shape)\n",
    "\n",
    "file_snowMelt_Arkansas = 'C:/rezaul/1.academic/1.research/2.project/mrb/dt/cesm/cesm2LE/param/snowMelt/mon/output/snowMelt_ensMean_Arkansas.npy'\n",
    "snowMelt_masked_ensMean_basinAvg_Arkansas = np.load(file_snowMelt_Arkansas)\n",
    "print(snowMelt_masked_ensMean_basinAvg_Arkansas.shape)\n",
    "\n",
    "file_snowMelt_Ohio = 'C:/rezaul/1.academic/1.research/2.project/mrb/dt/cesm/cesm2LE/param/snowMelt/mon/output/snowMelt_ensMean_Ohio.npy'\n",
    "snowMelt_masked_ensMean_basinAvg_Ohio = np.load(file_snowMelt_Ohio)\n",
    "print(snowMelt_masked_ensMean_basinAvg_Ohio.shape)\n",
    "\n",
    "file_snowMelt_lowMissi = 'C:/rezaul/1.academic/1.research/2.project/mrb/dt/cesm/cesm2LE/param/snowMelt/mon/output/snowMelt_ensMean_lowMissi.npy'\n",
    "snowMelt_masked_ensMean_basinAvg_lowMissi = np.load(file_snowMelt_lowMissi)\n",
    "print(snowMelt_masked_ensMean_basinAvg_lowMissi.shape)\n",
    "\n"
   ]
  },
  {
   "cell_type": "markdown",
   "metadata": {},
   "source": [
    "### Mississippi at the 4 Eras"
   ]
  },
  {
   "cell_type": "code",
   "execution_count": 118,
   "metadata": {},
   "outputs": [
    {
     "name": "stdout",
     "output_type": "stream",
     "text": [
      "(360,)\n",
      "(30, 12)\n",
      "(12,)\n"
     ]
    }
   ],
   "source": [
    "snowMelt_refPeriod_ensMean_mon_Missi = snowMelt_masked_ensMean_basinAvg_Missi[refPeriodStepSt:refPeriodStepEnd]\n",
    "print(snowMelt_refPeriod_ensMean_mon_Missi.shape)\n",
    "\n",
    "snowMelt_refPeriod_ensMean_mon_reshape_Missi=np.reshape(snowMelt_refPeriod_ensMean_mon_Missi,(30,12))\n",
    "print(snowMelt_refPeriod_ensMean_mon_reshape_Missi.shape)\n",
    "\n",
    "snowMelt_refPeriod_ensMean_mon_clim_Missi = np.nanmean(snowMelt_refPeriod_ensMean_mon_reshape_Missi, axis = 0)\n",
    "print(snowMelt_refPeriod_ensMean_mon_clim_Missi.shape)\n"
   ]
  },
  {
   "cell_type": "code",
   "execution_count": 119,
   "metadata": {},
   "outputs": [
    {
     "name": "stdout",
     "output_type": "stream",
     "text": [
      "(360,)\n",
      "(30, 12)\n",
      "(12,)\n"
     ]
    }
   ],
   "source": [
    "snowMelt_scenEraOne_ensMean_mon_Missi = snowMelt_masked_ensMean_basinAvg_Missi[scenEraOneStepSt:scenEraOneStepEnd]\n",
    "print(snowMelt_scenEraOne_ensMean_mon_Missi.shape)\n",
    "\n",
    "snowMelt_scenEraOne_ensMean_mon_reshape_Missi=np.reshape(snowMelt_scenEraOne_ensMean_mon_Missi,(30,12))\n",
    "print(snowMelt_scenEraOne_ensMean_mon_reshape_Missi.shape)\n",
    "\n",
    "snowMelt_scenEraOne_ensMean_mon_clim_Missi = np.nanmean(snowMelt_scenEraOne_ensMean_mon_reshape_Missi, axis = 0)\n",
    "print(snowMelt_scenEraOne_ensMean_mon_clim_Missi.shape)\n"
   ]
  },
  {
   "cell_type": "code",
   "execution_count": 120,
   "metadata": {},
   "outputs": [
    {
     "name": "stdout",
     "output_type": "stream",
     "text": [
      "(360,)\n",
      "(30, 12)\n",
      "(12,)\n"
     ]
    }
   ],
   "source": [
    "snowMelt_scenEraTwo_ensMean_mon_Missi = snowMelt_masked_ensMean_basinAvg_Missi[scenEraTwoStepSt:scenEraTwoStepEnd]\n",
    "print(snowMelt_scenEraTwo_ensMean_mon_Missi.shape)\n",
    "\n",
    "snowMelt_scenEraTwo_ensMean_mon_reshape_Missi=np.reshape(snowMelt_scenEraTwo_ensMean_mon_Missi,(30,12))\n",
    "print(snowMelt_scenEraTwo_ensMean_mon_reshape_Missi.shape)\n",
    "\n",
    "snowMelt_scenEraTwo_ensMean_mon_clim_Missi = np.nanmean(snowMelt_scenEraTwo_ensMean_mon_reshape_Missi, axis = 0)\n",
    "print(snowMelt_scenEraTwo_ensMean_mon_clim_Missi.shape)\n"
   ]
  },
  {
   "cell_type": "code",
   "execution_count": 121,
   "metadata": {},
   "outputs": [
    {
     "name": "stdout",
     "output_type": "stream",
     "text": [
      "(312,)\n",
      "(26, 12)\n",
      "(12,)\n"
     ]
    }
   ],
   "source": [
    "snowMelt_scenEraThree_ensMean_mon_Missi = snowMelt_masked_ensMean_basinAvg_Missi[scenEraThreeStepSt:scenEraThreeStepEnd]\n",
    "print(snowMelt_scenEraThree_ensMean_mon_Missi.shape)\n",
    "\n",
    "snowMelt_scenEraThree_ensMean_mon_reshape_Missi=np.reshape(snowMelt_scenEraThree_ensMean_mon_Missi,(26,12))\n",
    "print(snowMelt_scenEraThree_ensMean_mon_reshape_Missi.shape)\n",
    "\n",
    "snowMelt_scenEraThree_ensMean_mon_clim_Missi = np.nanmean(snowMelt_scenEraThree_ensMean_mon_reshape_Missi, axis = 0)\n",
    "print(snowMelt_scenEraThree_ensMean_mon_clim_Missi.shape)\n"
   ]
  },
  {
   "cell_type": "markdown",
   "metadata": {},
   "source": [
    "### Missouri at the 4 Eras"
   ]
  },
  {
   "cell_type": "code",
   "execution_count": 122,
   "metadata": {},
   "outputs": [
    {
     "name": "stdout",
     "output_type": "stream",
     "text": [
      "(360,)\n",
      "(30, 12)\n",
      "(12,)\n"
     ]
    }
   ],
   "source": [
    "snowMelt_refPeriod_ensMean_mon_Missouri = snowMelt_masked_ensMean_basinAvg_Missouri[refPeriodStepSt:refPeriodStepEnd]\n",
    "print(snowMelt_refPeriod_ensMean_mon_Missouri.shape)\n",
    "\n",
    "snowMelt_refPeriod_ensMean_mon_reshape_Missouri=np.reshape(snowMelt_refPeriod_ensMean_mon_Missouri,(30,12))\n",
    "print(snowMelt_refPeriod_ensMean_mon_reshape_Missouri.shape)\n",
    "\n",
    "snowMelt_refPeriod_ensMean_mon_clim_Missouri = np.nanmean(snowMelt_refPeriod_ensMean_mon_reshape_Missouri, axis = 0)\n",
    "print(snowMelt_refPeriod_ensMean_mon_clim_Missouri.shape)\n"
   ]
  },
  {
   "cell_type": "code",
   "execution_count": 123,
   "metadata": {},
   "outputs": [
    {
     "name": "stdout",
     "output_type": "stream",
     "text": [
      "(360,)\n",
      "(30, 12)\n",
      "(12,)\n"
     ]
    }
   ],
   "source": [
    "snowMelt_scenEraOne_ensMean_mon_Missouri = snowMelt_masked_ensMean_basinAvg_Missouri[scenEraOneStepSt:scenEraOneStepEnd]\n",
    "print(snowMelt_scenEraOne_ensMean_mon_Missouri.shape)\n",
    "\n",
    "snowMelt_scenEraOne_ensMean_mon_reshape_Missouri=np.reshape(snowMelt_scenEraOne_ensMean_mon_Missouri,(30,12))\n",
    "print(snowMelt_scenEraOne_ensMean_mon_reshape_Missouri.shape)\n",
    "\n",
    "snowMelt_scenEraOne_ensMean_mon_clim_Missouri = np.nanmean(snowMelt_scenEraOne_ensMean_mon_reshape_Missouri, axis = 0)\n",
    "print(snowMelt_scenEraOne_ensMean_mon_clim_Missouri.shape)\n"
   ]
  },
  {
   "cell_type": "code",
   "execution_count": 124,
   "metadata": {},
   "outputs": [
    {
     "name": "stdout",
     "output_type": "stream",
     "text": [
      "(360,)\n",
      "(30, 12)\n",
      "(12,)\n"
     ]
    }
   ],
   "source": [
    "snowMelt_scenEraTwo_ensMean_mon_Missouri = snowMelt_masked_ensMean_basinAvg_Missouri[scenEraTwoStepSt:scenEraTwoStepEnd]\n",
    "print(snowMelt_scenEraTwo_ensMean_mon_Missouri.shape)\n",
    "\n",
    "snowMelt_scenEraTwo_ensMean_mon_reshape_Missouri=np.reshape(snowMelt_scenEraTwo_ensMean_mon_Missouri,(30,12))\n",
    "print(snowMelt_scenEraTwo_ensMean_mon_reshape_Missouri.shape)\n",
    "\n",
    "snowMelt_scenEraTwo_ensMean_mon_clim_Missouri = np.nanmean(snowMelt_scenEraTwo_ensMean_mon_reshape_Missouri, axis = 0)\n",
    "print(snowMelt_scenEraTwo_ensMean_mon_clim_Missouri.shape)\n"
   ]
  },
  {
   "cell_type": "code",
   "execution_count": 125,
   "metadata": {},
   "outputs": [
    {
     "name": "stdout",
     "output_type": "stream",
     "text": [
      "(312,)\n",
      "(26, 12)\n",
      "(12,)\n"
     ]
    }
   ],
   "source": [
    "snowMelt_scenEraThree_ensMean_mon_Missouri = snowMelt_masked_ensMean_basinAvg_Missouri[scenEraThreeStepSt:scenEraThreeStepEnd]\n",
    "print(snowMelt_scenEraThree_ensMean_mon_Missouri.shape)\n",
    "\n",
    "snowMelt_scenEraThree_ensMean_mon_reshape_Missouri=np.reshape(snowMelt_scenEraThree_ensMean_mon_Missouri,(26,12))\n",
    "print(snowMelt_scenEraThree_ensMean_mon_reshape_Missouri.shape)\n",
    "\n",
    "snowMelt_scenEraThree_ensMean_mon_clim_Missouri = np.nanmean(snowMelt_scenEraThree_ensMean_mon_reshape_Missouri, axis = 0)\n",
    "print(snowMelt_scenEraThree_ensMean_mon_clim_Missouri.shape)\n"
   ]
  },
  {
   "cell_type": "markdown",
   "metadata": {},
   "source": [
    "### Arkansas at the 4 Eras"
   ]
  },
  {
   "cell_type": "code",
   "execution_count": 126,
   "metadata": {},
   "outputs": [
    {
     "name": "stdout",
     "output_type": "stream",
     "text": [
      "(360,)\n",
      "(30, 12)\n",
      "(12,)\n"
     ]
    }
   ],
   "source": [
    "snowMelt_refPeriod_ensMean_mon_Arkansas = snowMelt_masked_ensMean_basinAvg_Arkansas[refPeriodStepSt:refPeriodStepEnd]\n",
    "print(snowMelt_refPeriod_ensMean_mon_Arkansas.shape)\n",
    "\n",
    "snowMelt_refPeriod_ensMean_mon_reshape_Arkansas=np.reshape(snowMelt_refPeriod_ensMean_mon_Arkansas,(30,12))\n",
    "print(snowMelt_refPeriod_ensMean_mon_reshape_Arkansas.shape)\n",
    "\n",
    "snowMelt_refPeriod_ensMean_mon_clim_Arkansas = np.nanmean(snowMelt_refPeriod_ensMean_mon_reshape_Arkansas, axis = 0)\n",
    "print(snowMelt_refPeriod_ensMean_mon_clim_Arkansas.shape)\n"
   ]
  },
  {
   "cell_type": "code",
   "execution_count": 127,
   "metadata": {},
   "outputs": [
    {
     "name": "stdout",
     "output_type": "stream",
     "text": [
      "(360,)\n",
      "(30, 12)\n",
      "(12,)\n"
     ]
    }
   ],
   "source": [
    "snowMelt_scenEraOne_ensMean_mon_Arkansas = snowMelt_masked_ensMean_basinAvg_Arkansas[scenEraOneStepSt:scenEraOneStepEnd]\n",
    "print(snowMelt_scenEraOne_ensMean_mon_Arkansas.shape)\n",
    "\n",
    "snowMelt_scenEraOne_ensMean_mon_reshape_Arkansas=np.reshape(snowMelt_scenEraOne_ensMean_mon_Arkansas,(30,12))\n",
    "print(snowMelt_scenEraOne_ensMean_mon_reshape_Arkansas.shape)\n",
    "\n",
    "snowMelt_scenEraOne_ensMean_mon_clim_Arkansas = np.nanmean(snowMelt_scenEraOne_ensMean_mon_reshape_Arkansas, axis = 0)\n",
    "print(snowMelt_scenEraOne_ensMean_mon_clim_Arkansas.shape)\n"
   ]
  },
  {
   "cell_type": "code",
   "execution_count": 128,
   "metadata": {},
   "outputs": [
    {
     "name": "stdout",
     "output_type": "stream",
     "text": [
      "(360,)\n",
      "(30, 12)\n",
      "(12,)\n"
     ]
    }
   ],
   "source": [
    "snowMelt_scenEraTwo_ensMean_mon_Arkansas = snowMelt_masked_ensMean_basinAvg_Arkansas[scenEraTwoStepSt:scenEraTwoStepEnd]\n",
    "print(snowMelt_scenEraTwo_ensMean_mon_Arkansas.shape)\n",
    "\n",
    "snowMelt_scenEraTwo_ensMean_mon_reshape_Arkansas=np.reshape(snowMelt_scenEraTwo_ensMean_mon_Arkansas,(30,12))\n",
    "print(snowMelt_scenEraTwo_ensMean_mon_reshape_Arkansas.shape)\n",
    "\n",
    "snowMelt_scenEraTwo_ensMean_mon_clim_Arkansas = np.nanmean(snowMelt_scenEraTwo_ensMean_mon_reshape_Arkansas, axis = 0)\n",
    "print(snowMelt_scenEraTwo_ensMean_mon_clim_Arkansas.shape)\n"
   ]
  },
  {
   "cell_type": "code",
   "execution_count": 129,
   "metadata": {},
   "outputs": [
    {
     "name": "stdout",
     "output_type": "stream",
     "text": [
      "(312,)\n",
      "(26, 12)\n",
      "(12,)\n"
     ]
    }
   ],
   "source": [
    "snowMelt_scenEraThree_ensMean_mon_Arkansas = snowMelt_masked_ensMean_basinAvg_Arkansas[scenEraThreeStepSt:scenEraThreeStepEnd]\n",
    "print(snowMelt_scenEraThree_ensMean_mon_Arkansas.shape)\n",
    "\n",
    "snowMelt_scenEraThree_ensMean_mon_reshape_Arkansas=np.reshape(snowMelt_scenEraThree_ensMean_mon_Arkansas,(26,12))\n",
    "print(snowMelt_scenEraThree_ensMean_mon_reshape_Arkansas.shape)\n",
    "\n",
    "snowMelt_scenEraThree_ensMean_mon_clim_Arkansas = np.nanmean(snowMelt_scenEraThree_ensMean_mon_reshape_Arkansas, axis = 0)\n",
    "print(snowMelt_scenEraThree_ensMean_mon_clim_Arkansas.shape)\n"
   ]
  },
  {
   "cell_type": "markdown",
   "metadata": {},
   "source": [
    "### Ohio at the 4 Eras"
   ]
  },
  {
   "cell_type": "code",
   "execution_count": 130,
   "metadata": {},
   "outputs": [
    {
     "name": "stdout",
     "output_type": "stream",
     "text": [
      "(360,)\n",
      "(30, 12)\n",
      "(12,)\n"
     ]
    }
   ],
   "source": [
    "snowMelt_refPeriod_ensMean_mon_Ohio = snowMelt_masked_ensMean_basinAvg_Ohio[refPeriodStepSt:refPeriodStepEnd]\n",
    "print(snowMelt_refPeriod_ensMean_mon_Ohio.shape)\n",
    "\n",
    "snowMelt_refPeriod_ensMean_mon_reshape_Ohio=np.reshape(snowMelt_refPeriod_ensMean_mon_Ohio,(30,12))\n",
    "print(snowMelt_refPeriod_ensMean_mon_reshape_Ohio.shape)\n",
    "\n",
    "snowMelt_refPeriod_ensMean_mon_clim_Ohio = np.nanmean(snowMelt_refPeriod_ensMean_mon_reshape_Ohio, axis = 0)\n",
    "print(snowMelt_refPeriod_ensMean_mon_clim_Ohio.shape)\n"
   ]
  },
  {
   "cell_type": "code",
   "execution_count": 131,
   "metadata": {},
   "outputs": [
    {
     "name": "stdout",
     "output_type": "stream",
     "text": [
      "(360,)\n",
      "(30, 12)\n",
      "(12,)\n"
     ]
    }
   ],
   "source": [
    "snowMelt_scenEraOne_ensMean_mon_Ohio = snowMelt_masked_ensMean_basinAvg_Ohio[scenEraOneStepSt:scenEraOneStepEnd]\n",
    "print(snowMelt_scenEraOne_ensMean_mon_Ohio.shape)\n",
    "\n",
    "snowMelt_scenEraOne_ensMean_mon_reshape_Ohio=np.reshape(snowMelt_scenEraOne_ensMean_mon_Ohio,(30,12))\n",
    "print(snowMelt_scenEraOne_ensMean_mon_reshape_Ohio.shape)\n",
    "\n",
    "snowMelt_scenEraOne_ensMean_mon_clim_Ohio = np.nanmean(snowMelt_scenEraOne_ensMean_mon_reshape_Ohio, axis = 0)\n",
    "print(snowMelt_scenEraOne_ensMean_mon_clim_Ohio.shape)\n"
   ]
  },
  {
   "cell_type": "code",
   "execution_count": 132,
   "metadata": {},
   "outputs": [
    {
     "name": "stdout",
     "output_type": "stream",
     "text": [
      "(360,)\n",
      "(30, 12)\n",
      "(12,)\n"
     ]
    }
   ],
   "source": [
    "snowMelt_scenEraTwo_ensMean_mon_Ohio = snowMelt_masked_ensMean_basinAvg_Ohio[scenEraTwoStepSt:scenEraTwoStepEnd]\n",
    "print(snowMelt_scenEraTwo_ensMean_mon_Ohio.shape)\n",
    "\n",
    "snowMelt_scenEraTwo_ensMean_mon_reshape_Ohio=np.reshape(snowMelt_scenEraTwo_ensMean_mon_Ohio,(30,12))\n",
    "print(snowMelt_scenEraTwo_ensMean_mon_reshape_Ohio.shape)\n",
    "\n",
    "snowMelt_scenEraTwo_ensMean_mon_clim_Ohio = np.nanmean(snowMelt_scenEraTwo_ensMean_mon_reshape_Ohio, axis = 0)\n",
    "print(snowMelt_scenEraTwo_ensMean_mon_clim_Ohio.shape)\n"
   ]
  },
  {
   "cell_type": "code",
   "execution_count": 133,
   "metadata": {},
   "outputs": [
    {
     "name": "stdout",
     "output_type": "stream",
     "text": [
      "(312,)\n",
      "(26, 12)\n",
      "(12,)\n"
     ]
    }
   ],
   "source": [
    "snowMelt_scenEraThree_ensMean_mon_Ohio = snowMelt_masked_ensMean_basinAvg_Ohio[scenEraThreeStepSt:scenEraThreeStepEnd]\n",
    "print(snowMelt_scenEraThree_ensMean_mon_Ohio.shape)\n",
    "\n",
    "snowMelt_scenEraThree_ensMean_mon_reshape_Ohio=np.reshape(snowMelt_scenEraThree_ensMean_mon_Ohio,(26,12))\n",
    "print(snowMelt_scenEraThree_ensMean_mon_reshape_Ohio.shape)\n",
    "\n",
    "snowMelt_scenEraThree_ensMean_mon_clim_Ohio = np.nanmean(snowMelt_scenEraThree_ensMean_mon_reshape_Ohio, axis = 0)\n",
    "print(snowMelt_scenEraThree_ensMean_mon_clim_Ohio.shape)\n"
   ]
  },
  {
   "cell_type": "markdown",
   "metadata": {},
   "source": [
    "### Lower Mississippi at the 4 Eras\n"
   ]
  },
  {
   "cell_type": "code",
   "execution_count": 134,
   "metadata": {},
   "outputs": [
    {
     "name": "stdout",
     "output_type": "stream",
     "text": [
      "(360,)\n",
      "(30, 12)\n",
      "(12,)\n"
     ]
    }
   ],
   "source": [
    "snowMelt_refPeriod_ensMean_mon_lowMissi = snowMelt_masked_ensMean_basinAvg_lowMissi[refPeriodStepSt:refPeriodStepEnd]\n",
    "print(snowMelt_refPeriod_ensMean_mon_lowMissi.shape)\n",
    "\n",
    "snowMelt_refPeriod_ensMean_mon_reshape_lowMissi=np.reshape(snowMelt_refPeriod_ensMean_mon_lowMissi,(30,12))\n",
    "print(snowMelt_refPeriod_ensMean_mon_reshape_lowMissi.shape)\n",
    "\n",
    "snowMelt_refPeriod_ensMean_mon_clim_lowMissi = np.nanmean(snowMelt_refPeriod_ensMean_mon_reshape_lowMissi, axis = 0)\n",
    "print(snowMelt_refPeriod_ensMean_mon_clim_lowMissi.shape)\n"
   ]
  },
  {
   "cell_type": "code",
   "execution_count": 135,
   "metadata": {},
   "outputs": [
    {
     "name": "stdout",
     "output_type": "stream",
     "text": [
      "(360,)\n",
      "(30, 12)\n",
      "(12,)\n"
     ]
    }
   ],
   "source": [
    "snowMelt_scenEraOne_ensMean_mon_lowMissi = snowMelt_masked_ensMean_basinAvg_lowMissi[scenEraOneStepSt:scenEraOneStepEnd]\n",
    "print(snowMelt_scenEraOne_ensMean_mon_lowMissi.shape)\n",
    "\n",
    "snowMelt_scenEraOne_ensMean_mon_reshape_lowMissi=np.reshape(snowMelt_scenEraOne_ensMean_mon_lowMissi,(30,12))\n",
    "print(snowMelt_scenEraOne_ensMean_mon_reshape_lowMissi.shape)\n",
    "\n",
    "snowMelt_scenEraOne_ensMean_mon_clim_lowMissi = np.nanmean(snowMelt_scenEraOne_ensMean_mon_reshape_lowMissi, axis = 0)\n",
    "print(snowMelt_scenEraOne_ensMean_mon_clim_lowMissi.shape)\n"
   ]
  },
  {
   "cell_type": "code",
   "execution_count": 136,
   "metadata": {},
   "outputs": [
    {
     "name": "stdout",
     "output_type": "stream",
     "text": [
      "(360,)\n",
      "(30, 12)\n",
      "(12,)\n"
     ]
    }
   ],
   "source": [
    "snowMelt_scenEraTwo_ensMean_mon_lowMissi = snowMelt_masked_ensMean_basinAvg_lowMissi[scenEraTwoStepSt:scenEraTwoStepEnd]\n",
    "print(snowMelt_scenEraTwo_ensMean_mon_lowMissi.shape)\n",
    "\n",
    "snowMelt_scenEraTwo_ensMean_mon_reshape_lowMissi=np.reshape(snowMelt_scenEraTwo_ensMean_mon_lowMissi,(30,12))\n",
    "print(snowMelt_scenEraTwo_ensMean_mon_reshape_lowMissi.shape)\n",
    "\n",
    "snowMelt_scenEraTwo_ensMean_mon_clim_lowMissi = np.nanmean(snowMelt_scenEraTwo_ensMean_mon_reshape_lowMissi, axis = 0)\n",
    "print(snowMelt_scenEraTwo_ensMean_mon_clim_lowMissi.shape)\n"
   ]
  },
  {
   "cell_type": "code",
   "execution_count": 137,
   "metadata": {},
   "outputs": [
    {
     "name": "stdout",
     "output_type": "stream",
     "text": [
      "(312,)\n",
      "(26, 12)\n",
      "(12,)\n"
     ]
    }
   ],
   "source": [
    "snowMelt_scenEraThree_ensMean_mon_lowMissi = snowMelt_masked_ensMean_basinAvg_lowMissi[scenEraThreeStepSt:scenEraThreeStepEnd]\n",
    "print(snowMelt_scenEraThree_ensMean_mon_lowMissi.shape)\n",
    "\n",
    "snowMelt_scenEraThree_ensMean_mon_reshape_lowMissi=np.reshape(snowMelt_scenEraThree_ensMean_mon_lowMissi,(26,12))\n",
    "print(snowMelt_scenEraThree_ensMean_mon_reshape_lowMissi.shape)\n",
    "\n",
    "snowMelt_scenEraThree_ensMean_mon_clim_lowMissi = np.nanmean(snowMelt_scenEraThree_ensMean_mon_reshape_lowMissi, axis = 0)\n",
    "print(snowMelt_scenEraThree_ensMean_mon_clim_lowMissi.shape)\n"
   ]
  },
  {
   "cell_type": "code",
   "execution_count": null,
   "metadata": {},
   "outputs": [],
   "source": []
  },
  {
   "cell_type": "code",
   "execution_count": null,
   "metadata": {},
   "outputs": [],
   "source": []
  },
  {
   "cell_type": "markdown",
   "metadata": {},
   "source": [
    "## Soil Moisture"
   ]
  },
  {
   "cell_type": "code",
   "execution_count": 138,
   "metadata": {},
   "outputs": [
    {
     "name": "stdout",
     "output_type": "stream",
     "text": [
      "(2052,)\n",
      "(2052,)\n",
      "(2052,)\n",
      "(2052,)\n",
      "(2052,)\n"
     ]
    }
   ],
   "source": [
    "file_soilMoist_Missi = 'C:/rezaul/1.academic/1.research/2.project/mrb/dt/cesm/cesm2LE/param/soilMoist/mon/output/soilMoist_ensMean_Missi.npy'\n",
    "soilMoist_masked_ensMean_basinAvg_Missi = np.load(file_soilMoist_Missi)\n",
    "print(soilMoist_masked_ensMean_basinAvg_Missi.shape)\n",
    "\n",
    "file_soilMoist_Missouri = 'C:/rezaul/1.academic/1.research/2.project/mrb/dt/cesm/cesm2LE/param/soilMoist/mon/output/soilMoist_ensMean_Missouri.npy'\n",
    "soilMoist_masked_ensMean_basinAvg_Missouri = np.load(file_soilMoist_Missouri)\n",
    "print(soilMoist_masked_ensMean_basinAvg_Missouri.shape)\n",
    "\n",
    "file_soilMoist_Arkansas = 'C:/rezaul/1.academic/1.research/2.project/mrb/dt/cesm/cesm2LE/param/soilMoist/mon/output/soilMoist_ensMean_Arkansas.npy'\n",
    "soilMoist_masked_ensMean_basinAvg_Arkansas = np.load(file_soilMoist_Arkansas)\n",
    "print(soilMoist_masked_ensMean_basinAvg_Arkansas.shape)\n",
    "\n",
    "file_soilMoist_Ohio = 'C:/rezaul/1.academic/1.research/2.project/mrb/dt/cesm/cesm2LE/param/soilMoist/mon/output/soilMoist_ensMean_Ohio.npy'\n",
    "soilMoist_masked_ensMean_basinAvg_Ohio = np.load(file_soilMoist_Ohio)\n",
    "print(soilMoist_masked_ensMean_basinAvg_Ohio.shape)\n",
    "\n",
    "file_soilMoist_lowMissi = 'C:/rezaul/1.academic/1.research/2.project/mrb/dt/cesm/cesm2LE/param/soilMoist/mon/output/soilMoist_ensMean_lowMissi.npy'\n",
    "soilMoist_masked_ensMean_basinAvg_lowMissi = np.load(file_soilMoist_lowMissi)\n",
    "print(soilMoist_masked_ensMean_basinAvg_lowMissi.shape)\n",
    "\n"
   ]
  },
  {
   "cell_type": "markdown",
   "metadata": {},
   "source": [
    "### Mississippi at the 4 Eras"
   ]
  },
  {
   "cell_type": "code",
   "execution_count": 139,
   "metadata": {},
   "outputs": [
    {
     "name": "stdout",
     "output_type": "stream",
     "text": [
      "(360,)\n",
      "(30, 12)\n",
      "(12,)\n"
     ]
    }
   ],
   "source": [
    "soilMoist_refPeriod_ensMean_mon_Missi = soilMoist_masked_ensMean_basinAvg_Missi[refPeriodStepSt:refPeriodStepEnd]\n",
    "print(soilMoist_refPeriod_ensMean_mon_Missi.shape)\n",
    "\n",
    "soilMoist_refPeriod_ensMean_mon_reshape_Missi=np.reshape(soilMoist_refPeriod_ensMean_mon_Missi,(30,12))\n",
    "print(soilMoist_refPeriod_ensMean_mon_reshape_Missi.shape)\n",
    "\n",
    "soilMoist_refPeriod_ensMean_mon_clim_Missi = np.nanmean(soilMoist_refPeriod_ensMean_mon_reshape_Missi, axis = 0)\n",
    "print(soilMoist_refPeriod_ensMean_mon_clim_Missi.shape)\n"
   ]
  },
  {
   "cell_type": "code",
   "execution_count": 140,
   "metadata": {},
   "outputs": [
    {
     "name": "stdout",
     "output_type": "stream",
     "text": [
      "(360,)\n",
      "(30, 12)\n",
      "(12,)\n"
     ]
    }
   ],
   "source": [
    "soilMoist_scenEraOne_ensMean_mon_Missi = soilMoist_masked_ensMean_basinAvg_Missi[scenEraOneStepSt:scenEraOneStepEnd]\n",
    "print(soilMoist_scenEraOne_ensMean_mon_Missi.shape)\n",
    "\n",
    "soilMoist_scenEraOne_ensMean_mon_reshape_Missi=np.reshape(soilMoist_scenEraOne_ensMean_mon_Missi,(30,12))\n",
    "print(soilMoist_scenEraOne_ensMean_mon_reshape_Missi.shape)\n",
    "\n",
    "soilMoist_scenEraOne_ensMean_mon_clim_Missi = np.nanmean(soilMoist_scenEraOne_ensMean_mon_reshape_Missi, axis = 0)\n",
    "print(soilMoist_scenEraOne_ensMean_mon_clim_Missi.shape)\n"
   ]
  },
  {
   "cell_type": "code",
   "execution_count": 141,
   "metadata": {},
   "outputs": [
    {
     "name": "stdout",
     "output_type": "stream",
     "text": [
      "(360,)\n",
      "(30, 12)\n",
      "(12,)\n"
     ]
    }
   ],
   "source": [
    "soilMoist_scenEraTwo_ensMean_mon_Missi = soilMoist_masked_ensMean_basinAvg_Missi[scenEraTwoStepSt:scenEraTwoStepEnd]\n",
    "print(soilMoist_scenEraTwo_ensMean_mon_Missi.shape)\n",
    "\n",
    "soilMoist_scenEraTwo_ensMean_mon_reshape_Missi=np.reshape(soilMoist_scenEraTwo_ensMean_mon_Missi,(30,12))\n",
    "print(soilMoist_scenEraTwo_ensMean_mon_reshape_Missi.shape)\n",
    "\n",
    "soilMoist_scenEraTwo_ensMean_mon_clim_Missi = np.nanmean(soilMoist_scenEraTwo_ensMean_mon_reshape_Missi, axis = 0)\n",
    "print(soilMoist_scenEraTwo_ensMean_mon_clim_Missi.shape)\n"
   ]
  },
  {
   "cell_type": "code",
   "execution_count": 142,
   "metadata": {},
   "outputs": [
    {
     "name": "stdout",
     "output_type": "stream",
     "text": [
      "(312,)\n",
      "(26, 12)\n",
      "(12,)\n"
     ]
    }
   ],
   "source": [
    "soilMoist_scenEraThree_ensMean_mon_Missi = soilMoist_masked_ensMean_basinAvg_Missi[scenEraThreeStepSt:scenEraThreeStepEnd]\n",
    "print(soilMoist_scenEraThree_ensMean_mon_Missi.shape)\n",
    "\n",
    "soilMoist_scenEraThree_ensMean_mon_reshape_Missi=np.reshape(soilMoist_scenEraThree_ensMean_mon_Missi,(26,12))\n",
    "print(soilMoist_scenEraThree_ensMean_mon_reshape_Missi.shape)\n",
    "\n",
    "soilMoist_scenEraThree_ensMean_mon_clim_Missi = np.nanmean(soilMoist_scenEraThree_ensMean_mon_reshape_Missi, axis = 0)\n",
    "print(soilMoist_scenEraThree_ensMean_mon_clim_Missi.shape)\n"
   ]
  },
  {
   "cell_type": "markdown",
   "metadata": {},
   "source": [
    "### Missouri at the 4 Eras"
   ]
  },
  {
   "cell_type": "code",
   "execution_count": 143,
   "metadata": {},
   "outputs": [
    {
     "name": "stdout",
     "output_type": "stream",
     "text": [
      "(360,)\n",
      "(30, 12)\n",
      "(12,)\n"
     ]
    }
   ],
   "source": [
    "soilMoist_refPeriod_ensMean_mon_Missouri = soilMoist_masked_ensMean_basinAvg_Missouri[refPeriodStepSt:refPeriodStepEnd]\n",
    "print(soilMoist_refPeriod_ensMean_mon_Missouri.shape)\n",
    "\n",
    "soilMoist_refPeriod_ensMean_mon_reshape_Missouri=np.reshape(soilMoist_refPeriod_ensMean_mon_Missouri,(30,12))\n",
    "print(soilMoist_refPeriod_ensMean_mon_reshape_Missouri.shape)\n",
    "\n",
    "soilMoist_refPeriod_ensMean_mon_clim_Missouri = np.nanmean(soilMoist_refPeriod_ensMean_mon_reshape_Missouri, axis = 0)\n",
    "print(soilMoist_refPeriod_ensMean_mon_clim_Missouri.shape)\n"
   ]
  },
  {
   "cell_type": "code",
   "execution_count": 144,
   "metadata": {},
   "outputs": [
    {
     "name": "stdout",
     "output_type": "stream",
     "text": [
      "(360,)\n",
      "(30, 12)\n",
      "(12,)\n"
     ]
    }
   ],
   "source": [
    "soilMoist_scenEraOne_ensMean_mon_Missouri = soilMoist_masked_ensMean_basinAvg_Missouri[scenEraOneStepSt:scenEraOneStepEnd]\n",
    "print(soilMoist_scenEraOne_ensMean_mon_Missouri.shape)\n",
    "\n",
    "soilMoist_scenEraOne_ensMean_mon_reshape_Missouri=np.reshape(soilMoist_scenEraOne_ensMean_mon_Missouri,(30,12))\n",
    "print(soilMoist_scenEraOne_ensMean_mon_reshape_Missouri.shape)\n",
    "\n",
    "soilMoist_scenEraOne_ensMean_mon_clim_Missouri = np.nanmean(soilMoist_scenEraOne_ensMean_mon_reshape_Missouri, axis = 0)\n",
    "print(soilMoist_scenEraOne_ensMean_mon_clim_Missouri.shape)\n"
   ]
  },
  {
   "cell_type": "code",
   "execution_count": 145,
   "metadata": {},
   "outputs": [
    {
     "name": "stdout",
     "output_type": "stream",
     "text": [
      "(360,)\n",
      "(30, 12)\n",
      "(12,)\n"
     ]
    }
   ],
   "source": [
    "soilMoist_scenEraTwo_ensMean_mon_Missouri = soilMoist_masked_ensMean_basinAvg_Missouri[scenEraTwoStepSt:scenEraTwoStepEnd]\n",
    "print(soilMoist_scenEraTwo_ensMean_mon_Missouri.shape)\n",
    "\n",
    "soilMoist_scenEraTwo_ensMean_mon_reshape_Missouri=np.reshape(soilMoist_scenEraTwo_ensMean_mon_Missouri,(30,12))\n",
    "print(soilMoist_scenEraTwo_ensMean_mon_reshape_Missouri.shape)\n",
    "\n",
    "soilMoist_scenEraTwo_ensMean_mon_clim_Missouri = np.nanmean(soilMoist_scenEraTwo_ensMean_mon_reshape_Missouri, axis = 0)\n",
    "print(soilMoist_scenEraTwo_ensMean_mon_clim_Missouri.shape)\n"
   ]
  },
  {
   "cell_type": "code",
   "execution_count": 146,
   "metadata": {},
   "outputs": [
    {
     "name": "stdout",
     "output_type": "stream",
     "text": [
      "(312,)\n",
      "(26, 12)\n",
      "(12,)\n"
     ]
    }
   ],
   "source": [
    "soilMoist_scenEraThree_ensMean_mon_Missouri = soilMoist_masked_ensMean_basinAvg_Missouri[scenEraThreeStepSt:scenEraThreeStepEnd]\n",
    "print(soilMoist_scenEraThree_ensMean_mon_Missouri.shape)\n",
    "\n",
    "soilMoist_scenEraThree_ensMean_mon_reshape_Missouri=np.reshape(soilMoist_scenEraThree_ensMean_mon_Missouri,(26,12))\n",
    "print(soilMoist_scenEraThree_ensMean_mon_reshape_Missouri.shape)\n",
    "\n",
    "soilMoist_scenEraThree_ensMean_mon_clim_Missouri = np.nanmean(soilMoist_scenEraThree_ensMean_mon_reshape_Missouri, axis = 0)\n",
    "print(soilMoist_scenEraThree_ensMean_mon_clim_Missouri.shape)\n"
   ]
  },
  {
   "cell_type": "markdown",
   "metadata": {},
   "source": [
    "### Arkansas at the 4 Eras"
   ]
  },
  {
   "cell_type": "code",
   "execution_count": 147,
   "metadata": {},
   "outputs": [
    {
     "name": "stdout",
     "output_type": "stream",
     "text": [
      "(360,)\n",
      "(30, 12)\n",
      "(12,)\n"
     ]
    }
   ],
   "source": [
    "soilMoist_refPeriod_ensMean_mon_Arkansas = soilMoist_masked_ensMean_basinAvg_Arkansas[refPeriodStepSt:refPeriodStepEnd]\n",
    "print(soilMoist_refPeriod_ensMean_mon_Arkansas.shape)\n",
    "\n",
    "soilMoist_refPeriod_ensMean_mon_reshape_Arkansas=np.reshape(soilMoist_refPeriod_ensMean_mon_Arkansas,(30,12))\n",
    "print(soilMoist_refPeriod_ensMean_mon_reshape_Arkansas.shape)\n",
    "\n",
    "soilMoist_refPeriod_ensMean_mon_clim_Arkansas = np.nanmean(soilMoist_refPeriod_ensMean_mon_reshape_Arkansas, axis = 0)\n",
    "print(soilMoist_refPeriod_ensMean_mon_clim_Arkansas.shape)\n"
   ]
  },
  {
   "cell_type": "code",
   "execution_count": 148,
   "metadata": {},
   "outputs": [
    {
     "name": "stdout",
     "output_type": "stream",
     "text": [
      "(360,)\n",
      "(30, 12)\n",
      "(12,)\n"
     ]
    }
   ],
   "source": [
    "soilMoist_scenEraOne_ensMean_mon_Arkansas = soilMoist_masked_ensMean_basinAvg_Arkansas[scenEraOneStepSt:scenEraOneStepEnd]\n",
    "print(soilMoist_scenEraOne_ensMean_mon_Arkansas.shape)\n",
    "\n",
    "soilMoist_scenEraOne_ensMean_mon_reshape_Arkansas=np.reshape(soilMoist_scenEraOne_ensMean_mon_Arkansas,(30,12))\n",
    "print(soilMoist_scenEraOne_ensMean_mon_reshape_Arkansas.shape)\n",
    "\n",
    "soilMoist_scenEraOne_ensMean_mon_clim_Arkansas = np.nanmean(soilMoist_scenEraOne_ensMean_mon_reshape_Arkansas, axis = 0)\n",
    "print(soilMoist_scenEraOne_ensMean_mon_clim_Arkansas.shape)\n"
   ]
  },
  {
   "cell_type": "code",
   "execution_count": 149,
   "metadata": {},
   "outputs": [
    {
     "name": "stdout",
     "output_type": "stream",
     "text": [
      "(360,)\n",
      "(30, 12)\n",
      "(12,)\n"
     ]
    }
   ],
   "source": [
    "soilMoist_scenEraTwo_ensMean_mon_Arkansas = soilMoist_masked_ensMean_basinAvg_Arkansas[scenEraTwoStepSt:scenEraTwoStepEnd]\n",
    "print(soilMoist_scenEraTwo_ensMean_mon_Arkansas.shape)\n",
    "\n",
    "soilMoist_scenEraTwo_ensMean_mon_reshape_Arkansas=np.reshape(soilMoist_scenEraTwo_ensMean_mon_Arkansas,(30,12))\n",
    "print(soilMoist_scenEraTwo_ensMean_mon_reshape_Arkansas.shape)\n",
    "\n",
    "soilMoist_scenEraTwo_ensMean_mon_clim_Arkansas = np.nanmean(soilMoist_scenEraTwo_ensMean_mon_reshape_Arkansas, axis = 0)\n",
    "print(soilMoist_scenEraTwo_ensMean_mon_clim_Arkansas.shape)\n"
   ]
  },
  {
   "cell_type": "code",
   "execution_count": 150,
   "metadata": {},
   "outputs": [
    {
     "name": "stdout",
     "output_type": "stream",
     "text": [
      "(312,)\n",
      "(26, 12)\n",
      "(12,)\n"
     ]
    }
   ],
   "source": [
    "soilMoist_scenEraThree_ensMean_mon_Arkansas = soilMoist_masked_ensMean_basinAvg_Arkansas[scenEraThreeStepSt:scenEraThreeStepEnd]\n",
    "print(soilMoist_scenEraThree_ensMean_mon_Arkansas.shape)\n",
    "\n",
    "soilMoist_scenEraThree_ensMean_mon_reshape_Arkansas=np.reshape(soilMoist_scenEraThree_ensMean_mon_Arkansas,(26,12))\n",
    "print(soilMoist_scenEraThree_ensMean_mon_reshape_Arkansas.shape)\n",
    "\n",
    "soilMoist_scenEraThree_ensMean_mon_clim_Arkansas = np.nanmean(soilMoist_scenEraThree_ensMean_mon_reshape_Arkansas, axis = 0)\n",
    "print(soilMoist_scenEraThree_ensMean_mon_clim_Arkansas.shape)\n"
   ]
  },
  {
   "cell_type": "markdown",
   "metadata": {},
   "source": [
    "### Ohio at the 4 Eras"
   ]
  },
  {
   "cell_type": "code",
   "execution_count": 151,
   "metadata": {},
   "outputs": [
    {
     "name": "stdout",
     "output_type": "stream",
     "text": [
      "(360,)\n",
      "(30, 12)\n",
      "(12,)\n"
     ]
    }
   ],
   "source": [
    "soilMoist_refPeriod_ensMean_mon_Ohio = soilMoist_masked_ensMean_basinAvg_Ohio[refPeriodStepSt:refPeriodStepEnd]\n",
    "print(soilMoist_refPeriod_ensMean_mon_Ohio.shape)\n",
    "\n",
    "soilMoist_refPeriod_ensMean_mon_reshape_Ohio=np.reshape(soilMoist_refPeriod_ensMean_mon_Ohio,(30,12))\n",
    "print(soilMoist_refPeriod_ensMean_mon_reshape_Ohio.shape)\n",
    "\n",
    "soilMoist_refPeriod_ensMean_mon_clim_Ohio = np.nanmean(soilMoist_refPeriod_ensMean_mon_reshape_Ohio, axis = 0)\n",
    "print(soilMoist_refPeriod_ensMean_mon_clim_Ohio.shape)\n"
   ]
  },
  {
   "cell_type": "code",
   "execution_count": 152,
   "metadata": {},
   "outputs": [
    {
     "name": "stdout",
     "output_type": "stream",
     "text": [
      "(360,)\n",
      "(30, 12)\n",
      "(12,)\n"
     ]
    }
   ],
   "source": [
    "soilMoist_scenEraOne_ensMean_mon_Ohio = soilMoist_masked_ensMean_basinAvg_Ohio[scenEraOneStepSt:scenEraOneStepEnd]\n",
    "print(soilMoist_scenEraOne_ensMean_mon_Ohio.shape)\n",
    "\n",
    "soilMoist_scenEraOne_ensMean_mon_reshape_Ohio=np.reshape(soilMoist_scenEraOne_ensMean_mon_Ohio,(30,12))\n",
    "print(soilMoist_scenEraOne_ensMean_mon_reshape_Ohio.shape)\n",
    "\n",
    "soilMoist_scenEraOne_ensMean_mon_clim_Ohio = np.nanmean(soilMoist_scenEraOne_ensMean_mon_reshape_Ohio, axis = 0)\n",
    "print(soilMoist_scenEraOne_ensMean_mon_clim_Ohio.shape)\n"
   ]
  },
  {
   "cell_type": "code",
   "execution_count": 153,
   "metadata": {},
   "outputs": [
    {
     "name": "stdout",
     "output_type": "stream",
     "text": [
      "(360,)\n",
      "(30, 12)\n",
      "(12,)\n"
     ]
    }
   ],
   "source": [
    "soilMoist_scenEraTwo_ensMean_mon_Ohio = soilMoist_masked_ensMean_basinAvg_Ohio[scenEraTwoStepSt:scenEraTwoStepEnd]\n",
    "print(soilMoist_scenEraTwo_ensMean_mon_Ohio.shape)\n",
    "\n",
    "soilMoist_scenEraTwo_ensMean_mon_reshape_Ohio=np.reshape(soilMoist_scenEraTwo_ensMean_mon_Ohio,(30,12))\n",
    "print(soilMoist_scenEraTwo_ensMean_mon_reshape_Ohio.shape)\n",
    "\n",
    "soilMoist_scenEraTwo_ensMean_mon_clim_Ohio = np.nanmean(soilMoist_scenEraTwo_ensMean_mon_reshape_Ohio, axis = 0)\n",
    "print(soilMoist_scenEraTwo_ensMean_mon_clim_Ohio.shape)\n"
   ]
  },
  {
   "cell_type": "code",
   "execution_count": 154,
   "metadata": {},
   "outputs": [
    {
     "name": "stdout",
     "output_type": "stream",
     "text": [
      "(312,)\n",
      "(26, 12)\n",
      "(12,)\n"
     ]
    }
   ],
   "source": [
    "soilMoist_scenEraThree_ensMean_mon_Ohio = soilMoist_masked_ensMean_basinAvg_Ohio[scenEraThreeStepSt:scenEraThreeStepEnd]\n",
    "print(soilMoist_scenEraThree_ensMean_mon_Ohio.shape)\n",
    "\n",
    "soilMoist_scenEraThree_ensMean_mon_reshape_Ohio=np.reshape(soilMoist_scenEraThree_ensMean_mon_Ohio,(26,12))\n",
    "print(soilMoist_scenEraThree_ensMean_mon_reshape_Ohio.shape)\n",
    "\n",
    "soilMoist_scenEraThree_ensMean_mon_clim_Ohio = np.nanmean(soilMoist_scenEraThree_ensMean_mon_reshape_Ohio, axis = 0)\n",
    "print(soilMoist_scenEraThree_ensMean_mon_clim_Ohio.shape)\n"
   ]
  },
  {
   "cell_type": "markdown",
   "metadata": {},
   "source": [
    "### Lower Mississippi at the 4 Eras\n"
   ]
  },
  {
   "cell_type": "code",
   "execution_count": 155,
   "metadata": {},
   "outputs": [
    {
     "name": "stdout",
     "output_type": "stream",
     "text": [
      "(360,)\n",
      "(30, 12)\n",
      "(12,)\n"
     ]
    }
   ],
   "source": [
    "soilMoist_refPeriod_ensMean_mon_lowMissi = soilMoist_masked_ensMean_basinAvg_lowMissi[refPeriodStepSt:refPeriodStepEnd]\n",
    "print(soilMoist_refPeriod_ensMean_mon_lowMissi.shape)\n",
    "\n",
    "soilMoist_refPeriod_ensMean_mon_reshape_lowMissi=np.reshape(soilMoist_refPeriod_ensMean_mon_lowMissi,(30,12))\n",
    "print(soilMoist_refPeriod_ensMean_mon_reshape_lowMissi.shape)\n",
    "\n",
    "soilMoist_refPeriod_ensMean_mon_clim_lowMissi = np.nanmean(soilMoist_refPeriod_ensMean_mon_reshape_lowMissi, axis = 0)\n",
    "print(soilMoist_refPeriod_ensMean_mon_clim_lowMissi.shape)\n"
   ]
  },
  {
   "cell_type": "code",
   "execution_count": 156,
   "metadata": {},
   "outputs": [
    {
     "name": "stdout",
     "output_type": "stream",
     "text": [
      "(360,)\n",
      "(30, 12)\n",
      "(12,)\n"
     ]
    }
   ],
   "source": [
    "soilMoist_scenEraOne_ensMean_mon_lowMissi = soilMoist_masked_ensMean_basinAvg_lowMissi[scenEraOneStepSt:scenEraOneStepEnd]\n",
    "print(soilMoist_scenEraOne_ensMean_mon_lowMissi.shape)\n",
    "\n",
    "soilMoist_scenEraOne_ensMean_mon_reshape_lowMissi=np.reshape(soilMoist_scenEraOne_ensMean_mon_lowMissi,(30,12))\n",
    "print(soilMoist_scenEraOne_ensMean_mon_reshape_lowMissi.shape)\n",
    "\n",
    "soilMoist_scenEraOne_ensMean_mon_clim_lowMissi = np.nanmean(soilMoist_scenEraOne_ensMean_mon_reshape_lowMissi, axis = 0)\n",
    "print(soilMoist_scenEraOne_ensMean_mon_clim_lowMissi.shape)\n"
   ]
  },
  {
   "cell_type": "code",
   "execution_count": 157,
   "metadata": {},
   "outputs": [
    {
     "name": "stdout",
     "output_type": "stream",
     "text": [
      "(360,)\n",
      "(30, 12)\n",
      "(12,)\n"
     ]
    }
   ],
   "source": [
    "soilMoist_scenEraTwo_ensMean_mon_lowMissi = soilMoist_masked_ensMean_basinAvg_lowMissi[scenEraTwoStepSt:scenEraTwoStepEnd]\n",
    "print(soilMoist_scenEraTwo_ensMean_mon_lowMissi.shape)\n",
    "\n",
    "soilMoist_scenEraTwo_ensMean_mon_reshape_lowMissi=np.reshape(soilMoist_scenEraTwo_ensMean_mon_lowMissi,(30,12))\n",
    "print(soilMoist_scenEraTwo_ensMean_mon_reshape_lowMissi.shape)\n",
    "\n",
    "soilMoist_scenEraTwo_ensMean_mon_clim_lowMissi = np.nanmean(soilMoist_scenEraTwo_ensMean_mon_reshape_lowMissi, axis = 0)\n",
    "print(soilMoist_scenEraTwo_ensMean_mon_clim_lowMissi.shape)\n"
   ]
  },
  {
   "cell_type": "code",
   "execution_count": 158,
   "metadata": {},
   "outputs": [
    {
     "name": "stdout",
     "output_type": "stream",
     "text": [
      "(312,)\n",
      "(26, 12)\n",
      "(12,)\n"
     ]
    }
   ],
   "source": [
    "soilMoist_scenEraThree_ensMean_mon_lowMissi = soilMoist_masked_ensMean_basinAvg_lowMissi[scenEraThreeStepSt:scenEraThreeStepEnd]\n",
    "print(soilMoist_scenEraThree_ensMean_mon_lowMissi.shape)\n",
    "\n",
    "soilMoist_scenEraThree_ensMean_mon_reshape_lowMissi=np.reshape(soilMoist_scenEraThree_ensMean_mon_lowMissi,(26,12))\n",
    "print(soilMoist_scenEraThree_ensMean_mon_reshape_lowMissi.shape)\n",
    "\n",
    "soilMoist_scenEraThree_ensMean_mon_clim_lowMissi = np.nanmean(soilMoist_scenEraThree_ensMean_mon_reshape_lowMissi, axis = 0)\n",
    "print(soilMoist_scenEraThree_ensMean_mon_clim_lowMissi.shape)\n"
   ]
  },
  {
   "cell_type": "code",
   "execution_count": null,
   "metadata": {},
   "outputs": [],
   "source": []
  },
  {
   "cell_type": "code",
   "execution_count": null,
   "metadata": {},
   "outputs": [],
   "source": []
  },
  {
   "cell_type": "markdown",
   "metadata": {},
   "source": [
    "## Runoff"
   ]
  },
  {
   "cell_type": "code",
   "execution_count": 159,
   "metadata": {},
   "outputs": [
    {
     "name": "stdout",
     "output_type": "stream",
     "text": [
      "(2052,)\n",
      "(2052,)\n",
      "(2052,)\n",
      "(2052,)\n",
      "(2052,)\n"
     ]
    }
   ],
   "source": [
    "file_runoff_Missi = 'C:/rezaul/1.academic/1.research/2.project/mrb/dt/cesm/cesm2LE/param/runoff/mon/output/runoff_ensMean_Missi.npy'\n",
    "runoff_masked_ensMean_basinAvg_Missi = np.load(file_runoff_Missi)\n",
    "print(runoff_masked_ensMean_basinAvg_Missi.shape)\n",
    "\n",
    "file_runoff_Missouri = 'C:/rezaul/1.academic/1.research/2.project/mrb/dt/cesm/cesm2LE/param/runoff/mon/output/runoff_ensMean_Missouri.npy'\n",
    "runoff_masked_ensMean_basinAvg_Missouri = np.load(file_runoff_Missouri)\n",
    "print(runoff_masked_ensMean_basinAvg_Missouri.shape)\n",
    "\n",
    "file_runoff_Arkansas = 'C:/rezaul/1.academic/1.research/2.project/mrb/dt/cesm/cesm2LE/param/runoff/mon/output/runoff_ensMean_Arkansas.npy'\n",
    "runoff_masked_ensMean_basinAvg_Arkansas = np.load(file_runoff_Arkansas)\n",
    "print(runoff_masked_ensMean_basinAvg_Arkansas.shape)\n",
    "\n",
    "file_runoff_Ohio = 'C:/rezaul/1.academic/1.research/2.project/mrb/dt/cesm/cesm2LE/param/runoff/mon/output/runoff_ensMean_Ohio.npy'\n",
    "runoff_masked_ensMean_basinAvg_Ohio = np.load(file_runoff_Ohio)\n",
    "print(runoff_masked_ensMean_basinAvg_Ohio.shape)\n",
    "\n",
    "file_runoff_lowMissi = 'C:/rezaul/1.academic/1.research/2.project/mrb/dt/cesm/cesm2LE/param/runoff/mon/output/runoff_ensMean_lowMissi.npy'\n",
    "runoff_masked_ensMean_basinAvg_lowMissi = np.load(file_runoff_lowMissi)\n",
    "print(runoff_masked_ensMean_basinAvg_lowMissi.shape)\n",
    "\n"
   ]
  },
  {
   "cell_type": "markdown",
   "metadata": {},
   "source": [
    "### Mississippi at the 4 Eras"
   ]
  },
  {
   "cell_type": "code",
   "execution_count": 160,
   "metadata": {},
   "outputs": [
    {
     "name": "stdout",
     "output_type": "stream",
     "text": [
      "(360,)\n",
      "(30, 12)\n",
      "(12,)\n"
     ]
    }
   ],
   "source": [
    "runoff_refPeriod_ensMean_mon_Missi = runoff_masked_ensMean_basinAvg_Missi[refPeriodStepSt:refPeriodStepEnd]\n",
    "print(runoff_refPeriod_ensMean_mon_Missi.shape)\n",
    "\n",
    "runoff_refPeriod_ensMean_mon_reshape_Missi=np.reshape(runoff_refPeriod_ensMean_mon_Missi,(30,12))\n",
    "print(runoff_refPeriod_ensMean_mon_reshape_Missi.shape)\n",
    "\n",
    "runoff_refPeriod_ensMean_mon_clim_Missi = np.nanmean(runoff_refPeriod_ensMean_mon_reshape_Missi, axis = 0)\n",
    "print(runoff_refPeriod_ensMean_mon_clim_Missi.shape)\n"
   ]
  },
  {
   "cell_type": "code",
   "execution_count": 161,
   "metadata": {},
   "outputs": [
    {
     "name": "stdout",
     "output_type": "stream",
     "text": [
      "(360,)\n",
      "(30, 12)\n",
      "(12,)\n"
     ]
    }
   ],
   "source": [
    "runoff_scenEraOne_ensMean_mon_Missi = runoff_masked_ensMean_basinAvg_Missi[scenEraOneStepSt:scenEraOneStepEnd]\n",
    "print(runoff_scenEraOne_ensMean_mon_Missi.shape)\n",
    "\n",
    "runoff_scenEraOne_ensMean_mon_reshape_Missi=np.reshape(runoff_scenEraOne_ensMean_mon_Missi,(30,12))\n",
    "print(runoff_scenEraOne_ensMean_mon_reshape_Missi.shape)\n",
    "\n",
    "runoff_scenEraOne_ensMean_mon_clim_Missi = np.nanmean(runoff_scenEraOne_ensMean_mon_reshape_Missi, axis = 0)\n",
    "print(runoff_scenEraOne_ensMean_mon_clim_Missi.shape)\n"
   ]
  },
  {
   "cell_type": "code",
   "execution_count": 162,
   "metadata": {},
   "outputs": [
    {
     "name": "stdout",
     "output_type": "stream",
     "text": [
      "(360,)\n",
      "(30, 12)\n",
      "(12,)\n"
     ]
    }
   ],
   "source": [
    "runoff_scenEraTwo_ensMean_mon_Missi = runoff_masked_ensMean_basinAvg_Missi[scenEraTwoStepSt:scenEraTwoStepEnd]\n",
    "print(runoff_scenEraTwo_ensMean_mon_Missi.shape)\n",
    "\n",
    "runoff_scenEraTwo_ensMean_mon_reshape_Missi=np.reshape(runoff_scenEraTwo_ensMean_mon_Missi,(30,12))\n",
    "print(runoff_scenEraTwo_ensMean_mon_reshape_Missi.shape)\n",
    "\n",
    "runoff_scenEraTwo_ensMean_mon_clim_Missi = np.nanmean(runoff_scenEraTwo_ensMean_mon_reshape_Missi, axis = 0)\n",
    "print(runoff_scenEraTwo_ensMean_mon_clim_Missi.shape)\n"
   ]
  },
  {
   "cell_type": "code",
   "execution_count": 163,
   "metadata": {},
   "outputs": [
    {
     "name": "stdout",
     "output_type": "stream",
     "text": [
      "(312,)\n",
      "(26, 12)\n",
      "(12,)\n"
     ]
    }
   ],
   "source": [
    "runoff_scenEraThree_ensMean_mon_Missi = runoff_masked_ensMean_basinAvg_Missi[scenEraThreeStepSt:scenEraThreeStepEnd]\n",
    "print(runoff_scenEraThree_ensMean_mon_Missi.shape)\n",
    "\n",
    "runoff_scenEraThree_ensMean_mon_reshape_Missi=np.reshape(runoff_scenEraThree_ensMean_mon_Missi,(26,12))\n",
    "print(runoff_scenEraThree_ensMean_mon_reshape_Missi.shape)\n",
    "\n",
    "runoff_scenEraThree_ensMean_mon_clim_Missi = np.nanmean(runoff_scenEraThree_ensMean_mon_reshape_Missi, axis = 0)\n",
    "print(runoff_scenEraThree_ensMean_mon_clim_Missi.shape)\n"
   ]
  },
  {
   "cell_type": "markdown",
   "metadata": {},
   "source": [
    "### Missouri at the 4 Eras"
   ]
  },
  {
   "cell_type": "code",
   "execution_count": 164,
   "metadata": {},
   "outputs": [
    {
     "name": "stdout",
     "output_type": "stream",
     "text": [
      "(360,)\n",
      "(30, 12)\n",
      "(12,)\n"
     ]
    }
   ],
   "source": [
    "runoff_refPeriod_ensMean_mon_Missouri = runoff_masked_ensMean_basinAvg_Missouri[refPeriodStepSt:refPeriodStepEnd]\n",
    "print(runoff_refPeriod_ensMean_mon_Missouri.shape)\n",
    "\n",
    "runoff_refPeriod_ensMean_mon_reshape_Missouri=np.reshape(runoff_refPeriod_ensMean_mon_Missouri,(30,12))\n",
    "print(runoff_refPeriod_ensMean_mon_reshape_Missouri.shape)\n",
    "\n",
    "runoff_refPeriod_ensMean_mon_clim_Missouri = np.nanmean(runoff_refPeriod_ensMean_mon_reshape_Missouri, axis = 0)\n",
    "print(runoff_refPeriod_ensMean_mon_clim_Missouri.shape)\n"
   ]
  },
  {
   "cell_type": "code",
   "execution_count": 165,
   "metadata": {},
   "outputs": [
    {
     "name": "stdout",
     "output_type": "stream",
     "text": [
      "(360,)\n",
      "(30, 12)\n",
      "(12,)\n"
     ]
    }
   ],
   "source": [
    "runoff_scenEraOne_ensMean_mon_Missouri = runoff_masked_ensMean_basinAvg_Missouri[scenEraOneStepSt:scenEraOneStepEnd]\n",
    "print(runoff_scenEraOne_ensMean_mon_Missouri.shape)\n",
    "\n",
    "runoff_scenEraOne_ensMean_mon_reshape_Missouri=np.reshape(runoff_scenEraOne_ensMean_mon_Missouri,(30,12))\n",
    "print(runoff_scenEraOne_ensMean_mon_reshape_Missouri.shape)\n",
    "\n",
    "runoff_scenEraOne_ensMean_mon_clim_Missouri = np.nanmean(runoff_scenEraOne_ensMean_mon_reshape_Missouri, axis = 0)\n",
    "print(runoff_scenEraOne_ensMean_mon_clim_Missouri.shape)\n"
   ]
  },
  {
   "cell_type": "code",
   "execution_count": 166,
   "metadata": {},
   "outputs": [
    {
     "name": "stdout",
     "output_type": "stream",
     "text": [
      "(360,)\n",
      "(30, 12)\n",
      "(12,)\n"
     ]
    }
   ],
   "source": [
    "runoff_scenEraTwo_ensMean_mon_Missouri = runoff_masked_ensMean_basinAvg_Missouri[scenEraTwoStepSt:scenEraTwoStepEnd]\n",
    "print(runoff_scenEraTwo_ensMean_mon_Missouri.shape)\n",
    "\n",
    "runoff_scenEraTwo_ensMean_mon_reshape_Missouri=np.reshape(runoff_scenEraTwo_ensMean_mon_Missouri,(30,12))\n",
    "print(runoff_scenEraTwo_ensMean_mon_reshape_Missouri.shape)\n",
    "\n",
    "runoff_scenEraTwo_ensMean_mon_clim_Missouri = np.nanmean(runoff_scenEraTwo_ensMean_mon_reshape_Missouri, axis = 0)\n",
    "print(runoff_scenEraTwo_ensMean_mon_clim_Missouri.shape)\n"
   ]
  },
  {
   "cell_type": "code",
   "execution_count": 167,
   "metadata": {},
   "outputs": [
    {
     "name": "stdout",
     "output_type": "stream",
     "text": [
      "(312,)\n",
      "(26, 12)\n",
      "(12,)\n"
     ]
    }
   ],
   "source": [
    "runoff_scenEraThree_ensMean_mon_Missouri = runoff_masked_ensMean_basinAvg_Missouri[scenEraThreeStepSt:scenEraThreeStepEnd]\n",
    "print(runoff_scenEraThree_ensMean_mon_Missouri.shape)\n",
    "\n",
    "runoff_scenEraThree_ensMean_mon_reshape_Missouri=np.reshape(runoff_scenEraThree_ensMean_mon_Missouri,(26,12))\n",
    "print(runoff_scenEraThree_ensMean_mon_reshape_Missouri.shape)\n",
    "\n",
    "runoff_scenEraThree_ensMean_mon_clim_Missouri = np.nanmean(runoff_scenEraThree_ensMean_mon_reshape_Missouri, axis = 0)\n",
    "print(runoff_scenEraThree_ensMean_mon_clim_Missouri.shape)\n"
   ]
  },
  {
   "cell_type": "markdown",
   "metadata": {},
   "source": [
    "### Arkansas at the 4 Eras"
   ]
  },
  {
   "cell_type": "code",
   "execution_count": 168,
   "metadata": {},
   "outputs": [
    {
     "name": "stdout",
     "output_type": "stream",
     "text": [
      "(360,)\n",
      "(30, 12)\n",
      "(12,)\n"
     ]
    }
   ],
   "source": [
    "runoff_refPeriod_ensMean_mon_Arkansas = runoff_masked_ensMean_basinAvg_Arkansas[refPeriodStepSt:refPeriodStepEnd]\n",
    "print(runoff_refPeriod_ensMean_mon_Arkansas.shape)\n",
    "\n",
    "runoff_refPeriod_ensMean_mon_reshape_Arkansas=np.reshape(runoff_refPeriod_ensMean_mon_Arkansas,(30,12))\n",
    "print(runoff_refPeriod_ensMean_mon_reshape_Arkansas.shape)\n",
    "\n",
    "runoff_refPeriod_ensMean_mon_clim_Arkansas = np.nanmean(runoff_refPeriod_ensMean_mon_reshape_Arkansas, axis = 0)\n",
    "print(runoff_refPeriod_ensMean_mon_clim_Arkansas.shape)\n"
   ]
  },
  {
   "cell_type": "code",
   "execution_count": 169,
   "metadata": {},
   "outputs": [
    {
     "name": "stdout",
     "output_type": "stream",
     "text": [
      "(360,)\n",
      "(30, 12)\n",
      "(12,)\n"
     ]
    }
   ],
   "source": [
    "runoff_scenEraOne_ensMean_mon_Arkansas = runoff_masked_ensMean_basinAvg_Arkansas[scenEraOneStepSt:scenEraOneStepEnd]\n",
    "print(runoff_scenEraOne_ensMean_mon_Arkansas.shape)\n",
    "\n",
    "runoff_scenEraOne_ensMean_mon_reshape_Arkansas=np.reshape(runoff_scenEraOne_ensMean_mon_Arkansas,(30,12))\n",
    "print(runoff_scenEraOne_ensMean_mon_reshape_Arkansas.shape)\n",
    "\n",
    "runoff_scenEraOne_ensMean_mon_clim_Arkansas = np.nanmean(runoff_scenEraOne_ensMean_mon_reshape_Arkansas, axis = 0)\n",
    "print(runoff_scenEraOne_ensMean_mon_clim_Arkansas.shape)\n"
   ]
  },
  {
   "cell_type": "code",
   "execution_count": 170,
   "metadata": {},
   "outputs": [
    {
     "name": "stdout",
     "output_type": "stream",
     "text": [
      "(360,)\n",
      "(30, 12)\n",
      "(12,)\n"
     ]
    }
   ],
   "source": [
    "runoff_scenEraTwo_ensMean_mon_Arkansas = runoff_masked_ensMean_basinAvg_Arkansas[scenEraTwoStepSt:scenEraTwoStepEnd]\n",
    "print(runoff_scenEraTwo_ensMean_mon_Arkansas.shape)\n",
    "\n",
    "runoff_scenEraTwo_ensMean_mon_reshape_Arkansas=np.reshape(runoff_scenEraTwo_ensMean_mon_Arkansas,(30,12))\n",
    "print(runoff_scenEraTwo_ensMean_mon_reshape_Arkansas.shape)\n",
    "\n",
    "runoff_scenEraTwo_ensMean_mon_clim_Arkansas = np.nanmean(runoff_scenEraTwo_ensMean_mon_reshape_Arkansas, axis = 0)\n",
    "print(runoff_scenEraTwo_ensMean_mon_clim_Arkansas.shape)\n"
   ]
  },
  {
   "cell_type": "code",
   "execution_count": 171,
   "metadata": {},
   "outputs": [
    {
     "name": "stdout",
     "output_type": "stream",
     "text": [
      "(312,)\n",
      "(26, 12)\n",
      "(12,)\n"
     ]
    }
   ],
   "source": [
    "runoff_scenEraThree_ensMean_mon_Arkansas = runoff_masked_ensMean_basinAvg_Arkansas[scenEraThreeStepSt:scenEraThreeStepEnd]\n",
    "print(runoff_scenEraThree_ensMean_mon_Arkansas.shape)\n",
    "\n",
    "runoff_scenEraThree_ensMean_mon_reshape_Arkansas=np.reshape(runoff_scenEraThree_ensMean_mon_Arkansas,(26,12))\n",
    "print(runoff_scenEraThree_ensMean_mon_reshape_Arkansas.shape)\n",
    "\n",
    "runoff_scenEraThree_ensMean_mon_clim_Arkansas = np.nanmean(runoff_scenEraThree_ensMean_mon_reshape_Arkansas, axis = 0)\n",
    "print(runoff_scenEraThree_ensMean_mon_clim_Arkansas.shape)\n"
   ]
  },
  {
   "cell_type": "markdown",
   "metadata": {},
   "source": [
    "### Ohio at the 4 Eras"
   ]
  },
  {
   "cell_type": "code",
   "execution_count": 172,
   "metadata": {},
   "outputs": [
    {
     "name": "stdout",
     "output_type": "stream",
     "text": [
      "(360,)\n",
      "(30, 12)\n",
      "(12,)\n"
     ]
    }
   ],
   "source": [
    "runoff_refPeriod_ensMean_mon_Ohio = runoff_masked_ensMean_basinAvg_Ohio[refPeriodStepSt:refPeriodStepEnd]\n",
    "print(runoff_refPeriod_ensMean_mon_Ohio.shape)\n",
    "\n",
    "runoff_refPeriod_ensMean_mon_reshape_Ohio=np.reshape(runoff_refPeriod_ensMean_mon_Ohio,(30,12))\n",
    "print(runoff_refPeriod_ensMean_mon_reshape_Ohio.shape)\n",
    "\n",
    "runoff_refPeriod_ensMean_mon_clim_Ohio = np.nanmean(runoff_refPeriod_ensMean_mon_reshape_Ohio, axis = 0)\n",
    "print(runoff_refPeriod_ensMean_mon_clim_Ohio.shape)\n"
   ]
  },
  {
   "cell_type": "code",
   "execution_count": 173,
   "metadata": {},
   "outputs": [
    {
     "name": "stdout",
     "output_type": "stream",
     "text": [
      "(360,)\n",
      "(30, 12)\n",
      "(12,)\n"
     ]
    }
   ],
   "source": [
    "runoff_scenEraOne_ensMean_mon_Ohio = runoff_masked_ensMean_basinAvg_Ohio[scenEraOneStepSt:scenEraOneStepEnd]\n",
    "print(runoff_scenEraOne_ensMean_mon_Ohio.shape)\n",
    "\n",
    "runoff_scenEraOne_ensMean_mon_reshape_Ohio=np.reshape(runoff_scenEraOne_ensMean_mon_Ohio,(30,12))\n",
    "print(runoff_scenEraOne_ensMean_mon_reshape_Ohio.shape)\n",
    "\n",
    "runoff_scenEraOne_ensMean_mon_clim_Ohio = np.nanmean(runoff_scenEraOne_ensMean_mon_reshape_Ohio, axis = 0)\n",
    "print(runoff_scenEraOne_ensMean_mon_clim_Ohio.shape)\n"
   ]
  },
  {
   "cell_type": "code",
   "execution_count": 174,
   "metadata": {},
   "outputs": [
    {
     "name": "stdout",
     "output_type": "stream",
     "text": [
      "(360,)\n",
      "(30, 12)\n",
      "(12,)\n"
     ]
    }
   ],
   "source": [
    "runoff_scenEraTwo_ensMean_mon_Ohio = runoff_masked_ensMean_basinAvg_Ohio[scenEraTwoStepSt:scenEraTwoStepEnd]\n",
    "print(runoff_scenEraTwo_ensMean_mon_Ohio.shape)\n",
    "\n",
    "runoff_scenEraTwo_ensMean_mon_reshape_Ohio=np.reshape(runoff_scenEraTwo_ensMean_mon_Ohio,(30,12))\n",
    "print(runoff_scenEraTwo_ensMean_mon_reshape_Ohio.shape)\n",
    "\n",
    "runoff_scenEraTwo_ensMean_mon_clim_Ohio = np.nanmean(runoff_scenEraTwo_ensMean_mon_reshape_Ohio, axis = 0)\n",
    "print(runoff_scenEraTwo_ensMean_mon_clim_Ohio.shape)\n"
   ]
  },
  {
   "cell_type": "code",
   "execution_count": 175,
   "metadata": {},
   "outputs": [
    {
     "name": "stdout",
     "output_type": "stream",
     "text": [
      "(312,)\n",
      "(26, 12)\n",
      "(12,)\n"
     ]
    }
   ],
   "source": [
    "runoff_scenEraThree_ensMean_mon_Ohio = runoff_masked_ensMean_basinAvg_Ohio[scenEraThreeStepSt:scenEraThreeStepEnd]\n",
    "print(runoff_scenEraThree_ensMean_mon_Ohio.shape)\n",
    "\n",
    "runoff_scenEraThree_ensMean_mon_reshape_Ohio=np.reshape(runoff_scenEraThree_ensMean_mon_Ohio,(26,12))\n",
    "print(runoff_scenEraThree_ensMean_mon_reshape_Ohio.shape)\n",
    "\n",
    "runoff_scenEraThree_ensMean_mon_clim_Ohio = np.nanmean(runoff_scenEraThree_ensMean_mon_reshape_Ohio, axis = 0)\n",
    "print(runoff_scenEraThree_ensMean_mon_clim_Ohio.shape)\n"
   ]
  },
  {
   "cell_type": "markdown",
   "metadata": {},
   "source": [
    "### Lower Mississippi at the 4 Eras\n"
   ]
  },
  {
   "cell_type": "code",
   "execution_count": 176,
   "metadata": {},
   "outputs": [
    {
     "name": "stdout",
     "output_type": "stream",
     "text": [
      "(360,)\n",
      "(30, 12)\n",
      "(12,)\n"
     ]
    }
   ],
   "source": [
    "runoff_refPeriod_ensMean_mon_lowMissi = runoff_masked_ensMean_basinAvg_lowMissi[refPeriodStepSt:refPeriodStepEnd]\n",
    "print(runoff_refPeriod_ensMean_mon_lowMissi.shape)\n",
    "\n",
    "runoff_refPeriod_ensMean_mon_reshape_lowMissi=np.reshape(runoff_refPeriod_ensMean_mon_lowMissi,(30,12))\n",
    "print(runoff_refPeriod_ensMean_mon_reshape_lowMissi.shape)\n",
    "\n",
    "runoff_refPeriod_ensMean_mon_clim_lowMissi = np.nanmean(runoff_refPeriod_ensMean_mon_reshape_lowMissi, axis = 0)\n",
    "print(runoff_refPeriod_ensMean_mon_clim_lowMissi.shape)\n"
   ]
  },
  {
   "cell_type": "code",
   "execution_count": 177,
   "metadata": {},
   "outputs": [
    {
     "name": "stdout",
     "output_type": "stream",
     "text": [
      "(360,)\n",
      "(30, 12)\n",
      "(12,)\n"
     ]
    }
   ],
   "source": [
    "runoff_scenEraOne_ensMean_mon_lowMissi = runoff_masked_ensMean_basinAvg_lowMissi[scenEraOneStepSt:scenEraOneStepEnd]\n",
    "print(runoff_scenEraOne_ensMean_mon_lowMissi.shape)\n",
    "\n",
    "runoff_scenEraOne_ensMean_mon_reshape_lowMissi=np.reshape(runoff_scenEraOne_ensMean_mon_lowMissi,(30,12))\n",
    "print(runoff_scenEraOne_ensMean_mon_reshape_lowMissi.shape)\n",
    "\n",
    "runoff_scenEraOne_ensMean_mon_clim_lowMissi = np.nanmean(runoff_scenEraOne_ensMean_mon_reshape_lowMissi, axis = 0)\n",
    "print(runoff_scenEraOne_ensMean_mon_clim_lowMissi.shape)\n"
   ]
  },
  {
   "cell_type": "code",
   "execution_count": 178,
   "metadata": {},
   "outputs": [
    {
     "name": "stdout",
     "output_type": "stream",
     "text": [
      "(360,)\n",
      "(30, 12)\n",
      "(12,)\n"
     ]
    }
   ],
   "source": [
    "runoff_scenEraTwo_ensMean_mon_lowMissi = runoff_masked_ensMean_basinAvg_lowMissi[scenEraTwoStepSt:scenEraTwoStepEnd]\n",
    "print(runoff_scenEraTwo_ensMean_mon_lowMissi.shape)\n",
    "\n",
    "runoff_scenEraTwo_ensMean_mon_reshape_lowMissi=np.reshape(runoff_scenEraTwo_ensMean_mon_lowMissi,(30,12))\n",
    "print(runoff_scenEraTwo_ensMean_mon_reshape_lowMissi.shape)\n",
    "\n",
    "runoff_scenEraTwo_ensMean_mon_clim_lowMissi = np.nanmean(runoff_scenEraTwo_ensMean_mon_reshape_lowMissi, axis = 0)\n",
    "print(runoff_scenEraTwo_ensMean_mon_clim_lowMissi.shape)\n"
   ]
  },
  {
   "cell_type": "code",
   "execution_count": 179,
   "metadata": {},
   "outputs": [
    {
     "name": "stdout",
     "output_type": "stream",
     "text": [
      "(312,)\n",
      "(26, 12)\n",
      "(12,)\n"
     ]
    }
   ],
   "source": [
    "runoff_scenEraThree_ensMean_mon_lowMissi = runoff_masked_ensMean_basinAvg_lowMissi[scenEraThreeStepSt:scenEraThreeStepEnd]\n",
    "print(runoff_scenEraThree_ensMean_mon_lowMissi.shape)\n",
    "\n",
    "runoff_scenEraThree_ensMean_mon_reshape_lowMissi=np.reshape(runoff_scenEraThree_ensMean_mon_lowMissi,(26,12))\n",
    "print(runoff_scenEraThree_ensMean_mon_reshape_lowMissi.shape)\n",
    "\n",
    "runoff_scenEraThree_ensMean_mon_clim_lowMissi = np.nanmean(runoff_scenEraThree_ensMean_mon_reshape_lowMissi, axis = 0)\n",
    "print(runoff_scenEraThree_ensMean_mon_clim_lowMissi.shape)\n"
   ]
  },
  {
   "cell_type": "code",
   "execution_count": null,
   "metadata": {},
   "outputs": [],
   "source": []
  },
  {
   "cell_type": "code",
   "execution_count": null,
   "metadata": {},
   "outputs": [],
   "source": []
  },
  {
   "cell_type": "markdown",
   "metadata": {},
   "source": [
    "## Grouped Figure"
   ]
  },
  {
   "cell_type": "code",
   "execution_count": 180,
   "metadata": {},
   "outputs": [
    {
     "name": "stdout",
     "output_type": "stream",
     "text": [
      "(12,)\n",
      "(12,)\n",
      "(12,)\n",
      "(12,)\n",
      "\n",
      "(12,)\n",
      "(12,)\n",
      "(12,)\n",
      "(12,)\n",
      "\n",
      "(12,)\n",
      "(12,)\n",
      "(12,)\n",
      "(12,)\n",
      "\n",
      "(12,)\n",
      "(12,)\n",
      "(12,)\n",
      "(12,)\n",
      "\n"
     ]
    }
   ],
   "source": [
    "print(precip_refPeriod_ensMean_mon_clim_Missouri.shape)\n",
    "print(precip_scenEraOne_ensMean_mon_clim_Missouri.shape)\n",
    "print(precip_scenEraTwo_ensMean_mon_clim_Missouri.shape)\n",
    "print(precip_scenEraThree_ensMean_mon_clim_Missouri.shape)\n",
    "print('')\n",
    "\n",
    "print(et_refPeriod_ensMean_mon_clim_Missouri.shape)\n",
    "print(et_scenEraOne_ensMean_mon_clim_Missouri.shape)\n",
    "print(et_scenEraTwo_ensMean_mon_clim_Missouri.shape)\n",
    "print(et_scenEraThree_ensMean_mon_clim_Missouri.shape)\n",
    "print('')\n",
    "\n",
    "\n",
    "print(soilMoist_refPeriod_ensMean_mon_clim_Missouri.shape)\n",
    "print(soilMoist_scenEraOne_ensMean_mon_clim_Missouri.shape)\n",
    "print(soilMoist_scenEraTwo_ensMean_mon_clim_Missouri.shape)\n",
    "print(soilMoist_scenEraThree_ensMean_mon_clim_Missouri.shape)\n",
    "print('')\n",
    "\n",
    "\n",
    "print(runoff_refPeriod_ensMean_mon_clim_Missouri.shape)\n",
    "print(runoff_scenEraOne_ensMean_mon_clim_Missouri.shape)\n",
    "print(runoff_scenEraTwo_ensMean_mon_clim_Missouri.shape)\n",
    "print(runoff_scenEraThree_ensMean_mon_clim_Missouri.shape)\n",
    "print('')"
   ]
  },
  {
   "cell_type": "code",
   "execution_count": 181,
   "metadata": {},
   "outputs": [
    {
     "data": {
      "text/plain": [
       "array([43.13005834, 49.72688121, 61.16722147, 70.29699429, 83.24024637,\n",
       "       66.88939357, 34.6445092 , 34.57114605, 56.20722843, 53.65343179,\n",
       "       58.55799291, 47.75587975])"
      ]
     },
     "execution_count": 181,
     "metadata": {},
     "output_type": "execute_result"
    }
   ],
   "source": [
    "precip_refPeriod_ensMean_mon_clim_Arkansas"
   ]
  },
  {
   "cell_type": "code",
   "execution_count": null,
   "metadata": {},
   "outputs": [],
   "source": []
  },
  {
   "cell_type": "code",
   "execution_count": null,
   "metadata": {},
   "outputs": [],
   "source": []
  },
  {
   "cell_type": "code",
   "execution_count": 182,
   "metadata": {},
   "outputs": [
    {
     "name": "stdout",
     "output_type": "stream",
     "text": [
      "('Jan', '', 'Mar', '', 'May', '', 'Jul', '', 'Sep', '', 'Nov', '')\n"
     ]
    }
   ],
   "source": [
    " \n",
    "#monsStr = 'Jan','Feb','Mar','Apr','May','Jun','Jul', 'Aug', 'Sep','Oct', 'Nov', 'Dec'\n",
    "monsStr1 = 'Jan','','Mar','','May','','Jul','', 'Sep','', 'Nov',''\n",
    "\n",
    "print(monsStr1)"
   ]
  },
  {
   "cell_type": "code",
   "execution_count": 183,
   "metadata": {},
   "outputs": [
    {
     "data": {
      "image/png": "[encoded data removed]",
      "text/plain": [
       "<Figure size 864x864 with 20 Axes>"
      ]
     },
     "metadata": {
      "needs_background": "light"
     },
     "output_type": "display_data"
    }
   ],
   "source": [
    "\n",
    "#%matplotlib notebook\n",
    "\n",
    "# https://matplotlib.org/stable/tutorials/colors/colors.html\n",
    "\n",
    "fontSize = 14\n",
    "textFontVal = 16\n",
    "linewidth = 0.8\n",
    "#++++++++++++++++++++++++++++++++++++++++++++++++++++++++++++++++++++++++++\n",
    "\n",
    "#fig = plt.figure(figsize=(15, 7), constrained_layout=False)\n",
    "fig = plt.figure(figsize=(12, 12), constrained_layout=False)\n",
    "\n",
    "#axs = [plt.subplot(4, 4, x + 1,) for x in range(16)]\n",
    "axs = [plt.subplot(5, 4, x + 1,) for x in range(20)]\n",
    "\n",
    "ax1 = axs[0]\n",
    "\n",
    "ln111=ax1.plot(range(nMonsPerYr), precip_refPeriod_ensMean_mon_clim_Missouri, label=\"1971-2000\", color = 'green', linestyle='dashed', linewidth=2.5)\n",
    "ln112=ax1.plot(range(nMonsPerYr), precip_scenEraOne_ensMean_mon_clim_Missouri, label=\"2015-2044\", color = 'blue', linewidth=1)\n",
    "ln113=ax1.plot(range(nMonsPerYr), precip_scenEraTwo_ensMean_mon_clim_Missouri, label=\"2045-2074\", color = 'orange', linewidth=1.5)\n",
    "ln114=ax1.plot(range(nMonsPerYr), precip_scenEraThree_ensMean_mon_clim_Missouri, label=\"2075-2100\", color = 'red', linewidth=1)\n",
    "\n",
    "#ax1.set_title('(a) Missouri at Hermann', y=0.98, pad=-14, fontsize = textFontVal,loc='left')\n",
    "ax1.set_title('(a)', y=0.98, pad=-14, fontsize = textFontVal,loc='left')\n",
    "#ax1.text(2, 6, r'an equation: $E=mc^2$', fontsize=15)\n",
    "#ax1.text(-1, 1, r'an equation: $E=mc^2$', fontsize=textFontVal)\n",
    "ax1.text(3, 170, r'Missouri', fontsize=textFontVal)\n",
    "\n",
    "ax1.set_xticks(range(nMonsPerYr))\n",
    "ax1.set_xticklabels(monsStr, minor=False)\n",
    "ax1.set_xticklabels('', )\n",
    "ax1.set_xlim([0, 11])\n",
    "ax1.set_ylim([20, 160])\n",
    "\n",
    "ax1.set_yticks([50, 100, 150]) \n",
    "ax1.set_yticklabels(['50', '100', '150'],  fontsize = fontSize) \n",
    "\n",
    "\n",
    "#ax1.set_xlabel('Time (Year)')\n",
    "#ax1.set_ylabel('Discharge, $\\mathregular{m^{3}}$/s', fontsize = textFont )\n",
    "#ax1.set_ylabel('Precipitation', fontsize = textFont )\n",
    "ax1.set_ylabel('Precipitation\\n[mm/mon]', fontsize = textFontVal )\n",
    "\n",
    "ax1.set_xlabel('')\n",
    "#ax1.set_ylabel('')\n",
    "#ax1.get_legend().remove()\n",
    "\n",
    "#+++++++++++++++++++++++++++++++++++++++++++++++++++++++\n",
    "ax2 = axs[1]\n",
    "ln121=ax2.plot(range(nMonsPerYr), precip_refPeriod_ensMean_mon_clim_Arkansas, label=\"1971-2000\", color = 'green', linestyle='dashed', linewidth=2.5)\n",
    "ln122=ax2.plot(range(nMonsPerYr), precip_scenEraOne_ensMean_mon_clim_Arkansas, label=\"2015-2044\", color = 'blue', linewidth=1)\n",
    "ln123=ax2.plot(range(nMonsPerYr), precip_scenEraTwo_ensMean_mon_clim_Arkansas, label=\"2045-2074\", color = 'orange', linewidth=1.5)\n",
    "ln124=ax2.plot(range(nMonsPerYr), precip_scenEraThree_ensMean_mon_clim_Arkansas, label=\"2075-2100\", color = 'red', linewidth=1)\n",
    "ax2.set_title('(b)', y=0.98, pad=-14, fontsize = textFontVal,loc='left')\n",
    "ax2.text(3, 170, r'Arkansas', fontsize=textFontVal)\n",
    "\n",
    "ax2.set_xticks(range(nMonsPerYr))\n",
    "ax2.set_xticklabels(monsStr, minor=False)\n",
    "ax2.set_xticklabels('', )\n",
    "ax2.set_yticklabels('', )\n",
    "\n",
    "ax2.set_xlim([0, 11])\n",
    "ax2.set_ylim([20, 160])\n",
    "ax2.set_xlabel('')\n",
    "ax2.set_ylabel('')\n",
    "\n",
    "#+++++++++++++++++++++++++++++++++++++++++++++++++++++++\n",
    "ax3 = axs[2]\n",
    "ln131=ax3.plot(range(nMonsPerYr), precip_refPeriod_ensMean_mon_clim_Ohio, label=\"1971-2000\", color = 'green', linestyle='dashed', linewidth=2.5)\n",
    "ln132=ax3.plot(range(nMonsPerYr), precip_scenEraOne_ensMean_mon_clim_Ohio, label=\"2015-2044\", color = 'blue', linewidth=1)\n",
    "ln133=ax3.plot(range(nMonsPerYr), precip_scenEraTwo_ensMean_mon_clim_Ohio, label=\"2045-2074\", color = 'orange', linewidth=1.5)\n",
    "ln134=ax3.plot(range(nMonsPerYr), precip_scenEraThree_ensMean_mon_clim_Ohio, label=\"2075-2100\", color = 'red', linewidth=1)\n",
    "ax3.set_title('(c)', y=0.98, pad=-14, fontsize = textFontVal,loc='left')\n",
    "ax3.text(4.2, 170, r'Ohio', fontsize=textFontVal)\n",
    "\n",
    "ax3.set_xticks(range(nMonsPerYr))\n",
    "ax3.set_xticklabels(monsStr, minor=False)\n",
    "ax3.set_xticklabels('', )\n",
    "ax3.set_yticklabels('', )\n",
    "\n",
    "ax3.set_xlim([0, 11])\n",
    "ax3.set_ylim([20, 160])\n",
    "ax3.set_xlabel('')\n",
    "ax3.set_ylabel('')\n",
    "\n",
    "#+++++++++++++++++++++++++++++++++++++++++++++++++++++++\n",
    "ax4 = axs[3]\n",
    "ln141=ax4.plot(range(nMonsPerYr), precip_refPeriod_ensMean_mon_clim_lowMissi, label=\"1971-2000\", color = 'green', linestyle='dashed', linewidth=2.5)\n",
    "ln142=ax4.plot(range(nMonsPerYr), precip_scenEraOne_ensMean_mon_clim_lowMissi, label=\"2015-2044\", color = 'blue', linewidth=1)\n",
    "ln143=ax4.plot(range(nMonsPerYr), precip_scenEraTwo_ensMean_mon_clim_lowMissi, label=\"2045-2074\", color = 'orange', linewidth=1.5)\n",
    "ln144=ax4.plot(range(nMonsPerYr), precip_scenEraThree_ensMean_mon_clim_lowMissi, label=\"2075-2100\", color = 'red', linewidth=1)\n",
    "ax4.set_title('(d)', y=0.98, pad=-14, fontsize = textFontVal,loc='left')\n",
    "ax4.text(0.7, 170, r'Lower Mississippi', fontsize=textFontVal)\n",
    "\n",
    "ax4.set_xticks(range(nMonsPerYr))\n",
    "ax4.set_xticklabels(monsStr, minor=False)\n",
    "ax4.set_xticklabels('', )\n",
    "ax4.set_yticklabels('', )\n",
    "\n",
    "ax4.set_xlim([0, 11])\n",
    "ax4.set_ylim([20, 160])\n",
    "ax4.set_xlabel('')\n",
    "ax4.set_ylabel('')\n",
    "\n",
    "#+++++++++++++++++++++++++++++++++++++++++++++++++++++++\n",
    "#+++++++++++++++++++++++++++++++++++++++++++++++++++++++\n",
    "ax5 = axs[4]\n",
    "ln151=ax5.plot(range(nMonsPerYr), et_refPeriod_ensMean_mon_clim_Missouri, label=\"1971-2000\", color = 'green', linestyle='dashed', linewidth=2.5)\n",
    "ln152=ax5.plot(range(nMonsPerYr), et_scenEraOne_ensMean_mon_clim_Missouri, label=\"2015-2044\", color = 'blue', linewidth=1)\n",
    "ln153=ax5.plot(range(nMonsPerYr), et_scenEraTwo_ensMean_mon_clim_Missouri, label=\"2045-2074\", color = 'orange', linewidth=1.5)\n",
    "ln154=ax5.plot(range(nMonsPerYr), et_scenEraThree_ensMean_mon_clim_Missouri, label=\"2075-2100\", color = 'red', linewidth=1)\n",
    "\n",
    "#ax1.set_title('(a) Missouri at Hermann', y=0.98, pad=-14, fontsize = textFontVal,loc='left')\n",
    "ax5.set_title('(e)', y=0.98, pad=-14, fontsize = textFontVal,loc='left')\n",
    "\n",
    "ax5.set_xticks(range(nMonsPerYr))\n",
    "ax5.set_xticklabels(monsStr, minor=False)\n",
    "ax5.set_xticklabels('', )\n",
    "ax5.set_xlim([0, 11])\n",
    "ax5.set_ylim([0, 130])\n",
    "\n",
    "ax5.set_yticks([0, 50, 100]) \n",
    "ax5.set_yticklabels(['0', '50', '100'],  fontsize = fontSize) \n",
    "\n",
    "\n",
    "#ax5.set_xlabel('Time (Year)')\n",
    "#ax5.set_ylabel('Discharge, $\\mathregular{m^{3}}$/s', fontsize = textFont )\n",
    "#ax5.set_ylabel('Evapotranspiration', fontsize = textFont )\n",
    "ax5.set_ylabel('ET\\n[mm/mon]', fontsize = textFontVal )\n",
    "\n",
    "ax5.set_xlabel('')\n",
    "#ax5.set_ylabel('')\n",
    "#ax5.get_legend().remove()\n",
    "#+++++++++++++++++++++++++++++++++++++++++++++++++++++++\n",
    "\n",
    "ax6 = axs[5]\n",
    "ln161=ax6.plot(range(nMonsPerYr), et_refPeriod_ensMean_mon_clim_Arkansas, label=\"1971-2000\", color = 'green', linestyle='dashed', linewidth=2.5)\n",
    "ln162=ax6.plot(range(nMonsPerYr), et_scenEraOne_ensMean_mon_clim_Arkansas, label=\"2015-2044\", color = 'blue', linewidth=1)\n",
    "ln163=ax6.plot(range(nMonsPerYr), et_scenEraTwo_ensMean_mon_clim_Arkansas, label=\"2045-2074\", color = 'orange', linewidth=1.5)\n",
    "ln164=ax6.plot(range(nMonsPerYr), et_scenEraThree_ensMean_mon_clim_Arkansas, label=\"2075-2100\", color = 'red', linewidth=1)\n",
    "ax6.set_title('(f)', y=0.98, pad=-14, fontsize = textFontVal,loc='left')\n",
    "\n",
    "ax6.set_xticks(range(nMonsPerYr))\n",
    "ax6.set_xticklabels(monsStr, minor=False)\n",
    "ax6.set_xticklabels('', )\n",
    "ax6.set_yticklabels('', )\n",
    "\n",
    "ax6.set_xlim([0, 11])\n",
    "ax6.set_ylim([0, 130])\n",
    "ax6.set_xlabel('')\n",
    "ax6.set_ylabel('')\n",
    "#+++++++++++++++++++++++++++++++++++++++++++++++++++++++\n",
    "\n",
    "ax7 = axs[6]\n",
    "ln171=ax7.plot(range(nMonsPerYr), et_refPeriod_ensMean_mon_clim_Ohio, label=\"1971-2000\", color = 'green', linestyle='dashed', linewidth=2.5)\n",
    "ln172=ax7.plot(range(nMonsPerYr), et_scenEraOne_ensMean_mon_clim_Ohio, label=\"2015-2044\", color = 'blue', linewidth=1)\n",
    "ln173=ax7.plot(range(nMonsPerYr), et_scenEraTwo_ensMean_mon_clim_Ohio, label=\"2045-2074\", color = 'orange', linewidth=1.5)\n",
    "ln174=ax7.plot(range(nMonsPerYr), et_scenEraThree_ensMean_mon_clim_Ohio, label=\"2075-2100\", color = 'red', linewidth=1)\n",
    "ax7.set_title('(g)', y=0.98, pad=-14, fontsize = textFontVal,loc='left')\n",
    "\n",
    "ax7.set_xticks(range(nMonsPerYr))\n",
    "ax7.set_xticklabels(monsStr, minor=False)\n",
    "ax7.set_xticklabels('', )\n",
    "ax7.set_yticklabels('', )\n",
    "\n",
    "ax7.set_xlim([0, 11])\n",
    "ax7.set_ylim([0, 130])\n",
    "ax7.set_xlabel('')\n",
    "ax7.set_ylabel('')\n",
    "#+++++++++++++++++++++++++++++++++++++++++++++++++++++++\n",
    "\n",
    "ax8 = axs[7]\n",
    "ln181=ax8.plot(range(nMonsPerYr), et_refPeriod_ensMean_mon_clim_lowMissi, label=\"1971-2000\", color = 'green', linestyle='dashed', linewidth=2.5)\n",
    "ln182=ax8.plot(range(nMonsPerYr), et_scenEraOne_ensMean_mon_clim_lowMissi, label=\"2015-2044\", color = 'blue', linewidth=1)\n",
    "ln183=ax8.plot(range(nMonsPerYr), et_scenEraTwo_ensMean_mon_clim_lowMissi, label=\"2045-2074\", color = 'orange', linewidth=1.5)\n",
    "ln184=ax8.plot(range(nMonsPerYr), et_scenEraThree_ensMean_mon_clim_lowMissi, label=\"2075-2100\", color = 'red', linewidth=1)\n",
    "ax8.set_title('(h)', y=0.98, pad=-14, fontsize = textFontVal,loc='left')\n",
    "\n",
    "ax8.set_xticks(range(nMonsPerYr))\n",
    "ax8.set_xticklabels(monsStr, minor=False)\n",
    "ax8.set_xticklabels('', )\n",
    "ax8.set_yticklabels('', )\n",
    "\n",
    "ax8.set_xlim([0, 11])\n",
    "ax8.set_ylim([0, 130])\n",
    "ax8.set_xlabel('')\n",
    "ax8.set_ylabel('')\n",
    "\n",
    "#+++++++++++++++++++++++++++++++++++++++++++++++++++++++\n",
    "#+++++++++++++++++++++++++++++++++++++++++++++++++++++++\n",
    "#snowMelt_refPeriod_ensMean_mon_clim_Missouri\n",
    "\n",
    "ax9 = axs[8]\n",
    "ln191=ax9.plot(range(nMonsPerYr), snowMelt_refPeriod_ensMean_mon_clim_Missouri, label=\"1971-2000\", color = 'green', linestyle='dashed', linewidth=2.5)\n",
    "ln192=ax9.plot(range(nMonsPerYr), snowMelt_scenEraOne_ensMean_mon_clim_Missouri, label=\"2015-2044\", color = 'blue', linewidth=1)\n",
    "ln193=ax9.plot(range(nMonsPerYr), snowMelt_scenEraTwo_ensMean_mon_clim_Missouri, label=\"2045-2074\", color = 'orange', linewidth=1.5)\n",
    "ln194=ax9.plot(range(nMonsPerYr), snowMelt_scenEraThree_ensMean_mon_clim_Missouri, label=\"2075-2100\", color = 'red', linewidth=1)\n",
    "\n",
    "#ax9.set_title('(a) Missouri at Hermann', y=0.98, pad=-14, fontsize = textFontVal,loc='left')\n",
    "ax9.set_title('(i)', y=0.98, pad=-14, fontsize = textFontVal,loc='left')\n",
    "\n",
    "ax9.set_xticks(range(nMonsPerYr))\n",
    "ax9.set_xticklabels(monsStr, minor=False)\n",
    "ax9.set_xticklabels('', )\n",
    "ax9.set_xlim([0, 11])\n",
    "ax9.set_ylim([0, 75])\n",
    "\n",
    "ax9.set_yticks([0, 20, 40, 60]) \n",
    "ax9.set_yticklabels(['0', '20', '40', '60'],  fontsize = fontSize) \n",
    "\n",
    "#ax9.set_xlabel('Time (Year)')\n",
    "#ax9.set_ylabel('Discharge, $\\mathregular{m^{3}}$/s', fontsize = textFont )\n",
    "#ax9.set_ylabel('Soil Moisture', fontsize = textFont )\n",
    "ax9.set_ylabel('Snow melt\\n[mm/mon]', fontsize = textFontVal )\n",
    "\n",
    "ax9.set_xlabel('')\n",
    "#ax9.set_ylabel('')\n",
    "#ax9.get_legend().remove()\n",
    "#+++++++++++++++++++++++++++++++++++++++++++++++++++++++\n",
    "ax10 = axs[9]\n",
    "ln1101=ax10.plot(range(nMonsPerYr), snowMelt_refPeriod_ensMean_mon_clim_Arkansas, label=\"1971-2000\", color = 'green', linestyle='dashed', linewidth=2.5)\n",
    "ln1102=ax10.plot(range(nMonsPerYr), snowMelt_scenEraOne_ensMean_mon_clim_Arkansas, label=\"2015-2044\", color = 'blue', linewidth=1)\n",
    "ln1103=ax10.plot(range(nMonsPerYr), snowMelt_scenEraTwo_ensMean_mon_clim_Arkansas, label=\"2045-2074\", color = 'orange', linewidth=1.5)\n",
    "ln1104=ax10.plot(range(nMonsPerYr), snowMelt_scenEraThree_ensMean_mon_clim_Arkansas, label=\"2075-2100\", color = 'red', linewidth=1)\n",
    "ax10.set_title('(j)', y=0.98, pad=-14, fontsize = textFontVal,loc='left')\n",
    "\n",
    "ax10.set_xticks(range(nMonsPerYr))\n",
    "ax10.set_xticklabels(monsStr, minor=False)\n",
    "ax10.set_xticklabels('', )\n",
    "ax10.set_yticklabels('', )\n",
    "\n",
    "ax10.set_xlim([0, 11])\n",
    "ax10.set_ylim([0, 75])\n",
    "ax10.set_xlabel('')\n",
    "ax10.set_ylabel('')\n",
    "#+++++++++++++++++++++++++++++++++++++++++++++++++++++++\n",
    "ax11 = axs[10]\n",
    "ln1111=ax11.plot(range(nMonsPerYr), snowMelt_refPeriod_ensMean_mon_clim_Ohio, label=\"1971-2000\", color = 'green', linestyle='dashed', linewidth=2.5)\n",
    "ln1112=ax11.plot(range(nMonsPerYr), snowMelt_scenEraOne_ensMean_mon_clim_Ohio, label=\"2015-2044\", color = 'blue', linewidth=1)\n",
    "ln1113=ax11.plot(range(nMonsPerYr), snowMelt_scenEraTwo_ensMean_mon_clim_Ohio, label=\"2045-2074\", color = 'orange', linewidth=1.5)\n",
    "ln1114=ax11.plot(range(nMonsPerYr), snowMelt_scenEraThree_ensMean_mon_clim_Ohio, label=\"2075-2100\", color = 'red', linewidth=1)\n",
    "ax11.set_title('(k)', y=0.98, pad=-14, fontsize = textFontVal,loc='left')\n",
    "\n",
    "ax11.set_xticks(range(nMonsPerYr))\n",
    "ax11.set_xticklabels(monsStr, minor=False)\n",
    "ax11.set_xticklabels('', )\n",
    "ax11.set_yticklabels('', )\n",
    "\n",
    "ax11.set_xlim([0, 11])\n",
    "ax11.set_ylim([0, 75])\n",
    "ax11.set_xlabel('')\n",
    "ax11.set_ylabel('')\n",
    "#+++++++++++++++++++++++++++++++++++++++++++++++++++++++\n",
    "ax12 = axs[11]\n",
    "ln1121=ax12.plot(range(nMonsPerYr), snowMelt_refPeriod_ensMean_mon_clim_lowMissi, label=\"1971-2000\", color = 'green', linestyle='dashed', linewidth=2.5)\n",
    "ln1122=ax12.plot(range(nMonsPerYr), snowMelt_scenEraOne_ensMean_mon_clim_lowMissi, label=\"2015-2044\", color = 'blue', linewidth=1)\n",
    "ln1123=ax12.plot(range(nMonsPerYr), snowMelt_scenEraTwo_ensMean_mon_clim_lowMissi, label=\"2045-2074\", color = 'orange', linewidth=1.5)\n",
    "ln1124=ax12.plot(range(nMonsPerYr), snowMelt_scenEraThree_ensMean_mon_clim_lowMissi, label=\"2075-2100\", color = 'red', linewidth=1)\n",
    "ax12.set_title('(l)', y=0.98, pad=-14, fontsize = textFontVal,loc='left')\n",
    "\n",
    "ax12.set_xticks(range(nMonsPerYr))\n",
    "ax12.set_xticklabels(monsStr, minor=False)\n",
    "ax12.set_xticklabels('', )\n",
    "ax12.set_yticklabels('', )\n",
    "\n",
    "ax12.set_xlim([0, 11])\n",
    "ax12.set_ylim([0, 75])\n",
    "ax12.set_xlabel('')\n",
    "ax12.set_ylabel('')\n",
    "\n",
    "#ax12.legend(ncol=1, loc=(+1.005, 0.2),frameon=False)\n",
    "#ax12.legend(ncol=4, loc=(+0.05, -22.0),frameon=False, fontsize=fontSize)\n",
    "\n",
    "\n",
    "#+++++++++++++++++++++++++++++++++++++++++++++++++++++++\n",
    "#+++++++++++++++++++++++++++++++++++++++++++++++++++++++\n",
    "#+++++++++++++++++++++++++++++++++++++++++++++++++++++++\n",
    "#+++++++++++++++++++++++++++++++++++++++++++++++++++++++\n",
    "\n",
    "ax13 = axs[12]\n",
    "ln1131=ax13.plot(range(nMonsPerYr), soilMoist_refPeriod_ensMean_mon_clim_Missouri, label=\"1971-2000\", color = 'green', linestyle='dashed', linewidth=2.5)\n",
    "ln1132=ax13.plot(range(nMonsPerYr), soilMoist_scenEraOne_ensMean_mon_clim_Missouri, label=\"2015-2044\", color = 'blue', linewidth=1)\n",
    "ln1133=ax13.plot(range(nMonsPerYr), soilMoist_scenEraTwo_ensMean_mon_clim_Missouri, label=\"2045-2074\", color = 'orange', linewidth=1.5)\n",
    "ln1134=ax13.plot(range(nMonsPerYr), soilMoist_scenEraThree_ensMean_mon_clim_Missouri, label=\"2075-2100\", color = 'red', linewidth=1)\n",
    "\n",
    "#ax13.set_title('(a) Missouri at Hermann', y=0.98, pad=-14, fontsize = textFontVal,loc='left')\n",
    "ax13.set_title('(m)', y=0.98, pad=-14, fontsize = textFontVal,loc='left')\n",
    "\n",
    "ax13.set_xticks(range(nMonsPerYr))\n",
    "ax13.set_xticklabels(monsStr, minor=False)\n",
    "ax13.set_xticklabels('', )\n",
    "ax13.set_xlim([0, 11])\n",
    "ax13.set_ylim([15, 50])\n",
    "\n",
    "ax13.set_yticks([20, 30, 40, 50]) \n",
    "ax13.set_yticklabels(['20', '30', '40', '50'],  fontsize = fontSize) \n",
    "\n",
    "\n",
    "#ax13.set_xlabel('Time (Year)')\n",
    "#ax13.set_ylabel('Discharge, $\\mathregular{m^{3}}$/s', fontsize = textFont )\n",
    "#ax13.set_ylabel('Soil Moisture', fontsize = textFont )\n",
    "ax13.set_ylabel('Soil Moisture\\n[kg/$\\mathregular{m^{2}}$]', fontsize = textFontVal )\n",
    "\n",
    "ax13.set_xlabel('')\n",
    "#ax13.set_ylabel('')\n",
    "#ax13.get_legend().remove()\n",
    "#+++++++++++++++++++++++++++++++++++++++++++++++++++++++\n",
    "\n",
    "ax14 = axs[13]\n",
    "ln1141=ax14.plot(range(nMonsPerYr), soilMoist_refPeriod_ensMean_mon_clim_Arkansas, label=\"1971-2000\", color = 'green', linestyle='dashed', linewidth=2.5)\n",
    "ln1142=ax14.plot(range(nMonsPerYr), soilMoist_scenEraOne_ensMean_mon_clim_Arkansas, label=\"2015-2044\", color = 'blue', linewidth=1)\n",
    "ln1143=ax14.plot(range(nMonsPerYr), soilMoist_scenEraTwo_ensMean_mon_clim_Arkansas, label=\"2045-2074\", color = 'orange', linewidth=1.5)\n",
    "ln1144=ax14.plot(range(nMonsPerYr), soilMoist_scenEraThree_ensMean_mon_clim_Arkansas, label=\"2075-2100\", color = 'red', linewidth=1)\n",
    "ax14.set_title('(n)', y=0.98, pad=-14, fontsize = textFontVal,loc='left')\n",
    "\n",
    "ax14.set_xticks(range(nMonsPerYr))\n",
    "ax14.set_xticklabels(monsStr, minor=False)\n",
    "ax14.set_xticklabels('', )\n",
    "ax14.set_yticklabels('', )\n",
    "\n",
    "ax14.set_xlim([0, 11])\n",
    "ax14.set_ylim([15, 50])\n",
    "ax14.set_xlabel('')\n",
    "ax14.set_ylabel('')\n",
    "#+++++++++++++++++++++++++++++++++++++++++++++++++++++++\n",
    "\n",
    "ax15 = axs[14]\n",
    "ln1151=ax15.plot(range(nMonsPerYr), soilMoist_refPeriod_ensMean_mon_clim_Ohio, label=\"1971-2000\", color = 'green', linestyle='dashed', linewidth=2.5)\n",
    "ln1152=ax15.plot(range(nMonsPerYr), soilMoist_scenEraOne_ensMean_mon_clim_Ohio, label=\"2015-2044\", color = 'blue', linewidth=1)\n",
    "ln1153=ax15.plot(range(nMonsPerYr), soilMoist_scenEraTwo_ensMean_mon_clim_Ohio, label=\"2045-2074\", color = 'orange', linewidth=1.5)\n",
    "ln1154=ax15.plot(range(nMonsPerYr), soilMoist_scenEraThree_ensMean_mon_clim_Ohio, label=\"2075-2100\", color = 'red', linewidth=1)\n",
    "ax15.set_title('(o)', y=0.98, pad=-14, fontsize = textFontVal,loc='left')\n",
    "\n",
    "ax15.set_xticks(range(nMonsPerYr))\n",
    "ax15.set_xticklabels(monsStr, minor=False)\n",
    "ax15.set_xticklabels('', )\n",
    "ax15.set_yticklabels('', )\n",
    "\n",
    "ax15.set_xlim([0, 11])\n",
    "ax15.set_ylim([15, 50])\n",
    "ax15.set_xlabel('')\n",
    "ax15.set_ylabel('')\n",
    "#+++++++++++++++++++++++++++++++++++++++++++++++++++++++\n",
    "\n",
    "ax16 = axs[15]\n",
    "ln1161=ax16.plot(range(nMonsPerYr), soilMoist_refPeriod_ensMean_mon_clim_lowMissi, label=\"1971-2000\", color = 'green', linestyle='dashed', linewidth=2.5)\n",
    "ln1162=ax16.plot(range(nMonsPerYr), soilMoist_scenEraOne_ensMean_mon_clim_lowMissi, label=\"2015-2044\", color = 'blue', linewidth=1)\n",
    "ln1163=ax16.plot(range(nMonsPerYr), soilMoist_scenEraTwo_ensMean_mon_clim_lowMissi, label=\"2045-2074\", color = 'orange', linewidth=1.5)\n",
    "ln1164=ax16.plot(range(nMonsPerYr), soilMoist_scenEraThree_ensMean_mon_clim_lowMissi, label=\"2075-2100\", color = 'red', linewidth=1)\n",
    "ax16.set_title('(p)', y=0.98, pad=-14, fontsize = textFontVal,loc='left')\n",
    "\n",
    "ax16.set_xticks(range(nMonsPerYr))\n",
    "ax16.set_xticklabels(monsStr, minor=False)\n",
    "ax16.set_xticklabels('', )\n",
    "ax16.set_yticklabels('', )\n",
    "\n",
    "ax16.set_xlim([0, 11])\n",
    "ax16.set_ylim([15, 50])\n",
    "ax16.set_xlabel('')\n",
    "ax16.set_ylabel('')\n",
    "\n",
    "#+++++++++++++++++++++++++++++++++++++++++++++++++++++++\n",
    "#+++++++++++++++++++++++++++++++++++++++++++++++++++++++\n",
    "\n",
    "#+++++++++++++++++++++++++++++++++++++++++++++++++++++++\n",
    "#+++++++++++++++++++++++++++++++++++++++++++++++++++++++\n",
    "\n",
    "ax17 = axs[16]\n",
    "ln1171=ax17.plot(range(nMonsPerYr), runoff_refPeriod_ensMean_mon_clim_Missouri, label=\"1971-2000\", color = 'green', linestyle='dashed', linewidth=2.5)\n",
    "ln1172=ax17.plot(range(nMonsPerYr), runoff_scenEraOne_ensMean_mon_clim_Missouri, label=\"2015-2044\", color = 'blue', linewidth=1)\n",
    "ln1173=ax17.plot(range(nMonsPerYr), runoff_scenEraTwo_ensMean_mon_clim_Missouri, label=\"2045-2074\", color = 'orange', linewidth=1.5)\n",
    "ln1174=ax17.plot(range(nMonsPerYr), runoff_scenEraThree_ensMean_mon_clim_Missouri, label=\"2075-2100\", color = 'red', linewidth=1)\n",
    "\n",
    "#ax17.set_title('(a) Missouri at Hermann', y=0.98, pad=-14, fontsize = textFontVal,loc='left')\n",
    "ax17.set_title('(q)', y=0.98, pad=-14, fontsize = textFontVal,loc='left')\n",
    "\n",
    "ax17.set_xticks(range(nMonsPerYr))\n",
    "#ax17.set_xticks(range(6))\n",
    "\n",
    "#ax17.set_xticklabels(monsStr, minor=False)\n",
    "ax17.set_xticklabels(monsStr1, minor=False, rotation = 45, fontsize = fontSize)\n",
    "\n",
    "#ax17.set_xticklabels('', )\n",
    "ax17.set_xlim([0, 11])\n",
    "ax17.set_ylim([0, 45])\n",
    "\n",
    "ax17.set_yticks([0, 20, 40]) \n",
    "ax17.set_yticklabels(['0', '20', '40'],  fontsize = fontSize) \n",
    "\n",
    "\n",
    "#ax17.set_xlabel('Time (Year)')\n",
    "#ax17.set_ylabel('Discharge, $\\mathregular{m^{3}}$/s', fontsize = textFont )\n",
    "ax17.set_ylabel('Runoff\\n[mm/mon]', fontsize = textFontVal )\n",
    "\n",
    "#plt.ylabel('this is vertical\\ntest', multialignment='center')\n",
    "\n",
    "ax17.set_xlabel('')\n",
    "#ax17.set_ylabel('')\n",
    "#ax17.get_legend().remove()\n",
    "#+++++++++++++++++++++++++++++++++++++++++++++++++++++++\n",
    "\n",
    "ax18 = axs[17]\n",
    "ln1181=ax18.plot(range(nMonsPerYr), runoff_refPeriod_ensMean_mon_clim_Arkansas, label=\"1971-2000\", color = 'green', linestyle='dashed', linewidth=2.5)\n",
    "ln1182=ax18.plot(range(nMonsPerYr), runoff_scenEraOne_ensMean_mon_clim_Arkansas, label=\"2015-2044\", color = 'blue', linewidth=1)\n",
    "ln1183=ax18.plot(range(nMonsPerYr), runoff_scenEraTwo_ensMean_mon_clim_Arkansas, label=\"2045-2074\", color = 'orange', linewidth=1.5)\n",
    "ln1184=ax18.plot(range(nMonsPerYr), runoff_scenEraThree_ensMean_mon_clim_Arkansas, label=\"2075-2100\", color = 'red', linewidth=1)\n",
    "ax18.set_title('(r)', y=0.98, pad=-14, fontsize = textFontVal,loc='left')\n",
    "\n",
    "ax18.set_xticks(range(nMonsPerYr))\n",
    "#ax18.set_xticklabels(monsStr, minor=False)\n",
    "ax18.set_xticklabels(monsStr1, minor=False, rotation = 45, fontsize = fontSize)\n",
    "\n",
    "#ax18.set_xticklabels('', )\n",
    "ax18.set_yticklabels('', )\n",
    "\n",
    "ax18.set_xlim([0, 11])\n",
    "ax18.set_ylim([0, 45])\n",
    "#ax18.set_xlabel('')\n",
    "ax18.set_xlabel('Months', fontsize = textFontVal)\n",
    "ax18.xaxis.set_label_coords(1.1, -.3)\n",
    "\n",
    "ax18.set_ylabel('')\n",
    "ax18.legend(ncol=4, loc=(-0.8, -0.7),frameon=False, fontsize=fontSize)\n",
    "\n",
    "#+++++++++++++++++++++++++++++++++++++++++++++++++++++++\n",
    "\n",
    "ax19 = axs[18]\n",
    "ln1191=ax19.plot(range(nMonsPerYr), runoff_refPeriod_ensMean_mon_clim_Ohio, label=\"1971-2000\", color = 'green', linestyle='dashed', linewidth=2.5)\n",
    "ln1192=ax19.plot(range(nMonsPerYr), runoff_scenEraOne_ensMean_mon_clim_Ohio, label=\"2015-2044\", color = 'blue', linewidth=1)\n",
    "ln1193=ax19.plot(range(nMonsPerYr), runoff_scenEraTwo_ensMean_mon_clim_Ohio, label=\"2045-2074\", color = 'orange', linewidth=1.5)\n",
    "ln1194=ax19.plot(range(nMonsPerYr), runoff_scenEraThree_ensMean_mon_clim_Ohio, label=\"2075-2100\", color = 'red', linewidth=1)\n",
    "ax19.set_title('(s)', y=0.98, pad=-14, fontsize = textFontVal,loc='left')\n",
    "\n",
    "ax19.set_xticks(range(nMonsPerYr))\n",
    "#ax19.set_xticklabels(monsStr, minor=False)\n",
    "ax19.set_xticklabels(monsStr1, minor=False, rotation = 45, fontsize = fontSize)\n",
    "\n",
    "#ax19.set_xticklabels('', )\n",
    "ax19.set_yticklabels('', )\n",
    "\n",
    "ax19.set_xlim([0, 11])\n",
    "ax19.set_ylim([0, 45])\n",
    "ax19.set_xlabel('')\n",
    "ax19.set_ylabel('')\n",
    "#+++++++++++++++++++++++++++++++++++++++++++++++++++++++\n",
    "\n",
    "ax20 = axs[19]\n",
    "ln1201=ax20.plot(range(nMonsPerYr), runoff_refPeriod_ensMean_mon_clim_lowMissi, label=\"1971-2000\", color = 'green', linestyle='dashed', linewidth=2.5)\n",
    "ln1202=ax20.plot(range(nMonsPerYr), runoff_scenEraOne_ensMean_mon_clim_lowMissi, label=\"2015-2044\", color = 'blue', linewidth=1)\n",
    "ln1203=ax20.plot(range(nMonsPerYr), runoff_scenEraTwo_ensMean_mon_clim_lowMissi, label=\"2045-2074\", color = 'orange', linewidth=1.5)\n",
    "ln1204=ax20.plot(range(nMonsPerYr), runoff_scenEraThree_ensMean_mon_clim_lowMissi, label=\"2075-2100\", color = 'red', linewidth=1)\n",
    "ax20.set_title('(t)', y=0.98, pad=-14, fontsize = textFontVal,loc='left')\n",
    "\n",
    "ax20.set_xticks(range(nMonsPerYr))\n",
    "ax20.set_xticklabels(monsStr1, minor=False, rotation = 45, fontsize = fontSize)\n",
    "#ax20.set_xticklabels(monsStr, minor=False)\n",
    "\n",
    "#ax20.set_xticklabels('', )\n",
    "ax20.set_yticklabels('', )\n",
    "\n",
    "ax20.set_xlim([0, 11])\n",
    "ax20.set_ylim([0, 45])\n",
    "ax20.set_xlabel('')\n",
    "ax20.set_ylabel('')\n",
    "#ax20.legend(ncol=1, loc=(+1.005, -122.0),frameon=False, fontsize=fontSize)\n",
    "\n",
    "\n",
    "#+++++++++++++++++++++++++++++++++++++++++++++++++++++++\n",
    "#+++++++++++++++++++++++++++++++++++++++++++++++++++++++\n",
    "#+++++++++++++++++++++++++++++++++++++++++++++++++++++++\n",
    "#+++++++++++++++++++++++++++++++++++++++++++++++++++++++\n",
    "#st17 = fig.suptitle(\"Basin-average parameters\", fontsize = 20)\n",
    "#st17.set_y(0.94)\n",
    "#st17.set_x(0.515)\n",
    "\n",
    "plt.show()\n"
   ]
  },
  {
   "cell_type": "code",
   "execution_count": null,
   "metadata": {},
   "outputs": [],
   "source": []
  },
  {
   "cell_type": "code",
   "execution_count": null,
   "metadata": {},
   "outputs": [],
   "source": []
  },
  {
   "cell_type": "markdown",
   "metadata": {},
   "source": [
    "## Calculating Percent change of 21st century parameter values relative to the Historical Reference Period average"
   ]
  },
  {
   "cell_type": "markdown",
   "metadata": {},
   "source": [
    "## Precip"
   ]
  },
  {
   "cell_type": "code",
   "execution_count": 184,
   "metadata": {},
   "outputs": [
    {
     "name": "stdout",
     "output_type": "stream",
     "text": [
      "(12,)\n",
      "(12,)\n",
      "(12,)\n",
      "(12,)\n",
      "(12,)\n",
      "(12,)\n",
      "(12,)\n",
      "(12,)\n",
      "(12,)\n",
      "(12,)\n",
      "(12,)\n",
      "(12,)\n",
      "(12,)\n",
      "(12,)\n",
      "(12,)\n",
      "(12,)\n"
     ]
    }
   ],
   "source": [
    "print(precip_refPeriod_ensMean_mon_clim_Missouri.shape)\n",
    "print(precip_scenEraOne_ensMean_mon_clim_Missouri.shape)\n",
    "print(precip_scenEraTwo_ensMean_mon_clim_Missouri.shape)\n",
    "print(precip_scenEraThree_ensMean_mon_clim_Missouri.shape)\n",
    "\n",
    "print(precip_refPeriod_ensMean_mon_clim_Arkansas.shape)\n",
    "print(precip_scenEraOne_ensMean_mon_clim_Arkansas.shape)\n",
    "print(precip_scenEraTwo_ensMean_mon_clim_Arkansas.shape)\n",
    "print(precip_scenEraThree_ensMean_mon_clim_Arkansas.shape)\n",
    "\n",
    "print(precip_refPeriod_ensMean_mon_clim_Ohio.shape)\n",
    "print(precip_scenEraOne_ensMean_mon_clim_Ohio.shape)\n",
    "print(precip_scenEraTwo_ensMean_mon_clim_Ohio.shape)\n",
    "print(precip_scenEraThree_ensMean_mon_clim_Ohio.shape)\n",
    "\n",
    "print(precip_refPeriod_ensMean_mon_clim_lowMissi.shape)\n",
    "print(precip_scenEraOne_ensMean_mon_clim_lowMissi.shape)\n",
    "print(precip_scenEraTwo_ensMean_mon_clim_lowMissi.shape)\n",
    "print(precip_scenEraThree_ensMean_mon_clim_lowMissi.shape)\n"
   ]
  },
  {
   "cell_type": "markdown",
   "metadata": {},
   "source": [
    "## Missouri"
   ]
  },
  {
   "cell_type": "code",
   "execution_count": 185,
   "metadata": {},
   "outputs": [
    {
     "name": "stdout",
     "output_type": "stream",
     "text": [
      "(12,)\n",
      "[11.72006163 11.56429508 13.20548553 10.22547552  4.16112895 -3.81357477\n",
      " -9.32484732 -7.97524267 -0.32372293 -2.46921624  3.32278155  7.42082234]\n",
      "(12,)\n",
      "[ 15.99608819  20.62634085  25.67258211  19.850996     7.51085707\n",
      "  -2.44096786 -11.63261247  -8.23816865  -2.13820038   0.92472651\n",
      "   7.97731899  13.0446125 ]\n",
      "(12,)\n",
      "[ 26.09246307  28.14567602  37.32558335  33.08093525  10.09220428\n",
      "  -3.83016811 -13.37767037  -8.07385407   1.09091253   5.94159505\n",
      "  12.84863746  21.65672193]\n"
     ]
    }
   ],
   "source": [
    "precip_percCh_scenEraOne_ensMean_mon_clim_Missouri = (precip_scenEraOne_ensMean_mon_clim_Missouri-precip_refPeriod_ensMean_mon_clim_Missouri)/precip_refPeriod_ensMean_mon_clim_Missouri*100\n",
    "print(precip_percCh_scenEraOne_ensMean_mon_clim_Missouri.shape)\n",
    "print(precip_percCh_scenEraOne_ensMean_mon_clim_Missouri)\n",
    "\n",
    "precip_percCh_scenEraTwo_ensMean_mon_clim_Missouri = (precip_scenEraTwo_ensMean_mon_clim_Missouri-precip_refPeriod_ensMean_mon_clim_Missouri)/precip_refPeriod_ensMean_mon_clim_Missouri*100\n",
    "print(precip_percCh_scenEraTwo_ensMean_mon_clim_Missouri.shape)\n",
    "print(precip_percCh_scenEraTwo_ensMean_mon_clim_Missouri)\n",
    "\n",
    "precip_percCh_scenEraThree_ensMean_mon_clim_Missouri = (precip_scenEraThree_ensMean_mon_clim_Missouri-precip_refPeriod_ensMean_mon_clim_Missouri)/precip_refPeriod_ensMean_mon_clim_Missouri*100\n",
    "print(precip_percCh_scenEraThree_ensMean_mon_clim_Missouri.shape)\n",
    "print(precip_percCh_scenEraThree_ensMean_mon_clim_Missouri)"
   ]
  },
  {
   "cell_type": "markdown",
   "metadata": {},
   "source": [
    "## Arkansas"
   ]
  },
  {
   "cell_type": "code",
   "execution_count": 186,
   "metadata": {},
   "outputs": [
    {
     "name": "stdout",
     "output_type": "stream",
     "text": [
      "(12,)\n",
      "[ 4.49643859  5.28554412  4.61921274  8.62275799  5.91403058 -0.87724959\n",
      "  0.49597012 -4.45570134  1.94696707 -3.33011017 -0.14990239  4.35623913]\n",
      "(12,)\n",
      "[ 7.14647931 11.42467882  9.25392069 16.62462486 14.3339442   7.49511134\n",
      "  8.82440022 -2.35980278  2.35519567 -1.0105115   1.04867258  7.26164992]\n",
      "(12,)\n",
      "[ 6.76818816 12.51158504  8.93017786 20.14863646 18.98036022 11.77946231\n",
      " 17.62654725  0.29206907  9.05065906 -0.09040791 -0.41153943  5.00666802]\n"
     ]
    }
   ],
   "source": [
    "precip_percCh_scenEraOne_ensMean_mon_clim_Arkansas = (precip_scenEraOne_ensMean_mon_clim_Arkansas-precip_refPeriod_ensMean_mon_clim_Arkansas)/precip_refPeriod_ensMean_mon_clim_Arkansas*100\n",
    "print(precip_percCh_scenEraOne_ensMean_mon_clim_Arkansas.shape)\n",
    "print(precip_percCh_scenEraOne_ensMean_mon_clim_Arkansas)\n",
    "\n",
    "precip_percCh_scenEraTwo_ensMean_mon_clim_Arkansas = (precip_scenEraTwo_ensMean_mon_clim_Arkansas-precip_refPeriod_ensMean_mon_clim_Arkansas)/precip_refPeriod_ensMean_mon_clim_Arkansas*100\n",
    "print(precip_percCh_scenEraTwo_ensMean_mon_clim_Arkansas.shape)\n",
    "print(precip_percCh_scenEraTwo_ensMean_mon_clim_Arkansas)\n",
    "\n",
    "precip_percCh_scenEraThree_ensMean_mon_clim_Arkansas = (precip_scenEraThree_ensMean_mon_clim_Arkansas-precip_refPeriod_ensMean_mon_clim_Arkansas)/precip_refPeriod_ensMean_mon_clim_Arkansas*100\n",
    "print(precip_percCh_scenEraThree_ensMean_mon_clim_Arkansas.shape)\n",
    "print(precip_percCh_scenEraThree_ensMean_mon_clim_Arkansas)"
   ]
  },
  {
   "cell_type": "markdown",
   "metadata": {},
   "source": [
    "## Ohio"
   ]
  },
  {
   "cell_type": "code",
   "execution_count": 187,
   "metadata": {},
   "outputs": [
    {
     "name": "stdout",
     "output_type": "stream",
     "text": [
      "(12,)\n",
      "[ 9.61469532  8.42247417  7.05747933  3.43324866  1.99240044 -2.32426608\n",
      "  0.82128663  0.37392332  3.81515035  1.78280959  3.30341739  7.43396769]\n",
      "(12,)\n",
      "[16.23406085 14.07056352 12.89244512  9.67782899  4.88435262 -2.31408072\n",
      "  0.76103876 -1.25350077  1.37956699  4.94841413  9.43331707 14.28830393]\n",
      "(12,)\n",
      "[23.12571839 21.06969587 17.82991245 19.08134463  6.79464574 -4.05259981\n",
      "  4.88545142  1.21590354  2.71411591 10.93744868 14.33966655 18.21520303]\n"
     ]
    }
   ],
   "source": [
    "precip_percCh_scenEraOne_ensMean_mon_clim_Ohio = (precip_scenEraOne_ensMean_mon_clim_Ohio-precip_refPeriod_ensMean_mon_clim_Ohio)/precip_refPeriod_ensMean_mon_clim_Ohio*100\n",
    "print(precip_percCh_scenEraOne_ensMean_mon_clim_Ohio.shape)\n",
    "print(precip_percCh_scenEraOne_ensMean_mon_clim_Ohio)\n",
    "\n",
    "precip_percCh_scenEraTwo_ensMean_mon_clim_Ohio = (precip_scenEraTwo_ensMean_mon_clim_Ohio-precip_refPeriod_ensMean_mon_clim_Ohio)/precip_refPeriod_ensMean_mon_clim_Ohio*100\n",
    "print(precip_percCh_scenEraTwo_ensMean_mon_clim_Ohio.shape)\n",
    "print(precip_percCh_scenEraTwo_ensMean_mon_clim_Ohio)\n",
    "\n",
    "precip_percCh_scenEraThree_ensMean_mon_clim_Ohio = (precip_scenEraThree_ensMean_mon_clim_Ohio-precip_refPeriod_ensMean_mon_clim_Ohio)/precip_refPeriod_ensMean_mon_clim_Ohio*100\n",
    "print(precip_percCh_scenEraThree_ensMean_mon_clim_Ohio.shape)\n",
    "print(precip_percCh_scenEraThree_ensMean_mon_clim_Ohio)"
   ]
  },
  {
   "cell_type": "markdown",
   "metadata": {},
   "source": [
    "## Lower Mississippi"
   ]
  },
  {
   "cell_type": "code",
   "execution_count": 188,
   "metadata": {},
   "outputs": [
    {
     "name": "stdout",
     "output_type": "stream",
     "text": [
      "(12,)\n",
      "[ 4.60881396  4.43660158  3.26949774  3.38606819  2.718327    0.11281568\n",
      "  6.69256614  4.51803487 11.08469994  1.02770978  0.05402916  4.75149578]\n",
      "(12,)\n",
      "[ 9.22605433  7.95168821  8.80512447  8.76362321  8.93768026  6.82166852\n",
      " 10.62933577  6.27498571 11.78062125 11.3664716   2.85355468  7.65753786]\n",
      "(12,)\n",
      "[10.4228489  12.71977964  9.1301043  11.18200642 12.63462339 10.41158097\n",
      " 14.7684581   6.96106938 17.39784404 18.20252116  3.81850703  6.01252153]\n"
     ]
    }
   ],
   "source": [
    "precip_percCh_scenEraOne_ensMean_mon_clim_lowMissi = (precip_scenEraOne_ensMean_mon_clim_lowMissi-precip_refPeriod_ensMean_mon_clim_lowMissi)/precip_refPeriod_ensMean_mon_clim_lowMissi*100\n",
    "print(precip_percCh_scenEraOne_ensMean_mon_clim_lowMissi.shape)\n",
    "print(precip_percCh_scenEraOne_ensMean_mon_clim_lowMissi)\n",
    "\n",
    "precip_percCh_scenEraTwo_ensMean_mon_clim_lowMissi = (precip_scenEraTwo_ensMean_mon_clim_lowMissi-precip_refPeriod_ensMean_mon_clim_lowMissi)/precip_refPeriod_ensMean_mon_clim_lowMissi*100\n",
    "print(precip_percCh_scenEraTwo_ensMean_mon_clim_lowMissi.shape)\n",
    "print(precip_percCh_scenEraTwo_ensMean_mon_clim_lowMissi)\n",
    "\n",
    "precip_percCh_scenEraThree_ensMean_mon_clim_lowMissi = (precip_scenEraThree_ensMean_mon_clim_lowMissi-precip_refPeriod_ensMean_mon_clim_lowMissi)/precip_refPeriod_ensMean_mon_clim_lowMissi*100\n",
    "print(precip_percCh_scenEraThree_ensMean_mon_clim_lowMissi.shape)\n",
    "print(precip_percCh_scenEraThree_ensMean_mon_clim_lowMissi)"
   ]
  },
  {
   "cell_type": "code",
   "execution_count": null,
   "metadata": {},
   "outputs": [],
   "source": []
  },
  {
   "cell_type": "code",
   "execution_count": null,
   "metadata": {},
   "outputs": [],
   "source": []
  },
  {
   "cell_type": "markdown",
   "metadata": {},
   "source": [
    "## ET"
   ]
  },
  {
   "cell_type": "code",
   "execution_count": 189,
   "metadata": {},
   "outputs": [
    {
     "name": "stdout",
     "output_type": "stream",
     "text": [
      "(12,)\n",
      "(12,)\n",
      "(12,)\n",
      "(12,)\n",
      "(12,)\n",
      "(12,)\n",
      "(12,)\n",
      "(12,)\n",
      "(12,)\n",
      "(12,)\n",
      "(12,)\n",
      "(12,)\n",
      "(12,)\n",
      "(12,)\n",
      "(12,)\n",
      "(12,)\n"
     ]
    }
   ],
   "source": [
    "print(et_refPeriod_ensMean_mon_clim_Missouri.shape)\n",
    "print(et_scenEraOne_ensMean_mon_clim_Missouri.shape)\n",
    "print(et_scenEraTwo_ensMean_mon_clim_Missouri.shape)\n",
    "print(et_scenEraThree_ensMean_mon_clim_Missouri.shape)\n",
    "\n",
    "print(et_refPeriod_ensMean_mon_clim_Arkansas.shape)\n",
    "print(et_scenEraOne_ensMean_mon_clim_Arkansas.shape)\n",
    "print(et_scenEraTwo_ensMean_mon_clim_Arkansas.shape)\n",
    "print(et_scenEraThree_ensMean_mon_clim_Arkansas.shape)\n",
    "\n",
    "print(et_refPeriod_ensMean_mon_clim_Ohio.shape)\n",
    "print(et_scenEraOne_ensMean_mon_clim_Ohio.shape)\n",
    "print(et_scenEraTwo_ensMean_mon_clim_Ohio.shape)\n",
    "print(et_scenEraThree_ensMean_mon_clim_Ohio.shape)\n",
    "\n",
    "print(et_refPeriod_ensMean_mon_clim_lowMissi.shape)\n",
    "print(et_scenEraOne_ensMean_mon_clim_lowMissi.shape)\n",
    "print(et_scenEraTwo_ensMean_mon_clim_lowMissi.shape)\n",
    "print(et_scenEraThree_ensMean_mon_clim_lowMissi.shape)\n"
   ]
  },
  {
   "cell_type": "markdown",
   "metadata": {},
   "source": [
    "## Missouri"
   ]
  },
  {
   "cell_type": "code",
   "execution_count": 190,
   "metadata": {},
   "outputs": [
    {
     "name": "stdout",
     "output_type": "stream",
     "text": [
      "(12,)\n",
      "[49.66227791 43.16819147 21.46227898 15.34836288 10.97453455  2.15564948\n",
      " -3.20596751 -4.95343231 -0.99600956  6.02324034 16.82458622 30.68198746]\n",
      "(12,)\n",
      "[91.85637854 79.15345935 40.95729697 31.25241286 18.92929167  3.62662297\n",
      " -5.67255594 -7.63995137 -0.58405027 11.43843399 29.07594228 55.98785081]\n",
      "(12,)\n",
      "[135.3390735  116.59709879  63.2135188   48.21837371  26.21102491\n",
      "   3.58984628  -8.76995706  -9.66414066   1.96709601  18.83897061\n",
      "  43.77666667  81.91694943]\n"
     ]
    }
   ],
   "source": [
    "et_percCh_scenEraOne_ensMean_mon_clim_Missouri = (et_scenEraOne_ensMean_mon_clim_Missouri-et_refPeriod_ensMean_mon_clim_Missouri)/et_refPeriod_ensMean_mon_clim_Missouri*100\n",
    "print(et_percCh_scenEraOne_ensMean_mon_clim_Missouri.shape)\n",
    "print(et_percCh_scenEraOne_ensMean_mon_clim_Missouri)\n",
    "\n",
    "et_percCh_scenEraTwo_ensMean_mon_clim_Missouri = (et_scenEraTwo_ensMean_mon_clim_Missouri-et_refPeriod_ensMean_mon_clim_Missouri)/et_refPeriod_ensMean_mon_clim_Missouri*100\n",
    "print(et_percCh_scenEraTwo_ensMean_mon_clim_Missouri.shape)\n",
    "print(et_percCh_scenEraTwo_ensMean_mon_clim_Missouri)\n",
    "\n",
    "et_percCh_scenEraThree_ensMean_mon_clim_Missouri = (et_scenEraThree_ensMean_mon_clim_Missouri-et_refPeriod_ensMean_mon_clim_Missouri)/et_refPeriod_ensMean_mon_clim_Missouri*100\n",
    "print(et_percCh_scenEraThree_ensMean_mon_clim_Missouri.shape)\n",
    "print(et_percCh_scenEraThree_ensMean_mon_clim_Missouri)"
   ]
  },
  {
   "cell_type": "markdown",
   "metadata": {},
   "source": [
    "## Arkansas"
   ]
  },
  {
   "cell_type": "code",
   "execution_count": 191,
   "metadata": {},
   "outputs": [
    {
     "name": "stdout",
     "output_type": "stream",
     "text": [
      "(12,)\n",
      "[24.83698159 26.07389738 22.97070458 14.11628821  3.29261872 -0.05997464\n",
      "  0.6046827  -1.59686344  2.68460167  8.83956801 14.03643393 20.36840772]\n",
      "(12,)\n",
      "[35.80421955 35.85386926 29.91895052 19.43446905  5.96611402  2.14483921\n",
      "  5.53954766  3.1202216   6.21093196 12.7932202  19.47432674 28.88286514]\n",
      "(12,)\n",
      "[41.40103863 39.66398671 32.34873288 21.45337194  6.89447143  1.94246509\n",
      "  6.89524535  6.63156556 12.5552197  18.19529287 24.74404949 34.78343247]\n"
     ]
    }
   ],
   "source": [
    "et_percCh_scenEraOne_ensMean_mon_clim_Arkansas = (et_scenEraOne_ensMean_mon_clim_Arkansas-et_refPeriod_ensMean_mon_clim_Arkansas)/et_refPeriod_ensMean_mon_clim_Arkansas*100\n",
    "print(et_percCh_scenEraOne_ensMean_mon_clim_Arkansas.shape)\n",
    "print(et_percCh_scenEraOne_ensMean_mon_clim_Arkansas)\n",
    "\n",
    "et_percCh_scenEraTwo_ensMean_mon_clim_Arkansas = (et_scenEraTwo_ensMean_mon_clim_Arkansas-et_refPeriod_ensMean_mon_clim_Arkansas)/et_refPeriod_ensMean_mon_clim_Arkansas*100\n",
    "print(et_percCh_scenEraTwo_ensMean_mon_clim_Arkansas.shape)\n",
    "print(et_percCh_scenEraTwo_ensMean_mon_clim_Arkansas)\n",
    "\n",
    "et_percCh_scenEraThree_ensMean_mon_clim_Arkansas = (et_scenEraThree_ensMean_mon_clim_Arkansas-et_refPeriod_ensMean_mon_clim_Arkansas)/et_refPeriod_ensMean_mon_clim_Arkansas*100\n",
    "print(et_percCh_scenEraThree_ensMean_mon_clim_Arkansas.shape)\n",
    "print(et_percCh_scenEraThree_ensMean_mon_clim_Arkansas)"
   ]
  },
  {
   "cell_type": "markdown",
   "metadata": {},
   "source": [
    "## Ohio"
   ]
  },
  {
   "cell_type": "code",
   "execution_count": 192,
   "metadata": {},
   "outputs": [
    {
     "name": "stdout",
     "output_type": "stream",
     "text": [
      "(12,)\n",
      "[17.93755796 22.36943578 17.05567336 15.35741086 10.76859952  4.91387289\n",
      "  0.22167604 -1.5842331   2.51088956  4.93911434  8.62081649  8.94421403]\n",
      "(12,)\n",
      "[26.7743082  31.82803599 23.28999734 21.77401899 16.31057592  6.39539373\n",
      " -2.56841426 -5.35226517  0.58752622  3.6840112  12.37859608 13.56616325]\n",
      "(12,)\n",
      "[35.58077761 41.73212219 29.90286803 26.71202339 19.68356664  5.95053842\n",
      " -4.4474554  -6.46047013  1.9610292   6.21329495 18.76859126 18.79121681]\n"
     ]
    }
   ],
   "source": [
    "et_percCh_scenEraOne_ensMean_mon_clim_Ohio = (et_scenEraOne_ensMean_mon_clim_Ohio-et_refPeriod_ensMean_mon_clim_Ohio)/et_refPeriod_ensMean_mon_clim_Ohio*100\n",
    "print(et_percCh_scenEraOne_ensMean_mon_clim_Ohio.shape)\n",
    "print(et_percCh_scenEraOne_ensMean_mon_clim_Ohio)\n",
    "\n",
    "et_percCh_scenEraTwo_ensMean_mon_clim_Ohio = (et_scenEraTwo_ensMean_mon_clim_Ohio-et_refPeriod_ensMean_mon_clim_Ohio)/et_refPeriod_ensMean_mon_clim_Ohio*100\n",
    "print(et_percCh_scenEraTwo_ensMean_mon_clim_Ohio.shape)\n",
    "print(et_percCh_scenEraTwo_ensMean_mon_clim_Ohio)\n",
    "\n",
    "et_percCh_scenEraThree_ensMean_mon_clim_Ohio = (et_scenEraThree_ensMean_mon_clim_Ohio-et_refPeriod_ensMean_mon_clim_Ohio)/et_refPeriod_ensMean_mon_clim_Ohio*100\n",
    "print(et_percCh_scenEraThree_ensMean_mon_clim_Ohio.shape)\n",
    "print(et_percCh_scenEraThree_ensMean_mon_clim_Ohio)"
   ]
  },
  {
   "cell_type": "markdown",
   "metadata": {},
   "source": [
    "## Lower Mississippi"
   ]
  },
  {
   "cell_type": "code",
   "execution_count": 193,
   "metadata": {},
   "outputs": [
    {
     "name": "stdout",
     "output_type": "stream",
     "text": [
      "(12,)\n",
      "[18.79429009 20.48214275 18.29126766 11.84235456  5.67009972  2.65680554\n",
      "  2.04020653  1.99607967 10.57970019 13.19712937 14.50641872 16.60459662]\n",
      "(12,)\n",
      "[25.20396795 25.51228472 22.25167361 14.37869615  6.85295112  3.54258764\n",
      "  2.56983433  1.61272715 14.01048302 19.2246481  21.04165473 23.01759635]\n",
      "(12,)\n",
      "[31.27953706 30.77894675 26.00244004 16.06763279  7.01945471  3.23170736\n",
      "  1.52412518  1.27521775 17.42573871 24.9463106  28.02019987 29.04362048]\n"
     ]
    }
   ],
   "source": [
    "et_percCh_scenEraOne_ensMean_mon_clim_lowMissi = (et_scenEraOne_ensMean_mon_clim_lowMissi-et_refPeriod_ensMean_mon_clim_lowMissi)/et_refPeriod_ensMean_mon_clim_lowMissi*100\n",
    "print(et_percCh_scenEraOne_ensMean_mon_clim_lowMissi.shape)\n",
    "print(et_percCh_scenEraOne_ensMean_mon_clim_lowMissi)\n",
    "\n",
    "et_percCh_scenEraTwo_ensMean_mon_clim_lowMissi = (et_scenEraTwo_ensMean_mon_clim_lowMissi-et_refPeriod_ensMean_mon_clim_lowMissi)/et_refPeriod_ensMean_mon_clim_lowMissi*100\n",
    "print(et_percCh_scenEraTwo_ensMean_mon_clim_lowMissi.shape)\n",
    "print(et_percCh_scenEraTwo_ensMean_mon_clim_lowMissi)\n",
    "\n",
    "et_percCh_scenEraThree_ensMean_mon_clim_lowMissi = (et_scenEraThree_ensMean_mon_clim_lowMissi-et_refPeriod_ensMean_mon_clim_lowMissi)/et_refPeriod_ensMean_mon_clim_lowMissi*100\n",
    "print(et_percCh_scenEraThree_ensMean_mon_clim_lowMissi.shape)\n",
    "print(et_percCh_scenEraThree_ensMean_mon_clim_lowMissi)"
   ]
  },
  {
   "cell_type": "code",
   "execution_count": null,
   "metadata": {},
   "outputs": [],
   "source": []
  },
  {
   "cell_type": "markdown",
   "metadata": {},
   "source": [
    "## Snowmelt"
   ]
  },
  {
   "cell_type": "markdown",
   "metadata": {},
   "source": [
    "### Missouri"
   ]
  },
  {
   "cell_type": "code",
   "execution_count": 194,
   "metadata": {},
   "outputs": [
    {
     "name": "stdout",
     "output_type": "stream",
     "text": [
      "(12,)\n",
      "[ 11.5232074    0.94940651 -22.76464866 -49.26254398 -62.2457429\n",
      " -86.41432338 -98.33587018 -90.77431429 -57.90043991 -37.71460168\n",
      " -22.12609925   0.62388701]\n",
      "(12,)\n",
      "[ 12.93011282  -6.1478657  -44.01959047 -74.26185419 -80.63601429\n",
      " -96.93240975 -99.71173396 -98.72232864 -76.44310506 -59.09797733\n",
      " -33.88698665  -3.20702178]\n",
      "(12,)\n",
      "[  8.62335191 -19.64049085 -62.44402509 -84.88191519 -91.11424273\n",
      " -99.75221602 -99.97952399 -99.97352912 -91.97317156 -72.22390672\n",
      " -48.96915675 -11.47709323]\n"
     ]
    }
   ],
   "source": [
    "snowMelt_percCh_scenEraOne_ensMean_mon_clim_Missouri = (snowMelt_scenEraOne_ensMean_mon_clim_Missouri-snowMelt_refPeriod_ensMean_mon_clim_Missouri)/snowMelt_refPeriod_ensMean_mon_clim_Missouri*100\n",
    "print(snowMelt_percCh_scenEraOne_ensMean_mon_clim_Missouri.shape)\n",
    "print(snowMelt_percCh_scenEraOne_ensMean_mon_clim_Missouri)\n",
    "\n",
    "snowMelt_percCh_scenEraTwo_ensMean_mon_clim_Missouri = (snowMelt_scenEraTwo_ensMean_mon_clim_Missouri-snowMelt_refPeriod_ensMean_mon_clim_Missouri)/snowMelt_refPeriod_ensMean_mon_clim_Missouri*100\n",
    "print(snowMelt_percCh_scenEraTwo_ensMean_mon_clim_Missouri.shape)\n",
    "print(snowMelt_percCh_scenEraTwo_ensMean_mon_clim_Missouri)\n",
    "\n",
    "snowMelt_percCh_scenEraThree_ensMean_mon_clim_Missouri = (snowMelt_scenEraThree_ensMean_mon_clim_Missouri-snowMelt_refPeriod_ensMean_mon_clim_Missouri)/snowMelt_refPeriod_ensMean_mon_clim_Missouri*100\n",
    "print(snowMelt_percCh_scenEraThree_ensMean_mon_clim_Missouri.shape)\n",
    "print(snowMelt_percCh_scenEraThree_ensMean_mon_clim_Missouri)"
   ]
  },
  {
   "cell_type": "markdown",
   "metadata": {},
   "source": [
    "### Arkansas"
   ]
  },
  {
   "cell_type": "code",
   "execution_count": 195,
   "metadata": {},
   "outputs": [
    {
     "name": "stdout",
     "output_type": "stream",
     "text": [
      "(12,)\n",
      "[-27.67744232 -34.96680207 -32.50927912 -49.73597195 -66.83011293\n",
      " -51.83251148 -97.62218739 -99.61410619 -65.98170211 -50.68642497\n",
      " -35.50071335 -27.57008406]\n",
      "(12,)\n",
      "[-43.83384874 -45.87060189 -46.14982986 -69.97318091 -78.96041674\n",
      " -98.60232762 -99.86654657 -99.97347188 -84.78846987 -64.28106056\n",
      " -51.84456143 -43.36450352]\n",
      "(12,)\n",
      "[ -53.81460832  -56.2288041   -62.35988243  -81.77892212  -89.75054176\n",
      "  -99.6025416  -100.         -100.          -92.56104487  -79.83020913\n",
      "  -65.35206597  -58.13577824]\n"
     ]
    }
   ],
   "source": [
    "snowMelt_percCh_scenEraOne_ensMean_mon_clim_Arkansas = (snowMelt_scenEraOne_ensMean_mon_clim_Arkansas-snowMelt_refPeriod_ensMean_mon_clim_Arkansas)/snowMelt_refPeriod_ensMean_mon_clim_Arkansas*100\n",
    "print(snowMelt_percCh_scenEraOne_ensMean_mon_clim_Arkansas.shape)\n",
    "print(snowMelt_percCh_scenEraOne_ensMean_mon_clim_Arkansas)\n",
    "\n",
    "snowMelt_percCh_scenEraTwo_ensMean_mon_clim_Arkansas = (snowMelt_scenEraTwo_ensMean_mon_clim_Arkansas-snowMelt_refPeriod_ensMean_mon_clim_Arkansas)/snowMelt_refPeriod_ensMean_mon_clim_Arkansas*100\n",
    "print(snowMelt_percCh_scenEraTwo_ensMean_mon_clim_Arkansas.shape)\n",
    "print(snowMelt_percCh_scenEraTwo_ensMean_mon_clim_Arkansas)\n",
    "\n",
    "snowMelt_percCh_scenEraThree_ensMean_mon_clim_Arkansas = (snowMelt_scenEraThree_ensMean_mon_clim_Arkansas-snowMelt_refPeriod_ensMean_mon_clim_Arkansas)/snowMelt_refPeriod_ensMean_mon_clim_Arkansas*100\n",
    "print(snowMelt_percCh_scenEraThree_ensMean_mon_clim_Arkansas.shape)\n",
    "print(snowMelt_percCh_scenEraThree_ensMean_mon_clim_Arkansas)"
   ]
  },
  {
   "cell_type": "markdown",
   "metadata": {},
   "source": [
    "### Ohio"
   ]
  },
  {
   "cell_type": "code",
   "execution_count": 196,
   "metadata": {},
   "outputs": [
    {
     "name": "stdout",
     "output_type": "stream",
     "text": [
      "(12,)\n",
      "[ -27.42754466  -34.3685343   -54.3106576   -79.18173275  -80.34459187\n",
      "  -93.08454271 -100.         -100.          -98.79544516  -72.93015321\n",
      "  -51.67311134  -34.73403896]\n",
      "(12,)\n",
      "[ -43.14889237  -50.8104157   -71.60411881  -90.07842625  -94.22984056\n",
      "  -98.97361219 -100.         -100.          -99.95678776  -93.74774221\n",
      "  -73.7740599   -52.06504794]\n",
      "(12,)\n",
      "[ -53.41253718  -64.081106    -83.91935679  -96.17890836  -99.53774256\n",
      " -100.         -100.         -100.          -99.99963386  -97.07120222\n",
      "  -84.73321469  -68.22644763]\n"
     ]
    }
   ],
   "source": [
    "snowMelt_percCh_scenEraOne_ensMean_mon_clim_Ohio = (snowMelt_scenEraOne_ensMean_mon_clim_Ohio-snowMelt_refPeriod_ensMean_mon_clim_Ohio)/snowMelt_refPeriod_ensMean_mon_clim_Ohio*100\n",
    "print(snowMelt_percCh_scenEraOne_ensMean_mon_clim_Ohio.shape)\n",
    "print(snowMelt_percCh_scenEraOne_ensMean_mon_clim_Ohio)\n",
    "\n",
    "snowMelt_percCh_scenEraTwo_ensMean_mon_clim_Ohio = (snowMelt_scenEraTwo_ensMean_mon_clim_Ohio-snowMelt_refPeriod_ensMean_mon_clim_Ohio)/snowMelt_refPeriod_ensMean_mon_clim_Ohio*100\n",
    "print(snowMelt_percCh_scenEraTwo_ensMean_mon_clim_Ohio.shape)\n",
    "print(snowMelt_percCh_scenEraTwo_ensMean_mon_clim_Ohio)\n",
    "\n",
    "snowMelt_percCh_scenEraThree_ensMean_mon_clim_Ohio = (snowMelt_scenEraThree_ensMean_mon_clim_Ohio-snowMelt_refPeriod_ensMean_mon_clim_Ohio)/snowMelt_refPeriod_ensMean_mon_clim_Ohio*100\n",
    "print(snowMelt_percCh_scenEraThree_ensMean_mon_clim_Ohio.shape)\n",
    "print(snowMelt_percCh_scenEraThree_ensMean_mon_clim_Ohio)"
   ]
  },
  {
   "cell_type": "markdown",
   "metadata": {},
   "source": [
    "### Lower Mississippi"
   ]
  },
  {
   "cell_type": "code",
   "execution_count": 197,
   "metadata": {},
   "outputs": [
    {
     "name": "stdout",
     "output_type": "stream",
     "text": [
      "(12,)\n",
      "[ -44.61993106  -54.12472497  -65.33685863  -76.75060219 -100.\n",
      "           nan           nan           nan           nan  -99.20844896\n",
      "  -66.29694159  -52.57207285]\n",
      "(12,)\n",
      "[ -64.05255687  -71.16059218  -80.35587666  -74.91142498 -100.\n",
      "           nan           nan           nan           nan  -99.96878872\n",
      "  -87.22660312  -69.98554854]\n",
      "(12,)\n",
      "[ -78.00944554  -80.48016411  -89.71997951  -93.58546892 -100.\n",
      "           nan           nan           nan           nan  -99.99694451\n",
      "  -94.36803552  -88.65353943]\n"
     ]
    },
    {
     "name": "stderr",
     "output_type": "stream",
     "text": [
      "<ipython-input-197-2b4d2bf950ed>:1: RuntimeWarning: invalid value encountered in true_divide\n",
      "  snowMelt_percCh_scenEraOne_ensMean_mon_clim_lowMissi = (snowMelt_scenEraOne_ensMean_mon_clim_lowMissi-snowMelt_refPeriod_ensMean_mon_clim_lowMissi)/snowMelt_refPeriod_ensMean_mon_clim_lowMissi*100\n",
      "<ipython-input-197-2b4d2bf950ed>:5: RuntimeWarning: invalid value encountered in true_divide\n",
      "  snowMelt_percCh_scenEraTwo_ensMean_mon_clim_lowMissi = (snowMelt_scenEraTwo_ensMean_mon_clim_lowMissi-snowMelt_refPeriod_ensMean_mon_clim_lowMissi)/snowMelt_refPeriod_ensMean_mon_clim_lowMissi*100\n",
      "<ipython-input-197-2b4d2bf950ed>:9: RuntimeWarning: invalid value encountered in true_divide\n",
      "  snowMelt_percCh_scenEraThree_ensMean_mon_clim_lowMissi = (snowMelt_scenEraThree_ensMean_mon_clim_lowMissi-snowMelt_refPeriod_ensMean_mon_clim_lowMissi)/snowMelt_refPeriod_ensMean_mon_clim_lowMissi*100\n"
     ]
    }
   ],
   "source": [
    "snowMelt_percCh_scenEraOne_ensMean_mon_clim_lowMissi = (snowMelt_scenEraOne_ensMean_mon_clim_lowMissi-snowMelt_refPeriod_ensMean_mon_clim_lowMissi)/snowMelt_refPeriod_ensMean_mon_clim_lowMissi*100\n",
    "print(snowMelt_percCh_scenEraOne_ensMean_mon_clim_lowMissi.shape)\n",
    "print(snowMelt_percCh_scenEraOne_ensMean_mon_clim_lowMissi)\n",
    "\n",
    "snowMelt_percCh_scenEraTwo_ensMean_mon_clim_lowMissi = (snowMelt_scenEraTwo_ensMean_mon_clim_lowMissi-snowMelt_refPeriod_ensMean_mon_clim_lowMissi)/snowMelt_refPeriod_ensMean_mon_clim_lowMissi*100\n",
    "print(snowMelt_percCh_scenEraTwo_ensMean_mon_clim_lowMissi.shape)\n",
    "print(snowMelt_percCh_scenEraTwo_ensMean_mon_clim_lowMissi)\n",
    "\n",
    "snowMelt_percCh_scenEraThree_ensMean_mon_clim_lowMissi = (snowMelt_scenEraThree_ensMean_mon_clim_lowMissi-snowMelt_refPeriod_ensMean_mon_clim_lowMissi)/snowMelt_refPeriod_ensMean_mon_clim_lowMissi*100\n",
    "print(snowMelt_percCh_scenEraThree_ensMean_mon_clim_lowMissi.shape)\n",
    "print(snowMelt_percCh_scenEraThree_ensMean_mon_clim_lowMissi)"
   ]
  },
  {
   "cell_type": "code",
   "execution_count": null,
   "metadata": {},
   "outputs": [],
   "source": []
  },
  {
   "cell_type": "code",
   "execution_count": null,
   "metadata": {},
   "outputs": [],
   "source": []
  },
  {
   "cell_type": "markdown",
   "metadata": {},
   "source": [
    "## Soil Moisture"
   ]
  },
  {
   "cell_type": "markdown",
   "metadata": {},
   "source": [
    "### Missouri"
   ]
  },
  {
   "cell_type": "code",
   "execution_count": 198,
   "metadata": {},
   "outputs": [
    {
     "name": "stdout",
     "output_type": "stream",
     "text": [
      "(12,)\n",
      "[-1.3371074  -0.59853719 -2.63629578 -4.28416745 -2.69772497 -3.39317923\n",
      " -5.69468854 -7.43418133 -6.05169774 -5.40812603 -4.49364469 -3.54420881]\n",
      "(12,)\n",
      "[-2.34583594 -1.44101066 -5.11844564 -6.63345969 -4.39435741 -5.27265134\n",
      " -7.92639823 -9.64436334 -8.57397491 -7.18189266 -6.22417059 -5.36078642]\n",
      "(12,)\n",
      "[ -3.17415287  -2.75391993  -7.51219411  -7.51784728  -5.52083881\n",
      "  -7.25210833  -9.63438586 -10.74971289  -9.37318057  -7.72960461\n",
      "  -6.7032048   -6.59188029]\n"
     ]
    }
   ],
   "source": [
    "soilMoist_percCh_scenEraOne_ensMean_mon_clim_Missouri = (soilMoist_scenEraOne_ensMean_mon_clim_Missouri-soilMoist_refPeriod_ensMean_mon_clim_Missouri)/soilMoist_refPeriod_ensMean_mon_clim_Missouri*100\n",
    "print(soilMoist_percCh_scenEraOne_ensMean_mon_clim_Missouri.shape)\n",
    "print(soilMoist_percCh_scenEraOne_ensMean_mon_clim_Missouri)\n",
    "\n",
    "soilMoist_percCh_scenEraTwo_ensMean_mon_clim_Missouri = (soilMoist_scenEraTwo_ensMean_mon_clim_Missouri-soilMoist_refPeriod_ensMean_mon_clim_Missouri)/soilMoist_refPeriod_ensMean_mon_clim_Missouri*100\n",
    "print(soilMoist_percCh_scenEraTwo_ensMean_mon_clim_Missouri.shape)\n",
    "print(soilMoist_percCh_scenEraTwo_ensMean_mon_clim_Missouri)\n",
    "\n",
    "soilMoist_percCh_scenEraThree_ensMean_mon_clim_Missouri = (soilMoist_scenEraThree_ensMean_mon_clim_Missouri-soilMoist_refPeriod_ensMean_mon_clim_Missouri)/soilMoist_refPeriod_ensMean_mon_clim_Missouri*100\n",
    "print(soilMoist_percCh_scenEraThree_ensMean_mon_clim_Missouri.shape)\n",
    "print(soilMoist_percCh_scenEraThree_ensMean_mon_clim_Missouri)"
   ]
  },
  {
   "cell_type": "markdown",
   "metadata": {},
   "source": [
    "## Arkansas"
   ]
  },
  {
   "cell_type": "code",
   "execution_count": 199,
   "metadata": {},
   "outputs": [
    {
     "name": "stdout",
     "output_type": "stream",
     "text": [
      "(12,)\n",
      "[-4.28337606 -4.17020456 -3.48571449 -3.56517641 -2.23104752 -2.61403825\n",
      " -3.20712274 -4.39149821 -3.80662999 -4.54044344 -4.58243902 -3.95801836]\n",
      "(12,)\n",
      "[-5.8098329  -5.154388   -3.99575362 -3.72667661 -1.1435514  -1.14888835\n",
      " -1.37176909 -4.07615098 -4.47275583 -5.50175967 -5.56989282 -5.15730525]\n",
      "(12,)\n",
      "[-6.99716774 -6.10442954 -4.65294348 -4.42722618 -1.23385885 -0.50033024\n",
      "  0.14935573 -3.19172714 -3.74542414 -5.926038   -6.52122809 -6.28651574]\n"
     ]
    }
   ],
   "source": [
    "soilMoist_percCh_scenEraOne_ensMean_mon_clim_Arkansas = (soilMoist_scenEraOne_ensMean_mon_clim_Arkansas-soilMoist_refPeriod_ensMean_mon_clim_Arkansas)/soilMoist_refPeriod_ensMean_mon_clim_Arkansas*100\n",
    "print(soilMoist_percCh_scenEraOne_ensMean_mon_clim_Arkansas.shape)\n",
    "print(soilMoist_percCh_scenEraOne_ensMean_mon_clim_Arkansas)\n",
    "\n",
    "soilMoist_percCh_scenEraTwo_ensMean_mon_clim_Arkansas = (soilMoist_scenEraTwo_ensMean_mon_clim_Arkansas-soilMoist_refPeriod_ensMean_mon_clim_Arkansas)/soilMoist_refPeriod_ensMean_mon_clim_Arkansas*100\n",
    "print(soilMoist_percCh_scenEraTwo_ensMean_mon_clim_Arkansas.shape)\n",
    "print(soilMoist_percCh_scenEraTwo_ensMean_mon_clim_Arkansas)\n",
    "\n",
    "soilMoist_percCh_scenEraThree_ensMean_mon_clim_Arkansas = (soilMoist_scenEraThree_ensMean_mon_clim_Arkansas-soilMoist_refPeriod_ensMean_mon_clim_Arkansas)/soilMoist_refPeriod_ensMean_mon_clim_Arkansas*100\n",
    "print(soilMoist_percCh_scenEraThree_ensMean_mon_clim_Arkansas.shape)\n",
    "print(soilMoist_percCh_scenEraThree_ensMean_mon_clim_Arkansas)"
   ]
  },
  {
   "cell_type": "markdown",
   "metadata": {},
   "source": [
    "## Ohio"
   ]
  },
  {
   "cell_type": "code",
   "execution_count": 200,
   "metadata": {},
   "outputs": [
    {
     "name": "stdout",
     "output_type": "stream",
     "text": [
      "(12,)\n",
      "[-3.28981264 -3.23306337 -3.15807064 -1.54745118 -1.40178211 -2.56901806\n",
      " -3.21660462 -2.40372448 -1.68945523 -1.83668668 -1.50311757 -2.85624724]\n",
      "(12,)\n",
      "[-4.63331277 -4.50002018 -3.7036644  -1.05702173 -1.55233081 -3.64991395\n",
      " -3.73021872 -1.95945163 -1.37111256 -0.60975229  0.02761924 -2.73891185]\n",
      "(12,)\n",
      "[-5.50511257 -5.53473736 -3.92678934 -0.24091154 -1.07733447 -4.32637409\n",
      " -3.0990689  -0.06165943  0.29944652  1.49582795  1.69119462 -2.28362694]\n"
     ]
    }
   ],
   "source": [
    "soilMoist_percCh_scenEraOne_ensMean_mon_clim_Ohio = (soilMoist_scenEraOne_ensMean_mon_clim_Ohio-soilMoist_refPeriod_ensMean_mon_clim_Ohio)/soilMoist_refPeriod_ensMean_mon_clim_Ohio*100\n",
    "print(soilMoist_percCh_scenEraOne_ensMean_mon_clim_Ohio.shape)\n",
    "print(soilMoist_percCh_scenEraOne_ensMean_mon_clim_Ohio)\n",
    "\n",
    "soilMoist_percCh_scenEraTwo_ensMean_mon_clim_Ohio = (soilMoist_scenEraTwo_ensMean_mon_clim_Ohio-soilMoist_refPeriod_ensMean_mon_clim_Ohio)/soilMoist_refPeriod_ensMean_mon_clim_Ohio*100\n",
    "print(soilMoist_percCh_scenEraTwo_ensMean_mon_clim_Ohio.shape)\n",
    "print(soilMoist_percCh_scenEraTwo_ensMean_mon_clim_Ohio)\n",
    "\n",
    "soilMoist_percCh_scenEraThree_ensMean_mon_clim_Ohio = (soilMoist_scenEraThree_ensMean_mon_clim_Ohio-soilMoist_refPeriod_ensMean_mon_clim_Ohio)/soilMoist_refPeriod_ensMean_mon_clim_Ohio*100\n",
    "print(soilMoist_percCh_scenEraThree_ensMean_mon_clim_Ohio.shape)\n",
    "print(soilMoist_percCh_scenEraThree_ensMean_mon_clim_Ohio)"
   ]
  },
  {
   "cell_type": "markdown",
   "metadata": {},
   "source": [
    "## Lower Missi"
   ]
  },
  {
   "cell_type": "code",
   "execution_count": 201,
   "metadata": {},
   "outputs": [
    {
     "name": "stdout",
     "output_type": "stream",
     "text": [
      "(12,)\n",
      "[-1.20210233 -1.08397041 -0.67424091 -1.1012074  -1.02041755 -1.36028586\n",
      " -1.51873984 -2.46788724 -1.53797293 -2.38991337 -2.11330972 -0.94794161]\n",
      "(12,)\n",
      "[-1.36853742 -1.17513339 -0.57744236 -0.72309244 -0.29044622 -0.03653118\n",
      " -0.07438288 -1.88365615 -1.30975244 -1.35530733 -1.58827048 -0.84956727]\n",
      "(12,)\n",
      "[-1.67273076 -1.22560368 -0.7361981  -0.88426273 -0.12466331  0.41009814\n",
      "  0.55948149 -2.33765728 -1.22490225 -0.39737427 -1.54994626 -1.27154804]\n"
     ]
    }
   ],
   "source": [
    "soilMoist_percCh_scenEraOne_ensMean_mon_clim_lowMissi = (soilMoist_scenEraOne_ensMean_mon_clim_lowMissi-soilMoist_refPeriod_ensMean_mon_clim_lowMissi)/soilMoist_refPeriod_ensMean_mon_clim_lowMissi*100\n",
    "print(soilMoist_percCh_scenEraOne_ensMean_mon_clim_lowMissi.shape)\n",
    "print(soilMoist_percCh_scenEraOne_ensMean_mon_clim_lowMissi)\n",
    "\n",
    "soilMoist_percCh_scenEraTwo_ensMean_mon_clim_lowMissi = (soilMoist_scenEraTwo_ensMean_mon_clim_lowMissi-soilMoist_refPeriod_ensMean_mon_clim_lowMissi)/soilMoist_refPeriod_ensMean_mon_clim_lowMissi*100\n",
    "print(soilMoist_percCh_scenEraTwo_ensMean_mon_clim_lowMissi.shape)\n",
    "print(soilMoist_percCh_scenEraTwo_ensMean_mon_clim_lowMissi)\n",
    "\n",
    "soilMoist_percCh_scenEraThree_ensMean_mon_clim_lowMissi = (soilMoist_scenEraThree_ensMean_mon_clim_lowMissi-soilMoist_refPeriod_ensMean_mon_clim_lowMissi)/soilMoist_refPeriod_ensMean_mon_clim_lowMissi*100\n",
    "print(soilMoist_percCh_scenEraThree_ensMean_mon_clim_lowMissi.shape)\n",
    "print(soilMoist_percCh_scenEraThree_ensMean_mon_clim_lowMissi)"
   ]
  },
  {
   "cell_type": "code",
   "execution_count": null,
   "metadata": {},
   "outputs": [],
   "source": []
  },
  {
   "cell_type": "code",
   "execution_count": null,
   "metadata": {},
   "outputs": [],
   "source": []
  },
  {
   "cell_type": "markdown",
   "metadata": {},
   "source": [
    "## Runoff"
   ]
  },
  {
   "cell_type": "markdown",
   "metadata": {},
   "source": [
    "### Missouri"
   ]
  },
  {
   "cell_type": "code",
   "execution_count": 202,
   "metadata": {},
   "outputs": [
    {
     "name": "stdout",
     "output_type": "stream",
     "text": [
      "(12,)\n",
      "[ 21.67066715  14.04345336  -9.82783808 -22.85816889   1.0288393\n",
      "  -5.76285372  -8.8854043   -9.71148336  -2.30496075  -3.94772589\n",
      "   5.63481033  13.06480231]\n",
      "(12,)\n",
      "[ 33.67014134  20.24583031 -23.15468751 -31.38098334   2.71555715\n",
      "  -6.39074513 -11.72632474 -10.61299514  -3.45417833  -0.73963229\n",
      "  12.34682363  24.43435681]\n",
      "(12,)\n",
      "[ 45.18434108  17.58816425 -35.67521885 -30.36394627   2.84708082\n",
      "  -8.39102211 -14.52902188 -10.57898154  -0.21305817   5.35564814\n",
      "  18.55117736  37.86151054]\n"
     ]
    }
   ],
   "source": [
    "runoff_percCh_scenEraOne_ensMean_mon_clim_Missouri = (runoff_scenEraOne_ensMean_mon_clim_Missouri-runoff_refPeriod_ensMean_mon_clim_Missouri)/runoff_refPeriod_ensMean_mon_clim_Missouri*100\n",
    "print(runoff_percCh_scenEraOne_ensMean_mon_clim_Missouri.shape)\n",
    "print(runoff_percCh_scenEraOne_ensMean_mon_clim_Missouri)\n",
    "\n",
    "runoff_percCh_scenEraTwo_ensMean_mon_clim_Missouri = (runoff_scenEraTwo_ensMean_mon_clim_Missouri-runoff_refPeriod_ensMean_mon_clim_Missouri)/runoff_refPeriod_ensMean_mon_clim_Missouri*100\n",
    "print(runoff_percCh_scenEraTwo_ensMean_mon_clim_Missouri.shape)\n",
    "print(runoff_percCh_scenEraTwo_ensMean_mon_clim_Missouri)\n",
    "\n",
    "runoff_percCh_scenEraThree_ensMean_mon_clim_Missouri = (runoff_scenEraThree_ensMean_mon_clim_Missouri-runoff_refPeriod_ensMean_mon_clim_Missouri)/runoff_refPeriod_ensMean_mon_clim_Missouri*100\n",
    "print(runoff_percCh_scenEraThree_ensMean_mon_clim_Missouri.shape)\n",
    "print(runoff_percCh_scenEraThree_ensMean_mon_clim_Missouri)"
   ]
  },
  {
   "cell_type": "markdown",
   "metadata": {},
   "source": [
    "### Arkansas"
   ]
  },
  {
   "cell_type": "code",
   "execution_count": 203,
   "metadata": {},
   "outputs": [
    {
     "name": "stdout",
     "output_type": "stream",
     "text": [
      "(12,)\n",
      "[-1.47018784 -5.25486916  0.82587706  1.42652172  0.85491774 -4.50362761\n",
      " -2.73258245 -6.99847545 -0.03114521 -5.21328401 -0.93612998  2.74266056]\n",
      "(12,)\n",
      "[-0.55762179 -0.81769735  4.41482527  7.96566184  7.8857949   2.37130594\n",
      "  3.08845453 -6.23430819 -0.031797   -2.42893641  0.60839663  6.76570218]\n",
      "(12,)\n",
      "[-1.04557642  0.42806747  3.13859676 10.93955595 11.00993415  5.71924932\n",
      "  9.76338588 -5.98422883  5.56723742 -1.82422325 -0.85270679  5.99878719]\n"
     ]
    }
   ],
   "source": [
    "runoff_percCh_scenEraOne_ensMean_mon_clim_Arkansas = (runoff_scenEraOne_ensMean_mon_clim_Arkansas-runoff_refPeriod_ensMean_mon_clim_Arkansas)/runoff_refPeriod_ensMean_mon_clim_Arkansas*100\n",
    "print(runoff_percCh_scenEraOne_ensMean_mon_clim_Arkansas.shape)\n",
    "print(runoff_percCh_scenEraOne_ensMean_mon_clim_Arkansas)\n",
    "\n",
    "runoff_percCh_scenEraTwo_ensMean_mon_clim_Arkansas = (runoff_scenEraTwo_ensMean_mon_clim_Arkansas-runoff_refPeriod_ensMean_mon_clim_Arkansas)/runoff_refPeriod_ensMean_mon_clim_Arkansas*100\n",
    "print(runoff_percCh_scenEraTwo_ensMean_mon_clim_Arkansas.shape)\n",
    "print(runoff_percCh_scenEraTwo_ensMean_mon_clim_Arkansas)\n",
    "\n",
    "runoff_percCh_scenEraThree_ensMean_mon_clim_Arkansas = (runoff_scenEraThree_ensMean_mon_clim_Arkansas-runoff_refPeriod_ensMean_mon_clim_Arkansas)/runoff_refPeriod_ensMean_mon_clim_Arkansas*100\n",
    "print(runoff_percCh_scenEraThree_ensMean_mon_clim_Arkansas.shape)\n",
    "print(runoff_percCh_scenEraThree_ensMean_mon_clim_Arkansas)"
   ]
  },
  {
   "cell_type": "markdown",
   "metadata": {},
   "source": [
    "### Ohio"
   ]
  },
  {
   "cell_type": "code",
   "execution_count": 204,
   "metadata": {},
   "outputs": [
    {
     "name": "stdout",
     "output_type": "stream",
     "text": [
      "(12,)\n",
      "[ 5.30344584 -1.37844199 -8.16419166 -2.78898176  0.16466501 -5.65793273\n",
      " -1.37650726 -1.93657432  1.73559199  1.06417849  2.29378928  5.62963124]\n",
      "(12,)\n",
      "[11.44964906  0.21333354 -6.58015779  4.02787535  2.26613946 -6.64489757\n",
      " -1.22901836 -2.4553132  -0.58926718  4.76665796  9.85272529 15.14217564]\n",
      "(12,)\n",
      "[18.40544342  4.16416247 -4.45468972 14.88479093  4.15790331 -9.23147285\n",
      "  4.46466541  1.03907904  0.48913212 11.92248741 16.84563977 20.98181735]\n"
     ]
    }
   ],
   "source": [
    "runoff_percCh_scenEraOne_ensMean_mon_clim_Ohio = (runoff_scenEraOne_ensMean_mon_clim_Ohio-runoff_refPeriod_ensMean_mon_clim_Ohio)/runoff_refPeriod_ensMean_mon_clim_Ohio*100\n",
    "print(runoff_percCh_scenEraOne_ensMean_mon_clim_Ohio.shape)\n",
    "print(runoff_percCh_scenEraOne_ensMean_mon_clim_Ohio)\n",
    "\n",
    "runoff_percCh_scenEraTwo_ensMean_mon_clim_Ohio = (runoff_scenEraTwo_ensMean_mon_clim_Ohio-runoff_refPeriod_ensMean_mon_clim_Ohio)/runoff_refPeriod_ensMean_mon_clim_Ohio*100\n",
    "print(runoff_percCh_scenEraTwo_ensMean_mon_clim_Ohio.shape)\n",
    "print(runoff_percCh_scenEraTwo_ensMean_mon_clim_Ohio)\n",
    "\n",
    "runoff_percCh_scenEraThree_ensMean_mon_clim_Ohio = (runoff_scenEraThree_ensMean_mon_clim_Ohio-runoff_refPeriod_ensMean_mon_clim_Ohio)/runoff_refPeriod_ensMean_mon_clim_Ohio*100\n",
    "print(runoff_percCh_scenEraThree_ensMean_mon_clim_Ohio.shape)\n",
    "print(runoff_percCh_scenEraThree_ensMean_mon_clim_Ohio)"
   ]
  },
  {
   "cell_type": "markdown",
   "metadata": {},
   "source": [
    "### Lower Missi"
   ]
  },
  {
   "cell_type": "code",
   "execution_count": 205,
   "metadata": {},
   "outputs": [
    {
     "name": "stdout",
     "output_type": "stream",
     "text": [
      "(12,)\n",
      "[-0.64109979 -1.60435175 -1.22353278  0.57005475 -1.39801962 -4.51951993\n",
      " -2.67573382 -9.74997956  6.38192381 -2.76771718 -2.73907898  1.4966504 ]\n",
      "(12,)\n",
      "[  7.42891668   6.37649003   9.77570491  10.49600555   6.32402575\n",
      "   2.42094205   0.29276258 -11.19511832   9.45075142   9.9971445\n",
      "   2.7580273    7.87451789]\n",
      "(12,)\n",
      "[ 10.83115491  12.21613337  11.07621199  14.67566408  10.36605303\n",
      "   4.71018355  -0.62378085 -14.4330379   15.19013342  17.88592987\n",
      "   4.85202433   8.19429231]\n"
     ]
    }
   ],
   "source": [
    "runoff_percCh_scenEraOne_ensMean_mon_clim_lowMissi = (runoff_scenEraOne_ensMean_mon_clim_lowMissi-runoff_refPeriod_ensMean_mon_clim_lowMissi)/runoff_refPeriod_ensMean_mon_clim_lowMissi*100\n",
    "print(runoff_percCh_scenEraOne_ensMean_mon_clim_lowMissi.shape)\n",
    "print(runoff_percCh_scenEraOne_ensMean_mon_clim_lowMissi)\n",
    "\n",
    "runoff_percCh_scenEraTwo_ensMean_mon_clim_lowMissi = (runoff_scenEraTwo_ensMean_mon_clim_lowMissi-runoff_refPeriod_ensMean_mon_clim_lowMissi)/runoff_refPeriod_ensMean_mon_clim_lowMissi*100\n",
    "print(runoff_percCh_scenEraTwo_ensMean_mon_clim_lowMissi.shape)\n",
    "print(runoff_percCh_scenEraTwo_ensMean_mon_clim_lowMissi)\n",
    "\n",
    "runoff_percCh_scenEraThree_ensMean_mon_clim_lowMissi = (runoff_scenEraThree_ensMean_mon_clim_lowMissi-runoff_refPeriod_ensMean_mon_clim_lowMissi)/runoff_refPeriod_ensMean_mon_clim_lowMissi*100\n",
    "print(runoff_percCh_scenEraThree_ensMean_mon_clim_lowMissi.shape)\n",
    "print(runoff_percCh_scenEraThree_ensMean_mon_clim_lowMissi)"
   ]
  },
  {
   "cell_type": "code",
   "execution_count": null,
   "metadata": {},
   "outputs": [],
   "source": []
  },
  {
   "cell_type": "code",
   "execution_count": null,
   "metadata": {},
   "outputs": [],
   "source": []
  },
  {
   "cell_type": "code",
   "execution_count": null,
   "metadata": {},
   "outputs": [],
   "source": []
  },
  {
   "cell_type": "code",
   "execution_count": null,
   "metadata": {},
   "outputs": [],
   "source": []
  },
  {
   "cell_type": "code",
   "execution_count": null,
   "metadata": {},
   "outputs": [],
   "source": []
  },
  {
   "cell_type": "code",
   "execution_count": null,
   "metadata": {},
   "outputs": [],
   "source": []
  },
  {
   "cell_type": "code",
   "execution_count": null,
   "metadata": {},
   "outputs": [],
   "source": []
  },
  {
   "cell_type": "code",
   "execution_count": null,
   "metadata": {},
   "outputs": [],
   "source": []
  },
  {
   "cell_type": "code",
   "execution_count": null,
   "metadata": {},
   "outputs": [],
   "source": []
  },
  {
   "cell_type": "code",
   "execution_count": null,
   "metadata": {},
   "outputs": [],
   "source": []
  },
  {
   "cell_type": "markdown",
   "metadata": {},
   "source": [
    "## Calculating Relative change of 21st century parameter values relative to the Historical Reference Period average"
   ]
  },
  {
   "cell_type": "markdown",
   "metadata": {},
   "source": [
    "### Precip"
   ]
  },
  {
   "cell_type": "code",
   "execution_count": 206,
   "metadata": {},
   "outputs": [
    {
     "name": "stdout",
     "output_type": "stream",
     "text": [
      "(12,)\n",
      "(12,)\n",
      "(12,)\n",
      "(12,)\n",
      "(12,)\n",
      "(12,)\n",
      "(12,)\n",
      "(12,)\n",
      "(12,)\n",
      "(12,)\n",
      "(12,)\n",
      "(12,)\n",
      "(12,)\n",
      "(12,)\n",
      "(12,)\n",
      "(12,)\n"
     ]
    }
   ],
   "source": [
    "print(precip_refPeriod_ensMean_mon_clim_Missouri.shape)\n",
    "print(precip_scenEraOne_ensMean_mon_clim_Missouri.shape)\n",
    "print(precip_scenEraTwo_ensMean_mon_clim_Missouri.shape)\n",
    "print(precip_scenEraThree_ensMean_mon_clim_Missouri.shape)\n",
    "\n",
    "print(precip_refPeriod_ensMean_mon_clim_Arkansas.shape)\n",
    "print(precip_scenEraOne_ensMean_mon_clim_Arkansas.shape)\n",
    "print(precip_scenEraTwo_ensMean_mon_clim_Arkansas.shape)\n",
    "print(precip_scenEraThree_ensMean_mon_clim_Arkansas.shape)\n",
    "\n",
    "print(precip_refPeriod_ensMean_mon_clim_Ohio.shape)\n",
    "print(precip_scenEraOne_ensMean_mon_clim_Ohio.shape)\n",
    "print(precip_scenEraTwo_ensMean_mon_clim_Ohio.shape)\n",
    "print(precip_scenEraThree_ensMean_mon_clim_Ohio.shape)\n",
    "\n",
    "print(precip_refPeriod_ensMean_mon_clim_lowMissi.shape)\n",
    "print(precip_scenEraOne_ensMean_mon_clim_lowMissi.shape)\n",
    "print(precip_scenEraTwo_ensMean_mon_clim_lowMissi.shape)\n",
    "print(precip_scenEraThree_ensMean_mon_clim_lowMissi.shape)\n"
   ]
  },
  {
   "cell_type": "markdown",
   "metadata": {},
   "source": [
    "### Missouri"
   ]
  },
  {
   "cell_type": "code",
   "execution_count": 207,
   "metadata": {},
   "outputs": [
    {
     "name": "stdout",
     "output_type": "stream",
     "text": [
      "(12,)\n",
      "[ 2.9069195   3.13556634  4.58081981  5.04390618  2.86355688 -2.84076557\n",
      " -4.19755621 -2.67767722 -0.11371832 -0.84615664  1.14826022  2.08808295]\n",
      "(12,)\n",
      "[ 3.96749967  5.59266774  8.90550161  9.79187336  5.16873346 -1.81829854\n",
      " -5.2363908  -2.76595427 -0.75111318  0.31688739  2.75673797  3.67051408]\n",
      "(12,)\n",
      "[ 6.47169717  7.63147547 12.9477838  16.31778721  6.94513469 -2.8531261\n",
      " -6.02192416 -2.71078587  0.38321889  2.03607931  4.44012917  6.09380331]\n"
     ]
    }
   ],
   "source": [
    "precip_relCh_scenEraOne_ensMean_mon_clim_Missouri = (precip_scenEraOne_ensMean_mon_clim_Missouri-precip_refPeriod_ensMean_mon_clim_Missouri)\n",
    "print(precip_relCh_scenEraOne_ensMean_mon_clim_Missouri.shape)\n",
    "print(precip_relCh_scenEraOne_ensMean_mon_clim_Missouri)\n",
    "\n",
    "precip_relCh_scenEraTwo_ensMean_mon_clim_Missouri = (precip_scenEraTwo_ensMean_mon_clim_Missouri-precip_refPeriod_ensMean_mon_clim_Missouri)\n",
    "print(precip_relCh_scenEraTwo_ensMean_mon_clim_Missouri.shape)\n",
    "print(precip_relCh_scenEraTwo_ensMean_mon_clim_Missouri)\n",
    "\n",
    "precip_relCh_scenEraThree_ensMean_mon_clim_Missouri = (precip_scenEraThree_ensMean_mon_clim_Missouri-precip_refPeriod_ensMean_mon_clim_Missouri)\n",
    "print(precip_relCh_scenEraThree_ensMean_mon_clim_Missouri.shape)\n",
    "print(precip_relCh_scenEraThree_ensMean_mon_clim_Missouri)"
   ]
  },
  {
   "cell_type": "markdown",
   "metadata": {},
   "source": [
    "## Arkansas"
   ]
  },
  {
   "cell_type": "code",
   "execution_count": 208,
   "metadata": {},
   "outputs": [
    {
     "name": "stdout",
     "output_type": "stream",
     "text": [
      "(12,)\n",
      "[ 1.93931659  2.62833625  2.82544409  6.06153969  4.92285363 -0.58678693\n",
      "  0.17182641 -1.54038702  1.09433623 -1.78671839 -0.08777983  2.08036032]\n",
      "(12,)\n",
      "[ 3.0822807   5.68113647  5.66036616 11.68661159 11.93161046  5.01343453\n",
      "  3.05717015 -0.81581087  1.32379021 -0.5421741   0.61408162  3.4678648 ]\n",
      "(12,)\n",
      "[ 2.9191235   6.22162103  5.46234167 14.16388582 15.79929861  7.8792109\n",
      "  6.10663078  0.10097162  5.08712461 -0.04850695 -0.24098923  2.39097836]\n"
     ]
    }
   ],
   "source": [
    "precip_relCh_scenEraOne_ensMean_mon_clim_Arkansas = (precip_scenEraOne_ensMean_mon_clim_Arkansas-precip_refPeriod_ensMean_mon_clim_Arkansas)\n",
    "print(precip_relCh_scenEraOne_ensMean_mon_clim_Arkansas.shape)\n",
    "print(precip_relCh_scenEraOne_ensMean_mon_clim_Arkansas)\n",
    "\n",
    "precip_relCh_scenEraTwo_ensMean_mon_clim_Arkansas = (precip_scenEraTwo_ensMean_mon_clim_Arkansas-precip_refPeriod_ensMean_mon_clim_Arkansas)\n",
    "print(precip_relCh_scenEraTwo_ensMean_mon_clim_Arkansas.shape)\n",
    "print(precip_relCh_scenEraTwo_ensMean_mon_clim_Arkansas)\n",
    "\n",
    "precip_relCh_scenEraThree_ensMean_mon_clim_Arkansas = (precip_scenEraThree_ensMean_mon_clim_Arkansas-precip_refPeriod_ensMean_mon_clim_Arkansas)\n",
    "print(precip_relCh_scenEraThree_ensMean_mon_clim_Arkansas.shape)\n",
    "print(precip_relCh_scenEraThree_ensMean_mon_clim_Arkansas)"
   ]
  },
  {
   "cell_type": "markdown",
   "metadata": {},
   "source": [
    "## Ohio"
   ]
  },
  {
   "cell_type": "code",
   "execution_count": 209,
   "metadata": {},
   "outputs": [
    {
     "name": "stdout",
     "output_type": "stream",
     "text": [
      "(12,)\n",
      "[ 9.65311722  9.05784803  8.88041685  4.29479643  2.38514324 -2.83740107\n",
      "  0.79371033  0.31128557  3.14653073  1.3907456   3.62526343  8.64037657]\n",
      "(12,)\n",
      "[16.29893481 15.13201746 16.22254654 12.10640693  5.84715821 -2.82496706\n",
      "  0.7354854  -1.04352064  1.13779262  3.86019082 10.35238823 16.60705719]\n",
      "(12,)\n",
      "[23.21813254 22.65914974 22.43535511 23.86966365  8.1340091  -4.94730407\n",
      "  4.72141289  1.01222151  2.23845677  8.53215553 15.73675455 21.17122647]\n"
     ]
    }
   ],
   "source": [
    "precip_relCh_scenEraOne_ensMean_mon_clim_Ohio = (precip_scenEraOne_ensMean_mon_clim_Ohio-precip_refPeriod_ensMean_mon_clim_Ohio)\n",
    "print(precip_relCh_scenEraOne_ensMean_mon_clim_Ohio.shape)\n",
    "print(precip_relCh_scenEraOne_ensMean_mon_clim_Ohio)\n",
    "\n",
    "precip_relCh_scenEraTwo_ensMean_mon_clim_Ohio = (precip_scenEraTwo_ensMean_mon_clim_Ohio-precip_refPeriod_ensMean_mon_clim_Ohio)\n",
    "print(precip_relCh_scenEraTwo_ensMean_mon_clim_Ohio.shape)\n",
    "print(precip_relCh_scenEraTwo_ensMean_mon_clim_Ohio)\n",
    "\n",
    "precip_relCh_scenEraThree_ensMean_mon_clim_Ohio = (precip_scenEraThree_ensMean_mon_clim_Ohio-precip_refPeriod_ensMean_mon_clim_Ohio)\n",
    "print(precip_relCh_scenEraThree_ensMean_mon_clim_Ohio.shape)\n",
    "print(precip_relCh_scenEraThree_ensMean_mon_clim_Ohio)"
   ]
  },
  {
   "cell_type": "markdown",
   "metadata": {},
   "source": [
    "## Lower Mississippi"
   ]
  },
  {
   "cell_type": "code",
   "execution_count": 210,
   "metadata": {},
   "outputs": [
    {
     "name": "stdout",
     "output_type": "stream",
     "text": [
      "(12,)\n",
      "[4.82145039 4.98497016 4.09807141 4.06275133 2.78019252 0.10029821\n",
      " 4.39267617 2.89171033 8.89542096 0.77153221 0.05968544 5.59591634]\n",
      "(12,)\n",
      "[ 9.65171596  8.93452518 11.03656638 10.51497484  9.14109003  6.06476992\n",
      "  6.97658102  4.01622421  9.45389463  8.53314736  3.15229134  9.01841087]\n",
      "(12,)\n",
      "[10.90372694 14.29195768 11.44390435 13.4166558  12.92217069  9.25636344\n",
      "  9.69330038  4.45534327 13.96169021 13.66517252  4.21826388  7.08104753]\n"
     ]
    }
   ],
   "source": [
    "precip_relCh_scenEraOne_ensMean_mon_clim_lowMissi = (precip_scenEraOne_ensMean_mon_clim_lowMissi-precip_refPeriod_ensMean_mon_clim_lowMissi)\n",
    "print(precip_relCh_scenEraOne_ensMean_mon_clim_lowMissi.shape)\n",
    "print(precip_relCh_scenEraOne_ensMean_mon_clim_lowMissi)\n",
    "\n",
    "precip_relCh_scenEraTwo_ensMean_mon_clim_lowMissi = (precip_scenEraTwo_ensMean_mon_clim_lowMissi-precip_refPeriod_ensMean_mon_clim_lowMissi)\n",
    "print(precip_relCh_scenEraTwo_ensMean_mon_clim_lowMissi.shape)\n",
    "print(precip_relCh_scenEraTwo_ensMean_mon_clim_lowMissi)\n",
    "\n",
    "precip_relCh_scenEraThree_ensMean_mon_clim_lowMissi = (precip_scenEraThree_ensMean_mon_clim_lowMissi-precip_refPeriod_ensMean_mon_clim_lowMissi)\n",
    "print(precip_relCh_scenEraThree_ensMean_mon_clim_lowMissi.shape)\n",
    "print(precip_relCh_scenEraThree_ensMean_mon_clim_lowMissi)"
   ]
  },
  {
   "cell_type": "code",
   "execution_count": null,
   "metadata": {},
   "outputs": [],
   "source": []
  },
  {
   "cell_type": "code",
   "execution_count": null,
   "metadata": {},
   "outputs": [],
   "source": []
  },
  {
   "cell_type": "markdown",
   "metadata": {},
   "source": [
    "## ET"
   ]
  },
  {
   "cell_type": "code",
   "execution_count": 211,
   "metadata": {},
   "outputs": [
    {
     "name": "stdout",
     "output_type": "stream",
     "text": [
      "(12,)\n",
      "(12,)\n",
      "(12,)\n",
      "(12,)\n",
      "(12,)\n",
      "(12,)\n",
      "(12,)\n",
      "(12,)\n",
      "(12,)\n",
      "(12,)\n",
      "(12,)\n",
      "(12,)\n",
      "(12,)\n",
      "(12,)\n",
      "(12,)\n",
      "(12,)\n"
     ]
    }
   ],
   "source": [
    "print(et_refPeriod_ensMean_mon_clim_Missouri.shape)\n",
    "print(et_scenEraOne_ensMean_mon_clim_Missouri.shape)\n",
    "print(et_scenEraTwo_ensMean_mon_clim_Missouri.shape)\n",
    "print(et_scenEraThree_ensMean_mon_clim_Missouri.shape)\n",
    "\n",
    "print(et_refPeriod_ensMean_mon_clim_Arkansas.shape)\n",
    "print(et_scenEraOne_ensMean_mon_clim_Arkansas.shape)\n",
    "print(et_scenEraTwo_ensMean_mon_clim_Arkansas.shape)\n",
    "print(et_scenEraThree_ensMean_mon_clim_Arkansas.shape)\n",
    "\n",
    "print(et_refPeriod_ensMean_mon_clim_Ohio.shape)\n",
    "print(et_scenEraOne_ensMean_mon_clim_Ohio.shape)\n",
    "print(et_scenEraTwo_ensMean_mon_clim_Ohio.shape)\n",
    "print(et_scenEraThree_ensMean_mon_clim_Ohio.shape)\n",
    "\n",
    "print(et_refPeriod_ensMean_mon_clim_lowMissi.shape)\n",
    "print(et_scenEraOne_ensMean_mon_clim_lowMissi.shape)\n",
    "print(et_scenEraTwo_ensMean_mon_clim_lowMissi.shape)\n",
    "print(et_scenEraThree_ensMean_mon_clim_lowMissi.shape)\n"
   ]
  },
  {
   "cell_type": "markdown",
   "metadata": {},
   "source": [
    "## Missouri"
   ]
  },
  {
   "cell_type": "code",
   "execution_count": 212,
   "metadata": {},
   "outputs": [
    {
     "name": "stdout",
     "output_type": "stream",
     "text": [
      "(12,)\n",
      "[ 1.49501913  2.18903414  2.97617166  4.66688472  6.98917037  1.94866455\n",
      " -2.62341841 -2.63258291 -0.31889062  1.08365     1.49057417  1.3227891 ]\n",
      "(12,)\n",
      "[ 2.76521837  4.01382636  5.67954347  9.50273388 12.05518502  3.27839552\n",
      " -4.64180865 -4.06037758 -0.18699434  2.05790542  2.57598303  2.41379796]\n",
      "(12,)\n",
      "[ 4.07420909  5.91257176  8.76581109 14.66147191 16.69258207  3.24515012\n",
      " -7.17638802 -5.1361662   0.62980164  3.38934681  3.87839367  3.53167629]\n"
     ]
    }
   ],
   "source": [
    "et_relCh_scenEraOne_ensMean_mon_clim_Missouri = (et_scenEraOne_ensMean_mon_clim_Missouri-et_refPeriod_ensMean_mon_clim_Missouri)\n",
    "print(et_relCh_scenEraOne_ensMean_mon_clim_Missouri.shape)\n",
    "print(et_relCh_scenEraOne_ensMean_mon_clim_Missouri)\n",
    "\n",
    "et_relCh_scenEraTwo_ensMean_mon_clim_Missouri = (et_scenEraTwo_ensMean_mon_clim_Missouri-et_refPeriod_ensMean_mon_clim_Missouri)\n",
    "print(et_relCh_scenEraTwo_ensMean_mon_clim_Missouri.shape)\n",
    "print(et_relCh_scenEraTwo_ensMean_mon_clim_Missouri)\n",
    "\n",
    "et_relCh_scenEraThree_ensMean_mon_clim_Missouri = (et_scenEraThree_ensMean_mon_clim_Missouri-et_refPeriod_ensMean_mon_clim_Missouri)\n",
    "print(et_relCh_scenEraThree_ensMean_mon_clim_Missouri.shape)\n",
    "print(et_relCh_scenEraThree_ensMean_mon_clim_Missouri)"
   ]
  },
  {
   "cell_type": "markdown",
   "metadata": {},
   "source": [
    "## Arkansas"
   ]
  },
  {
   "cell_type": "code",
   "execution_count": 213,
   "metadata": {},
   "outputs": [
    {
     "name": "stdout",
     "output_type": "stream",
     "text": [
      "(12,)\n",
      "[ 2.72597373  4.31252082  6.67872723  7.55093331  2.84722471 -0.05405193\n",
      "  0.40411514 -0.74831758  1.04840334  2.5959323   2.55627524  2.35933743]\n",
      "(12,)\n",
      "[ 3.92967887  5.93008998  8.69892819 10.39567749  5.1590751   1.93302869\n",
      "  3.70213182  1.46218932  2.42552252  3.75700866  3.54660874  3.34559411]\n",
      "(12,)\n",
      "[ 4.54395568  6.56026853  9.40538687 11.47560735  5.96185319  1.75063974\n",
      "  4.60815735  3.10766528  4.90312376  5.34344535  4.50631559  4.02907559]\n"
     ]
    }
   ],
   "source": [
    "et_relCh_scenEraOne_ensMean_mon_clim_Arkansas = (et_scenEraOne_ensMean_mon_clim_Arkansas-et_refPeriod_ensMean_mon_clim_Arkansas)\n",
    "print(et_relCh_scenEraOne_ensMean_mon_clim_Arkansas.shape)\n",
    "print(et_relCh_scenEraOne_ensMean_mon_clim_Arkansas)\n",
    "\n",
    "et_relCh_scenEraTwo_ensMean_mon_clim_Arkansas = (et_scenEraTwo_ensMean_mon_clim_Arkansas-et_refPeriod_ensMean_mon_clim_Arkansas)\n",
    "print(et_relCh_scenEraTwo_ensMean_mon_clim_Arkansas.shape)\n",
    "print(et_relCh_scenEraTwo_ensMean_mon_clim_Arkansas)\n",
    "\n",
    "et_relCh_scenEraThree_ensMean_mon_clim_Arkansas = (et_scenEraThree_ensMean_mon_clim_Arkansas-et_refPeriod_ensMean_mon_clim_Arkansas)\n",
    "print(et_relCh_scenEraThree_ensMean_mon_clim_Arkansas.shape)\n",
    "print(et_relCh_scenEraThree_ensMean_mon_clim_Arkansas)"
   ]
  },
  {
   "cell_type": "markdown",
   "metadata": {},
   "source": [
    "## Ohio"
   ]
  },
  {
   "cell_type": "code",
   "execution_count": 214,
   "metadata": {},
   "outputs": [
    {
     "name": "stdout",
     "output_type": "stream",
     "text": [
      "(12,)\n",
      "[ 2.50641818  4.05102681  5.47740178  8.54990825 10.01077238  5.82266665\n",
      "  0.26360627 -1.55040327  1.73681123  2.08635184  1.78836415  1.36636839]\n",
      "(12,)\n",
      "[ 3.74117887  5.76394633  7.47954479 12.12221683 15.16273891  7.57818663\n",
      " -3.05423224 -5.23797252  0.40639866  1.5561785   2.56790497  2.07244332]\n",
      "(12,)\n",
      "[ 4.97170841  7.5575418   9.60325747 14.8713446  18.29835949  7.05105777\n",
      " -5.28869579 -6.32251279  1.35646649  2.62458378  3.89349151  2.87065186]\n"
     ]
    }
   ],
   "source": [
    "et_relCh_scenEraOne_ensMean_mon_clim_Ohio = (et_scenEraOne_ensMean_mon_clim_Ohio-et_refPeriod_ensMean_mon_clim_Ohio)\n",
    "print(et_relCh_scenEraOne_ensMean_mon_clim_Ohio.shape)\n",
    "print(et_relCh_scenEraOne_ensMean_mon_clim_Ohio)\n",
    "\n",
    "et_relCh_scenEraTwo_ensMean_mon_clim_Ohio = (et_scenEraTwo_ensMean_mon_clim_Ohio-et_refPeriod_ensMean_mon_clim_Ohio)\n",
    "print(et_relCh_scenEraTwo_ensMean_mon_clim_Ohio.shape)\n",
    "print(et_relCh_scenEraTwo_ensMean_mon_clim_Ohio)\n",
    "\n",
    "et_relCh_scenEraThree_ensMean_mon_clim_Ohio = (et_scenEraThree_ensMean_mon_clim_Ohio-et_refPeriod_ensMean_mon_clim_Ohio)\n",
    "print(et_relCh_scenEraThree_ensMean_mon_clim_Ohio.shape)\n",
    "print(et_relCh_scenEraThree_ensMean_mon_clim_Ohio)"
   ]
  },
  {
   "cell_type": "markdown",
   "metadata": {},
   "source": [
    "## Lower Mississippi"
   ]
  },
  {
   "cell_type": "code",
   "execution_count": 215,
   "metadata": {},
   "outputs": [
    {
     "name": "stdout",
     "output_type": "stream",
     "text": [
      "(12,)\n",
      "[3.3292718  4.9602201  7.22041243 7.91042792 5.68447837 3.03429611\n",
      " 2.17946767 1.61763017 6.37276684 5.5924427  3.92887672 3.12699788]\n",
      "(12,)\n",
      "[4.46469961 6.17838421 8.7837685  9.60464736 6.87032933 4.04593401\n",
      " 2.74524699 1.3069599  8.43932625 8.14667644 5.69886124 4.3347018 ]\n",
      "(12,)\n",
      "[ 5.54094249  7.45382708 10.26437012 10.73281925  7.03725515  3.6908825\n",
      "  1.62815945  1.03344107 10.49653277 10.57129991  7.58891033  5.46953001]\n"
     ]
    }
   ],
   "source": [
    "et_relCh_scenEraOne_ensMean_mon_clim_lowMissi = (et_scenEraOne_ensMean_mon_clim_lowMissi-et_refPeriod_ensMean_mon_clim_lowMissi)\n",
    "print(et_relCh_scenEraOne_ensMean_mon_clim_lowMissi.shape)\n",
    "print(et_relCh_scenEraOne_ensMean_mon_clim_lowMissi)\n",
    "\n",
    "et_relCh_scenEraTwo_ensMean_mon_clim_lowMissi = (et_scenEraTwo_ensMean_mon_clim_lowMissi-et_refPeriod_ensMean_mon_clim_lowMissi)\n",
    "print(et_relCh_scenEraTwo_ensMean_mon_clim_lowMissi.shape)\n",
    "print(et_relCh_scenEraTwo_ensMean_mon_clim_lowMissi)\n",
    "\n",
    "et_relCh_scenEraThree_ensMean_mon_clim_lowMissi = (et_scenEraThree_ensMean_mon_clim_lowMissi-et_refPeriod_ensMean_mon_clim_lowMissi)\n",
    "print(et_relCh_scenEraThree_ensMean_mon_clim_lowMissi.shape)\n",
    "print(et_relCh_scenEraThree_ensMean_mon_clim_lowMissi)"
   ]
  },
  {
   "cell_type": "code",
   "execution_count": null,
   "metadata": {},
   "outputs": [],
   "source": []
  },
  {
   "cell_type": "code",
   "execution_count": null,
   "metadata": {},
   "outputs": [],
   "source": []
  },
  {
   "cell_type": "markdown",
   "metadata": {},
   "source": [
    "## Snowmelt"
   ]
  },
  {
   "cell_type": "markdown",
   "metadata": {},
   "source": [
    "### Missouri"
   ]
  },
  {
   "cell_type": "code",
   "execution_count": 216,
   "metadata": {},
   "outputs": [
    {
     "name": "stdout",
     "output_type": "stream",
     "text": [
      "(12,)\n",
      "[ 2.33229787e+00  3.77984451e-01 -1.54259603e+01 -1.47448637e+01\n",
      " -1.08408149e+00 -7.31190717e-02 -9.52510596e-04 -3.87079681e-03\n",
      " -2.61740919e-01 -1.51925573e+00 -2.71813263e+00  9.49969526e-02]\n",
      "(12,)\n",
      "[ 2.61705561e+00 -2.44763187e+00 -2.98289012e+01 -2.22274537e+01\n",
      " -1.40436930e+00 -8.20189008e-02 -9.65837624e-04 -4.20971591e-03\n",
      " -3.45563671e-01 -2.38064136e+00 -4.16292646e+00 -4.88321265e-01]\n",
      "(12,)\n",
      "[ 1.74536694e+00 -7.81941145e+00 -4.23138115e+01 -2.54061639e+01\n",
      " -1.58685975e+00 -8.44048666e-02 -9.68431518e-04 -4.26306958e-03\n",
      " -4.15767868e-01 -2.90939262e+00 -6.01573107e+00 -1.74757425e+00]\n"
     ]
    }
   ],
   "source": [
    "snowMelt_relCh_scenEraOne_ensMean_mon_clim_Missouri = (snowMelt_scenEraOne_ensMean_mon_clim_Missouri-snowMelt_refPeriod_ensMean_mon_clim_Missouri)\n",
    "print(snowMelt_relCh_scenEraOne_ensMean_mon_clim_Missouri.shape)\n",
    "print(snowMelt_relCh_scenEraOne_ensMean_mon_clim_Missouri)\n",
    "\n",
    "snowMelt_relCh_scenEraTwo_ensMean_mon_clim_Missouri = (snowMelt_scenEraTwo_ensMean_mon_clim_Missouri-snowMelt_refPeriod_ensMean_mon_clim_Missouri)\n",
    "print(snowMelt_relCh_scenEraTwo_ensMean_mon_clim_Missouri.shape)\n",
    "print(snowMelt_relCh_scenEraTwo_ensMean_mon_clim_Missouri)\n",
    "\n",
    "snowMelt_relCh_scenEraThree_ensMean_mon_clim_Missouri = (snowMelt_scenEraThree_ensMean_mon_clim_Missouri-snowMelt_refPeriod_ensMean_mon_clim_Missouri)\n",
    "print(snowMelt_relCh_scenEraThree_ensMean_mon_clim_Missouri.shape)\n",
    "print(snowMelt_relCh_scenEraThree_ensMean_mon_clim_Missouri)"
   ]
  },
  {
   "cell_type": "markdown",
   "metadata": {},
   "source": [
    "### Arkansas"
   ]
  },
  {
   "cell_type": "code",
   "execution_count": 217,
   "metadata": {},
   "outputs": [
    {
     "name": "stdout",
     "output_type": "stream",
     "text": [
      "(12,)\n",
      "[-5.18130532e+00 -6.86316177e+00 -3.80335041e+00 -1.85587938e+00\n",
      " -1.88836701e-01 -2.44196943e-03 -1.01159405e-06 -1.36301033e-04\n",
      " -3.43914176e-02 -4.67988265e-01 -1.70160088e+00 -3.20094483e+00]\n",
      "(12,)\n",
      "[-8.20583605e+00 -9.00332151e+00 -5.39919614e+00 -2.61102334e+00\n",
      " -2.23112366e-01 -4.64542163e-03 -1.03485086e-06 -1.36792750e-04\n",
      " -4.41940051e-02 -5.93507671e-01 -2.48498531e+00 -5.03471020e+00]\n",
      "(12,)\n",
      "[-1.00742660e+01 -1.10363933e+01 -7.29565500e+00 -3.05155020e+00\n",
      " -2.53601191e-01 -4.69254441e-03 -1.03623375e-06 -1.36829048e-04\n",
      " -4.82452779e-02 -7.37073114e-01 -3.13241967e+00 -6.74968631e+00]\n"
     ]
    }
   ],
   "source": [
    "snowMelt_relCh_scenEraOne_ensMean_mon_clim_Arkansas = (snowMelt_scenEraOne_ensMean_mon_clim_Arkansas-snowMelt_refPeriod_ensMean_mon_clim_Arkansas)\n",
    "print(snowMelt_relCh_scenEraOne_ensMean_mon_clim_Arkansas.shape)\n",
    "print(snowMelt_relCh_scenEraOne_ensMean_mon_clim_Arkansas)\n",
    "\n",
    "snowMelt_relCh_scenEraTwo_ensMean_mon_clim_Arkansas = (snowMelt_scenEraTwo_ensMean_mon_clim_Arkansas-snowMelt_refPeriod_ensMean_mon_clim_Arkansas)\n",
    "print(snowMelt_relCh_scenEraTwo_ensMean_mon_clim_Arkansas.shape)\n",
    "print(snowMelt_relCh_scenEraTwo_ensMean_mon_clim_Arkansas)\n",
    "\n",
    "snowMelt_relCh_scenEraThree_ensMean_mon_clim_Arkansas = (snowMelt_scenEraThree_ensMean_mon_clim_Arkansas-snowMelt_refPeriod_ensMean_mon_clim_Arkansas)\n",
    "print(snowMelt_relCh_scenEraThree_ensMean_mon_clim_Arkansas.shape)\n",
    "print(snowMelt_relCh_scenEraThree_ensMean_mon_clim_Arkansas)"
   ]
  },
  {
   "cell_type": "markdown",
   "metadata": {},
   "source": [
    "### Ohio"
   ]
  },
  {
   "cell_type": "code",
   "execution_count": 218,
   "metadata": {},
   "outputs": [
    {
     "name": "stdout",
     "output_type": "stream",
     "text": [
      "(12,)\n",
      "[-1.07838536e+01 -2.13288972e+01 -3.04559781e+01 -7.41774822e+00\n",
      " -4.50947663e-02 -1.96789666e-05 -6.79936861e-08 -3.17425000e-07\n",
      " -6.91674533e-04 -7.60108241e-02 -1.48486407e+00 -5.84624349e+00]\n",
      "(12,)\n",
      "[-1.69651109e+01 -3.15326258e+01 -4.01536931e+01 -8.43855095e+00\n",
      " -5.28880979e-02 -2.09239724e-05 -6.79936861e-08 -3.17425000e-07\n",
      " -6.99805183e-04 -9.77077769e-02 -2.11995074e+00 -8.76330414e+00]\n",
      "(12,)\n",
      "[-2.10005302e+01 -3.97683331e+01 -4.70597523e+01 -9.01004438e+00\n",
      " -5.58672480e-02 -2.11409607e-05 -6.79936861e-08 -3.17425000e-07\n",
      " -7.00105151e-04 -1.01171625e-01 -2.43486994e+00 -1.14835026e+01]\n"
     ]
    }
   ],
   "source": [
    "snowMelt_relCh_scenEraOne_ensMean_mon_clim_Ohio = (snowMelt_scenEraOne_ensMean_mon_clim_Ohio-snowMelt_refPeriod_ensMean_mon_clim_Ohio)\n",
    "print(snowMelt_relCh_scenEraOne_ensMean_mon_clim_Ohio.shape)\n",
    "print(snowMelt_relCh_scenEraOne_ensMean_mon_clim_Ohio)\n",
    "\n",
    "snowMelt_relCh_scenEraTwo_ensMean_mon_clim_Ohio = (snowMelt_scenEraTwo_ensMean_mon_clim_Ohio-snowMelt_refPeriod_ensMean_mon_clim_Ohio)\n",
    "print(snowMelt_relCh_scenEraTwo_ensMean_mon_clim_Ohio.shape)\n",
    "print(snowMelt_relCh_scenEraTwo_ensMean_mon_clim_Ohio)\n",
    "\n",
    "snowMelt_relCh_scenEraThree_ensMean_mon_clim_Ohio = (snowMelt_scenEraThree_ensMean_mon_clim_Ohio-snowMelt_refPeriod_ensMean_mon_clim_Ohio)\n",
    "print(snowMelt_relCh_scenEraThree_ensMean_mon_clim_Ohio.shape)\n",
    "print(snowMelt_relCh_scenEraThree_ensMean_mon_clim_Ohio)"
   ]
  },
  {
   "cell_type": "markdown",
   "metadata": {},
   "source": [
    "### Lower Mississippi"
   ]
  },
  {
   "cell_type": "code",
   "execution_count": 219,
   "metadata": {},
   "outputs": [
    {
     "name": "stdout",
     "output_type": "stream",
     "text": [
      "(12,)\n",
      "[-3.75581623e+00 -4.58763633e+00 -1.60510741e+00 -3.85273295e-02\n",
      " -1.69183795e-05  0.00000000e+00  0.00000000e+00  0.00000000e+00\n",
      "  0.00000000e+00 -5.49577585e-05 -2.27034469e-01 -1.97381796e+00]\n",
      "(12,)\n",
      "[-5.39152856e+00 -6.03160420e+00 -1.97407429e+00 -3.76040979e-02\n",
      " -1.69183795e-05  0.00000000e+00  0.00000000e+00  0.00000000e+00\n",
      "  0.00000000e+00 -5.53789582e-05 -2.98708282e-01 -2.62760673e+00]\n",
      "(12,)\n",
      "[-6.56632887e+00 -6.82153536e+00 -2.20411888e+00 -4.69781096e-02\n",
      " -1.69183795e-05  0.00000000e+00  0.00000000e+00  0.00000000e+00\n",
      "  0.00000000e+00 -5.53945555e-05 -3.23164181e-01 -3.32849627e+00]\n"
     ]
    }
   ],
   "source": [
    "snowMelt_relCh_scenEraOne_ensMean_mon_clim_lowMissi = (snowMelt_scenEraOne_ensMean_mon_clim_lowMissi-snowMelt_refPeriod_ensMean_mon_clim_lowMissi)\n",
    "print(snowMelt_relCh_scenEraOne_ensMean_mon_clim_lowMissi.shape)\n",
    "print(snowMelt_relCh_scenEraOne_ensMean_mon_clim_lowMissi)\n",
    "\n",
    "snowMelt_relCh_scenEraTwo_ensMean_mon_clim_lowMissi = (snowMelt_scenEraTwo_ensMean_mon_clim_lowMissi-snowMelt_refPeriod_ensMean_mon_clim_lowMissi)\n",
    "print(snowMelt_relCh_scenEraTwo_ensMean_mon_clim_lowMissi.shape)\n",
    "print(snowMelt_relCh_scenEraTwo_ensMean_mon_clim_lowMissi)\n",
    "\n",
    "snowMelt_relCh_scenEraThree_ensMean_mon_clim_lowMissi = (snowMelt_scenEraThree_ensMean_mon_clim_lowMissi-snowMelt_refPeriod_ensMean_mon_clim_lowMissi)\n",
    "print(snowMelt_relCh_scenEraThree_ensMean_mon_clim_lowMissi.shape)\n",
    "print(snowMelt_relCh_scenEraThree_ensMean_mon_clim_lowMissi)"
   ]
  },
  {
   "cell_type": "code",
   "execution_count": null,
   "metadata": {},
   "outputs": [],
   "source": []
  },
  {
   "cell_type": "code",
   "execution_count": null,
   "metadata": {},
   "outputs": [],
   "source": []
  },
  {
   "cell_type": "markdown",
   "metadata": {},
   "source": [
    "## Soil Moisture"
   ]
  },
  {
   "cell_type": "markdown",
   "metadata": {},
   "source": [
    "### Missouri"
   ]
  },
  {
   "cell_type": "code",
   "execution_count": 220,
   "metadata": {},
   "outputs": [
    {
     "name": "stdout",
     "output_type": "stream",
     "text": [
      "(12,)\n",
      "[-0.43753533 -0.20179215 -0.91442555 -1.41982025 -0.8114404  -0.92713643\n",
      " -1.30256665 -1.49877394 -1.27968137 -1.28347194 -1.23496249 -1.09760994]\n",
      "(12,)\n",
      "[-0.7676168  -0.48582552 -1.77538404 -2.19840156 -1.32176525 -1.44067461\n",
      " -1.81303365 -1.94435942 -1.81303766 -1.70442731 -1.71055296 -1.66018786]\n",
      "(12,)\n",
      "[-1.03866303 -0.92846266 -2.60567963 -2.49149734 -1.66059613 -1.98153219\n",
      " -2.20370783 -2.16720428 -1.98203629 -1.83441188 -1.84220317 -2.04144668]\n"
     ]
    }
   ],
   "source": [
    "soilMoist_relCh_scenEraOne_ensMean_mon_clim_Missouri = (soilMoist_scenEraOne_ensMean_mon_clim_Missouri-soilMoist_refPeriod_ensMean_mon_clim_Missouri)\n",
    "print(soilMoist_relCh_scenEraOne_ensMean_mon_clim_Missouri.shape)\n",
    "print(soilMoist_relCh_scenEraOne_ensMean_mon_clim_Missouri)\n",
    "\n",
    "soilMoist_relCh_scenEraTwo_ensMean_mon_clim_Missouri = (soilMoist_scenEraTwo_ensMean_mon_clim_Missouri-soilMoist_refPeriod_ensMean_mon_clim_Missouri)\n",
    "print(soilMoist_relCh_scenEraTwo_ensMean_mon_clim_Missouri.shape)\n",
    "print(soilMoist_relCh_scenEraTwo_ensMean_mon_clim_Missouri)\n",
    "\n",
    "soilMoist_relCh_scenEraThree_ensMean_mon_clim_Missouri = (soilMoist_scenEraThree_ensMean_mon_clim_Missouri-soilMoist_refPeriod_ensMean_mon_clim_Missouri)\n",
    "print(soilMoist_relCh_scenEraThree_ensMean_mon_clim_Missouri.shape)\n",
    "print(soilMoist_relCh_scenEraThree_ensMean_mon_clim_Missouri)"
   ]
  },
  {
   "cell_type": "markdown",
   "metadata": {},
   "source": [
    "## Arkansas"
   ]
  },
  {
   "cell_type": "code",
   "execution_count": 221,
   "metadata": {},
   "outputs": [
    {
     "name": "stdout",
     "output_type": "stream",
     "text": [
      "(12,)\n",
      "[-1.31729622 -1.29005752 -1.05236478 -1.03107519 -0.59850051 -0.62528772\n",
      " -0.62391647 -0.79063554 -0.78355373 -1.06891925 -1.2314499  -1.15719376]\n",
      "(12,)\n",
      "[-1.78673804 -1.59451579 -1.20634963 -1.07778223 -0.30676895 -0.27481839\n",
      " -0.26686516 -0.73386112 -0.92066855 -1.29523402 -1.49681074 -1.50782561]\n",
      "(12,)\n",
      "[-2.15188732 -1.88841221 -1.40476044 -1.2803863  -0.33099481 -0.11968086\n",
      "  0.02905579 -0.57463143 -0.77095517 -1.39511838 -1.75246536 -1.83796943]\n"
     ]
    }
   ],
   "source": [
    "soilMoist_relCh_scenEraOne_ensMean_mon_clim_Arkansas = (soilMoist_scenEraOne_ensMean_mon_clim_Arkansas-soilMoist_refPeriod_ensMean_mon_clim_Arkansas)\n",
    "print(soilMoist_relCh_scenEraOne_ensMean_mon_clim_Arkansas.shape)\n",
    "print(soilMoist_relCh_scenEraOne_ensMean_mon_clim_Arkansas)\n",
    "\n",
    "soilMoist_relCh_scenEraTwo_ensMean_mon_clim_Arkansas = (soilMoist_scenEraTwo_ensMean_mon_clim_Arkansas-soilMoist_refPeriod_ensMean_mon_clim_Arkansas)\n",
    "print(soilMoist_relCh_scenEraTwo_ensMean_mon_clim_Arkansas.shape)\n",
    "print(soilMoist_relCh_scenEraTwo_ensMean_mon_clim_Arkansas)\n",
    "\n",
    "soilMoist_relCh_scenEraThree_ensMean_mon_clim_Arkansas = (soilMoist_scenEraThree_ensMean_mon_clim_Arkansas-soilMoist_refPeriod_ensMean_mon_clim_Arkansas)\n",
    "print(soilMoist_relCh_scenEraThree_ensMean_mon_clim_Arkansas.shape)\n",
    "print(soilMoist_relCh_scenEraThree_ensMean_mon_clim_Arkansas)"
   ]
  },
  {
   "cell_type": "markdown",
   "metadata": {},
   "source": [
    "## Ohio"
   ]
  },
  {
   "cell_type": "code",
   "execution_count": 222,
   "metadata": {},
   "outputs": [
    {
     "name": "stdout",
     "output_type": "stream",
     "text": [
      "(12,)\n",
      "[-1.39149107 -1.39574078 -1.31969509 -0.60538735 -0.50787697 -0.85895962\n",
      " -0.96309488 -0.64741469 -0.45027749 -0.51632275 -0.48799173 -1.08466472]\n",
      "(12,)\n",
      "[-1.95975092 -1.94269674 -1.54768791 -0.4135236  -0.56242198 -1.22036071\n",
      " -1.11687788 -0.52775506 -0.36543207 -0.17141137  0.00896667 -1.04010641]\n",
      "(12,)\n",
      "[-2.32849582 -2.38939289 -1.6409274  -0.0942484  -0.39032697 -1.44653738\n",
      " -0.9279031  -0.01660724  0.07980917  0.42050177  0.54905152 -0.8672112 ]\n"
     ]
    }
   ],
   "source": [
    "soilMoist_relCh_scenEraOne_ensMean_mon_clim_Ohio = (soilMoist_scenEraOne_ensMean_mon_clim_Ohio-soilMoist_refPeriod_ensMean_mon_clim_Ohio)\n",
    "print(soilMoist_relCh_scenEraOne_ensMean_mon_clim_Ohio.shape)\n",
    "print(soilMoist_relCh_scenEraOne_ensMean_mon_clim_Ohio)\n",
    "\n",
    "soilMoist_relCh_scenEraTwo_ensMean_mon_clim_Ohio = (soilMoist_scenEraTwo_ensMean_mon_clim_Ohio-soilMoist_refPeriod_ensMean_mon_clim_Ohio)\n",
    "print(soilMoist_relCh_scenEraTwo_ensMean_mon_clim_Ohio.shape)\n",
    "print(soilMoist_relCh_scenEraTwo_ensMean_mon_clim_Ohio)\n",
    "\n",
    "soilMoist_relCh_scenEraThree_ensMean_mon_clim_Ohio = (soilMoist_scenEraThree_ensMean_mon_clim_Ohio-soilMoist_refPeriod_ensMean_mon_clim_Ohio)\n",
    "print(soilMoist_relCh_scenEraThree_ensMean_mon_clim_Ohio.shape)\n",
    "print(soilMoist_relCh_scenEraThree_ensMean_mon_clim_Ohio)"
   ]
  },
  {
   "cell_type": "markdown",
   "metadata": {},
   "source": [
    "## Lower Missi"
   ]
  },
  {
   "cell_type": "code",
   "execution_count": 223,
   "metadata": {},
   "outputs": [
    {
     "name": "stdout",
     "output_type": "stream",
     "text": [
      "(12,)\n",
      "[-0.44747163 -0.40192383 -0.24623374 -0.38935799 -0.33614675 -0.41265489\n",
      " -0.42254257 -0.65686083 -0.42959358 -0.71985615 -0.71666376 -0.34628731]\n",
      "(12,)\n",
      "[-0.50942557 -0.43572603 -0.21088277 -0.25566648 -0.09567902 -0.01108206\n",
      " -0.02069474 -0.50136    -0.365846   -0.40822664 -0.53861291 -0.31035072]\n",
      "(12,)\n",
      "[-0.62265877 -0.45443983 -0.26886059 -0.31265206 -0.04106669  0.12440694\n",
      "  0.15565849 -0.6221984  -0.34214526 -0.1196915  -0.52561643 -0.46450219]\n"
     ]
    }
   ],
   "source": [
    "soilMoist_relCh_scenEraOne_ensMean_mon_clim_lowMissi = (soilMoist_scenEraOne_ensMean_mon_clim_lowMissi-soilMoist_refPeriod_ensMean_mon_clim_lowMissi)\n",
    "print(soilMoist_relCh_scenEraOne_ensMean_mon_clim_lowMissi.shape)\n",
    "print(soilMoist_relCh_scenEraOne_ensMean_mon_clim_lowMissi)\n",
    "\n",
    "soilMoist_relCh_scenEraTwo_ensMean_mon_clim_lowMissi = (soilMoist_scenEraTwo_ensMean_mon_clim_lowMissi-soilMoist_refPeriod_ensMean_mon_clim_lowMissi)\n",
    "print(soilMoist_relCh_scenEraTwo_ensMean_mon_clim_lowMissi.shape)\n",
    "print(soilMoist_relCh_scenEraTwo_ensMean_mon_clim_lowMissi)\n",
    "\n",
    "soilMoist_relCh_scenEraThree_ensMean_mon_clim_lowMissi = (soilMoist_scenEraThree_ensMean_mon_clim_lowMissi-soilMoist_refPeriod_ensMean_mon_clim_lowMissi)\n",
    "print(soilMoist_relCh_scenEraThree_ensMean_mon_clim_lowMissi.shape)\n",
    "print(soilMoist_relCh_scenEraThree_ensMean_mon_clim_lowMissi)"
   ]
  },
  {
   "cell_type": "code",
   "execution_count": null,
   "metadata": {},
   "outputs": [],
   "source": []
  },
  {
   "cell_type": "code",
   "execution_count": null,
   "metadata": {},
   "outputs": [],
   "source": []
  },
  {
   "cell_type": "markdown",
   "metadata": {},
   "source": [
    "## Runoff"
   ]
  },
  {
   "cell_type": "markdown",
   "metadata": {},
   "source": [
    "### Missouri"
   ]
  },
  {
   "cell_type": "code",
   "execution_count": 224,
   "metadata": {},
   "outputs": [
    {
     "name": "stdout",
     "output_type": "stream",
     "text": [
      "(12,)\n",
      "[ 0.48572349  0.59496007 -0.96006534 -2.10056749  0.06833093 -0.39708665\n",
      " -0.35802979 -0.28513579 -0.0686991  -0.12328654  0.17006463  0.28479352]\n",
      "(12,)\n",
      "[ 0.75467812  0.85772782 -2.26194336 -2.88377752  0.18035523 -0.4403512\n",
      " -0.47250226 -0.3116048  -0.1029514  -0.02309854  0.3726404   0.53263312]\n",
      "(12,)\n",
      "[ 1.01275588  0.74513406 -3.48505348 -2.79031618  0.18909044 -0.57817932\n",
      " -0.58543455 -0.31060613 -0.00635017  0.16725562  0.55989446  0.82532537]\n"
     ]
    }
   ],
   "source": [
    "runoff_relCh_scenEraOne_ensMean_mon_clim_Missouri = (runoff_scenEraOne_ensMean_mon_clim_Missouri-runoff_refPeriod_ensMean_mon_clim_Missouri)\n",
    "print(runoff_relCh_scenEraOne_ensMean_mon_clim_Missouri.shape)\n",
    "print(runoff_relCh_scenEraOne_ensMean_mon_clim_Missouri)\n",
    "\n",
    "runoff_relCh_scenEraTwo_ensMean_mon_clim_Missouri = (runoff_scenEraTwo_ensMean_mon_clim_Missouri-runoff_refPeriod_ensMean_mon_clim_Missouri)\n",
    "print(runoff_relCh_scenEraTwo_ensMean_mon_clim_Missouri.shape)\n",
    "print(runoff_relCh_scenEraTwo_ensMean_mon_clim_Missouri)\n",
    "\n",
    "runoff_relCh_scenEraThree_ensMean_mon_clim_Missouri = (runoff_scenEraThree_ensMean_mon_clim_Missouri-runoff_refPeriod_ensMean_mon_clim_Missouri)\n",
    "print(runoff_relCh_scenEraThree_ensMean_mon_clim_Missouri.shape)\n",
    "print(runoff_relCh_scenEraThree_ensMean_mon_clim_Missouri)"
   ]
  },
  {
   "cell_type": "markdown",
   "metadata": {},
   "source": [
    "### Arkansas"
   ]
  },
  {
   "cell_type": "code",
   "execution_count": 225,
   "metadata": {},
   "outputs": [
    {
     "name": "stdout",
     "output_type": "stream",
     "text": [
      "(12,)\n",
      "[-0.07217221 -0.32160371  0.06101606  0.11837721  0.07387499 -0.29624088\n",
      " -0.0962464  -0.23355385 -0.00161258 -0.26815623 -0.05538367  0.13446946]\n",
      "(12,)\n",
      "[-0.02737391 -0.05004397  0.32616868  0.66101538  0.68142579  0.15598042\n",
      "  0.10878085 -0.20805198 -0.00164633 -0.12493745  0.03599419  0.33171452]\n",
      "(12,)\n",
      "[-0.05132784  0.02619819  0.23188051  0.90779836  0.95138831  0.37620238\n",
      "  0.34388378 -0.19970631  0.28825057 -0.09383276 -0.05044816  0.29411357]\n"
     ]
    }
   ],
   "source": [
    "runoff_relCh_scenEraOne_ensMean_mon_clim_Arkansas = (runoff_scenEraOne_ensMean_mon_clim_Arkansas-runoff_refPeriod_ensMean_mon_clim_Arkansas)\n",
    "print(runoff_relCh_scenEraOne_ensMean_mon_clim_Arkansas.shape)\n",
    "print(runoff_relCh_scenEraOne_ensMean_mon_clim_Arkansas)\n",
    "\n",
    "runoff_relCh_scenEraTwo_ensMean_mon_clim_Arkansas = (runoff_scenEraTwo_ensMean_mon_clim_Arkansas-runoff_refPeriod_ensMean_mon_clim_Arkansas)\n",
    "print(runoff_relCh_scenEraTwo_ensMean_mon_clim_Arkansas.shape)\n",
    "print(runoff_relCh_scenEraTwo_ensMean_mon_clim_Arkansas)\n",
    "\n",
    "runoff_relCh_scenEraThree_ensMean_mon_clim_Arkansas = (runoff_scenEraThree_ensMean_mon_clim_Arkansas-runoff_refPeriod_ensMean_mon_clim_Arkansas)\n",
    "print(runoff_relCh_scenEraThree_ensMean_mon_clim_Arkansas.shape)\n",
    "print(runoff_relCh_scenEraThree_ensMean_mon_clim_Arkansas)"
   ]
  },
  {
   "cell_type": "markdown",
   "metadata": {},
   "source": [
    "### Ohio"
   ]
  },
  {
   "cell_type": "code",
   "execution_count": 226,
   "metadata": {},
   "outputs": [
    {
     "name": "stdout",
     "output_type": "stream",
     "text": [
      "(12,)\n",
      "[ 1.42359003 -0.47001915 -3.31053266 -0.88404661  0.04153689 -1.30469237\n",
      " -0.23285479 -0.28294813  0.25942109  0.15580608  0.49874263  1.4534751 ]\n",
      "(12,)\n",
      "[ 3.07339921  0.07274216 -2.66821605  1.27674895  0.57163564 -1.53228177\n",
      " -0.20790505 -0.3587398  -0.0880785   0.69788508  2.14229535  3.90945237]\n",
      "(12,)\n",
      "[ 4.94052481  1.41989007 -1.806351    4.71815524  1.04883471 -2.12873372\n",
      "  0.75525845  0.1518173   0.07311119  1.74556811  3.66277701  5.41714859]\n"
     ]
    }
   ],
   "source": [
    "runoff_relCh_scenEraOne_ensMean_mon_clim_Ohio = (runoff_scenEraOne_ensMean_mon_clim_Ohio-runoff_refPeriod_ensMean_mon_clim_Ohio)\n",
    "print(runoff_relCh_scenEraOne_ensMean_mon_clim_Ohio.shape)\n",
    "print(runoff_relCh_scenEraOne_ensMean_mon_clim_Ohio)\n",
    "\n",
    "runoff_relCh_scenEraTwo_ensMean_mon_clim_Ohio = (runoff_scenEraTwo_ensMean_mon_clim_Ohio-runoff_refPeriod_ensMean_mon_clim_Ohio)\n",
    "print(runoff_relCh_scenEraTwo_ensMean_mon_clim_Ohio.shape)\n",
    "print(runoff_relCh_scenEraTwo_ensMean_mon_clim_Ohio)\n",
    "\n",
    "runoff_relCh_scenEraThree_ensMean_mon_clim_Ohio = (runoff_scenEraThree_ensMean_mon_clim_Ohio-runoff_refPeriod_ensMean_mon_clim_Ohio)\n",
    "print(runoff_relCh_scenEraThree_ensMean_mon_clim_Ohio.shape)\n",
    "print(runoff_relCh_scenEraThree_ensMean_mon_clim_Ohio)"
   ]
  },
  {
   "cell_type": "markdown",
   "metadata": {},
   "source": [
    "### Lower Missi"
   ]
  },
  {
   "cell_type": "code",
   "execution_count": 227,
   "metadata": {},
   "outputs": [
    {
     "name": "stdout",
     "output_type": "stream",
     "text": [
      "(12,)\n",
      "[-0.06074523 -0.17841296 -0.16113342  0.07747947 -0.17622563 -0.515317\n",
      " -0.23910416 -0.64784007  0.42952832 -0.17361798 -0.25073647  0.14691721]\n",
      "(12,)\n",
      "[ 0.70390177  0.70910164  1.28741364  1.42657336  0.79716723  0.27603653\n",
      "  0.02616133 -0.74386271  0.63607237  0.62711757  0.25247101  0.77299428]\n",
      "(12,)\n",
      "[ 1.02626931  1.3585029   1.45868421  1.99465514  1.30667997  0.53705652\n",
      " -0.05574119 -0.95900717  1.02235513  1.12197847  0.44415641  0.80438462]\n"
     ]
    }
   ],
   "source": [
    "runoff_relCh_scenEraOne_ensMean_mon_clim_lowMissi = (runoff_scenEraOne_ensMean_mon_clim_lowMissi-runoff_refPeriod_ensMean_mon_clim_lowMissi)\n",
    "print(runoff_relCh_scenEraOne_ensMean_mon_clim_lowMissi.shape)\n",
    "print(runoff_relCh_scenEraOne_ensMean_mon_clim_lowMissi)\n",
    "\n",
    "runoff_relCh_scenEraTwo_ensMean_mon_clim_lowMissi = (runoff_scenEraTwo_ensMean_mon_clim_lowMissi-runoff_refPeriod_ensMean_mon_clim_lowMissi)\n",
    "print(runoff_relCh_scenEraTwo_ensMean_mon_clim_lowMissi.shape)\n",
    "print(runoff_relCh_scenEraTwo_ensMean_mon_clim_lowMissi)\n",
    "\n",
    "runoff_relCh_scenEraThree_ensMean_mon_clim_lowMissi = (runoff_scenEraThree_ensMean_mon_clim_lowMissi-runoff_refPeriod_ensMean_mon_clim_lowMissi)\n",
    "print(runoff_relCh_scenEraThree_ensMean_mon_clim_lowMissi.shape)\n",
    "print(runoff_relCh_scenEraThree_ensMean_mon_clim_lowMissi)"
   ]
  },
  {
   "cell_type": "code",
   "execution_count": null,
   "metadata": {},
   "outputs": [],
   "source": []
  },
  {
   "cell_type": "code",
   "execution_count": null,
   "metadata": {},
   "outputs": [],
   "source": []
  },
  {
   "cell_type": "code",
   "execution_count": null,
   "metadata": {},
   "outputs": [],
   "source": []
  },
  {
   "cell_type": "markdown",
   "metadata": {},
   "source": [
    "## Figure formatting"
   ]
  },
  {
   "cell_type": "code",
   "execution_count": 228,
   "metadata": {},
   "outputs": [
    {
     "data": {
      "image/png": "[encoded data removed]",
      "text/plain": [
       "<Figure size 864x810 with 20 Axes>"
      ]
     },
     "metadata": {
      "needs_background": "light"
     },
     "output_type": "display_data"
    }
   ],
   "source": [
    "\n",
    "#%matplotlib notebook\n",
    "\n",
    "tickFontSize = 14\n",
    "textFontSize = 16\n",
    "legendFontSize = 15\n",
    "titleFontSize = 16\n",
    "\n",
    "\n",
    "linewidth = 0.8\n",
    "dashLinewidth = 0.7\n",
    "#++++++++++++++++++++++++++++++++++++++++++++++++++++++++++++++++++++++++++\n",
    "fig = plt.figure(figsize=(12, 11.25), constrained_layout=False)\n",
    "axs = [plt.subplot(5, 4, x + 1,) for x in range(20)]\n",
    "ax1 = axs[0]\n",
    "ln112=ax1.plot(range(nMonsPerYr), precip_relCh_scenEraOne_ensMean_mon_clim_Missouri, label=\"2015-2044\", color = 'blue', linewidth=1)\n",
    "ln113=ax1.plot(range(nMonsPerYr), precip_relCh_scenEraTwo_ensMean_mon_clim_Missouri, label=\"2045-2074\", color = 'orange', linewidth=1.5)\n",
    "ln114=ax1.plot(range(nMonsPerYr), precip_relCh_scenEraThree_ensMean_mon_clim_Missouri, label=\"2075-2100\", color = 'red', linewidth=1)\n",
    "ln115=ax1.axhline(y = 0, color = 'k', label = '', linestyle='--', linewidth=dashLinewidth)\n",
    "ax1.set_title('(a)', y=0.98, pad=-14, fontsize = titleFontSize, loc='left')\n",
    "ax1.text(3, 33, r'Missouri', fontsize=titleFontSize)\n",
    "\n",
    "ax1.set_xticks(range(nMonsPerYr))\n",
    "ax1.set_xticklabels(monsStr, minor=False)\n",
    "ax1.set_xticklabels('', )\n",
    "ax1.set_xlim([0, 11])\n",
    "\n",
    "ax1.set_ylim([-7, 30.5])\n",
    "\n",
    "ax1.set_yticks([0, 10, 20, 30]) \n",
    "ax1.set_yticklabels(['0', '10', '20', '30'],  fontsize = tickFontSize) \n",
    "ax1.set_ylabel('Precipitation\\n[mm/mon]', fontsize = textFontSize )\n",
    "\n",
    "ax1.set_xlabel('')\n",
    "#+++++++++++++++++++++++++++++++++++++++++++++++++++++++\n",
    "\n",
    "ax2 = axs[1]\n",
    "ln122=ax2.plot(range(nMonsPerYr), precip_relCh_scenEraOne_ensMean_mon_clim_Arkansas, label=\"2015-2044\", color = 'blue', linewidth=1)\n",
    "ln123=ax2.plot(range(nMonsPerYr), precip_relCh_scenEraTwo_ensMean_mon_clim_Arkansas, label=\"2045-2074\", color = 'orange', linewidth=1.5)\n",
    "ln124=ax2.plot(range(nMonsPerYr), precip_relCh_scenEraThree_ensMean_mon_clim_Arkansas, label=\"2075-2100\", color = 'red', linewidth=1)\n",
    "ln125=ax2.axhline(y = 0, color = 'k', label = '', linestyle='--', linewidth=dashLinewidth)\n",
    "\n",
    "ax2.set_title('(b)', y=0.98, pad=-14, fontsize = titleFontSize, loc='left')\n",
    "ax2.text(3.05, 33, r'Arkansas', fontsize=titleFontSize)\n",
    "\n",
    "ax2.set_xticks(range(nMonsPerYr))\n",
    "ax2.set_xticklabels(monsStr, minor=False)\n",
    "ax2.set_xticklabels('', )\n",
    "\n",
    "ax2.set_yticks([0, 10, 20, 30]) \n",
    "ax2.set_yticklabels('', )\n",
    "\n",
    "ax2.set_xlim([0, 11])\n",
    "ax2.set_ylim([-7, 30.5])\n",
    "ax2.set_xlabel('')\n",
    "ax2.set_ylabel('')\n",
    "\n",
    "#+++++++++++++++++++++++++++++++++++++++++++++++++++++++\n",
    "ax3 = axs[2]\n",
    "ln132=ax3.plot(range(nMonsPerYr), precip_relCh_scenEraOne_ensMean_mon_clim_Ohio, label=\"2015-2044\", color = 'blue', linewidth=1)\n",
    "ln133=ax3.plot(range(nMonsPerYr), precip_relCh_scenEraTwo_ensMean_mon_clim_Ohio, label=\"2045-2074\", color = 'orange', linewidth=1.5)\n",
    "ln134=ax3.plot(range(nMonsPerYr), precip_relCh_scenEraThree_ensMean_mon_clim_Ohio, label=\"2075-2100\", color = 'red', linewidth=1)\n",
    "ln135=ax3.axhline(y = 0, color = 'k', label = '', linestyle='--', linewidth=dashLinewidth)\n",
    "\n",
    "ax3.set_title('(c)', y=0.98, pad=-14, fontsize = titleFontSize, loc='left')\n",
    "ax3.text(4, 33, r'Ohio', fontsize=titleFontSize)\n",
    "\n",
    "ax3.set_xticks(range(nMonsPerYr))\n",
    "ax3.set_xticklabels(monsStr, minor=False)\n",
    "ax3.set_xticklabels('', )\n",
    "\n",
    "ax3.set_yticks([0, 10, 20, 30]) \n",
    "ax3.set_yticklabels('', )\n",
    "\n",
    "ax3.set_xlim([0, 11])\n",
    "ax3.set_ylim([-7, 30.5])\n",
    "ax3.set_xlabel('')\n",
    "ax3.set_ylabel('')\n",
    "\n",
    "#+++++++++++++++++++++++++++++++++++++++++++++++++++++++\n",
    "ax4 = axs[3]\n",
    "ln142=ax4.plot(range(nMonsPerYr), precip_relCh_scenEraOne_ensMean_mon_clim_lowMissi, label=\"2015-2044\", color = 'blue', linewidth=1)\n",
    "ln143=ax4.plot(range(nMonsPerYr), precip_relCh_scenEraTwo_ensMean_mon_clim_lowMissi, label=\"2045-2074\", color = 'orange', linewidth=1.5)\n",
    "ln144=ax4.plot(range(nMonsPerYr), precip_relCh_scenEraThree_ensMean_mon_clim_lowMissi, label=\"2075-2100\", color = 'red', linewidth=1)\n",
    "ln145=ax4.axhline(y = 0, color = 'k', label = '', linestyle='--', linewidth=dashLinewidth)\n",
    "\n",
    "ax4.set_title('(d)', y=0.98, pad=-14, fontsize = titleFontSize, loc='left')\n",
    "ax4.text(+0.3, 33, r'Lower Mississippi', fontsize=titleFontSize)\n",
    "\n",
    "ax4.set_xticks(range(nMonsPerYr))\n",
    "ax4.set_xticklabels(monsStr, minor=False)\n",
    "ax4.set_xticklabels('', )\n",
    "\n",
    "ax4.set_yticks([0, 10, 20, 30]) \n",
    "ax4.set_yticklabels('', )\n",
    "\n",
    "ax4.set_xlim([0, 11])\n",
    "ax4.set_ylim([-7, 30.5])\n",
    "ax4.set_xlabel('')\n",
    "ax4.set_ylabel('')\n",
    "\n",
    "#+++++++++++++++++++++++++++++++++++++++++++++++++++++++\n",
    "#+++++++++++++++++++++++++++++++++++++++++++++++++++++++\n",
    "\n",
    "\n",
    "ax5 = axs[4]\n",
    "ln152=ax5.plot(range(nMonsPerYr), et_relCh_scenEraOne_ensMean_mon_clim_Missouri, label=\"2015-2044\", color = 'blue', linewidth=1)\n",
    "ln153=ax5.plot(range(nMonsPerYr), et_relCh_scenEraTwo_ensMean_mon_clim_Missouri, label=\"2045-2074\", color = 'orange', linewidth=1.5)\n",
    "ln154=ax5.plot(range(nMonsPerYr), et_relCh_scenEraThree_ensMean_mon_clim_Missouri, label=\"2075-2100\", color = 'red', linewidth=1)\n",
    "ln155=ax5.axhline(y = 0, color = 'k', label = '', linestyle='--', linewidth=dashLinewidth)\n",
    "ax5.set_title('(e)', y=0.98, pad=-14, fontsize = titleFontSize, loc='left')\n",
    "\n",
    "ax5.set_xticks(range(nMonsPerYr))\n",
    "ax5.set_xticklabels(monsStr, minor=False)\n",
    "ax5.set_xticklabels('', )\n",
    "ax5.set_xlim([0, 11])\n",
    "ax5.set_ylim([-8, 20])\n",
    "\n",
    "ax5.set_yticks([0, 10, 20]) \n",
    "ax5.set_yticklabels(['0', '10', '20'],  fontsize = tickFontSize) \n",
    "ax5.set_ylabel('ET\\n[mm/mon]', fontsize = textFontSize )\n",
    "\n",
    "ax5.set_xlabel('')\n",
    "#+++++++++++++++++++++++++++++++++++++++++++++++++++++++\n",
    "\n",
    "ax6 = axs[5]\n",
    "ln162=ax6.plot(range(nMonsPerYr), et_relCh_scenEraOne_ensMean_mon_clim_Arkansas, label=\"2015-2044\", color = 'blue', linewidth=1)\n",
    "ln163=ax6.plot(range(nMonsPerYr), et_relCh_scenEraTwo_ensMean_mon_clim_Arkansas, label=\"2045-2074\", color = 'orange', linewidth=1.5)\n",
    "ln164=ax6.plot(range(nMonsPerYr), et_relCh_scenEraThree_ensMean_mon_clim_Arkansas, label=\"2075-2100\", color = 'red', linewidth=1)\n",
    "ln165=ax6.axhline(y = 0, color = 'k', label = '', linestyle='--', linewidth=dashLinewidth)\n",
    "\n",
    "ax6.set_title('(f)', y=0.98, pad=-14, fontsize = titleFontSize, loc='left')\n",
    "\n",
    "ax6.set_xticks(range(nMonsPerYr))\n",
    "ax6.set_xticklabels(monsStr, minor=False)\n",
    "ax6.set_xticklabels('', )\n",
    "\n",
    "ax6.set_yticks([0, 10, 20]) \n",
    "ax6.set_yticklabels('', )\n",
    "\n",
    "ax6.set_xlim([0, 11])\n",
    "ax6.set_ylim([-8, 20])\n",
    "ax6.set_xlabel('')\n",
    "ax6.set_ylabel('')\n",
    "#+++++++++++++++++++++++++++++++++++++++++++++++++++++++\n",
    "\n",
    "ax7 = axs[6]\n",
    "ln172=ax7.plot(range(nMonsPerYr), et_relCh_scenEraOne_ensMean_mon_clim_Ohio, label=\"2015-2044\", color = 'blue', linewidth=1)\n",
    "ln173=ax7.plot(range(nMonsPerYr), et_relCh_scenEraTwo_ensMean_mon_clim_Ohio, label=\"2045-2074\", color = 'orange', linewidth=1.5)\n",
    "ln174=ax7.plot(range(nMonsPerYr), et_relCh_scenEraThree_ensMean_mon_clim_Ohio, label=\"2075-2100\", color = 'red', linewidth=1)\n",
    "ln175=ax7.axhline(y = 0, color = 'k', label = '', linestyle='--', linewidth=dashLinewidth)\n",
    "\n",
    "ax7.set_title('(g)', y=0.98, pad=-14, fontsize = titleFontSize, loc='left')\n",
    "\n",
    "ax7.set_xticks(range(nMonsPerYr))\n",
    "ax7.set_xticklabels(monsStr, minor=False)\n",
    "ax7.set_xticklabels('', )\n",
    "\n",
    "ax7.set_yticks([0, 10, 20]) \n",
    "ax7.set_yticklabels('', )\n",
    "\n",
    "ax7.set_xlim([0, 11])\n",
    "ax7.set_ylim([-8, 20])\n",
    "ax7.set_xlabel('')\n",
    "ax7.set_ylabel('')\n",
    "#+++++++++++++++++++++++++++++++++++++++++++++++++++++++\n",
    "\n",
    "ax8 = axs[7]\n",
    "ln182=ax8.plot(range(nMonsPerYr), et_relCh_scenEraOne_ensMean_mon_clim_lowMissi, label=\"2015-2044\", color = 'blue', linewidth=1)\n",
    "ln183=ax8.plot(range(nMonsPerYr), et_relCh_scenEraTwo_ensMean_mon_clim_lowMissi, label=\"2045-2074\", color = 'orange', linewidth=1.5)\n",
    "ln184=ax8.plot(range(nMonsPerYr), et_relCh_scenEraThree_ensMean_mon_clim_lowMissi, label=\"2075-2100\", color = 'red', linewidth=1)\n",
    "ln185=ax8.axhline(y = 0, color = 'k', label = '', linestyle='--', linewidth=dashLinewidth)\n",
    "\n",
    "ax8.set_title('(h)', y=0.98, pad=-14, fontsize = titleFontSize, loc='left')\n",
    "\n",
    "ax8.set_xticks(range(nMonsPerYr))\n",
    "ax8.set_xticklabels(monsStr, minor=False)\n",
    "ax8.set_xticklabels('', )\n",
    "\n",
    "ax8.set_yticks([0, 10, 20]) \n",
    "ax8.set_yticklabels('', )\n",
    "\n",
    "ax8.set_xlim([0, 11])\n",
    "ax8.set_ylim([-8, 20])\n",
    "ax8.set_xlabel('')\n",
    "ax8.set_ylabel('')\n",
    "\n",
    "#+++++++++++++++++++++++++++++++++++++++++++++++++++++++\n",
    "#+++++++++++++++++++++++++++++++++++++++++++++++++++++++\n",
    "\n",
    "ax9 = axs[8]\n",
    "ln192=ax9.plot(range(nMonsPerYr), snowMelt_relCh_scenEraOne_ensMean_mon_clim_Missouri, label=\"2015-2044\", color = 'blue', linewidth=1)\n",
    "ln193=ax9.plot(range(nMonsPerYr), snowMelt_relCh_scenEraTwo_ensMean_mon_clim_Missouri, label=\"2045-2074\", color = 'orange', linewidth=1.5)\n",
    "ln194=ax9.plot(range(nMonsPerYr), snowMelt_relCh_scenEraThree_ensMean_mon_clim_Missouri, label=\"2075-2100\", color = 'red', linewidth=1)\n",
    "ln195=ax9.axhline(y = 0, color = 'k', label = '', linestyle='--', linewidth=dashLinewidth)\n",
    "\n",
    "ax9.set_title('(i)', y=0.98, pad=-14, fontsize = titleFontSize, loc='left')\n",
    "\n",
    "ax9.set_xticks(range(nMonsPerYr))\n",
    "ax9.set_xticklabels(monsStr, minor=False)\n",
    "ax9.set_xticklabels('', )\n",
    "ax9.set_xlim([0, 11])\n",
    "ax9.set_ylim([-48, 14])\n",
    "\n",
    "ax9.set_yticks([0, -20, -40]) \n",
    "ax9.set_yticklabels(['0', '-20', '-40'],  fontsize = tickFontSize) \n",
    "\n",
    "ax9.set_ylabel('Snow melt\\n[mm/mon]', fontsize = textFontSize )\n",
    "ax9.set_xlabel('')\n",
    "#+++++++++++++++++++++++++++++++++++++++++++++++++++++++\n",
    "\n",
    "ax10 = axs[9]\n",
    "ln1102=ax10.plot(range(nMonsPerYr), snowMelt_relCh_scenEraOne_ensMean_mon_clim_Arkansas, label=\"2015-2044\", color = 'blue', linewidth=1)\n",
    "ln1103=ax10.plot(range(nMonsPerYr), snowMelt_relCh_scenEraTwo_ensMean_mon_clim_Arkansas, label=\"2045-2074\", color = 'orange', linewidth=1.5)\n",
    "ln1104=ax10.plot(range(nMonsPerYr), snowMelt_relCh_scenEraThree_ensMean_mon_clim_Arkansas, label=\"2075-2100\", color = 'red', linewidth=1)\n",
    "ln1105=ax10.axhline(y = 0, color = 'k', label = '', linestyle='--', linewidth=dashLinewidth)\n",
    "\n",
    "ax10.set_title('(j)', y=0.98, pad=-14, fontsize = titleFontSize, loc='left')\n",
    "\n",
    "ax10.set_xticks(range(nMonsPerYr))\n",
    "ax10.set_xticklabels(monsStr, minor=False)\n",
    "ax10.set_xticklabels('', )\n",
    "\n",
    "ax10.set_yticks([0, -20, -40]) \n",
    "ax10.set_yticklabels('', )\n",
    "\n",
    "ax10.set_xlim([0, 11])\n",
    "ax10.set_ylim([-48, 14])\n",
    "ax10.set_xlabel('')\n",
    "ax10.set_ylabel('')\n",
    "#+++++++++++++++++++++++++++++++++++++++++++++++++++++++\n",
    "\n",
    "ax11 = axs[10]\n",
    "ln1112=ax11.plot(range(nMonsPerYr), snowMelt_relCh_scenEraOne_ensMean_mon_clim_Ohio, label=\"2015-2044\", color = 'blue', linewidth=1)\n",
    "ln1113=ax11.plot(range(nMonsPerYr), snowMelt_relCh_scenEraTwo_ensMean_mon_clim_Ohio, label=\"2045-2074\", color = 'orange', linewidth=1.5)\n",
    "ln1114=ax11.plot(range(nMonsPerYr), snowMelt_relCh_scenEraThree_ensMean_mon_clim_Ohio, label=\"2075-2100\", color = 'red', linewidth=1)\n",
    "ln1115=ax11.axhline(y = 0, color = 'k', label = '', linestyle='--', linewidth=dashLinewidth)\n",
    "\n",
    "ax11.set_title('(k)', y=0.98, pad=-14, fontsize = titleFontSize, loc='left')\n",
    "\n",
    "ax11.set_xticks(range(nMonsPerYr))\n",
    "ax11.set_xticklabels(monsStr, minor=False)\n",
    "ax11.set_xticklabels('', )\n",
    "ax11.set_yticks([0, -20, -40]) \n",
    "ax11.set_yticklabels('', )\n",
    "\n",
    "ax11.set_xlim([0, 11])\n",
    "ax11.set_ylim([-48, 14])\n",
    "ax11.set_xlabel('')\n",
    "ax11.set_ylabel('')\n",
    "#+++++++++++++++++++++++++++++++++++++++++++++++++++++++\n",
    "\n",
    "ax12 = axs[11]\n",
    "ln1122=ax12.plot(range(nMonsPerYr), snowMelt_relCh_scenEraOne_ensMean_mon_clim_lowMissi, label=\"2015-2044\", color = 'blue', linewidth=1)\n",
    "ln1123=ax12.plot(range(nMonsPerYr), snowMelt_relCh_scenEraTwo_ensMean_mon_clim_lowMissi, label=\"2045-2074\", color = 'orange', linewidth=1.5)\n",
    "ln1124=ax12.plot(range(nMonsPerYr), snowMelt_relCh_scenEraThree_ensMean_mon_clim_lowMissi, label=\"2075-2100\", color = 'red', linewidth=1)\n",
    "ln1125=ax12.axhline(y = 0, color = 'k', label = '', linestyle='--', linewidth=dashLinewidth)\n",
    "\n",
    "ax12.set_title('(l)', y=0.98, pad=-14, fontsize = titleFontSize, loc='left')\n",
    "\n",
    "ax12.set_xticks(range(nMonsPerYr))\n",
    "ax12.set_xticklabels(monsStr, minor=False)\n",
    "ax12.set_xticklabels('', )\n",
    "ax12.set_yticks([0, -20, -40]) \n",
    "ax12.set_yticklabels('', )\n",
    "\n",
    "ax12.set_xlim([0, 11])\n",
    "ax12.set_ylim([-48, 14])\n",
    "ax12.set_xlabel('')\n",
    "ax12.set_ylabel('')\n",
    "#+++++++++++++++++++++++++++++++++++++++++++++++++++++++\n",
    "#+++++++++++++++++++++++++++++++++++++++++++++++++++++++\n",
    "\n",
    "\n",
    "ax13 = axs[12]\n",
    "ln1132=ax13.plot(range(nMonsPerYr), soilMoist_relCh_scenEraOne_ensMean_mon_clim_Missouri, label=\"2015-2044\", color = 'blue', linewidth=1)\n",
    "ln1133=ax13.plot(range(nMonsPerYr), soilMoist_relCh_scenEraTwo_ensMean_mon_clim_Missouri, label=\"2045-2074\", color = 'orange', linewidth=1.5)\n",
    "ln1134=ax13.plot(range(nMonsPerYr), soilMoist_relCh_scenEraThree_ensMean_mon_clim_Missouri, label=\"2075-2100\", color = 'red', linewidth=1)\n",
    "ln1135=ax13.axhline(y = 0, color = 'k', label = '', linestyle='--', linewidth=dashLinewidth)\n",
    "\n",
    "ax13.set_title('(m)', y=0.98, pad=-14, fontsize = titleFontSize, loc='left')\n",
    "\n",
    "ax13.set_xticks(range(nMonsPerYr))\n",
    "ax13.set_xticklabels(monsStr, minor=False)\n",
    "ax13.set_xticklabels('', )\n",
    "ax13.set_xlim([0, 11])\n",
    "ax13.set_ylim([-2.75, 0.75])\n",
    "\n",
    "ax13.set_yticks([0, -1, -2]) \n",
    "ax13.set_yticklabels(['0', '-1', '-2'],  fontsize = tickFontSize) \n",
    "\n",
    "ax13.set_ylabel('Soil Moisture\\n[kg/$\\mathregular{m^{2}}$]', fontsize = textFontSize )\n",
    "\n",
    "ax13.set_xlabel('')\n",
    "#+++++++++++++++++++++++++++++++++++++++++++++++++++++++\n",
    "\n",
    "ax14 = axs[13]\n",
    "ln1142=ax14.plot(range(nMonsPerYr), soilMoist_relCh_scenEraOne_ensMean_mon_clim_Arkansas, label=\"2015-2044\", color = 'blue', linewidth=1)\n",
    "ln1143=ax14.plot(range(nMonsPerYr), soilMoist_relCh_scenEraTwo_ensMean_mon_clim_Arkansas, label=\"2045-2074\", color = 'orange', linewidth=1.5)\n",
    "ln1144=ax14.plot(range(nMonsPerYr), soilMoist_relCh_scenEraThree_ensMean_mon_clim_Arkansas, label=\"2075-2100\", color = 'red', linewidth=1)\n",
    "ln1145=ax14.axhline(y = 0, color = 'k', label = '', linestyle='--', linewidth=dashLinewidth)\n",
    "\n",
    "ax14.set_title('(n)', y=0.98, pad=-14, fontsize = titleFontSize, loc='left')\n",
    "\n",
    "ax14.set_xticks(range(nMonsPerYr))\n",
    "ax14.set_xticklabels(monsStr, minor=False)\n",
    "ax14.set_xticklabels('', )\n",
    "\n",
    "ax14.set_yticks([0, -1, -2]) \n",
    "ax14.set_yticklabels('', )\n",
    "\n",
    "ax14.set_xlim([0, 11])\n",
    "ax14.set_ylim([-2.75, 0.75])\n",
    "\n",
    "ax14.set_xlabel('')\n",
    "ax14.set_ylabel('')\n",
    "#+++++++++++++++++++++++++++++++++++++++++++++++++++++++\n",
    "\n",
    "ax15 = axs[14]\n",
    "ln1152=ax15.plot(range(nMonsPerYr), soilMoist_relCh_scenEraOne_ensMean_mon_clim_Ohio, label=\"2015-2044\", color = 'blue', linewidth=1)\n",
    "ln1153=ax15.plot(range(nMonsPerYr), soilMoist_relCh_scenEraTwo_ensMean_mon_clim_Ohio, label=\"2045-2074\", color = 'orange', linewidth=1.5)\n",
    "ln1154=ax15.plot(range(nMonsPerYr), soilMoist_relCh_scenEraThree_ensMean_mon_clim_Ohio, label=\"2075-2100\", color = 'red', linewidth=1)\n",
    "ln1155=ax15.axhline(y = 0, color = 'k', label = '', linestyle='--', linewidth=dashLinewidth)\n",
    "\n",
    "ax15.set_title('(o)', y=0.98, pad=-14, fontsize = titleFontSize, loc='left')\n",
    "\n",
    "ax15.set_xticks(range(nMonsPerYr))\n",
    "ax15.set_xticklabels(monsStr, minor=False)\n",
    "ax15.set_xticklabels('', )\n",
    "ax15.set_yticks([0, -1, -2]) \n",
    "ax15.set_yticklabels('', )\n",
    "\n",
    "ax15.set_xlim([0, 11])\n",
    "ax15.set_ylim([-2.75, 0.75])\n",
    "ax15.set_xlabel('')\n",
    "ax15.set_ylabel('')\n",
    "#+++++++++++++++++++++++++++++++++++++++++++++++++++++++\n",
    "\n",
    "ax16 = axs[15]\n",
    "ln1162=ax16.plot(range(nMonsPerYr), soilMoist_relCh_scenEraOne_ensMean_mon_clim_lowMissi, label=\"2015-2044\", color = 'blue', linewidth=1)\n",
    "ln1163=ax16.plot(range(nMonsPerYr), soilMoist_relCh_scenEraTwo_ensMean_mon_clim_lowMissi, label=\"2045-2074\", color = 'orange', linewidth=1.5)\n",
    "ln1164=ax16.plot(range(nMonsPerYr), soilMoist_relCh_scenEraThree_ensMean_mon_clim_lowMissi, label=\"2075-2100\", color = 'red', linewidth=1)\n",
    "ln1165=ax16.axhline(y = 0, color = 'k', label = '', linestyle='--', linewidth=dashLinewidth)\n",
    "\n",
    "ax16.set_title('(p)', y=0.98, pad=-14, fontsize = titleFontSize, loc='left')\n",
    "\n",
    "ax16.set_xticks(range(nMonsPerYr))\n",
    "ax16.set_xticklabels(monsStr, minor=False)\n",
    "ax16.set_xticklabels('', )\n",
    "ax16.set_yticks([0, -1, -2]) \n",
    "ax16.set_yticklabels('', )\n",
    "\n",
    "ax16.set_xlim([0, 11])\n",
    "ax16.set_ylim([-2.75, 0.75])\n",
    "ax16.set_xlabel('')\n",
    "ax16.set_ylabel('')\n",
    "#+++++++++++++++++++++++++++++++++++++++++++++++++++++++\n",
    "#+++++++++++++++++++++++++++++++++++++++++++++++++++++++\n",
    "\n",
    "ax17 = axs[16]\n",
    "ln1172=ax17.plot(range(nMonsPerYr), runoff_relCh_scenEraOne_ensMean_mon_clim_Missouri, label=\"2015-2044\", color = 'blue', linewidth=1)\n",
    "ln1173=ax17.plot(range(nMonsPerYr), runoff_relCh_scenEraTwo_ensMean_mon_clim_Missouri, label=\"2045-2074\", color = 'orange', linewidth=1.5)\n",
    "ln1174=ax17.plot(range(nMonsPerYr), runoff_relCh_scenEraThree_ensMean_mon_clim_Missouri, label=\"2075-2100\", color = 'red', linewidth=1)\n",
    "ln1175=ax17.axhline(y = 0, color = 'k', label = '', linestyle='--', linewidth=dashLinewidth)\n",
    "\n",
    "ax17.set_title('(q)', y=0.98, pad=-14, fontsize = titleFontSize, loc='left')\n",
    "\n",
    "ax17.set_xticks(range(nMonsPerYr))\n",
    "ax17.set_xticklabels(monsStr1, minor=False, rotation = 45, fontsize = fontSize)\n",
    "ax17.set_xlim([0, 11])\n",
    "ax17.set_ylim([-4, 6.5])\n",
    "\n",
    "ax17.set_yticks([-3, 0, 3, 6]) \n",
    "ax17.set_yticklabels(['-3', '0', '3', '6'],  fontsize = tickFontSize) \n",
    "ax17.set_ylabel('Runoff\\n[mm/mon]', fontsize = textFontSize )\n",
    "ax17.set_xlabel('')\n",
    "#+++++++++++++++++++++++++++++++++++++++++++++++++++++++\n",
    "\n",
    "ax18 = axs[17]\n",
    "ln1182=ax18.plot(range(nMonsPerYr), runoff_relCh_scenEraOne_ensMean_mon_clim_Arkansas, label=\"2015-2044\", color = 'blue', linewidth=1)\n",
    "ln1183=ax18.plot(range(nMonsPerYr), runoff_relCh_scenEraTwo_ensMean_mon_clim_Arkansas, label=\"2045-2074\", color = 'orange', linewidth=1.5)\n",
    "ln1184=ax18.plot(range(nMonsPerYr), runoff_relCh_scenEraThree_ensMean_mon_clim_Arkansas, label=\"2075-2100\", color = 'red', linewidth=1)\n",
    "ln1185=ax18.axhline(y = 0, color = 'k', label = '', linestyle='--', linewidth=dashLinewidth)\n",
    "\n",
    "ax18.set_title('(r)', y=0.98, pad=-14, fontsize = titleFontSize, loc='left')\n",
    "\n",
    "ax18.set_xticks(range(nMonsPerYr))\n",
    "ax18.set_xticklabels(monsStr1, minor=False, rotation = 45, fontsize = tickFontSize)\n",
    "ax18.set_yticks([-3, 0, 3, 6]) \n",
    "ax18.set_yticklabels('', )\n",
    "\n",
    "ax18.set_xlim([0, 11])\n",
    "ax18.set_ylim([-4, 6.5])\n",
    "ax18.set_xlabel('Months', fontsize = textFontSize)\n",
    "ax18.xaxis.set_label_coords(1.1, -0.38)\n",
    "\n",
    "ax18.set_ylabel('')\n",
    "ax18.legend(ncol=4, loc=(-0.4, -0.77),frameon=False, fontsize=legendFontSize)\n",
    "#+++++++++++++++++++++++++++++++++++++++++++++++++++++++\n",
    "\n",
    "ax19 = axs[18]\n",
    "ln1192=ax19.plot(range(nMonsPerYr), runoff_relCh_scenEraOne_ensMean_mon_clim_Ohio, label=\"2015-2044\", color = 'blue', linewidth=1)\n",
    "ln1193=ax19.plot(range(nMonsPerYr), runoff_relCh_scenEraTwo_ensMean_mon_clim_Ohio, label=\"2045-2074\", color = 'orange', linewidth=1.5)\n",
    "ln1194=ax19.plot(range(nMonsPerYr), runoff_relCh_scenEraThree_ensMean_mon_clim_Ohio, label=\"2075-2100\", color = 'red', linewidth=1)\n",
    "ln1195=ax19.axhline(y = 0, color = 'k', label = '', linestyle='--', linewidth=dashLinewidth)\n",
    "\n",
    "ax19.set_title('(s)', y=0.98, pad=-14, fontsize = titleFontSize, loc='left')\n",
    "\n",
    "ax19.set_xticks(range(nMonsPerYr))\n",
    "ax19.set_xticklabels(monsStr1, minor=False, rotation = 45, fontsize = tickFontSize)\n",
    "\n",
    "ax19.set_yticks([-3, 0, 3, 6]) \n",
    "ax19.set_yticklabels('', )\n",
    "\n",
    "ax19.set_xlim([0, 11])\n",
    "ax19.set_ylim([-4, 6.5])\n",
    "\n",
    "ax19.set_xlabel('')\n",
    "ax19.set_ylabel('')\n",
    "#+++++++++++++++++++++++++++++++++++++++++++++++++++++++\n",
    "\n",
    "ax20 = axs[19]\n",
    "ln1202=ax20.plot(range(nMonsPerYr), runoff_relCh_scenEraOne_ensMean_mon_clim_lowMissi, label=\"2015-2044\", color = 'blue', linewidth=1)\n",
    "ln1203=ax20.plot(range(nMonsPerYr), runoff_relCh_scenEraTwo_ensMean_mon_clim_lowMissi, label=\"2045-2074\", color = 'orange', linewidth=1.5)\n",
    "ln1204=ax20.plot(range(nMonsPerYr), runoff_relCh_scenEraThree_ensMean_mon_clim_lowMissi, label=\"2075-2100\", color = 'red', linewidth=1)\n",
    "ln1205=ax20.axhline(y = 0, color = 'k', label = '', linestyle='--', linewidth=dashLinewidth)\n",
    "\n",
    "ax20.set_title('(t)', y=0.98, pad=-14, fontsize = titleFontSize, loc='left')\n",
    "\n",
    "ax20.set_xticks(range(nMonsPerYr))\n",
    "ax20.set_xticklabels(monsStr1, minor=False, rotation = 45, fontsize = tickFontSize)\n",
    "ax20.set_yticks([-3, 0, 3, 6]) \n",
    "ax20.set_yticklabels('', )\n",
    "\n",
    "ax20.set_xlim([0, 11])\n",
    "ax20.set_ylim([-4, 6.5])\n",
    "\n",
    "ax20.set_xlabel('')\n",
    "ax20.set_ylabel('')\n",
    "\n",
    "#+++++++++++++++++++++++++++++++++++++++++++++++++++++++\n",
    "#+++++++++++++++++++++++++++++++++++++++++++++++++++++++\n",
    "#+++++++++++++++++++++++++++++++++++++++++++++++++++++++\n",
    "#+++++++++++++++++++++++++++++++++++++++++++++++++++++++\n",
    "#st17 = fig.suptitle(\"Basin-average parameters\", fontsize = 20)\n",
    "#st17.set_y(0.94)\n",
    "#st17.set_x(0.515)\n",
    "\n",
    "plt.subplots_adjust(bottom=0.2)\n",
    "\n",
    "plt.show()\n",
    "\n",
    "\n",
    "#plt.savefig(r'C:\\rezaul\\1.academic\\1.research\\2.project\\mrb\\output\\fig\\paperOne\\param\\gr\\clim\\paramGrClim.pdf')  \n",
    "#plt.savefig(r'C:\\rezaul\\1.academic\\1.research\\2.project\\mrb\\output\\fig\\paperOne\\param\\gr\\clim\\paramGrClim.png', dpi=600)  \n",
    "\n",
    "\n"
   ]
  },
  {
   "cell_type": "code",
   "execution_count": null,
   "metadata": {},
   "outputs": [],
   "source": []
  },
  {
   "cell_type": "code",
   "execution_count": null,
   "metadata": {},
   "outputs": [],
   "source": []
  },
  {
   "cell_type": "markdown",
   "metadata": {},
   "source": [
    "## Statistics"
   ]
  },
  {
   "cell_type": "code",
   "execution_count": 229,
   "metadata": {},
   "outputs": [
    {
     "name": "stdout",
     "output_type": "stream",
     "text": [
      "34.6859998001395\n",
      "33.7715742508881\n",
      "33.228395866384474\n",
      "32.78575872651824\n"
     ]
    }
   ],
   "source": [
    "print(soilMoist_refPeriod_ensMean_mon_clim_Missouri.max())\n",
    "print(soilMoist_scenEraOne_ensMean_mon_clim_Missouri.max())\n",
    "print(soilMoist_scenEraTwo_ensMean_mon_clim_Missouri.max())\n",
    "print(soilMoist_scenEraThree_ensMean_mon_clim_Missouri.max())"
   ]
  },
  {
   "cell_type": "code",
   "execution_count": 230,
   "metadata": {
    "scrolled": true
   },
   "outputs": [
    {
     "name": "stdout",
     "output_type": "stream",
     "text": [
      "30.935113608065944\n",
      "29.645056088353385\n",
      "29.340597823037054\n",
      "29.046701393467075\n",
      "18.00377680820889\n",
      "17.21314127141458\n",
      "17.269915683357805\n",
      "17.429145377789464\n"
     ]
    }
   ],
   "source": [
    "print(soilMoist_refPeriod_ensMean_mon_clim_Arkansas.max())\n",
    "print(soilMoist_scenEraOne_ensMean_mon_clim_Arkansas.max())\n",
    "print(soilMoist_scenEraTwo_ensMean_mon_clim_Arkansas.max())\n",
    "print(soilMoist_scenEraThree_ensMean_mon_clim_Arkansas.max())\n",
    "\n",
    "print(soilMoist_refPeriod_ensMean_mon_clim_Arkansas.min())\n",
    "print(soilMoist_scenEraOne_ensMean_mon_clim_Arkansas.min())\n",
    "print(soilMoist_scenEraTwo_ensMean_mon_clim_Arkansas.min())\n",
    "print(soilMoist_scenEraThree_ensMean_mon_clim_Arkansas.min())\n"
   ]
  },
  {
   "cell_type": "code",
   "execution_count": null,
   "metadata": {},
   "outputs": [],
   "source": []
  },
  {
   "cell_type": "code",
   "execution_count": 231,
   "metadata": {},
   "outputs": [
    {
     "name": "stdout",
     "output_type": "stream",
     "text": [
      "43.17084506056044\n",
      "41.7751042823509\n",
      "41.22814832175926\n",
      "40.781452170510576\n"
     ]
    }
   ],
   "source": [
    "print(soilMoist_refPeriod_ensMean_mon_clim_Ohio.max())\n",
    "print(soilMoist_scenEraOne_ensMean_mon_clim_Ohio.max())\n",
    "print(soilMoist_scenEraTwo_ensMean_mon_clim_Ohio.max())\n",
    "print(soilMoist_scenEraThree_ensMean_mon_clim_Ohio.max())"
   ]
  },
  {
   "cell_type": "code",
   "execution_count": 232,
   "metadata": {},
   "outputs": [
    {
     "name": "stdout",
     "output_type": "stream",
     "text": [
      "37.22408808544704\n",
      "36.77661645435151\n",
      "36.71466251146225\n",
      "36.62441695705875\n"
     ]
    }
   ],
   "source": [
    "print(soilMoist_refPeriod_ensMean_mon_clim_lowMissi.max())\n",
    "print(soilMoist_scenEraOne_ensMean_mon_clim_lowMissi.max())\n",
    "print(soilMoist_scenEraTwo_ensMean_mon_clim_lowMissi.max())\n",
    "print(soilMoist_scenEraThree_ensMean_mon_clim_lowMissi.max())"
   ]
  },
  {
   "cell_type": "code",
   "execution_count": null,
   "metadata": {},
   "outputs": [],
   "source": []
  },
  {
   "cell_type": "code",
   "execution_count": null,
   "metadata": {},
   "outputs": [],
   "source": []
  },
  {
   "cell_type": "code",
   "execution_count": null,
   "metadata": {},
   "outputs": [],
   "source": []
  },
  {
   "cell_type": "code",
   "execution_count": 233,
   "metadata": {},
   "outputs": [
    {
     "name": "stdout",
     "output_type": "stream",
     "text": [
      "9.768835599310565\n",
      "8.80877025468577\n",
      "7.506892242656027\n",
      "6.830645635964956\n"
     ]
    }
   ],
   "source": [
    "print(runoff_refPeriod_ensMean_mon_clim_Missouri.max())\n",
    "print(runoff_scenEraOne_ensMean_mon_clim_Missouri.max())\n",
    "print(runoff_scenEraTwo_ensMean_mon_clim_Missouri.max())\n",
    "print(runoff_scenEraThree_ensMean_mon_clim_Missouri.max())"
   ]
  },
  {
   "cell_type": "code",
   "execution_count": 234,
   "metadata": {},
   "outputs": [
    {
     "name": "stdout",
     "output_type": "stream",
     "text": [
      "8.641180749267733\n",
      "8.715055736062238\n",
      "9.322606540137144\n",
      "9.59256905911501\n"
     ]
    }
   ],
   "source": [
    "print(runoff_refPeriod_ensMean_mon_clim_Arkansas.max())\n",
    "print(runoff_scenEraOne_ensMean_mon_clim_Arkansas.max())\n",
    "print(runoff_scenEraTwo_ensMean_mon_clim_Arkansas.max())\n",
    "print(runoff_scenEraThree_ensMean_mon_clim_Arkansas.max())"
   ]
  },
  {
   "cell_type": "code",
   "execution_count": 235,
   "metadata": {},
   "outputs": [
    {
     "name": "stdout",
     "output_type": "stream",
     "text": [
      "40.549423587701405\n",
      "37.23889092793579\n",
      "37.88120753295516\n",
      "38.74307258275796\n"
     ]
    }
   ],
   "source": [
    "print(runoff_refPeriod_ensMean_mon_clim_Ohio.max())\n",
    "print(runoff_scenEraOne_ensMean_mon_clim_Ohio.max())\n",
    "print(runoff_scenEraTwo_ensMean_mon_clim_Ohio.max())\n",
    "print(runoff_scenEraThree_ensMean_mon_clim_Ohio.max())"
   ]
  },
  {
   "cell_type": "code",
   "execution_count": 236,
   "metadata": {},
   "outputs": [
    {
     "name": "stdout",
     "output_type": "stream",
     "text": [
      "13.591583539335764\n",
      "13.66906300712034\n",
      "15.01815690155749\n",
      "15.586238683257742\n"
     ]
    }
   ],
   "source": [
    "print(runoff_refPeriod_ensMean_mon_clim_lowMissi.max())\n",
    "print(runoff_scenEraOne_ensMean_mon_clim_lowMissi.max())\n",
    "print(runoff_scenEraTwo_ensMean_mon_clim_lowMissi.max())\n",
    "print(runoff_scenEraThree_ensMean_mon_clim_lowMissi.max())\n"
   ]
  },
  {
   "cell_type": "code",
   "execution_count": null,
   "metadata": {},
   "outputs": [],
   "source": []
  },
  {
   "cell_type": "code",
   "execution_count": null,
   "metadata": {},
   "outputs": [],
   "source": []
  },
  {
   "cell_type": "code",
   "execution_count": null,
   "metadata": {},
   "outputs": [],
   "source": []
  },
  {
   "cell_type": "code",
   "execution_count": null,
   "metadata": {},
   "outputs": [],
   "source": []
  },
  {
   "cell_type": "code",
   "execution_count": null,
   "metadata": {},
   "outputs": [],
   "source": []
  },
  {
   "cell_type": "code",
   "execution_count": null,
   "metadata": {},
   "outputs": [],
   "source": []
  },
  {
   "cell_type": "code",
   "execution_count": null,
   "metadata": {},
   "outputs": [],
   "source": []
  },
  {
   "cell_type": "code",
   "execution_count": 237,
   "metadata": {},
   "outputs": [
    {
     "ename": "SyntaxError",
     "evalue": "invalid syntax (<ipython-input-237-56ef8df0f33a>, line 1)",
     "output_type": "error",
     "traceback": [
      "\u001b[1;36m  File \u001b[1;32m\"<ipython-input-237-56ef8df0f33a>\"\u001b[1;36m, line \u001b[1;32m1\u001b[0m\n\u001b[1;33m    STOP here ================\u001b[0m\n\u001b[1;37m         ^\u001b[0m\n\u001b[1;31mSyntaxError\u001b[0m\u001b[1;31m:\u001b[0m invalid syntax\n"
     ]
    }
   ],
   "source": [
    "STOP here ================"
   ]
  },
  {
   "cell_type": "code",
   "execution_count": null,
   "metadata": {},
   "outputs": [],
   "source": []
  },
  {
   "cell_type": "code",
   "execution_count": null,
   "metadata": {},
   "outputs": [],
   "source": []
  },
  {
   "cell_type": "code",
   "execution_count": null,
   "metadata": {},
   "outputs": [],
   "source": []
  },
  {
   "cell_type": "code",
   "execution_count": null,
   "metadata": {},
   "outputs": [],
   "source": []
  }
 ],
 "metadata": {
  "kernelspec": {
   "display_name": "Python 3",
   "language": "python",
   "name": "python3"
  },
  "language_info": {
   "codemirror_mode": {
    "name": "ipython",
    "version": 3
   },
   "file_extension": ".py",
   "mimetype": "text/x-python",
   "name": "python",
   "nbconvert_exporter": "python",
   "pygments_lexer": "ipython3",
   "version": "3.8.5"
  }
 },
 "nbformat": 4,
 "nbformat_minor": 4
}
