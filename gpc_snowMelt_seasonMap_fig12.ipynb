{
 "cells": [
  {
   "cell_type": "markdown",
   "metadata": {},
   "source": [
    "## This script reads CESM2 Snowmelt data downloaded from Casper in NCAR (Fig 12)"
   ]
  },
  {
   "cell_type": "markdown",
   "metadata": {},
   "source": [
    "## Import Libraries"
   ]
  },
  {
   "cell_type": "code",
   "execution_count": 1,
   "metadata": {},
   "outputs": [],
   "source": [
    "import numpy as np\n",
    "import pandas as pd\n",
    "import datetime\n",
    "import xarray as xr\n",
    "import seaborn as sns\n",
    "import warnings\n",
    "from matplotlib import pyplot as plt \n",
    "import matplotlib as mpl\n",
    "import shapefile as shp\n",
    "import cartopy.io.shapereader as shpreader\n",
    "from numpy import linspace\n",
    "from numpy import meshgrid\n",
    "import matplotlib.colors as colors\n",
    "from numpy import array, ma\n",
    "import cartopy.crs as ccrs\n",
    "import matplotlib.cm as cm\n",
    "import cartopy.feature as cfeature"
   ]
  },
  {
   "cell_type": "markdown",
   "metadata": {},
   "source": [
    "## Basin shape files"
   ]
  },
  {
   "cell_type": "code",
   "execution_count": 2,
   "metadata": {},
   "outputs": [],
   "source": [
    "shapeFile_Missi = 'C:/rezaul/1.academic/1.research/2.project/mrb/dt/shapeFile/mississippi_basins/mississippi_basins/mississippi_1.shp'\n",
    "shapeFile_Arkansas = 'C:/rezaul/1.academic/1.research/2.project/mrb/dt/shapeFile/mississippi_basins/mississippi_basins/arkansas_basin_1.shp'\n",
    "shapeFile_Missouri = 'C:/rezaul/1.academic/1.research/2.project/mrb/dt/shapeFile/mississippi_basins/mississippi_basins/missouri_basin_1.shp'\n",
    "shapeFile_Ohio = 'C:/rezaul/1.academic/1.research/2.project/mrb/dt/shapeFile/mississippi_basins/mississippi_basins/ohio_basin_1.shp'\n"
   ]
  },
  {
   "cell_type": "code",
   "execution_count": 3,
   "metadata": {},
   "outputs": [],
   "source": [
    "sf_Missi = shp.Reader(shapeFile_Missi)\n",
    "sf_Arkansas = shp.Reader(shapeFile_Arkansas)\n",
    "sf_Missouri = shp.Reader(shapeFile_Missouri)\n",
    "sf_Ohio = shp.Reader(shapeFile_Ohio)"
   ]
  },
  {
   "cell_type": "code",
   "execution_count": 4,
   "metadata": {},
   "outputs": [],
   "source": [
    "reader_Missi = shpreader.Reader(shapeFile_Missi)\n",
    "basin_Missi = list(reader_Missi.geometries())\n",
    "#\n",
    "reader_Arkansas = shpreader.Reader(shapeFile_Arkansas)\n",
    "basin_Arkansas = list(reader_Arkansas.geometries())\n",
    "#\n",
    "reader_Missouri = shpreader.Reader(shapeFile_Missouri)\n",
    "basin_Missouri = list(reader_Missouri.geometries())\n",
    "#\n",
    "reader_Ohio = shpreader.Reader(shapeFile_Ohio)\n",
    "basin_Ohio = list(reader_Ohio.geometries())"
   ]
  },
  {
   "cell_type": "code",
   "execution_count": 5,
   "metadata": {},
   "outputs": [
    {
     "name": "stdout",
     "output_type": "stream",
     "text": [
      "<shapefile.ShapeRecord object at 0x000001F06684F370>\n",
      "<shapefile.ShapeRecord object at 0x000001F04A7586D0>\n",
      "<shapefile.ShapeRecord object at 0x000001F04A758640>\n",
      "<shapefile.ShapeRecord object at 0x000001F06684F700>\n"
     ]
    }
   ],
   "source": [
    "feature_Missi = sf_Missi.shapeRecords()[0]\n",
    "print(feature_Missi)\n",
    "\n",
    "feature_Arkansas = sf_Arkansas.shapeRecords()[0]\n",
    "print(feature_Arkansas)\n",
    "\n",
    "feature_Missouri = sf_Missouri.shapeRecords()[0]\n",
    "print(feature_Missouri)\n",
    "\n",
    "feature_Ohio = sf_Ohio.shapeRecords()[0]\n",
    "print(feature_Ohio)"
   ]
  },
  {
   "cell_type": "markdown",
   "metadata": {},
   "source": [
    "## Read Lat, Lon data for the selected Domain processed from \"GLADE\" in Casper"
   ]
  },
  {
   "cell_type": "markdown",
   "metadata": {},
   "source": [
    "## Lat"
   ]
  },
  {
   "cell_type": "code",
   "execution_count": 6,
   "metadata": {},
   "outputs": [
    {
     "name": "stdout",
     "output_type": "stream",
     "text": [
      "(32,)\n",
      "[24.973822 25.916231 26.858639 27.801046 28.743456 29.685863 30.628273\n",
      " 31.57068  32.51309  33.455498 34.397907 35.340313 36.282722 37.225132\n",
      " 38.167538 39.109947 40.052357 40.994766 41.937172 42.87958  43.82199\n",
      " 44.764397 45.706806 46.649216 47.59162  48.53403  49.47644  50.41885\n",
      " 51.361256 52.303665 53.246075 54.18848 ]\n",
      "32\n"
     ]
    }
   ],
   "source": [
    "file_LatUs = 'C:/rezaul/1.academic/1.research/2.project/mrb/dt/cesm/cesm2LE/param/precip/mon/latsUsArr.npy'\n",
    "latUs_cesm2 = np.load(file_LatUs)\n",
    "print(latUs_cesm2.shape)\n",
    "print(latUs_cesm2)\n",
    "\n",
    "y_US = latUs_cesm2.shape[0]\n",
    "print(y_US)"
   ]
  },
  {
   "cell_type": "code",
   "execution_count": 7,
   "metadata": {},
   "outputs": [],
   "source": [
    "lats_Us = latUs_cesm2"
   ]
  },
  {
   "cell_type": "markdown",
   "metadata": {},
   "source": [
    "## Lon"
   ]
  },
  {
   "cell_type": "code",
   "execution_count": 8,
   "metadata": {},
   "outputs": [
    {
     "name": "stdout",
     "output_type": "stream",
     "text": [
      "(56,)\n",
      "[230.   231.25 232.5  233.75 235.   236.25 237.5  238.75 240.   241.25\n",
      " 242.5  243.75 245.   246.25 247.5  248.75 250.   251.25 252.5  253.75\n",
      " 255.   256.25 257.5  258.75 260.   261.25 262.5  263.75 265.   266.25\n",
      " 267.5  268.75 270.   271.25 272.5  273.75 275.   276.25 277.5  278.75\n",
      " 280.   281.25 282.5  283.75 285.   286.25 287.5  288.75 290.   291.25\n",
      " 292.5  293.75 295.   296.25 297.5  298.75]\n",
      "56\n"
     ]
    }
   ],
   "source": [
    "file_LonUs = 'C:/rezaul/1.academic/1.research/2.project/mrb/dt/cesm/cesm2LE/param/precip/mon/lonsUsArr.npy'\n",
    "lonUs_cesm2 = np.load(file_LonUs)\n",
    "print(lonUs_cesm2.shape)\n",
    "print(lonUs_cesm2)\n",
    "\n",
    "x_US = lonUs_cesm2.shape[0]\n",
    "print(x_US)"
   ]
  },
  {
   "cell_type": "code",
   "execution_count": 9,
   "metadata": {},
   "outputs": [],
   "source": [
    "lons_Us = lonUs_cesm2"
   ]
  },
  {
   "cell_type": "markdown",
   "metadata": {},
   "source": [
    "### Historical (1930-2014): 1020 months"
   ]
  },
  {
   "cell_type": "code",
   "execution_count": 10,
   "metadata": {},
   "outputs": [
    {
     "name": "stdout",
     "output_type": "stream",
     "text": [
      "(1020, 32, 56)\n"
     ]
    }
   ],
   "source": [
    "file_histSel_ensMean = 'C:/rezaul/1.academic/1.research/2.project/mrb/dt/cesm/cesm2LE/param/snowMelt/mon/monSnowMeltUsHistSelEnsMean.npy'\n",
    "file_histSel_ensMean_loaded = np.load(file_histSel_ensMean)\n",
    "print(file_histSel_ensMean_loaded.shape)"
   ]
  },
  {
   "cell_type": "markdown",
   "metadata": {},
   "source": [
    "### Scenario (2105-2100): 1032 months"
   ]
  },
  {
   "cell_type": "code",
   "execution_count": 11,
   "metadata": {},
   "outputs": [
    {
     "name": "stdout",
     "output_type": "stream",
     "text": [
      "(1032, 32, 56)\n"
     ]
    }
   ],
   "source": [
    "file_scen_ensMean = 'C:/rezaul/1.academic/1.research/2.project/mrb/dt/cesm/cesm2LE/param/snowMelt/mon/monSnowMeltUsScenEnsMean.npy'\n",
    "file_scen_ensMean_loaded = np.load(file_scen_ensMean)\n",
    "print(file_scen_ensMean_loaded.shape)"
   ]
  },
  {
   "cell_type": "markdown",
   "metadata": {},
   "source": [
    "## Concatenate two data arrays"
   ]
  },
  {
   "cell_type": "code",
   "execution_count": 12,
   "metadata": {},
   "outputs": [
    {
     "name": "stdout",
     "output_type": "stream",
     "text": [
      "(2052, 32, 56)\n"
     ]
    }
   ],
   "source": [
    "param_histSel_scen_ensMean_Us = np.concatenate((file_histSel_ensMean_loaded, file_scen_ensMean_loaded), axis=0)\n",
    "print(param_histSel_scen_ensMean_Us.shape)"
   ]
  },
  {
   "cell_type": "markdown",
   "metadata": {},
   "source": [
    "## The two files (Hist selected and Scen)"
   ]
  },
  {
   "cell_type": "code",
   "execution_count": 13,
   "metadata": {},
   "outputs": [
    {
     "name": "stdout",
     "output_type": "stream",
     "text": [
      "(1020, 32, 56)\n",
      "(1032, 32, 56)\n"
     ]
    }
   ],
   "source": [
    "print(file_histSel_ensMean_loaded.shape)\n",
    "print(file_scen_ensMean_loaded.shape)"
   ]
  },
  {
   "cell_type": "markdown",
   "metadata": {},
   "source": [
    "## The four time slots"
   ]
  },
  {
   "cell_type": "code",
   "execution_count": 14,
   "metadata": {},
   "outputs": [],
   "source": [
    "\n",
    "#histYrSt = 1850\n",
    "histYrSelSt = 1930\n",
    "\n",
    "refPeriodYrSt = 1971\n",
    "refPeriodYrEnd = 2000\n",
    "#++++++++++++++++++++++++\n",
    "\n",
    "scenYrSt = 2015\n",
    "scenEraOneYrEnd = 2044\n",
    "\n",
    "scenEraTwoYrSt = 2045\n",
    "scenEraTwoYrEnd = 2074\n",
    "\n",
    "scenEraThreeYrSt = 2075\n",
    "scenYrEnd = 2100\n",
    "#\n"
   ]
  },
  {
   "cell_type": "markdown",
   "metadata": {},
   "source": [
    "## tsteps"
   ]
  },
  {
   "cell_type": "code",
   "execution_count": 15,
   "metadata": {},
   "outputs": [
    {
     "name": "stdout",
     "output_type": "stream",
     "text": [
      "12\n"
     ]
    }
   ],
   "source": [
    "nMonsPerYr = 12     # \n",
    "print(nMonsPerYr)"
   ]
  },
  {
   "cell_type": "markdown",
   "metadata": {},
   "source": [
    "## Reference Period"
   ]
  },
  {
   "cell_type": "code",
   "execution_count": 16,
   "metadata": {},
   "outputs": [
    {
     "name": "stdout",
     "output_type": "stream",
     "text": [
      "492 854\n",
      "362\n"
     ]
    }
   ],
   "source": [
    "refPeriodStepSt = (refPeriodYrSt - histYrSelSt)*nMonsPerYr\n",
    "refPeriodStepEnd = (refPeriodYrEnd - histYrSelSt + 1)*nMonsPerYr + 2   # To include Jan and Feb of the following year in 2001\n",
    "print(refPeriodStepSt, refPeriodStepEnd)\n",
    "print(refPeriodStepEnd-refPeriodStepSt)"
   ]
  },
  {
   "cell_type": "markdown",
   "metadata": {},
   "source": [
    "## Era 1"
   ]
  },
  {
   "cell_type": "code",
   "execution_count": 17,
   "metadata": {},
   "outputs": [
    {
     "name": "stdout",
     "output_type": "stream",
     "text": [
      "0 362\n",
      "362\n"
     ]
    }
   ],
   "source": [
    "scenEraOneStepSt = 0\n",
    "scenEraOneStepEnd = (scenEraOneYrEnd - scenYrSt + 1)*nMonsPerYr + 2  # To include Jan and Feb of the following year in 2045\n",
    "print(scenEraOneStepSt, scenEraOneStepEnd)\n",
    "print(scenEraOneStepEnd-scenEraOneStepSt)"
   ]
  },
  {
   "cell_type": "markdown",
   "metadata": {},
   "source": [
    "## Era 2"
   ]
  },
  {
   "cell_type": "code",
   "execution_count": 18,
   "metadata": {},
   "outputs": [
    {
     "name": "stdout",
     "output_type": "stream",
     "text": [
      "360 722\n",
      "362\n"
     ]
    }
   ],
   "source": [
    "scenEraTwoStepSt = (scenEraTwoYrSt - scenYrSt)*nMonsPerYr\n",
    "scenEraTwoStepEnd = (scenEraTwoYrEnd - scenYrSt + 1)*nMonsPerYr + 2   # To include Jan and Feb of the following year in 2075\n",
    "print(scenEraTwoStepSt, scenEraTwoStepEnd)\n",
    "print(scenEraTwoStepEnd-scenEraTwoStepSt)"
   ]
  },
  {
   "cell_type": "markdown",
   "metadata": {},
   "source": [
    "## Era 3"
   ]
  },
  {
   "cell_type": "code",
   "execution_count": 19,
   "metadata": {},
   "outputs": [
    {
     "name": "stdout",
     "output_type": "stream",
     "text": [
      "720 1032\n",
      "312\n"
     ]
    }
   ],
   "source": [
    "scenEraThreeStepSt = (scenEraThreeYrSt - scenYrSt)*nMonsPerYr\n",
    "scenEraThreeStepEnd = (scenYrEnd - scenYrSt + 1)*nMonsPerYr    # Data ends at Dec, 2100\n",
    "print(scenEraThreeStepSt, scenEraThreeStepEnd)\n",
    "print(scenEraThreeStepEnd-scenEraThreeStepSt)"
   ]
  },
  {
   "cell_type": "code",
   "execution_count": null,
   "metadata": {},
   "outputs": [],
   "source": []
  },
  {
   "cell_type": "markdown",
   "metadata": {},
   "source": [
    "## Subsetting the data into different periods / Eras"
   ]
  },
  {
   "cell_type": "code",
   "execution_count": 20,
   "metadata": {},
   "outputs": [
    {
     "name": "stdout",
     "output_type": "stream",
     "text": [
      "(1020, 32, 56)\n",
      "(1032, 32, 56)\n"
     ]
    }
   ],
   "source": [
    "print(file_histSel_ensMean_loaded.shape)\n",
    "print(file_scen_ensMean_loaded.shape)"
   ]
  },
  {
   "cell_type": "code",
   "execution_count": 21,
   "metadata": {},
   "outputs": [
    {
     "name": "stdout",
     "output_type": "stream",
     "text": [
      "(362, 32, 56)\n"
     ]
    }
   ],
   "source": [
    "param_refPeriod_Us_ensmean = file_histSel_ensMean_loaded[refPeriodStepSt:refPeriodStepEnd, :]\n",
    "print(param_refPeriod_Us_ensmean.shape)"
   ]
  },
  {
   "cell_type": "code",
   "execution_count": 22,
   "metadata": {},
   "outputs": [
    {
     "name": "stdout",
     "output_type": "stream",
     "text": [
      "(362, 32, 56)\n"
     ]
    }
   ],
   "source": [
    "param_scenEraOne_Us_ensmean = file_scen_ensMean_loaded[scenEraOneStepSt:scenEraOneStepEnd, :]\n",
    "print(param_scenEraOne_Us_ensmean.shape)"
   ]
  },
  {
   "cell_type": "code",
   "execution_count": 23,
   "metadata": {},
   "outputs": [
    {
     "name": "stdout",
     "output_type": "stream",
     "text": [
      "(362, 32, 56)\n"
     ]
    }
   ],
   "source": [
    "param_scenEraTwo_Us_ensmean = file_scen_ensMean_loaded[scenEraTwoStepSt:scenEraTwoStepEnd, :]\n",
    "print(param_scenEraTwo_Us_ensmean.shape)"
   ]
  },
  {
   "cell_type": "code",
   "execution_count": 24,
   "metadata": {},
   "outputs": [
    {
     "name": "stdout",
     "output_type": "stream",
     "text": [
      "(312, 32, 56)\n"
     ]
    }
   ],
   "source": [
    "param_scenEraThree_Us_ensmean = file_scen_ensMean_loaded[scenEraThreeStepSt:scenEraThreeStepEnd, :]\n",
    "print(param_scenEraThree_Us_ensmean.shape)"
   ]
  },
  {
   "cell_type": "markdown",
   "metadata": {},
   "source": [
    "## Seasons start here"
   ]
  },
  {
   "cell_type": "code",
   "execution_count": 25,
   "metadata": {},
   "outputs": [
    {
     "name": "stdout",
     "output_type": "stream",
     "text": [
      "12\n"
     ]
    }
   ],
   "source": [
    "print(nMonsPerYr)"
   ]
  },
  {
   "cell_type": "code",
   "execution_count": 26,
   "metadata": {},
   "outputs": [
    {
     "name": "stdout",
     "output_type": "stream",
     "text": [
      "(362, 32, 56)\n",
      "(362, 32, 56)\n",
      "(362, 32, 56)\n",
      "(312, 32, 56)\n"
     ]
    }
   ],
   "source": [
    "param_refPeriod_Us_ensmean = file_histSel_ensMean_loaded[refPeriodStepSt:refPeriodStepEnd, :]\n",
    "print(param_refPeriod_Us_ensmean.shape)\n",
    "\n",
    "param_scenEraOne_Us_ensmean = file_scen_ensMean_loaded[scenEraOneStepSt:scenEraOneStepEnd, :]\n",
    "print(param_scenEraOne_Us_ensmean.shape)\n",
    "\n",
    "param_scenEraTwo_Us_ensmean = file_scen_ensMean_loaded[scenEraTwoStepSt:scenEraTwoStepEnd, :]\n",
    "print(param_scenEraTwo_Us_ensmean.shape)\n",
    "\n",
    "param_scenEraThree_Us_ensmean = file_scen_ensMean_loaded[scenEraThreeStepSt:scenEraThreeStepEnd, :]\n",
    "print(param_scenEraThree_Us_ensmean.shape)"
   ]
  },
  {
   "cell_type": "code",
   "execution_count": null,
   "metadata": {},
   "outputs": [],
   "source": []
  },
  {
   "cell_type": "markdown",
   "metadata": {},
   "source": [
    "## MAM"
   ]
  },
  {
   "cell_type": "markdown",
   "metadata": {},
   "source": [
    "## ref Period"
   ]
  },
  {
   "cell_type": "code",
   "execution_count": 27,
   "metadata": {},
   "outputs": [],
   "source": [
    "mamMonSt = 3\n",
    "mamMonMid = 4\n",
    "mamMonEnd = 5"
   ]
  },
  {
   "cell_type": "code",
   "execution_count": 28,
   "metadata": {},
   "outputs": [
    {
     "name": "stdout",
     "output_type": "stream",
     "text": [
      "(30, 32, 56)\n",
      "(30, 32, 56)\n",
      "(30, 32, 56)\n"
     ]
    }
   ],
   "source": [
    "\n",
    "param_mamSt_refPeriod_Us_ensmean = param_refPeriod_Us_ensmean[mamMonSt-1::nMonsPerYr]\n",
    "print(param_mamSt_refPeriod_Us_ensmean.shape)\n",
    "\n",
    "param_mamMid_refPeriod_Us_ensmean = param_refPeriod_Us_ensmean[mamMonMid-1::nMonsPerYr]\n",
    "print(param_mamMid_refPeriod_Us_ensmean.shape)\n",
    "\n",
    "param_mamEnd_refPeriod_Us_ensmean = param_refPeriod_Us_ensmean[mamMonEnd-1::nMonsPerYr]\n",
    "print(param_mamEnd_refPeriod_Us_ensmean.shape)\n"
   ]
  },
  {
   "cell_type": "code",
   "execution_count": 29,
   "metadata": {},
   "outputs": [
    {
     "name": "stdout",
     "output_type": "stream",
     "text": [
      "(32, 56)\n",
      "(32, 56)\n",
      "(32, 56)\n"
     ]
    }
   ],
   "source": [
    "param_mamSt_refPeriod_Us_ensmean_timeAvg = np.nanmean(param_mamSt_refPeriod_Us_ensmean, axis = 0)\n",
    "print(param_mamSt_refPeriod_Us_ensmean_timeAvg.shape)\n",
    "\n",
    "param_mamMid_refPeriod_Us_ensmean_timeAvg = np.nanmean(param_mamMid_refPeriod_Us_ensmean, axis = 0)\n",
    "print(param_mamMid_refPeriod_Us_ensmean_timeAvg.shape)\n",
    "\n",
    "param_mamEnd_refPeriod_Us_ensmean_timeAvg = np.nanmean(param_mamEnd_refPeriod_Us_ensmean, axis = 0)\n",
    "print(param_mamEnd_refPeriod_Us_ensmean_timeAvg.shape)\n"
   ]
  },
  {
   "cell_type": "code",
   "execution_count": 30,
   "metadata": {},
   "outputs": [
    {
     "name": "stdout",
     "output_type": "stream",
     "text": [
      "(32, 56)\n"
     ]
    }
   ],
   "source": [
    "param_mamTot_refPeriod_Us_ensmean_timeAvg = (param_mamSt_refPeriod_Us_ensmean_timeAvg+param_mamMid_refPeriod_Us_ensmean_timeAvg+param_mamEnd_refPeriod_Us_ensmean_timeAvg)/3\n",
    "print(param_mamTot_refPeriod_Us_ensmean_timeAvg.shape)"
   ]
  },
  {
   "cell_type": "markdown",
   "metadata": {},
   "source": [
    "## Scen Era 1"
   ]
  },
  {
   "cell_type": "code",
   "execution_count": 31,
   "metadata": {},
   "outputs": [
    {
     "name": "stdout",
     "output_type": "stream",
     "text": [
      "(30, 32, 56)\n",
      "(30, 32, 56)\n",
      "(30, 32, 56)\n"
     ]
    }
   ],
   "source": [
    "\n",
    "param_mamSt_scenEraOne_Us_ensmean = param_scenEraOne_Us_ensmean[mamMonSt-1::nMonsPerYr]\n",
    "print(param_mamSt_scenEraOne_Us_ensmean.shape)\n",
    "\n",
    "param_mamMid_scenEraOne_Us_ensmean = param_scenEraOne_Us_ensmean[mamMonMid-1::nMonsPerYr]\n",
    "print(param_mamMid_scenEraOne_Us_ensmean.shape)\n",
    "\n",
    "param_mamEnd_scenEraOne_Us_ensmean = param_scenEraOne_Us_ensmean[mamMonEnd-1::nMonsPerYr]\n",
    "print(param_mamEnd_scenEraOne_Us_ensmean.shape)\n"
   ]
  },
  {
   "cell_type": "code",
   "execution_count": 32,
   "metadata": {},
   "outputs": [
    {
     "name": "stdout",
     "output_type": "stream",
     "text": [
      "(32, 56)\n",
      "(32, 56)\n",
      "(32, 56)\n"
     ]
    }
   ],
   "source": [
    "param_mamSt_scenEraOne_Us_ensmean_timeAvg = np.nanmean(param_mamSt_scenEraOne_Us_ensmean, axis = 0)\n",
    "print(param_mamSt_scenEraOne_Us_ensmean_timeAvg.shape)\n",
    "\n",
    "param_mamMid_scenEraOne_Us_ensmean_timeAvg = np.nanmean(param_mamMid_scenEraOne_Us_ensmean, axis = 0)\n",
    "print(param_mamMid_scenEraOne_Us_ensmean_timeAvg.shape)\n",
    "\n",
    "param_mamEnd_scenEraOne_Us_ensmean_timeAvg = np.nanmean(param_mamEnd_scenEraOne_Us_ensmean, axis = 0)\n",
    "print(param_mamEnd_scenEraOne_Us_ensmean_timeAvg.shape)\n"
   ]
  },
  {
   "cell_type": "code",
   "execution_count": 33,
   "metadata": {},
   "outputs": [
    {
     "name": "stdout",
     "output_type": "stream",
     "text": [
      "(32, 56)\n"
     ]
    }
   ],
   "source": [
    "param_mamTot_scenEraOne_Us_ensmean_timeAvg = (param_mamSt_scenEraOne_Us_ensmean_timeAvg+param_mamMid_scenEraOne_Us_ensmean_timeAvg+param_mamEnd_scenEraOne_Us_ensmean_timeAvg)/3\n",
    "print(param_mamTot_scenEraOne_Us_ensmean_timeAvg.shape)\n"
   ]
  },
  {
   "cell_type": "markdown",
   "metadata": {},
   "source": [
    "## Scen Era 2"
   ]
  },
  {
   "cell_type": "code",
   "execution_count": 34,
   "metadata": {},
   "outputs": [
    {
     "name": "stdout",
     "output_type": "stream",
     "text": [
      "(30, 32, 56)\n",
      "(30, 32, 56)\n",
      "(30, 32, 56)\n"
     ]
    }
   ],
   "source": [
    "\n",
    "param_mamSt_scenEraTwo_Us_ensmean = param_scenEraTwo_Us_ensmean[mamMonSt-1::nMonsPerYr]\n",
    "print(param_mamSt_scenEraTwo_Us_ensmean.shape)\n",
    "\n",
    "param_mamMid_scenEraTwo_Us_ensmean = param_scenEraTwo_Us_ensmean[mamMonMid-1::nMonsPerYr]\n",
    "print(param_mamMid_scenEraTwo_Us_ensmean.shape)\n",
    "\n",
    "param_mamEnd_scenEraTwo_Us_ensmean = param_scenEraTwo_Us_ensmean[mamMonEnd-1::nMonsPerYr]\n",
    "print(param_mamEnd_scenEraTwo_Us_ensmean.shape)\n"
   ]
  },
  {
   "cell_type": "code",
   "execution_count": 35,
   "metadata": {},
   "outputs": [
    {
     "name": "stdout",
     "output_type": "stream",
     "text": [
      "(32, 56)\n",
      "(32, 56)\n",
      "(32, 56)\n"
     ]
    }
   ],
   "source": [
    "param_mamSt_scenEraTwo_Us_ensmean_timeAvg = np.nanmean(param_mamSt_scenEraTwo_Us_ensmean, axis = 0)\n",
    "print(param_mamSt_scenEraTwo_Us_ensmean_timeAvg.shape)\n",
    "\n",
    "param_mamMid_scenEraTwo_Us_ensmean_timeAvg = np.nanmean(param_mamMid_scenEraTwo_Us_ensmean, axis = 0)\n",
    "print(param_mamMid_scenEraTwo_Us_ensmean_timeAvg.shape)\n",
    "\n",
    "param_mamEnd_scenEraTwo_Us_ensmean_timeAvg = np.nanmean(param_mamEnd_scenEraTwo_Us_ensmean, axis = 0)\n",
    "print(param_mamEnd_scenEraTwo_Us_ensmean_timeAvg.shape)\n"
   ]
  },
  {
   "cell_type": "code",
   "execution_count": 36,
   "metadata": {},
   "outputs": [
    {
     "name": "stdout",
     "output_type": "stream",
     "text": [
      "(32, 56)\n"
     ]
    }
   ],
   "source": [
    "param_mamTot_scenEraTwo_Us_ensmean_timeAvg = (param_mamSt_scenEraTwo_Us_ensmean_timeAvg+param_mamMid_scenEraTwo_Us_ensmean_timeAvg+param_mamEnd_scenEraTwo_Us_ensmean_timeAvg)/3\n",
    "print(param_mamTot_scenEraTwo_Us_ensmean_timeAvg.shape)\n"
   ]
  },
  {
   "cell_type": "markdown",
   "metadata": {},
   "source": [
    "## Scen Era 3"
   ]
  },
  {
   "cell_type": "code",
   "execution_count": 37,
   "metadata": {},
   "outputs": [
    {
     "name": "stdout",
     "output_type": "stream",
     "text": [
      "(26, 32, 56)\n",
      "(26, 32, 56)\n",
      "(26, 32, 56)\n"
     ]
    }
   ],
   "source": [
    "\n",
    "param_mamSt_scenEraThree_Us_ensmean = param_scenEraThree_Us_ensmean[mamMonSt-1::nMonsPerYr]\n",
    "print(param_mamSt_scenEraThree_Us_ensmean.shape)\n",
    "\n",
    "param_mamMid_scenEraThree_Us_ensmean = param_scenEraThree_Us_ensmean[mamMonMid-1::nMonsPerYr]\n",
    "print(param_mamMid_scenEraThree_Us_ensmean.shape)\n",
    "\n",
    "param_mamEnd_scenEraThree_Us_ensmean = param_scenEraThree_Us_ensmean[mamMonEnd-1::nMonsPerYr]\n",
    "print(param_mamEnd_scenEraThree_Us_ensmean.shape)\n"
   ]
  },
  {
   "cell_type": "code",
   "execution_count": 38,
   "metadata": {},
   "outputs": [
    {
     "name": "stdout",
     "output_type": "stream",
     "text": [
      "(32, 56)\n",
      "(32, 56)\n",
      "(32, 56)\n"
     ]
    }
   ],
   "source": [
    "param_mamSt_scenEraThree_Us_ensmean_timeAvg = np.nanmean(param_mamSt_scenEraThree_Us_ensmean, axis = 0)\n",
    "print(param_mamSt_scenEraThree_Us_ensmean_timeAvg.shape)\n",
    "\n",
    "param_mamMid_scenEraThree_Us_ensmean_timeAvg = np.nanmean(param_mamMid_scenEraThree_Us_ensmean, axis = 0)\n",
    "print(param_mamMid_scenEraThree_Us_ensmean_timeAvg.shape)\n",
    "\n",
    "param_mamEnd_scenEraThree_Us_ensmean_timeAvg = np.nanmean(param_mamEnd_scenEraThree_Us_ensmean, axis = 0)\n",
    "print(param_mamEnd_scenEraThree_Us_ensmean_timeAvg.shape)\n"
   ]
  },
  {
   "cell_type": "code",
   "execution_count": 39,
   "metadata": {},
   "outputs": [
    {
     "name": "stdout",
     "output_type": "stream",
     "text": [
      "(32, 56)\n"
     ]
    }
   ],
   "source": [
    "param_mamTot_scenEraThree_Us_ensmean_timeAvg = (param_mamSt_scenEraThree_Us_ensmean_timeAvg+param_mamMid_scenEraThree_Us_ensmean_timeAvg+param_mamEnd_scenEraThree_Us_ensmean_timeAvg)/3\n",
    "print(param_mamTot_scenEraThree_Us_ensmean_timeAvg.shape)\n"
   ]
  },
  {
   "cell_type": "markdown",
   "metadata": {},
   "source": [
    "## Differences at the three Eras"
   ]
  },
  {
   "cell_type": "code",
   "execution_count": 40,
   "metadata": {},
   "outputs": [
    {
     "name": "stdout",
     "output_type": "stream",
     "text": [
      "(32, 56)\n"
     ]
    }
   ],
   "source": [
    "param_mamTot_scenEraOne_pDiff_Us_ensmean_timeAvg = (param_mamTot_scenEraOne_Us_ensmean_timeAvg - param_mamTot_refPeriod_Us_ensmean_timeAvg)\n",
    "print(param_mamTot_scenEraOne_pDiff_Us_ensmean_timeAvg.shape)"
   ]
  },
  {
   "cell_type": "code",
   "execution_count": 41,
   "metadata": {},
   "outputs": [
    {
     "name": "stdout",
     "output_type": "stream",
     "text": [
      "(32, 56)\n"
     ]
    }
   ],
   "source": [
    "param_mamTot_scenEraTwo_pDiff_Us_ensmean_timeAvg = (param_mamTot_scenEraTwo_Us_ensmean_timeAvg - param_mamTot_refPeriod_Us_ensmean_timeAvg)\n",
    "print(param_mamTot_scenEraTwo_pDiff_Us_ensmean_timeAvg.shape)"
   ]
  },
  {
   "cell_type": "code",
   "execution_count": 42,
   "metadata": {},
   "outputs": [
    {
     "name": "stdout",
     "output_type": "stream",
     "text": [
      "(32, 56)\n"
     ]
    }
   ],
   "source": [
    "param_mamTot_scenEraThree_pDiff_Us_ensmean_timeAvg = (param_mamTot_scenEraThree_Us_ensmean_timeAvg - param_mamTot_refPeriod_Us_ensmean_timeAvg)\n",
    "print(param_mamTot_scenEraThree_pDiff_Us_ensmean_timeAvg.shape)"
   ]
  },
  {
   "cell_type": "code",
   "execution_count": null,
   "metadata": {},
   "outputs": [],
   "source": []
  },
  {
   "cell_type": "markdown",
   "metadata": {},
   "source": [
    "## Basin Mask (MAM)"
   ]
  },
  {
   "cell_type": "markdown",
   "metadata": {},
   "source": [
    "## Writing in an Xarray Data array"
   ]
  },
  {
   "cell_type": "code",
   "execution_count": 43,
   "metadata": {},
   "outputs": [
    {
     "name": "stdout",
     "output_type": "stream",
     "text": [
      "32\n",
      "56\n"
     ]
    }
   ],
   "source": [
    "y_Us, x_Us = param_mamTot_scenEraOne_pDiff_Us_ensmean_timeAvg.shape\n",
    "             \n",
    "#print(t_histSel_scen)\n",
    "print(y_Us)\n",
    "print(x_Us)\n",
    "#print(ens_size)"
   ]
  },
  {
   "cell_type": "code",
   "execution_count": 44,
   "metadata": {},
   "outputs": [
    {
     "name": "stdout",
     "output_type": "stream",
     "text": [
      "(32, 56)\n",
      "<xarray.DataArray (Lat: 32, Lon: 56)>\n",
      "array([[  0.        ,   0.        ,   0.        , ...,   0.        ,\n",
      "          0.        ,   0.        ],\n",
      "       [  0.        ,   0.        ,   0.        , ...,   0.        ,\n",
      "          0.        ,   0.        ],\n",
      "       [  0.        ,   0.        ,   0.        , ...,   0.        ,\n",
      "          0.        ,   0.        ],\n",
      "       ...,\n",
      "       [  0.        ,  -2.54319176, -54.13524018, ...,  14.02058918,\n",
      "          9.99353496,  -5.27286022],\n",
      "       [ -2.6796368 , -52.87575807, -20.86891262, ...,  30.35125213,\n",
      "         29.84207303,  -2.21005673],\n",
      "       [-47.36464574, -36.95620993, -22.04776718, ...,  17.29877642,\n",
      "         26.09505294,  14.80641111]])\n",
      "Coordinates:\n",
      "  * Lat      (Lat) float32 24.97 25.92 26.86 27.8 ... 51.36 52.3 53.25 54.19\n",
      "  * Lon      (Lon) float32 230.0 231.2 232.5 233.8 ... 295.0 296.2 297.5 298.8\n"
     ]
    }
   ],
   "source": [
    "param_mamTot_scenEraOne_diff_Us_xarray = xr.DataArray(param_mamTot_scenEraOne_pDiff_Us_ensmean_timeAvg, coords=[latUs_cesm2, lonUs_cesm2 ], dims=[\"Lat\",\"Lon\"])\n",
    "\n",
    "print(param_mamTot_scenEraOne_diff_Us_xarray.shape)\n",
    "print(param_mamTot_scenEraOne_diff_Us_xarray)"
   ]
  },
  {
   "cell_type": "code",
   "execution_count": 45,
   "metadata": {},
   "outputs": [
    {
     "name": "stdout",
     "output_type": "stream",
     "text": [
      "(32, 56)\n",
      "<xarray.DataArray (Lat: 32, Lon: 56)>\n",
      "array([[   0.        ,    0.        ,    0.        , ...,    0.        ,\n",
      "           0.        ,    0.        ],\n",
      "       [   0.        ,    0.        ,    0.        , ...,    0.        ,\n",
      "           0.        ,    0.        ],\n",
      "       [   0.        ,    0.        ,    0.        , ...,    0.        ,\n",
      "           0.        ,    0.        ],\n",
      "       ...,\n",
      "       [   0.        ,   -4.01583737, -111.69912038, ...,   -5.75509117,\n",
      "           0.63714675,  -21.46606075],\n",
      "       [  -4.43568222,  -93.62284511,  -67.39672332, ...,   46.123028  ,\n",
      "          17.09960783,  -20.81311159],\n",
      "       [ -81.69367269,  -89.33454246,  -56.7439184 , ...,   27.67682831,\n",
      "          41.70436179,    4.66920013]])\n",
      "Coordinates:\n",
      "  * Lat      (Lat) float32 24.97 25.92 26.86 27.8 ... 51.36 52.3 53.25 54.19\n",
      "  * Lon      (Lon) float32 230.0 231.2 232.5 233.8 ... 295.0 296.2 297.5 298.8\n"
     ]
    }
   ],
   "source": [
    "param_mamTot_scenEraTwo_diff_Us_xarray = xr.DataArray(param_mamTot_scenEraTwo_pDiff_Us_ensmean_timeAvg, coords=[latUs_cesm2, lonUs_cesm2 ], dims=[\"Lat\",\"Lon\"])\n",
    "\n",
    "print(param_mamTot_scenEraTwo_diff_Us_xarray.shape)\n",
    "print(param_mamTot_scenEraTwo_diff_Us_xarray)"
   ]
  },
  {
   "cell_type": "code",
   "execution_count": 46,
   "metadata": {},
   "outputs": [
    {
     "name": "stdout",
     "output_type": "stream",
     "text": [
      "(32, 56)\n",
      "<xarray.DataArray (Lat: 32, Lon: 56)>\n",
      "array([[   0.        ,    0.        ,    0.        , ...,    0.        ,\n",
      "           0.        ,    0.        ],\n",
      "       [   0.        ,    0.        ,    0.        , ...,    0.        ,\n",
      "           0.        ,    0.        ],\n",
      "       [   0.        ,    0.        ,    0.        , ...,    0.        ,\n",
      "           0.        ,    0.        ],\n",
      "       ...,\n",
      "       [   0.        ,   -4.62505288, -154.40694009, ...,  -23.73690436,\n",
      "         -26.20558343,  -54.5328513 ],\n",
      "       [  -5.16437889, -116.32418576, -135.22994251, ...,   53.16244813,\n",
      "           4.19883314,  -42.81940808],\n",
      "       [-101.13752951, -156.82115912, -109.56827352, ...,   33.40937944,\n",
      "          55.25821912,   -8.8426514 ]])\n",
      "Coordinates:\n",
      "  * Lat      (Lat) float32 24.97 25.92 26.86 27.8 ... 51.36 52.3 53.25 54.19\n",
      "  * Lon      (Lon) float32 230.0 231.2 232.5 233.8 ... 295.0 296.2 297.5 298.8\n"
     ]
    }
   ],
   "source": [
    "param_mamTot_scenEraThree_diff_Us_xarray = xr.DataArray(param_mamTot_scenEraThree_pDiff_Us_ensmean_timeAvg, coords=[latUs_cesm2, lonUs_cesm2 ], dims=[\"Lat\",\"Lon\"])\n",
    "\n",
    "print(param_mamTot_scenEraThree_diff_Us_xarray.shape)\n",
    "print(param_mamTot_scenEraThree_diff_Us_xarray)"
   ]
  },
  {
   "cell_type": "code",
   "execution_count": null,
   "metadata": {},
   "outputs": [],
   "source": []
  },
  {
   "cell_type": "code",
   "execution_count": null,
   "metadata": {},
   "outputs": [],
   "source": []
  },
  {
   "cell_type": "markdown",
   "metadata": {},
   "source": [
    "## Masking files for the Basin Domain only"
   ]
  },
  {
   "cell_type": "markdown",
   "metadata": {},
   "source": [
    "### Mississippi"
   ]
  },
  {
   "cell_type": "code",
   "execution_count": 47,
   "metadata": {},
   "outputs": [
    {
     "name": "stdout",
     "output_type": "stream",
     "text": [
      "C:/rezaul/1.academic/1.research/2.project/mrb/dt/shapeFile/mask/mrb_us/mask_missiWri_us_CESM_longThree.nc\n"
     ]
    }
   ],
   "source": [
    "MaskFile_Missi_to_load = 'C:/rezaul/1.academic/1.research/2.project/mrb/dt/shapeFile/mask/mrb_us/mask_missiWri_us_CESM_longThree.nc'\n",
    "print(MaskFile_Missi_to_load)"
   ]
  },
  {
   "cell_type": "code",
   "execution_count": 48,
   "metadata": {},
   "outputs": [
    {
     "name": "stdout",
     "output_type": "stream",
     "text": [
      "<xarray.DataArray 'Mask' (Lat: 32, Lon: 56)>\n",
      "array([[0, 0, 0, ..., 0, 0, 0],\n",
      "       [0, 0, 0, ..., 0, 0, 0],\n",
      "       [0, 0, 0, ..., 0, 0, 0],\n",
      "       ...,\n",
      "       [0, 0, 0, ..., 0, 0, 0],\n",
      "       [0, 0, 0, ..., 0, 0, 0],\n",
      "       [0, 0, 0, ..., 0, 0, 0]])\n",
      "Coordinates:\n",
      "  * Lat      (Lat) float32 24.97 25.92 26.86 27.8 ... 51.36 52.3 53.25 54.19\n",
      "  * Lon      (Lon) float32 230.0 231.2 232.5 233.8 ... 295.0 296.2 297.5 298.8\n"
     ]
    },
    {
     "name": "stderr",
     "output_type": "stream",
     "text": [
      "C:\\Users\\muham\\anaconda3\\lib\\site-packages\\xarray\\backends\\plugins.py:61: RuntimeWarning: Engine 'rasterio' loading failed:\n",
      "DLL load failed while importing _base: The specified procedure could not be found.\n",
      "  warnings.warn(f\"Engine {name!r} loading failed:\\n{ex}\", RuntimeWarning)\n"
     ]
    }
   ],
   "source": [
    "MaskFile_Missi = xr.open_dataset(MaskFile_Missi_to_load)['Mask']\n",
    "print(MaskFile_Missi)"
   ]
  },
  {
   "cell_type": "code",
   "execution_count": 49,
   "metadata": {},
   "outputs": [
    {
     "name": "stdout",
     "output_type": "stream",
     "text": [
      "(32, 56)\n",
      "<xarray.DataArray (Lat: 32, Lon: 56)>\n",
      "array([[nan, nan, nan, ..., nan, nan, nan],\n",
      "       [nan, nan, nan, ..., nan, nan, nan],\n",
      "       [nan, nan, nan, ..., nan, nan, nan],\n",
      "       ...,\n",
      "       [nan, nan, nan, ..., nan, nan, nan],\n",
      "       [nan, nan, nan, ..., nan, nan, nan],\n",
      "       [nan, nan, nan, ..., nan, nan, nan]])\n",
      "Coordinates:\n",
      "  * Lat      (Lat) float32 24.97 25.92 26.86 27.8 ... 51.36 52.3 53.25 54.19\n",
      "  * Lon      (Lon) float32 230.0 231.2 232.5 233.8 ... 295.0 296.2 297.5 298.8\n"
     ]
    }
   ],
   "source": [
    "param_mamTot_scenEraOne_diff_masked_Missi = param_mamTot_scenEraOne_diff_Us_xarray.where(MaskFile_Missi>0)\n",
    "print(param_mamTot_scenEraOne_diff_masked_Missi.shape)\n",
    "print(param_mamTot_scenEraOne_diff_masked_Missi)"
   ]
  },
  {
   "cell_type": "code",
   "execution_count": 50,
   "metadata": {},
   "outputs": [
    {
     "name": "stdout",
     "output_type": "stream",
     "text": [
      "(32, 56)\n",
      "<xarray.DataArray (Lat: 32, Lon: 56)>\n",
      "array([[nan, nan, nan, ..., nan, nan, nan],\n",
      "       [nan, nan, nan, ..., nan, nan, nan],\n",
      "       [nan, nan, nan, ..., nan, nan, nan],\n",
      "       ...,\n",
      "       [nan, nan, nan, ..., nan, nan, nan],\n",
      "       [nan, nan, nan, ..., nan, nan, nan],\n",
      "       [nan, nan, nan, ..., nan, nan, nan]])\n",
      "Coordinates:\n",
      "  * Lat      (Lat) float32 24.97 25.92 26.86 27.8 ... 51.36 52.3 53.25 54.19\n",
      "  * Lon      (Lon) float32 230.0 231.2 232.5 233.8 ... 295.0 296.2 297.5 298.8\n"
     ]
    }
   ],
   "source": [
    "param_mamTot_scenEraTwo_diff_masked_Missi = param_mamTot_scenEraTwo_diff_Us_xarray.where(MaskFile_Missi>0)\n",
    "print(param_mamTot_scenEraTwo_diff_masked_Missi.shape)\n",
    "print(param_mamTot_scenEraTwo_diff_masked_Missi)"
   ]
  },
  {
   "cell_type": "code",
   "execution_count": 51,
   "metadata": {},
   "outputs": [
    {
     "name": "stdout",
     "output_type": "stream",
     "text": [
      "(32, 56)\n",
      "<xarray.DataArray (Lat: 32, Lon: 56)>\n",
      "array([[nan, nan, nan, ..., nan, nan, nan],\n",
      "       [nan, nan, nan, ..., nan, nan, nan],\n",
      "       [nan, nan, nan, ..., nan, nan, nan],\n",
      "       ...,\n",
      "       [nan, nan, nan, ..., nan, nan, nan],\n",
      "       [nan, nan, nan, ..., nan, nan, nan],\n",
      "       [nan, nan, nan, ..., nan, nan, nan]])\n",
      "Coordinates:\n",
      "  * Lat      (Lat) float32 24.97 25.92 26.86 27.8 ... 51.36 52.3 53.25 54.19\n",
      "  * Lon      (Lon) float32 230.0 231.2 232.5 233.8 ... 295.0 296.2 297.5 298.8\n"
     ]
    }
   ],
   "source": [
    "param_mamTot_scenEraThree_diff_masked_Missi = param_mamTot_scenEraThree_diff_Us_xarray.where(MaskFile_Missi>0)\n",
    "print(param_mamTot_scenEraThree_diff_masked_Missi.shape)\n",
    "print(param_mamTot_scenEraThree_diff_masked_Missi)"
   ]
  },
  {
   "cell_type": "code",
   "execution_count": null,
   "metadata": {},
   "outputs": [],
   "source": []
  },
  {
   "cell_type": "markdown",
   "metadata": {},
   "source": [
    "## Find max and min values"
   ]
  },
  {
   "cell_type": "code",
   "execution_count": 52,
   "metadata": {},
   "outputs": [
    {
     "name": "stdout",
     "output_type": "stream",
     "text": [
      "-0.003211984649532938\n",
      "-39.77501984890282\n"
     ]
    }
   ],
   "source": [
    "maxVal_mamTot_diff_masked_scenEraOne = np.nanmax(param_mamTot_scenEraOne_diff_masked_Missi)\n",
    "print(maxVal_mamTot_diff_masked_scenEraOne)\n",
    "minVal_mamTot_diff_masked_scenEraOne = np.nanmin(param_mamTot_scenEraOne_diff_masked_Missi)\n",
    "print(minVal_mamTot_diff_masked_scenEraOne)"
   ]
  },
  {
   "cell_type": "code",
   "execution_count": 53,
   "metadata": {},
   "outputs": [
    {
     "name": "stdout",
     "output_type": "stream",
     "text": [
      "-0.0034427569868907748\n",
      "-59.16932667593831\n"
     ]
    }
   ],
   "source": [
    "maxVal_mamTot_diff_masked_scenEraTwo = np.nanmax(param_mamTot_scenEraTwo_diff_masked_Missi)\n",
    "print(maxVal_mamTot_diff_masked_scenEraTwo)\n",
    "minVal_mamTot_diff_masked_scenEraTwo = np.nanmin(param_mamTot_scenEraTwo_diff_masked_Missi)\n",
    "print(minVal_mamTot_diff_masked_scenEraTwo)"
   ]
  },
  {
   "cell_type": "code",
   "execution_count": 54,
   "metadata": {},
   "outputs": [
    {
     "name": "stdout",
     "output_type": "stream",
     "text": [
      "-0.0034804946627254962\n",
      "-82.81399746866542\n"
     ]
    }
   ],
   "source": [
    "maxVal_mamTot_diff_masked_scenEraThree = np.nanmax(param_mamTot_scenEraThree_diff_masked_Missi)\n",
    "print(maxVal_mamTot_diff_masked_scenEraThree)\n",
    "minVal_mamTot_diff_masked_scenEraThree = np.nanmin(param_mamTot_scenEraThree_diff_masked_Missi)\n",
    "print(minVal_mamTot_diff_masked_scenEraThree)"
   ]
  },
  {
   "cell_type": "code",
   "execution_count": null,
   "metadata": {},
   "outputs": [],
   "source": []
  },
  {
   "cell_type": "markdown",
   "metadata": {},
   "source": [
    "## Plotting"
   ]
  },
  {
   "cell_type": "code",
   "execution_count": 55,
   "metadata": {},
   "outputs": [
    {
     "name": "stdout",
     "output_type": "stream",
     "text": [
      "24.973822\n",
      "54.18848\n",
      "230.0\n",
      "298.75\n"
     ]
    }
   ],
   "source": [
    "\n",
    "latUsMin = lats_Us.min()     # = or = latsCfsDnSc\n",
    "print(latUsMin)\n",
    "\n",
    "latUsMax = lats_Us.max()\n",
    "print(latUsMax)\n",
    "\n",
    "lonUsMin = lons_Us.min()\n",
    "print(lonUsMin)\n",
    "\n",
    "lonUsMax = lons_Us.max()\n",
    "print(lonUsMax)"
   ]
  },
  {
   "cell_type": "code",
   "execution_count": 56,
   "metadata": {},
   "outputs": [
    {
     "name": "stdout",
     "output_type": "stream",
     "text": [
      "[230.0, 298.75, 24.973822, 54.18848]\n"
     ]
    }
   ],
   "source": [
    "extentUs = [lonUsMin, lonUsMax, latUsMin, latUsMax]\n",
    "print(extentUs)"
   ]
  },
  {
   "cell_type": "code",
   "execution_count": 57,
   "metadata": {},
   "outputs": [
    {
     "name": "stdout",
     "output_type": "stream",
     "text": [
      "[230.   231.25 232.5  233.75 235.   236.25 237.5  238.75 240.   241.25\n",
      " 242.5  243.75 245.   246.25 247.5  248.75 250.   251.25 252.5  253.75\n",
      " 255.   256.25 257.5  258.75 260.   261.25 262.5  263.75 265.   266.25\n",
      " 267.5  268.75 270.   271.25 272.5  273.75 275.   276.25 277.5  278.75\n",
      " 280.   281.25 282.5  283.75 285.   286.25 287.5  288.75 290.   291.25\n",
      " 292.5  293.75 295.   296.25 297.5  298.75]\n",
      "[24.97382164 25.91622999 26.85863833 27.80104668 28.74345503 29.68586337\n",
      " 30.62827172 31.57068006 32.51308841 33.45549676 34.3979051  35.34031345\n",
      " 36.2827218  37.22513014 38.16753849 39.10994684 40.05235518 40.99476353\n",
      " 41.93717187 42.87958022 43.82198857 44.76439691 45.70680526 46.64921361\n",
      " 47.59162195 48.5340303  49.47643865 50.41884699 51.36125534 52.30366368\n",
      " 53.24607203 54.18848038]\n"
     ]
    }
   ],
   "source": [
    "x_Us = linspace(lonUsMin, lonUsMax, x_Us)\n",
    "y_Us = linspace(latUsMin, latUsMax, y_Us)\n",
    "print(x_Us)\n",
    "print(y_Us)\n",
    "\n",
    "# Create the rectangular grid out of these values\n",
    "xx_Us, yy_Us = meshgrid(x_Us, y_Us)\n"
   ]
  },
  {
   "cell_type": "code",
   "execution_count": 58,
   "metadata": {},
   "outputs": [
    {
     "name": "stdout",
     "output_type": "stream",
     "text": [
      "-40.0\n",
      "-0.0\n"
     ]
    }
   ],
   "source": [
    "vmin_mamTot_scenEraOne = np.floor(minVal_mamTot_diff_masked_scenEraOne)\n",
    "vmax_mamTot_scenEraOne = np.ceil(maxVal_mamTot_diff_masked_scenEraOne)\n",
    "print(vmin_mamTot_scenEraOne)\n",
    "print(vmax_mamTot_scenEraOne)"
   ]
  },
  {
   "cell_type": "code",
   "execution_count": 59,
   "metadata": {},
   "outputs": [
    {
     "name": "stdout",
     "output_type": "stream",
     "text": [
      "-60.0\n",
      "-0.0\n"
     ]
    }
   ],
   "source": [
    "vmin_mamTot_scenEraTwo = np.floor(minVal_mamTot_diff_masked_scenEraTwo)\n",
    "vmax_mamTot_scenEraTwo = np.ceil(maxVal_mamTot_diff_masked_scenEraTwo)\n",
    "print(vmin_mamTot_scenEraTwo)\n",
    "print(vmax_mamTot_scenEraTwo)"
   ]
  },
  {
   "cell_type": "code",
   "execution_count": 60,
   "metadata": {},
   "outputs": [
    {
     "name": "stdout",
     "output_type": "stream",
     "text": [
      "-83.0\n",
      "-0.0\n"
     ]
    }
   ],
   "source": [
    "vmin_mamTot_scenEraThree = np.floor(minVal_mamTot_diff_masked_scenEraThree)\n",
    "vmax_mamTot_scenEraThree = np.ceil(maxVal_mamTot_diff_masked_scenEraThree)\n",
    "print(vmin_mamTot_scenEraThree)\n",
    "print(vmax_mamTot_scenEraThree)"
   ]
  },
  {
   "cell_type": "code",
   "execution_count": 61,
   "metadata": {},
   "outputs": [
    {
     "name": "stdout",
     "output_type": "stream",
     "text": [
      "41\n"
     ]
    }
   ],
   "source": [
    "nDiv_mamTot_scenEraOne = int(vmax_mamTot_scenEraOne - vmin_mamTot_scenEraOne + 1)\n",
    "print(nDiv_mamTot_scenEraOne)"
   ]
  },
  {
   "cell_type": "code",
   "execution_count": 62,
   "metadata": {},
   "outputs": [
    {
     "name": "stdout",
     "output_type": "stream",
     "text": [
      "61\n"
     ]
    }
   ],
   "source": [
    "nDiv_mamTot_scenEraTwo = int(vmax_mamTot_scenEraTwo - vmin_mamTot_scenEraTwo + 1)\n",
    "print(nDiv_mamTot_scenEraTwo)"
   ]
  },
  {
   "cell_type": "code",
   "execution_count": 63,
   "metadata": {},
   "outputs": [
    {
     "name": "stdout",
     "output_type": "stream",
     "text": [
      "84\n"
     ]
    }
   ],
   "source": [
    "\n",
    "nDiv_mamTot_scenEraThree = int(vmax_mamTot_scenEraThree - vmin_mamTot_scenEraThree + 1)\n",
    "print(nDiv_mamTot_scenEraThree)\n"
   ]
  },
  {
   "cell_type": "code",
   "execution_count": null,
   "metadata": {},
   "outputs": [],
   "source": []
  },
  {
   "cell_type": "markdown",
   "metadata": {},
   "source": [
    "## JJA"
   ]
  },
  {
   "cell_type": "markdown",
   "metadata": {},
   "source": [
    "## ref Period"
   ]
  },
  {
   "cell_type": "code",
   "execution_count": 64,
   "metadata": {},
   "outputs": [],
   "source": [
    "jjaMonSt = 6\n",
    "jjaMonMid = 7\n",
    "jjaMonEnd = 8"
   ]
  },
  {
   "cell_type": "code",
   "execution_count": 65,
   "metadata": {},
   "outputs": [
    {
     "name": "stdout",
     "output_type": "stream",
     "text": [
      "(30, 32, 56)\n",
      "(30, 32, 56)\n",
      "(30, 32, 56)\n"
     ]
    }
   ],
   "source": [
    "\n",
    "param_jjaSt_refPeriod_Us_ensmean = param_refPeriod_Us_ensmean[jjaMonSt-1::nMonsPerYr]\n",
    "print(param_jjaSt_refPeriod_Us_ensmean.shape)\n",
    "\n",
    "param_jjaMid_refPeriod_Us_ensmean = param_refPeriod_Us_ensmean[jjaMonMid-1::nMonsPerYr]\n",
    "print(param_jjaMid_refPeriod_Us_ensmean.shape)\n",
    "\n",
    "param_jjaEnd_refPeriod_Us_ensmean = param_refPeriod_Us_ensmean[jjaMonEnd-1::nMonsPerYr]\n",
    "print(param_jjaEnd_refPeriod_Us_ensmean.shape)\n"
   ]
  },
  {
   "cell_type": "code",
   "execution_count": 66,
   "metadata": {},
   "outputs": [
    {
     "name": "stdout",
     "output_type": "stream",
     "text": [
      "(32, 56)\n",
      "(32, 56)\n",
      "(32, 56)\n"
     ]
    }
   ],
   "source": [
    "param_jjaSt_refPeriod_Us_ensmean_timeAvg = np.nanmean(param_jjaSt_refPeriod_Us_ensmean, axis = 0)\n",
    "print(param_jjaSt_refPeriod_Us_ensmean_timeAvg.shape)\n",
    "\n",
    "param_jjaMid_refPeriod_Us_ensmean_timeAvg = np.nanmean(param_jjaMid_refPeriod_Us_ensmean, axis = 0)\n",
    "print(param_jjaMid_refPeriod_Us_ensmean_timeAvg.shape)\n",
    "\n",
    "param_jjaEnd_refPeriod_Us_ensmean_timeAvg = np.nanmean(param_jjaEnd_refPeriod_Us_ensmean, axis = 0)\n",
    "print(param_jjaEnd_refPeriod_Us_ensmean_timeAvg.shape)\n"
   ]
  },
  {
   "cell_type": "code",
   "execution_count": 67,
   "metadata": {},
   "outputs": [
    {
     "name": "stdout",
     "output_type": "stream",
     "text": [
      "(32, 56)\n"
     ]
    }
   ],
   "source": [
    "param_jjaTot_refPeriod_Us_ensmean_timeAvg = (param_jjaSt_refPeriod_Us_ensmean_timeAvg+param_jjaMid_refPeriod_Us_ensmean_timeAvg+param_jjaEnd_refPeriod_Us_ensmean_timeAvg)/3\n",
    "print(param_jjaTot_refPeriod_Us_ensmean_timeAvg.shape)"
   ]
  },
  {
   "cell_type": "markdown",
   "metadata": {},
   "source": [
    "## Scen Era 1"
   ]
  },
  {
   "cell_type": "code",
   "execution_count": 68,
   "metadata": {},
   "outputs": [
    {
     "name": "stdout",
     "output_type": "stream",
     "text": [
      "(30, 32, 56)\n",
      "(30, 32, 56)\n",
      "(30, 32, 56)\n"
     ]
    }
   ],
   "source": [
    "\n",
    "param_jjaSt_scenEraOne_Us_ensmean = param_scenEraOne_Us_ensmean[jjaMonSt-1::nMonsPerYr]\n",
    "print(param_jjaSt_scenEraOne_Us_ensmean.shape)\n",
    "\n",
    "param_jjaMid_scenEraOne_Us_ensmean = param_scenEraOne_Us_ensmean[jjaMonMid-1::nMonsPerYr]\n",
    "print(param_jjaMid_scenEraOne_Us_ensmean.shape)\n",
    "\n",
    "param_jjaEnd_scenEraOne_Us_ensmean = param_scenEraOne_Us_ensmean[jjaMonEnd-1::nMonsPerYr]\n",
    "print(param_jjaEnd_scenEraOne_Us_ensmean.shape)\n"
   ]
  },
  {
   "cell_type": "code",
   "execution_count": 69,
   "metadata": {},
   "outputs": [
    {
     "name": "stdout",
     "output_type": "stream",
     "text": [
      "(32, 56)\n",
      "(32, 56)\n",
      "(32, 56)\n"
     ]
    }
   ],
   "source": [
    "param_jjaSt_scenEraOne_Us_ensmean_timeAvg = np.nanmean(param_jjaSt_scenEraOne_Us_ensmean, axis = 0)\n",
    "print(param_jjaSt_scenEraOne_Us_ensmean_timeAvg.shape)\n",
    "\n",
    "param_jjaMid_scenEraOne_Us_ensmean_timeAvg = np.nanmean(param_jjaMid_scenEraOne_Us_ensmean, axis = 0)\n",
    "print(param_jjaMid_scenEraOne_Us_ensmean_timeAvg.shape)\n",
    "\n",
    "param_jjaEnd_scenEraOne_Us_ensmean_timeAvg = np.nanmean(param_jjaEnd_scenEraOne_Us_ensmean, axis = 0)\n",
    "print(param_jjaEnd_scenEraOne_Us_ensmean_timeAvg.shape)\n"
   ]
  },
  {
   "cell_type": "code",
   "execution_count": 70,
   "metadata": {},
   "outputs": [
    {
     "name": "stdout",
     "output_type": "stream",
     "text": [
      "(32, 56)\n"
     ]
    }
   ],
   "source": [
    "param_jjaTot_scenEraOne_Us_ensmean_timeAvg = (param_jjaSt_scenEraOne_Us_ensmean_timeAvg+param_jjaMid_scenEraOne_Us_ensmean_timeAvg+param_jjaEnd_scenEraOne_Us_ensmean_timeAvg)/3\n",
    "print(param_jjaTot_scenEraOne_Us_ensmean_timeAvg.shape)\n"
   ]
  },
  {
   "cell_type": "markdown",
   "metadata": {},
   "source": [
    "## Scen Era 2"
   ]
  },
  {
   "cell_type": "code",
   "execution_count": 71,
   "metadata": {},
   "outputs": [
    {
     "name": "stdout",
     "output_type": "stream",
     "text": [
      "(30, 32, 56)\n",
      "(30, 32, 56)\n",
      "(30, 32, 56)\n"
     ]
    }
   ],
   "source": [
    "\n",
    "param_jjaSt_scenEraTwo_Us_ensmean = param_scenEraTwo_Us_ensmean[jjaMonSt-1::nMonsPerYr]\n",
    "print(param_jjaSt_scenEraTwo_Us_ensmean.shape)\n",
    "\n",
    "param_jjaMid_scenEraTwo_Us_ensmean = param_scenEraTwo_Us_ensmean[jjaMonMid-1::nMonsPerYr]\n",
    "print(param_jjaMid_scenEraTwo_Us_ensmean.shape)\n",
    "\n",
    "param_jjaEnd_scenEraTwo_Us_ensmean = param_scenEraTwo_Us_ensmean[jjaMonEnd-1::nMonsPerYr]\n",
    "print(param_jjaEnd_scenEraTwo_Us_ensmean.shape)\n"
   ]
  },
  {
   "cell_type": "code",
   "execution_count": 72,
   "metadata": {},
   "outputs": [
    {
     "name": "stdout",
     "output_type": "stream",
     "text": [
      "(32, 56)\n",
      "(32, 56)\n",
      "(32, 56)\n"
     ]
    }
   ],
   "source": [
    "param_jjaSt_scenEraTwo_Us_ensmean_timeAvg = np.nanmean(param_jjaSt_scenEraTwo_Us_ensmean, axis = 0)\n",
    "print(param_jjaSt_scenEraTwo_Us_ensmean_timeAvg.shape)\n",
    "\n",
    "param_jjaMid_scenEraTwo_Us_ensmean_timeAvg = np.nanmean(param_jjaMid_scenEraTwo_Us_ensmean, axis = 0)\n",
    "print(param_jjaMid_scenEraTwo_Us_ensmean_timeAvg.shape)\n",
    "\n",
    "param_jjaEnd_scenEraTwo_Us_ensmean_timeAvg = np.nanmean(param_jjaEnd_scenEraTwo_Us_ensmean, axis = 0)\n",
    "print(param_jjaEnd_scenEraTwo_Us_ensmean_timeAvg.shape)\n"
   ]
  },
  {
   "cell_type": "code",
   "execution_count": 73,
   "metadata": {},
   "outputs": [
    {
     "name": "stdout",
     "output_type": "stream",
     "text": [
      "(32, 56)\n"
     ]
    }
   ],
   "source": [
    "param_jjaTot_scenEraTwo_Us_ensmean_timeAvg = (param_jjaSt_scenEraTwo_Us_ensmean_timeAvg+param_jjaMid_scenEraTwo_Us_ensmean_timeAvg+param_jjaEnd_scenEraTwo_Us_ensmean_timeAvg)/3\n",
    "print(param_jjaTot_scenEraTwo_Us_ensmean_timeAvg.shape)\n"
   ]
  },
  {
   "cell_type": "markdown",
   "metadata": {},
   "source": [
    "## Scen Era 3"
   ]
  },
  {
   "cell_type": "code",
   "execution_count": 74,
   "metadata": {},
   "outputs": [
    {
     "name": "stdout",
     "output_type": "stream",
     "text": [
      "(26, 32, 56)\n",
      "(26, 32, 56)\n",
      "(26, 32, 56)\n"
     ]
    }
   ],
   "source": [
    "\n",
    "param_jjaSt_scenEraThree_Us_ensmean = param_scenEraThree_Us_ensmean[jjaMonSt-1::nMonsPerYr]\n",
    "print(param_jjaSt_scenEraThree_Us_ensmean.shape)\n",
    "\n",
    "param_jjaMid_scenEraThree_Us_ensmean = param_scenEraThree_Us_ensmean[jjaMonMid-1::nMonsPerYr]\n",
    "print(param_jjaMid_scenEraThree_Us_ensmean.shape)\n",
    "\n",
    "param_jjaEnd_scenEraThree_Us_ensmean = param_scenEraThree_Us_ensmean[jjaMonEnd-1::nMonsPerYr]\n",
    "print(param_jjaEnd_scenEraThree_Us_ensmean.shape)\n"
   ]
  },
  {
   "cell_type": "code",
   "execution_count": 75,
   "metadata": {},
   "outputs": [
    {
     "name": "stdout",
     "output_type": "stream",
     "text": [
      "(32, 56)\n",
      "(32, 56)\n",
      "(32, 56)\n"
     ]
    }
   ],
   "source": [
    "param_jjaSt_scenEraThree_Us_ensmean_timeAvg = np.nanmean(param_jjaSt_scenEraThree_Us_ensmean, axis = 0)\n",
    "print(param_jjaSt_scenEraThree_Us_ensmean_timeAvg.shape)\n",
    "\n",
    "param_jjaMid_scenEraThree_Us_ensmean_timeAvg = np.nanmean(param_jjaMid_scenEraThree_Us_ensmean, axis = 0)\n",
    "print(param_jjaMid_scenEraThree_Us_ensmean_timeAvg.shape)\n",
    "\n",
    "param_jjaEnd_scenEraThree_Us_ensmean_timeAvg = np.nanmean(param_jjaEnd_scenEraThree_Us_ensmean, axis = 0)\n",
    "print(param_jjaEnd_scenEraThree_Us_ensmean_timeAvg.shape)\n"
   ]
  },
  {
   "cell_type": "code",
   "execution_count": 76,
   "metadata": {},
   "outputs": [
    {
     "name": "stdout",
     "output_type": "stream",
     "text": [
      "(32, 56)\n"
     ]
    }
   ],
   "source": [
    "param_jjaTot_scenEraThree_Us_ensmean_timeAvg = (param_jjaSt_scenEraThree_Us_ensmean_timeAvg+param_jjaMid_scenEraThree_Us_ensmean_timeAvg+param_jjaEnd_scenEraThree_Us_ensmean_timeAvg)/3\n",
    "print(param_jjaTot_scenEraThree_Us_ensmean_timeAvg.shape)\n"
   ]
  },
  {
   "cell_type": "markdown",
   "metadata": {},
   "source": [
    "## Differences at the three Eras"
   ]
  },
  {
   "cell_type": "code",
   "execution_count": 77,
   "metadata": {},
   "outputs": [
    {
     "name": "stdout",
     "output_type": "stream",
     "text": [
      "(32, 56)\n"
     ]
    }
   ],
   "source": [
    "param_jjaTot_scenEraOne_pDiff_Us_ensmean_timeAvg = (param_jjaTot_scenEraOne_Us_ensmean_timeAvg - param_jjaTot_refPeriod_Us_ensmean_timeAvg)\n",
    "print(param_jjaTot_scenEraOne_pDiff_Us_ensmean_timeAvg.shape)"
   ]
  },
  {
   "cell_type": "code",
   "execution_count": 78,
   "metadata": {},
   "outputs": [
    {
     "name": "stdout",
     "output_type": "stream",
     "text": [
      "(32, 56)\n"
     ]
    }
   ],
   "source": [
    "param_jjaTot_scenEraTwo_pDiff_Us_ensmean_timeAvg = (param_jjaTot_scenEraTwo_Us_ensmean_timeAvg - param_jjaTot_refPeriod_Us_ensmean_timeAvg)\n",
    "print(param_jjaTot_scenEraTwo_pDiff_Us_ensmean_timeAvg.shape)"
   ]
  },
  {
   "cell_type": "code",
   "execution_count": 79,
   "metadata": {},
   "outputs": [
    {
     "name": "stdout",
     "output_type": "stream",
     "text": [
      "(32, 56)\n"
     ]
    }
   ],
   "source": [
    "param_jjaTot_scenEraThree_pDiff_Us_ensmean_timeAvg = (param_jjaTot_scenEraThree_Us_ensmean_timeAvg - param_jjaTot_refPeriod_Us_ensmean_timeAvg)\n",
    "print(param_jjaTot_scenEraThree_pDiff_Us_ensmean_timeAvg.shape)"
   ]
  },
  {
   "cell_type": "code",
   "execution_count": null,
   "metadata": {},
   "outputs": [],
   "source": []
  },
  {
   "cell_type": "markdown",
   "metadata": {},
   "source": [
    "## Basin Mask (JJA)"
   ]
  },
  {
   "cell_type": "markdown",
   "metadata": {},
   "source": [
    "## Writing in an Xarray Data array"
   ]
  },
  {
   "cell_type": "code",
   "execution_count": 80,
   "metadata": {},
   "outputs": [
    {
     "name": "stdout",
     "output_type": "stream",
     "text": [
      "(32, 56)\n",
      "<xarray.DataArray (Lat: 32, Lon: 56)>\n",
      "array([[ 0.00000000e+00,  0.00000000e+00,  0.00000000e+00, ...,\n",
      "         0.00000000e+00,  0.00000000e+00,  0.00000000e+00],\n",
      "       [ 0.00000000e+00,  0.00000000e+00,  0.00000000e+00, ...,\n",
      "         0.00000000e+00,  0.00000000e+00,  0.00000000e+00],\n",
      "       [ 0.00000000e+00,  0.00000000e+00,  0.00000000e+00, ...,\n",
      "         0.00000000e+00,  0.00000000e+00,  0.00000000e+00],\n",
      "       ...,\n",
      "       [ 0.00000000e+00, -1.28866062e-07, -1.89557321e+01, ...,\n",
      "        -4.23271639e+01, -1.56776153e+01, -6.00463020e+00],\n",
      "       [-4.17953648e-07, -3.88519909e+00, -4.16795720e+01, ...,\n",
      "        -5.41763788e+01, -4.80883747e+01, -2.49498910e+01],\n",
      "       [-1.69632456e+00, -2.94653580e+01, -1.61784986e+01, ...,\n",
      "        -4.15778235e+01, -5.23651773e+01, -4.92396849e+01]])\n",
      "Coordinates:\n",
      "  * Lat      (Lat) float32 24.97 25.92 26.86 27.8 ... 51.36 52.3 53.25 54.19\n",
      "  * Lon      (Lon) float32 230.0 231.2 232.5 233.8 ... 295.0 296.2 297.5 298.8\n"
     ]
    }
   ],
   "source": [
    "param_jjaTot_scenEraOne_diff_Us_xarray = xr.DataArray(param_jjaTot_scenEraOne_pDiff_Us_ensmean_timeAvg, coords=[latUs_cesm2, lonUs_cesm2 ], dims=[\"Lat\",\"Lon\"])                                                  \n",
    "print(param_jjaTot_scenEraOne_diff_Us_xarray.shape)\n",
    "print(param_jjaTot_scenEraOne_diff_Us_xarray)"
   ]
  },
  {
   "cell_type": "code",
   "execution_count": 81,
   "metadata": {},
   "outputs": [
    {
     "name": "stdout",
     "output_type": "stream",
     "text": [
      "(32, 56)\n",
      "<xarray.DataArray (Lat: 32, Lon: 56)>\n",
      "array([[ 0.00000000e+00,  0.00000000e+00,  0.00000000e+00, ...,\n",
      "         0.00000000e+00,  0.00000000e+00,  0.00000000e+00],\n",
      "       [ 0.00000000e+00,  0.00000000e+00,  0.00000000e+00, ...,\n",
      "         0.00000000e+00,  0.00000000e+00,  0.00000000e+00],\n",
      "       [ 0.00000000e+00,  0.00000000e+00,  0.00000000e+00, ...,\n",
      "         0.00000000e+00,  0.00000000e+00,  0.00000000e+00],\n",
      "       ...,\n",
      "       [ 0.00000000e+00, -1.28866062e-07, -2.56490225e+01, ...,\n",
      "        -4.65721642e+01, -1.79886294e+01, -6.80156600e+00],\n",
      "       [-4.17953648e-07, -4.30487034e+00, -6.27114868e+01, ...,\n",
      "        -9.56403126e+01, -5.89449459e+01, -2.64523995e+01],\n",
      "       [-1.84710794e+00, -4.52884860e+01, -2.57927965e+01, ...,\n",
      "        -7.50615326e+01, -9.58994547e+01, -5.29701244e+01]])\n",
      "Coordinates:\n",
      "  * Lat      (Lat) float32 24.97 25.92 26.86 27.8 ... 51.36 52.3 53.25 54.19\n",
      "  * Lon      (Lon) float32 230.0 231.2 232.5 233.8 ... 295.0 296.2 297.5 298.8\n"
     ]
    }
   ],
   "source": [
    "param_jjaTot_scenEraTwo_diff_Us_xarray = xr.DataArray(param_jjaTot_scenEraTwo_pDiff_Us_ensmean_timeAvg, coords=[latUs_cesm2, lonUs_cesm2 ], dims=[\"Lat\",\"Lon\"])                                                      \n",
    "print(param_jjaTot_scenEraTwo_diff_Us_xarray.shape)\n",
    "print(param_jjaTot_scenEraTwo_diff_Us_xarray)"
   ]
  },
  {
   "cell_type": "code",
   "execution_count": 82,
   "metadata": {},
   "outputs": [
    {
     "name": "stdout",
     "output_type": "stream",
     "text": [
      "(32, 56)\n",
      "<xarray.DataArray (Lat: 32, Lon: 56)>\n",
      "array([[ 0.00000000e+00,  0.00000000e+00,  0.00000000e+00, ...,\n",
      "         0.00000000e+00,  0.00000000e+00,  0.00000000e+00],\n",
      "       [ 0.00000000e+00,  0.00000000e+00,  0.00000000e+00, ...,\n",
      "         0.00000000e+00,  0.00000000e+00,  0.00000000e+00],\n",
      "       [ 0.00000000e+00,  0.00000000e+00,  0.00000000e+00, ...,\n",
      "         0.00000000e+00,  0.00000000e+00,  0.00000000e+00],\n",
      "       ...,\n",
      "       [ 0.00000000e+00, -1.28866062e-07, -2.66321511e+01, ...,\n",
      "        -4.92692124e+01, -1.89339452e+01, -7.31895423e+00],\n",
      "       [-4.17953648e-07, -4.35775296e+00, -6.82724520e+01, ...,\n",
      "        -1.16656457e+02, -6.38720245e+01, -2.80549603e+01],\n",
      "       [-1.85467397e+00, -4.97587421e+01, -2.90098091e+01, ...,\n",
      "        -9.55029243e+01, -1.26844234e+02, -5.78232718e+01]])\n",
      "Coordinates:\n",
      "  * Lat      (Lat) float32 24.97 25.92 26.86 27.8 ... 51.36 52.3 53.25 54.19\n",
      "  * Lon      (Lon) float32 230.0 231.2 232.5 233.8 ... 295.0 296.2 297.5 298.8\n"
     ]
    }
   ],
   "source": [
    "param_jjaTot_scenEraThree_diff_Us_xarray = xr.DataArray(param_jjaTot_scenEraThree_pDiff_Us_ensmean_timeAvg, coords=[latUs_cesm2, lonUs_cesm2 ], dims=[\"Lat\",\"Lon\"])                                                      \n",
    "print(param_jjaTot_scenEraThree_diff_Us_xarray.shape)\n",
    "print(param_jjaTot_scenEraThree_diff_Us_xarray)"
   ]
  },
  {
   "cell_type": "code",
   "execution_count": null,
   "metadata": {},
   "outputs": [],
   "source": []
  },
  {
   "cell_type": "markdown",
   "metadata": {},
   "source": [
    "## Masking files for the Basin Domain only"
   ]
  },
  {
   "cell_type": "markdown",
   "metadata": {},
   "source": [
    "### Mississippi"
   ]
  },
  {
   "cell_type": "code",
   "execution_count": 83,
   "metadata": {},
   "outputs": [
    {
     "name": "stdout",
     "output_type": "stream",
     "text": [
      "(32, 56)\n",
      "<xarray.DataArray (Lat: 32, Lon: 56)>\n",
      "array([[nan, nan, nan, ..., nan, nan, nan],\n",
      "       [nan, nan, nan, ..., nan, nan, nan],\n",
      "       [nan, nan, nan, ..., nan, nan, nan],\n",
      "       ...,\n",
      "       [nan, nan, nan, ..., nan, nan, nan],\n",
      "       [nan, nan, nan, ..., nan, nan, nan],\n",
      "       [nan, nan, nan, ..., nan, nan, nan]])\n",
      "Coordinates:\n",
      "  * Lat      (Lat) float32 24.97 25.92 26.86 27.8 ... 51.36 52.3 53.25 54.19\n",
      "  * Lon      (Lon) float32 230.0 231.2 232.5 233.8 ... 295.0 296.2 297.5 298.8\n"
     ]
    }
   ],
   "source": [
    "param_jjaTot_scenEraOne_diff_masked_Missi = param_jjaTot_scenEraOne_diff_Us_xarray.where(MaskFile_Missi>0)\n",
    "print(param_jjaTot_scenEraOne_diff_masked_Missi.shape)\n",
    "print(param_jjaTot_scenEraOne_diff_masked_Missi)"
   ]
  },
  {
   "cell_type": "code",
   "execution_count": 84,
   "metadata": {},
   "outputs": [
    {
     "name": "stdout",
     "output_type": "stream",
     "text": [
      "(32, 56)\n",
      "<xarray.DataArray (Lat: 32, Lon: 56)>\n",
      "array([[nan, nan, nan, ..., nan, nan, nan],\n",
      "       [nan, nan, nan, ..., nan, nan, nan],\n",
      "       [nan, nan, nan, ..., nan, nan, nan],\n",
      "       ...,\n",
      "       [nan, nan, nan, ..., nan, nan, nan],\n",
      "       [nan, nan, nan, ..., nan, nan, nan],\n",
      "       [nan, nan, nan, ..., nan, nan, nan]])\n",
      "Coordinates:\n",
      "  * Lat      (Lat) float32 24.97 25.92 26.86 27.8 ... 51.36 52.3 53.25 54.19\n",
      "  * Lon      (Lon) float32 230.0 231.2 232.5 233.8 ... 295.0 296.2 297.5 298.8\n"
     ]
    }
   ],
   "source": [
    "param_jjaTot_scenEraTwo_diff_masked_Missi = param_jjaTot_scenEraTwo_diff_Us_xarray.where(MaskFile_Missi>0)\n",
    "print(param_jjaTot_scenEraTwo_diff_masked_Missi.shape)\n",
    "print(param_jjaTot_scenEraTwo_diff_masked_Missi)"
   ]
  },
  {
   "cell_type": "code",
   "execution_count": 85,
   "metadata": {},
   "outputs": [
    {
     "name": "stdout",
     "output_type": "stream",
     "text": [
      "(32, 56)\n",
      "<xarray.DataArray (Lat: 32, Lon: 56)>\n",
      "array([[nan, nan, nan, ..., nan, nan, nan],\n",
      "       [nan, nan, nan, ..., nan, nan, nan],\n",
      "       [nan, nan, nan, ..., nan, nan, nan],\n",
      "       ...,\n",
      "       [nan, nan, nan, ..., nan, nan, nan],\n",
      "       [nan, nan, nan, ..., nan, nan, nan],\n",
      "       [nan, nan, nan, ..., nan, nan, nan]])\n",
      "Coordinates:\n",
      "  * Lat      (Lat) float32 24.97 25.92 26.86 27.8 ... 51.36 52.3 53.25 54.19\n",
      "  * Lon      (Lon) float32 230.0 231.2 232.5 233.8 ... 295.0 296.2 297.5 298.8\n"
     ]
    }
   ],
   "source": [
    "param_jjaTot_scenEraThree_diff_masked_Missi = param_jjaTot_scenEraThree_diff_Us_xarray.where(MaskFile_Missi>0)\n",
    "print(param_jjaTot_scenEraThree_diff_masked_Missi.shape)\n",
    "print(param_jjaTot_scenEraThree_diff_masked_Missi)"
   ]
  },
  {
   "cell_type": "code",
   "execution_count": null,
   "metadata": {},
   "outputs": [],
   "source": []
  },
  {
   "cell_type": "markdown",
   "metadata": {},
   "source": [
    "## Find max and min values"
   ]
  },
  {
   "cell_type": "code",
   "execution_count": 86,
   "metadata": {},
   "outputs": [
    {
     "name": "stdout",
     "output_type": "stream",
     "text": [
      "0.0011191624611409275\n",
      "-0.19385742088178656\n"
     ]
    }
   ],
   "source": [
    "maxVal_jjaTot_diff_masked_scenEraOne = np.nanmax(param_jjaTot_scenEraOne_diff_masked_Missi)\n",
    "print(maxVal_jjaTot_diff_masked_scenEraOne)\n",
    "minVal_jjaTot_diff_masked_scenEraOne = np.nanmin(param_jjaTot_scenEraOne_diff_masked_Missi)\n",
    "print(minVal_jjaTot_diff_masked_scenEraOne)"
   ]
  },
  {
   "cell_type": "code",
   "execution_count": 87,
   "metadata": {},
   "outputs": [
    {
     "name": "stdout",
     "output_type": "stream",
     "text": [
      "0.0\n",
      "-0.2219105059168093\n"
     ]
    }
   ],
   "source": [
    "maxVal_jjaTot_diff_masked_scenEraTwo = np.nanmax(param_jjaTot_scenEraTwo_diff_masked_Missi)\n",
    "print(maxVal_jjaTot_diff_masked_scenEraTwo)\n",
    "minVal_jjaTot_diff_masked_scenEraTwo = np.nanmin(param_jjaTot_scenEraTwo_diff_masked_Missi)\n",
    "print(minVal_jjaTot_diff_masked_scenEraTwo)"
   ]
  },
  {
   "cell_type": "code",
   "execution_count": 88,
   "metadata": {},
   "outputs": [
    {
     "name": "stdout",
     "output_type": "stream",
     "text": [
      "0.0\n",
      "-0.22733803934200913\n"
     ]
    }
   ],
   "source": [
    "maxVal_jjaTot_diff_masked_scenEraThree = np.nanmax(param_jjaTot_scenEraThree_diff_masked_Missi)\n",
    "print(maxVal_jjaTot_diff_masked_scenEraThree)\n",
    "minVal_jjaTot_diff_masked_scenEraThree = np.nanmin(param_jjaTot_scenEraThree_diff_masked_Missi)\n",
    "print(minVal_jjaTot_diff_masked_scenEraThree)"
   ]
  },
  {
   "cell_type": "code",
   "execution_count": 89,
   "metadata": {},
   "outputs": [
    {
     "name": "stdout",
     "output_type": "stream",
     "text": [
      "-1.0\n",
      "0.0\n"
     ]
    }
   ],
   "source": [
    "#vmin_jjaTot_scenEraThree = np.floor(minVal_jjaTot_percDiff_scenEraThree)\n",
    "vmin_jjaTot_scenEraThree = np.floor(minVal_jjaTot_diff_masked_scenEraThree)\n",
    "\n",
    "vmax_jjaTot_scenEraThree = np.ceil(maxVal_jjaTot_diff_masked_scenEraThree)\n",
    "print(vmin_jjaTot_scenEraThree)\n",
    "print(vmax_jjaTot_scenEraThree)"
   ]
  },
  {
   "cell_type": "code",
   "execution_count": 90,
   "metadata": {},
   "outputs": [
    {
     "name": "stdout",
     "output_type": "stream",
     "text": [
      "2\n"
     ]
    }
   ],
   "source": [
    "nDiv_jjaTot_scenEraThree = int(vmax_jjaTot_scenEraThree - vmin_jjaTot_scenEraThree + 1)\n",
    "print(nDiv_jjaTot_scenEraThree)"
   ]
  },
  {
   "cell_type": "code",
   "execution_count": null,
   "metadata": {},
   "outputs": [],
   "source": []
  },
  {
   "cell_type": "markdown",
   "metadata": {},
   "source": [
    "## SON"
   ]
  },
  {
   "cell_type": "markdown",
   "metadata": {},
   "source": [
    "## ref Period"
   ]
  },
  {
   "cell_type": "code",
   "execution_count": 91,
   "metadata": {},
   "outputs": [],
   "source": [
    "sonMonSt = 9\n",
    "sonMonMid = 10\n",
    "sonMonEnd = 11"
   ]
  },
  {
   "cell_type": "code",
   "execution_count": 92,
   "metadata": {},
   "outputs": [
    {
     "name": "stdout",
     "output_type": "stream",
     "text": [
      "(30, 32, 56)\n",
      "(30, 32, 56)\n",
      "(30, 32, 56)\n"
     ]
    }
   ],
   "source": [
    "\n",
    "param_sonSt_refPeriod_Us_ensmean = param_refPeriod_Us_ensmean[sonMonSt-1::nMonsPerYr]\n",
    "print(param_sonSt_refPeriod_Us_ensmean.shape)\n",
    "\n",
    "param_sonMid_refPeriod_Us_ensmean = param_refPeriod_Us_ensmean[sonMonMid-1::nMonsPerYr]\n",
    "print(param_sonMid_refPeriod_Us_ensmean.shape)\n",
    "\n",
    "param_sonEnd_refPeriod_Us_ensmean = param_refPeriod_Us_ensmean[sonMonEnd-1::nMonsPerYr]\n",
    "print(param_sonEnd_refPeriod_Us_ensmean.shape)\n"
   ]
  },
  {
   "cell_type": "code",
   "execution_count": 93,
   "metadata": {},
   "outputs": [
    {
     "name": "stdout",
     "output_type": "stream",
     "text": [
      "(32, 56)\n",
      "(32, 56)\n",
      "(32, 56)\n"
     ]
    }
   ],
   "source": [
    "param_sonSt_refPeriod_Us_ensmean_timeAvg = np.nanmean(param_sonSt_refPeriod_Us_ensmean, axis = 0)\n",
    "print(param_sonSt_refPeriod_Us_ensmean_timeAvg.shape)\n",
    "\n",
    "param_sonMid_refPeriod_Us_ensmean_timeAvg = np.nanmean(param_sonMid_refPeriod_Us_ensmean, axis = 0)\n",
    "print(param_sonMid_refPeriod_Us_ensmean_timeAvg.shape)\n",
    "\n",
    "param_sonEnd_refPeriod_Us_ensmean_timeAvg = np.nanmean(param_sonEnd_refPeriod_Us_ensmean, axis = 0)\n",
    "print(param_sonEnd_refPeriod_Us_ensmean_timeAvg.shape)\n"
   ]
  },
  {
   "cell_type": "code",
   "execution_count": 94,
   "metadata": {},
   "outputs": [
    {
     "name": "stdout",
     "output_type": "stream",
     "text": [
      "(32, 56)\n"
     ]
    }
   ],
   "source": [
    "param_sonTot_refPeriod_Us_ensmean_timeAvg = (param_sonSt_refPeriod_Us_ensmean_timeAvg+param_sonMid_refPeriod_Us_ensmean_timeAvg+param_sonEnd_refPeriod_Us_ensmean_timeAvg)/3\n",
    "print(param_sonTot_refPeriod_Us_ensmean_timeAvg.shape)"
   ]
  },
  {
   "cell_type": "markdown",
   "metadata": {},
   "source": [
    "## Scen Era 1"
   ]
  },
  {
   "cell_type": "code",
   "execution_count": 95,
   "metadata": {},
   "outputs": [
    {
     "name": "stdout",
     "output_type": "stream",
     "text": [
      "(30, 32, 56)\n",
      "(30, 32, 56)\n",
      "(30, 32, 56)\n"
     ]
    }
   ],
   "source": [
    "\n",
    "param_sonSt_scenEraOne_Us_ensmean = param_scenEraOne_Us_ensmean[sonMonSt-1::nMonsPerYr]\n",
    "print(param_sonSt_scenEraOne_Us_ensmean.shape)\n",
    "\n",
    "param_sonMid_scenEraOne_Us_ensmean = param_scenEraOne_Us_ensmean[sonMonMid-1::nMonsPerYr]\n",
    "print(param_sonMid_scenEraOne_Us_ensmean.shape)\n",
    "\n",
    "param_sonEnd_scenEraOne_Us_ensmean = param_scenEraOne_Us_ensmean[sonMonEnd-1::nMonsPerYr]\n",
    "print(param_sonEnd_scenEraOne_Us_ensmean.shape)\n"
   ]
  },
  {
   "cell_type": "code",
   "execution_count": 96,
   "metadata": {},
   "outputs": [
    {
     "name": "stdout",
     "output_type": "stream",
     "text": [
      "(32, 56)\n",
      "(32, 56)\n",
      "(32, 56)\n"
     ]
    }
   ],
   "source": [
    "param_sonSt_scenEraOne_Us_ensmean_timeAvg = np.nanmean(param_sonSt_scenEraOne_Us_ensmean, axis = 0)\n",
    "print(param_sonSt_scenEraOne_Us_ensmean_timeAvg.shape)\n",
    "\n",
    "param_sonMid_scenEraOne_Us_ensmean_timeAvg = np.nanmean(param_sonMid_scenEraOne_Us_ensmean, axis = 0)\n",
    "print(param_sonMid_scenEraOne_Us_ensmean_timeAvg.shape)\n",
    "\n",
    "param_sonEnd_scenEraOne_Us_ensmean_timeAvg = np.nanmean(param_sonEnd_scenEraOne_Us_ensmean, axis = 0)\n",
    "print(param_sonEnd_scenEraOne_Us_ensmean_timeAvg.shape)\n"
   ]
  },
  {
   "cell_type": "code",
   "execution_count": 97,
   "metadata": {},
   "outputs": [
    {
     "name": "stdout",
     "output_type": "stream",
     "text": [
      "(32, 56)\n"
     ]
    }
   ],
   "source": [
    "param_sonTot_scenEraOne_Us_ensmean_timeAvg = (param_sonSt_scenEraOne_Us_ensmean_timeAvg+param_sonMid_scenEraOne_Us_ensmean_timeAvg+param_sonEnd_scenEraOne_Us_ensmean_timeAvg)/3\n",
    "print(param_sonTot_scenEraOne_Us_ensmean_timeAvg.shape)\n"
   ]
  },
  {
   "cell_type": "markdown",
   "metadata": {},
   "source": [
    "## Scen Era 2"
   ]
  },
  {
   "cell_type": "code",
   "execution_count": 98,
   "metadata": {},
   "outputs": [
    {
     "name": "stdout",
     "output_type": "stream",
     "text": [
      "(30, 32, 56)\n",
      "(30, 32, 56)\n",
      "(30, 32, 56)\n"
     ]
    }
   ],
   "source": [
    "\n",
    "param_sonSt_scenEraTwo_Us_ensmean = param_scenEraTwo_Us_ensmean[sonMonSt-1::nMonsPerYr]\n",
    "print(param_sonSt_scenEraTwo_Us_ensmean.shape)\n",
    "\n",
    "param_sonMid_scenEraTwo_Us_ensmean = param_scenEraTwo_Us_ensmean[sonMonMid-1::nMonsPerYr]\n",
    "print(param_sonMid_scenEraTwo_Us_ensmean.shape)\n",
    "\n",
    "param_sonEnd_scenEraTwo_Us_ensmean = param_scenEraTwo_Us_ensmean[sonMonEnd-1::nMonsPerYr]\n",
    "print(param_sonEnd_scenEraTwo_Us_ensmean.shape)\n"
   ]
  },
  {
   "cell_type": "code",
   "execution_count": 99,
   "metadata": {},
   "outputs": [
    {
     "name": "stdout",
     "output_type": "stream",
     "text": [
      "(32, 56)\n",
      "(32, 56)\n",
      "(32, 56)\n"
     ]
    }
   ],
   "source": [
    "param_sonSt_scenEraTwo_Us_ensmean_timeAvg = np.nanmean(param_sonSt_scenEraTwo_Us_ensmean, axis = 0)\n",
    "print(param_sonSt_scenEraTwo_Us_ensmean_timeAvg.shape)\n",
    "\n",
    "param_sonMid_scenEraTwo_Us_ensmean_timeAvg = np.nanmean(param_sonMid_scenEraTwo_Us_ensmean, axis = 0)\n",
    "print(param_sonMid_scenEraTwo_Us_ensmean_timeAvg.shape)\n",
    "\n",
    "param_sonEnd_scenEraTwo_Us_ensmean_timeAvg = np.nanmean(param_sonEnd_scenEraTwo_Us_ensmean, axis = 0)\n",
    "print(param_sonEnd_scenEraTwo_Us_ensmean_timeAvg.shape)\n"
   ]
  },
  {
   "cell_type": "code",
   "execution_count": 100,
   "metadata": {},
   "outputs": [
    {
     "name": "stdout",
     "output_type": "stream",
     "text": [
      "(32, 56)\n"
     ]
    }
   ],
   "source": [
    "param_sonTot_scenEraTwo_Us_ensmean_timeAvg = (param_sonSt_scenEraTwo_Us_ensmean_timeAvg+param_sonMid_scenEraTwo_Us_ensmean_timeAvg+param_sonEnd_scenEraTwo_Us_ensmean_timeAvg)/3\n",
    "print(param_sonTot_scenEraTwo_Us_ensmean_timeAvg.shape)\n"
   ]
  },
  {
   "cell_type": "markdown",
   "metadata": {},
   "source": [
    "## Scen Era 3"
   ]
  },
  {
   "cell_type": "code",
   "execution_count": 101,
   "metadata": {},
   "outputs": [
    {
     "name": "stdout",
     "output_type": "stream",
     "text": [
      "(26, 32, 56)\n",
      "(26, 32, 56)\n",
      "(26, 32, 56)\n"
     ]
    }
   ],
   "source": [
    "\n",
    "param_sonSt_scenEraThree_Us_ensmean = param_scenEraThree_Us_ensmean[sonMonSt-1::nMonsPerYr]\n",
    "print(param_sonSt_scenEraThree_Us_ensmean.shape)\n",
    "\n",
    "param_sonMid_scenEraThree_Us_ensmean = param_scenEraThree_Us_ensmean[sonMonMid-1::nMonsPerYr]\n",
    "print(param_sonMid_scenEraThree_Us_ensmean.shape)\n",
    "\n",
    "param_sonEnd_scenEraThree_Us_ensmean = param_scenEraThree_Us_ensmean[sonMonEnd-1::nMonsPerYr]\n",
    "print(param_sonEnd_scenEraThree_Us_ensmean.shape)\n"
   ]
  },
  {
   "cell_type": "code",
   "execution_count": 102,
   "metadata": {},
   "outputs": [
    {
     "name": "stdout",
     "output_type": "stream",
     "text": [
      "(32, 56)\n",
      "(32, 56)\n",
      "(32, 56)\n"
     ]
    }
   ],
   "source": [
    "param_sonSt_scenEraThree_Us_ensmean_timeAvg = np.nanmean(param_sonSt_scenEraThree_Us_ensmean, axis = 0)\n",
    "print(param_sonSt_scenEraThree_Us_ensmean_timeAvg.shape)\n",
    "\n",
    "param_sonMid_scenEraThree_Us_ensmean_timeAvg = np.nanmean(param_sonMid_scenEraThree_Us_ensmean, axis = 0)\n",
    "print(param_sonMid_scenEraThree_Us_ensmean_timeAvg.shape)\n",
    "\n",
    "param_sonEnd_scenEraThree_Us_ensmean_timeAvg = np.nanmean(param_sonEnd_scenEraThree_Us_ensmean, axis = 0)\n",
    "print(param_sonEnd_scenEraThree_Us_ensmean_timeAvg.shape)\n"
   ]
  },
  {
   "cell_type": "code",
   "execution_count": 103,
   "metadata": {},
   "outputs": [
    {
     "name": "stdout",
     "output_type": "stream",
     "text": [
      "(32, 56)\n"
     ]
    }
   ],
   "source": [
    "param_sonTot_scenEraThree_Us_ensmean_timeAvg = (param_sonSt_scenEraThree_Us_ensmean_timeAvg+param_sonMid_scenEraThree_Us_ensmean_timeAvg+param_sonEnd_scenEraThree_Us_ensmean_timeAvg)/3\n",
    "print(param_sonTot_scenEraThree_Us_ensmean_timeAvg.shape)\n"
   ]
  },
  {
   "cell_type": "markdown",
   "metadata": {},
   "source": [
    "## Differences at the three Eras"
   ]
  },
  {
   "cell_type": "code",
   "execution_count": 104,
   "metadata": {},
   "outputs": [
    {
     "name": "stdout",
     "output_type": "stream",
     "text": [
      "(32, 56)\n"
     ]
    }
   ],
   "source": [
    "param_sonTot_scenEraOne_pDiff_Us_ensmean_timeAvg = (param_sonTot_scenEraOne_Us_ensmean_timeAvg - param_sonTot_refPeriod_Us_ensmean_timeAvg)\n",
    "print(param_sonTot_scenEraOne_pDiff_Us_ensmean_timeAvg.shape)"
   ]
  },
  {
   "cell_type": "code",
   "execution_count": 105,
   "metadata": {},
   "outputs": [
    {
     "name": "stdout",
     "output_type": "stream",
     "text": [
      "(32, 56)\n"
     ]
    }
   ],
   "source": [
    "param_sonTot_scenEraTwo_pDiff_Us_ensmean_timeAvg = (param_sonTot_scenEraTwo_Us_ensmean_timeAvg - param_sonTot_refPeriod_Us_ensmean_timeAvg)\n",
    "print(param_sonTot_scenEraTwo_pDiff_Us_ensmean_timeAvg.shape)"
   ]
  },
  {
   "cell_type": "code",
   "execution_count": 106,
   "metadata": {},
   "outputs": [
    {
     "name": "stdout",
     "output_type": "stream",
     "text": [
      "(32, 56)\n"
     ]
    }
   ],
   "source": [
    "param_sonTot_scenEraThree_pDiff_Us_ensmean_timeAvg = (param_sonTot_scenEraThree_Us_ensmean_timeAvg - param_sonTot_refPeriod_Us_ensmean_timeAvg)\n",
    "print(param_sonTot_scenEraThree_pDiff_Us_ensmean_timeAvg.shape)"
   ]
  },
  {
   "cell_type": "code",
   "execution_count": null,
   "metadata": {},
   "outputs": [],
   "source": []
  },
  {
   "cell_type": "markdown",
   "metadata": {},
   "source": [
    "## Basin Mask (SON)\n"
   ]
  },
  {
   "cell_type": "markdown",
   "metadata": {},
   "source": [
    "## Writing in an Xarray Data array"
   ]
  },
  {
   "cell_type": "code",
   "execution_count": 107,
   "metadata": {},
   "outputs": [
    {
     "name": "stdout",
     "output_type": "stream",
     "text": [
      "(32, 56)\n",
      "<xarray.DataArray (Lat: 32, Lon: 56)>\n",
      "array([[  0.        ,   0.        ,   0.        , ...,   0.        ,\n",
      "          0.        ,   0.        ],\n",
      "       [  0.        ,   0.        ,   0.        , ...,   0.        ,\n",
      "          0.        ,   0.        ],\n",
      "       [  0.        ,   0.        ,   0.        , ...,   0.        ,\n",
      "          0.        ,   0.        ],\n",
      "       ...,\n",
      "       [  0.        ,  -0.50986567,  -7.1610102 , ..., -12.48937737,\n",
      "         -3.37164549,  -4.106175  ],\n",
      "       [ -0.63196982,  -7.07895505,  -3.51791022, ...,  -5.0152149 ,\n",
      "         -6.16185307, -13.38600228],\n",
      "       [ -6.18236815,  -5.00967859,  -2.48018409, ...,  -3.45499254,\n",
      "         -4.41004785, -10.18069545]])\n",
      "Coordinates:\n",
      "  * Lat      (Lat) float32 24.97 25.92 26.86 27.8 ... 51.36 52.3 53.25 54.19\n",
      "  * Lon      (Lon) float32 230.0 231.2 232.5 233.8 ... 295.0 296.2 297.5 298.8\n"
     ]
    }
   ],
   "source": [
    "param_sonTot_scenEraOne_diff_Us_xarray = xr.DataArray(param_sonTot_scenEraOne_pDiff_Us_ensmean_timeAvg, coords=[latUs_cesm2, lonUs_cesm2 ], dims=[\"Lat\",\"Lon\"])\n",
    "print(param_sonTot_scenEraOne_diff_Us_xarray.shape)\n",
    "print(param_sonTot_scenEraOne_diff_Us_xarray)"
   ]
  },
  {
   "cell_type": "code",
   "execution_count": 108,
   "metadata": {},
   "outputs": [
    {
     "name": "stdout",
     "output_type": "stream",
     "text": [
      "(32, 56)\n",
      "<xarray.DataArray (Lat: 32, Lon: 56)>\n",
      "array([[  0.        ,   0.        ,   0.        , ...,   0.        ,\n",
      "          0.        ,   0.        ],\n",
      "       [  0.        ,   0.        ,   0.        , ...,   0.        ,\n",
      "          0.        ,   0.        ],\n",
      "       [  0.        ,   0.        ,   0.        , ...,   0.        ,\n",
      "          0.        ,   0.        ],\n",
      "       ...,\n",
      "       [  0.        ,  -0.69103805, -14.11632435, ..., -20.45168011,\n",
      "         -6.31120553,  -7.64559364],\n",
      "       [ -0.8554285 , -12.29310828,  -9.51176826, ..., -13.06878646,\n",
      "        -15.1203735 , -17.52836551],\n",
      "       [-10.62201491, -11.13376072,  -5.77361975, ..., -10.29144   ,\n",
      "        -11.46281244, -12.86333028]])\n",
      "Coordinates:\n",
      "  * Lat      (Lat) float32 24.97 25.92 26.86 27.8 ... 51.36 52.3 53.25 54.19\n",
      "  * Lon      (Lon) float32 230.0 231.2 232.5 233.8 ... 295.0 296.2 297.5 298.8\n"
     ]
    }
   ],
   "source": [
    "param_sonTot_scenEraTwo_diff_Us_xarray = xr.DataArray(param_sonTot_scenEraTwo_pDiff_Us_ensmean_timeAvg, coords=[latUs_cesm2, lonUs_cesm2 ], dims=[\"Lat\",\"Lon\"])\n",
    "print(param_sonTot_scenEraTwo_diff_Us_xarray.shape)\n",
    "print(param_sonTot_scenEraTwo_diff_Us_xarray)"
   ]
  },
  {
   "cell_type": "code",
   "execution_count": 109,
   "metadata": {},
   "outputs": [
    {
     "name": "stdout",
     "output_type": "stream",
     "text": [
      "(32, 56)\n",
      "<xarray.DataArray (Lat: 32, Lon: 56)>\n",
      "array([[  0.        ,   0.        ,   0.        , ...,   0.        ,\n",
      "          0.        ,   0.        ],\n",
      "       [  0.        ,   0.        ,   0.        , ...,   0.        ,\n",
      "          0.        ,   0.        ],\n",
      "       [  0.        ,   0.        ,   0.        , ...,   0.        ,\n",
      "          0.        ,   0.        ],\n",
      "       ...,\n",
      "       [  0.        ,  -0.78130344, -20.23937407, ..., -24.36814272,\n",
      "        -11.17888462, -12.82310481],\n",
      "       [ -0.98402672, -15.99270382, -17.26129266, ..., -16.44608401,\n",
      "        -18.83164711, -21.94898549],\n",
      "       [-13.67531761, -18.57749184, -11.25442071, ..., -13.92898404,\n",
      "        -15.02538711, -16.89033246]])\n",
      "Coordinates:\n",
      "  * Lat      (Lat) float32 24.97 25.92 26.86 27.8 ... 51.36 52.3 53.25 54.19\n",
      "  * Lon      (Lon) float32 230.0 231.2 232.5 233.8 ... 295.0 296.2 297.5 298.8\n"
     ]
    }
   ],
   "source": [
    "param_sonTot_scenEraThree_diff_Us_xarray = xr.DataArray(param_sonTot_scenEraThree_pDiff_Us_ensmean_timeAvg, coords=[latUs_cesm2, lonUs_cesm2 ], dims=[\"Lat\",\"Lon\"])\n",
    "print(param_sonTot_scenEraThree_diff_Us_xarray.shape)\n",
    "print(param_sonTot_scenEraThree_diff_Us_xarray)"
   ]
  },
  {
   "cell_type": "code",
   "execution_count": null,
   "metadata": {},
   "outputs": [],
   "source": []
  },
  {
   "cell_type": "markdown",
   "metadata": {},
   "source": [
    "## Masking files for the Basin Domain only"
   ]
  },
  {
   "cell_type": "markdown",
   "metadata": {},
   "source": [
    "### Mississippi"
   ]
  },
  {
   "cell_type": "code",
   "execution_count": 110,
   "metadata": {},
   "outputs": [
    {
     "name": "stdout",
     "output_type": "stream",
     "text": [
      "(32, 56)\n",
      "<xarray.DataArray (Lat: 32, Lon: 56)>\n",
      "array([[nan, nan, nan, ..., nan, nan, nan],\n",
      "       [nan, nan, nan, ..., nan, nan, nan],\n",
      "       [nan, nan, nan, ..., nan, nan, nan],\n",
      "       ...,\n",
      "       [nan, nan, nan, ..., nan, nan, nan],\n",
      "       [nan, nan, nan, ..., nan, nan, nan],\n",
      "       [nan, nan, nan, ..., nan, nan, nan]])\n",
      "Coordinates:\n",
      "  * Lat      (Lat) float32 24.97 25.92 26.86 27.8 ... 51.36 52.3 53.25 54.19\n",
      "  * Lon      (Lon) float32 230.0 231.2 232.5 233.8 ... 295.0 296.2 297.5 298.8\n"
     ]
    }
   ],
   "source": [
    "param_sonTot_scenEraOne_diff_masked_Missi = param_sonTot_scenEraOne_diff_Us_xarray.where(MaskFile_Missi>0)\n",
    "print(param_sonTot_scenEraOne_diff_masked_Missi.shape)\n",
    "print(param_sonTot_scenEraOne_diff_masked_Missi)"
   ]
  },
  {
   "cell_type": "code",
   "execution_count": 111,
   "metadata": {},
   "outputs": [
    {
     "name": "stdout",
     "output_type": "stream",
     "text": [
      "(32, 56)\n",
      "<xarray.DataArray (Lat: 32, Lon: 56)>\n",
      "array([[nan, nan, nan, ..., nan, nan, nan],\n",
      "       [nan, nan, nan, ..., nan, nan, nan],\n",
      "       [nan, nan, nan, ..., nan, nan, nan],\n",
      "       ...,\n",
      "       [nan, nan, nan, ..., nan, nan, nan],\n",
      "       [nan, nan, nan, ..., nan, nan, nan],\n",
      "       [nan, nan, nan, ..., nan, nan, nan]])\n",
      "Coordinates:\n",
      "  * Lat      (Lat) float32 24.97 25.92 26.86 27.8 ... 51.36 52.3 53.25 54.19\n",
      "  * Lon      (Lon) float32 230.0 231.2 232.5 233.8 ... 295.0 296.2 297.5 298.8\n"
     ]
    }
   ],
   "source": [
    "param_sonTot_scenEraTwo_diff_masked_Missi = param_sonTot_scenEraTwo_diff_Us_xarray.where(MaskFile_Missi>0)\n",
    "print(param_sonTot_scenEraTwo_diff_masked_Missi.shape)\n",
    "print(param_sonTot_scenEraTwo_diff_masked_Missi)"
   ]
  },
  {
   "cell_type": "code",
   "execution_count": 112,
   "metadata": {},
   "outputs": [
    {
     "name": "stdout",
     "output_type": "stream",
     "text": [
      "(32, 56)\n",
      "<xarray.DataArray (Lat: 32, Lon: 56)>\n",
      "array([[nan, nan, nan, ..., nan, nan, nan],\n",
      "       [nan, nan, nan, ..., nan, nan, nan],\n",
      "       [nan, nan, nan, ..., nan, nan, nan],\n",
      "       ...,\n",
      "       [nan, nan, nan, ..., nan, nan, nan],\n",
      "       [nan, nan, nan, ..., nan, nan, nan],\n",
      "       [nan, nan, nan, ..., nan, nan, nan]])\n",
      "Coordinates:\n",
      "  * Lat      (Lat) float32 24.97 25.92 26.86 27.8 ... 51.36 52.3 53.25 54.19\n",
      "  * Lon      (Lon) float32 230.0 231.2 232.5 233.8 ... 295.0 296.2 297.5 298.8\n"
     ]
    }
   ],
   "source": [
    "param_sonTot_scenEraThree_diff_masked_Missi = param_sonTot_scenEraThree_diff_Us_xarray.where(MaskFile_Missi>0)\n",
    "print(param_sonTot_scenEraThree_diff_masked_Missi.shape)\n",
    "print(param_sonTot_scenEraThree_diff_masked_Missi)"
   ]
  },
  {
   "cell_type": "code",
   "execution_count": null,
   "metadata": {},
   "outputs": [],
   "source": []
  },
  {
   "cell_type": "markdown",
   "metadata": {},
   "source": [
    "## Find max and min values"
   ]
  },
  {
   "cell_type": "code",
   "execution_count": 113,
   "metadata": {},
   "outputs": [
    {
     "name": "stdout",
     "output_type": "stream",
     "text": [
      "3.858490256225615e-05\n",
      "-2.9121704818360925\n"
     ]
    }
   ],
   "source": [
    "maxVal_sonTot_diff_masked_scenEraOne = np.nanmax(param_sonTot_scenEraOne_diff_masked_Missi)\n",
    "print(maxVal_sonTot_diff_masked_scenEraOne)\n",
    "minVal_sonTot_diff_masked_scenEraOne = np.nanmin(param_sonTot_scenEraOne_diff_masked_Missi)\n",
    "print(minVal_sonTot_diff_masked_scenEraOne)"
   ]
  },
  {
   "cell_type": "code",
   "execution_count": 114,
   "metadata": {},
   "outputs": [
    {
     "name": "stdout",
     "output_type": "stream",
     "text": [
      "-9.81497614024744e-06\n",
      "-4.569219191020279\n"
     ]
    }
   ],
   "source": [
    "maxVal_sonTot_diff_masked_scenEraTwo = np.nanmax(param_sonTot_scenEraTwo_diff_masked_Missi)\n",
    "print(maxVal_sonTot_diff_masked_scenEraTwo)\n",
    "minVal_sonTot_diff_masked_scenEraTwo = np.nanmin(param_sonTot_scenEraTwo_diff_masked_Missi)\n",
    "print(minVal_sonTot_diff_masked_scenEraTwo)"
   ]
  },
  {
   "cell_type": "code",
   "execution_count": 115,
   "metadata": {},
   "outputs": [
    {
     "name": "stdout",
     "output_type": "stream",
     "text": [
      "-9.81367367508879e-06\n",
      "-6.216596469605849\n"
     ]
    }
   ],
   "source": [
    "maxVal_sonTot_diff_masked_scenEraThree = np.nanmax(param_sonTot_scenEraThree_diff_masked_Missi)\n",
    "print(maxVal_sonTot_diff_masked_scenEraThree)\n",
    "minVal_sonTot_diff_masked_scenEraThree = np.nanmin(param_sonTot_scenEraThree_diff_masked_Missi)\n",
    "print(minVal_sonTot_diff_masked_scenEraThree)"
   ]
  },
  {
   "cell_type": "code",
   "execution_count": 116,
   "metadata": {},
   "outputs": [
    {
     "name": "stdout",
     "output_type": "stream",
     "text": [
      "-7.0\n",
      "-0.0\n"
     ]
    }
   ],
   "source": [
    "vmin_sonTot_scenEraThree = np.floor(minVal_sonTot_diff_masked_scenEraThree)\n",
    "vmax_sonTot_scenEraThree = np.ceil(maxVal_sonTot_diff_masked_scenEraThree)\n",
    "print(vmin_sonTot_scenEraThree)\n",
    "print(vmax_sonTot_scenEraThree)"
   ]
  },
  {
   "cell_type": "code",
   "execution_count": 117,
   "metadata": {},
   "outputs": [
    {
     "name": "stdout",
     "output_type": "stream",
     "text": [
      "8\n"
     ]
    }
   ],
   "source": [
    "nDiv_sonTot_scenEraThree = int(vmax_sonTot_scenEraThree - vmin_sonTot_scenEraThree + 1)\n",
    "print(nDiv_sonTot_scenEraThree)"
   ]
  },
  {
   "cell_type": "code",
   "execution_count": null,
   "metadata": {},
   "outputs": [],
   "source": []
  },
  {
   "cell_type": "markdown",
   "metadata": {},
   "source": [
    "## DJF"
   ]
  },
  {
   "cell_type": "markdown",
   "metadata": {},
   "source": [
    "## ref Period"
   ]
  },
  {
   "cell_type": "code",
   "execution_count": 118,
   "metadata": {},
   "outputs": [],
   "source": [
    "djfMonSt = 12\n",
    "djfMonMid = 1\n",
    "djfMonEnd = 2"
   ]
  },
  {
   "cell_type": "code",
   "execution_count": 119,
   "metadata": {},
   "outputs": [
    {
     "name": "stdout",
     "output_type": "stream",
     "text": [
      "(30, 32, 56)\n",
      "(30, 32, 56)\n",
      "(30, 32, 56)\n"
     ]
    }
   ],
   "source": [
    "\n",
    "param_djfSt_refPeriod_Us_ensmean = param_refPeriod_Us_ensmean[djfMonSt-1::nMonsPerYr]\n",
    "print(param_djfSt_refPeriod_Us_ensmean.shape)\n",
    "\n",
    "param_djfMid_refPeriod_Us_ensmean = param_refPeriod_Us_ensmean[djfMonMid-1::nMonsPerYr]\n",
    "param_djfMid_refPeriod_Us_ensmean = param_djfMid_refPeriod_Us_ensmean[1::]\n",
    "print(param_djfMid_refPeriod_Us_ensmean.shape)\n",
    "\n",
    "param_djfEnd_refPeriod_Us_ensmean = param_refPeriod_Us_ensmean[djfMonEnd-1::nMonsPerYr]\n",
    "param_djfEnd_refPeriod_Us_ensmean = param_djfEnd_refPeriod_Us_ensmean[1::]\n",
    "print(param_djfEnd_refPeriod_Us_ensmean.shape)\n"
   ]
  },
  {
   "cell_type": "code",
   "execution_count": 120,
   "metadata": {},
   "outputs": [
    {
     "name": "stdout",
     "output_type": "stream",
     "text": [
      "(32, 56)\n",
      "(32, 56)\n",
      "(32, 56)\n"
     ]
    }
   ],
   "source": [
    "param_djfSt_refPeriod_Us_ensmean_timeAvg = np.nanmean(param_djfSt_refPeriod_Us_ensmean, axis = 0)\n",
    "print(param_djfSt_refPeriod_Us_ensmean_timeAvg.shape)\n",
    "\n",
    "param_djfMid_refPeriod_Us_ensmean_timeAvg = np.nanmean(param_djfMid_refPeriod_Us_ensmean, axis = 0)\n",
    "print(param_djfMid_refPeriod_Us_ensmean_timeAvg.shape)\n",
    "\n",
    "param_djfEnd_refPeriod_Us_ensmean_timeAvg = np.nanmean(param_djfEnd_refPeriod_Us_ensmean, axis = 0)\n",
    "print(param_djfEnd_refPeriod_Us_ensmean_timeAvg.shape)\n"
   ]
  },
  {
   "cell_type": "code",
   "execution_count": 121,
   "metadata": {},
   "outputs": [
    {
     "name": "stdout",
     "output_type": "stream",
     "text": [
      "(32, 56)\n"
     ]
    }
   ],
   "source": [
    "param_djfTot_refPeriod_Us_ensmean_timeAvg = (param_djfSt_refPeriod_Us_ensmean_timeAvg+param_djfMid_refPeriod_Us_ensmean_timeAvg+param_djfEnd_refPeriod_Us_ensmean_timeAvg)/3\n",
    "print(param_djfTot_refPeriod_Us_ensmean_timeAvg.shape)"
   ]
  },
  {
   "cell_type": "markdown",
   "metadata": {},
   "source": [
    "## Scen Era 1"
   ]
  },
  {
   "cell_type": "code",
   "execution_count": 122,
   "metadata": {},
   "outputs": [
    {
     "name": "stdout",
     "output_type": "stream",
     "text": [
      "(30, 32, 56)\n",
      "(30, 32, 56)\n",
      "(30, 32, 56)\n"
     ]
    }
   ],
   "source": [
    "\n",
    "param_djfSt_scenEraOne_Us_ensmean = param_scenEraOne_Us_ensmean[djfMonSt-1::nMonsPerYr]\n",
    "print(param_djfSt_scenEraOne_Us_ensmean.shape)\n",
    "\n",
    "param_djfMid_scenEraOne_Us_ensmean = param_scenEraOne_Us_ensmean[djfMonMid-1::nMonsPerYr]\n",
    "param_djfMid_scenEraOne_Us_ensmean = param_djfMid_scenEraOne_Us_ensmean[1::]\n",
    "print(param_djfMid_scenEraOne_Us_ensmean.shape)\n",
    "\n",
    "param_djfEnd_scenEraOne_Us_ensmean = param_scenEraOne_Us_ensmean[djfMonEnd-1::nMonsPerYr]\n",
    "param_djfEnd_scenEraOne_Us_ensmean = param_djfEnd_scenEraOne_Us_ensmean[1::]\n",
    "print(param_djfEnd_scenEraOne_Us_ensmean.shape)\n"
   ]
  },
  {
   "cell_type": "code",
   "execution_count": 123,
   "metadata": {},
   "outputs": [
    {
     "name": "stdout",
     "output_type": "stream",
     "text": [
      "(32, 56)\n",
      "(32, 56)\n",
      "(32, 56)\n"
     ]
    }
   ],
   "source": [
    "param_djfSt_scenEraOne_Us_ensmean_timeAvg = np.nanmean(param_djfSt_scenEraOne_Us_ensmean, axis = 0)\n",
    "print(param_djfSt_scenEraOne_Us_ensmean_timeAvg.shape)\n",
    "\n",
    "param_djfMid_scenEraOne_Us_ensmean_timeAvg = np.nanmean(param_djfMid_scenEraOne_Us_ensmean, axis = 0)\n",
    "print(param_djfMid_scenEraOne_Us_ensmean_timeAvg.shape)\n",
    "\n",
    "param_djfEnd_scenEraOne_Us_ensmean_timeAvg = np.nanmean(param_djfEnd_scenEraOne_Us_ensmean, axis = 0)\n",
    "print(param_djfEnd_scenEraOne_Us_ensmean_timeAvg.shape)\n"
   ]
  },
  {
   "cell_type": "code",
   "execution_count": 124,
   "metadata": {},
   "outputs": [
    {
     "name": "stdout",
     "output_type": "stream",
     "text": [
      "(32, 56)\n"
     ]
    }
   ],
   "source": [
    "param_djfTot_scenEraOne_Us_ensmean_timeAvg = (param_djfSt_scenEraOne_Us_ensmean_timeAvg+param_djfMid_scenEraOne_Us_ensmean_timeAvg+param_djfEnd_scenEraOne_Us_ensmean_timeAvg)/3\n",
    "print(param_djfTot_scenEraOne_Us_ensmean_timeAvg.shape)\n"
   ]
  },
  {
   "cell_type": "markdown",
   "metadata": {},
   "source": [
    "## Scen Era 2"
   ]
  },
  {
   "cell_type": "code",
   "execution_count": 125,
   "metadata": {},
   "outputs": [
    {
     "name": "stdout",
     "output_type": "stream",
     "text": [
      "(30, 32, 56)\n",
      "(30, 32, 56)\n",
      "(30, 32, 56)\n"
     ]
    }
   ],
   "source": [
    "\n",
    "param_djfSt_scenEraTwo_Us_ensmean = param_scenEraTwo_Us_ensmean[djfMonSt-1::nMonsPerYr]\n",
    "print(param_djfSt_scenEraTwo_Us_ensmean.shape)\n",
    "\n",
    "param_djfMid_scenEraTwo_Us_ensmean = param_scenEraTwo_Us_ensmean[djfMonMid-1::nMonsPerYr]\n",
    "param_djfMid_scenEraTwo_Us_ensmean = param_djfMid_scenEraTwo_Us_ensmean[1::]\n",
    "print(param_djfMid_scenEraTwo_Us_ensmean.shape)\n",
    "\n",
    "param_djfEnd_scenEraTwo_Us_ensmean = param_scenEraTwo_Us_ensmean[djfMonEnd-1::nMonsPerYr]\n",
    "param_djfEnd_scenEraTwo_Us_ensmean = param_djfEnd_scenEraTwo_Us_ensmean[1::]\n",
    "print(param_djfEnd_scenEraTwo_Us_ensmean.shape)\n"
   ]
  },
  {
   "cell_type": "code",
   "execution_count": 126,
   "metadata": {},
   "outputs": [
    {
     "name": "stdout",
     "output_type": "stream",
     "text": [
      "(32, 56)\n",
      "(32, 56)\n",
      "(32, 56)\n"
     ]
    }
   ],
   "source": [
    "param_djfSt_scenEraTwo_Us_ensmean_timeAvg = np.nanmean(param_djfSt_scenEraTwo_Us_ensmean, axis = 0)\n",
    "print(param_djfSt_scenEraTwo_Us_ensmean_timeAvg.shape)\n",
    "\n",
    "param_djfMid_scenEraTwo_Us_ensmean_timeAvg = np.nanmean(param_djfMid_scenEraTwo_Us_ensmean, axis = 0)\n",
    "print(param_djfMid_scenEraTwo_Us_ensmean_timeAvg.shape)\n",
    "\n",
    "param_djfEnd_scenEraTwo_Us_ensmean_timeAvg = np.nanmean(param_djfEnd_scenEraTwo_Us_ensmean, axis = 0)\n",
    "print(param_djfEnd_scenEraTwo_Us_ensmean_timeAvg.shape)\n"
   ]
  },
  {
   "cell_type": "code",
   "execution_count": 127,
   "metadata": {},
   "outputs": [
    {
     "name": "stdout",
     "output_type": "stream",
     "text": [
      "(32, 56)\n"
     ]
    }
   ],
   "source": [
    "param_djfTot_scenEraTwo_Us_ensmean_timeAvg = (param_djfSt_scenEraTwo_Us_ensmean_timeAvg+param_djfMid_scenEraTwo_Us_ensmean_timeAvg+param_djfEnd_scenEraTwo_Us_ensmean_timeAvg)/3\n",
    "print(param_djfTot_scenEraTwo_Us_ensmean_timeAvg.shape)\n"
   ]
  },
  {
   "cell_type": "markdown",
   "metadata": {},
   "source": [
    "## Scen Era 3"
   ]
  },
  {
   "cell_type": "code",
   "execution_count": 128,
   "metadata": {},
   "outputs": [
    {
     "name": "stdout",
     "output_type": "stream",
     "text": [
      "(26, 32, 56)\n",
      "(26, 32, 56)\n",
      "(26, 32, 56)\n"
     ]
    }
   ],
   "source": [
    "\n",
    "param_djfSt_scenEraThree_Us_ensmean = param_scenEraThree_Us_ensmean[djfMonSt-1::nMonsPerYr]\n",
    "print(param_djfSt_scenEraThree_Us_ensmean.shape)\n",
    "\n",
    "param_djfMid_scenEraThree_Us_ensmean = param_scenEraThree_Us_ensmean[djfMonMid-1::nMonsPerYr]\n",
    "print(param_djfMid_scenEraThree_Us_ensmean.shape)\n",
    "\n",
    "param_djfEnd_scenEraThree_Us_ensmean = param_scenEraThree_Us_ensmean[djfMonEnd-1::nMonsPerYr]\n",
    "print(param_djfEnd_scenEraThree_Us_ensmean.shape)\n"
   ]
  },
  {
   "cell_type": "code",
   "execution_count": 129,
   "metadata": {},
   "outputs": [
    {
     "name": "stdout",
     "output_type": "stream",
     "text": [
      "(32, 56)\n",
      "(32, 56)\n",
      "(32, 56)\n"
     ]
    }
   ],
   "source": [
    "param_djfSt_scenEraThree_Us_ensmean_timeAvg = np.nanmean(param_djfSt_scenEraThree_Us_ensmean, axis = 0)\n",
    "print(param_djfSt_scenEraThree_Us_ensmean_timeAvg.shape)\n",
    "\n",
    "param_djfMid_scenEraThree_Us_ensmean_timeAvg = np.nanmean(param_djfMid_scenEraThree_Us_ensmean, axis = 0)\n",
    "print(param_djfMid_scenEraThree_Us_ensmean_timeAvg.shape)\n",
    "\n",
    "param_djfEnd_scenEraThree_Us_ensmean_timeAvg = np.nanmean(param_djfEnd_scenEraThree_Us_ensmean, axis = 0)\n",
    "print(param_djfEnd_scenEraThree_Us_ensmean_timeAvg.shape)\n"
   ]
  },
  {
   "cell_type": "code",
   "execution_count": 130,
   "metadata": {},
   "outputs": [
    {
     "name": "stdout",
     "output_type": "stream",
     "text": [
      "(32, 56)\n"
     ]
    }
   ],
   "source": [
    "param_djfTot_scenEraThree_Us_ensmean_timeAvg = (param_djfSt_scenEraThree_Us_ensmean_timeAvg+param_djfMid_scenEraThree_Us_ensmean_timeAvg+param_djfEnd_scenEraThree_Us_ensmean_timeAvg)/3\n",
    "print(param_djfTot_scenEraThree_Us_ensmean_timeAvg.shape)\n"
   ]
  },
  {
   "cell_type": "markdown",
   "metadata": {},
   "source": [
    "## Differences at the three Eras"
   ]
  },
  {
   "cell_type": "code",
   "execution_count": 131,
   "metadata": {},
   "outputs": [
    {
     "name": "stdout",
     "output_type": "stream",
     "text": [
      "(32, 56)\n"
     ]
    }
   ],
   "source": [
    "param_djfTot_scenEraOne_pDiff_Us_ensmean_timeAvg = (param_djfTot_scenEraOne_Us_ensmean_timeAvg - param_djfTot_refPeriod_Us_ensmean_timeAvg)\n",
    "print(param_djfTot_scenEraOne_pDiff_Us_ensmean_timeAvg.shape)"
   ]
  },
  {
   "cell_type": "code",
   "execution_count": 132,
   "metadata": {},
   "outputs": [
    {
     "name": "stdout",
     "output_type": "stream",
     "text": [
      "(32, 56)\n"
     ]
    }
   ],
   "source": [
    "param_djfTot_scenEraTwo_pDiff_Us_ensmean_timeAvg = (param_djfTot_scenEraTwo_Us_ensmean_timeAvg - param_djfTot_refPeriod_Us_ensmean_timeAvg)\n",
    "print(param_djfTot_scenEraTwo_pDiff_Us_ensmean_timeAvg.shape)"
   ]
  },
  {
   "cell_type": "code",
   "execution_count": 133,
   "metadata": {},
   "outputs": [
    {
     "name": "stdout",
     "output_type": "stream",
     "text": [
      "(32, 56)\n"
     ]
    }
   ],
   "source": [
    "param_djfTot_scenEraThree_pDiff_Us_ensmean_timeAvg = (param_djfTot_scenEraThree_Us_ensmean_timeAvg - param_djfTot_refPeriod_Us_ensmean_timeAvg)\n",
    "print(param_djfTot_scenEraThree_pDiff_Us_ensmean_timeAvg.shape)"
   ]
  },
  {
   "cell_type": "code",
   "execution_count": null,
   "metadata": {},
   "outputs": [],
   "source": []
  },
  {
   "cell_type": "markdown",
   "metadata": {},
   "source": [
    "## Basin Mask (DJF)"
   ]
  },
  {
   "cell_type": "markdown",
   "metadata": {},
   "source": [
    "## Writing in an Xarray Data array"
   ]
  },
  {
   "cell_type": "code",
   "execution_count": 134,
   "metadata": {},
   "outputs": [
    {
     "name": "stdout",
     "output_type": "stream",
     "text": [
      "(32, 56)\n",
      "<xarray.DataArray (Lat: 32, Lon: 56)>\n",
      "array([[ 0.        ,  0.        ,  0.        , ...,  0.        ,\n",
      "         0.        ,  0.        ],\n",
      "       [ 0.        ,  0.        ,  0.        , ...,  0.        ,\n",
      "         0.        ,  0.        ],\n",
      "       [ 0.        ,  0.        ,  0.        , ...,  0.        ,\n",
      "         0.        ,  0.        ],\n",
      "       ...,\n",
      "       [ 0.        , -6.53103234,  4.84549715, ...,  5.99089418,\n",
      "         6.55533659,  9.4436236 ],\n",
      "       [-7.03514468, -3.19658188,  8.67255088, ...,  2.36467057,\n",
      "         4.01626425,  6.61131227],\n",
      "       [-4.31689411,  6.11035547,  6.09990881, ...,  1.79920508,\n",
      "         1.60767829,  4.06597633]])\n",
      "Coordinates:\n",
      "  * Lat      (Lat) float32 24.97 25.92 26.86 27.8 ... 51.36 52.3 53.25 54.19\n",
      "  * Lon      (Lon) float32 230.0 231.2 232.5 233.8 ... 295.0 296.2 297.5 298.8\n"
     ]
    }
   ],
   "source": [
    "param_djfTot_scenEraOne_diff_Us_xarray = xr.DataArray(param_djfTot_scenEraOne_pDiff_Us_ensmean_timeAvg, coords=[latUs_cesm2, lonUs_cesm2 ], dims=[\"Lat\",\"Lon\"])\n",
    "print(param_djfTot_scenEraOne_diff_Us_xarray.shape)\n",
    "print(param_djfTot_scenEraOne_diff_Us_xarray)"
   ]
  },
  {
   "cell_type": "code",
   "execution_count": 135,
   "metadata": {},
   "outputs": [
    {
     "name": "stdout",
     "output_type": "stream",
     "text": [
      "(32, 56)\n",
      "<xarray.DataArray (Lat: 32, Lon: 56)>\n",
      "array([[  0.        ,   0.        ,   0.        , ...,   0.        ,\n",
      "          0.        ,   0.        ],\n",
      "       [  0.        ,   0.        ,   0.        , ...,   0.        ,\n",
      "          0.        ,   0.        ],\n",
      "       [  0.        ,   0.        ,   0.        , ...,   0.        ,\n",
      "          0.        ,   0.        ],\n",
      "       ...,\n",
      "       [  0.        , -11.62620165,   4.8465008 , ...,   8.84497988,\n",
      "         11.90896854,  14.6038507 ],\n",
      "       [-12.41254187, -12.53632849,  17.82201794, ...,   5.40905463,\n",
      "          7.45537934,   8.57973229],\n",
      "       [-13.17434154,  13.51938758,  14.21047745, ...,   4.07656749,\n",
      "          3.81275709,   7.03786248]])\n",
      "Coordinates:\n",
      "  * Lat      (Lat) float32 24.97 25.92 26.86 27.8 ... 51.36 52.3 53.25 54.19\n",
      "  * Lon      (Lon) float32 230.0 231.2 232.5 233.8 ... 295.0 296.2 297.5 298.8\n"
     ]
    }
   ],
   "source": [
    "param_djfTot_scenEraTwo_diff_Us_xarray = xr.DataArray(param_djfTot_scenEraTwo_pDiff_Us_ensmean_timeAvg, coords=[latUs_cesm2, lonUs_cesm2 ], dims=[\"Lat\",\"Lon\"])\n",
    "print(param_djfTot_scenEraTwo_diff_Us_xarray.shape)\n",
    "print(param_djfTot_scenEraTwo_diff_Us_xarray)"
   ]
  },
  {
   "cell_type": "code",
   "execution_count": 136,
   "metadata": {},
   "outputs": [
    {
     "name": "stdout",
     "output_type": "stream",
     "text": [
      "(32, 56)\n",
      "<xarray.DataArray (Lat: 32, Lon: 56)>\n",
      "array([[  0.        ,   0.        ,   0.        , ...,   0.        ,\n",
      "          0.        ,   0.        ],\n",
      "       [  0.        ,   0.        ,   0.        , ...,   0.        ,\n",
      "          0.        ,   0.        ],\n",
      "       [  0.        ,   0.        ,   0.        , ...,   0.        ,\n",
      "          0.        ,   0.        ],\n",
      "       ...,\n",
      "       [  0.        , -14.73766065,  -8.06679256, ...,  12.83626661,\n",
      "         17.55945486,  18.96822407],\n",
      "       [-16.09429109, -30.16439162,  24.80726102, ...,   9.97227776,\n",
      "         12.11859003,  12.25347659],\n",
      "       [-29.01725671,  17.5945664 ,  23.78132162, ...,   8.09870188,\n",
      "          7.78146785,  11.61650912]])\n",
      "Coordinates:\n",
      "  * Lat      (Lat) float32 24.97 25.92 26.86 27.8 ... 51.36 52.3 53.25 54.19\n",
      "  * Lon      (Lon) float32 230.0 231.2 232.5 233.8 ... 295.0 296.2 297.5 298.8\n"
     ]
    }
   ],
   "source": [
    "param_djfTot_scenEraThree_diff_Us_xarray = xr.DataArray(param_djfTot_scenEraThree_pDiff_Us_ensmean_timeAvg, coords=[latUs_cesm2, lonUs_cesm2 ], dims=[\"Lat\",\"Lon\"])\n",
    "print(param_djfTot_scenEraThree_diff_Us_xarray.shape)\n",
    "print(param_djfTot_scenEraThree_diff_Us_xarray)"
   ]
  },
  {
   "cell_type": "code",
   "execution_count": null,
   "metadata": {},
   "outputs": [],
   "source": []
  },
  {
   "cell_type": "markdown",
   "metadata": {},
   "source": [
    "## Masking files for the Basin Domain only"
   ]
  },
  {
   "cell_type": "markdown",
   "metadata": {},
   "source": [
    "### Mississippi"
   ]
  },
  {
   "cell_type": "code",
   "execution_count": 137,
   "metadata": {},
   "outputs": [
    {
     "name": "stdout",
     "output_type": "stream",
     "text": [
      "(32, 56)\n",
      "<xarray.DataArray (Lat: 32, Lon: 56)>\n",
      "array([[nan, nan, nan, ..., nan, nan, nan],\n",
      "       [nan, nan, nan, ..., nan, nan, nan],\n",
      "       [nan, nan, nan, ..., nan, nan, nan],\n",
      "       ...,\n",
      "       [nan, nan, nan, ..., nan, nan, nan],\n",
      "       [nan, nan, nan, ..., nan, nan, nan],\n",
      "       [nan, nan, nan, ..., nan, nan, nan]])\n",
      "Coordinates:\n",
      "  * Lat      (Lat) float32 24.97 25.92 26.86 27.8 ... 51.36 52.3 53.25 54.19\n",
      "  * Lon      (Lon) float32 230.0 231.2 232.5 233.8 ... 295.0 296.2 297.5 298.8\n"
     ]
    }
   ],
   "source": [
    "param_djfTot_scenEraOne_diff_masked_Missi = param_djfTot_scenEraOne_diff_Us_xarray.where(MaskFile_Missi>0)\n",
    "print(param_djfTot_scenEraOne_diff_masked_Missi.shape)\n",
    "print(param_djfTot_scenEraOne_diff_masked_Missi)"
   ]
  },
  {
   "cell_type": "code",
   "execution_count": 138,
   "metadata": {},
   "outputs": [
    {
     "name": "stdout",
     "output_type": "stream",
     "text": [
      "(32, 56)\n",
      "<xarray.DataArray (Lat: 32, Lon: 56)>\n",
      "array([[nan, nan, nan, ..., nan, nan, nan],\n",
      "       [nan, nan, nan, ..., nan, nan, nan],\n",
      "       [nan, nan, nan, ..., nan, nan, nan],\n",
      "       ...,\n",
      "       [nan, nan, nan, ..., nan, nan, nan],\n",
      "       [nan, nan, nan, ..., nan, nan, nan],\n",
      "       [nan, nan, nan, ..., nan, nan, nan]])\n",
      "Coordinates:\n",
      "  * Lat      (Lat) float32 24.97 25.92 26.86 27.8 ... 51.36 52.3 53.25 54.19\n",
      "  * Lon      (Lon) float32 230.0 231.2 232.5 233.8 ... 295.0 296.2 297.5 298.8\n"
     ]
    }
   ],
   "source": [
    "param_djfTot_scenEraTwo_diff_masked_Missi = param_djfTot_scenEraTwo_diff_Us_xarray.where(MaskFile_Missi>0)\n",
    "print(param_djfTot_scenEraTwo_diff_masked_Missi.shape)\n",
    "print(param_djfTot_scenEraTwo_diff_masked_Missi)"
   ]
  },
  {
   "cell_type": "code",
   "execution_count": 139,
   "metadata": {},
   "outputs": [
    {
     "name": "stdout",
     "output_type": "stream",
     "text": [
      "(32, 56)\n",
      "<xarray.DataArray (Lat: 32, Lon: 56)>\n",
      "array([[nan, nan, nan, ..., nan, nan, nan],\n",
      "       [nan, nan, nan, ..., nan, nan, nan],\n",
      "       [nan, nan, nan, ..., nan, nan, nan],\n",
      "       ...,\n",
      "       [nan, nan, nan, ..., nan, nan, nan],\n",
      "       [nan, nan, nan, ..., nan, nan, nan],\n",
      "       [nan, nan, nan, ..., nan, nan, nan]])\n",
      "Coordinates:\n",
      "  * Lat      (Lat) float32 24.97 25.92 26.86 27.8 ... 51.36 52.3 53.25 54.19\n",
      "  * Lon      (Lon) float32 230.0 231.2 232.5 233.8 ... 295.0 296.2 297.5 298.8\n"
     ]
    }
   ],
   "source": [
    "param_djfTot_scenEraThree_diff_masked_Missi = param_djfTot_scenEraThree_diff_Us_xarray.where(MaskFile_Missi>0)\n",
    "print(param_djfTot_scenEraThree_diff_masked_Missi.shape)\n",
    "print(param_djfTot_scenEraThree_diff_masked_Missi)"
   ]
  },
  {
   "cell_type": "code",
   "execution_count": null,
   "metadata": {},
   "outputs": [],
   "source": []
  },
  {
   "cell_type": "markdown",
   "metadata": {},
   "source": [
    "## Find max and min values"
   ]
  },
  {
   "cell_type": "code",
   "execution_count": 140,
   "metadata": {},
   "outputs": [
    {
     "name": "stdout",
     "output_type": "stream",
     "text": [
      "18.801760784579272\n",
      "-21.249889947421117\n"
     ]
    }
   ],
   "source": [
    "maxVal_djfTot_diff_masked_scenEraOne = np.nanmax(param_djfTot_scenEraOne_diff_masked_Missi)\n",
    "print(maxVal_djfTot_diff_masked_scenEraOne)\n",
    "minVal_djfTot_diff_masked_scenEraOne = np.nanmin(param_djfTot_scenEraOne_diff_masked_Missi)\n",
    "print(minVal_djfTot_diff_masked_scenEraOne)"
   ]
  },
  {
   "cell_type": "code",
   "execution_count": 141,
   "metadata": {},
   "outputs": [
    {
     "name": "stdout",
     "output_type": "stream",
     "text": [
      "29.5947496907694\n",
      "-30.81077371268112\n"
     ]
    }
   ],
   "source": [
    "maxVal_djfTot_diff_masked_scenEraTwo = np.nanmax(param_djfTot_scenEraTwo_diff_masked_Missi)\n",
    "print(maxVal_djfTot_diff_masked_scenEraTwo)\n",
    "minVal_djfTot_diff_masked_scenEraTwo = np.nanmin(param_djfTot_scenEraTwo_diff_masked_Missi)\n",
    "print(minVal_djfTot_diff_masked_scenEraTwo)"
   ]
  },
  {
   "cell_type": "code",
   "execution_count": 142,
   "metadata": {},
   "outputs": [
    {
     "name": "stdout",
     "output_type": "stream",
     "text": [
      "40.24679136417889\n",
      "-38.174530208727376\n"
     ]
    }
   ],
   "source": [
    "maxVal_djfTot_diff_masked_scenEraThree = np.nanmax(param_djfTot_scenEraThree_diff_masked_Missi)\n",
    "print(maxVal_djfTot_diff_masked_scenEraThree)\n",
    "minVal_djfTot_diff_masked_scenEraThree = np.nanmin(param_djfTot_scenEraThree_diff_masked_Missi)\n",
    "print(minVal_djfTot_diff_masked_scenEraThree)"
   ]
  },
  {
   "cell_type": "code",
   "execution_count": 143,
   "metadata": {},
   "outputs": [
    {
     "name": "stdout",
     "output_type": "stream",
     "text": [
      "-39.0\n",
      "41.0\n"
     ]
    }
   ],
   "source": [
    "vmin_djfTot_scenEraThree = np.floor(minVal_djfTot_diff_masked_scenEraThree)\n",
    "vmax_djfTot_scenEraThree = np.ceil(maxVal_djfTot_diff_masked_scenEraThree)\n",
    "print(vmin_djfTot_scenEraThree)\n",
    "print(vmax_djfTot_scenEraThree)"
   ]
  },
  {
   "cell_type": "code",
   "execution_count": 144,
   "metadata": {},
   "outputs": [
    {
     "name": "stdout",
     "output_type": "stream",
     "text": [
      "81\n"
     ]
    }
   ],
   "source": [
    "nDiv_djfTot_scenEraThree = int(vmax_djfTot_scenEraThree - vmin_djfTot_scenEraThree + 1)\n",
    "print(nDiv_djfTot_scenEraThree)"
   ]
  },
  {
   "cell_type": "code",
   "execution_count": 145,
   "metadata": {},
   "outputs": [
    {
     "name": "stdout",
     "output_type": "stream",
     "text": [
      "43\n"
     ]
    }
   ],
   "source": [
    "nDiv_djfTot_scenEraThree = int(vmax_djfTot_scenEraThree - vmin_jjaTot_scenEraThree + 1)\n",
    "print(nDiv_djfTot_scenEraThree)"
   ]
  },
  {
   "cell_type": "code",
   "execution_count": 146,
   "metadata": {},
   "outputs": [
    {
     "name": "stdout",
     "output_type": "stream",
     "text": [
      "84\n"
     ]
    }
   ],
   "source": [
    "nDiv_seasonMax = int(vmax_mamTot_scenEraThree - vmin_mamTot_scenEraThree + 1)\n",
    "print(nDiv_seasonMax)"
   ]
  },
  {
   "cell_type": "code",
   "execution_count": null,
   "metadata": {},
   "outputs": [],
   "source": []
  },
  {
   "cell_type": "code",
   "execution_count": null,
   "metadata": {},
   "outputs": [],
   "source": []
  },
  {
   "cell_type": "markdown",
   "metadata": {},
   "source": [
    "## Figure formatting"
   ]
  },
  {
   "cell_type": "code",
   "execution_count": 147,
   "metadata": {},
   "outputs": [
    {
     "name": "stdout",
     "output_type": "stream",
     "text": [
      "[<GeoAxesSubplot:>, <GeoAxesSubplot:>, <GeoAxesSubplot:>, <GeoAxesSubplot:>, <GeoAxesSubplot:>, <GeoAxesSubplot:>, <GeoAxesSubplot:>, <GeoAxesSubplot:>, <GeoAxesSubplot:>, <GeoAxesSubplot:>, <GeoAxesSubplot:>, <GeoAxesSubplot:>]\n"
     ]
    },
    {
     "name": "stderr",
     "output_type": "stream",
     "text": [
      "<ipython-input-147-24361eb63b8a>:83: MatplotlibDeprecationWarning: Case-insensitive properties were deprecated in 3.3 and support will be removed two minor releases later\n",
      "  ax1.set_yticklabels(latTickLebelsStr, fontSize = tickFontSize)\n",
      "<ipython-input-147-24361eb63b8a>:84: MatplotlibDeprecationWarning: Case-insensitive properties were deprecated in 3.3 and support will be removed two minor releases later\n",
      "  ax1.set_xticklabels('', fontSize = tickFontSize)\n",
      "<ipython-input-147-24361eb63b8a>:110: MatplotlibDeprecationWarning: Case-insensitive properties were deprecated in 3.3 and support will be removed two minor releases later\n",
      "  ax2.set_yticklabels('', fontSize = tickFontSize)\n",
      "<ipython-input-147-24361eb63b8a>:114: MatplotlibDeprecationWarning: Case-insensitive properties were deprecated in 3.3 and support will be removed two minor releases later\n",
      "  ax2.set_xticklabels('', fontSize = tickFontSize)\n",
      "<ipython-input-147-24361eb63b8a>:139: MatplotlibDeprecationWarning: Case-insensitive properties were deprecated in 3.3 and support will be removed two minor releases later\n",
      "  ax3.set_yticklabels('', fontSize = tickFontSize)\n",
      "<ipython-input-147-24361eb63b8a>:143: MatplotlibDeprecationWarning: Case-insensitive properties were deprecated in 3.3 and support will be removed two minor releases later\n",
      "  ax3.set_xticklabels('', fontSize = tickFontSize)\n",
      "<ipython-input-147-24361eb63b8a>:173: MatplotlibDeprecationWarning: Case-insensitive properties were deprecated in 3.3 and support will be removed two minor releases later\n",
      "  ax4.set_yticklabels(latTickLebelsStr, fontSize = tickFontSize)\n",
      "<ipython-input-147-24361eb63b8a>:174: MatplotlibDeprecationWarning: Case-insensitive properties were deprecated in 3.3 and support will be removed two minor releases later\n",
      "  ax4.set_xticklabels('', fontSize = tickFontSize)\n",
      "<ipython-input-147-24361eb63b8a>:198: MatplotlibDeprecationWarning: Case-insensitive properties were deprecated in 3.3 and support will be removed two minor releases later\n",
      "  ax5.set_yticklabels('', fontSize = tickFontSize)\n",
      "<ipython-input-147-24361eb63b8a>:202: MatplotlibDeprecationWarning: Case-insensitive properties were deprecated in 3.3 and support will be removed two minor releases later\n",
      "  ax5.set_xticklabels('', fontSize = tickFontSize)\n",
      "<ipython-input-147-24361eb63b8a>:224: MatplotlibDeprecationWarning: Case-insensitive properties were deprecated in 3.3 and support will be removed two minor releases later\n",
      "  ax6.set_yticklabels('', fontSize = tickFontSize)\n",
      "<ipython-input-147-24361eb63b8a>:228: MatplotlibDeprecationWarning: Case-insensitive properties were deprecated in 3.3 and support will be removed two minor releases later\n",
      "  ax6.set_xticklabels('', fontSize = tickFontSize)\n",
      "<ipython-input-147-24361eb63b8a>:254: MatplotlibDeprecationWarning: Case-insensitive properties were deprecated in 3.3 and support will be removed two minor releases later\n",
      "  ax7.set_yticklabels(latTickLebelsStr, fontSize = tickFontSize)\n",
      "<ipython-input-147-24361eb63b8a>:256: MatplotlibDeprecationWarning: Case-insensitive properties were deprecated in 3.3 and support will be removed two minor releases later\n",
      "  ax7.set_xticklabels('', fontSize = tickFontSize)\n",
      "<ipython-input-147-24361eb63b8a>:280: MatplotlibDeprecationWarning: Case-insensitive properties were deprecated in 3.3 and support will be removed two minor releases later\n",
      "  ax8.set_yticklabels('', fontSize = tickFontSize)\n",
      "<ipython-input-147-24361eb63b8a>:284: MatplotlibDeprecationWarning: Case-insensitive properties were deprecated in 3.3 and support will be removed two minor releases later\n",
      "  ax8.set_xticklabels('', fontSize = tickFontSize)\n",
      "<ipython-input-147-24361eb63b8a>:307: MatplotlibDeprecationWarning: Case-insensitive properties were deprecated in 3.3 and support will be removed two minor releases later\n",
      "  ax9.set_yticklabels('', fontSize = tickFontSize)\n",
      "<ipython-input-147-24361eb63b8a>:311: MatplotlibDeprecationWarning: Case-insensitive properties were deprecated in 3.3 and support will be removed two minor releases later\n",
      "  ax9.set_xticklabels('', fontSize = tickFontSize)\n",
      "<ipython-input-147-24361eb63b8a>:338: MatplotlibDeprecationWarning: Case-insensitive properties were deprecated in 3.3 and support will be removed two minor releases later\n",
      "  ax10.set_yticklabels(latTickLebelsStr, fontSize = tickFontSize)\n",
      "<ipython-input-147-24361eb63b8a>:339: MatplotlibDeprecationWarning: Case-insensitive properties were deprecated in 3.3 and support will be removed two minor releases later\n",
      "  ax10.set_xticklabels(lonTickLebelsStr, fontSize = tickFontSize)\n",
      "<ipython-input-147-24361eb63b8a>:377: MatplotlibDeprecationWarning: Case-insensitive properties were deprecated in 3.3 and support will be removed two minor releases later\n",
      "  ax11.set_yticklabels('', fontSize = tickFontSize)\n",
      "<ipython-input-147-24361eb63b8a>:379: MatplotlibDeprecationWarning: Case-insensitive properties were deprecated in 3.3 and support will be removed two minor releases later\n",
      "  ax11.set_xticklabels(lonTickLebelsStr, fontSize = tickFontSize)\n",
      "<ipython-input-147-24361eb63b8a>:403: MatplotlibDeprecationWarning: Case-insensitive properties were deprecated in 3.3 and support will be removed two minor releases later\n",
      "  ax12.set_yticklabels('', fontSize = tickFontSize)\n",
      "<ipython-input-147-24361eb63b8a>:407: MatplotlibDeprecationWarning: Case-insensitive properties were deprecated in 3.3 and support will be removed two minor releases later\n",
      "  ax12.set_xticklabels(lonTickLebelsStr, fontSize = tickFontSize)\n",
      "<ipython-input-147-24361eb63b8a>:418: UserWarning: This figure was using constrained_layout, but that is incompatible with subplots_adjust and/or tight_layout; disabling constrained_layout.\n",
      "  plt.subplots_adjust(left=0.13,\n",
      "C:\\Users\\muham\\anaconda3\\lib\\site-packages\\cartopy\\mpl\\style.py:90: UserWarning: facecolor will have no effect as it has been defined as \"never\".\n",
      "  warnings.warn('facecolor will have no effect as it has been '\n"
     ]
    },
    {
     "data": {
      "image/png": "[encoded data removed]",
      "text/plain": [
       "<Figure size 792x360 with 13 Axes>"
      ]
     },
     "metadata": {
      "needs_background": "light"
     },
     "output_type": "display_data"
    }
   ],
   "source": [
    "\n",
    "fraction_seasonMax = 3.9\n",
    "nDiv_seasonMax = int(vmax_djfTot_scenEraThree - vmin_mamTot_scenEraThree + 1)\n",
    "#+++++++++++++++++++++++++++++++++++++++++++++++++++++++++++++++++++++++++++++++++++\n",
    "\n",
    "tickFontSize = 9\n",
    "textFontSize = 11\n",
    "legendFontSize = 10\n",
    "titleFontSize = 11\n",
    "\n",
    "cbarTickFontSize = 10\n",
    "cbarTextFontSize = 13\n",
    "\n",
    "\n",
    "linewidth = 0.7\n",
    "\n",
    "#+++++++++++++++++++++++++++++++++++++++++++++++++++++++++++++++++++++++++++++++++++\n",
    "\n",
    "\n",
    "# Plot for August\n",
    "#   https://stackoverflow.com/questions/7404116/defining-the-midpoint-of-a-colormap-in-matplotlib\n",
    "class MidpointNormalize(mpl.colors.Normalize):\n",
    "    def __init__(self, vmin, vmax, midpoint=0, clip=False):\n",
    "        self.midpoint = midpoint\n",
    "        mpl.colors.Normalize.__init__(self, vmin, vmax, clip)\n",
    "\n",
    "    def __call__(self, value, clip=None):\n",
    "        normalized_min = max(0, 1 / 2 * (1 - abs((self.midpoint - self.vmin) / (self.midpoint - self.vmax))))\n",
    "        normalized_max = min(1, 1 / 2 * (1 + abs((self.vmax - self.midpoint) / (self.midpoint - self.vmin))))\n",
    "        normalized_mid = 0.5\n",
    "        x, y = [self.vmin, self.midpoint, self.vmax], [normalized_min, normalized_mid, normalized_max]\n",
    "        return np.ma.masked_array(np.interp(value, x, y))\n",
    "\n",
    "\n",
    "norm = MidpointNormalize(vmin=vmin_mamTot_scenEraThree, vmax=vmax_djfTot_scenEraThree+0, midpoint=0)\n",
    "levels = np.linspace(vmin_mamTot_scenEraThree, vmax_djfTot_scenEraThree+0, int(nDiv_seasonMax/fraction_seasonMax)) # to draw 11 levels\n",
    "boundaries=np.linspace(vmin_mamTot_scenEraThree,vmax_djfTot_scenEraThree+0, int(nDiv_seasonMax/fraction_seasonMax))\n",
    "\n",
    "\n",
    "latTickLebelsStr = ['27', '37', '47', ]\n",
    "lonTickLebelsStr = ['115', '105', '95', '85', '75',]\n",
    "\n",
    "latTicks = [27, 37, 47]\n",
    "lonTicks = [-115, -105, -95, -85, -75]\n",
    "\n",
    "yLimLow = 27\n",
    "yLimHigh = 52.5\n",
    "\n",
    "xLimLow = -115\n",
    "xLimHigh = -75\n",
    "#+++++++++++++++++++++++++++++++++++++++++\n",
    "\n",
    "fig = plt.figure(figsize=(11, 5), constrained_layout=True)\n",
    "axs = [plt.subplot(4, 3, x + 1, projection = ccrs.PlateCarree()) for x in range(12)]\n",
    "\n",
    "print(axs)\n",
    "ax1 = axs[0]\n",
    "\n",
    "cp1 = ax1.contourf(x_Us, y_Us,param_djfTot_scenEraOne_diff_masked_Missi,transform=ccrs.PlateCarree(),cmap=cm.BrBG,levels = levels,norm=norm,)\n",
    "                              \n",
    "plt.grid(b=True, which='major', color='#666666', linestyle='-')\n",
    "\n",
    "\n",
    "ax1.add_feature(cfeature.RIVERS.with_scale('110m'), color='b', label='Rivers')     # couche rivières = was 50 m\n",
    "missi = cfeature.ShapelyFeature(basin_Missi, ccrs.PlateCarree())\n",
    "arkansas = cfeature.ShapelyFeature(basin_Arkansas, ccrs.PlateCarree())\n",
    "missouri = cfeature.ShapelyFeature(basin_Missouri, ccrs.PlateCarree())\n",
    "ohio = cfeature.ShapelyFeature(basin_Ohio, ccrs.PlateCarree())\n",
    "\n",
    "ax1.add_feature(missi,facecolor='none',edgecolor='black',linewidth=linewidth) # Mississippi\n",
    "ax1.add_feature(arkansas,facecolor='none',edgecolor='black',linewidth=linewidth) # Arkansas\n",
    "ax1.add_feature(missouri,facecolor='none',edgecolor='black',linewidth=linewidth) # Missouri\n",
    "ax1.add_feature(ohio,facecolor='none',edgecolor='black',linewidth=linewidth) # Ohio\n",
    "\n",
    "ax1.add_feature(cfeature.COASTLINE)\n",
    "ax1.set_xlim([xLimLow, xLimHigh])\n",
    "ax1.set_ylim([yLimLow, yLimHigh])\n",
    "\n",
    "ax1.set_yticks(latTicks) \n",
    "ax1.set_xticks(lonTicks) \n",
    "\n",
    "latTickLebelsStr = ['27', '37', '47', ]\n",
    "\n",
    "ax1.set_yticklabels(latTickLebelsStr, fontSize = tickFontSize)\n",
    "ax1.set_xticklabels('', fontSize = tickFontSize)\n",
    "\n",
    "ax1.set_title('(a)', x = 0.45, y=1.08, pad=-14, fontsize = textFontSize,loc='left')\n",
    "\n",
    "ax1.text(-108.0, 54, r'2015-2044', fontsize=titleFontSize)\n",
    "#++++++++++++++++++++++++++++++++++++++++++++++++++++++++++++++++++++++++++++++++++++++++++++++++++\n",
    "\n",
    "ax2 = axs[1]\n",
    "cp2 = ax2.contourf(x_Us, y_Us,param_djfTot_scenEraTwo_diff_masked_Missi,transform=ccrs.PlateCarree(),cmap=cm.BrBG,levels = levels,norm=norm,)\n",
    "\n",
    "p2 = ax2.get_position().get_points().flatten()\n",
    "\n",
    "plt.grid(b=True, which='major', color='#666666', linestyle='-')\n",
    "ax2.add_feature(cfeature.RIVERS.with_scale('110m'), color='b', label='Rivers')     # couche rivières = was 50 m\n",
    "\n",
    "ax2.add_feature(missi,facecolor='none',edgecolor='black',linewidth=linewidth) # Mississippi\n",
    "ax2.add_feature(arkansas,facecolor='none',edgecolor='black',linewidth=linewidth) # Arkansas\n",
    "ax2.add_feature(missouri,facecolor='none',edgecolor='black',linewidth=linewidth) # Missouri\n",
    "ax2.add_feature(ohio,facecolor='none',edgecolor='black',linewidth=linewidth) # Ohio\n",
    "\n",
    "ax2.add_feature(cfeature.COASTLINE)\n",
    "ax2.set_xlim([xLimLow, xLimHigh])\n",
    "ax2.set_ylim([yLimLow, yLimHigh])\n",
    "\n",
    "ax2.set_yticks(latTicks) \n",
    "\n",
    "ax2.set_yticklabels('', fontSize = tickFontSize)\n",
    "\n",
    "ax2.set_xticks(lonTicks) \n",
    "\n",
    "ax2.set_xticklabels('', fontSize = tickFontSize)\n",
    "\n",
    "ax2.set_title('(b)', x = 0.45, y=1.08, pad=-14, fontsize = textFontSize,loc='left')\n",
    "ax2.text(-108.0, 54, r'2045-2074', fontsize=titleFontSize)\n",
    "#+++++++++++++++++++++++++++++++++++++++++++++++++++++++++++++++++++++++++++++++++++++++++++++++++\n",
    "#+++++++++++++++++++++++++++++++++++++++++++++++++++++++++++++++++++++++++++++++++++++++++++++++++\n",
    "\n",
    "\n",
    "ax3 = axs[2]\n",
    "cp3 = ax3.contourf(x_Us, y_Us,param_djfTot_scenEraThree_diff_masked_Missi,transform=ccrs.PlateCarree(),cmap=cm.BrBG,levels = levels,norm=norm,)\n",
    "\n",
    "plt.grid(b=True, which='major', color='#666666', linestyle='-')\n",
    "ax3.add_feature(cfeature.RIVERS.with_scale('110m'), color='b', label='Rivers')     # couche rivières = was 50 m\n",
    "\n",
    "ax3.add_feature(missi,facecolor='none',edgecolor='black',linewidth=linewidth) # Mississippi\n",
    "ax3.add_feature(arkansas,facecolor='none',edgecolor='black',linewidth=linewidth) # Arkansas\n",
    "ax3.add_feature(missouri,facecolor='none',edgecolor='black',linewidth=linewidth) # Missouri\n",
    "ax3.add_feature(ohio,facecolor='none',edgecolor='black',linewidth=linewidth) # Ohio\n",
    "\n",
    "ax3.add_feature(cfeature.COASTLINE)\n",
    "ax3.set_xlim([xLimLow, xLimHigh])\n",
    "ax3.set_ylim([yLimLow, yLimHigh])\n",
    "\n",
    "ax3.set_yticks(latTicks) \n",
    "\n",
    "ax3.set_yticklabels('', fontSize = tickFontSize)\n",
    "\n",
    "ax3.set_xticks(lonTicks) \n",
    "\n",
    "ax3.set_xticklabels('', fontSize = tickFontSize)\n",
    "\n",
    "ax3.set_title('(c)', x = 0.45, y=1.08, pad=-14, fontsize = textFontSize,loc='left')\n",
    "\n",
    "ax3.text(-108.0, 54, r'2075-2100', fontsize=titleFontSize)\n",
    "#+++++++++++++++++++++++++++++++++++++++++++++++++++++++++++++++++++++++++++++++++++++++++++\n",
    "#+++++++++++++++++++++++++++++++++++++++++++++++++++++++++++++++++++++++++++++++++++++++++++\n",
    "\n",
    "\n",
    "ax4 = axs[3]\n",
    "cp4 = ax4.contourf(x_Us, y_Us,param_mamTot_scenEraOne_diff_masked_Missi,transform=ccrs.PlateCarree(),cmap=cm.BrBG,levels = levels,norm=norm,)\n",
    "\n",
    "plt.grid(b=True, which='major', color='#666666', linestyle='-')\n",
    "\n",
    "\n",
    "ax4.add_feature(cfeature.RIVERS.with_scale('110m'), color='b', label='Rivers')     # couche rivières = was 50 m\n",
    "ax4.add_feature(missi,facecolor='none',edgecolor='black',linewidth=linewidth) # Mississippi\n",
    "ax4.add_feature(arkansas,facecolor='none',edgecolor='black',linewidth=linewidth) # Arkansas\n",
    "ax4.add_feature(missouri,facecolor='none',edgecolor='black',linewidth=linewidth) # Missouri\n",
    "ax4.add_feature(ohio,facecolor='none',edgecolor='black',linewidth=linewidth) # Ohio\n",
    "\n",
    "ax4.add_feature(cfeature.COASTLINE)\n",
    "\n",
    "ax4.set_xlim([xLimLow, xLimHigh])\n",
    "ax4.set_ylim([yLimLow, yLimHigh])\n",
    "\n",
    "ax4.set_yticks(latTicks) \n",
    "\n",
    "ax4.set_xticks(lonTicks) \n",
    "\n",
    "ax4.set_yticklabels(latTickLebelsStr, fontSize = tickFontSize)\n",
    "ax4.set_xticklabels('', fontSize = tickFontSize)\n",
    "\n",
    "ax4.set_ylabel('Latitude (°N)', fontsize = textFontSize, y=-0.15)\n",
    "ax4.set_title('(d)', x = 0.45, y=1.08, pad=-14, fontsize = textFontSize,loc='left')\n",
    "#+++++++++++++++++++++++++++++++++++++++++++++++++++++++++++++++++++++++++++\n",
    "\n",
    "ax5 = axs[4]\n",
    "cp5 = ax5.contourf(x_Us, y_Us,param_mamTot_scenEraTwo_diff_masked_Missi,transform=ccrs.PlateCarree(),cmap=cm.BrBG,levels = levels,norm=norm,)\n",
    "\n",
    "p5 = ax5.get_position().get_points().flatten()\n",
    "plt.grid(b=True, which='major', color='#666666', linestyle='-')\n",
    "ax5.add_feature(cfeature.RIVERS.with_scale('110m'), color='b', label='Rivers')     # couche rivières = was 50 m\n",
    "\n",
    "ax5.add_feature(missi,facecolor='none',edgecolor='black',linewidth=linewidth) # Mississippi\n",
    "ax5.add_feature(arkansas,facecolor='none',edgecolor='black',linewidth=linewidth) # Arkansas\n",
    "ax5.add_feature(missouri,facecolor='none',edgecolor='black',linewidth=linewidth) # Missouri\n",
    "ax5.add_feature(ohio,facecolor='none',edgecolor='black',linewidth=linewidth) # Ohio\n",
    "\n",
    "ax5.add_feature(cfeature.COASTLINE)\n",
    "ax5.set_xlim([xLimLow, xLimHigh])\n",
    "ax5.set_ylim([yLimLow, yLimHigh])\n",
    "\n",
    "ax5.set_yticks(latTicks) \n",
    "\n",
    "ax5.set_yticklabels('', fontSize = tickFontSize)\n",
    "\n",
    "ax5.set_xticks(lonTicks) \n",
    "\n",
    "ax5.set_xticklabels('', fontSize = tickFontSize)\n",
    "\n",
    "ax5.set_title('(e)', x = 0.45, y=1.08, pad=-14, fontsize = textFontSize,loc='left')\n",
    "#+++++++++++++++++++++++++++++++++++++++++++++++++++++++++++++++++++++++++++++++++++++++++++++++++\n",
    "\n",
    "ax6 = axs[5]\n",
    "cp6 = ax6.contourf(x_Us, y_Us,param_mamTot_scenEraThree_diff_masked_Missi,transform=ccrs.PlateCarree(),cmap=cm.BrBG,levels = levels,norm=norm,)\n",
    "\n",
    "plt.grid(b=True, which='major', color='#666666', linestyle='-')\n",
    "ax6.add_feature(cfeature.RIVERS.with_scale('110m'), color='b', label='Rivers')     # couche rivières = was 50 m\n",
    "\n",
    "ax6.add_feature(missi,facecolor='none',edgecolor='black',linewidth=linewidth) # Mississippi\n",
    "ax6.add_feature(arkansas,facecolor='none',edgecolor='black',linewidth=linewidth) # Arkansas\n",
    "ax6.add_feature(missouri,facecolor='none',edgecolor='black',linewidth=linewidth) # Missouri\n",
    "ax6.add_feature(ohio,facecolor='none',edgecolor='black',linewidth=linewidth) # Ohio\n",
    "\n",
    "ax6.add_feature(cfeature.COASTLINE)\n",
    "ax6.set_xlim([xLimLow, xLimHigh])\n",
    "ax6.set_ylim([yLimLow, yLimHigh])\n",
    "\n",
    "ax6.set_yticks(latTicks) \n",
    "\n",
    "ax6.set_yticklabels('', fontSize = tickFontSize)\n",
    "\n",
    "ax6.set_xticks(lonTicks) \n",
    "\n",
    "ax6.set_xticklabels('', fontSize = tickFontSize)\n",
    "ax6.set_title('(f)', x = 0.45, y=1.08, pad=-14, fontsize = textFontSize,loc='left')\n",
    "#+++++++++++++++++++++++++++++++++++++++++++++++++++++++++++++++++++++++++++++++++++++++++++\n",
    "\n",
    "\n",
    "ax7 = axs[6]\n",
    "cp7 = ax7.contourf(x_Us, y_Us,param_jjaTot_scenEraOne_diff_masked_Missi,transform=ccrs.PlateCarree(),cmap=cm.BrBG,levels = levels,norm=norm,)\n",
    "\n",
    "plt.grid(b=True, which='major', color='#666666', linestyle='-')\n",
    "\n",
    "\n",
    "ax7.add_feature(cfeature.RIVERS.with_scale('110m'), color='b', label='Rivers')     # couche rivières = was 50 m\n",
    "ax7.add_feature(missi,facecolor='none',edgecolor='black',linewidth=linewidth) # Mississippi\n",
    "ax7.add_feature(arkansas,facecolor='none',edgecolor='black',linewidth=linewidth) # Arkansas\n",
    "ax7.add_feature(missouri,facecolor='none',edgecolor='black',linewidth=linewidth) # Missouri\n",
    "ax7.add_feature(ohio,facecolor='none',edgecolor='black',linewidth=linewidth) # Ohio\n",
    "\n",
    "ax7.add_feature(cfeature.COASTLINE)\n",
    "\n",
    "ax7.set_xlim([xLimLow, xLimHigh])\n",
    "ax7.set_ylim([yLimLow, yLimHigh])\n",
    "\n",
    "ax7.set_yticks(latTicks) \n",
    "\n",
    "ax7.set_xticks(lonTicks) \n",
    "\n",
    "ax7.set_yticklabels(latTickLebelsStr, fontSize = tickFontSize)\n",
    "\n",
    "ax7.set_xticklabels('', fontSize = tickFontSize)\n",
    "\n",
    "ax7.set_title('(g)', x = 0.45, y=1.08, pad=-14, fontsize = textFontSize,loc='left')\n",
    "#+++++++++++++++++++++++++++++++++++++++++++++++++++++++++++++++++++++++++++\n",
    "\n",
    "ax8 = axs[7]\n",
    "cp8 = ax8.contourf(x_Us, y_Us,param_jjaTot_scenEraTwo_diff_masked_Missi,transform=ccrs.PlateCarree(),cmap=cm.BrBG,levels = levels,norm=norm,)\n",
    "\n",
    "p8 = ax8.get_position().get_points().flatten()\n",
    "\n",
    "plt.grid(b=True, which='major', color='#666666', linestyle='-')\n",
    "ax8.add_feature(cfeature.RIVERS.with_scale('110m'), color='b', label='Rivers')     # couche rivières = was 50 m\n",
    "\n",
    "ax8.add_feature(missi,facecolor='none',edgecolor='black',linewidth=linewidth) # Mississippi\n",
    "ax8.add_feature(arkansas,facecolor='none',edgecolor='black',linewidth=linewidth) # Arkansas\n",
    "ax8.add_feature(missouri,facecolor='none',edgecolor='black',linewidth=linewidth) # Missouri\n",
    "ax8.add_feature(ohio,facecolor='none',edgecolor='black',linewidth=linewidth) # Ohio\n",
    "\n",
    "ax8.add_feature(cfeature.COASTLINE)\n",
    "ax8.set_xlim([xLimLow, xLimHigh])\n",
    "ax8.set_ylim([yLimLow, yLimHigh])\n",
    "\n",
    "ax8.set_yticks(latTicks) \n",
    "\n",
    "ax8.set_yticklabels('', fontSize = tickFontSize)\n",
    "\n",
    "ax8.set_xticks(lonTicks) \n",
    "\n",
    "ax8.set_xticklabels('', fontSize = tickFontSize)\n",
    "\n",
    "ax8.set_title('(h)', x = 0.45, y=1.08, pad=-14, fontsize = textFontSize,loc='left')\n",
    "\n",
    "#+++++++++++++++++++++++++++++++++++++++++++++++++++++++++++++++++++++++++++++++++++++++++++++++++\n",
    "\n",
    "ax9 = axs[8]\n",
    "cp9 = ax9.contourf(x_Us, y_Us,param_jjaTot_scenEraThree_diff_masked_Missi,transform=ccrs.PlateCarree(),cmap=cm.BrBG,levels = levels,norm=norm,)\n",
    "\n",
    "plt.grid(b=True, which='major', color='#666666', linestyle='-')\n",
    "ax9.add_feature(cfeature.RIVERS.with_scale('110m'), color='b', label='Rivers')     # couche rivières = was 50 m\n",
    "\n",
    "ax9.add_feature(missi,facecolor='none',edgecolor='black',linewidth=linewidth) # Mississippi\n",
    "ax9.add_feature(arkansas,facecolor='none',edgecolor='black',linewidth=linewidth) # Arkansas\n",
    "ax9.add_feature(missouri,facecolor='none',edgecolor='black',linewidth=linewidth) # Missouri\n",
    "ax9.add_feature(ohio,facecolor='none',edgecolor='black',linewidth=linewidth) # Ohio\n",
    "\n",
    "ax9.add_feature(cfeature.COASTLINE)\n",
    "ax9.set_xlim([xLimLow, xLimHigh])\n",
    "ax9.set_ylim([yLimLow, yLimHigh])\n",
    "\n",
    "ax9.set_yticks(latTicks) \n",
    "\n",
    "ax9.set_yticklabels('', fontSize = tickFontSize)\n",
    "\n",
    "ax9.set_xticks(lonTicks) \n",
    "\n",
    "ax9.set_xticklabels('', fontSize = tickFontSize)\n",
    "\n",
    "ax9.set_title('(i)', x = 0.45, y=1.08, pad=-14, fontsize = textFontSize,loc='left')\n",
    "#+++++++++++++++++++++++++++++++++++++++++++++++++++++++++++++++++++++++++++++++++++++++++++\n",
    "\n",
    "\n",
    "ax10 = axs[9]\n",
    "cp10 = ax10.contourf(x_Us, y_Us,param_sonTot_scenEraOne_diff_masked_Missi,transform=ccrs.PlateCarree(),cmap=cm.BrBG,levels = levels,norm=norm,)\n",
    "\n",
    "plt.grid(b=True, which='major', color='#666666', linestyle='-')\n",
    "\n",
    "\n",
    "ax10.add_feature(cfeature.RIVERS.with_scale('110m'), color='b', label='Rivers')     # couche rivières = was 50 m\n",
    "ax10.add_feature(missi,facecolor='none',edgecolor='black',linewidth=linewidth) # Mississippi\n",
    "ax10.add_feature(arkansas,facecolor='none',edgecolor='black',linewidth=linewidth) # Arkansas\n",
    "ax10.add_feature(missouri,facecolor='none',edgecolor='black',linewidth=linewidth) # Missouri\n",
    "ax10.add_feature(ohio,facecolor='none',edgecolor='black',linewidth=linewidth) # Ohio\n",
    "\n",
    "ax10.add_feature(cfeature.COASTLINE)\n",
    "\n",
    "ax10.set_xlim([xLimLow, xLimHigh])\n",
    "ax10.set_ylim([yLimLow, yLimHigh])\n",
    "\n",
    "ax10.set_yticks(latTicks) \n",
    "\n",
    "ax10.set_xticks(lonTicks) \n",
    "\n",
    "ax10.set_yticklabels(latTickLebelsStr, fontSize = tickFontSize)\n",
    "ax10.set_xticklabels(lonTickLebelsStr, fontSize = tickFontSize)\n",
    "\n",
    "ax10.set_title('(j)', x = 0.45, y=1.08, pad=-14, fontsize = textFontSize,loc='left')\n",
    "#++++++++++++++++++++++++++++++++++++++++++++++++++++++++++++++++++++++++++++++++++\n",
    "\n",
    "\n",
    "ax11 = axs[10]\n",
    "cp11 = ax11.contourf(x_Us, y_Us,param_sonTot_scenEraTwo_diff_masked_Missi,transform=ccrs.PlateCarree(),cmap=cm.BrBG,levels = levels,norm=norm,)\n",
    "\n",
    "p11 = ax11.get_position().get_points().flatten()\n",
    "cbax11 = fig.add_axes([p11[0]+0.18, +0.02, (p11[2]-p11[0])*0.12, 0.9])\n",
    "\n",
    "cbar11 =plt.colorbar(cp11, ax=ax11, cax=cbax11, shrink=.5, ticks=boundaries, orientation = 'vertical') \n",
    "cbar11.ax.tick_params(labelsize = cbarTickFontSize)  # set your label size here\n",
    "\n",
    "for label in cbar11.ax.yaxis.get_ticklabels()[1::2]:\n",
    "    label.set_visible(False)\n",
    "    \n",
    "cbar11.set_label(\"mm/mon\", fontsize = cbarTextFontSize)\n",
    "\n",
    "\n",
    "plt.grid(b=True, which='major', color='#666666', linestyle='-')\n",
    "ax11.add_feature(cfeature.RIVERS.with_scale('110m'), color='b', label='Rivers')     # couche rivières = was 50 m\n",
    "\n",
    "ax11.add_feature(missi,facecolor='none',edgecolor='black',linewidth=linewidth) # Mississippi\n",
    "ax11.add_feature(arkansas,facecolor='none',edgecolor='black',linewidth=linewidth) # Arkansas\n",
    "ax11.add_feature(missouri,facecolor='none',edgecolor='black',linewidth=linewidth) # Missouri\n",
    "ax11.add_feature(ohio,facecolor='none',edgecolor='black',linewidth=linewidth) # Ohio\n",
    "\n",
    "ax11.add_feature(cfeature.COASTLINE)\n",
    "ax11.set_xlim([xLimLow, xLimHigh])\n",
    "ax11.set_ylim([yLimLow, yLimHigh])\n",
    "\n",
    "\n",
    "ax11.set_yticks(latTicks) \n",
    "\n",
    "ax11.set_xticks(lonTicks) \n",
    "\n",
    "ax11.set_yticklabels('', fontSize = tickFontSize)\n",
    "\n",
    "ax11.set_xticklabels(lonTickLebelsStr, fontSize = tickFontSize)\n",
    "\n",
    "ax11.set_xlabel('Longitude (°W)', fontsize = textFontSize)\n",
    "\n",
    "ax11.set_title('(k)', x = 0.45, y=1.08, pad=-14, fontsize = textFontSize,loc='left')\n",
    "#+++++++++++++++++++++++++++++++++++++++++++++++++++++++++++++++++++++++++++++++++++++++++++++++++\n",
    "\n",
    "ax12 = axs[11]\n",
    "cp12 = ax12.contourf(x_Us, y_Us,param_sonTot_scenEraThree_diff_masked_Missi,transform=ccrs.PlateCarree(),cmap=cm.BrBG,levels = levels,norm=norm,)\n",
    "\n",
    "plt.grid(b=True, which='major', color='#666666', linestyle='-')\n",
    "ax12.add_feature(cfeature.RIVERS.with_scale('110m'), color='b', label='Rivers')     # couche rivières = was 50 m\n",
    "\n",
    "ax12.add_feature(missi,facecolor='none',edgecolor='black',linewidth=linewidth) # Mississippi\n",
    "ax12.add_feature(arkansas,facecolor='none',edgecolor='black',linewidth=linewidth) # Arkansas\n",
    "ax12.add_feature(missouri,facecolor='none',edgecolor='black',linewidth=linewidth) # Missouri\n",
    "ax12.add_feature(ohio,facecolor='none',edgecolor='black',linewidth=linewidth) # Ohio\n",
    "\n",
    "ax12.add_feature(cfeature.COASTLINE)\n",
    "ax12.set_xlim([xLimLow, xLimHigh])\n",
    "ax12.set_ylim([yLimLow, yLimHigh])\n",
    "\n",
    "ax12.set_yticks(latTicks) \n",
    "\n",
    "ax12.set_yticklabels('', fontSize = tickFontSize)\n",
    " \n",
    "ax12.set_xticks(lonTicks) \n",
    "\n",
    "ax12.set_xticklabels(lonTickLebelsStr, fontSize = tickFontSize)\n",
    "\n",
    "ax12.set_title('(l)', x = 0.45, y=1.08, pad=-14, fontsize = textFontSize,loc='left')\n",
    "#+++++++++++++++++++++++++++++++++++++++++++++++++++++++++++++++++++++++++++++++++++++++++++\n",
    "#+++++++++++++++++++++++++++++++++++++++++++++++++++++++++++++++++++++++++++++++++++++++++++++++++\n",
    "\n",
    "plt.text(-325, 24, 'DJF', fontsize=titleFontSize)\n",
    "plt.text(-360, -4, 'MAM', fontsize=titleFontSize)\n",
    "plt.text(-290, -32, 'JJA', fontsize=titleFontSize)\n",
    "plt.text(-350, -63, 'SON', fontsize=titleFontSize)\n",
    "\n",
    "plt.subplots_adjust(left=0.13,\n",
    "                    bottom=0.1,\n",
    "                    right=0.6,\n",
    "                    top=0.9,\n",
    "                    wspace=0.1,\n",
    "                    hspace=0.2)\n",
    "\n",
    "import warnings\n",
    "\n",
    "with warnings.catch_warnings():\n",
    "    warnings.filterwarnings(\"ignore\", category=DeprecationWarning)\n",
    "\n",
    "#plt.savefig(r'C:\\rezaul\\1.academic\\1.research\\2.project\\mrb\\output\\fig\\paperOne\\param\\snowmelt\\seasonal\\tcfSnowmeltSeasMap.pdf') \n",
    "#plt.savefig(r'C:\\rezaul\\1.academic\\1.research\\2.project\\mrb\\output\\fig\\paperOne\\param\\snowmelt\\seasonal\\tcfsnowmeltSeasMap.png', dpi=600)  \n",
    "\n",
    "\n",
    "\n",
    "\n",
    "plt.show()\n",
    "\n",
    "#++++++++++++++++++++++++++++++++++++++++++++++++++++++++++++++++++++++++++++++++++++++++++++++++++\n",
    "#++++++++++++++++++++++++++++++++++++++++++++++++++++++++++++++++++++++++++++++++++"
   ]
  },
  {
   "cell_type": "code",
   "execution_count": null,
   "metadata": {},
   "outputs": [],
   "source": []
  },
  {
   "cell_type": "code",
   "execution_count": null,
   "metadata": {},
   "outputs": [],
   "source": []
  },
  {
   "cell_type": "code",
   "execution_count": null,
   "metadata": {},
   "outputs": [],
   "source": []
  },
  {
   "cell_type": "code",
   "execution_count": null,
   "metadata": {},
   "outputs": [],
   "source": []
  },
  {
   "cell_type": "code",
   "execution_count": null,
   "metadata": {},
   "outputs": [],
   "source": []
  },
  {
   "cell_type": "code",
   "execution_count": 148,
   "metadata": {},
   "outputs": [
    {
     "ename": "SyntaxError",
     "evalue": "invalid syntax (<ipython-input-148-c600284d600b>, line 1)",
     "output_type": "error",
     "traceback": [
      "\u001b[1;36m  File \u001b[1;32m\"<ipython-input-148-c600284d600b>\"\u001b[1;36m, line \u001b[1;32m1\u001b[0m\n\u001b[1;33m    STOP here ==========\u001b[0m\n\u001b[1;37m         ^\u001b[0m\n\u001b[1;31mSyntaxError\u001b[0m\u001b[1;31m:\u001b[0m invalid syntax\n"
     ]
    }
   ],
   "source": [
    "STOP here =========="
   ]
  },
  {
   "cell_type": "code",
   "execution_count": null,
   "metadata": {},
   "outputs": [],
   "source": []
  },
  {
   "cell_type": "code",
   "execution_count": null,
   "metadata": {},
   "outputs": [],
   "source": []
  },
  {
   "cell_type": "code",
   "execution_count": null,
   "metadata": {},
   "outputs": [],
   "source": []
  },
  {
   "cell_type": "code",
   "execution_count": null,
   "metadata": {},
   "outputs": [],
   "source": []
  }
 ],
 "metadata": {
  "kernelspec": {
   "display_name": "Python 3",
   "language": "python",
   "name": "python3"
  },
  "language_info": {
   "codemirror_mode": {
    "name": "ipython",
    "version": 3
   },
   "file_extension": ".py",
   "mimetype": "text/x-python",
   "name": "python",
   "nbconvert_exporter": "python",
   "pygments_lexer": "ipython3",
   "version": "3.8.5"
  }
 },
 "nbformat": 4,
 "nbformat_minor": 4
}
