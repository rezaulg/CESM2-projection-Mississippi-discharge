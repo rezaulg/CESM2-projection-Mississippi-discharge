{
 "cells": [
  {
   "cell_type": "markdown",
   "metadata": {},
   "source": [
    "This script reads the Nc file for Surface Runoff downloaded from Casper log-in"
   ]
  },
  {
   "cell_type": "code",
   "execution_count": 1,
   "metadata": {},
   "outputs": [],
   "source": [
    "# To support both python 2 and python 3\n",
    "from __future__ import division, print_function, unicode_literals\n",
    "\n",
    "# Common imports\n",
    "import numpy as np\n",
    "import os\n",
    "\n",
    "# to make this notebook's output stable across runs\n",
    "np.random.seed(42)\n",
    "# To plot pretty figures\n",
    "%matplotlib inline\n",
    "#%matplotlib notebook\n",
    "\n",
    "import matplotlib as mpl\n",
    "import matplotlib.pyplot as plt\n",
    "mpl.rc('axes', labelsize=14)\n",
    "mpl.rc('xtick', labelsize=12)\n",
    "mpl.rc('ytick', labelsize=12)\n",
    "\n",
    "\n",
    "# Where to save the figures\n",
    "PROJECT_ROOT_DIR = \".\"  \n",
    "\n",
    "path2Create = r'C:/rezaul/1.academic/1.research/2.project/mrb/output/'\n",
    " \n",
    "if not os.path.exists(path2Create):\n",
    "    os.makedirs(path2Create)    \n",
    "    \n",
    "path2Save = 'C:/rezaul/1.academic/1.research/2.project/mrb/output/fig/disch/'\n",
    "\n",
    "if not os.path.exists(path2Save):\n",
    "    os.makedirs(path2Save)    \n",
    "\n",
    "IMAGES_PATH = os.path.join(path2Save)\n",
    "outputPath = os.path.join(path2Save)\n",
    "\n",
    "#def save_fig(fig_id, tight_layout=True, fig_extension=\"png\", resolution=300):\n",
    "def save_fig(fig_id, tight_layout=True, fig_extension=\"pdf\", resolution=600):\n",
    "    \n",
    "    path = os.path.join(IMAGES_PATH, fig_id + \".\" + fig_extension)\n",
    "    \n",
    "    print(\"Saving figure\", fig_id)\n",
    "    if tight_layout:\n",
    "        plt.tight_layout()\n",
    "    plt.savefig(path, format=fig_extension, dpi=resolution)\n"
   ]
  },
  {
   "cell_type": "code",
   "execution_count": null,
   "metadata": {},
   "outputs": [],
   "source": []
  },
  {
   "cell_type": "markdown",
   "metadata": {},
   "source": [
    "## Import Libraries"
   ]
  },
  {
   "cell_type": "code",
   "execution_count": 2,
   "metadata": {},
   "outputs": [],
   "source": [
    "# Common imports\n",
    "import numpy as np\n",
    "import pandas as pd\n",
    "import os\n",
    "import glob\n",
    "from datetime import datetime\n",
    "#from osgeo import gdal # Import the GDAL library\n",
    "#import gdal\n",
    "\n",
    "import cmocean\n",
    "\n",
    "#import matplotlib.pyplot as plt # Import the Matplotlib package\n",
    "from matplotlib import pyplot as plt  # Import the Matplotlib package\n",
    "from numpy import linspace # Import the Linspace numpy library\n",
    "from numpy import meshgrid # Import the Meshgrid numpy library\n",
    "\n",
    "#from init import *\n",
    "import scipy.io as sio\n",
    "# Common imports\n",
    "import calendar\n",
    "import datetime\n",
    "import matplotlib.dates as mdates\n",
    "from numpy import array, ma\n",
    "#import scipy.io\n",
    "from scipy.io import loadmat   # https://scipy-cookbook.readthedocs.io/items/Reading_mat_files.html\n",
    "import xarray as xr\n"
   ]
  },
  {
   "cell_type": "code",
   "execution_count": 3,
   "metadata": {},
   "outputs": [],
   "source": [
    "# Stats\n",
    "from statsmodels.distributions.empirical_distribution import ECDF\n",
    "from scipy.stats import gamma, norm\n",
    "from scipy.signal import detrend\n",
    "\n",
    "from netCDF4 import Dataset   # http://code.google.com/p/netcdf4-python/\n",
    "from numpy.random import normal\n",
    "from numpy import hstack\n",
    "\n",
    "import math\n"
   ]
  },
  {
   "cell_type": "code",
   "execution_count": 4,
   "metadata": {},
   "outputs": [],
   "source": [
    "# Plotting\n",
    "import matplotlib.colors as colors\n",
    "from copy import copy\n",
    "import matplotlib.cm as cm\n",
    "#from matplotlib_scalebar.scalebar import ScaleBar\n",
    "\n",
    "import seaborn as sns\n",
    "import matplotlib.gridspec as gridspec\n"
   ]
  },
  {
   "cell_type": "code",
   "execution_count": 5,
   "metadata": {},
   "outputs": [],
   "source": [
    "# Projection\n",
    "import cartopy.crs as ccrs\n",
    "\n",
    "import cartopy.feature as cfeature\n",
    "import cartopy.io.shapereader as shpreader\n",
    "from descartes import PolygonPatch\n",
    "import shapefile as shp  # Requires the pyshp package\n",
    "\n",
    "#from cartopy.feature import ShapelyFeature\n",
    "#from cartopy.io.shapereader import Reader"
   ]
  },
  {
   "cell_type": "code",
   "execution_count": null,
   "metadata": {},
   "outputs": [],
   "source": []
  },
  {
   "cell_type": "code",
   "execution_count": 6,
   "metadata": {},
   "outputs": [],
   "source": [
    "from descartes import PolygonPatch\n",
    "import shapefile as shp  # Requires the pyshp package\n",
    "sf=shp.Reader('C:/rezaul/1.academic/1.research/1.data/shapeFile/missi/Miss_RiverBasin.shp')"
   ]
  },
  {
   "cell_type": "code",
   "execution_count": null,
   "metadata": {},
   "outputs": [],
   "source": []
  },
  {
   "cell_type": "markdown",
   "metadata": {},
   "source": [
    "## Basin shape files"
   ]
  },
  {
   "cell_type": "code",
   "execution_count": 7,
   "metadata": {},
   "outputs": [],
   "source": [
    "shapeFile_Missi = 'C:/rezaul/1.academic/1.research/2.project/mrb/dt/shapeFile/mississippi_basins/mississippi_basins/mississippi_1.shp'\n",
    "shapeFile_Arkansas = 'C:/rezaul/1.academic/1.research/2.project/mrb/dt/shapeFile/mississippi_basins/mississippi_basins/arkansas_basin_1.shp'\n",
    "shapeFile_Missouri = 'C:/rezaul/1.academic/1.research/2.project/mrb/dt/shapeFile/mississippi_basins/mississippi_basins/missouri_basin_1.shp'\n",
    "shapeFile_Ohio = 'C:/rezaul/1.academic/1.research/2.project/mrb/dt/shapeFile/mississippi_basins/mississippi_basins/ohio_basin_1.shp'\n"
   ]
  },
  {
   "cell_type": "code",
   "execution_count": 8,
   "metadata": {},
   "outputs": [],
   "source": [
    "sf_Missi = shp.Reader(shapeFile_Missi)\n",
    "sf_Arkansas = shp.Reader(shapeFile_Arkansas)\n",
    "sf_Missouri = shp.Reader(shapeFile_Missouri)\n",
    "sf_Ohio = shp.Reader(shapeFile_Ohio)\n"
   ]
  },
  {
   "cell_type": "code",
   "execution_count": 9,
   "metadata": {},
   "outputs": [],
   "source": [
    "reader_Missi = shpreader.Reader(shapeFile_Missi)\n",
    "basin_Missi = list(reader_Missi.geometries())\n",
    "#\n",
    "reader_Arkansas = shpreader.Reader(shapeFile_Arkansas)\n",
    "basin_Arkansas = list(reader_Arkansas.geometries())\n",
    "#\n",
    "reader_Missouri = shpreader.Reader(shapeFile_Missouri)\n",
    "basin_Missouri = list(reader_Missouri.geometries())\n",
    "#\n",
    "reader_Ohio = shpreader.Reader(shapeFile_Ohio)\n",
    "basin_Ohio = list(reader_Ohio.geometries())\n",
    "#"
   ]
  },
  {
   "cell_type": "code",
   "execution_count": 10,
   "metadata": {},
   "outputs": [
    {
     "name": "stdout",
     "output_type": "stream",
     "text": [
      "<shapefile.ShapeRecord object at 0x0000020045B64790>\n",
      "<shapefile.ShapeRecord object at 0x0000020045B64760>\n",
      "<shapefile.ShapeRecord object at 0x0000020045B64730>\n",
      "<shapefile.ShapeRecord object at 0x0000020045B64E80>\n"
     ]
    }
   ],
   "source": [
    "feature_Missi = sf_Missi.shapeRecords()[0]\n",
    "print(feature_Missi)\n",
    "\n",
    "feature_Arkansas = sf_Arkansas.shapeRecords()[0]\n",
    "print(feature_Arkansas)\n",
    "\n",
    "feature_Missouri = sf_Missouri.shapeRecords()[0]\n",
    "print(feature_Missouri)\n",
    "\n",
    "feature_Ohio = sf_Ohio.shapeRecords()[0]\n",
    "print(feature_Ohio)\n"
   ]
  },
  {
   "cell_type": "code",
   "execution_count": null,
   "metadata": {},
   "outputs": [],
   "source": []
  },
  {
   "cell_type": "markdown",
   "metadata": {},
   "source": [
    "## Read Nc file"
   ]
  },
  {
   "cell_type": "code",
   "execution_count": 11,
   "metadata": {},
   "outputs": [
    {
     "name": "stdout",
     "output_type": "stream",
     "text": [
      "C:/rezaul/1.academic/1.research/2.project/mrb/dt/cesm/cesm2LE/param/precip/mon/b.e21.BHISTcmip6.f09_g17.LE2-1001.001.cam.h0.PRECT.185001-185912.nc\n"
     ]
    }
   ],
   "source": [
    "filePath = 'C:/rezaul/1.academic/1.research/2.project/mrb/dt/cesm/cesm2LE/param/precip/mon'\n",
    "fileName = 'b.e21.BHISTcmip6.f09_g17.LE2-1001.001.cam.h0.PRECT.185001-185912.nc'\n",
    "ncFile_precip = str(filePath) + '/' + str(fileName)\n",
    "print(ncFile_precip)"
   ]
  },
  {
   "cell_type": "code",
   "execution_count": 12,
   "metadata": {},
   "outputs": [],
   "source": [
    "file_precip = Dataset(ncFile_precip, mode='r')\n",
    "file_precip\n",
    "\n",
    "lons = file_precip.variables['lon'][:]\n",
    "lats = file_precip.variables['lat'][:]"
   ]
  },
  {
   "cell_type": "code",
   "execution_count": 13,
   "metadata": {},
   "outputs": [
    {
     "name": "stdout",
     "output_type": "stream",
     "text": [
      "[-90.         -89.05759162 -88.11518325 -87.17277487]\n",
      "[0.   1.25 2.5  3.75]\n"
     ]
    }
   ],
   "source": [
    "print(lats[0:4])\n",
    "print(lons[0:4])"
   ]
  },
  {
   "cell_type": "code",
   "execution_count": 14,
   "metadata": {},
   "outputs": [
    {
     "name": "stderr",
     "output_type": "stream",
     "text": [
      "C:\\Users\\muham\\anaconda3\\lib\\site-packages\\xarray\\backends\\plugins.py:61: RuntimeWarning: Engine 'rasterio' loading failed:\n",
      "DLL load failed while importing _base: The specified procedure could not be found.\n",
      "  warnings.warn(f\"Engine {name!r} loading failed:\\n{ex}\", RuntimeWarning)\n"
     ]
    },
    {
     "data": {
      "text/html": [
       "<div><svg style=\"position: absolute; width: 0; height: 0; overflow: hidden\">\n",
       "<defs>\n",
       "<symbol id=\"icon-database\" viewBox=\"0 0 32 32\">\n",
       "<path d=\"M16 0c-8.837 0-16 2.239-16 5v4c0 2.761 7.163 5 16 5s16-2.239 16-5v-4c0-2.761-7.163-5-16-5z\"></path>\n",
       "<path d=\"M16 17c-8.837 0-16-2.239-16-5v6c0 2.761 7.163 5 16 5s16-2.239 16-5v-6c0 2.761-7.163 5-16 5z\"></path>\n",
       "<path d=\"M16 26c-8.837 0-16-2.239-16-5v6c0 2.761 7.163 5 16 5s16-2.239 16-5v-6c0 2.761-7.163 5-16 5z\"></path>\n",
       "</symbol>\n",
       "<symbol id=\"icon-file-text2\" viewBox=\"0 0 32 32\">\n",
       "<path d=\"M28.681 7.159c-0.694-0.947-1.662-2.053-2.724-3.116s-2.169-2.030-3.116-2.724c-1.612-1.182-2.393-1.319-2.841-1.319h-15.5c-1.378 0-2.5 1.121-2.5 2.5v27c0 1.378 1.122 2.5 2.5 2.5h23c1.378 0 2.5-1.122 2.5-2.5v-19.5c0-0.448-0.137-1.23-1.319-2.841zM24.543 5.457c0.959 0.959 1.712 1.825 2.268 2.543h-4.811v-4.811c0.718 0.556 1.584 1.309 2.543 2.268zM28 29.5c0 0.271-0.229 0.5-0.5 0.5h-23c-0.271 0-0.5-0.229-0.5-0.5v-27c0-0.271 0.229-0.5 0.5-0.5 0 0 15.499-0 15.5 0v7c0 0.552 0.448 1 1 1h7v19.5z\"></path>\n",
       "<path d=\"M23 26h-14c-0.552 0-1-0.448-1-1s0.448-1 1-1h14c0.552 0 1 0.448 1 1s-0.448 1-1 1z\"></path>\n",
       "<path d=\"M23 22h-14c-0.552 0-1-0.448-1-1s0.448-1 1-1h14c0.552 0 1 0.448 1 1s-0.448 1-1 1z\"></path>\n",
       "<path d=\"M23 18h-14c-0.552 0-1-0.448-1-1s0.448-1 1-1h14c0.552 0 1 0.448 1 1s-0.448 1-1 1z\"></path>\n",
       "</symbol>\n",
       "</defs>\n",
       "</svg>\n",
       "<style>/* CSS stylesheet for displaying xarray objects in jupyterlab.\n",
       " *\n",
       " */\n",
       "\n",
       ":root {\n",
       "  --xr-font-color0: var(--jp-content-font-color0, rgba(0, 0, 0, 1));\n",
       "  --xr-font-color2: var(--jp-content-font-color2, rgba(0, 0, 0, 0.54));\n",
       "  --xr-font-color3: var(--jp-content-font-color3, rgba(0, 0, 0, 0.38));\n",
       "  --xr-border-color: var(--jp-border-color2, #e0e0e0);\n",
       "  --xr-disabled-color: var(--jp-layout-color3, #bdbdbd);\n",
       "  --xr-background-color: var(--jp-layout-color0, white);\n",
       "  --xr-background-color-row-even: var(--jp-layout-color1, white);\n",
       "  --xr-background-color-row-odd: var(--jp-layout-color2, #eeeeee);\n",
       "}\n",
       "\n",
       "html[theme=dark],\n",
       "body.vscode-dark {\n",
       "  --xr-font-color0: rgba(255, 255, 255, 1);\n",
       "  --xr-font-color2: rgba(255, 255, 255, 0.54);\n",
       "  --xr-font-color3: rgba(255, 255, 255, 0.38);\n",
       "  --xr-border-color: #1F1F1F;\n",
       "  --xr-disabled-color: #515151;\n",
       "  --xr-background-color: #111111;\n",
       "  --xr-background-color-row-even: #111111;\n",
       "  --xr-background-color-row-odd: #313131;\n",
       "}\n",
       "\n",
       ".xr-wrap {\n",
       "  display: block !important;\n",
       "  min-width: 300px;\n",
       "  max-width: 700px;\n",
       "}\n",
       "\n",
       ".xr-text-repr-fallback {\n",
       "  /* fallback to plain text repr when CSS is not injected (untrusted notebook) */\n",
       "  display: none;\n",
       "}\n",
       "\n",
       ".xr-header {\n",
       "  padding-top: 6px;\n",
       "  padding-bottom: 6px;\n",
       "  margin-bottom: 4px;\n",
       "  border-bottom: solid 1px var(--xr-border-color);\n",
       "}\n",
       "\n",
       ".xr-header > div,\n",
       ".xr-header > ul {\n",
       "  display: inline;\n",
       "  margin-top: 0;\n",
       "  margin-bottom: 0;\n",
       "}\n",
       "\n",
       ".xr-obj-type,\n",
       ".xr-array-name {\n",
       "  margin-left: 2px;\n",
       "  margin-right: 10px;\n",
       "}\n",
       "\n",
       ".xr-obj-type {\n",
       "  color: var(--xr-font-color2);\n",
       "}\n",
       "\n",
       ".xr-sections {\n",
       "  padding-left: 0 !important;\n",
       "  display: grid;\n",
       "  grid-template-columns: 150px auto auto 1fr 20px 20px;\n",
       "}\n",
       "\n",
       ".xr-section-item {\n",
       "  display: contents;\n",
       "}\n",
       "\n",
       ".xr-section-item input {\n",
       "  display: none;\n",
       "}\n",
       "\n",
       ".xr-section-item input + label {\n",
       "  color: var(--xr-disabled-color);\n",
       "}\n",
       "\n",
       ".xr-section-item input:enabled + label {\n",
       "  cursor: pointer;\n",
       "  color: var(--xr-font-color2);\n",
       "}\n",
       "\n",
       ".xr-section-item input:enabled + label:hover {\n",
       "  color: var(--xr-font-color0);\n",
       "}\n",
       "\n",
       ".xr-section-summary {\n",
       "  grid-column: 1;\n",
       "  color: var(--xr-font-color2);\n",
       "  font-weight: 500;\n",
       "}\n",
       "\n",
       ".xr-section-summary > span {\n",
       "  display: inline-block;\n",
       "  padding-left: 0.5em;\n",
       "}\n",
       "\n",
       ".xr-section-summary-in:disabled + label {\n",
       "  color: var(--xr-font-color2);\n",
       "}\n",
       "\n",
       ".xr-section-summary-in + label:before {\n",
       "  display: inline-block;\n",
       "  content: '►';\n",
       "  font-size: 11px;\n",
       "  width: 15px;\n",
       "  text-align: center;\n",
       "}\n",
       "\n",
       ".xr-section-summary-in:disabled + label:before {\n",
       "  color: var(--xr-disabled-color);\n",
       "}\n",
       "\n",
       ".xr-section-summary-in:checked + label:before {\n",
       "  content: '▼';\n",
       "}\n",
       "\n",
       ".xr-section-summary-in:checked + label > span {\n",
       "  display: none;\n",
       "}\n",
       "\n",
       ".xr-section-summary,\n",
       ".xr-section-inline-details {\n",
       "  padding-top: 4px;\n",
       "  padding-bottom: 4px;\n",
       "}\n",
       "\n",
       ".xr-section-inline-details {\n",
       "  grid-column: 2 / -1;\n",
       "}\n",
       "\n",
       ".xr-section-details {\n",
       "  display: none;\n",
       "  grid-column: 1 / -1;\n",
       "  margin-bottom: 5px;\n",
       "}\n",
       "\n",
       ".xr-section-summary-in:checked ~ .xr-section-details {\n",
       "  display: contents;\n",
       "}\n",
       "\n",
       ".xr-array-wrap {\n",
       "  grid-column: 1 / -1;\n",
       "  display: grid;\n",
       "  grid-template-columns: 20px auto;\n",
       "}\n",
       "\n",
       ".xr-array-wrap > label {\n",
       "  grid-column: 1;\n",
       "  vertical-align: top;\n",
       "}\n",
       "\n",
       ".xr-preview {\n",
       "  color: var(--xr-font-color3);\n",
       "}\n",
       "\n",
       ".xr-array-preview,\n",
       ".xr-array-data {\n",
       "  padding: 0 5px !important;\n",
       "  grid-column: 2;\n",
       "}\n",
       "\n",
       ".xr-array-data,\n",
       ".xr-array-in:checked ~ .xr-array-preview {\n",
       "  display: none;\n",
       "}\n",
       "\n",
       ".xr-array-in:checked ~ .xr-array-data,\n",
       ".xr-array-preview {\n",
       "  display: inline-block;\n",
       "}\n",
       "\n",
       ".xr-dim-list {\n",
       "  display: inline-block !important;\n",
       "  list-style: none;\n",
       "  padding: 0 !important;\n",
       "  margin: 0;\n",
       "}\n",
       "\n",
       ".xr-dim-list li {\n",
       "  display: inline-block;\n",
       "  padding: 0;\n",
       "  margin: 0;\n",
       "}\n",
       "\n",
       ".xr-dim-list:before {\n",
       "  content: '(';\n",
       "}\n",
       "\n",
       ".xr-dim-list:after {\n",
       "  content: ')';\n",
       "}\n",
       "\n",
       ".xr-dim-list li:not(:last-child):after {\n",
       "  content: ',';\n",
       "  padding-right: 5px;\n",
       "}\n",
       "\n",
       ".xr-has-index {\n",
       "  font-weight: bold;\n",
       "}\n",
       "\n",
       ".xr-var-list,\n",
       ".xr-var-item {\n",
       "  display: contents;\n",
       "}\n",
       "\n",
       ".xr-var-item > div,\n",
       ".xr-var-item label,\n",
       ".xr-var-item > .xr-var-name span {\n",
       "  background-color: var(--xr-background-color-row-even);\n",
       "  margin-bottom: 0;\n",
       "}\n",
       "\n",
       ".xr-var-item > .xr-var-name:hover span {\n",
       "  padding-right: 5px;\n",
       "}\n",
       "\n",
       ".xr-var-list > li:nth-child(odd) > div,\n",
       ".xr-var-list > li:nth-child(odd) > label,\n",
       ".xr-var-list > li:nth-child(odd) > .xr-var-name span {\n",
       "  background-color: var(--xr-background-color-row-odd);\n",
       "}\n",
       "\n",
       ".xr-var-name {\n",
       "  grid-column: 1;\n",
       "}\n",
       "\n",
       ".xr-var-dims {\n",
       "  grid-column: 2;\n",
       "}\n",
       "\n",
       ".xr-var-dtype {\n",
       "  grid-column: 3;\n",
       "  text-align: right;\n",
       "  color: var(--xr-font-color2);\n",
       "}\n",
       "\n",
       ".xr-var-preview {\n",
       "  grid-column: 4;\n",
       "}\n",
       "\n",
       ".xr-var-name,\n",
       ".xr-var-dims,\n",
       ".xr-var-dtype,\n",
       ".xr-preview,\n",
       ".xr-attrs dt {\n",
       "  white-space: nowrap;\n",
       "  overflow: hidden;\n",
       "  text-overflow: ellipsis;\n",
       "  padding-right: 10px;\n",
       "}\n",
       "\n",
       ".xr-var-name:hover,\n",
       ".xr-var-dims:hover,\n",
       ".xr-var-dtype:hover,\n",
       ".xr-attrs dt:hover {\n",
       "  overflow: visible;\n",
       "  width: auto;\n",
       "  z-index: 1;\n",
       "}\n",
       "\n",
       ".xr-var-attrs,\n",
       ".xr-var-data {\n",
       "  display: none;\n",
       "  background-color: var(--xr-background-color) !important;\n",
       "  padding-bottom: 5px !important;\n",
       "}\n",
       "\n",
       ".xr-var-attrs-in:checked ~ .xr-var-attrs,\n",
       ".xr-var-data-in:checked ~ .xr-var-data {\n",
       "  display: block;\n",
       "}\n",
       "\n",
       ".xr-var-data > table {\n",
       "  float: right;\n",
       "}\n",
       "\n",
       ".xr-var-name span,\n",
       ".xr-var-data,\n",
       ".xr-attrs {\n",
       "  padding-left: 25px !important;\n",
       "}\n",
       "\n",
       ".xr-attrs,\n",
       ".xr-var-attrs,\n",
       ".xr-var-data {\n",
       "  grid-column: 1 / -1;\n",
       "}\n",
       "\n",
       "dl.xr-attrs {\n",
       "  padding: 0;\n",
       "  margin: 0;\n",
       "  display: grid;\n",
       "  grid-template-columns: 125px auto;\n",
       "}\n",
       "\n",
       ".xr-attrs dt,\n",
       ".xr-attrs dd {\n",
       "  padding: 0;\n",
       "  margin: 0;\n",
       "  float: left;\n",
       "  padding-right: 10px;\n",
       "  width: auto;\n",
       "}\n",
       "\n",
       ".xr-attrs dt {\n",
       "  font-weight: normal;\n",
       "  grid-column: 1;\n",
       "}\n",
       "\n",
       ".xr-attrs dt:hover span {\n",
       "  display: inline-block;\n",
       "  background: var(--xr-background-color);\n",
       "  padding-right: 10px;\n",
       "}\n",
       "\n",
       ".xr-attrs dd {\n",
       "  grid-column: 2;\n",
       "  white-space: pre-wrap;\n",
       "  word-break: break-all;\n",
       "}\n",
       "\n",
       ".xr-icon-database,\n",
       ".xr-icon-file-text2 {\n",
       "  display: inline-block;\n",
       "  vertical-align: middle;\n",
       "  width: 1em;\n",
       "  height: 1.5em !important;\n",
       "  stroke-width: 0;\n",
       "  stroke: currentColor;\n",
       "  fill: currentColor;\n",
       "}\n",
       "</style><pre class='xr-text-repr-fallback'>&lt;xarray.Dataset&gt;\n",
       "Dimensions:       (lat: 192, zlon: 1, nbnd: 2, lon: 288, lev: 32, ilev: 33,\n",
       "                   time: 120)\n",
       "Coordinates:\n",
       "  * lat           (lat) float64 -90.0 -89.06 -88.12 -87.17 ... 88.12 89.06 90.0\n",
       "  * zlon          (zlon) float64 0.0\n",
       "  * lon           (lon) float64 0.0 1.25 2.5 3.75 ... 355.0 356.2 357.5 358.8\n",
       "  * lev           (lev) float64 3.643 7.595 14.36 24.61 ... 957.5 976.3 992.6\n",
       "  * ilev          (ilev) float64 2.255 5.032 10.16 18.56 ... 967.5 985.1 1e+03\n",
       "  * time          (time) object 1850-02-01 00:00:00 ... 1860-01-01 00:00:00\n",
       "Dimensions without coordinates: nbnd\n",
       "Data variables: (12/27)\n",
       "    zlon_bnds     (zlon, nbnd) float64 0.0 358.8\n",
       "    gw            (lat) float64 3.382e-05 0.0002705 ... 0.0002705 3.382e-05\n",
       "    hyam          (lev) float64 0.003643 0.007595 0.01436 ... 0.001989 0.0\n",
       "    hybm          (lev) float64 0.0 0.0 0.0 0.0 ... 0.9251 0.9512 0.9743 0.9926\n",
       "    P0            float64 1e+05\n",
       "    hyai          (ilev) float64 0.002255 0.005032 0.01016 ... 0.003979 0.0 0.0\n",
       "    ...            ...\n",
       "    n2ovmr        (time) float64 2.73e-07 2.73e-07 ... 2.74e-07 2.74e-07\n",
       "    f11vmr        (time) float64 3.211e-11 3.211e-11 ... 3.211e-11 3.211e-11\n",
       "    f12vmr        (time) float64 0.0 0.0 0.0 0.0 0.0 0.0 ... 0.0 0.0 0.0 0.0 0.0\n",
       "    sol_tsi       (time) float64 -1.0 -1.0 -1.0 -1.0 ... -1.0 -1.0 -1.0 -1.0\n",
       "    nsteph        (time) float64 1.488e+03 2.832e+03 ... 1.737e+05 1.752e+05\n",
       "    PRECT         (time, lat, lon) float32 ...\n",
       "Attributes:\n",
       "    Conventions:       CF-1.0\n",
       "    source:            CAM\n",
       "    case:              b.e21.BHISTcmip6.f09_g17.LE2-1001.001\n",
       "    logname:           sunseon\n",
       "    host:              mom1\n",
       "    initial_file:      b.e21.B1850.f09_g17.CMIP6-piControl.001.cam.i.1001-01-...\n",
       "    topography_file:   /mnt/lustre/share/CESM/cesm_input/atm/cam/topo/fv_0.9x...\n",
       "    model_doi_url:     https://doi.org/10.5065/D67H1H0V\n",
       "    time_period_freq:  month_1</pre><div class='xr-wrap' style='display:none'><div class='xr-header'><div class='xr-obj-type'>xarray.Dataset</div></div><ul class='xr-sections'><li class='xr-section-item'><input id='section-023da9a0-9776-4bdb-8ca3-399c3295b885' class='xr-section-summary-in' type='checkbox' disabled ><label for='section-023da9a0-9776-4bdb-8ca3-399c3295b885' class='xr-section-summary'  title='Expand/collapse section'>Dimensions:</label><div class='xr-section-inline-details'><ul class='xr-dim-list'><li><span class='xr-has-index'>lat</span>: 192</li><li><span class='xr-has-index'>zlon</span>: 1</li><li><span>nbnd</span>: 2</li><li><span class='xr-has-index'>lon</span>: 288</li><li><span class='xr-has-index'>lev</span>: 32</li><li><span class='xr-has-index'>ilev</span>: 33</li><li><span class='xr-has-index'>time</span>: 120</li></ul></div><div class='xr-section-details'></div></li><li class='xr-section-item'><input id='section-e0cacb55-121e-4709-b67b-0c5921ffe2af' class='xr-section-summary-in' type='checkbox'  checked><label for='section-e0cacb55-121e-4709-b67b-0c5921ffe2af' class='xr-section-summary' >Coordinates: <span>(6)</span></label><div class='xr-section-inline-details'></div><div class='xr-section-details'><ul class='xr-var-list'><li class='xr-var-item'><div class='xr-var-name'><span class='xr-has-index'>lat</span></div><div class='xr-var-dims'>(lat)</div><div class='xr-var-dtype'>float64</div><div class='xr-var-preview xr-preview'>-90.0 -89.06 -88.12 ... 89.06 90.0</div><input id='attrs-f38e3504-8d5f-48c1-b686-e61bf49c975b' class='xr-var-attrs-in' type='checkbox' ><label for='attrs-f38e3504-8d5f-48c1-b686-e61bf49c975b' title='Show/Hide attributes'><svg class='icon xr-icon-file-text2'><use xlink:href='#icon-file-text2'></use></svg></label><input id='data-360d0cfb-011d-4c08-ba12-c755cae95dc5' class='xr-var-data-in' type='checkbox'><label for='data-360d0cfb-011d-4c08-ba12-c755cae95dc5' title='Show/Hide data repr'><svg class='icon xr-icon-database'><use xlink:href='#icon-database'></use></svg></label><div class='xr-var-attrs'><dl class='xr-attrs'><dt><span>long_name :</span></dt><dd>latitude</dd><dt><span>units :</span></dt><dd>degrees_north</dd></dl></div><div class='xr-var-data'><pre>array([-90.      , -89.057592, -88.115183, -87.172775, -86.230366, -85.287958,\n",
       "       -84.34555 , -83.403141, -82.460733, -81.518325, -80.575916, -79.633508,\n",
       "       -78.691099, -77.748691, -76.806283, -75.863874, -74.921466, -73.979058,\n",
       "       -73.036649, -72.094241, -71.151832, -70.209424, -69.267016, -68.324607,\n",
       "       -67.382199, -66.439791, -65.497382, -64.554974, -63.612565, -62.670157,\n",
       "       -61.727749, -60.78534 , -59.842932, -58.900524, -57.958115, -57.015707,\n",
       "       -56.073298, -55.13089 , -54.188482, -53.246073, -52.303665, -51.361257,\n",
       "       -50.418848, -49.47644 , -48.534031, -47.591623, -46.649215, -45.706806,\n",
       "       -44.764398, -43.82199 , -42.879581, -41.937173, -40.994764, -40.052356,\n",
       "       -39.109948, -38.167539, -37.225131, -36.282723, -35.340314, -34.397906,\n",
       "       -33.455497, -32.513089, -31.570681, -30.628272, -29.685864, -28.743455,\n",
       "       -27.801047, -26.858639, -25.91623 , -24.973822, -24.031414, -23.089005,\n",
       "       -22.146597, -21.204188, -20.26178 , -19.319372, -18.376963, -17.434555,\n",
       "       -16.492147, -15.549738, -14.60733 , -13.664921, -12.722513, -11.780105,\n",
       "       -10.837696,  -9.895288,  -8.95288 ,  -8.010471,  -7.068063,  -6.125654,\n",
       "        -5.183246,  -4.240838,  -3.298429,  -2.356021,  -1.413613,  -0.471204,\n",
       "         0.471204,   1.413613,   2.356021,   3.298429,   4.240838,   5.183246,\n",
       "         6.125654,   7.068063,   8.010471,   8.95288 ,   9.895288,  10.837696,\n",
       "        11.780105,  12.722513,  13.664921,  14.60733 ,  15.549738,  16.492147,\n",
       "        17.434555,  18.376963,  19.319372,  20.26178 ,  21.204188,  22.146597,\n",
       "        23.089005,  24.031414,  24.973822,  25.91623 ,  26.858639,  27.801047,\n",
       "        28.743455,  29.685864,  30.628272,  31.570681,  32.513089,  33.455497,\n",
       "        34.397906,  35.340314,  36.282723,  37.225131,  38.167539,  39.109948,\n",
       "        40.052356,  40.994764,  41.937173,  42.879581,  43.82199 ,  44.764398,\n",
       "        45.706806,  46.649215,  47.591623,  48.534031,  49.47644 ,  50.418848,\n",
       "        51.361257,  52.303665,  53.246073,  54.188482,  55.13089 ,  56.073298,\n",
       "        57.015707,  57.958115,  58.900524,  59.842932,  60.78534 ,  61.727749,\n",
       "        62.670157,  63.612565,  64.554974,  65.497382,  66.439791,  67.382199,\n",
       "        68.324607,  69.267016,  70.209424,  71.151832,  72.094241,  73.036649,\n",
       "        73.979058,  74.921466,  75.863874,  76.806283,  77.748691,  78.691099,\n",
       "        79.633508,  80.575916,  81.518325,  82.460733,  83.403141,  84.34555 ,\n",
       "        85.287958,  86.230366,  87.172775,  88.115183,  89.057592,  90.      ])</pre></div></li><li class='xr-var-item'><div class='xr-var-name'><span class='xr-has-index'>zlon</span></div><div class='xr-var-dims'>(zlon)</div><div class='xr-var-dtype'>float64</div><div class='xr-var-preview xr-preview'>0.0</div><input id='attrs-036ef9ec-3d71-4b0a-b132-d40ab41444ba' class='xr-var-attrs-in' type='checkbox' ><label for='attrs-036ef9ec-3d71-4b0a-b132-d40ab41444ba' title='Show/Hide attributes'><svg class='icon xr-icon-file-text2'><use xlink:href='#icon-file-text2'></use></svg></label><input id='data-a058dcc1-f283-4c15-a31c-b6dd79364d66' class='xr-var-data-in' type='checkbox'><label for='data-a058dcc1-f283-4c15-a31c-b6dd79364d66' title='Show/Hide data repr'><svg class='icon xr-icon-database'><use xlink:href='#icon-database'></use></svg></label><div class='xr-var-attrs'><dl class='xr-attrs'><dt><span>long_name :</span></dt><dd>longitude</dd><dt><span>units :</span></dt><dd>degrees_east</dd><dt><span>bounds :</span></dt><dd>zlon_bnds</dd></dl></div><div class='xr-var-data'><pre>array([0.])</pre></div></li><li class='xr-var-item'><div class='xr-var-name'><span class='xr-has-index'>lon</span></div><div class='xr-var-dims'>(lon)</div><div class='xr-var-dtype'>float64</div><div class='xr-var-preview xr-preview'>0.0 1.25 2.5 ... 356.2 357.5 358.8</div><input id='attrs-6a20e9f5-314c-4b73-b093-1481b8e3901d' class='xr-var-attrs-in' type='checkbox' ><label for='attrs-6a20e9f5-314c-4b73-b093-1481b8e3901d' title='Show/Hide attributes'><svg class='icon xr-icon-file-text2'><use xlink:href='#icon-file-text2'></use></svg></label><input id='data-ff967105-d75e-4ec3-ad49-fbc6969d6b97' class='xr-var-data-in' type='checkbox'><label for='data-ff967105-d75e-4ec3-ad49-fbc6969d6b97' title='Show/Hide data repr'><svg class='icon xr-icon-database'><use xlink:href='#icon-database'></use></svg></label><div class='xr-var-attrs'><dl class='xr-attrs'><dt><span>long_name :</span></dt><dd>longitude</dd><dt><span>units :</span></dt><dd>degrees_east</dd></dl></div><div class='xr-var-data'><pre>array([  0.  ,   1.25,   2.5 , ..., 356.25, 357.5 , 358.75])</pre></div></li><li class='xr-var-item'><div class='xr-var-name'><span class='xr-has-index'>lev</span></div><div class='xr-var-dims'>(lev)</div><div class='xr-var-dtype'>float64</div><div class='xr-var-preview xr-preview'>3.643 7.595 14.36 ... 976.3 992.6</div><input id='attrs-b48a4eaa-e5ab-424e-a4e5-f5a2ba0eb28b' class='xr-var-attrs-in' type='checkbox' ><label for='attrs-b48a4eaa-e5ab-424e-a4e5-f5a2ba0eb28b' title='Show/Hide attributes'><svg class='icon xr-icon-file-text2'><use xlink:href='#icon-file-text2'></use></svg></label><input id='data-562a878f-b941-4d03-83bb-8ae968ea6eab' class='xr-var-data-in' type='checkbox'><label for='data-562a878f-b941-4d03-83bb-8ae968ea6eab' title='Show/Hide data repr'><svg class='icon xr-icon-database'><use xlink:href='#icon-database'></use></svg></label><div class='xr-var-attrs'><dl class='xr-attrs'><dt><span>long_name :</span></dt><dd>hybrid level at midpoints (1000*(A+B))</dd><dt><span>units :</span></dt><dd>hPa</dd><dt><span>positive :</span></dt><dd>down</dd><dt><span>standard_name :</span></dt><dd>atmosphere_hybrid_sigma_pressure_coordinate</dd><dt><span>formula_terms :</span></dt><dd>a: hyam b: hybm p0: P0 ps: PS</dd></dl></div><div class='xr-var-data'><pre>array([  3.643466,   7.59482 ,  14.356632,  24.61222 ,  35.92325 ,  43.19375 ,\n",
       "        51.677499,  61.520498,  73.750958,  87.82123 , 103.317127, 121.547241,\n",
       "       142.994039, 168.22508 , 197.908087, 232.828619, 273.910817, 322.241902,\n",
       "       379.100904, 445.992574, 524.687175, 609.778695, 691.38943 , 763.404481,\n",
       "       820.858369, 859.534767, 887.020249, 912.644547, 936.198398, 957.48548 ,\n",
       "       976.325407, 992.556095])</pre></div></li><li class='xr-var-item'><div class='xr-var-name'><span class='xr-has-index'>ilev</span></div><div class='xr-var-dims'>(ilev)</div><div class='xr-var-dtype'>float64</div><div class='xr-var-preview xr-preview'>2.255 5.032 10.16 ... 985.1 1e+03</div><input id='attrs-a9fbb4cf-2b64-4384-84b7-53db19d7626c' class='xr-var-attrs-in' type='checkbox' ><label for='attrs-a9fbb4cf-2b64-4384-84b7-53db19d7626c' title='Show/Hide attributes'><svg class='icon xr-icon-file-text2'><use xlink:href='#icon-file-text2'></use></svg></label><input id='data-2809bec0-2883-490c-9a71-2a47ddd2950d' class='xr-var-data-in' type='checkbox'><label for='data-2809bec0-2883-490c-9a71-2a47ddd2950d' title='Show/Hide data repr'><svg class='icon xr-icon-database'><use xlink:href='#icon-database'></use></svg></label><div class='xr-var-attrs'><dl class='xr-attrs'><dt><span>long_name :</span></dt><dd>hybrid level at interfaces (1000*(A+B))</dd><dt><span>units :</span></dt><dd>hPa</dd><dt><span>positive :</span></dt><dd>down</dd><dt><span>standard_name :</span></dt><dd>atmosphere_hybrid_sigma_pressure_coordinate</dd><dt><span>formula_terms :</span></dt><dd>a: hyai b: hybi p0: P0 ps: PS</dd></dl></div><div class='xr-var-data'><pre>array([   2.25524 ,    5.031692,   10.157947,   18.555317,   29.734676,\n",
       "         39.273001,   47.114499,   56.240499,   66.800497,   80.701418,\n",
       "         94.941042,  111.693211,  131.401271,  154.586807,  181.863353,\n",
       "        213.952821,  251.704417,  296.117216,  348.366588,  409.835219,\n",
       "        482.149929,  567.224421,  652.332969,  730.445892,  796.363071,\n",
       "        845.353667,  873.715866,  900.324631,  924.964462,  947.432335,\n",
       "        967.538625,  985.11219 , 1000.      ])</pre></div></li><li class='xr-var-item'><div class='xr-var-name'><span class='xr-has-index'>time</span></div><div class='xr-var-dims'>(time)</div><div class='xr-var-dtype'>object</div><div class='xr-var-preview xr-preview'>1850-02-01 00:00:00 ... 1860-01-...</div><input id='attrs-38b49244-33a4-4eff-8650-cc9cb6d96787' class='xr-var-attrs-in' type='checkbox' ><label for='attrs-38b49244-33a4-4eff-8650-cc9cb6d96787' title='Show/Hide attributes'><svg class='icon xr-icon-file-text2'><use xlink:href='#icon-file-text2'></use></svg></label><input id='data-5d177df6-ef9e-4437-8a8c-d2075105398c' class='xr-var-data-in' type='checkbox'><label for='data-5d177df6-ef9e-4437-8a8c-d2075105398c' title='Show/Hide data repr'><svg class='icon xr-icon-database'><use xlink:href='#icon-database'></use></svg></label><div class='xr-var-attrs'><dl class='xr-attrs'><dt><span>long_name :</span></dt><dd>time</dd><dt><span>bounds :</span></dt><dd>time_bnds</dd></dl></div><div class='xr-var-data'><pre>array([cftime.DatetimeNoLeap(1850, 2, 1, 0, 0, 0, 0),\n",
       "       cftime.DatetimeNoLeap(1850, 3, 1, 0, 0, 0, 0),\n",
       "       cftime.DatetimeNoLeap(1850, 4, 1, 0, 0, 0, 0),\n",
       "       cftime.DatetimeNoLeap(1850, 5, 1, 0, 0, 0, 0),\n",
       "       cftime.DatetimeNoLeap(1850, 6, 1, 0, 0, 0, 0),\n",
       "       cftime.DatetimeNoLeap(1850, 7, 1, 0, 0, 0, 0),\n",
       "       cftime.DatetimeNoLeap(1850, 8, 1, 0, 0, 0, 0),\n",
       "       cftime.DatetimeNoLeap(1850, 9, 1, 0, 0, 0, 0),\n",
       "       cftime.DatetimeNoLeap(1850, 10, 1, 0, 0, 0, 0),\n",
       "       cftime.DatetimeNoLeap(1850, 11, 1, 0, 0, 0, 0),\n",
       "       cftime.DatetimeNoLeap(1850, 12, 1, 0, 0, 0, 0),\n",
       "       cftime.DatetimeNoLeap(1851, 1, 1, 0, 0, 0, 0),\n",
       "       cftime.DatetimeNoLeap(1851, 2, 1, 0, 0, 0, 0),\n",
       "       cftime.DatetimeNoLeap(1851, 3, 1, 0, 0, 0, 0),\n",
       "       cftime.DatetimeNoLeap(1851, 4, 1, 0, 0, 0, 0),\n",
       "       cftime.DatetimeNoLeap(1851, 5, 1, 0, 0, 0, 0),\n",
       "       cftime.DatetimeNoLeap(1851, 6, 1, 0, 0, 0, 0),\n",
       "       cftime.DatetimeNoLeap(1851, 7, 1, 0, 0, 0, 0),\n",
       "       cftime.DatetimeNoLeap(1851, 8, 1, 0, 0, 0, 0),\n",
       "       cftime.DatetimeNoLeap(1851, 9, 1, 0, 0, 0, 0),\n",
       "       cftime.DatetimeNoLeap(1851, 10, 1, 0, 0, 0, 0),\n",
       "       cftime.DatetimeNoLeap(1851, 11, 1, 0, 0, 0, 0),\n",
       "       cftime.DatetimeNoLeap(1851, 12, 1, 0, 0, 0, 0),\n",
       "       cftime.DatetimeNoLeap(1852, 1, 1, 0, 0, 0, 0),\n",
       "       cftime.DatetimeNoLeap(1852, 2, 1, 0, 0, 0, 0),\n",
       "       cftime.DatetimeNoLeap(1852, 3, 1, 0, 0, 0, 0),\n",
       "       cftime.DatetimeNoLeap(1852, 4, 1, 0, 0, 0, 0),\n",
       "       cftime.DatetimeNoLeap(1852, 5, 1, 0, 0, 0, 0),\n",
       "       cftime.DatetimeNoLeap(1852, 6, 1, 0, 0, 0, 0),\n",
       "       cftime.DatetimeNoLeap(1852, 7, 1, 0, 0, 0, 0),\n",
       "       cftime.DatetimeNoLeap(1852, 8, 1, 0, 0, 0, 0),\n",
       "       cftime.DatetimeNoLeap(1852, 9, 1, 0, 0, 0, 0),\n",
       "       cftime.DatetimeNoLeap(1852, 10, 1, 0, 0, 0, 0),\n",
       "       cftime.DatetimeNoLeap(1852, 11, 1, 0, 0, 0, 0),\n",
       "       cftime.DatetimeNoLeap(1852, 12, 1, 0, 0, 0, 0),\n",
       "       cftime.DatetimeNoLeap(1853, 1, 1, 0, 0, 0, 0),\n",
       "       cftime.DatetimeNoLeap(1853, 2, 1, 0, 0, 0, 0),\n",
       "       cftime.DatetimeNoLeap(1853, 3, 1, 0, 0, 0, 0),\n",
       "       cftime.DatetimeNoLeap(1853, 4, 1, 0, 0, 0, 0),\n",
       "       cftime.DatetimeNoLeap(1853, 5, 1, 0, 0, 0, 0),\n",
       "       cftime.DatetimeNoLeap(1853, 6, 1, 0, 0, 0, 0),\n",
       "       cftime.DatetimeNoLeap(1853, 7, 1, 0, 0, 0, 0),\n",
       "       cftime.DatetimeNoLeap(1853, 8, 1, 0, 0, 0, 0),\n",
       "       cftime.DatetimeNoLeap(1853, 9, 1, 0, 0, 0, 0),\n",
       "       cftime.DatetimeNoLeap(1853, 10, 1, 0, 0, 0, 0),\n",
       "       cftime.DatetimeNoLeap(1853, 11, 1, 0, 0, 0, 0),\n",
       "       cftime.DatetimeNoLeap(1853, 12, 1, 0, 0, 0, 0),\n",
       "       cftime.DatetimeNoLeap(1854, 1, 1, 0, 0, 0, 0),\n",
       "       cftime.DatetimeNoLeap(1854, 2, 1, 0, 0, 0, 0),\n",
       "       cftime.DatetimeNoLeap(1854, 3, 1, 0, 0, 0, 0),\n",
       "       cftime.DatetimeNoLeap(1854, 4, 1, 0, 0, 0, 0),\n",
       "       cftime.DatetimeNoLeap(1854, 5, 1, 0, 0, 0, 0),\n",
       "       cftime.DatetimeNoLeap(1854, 6, 1, 0, 0, 0, 0),\n",
       "       cftime.DatetimeNoLeap(1854, 7, 1, 0, 0, 0, 0),\n",
       "       cftime.DatetimeNoLeap(1854, 8, 1, 0, 0, 0, 0),\n",
       "       cftime.DatetimeNoLeap(1854, 9, 1, 0, 0, 0, 0),\n",
       "       cftime.DatetimeNoLeap(1854, 10, 1, 0, 0, 0, 0),\n",
       "       cftime.DatetimeNoLeap(1854, 11, 1, 0, 0, 0, 0),\n",
       "       cftime.DatetimeNoLeap(1854, 12, 1, 0, 0, 0, 0),\n",
       "       cftime.DatetimeNoLeap(1855, 1, 1, 0, 0, 0, 0),\n",
       "       cftime.DatetimeNoLeap(1855, 2, 1, 0, 0, 0, 0),\n",
       "       cftime.DatetimeNoLeap(1855, 3, 1, 0, 0, 0, 0),\n",
       "       cftime.DatetimeNoLeap(1855, 4, 1, 0, 0, 0, 0),\n",
       "       cftime.DatetimeNoLeap(1855, 5, 1, 0, 0, 0, 0),\n",
       "       cftime.DatetimeNoLeap(1855, 6, 1, 0, 0, 0, 0),\n",
       "       cftime.DatetimeNoLeap(1855, 7, 1, 0, 0, 0, 0),\n",
       "       cftime.DatetimeNoLeap(1855, 8, 1, 0, 0, 0, 0),\n",
       "       cftime.DatetimeNoLeap(1855, 9, 1, 0, 0, 0, 0),\n",
       "       cftime.DatetimeNoLeap(1855, 10, 1, 0, 0, 0, 0),\n",
       "       cftime.DatetimeNoLeap(1855, 11, 1, 0, 0, 0, 0),\n",
       "       cftime.DatetimeNoLeap(1855, 12, 1, 0, 0, 0, 0),\n",
       "       cftime.DatetimeNoLeap(1856, 1, 1, 0, 0, 0, 0),\n",
       "       cftime.DatetimeNoLeap(1856, 2, 1, 0, 0, 0, 0),\n",
       "       cftime.DatetimeNoLeap(1856, 3, 1, 0, 0, 0, 0),\n",
       "       cftime.DatetimeNoLeap(1856, 4, 1, 0, 0, 0, 0),\n",
       "       cftime.DatetimeNoLeap(1856, 5, 1, 0, 0, 0, 0),\n",
       "       cftime.DatetimeNoLeap(1856, 6, 1, 0, 0, 0, 0),\n",
       "       cftime.DatetimeNoLeap(1856, 7, 1, 0, 0, 0, 0),\n",
       "       cftime.DatetimeNoLeap(1856, 8, 1, 0, 0, 0, 0),\n",
       "       cftime.DatetimeNoLeap(1856, 9, 1, 0, 0, 0, 0),\n",
       "       cftime.DatetimeNoLeap(1856, 10, 1, 0, 0, 0, 0),\n",
       "       cftime.DatetimeNoLeap(1856, 11, 1, 0, 0, 0, 0),\n",
       "       cftime.DatetimeNoLeap(1856, 12, 1, 0, 0, 0, 0),\n",
       "       cftime.DatetimeNoLeap(1857, 1, 1, 0, 0, 0, 0),\n",
       "       cftime.DatetimeNoLeap(1857, 2, 1, 0, 0, 0, 0),\n",
       "       cftime.DatetimeNoLeap(1857, 3, 1, 0, 0, 0, 0),\n",
       "       cftime.DatetimeNoLeap(1857, 4, 1, 0, 0, 0, 0),\n",
       "       cftime.DatetimeNoLeap(1857, 5, 1, 0, 0, 0, 0),\n",
       "       cftime.DatetimeNoLeap(1857, 6, 1, 0, 0, 0, 0),\n",
       "       cftime.DatetimeNoLeap(1857, 7, 1, 0, 0, 0, 0),\n",
       "       cftime.DatetimeNoLeap(1857, 8, 1, 0, 0, 0, 0),\n",
       "       cftime.DatetimeNoLeap(1857, 9, 1, 0, 0, 0, 0),\n",
       "       cftime.DatetimeNoLeap(1857, 10, 1, 0, 0, 0, 0),\n",
       "       cftime.DatetimeNoLeap(1857, 11, 1, 0, 0, 0, 0),\n",
       "       cftime.DatetimeNoLeap(1857, 12, 1, 0, 0, 0, 0),\n",
       "       cftime.DatetimeNoLeap(1858, 1, 1, 0, 0, 0, 0),\n",
       "       cftime.DatetimeNoLeap(1858, 2, 1, 0, 0, 0, 0),\n",
       "       cftime.DatetimeNoLeap(1858, 3, 1, 0, 0, 0, 0),\n",
       "       cftime.DatetimeNoLeap(1858, 4, 1, 0, 0, 0, 0),\n",
       "       cftime.DatetimeNoLeap(1858, 5, 1, 0, 0, 0, 0),\n",
       "       cftime.DatetimeNoLeap(1858, 6, 1, 0, 0, 0, 0),\n",
       "       cftime.DatetimeNoLeap(1858, 7, 1, 0, 0, 0, 0),\n",
       "       cftime.DatetimeNoLeap(1858, 8, 1, 0, 0, 0, 0),\n",
       "       cftime.DatetimeNoLeap(1858, 9, 1, 0, 0, 0, 0),\n",
       "       cftime.DatetimeNoLeap(1858, 10, 1, 0, 0, 0, 0),\n",
       "       cftime.DatetimeNoLeap(1858, 11, 1, 0, 0, 0, 0),\n",
       "       cftime.DatetimeNoLeap(1858, 12, 1, 0, 0, 0, 0),\n",
       "       cftime.DatetimeNoLeap(1859, 1, 1, 0, 0, 0, 0),\n",
       "       cftime.DatetimeNoLeap(1859, 2, 1, 0, 0, 0, 0),\n",
       "       cftime.DatetimeNoLeap(1859, 3, 1, 0, 0, 0, 0),\n",
       "       cftime.DatetimeNoLeap(1859, 4, 1, 0, 0, 0, 0),\n",
       "       cftime.DatetimeNoLeap(1859, 5, 1, 0, 0, 0, 0),\n",
       "       cftime.DatetimeNoLeap(1859, 6, 1, 0, 0, 0, 0),\n",
       "       cftime.DatetimeNoLeap(1859, 7, 1, 0, 0, 0, 0),\n",
       "       cftime.DatetimeNoLeap(1859, 8, 1, 0, 0, 0, 0),\n",
       "       cftime.DatetimeNoLeap(1859, 9, 1, 0, 0, 0, 0),\n",
       "       cftime.DatetimeNoLeap(1859, 10, 1, 0, 0, 0, 0),\n",
       "       cftime.DatetimeNoLeap(1859, 11, 1, 0, 0, 0, 0),\n",
       "       cftime.DatetimeNoLeap(1859, 12, 1, 0, 0, 0, 0),\n",
       "       cftime.DatetimeNoLeap(1860, 1, 1, 0, 0, 0, 0)], dtype=object)</pre></div></li></ul></div></li><li class='xr-section-item'><input id='section-a95780ef-a578-4442-8257-614c76525aee' class='xr-section-summary-in' type='checkbox'  ><label for='section-a95780ef-a578-4442-8257-614c76525aee' class='xr-section-summary' >Data variables: <span>(27)</span></label><div class='xr-section-inline-details'></div><div class='xr-section-details'><ul class='xr-var-list'><li class='xr-var-item'><div class='xr-var-name'><span>zlon_bnds</span></div><div class='xr-var-dims'>(zlon, nbnd)</div><div class='xr-var-dtype'>float64</div><div class='xr-var-preview xr-preview'>...</div><input id='attrs-21c35139-a68d-42fa-9b4d-26c60a7713b7' class='xr-var-attrs-in' type='checkbox' ><label for='attrs-21c35139-a68d-42fa-9b4d-26c60a7713b7' title='Show/Hide attributes'><svg class='icon xr-icon-file-text2'><use xlink:href='#icon-file-text2'></use></svg></label><input id='data-ff8972b1-a1af-413f-bbe4-008630d9d708' class='xr-var-data-in' type='checkbox'><label for='data-ff8972b1-a1af-413f-bbe4-008630d9d708' title='Show/Hide data repr'><svg class='icon xr-icon-database'><use xlink:href='#icon-database'></use></svg></label><div class='xr-var-attrs'><dl class='xr-attrs'><dt><span>long_name :</span></dt><dd>zlon bounds</dd><dt><span>units :</span></dt><dd>degrees_east</dd></dl></div><div class='xr-var-data'><pre>array([[  0.  , 358.75]])</pre></div></li><li class='xr-var-item'><div class='xr-var-name'><span>gw</span></div><div class='xr-var-dims'>(lat)</div><div class='xr-var-dtype'>float64</div><div class='xr-var-preview xr-preview'>...</div><input id='attrs-43ae8201-e13f-4010-9256-0231f7d3f7fd' class='xr-var-attrs-in' type='checkbox' ><label for='attrs-43ae8201-e13f-4010-9256-0231f7d3f7fd' title='Show/Hide attributes'><svg class='icon xr-icon-file-text2'><use xlink:href='#icon-file-text2'></use></svg></label><input id='data-1ee2aa37-a742-4ab5-baea-a3d9d6dc3298' class='xr-var-data-in' type='checkbox'><label for='data-1ee2aa37-a742-4ab5-baea-a3d9d6dc3298' title='Show/Hide data repr'><svg class='icon xr-icon-database'><use xlink:href='#icon-database'></use></svg></label><div class='xr-var-attrs'><dl class='xr-attrs'><dt><span>long_name :</span></dt><dd>latitude weights</dd></dl></div><div class='xr-var-data'><pre>array([3.381743e-05, 2.705257e-04, 5.409782e-04, 8.112844e-04, 1.081371e-03,\n",
       "       1.351165e-03, 1.620594e-03, 1.889584e-03, 2.158063e-03, 2.425958e-03,\n",
       "       2.693197e-03, 2.959707e-03, 3.225417e-03, 3.490254e-03, 3.754146e-03,\n",
       "       4.017023e-03, 4.278814e-03, 4.539446e-03, 4.798851e-03, 5.056958e-03,\n",
       "       5.313696e-03, 5.568997e-03, 5.822791e-03, 6.075010e-03, 6.325585e-03,\n",
       "       6.574449e-03, 6.821535e-03, 7.066775e-03, 7.310103e-03, 7.551454e-03,\n",
       "       7.790762e-03, 8.027962e-03, 8.262990e-03, 8.495782e-03, 8.726277e-03,\n",
       "       8.954410e-03, 9.180121e-03, 9.403349e-03, 9.624033e-03, 9.842113e-03,\n",
       "       1.005753e-02, 1.027023e-02, 1.048014e-02, 1.068723e-02, 1.089142e-02,\n",
       "       1.109266e-02, 1.129091e-02, 1.148610e-02, 1.167818e-02, 1.186710e-02,\n",
       "       1.205281e-02, 1.223527e-02, 1.241441e-02, 1.259019e-02, 1.276257e-02,\n",
       "       1.293149e-02, 1.309692e-02, 1.325880e-02, 1.341709e-02, 1.357176e-02,\n",
       "       1.372275e-02, 1.387004e-02, 1.401357e-02, 1.415330e-02, 1.428921e-02,\n",
       "       1.442126e-02, 1.454940e-02, 1.467360e-02, 1.479384e-02, 1.491007e-02,\n",
       "       1.502227e-02, 1.513041e-02, 1.523445e-02, 1.533437e-02, 1.543015e-02,\n",
       "       1.552175e-02, 1.560915e-02, 1.569232e-02, 1.577125e-02, 1.584592e-02,\n",
       "       1.591630e-02, 1.598237e-02, 1.604412e-02, 1.610152e-02, 1.615457e-02,\n",
       "       1.620326e-02, 1.624755e-02, 1.628745e-02, 1.632295e-02, 1.635403e-02,\n",
       "       1.638069e-02, 1.640291e-02, 1.642070e-02, 1.643404e-02, 1.644294e-02,\n",
       "       1.644739e-02, 1.644739e-02, 1.644294e-02, 1.643404e-02, 1.642070e-02,\n",
       "       1.640291e-02, 1.638069e-02, 1.635403e-02, 1.632295e-02, 1.628745e-02,\n",
       "       1.624755e-02, 1.620326e-02, 1.615457e-02, 1.610152e-02, 1.604412e-02,\n",
       "       1.598237e-02, 1.591630e-02, 1.584592e-02, 1.577125e-02, 1.569232e-02,\n",
       "       1.560915e-02, 1.552175e-02, 1.543015e-02, 1.533437e-02, 1.523445e-02,\n",
       "       1.513041e-02, 1.502227e-02, 1.491007e-02, 1.479384e-02, 1.467360e-02,\n",
       "       1.454940e-02, 1.442126e-02, 1.428921e-02, 1.415330e-02, 1.401357e-02,\n",
       "       1.387004e-02, 1.372275e-02, 1.357176e-02, 1.341709e-02, 1.325880e-02,\n",
       "       1.309692e-02, 1.293149e-02, 1.276257e-02, 1.259019e-02, 1.241441e-02,\n",
       "       1.223527e-02, 1.205281e-02, 1.186710e-02, 1.167818e-02, 1.148610e-02,\n",
       "       1.129091e-02, 1.109266e-02, 1.089142e-02, 1.068723e-02, 1.048014e-02,\n",
       "       1.027023e-02, 1.005753e-02, 9.842113e-03, 9.624033e-03, 9.403349e-03,\n",
       "       9.180121e-03, 8.954410e-03, 8.726277e-03, 8.495782e-03, 8.262990e-03,\n",
       "       8.027962e-03, 7.790762e-03, 7.551454e-03, 7.310103e-03, 7.066775e-03,\n",
       "       6.821535e-03, 6.574449e-03, 6.325585e-03, 6.075010e-03, 5.822791e-03,\n",
       "       5.568997e-03, 5.313696e-03, 5.056958e-03, 4.798851e-03, 4.539446e-03,\n",
       "       4.278814e-03, 4.017023e-03, 3.754146e-03, 3.490254e-03, 3.225417e-03,\n",
       "       2.959707e-03, 2.693197e-03, 2.425958e-03, 2.158063e-03, 1.889584e-03,\n",
       "       1.620594e-03, 1.351165e-03, 1.081371e-03, 8.112844e-04, 5.409782e-04,\n",
       "       2.705257e-04, 3.381743e-05])</pre></div></li><li class='xr-var-item'><div class='xr-var-name'><span>hyam</span></div><div class='xr-var-dims'>(lev)</div><div class='xr-var-dtype'>float64</div><div class='xr-var-preview xr-preview'>...</div><input id='attrs-8d6ced64-dd19-4f87-ab26-d658888f27d4' class='xr-var-attrs-in' type='checkbox' ><label for='attrs-8d6ced64-dd19-4f87-ab26-d658888f27d4' title='Show/Hide attributes'><svg class='icon xr-icon-file-text2'><use xlink:href='#icon-file-text2'></use></svg></label><input id='data-cd7df709-c67f-49cd-8376-44498c4460b2' class='xr-var-data-in' type='checkbox'><label for='data-cd7df709-c67f-49cd-8376-44498c4460b2' title='Show/Hide data repr'><svg class='icon xr-icon-database'><use xlink:href='#icon-database'></use></svg></label><div class='xr-var-attrs'><dl class='xr-attrs'><dt><span>long_name :</span></dt><dd>hybrid A coefficient at layer midpoints</dd></dl></div><div class='xr-var-data'><pre>array([0.003643, 0.007595, 0.014357, 0.024612, 0.035923, 0.043194, 0.051677,\n",
       "       0.06152 , 0.073751, 0.087821, 0.103317, 0.121547, 0.142994, 0.168225,\n",
       "       0.178231, 0.170324, 0.161023, 0.15008 , 0.137207, 0.122062, 0.104245,\n",
       "       0.084979, 0.066502, 0.050197, 0.037189, 0.028432, 0.022209, 0.016407,\n",
       "       0.011075, 0.006255, 0.001989, 0.      ])</pre></div></li><li class='xr-var-item'><div class='xr-var-name'><span>hybm</span></div><div class='xr-var-dims'>(lev)</div><div class='xr-var-dtype'>float64</div><div class='xr-var-preview xr-preview'>...</div><input id='attrs-44146ef1-92ec-436c-95c4-a9e2cde38600' class='xr-var-attrs-in' type='checkbox' ><label for='attrs-44146ef1-92ec-436c-95c4-a9e2cde38600' title='Show/Hide attributes'><svg class='icon xr-icon-file-text2'><use xlink:href='#icon-file-text2'></use></svg></label><input id='data-092352e0-d850-4845-bfee-18d25159e3f2' class='xr-var-data-in' type='checkbox'><label for='data-092352e0-d850-4845-bfee-18d25159e3f2' title='Show/Hide data repr'><svg class='icon xr-icon-database'><use xlink:href='#icon-database'></use></svg></label><div class='xr-var-attrs'><dl class='xr-attrs'><dt><span>long_name :</span></dt><dd>hybrid B coefficient at layer midpoints</dd></dl></div><div class='xr-var-data'><pre>array([0.      , 0.      , 0.      , 0.      , 0.      , 0.      , 0.      ,\n",
       "       0.      , 0.      , 0.      , 0.      , 0.      , 0.      , 0.      ,\n",
       "       0.019677, 0.062504, 0.112888, 0.172162, 0.241894, 0.323931, 0.420442,\n",
       "       0.5248  , 0.624888, 0.713208, 0.78367 , 0.831103, 0.864811, 0.896237,\n",
       "       0.925124, 0.951231, 0.974336, 0.992556])</pre></div></li><li class='xr-var-item'><div class='xr-var-name'><span>P0</span></div><div class='xr-var-dims'>()</div><div class='xr-var-dtype'>float64</div><div class='xr-var-preview xr-preview'>...</div><input id='attrs-04f9fb56-6c4c-4ce5-b0e0-41afbb1f28b4' class='xr-var-attrs-in' type='checkbox' ><label for='attrs-04f9fb56-6c4c-4ce5-b0e0-41afbb1f28b4' title='Show/Hide attributes'><svg class='icon xr-icon-file-text2'><use xlink:href='#icon-file-text2'></use></svg></label><input id='data-01ba2f4c-8f2e-44a6-9181-2b471ac9210e' class='xr-var-data-in' type='checkbox'><label for='data-01ba2f4c-8f2e-44a6-9181-2b471ac9210e' title='Show/Hide data repr'><svg class='icon xr-icon-database'><use xlink:href='#icon-database'></use></svg></label><div class='xr-var-attrs'><dl class='xr-attrs'><dt><span>long_name :</span></dt><dd>reference pressure</dd><dt><span>units :</span></dt><dd>Pa</dd></dl></div><div class='xr-var-data'><pre>array(100000.)</pre></div></li><li class='xr-var-item'><div class='xr-var-name'><span>hyai</span></div><div class='xr-var-dims'>(ilev)</div><div class='xr-var-dtype'>float64</div><div class='xr-var-preview xr-preview'>...</div><input id='attrs-32e6f91b-bd3c-4229-9d4a-2ce6ca2148a7' class='xr-var-attrs-in' type='checkbox' ><label for='attrs-32e6f91b-bd3c-4229-9d4a-2ce6ca2148a7' title='Show/Hide attributes'><svg class='icon xr-icon-file-text2'><use xlink:href='#icon-file-text2'></use></svg></label><input id='data-780d2fb4-f3fe-4c80-9ea8-7728745306e5' class='xr-var-data-in' type='checkbox'><label for='data-780d2fb4-f3fe-4c80-9ea8-7728745306e5' title='Show/Hide data repr'><svg class='icon xr-icon-database'><use xlink:href='#icon-database'></use></svg></label><div class='xr-var-attrs'><dl class='xr-attrs'><dt><span>long_name :</span></dt><dd>hybrid A coefficient at layer interfaces</dd></dl></div><div class='xr-var-data'><pre>array([0.002255, 0.005032, 0.010158, 0.018555, 0.029735, 0.039273, 0.047114,\n",
       "       0.05624 , 0.0668  , 0.080701, 0.094941, 0.111693, 0.131401, 0.154587,\n",
       "       0.181863, 0.174598, 0.166051, 0.155995, 0.144165, 0.130248, 0.113876,\n",
       "       0.094614, 0.075344, 0.057659, 0.042735, 0.031643, 0.025221, 0.019197,\n",
       "       0.013618, 0.008531, 0.003979, 0.      , 0.      ])</pre></div></li><li class='xr-var-item'><div class='xr-var-name'><span>hybi</span></div><div class='xr-var-dims'>(ilev)</div><div class='xr-var-dtype'>float64</div><div class='xr-var-preview xr-preview'>...</div><input id='attrs-9353dcca-0190-451f-a165-373f64626170' class='xr-var-attrs-in' type='checkbox' ><label for='attrs-9353dcca-0190-451f-a165-373f64626170' title='Show/Hide attributes'><svg class='icon xr-icon-file-text2'><use xlink:href='#icon-file-text2'></use></svg></label><input id='data-fe48d308-d215-470f-86a9-75196a1186bc' class='xr-var-data-in' type='checkbox'><label for='data-fe48d308-d215-470f-86a9-75196a1186bc' title='Show/Hide data repr'><svg class='icon xr-icon-database'><use xlink:href='#icon-database'></use></svg></label><div class='xr-var-attrs'><dl class='xr-attrs'><dt><span>long_name :</span></dt><dd>hybrid B coefficient at layer interfaces</dd></dl></div><div class='xr-var-data'><pre>array([0.      , 0.      , 0.      , 0.      , 0.      , 0.      , 0.      ,\n",
       "       0.      , 0.      , 0.      , 0.      , 0.      , 0.      , 0.      ,\n",
       "       0.      , 0.039355, 0.085654, 0.140122, 0.204201, 0.279587, 0.368274,\n",
       "       0.472611, 0.576989, 0.672787, 0.753628, 0.813711, 0.848495, 0.881128,\n",
       "       0.911346, 0.938901, 0.96356 , 0.985112, 1.      ])</pre></div></li><li class='xr-var-item'><div class='xr-var-name'><span>ndbase</span></div><div class='xr-var-dims'>()</div><div class='xr-var-dtype'>float64</div><div class='xr-var-preview xr-preview'>...</div><input id='attrs-2369edea-7b78-4a18-989c-359a2236103c' class='xr-var-attrs-in' type='checkbox' ><label for='attrs-2369edea-7b78-4a18-989c-359a2236103c' title='Show/Hide attributes'><svg class='icon xr-icon-file-text2'><use xlink:href='#icon-file-text2'></use></svg></label><input id='data-a8ab44dc-2e98-4b66-b8ea-4c20db5e17fb' class='xr-var-data-in' type='checkbox'><label for='data-a8ab44dc-2e98-4b66-b8ea-4c20db5e17fb' title='Show/Hide data repr'><svg class='icon xr-icon-database'><use xlink:href='#icon-database'></use></svg></label><div class='xr-var-attrs'><dl class='xr-attrs'><dt><span>long_name :</span></dt><dd>base day</dd></dl></div><div class='xr-var-data'><pre>array(0.)</pre></div></li><li class='xr-var-item'><div class='xr-var-name'><span>nsbase</span></div><div class='xr-var-dims'>()</div><div class='xr-var-dtype'>float64</div><div class='xr-var-preview xr-preview'>...</div><input id='attrs-ff7ffb03-a513-475e-8a4a-8cdcea3156b3' class='xr-var-attrs-in' type='checkbox' ><label for='attrs-ff7ffb03-a513-475e-8a4a-8cdcea3156b3' title='Show/Hide attributes'><svg class='icon xr-icon-file-text2'><use xlink:href='#icon-file-text2'></use></svg></label><input id='data-f4a76690-bdde-4fe3-be8e-c79bade5aa43' class='xr-var-data-in' type='checkbox'><label for='data-f4a76690-bdde-4fe3-be8e-c79bade5aa43' title='Show/Hide data repr'><svg class='icon xr-icon-database'><use xlink:href='#icon-database'></use></svg></label><div class='xr-var-attrs'><dl class='xr-attrs'><dt><span>long_name :</span></dt><dd>seconds of base day</dd></dl></div><div class='xr-var-data'><pre>array(0.)</pre></div></li><li class='xr-var-item'><div class='xr-var-name'><span>nbdate</span></div><div class='xr-var-dims'>()</div><div class='xr-var-dtype'>float64</div><div class='xr-var-preview xr-preview'>...</div><input id='attrs-b133cf13-6466-47f8-bf7e-4289da412741' class='xr-var-attrs-in' type='checkbox' ><label for='attrs-b133cf13-6466-47f8-bf7e-4289da412741' title='Show/Hide attributes'><svg class='icon xr-icon-file-text2'><use xlink:href='#icon-file-text2'></use></svg></label><input id='data-e2611c32-d0dd-4a3c-84f9-724acbe8fce4' class='xr-var-data-in' type='checkbox'><label for='data-e2611c32-d0dd-4a3c-84f9-724acbe8fce4' title='Show/Hide data repr'><svg class='icon xr-icon-database'><use xlink:href='#icon-database'></use></svg></label><div class='xr-var-attrs'><dl class='xr-attrs'><dt><span>long_name :</span></dt><dd>base date (YYYYMMDD)</dd></dl></div><div class='xr-var-data'><pre>array(18500101.)</pre></div></li><li class='xr-var-item'><div class='xr-var-name'><span>nbsec</span></div><div class='xr-var-dims'>()</div><div class='xr-var-dtype'>float64</div><div class='xr-var-preview xr-preview'>...</div><input id='attrs-9c08f97a-410d-451b-9ba1-fca65710cf96' class='xr-var-attrs-in' type='checkbox' ><label for='attrs-9c08f97a-410d-451b-9ba1-fca65710cf96' title='Show/Hide attributes'><svg class='icon xr-icon-file-text2'><use xlink:href='#icon-file-text2'></use></svg></label><input id='data-82116480-1e87-4d75-baf4-49d4b22d0486' class='xr-var-data-in' type='checkbox'><label for='data-82116480-1e87-4d75-baf4-49d4b22d0486' title='Show/Hide data repr'><svg class='icon xr-icon-database'><use xlink:href='#icon-database'></use></svg></label><div class='xr-var-attrs'><dl class='xr-attrs'><dt><span>long_name :</span></dt><dd>seconds of base date</dd></dl></div><div class='xr-var-data'><pre>array(0.)</pre></div></li><li class='xr-var-item'><div class='xr-var-name'><span>mdt</span></div><div class='xr-var-dims'>()</div><div class='xr-var-dtype'>float64</div><div class='xr-var-preview xr-preview'>...</div><input id='attrs-44054e21-fe46-43cc-9b5d-6c37ed243c10' class='xr-var-attrs-in' type='checkbox' ><label for='attrs-44054e21-fe46-43cc-9b5d-6c37ed243c10' title='Show/Hide attributes'><svg class='icon xr-icon-file-text2'><use xlink:href='#icon-file-text2'></use></svg></label><input id='data-59705b36-1e4a-4c1c-a831-84912ad49fbb' class='xr-var-data-in' type='checkbox'><label for='data-59705b36-1e4a-4c1c-a831-84912ad49fbb' title='Show/Hide data repr'><svg class='icon xr-icon-database'><use xlink:href='#icon-database'></use></svg></label><div class='xr-var-attrs'><dl class='xr-attrs'><dt><span>long_name :</span></dt><dd>timestep</dd><dt><span>units :</span></dt><dd>s</dd></dl></div><div class='xr-var-data'><pre>array(1800.)</pre></div></li><li class='xr-var-item'><div class='xr-var-name'><span>date</span></div><div class='xr-var-dims'>(time)</div><div class='xr-var-dtype'>float64</div><div class='xr-var-preview xr-preview'>...</div><input id='attrs-14218794-1563-4a73-9d9b-6dde6f7f4aee' class='xr-var-attrs-in' type='checkbox' ><label for='attrs-14218794-1563-4a73-9d9b-6dde6f7f4aee' title='Show/Hide attributes'><svg class='icon xr-icon-file-text2'><use xlink:href='#icon-file-text2'></use></svg></label><input id='data-c2aacb78-319b-4e5f-a06d-f4d37fd86ad2' class='xr-var-data-in' type='checkbox'><label for='data-c2aacb78-319b-4e5f-a06d-f4d37fd86ad2' title='Show/Hide data repr'><svg class='icon xr-icon-database'><use xlink:href='#icon-database'></use></svg></label><div class='xr-var-attrs'><dl class='xr-attrs'><dt><span>long_name :</span></dt><dd>current date (YYYYMMDD)</dd></dl></div><div class='xr-var-data'><pre>array([18500201., 18500301., 18500401., 18500501., 18500601., 18500701.,\n",
       "       18500801., 18500901., 18501001., 18501101., 18501201., 18510101.,\n",
       "       18510201., 18510301., 18510401., 18510501., 18510601., 18510701.,\n",
       "       18510801., 18510901., 18511001., 18511101., 18511201., 18520101.,\n",
       "       18520201., 18520301., 18520401., 18520501., 18520601., 18520701.,\n",
       "       18520801., 18520901., 18521001., 18521101., 18521201., 18530101.,\n",
       "       18530201., 18530301., 18530401., 18530501., 18530601., 18530701.,\n",
       "       18530801., 18530901., 18531001., 18531101., 18531201., 18540101.,\n",
       "       18540201., 18540301., 18540401., 18540501., 18540601., 18540701.,\n",
       "       18540801., 18540901., 18541001., 18541101., 18541201., 18550101.,\n",
       "       18550201., 18550301., 18550401., 18550501., 18550601., 18550701.,\n",
       "       18550801., 18550901., 18551001., 18551101., 18551201., 18560101.,\n",
       "       18560201., 18560301., 18560401., 18560501., 18560601., 18560701.,\n",
       "       18560801., 18560901., 18561001., 18561101., 18561201., 18570101.,\n",
       "       18570201., 18570301., 18570401., 18570501., 18570601., 18570701.,\n",
       "       18570801., 18570901., 18571001., 18571101., 18571201., 18580101.,\n",
       "       18580201., 18580301., 18580401., 18580501., 18580601., 18580701.,\n",
       "       18580801., 18580901., 18581001., 18581101., 18581201., 18590101.,\n",
       "       18590201., 18590301., 18590401., 18590501., 18590601., 18590701.,\n",
       "       18590801., 18590901., 18591001., 18591101., 18591201., 18600101.])</pre></div></li><li class='xr-var-item'><div class='xr-var-name'><span>datesec</span></div><div class='xr-var-dims'>(time)</div><div class='xr-var-dtype'>float64</div><div class='xr-var-preview xr-preview'>...</div><input id='attrs-8870856a-1d45-4b76-a948-05c475e7dad8' class='xr-var-attrs-in' type='checkbox' ><label for='attrs-8870856a-1d45-4b76-a948-05c475e7dad8' title='Show/Hide attributes'><svg class='icon xr-icon-file-text2'><use xlink:href='#icon-file-text2'></use></svg></label><input id='data-7d800bfe-6c20-4d3d-9a46-d030df065bb8' class='xr-var-data-in' type='checkbox'><label for='data-7d800bfe-6c20-4d3d-9a46-d030df065bb8' title='Show/Hide data repr'><svg class='icon xr-icon-database'><use xlink:href='#icon-database'></use></svg></label><div class='xr-var-attrs'><dl class='xr-attrs'><dt><span>long_name :</span></dt><dd>current seconds of current date</dd></dl></div><div class='xr-var-data'><pre>array([0., 0., 0., 0., 0., 0., 0., 0., 0., 0., 0., 0., 0., 0., 0., 0., 0., 0.,\n",
       "       0., 0., 0., 0., 0., 0., 0., 0., 0., 0., 0., 0., 0., 0., 0., 0., 0., 0.,\n",
       "       0., 0., 0., 0., 0., 0., 0., 0., 0., 0., 0., 0., 0., 0., 0., 0., 0., 0.,\n",
       "       0., 0., 0., 0., 0., 0., 0., 0., 0., 0., 0., 0., 0., 0., 0., 0., 0., 0.,\n",
       "       0., 0., 0., 0., 0., 0., 0., 0., 0., 0., 0., 0., 0., 0., 0., 0., 0., 0.,\n",
       "       0., 0., 0., 0., 0., 0., 0., 0., 0., 0., 0., 0., 0., 0., 0., 0., 0., 0.,\n",
       "       0., 0., 0., 0., 0., 0., 0., 0., 0., 0., 0., 0.])</pre></div></li><li class='xr-var-item'><div class='xr-var-name'><span>time_bnds</span></div><div class='xr-var-dims'>(time, nbnd)</div><div class='xr-var-dtype'>object</div><div class='xr-var-preview xr-preview'>...</div><input id='attrs-5f71f2f2-5479-470d-8771-32e4f00dbe57' class='xr-var-attrs-in' type='checkbox' ><label for='attrs-5f71f2f2-5479-470d-8771-32e4f00dbe57' title='Show/Hide attributes'><svg class='icon xr-icon-file-text2'><use xlink:href='#icon-file-text2'></use></svg></label><input id='data-601b48cd-2795-4b67-9f4c-4d6724c12bf1' class='xr-var-data-in' type='checkbox'><label for='data-601b48cd-2795-4b67-9f4c-4d6724c12bf1' title='Show/Hide data repr'><svg class='icon xr-icon-database'><use xlink:href='#icon-database'></use></svg></label><div class='xr-var-attrs'><dl class='xr-attrs'><dt><span>long_name :</span></dt><dd>time interval endpoints</dd></dl></div><div class='xr-var-data'><pre>array([[cftime.DatetimeNoLeap(1850, 1, 1, 0, 0, 0, 0),\n",
       "        cftime.DatetimeNoLeap(1850, 2, 1, 0, 0, 0, 0)],\n",
       "       [cftime.DatetimeNoLeap(1850, 2, 1, 0, 0, 0, 0),\n",
       "        cftime.DatetimeNoLeap(1850, 3, 1, 0, 0, 0, 0)],\n",
       "       [cftime.DatetimeNoLeap(1850, 3, 1, 0, 0, 0, 0),\n",
       "        cftime.DatetimeNoLeap(1850, 4, 1, 0, 0, 0, 0)],\n",
       "       ...,\n",
       "       [cftime.DatetimeNoLeap(1859, 10, 1, 0, 0, 0, 0),\n",
       "        cftime.DatetimeNoLeap(1859, 11, 1, 0, 0, 0, 0)],\n",
       "       [cftime.DatetimeNoLeap(1859, 11, 1, 0, 0, 0, 0),\n",
       "        cftime.DatetimeNoLeap(1859, 12, 1, 0, 0, 0, 0)],\n",
       "       [cftime.DatetimeNoLeap(1859, 12, 1, 0, 0, 0, 0),\n",
       "        cftime.DatetimeNoLeap(1860, 1, 1, 0, 0, 0, 0)]], dtype=object)</pre></div></li><li class='xr-var-item'><div class='xr-var-name'><span>date_written</span></div><div class='xr-var-dims'>(time)</div><div class='xr-var-dtype'>object</div><div class='xr-var-preview xr-preview'>...</div><input id='attrs-8c7afe67-98b3-477b-bf0a-906feac8cc4a' class='xr-var-attrs-in' type='checkbox' disabled><label for='attrs-8c7afe67-98b3-477b-bf0a-906feac8cc4a' title='Show/Hide attributes'><svg class='icon xr-icon-file-text2'><use xlink:href='#icon-file-text2'></use></svg></label><input id='data-e1e13b7b-992c-4878-aad7-137048ff279a' class='xr-var-data-in' type='checkbox'><label for='data-e1e13b7b-992c-4878-aad7-137048ff279a' title='Show/Hide data repr'><svg class='icon xr-icon-database'><use xlink:href='#icon-database'></use></svg></label><div class='xr-var-attrs'><dl class='xr-attrs'></dl></div><div class='xr-var-data'><pre>array([b&#x27;01/31/20&#x27;, b&#x27;01/31/20&#x27;, b&#x27;01/31/20&#x27;, b&#x27;01/31/20&#x27;, b&#x27;01/31/20&#x27;,\n",
       "       b&#x27;01/31/20&#x27;, b&#x27;01/31/20&#x27;, b&#x27;01/31/20&#x27;, b&#x27;01/31/20&#x27;, b&#x27;01/31/20&#x27;,\n",
       "       b&#x27;01/31/20&#x27;, b&#x27;01/31/20&#x27;, b&#x27;01/31/20&#x27;, b&#x27;01/31/20&#x27;, b&#x27;01/31/20&#x27;,\n",
       "       b&#x27;01/31/20&#x27;, b&#x27;01/31/20&#x27;, b&#x27;01/31/20&#x27;, b&#x27;01/31/20&#x27;, b&#x27;01/31/20&#x27;,\n",
       "       b&#x27;01/31/20&#x27;, b&#x27;01/31/20&#x27;, b&#x27;01/31/20&#x27;, b&#x27;01/31/20&#x27;, b&#x27;01/31/20&#x27;,\n",
       "       b&#x27;01/31/20&#x27;, b&#x27;01/31/20&#x27;, b&#x27;01/31/20&#x27;, b&#x27;01/31/20&#x27;, b&#x27;01/31/20&#x27;,\n",
       "       b&#x27;01/31/20&#x27;, b&#x27;01/31/20&#x27;, b&#x27;01/31/20&#x27;, b&#x27;01/31/20&#x27;, b&#x27;01/31/20&#x27;,\n",
       "       b&#x27;01/31/20&#x27;, b&#x27;01/31/20&#x27;, b&#x27;01/31/20&#x27;, b&#x27;01/31/20&#x27;, b&#x27;01/31/20&#x27;,\n",
       "       b&#x27;01/31/20&#x27;, b&#x27;01/31/20&#x27;, b&#x27;01/31/20&#x27;, b&#x27;01/31/20&#x27;, b&#x27;01/31/20&#x27;,\n",
       "       b&#x27;01/31/20&#x27;, b&#x27;01/31/20&#x27;, b&#x27;01/31/20&#x27;, b&#x27;01/31/20&#x27;, b&#x27;01/31/20&#x27;,\n",
       "       b&#x27;01/31/20&#x27;, b&#x27;01/31/20&#x27;, b&#x27;01/31/20&#x27;, b&#x27;02/01/20&#x27;, b&#x27;02/01/20&#x27;,\n",
       "       b&#x27;02/01/20&#x27;, b&#x27;02/01/20&#x27;, b&#x27;02/01/20&#x27;, b&#x27;02/01/20&#x27;, b&#x27;02/01/20&#x27;,\n",
       "       b&#x27;02/01/20&#x27;, b&#x27;02/01/20&#x27;, b&#x27;02/01/20&#x27;, b&#x27;02/01/20&#x27;, b&#x27;02/01/20&#x27;,\n",
       "       b&#x27;02/01/20&#x27;, b&#x27;02/01/20&#x27;, b&#x27;02/01/20&#x27;, b&#x27;02/01/20&#x27;, b&#x27;02/01/20&#x27;,\n",
       "       b&#x27;02/01/20&#x27;, b&#x27;02/01/20&#x27;, b&#x27;02/01/20&#x27;, b&#x27;02/01/20&#x27;, b&#x27;02/01/20&#x27;,\n",
       "       b&#x27;02/01/20&#x27;, b&#x27;02/01/20&#x27;, b&#x27;02/01/20&#x27;, b&#x27;02/01/20&#x27;, b&#x27;02/01/20&#x27;,\n",
       "       b&#x27;02/01/20&#x27;, b&#x27;02/01/20&#x27;, b&#x27;02/01/20&#x27;, b&#x27;02/01/20&#x27;, b&#x27;02/01/20&#x27;,\n",
       "       b&#x27;02/01/20&#x27;, b&#x27;02/01/20&#x27;, b&#x27;02/01/20&#x27;, b&#x27;02/01/20&#x27;, b&#x27;02/01/20&#x27;,\n",
       "       b&#x27;02/01/20&#x27;, b&#x27;02/01/20&#x27;, b&#x27;02/01/20&#x27;, b&#x27;02/01/20&#x27;, b&#x27;02/01/20&#x27;,\n",
       "       b&#x27;02/01/20&#x27;, b&#x27;02/01/20&#x27;, b&#x27;02/01/20&#x27;, b&#x27;02/01/20&#x27;, b&#x27;02/01/20&#x27;,\n",
       "       b&#x27;02/01/20&#x27;, b&#x27;02/01/20&#x27;, b&#x27;02/01/20&#x27;, b&#x27;02/01/20&#x27;, b&#x27;02/01/20&#x27;,\n",
       "       b&#x27;02/01/20&#x27;, b&#x27;02/01/20&#x27;, b&#x27;02/01/20&#x27;, b&#x27;02/01/20&#x27;, b&#x27;02/01/20&#x27;,\n",
       "       b&#x27;02/01/20&#x27;, b&#x27;02/01/20&#x27;, b&#x27;02/01/20&#x27;, b&#x27;02/01/20&#x27;, b&#x27;02/01/20&#x27;,\n",
       "       b&#x27;02/01/20&#x27;, b&#x27;02/01/20&#x27;, b&#x27;02/01/20&#x27;, b&#x27;02/01/20&#x27;, b&#x27;02/01/20&#x27;],\n",
       "      dtype=object)</pre></div></li><li class='xr-var-item'><div class='xr-var-name'><span>time_written</span></div><div class='xr-var-dims'>(time)</div><div class='xr-var-dtype'>object</div><div class='xr-var-preview xr-preview'>...</div><input id='attrs-4915f3c7-3d19-41fe-a442-06876fe8c9ce' class='xr-var-attrs-in' type='checkbox' disabled><label for='attrs-4915f3c7-3d19-41fe-a442-06876fe8c9ce' title='Show/Hide attributes'><svg class='icon xr-icon-file-text2'><use xlink:href='#icon-file-text2'></use></svg></label><input id='data-07420197-ce53-437d-b51a-9f46c269ee8b' class='xr-var-data-in' type='checkbox'><label for='data-07420197-ce53-437d-b51a-9f46c269ee8b' title='Show/Hide data repr'><svg class='icon xr-icon-database'><use xlink:href='#icon-database'></use></svg></label><div class='xr-var-attrs'><dl class='xr-attrs'></dl></div><div class='xr-var-data'><pre>array([b&#x27;16:35:01&#x27;, b&#x27;16:43:02&#x27;, b&#x27;16:51:44&#x27;, b&#x27;17:00:07&#x27;, b&#x27;17:08:46&#x27;,\n",
       "       b&#x27;17:17:06&#x27;, b&#x27;17:25:43&#x27;, b&#x27;17:34:24&#x27;, b&#x27;17:42:50&#x27;, b&#x27;17:51:34&#x27;,\n",
       "       b&#x27;17:59:59&#x27;, b&#x27;18:08:42&#x27;, b&#x27;18:17:29&#x27;, b&#x27;18:25:20&#x27;, b&#x27;18:34:01&#x27;,\n",
       "       b&#x27;18:42:25&#x27;, b&#x27;18:51:03&#x27;, b&#x27;18:59:26&#x27;, b&#x27;19:08:06&#x27;, b&#x27;19:16:46&#x27;,\n",
       "       b&#x27;19:25:10&#x27;, b&#x27;19:33:50&#x27;, b&#x27;19:42:19&#x27;, b&#x27;19:51:08&#x27;, b&#x27;19:59:53&#x27;,\n",
       "       b&#x27;20:07:49&#x27;, b&#x27;20:16:29&#x27;, b&#x27;20:24:53&#x27;, b&#x27;20:33:31&#x27;, b&#x27;20:41:51&#x27;,\n",
       "       b&#x27;20:50:31&#x27;, b&#x27;20:59:08&#x27;, b&#x27;21:07:29&#x27;, b&#x27;21:16:09&#x27;, b&#x27;21:24:32&#x27;,\n",
       "       b&#x27;21:33:11&#x27;, b&#x27;21:41:58&#x27;, b&#x27;21:49:50&#x27;, b&#x27;21:58:36&#x27;, b&#x27;22:06:58&#x27;,\n",
       "       b&#x27;22:15:35&#x27;, b&#x27;22:23:56&#x27;, b&#x27;22:32:35&#x27;, b&#x27;22:41:18&#x27;, b&#x27;22:49:45&#x27;,\n",
       "       b&#x27;22:58:26&#x27;, b&#x27;23:06:51&#x27;, b&#x27;23:15:32&#x27;, b&#x27;23:24:23&#x27;, b&#x27;23:32:20&#x27;,\n",
       "       b&#x27;23:41:05&#x27;, b&#x27;23:49:27&#x27;, b&#x27;23:58:07&#x27;, b&#x27;00:06:31&#x27;, b&#x27;00:15:12&#x27;,\n",
       "       b&#x27;00:23:51&#x27;, b&#x27;00:32:16&#x27;, b&#x27;00:40:58&#x27;, b&#x27;00:49:30&#x27;, b&#x27;00:58:07&#x27;,\n",
       "       b&#x27;01:06:51&#x27;, b&#x27;01:14:46&#x27;, b&#x27;01:23:27&#x27;, b&#x27;01:31:50&#x27;, b&#x27;01:40:30&#x27;,\n",
       "       b&#x27;01:48:52&#x27;, b&#x27;01:57:33&#x27;, b&#x27;02:06:15&#x27;, b&#x27;02:14:46&#x27;, b&#x27;02:23:38&#x27;,\n",
       "       b&#x27;02:32:08&#x27;, b&#x27;02:40:50&#x27;, b&#x27;02:49:34&#x27;, b&#x27;02:57:34&#x27;, b&#x27;03:06:19&#x27;,\n",
       "       b&#x27;03:14:41&#x27;, b&#x27;03:23:17&#x27;, b&#x27;03:31:37&#x27;, b&#x27;03:40:13&#x27;, b&#x27;03:48:56&#x27;,\n",
       "       b&#x27;03:57:27&#x27;, b&#x27;04:06:15&#x27;, b&#x27;04:14:43&#x27;, b&#x27;04:23:24&#x27;, b&#x27;04:32:04&#x27;,\n",
       "       b&#x27;04:40:03&#x27;, b&#x27;04:48:47&#x27;, b&#x27;04:57:11&#x27;, b&#x27;05:05:50&#x27;, b&#x27;05:14:15&#x27;,\n",
       "       b&#x27;05:22:55&#x27;, b&#x27;05:31:40&#x27;, b&#x27;05:40:07&#x27;, b&#x27;05:48:50&#x27;, b&#x27;05:57:23&#x27;,\n",
       "       b&#x27;06:06:06&#x27;, b&#x27;06:14:58&#x27;, b&#x27;06:22:49&#x27;, b&#x27;06:31:28&#x27;, b&#x27;06:39:50&#x27;,\n",
       "       b&#x27;06:48:36&#x27;, b&#x27;06:57:11&#x27;, b&#x27;07:05:47&#x27;, b&#x27;07:14:35&#x27;, b&#x27;07:23:06&#x27;,\n",
       "       b&#x27;07:31:48&#x27;, b&#x27;07:40:12&#x27;, b&#x27;07:49:03&#x27;, b&#x27;07:57:47&#x27;, b&#x27;08:05:43&#x27;,\n",
       "       b&#x27;08:14:28&#x27;, b&#x27;08:22:50&#x27;, b&#x27;08:31:29&#x27;, b&#x27;08:39:51&#x27;, b&#x27;08:48:31&#x27;,\n",
       "       b&#x27;08:57:15&#x27;, b&#x27;09:05:39&#x27;, b&#x27;09:14:22&#x27;, b&#x27;09:22:55&#x27;, b&#x27;09:31:39&#x27;],\n",
       "      dtype=object)</pre></div></li><li class='xr-var-item'><div class='xr-var-name'><span>ndcur</span></div><div class='xr-var-dims'>(time)</div><div class='xr-var-dtype'>float64</div><div class='xr-var-preview xr-preview'>...</div><input id='attrs-74709f0a-b23d-41f7-a409-86c1f2ac3656' class='xr-var-attrs-in' type='checkbox' ><label for='attrs-74709f0a-b23d-41f7-a409-86c1f2ac3656' title='Show/Hide attributes'><svg class='icon xr-icon-file-text2'><use xlink:href='#icon-file-text2'></use></svg></label><input id='data-e4f7f8bc-3831-4f7f-9b14-cedcbedace13' class='xr-var-data-in' type='checkbox'><label for='data-e4f7f8bc-3831-4f7f-9b14-cedcbedace13' title='Show/Hide data repr'><svg class='icon xr-icon-database'><use xlink:href='#icon-database'></use></svg></label><div class='xr-var-attrs'><dl class='xr-attrs'><dt><span>long_name :</span></dt><dd>current day (from base day)</dd></dl></div><div class='xr-var-data'><pre>array([  31.,   59.,   90.,  120.,  151.,  181.,  212.,  243.,  273.,  304.,\n",
       "        334.,  365.,  396.,  424.,  455.,  485.,  516.,  546.,  577.,  608.,\n",
       "        638.,  669.,  699.,  730.,  761.,  789.,  820.,  850.,  881.,  911.,\n",
       "        942.,  973., 1003., 1034., 1064., 1095., 1126., 1154., 1185., 1215.,\n",
       "       1246., 1276., 1307., 1338., 1368., 1399., 1429., 1460., 1491., 1519.,\n",
       "       1550., 1580., 1611., 1641., 1672., 1703., 1733., 1764., 1794., 1825.,\n",
       "       1856., 1884., 1915., 1945., 1976., 2006., 2037., 2068., 2098., 2129.,\n",
       "       2159., 2190., 2221., 2249., 2280., 2310., 2341., 2371., 2402., 2433.,\n",
       "       2463., 2494., 2524., 2555., 2586., 2614., 2645., 2675., 2706., 2736.,\n",
       "       2767., 2798., 2828., 2859., 2889., 2920., 2951., 2979., 3010., 3040.,\n",
       "       3071., 3101., 3132., 3163., 3193., 3224., 3254., 3285., 3316., 3344.,\n",
       "       3375., 3405., 3436., 3466., 3497., 3528., 3558., 3589., 3619., 3650.])</pre></div></li><li class='xr-var-item'><div class='xr-var-name'><span>nscur</span></div><div class='xr-var-dims'>(time)</div><div class='xr-var-dtype'>float64</div><div class='xr-var-preview xr-preview'>...</div><input id='attrs-5bd1044d-cfc6-4424-a707-9052861ba3d3' class='xr-var-attrs-in' type='checkbox' ><label for='attrs-5bd1044d-cfc6-4424-a707-9052861ba3d3' title='Show/Hide attributes'><svg class='icon xr-icon-file-text2'><use xlink:href='#icon-file-text2'></use></svg></label><input id='data-8d5fa525-bec7-41f8-9c4f-78d2605dba4c' class='xr-var-data-in' type='checkbox'><label for='data-8d5fa525-bec7-41f8-9c4f-78d2605dba4c' title='Show/Hide data repr'><svg class='icon xr-icon-database'><use xlink:href='#icon-database'></use></svg></label><div class='xr-var-attrs'><dl class='xr-attrs'><dt><span>long_name :</span></dt><dd>current seconds of current day</dd></dl></div><div class='xr-var-data'><pre>array([0., 0., 0., 0., 0., 0., 0., 0., 0., 0., 0., 0., 0., 0., 0., 0., 0., 0.,\n",
       "       0., 0., 0., 0., 0., 0., 0., 0., 0., 0., 0., 0., 0., 0., 0., 0., 0., 0.,\n",
       "       0., 0., 0., 0., 0., 0., 0., 0., 0., 0., 0., 0., 0., 0., 0., 0., 0., 0.,\n",
       "       0., 0., 0., 0., 0., 0., 0., 0., 0., 0., 0., 0., 0., 0., 0., 0., 0., 0.,\n",
       "       0., 0., 0., 0., 0., 0., 0., 0., 0., 0., 0., 0., 0., 0., 0., 0., 0., 0.,\n",
       "       0., 0., 0., 0., 0., 0., 0., 0., 0., 0., 0., 0., 0., 0., 0., 0., 0., 0.,\n",
       "       0., 0., 0., 0., 0., 0., 0., 0., 0., 0., 0., 0.])</pre></div></li><li class='xr-var-item'><div class='xr-var-name'><span>co2vmr</span></div><div class='xr-var-dims'>(time)</div><div class='xr-var-dtype'>float64</div><div class='xr-var-preview xr-preview'>...</div><input id='attrs-73c8cc94-b470-4a9d-bd23-8c84d291a901' class='xr-var-attrs-in' type='checkbox' ><label for='attrs-73c8cc94-b470-4a9d-bd23-8c84d291a901' title='Show/Hide attributes'><svg class='icon xr-icon-file-text2'><use xlink:href='#icon-file-text2'></use></svg></label><input id='data-23fc05c5-e5bc-44b9-a043-eef688d2b779' class='xr-var-data-in' type='checkbox'><label for='data-23fc05c5-e5bc-44b9-a043-eef688d2b779' title='Show/Hide data repr'><svg class='icon xr-icon-database'><use xlink:href='#icon-database'></use></svg></label><div class='xr-var-attrs'><dl class='xr-attrs'><dt><span>long_name :</span></dt><dd>co2 volume mixing ratio</dd></dl></div><div class='xr-var-data'><pre>array([0.000284, 0.000284, 0.000284, 0.000284, 0.000284, 0.000284, 0.000284,\n",
       "       0.000284, 0.000284, 0.000284, 0.000284, 0.000284, 0.000284, 0.000284,\n",
       "       0.000284, 0.000284, 0.000284, 0.000284, 0.000284, 0.000284, 0.000284,\n",
       "       0.000285, 0.000285, 0.000285, 0.000285, 0.000285, 0.000285, 0.000285,\n",
       "       0.000285, 0.000285, 0.000285, 0.000285, 0.000285, 0.000285, 0.000285,\n",
       "       0.000285, 0.000285, 0.000285, 0.000285, 0.000285, 0.000285, 0.000285,\n",
       "       0.000285, 0.000285, 0.000285, 0.000285, 0.000285, 0.000285, 0.000285,\n",
       "       0.000285, 0.000285, 0.000285, 0.000285, 0.000285, 0.000285, 0.000285,\n",
       "       0.000285, 0.000285, 0.000285, 0.000285, 0.000285, 0.000285, 0.000285,\n",
       "       0.000285, 0.000285, 0.000285, 0.000285, 0.000285, 0.000285, 0.000285,\n",
       "       0.000285, 0.000285, 0.000285, 0.000285, 0.000285, 0.000285, 0.000285,\n",
       "       0.000285, 0.000285, 0.000285, 0.000285, 0.000285, 0.000285, 0.000285,\n",
       "       0.000285, 0.000285, 0.000285, 0.000285, 0.000285, 0.000285, 0.000285,\n",
       "       0.000285, 0.000285, 0.000285, 0.000285, 0.000285, 0.000285, 0.000285,\n",
       "       0.000285, 0.000285, 0.000285, 0.000285, 0.000285, 0.000285, 0.000285,\n",
       "       0.000285, 0.000285, 0.000285, 0.000285, 0.000285, 0.000286, 0.000286,\n",
       "       0.000286, 0.000286, 0.000286, 0.000286, 0.000286, 0.000286, 0.000286,\n",
       "       0.000286])</pre></div></li><li class='xr-var-item'><div class='xr-var-name'><span>ch4vmr</span></div><div class='xr-var-dims'>(time)</div><div class='xr-var-dtype'>float64</div><div class='xr-var-preview xr-preview'>...</div><input id='attrs-2fa303a9-a446-4f42-a880-8f462c04febb' class='xr-var-attrs-in' type='checkbox' ><label for='attrs-2fa303a9-a446-4f42-a880-8f462c04febb' title='Show/Hide attributes'><svg class='icon xr-icon-file-text2'><use xlink:href='#icon-file-text2'></use></svg></label><input id='data-1fd1c9de-9db3-447f-868a-dd419256e026' class='xr-var-data-in' type='checkbox'><label for='data-1fd1c9de-9db3-447f-868a-dd419256e026' title='Show/Hide data repr'><svg class='icon xr-icon-database'><use xlink:href='#icon-database'></use></svg></label><div class='xr-var-attrs'><dl class='xr-attrs'><dt><span>long_name :</span></dt><dd>ch4 volume mixing ratio</dd></dl></div><div class='xr-var-data'><pre>array([8.082350e-07, 8.082376e-07, 8.082405e-07, 8.082432e-07, 8.082461e-07,\n",
       "       8.082489e-07, 8.082625e-07, 8.082765e-07, 8.082901e-07, 8.083041e-07,\n",
       "       8.083177e-07, 8.083317e-07, 8.083457e-07, 8.083583e-07, 8.083723e-07,\n",
       "       8.083859e-07, 8.083999e-07, 8.084135e-07, 8.084755e-07, 8.085391e-07,\n",
       "       8.086007e-07, 8.086643e-07, 8.087259e-07, 8.087895e-07, 8.088531e-07,\n",
       "       8.089106e-07, 8.089742e-07, 8.090358e-07, 8.090994e-07, 8.091609e-07,\n",
       "       8.092650e-07, 8.093704e-07, 8.094724e-07, 8.095778e-07, 8.096798e-07,\n",
       "       8.097852e-07, 8.098906e-07, 8.099858e-07, 8.100912e-07, 8.101932e-07,\n",
       "       8.102987e-07, 8.104007e-07, 8.105132e-07, 8.106260e-07, 8.107352e-07,\n",
       "       8.108480e-07, 8.109572e-07, 8.110700e-07, 8.111828e-07, 8.112846e-07,\n",
       "       8.113974e-07, 8.115066e-07, 8.116194e-07, 8.117286e-07, 8.118637e-07,\n",
       "       8.119995e-07, 8.121309e-07, 8.122668e-07, 8.123982e-07, 8.125341e-07,\n",
       "       8.126699e-07, 8.127926e-07, 8.129284e-07, 8.130599e-07, 8.131957e-07,\n",
       "       8.133272e-07, 8.134519e-07, 8.135763e-07, 8.136966e-07, 8.138210e-07,\n",
       "       8.139413e-07, 8.140657e-07, 8.141900e-07, 8.143024e-07, 8.144267e-07,\n",
       "       8.145471e-07, 8.146714e-07, 8.147918e-07, 8.149319e-07, 8.150726e-07,\n",
       "       8.152088e-07, 8.153495e-07, 8.154856e-07, 8.156263e-07, 8.157670e-07,\n",
       "       8.158941e-07, 8.160348e-07, 8.161709e-07, 8.163116e-07, 8.164478e-07,\n",
       "       8.166087e-07, 8.167703e-07, 8.169267e-07, 8.170883e-07, 8.172447e-07,\n",
       "       8.174063e-07, 8.175679e-07, 8.177138e-07, 8.178754e-07, 8.180318e-07,\n",
       "       8.181934e-07, 8.183498e-07, 8.185228e-07, 8.186961e-07, 8.188639e-07,\n",
       "       8.190372e-07, 8.192050e-07, 8.193783e-07, 8.195517e-07, 8.197083e-07,\n",
       "       8.198816e-07, 8.200494e-07, 8.202227e-07, 8.203905e-07, 8.205535e-07,\n",
       "       8.207163e-07, 8.208738e-07, 8.210365e-07, 8.211940e-07, 8.213568e-07])</pre></div></li><li class='xr-var-item'><div class='xr-var-name'><span>n2ovmr</span></div><div class='xr-var-dims'>(time)</div><div class='xr-var-dtype'>float64</div><div class='xr-var-preview xr-preview'>...</div><input id='attrs-a0e37456-9304-417a-a73a-097eaf5aa3f6' class='xr-var-attrs-in' type='checkbox' ><label for='attrs-a0e37456-9304-417a-a73a-097eaf5aa3f6' title='Show/Hide attributes'><svg class='icon xr-icon-file-text2'><use xlink:href='#icon-file-text2'></use></svg></label><input id='data-61c60e71-8278-4d7b-8c7c-94795a7c09ff' class='xr-var-data-in' type='checkbox'><label for='data-61c60e71-8278-4d7b-8c7c-94795a7c09ff' title='Show/Hide data repr'><svg class='icon xr-icon-database'><use xlink:href='#icon-database'></use></svg></label><div class='xr-var-attrs'><dl class='xr-attrs'><dt><span>long_name :</span></dt><dd>n2o volume mixing ratio</dd></dl></div><div class='xr-var-data'><pre>array([2.729934e-07, 2.729985e-07, 2.730042e-07, 2.730097e-07, 2.730155e-07,\n",
       "       2.730210e-07, 2.730271e-07, 2.730333e-07, 2.730393e-07, 2.730455e-07,\n",
       "       2.730515e-07, 2.730577e-07, 2.730639e-07, 2.730694e-07, 2.730756e-07,\n",
       "       2.730816e-07, 2.730878e-07, 2.730938e-07, 2.731001e-07, 2.731063e-07,\n",
       "       2.731124e-07, 2.731187e-07, 2.731248e-07, 2.731311e-07, 2.731373e-07,\n",
       "       2.731430e-07, 2.731493e-07, 2.731554e-07, 2.731616e-07, 2.731677e-07,\n",
       "       2.731758e-07, 2.731840e-07, 2.731919e-07, 2.732001e-07, 2.732080e-07,\n",
       "       2.732161e-07, 2.732243e-07, 2.732317e-07, 2.732398e-07, 2.732477e-07,\n",
       "       2.732559e-07, 2.732638e-07, 2.732722e-07, 2.732806e-07, 2.732887e-07,\n",
       "       2.732971e-07, 2.733053e-07, 2.733137e-07, 2.733221e-07, 2.733296e-07,\n",
       "       2.733380e-07, 2.733462e-07, 2.733546e-07, 2.733627e-07, 2.733718e-07,\n",
       "       2.733809e-07, 2.733897e-07, 2.733987e-07, 2.734075e-07, 2.734166e-07,\n",
       "       2.734257e-07, 2.734339e-07, 2.734430e-07, 2.734518e-07, 2.734609e-07,\n",
       "       2.734697e-07, 2.734788e-07, 2.734880e-07, 2.734969e-07, 2.735061e-07,\n",
       "       2.735150e-07, 2.735242e-07, 2.735333e-07, 2.735416e-07, 2.735508e-07,\n",
       "       2.735597e-07, 2.735689e-07, 2.735778e-07, 2.735860e-07, 2.735943e-07,\n",
       "       2.736022e-07, 2.736105e-07, 2.736184e-07, 2.736267e-07, 2.736349e-07,\n",
       "       2.736423e-07, 2.736506e-07, 2.736586e-07, 2.736668e-07, 2.736748e-07,\n",
       "       2.736817e-07, 2.736886e-07, 2.736952e-07, 2.737021e-07, 2.737087e-07,\n",
       "       2.737156e-07, 2.737225e-07, 2.737287e-07, 2.737356e-07, 2.737422e-07,\n",
       "       2.737491e-07, 2.737558e-07, 2.737674e-07, 2.737792e-07, 2.737907e-07,\n",
       "       2.738025e-07, 2.738139e-07, 2.738257e-07, 2.738375e-07, 2.738481e-07,\n",
       "       2.738600e-07, 2.738714e-07, 2.738832e-07, 2.738946e-07, 2.739082e-07,\n",
       "       2.739219e-07, 2.739351e-07, 2.739488e-07, 2.739620e-07, 2.739757e-07])</pre></div></li><li class='xr-var-item'><div class='xr-var-name'><span>f11vmr</span></div><div class='xr-var-dims'>(time)</div><div class='xr-var-dtype'>float64</div><div class='xr-var-preview xr-preview'>...</div><input id='attrs-dadb226b-0c52-456e-9968-e5c3695df73e' class='xr-var-attrs-in' type='checkbox' ><label for='attrs-dadb226b-0c52-456e-9968-e5c3695df73e' title='Show/Hide attributes'><svg class='icon xr-icon-file-text2'><use xlink:href='#icon-file-text2'></use></svg></label><input id='data-e45e52f9-0fb9-4fff-93a8-5fabbcbccda4' class='xr-var-data-in' type='checkbox'><label for='data-e45e52f9-0fb9-4fff-93a8-5fabbcbccda4' title='Show/Hide data repr'><svg class='icon xr-icon-database'><use xlink:href='#icon-database'></use></svg></label><div class='xr-var-attrs'><dl class='xr-attrs'><dt><span>long_name :</span></dt><dd>f11 volume mixing ratio</dd></dl></div><div class='xr-var-data'><pre>array([3.211021e-11, 3.211021e-11, 3.211021e-11, 3.211021e-11, 3.211021e-11,\n",
       "       3.211021e-11, 3.211021e-11, 3.211021e-11, 3.211021e-11, 3.211021e-11,\n",
       "       3.211021e-11, 3.211021e-11, 3.211021e-11, 3.211021e-11, 3.211021e-11,\n",
       "       3.211021e-11, 3.211021e-11, 3.211021e-11, 3.211021e-11, 3.211021e-11,\n",
       "       3.211021e-11, 3.211021e-11, 3.211021e-11, 3.211021e-11, 3.211021e-11,\n",
       "       3.211021e-11, 3.211022e-11, 3.211022e-11, 3.211022e-11, 3.211022e-11,\n",
       "       3.211022e-11, 3.211022e-11, 3.211022e-11, 3.211022e-11, 3.211022e-11,\n",
       "       3.211022e-11, 3.211022e-11, 3.211022e-11, 3.211023e-11, 3.211023e-11,\n",
       "       3.211023e-11, 3.211023e-11, 3.211023e-11, 3.211023e-11, 3.211023e-11,\n",
       "       3.211023e-11, 3.211023e-11, 3.211023e-11, 3.211023e-11, 3.211023e-11,\n",
       "       3.211023e-11, 3.211023e-11, 3.211023e-11, 3.211023e-11, 3.211023e-11,\n",
       "       3.211023e-11, 3.211023e-11, 3.211023e-11, 3.211024e-11, 3.211024e-11,\n",
       "       3.211024e-11, 3.211024e-11, 3.211024e-11, 3.211024e-11, 3.211024e-11,\n",
       "       3.211024e-11, 3.211024e-11, 3.211024e-11, 3.211024e-11, 3.211025e-11,\n",
       "       3.211025e-11, 3.211025e-11, 3.211025e-11, 3.211025e-11, 3.211025e-11,\n",
       "       3.211025e-11, 3.211025e-11, 3.211025e-11, 3.211025e-11, 3.211025e-11,\n",
       "       3.211025e-11, 3.211025e-11, 3.211025e-11, 3.211025e-11, 3.211025e-11,\n",
       "       3.211025e-11, 3.211025e-11, 3.211025e-11, 3.211025e-11, 3.211025e-11,\n",
       "       3.211025e-11, 3.211025e-11, 3.211025e-11, 3.211026e-11, 3.211026e-11,\n",
       "       3.211026e-11, 3.211027e-11, 3.211027e-11, 3.211027e-11, 3.211027e-11,\n",
       "       3.211028e-11, 3.211028e-11, 3.211028e-11, 3.211028e-11, 3.211028e-11,\n",
       "       3.211028e-11, 3.211028e-11, 3.211028e-11, 3.211028e-11, 3.211028e-11,\n",
       "       3.211028e-11, 3.211028e-11, 3.211028e-11, 3.211028e-11, 3.211028e-11,\n",
       "       3.211029e-11, 3.211029e-11, 3.211029e-11, 3.211029e-11, 3.211029e-11])</pre></div></li><li class='xr-var-item'><div class='xr-var-name'><span>f12vmr</span></div><div class='xr-var-dims'>(time)</div><div class='xr-var-dtype'>float64</div><div class='xr-var-preview xr-preview'>...</div><input id='attrs-b46c379d-efb6-4073-aca4-dd00e8b37290' class='xr-var-attrs-in' type='checkbox' ><label for='attrs-b46c379d-efb6-4073-aca4-dd00e8b37290' title='Show/Hide attributes'><svg class='icon xr-icon-file-text2'><use xlink:href='#icon-file-text2'></use></svg></label><input id='data-f02af955-5eae-4799-a90d-dcd56b9b8625' class='xr-var-data-in' type='checkbox'><label for='data-f02af955-5eae-4799-a90d-dcd56b9b8625' title='Show/Hide data repr'><svg class='icon xr-icon-database'><use xlink:href='#icon-database'></use></svg></label><div class='xr-var-attrs'><dl class='xr-attrs'><dt><span>long_name :</span></dt><dd>f12 volume mixing ratio</dd></dl></div><div class='xr-var-data'><pre>array([0., 0., 0., 0., 0., 0., 0., 0., 0., 0., 0., 0., 0., 0., 0., 0., 0., 0.,\n",
       "       0., 0., 0., 0., 0., 0., 0., 0., 0., 0., 0., 0., 0., 0., 0., 0., 0., 0.,\n",
       "       0., 0., 0., 0., 0., 0., 0., 0., 0., 0., 0., 0., 0., 0., 0., 0., 0., 0.,\n",
       "       0., 0., 0., 0., 0., 0., 0., 0., 0., 0., 0., 0., 0., 0., 0., 0., 0., 0.,\n",
       "       0., 0., 0., 0., 0., 0., 0., 0., 0., 0., 0., 0., 0., 0., 0., 0., 0., 0.,\n",
       "       0., 0., 0., 0., 0., 0., 0., 0., 0., 0., 0., 0., 0., 0., 0., 0., 0., 0.,\n",
       "       0., 0., 0., 0., 0., 0., 0., 0., 0., 0., 0., 0.])</pre></div></li><li class='xr-var-item'><div class='xr-var-name'><span>sol_tsi</span></div><div class='xr-var-dims'>(time)</div><div class='xr-var-dtype'>float64</div><div class='xr-var-preview xr-preview'>...</div><input id='attrs-f3e9f64a-c4e2-4dba-85b5-80e0565936da' class='xr-var-attrs-in' type='checkbox' ><label for='attrs-f3e9f64a-c4e2-4dba-85b5-80e0565936da' title='Show/Hide attributes'><svg class='icon xr-icon-file-text2'><use xlink:href='#icon-file-text2'></use></svg></label><input id='data-66d71e7d-adfc-4cad-b86d-b3726da5d701' class='xr-var-data-in' type='checkbox'><label for='data-66d71e7d-adfc-4cad-b86d-b3726da5d701' title='Show/Hide data repr'><svg class='icon xr-icon-database'><use xlink:href='#icon-database'></use></svg></label><div class='xr-var-attrs'><dl class='xr-attrs'><dt><span>long_name :</span></dt><dd>total solar irradiance</dd><dt><span>units :</span></dt><dd>W/m2</dd></dl></div><div class='xr-var-data'><pre>array([-1., -1., -1., -1., -1., -1., -1., -1., -1., -1., -1., -1., -1., -1.,\n",
       "       -1., -1., -1., -1., -1., -1., -1., -1., -1., -1., -1., -1., -1., -1.,\n",
       "       -1., -1., -1., -1., -1., -1., -1., -1., -1., -1., -1., -1., -1., -1.,\n",
       "       -1., -1., -1., -1., -1., -1., -1., -1., -1., -1., -1., -1., -1., -1.,\n",
       "       -1., -1., -1., -1., -1., -1., -1., -1., -1., -1., -1., -1., -1., -1.,\n",
       "       -1., -1., -1., -1., -1., -1., -1., -1., -1., -1., -1., -1., -1., -1.,\n",
       "       -1., -1., -1., -1., -1., -1., -1., -1., -1., -1., -1., -1., -1., -1.,\n",
       "       -1., -1., -1., -1., -1., -1., -1., -1., -1., -1., -1., -1., -1., -1.,\n",
       "       -1., -1., -1., -1., -1., -1., -1., -1.])</pre></div></li><li class='xr-var-item'><div class='xr-var-name'><span>nsteph</span></div><div class='xr-var-dims'>(time)</div><div class='xr-var-dtype'>float64</div><div class='xr-var-preview xr-preview'>...</div><input id='attrs-aadf9f6d-ef19-454a-a441-0cad7519e9da' class='xr-var-attrs-in' type='checkbox' ><label for='attrs-aadf9f6d-ef19-454a-a441-0cad7519e9da' title='Show/Hide attributes'><svg class='icon xr-icon-file-text2'><use xlink:href='#icon-file-text2'></use></svg></label><input id='data-e48f44ad-b057-4ab5-8beb-2f887be65161' class='xr-var-data-in' type='checkbox'><label for='data-e48f44ad-b057-4ab5-8beb-2f887be65161' title='Show/Hide data repr'><svg class='icon xr-icon-database'><use xlink:href='#icon-database'></use></svg></label><div class='xr-var-attrs'><dl class='xr-attrs'><dt><span>long_name :</span></dt><dd>current timestep</dd></dl></div><div class='xr-var-data'><pre>array([  1488.,   2832.,   4320.,   5760.,   7248.,   8688.,  10176.,  11664.,\n",
       "        13104.,  14592.,  16032.,  17520.,  19008.,  20352.,  21840.,  23280.,\n",
       "        24768.,  26208.,  27696.,  29184.,  30624.,  32112.,  33552.,  35040.,\n",
       "        36528.,  37872.,  39360.,  40800.,  42288.,  43728.,  45216.,  46704.,\n",
       "        48144.,  49632.,  51072.,  52560.,  54048.,  55392.,  56880.,  58320.,\n",
       "        59808.,  61248.,  62736.,  64224.,  65664.,  67152.,  68592.,  70080.,\n",
       "        71568.,  72912.,  74400.,  75840.,  77328.,  78768.,  80256.,  81744.,\n",
       "        83184.,  84672.,  86112.,  87600.,  89088.,  90432.,  91920.,  93360.,\n",
       "        94848.,  96288.,  97776.,  99264., 100704., 102192., 103632., 105120.,\n",
       "       106608., 107952., 109440., 110880., 112368., 113808., 115296., 116784.,\n",
       "       118224., 119712., 121152., 122640., 124128., 125472., 126960., 128400.,\n",
       "       129888., 131328., 132816., 134304., 135744., 137232., 138672., 140160.,\n",
       "       141648., 142992., 144480., 145920., 147408., 148848., 150336., 151824.,\n",
       "       153264., 154752., 156192., 157680., 159168., 160512., 162000., 163440.,\n",
       "       164928., 166368., 167856., 169344., 170784., 172272., 173712., 175200.])</pre></div></li><li class='xr-var-item'><div class='xr-var-name'><span>PRECT</span></div><div class='xr-var-dims'>(time, lat, lon)</div><div class='xr-var-dtype'>float32</div><div class='xr-var-preview xr-preview'>...</div><input id='attrs-40297a91-3066-426b-bf85-d6a33f9ad0b6' class='xr-var-attrs-in' type='checkbox' ><label for='attrs-40297a91-3066-426b-bf85-d6a33f9ad0b6' title='Show/Hide attributes'><svg class='icon xr-icon-file-text2'><use xlink:href='#icon-file-text2'></use></svg></label><input id='data-31a69f94-9729-419d-af30-8ffafd5ec697' class='xr-var-data-in' type='checkbox'><label for='data-31a69f94-9729-419d-af30-8ffafd5ec697' title='Show/Hide data repr'><svg class='icon xr-icon-database'><use xlink:href='#icon-database'></use></svg></label><div class='xr-var-attrs'><dl class='xr-attrs'><dt><span>units :</span></dt><dd>m/s</dd><dt><span>long_name :</span></dt><dd>Total (convective and large-scale) precipitation rate (liq + ice)</dd><dt><span>cell_methods :</span></dt><dd>time: mean</dd></dl></div><div class='xr-var-data'><pre>[6635520 values with dtype=float32]</pre></div></li></ul></div></li><li class='xr-section-item'><input id='section-0a58580f-9f4b-4c3a-9e42-9cc99233c091' class='xr-section-summary-in' type='checkbox'  checked><label for='section-0a58580f-9f4b-4c3a-9e42-9cc99233c091' class='xr-section-summary' >Attributes: <span>(9)</span></label><div class='xr-section-inline-details'></div><div class='xr-section-details'><dl class='xr-attrs'><dt><span>Conventions :</span></dt><dd>CF-1.0</dd><dt><span>source :</span></dt><dd>CAM</dd><dt><span>case :</span></dt><dd>b.e21.BHISTcmip6.f09_g17.LE2-1001.001</dd><dt><span>logname :</span></dt><dd>sunseon</dd><dt><span>host :</span></dt><dd>mom1</dd><dt><span>initial_file :</span></dt><dd>b.e21.B1850.f09_g17.CMIP6-piControl.001.cam.i.1001-01-01-00000.nc</dd><dt><span>topography_file :</span></dt><dd>/mnt/lustre/share/CESM/cesm_input/atm/cam/topo/fv_0.9x1.25_nc3000_Nsw042_Nrs008_Co060_Fi001_ZR_sgh30_24km_GRNL_c170103.nc</dd><dt><span>model_doi_url :</span></dt><dd>https://doi.org/10.5065/D67H1H0V</dd><dt><span>time_period_freq :</span></dt><dd>month_1</dd></dl></div></li></ul></div></div>"
      ],
      "text/plain": [
       "<xarray.Dataset>\n",
       "Dimensions:       (lat: 192, zlon: 1, nbnd: 2, lon: 288, lev: 32, ilev: 33,\n",
       "                   time: 120)\n",
       "Coordinates:\n",
       "  * lat           (lat) float64 -90.0 -89.06 -88.12 -87.17 ... 88.12 89.06 90.0\n",
       "  * zlon          (zlon) float64 0.0\n",
       "  * lon           (lon) float64 0.0 1.25 2.5 3.75 ... 355.0 356.2 357.5 358.8\n",
       "  * lev           (lev) float64 3.643 7.595 14.36 24.61 ... 957.5 976.3 992.6\n",
       "  * ilev          (ilev) float64 2.255 5.032 10.16 18.56 ... 967.5 985.1 1e+03\n",
       "  * time          (time) object 1850-02-01 00:00:00 ... 1860-01-01 00:00:00\n",
       "Dimensions without coordinates: nbnd\n",
       "Data variables: (12/27)\n",
       "    zlon_bnds     (zlon, nbnd) float64 ...\n",
       "    gw            (lat) float64 ...\n",
       "    hyam          (lev) float64 ...\n",
       "    hybm          (lev) float64 ...\n",
       "    P0            float64 ...\n",
       "    hyai          (ilev) float64 ...\n",
       "    ...            ...\n",
       "    n2ovmr        (time) float64 ...\n",
       "    f11vmr        (time) float64 ...\n",
       "    f12vmr        (time) float64 ...\n",
       "    sol_tsi       (time) float64 ...\n",
       "    nsteph        (time) float64 ...\n",
       "    PRECT         (time, lat, lon) float32 ...\n",
       "Attributes:\n",
       "    Conventions:       CF-1.0\n",
       "    source:            CAM\n",
       "    case:              b.e21.BHISTcmip6.f09_g17.LE2-1001.001\n",
       "    logname:           sunseon\n",
       "    host:              mom1\n",
       "    initial_file:      b.e21.B1850.f09_g17.CMIP6-piControl.001.cam.i.1001-01-...\n",
       "    topography_file:   /mnt/lustre/share/CESM/cesm_input/atm/cam/topo/fv_0.9x...\n",
       "    model_doi_url:     https://doi.org/10.5065/D67H1H0V\n",
       "    time_period_freq:  month_1"
      ]
     },
     "execution_count": 14,
     "metadata": {},
     "output_type": "execute_result"
    }
   ],
   "source": [
    "file_xr  = xr.open_dataset(ncFile_precip) \n",
    "file_xr"
   ]
  },
  {
   "cell_type": "code",
   "execution_count": 15,
   "metadata": {},
   "outputs": [
    {
     "name": "stdout",
     "output_type": "stream",
     "text": [
      "(120, 192, 288)\n",
      "<xarray.DataArray 'PRECT' (time: 120, lat: 192, lon: 288)>\n",
      "[6635520 values with dtype=float32]\n",
      "Coordinates:\n",
      "  * lat      (lat) float64 -90.0 -89.06 -88.12 -87.17 ... 87.17 88.12 89.06 90.0\n",
      "  * lon      (lon) float64 0.0 1.25 2.5 3.75 5.0 ... 355.0 356.2 357.5 358.8\n",
      "  * time     (time) object 1850-02-01 00:00:00 ... 1860-01-01 00:00:00\n",
      "Attributes:\n",
      "    units:         m/s\n",
      "    long_name:     Total (convective and large-scale) precipitation rate (liq...\n",
      "    cell_methods:  time: mean\n"
     ]
    }
   ],
   "source": [
    "param_precip = file_xr['PRECT']\n",
    "print(param_precip.shape)\n",
    "print(param_precip)"
   ]
  },
  {
   "cell_type": "code",
   "execution_count": 16,
   "metadata": {},
   "outputs": [
    {
     "name": "stdout",
     "output_type": "stream",
     "text": [
      "120\n",
      "(120, 192, 288)\n",
      "\n"
     ]
    }
   ],
   "source": [
    "\n",
    "file_precipHist = Dataset(ncFile_precip, mode='r')\n",
    "file_precipHist\n",
    "\n",
    "lons = file_precipHist.variables['lon'][:]\n",
    "lats = file_precipHist.variables['lat'][:]\n",
    "times = file_precipHist.variables['time'][:]\n",
    "ntim = times.shape[0]\n",
    "print(ntim)\n",
    "\n",
    "time = np.arange(ntim)\n",
    "time\n",
    "\n",
    "param_precipHist = file_precipHist.variables['PRECT'][:]*86400*30*1000    \n",
    "print(param_precipHist.shape)\n",
    "print('')\n"
   ]
  },
  {
   "cell_type": "markdown",
   "metadata": {},
   "source": [
    "## Setting US boundaries"
   ]
  },
  {
   "cell_type": "code",
   "execution_count": 17,
   "metadata": {},
   "outputs": [],
   "source": [
    "# Save only U.S. \n",
    "latboundsUs = [ 25 , 55]\n",
    "lonboundsUs = [230 , 300]"
   ]
  },
  {
   "cell_type": "code",
   "execution_count": 18,
   "metadata": {},
   "outputs": [],
   "source": [
    "# latitude lower and upper index\n",
    "latli = np.argmin( np.abs( lats - latboundsUs[0] ) )\n",
    "latui = np.argmin( np.abs( lats - latboundsUs[1] ) ) \n",
    "\n",
    "# longitude lower and upper index\n",
    "lonli = np.argmin( np.abs( lons - lonboundsUs[0] ) )\n",
    "lonui = np.argmin( np.abs( lons - lonboundsUs[1] ) )  "
   ]
  },
  {
   "cell_type": "code",
   "execution_count": 19,
   "metadata": {},
   "outputs": [
    {
     "name": "stdout",
     "output_type": "stream",
     "text": [
      "122 154\n",
      "184 240\n"
     ]
    }
   ],
   "source": [
    "print(latli, latui)\n",
    "print(lonli, lonui)"
   ]
  },
  {
   "cell_type": "code",
   "execution_count": 20,
   "metadata": {},
   "outputs": [
    {
     "name": "stdout",
     "output_type": "stream",
     "text": [
      "(120, 32, 56)\n"
     ]
    }
   ],
   "source": [
    "param_precip_Sample_US = param_precip[:, latli:latui , lonli:lonui]\n",
    "print(param_precip_Sample_US.shape)"
   ]
  },
  {
   "cell_type": "code",
   "execution_count": 21,
   "metadata": {},
   "outputs": [
    {
     "name": "stdout",
     "output_type": "stream",
     "text": [
      "32\n",
      "56\n",
      "120\n"
     ]
    }
   ],
   "source": [
    "t,y_US,x_US = param_precip_Sample_US.shape\n",
    "print(y_US)\n",
    "print(x_US)\n",
    "print(t)"
   ]
  },
  {
   "cell_type": "code",
   "execution_count": 22,
   "metadata": {},
   "outputs": [
    {
     "name": "stdout",
     "output_type": "stream",
     "text": [
      "[24.97382199 25.91623037 26.85863874 27.80104712 28.7434555  29.68586387\n",
      " 30.62827225 31.57068063 32.51308901 33.45549738 34.39790576 35.34031414\n",
      " 36.28272251 37.22513089 38.16753927 39.10994764 40.05235602 40.9947644\n",
      " 41.93717277 42.87958115 43.82198953 44.76439791 45.70680628 46.64921466\n",
      " 47.59162304 48.53403141 49.47643979 50.41884817 51.36125654 52.30366492\n",
      " 53.2460733  54.18848168]\n"
     ]
    }
   ],
   "source": [
    "lats_US = lats[latli:latui]\n",
    "print(lats_US)"
   ]
  },
  {
   "cell_type": "code",
   "execution_count": 23,
   "metadata": {},
   "outputs": [
    {
     "name": "stdout",
     "output_type": "stream",
     "text": [
      "[230.   231.25 232.5  233.75 235.   236.25 237.5  238.75 240.   241.25\n",
      " 242.5  243.75 245.   246.25 247.5  248.75 250.   251.25 252.5  253.75\n",
      " 255.   256.25 257.5  258.75 260.   261.25 262.5  263.75 265.   266.25\n",
      " 267.5  268.75 270.   271.25 272.5  273.75 275.   276.25 277.5  278.75\n",
      " 280.   281.25 282.5  283.75 285.   286.25 287.5  288.75 290.   291.25\n",
      " 292.5  293.75 295.   296.25 297.5  298.75]\n"
     ]
    }
   ],
   "source": [
    "lons_US = lons[lonli:lonui]\n",
    "print(lons_US)"
   ]
  },
  {
   "cell_type": "code",
   "execution_count": null,
   "metadata": {},
   "outputs": [],
   "source": []
  },
  {
   "cell_type": "markdown",
   "metadata": {},
   "source": [
    "## Using data fromGLADE access to NCAR HPC"
   ]
  },
  {
   "cell_type": "markdown",
   "metadata": {},
   "source": [
    "### Lat Lon info from CESM2"
   ]
  },
  {
   "cell_type": "code",
   "execution_count": 24,
   "metadata": {},
   "outputs": [
    {
     "name": "stdout",
     "output_type": "stream",
     "text": [
      "(32,)\n",
      "[24.973822 25.916231 26.858639 27.801046 28.743456 29.685863 30.628273\n",
      " 31.57068  32.51309  33.455498 34.397907 35.340313 36.282722 37.225132\n",
      " 38.167538 39.109947 40.052357 40.994766 41.937172 42.87958  43.82199\n",
      " 44.764397 45.706806 46.649216 47.59162  48.53403  49.47644  50.41885\n",
      " 51.361256 52.303665 53.246075 54.18848 ]\n"
     ]
    }
   ],
   "source": [
    "file_LatUs = 'C:/rezaul/1.academic/1.research/2.project/mrb/dt/cesm/cesm2LE/param/CESM2_FLOOD/sm/latsUsArr.npy'\n",
    "latUs_cesm2 = np.load(file_LatUs)\n",
    "print(latUs_cesm2.shape)\n",
    "print(latUs_cesm2)"
   ]
  },
  {
   "cell_type": "code",
   "execution_count": 25,
   "metadata": {},
   "outputs": [
    {
     "name": "stdout",
     "output_type": "stream",
     "text": [
      "(56,)\n",
      "[230.   231.25 232.5  233.75 235.   236.25 237.5  238.75 240.   241.25\n",
      " 242.5  243.75 245.   246.25 247.5  248.75 250.   251.25 252.5  253.75\n",
      " 255.   256.25 257.5  258.75 260.   261.25 262.5  263.75 265.   266.25\n",
      " 267.5  268.75 270.   271.25 272.5  273.75 275.   276.25 277.5  278.75\n",
      " 280.   281.25 282.5  283.75 285.   286.25 287.5  288.75 290.   291.25\n",
      " 292.5  293.75 295.   296.25 297.5  298.75]\n"
     ]
    }
   ],
   "source": [
    "file_LonUs = 'C:/rezaul/1.academic/1.research/2.project/mrb/dt/cesm/cesm2LE/param/CESM2_FLOOD/sm/lonsUsArr.npy'\n",
    "lonUs_cesm2 = np.load(file_LonUs)\n",
    "print(lonUs_cesm2.shape)\n",
    "print(lonUs_cesm2)"
   ]
  },
  {
   "cell_type": "code",
   "execution_count": null,
   "metadata": {},
   "outputs": [],
   "source": []
  },
  {
   "cell_type": "markdown",
   "metadata": {},
   "source": [
    "### Historical (1850-2014): 1980 months"
   ]
  },
  {
   "cell_type": "code",
   "execution_count": 26,
   "metadata": {},
   "outputs": [
    {
     "name": "stdout",
     "output_type": "stream",
     "text": [
      "(1980, 32, 56)\n"
     ]
    },
    {
     "data": {
      "text/plain": [
       "453.8662595041387"
      ]
     },
     "execution_count": 26,
     "metadata": {},
     "output_type": "execute_result"
    }
   ],
   "source": [
    "file_Hist_ensMean = 'C:/rezaul/1.academic/1.research/2.project/mrb/dt/cesm/cesm2LE/param/precip/mon/monPrecipUsHistEnsMean.npy'\n",
    "file_Hist_ensMean_loaded = np.load(file_Hist_ensMean)\n",
    "print(file_Hist_ensMean_loaded.shape)\n",
    "maxVal = np.nanmax(file_Hist_ensMean_loaded)\n",
    "maxVal"
   ]
  },
  {
   "cell_type": "markdown",
   "metadata": {},
   "source": [
    "### Scenario (2105-2100): 1032 months"
   ]
  },
  {
   "cell_type": "code",
   "execution_count": 27,
   "metadata": {},
   "outputs": [
    {
     "name": "stdout",
     "output_type": "stream",
     "text": [
      "(1032, 32, 56)\n"
     ]
    },
    {
     "data": {
      "text/plain": [
       "520.7679244813335"
      ]
     },
     "execution_count": 27,
     "metadata": {},
     "output_type": "execute_result"
    }
   ],
   "source": [
    "file_Scen_ensMean = 'C:/rezaul/1.academic/1.research/2.project/mrb/dt/cesm/cesm2LE/param/precip/mon/monPrecipUsScenEnsMean.npy'\n",
    "file_Scen_ensMean_loaded = np.load(file_Scen_ensMean)\n",
    "print(file_Scen_ensMean_loaded.shape)\n",
    "maxVal = np.nanmax(file_Scen_ensMean_loaded)\n",
    "maxVal"
   ]
  },
  {
   "cell_type": "markdown",
   "metadata": {},
   "source": [
    "## The two files (Hist and Scen)"
   ]
  },
  {
   "cell_type": "code",
   "execution_count": 28,
   "metadata": {},
   "outputs": [
    {
     "name": "stdout",
     "output_type": "stream",
     "text": [
      "(1980, 32, 56)\n",
      "(1032, 32, 56)\n"
     ]
    }
   ],
   "source": [
    "print(file_Hist_ensMean_loaded.shape)\n",
    "print(file_Scen_ensMean_loaded.shape)"
   ]
  },
  {
   "cell_type": "code",
   "execution_count": null,
   "metadata": {},
   "outputs": [],
   "source": []
  },
  {
   "cell_type": "markdown",
   "metadata": {},
   "source": [
    "## The four time slots"
   ]
  },
  {
   "cell_type": "code",
   "execution_count": 29,
   "metadata": {},
   "outputs": [],
   "source": [
    "\n",
    "histYrSt = 1850\n",
    "\n",
    "refPeriodYrSt = 1971\n",
    "refPeriodYrEnd = 2000\n",
    "#++++++++++++++++++++++++\n",
    "\n",
    "scenYrSt = 2015\n",
    "scenEraOneYrEnd = 2044\n",
    "\n",
    "scenEraTwoYrSt = 2045\n",
    "scenEraTwoYrEnd = 2074\n",
    "\n",
    "scenEraThreeYrSt = 2075\n",
    "scenYrEnd = 2100\n",
    "#\n"
   ]
  },
  {
   "cell_type": "markdown",
   "metadata": {},
   "source": [
    "## tsteps"
   ]
  },
  {
   "cell_type": "code",
   "execution_count": 30,
   "metadata": {},
   "outputs": [
    {
     "name": "stdout",
     "output_type": "stream",
     "text": [
      "12\n"
     ]
    }
   ],
   "source": [
    "nMonsPerYr = 12     # \n",
    "print(nMonsPerYr)"
   ]
  },
  {
   "cell_type": "markdown",
   "metadata": {},
   "source": [
    "## Reference Period"
   ]
  },
  {
   "cell_type": "code",
   "execution_count": 31,
   "metadata": {},
   "outputs": [
    {
     "name": "stdout",
     "output_type": "stream",
     "text": [
      "1452 1814\n",
      "362\n"
     ]
    }
   ],
   "source": [
    "refPeriodStepSt = (refPeriodYrSt - histYrSt)*nMonsPerYr\n",
    "refPeriodStepEnd = (refPeriodYrEnd - histYrSt + 1)*nMonsPerYr + 2   # To include Jan and Feb of the following year in 2001\n",
    "print(refPeriodStepSt, refPeriodStepEnd)\n",
    "print(refPeriodStepEnd-refPeriodStepSt)"
   ]
  },
  {
   "cell_type": "code",
   "execution_count": null,
   "metadata": {},
   "outputs": [],
   "source": []
  },
  {
   "cell_type": "markdown",
   "metadata": {},
   "source": [
    "## Era 1"
   ]
  },
  {
   "cell_type": "code",
   "execution_count": 32,
   "metadata": {},
   "outputs": [
    {
     "name": "stdout",
     "output_type": "stream",
     "text": [
      "0 362\n",
      "362\n"
     ]
    }
   ],
   "source": [
    "scenEraOneStepSt = 0\n",
    "scenEraOneStepEnd = (scenEraOneYrEnd - scenYrSt + 1)*nMonsPerYr + 2  # To include Jan and Feb of the following year in 2045\n",
    "print(scenEraOneStepSt, scenEraOneStepEnd)\n",
    "print(scenEraOneStepEnd-scenEraOneStepSt)"
   ]
  },
  {
   "cell_type": "markdown",
   "metadata": {},
   "source": [
    "## Era 2"
   ]
  },
  {
   "cell_type": "code",
   "execution_count": 33,
   "metadata": {},
   "outputs": [
    {
     "name": "stdout",
     "output_type": "stream",
     "text": [
      "360 722\n",
      "362\n"
     ]
    }
   ],
   "source": [
    "scenEraTwoStepSt = (scenEraTwoYrSt - scenYrSt)*nMonsPerYr\n",
    "scenEraTwoStepEnd = (scenEraTwoYrEnd - scenYrSt + 1)*nMonsPerYr + 2   # To include Jan and Feb of the following year in 2075\n",
    "print(scenEraTwoStepSt, scenEraTwoStepEnd)\n",
    "print(scenEraTwoStepEnd-scenEraTwoStepSt)"
   ]
  },
  {
   "cell_type": "markdown",
   "metadata": {},
   "source": [
    "## Era 3"
   ]
  },
  {
   "cell_type": "code",
   "execution_count": 34,
   "metadata": {},
   "outputs": [
    {
     "name": "stdout",
     "output_type": "stream",
     "text": [
      "720 1032\n",
      "312\n"
     ]
    }
   ],
   "source": [
    "scenEraThreeStepSt = (scenEraThreeYrSt - scenYrSt)*nMonsPerYr\n",
    "scenEraThreeStepEnd = (scenYrEnd - scenYrSt + 1)*nMonsPerYr # Data ends at Dec, 2100\n",
    "\n",
    "\n",
    "print(scenEraThreeStepSt, scenEraThreeStepEnd)\n",
    "print(scenEraThreeStepEnd-scenEraThreeStepSt)"
   ]
  },
  {
   "cell_type": "code",
   "execution_count": null,
   "metadata": {},
   "outputs": [],
   "source": []
  },
  {
   "cell_type": "markdown",
   "metadata": {},
   "source": [
    "## Subsetting the data into different periods / Eras"
   ]
  },
  {
   "cell_type": "code",
   "execution_count": 35,
   "metadata": {},
   "outputs": [
    {
     "name": "stdout",
     "output_type": "stream",
     "text": [
      "(1980, 32, 56)\n",
      "(1032, 32, 56)\n"
     ]
    }
   ],
   "source": [
    "print(file_Hist_ensMean_loaded.shape)\n",
    "print(file_Scen_ensMean_loaded.shape)"
   ]
  },
  {
   "cell_type": "code",
   "execution_count": 36,
   "metadata": {},
   "outputs": [
    {
     "name": "stdout",
     "output_type": "stream",
     "text": [
      "(362, 32, 56)\n"
     ]
    }
   ],
   "source": [
    "precip_refPeriod_Us_ensmean = file_Hist_ensMean_loaded[refPeriodStepSt:refPeriodStepEnd, :]\n",
    "print(precip_refPeriod_Us_ensmean.shape)"
   ]
  },
  {
   "cell_type": "code",
   "execution_count": 37,
   "metadata": {},
   "outputs": [
    {
     "name": "stdout",
     "output_type": "stream",
     "text": [
      "(362, 32, 56)\n"
     ]
    }
   ],
   "source": [
    "precip_scenEraOne_Us_ensmean = file_Scen_ensMean_loaded[scenEraOneStepSt:scenEraOneStepEnd, :]\n",
    "print(precip_scenEraOne_Us_ensmean.shape)"
   ]
  },
  {
   "cell_type": "code",
   "execution_count": 38,
   "metadata": {},
   "outputs": [
    {
     "name": "stdout",
     "output_type": "stream",
     "text": [
      "(362, 32, 56)\n"
     ]
    }
   ],
   "source": [
    "precip_scenEraTwo_Us_ensmean = file_Scen_ensMean_loaded[scenEraTwoStepSt:scenEraTwoStepEnd, :]\n",
    "print(precip_scenEraTwo_Us_ensmean.shape)"
   ]
  },
  {
   "cell_type": "code",
   "execution_count": 39,
   "metadata": {},
   "outputs": [
    {
     "name": "stdout",
     "output_type": "stream",
     "text": [
      "(312, 32, 56)\n"
     ]
    }
   ],
   "source": [
    "precip_scenEraThree_Us_ensmean = file_Scen_ensMean_loaded[scenEraThreeStepSt:scenEraThreeStepEnd, :]\n",
    "print(precip_scenEraThree_Us_ensmean.shape)"
   ]
  },
  {
   "cell_type": "code",
   "execution_count": null,
   "metadata": {},
   "outputs": [],
   "source": []
  },
  {
   "cell_type": "markdown",
   "metadata": {},
   "source": [
    "## Seasonal analysis start here"
   ]
  },
  {
   "cell_type": "code",
   "execution_count": 40,
   "metadata": {},
   "outputs": [
    {
     "name": "stdout",
     "output_type": "stream",
     "text": [
      "12\n"
     ]
    }
   ],
   "source": [
    "print(nMonsPerYr)"
   ]
  },
  {
   "cell_type": "code",
   "execution_count": 167,
   "metadata": {},
   "outputs": [
    {
     "name": "stdout",
     "output_type": "stream",
     "text": [
      "(362, 32, 56)\n",
      "(362, 32, 56)\n",
      "(362, 32, 56)\n",
      "(312, 32, 56)\n"
     ]
    }
   ],
   "source": [
    "precip_refPeriod_Us_ensmean = file_Hist_ensMean_loaded[refPeriodStepSt:refPeriodStepEnd, :]\n",
    "print(precip_refPeriod_Us_ensmean.shape)\n",
    "\n",
    "precip_scenEraOne_Us_ensmean = file_Scen_ensMean_loaded[scenEraOneStepSt:scenEraOneStepEnd, :]\n",
    "print(precip_scenEraOne_Us_ensmean.shape)\n",
    "\n",
    "precip_scenEraTwo_Us_ensmean = file_Scen_ensMean_loaded[scenEraTwoStepSt:scenEraTwoStepEnd, :]\n",
    "print(precip_scenEraTwo_Us_ensmean.shape)\n",
    "\n",
    "precip_scenEraThree_Us_ensmean = file_Scen_ensMean_loaded[scenEraThreeStepSt:scenEraThreeStepEnd, :]\n",
    "print(precip_scenEraThree_Us_ensmean.shape)"
   ]
  },
  {
   "cell_type": "code",
   "execution_count": null,
   "metadata": {},
   "outputs": [],
   "source": []
  },
  {
   "cell_type": "markdown",
   "metadata": {},
   "source": [
    "## MAM"
   ]
  },
  {
   "cell_type": "markdown",
   "metadata": {},
   "source": [
    "### ref Period"
   ]
  },
  {
   "cell_type": "code",
   "execution_count": 42,
   "metadata": {},
   "outputs": [],
   "source": [
    "mamMonSt = 3\n",
    "mamMonMid = 4\n",
    "mamMonEnd = 5"
   ]
  },
  {
   "cell_type": "code",
   "execution_count": 43,
   "metadata": {},
   "outputs": [
    {
     "name": "stdout",
     "output_type": "stream",
     "text": [
      "(30, 32, 56)\n",
      "(30, 32, 56)\n",
      "(30, 32, 56)\n"
     ]
    }
   ],
   "source": [
    "\n",
    "precip_mamSt_refPeriod_Us_ensmean = precip_refPeriod_Us_ensmean[mamMonSt-1::nMonsPerYr]\n",
    "print(precip_mamSt_refPeriod_Us_ensmean.shape)\n",
    "\n",
    "precip_mamMid_refPeriod_Us_ensmean = precip_refPeriod_Us_ensmean[mamMonMid-1::nMonsPerYr]\n",
    "print(precip_mamMid_refPeriod_Us_ensmean.shape)\n",
    "\n",
    "precip_mamEnd_refPeriod_Us_ensmean = precip_refPeriod_Us_ensmean[mamMonEnd-1::nMonsPerYr]\n",
    "print(precip_mamEnd_refPeriod_Us_ensmean.shape)\n"
   ]
  },
  {
   "cell_type": "code",
   "execution_count": 44,
   "metadata": {},
   "outputs": [
    {
     "name": "stdout",
     "output_type": "stream",
     "text": [
      "(32, 56)\n",
      "(32, 56)\n",
      "(32, 56)\n"
     ]
    }
   ],
   "source": [
    "precip_mamSt_refPeriod_Us_ensmean_timeAvg = np.nanmean(precip_mamSt_refPeriod_Us_ensmean, axis = 0)\n",
    "print(precip_mamSt_refPeriod_Us_ensmean_timeAvg.shape)\n",
    "\n",
    "precip_mamMid_refPeriod_Us_ensmean_timeAvg = np.nanmean(precip_mamMid_refPeriod_Us_ensmean, axis = 0)\n",
    "print(precip_mamMid_refPeriod_Us_ensmean_timeAvg.shape)\n",
    "\n",
    "precip_mamEnd_refPeriod_Us_ensmean_timeAvg = np.nanmean(precip_mamEnd_refPeriod_Us_ensmean, axis = 0)\n",
    "print(precip_mamEnd_refPeriod_Us_ensmean_timeAvg.shape)\n"
   ]
  },
  {
   "cell_type": "code",
   "execution_count": 45,
   "metadata": {},
   "outputs": [
    {
     "name": "stdout",
     "output_type": "stream",
     "text": [
      "(32, 56)\n"
     ]
    }
   ],
   "source": [
    "precip_mamTot_refPeriod_Us_ensmean_timeAvg = (precip_mamSt_refPeriod_Us_ensmean_timeAvg+precip_mamMid_refPeriod_Us_ensmean_timeAvg+precip_mamEnd_refPeriod_Us_ensmean_timeAvg)/3\n",
    "print(precip_mamTot_refPeriod_Us_ensmean_timeAvg.shape)"
   ]
  },
  {
   "cell_type": "markdown",
   "metadata": {},
   "source": [
    "### Scen Era 1"
   ]
  },
  {
   "cell_type": "code",
   "execution_count": 46,
   "metadata": {},
   "outputs": [
    {
     "name": "stdout",
     "output_type": "stream",
     "text": [
      "(30, 32, 56)\n",
      "(30, 32, 56)\n",
      "(30, 32, 56)\n"
     ]
    }
   ],
   "source": [
    "\n",
    "precip_mamSt_scenEraOne_Us_ensmean = precip_scenEraOne_Us_ensmean[mamMonSt-1::nMonsPerYr]\n",
    "print(precip_mamSt_scenEraOne_Us_ensmean.shape)\n",
    "\n",
    "precip_mamMid_scenEraOne_Us_ensmean = precip_scenEraOne_Us_ensmean[mamMonMid-1::nMonsPerYr]\n",
    "print(precip_mamMid_scenEraOne_Us_ensmean.shape)\n",
    "\n",
    "precip_mamEnd_scenEraOne_Us_ensmean = precip_scenEraOne_Us_ensmean[mamMonEnd-1::nMonsPerYr]\n",
    "print(precip_mamEnd_scenEraOne_Us_ensmean.shape)\n"
   ]
  },
  {
   "cell_type": "code",
   "execution_count": 47,
   "metadata": {},
   "outputs": [
    {
     "name": "stdout",
     "output_type": "stream",
     "text": [
      "(32, 56)\n",
      "(32, 56)\n",
      "(32, 56)\n"
     ]
    }
   ],
   "source": [
    "precip_mamSt_scenEraOne_Us_ensmean_timeAvg = np.nanmean(precip_mamSt_scenEraOne_Us_ensmean, axis = 0)\n",
    "print(precip_mamSt_scenEraOne_Us_ensmean_timeAvg.shape)\n",
    "\n",
    "precip_mamMid_scenEraOne_Us_ensmean_timeAvg = np.nanmean(precip_mamMid_scenEraOne_Us_ensmean, axis = 0)\n",
    "print(precip_mamMid_scenEraOne_Us_ensmean_timeAvg.shape)\n",
    "\n",
    "precip_mamEnd_scenEraOne_Us_ensmean_timeAvg = np.nanmean(precip_mamEnd_scenEraOne_Us_ensmean, axis = 0)\n",
    "print(precip_mamEnd_scenEraOne_Us_ensmean_timeAvg.shape)\n"
   ]
  },
  {
   "cell_type": "code",
   "execution_count": 48,
   "metadata": {},
   "outputs": [
    {
     "name": "stdout",
     "output_type": "stream",
     "text": [
      "(32, 56)\n"
     ]
    }
   ],
   "source": [
    "precip_mamTot_scenEraOne_Us_ensmean_timeAvg = (precip_mamSt_scenEraOne_Us_ensmean_timeAvg+precip_mamMid_scenEraOne_Us_ensmean_timeAvg+precip_mamEnd_scenEraOne_Us_ensmean_timeAvg)/3\n",
    "print(precip_mamTot_scenEraOne_Us_ensmean_timeAvg.shape)\n"
   ]
  },
  {
   "cell_type": "markdown",
   "metadata": {},
   "source": [
    "### Scen Era 2"
   ]
  },
  {
   "cell_type": "code",
   "execution_count": 49,
   "metadata": {},
   "outputs": [
    {
     "name": "stdout",
     "output_type": "stream",
     "text": [
      "(30, 32, 56)\n",
      "(30, 32, 56)\n",
      "(30, 32, 56)\n"
     ]
    }
   ],
   "source": [
    "\n",
    "precip_mamSt_scenEraTwo_Us_ensmean = precip_scenEraTwo_Us_ensmean[mamMonSt-1::nMonsPerYr]\n",
    "print(precip_mamSt_scenEraTwo_Us_ensmean.shape)\n",
    "\n",
    "precip_mamMid_scenEraTwo_Us_ensmean = precip_scenEraTwo_Us_ensmean[mamMonMid-1::nMonsPerYr]\n",
    "print(precip_mamMid_scenEraTwo_Us_ensmean.shape)\n",
    "\n",
    "precip_mamEnd_scenEraTwo_Us_ensmean = precip_scenEraTwo_Us_ensmean[mamMonEnd-1::nMonsPerYr]\n",
    "print(precip_mamEnd_scenEraTwo_Us_ensmean.shape)\n"
   ]
  },
  {
   "cell_type": "code",
   "execution_count": 50,
   "metadata": {},
   "outputs": [
    {
     "name": "stdout",
     "output_type": "stream",
     "text": [
      "(32, 56)\n",
      "(32, 56)\n",
      "(32, 56)\n"
     ]
    }
   ],
   "source": [
    "precip_mamSt_scenEraTwo_Us_ensmean_timeAvg = np.nanmean(precip_mamSt_scenEraTwo_Us_ensmean, axis = 0)\n",
    "print(precip_mamSt_scenEraTwo_Us_ensmean_timeAvg.shape)\n",
    "\n",
    "precip_mamMid_scenEraTwo_Us_ensmean_timeAvg = np.nanmean(precip_mamMid_scenEraTwo_Us_ensmean, axis = 0)\n",
    "print(precip_mamMid_scenEraTwo_Us_ensmean_timeAvg.shape)\n",
    "\n",
    "precip_mamEnd_scenEraTwo_Us_ensmean_timeAvg = np.nanmean(precip_mamEnd_scenEraTwo_Us_ensmean, axis = 0)\n",
    "print(precip_mamEnd_scenEraTwo_Us_ensmean_timeAvg.shape)\n"
   ]
  },
  {
   "cell_type": "code",
   "execution_count": 51,
   "metadata": {},
   "outputs": [
    {
     "name": "stdout",
     "output_type": "stream",
     "text": [
      "(32, 56)\n"
     ]
    }
   ],
   "source": [
    "precip_mamTot_scenEraTwo_Us_ensmean_timeAvg = (precip_mamSt_scenEraTwo_Us_ensmean_timeAvg+precip_mamMid_scenEraTwo_Us_ensmean_timeAvg+precip_mamEnd_scenEraTwo_Us_ensmean_timeAvg)/3\n",
    "print(precip_mamTot_scenEraTwo_Us_ensmean_timeAvg.shape)\n"
   ]
  },
  {
   "cell_type": "markdown",
   "metadata": {},
   "source": [
    "### Scen Era 3"
   ]
  },
  {
   "cell_type": "code",
   "execution_count": 52,
   "metadata": {},
   "outputs": [
    {
     "name": "stdout",
     "output_type": "stream",
     "text": [
      "(26, 32, 56)\n",
      "(26, 32, 56)\n",
      "(26, 32, 56)\n"
     ]
    }
   ],
   "source": [
    "\n",
    "precip_mamSt_scenEraThree_Us_ensmean = precip_scenEraThree_Us_ensmean[mamMonSt-1::nMonsPerYr]\n",
    "print(precip_mamSt_scenEraThree_Us_ensmean.shape)\n",
    "\n",
    "precip_mamMid_scenEraThree_Us_ensmean = precip_scenEraThree_Us_ensmean[mamMonMid-1::nMonsPerYr]\n",
    "print(precip_mamMid_scenEraThree_Us_ensmean.shape)\n",
    "\n",
    "precip_mamEnd_scenEraThree_Us_ensmean = precip_scenEraThree_Us_ensmean[mamMonEnd-1::nMonsPerYr]\n",
    "print(precip_mamEnd_scenEraThree_Us_ensmean.shape)\n"
   ]
  },
  {
   "cell_type": "code",
   "execution_count": 53,
   "metadata": {},
   "outputs": [
    {
     "name": "stdout",
     "output_type": "stream",
     "text": [
      "(32, 56)\n",
      "(32, 56)\n",
      "(32, 56)\n"
     ]
    }
   ],
   "source": [
    "precip_mamSt_scenEraThree_Us_ensmean_timeAvg = np.nanmean(precip_mamSt_scenEraThree_Us_ensmean, axis = 0)\n",
    "print(precip_mamSt_scenEraThree_Us_ensmean_timeAvg.shape)\n",
    "\n",
    "precip_mamMid_scenEraThree_Us_ensmean_timeAvg = np.nanmean(precip_mamMid_scenEraThree_Us_ensmean, axis = 0)\n",
    "print(precip_mamMid_scenEraThree_Us_ensmean_timeAvg.shape)\n",
    "\n",
    "precip_mamEnd_scenEraThree_Us_ensmean_timeAvg = np.nanmean(precip_mamEnd_scenEraThree_Us_ensmean, axis = 0)\n",
    "print(precip_mamEnd_scenEraThree_Us_ensmean_timeAvg.shape)\n"
   ]
  },
  {
   "cell_type": "code",
   "execution_count": 54,
   "metadata": {},
   "outputs": [
    {
     "name": "stdout",
     "output_type": "stream",
     "text": [
      "(32, 56)\n"
     ]
    }
   ],
   "source": [
    "precip_mamTot_scenEraThree_Us_ensmean_timeAvg = (precip_mamSt_scenEraThree_Us_ensmean_timeAvg+precip_mamMid_scenEraThree_Us_ensmean_timeAvg+precip_mamEnd_scenEraThree_Us_ensmean_timeAvg)/3\n",
    "print(precip_mamTot_scenEraThree_Us_ensmean_timeAvg.shape)\n"
   ]
  },
  {
   "cell_type": "markdown",
   "metadata": {},
   "source": [
    "### Differences at the three Eras"
   ]
  },
  {
   "cell_type": "code",
   "execution_count": 55,
   "metadata": {},
   "outputs": [
    {
     "name": "stdout",
     "output_type": "stream",
     "text": [
      "(32, 56)\n"
     ]
    }
   ],
   "source": [
    "precip_mamTot_scenEraOne_pDiff_Us_ensmean_timeAvg = (precip_mamTot_scenEraOne_Us_ensmean_timeAvg - precip_mamTot_refPeriod_Us_ensmean_timeAvg)\n",
    "print(precip_mamTot_scenEraOne_pDiff_Us_ensmean_timeAvg.shape)"
   ]
  },
  {
   "cell_type": "code",
   "execution_count": 56,
   "metadata": {},
   "outputs": [
    {
     "name": "stdout",
     "output_type": "stream",
     "text": [
      "(32, 56)\n"
     ]
    }
   ],
   "source": [
    "precip_mamTot_scenEraTwo_pDiff_Us_ensmean_timeAvg = (precip_mamTot_scenEraTwo_Us_ensmean_timeAvg - precip_mamTot_refPeriod_Us_ensmean_timeAvg)\n",
    "print(precip_mamTot_scenEraTwo_pDiff_Us_ensmean_timeAvg.shape)"
   ]
  },
  {
   "cell_type": "code",
   "execution_count": 57,
   "metadata": {},
   "outputs": [
    {
     "name": "stdout",
     "output_type": "stream",
     "text": [
      "(32, 56)\n"
     ]
    }
   ],
   "source": [
    "precip_mamTot_scenEraThree_pDiff_Us_ensmean_timeAvg = (precip_mamTot_scenEraThree_Us_ensmean_timeAvg - precip_mamTot_refPeriod_Us_ensmean_timeAvg)\n",
    "print(precip_mamTot_scenEraThree_pDiff_Us_ensmean_timeAvg.shape)"
   ]
  },
  {
   "cell_type": "code",
   "execution_count": null,
   "metadata": {},
   "outputs": [],
   "source": []
  },
  {
   "cell_type": "markdown",
   "metadata": {},
   "source": [
    "## Basin Mask (MAM)"
   ]
  },
  {
   "cell_type": "markdown",
   "metadata": {},
   "source": [
    "### Writing in an Xarray Data array"
   ]
  },
  {
   "cell_type": "code",
   "execution_count": 58,
   "metadata": {},
   "outputs": [
    {
     "name": "stdout",
     "output_type": "stream",
     "text": [
      "32\n",
      "56\n"
     ]
    }
   ],
   "source": [
    "\n",
    "y_Us, x_Us = precip_mamTot_scenEraOne_pDiff_Us_ensmean_timeAvg.shape\n",
    "print(y_Us)\n",
    "print(x_Us)\n"
   ]
  },
  {
   "cell_type": "code",
   "execution_count": 59,
   "metadata": {},
   "outputs": [
    {
     "name": "stdout",
     "output_type": "stream",
     "text": [
      "(32, 56)\n",
      "<xarray.DataArray (Lat: 32, Lon: 56)>\n",
      "array([[-2.64144757, -2.47965695, -2.3859869 , ...,  3.92271191,\n",
      "         3.62198185,  3.25799746],\n",
      "       [-2.40502036, -2.26552387, -2.13339955, ...,  3.97963582,\n",
      "         3.8172467 ,  3.62333003],\n",
      "       [-2.4494681 , -2.21849948, -2.03011586, ...,  4.06151817,\n",
      "         4.00955157,  4.02817965],\n",
      "       ...,\n",
      "       [ 0.2730927 , -0.3078048 , -1.1514183 , ...,  4.37111262,\n",
      "         4.52181737,  4.39429089],\n",
      "       [ 0.13517569, -0.45364364, -0.00964412, ...,  4.42415091,\n",
      "         4.07282487,  3.55923943],\n",
      "       [ 0.81799015,  0.66582799,  1.25195404, ...,  4.081432  ,\n",
      "         3.60077224,  2.86877901]])\n",
      "Coordinates:\n",
      "  * Lat      (Lat) float32 24.97 25.92 26.86 27.8 ... 51.36 52.3 53.25 54.19\n",
      "  * Lon      (Lon) float32 230.0 231.2 232.5 233.8 ... 295.0 296.2 297.5 298.8\n"
     ]
    }
   ],
   "source": [
    "\n",
    "precip_mamTot_scenEraOne_diff_Us_xarray = xr.DataArray(precip_mamTot_scenEraOne_pDiff_Us_ensmean_timeAvg, coords=[latUs_cesm2, lonUs_cesm2 ], dims=[\"Lat\",\"Lon\"])\n",
    "\n",
    "print(precip_mamTot_scenEraOne_diff_Us_xarray.shape)\n",
    "print(precip_mamTot_scenEraOne_diff_Us_xarray)\n"
   ]
  },
  {
   "cell_type": "code",
   "execution_count": 60,
   "metadata": {},
   "outputs": [
    {
     "name": "stdout",
     "output_type": "stream",
     "text": [
      "(32, 56)\n",
      "<xarray.DataArray (Lat: 32, Lon: 56)>\n",
      "array([[-4.08283443, -3.73352197, -3.4893147 , ...,  6.23761711,\n",
      "         5.18910577,  4.0610999 ],\n",
      "       [-3.69476005, -3.27920572, -3.02131222, ...,  7.0242233 ,\n",
      "         6.30601124,  5.45897644],\n",
      "       [-3.30096354, -2.90107179, -2.63729979, ...,  7.79240736,\n",
      "         6.99129534,  6.36254789],\n",
      "       ...,\n",
      "       [ 3.56274505,  1.96040719, -0.6200226 , ...,  8.26897396,\n",
      "         7.95291107,  7.63933001],\n",
      "       [ 4.28308224,  1.72560143,  1.52256213, ...,  8.11635153,\n",
      "         7.16454004,  6.52227527],\n",
      "       [ 4.27734099,  3.38172552,  3.5280829 , ...,  7.5157029 ,\n",
      "         6.08790311,  4.39358493]])\n",
      "Coordinates:\n",
      "  * Lat      (Lat) float32 24.97 25.92 26.86 27.8 ... 51.36 52.3 53.25 54.19\n",
      "  * Lon      (Lon) float32 230.0 231.2 232.5 233.8 ... 295.0 296.2 297.5 298.8\n"
     ]
    }
   ],
   "source": [
    "\n",
    "precip_mamTot_scenEraTwo_diff_Us_xarray = xr.DataArray(precip_mamTot_scenEraTwo_pDiff_Us_ensmean_timeAvg, coords=[latUs_cesm2, lonUs_cesm2 ], dims=[\"Lat\",\"Lon\"])\n",
    "\n",
    "print(precip_mamTot_scenEraTwo_diff_Us_xarray.shape)\n",
    "print(precip_mamTot_scenEraTwo_diff_Us_xarray)\n"
   ]
  },
  {
   "cell_type": "code",
   "execution_count": 61,
   "metadata": {},
   "outputs": [
    {
     "name": "stdout",
     "output_type": "stream",
     "text": [
      "(32, 56)\n",
      "<xarray.DataArray (Lat: 32, Lon: 56)>\n",
      "array([[-6.59777066, -6.27922556, -6.12495599, ...,  9.32635098,\n",
      "         8.26468439,  7.22449133],\n",
      "       [-5.79030323, -5.28885227, -5.07159669, ..., 10.91897393,\n",
      "         9.67794808,  8.77207849],\n",
      "       [-4.99575425, -4.53297857, -4.22180718, ..., 12.38974627,\n",
      "        11.06748185, 10.05041317],\n",
      "       ...,\n",
      "       [ 6.51238192,  4.84325007,  1.12208334, ..., 14.52490391,\n",
      "        13.73817203, 13.10743222],\n",
      "       [ 6.82915281,  3.64952701,  4.24961723, ..., 13.91917092,\n",
      "        12.77348529, 11.73669449],\n",
      "       [ 5.98740903,  5.96439403,  6.72872375, ..., 12.67991562,\n",
      "        11.10837098,  9.04605413]])\n",
      "Coordinates:\n",
      "  * Lat      (Lat) float32 24.97 25.92 26.86 27.8 ... 51.36 52.3 53.25 54.19\n",
      "  * Lon      (Lon) float32 230.0 231.2 232.5 233.8 ... 295.0 296.2 297.5 298.8\n"
     ]
    }
   ],
   "source": [
    "\n",
    "precip_mamTot_scenEraThree_diff_Us_xarray = xr.DataArray(precip_mamTot_scenEraThree_pDiff_Us_ensmean_timeAvg, coords=[latUs_cesm2, lonUs_cesm2 ], dims=[\"Lat\",\"Lon\"])\n",
    "\n",
    "print(precip_mamTot_scenEraThree_diff_Us_xarray.shape)\n",
    "print(precip_mamTot_scenEraThree_diff_Us_xarray)\n"
   ]
  },
  {
   "cell_type": "code",
   "execution_count": null,
   "metadata": {},
   "outputs": [],
   "source": []
  },
  {
   "cell_type": "code",
   "execution_count": null,
   "metadata": {},
   "outputs": [],
   "source": []
  },
  {
   "cell_type": "markdown",
   "metadata": {},
   "source": [
    "## Mask files for the Basin Domain only"
   ]
  },
  {
   "cell_type": "markdown",
   "metadata": {},
   "source": [
    "### Mississippi"
   ]
  },
  {
   "cell_type": "code",
   "execution_count": 62,
   "metadata": {},
   "outputs": [
    {
     "name": "stdout",
     "output_type": "stream",
     "text": [
      "C:/rezaul/1.academic/1.research/2.project/mrb/dt/shapeFile/mask/mrb_us/mask_missiWri_us_CESM_longThree.nc\n"
     ]
    }
   ],
   "source": [
    "MaskFile_Missi_to_load = 'C:/rezaul/1.academic/1.research/2.project/mrb/dt/shapeFile/mask/mrb_us/mask_missiWri_us_CESM_longThree.nc'\n",
    "print(MaskFile_Missi_to_load)"
   ]
  },
  {
   "cell_type": "code",
   "execution_count": 63,
   "metadata": {},
   "outputs": [
    {
     "name": "stdout",
     "output_type": "stream",
     "text": [
      "<xarray.DataArray 'Mask' (Lat: 32, Lon: 56)>\n",
      "array([[0, 0, 0, ..., 0, 0, 0],\n",
      "       [0, 0, 0, ..., 0, 0, 0],\n",
      "       [0, 0, 0, ..., 0, 0, 0],\n",
      "       ...,\n",
      "       [0, 0, 0, ..., 0, 0, 0],\n",
      "       [0, 0, 0, ..., 0, 0, 0],\n",
      "       [0, 0, 0, ..., 0, 0, 0]])\n",
      "Coordinates:\n",
      "  * Lat      (Lat) float32 24.97 25.92 26.86 27.8 ... 51.36 52.3 53.25 54.19\n",
      "  * Lon      (Lon) float32 230.0 231.2 232.5 233.8 ... 295.0 296.2 297.5 298.8\n"
     ]
    }
   ],
   "source": [
    "MaskFile_Missi = xr.open_dataset(MaskFile_Missi_to_load)['Mask']\n",
    "print(MaskFile_Missi)"
   ]
  },
  {
   "cell_type": "code",
   "execution_count": 64,
   "metadata": {},
   "outputs": [
    {
     "name": "stdout",
     "output_type": "stream",
     "text": [
      "(32, 56)\n",
      "<xarray.DataArray (Lat: 32, Lon: 56)>\n",
      "array([[nan, nan, nan, ..., nan, nan, nan],\n",
      "       [nan, nan, nan, ..., nan, nan, nan],\n",
      "       [nan, nan, nan, ..., nan, nan, nan],\n",
      "       ...,\n",
      "       [nan, nan, nan, ..., nan, nan, nan],\n",
      "       [nan, nan, nan, ..., nan, nan, nan],\n",
      "       [nan, nan, nan, ..., nan, nan, nan]])\n",
      "Coordinates:\n",
      "  * Lat      (Lat) float32 24.97 25.92 26.86 27.8 ... 51.36 52.3 53.25 54.19\n",
      "  * Lon      (Lon) float32 230.0 231.2 232.5 233.8 ... 295.0 296.2 297.5 298.8\n"
     ]
    }
   ],
   "source": [
    "precip_mamTot_scenEraOne_diff_masked_Missi = precip_mamTot_scenEraOne_diff_Us_xarray.where(MaskFile_Missi>0)\n",
    "print(precip_mamTot_scenEraOne_diff_masked_Missi.shape)\n",
    "print(precip_mamTot_scenEraOne_diff_masked_Missi)"
   ]
  },
  {
   "cell_type": "code",
   "execution_count": 65,
   "metadata": {},
   "outputs": [
    {
     "name": "stdout",
     "output_type": "stream",
     "text": [
      "(32, 56)\n",
      "<xarray.DataArray (Lat: 32, Lon: 56)>\n",
      "array([[nan, nan, nan, ..., nan, nan, nan],\n",
      "       [nan, nan, nan, ..., nan, nan, nan],\n",
      "       [nan, nan, nan, ..., nan, nan, nan],\n",
      "       ...,\n",
      "       [nan, nan, nan, ..., nan, nan, nan],\n",
      "       [nan, nan, nan, ..., nan, nan, nan],\n",
      "       [nan, nan, nan, ..., nan, nan, nan]])\n",
      "Coordinates:\n",
      "  * Lat      (Lat) float32 24.97 25.92 26.86 27.8 ... 51.36 52.3 53.25 54.19\n",
      "  * Lon      (Lon) float32 230.0 231.2 232.5 233.8 ... 295.0 296.2 297.5 298.8\n"
     ]
    }
   ],
   "source": [
    "precip_mamTot_scenEraTwo_diff_masked_Missi = precip_mamTot_scenEraTwo_diff_Us_xarray.where(MaskFile_Missi>0)\n",
    "print(precip_mamTot_scenEraTwo_diff_masked_Missi.shape)\n",
    "print(precip_mamTot_scenEraTwo_diff_masked_Missi)"
   ]
  },
  {
   "cell_type": "code",
   "execution_count": 66,
   "metadata": {},
   "outputs": [
    {
     "name": "stdout",
     "output_type": "stream",
     "text": [
      "(32, 56)\n",
      "<xarray.DataArray (Lat: 32, Lon: 56)>\n",
      "array([[nan, nan, nan, ..., nan, nan, nan],\n",
      "       [nan, nan, nan, ..., nan, nan, nan],\n",
      "       [nan, nan, nan, ..., nan, nan, nan],\n",
      "       ...,\n",
      "       [nan, nan, nan, ..., nan, nan, nan],\n",
      "       [nan, nan, nan, ..., nan, nan, nan],\n",
      "       [nan, nan, nan, ..., nan, nan, nan]])\n",
      "Coordinates:\n",
      "  * Lat      (Lat) float32 24.97 25.92 26.86 27.8 ... 51.36 52.3 53.25 54.19\n",
      "  * Lon      (Lon) float32 230.0 231.2 232.5 233.8 ... 295.0 296.2 297.5 298.8\n"
     ]
    }
   ],
   "source": [
    "precip_mamTot_scenEraThree_diff_masked_Missi = precip_mamTot_scenEraThree_diff_Us_xarray.where(MaskFile_Missi>0)\n",
    "print(precip_mamTot_scenEraThree_diff_masked_Missi.shape)\n",
    "print(precip_mamTot_scenEraThree_diff_masked_Missi)"
   ]
  },
  {
   "cell_type": "code",
   "execution_count": 67,
   "metadata": {},
   "outputs": [
    {
     "name": "stdout",
     "output_type": "stream",
     "text": [
      "(32, 56)\n"
     ]
    }
   ],
   "source": [
    "print(precip_mamTot_scenEraOne_diff_masked_Missi.shape)"
   ]
  },
  {
   "cell_type": "markdown",
   "metadata": {},
   "source": [
    "## Find max and min values"
   ]
  },
  {
   "cell_type": "code",
   "execution_count": 68,
   "metadata": {},
   "outputs": [
    {
     "name": "stdout",
     "output_type": "stream",
     "text": [
      "6.881706766677098\n",
      "0.09550978347405703\n"
     ]
    }
   ],
   "source": [
    "maxVal_mamTot_diff_masked_scenEraOne = np.nanmax(precip_mamTot_scenEraOne_diff_masked_Missi)\n",
    "print(maxVal_mamTot_diff_masked_scenEraOne)\n",
    "minVal_mamTot_diff_masked_scenEraOne = np.nanmin(precip_mamTot_scenEraOne_diff_masked_Missi)\n",
    "print(minVal_mamTot_diff_masked_scenEraOne)"
   ]
  },
  {
   "cell_type": "code",
   "execution_count": 69,
   "metadata": {},
   "outputs": [
    {
     "name": "stdout",
     "output_type": "stream",
     "text": [
      "14.866151000150666\n",
      "4.213711167828663\n"
     ]
    }
   ],
   "source": [
    "maxVal_mamTot_diff_masked_scenEraTwo = np.nanmax(precip_mamTot_scenEraTwo_diff_masked_Missi)\n",
    "print(maxVal_mamTot_diff_masked_scenEraTwo)\n",
    "minVal_mamTot_diff_masked_scenEraTwo = np.nanmin(precip_mamTot_scenEraTwo_diff_masked_Missi)\n",
    "print(minVal_mamTot_diff_masked_scenEraTwo)"
   ]
  },
  {
   "cell_type": "code",
   "execution_count": 70,
   "metadata": {},
   "outputs": [
    {
     "name": "stdout",
     "output_type": "stream",
     "text": [
      "23.780965973578247\n",
      "1.18957107139056\n"
     ]
    }
   ],
   "source": [
    "maxVal_mamTot_diff_masked_scenEraThree = np.nanmax(precip_mamTot_scenEraThree_diff_masked_Missi)\n",
    "print(maxVal_mamTot_diff_masked_scenEraThree)\n",
    "minVal_mamTot_diff_masked_scenEraThree = np.nanmin(precip_mamTot_scenEraThree_diff_masked_Missi)\n",
    "print(minVal_mamTot_diff_masked_scenEraThree)"
   ]
  },
  {
   "cell_type": "code",
   "execution_count": null,
   "metadata": {},
   "outputs": [],
   "source": []
  },
  {
   "cell_type": "markdown",
   "metadata": {},
   "source": [
    "## Plotting"
   ]
  },
  {
   "cell_type": "code",
   "execution_count": 71,
   "metadata": {},
   "outputs": [
    {
     "name": "stdout",
     "output_type": "stream",
     "text": [
      "24.973821989528794\n",
      "54.18848167539267\n",
      "230.0\n",
      "298.75\n"
     ]
    }
   ],
   "source": [
    "\n",
    "latUsMin = lats_US.min()     # = or = latsCfsDnSc\n",
    "print(latUsMin)\n",
    "\n",
    "latUsMax = lats_US.max()\n",
    "print(latUsMax)\n",
    "\n",
    "lonUsMin = lons_US.min()\n",
    "print(lonUsMin)\n",
    "\n",
    "lonUsMax = lons_US.max()\n",
    "print(lonUsMax)"
   ]
  },
  {
   "cell_type": "code",
   "execution_count": 72,
   "metadata": {},
   "outputs": [
    {
     "name": "stdout",
     "output_type": "stream",
     "text": [
      "[230.0, 298.75, 24.973821989528794, 54.18848167539267]\n"
     ]
    }
   ],
   "source": [
    "extentUs = [lonUsMin, lonUsMax, latUsMin, latUsMax]\n",
    "print(extentUs)"
   ]
  },
  {
   "cell_type": "code",
   "execution_count": 73,
   "metadata": {},
   "outputs": [
    {
     "name": "stdout",
     "output_type": "stream",
     "text": [
      "[230.   231.25 232.5  233.75 235.   236.25 237.5  238.75 240.   241.25\n",
      " 242.5  243.75 245.   246.25 247.5  248.75 250.   251.25 252.5  253.75\n",
      " 255.   256.25 257.5  258.75 260.   261.25 262.5  263.75 265.   266.25\n",
      " 267.5  268.75 270.   271.25 272.5  273.75 275.   276.25 277.5  278.75\n",
      " 280.   281.25 282.5  283.75 285.   286.25 287.5  288.75 290.   291.25\n",
      " 292.5  293.75 295.   296.25 297.5  298.75]\n",
      "[24.97382199 25.91623037 26.85863874 27.80104712 28.7434555  29.68586387\n",
      " 30.62827225 31.57068063 32.51308901 33.45549738 34.39790576 35.34031414\n",
      " 36.28272251 37.22513089 38.16753927 39.10994764 40.05235602 40.9947644\n",
      " 41.93717277 42.87958115 43.82198953 44.76439791 45.70680628 46.64921466\n",
      " 47.59162304 48.53403141 49.47643979 50.41884817 51.36125654 52.30366492\n",
      " 53.2460733  54.18848168]\n"
     ]
    }
   ],
   "source": [
    "x_Us = linspace(lonUsMin, lonUsMax, x_US)\n",
    "y_Us = linspace(latUsMin, latUsMax, y_US)\n",
    "print(x_Us)\n",
    "print(y_Us)\n",
    "\n",
    "# Create the rectangular grid out of these values\n",
    "xx_Us, yy_Us = meshgrid(x_Us, y_Us)\n"
   ]
  },
  {
   "cell_type": "code",
   "execution_count": 74,
   "metadata": {},
   "outputs": [
    {
     "name": "stdout",
     "output_type": "stream",
     "text": [
      "0.0\n",
      "7.0\n"
     ]
    }
   ],
   "source": [
    "vmin_mamTot_scenEraOne = np.floor(minVal_mamTot_diff_masked_scenEraOne)\n",
    "vmax_mamTot_scenEraOne = np.ceil(maxVal_mamTot_diff_masked_scenEraOne)\n",
    "print(vmin_mamTot_scenEraOne)\n",
    "print(vmax_mamTot_scenEraOne)"
   ]
  },
  {
   "cell_type": "code",
   "execution_count": 75,
   "metadata": {},
   "outputs": [
    {
     "name": "stdout",
     "output_type": "stream",
     "text": [
      "4.0\n",
      "15.0\n"
     ]
    }
   ],
   "source": [
    "vmin_mamTot_scenEraTwo = np.floor(minVal_mamTot_diff_masked_scenEraTwo)\n",
    "vmax_mamTot_scenEraTwo = np.ceil(maxVal_mamTot_diff_masked_scenEraTwo)\n",
    "print(vmin_mamTot_scenEraTwo)\n",
    "print(vmax_mamTot_scenEraTwo)"
   ]
  },
  {
   "cell_type": "code",
   "execution_count": 76,
   "metadata": {},
   "outputs": [
    {
     "name": "stdout",
     "output_type": "stream",
     "text": [
      "1.0\n",
      "24.0\n"
     ]
    }
   ],
   "source": [
    "vmin_mamTot_scenEraThree = np.floor(minVal_mamTot_diff_masked_scenEraThree)\n",
    "vmax_mamTot_scenEraThree = np.ceil(maxVal_mamTot_diff_masked_scenEraThree)\n",
    "print(vmin_mamTot_scenEraThree)\n",
    "print(vmax_mamTot_scenEraThree)"
   ]
  },
  {
   "cell_type": "code",
   "execution_count": 77,
   "metadata": {},
   "outputs": [
    {
     "name": "stdout",
     "output_type": "stream",
     "text": [
      "8\n"
     ]
    }
   ],
   "source": [
    "nDiv_mamTot_scenEraOne = int(vmax_mamTot_scenEraOne - vmin_mamTot_scenEraOne + 1)\n",
    "print(nDiv_mamTot_scenEraOne)"
   ]
  },
  {
   "cell_type": "code",
   "execution_count": 78,
   "metadata": {},
   "outputs": [
    {
     "name": "stdout",
     "output_type": "stream",
     "text": [
      "12\n"
     ]
    }
   ],
   "source": [
    "nDiv_mamTot_scenEraTwo = int(vmax_mamTot_scenEraTwo - vmin_mamTot_scenEraTwo + 1)\n",
    "print(nDiv_mamTot_scenEraTwo)"
   ]
  },
  {
   "cell_type": "code",
   "execution_count": 79,
   "metadata": {},
   "outputs": [
    {
     "name": "stdout",
     "output_type": "stream",
     "text": [
      "24\n"
     ]
    }
   ],
   "source": [
    "nDiv_mamTot_scenEraThree = int(vmax_mamTot_scenEraThree - vmin_mamTot_scenEraThree + 1)\n",
    "print(nDiv_mamTot_scenEraThree)"
   ]
  },
  {
   "cell_type": "code",
   "execution_count": null,
   "metadata": {},
   "outputs": [],
   "source": []
  },
  {
   "cell_type": "code",
   "execution_count": null,
   "metadata": {},
   "outputs": [],
   "source": []
  },
  {
   "cell_type": "markdown",
   "metadata": {},
   "source": [
    "## JJA"
   ]
  },
  {
   "cell_type": "markdown",
   "metadata": {},
   "source": [
    "## ref Period"
   ]
  },
  {
   "cell_type": "code",
   "execution_count": 80,
   "metadata": {},
   "outputs": [],
   "source": [
    "jjaMonSt = 6\n",
    "jjaMonMid = 7\n",
    "jjaMonEnd = 8"
   ]
  },
  {
   "cell_type": "code",
   "execution_count": 81,
   "metadata": {},
   "outputs": [
    {
     "name": "stdout",
     "output_type": "stream",
     "text": [
      "(30, 32, 56)\n",
      "(30, 32, 56)\n",
      "(30, 32, 56)\n"
     ]
    }
   ],
   "source": [
    "\n",
    "precip_jjaSt_refPeriod_Us_ensmean = precip_refPeriod_Us_ensmean[jjaMonSt-1::nMonsPerYr]\n",
    "print(precip_jjaSt_refPeriod_Us_ensmean.shape)\n",
    "\n",
    "precip_jjaMid_refPeriod_Us_ensmean = precip_refPeriod_Us_ensmean[jjaMonMid-1::nMonsPerYr]\n",
    "print(precip_jjaMid_refPeriod_Us_ensmean.shape)\n",
    "\n",
    "precip_jjaEnd_refPeriod_Us_ensmean = precip_refPeriod_Us_ensmean[jjaMonEnd-1::nMonsPerYr]\n",
    "print(precip_jjaEnd_refPeriod_Us_ensmean.shape)\n"
   ]
  },
  {
   "cell_type": "code",
   "execution_count": 82,
   "metadata": {},
   "outputs": [
    {
     "name": "stdout",
     "output_type": "stream",
     "text": [
      "(32, 56)\n",
      "(32, 56)\n",
      "(32, 56)\n"
     ]
    }
   ],
   "source": [
    "precip_jjaSt_refPeriod_Us_ensmean_timeAvg = np.nanmean(precip_jjaSt_refPeriod_Us_ensmean, axis = 0)\n",
    "print(precip_jjaSt_refPeriod_Us_ensmean_timeAvg.shape)\n",
    "\n",
    "precip_jjaMid_refPeriod_Us_ensmean_timeAvg = np.nanmean(precip_jjaMid_refPeriod_Us_ensmean, axis = 0)\n",
    "print(precip_jjaMid_refPeriod_Us_ensmean_timeAvg.shape)\n",
    "\n",
    "precip_jjaEnd_refPeriod_Us_ensmean_timeAvg = np.nanmean(precip_jjaEnd_refPeriod_Us_ensmean, axis = 0)\n",
    "print(precip_jjaEnd_refPeriod_Us_ensmean_timeAvg.shape)\n"
   ]
  },
  {
   "cell_type": "code",
   "execution_count": 83,
   "metadata": {},
   "outputs": [
    {
     "name": "stdout",
     "output_type": "stream",
     "text": [
      "(32, 56)\n"
     ]
    }
   ],
   "source": [
    "precip_jjaTot_refPeriod_Us_ensmean_timeAvg = (precip_jjaSt_refPeriod_Us_ensmean_timeAvg+precip_jjaMid_refPeriod_Us_ensmean_timeAvg+precip_jjaEnd_refPeriod_Us_ensmean_timeAvg)/3\n",
    "print(precip_jjaTot_refPeriod_Us_ensmean_timeAvg.shape)"
   ]
  },
  {
   "cell_type": "markdown",
   "metadata": {},
   "source": [
    "## Scen Era 1"
   ]
  },
  {
   "cell_type": "code",
   "execution_count": 84,
   "metadata": {},
   "outputs": [
    {
     "name": "stdout",
     "output_type": "stream",
     "text": [
      "(30, 32, 56)\n",
      "(30, 32, 56)\n",
      "(30, 32, 56)\n"
     ]
    }
   ],
   "source": [
    "\n",
    "precip_jjaSt_scenEraOne_Us_ensmean = precip_scenEraOne_Us_ensmean[jjaMonSt-1::nMonsPerYr]\n",
    "print(precip_jjaSt_scenEraOne_Us_ensmean.shape)\n",
    "\n",
    "precip_jjaMid_scenEraOne_Us_ensmean = precip_scenEraOne_Us_ensmean[jjaMonMid-1::nMonsPerYr]\n",
    "print(precip_jjaMid_scenEraOne_Us_ensmean.shape)\n",
    "\n",
    "precip_jjaEnd_scenEraOne_Us_ensmean = precip_scenEraOne_Us_ensmean[jjaMonEnd-1::nMonsPerYr]\n",
    "print(precip_jjaEnd_scenEraOne_Us_ensmean.shape)\n"
   ]
  },
  {
   "cell_type": "code",
   "execution_count": 85,
   "metadata": {},
   "outputs": [
    {
     "name": "stdout",
     "output_type": "stream",
     "text": [
      "(32, 56)\n",
      "(32, 56)\n",
      "(32, 56)\n"
     ]
    }
   ],
   "source": [
    "precip_jjaSt_scenEraOne_Us_ensmean_timeAvg = np.nanmean(precip_jjaSt_scenEraOne_Us_ensmean, axis = 0)\n",
    "print(precip_jjaSt_scenEraOne_Us_ensmean_timeAvg.shape)\n",
    "\n",
    "precip_jjaMid_scenEraOne_Us_ensmean_timeAvg = np.nanmean(precip_jjaMid_scenEraOne_Us_ensmean, axis = 0)\n",
    "print(precip_jjaMid_scenEraOne_Us_ensmean_timeAvg.shape)\n",
    "\n",
    "precip_jjaEnd_scenEraOne_Us_ensmean_timeAvg = np.nanmean(precip_jjaEnd_scenEraOne_Us_ensmean, axis = 0)\n",
    "print(precip_jjaEnd_scenEraOne_Us_ensmean_timeAvg.shape)\n"
   ]
  },
  {
   "cell_type": "code",
   "execution_count": 86,
   "metadata": {},
   "outputs": [
    {
     "name": "stdout",
     "output_type": "stream",
     "text": [
      "(32, 56)\n"
     ]
    }
   ],
   "source": [
    "precip_jjaTot_scenEraOne_Us_ensmean_timeAvg = (precip_jjaSt_scenEraOne_Us_ensmean_timeAvg+precip_jjaMid_scenEraOne_Us_ensmean_timeAvg+precip_jjaEnd_scenEraOne_Us_ensmean_timeAvg)/3\n",
    "print(precip_jjaTot_scenEraOne_Us_ensmean_timeAvg.shape)\n"
   ]
  },
  {
   "cell_type": "markdown",
   "metadata": {},
   "source": [
    "## Scen Era 2"
   ]
  },
  {
   "cell_type": "code",
   "execution_count": 87,
   "metadata": {},
   "outputs": [
    {
     "name": "stdout",
     "output_type": "stream",
     "text": [
      "(30, 32, 56)\n",
      "(30, 32, 56)\n",
      "(30, 32, 56)\n"
     ]
    }
   ],
   "source": [
    "\n",
    "precip_jjaSt_scenEraTwo_Us_ensmean = precip_scenEraTwo_Us_ensmean[jjaMonSt-1::nMonsPerYr]\n",
    "print(precip_jjaSt_scenEraTwo_Us_ensmean.shape)\n",
    "\n",
    "precip_jjaMid_scenEraTwo_Us_ensmean = precip_scenEraTwo_Us_ensmean[jjaMonMid-1::nMonsPerYr]\n",
    "print(precip_jjaMid_scenEraTwo_Us_ensmean.shape)\n",
    "\n",
    "precip_jjaEnd_scenEraTwo_Us_ensmean = precip_scenEraTwo_Us_ensmean[jjaMonEnd-1::nMonsPerYr]\n",
    "print(precip_jjaEnd_scenEraTwo_Us_ensmean.shape)\n"
   ]
  },
  {
   "cell_type": "code",
   "execution_count": 88,
   "metadata": {},
   "outputs": [
    {
     "name": "stdout",
     "output_type": "stream",
     "text": [
      "(32, 56)\n",
      "(32, 56)\n",
      "(32, 56)\n"
     ]
    }
   ],
   "source": [
    "precip_jjaSt_scenEraTwo_Us_ensmean_timeAvg = np.nanmean(precip_jjaSt_scenEraTwo_Us_ensmean, axis = 0)\n",
    "print(precip_jjaSt_scenEraTwo_Us_ensmean_timeAvg.shape)\n",
    "\n",
    "precip_jjaMid_scenEraTwo_Us_ensmean_timeAvg = np.nanmean(precip_jjaMid_scenEraTwo_Us_ensmean, axis = 0)\n",
    "print(precip_jjaMid_scenEraTwo_Us_ensmean_timeAvg.shape)\n",
    "\n",
    "precip_jjaEnd_scenEraTwo_Us_ensmean_timeAvg = np.nanmean(precip_jjaEnd_scenEraTwo_Us_ensmean, axis = 0)\n",
    "print(precip_jjaEnd_scenEraTwo_Us_ensmean_timeAvg.shape)\n"
   ]
  },
  {
   "cell_type": "code",
   "execution_count": 89,
   "metadata": {},
   "outputs": [
    {
     "name": "stdout",
     "output_type": "stream",
     "text": [
      "(32, 56)\n"
     ]
    }
   ],
   "source": [
    "precip_jjaTot_scenEraTwo_Us_ensmean_timeAvg = (precip_jjaSt_scenEraTwo_Us_ensmean_timeAvg+precip_jjaMid_scenEraTwo_Us_ensmean_timeAvg+precip_jjaEnd_scenEraTwo_Us_ensmean_timeAvg)/3\n",
    "print(precip_jjaTot_scenEraTwo_Us_ensmean_timeAvg.shape)\n"
   ]
  },
  {
   "cell_type": "markdown",
   "metadata": {},
   "source": [
    "## Scen Era 3"
   ]
  },
  {
   "cell_type": "code",
   "execution_count": 90,
   "metadata": {},
   "outputs": [
    {
     "name": "stdout",
     "output_type": "stream",
     "text": [
      "(26, 32, 56)\n",
      "(26, 32, 56)\n",
      "(26, 32, 56)\n"
     ]
    }
   ],
   "source": [
    "\n",
    "precip_jjaSt_scenEraThree_Us_ensmean = precip_scenEraThree_Us_ensmean[jjaMonSt-1::nMonsPerYr]\n",
    "print(precip_jjaSt_scenEraThree_Us_ensmean.shape)\n",
    "\n",
    "precip_jjaMid_scenEraThree_Us_ensmean = precip_scenEraThree_Us_ensmean[jjaMonMid-1::nMonsPerYr]\n",
    "print(precip_jjaMid_scenEraThree_Us_ensmean.shape)\n",
    "\n",
    "precip_jjaEnd_scenEraThree_Us_ensmean = precip_scenEraThree_Us_ensmean[jjaMonEnd-1::nMonsPerYr]\n",
    "print(precip_jjaEnd_scenEraThree_Us_ensmean.shape)\n"
   ]
  },
  {
   "cell_type": "code",
   "execution_count": 91,
   "metadata": {},
   "outputs": [
    {
     "name": "stdout",
     "output_type": "stream",
     "text": [
      "(32, 56)\n",
      "(32, 56)\n",
      "(32, 56)\n"
     ]
    }
   ],
   "source": [
    "precip_jjaSt_scenEraThree_Us_ensmean_timeAvg = np.nanmean(precip_jjaSt_scenEraThree_Us_ensmean, axis = 0)\n",
    "print(precip_jjaSt_scenEraThree_Us_ensmean_timeAvg.shape)\n",
    "\n",
    "precip_jjaMid_scenEraThree_Us_ensmean_timeAvg = np.nanmean(precip_jjaMid_scenEraThree_Us_ensmean, axis = 0)\n",
    "print(precip_jjaMid_scenEraThree_Us_ensmean_timeAvg.shape)\n",
    "\n",
    "precip_jjaEnd_scenEraThree_Us_ensmean_timeAvg = np.nanmean(precip_jjaEnd_scenEraThree_Us_ensmean, axis = 0)\n",
    "print(precip_jjaEnd_scenEraThree_Us_ensmean_timeAvg.shape)\n"
   ]
  },
  {
   "cell_type": "code",
   "execution_count": 92,
   "metadata": {},
   "outputs": [
    {
     "name": "stdout",
     "output_type": "stream",
     "text": [
      "(32, 56)\n"
     ]
    }
   ],
   "source": [
    "precip_jjaTot_scenEraThree_Us_ensmean_timeAvg = (precip_jjaSt_scenEraThree_Us_ensmean_timeAvg+precip_jjaMid_scenEraThree_Us_ensmean_timeAvg+precip_jjaEnd_scenEraThree_Us_ensmean_timeAvg)/3\n",
    "print(precip_jjaTot_scenEraThree_Us_ensmean_timeAvg.shape)\n"
   ]
  },
  {
   "cell_type": "markdown",
   "metadata": {},
   "source": [
    "## Differences at the three Eras"
   ]
  },
  {
   "cell_type": "code",
   "execution_count": 93,
   "metadata": {},
   "outputs": [
    {
     "name": "stdout",
     "output_type": "stream",
     "text": [
      "(32, 56)\n"
     ]
    }
   ],
   "source": [
    "precip_jjaTot_scenEraOne_pDiff_Us_ensmean_timeAvg = (precip_jjaTot_scenEraOne_Us_ensmean_timeAvg - precip_jjaTot_refPeriod_Us_ensmean_timeAvg)\n",
    "print(precip_jjaTot_scenEraOne_pDiff_Us_ensmean_timeAvg.shape)"
   ]
  },
  {
   "cell_type": "code",
   "execution_count": 94,
   "metadata": {},
   "outputs": [
    {
     "name": "stdout",
     "output_type": "stream",
     "text": [
      "(32, 56)\n"
     ]
    }
   ],
   "source": [
    "precip_jjaTot_scenEraTwo_pDiff_Us_ensmean_timeAvg = (precip_jjaTot_scenEraTwo_Us_ensmean_timeAvg - precip_jjaTot_refPeriod_Us_ensmean_timeAvg)\n",
    "print(precip_jjaTot_scenEraTwo_pDiff_Us_ensmean_timeAvg.shape)"
   ]
  },
  {
   "cell_type": "code",
   "execution_count": 95,
   "metadata": {},
   "outputs": [
    {
     "name": "stdout",
     "output_type": "stream",
     "text": [
      "(32, 56)\n"
     ]
    }
   ],
   "source": [
    "precip_jjaTot_scenEraThree_pDiff_Us_ensmean_timeAvg = (precip_jjaTot_scenEraThree_Us_ensmean_timeAvg - precip_jjaTot_refPeriod_Us_ensmean_timeAvg)\n",
    "print(precip_jjaTot_scenEraThree_pDiff_Us_ensmean_timeAvg.shape)"
   ]
  },
  {
   "cell_type": "code",
   "execution_count": null,
   "metadata": {},
   "outputs": [],
   "source": []
  },
  {
   "cell_type": "markdown",
   "metadata": {},
   "source": [
    "## Basin Mask (JJA) ========="
   ]
  },
  {
   "cell_type": "markdown",
   "metadata": {},
   "source": [
    "## Writing in an Xarray Data array as a sample"
   ]
  },
  {
   "cell_type": "code",
   "execution_count": 96,
   "metadata": {},
   "outputs": [
    {
     "name": "stdout",
     "output_type": "stream",
     "text": [
      "(32, 56)\n",
      "<xarray.DataArray (Lat: 32, Lon: 56)>\n",
      "array([[  0.28233857,   0.29117652,   0.28726012, ...,  -5.20634675,\n",
      "         -4.95556802,  -4.69731743],\n",
      "       [  0.22342455,   0.31189434,   0.31659824, ...,  -4.84551025,\n",
      "         -4.30508885,  -4.06622943],\n",
      "       [  0.19926126,   0.30704591,   0.33691254, ...,  -4.54436961,\n",
      "         -4.1922746 ,  -3.95510066],\n",
      "       ...,\n",
      "       [ -6.15453253,  -9.31218328, -11.70890253, ...,   2.52946303,\n",
      "          2.70431595,   3.10205244],\n",
      "       [ -8.21205104, -11.01140266,  -8.86000048, ...,   3.47268774,\n",
      "          3.75415095,   4.12932825],\n",
      "       [ -9.03182828,  -8.72518298,  -5.78006425, ...,   3.6006796 ,\n",
      "          3.76172383,   3.59207043]])\n",
      "Coordinates:\n",
      "  * Lat      (Lat) float32 24.97 25.92 26.86 27.8 ... 51.36 52.3 53.25 54.19\n",
      "  * Lon      (Lon) float32 230.0 231.2 232.5 233.8 ... 295.0 296.2 297.5 298.8\n"
     ]
    }
   ],
   "source": [
    "precip_jjaTot_scenEraOne_diff_Us_xarray = xr.DataArray(precip_jjaTot_scenEraOne_pDiff_Us_ensmean_timeAvg, coords=[latUs_cesm2, lonUs_cesm2 ], dims=[\"Lat\",\"Lon\"])\n",
    "\n",
    "print(precip_jjaTot_scenEraOne_diff_Us_xarray.shape)\n",
    "print(precip_jjaTot_scenEraOne_diff_Us_xarray)"
   ]
  },
  {
   "cell_type": "code",
   "execution_count": 97,
   "metadata": {},
   "outputs": [
    {
     "name": "stdout",
     "output_type": "stream",
     "text": [
      "(32, 56)\n",
      "<xarray.DataArray (Lat: 32, Lon: 56)>\n",
      "array([[  0.94184148,   0.77019525,   0.60362273, ...,  -9.36573623,\n",
      "         -8.82129434,  -8.29124683],\n",
      "       [  0.94702678,   0.81810571,   0.64658034, ...,  -8.62175036,\n",
      "         -7.91908151,  -7.37979659],\n",
      "       [  1.03794713,   0.83510146,   0.78819292, ...,  -7.72521819,\n",
      "         -7.23809081,  -6.69950481],\n",
      "       ...,\n",
      "       [-11.43764494, -17.3724888 , -19.57655458, ...,   4.47077214,\n",
      "          4.71750759,   5.22602072],\n",
      "       [-16.54425155, -20.67872419, -14.73227855, ...,   5.24266116,\n",
      "          5.81043024,   6.49809237],\n",
      "       [-19.01346196, -15.92791699,  -9.14285763, ...,   4.57163184,\n",
      "          5.30139548,   5.73270075]])\n",
      "Coordinates:\n",
      "  * Lat      (Lat) float32 24.97 25.92 26.86 27.8 ... 51.36 52.3 53.25 54.19\n",
      "  * Lon      (Lon) float32 230.0 231.2 232.5 233.8 ... 295.0 296.2 297.5 298.8\n"
     ]
    }
   ],
   "source": [
    "precip_jjaTot_scenEraTwo_diff_Us_xarray = xr.DataArray(precip_jjaTot_scenEraTwo_pDiff_Us_ensmean_timeAvg, coords=[latUs_cesm2, lonUs_cesm2 ], dims=[\"Lat\",\"Lon\"])\n",
    "\n",
    "print(precip_jjaTot_scenEraTwo_diff_Us_xarray.shape)\n",
    "print(precip_jjaTot_scenEraTwo_diff_Us_xarray)"
   ]
  },
  {
   "cell_type": "code",
   "execution_count": 98,
   "metadata": {},
   "outputs": [
    {
     "name": "stdout",
     "output_type": "stream",
     "text": [
      "(32, 56)\n",
      "<xarray.DataArray (Lat: 32, Lon: 56)>\n",
      "array([[  1.444397  ,   1.16206938,   0.88220967, ..., -12.85175785,\n",
      "        -12.31118982, -11.61418307],\n",
      "       [  1.35508497,   1.17158285,   0.88299451, ..., -11.44863326,\n",
      "        -10.54882118,  -9.71554435],\n",
      "       [  1.38335711,   1.11866152,   0.90123846, ..., -10.12180144,\n",
      "         -9.12282615,  -8.22440248],\n",
      "       ...,\n",
      "       [-15.69032467, -23.82590118, -26.0726538 , ...,   8.15989092,\n",
      "          9.82437967,  10.68345492],\n",
      "       [-23.33782661, -28.48875197, -19.34693113, ...,   8.47526211,\n",
      "         10.26809384,  11.89203205],\n",
      "       [-26.78038428, -21.60667809, -11.02490338, ...,   6.64023271,\n",
      "          7.8579443 ,   9.55285402]])\n",
      "Coordinates:\n",
      "  * Lat      (Lat) float32 24.97 25.92 26.86 27.8 ... 51.36 52.3 53.25 54.19\n",
      "  * Lon      (Lon) float32 230.0 231.2 232.5 233.8 ... 295.0 296.2 297.5 298.8\n"
     ]
    }
   ],
   "source": [
    "precip_jjaTot_scenEraThree_diff_Us_xarray = xr.DataArray(precip_jjaTot_scenEraThree_pDiff_Us_ensmean_timeAvg, coords=[latUs_cesm2, lonUs_cesm2 ], dims=[\"Lat\",\"Lon\"])\n",
    "\n",
    "print(precip_jjaTot_scenEraThree_diff_Us_xarray.shape)\n",
    "print(precip_jjaTot_scenEraThree_diff_Us_xarray)"
   ]
  },
  {
   "cell_type": "code",
   "execution_count": null,
   "metadata": {},
   "outputs": [],
   "source": []
  },
  {
   "cell_type": "markdown",
   "metadata": {},
   "source": [
    "## Creating Mask files for the Basin Domain only"
   ]
  },
  {
   "cell_type": "markdown",
   "metadata": {},
   "source": [
    "## Mississippi"
   ]
  },
  {
   "cell_type": "code",
   "execution_count": 99,
   "metadata": {},
   "outputs": [
    {
     "name": "stdout",
     "output_type": "stream",
     "text": [
      "(32, 56)\n",
      "<xarray.DataArray (Lat: 32, Lon: 56)>\n",
      "array([[nan, nan, nan, ..., nan, nan, nan],\n",
      "       [nan, nan, nan, ..., nan, nan, nan],\n",
      "       [nan, nan, nan, ..., nan, nan, nan],\n",
      "       ...,\n",
      "       [nan, nan, nan, ..., nan, nan, nan],\n",
      "       [nan, nan, nan, ..., nan, nan, nan],\n",
      "       [nan, nan, nan, ..., nan, nan, nan]])\n",
      "Coordinates:\n",
      "  * Lat      (Lat) float32 24.97 25.92 26.86 27.8 ... 51.36 52.3 53.25 54.19\n",
      "  * Lon      (Lon) float32 230.0 231.2 232.5 233.8 ... 295.0 296.2 297.5 298.8\n"
     ]
    }
   ],
   "source": [
    "precip_jjaTot_scenEraOne_diff_masked_Missi = precip_jjaTot_scenEraOne_diff_Us_xarray.where(MaskFile_Missi>0)\n",
    "print(precip_jjaTot_scenEraOne_diff_masked_Missi.shape)\n",
    "print(precip_jjaTot_scenEraOne_diff_masked_Missi)"
   ]
  },
  {
   "cell_type": "code",
   "execution_count": 100,
   "metadata": {},
   "outputs": [
    {
     "name": "stdout",
     "output_type": "stream",
     "text": [
      "(32, 56)\n",
      "<xarray.DataArray (Lat: 32, Lon: 56)>\n",
      "array([[nan, nan, nan, ..., nan, nan, nan],\n",
      "       [nan, nan, nan, ..., nan, nan, nan],\n",
      "       [nan, nan, nan, ..., nan, nan, nan],\n",
      "       ...,\n",
      "       [nan, nan, nan, ..., nan, nan, nan],\n",
      "       [nan, nan, nan, ..., nan, nan, nan],\n",
      "       [nan, nan, nan, ..., nan, nan, nan]])\n",
      "Coordinates:\n",
      "  * Lat      (Lat) float32 24.97 25.92 26.86 27.8 ... 51.36 52.3 53.25 54.19\n",
      "  * Lon      (Lon) float32 230.0 231.2 232.5 233.8 ... 295.0 296.2 297.5 298.8\n"
     ]
    }
   ],
   "source": [
    "precip_jjaTot_scenEraTwo_diff_masked_Missi = precip_jjaTot_scenEraTwo_diff_Us_xarray.where(MaskFile_Missi>0)\n",
    "print(precip_jjaTot_scenEraTwo_diff_masked_Missi.shape)\n",
    "print(precip_jjaTot_scenEraTwo_diff_masked_Missi)"
   ]
  },
  {
   "cell_type": "code",
   "execution_count": 101,
   "metadata": {},
   "outputs": [
    {
     "name": "stdout",
     "output_type": "stream",
     "text": [
      "(32, 56)\n",
      "<xarray.DataArray (Lat: 32, Lon: 56)>\n",
      "array([[nan, nan, nan, ..., nan, nan, nan],\n",
      "       [nan, nan, nan, ..., nan, nan, nan],\n",
      "       [nan, nan, nan, ..., nan, nan, nan],\n",
      "       ...,\n",
      "       [nan, nan, nan, ..., nan, nan, nan],\n",
      "       [nan, nan, nan, ..., nan, nan, nan],\n",
      "       [nan, nan, nan, ..., nan, nan, nan]])\n",
      "Coordinates:\n",
      "  * Lat      (Lat) float32 24.97 25.92 26.86 27.8 ... 51.36 52.3 53.25 54.19\n",
      "  * Lon      (Lon) float32 230.0 231.2 232.5 233.8 ... 295.0 296.2 297.5 298.8\n"
     ]
    }
   ],
   "source": [
    "precip_jjaTot_scenEraThree_diff_masked_Missi = precip_jjaTot_scenEraThree_diff_Us_xarray.where(MaskFile_Missi>0)\n",
    "print(precip_jjaTot_scenEraThree_diff_masked_Missi.shape)\n",
    "print(precip_jjaTot_scenEraThree_diff_masked_Missi)"
   ]
  },
  {
   "cell_type": "code",
   "execution_count": null,
   "metadata": {},
   "outputs": [],
   "source": []
  },
  {
   "cell_type": "markdown",
   "metadata": {},
   "source": [
    "## Find max and min values"
   ]
  },
  {
   "cell_type": "code",
   "execution_count": 102,
   "metadata": {},
   "outputs": [
    {
     "name": "stdout",
     "output_type": "stream",
     "text": [
      "5.832193981982314\n",
      "-7.523572972878867\n"
     ]
    }
   ],
   "source": [
    "maxVal_jjaTot_diff_masked_scenEraOne = np.nanmax(precip_jjaTot_scenEraOne_diff_masked_Missi)\n",
    "print(maxVal_jjaTot_diff_masked_scenEraOne)\n",
    "minVal_jjaTot_diff_masked_scenEraOne = np.nanmin(precip_jjaTot_scenEraOne_diff_masked_Missi)\n",
    "print(minVal_jjaTot_diff_masked_scenEraOne)"
   ]
  },
  {
   "cell_type": "code",
   "execution_count": 103,
   "metadata": {},
   "outputs": [
    {
     "name": "stdout",
     "output_type": "stream",
     "text": [
      "9.01338112051063\n",
      "-11.541243301801181\n"
     ]
    }
   ],
   "source": [
    "maxVal_jjaTot_diff_masked_scenEraTwo = np.nanmax(precip_jjaTot_scenEraTwo_diff_masked_Missi)\n",
    "print(maxVal_jjaTot_diff_masked_scenEraTwo)\n",
    "minVal_jjaTot_diff_masked_scenEraTwo = np.nanmin(precip_jjaTot_scenEraTwo_diff_masked_Missi)\n",
    "print(minVal_jjaTot_diff_masked_scenEraTwo)"
   ]
  },
  {
   "cell_type": "code",
   "execution_count": 104,
   "metadata": {},
   "outputs": [
    {
     "name": "stdout",
     "output_type": "stream",
     "text": [
      "13.670011144466201\n",
      "-16.794562979413\n"
     ]
    }
   ],
   "source": [
    "maxVal_jjaTot_diff_masked_scenEraThree = np.nanmax(precip_jjaTot_scenEraThree_diff_masked_Missi)\n",
    "print(maxVal_jjaTot_diff_masked_scenEraThree)\n",
    "minVal_jjaTot_diff_masked_scenEraThree = np.nanmin(precip_jjaTot_scenEraThree_diff_masked_Missi)\n",
    "print(minVal_jjaTot_diff_masked_scenEraThree)"
   ]
  },
  {
   "cell_type": "code",
   "execution_count": null,
   "metadata": {},
   "outputs": [],
   "source": []
  },
  {
   "cell_type": "code",
   "execution_count": 105,
   "metadata": {},
   "outputs": [
    {
     "name": "stdout",
     "output_type": "stream",
     "text": [
      "-17.0\n",
      "14.0\n"
     ]
    }
   ],
   "source": [
    "vmin_jjaTot_scenEraThree = np.floor(minVal_jjaTot_diff_masked_scenEraThree)\n",
    "vmax_jjaTot_scenEraThree = np.ceil(maxVal_jjaTot_diff_masked_scenEraThree)\n",
    "print(vmin_jjaTot_scenEraThree)\n",
    "print(vmax_jjaTot_scenEraThree)"
   ]
  },
  {
   "cell_type": "code",
   "execution_count": 106,
   "metadata": {},
   "outputs": [
    {
     "name": "stdout",
     "output_type": "stream",
     "text": [
      "32\n"
     ]
    }
   ],
   "source": [
    "nDiv_jjaTot_scenEraThree = int(vmax_jjaTot_scenEraThree - vmin_jjaTot_scenEraThree + 1)\n",
    "print(nDiv_jjaTot_scenEraThree)"
   ]
  },
  {
   "cell_type": "code",
   "execution_count": null,
   "metadata": {},
   "outputs": [],
   "source": []
  },
  {
   "cell_type": "markdown",
   "metadata": {},
   "source": [
    "## SON"
   ]
  },
  {
   "cell_type": "markdown",
   "metadata": {},
   "source": [
    "## ref Period"
   ]
  },
  {
   "cell_type": "code",
   "execution_count": 107,
   "metadata": {},
   "outputs": [],
   "source": [
    "sonMonSt = 9\n",
    "sonMonMid = 10\n",
    "sonMonEnd = 11"
   ]
  },
  {
   "cell_type": "code",
   "execution_count": 108,
   "metadata": {},
   "outputs": [
    {
     "name": "stdout",
     "output_type": "stream",
     "text": [
      "(30, 32, 56)\n",
      "(30, 32, 56)\n",
      "(30, 32, 56)\n"
     ]
    }
   ],
   "source": [
    "\n",
    "precip_sonSt_refPeriod_Us_ensmean = precip_refPeriod_Us_ensmean[sonMonSt-1::nMonsPerYr]\n",
    "print(precip_sonSt_refPeriod_Us_ensmean.shape)\n",
    "\n",
    "precip_sonMid_refPeriod_Us_ensmean = precip_refPeriod_Us_ensmean[sonMonMid-1::nMonsPerYr]\n",
    "print(precip_sonMid_refPeriod_Us_ensmean.shape)\n",
    "\n",
    "precip_sonEnd_refPeriod_Us_ensmean = precip_refPeriod_Us_ensmean[sonMonEnd-1::nMonsPerYr]\n",
    "print(precip_sonEnd_refPeriod_Us_ensmean.shape)\n"
   ]
  },
  {
   "cell_type": "code",
   "execution_count": 109,
   "metadata": {},
   "outputs": [
    {
     "name": "stdout",
     "output_type": "stream",
     "text": [
      "(32, 56)\n",
      "(32, 56)\n",
      "(32, 56)\n"
     ]
    }
   ],
   "source": [
    "precip_sonSt_refPeriod_Us_ensmean_timeAvg = np.nanmean(precip_sonSt_refPeriod_Us_ensmean, axis = 0)\n",
    "print(precip_sonSt_refPeriod_Us_ensmean_timeAvg.shape)\n",
    "\n",
    "precip_sonMid_refPeriod_Us_ensmean_timeAvg = np.nanmean(precip_sonMid_refPeriod_Us_ensmean, axis = 0)\n",
    "print(precip_sonMid_refPeriod_Us_ensmean_timeAvg.shape)\n",
    "\n",
    "precip_sonEnd_refPeriod_Us_ensmean_timeAvg = np.nanmean(precip_sonEnd_refPeriod_Us_ensmean, axis = 0)\n",
    "print(precip_sonEnd_refPeriod_Us_ensmean_timeAvg.shape)\n"
   ]
  },
  {
   "cell_type": "code",
   "execution_count": 110,
   "metadata": {},
   "outputs": [
    {
     "name": "stdout",
     "output_type": "stream",
     "text": [
      "(32, 56)\n"
     ]
    }
   ],
   "source": [
    "precip_sonTot_refPeriod_Us_ensmean_timeAvg = (precip_sonSt_refPeriod_Us_ensmean_timeAvg+precip_sonMid_refPeriod_Us_ensmean_timeAvg+precip_sonEnd_refPeriod_Us_ensmean_timeAvg)/3\n",
    "print(precip_sonTot_refPeriod_Us_ensmean_timeAvg.shape)"
   ]
  },
  {
   "cell_type": "markdown",
   "metadata": {},
   "source": [
    "## Scen Era 1"
   ]
  },
  {
   "cell_type": "code",
   "execution_count": 111,
   "metadata": {},
   "outputs": [
    {
     "name": "stdout",
     "output_type": "stream",
     "text": [
      "(30, 32, 56)\n",
      "(30, 32, 56)\n",
      "(30, 32, 56)\n"
     ]
    }
   ],
   "source": [
    "\n",
    "precip_sonSt_scenEraOne_Us_ensmean = precip_scenEraOne_Us_ensmean[sonMonSt-1::nMonsPerYr]\n",
    "print(precip_sonSt_scenEraOne_Us_ensmean.shape)\n",
    "\n",
    "precip_sonMid_scenEraOne_Us_ensmean = precip_scenEraOne_Us_ensmean[sonMonMid-1::nMonsPerYr]\n",
    "print(precip_sonMid_scenEraOne_Us_ensmean.shape)\n",
    "\n",
    "precip_sonEnd_scenEraOne_Us_ensmean = precip_scenEraOne_Us_ensmean[sonMonEnd-1::nMonsPerYr]\n",
    "print(precip_sonEnd_scenEraOne_Us_ensmean.shape)\n"
   ]
  },
  {
   "cell_type": "code",
   "execution_count": 112,
   "metadata": {},
   "outputs": [
    {
     "name": "stdout",
     "output_type": "stream",
     "text": [
      "(32, 56)\n",
      "(32, 56)\n",
      "(32, 56)\n"
     ]
    }
   ],
   "source": [
    "precip_sonSt_scenEraOne_Us_ensmean_timeAvg = np.nanmean(precip_sonSt_scenEraOne_Us_ensmean, axis = 0)\n",
    "print(precip_sonSt_scenEraOne_Us_ensmean_timeAvg.shape)\n",
    "\n",
    "precip_sonMid_scenEraOne_Us_ensmean_timeAvg = np.nanmean(precip_sonMid_scenEraOne_Us_ensmean, axis = 0)\n",
    "print(precip_sonMid_scenEraOne_Us_ensmean_timeAvg.shape)\n",
    "\n",
    "precip_sonEnd_scenEraOne_Us_ensmean_timeAvg = np.nanmean(precip_sonEnd_scenEraOne_Us_ensmean, axis = 0)\n",
    "print(precip_sonEnd_scenEraOne_Us_ensmean_timeAvg.shape)\n"
   ]
  },
  {
   "cell_type": "code",
   "execution_count": 113,
   "metadata": {},
   "outputs": [
    {
     "name": "stdout",
     "output_type": "stream",
     "text": [
      "(32, 56)\n"
     ]
    }
   ],
   "source": [
    "precip_sonTot_scenEraOne_Us_ensmean_timeAvg = (precip_sonSt_scenEraOne_Us_ensmean_timeAvg+precip_sonMid_scenEraOne_Us_ensmean_timeAvg+precip_sonEnd_scenEraOne_Us_ensmean_timeAvg)/3\n",
    "print(precip_sonTot_scenEraOne_Us_ensmean_timeAvg.shape)\n"
   ]
  },
  {
   "cell_type": "markdown",
   "metadata": {},
   "source": [
    "## Scen Era 2"
   ]
  },
  {
   "cell_type": "code",
   "execution_count": 114,
   "metadata": {},
   "outputs": [
    {
     "name": "stdout",
     "output_type": "stream",
     "text": [
      "(30, 32, 56)\n",
      "(30, 32, 56)\n",
      "(30, 32, 56)\n"
     ]
    }
   ],
   "source": [
    "\n",
    "precip_sonSt_scenEraTwo_Us_ensmean = precip_scenEraTwo_Us_ensmean[sonMonSt-1::nMonsPerYr]\n",
    "print(precip_sonSt_scenEraTwo_Us_ensmean.shape)\n",
    "\n",
    "precip_sonMid_scenEraTwo_Us_ensmean = precip_scenEraTwo_Us_ensmean[sonMonMid-1::nMonsPerYr]\n",
    "print(precip_sonMid_scenEraTwo_Us_ensmean.shape)\n",
    "\n",
    "precip_sonEnd_scenEraTwo_Us_ensmean = precip_scenEraTwo_Us_ensmean[sonMonEnd-1::nMonsPerYr]\n",
    "print(precip_sonEnd_scenEraTwo_Us_ensmean.shape)\n"
   ]
  },
  {
   "cell_type": "code",
   "execution_count": 115,
   "metadata": {},
   "outputs": [
    {
     "name": "stdout",
     "output_type": "stream",
     "text": [
      "(32, 56)\n",
      "(32, 56)\n",
      "(32, 56)\n"
     ]
    }
   ],
   "source": [
    "precip_sonSt_scenEraTwo_Us_ensmean_timeAvg = np.nanmean(precip_sonSt_scenEraTwo_Us_ensmean, axis = 0)\n",
    "print(precip_sonSt_scenEraTwo_Us_ensmean_timeAvg.shape)\n",
    "\n",
    "precip_sonMid_scenEraTwo_Us_ensmean_timeAvg = np.nanmean(precip_sonMid_scenEraTwo_Us_ensmean, axis = 0)\n",
    "print(precip_sonMid_scenEraTwo_Us_ensmean_timeAvg.shape)\n",
    "\n",
    "precip_sonEnd_scenEraTwo_Us_ensmean_timeAvg = np.nanmean(precip_sonEnd_scenEraTwo_Us_ensmean, axis = 0)\n",
    "print(precip_sonEnd_scenEraTwo_Us_ensmean_timeAvg.shape)\n"
   ]
  },
  {
   "cell_type": "code",
   "execution_count": 116,
   "metadata": {},
   "outputs": [
    {
     "name": "stdout",
     "output_type": "stream",
     "text": [
      "(32, 56)\n"
     ]
    }
   ],
   "source": [
    "precip_sonTot_scenEraTwo_Us_ensmean_timeAvg = (precip_sonSt_scenEraTwo_Us_ensmean_timeAvg+precip_sonMid_scenEraTwo_Us_ensmean_timeAvg+precip_sonEnd_scenEraTwo_Us_ensmean_timeAvg)/3\n",
    "print(precip_sonTot_scenEraTwo_Us_ensmean_timeAvg.shape)\n"
   ]
  },
  {
   "cell_type": "markdown",
   "metadata": {},
   "source": [
    "## Scen Era 3"
   ]
  },
  {
   "cell_type": "code",
   "execution_count": 117,
   "metadata": {},
   "outputs": [
    {
     "name": "stdout",
     "output_type": "stream",
     "text": [
      "(26, 32, 56)\n",
      "(26, 32, 56)\n",
      "(26, 32, 56)\n"
     ]
    }
   ],
   "source": [
    "\n",
    "precip_sonSt_scenEraThree_Us_ensmean = precip_scenEraThree_Us_ensmean[sonMonSt-1::nMonsPerYr]\n",
    "print(precip_sonSt_scenEraThree_Us_ensmean.shape)\n",
    "\n",
    "precip_sonMid_scenEraThree_Us_ensmean = precip_scenEraThree_Us_ensmean[sonMonMid-1::nMonsPerYr]\n",
    "print(precip_sonMid_scenEraThree_Us_ensmean.shape)\n",
    "\n",
    "precip_sonEnd_scenEraThree_Us_ensmean = precip_scenEraThree_Us_ensmean[sonMonEnd-1::nMonsPerYr]\n",
    "print(precip_sonEnd_scenEraThree_Us_ensmean.shape)\n"
   ]
  },
  {
   "cell_type": "code",
   "execution_count": 118,
   "metadata": {},
   "outputs": [
    {
     "name": "stdout",
     "output_type": "stream",
     "text": [
      "(32, 56)\n",
      "(32, 56)\n",
      "(32, 56)\n"
     ]
    }
   ],
   "source": [
    "precip_sonSt_scenEraThree_Us_ensmean_timeAvg = np.nanmean(precip_sonSt_scenEraThree_Us_ensmean, axis = 0)\n",
    "print(precip_sonSt_scenEraThree_Us_ensmean_timeAvg.shape)\n",
    "\n",
    "precip_sonMid_scenEraThree_Us_ensmean_timeAvg = np.nanmean(precip_sonMid_scenEraThree_Us_ensmean, axis = 0)\n",
    "print(precip_sonMid_scenEraThree_Us_ensmean_timeAvg.shape)\n",
    "\n",
    "precip_sonEnd_scenEraThree_Us_ensmean_timeAvg = np.nanmean(precip_sonEnd_scenEraThree_Us_ensmean, axis = 0)\n",
    "print(precip_sonEnd_scenEraThree_Us_ensmean_timeAvg.shape)\n"
   ]
  },
  {
   "cell_type": "code",
   "execution_count": 119,
   "metadata": {},
   "outputs": [
    {
     "name": "stdout",
     "output_type": "stream",
     "text": [
      "(32, 56)\n"
     ]
    }
   ],
   "source": [
    "precip_sonTot_scenEraThree_Us_ensmean_timeAvg = (precip_sonSt_scenEraThree_Us_ensmean_timeAvg+precip_sonMid_scenEraThree_Us_ensmean_timeAvg+precip_sonEnd_scenEraThree_Us_ensmean_timeAvg)/3\n",
    "print(precip_sonTot_scenEraThree_Us_ensmean_timeAvg.shape)\n"
   ]
  },
  {
   "cell_type": "markdown",
   "metadata": {},
   "source": [
    "## Percent Differences at the three Eras"
   ]
  },
  {
   "cell_type": "code",
   "execution_count": 120,
   "metadata": {},
   "outputs": [
    {
     "name": "stdout",
     "output_type": "stream",
     "text": [
      "(32, 56)\n"
     ]
    }
   ],
   "source": [
    "precip_sonTot_scenEraOne_pDiff_Us_ensmean_timeAvg = (precip_sonTot_scenEraOne_Us_ensmean_timeAvg - precip_sonTot_refPeriod_Us_ensmean_timeAvg)\n",
    "print(precip_sonTot_scenEraOne_pDiff_Us_ensmean_timeAvg.shape)"
   ]
  },
  {
   "cell_type": "code",
   "execution_count": 121,
   "metadata": {},
   "outputs": [
    {
     "name": "stdout",
     "output_type": "stream",
     "text": [
      "(32, 56)\n"
     ]
    }
   ],
   "source": [
    "precip_sonTot_scenEraTwo_pDiff_Us_ensmean_timeAvg = (precip_sonTot_scenEraTwo_Us_ensmean_timeAvg - precip_sonTot_refPeriod_Us_ensmean_timeAvg)\n",
    "print(precip_sonTot_scenEraTwo_pDiff_Us_ensmean_timeAvg.shape)"
   ]
  },
  {
   "cell_type": "code",
   "execution_count": 122,
   "metadata": {},
   "outputs": [
    {
     "name": "stdout",
     "output_type": "stream",
     "text": [
      "(32, 56)\n"
     ]
    }
   ],
   "source": [
    "precip_sonTot_scenEraThree_pDiff_Us_ensmean_timeAvg = (precip_sonTot_scenEraThree_Us_ensmean_timeAvg - precip_sonTot_refPeriod_Us_ensmean_timeAvg)\n",
    "print(precip_sonTot_scenEraThree_pDiff_Us_ensmean_timeAvg.shape)"
   ]
  },
  {
   "cell_type": "code",
   "execution_count": null,
   "metadata": {},
   "outputs": [],
   "source": []
  },
  {
   "cell_type": "markdown",
   "metadata": {},
   "source": [
    "## Basin Mask (SON) ========="
   ]
  },
  {
   "cell_type": "markdown",
   "metadata": {},
   "source": [
    "## Writing in an Xarray Data array"
   ]
  },
  {
   "cell_type": "code",
   "execution_count": 123,
   "metadata": {},
   "outputs": [
    {
     "name": "stdout",
     "output_type": "stream",
     "text": [
      "(32, 56)\n",
      "<xarray.DataArray (Lat: 32, Lon: 56)>\n",
      "array([[ 0.18765439,  0.44751993,  0.52156149, ...,  1.33142713,\n",
      "         0.52552119, -0.71671759],\n",
      "       [ 0.07767708,  0.23780145,  0.39916196, ...,  2.58546717,\n",
      "         1.78734594,  1.17486679],\n",
      "       [ 0.0359642 ,  0.10968126,  0.33968389, ...,  4.15579062,\n",
      "         3.33773502,  2.56926194],\n",
      "       ...,\n",
      "       [ 9.73353772, 13.76180718, 10.28717879, ...,  4.60305821,\n",
      "         4.40695564,  4.26343629],\n",
      "       [13.23996041, 12.78063274,  8.61021051, ...,  5.65399005,\n",
      "         5.10263764,  4.46698252],\n",
      "       [13.31437072, 10.17710352,  7.06982588, ...,  6.49582007,\n",
      "         5.43340642,  4.14773267]])\n",
      "Coordinates:\n",
      "  * Lat      (Lat) float32 24.97 25.92 26.86 27.8 ... 51.36 52.3 53.25 54.19\n",
      "  * Lon      (Lon) float32 230.0 231.2 232.5 233.8 ... 295.0 296.2 297.5 298.8\n"
     ]
    }
   ],
   "source": [
    "precip_sonTot_scenEraOne_diff_Us_xarray = xr.DataArray(precip_sonTot_scenEraOne_pDiff_Us_ensmean_timeAvg, coords=[latUs_cesm2, lonUs_cesm2 ], dims=[\"Lat\",\"Lon\"])\n",
    "print(precip_sonTot_scenEraOne_diff_Us_xarray.shape)\n",
    "print(precip_sonTot_scenEraOne_diff_Us_xarray)"
   ]
  },
  {
   "cell_type": "code",
   "execution_count": 124,
   "metadata": {},
   "outputs": [
    {
     "name": "stdout",
     "output_type": "stream",
     "text": [
      "(32, 56)\n",
      "<xarray.DataArray (Lat: 32, Lon: 56)>\n",
      "array([[ 3.39039692,  3.62423125,  3.74208237, ...,  0.54085319,\n",
      "        -0.87871726, -3.2464915 ],\n",
      "       [ 2.64080143,  2.92321522,  3.06031051, ...,  4.11352202,\n",
      "         2.28707109,  0.18352127],\n",
      "       [ 2.17124731,  2.33239217,  2.54398854, ...,  7.46118178,\n",
      "         5.35963637,  3.21765509],\n",
      "       ...,\n",
      "       [27.58868239, 37.38093538, 30.02243075, ...,  7.77726864,\n",
      "         8.68917998,  9.06203466],\n",
      "       [36.6464136 , 36.06117179, 24.09055436, ...,  8.23479912,\n",
      "         8.75032771,  8.96497266],\n",
      "       [35.87198145, 27.26013681, 18.34043837, ...,  8.83152589,\n",
      "         8.02635414,  7.89394577]])\n",
      "Coordinates:\n",
      "  * Lat      (Lat) float32 24.97 25.92 26.86 27.8 ... 51.36 52.3 53.25 54.19\n",
      "  * Lon      (Lon) float32 230.0 231.2 232.5 233.8 ... 295.0 296.2 297.5 298.8\n"
     ]
    }
   ],
   "source": [
    "precip_sonTot_scenEraTwo_diff_Us_xarray = xr.DataArray(precip_sonTot_scenEraTwo_pDiff_Us_ensmean_timeAvg, coords=[latUs_cesm2, lonUs_cesm2 ], dims=[\"Lat\",\"Lon\"])\n",
    "print(precip_sonTot_scenEraTwo_diff_Us_xarray.shape)\n",
    "print(precip_sonTot_scenEraTwo_diff_Us_xarray)"
   ]
  },
  {
   "cell_type": "code",
   "execution_count": 125,
   "metadata": {},
   "outputs": [
    {
     "name": "stdout",
     "output_type": "stream",
     "text": [
      "(32, 56)\n",
      "<xarray.DataArray (Lat: 32, Lon: 56)>\n",
      "array([[  7.67197943,   7.30187041,   6.98872004, ...,  -3.92259242,\n",
      "         -6.56392406, -10.042118  ],\n",
      "       [  6.83508645,   6.65900272,   6.58890411, ...,   1.65405865,\n",
      "         -1.10614738,  -4.15123106],\n",
      "       [  6.03456234,   6.06315012,   6.21062532, ...,   6.51503665,\n",
      "          3.68632286,   1.31603937],\n",
      "       ...,\n",
      "       [ 47.23485063,  61.05664406,  47.05553362, ...,  12.99220826,\n",
      "         14.04954026,  14.84643127],\n",
      "       [ 60.99370216,  59.82805485,  37.50872049, ...,  12.70995607,\n",
      "         13.46973118,  14.00997735],\n",
      "       [ 58.56267729,  44.38622128,  28.88476295, ...,  12.86836238,\n",
      "         12.25732724,  12.35829001]])\n",
      "Coordinates:\n",
      "  * Lat      (Lat) float32 24.97 25.92 26.86 27.8 ... 51.36 52.3 53.25 54.19\n",
      "  * Lon      (Lon) float32 230.0 231.2 232.5 233.8 ... 295.0 296.2 297.5 298.8\n"
     ]
    }
   ],
   "source": [
    "precip_sonTot_scenEraThree_diff_Us_xarray = xr.DataArray(precip_sonTot_scenEraThree_pDiff_Us_ensmean_timeAvg, coords=[latUs_cesm2, lonUs_cesm2 ], dims=[\"Lat\",\"Lon\"])\n",
    "print(precip_sonTot_scenEraThree_diff_Us_xarray.shape)\n",
    "print(precip_sonTot_scenEraThree_diff_Us_xarray)"
   ]
  },
  {
   "cell_type": "code",
   "execution_count": null,
   "metadata": {},
   "outputs": [],
   "source": []
  },
  {
   "cell_type": "markdown",
   "metadata": {},
   "source": [
    "## Creating Mask files for the Basin Domain only"
   ]
  },
  {
   "cell_type": "markdown",
   "metadata": {},
   "source": [
    "## Mississippi"
   ]
  },
  {
   "cell_type": "code",
   "execution_count": 126,
   "metadata": {},
   "outputs": [
    {
     "name": "stdout",
     "output_type": "stream",
     "text": [
      "(32, 56)\n",
      "<xarray.DataArray (Lat: 32, Lon: 56)>\n",
      "array([[nan, nan, nan, ..., nan, nan, nan],\n",
      "       [nan, nan, nan, ..., nan, nan, nan],\n",
      "       [nan, nan, nan, ..., nan, nan, nan],\n",
      "       ...,\n",
      "       [nan, nan, nan, ..., nan, nan, nan],\n",
      "       [nan, nan, nan, ..., nan, nan, nan],\n",
      "       [nan, nan, nan, ..., nan, nan, nan]])\n",
      "Coordinates:\n",
      "  * Lat      (Lat) float32 24.97 25.92 26.86 27.8 ... 51.36 52.3 53.25 54.19\n",
      "  * Lon      (Lon) float32 230.0 231.2 232.5 233.8 ... 295.0 296.2 297.5 298.8\n"
     ]
    }
   ],
   "source": [
    "precip_sonTot_scenEraOne_diff_masked_Missi = precip_sonTot_scenEraOne_diff_Us_xarray.where(MaskFile_Missi>0)\n",
    "print(precip_sonTot_scenEraOne_diff_masked_Missi.shape)\n",
    "print(precip_sonTot_scenEraOne_diff_masked_Missi)"
   ]
  },
  {
   "cell_type": "code",
   "execution_count": 127,
   "metadata": {},
   "outputs": [
    {
     "name": "stdout",
     "output_type": "stream",
     "text": [
      "(32, 56)\n",
      "<xarray.DataArray (Lat: 32, Lon: 56)>\n",
      "array([[nan, nan, nan, ..., nan, nan, nan],\n",
      "       [nan, nan, nan, ..., nan, nan, nan],\n",
      "       [nan, nan, nan, ..., nan, nan, nan],\n",
      "       ...,\n",
      "       [nan, nan, nan, ..., nan, nan, nan],\n",
      "       [nan, nan, nan, ..., nan, nan, nan],\n",
      "       [nan, nan, nan, ..., nan, nan, nan]])\n",
      "Coordinates:\n",
      "  * Lat      (Lat) float32 24.97 25.92 26.86 27.8 ... 51.36 52.3 53.25 54.19\n",
      "  * Lon      (Lon) float32 230.0 231.2 232.5 233.8 ... 295.0 296.2 297.5 298.8\n"
     ]
    }
   ],
   "source": [
    "precip_sonTot_scenEraTwo_diff_masked_Missi = precip_sonTot_scenEraTwo_diff_Us_xarray.where(MaskFile_Missi>0)\n",
    "print(precip_sonTot_scenEraTwo_diff_masked_Missi.shape)\n",
    "print(precip_sonTot_scenEraTwo_diff_masked_Missi)"
   ]
  },
  {
   "cell_type": "code",
   "execution_count": 128,
   "metadata": {},
   "outputs": [
    {
     "name": "stdout",
     "output_type": "stream",
     "text": [
      "(32, 56)\n",
      "<xarray.DataArray (Lat: 32, Lon: 56)>\n",
      "array([[nan, nan, nan, ..., nan, nan, nan],\n",
      "       [nan, nan, nan, ..., nan, nan, nan],\n",
      "       [nan, nan, nan, ..., nan, nan, nan],\n",
      "       ...,\n",
      "       [nan, nan, nan, ..., nan, nan, nan],\n",
      "       [nan, nan, nan, ..., nan, nan, nan],\n",
      "       [nan, nan, nan, ..., nan, nan, nan]])\n",
      "Coordinates:\n",
      "  * Lat      (Lat) float32 24.97 25.92 26.86 27.8 ... 51.36 52.3 53.25 54.19\n",
      "  * Lon      (Lon) float32 230.0 231.2 232.5 233.8 ... 295.0 296.2 297.5 298.8\n"
     ]
    }
   ],
   "source": [
    "precip_sonTot_scenEraThree_diff_masked_Missi = precip_sonTot_scenEraThree_diff_Us_xarray.where(MaskFile_Missi>0)\n",
    "print(precip_sonTot_scenEraThree_diff_masked_Missi.shape)\n",
    "print(precip_sonTot_scenEraThree_diff_masked_Missi)"
   ]
  },
  {
   "cell_type": "code",
   "execution_count": null,
   "metadata": {},
   "outputs": [],
   "source": []
  },
  {
   "cell_type": "markdown",
   "metadata": {},
   "source": [
    "## Find max and min values"
   ]
  },
  {
   "cell_type": "code",
   "execution_count": 129,
   "metadata": {},
   "outputs": [
    {
     "name": "stdout",
     "output_type": "stream",
     "text": [
      "8.019193532927432\n",
      "-2.383178267581968\n"
     ]
    }
   ],
   "source": [
    "maxVal_sonTot_diff_masked_scenEraOne = np.nanmax(precip_sonTot_scenEraOne_diff_masked_Missi)\n",
    "print(maxVal_sonTot_diff_masked_scenEraOne)\n",
    "minVal_sonTot_diff_masked_scenEraOne = np.nanmin(precip_sonTot_scenEraOne_diff_masked_Missi)\n",
    "print(minVal_sonTot_diff_masked_scenEraOne)"
   ]
  },
  {
   "cell_type": "code",
   "execution_count": 130,
   "metadata": {},
   "outputs": [
    {
     "name": "stdout",
     "output_type": "stream",
     "text": [
      "12.8634965478156\n",
      "-3.420519592159714\n"
     ]
    }
   ],
   "source": [
    "maxVal_sonTot_diff_masked_scenEraTwo = np.nanmax(precip_sonTot_scenEraTwo_diff_masked_Missi)\n",
    "print(maxVal_sonTot_diff_masked_scenEraTwo)\n",
    "minVal_sonTot_diff_masked_scenEraTwo = np.nanmin(precip_sonTot_scenEraTwo_diff_masked_Missi)\n",
    "print(minVal_sonTot_diff_masked_scenEraTwo)"
   ]
  },
  {
   "cell_type": "code",
   "execution_count": 131,
   "metadata": {},
   "outputs": [
    {
     "name": "stdout",
     "output_type": "stream",
     "text": [
      "16.9709902933011\n",
      "-2.0712532391547924\n"
     ]
    }
   ],
   "source": [
    "maxVal_sonTot_diff_masked_scenEraThree = np.nanmax(precip_sonTot_scenEraThree_diff_masked_Missi)\n",
    "print(maxVal_sonTot_diff_masked_scenEraThree)\n",
    "minVal_sonTot_diff_masked_scenEraThree = np.nanmin(precip_sonTot_scenEraThree_diff_masked_Missi)\n",
    "print(minVal_sonTot_diff_masked_scenEraThree)"
   ]
  },
  {
   "cell_type": "code",
   "execution_count": null,
   "metadata": {},
   "outputs": [],
   "source": []
  },
  {
   "cell_type": "code",
   "execution_count": 132,
   "metadata": {},
   "outputs": [
    {
     "name": "stdout",
     "output_type": "stream",
     "text": [
      "-3.0\n",
      "17.0\n"
     ]
    }
   ],
   "source": [
    "vmin_sonTot_scenEraThree = np.floor(minVal_sonTot_diff_masked_scenEraThree)\n",
    "vmax_sonTot_scenEraThree = np.ceil(maxVal_sonTot_diff_masked_scenEraThree)\n",
    "print(vmin_sonTot_scenEraThree)\n",
    "print(vmax_sonTot_scenEraThree)"
   ]
  },
  {
   "cell_type": "code",
   "execution_count": 133,
   "metadata": {},
   "outputs": [
    {
     "name": "stdout",
     "output_type": "stream",
     "text": [
      "21\n"
     ]
    }
   ],
   "source": [
    "nDiv_sonTot_scenEraThree = int(vmax_sonTot_scenEraThree - vmin_sonTot_scenEraThree + 1)\n",
    "print(nDiv_sonTot_scenEraThree)"
   ]
  },
  {
   "cell_type": "code",
   "execution_count": null,
   "metadata": {},
   "outputs": [],
   "source": []
  },
  {
   "cell_type": "code",
   "execution_count": null,
   "metadata": {},
   "outputs": [],
   "source": []
  },
  {
   "cell_type": "markdown",
   "metadata": {},
   "source": [
    "## DJF"
   ]
  },
  {
   "cell_type": "markdown",
   "metadata": {},
   "source": [
    "## ref Period"
   ]
  },
  {
   "cell_type": "code",
   "execution_count": 134,
   "metadata": {},
   "outputs": [],
   "source": [
    "djfMonSt = 12\n",
    "djfMonMid = 1\n",
    "djfMonEnd = 2"
   ]
  },
  {
   "cell_type": "code",
   "execution_count": 135,
   "metadata": {},
   "outputs": [
    {
     "name": "stdout",
     "output_type": "stream",
     "text": [
      "(30, 32, 56)\n",
      "(30, 32, 56)\n",
      "(30, 32, 56)\n"
     ]
    }
   ],
   "source": [
    "\n",
    "precip_djfSt_refPeriod_Us_ensmean = precip_refPeriod_Us_ensmean[djfMonSt-1::nMonsPerYr]\n",
    "print(precip_djfSt_refPeriod_Us_ensmean.shape)\n",
    "\n",
    "precip_djfMid_refPeriod_Us_ensmean = precip_refPeriod_Us_ensmean[djfMonMid-1::nMonsPerYr]\n",
    "precip_djfMid_refPeriod_Us_ensmean = precip_djfMid_refPeriod_Us_ensmean[1::]\n",
    "print(precip_djfMid_refPeriod_Us_ensmean.shape)\n",
    "\n",
    "precip_djfEnd_refPeriod_Us_ensmean = precip_refPeriod_Us_ensmean[djfMonEnd-1::nMonsPerYr]\n",
    "precip_djfEnd_refPeriod_Us_ensmean = precip_djfEnd_refPeriod_Us_ensmean[1::]\n",
    "print(precip_djfEnd_refPeriod_Us_ensmean.shape)\n"
   ]
  },
  {
   "cell_type": "code",
   "execution_count": 136,
   "metadata": {},
   "outputs": [
    {
     "name": "stdout",
     "output_type": "stream",
     "text": [
      "(32, 56)\n",
      "(32, 56)\n",
      "(32, 56)\n"
     ]
    }
   ],
   "source": [
    "precip_djfSt_refPeriod_Us_ensmean_timeAvg = np.nanmean(precip_djfSt_refPeriod_Us_ensmean, axis = 0)\n",
    "print(precip_djfSt_refPeriod_Us_ensmean_timeAvg.shape)\n",
    "\n",
    "precip_djfMid_refPeriod_Us_ensmean_timeAvg = np.nanmean(precip_djfMid_refPeriod_Us_ensmean, axis = 0)\n",
    "print(precip_djfMid_refPeriod_Us_ensmean_timeAvg.shape)\n",
    "\n",
    "precip_djfEnd_refPeriod_Us_ensmean_timeAvg = np.nanmean(precip_djfEnd_refPeriod_Us_ensmean, axis = 0)\n",
    "print(precip_djfEnd_refPeriod_Us_ensmean_timeAvg.shape)\n"
   ]
  },
  {
   "cell_type": "code",
   "execution_count": 137,
   "metadata": {},
   "outputs": [
    {
     "name": "stdout",
     "output_type": "stream",
     "text": [
      "(32, 56)\n"
     ]
    }
   ],
   "source": [
    "precip_djfTot_refPeriod_Us_ensmean_timeAvg = (precip_djfSt_refPeriod_Us_ensmean_timeAvg+precip_djfMid_refPeriod_Us_ensmean_timeAvg+precip_djfEnd_refPeriod_Us_ensmean_timeAvg)/3\n",
    "print(precip_djfTot_refPeriod_Us_ensmean_timeAvg.shape)"
   ]
  },
  {
   "cell_type": "markdown",
   "metadata": {},
   "source": [
    "## Scen Era 1"
   ]
  },
  {
   "cell_type": "code",
   "execution_count": 138,
   "metadata": {},
   "outputs": [
    {
     "name": "stdout",
     "output_type": "stream",
     "text": [
      "(30, 32, 56)\n",
      "(30, 32, 56)\n",
      "(30, 32, 56)\n"
     ]
    }
   ],
   "source": [
    "\n",
    "precip_djfSt_scenEraOne_Us_ensmean = precip_scenEraOne_Us_ensmean[djfMonSt-1::nMonsPerYr]\n",
    "print(precip_djfSt_scenEraOne_Us_ensmean.shape)\n",
    "\n",
    "precip_djfMid_scenEraOne_Us_ensmean = precip_scenEraOne_Us_ensmean[djfMonMid-1::nMonsPerYr]\n",
    "precip_djfMid_scenEraOne_Us_ensmean = precip_djfMid_scenEraOne_Us_ensmean[1::]\n",
    "print(precip_djfMid_scenEraOne_Us_ensmean.shape)\n",
    "\n",
    "precip_djfEnd_scenEraOne_Us_ensmean = precip_scenEraOne_Us_ensmean[djfMonEnd-1::nMonsPerYr]\n",
    "precip_djfEnd_scenEraOne_Us_ensmean = precip_djfEnd_scenEraOne_Us_ensmean[1::]\n",
    "print(precip_djfEnd_scenEraOne_Us_ensmean.shape)\n"
   ]
  },
  {
   "cell_type": "code",
   "execution_count": 139,
   "metadata": {},
   "outputs": [
    {
     "name": "stdout",
     "output_type": "stream",
     "text": [
      "(32, 56)\n",
      "(32, 56)\n",
      "(32, 56)\n"
     ]
    }
   ],
   "source": [
    "precip_djfSt_scenEraOne_Us_ensmean_timeAvg = np.nanmean(precip_djfSt_scenEraOne_Us_ensmean, axis = 0)\n",
    "print(precip_djfSt_scenEraOne_Us_ensmean_timeAvg.shape)\n",
    "\n",
    "precip_djfMid_scenEraOne_Us_ensmean_timeAvg = np.nanmean(precip_djfMid_scenEraOne_Us_ensmean, axis = 0)\n",
    "print(precip_djfMid_scenEraOne_Us_ensmean_timeAvg.shape)\n",
    "\n",
    "precip_djfEnd_scenEraOne_Us_ensmean_timeAvg = np.nanmean(precip_djfEnd_scenEraOne_Us_ensmean, axis = 0)\n",
    "print(precip_djfEnd_scenEraOne_Us_ensmean_timeAvg.shape)\n"
   ]
  },
  {
   "cell_type": "code",
   "execution_count": 140,
   "metadata": {},
   "outputs": [
    {
     "name": "stdout",
     "output_type": "stream",
     "text": [
      "(32, 56)\n"
     ]
    }
   ],
   "source": [
    "precip_djfTot_scenEraOne_Us_ensmean_timeAvg = (precip_djfSt_scenEraOne_Us_ensmean_timeAvg+precip_djfMid_scenEraOne_Us_ensmean_timeAvg+precip_djfEnd_scenEraOne_Us_ensmean_timeAvg)/3\n",
    "print(precip_djfTot_scenEraOne_Us_ensmean_timeAvg.shape)\n"
   ]
  },
  {
   "cell_type": "markdown",
   "metadata": {},
   "source": [
    "## Scen Era 2"
   ]
  },
  {
   "cell_type": "code",
   "execution_count": 141,
   "metadata": {},
   "outputs": [
    {
     "name": "stdout",
     "output_type": "stream",
     "text": [
      "(30, 32, 56)\n",
      "(30, 32, 56)\n",
      "(30, 32, 56)\n"
     ]
    }
   ],
   "source": [
    "\n",
    "precip_djfSt_scenEraTwo_Us_ensmean = precip_scenEraTwo_Us_ensmean[djfMonSt-1::nMonsPerYr]\n",
    "print(precip_djfSt_scenEraTwo_Us_ensmean.shape)\n",
    "\n",
    "precip_djfMid_scenEraTwo_Us_ensmean = precip_scenEraTwo_Us_ensmean[djfMonMid-1::nMonsPerYr]\n",
    "precip_djfMid_scenEraTwo_Us_ensmean = precip_djfMid_scenEraTwo_Us_ensmean[1::]\n",
    "print(precip_djfMid_scenEraTwo_Us_ensmean.shape)\n",
    "\n",
    "precip_djfEnd_scenEraTwo_Us_ensmean = precip_scenEraTwo_Us_ensmean[djfMonEnd-1::nMonsPerYr]\n",
    "precip_djfEnd_scenEraTwo_Us_ensmean = precip_djfEnd_scenEraTwo_Us_ensmean[1::]\n",
    "print(precip_djfEnd_scenEraTwo_Us_ensmean.shape)\n"
   ]
  },
  {
   "cell_type": "code",
   "execution_count": 142,
   "metadata": {},
   "outputs": [
    {
     "name": "stdout",
     "output_type": "stream",
     "text": [
      "(32, 56)\n",
      "(32, 56)\n",
      "(32, 56)\n"
     ]
    }
   ],
   "source": [
    "precip_djfSt_scenEraTwo_Us_ensmean_timeAvg = np.nanmean(precip_djfSt_scenEraTwo_Us_ensmean, axis = 0)\n",
    "print(precip_djfSt_scenEraTwo_Us_ensmean_timeAvg.shape)\n",
    "\n",
    "precip_djfMid_scenEraTwo_Us_ensmean_timeAvg = np.nanmean(precip_djfMid_scenEraTwo_Us_ensmean, axis = 0)\n",
    "print(precip_djfMid_scenEraTwo_Us_ensmean_timeAvg.shape)\n",
    "\n",
    "precip_djfEnd_scenEraTwo_Us_ensmean_timeAvg = np.nanmean(precip_djfEnd_scenEraTwo_Us_ensmean, axis = 0)\n",
    "print(precip_djfEnd_scenEraTwo_Us_ensmean_timeAvg.shape)\n"
   ]
  },
  {
   "cell_type": "code",
   "execution_count": 143,
   "metadata": {},
   "outputs": [
    {
     "name": "stdout",
     "output_type": "stream",
     "text": [
      "(32, 56)\n"
     ]
    }
   ],
   "source": [
    "precip_djfTot_scenEraTwo_Us_ensmean_timeAvg = (precip_djfSt_scenEraTwo_Us_ensmean_timeAvg+precip_djfMid_scenEraTwo_Us_ensmean_timeAvg+precip_djfEnd_scenEraTwo_Us_ensmean_timeAvg)/3\n",
    "print(precip_djfTot_scenEraTwo_Us_ensmean_timeAvg.shape)\n"
   ]
  },
  {
   "cell_type": "markdown",
   "metadata": {},
   "source": [
    "## Scen Era 3"
   ]
  },
  {
   "cell_type": "code",
   "execution_count": 144,
   "metadata": {},
   "outputs": [
    {
     "name": "stdout",
     "output_type": "stream",
     "text": [
      "(26, 32, 56)\n",
      "(26, 32, 56)\n",
      "(26, 32, 56)\n"
     ]
    }
   ],
   "source": [
    "\n",
    "precip_djfSt_scenEraThree_Us_ensmean = precip_scenEraThree_Us_ensmean[djfMonSt-1::nMonsPerYr]\n",
    "print(precip_djfSt_scenEraThree_Us_ensmean.shape)\n",
    "\n",
    "precip_djfMid_scenEraThree_Us_ensmean = precip_scenEraThree_Us_ensmean[djfMonMid-1::nMonsPerYr]\n",
    "print(precip_djfMid_scenEraThree_Us_ensmean.shape)\n",
    "\n",
    "precip_djfEnd_scenEraThree_Us_ensmean = precip_scenEraThree_Us_ensmean[djfMonEnd-1::nMonsPerYr]\n",
    "print(precip_djfEnd_scenEraThree_Us_ensmean.shape)\n"
   ]
  },
  {
   "cell_type": "code",
   "execution_count": 145,
   "metadata": {},
   "outputs": [
    {
     "name": "stdout",
     "output_type": "stream",
     "text": [
      "(32, 56)\n",
      "(32, 56)\n",
      "(32, 56)\n"
     ]
    }
   ],
   "source": [
    "precip_djfSt_scenEraThree_Us_ensmean_timeAvg = np.nanmean(precip_djfSt_scenEraThree_Us_ensmean, axis = 0)\n",
    "print(precip_djfSt_scenEraThree_Us_ensmean_timeAvg.shape)\n",
    "\n",
    "precip_djfMid_scenEraThree_Us_ensmean_timeAvg = np.nanmean(precip_djfMid_scenEraThree_Us_ensmean, axis = 0)\n",
    "print(precip_djfMid_scenEraThree_Us_ensmean_timeAvg.shape)\n",
    "\n",
    "precip_djfEnd_scenEraThree_Us_ensmean_timeAvg = np.nanmean(precip_djfEnd_scenEraThree_Us_ensmean, axis = 0)\n",
    "print(precip_djfEnd_scenEraThree_Us_ensmean_timeAvg.shape)\n"
   ]
  },
  {
   "cell_type": "code",
   "execution_count": 146,
   "metadata": {},
   "outputs": [
    {
     "name": "stdout",
     "output_type": "stream",
     "text": [
      "(32, 56)\n"
     ]
    }
   ],
   "source": [
    "precip_djfTot_scenEraThree_Us_ensmean_timeAvg = (precip_djfSt_scenEraThree_Us_ensmean_timeAvg+precip_djfMid_scenEraThree_Us_ensmean_timeAvg+precip_djfEnd_scenEraThree_Us_ensmean_timeAvg)/3\n",
    "print(precip_djfTot_scenEraThree_Us_ensmean_timeAvg.shape)\n"
   ]
  },
  {
   "cell_type": "markdown",
   "metadata": {},
   "source": [
    "## Percent Differences at the three Eras"
   ]
  },
  {
   "cell_type": "code",
   "execution_count": 147,
   "metadata": {},
   "outputs": [
    {
     "name": "stdout",
     "output_type": "stream",
     "text": [
      "(32, 56)\n"
     ]
    }
   ],
   "source": [
    "precip_djfTot_scenEraOne_pDiff_Us_ensmean_timeAvg = (precip_djfTot_scenEraOne_Us_ensmean_timeAvg - precip_djfTot_refPeriod_Us_ensmean_timeAvg)\n",
    "print(precip_djfTot_scenEraOne_pDiff_Us_ensmean_timeAvg.shape)"
   ]
  },
  {
   "cell_type": "code",
   "execution_count": 148,
   "metadata": {},
   "outputs": [
    {
     "name": "stdout",
     "output_type": "stream",
     "text": [
      "(32, 56)\n"
     ]
    }
   ],
   "source": [
    "precip_djfTot_scenEraTwo_pDiff_Us_ensmean_timeAvg = (precip_djfTot_scenEraTwo_Us_ensmean_timeAvg - precip_djfTot_refPeriod_Us_ensmean_timeAvg)\n",
    "print(precip_djfTot_scenEraTwo_pDiff_Us_ensmean_timeAvg.shape)"
   ]
  },
  {
   "cell_type": "code",
   "execution_count": 149,
   "metadata": {},
   "outputs": [
    {
     "name": "stdout",
     "output_type": "stream",
     "text": [
      "(32, 56)\n"
     ]
    }
   ],
   "source": [
    "precip_djfTot_scenEraThree_pDiff_Us_ensmean_timeAvg = (precip_djfTot_scenEraThree_Us_ensmean_timeAvg - precip_djfTot_refPeriod_Us_ensmean_timeAvg)\n",
    "print(precip_djfTot_scenEraThree_pDiff_Us_ensmean_timeAvg.shape)"
   ]
  },
  {
   "cell_type": "code",
   "execution_count": null,
   "metadata": {},
   "outputs": [],
   "source": []
  },
  {
   "cell_type": "markdown",
   "metadata": {},
   "source": [
    "## Basin Mask (DJF) ========="
   ]
  },
  {
   "cell_type": "markdown",
   "metadata": {},
   "source": [
    "## Writing in an Xarray Data array"
   ]
  },
  {
   "cell_type": "code",
   "execution_count": 150,
   "metadata": {},
   "outputs": [
    {
     "name": "stdout",
     "output_type": "stream",
     "text": [
      "(32, 56)\n",
      "<xarray.DataArray (Lat: 32, Lon: 56)>\n",
      "array([[-0.11204094,  0.22286557,  0.43365239, ...,  3.52679014,\n",
      "         3.36729661,  3.23600449],\n",
      "       [-0.10709779,  0.21328709,  0.6102653 , ...,  4.0302206 ,\n",
      "         3.93490394,  3.73801846],\n",
      "       [-0.42746569, -0.0321057 ,  0.32279397, ...,  4.55507479,\n",
      "         4.57689578,  4.53367601],\n",
      "       ...,\n",
      "       [ 8.07379391,  8.95888277,  4.86326982, ...,  7.06690228,\n",
      "         7.20338064,  7.1090138 ],\n",
      "       [ 7.37327977,  3.64631551,  2.85958089, ...,  6.25010365,\n",
      "         6.28821789,  6.02752474],\n",
      "       [ 3.2034768 ,  2.44468307,  2.5163667 , ...,  5.80460196,\n",
      "         5.55677607,  5.03314922]])\n",
      "Coordinates:\n",
      "  * Lat      (Lat) float32 24.97 25.92 26.86 27.8 ... 51.36 52.3 53.25 54.19\n",
      "  * Lon      (Lon) float32 230.0 231.2 232.5 233.8 ... 295.0 296.2 297.5 298.8\n"
     ]
    }
   ],
   "source": [
    "precip_djfTot_scenEraOne_diff_Us_xarray = xr.DataArray(precip_djfTot_scenEraOne_pDiff_Us_ensmean_timeAvg, coords=[latUs_cesm2, lonUs_cesm2 ], dims=[\"Lat\",\"Lon\"])\n",
    "print(precip_djfTot_scenEraOne_diff_Us_xarray.shape)\n",
    "print(precip_djfTot_scenEraOne_diff_Us_xarray)"
   ]
  },
  {
   "cell_type": "code",
   "execution_count": 151,
   "metadata": {},
   "outputs": [
    {
     "name": "stdout",
     "output_type": "stream",
     "text": [
      "(32, 56)\n",
      "<xarray.DataArray (Lat: 32, Lon: 56)>\n",
      "array([[-1.89898371, -2.0187266 , -1.97084965, ...,  9.65642156,\n",
      "         8.5839172 ,  7.32983754],\n",
      "       [-0.8382012 , -1.10164486, -0.98791518, ..., 11.40364437,\n",
      "        10.59381341,  9.3496499 ],\n",
      "       [-0.0804824 , -0.2377294 , -0.32827644, ..., 12.70415616,\n",
      "        12.01441491, 11.14378065],\n",
      "       ...,\n",
      "       [22.64208359, 22.62863836, 11.90442206, ..., 10.93050964,\n",
      "        10.93044059, 10.99466343],\n",
      "       [22.88465013, 13.63107657,  8.51225335, ...,  9.31604188,\n",
      "         9.08673295,  8.97434213],\n",
      "       [13.49503807,  9.536648  ,  7.25424122, ...,  8.33145301,\n",
      "         7.52680826,  6.67706478]])\n",
      "Coordinates:\n",
      "  * Lat      (Lat) float32 24.97 25.92 26.86 27.8 ... 51.36 52.3 53.25 54.19\n",
      "  * Lon      (Lon) float32 230.0 231.2 232.5 233.8 ... 295.0 296.2 297.5 298.8\n"
     ]
    }
   ],
   "source": [
    "precip_djfTot_scenEraTwo_diff_Us_xarray = xr.DataArray(precip_djfTot_scenEraTwo_pDiff_Us_ensmean_timeAvg, coords=[latUs_cesm2, lonUs_cesm2 ], dims=[\"Lat\",\"Lon\"])\n",
    "print(precip_djfTot_scenEraTwo_diff_Us_xarray.shape)\n",
    "print(precip_djfTot_scenEraTwo_diff_Us_xarray)"
   ]
  },
  {
   "cell_type": "code",
   "execution_count": 152,
   "metadata": {},
   "outputs": [
    {
     "name": "stdout",
     "output_type": "stream",
     "text": [
      "(32, 56)\n",
      "<xarray.DataArray (Lat: 32, Lon: 56)>\n",
      "array([[-0.54559403, -1.00354512, -1.30247392, ..., 17.62578016,\n",
      "        15.68551687, 13.49099826],\n",
      "       [ 0.90150793,  0.40992859,  0.05100404, ..., 21.06520576,\n",
      "        19.68551634, 17.63767433],\n",
      "       [ 2.3349937 ,  1.91694344,  1.42776213, ..., 23.32763437,\n",
      "        22.60998873, 21.23886246],\n",
      "       ...,\n",
      "       [34.28920991, 33.76185688, 14.95528552, ..., 17.53600866,\n",
      "        17.3504017 , 17.34599657],\n",
      "       [35.89652771, 20.76555638, 10.92427897, ..., 15.05804963,\n",
      "        14.79582594, 14.47234992],\n",
      "       [22.14711539, 13.37238047, 10.02252472, ..., 14.07038113,\n",
      "        12.91385669, 11.73026708]])\n",
      "Coordinates:\n",
      "  * Lat      (Lat) float32 24.97 25.92 26.86 27.8 ... 51.36 52.3 53.25 54.19\n",
      "  * Lon      (Lon) float32 230.0 231.2 232.5 233.8 ... 295.0 296.2 297.5 298.8\n"
     ]
    }
   ],
   "source": [
    "precip_djfTot_scenEraThree_diff_Us_xarray = xr.DataArray(precip_djfTot_scenEraThree_pDiff_Us_ensmean_timeAvg, coords=[latUs_cesm2, lonUs_cesm2 ], dims=[\"Lat\",\"Lon\"])\n",
    "print(precip_djfTot_scenEraThree_diff_Us_xarray.shape)\n",
    "print(precip_djfTot_scenEraThree_diff_Us_xarray)"
   ]
  },
  {
   "cell_type": "code",
   "execution_count": null,
   "metadata": {},
   "outputs": [],
   "source": []
  },
  {
   "cell_type": "markdown",
   "metadata": {},
   "source": [
    "## Creating Mask files for the Basin Domain only"
   ]
  },
  {
   "cell_type": "markdown",
   "metadata": {},
   "source": [
    "## Mississippi"
   ]
  },
  {
   "cell_type": "code",
   "execution_count": 153,
   "metadata": {},
   "outputs": [
    {
     "name": "stdout",
     "output_type": "stream",
     "text": [
      "(32, 56)\n",
      "<xarray.DataArray (Lat: 32, Lon: 56)>\n",
      "array([[nan, nan, nan, ..., nan, nan, nan],\n",
      "       [nan, nan, nan, ..., nan, nan, nan],\n",
      "       [nan, nan, nan, ..., nan, nan, nan],\n",
      "       ...,\n",
      "       [nan, nan, nan, ..., nan, nan, nan],\n",
      "       [nan, nan, nan, ..., nan, nan, nan],\n",
      "       [nan, nan, nan, ..., nan, nan, nan]])\n",
      "Coordinates:\n",
      "  * Lat      (Lat) float32 24.97 25.92 26.86 27.8 ... 51.36 52.3 53.25 54.19\n",
      "  * Lon      (Lon) float32 230.0 231.2 232.5 233.8 ... 295.0 296.2 297.5 298.8\n"
     ]
    }
   ],
   "source": [
    "precip_djfTot_scenEraOne_diff_masked_Missi = precip_djfTot_scenEraOne_diff_Us_xarray.where(MaskFile_Missi>0)\n",
    "print(precip_djfTot_scenEraOne_diff_masked_Missi.shape)\n",
    "print(precip_djfTot_scenEraOne_diff_masked_Missi)"
   ]
  },
  {
   "cell_type": "code",
   "execution_count": 154,
   "metadata": {},
   "outputs": [
    {
     "name": "stdout",
     "output_type": "stream",
     "text": [
      "(32, 56)\n",
      "<xarray.DataArray (Lat: 32, Lon: 56)>\n",
      "array([[nan, nan, nan, ..., nan, nan, nan],\n",
      "       [nan, nan, nan, ..., nan, nan, nan],\n",
      "       [nan, nan, nan, ..., nan, nan, nan],\n",
      "       ...,\n",
      "       [nan, nan, nan, ..., nan, nan, nan],\n",
      "       [nan, nan, nan, ..., nan, nan, nan],\n",
      "       [nan, nan, nan, ..., nan, nan, nan]])\n",
      "Coordinates:\n",
      "  * Lat      (Lat) float32 24.97 25.92 26.86 27.8 ... 51.36 52.3 53.25 54.19\n",
      "  * Lon      (Lon) float32 230.0 231.2 232.5 233.8 ... 295.0 296.2 297.5 298.8\n"
     ]
    }
   ],
   "source": [
    "precip_djfTot_scenEraTwo_diff_masked_Missi = precip_djfTot_scenEraTwo_diff_Us_xarray.where(MaskFile_Missi>0)\n",
    "print(precip_djfTot_scenEraTwo_diff_masked_Missi.shape)\n",
    "print(precip_djfTot_scenEraTwo_diff_masked_Missi)"
   ]
  },
  {
   "cell_type": "code",
   "execution_count": 155,
   "metadata": {},
   "outputs": [
    {
     "name": "stdout",
     "output_type": "stream",
     "text": [
      "(32, 56)\n",
      "<xarray.DataArray (Lat: 32, Lon: 56)>\n",
      "array([[nan, nan, nan, ..., nan, nan, nan],\n",
      "       [nan, nan, nan, ..., nan, nan, nan],\n",
      "       [nan, nan, nan, ..., nan, nan, nan],\n",
      "       ...,\n",
      "       [nan, nan, nan, ..., nan, nan, nan],\n",
      "       [nan, nan, nan, ..., nan, nan, nan],\n",
      "       [nan, nan, nan, ..., nan, nan, nan]])\n",
      "Coordinates:\n",
      "  * Lat      (Lat) float32 24.97 25.92 26.86 27.8 ... 51.36 52.3 53.25 54.19\n",
      "  * Lon      (Lon) float32 230.0 231.2 232.5 233.8 ... 295.0 296.2 297.5 298.8\n"
     ]
    }
   ],
   "source": [
    "precip_djfTot_scenEraThree_diff_masked_Missi = precip_djfTot_scenEraThree_diff_Us_xarray.where(MaskFile_Missi>0)\n",
    "print(precip_djfTot_scenEraThree_diff_masked_Missi.shape)\n",
    "print(precip_djfTot_scenEraThree_diff_masked_Missi)"
   ]
  },
  {
   "cell_type": "code",
   "execution_count": null,
   "metadata": {},
   "outputs": [],
   "source": []
  },
  {
   "cell_type": "markdown",
   "metadata": {},
   "source": [
    "## Find max and min values"
   ]
  },
  {
   "cell_type": "code",
   "execution_count": 156,
   "metadata": {},
   "outputs": [
    {
     "name": "stdout",
     "output_type": "stream",
     "text": [
      "10.798155120269826\n",
      "0.4196323987752848\n"
     ]
    }
   ],
   "source": [
    "maxVal_djfTot_diff_masked_scenEraOne = np.nanmax(precip_djfTot_scenEraOne_diff_masked_Missi)\n",
    "print(maxVal_djfTot_diff_masked_scenEraOne)\n",
    "minVal_djfTot_diff_masked_scenEraOne = np.nanmin(precip_djfTot_scenEraOne_diff_masked_Missi)\n",
    "print(minVal_djfTot_diff_masked_scenEraOne)"
   ]
  },
  {
   "cell_type": "code",
   "execution_count": 157,
   "metadata": {},
   "outputs": [
    {
     "name": "stdout",
     "output_type": "stream",
     "text": [
      "19.164690616644734\n",
      "0.6926919271677008\n"
     ]
    }
   ],
   "source": [
    "maxVal_djfTot_diff_masked_scenEraTwo = np.nanmax(precip_djfTot_scenEraTwo_diff_masked_Missi)\n",
    "print(maxVal_djfTot_diff_masked_scenEraTwo)\n",
    "minVal_djfTot_diff_masked_scenEraTwo = np.nanmin(precip_djfTot_scenEraTwo_diff_masked_Missi)\n",
    "print(minVal_djfTot_diff_masked_scenEraTwo)"
   ]
  },
  {
   "cell_type": "code",
   "execution_count": 158,
   "metadata": {},
   "outputs": [
    {
     "name": "stdout",
     "output_type": "stream",
     "text": [
      "29.312858983598048\n",
      "-2.342948538500856\n"
     ]
    }
   ],
   "source": [
    "maxVal_djfTot_diff_masked_scenEraThree = np.nanmax(precip_djfTot_scenEraThree_diff_masked_Missi)\n",
    "print(maxVal_djfTot_diff_masked_scenEraThree)\n",
    "minVal_djfTot_diff_masked_scenEraThree = np.nanmin(precip_djfTot_scenEraThree_diff_masked_Missi)\n",
    "print(minVal_djfTot_diff_masked_scenEraThree)"
   ]
  },
  {
   "cell_type": "code",
   "execution_count": null,
   "metadata": {},
   "outputs": [],
   "source": []
  },
  {
   "cell_type": "code",
   "execution_count": 159,
   "metadata": {},
   "outputs": [
    {
     "name": "stdout",
     "output_type": "stream",
     "text": [
      "-3.0\n",
      "30.0\n"
     ]
    }
   ],
   "source": [
    "vmin_djfTot_scenEraThree = np.floor(minVal_djfTot_diff_masked_scenEraThree)\n",
    "vmax_djfTot_scenEraThree = np.ceil(maxVal_djfTot_diff_masked_scenEraThree)\n",
    "print(vmin_djfTot_scenEraThree)\n",
    "print(vmax_djfTot_scenEraThree)"
   ]
  },
  {
   "cell_type": "code",
   "execution_count": 160,
   "metadata": {},
   "outputs": [
    {
     "name": "stdout",
     "output_type": "stream",
     "text": [
      "34\n"
     ]
    }
   ],
   "source": [
    "nDiv_djfTot_scenEraThree = int(vmax_djfTot_scenEraThree - vmin_djfTot_scenEraThree + 1)\n",
    "print(nDiv_djfTot_scenEraThree)"
   ]
  },
  {
   "cell_type": "code",
   "execution_count": null,
   "metadata": {},
   "outputs": [],
   "source": []
  },
  {
   "cell_type": "code",
   "execution_count": 161,
   "metadata": {},
   "outputs": [
    {
     "name": "stdout",
     "output_type": "stream",
     "text": [
      "48\n"
     ]
    }
   ],
   "source": [
    "nDiv_djfTot_scenEraThree = int(vmax_djfTot_scenEraThree - vmin_jjaTot_scenEraThree + 1)\n",
    "print(nDiv_djfTot_scenEraThree)"
   ]
  },
  {
   "cell_type": "code",
   "execution_count": 162,
   "metadata": {},
   "outputs": [
    {
     "name": "stdout",
     "output_type": "stream",
     "text": [
      "35\n"
     ]
    }
   ],
   "source": [
    "nDiv_seasonMax = int(vmax_sonTot_scenEraThree - vmin_jjaTot_scenEraThree + 1)\n",
    "print(nDiv_seasonMax)"
   ]
  },
  {
   "cell_type": "code",
   "execution_count": 163,
   "metadata": {},
   "outputs": [
    {
     "name": "stdout",
     "output_type": "stream",
     "text": [
      "48\n"
     ]
    }
   ],
   "source": [
    "nDiv_seasonMax = int(vmax_djfTot_scenEraThree - vmin_jjaTot_scenEraThree + 1)\n",
    "print(nDiv_seasonMax)"
   ]
  },
  {
   "cell_type": "code",
   "execution_count": 164,
   "metadata": {},
   "outputs": [
    {
     "name": "stdout",
     "output_type": "stream",
     "text": [
      "(32, 56)\n"
     ]
    }
   ],
   "source": [
    "print(precip_djfTot_scenEraOne_diff_masked_Missi.shape)"
   ]
  },
  {
   "cell_type": "code",
   "execution_count": null,
   "metadata": {},
   "outputs": [],
   "source": []
  },
  {
   "cell_type": "code",
   "execution_count": null,
   "metadata": {},
   "outputs": [],
   "source": []
  },
  {
   "cell_type": "markdown",
   "metadata": {},
   "source": [
    "## Figure Formatting"
   ]
  },
  {
   "cell_type": "code",
   "execution_count": null,
   "metadata": {},
   "outputs": [],
   "source": []
  },
  {
   "cell_type": "code",
   "execution_count": 172,
   "metadata": {},
   "outputs": [
    {
     "name": "stdout",
     "output_type": "stream",
     "text": [
      "[<GeoAxesSubplot:>, <GeoAxesSubplot:>, <GeoAxesSubplot:>, <GeoAxesSubplot:>, <GeoAxesSubplot:>, <GeoAxesSubplot:>, <GeoAxesSubplot:>, <GeoAxesSubplot:>, <GeoAxesSubplot:>, <GeoAxesSubplot:>, <GeoAxesSubplot:>, <GeoAxesSubplot:>]\n"
     ]
    },
    {
     "name": "stderr",
     "output_type": "stream",
     "text": [
      "<ipython-input-172-9f2c4a67e85a>:96: MatplotlibDeprecationWarning: Case-insensitive properties were deprecated in 3.3 and support will be removed two minor releases later\n",
      "  ax1.set_yticklabels(latTickLebelsStr, fontSize = tickFontSize)\n",
      "<ipython-input-172-9f2c4a67e85a>:97: MatplotlibDeprecationWarning: Case-insensitive properties were deprecated in 3.3 and support will be removed two minor releases later\n",
      "  ax1.set_xticklabels('', fontSize = tickFontSize)\n",
      "<ipython-input-172-9f2c4a67e85a>:124: MatplotlibDeprecationWarning: Case-insensitive properties were deprecated in 3.3 and support will be removed two minor releases later\n",
      "  ax2.set_yticklabels('', fontSize = tickFontSize)\n",
      "<ipython-input-172-9f2c4a67e85a>:126: MatplotlibDeprecationWarning: Case-insensitive properties were deprecated in 3.3 and support will be removed two minor releases later\n",
      "  ax2.set_xticklabels('', fontSize = tickFontSize)\n",
      "<ipython-input-172-9f2c4a67e85a>:152: MatplotlibDeprecationWarning: Case-insensitive properties were deprecated in 3.3 and support will be removed two minor releases later\n",
      "  ax3.set_yticklabels('', fontSize = tickFontSize)\n",
      "<ipython-input-172-9f2c4a67e85a>:154: MatplotlibDeprecationWarning: Case-insensitive properties were deprecated in 3.3 and support will be removed two minor releases later\n",
      "  ax3.set_xticklabels('', fontSize = tickFontSize)\n",
      "<ipython-input-172-9f2c4a67e85a>:182: MatplotlibDeprecationWarning: Case-insensitive properties were deprecated in 3.3 and support will be removed two minor releases later\n",
      "  ax4.set_yticklabels(latTickLebelsStr, fontSize = tickFontSize)\n",
      "<ipython-input-172-9f2c4a67e85a>:183: MatplotlibDeprecationWarning: Case-insensitive properties were deprecated in 3.3 and support will be removed two minor releases later\n",
      "  ax4.set_xticklabels('', fontSize = tickFontSize)\n",
      "<ipython-input-172-9f2c4a67e85a>:210: MatplotlibDeprecationWarning: Case-insensitive properties were deprecated in 3.3 and support will be removed two minor releases later\n",
      "  ax5.set_yticklabels('', fontSize = tickFontSize)\n",
      "<ipython-input-172-9f2c4a67e85a>:212: MatplotlibDeprecationWarning: Case-insensitive properties were deprecated in 3.3 and support will be removed two minor releases later\n",
      "  ax5.set_xticklabels('', fontSize = tickFontSize)\n",
      "<ipython-input-172-9f2c4a67e85a>:235: MatplotlibDeprecationWarning: Case-insensitive properties were deprecated in 3.3 and support will be removed two minor releases later\n",
      "  ax6.set_yticklabels('', fontSize = tickFontSize)\n",
      "<ipython-input-172-9f2c4a67e85a>:237: MatplotlibDeprecationWarning: Case-insensitive properties were deprecated in 3.3 and support will be removed two minor releases later\n",
      "  ax6.set_xticklabels('', fontSize = tickFontSize)\n",
      "<ipython-input-172-9f2c4a67e85a>:263: MatplotlibDeprecationWarning: Case-insensitive properties were deprecated in 3.3 and support will be removed two minor releases later\n",
      "  ax7.set_yticklabels(latTickLebelsStr, fontSize = tickFontSize)\n",
      "<ipython-input-172-9f2c4a67e85a>:264: MatplotlibDeprecationWarning: Case-insensitive properties were deprecated in 3.3 and support will be removed two minor releases later\n",
      "  ax7.set_xticklabels('', fontSize = tickFontSize)\n",
      "<ipython-input-172-9f2c4a67e85a>:288: MatplotlibDeprecationWarning: Case-insensitive properties were deprecated in 3.3 and support will be removed two minor releases later\n",
      "  ax8.set_yticklabels('', fontSize = tickFontSize)\n",
      "<ipython-input-172-9f2c4a67e85a>:290: MatplotlibDeprecationWarning: Case-insensitive properties were deprecated in 3.3 and support will be removed two minor releases later\n",
      "  ax8.set_xticklabels('', fontSize = tickFontSize)\n",
      "<ipython-input-172-9f2c4a67e85a>:313: MatplotlibDeprecationWarning: Case-insensitive properties were deprecated in 3.3 and support will be removed two minor releases later\n",
      "  ax9.set_yticklabels('', fontSize = tickFontSize)\n",
      "<ipython-input-172-9f2c4a67e85a>:315: MatplotlibDeprecationWarning: Case-insensitive properties were deprecated in 3.3 and support will be removed two minor releases later\n",
      "  ax9.set_xticklabels('', fontSize = tickFontSize)\n",
      "<ipython-input-172-9f2c4a67e85a>:340: MatplotlibDeprecationWarning: Case-insensitive properties were deprecated in 3.3 and support will be removed two minor releases later\n",
      "  ax10.set_yticklabels(latTickLebelsStr, fontSize = tickFontSize)\n",
      "<ipython-input-172-9f2c4a67e85a>:341: MatplotlibDeprecationWarning: Case-insensitive properties were deprecated in 3.3 and support will be removed two minor releases later\n",
      "  ax10.set_xticklabels(lonTickLebelsStr, fontSize = tickFontSize)\n",
      "<ipython-input-172-9f2c4a67e85a>:377: MatplotlibDeprecationWarning: Case-insensitive properties were deprecated in 3.3 and support will be removed two minor releases later\n",
      "  ax11.set_yticklabels('', fontSize = tickFontSize)\n",
      "<ipython-input-172-9f2c4a67e85a>:380: MatplotlibDeprecationWarning: Case-insensitive properties were deprecated in 3.3 and support will be removed two minor releases later\n",
      "  ax11.set_xticklabels(lonTickLebelsStr, fontSize = tickFontSize)\n",
      "<ipython-input-172-9f2c4a67e85a>:404: MatplotlibDeprecationWarning: Case-insensitive properties were deprecated in 3.3 and support will be removed two minor releases later\n",
      "  ax12.set_yticklabels('', fontSize = tickFontSize)\n",
      "<ipython-input-172-9f2c4a67e85a>:407: MatplotlibDeprecationWarning: Case-insensitive properties were deprecated in 3.3 and support will be removed two minor releases later\n",
      "  ax12.set_xticklabels(lonTickLebelsStr, fontSize = tickFontSize)\n",
      "<ipython-input-172-9f2c4a67e85a>:417: UserWarning: This figure was using constrained_layout, but that is incompatible with subplots_adjust and/or tight_layout; disabling constrained_layout.\n",
      "  plt.subplots_adjust(left=0.13,\n",
      "C:\\Users\\muham\\anaconda3\\lib\\site-packages\\cartopy\\mpl\\style.py:90: UserWarning: facecolor will have no effect as it has been defined as \"never\".\n",
      "  warnings.warn('facecolor will have no effect as it has been '\n"
     ]
    },
    {
     "data": {
      "image/png": "[encoded data removed]",
      "text/plain": [
       "<Figure size 792x360 with 13 Axes>"
      ]
     },
     "metadata": {
      "needs_background": "light"
     },
     "output_type": "display_data"
    }
   ],
   "source": [
    "\n",
    "fraction_seasonMax = 1.9\n",
    "nDiv_seasonMax = int(vmax_djfTot_scenEraThree - vmin_jjaTot_scenEraThree + 1)\n",
    "\n",
    "\n",
    "tickFontSize = 9\n",
    "textFontSize = 11\n",
    "legendFontSize = 10\n",
    "titleFontSize = 11\n",
    "\n",
    "cbarTickFontSize = 10\n",
    "cbarTextFontSize = 13\n",
    "\n",
    "\n",
    "linewidth = 0.7\n",
    "#++++++++++++++++++++\n",
    "\n",
    "#++++++++++++++++++++\n",
    "\n",
    "# Plot for August\n",
    "#   https://stackoverflow.com/questions/7404116/defining-the-midpoint-of-a-colormap-in-matplotlib\n",
    "class MidpointNormalize(mpl.colors.Normalize):\n",
    "    def __init__(self, vmin, vmax, midpoint=0, clip=False):\n",
    "        self.midpoint = midpoint\n",
    "        mpl.colors.Normalize.__init__(self, vmin, vmax, clip)\n",
    "\n",
    "    def __call__(self, value, clip=None):\n",
    "        normalized_min = max(0, 1 / 2 * (1 - abs((self.midpoint - self.vmin) / (self.midpoint - self.vmax))))\n",
    "        normalized_max = min(1, 1 / 2 * (1 + abs((self.vmax - self.midpoint) / (self.midpoint - self.vmin))))\n",
    "        normalized_mid = 0.5\n",
    "        x, y = [self.vmin, self.midpoint, self.vmax], [normalized_min, normalized_mid, normalized_max]\n",
    "        return np.ma.masked_array(np.interp(value, x, y))\n",
    "\n",
    "\n",
    "norm = MidpointNormalize(vmin=vmin_jjaTot_scenEraThree, vmax=vmax_djfTot_scenEraThree+1, midpoint=0)\n",
    "levels = np.linspace(vmin_jjaTot_scenEraThree, vmax_djfTot_scenEraThree+1, int(nDiv_seasonMax/fraction_seasonMax)) # to draw 11 levels\n",
    "boundaries=np.linspace(vmin_jjaTot_scenEraThree,vmax_djfTot_scenEraThree+1, int(nDiv_seasonMax/fraction_seasonMax))\n",
    "\n",
    "latTickLebelsStr = ['27', '37', '47', ]\n",
    "lonTickLebelsStr = ['115', '105', '95', '85', '75',]\n",
    "\n",
    "latTicks = [27, 37, 47]\n",
    "lonTicks = [-115, -105, -95, -85, -75]\n",
    "\n",
    "yLimLow = 27\n",
    "yLimHigh = 52.5\n",
    "\n",
    "xLimLow = -115\n",
    "xLimHigh = -75\n",
    "#+++++++++++++++++++++++++++++++++++++++++\n",
    "\n",
    "\n",
    "\n",
    "fig = plt.figure(figsize=(11, 5), constrained_layout=True)\n",
    "axs = [plt.subplot(4, 3, x + 1, projection = ccrs.PlateCarree()) for x in range(12)]\n",
    "\n",
    "print(axs)\n",
    "ax1 = axs[0]\n",
    "\n",
    "cp1 = ax1.contourf(x_Us, y_Us,precip_djfTot_scenEraOne_diff_masked_Missi,transform=ccrs.PlateCarree(),cmap=cm.BrBG,levels = levels,norm=norm,)\n",
    "                              \n",
    "plt.grid(b=True, which='major', color='#666666', linestyle='-')\n",
    "\n",
    "\n",
    "ax1.add_feature(cfeature.RIVERS.with_scale('110m'), color='b', label='Rivers')     # couche rivières = was 50 m\n",
    "missi = cfeature.ShapelyFeature(basin_Missi, ccrs.PlateCarree())\n",
    "arkansas = cfeature.ShapelyFeature(basin_Arkansas, ccrs.PlateCarree())\n",
    "missouri = cfeature.ShapelyFeature(basin_Missouri, ccrs.PlateCarree())\n",
    "ohio = cfeature.ShapelyFeature(basin_Ohio, ccrs.PlateCarree())\n",
    "\n",
    "ax1.add_feature(missi,facecolor='none',edgecolor='black',linewidth=linewidth) # Mississippi\n",
    "ax1.add_feature(arkansas,facecolor='none',edgecolor='black',linewidth=linewidth) # Arkansas\n",
    "ax1.add_feature(missouri,facecolor='none',edgecolor='black',linewidth=linewidth) # Missouri\n",
    "ax1.add_feature(ohio,facecolor='none',edgecolor='black',linewidth=linewidth) # Ohio\n",
    "\n",
    "ax1.add_feature(cfeature.COASTLINE)\n",
    "ax1.set_xlim([xLimLow, xLimHigh])\n",
    "ax1.set_ylim([yLimLow, yLimHigh])\n",
    "\n",
    "ax1.set_yticks(latTicks) \n",
    "ax1.set_xticks(lonTicks) \n",
    "\n",
    "\n",
    "ax1.set_yticklabels(latTickLebelsStr, fontSize = tickFontSize)\n",
    "ax1.set_xticklabels('', fontSize = tickFontSize)\n",
    "ax1.set_ylabel('', fontsize = textFontVal)\n",
    "\n",
    "ax1.set_title('(a)', x = 0.45, y=1.08, pad=-14, fontsize = textFontSize,loc='left')\n",
    "ax1.text(-108.0, 54, r'2015-2044', fontsize=titleFontSize)\n",
    "#++++++++++++++++++++++++++++++++++++++++++++++++++++++++++++++++++++++++++++++++++++++++++++++++++\n",
    "\n",
    "ax2 = axs[1]\n",
    "cp2 = ax2.contourf(x_Us, y_Us,precip_djfTot_scenEraTwo_diff_masked_Missi,transform=ccrs.PlateCarree(),cmap=cm.BrBG,levels = levels,norm=norm,)\n",
    "\n",
    "p2 = ax2.get_position().get_points().flatten()\n",
    "plt.grid(b=True, which='major', color='#666666', linestyle='-')\n",
    "ax2.add_feature(cfeature.RIVERS.with_scale('110m'), color='b', label='Rivers')     # couche rivières = was 50 m\n",
    "\n",
    "ax2.add_feature(missi,facecolor='none',edgecolor='black',linewidth=linewidth) # Mississippi\n",
    "ax2.add_feature(arkansas,facecolor='none',edgecolor='black',linewidth=linewidth) # Arkansas\n",
    "ax2.add_feature(missouri,facecolor='none',edgecolor='black',linewidth=linewidth) # Missouri\n",
    "ax2.add_feature(ohio,facecolor='none',edgecolor='black',linewidth=linewidth) # Ohio\n",
    "\n",
    "ax2.add_feature(cfeature.COASTLINE)\n",
    "#ax2.set_xlim([-115, -75])\n",
    "#ax2.set_ylim([27, 52.5])\n",
    "ax2.set_xlim([xLimLow, xLimHigh])\n",
    "ax2.set_ylim([yLimLow, yLimHigh])\n",
    "\n",
    "ax2.set_yticks(latTicks) \n",
    "\n",
    "ax2.set_yticklabels('', fontSize = tickFontSize)\n",
    "ax2.set_xticks(lonTicks) \n",
    "ax2.set_xticklabels('', fontSize = tickFontSize)\n",
    "ax2.set_title('(b)', x = 0.45, y=1.08, pad=-14, fontsize = textFontSize,loc='left')\n",
    "ax2.text(-108.0, 54, r'2045-2074', fontsize=titleFontSize)\n",
    "#+++++++++++++++++++++++++++++++++++++++++++++++++++++++++++++++++++++++++++++++++++++++++++++++++\n",
    "#+++++++++++++++++++++++++++++++++++++++++++++++++++++++++++++++++++++++++++++++++++++++++++++++++\n",
    "\n",
    "\n",
    "ax3 = axs[2]\n",
    "cp3 = ax3.contourf(x_Us, y_Us,precip_djfTot_scenEraThree_diff_masked_Missi,transform=ccrs.PlateCarree(),cmap=cm.BrBG,levels = levels,norm=norm,)\n",
    "\n",
    "plt.grid(b=True, which='major', color='#666666', linestyle='-')\n",
    "ax3.add_feature(cfeature.RIVERS.with_scale('110m'), color='b', label='Rivers')     # couche rivières = was 50 m\n",
    "\n",
    "ax3.add_feature(missi,facecolor='none',edgecolor='black',linewidth=linewidth) # Mississippi\n",
    "ax3.add_feature(arkansas,facecolor='none',edgecolor='black',linewidth=linewidth) # Arkansas\n",
    "ax3.add_feature(missouri,facecolor='none',edgecolor='black',linewidth=linewidth) # Missouri\n",
    "ax3.add_feature(ohio,facecolor='none',edgecolor='black',linewidth=linewidth) # Ohio\n",
    "\n",
    "ax3.add_feature(cfeature.COASTLINE)\n",
    "#ax3.set_xlim([-115, -75])\n",
    "#ax3.set_ylim([27, 52.5])\n",
    "ax3.set_xlim([xLimLow, xLimHigh])\n",
    "ax3.set_ylim([yLimLow, yLimHigh])\n",
    "\n",
    "ax3.set_yticks(latTicks) \n",
    "\n",
    "ax3.set_yticklabels('', fontSize = tickFontSize)\n",
    "ax3.set_xticks(lonTicks) \n",
    "ax3.set_xticklabels('', fontSize = tickFontSize)\n",
    "ax3.set_title('(c)', x = 0.45, y=1.08, pad=-14, fontsize = textFontSize,loc='left')\n",
    "ax3.text(-108.0, 54, r'2075-2100', fontsize=titleFontSize)\n",
    "#+++++++++++++++++++++++++++++++++++++++++++++++++++++++++++++++++++++++++++++++++++++++++++\n",
    "#+++++++++++++++++++++++++++++++++++++++++++++++++++++++++++++++++++++++++++++++++++++++++++\n",
    "\n",
    "\n",
    "ax4 = axs[3]\n",
    "cp4 = ax4.contourf(x_Us, y_Us,precip_mamTot_scenEraOne_diff_masked_Missi,transform=ccrs.PlateCarree(),cmap=cm.BrBG,levels = levels,norm=norm,)\n",
    "\n",
    "plt.grid(b=True, which='major', color='#666666', linestyle='-')\n",
    "\n",
    "\n",
    "ax4.add_feature(cfeature.RIVERS.with_scale('110m'), color='b', label='Rivers')     # couche rivières = was 50 m\n",
    "ax4.add_feature(missi,facecolor='none',edgecolor='black',linewidth=linewidth) # Mississippi\n",
    "ax4.add_feature(arkansas,facecolor='none',edgecolor='black',linewidth=linewidth) # Arkansas\n",
    "ax4.add_feature(missouri,facecolor='none',edgecolor='black',linewidth=linewidth) # Missouri\n",
    "ax4.add_feature(ohio,facecolor='none',edgecolor='black',linewidth=linewidth) # Ohio\n",
    "\n",
    "ax4.add_feature(cfeature.COASTLINE)\n",
    "#ax4.set_xlim([-115, -75])\n",
    "#ax4.set_ylim([27, 52.5])\n",
    "ax4.set_xlim([xLimLow, xLimHigh])\n",
    "ax4.set_ylim([yLimLow, yLimHigh])\n",
    "\n",
    "ax4.set_yticks(latTicks) \n",
    "ax4.set_xticks(lonTicks) \n",
    "\n",
    "ax4.set_yticklabels(latTickLebelsStr, fontSize = tickFontSize)\n",
    "ax4.set_xticklabels('', fontSize = tickFontSize)\n",
    "\n",
    "ax4.set_ylabel('Latitude (°N)', fontsize = textFontSize, y=-0.15)\n",
    "ax4.set_title('(d)', x = 0.45, y=1.08, pad=-14, fontsize = textFontSize,loc='left')\n",
    "#+++++++++++++++++++++++++++++++++++++++++++++++++++++++++++++++++++++++++++\n",
    "\n",
    "ax5 = axs[4]\n",
    "cp5 = ax5.contourf(x_Us, y_Us,precip_mamTot_scenEraTwo_diff_masked_Missi,transform=ccrs.PlateCarree(),cmap=cm.BrBG,levels = levels,norm=norm,)\n",
    "\n",
    "p5 = ax5.get_position().get_points().flatten()\n",
    "plt.grid(b=True, which='major', color='#666666', linestyle='-')\n",
    "ax5.add_feature(cfeature.RIVERS.with_scale('110m'), color='b', label='Rivers')     # couche rivières = was 50 m\n",
    "\n",
    "ax5.add_feature(missi,facecolor='none',edgecolor='black',linewidth=linewidth) # Mississippi\n",
    "ax5.add_feature(arkansas,facecolor='none',edgecolor='black',linewidth=linewidth) # Arkansas\n",
    "ax5.add_feature(missouri,facecolor='none',edgecolor='black',linewidth=linewidth) # Missouri\n",
    "ax5.add_feature(ohio,facecolor='none',edgecolor='black',linewidth=linewidth) # Ohio\n",
    "\n",
    "ax5.add_feature(cfeature.COASTLINE)\n",
    "#ax5.set_xlim([-115, -75])\n",
    "#ax5.set_ylim([27, 52.5])\n",
    "ax5.set_xlim([xLimLow, xLimHigh])\n",
    "ax5.set_ylim([yLimLow, yLimHigh])\n",
    "\n",
    "\n",
    "ax5.set_yticks(latTicks) \n",
    "\n",
    "ax5.set_yticklabels('', fontSize = tickFontSize)\n",
    "ax5.set_xticks(lonTicks) \n",
    "ax5.set_xticklabels('', fontSize = tickFontSize)\n",
    "ax5.set_title('(e)', x = 0.45, y=1.08, pad=-14, fontsize = textFontSize,loc='left')\n",
    "#+++++++++++++++++++++++++++++++++++++++++++++++++++++++++++++++++++++++++++++++++++++++++++++++++\n",
    "\n",
    "ax6 = axs[5]\n",
    "cp6 = ax6.contourf(x_Us, y_Us,precip_mamTot_scenEraThree_diff_masked_Missi,transform=ccrs.PlateCarree(),cmap=cm.BrBG,levels = levels,norm=norm,)\n",
    "\n",
    "plt.grid(b=True, which='major', color='#666666', linestyle='-')\n",
    "ax6.add_feature(cfeature.RIVERS.with_scale('110m'), color='b', label='Rivers')     # couche rivières = was 50 m\n",
    "\n",
    "ax6.add_feature(missi,facecolor='none',edgecolor='black',linewidth=linewidth) # Mississippi\n",
    "ax6.add_feature(arkansas,facecolor='none',edgecolor='black',linewidth=linewidth) # Arkansas\n",
    "ax6.add_feature(missouri,facecolor='none',edgecolor='black',linewidth=linewidth) # Missouri\n",
    "ax6.add_feature(ohio,facecolor='none',edgecolor='black',linewidth=linewidth) # Ohio\n",
    "\n",
    "ax6.add_feature(cfeature.COASTLINE)\n",
    "#ax6.set_xlim([-115, -75])\n",
    "#ax6.set_ylim([27, 52.5])\n",
    "ax6.set_xlim([xLimLow, xLimHigh])\n",
    "ax6.set_ylim([yLimLow, yLimHigh])\n",
    "\n",
    "ax6.set_yticks(latTicks) \n",
    "\n",
    "ax6.set_yticklabels('', fontSize = tickFontSize)\n",
    "ax6.set_xticks(lonTicks) \n",
    "ax6.set_xticklabels('', fontSize = tickFontSize)\n",
    "ax6.set_title('(f)', x = 0.45, y=1.08, pad=-14, fontsize = textFontSize,loc='left')\n",
    "#+++++++++++++++++++++++++++++++++++++++++++++++++++++++++++++++++++++++++++++++++++++++++++\n",
    "\n",
    "\n",
    "ax7 = axs[6]\n",
    "cp7 = ax7.contourf(x_Us, y_Us,precip_jjaTot_scenEraOne_diff_masked_Missi,transform=ccrs.PlateCarree(),cmap=cm.BrBG,levels = levels,norm=norm,)\n",
    "\n",
    "plt.grid(b=True, which='major', color='#666666', linestyle='-')\n",
    "\n",
    "\n",
    "ax7.add_feature(cfeature.RIVERS.with_scale('110m'), color='b', label='Rivers')     # couche rivières = was 50 m\n",
    "ax7.add_feature(missi,facecolor='none',edgecolor='black',linewidth=linewidth) # Mississippi\n",
    "ax7.add_feature(arkansas,facecolor='none',edgecolor='black',linewidth=linewidth) # Arkansas\n",
    "ax7.add_feature(missouri,facecolor='none',edgecolor='black',linewidth=linewidth) # Missouri\n",
    "ax7.add_feature(ohio,facecolor='none',edgecolor='black',linewidth=linewidth) # Ohio\n",
    "\n",
    "ax7.add_feature(cfeature.COASTLINE)\n",
    "#ax7.set_xlim([-115, -75])\n",
    "#ax7.set_ylim([27, 52.5])\n",
    "ax7.set_xlim([xLimLow, xLimHigh])\n",
    "ax7.set_ylim([yLimLow, yLimHigh])\n",
    "\n",
    "ax7.set_yticks(latTicks) \n",
    "ax7.set_xticks(lonTicks) \n",
    "\n",
    "ax7.set_yticklabels(latTickLebelsStr, fontSize = tickFontSize)\n",
    "ax7.set_xticklabels('', fontSize = tickFontSize)\n",
    "ax7.set_title('(g)', x = 0.45, y=1.08, pad=-14, fontsize = textFontSize,loc='left')\n",
    "#+++++++++++++++++++++++++++++++++++++++++++++++++++++++++++++++++++++++++++\n",
    "\n",
    "ax8 = axs[7]\n",
    "cp8 = ax8.contourf(x_Us, y_Us,precip_jjaTot_scenEraTwo_diff_masked_Missi,transform=ccrs.PlateCarree(),cmap=cm.BrBG,levels = levels,norm=norm,)\n",
    "\n",
    "p8 = ax8.get_position().get_points().flatten()\n",
    "\n",
    "plt.grid(b=True, which='major', color='#666666', linestyle='-')\n",
    "ax8.add_feature(cfeature.RIVERS.with_scale('110m'), color='b', label='Rivers')     # couche rivières = was 50 m\n",
    "\n",
    "ax8.add_feature(missi,facecolor='none',edgecolor='black',linewidth=linewidth) # Mississippi\n",
    "ax8.add_feature(arkansas,facecolor='none',edgecolor='black',linewidth=linewidth) # Arkansas\n",
    "ax8.add_feature(missouri,facecolor='none',edgecolor='black',linewidth=linewidth) # Missouri\n",
    "ax8.add_feature(ohio,facecolor='none',edgecolor='black',linewidth=linewidth) # Ohio\n",
    "\n",
    "ax8.add_feature(cfeature.COASTLINE)\n",
    "#ax8.set_xlim([-115, -75])\n",
    "#ax8.set_ylim([27, 52.5])\n",
    "ax8.set_xlim([xLimLow, xLimHigh])\n",
    "ax8.set_ylim([yLimLow, yLimHigh])\n",
    "\n",
    "ax8.set_yticks(latTicks) \n",
    "ax8.set_yticklabels('', fontSize = tickFontSize)\n",
    "ax8.set_xticks(lonTicks) \n",
    "ax8.set_xticklabels('', fontSize = tickFontSize)\n",
    "ax8.set_title('(h)', x = 0.45, y=1.08, pad=-14, fontsize = textFontSize,loc='left')\n",
    "#+++++++++++++++++++++++++++++++++++++++++++++++++++++++++++++++++++++++++++++++++++++++++++++++++\n",
    "\n",
    "ax9 = axs[8]\n",
    "cp9 = ax9.contourf(x_Us, y_Us,precip_jjaTot_scenEraThree_diff_masked_Missi,transform=ccrs.PlateCarree(),cmap=cm.BrBG,levels = levels,norm=norm,)\n",
    "\n",
    "plt.grid(b=True, which='major', color='#666666', linestyle='-')\n",
    "ax9.add_feature(cfeature.RIVERS.with_scale('110m'), color='b', label='Rivers')     # couche rivières = was 50 m\n",
    "\n",
    "ax9.add_feature(missi,facecolor='none',edgecolor='black',linewidth=linewidth) # Mississippi\n",
    "ax9.add_feature(arkansas,facecolor='none',edgecolor='black',linewidth=linewidth) # Arkansas\n",
    "ax9.add_feature(missouri,facecolor='none',edgecolor='black',linewidth=linewidth) # Missouri\n",
    "ax9.add_feature(ohio,facecolor='none',edgecolor='black',linewidth=linewidth) # Ohio\n",
    "\n",
    "ax9.add_feature(cfeature.COASTLINE)\n",
    "#ax9.set_xlim([-115, -75])\n",
    "#ax9.set_ylim([27, 52.5])\n",
    "ax9.set_xlim([xLimLow, xLimHigh])\n",
    "ax9.set_ylim([yLimLow, yLimHigh])\n",
    "\n",
    "ax9.set_yticks(latTicks) \n",
    "\n",
    "ax9.set_yticklabels('', fontSize = tickFontSize)\n",
    "ax9.set_xticks(lonTicks) \n",
    "ax9.set_xticklabels('', fontSize = tickFontSize)\n",
    "ax9.set_title('(i)', x = 0.45, y=1.08, pad=-14, fontsize = textFontSize,loc='left')\n",
    "#+++++++++++++++++++++++++++++++++++++++++++++++++++++++++++++++++++++++++++++++++++++++++++\n",
    "\n",
    "ax10 = axs[9]\n",
    "cp10 = ax10.contourf(x_Us, y_Us,precip_sonTot_scenEraOne_diff_masked_Missi,transform=ccrs.PlateCarree(),cmap=cm.BrBG,levels = levels,norm=norm,)\n",
    "\n",
    "plt.grid(b=True, which='major', color='#666666', linestyle='-')\n",
    "\n",
    "\n",
    "ax10.add_feature(cfeature.RIVERS.with_scale('110m'), color='b', label='Rivers')     # couche rivières = was 50 m\n",
    "ax10.add_feature(missi,facecolor='none',edgecolor='black',linewidth=linewidth) # Mississippi\n",
    "ax10.add_feature(arkansas,facecolor='none',edgecolor='black',linewidth=linewidth) # Arkansas\n",
    "ax10.add_feature(missouri,facecolor='none',edgecolor='black',linewidth=linewidth) # Missouri\n",
    "ax10.add_feature(ohio,facecolor='none',edgecolor='black',linewidth=linewidth) # Ohio\n",
    "\n",
    "ax10.add_feature(cfeature.COASTLINE)\n",
    "#ax10.set_xlim([-115, -75])\n",
    "#ax10.set_ylim([27, 52.5])\n",
    "ax10.set_xlim([xLimLow, xLimHigh])\n",
    "ax10.set_ylim([yLimLow, yLimHigh])\n",
    "\n",
    "ax10.set_yticks(latTicks) \n",
    "ax10.set_xticks(lonTicks) \n",
    "\n",
    "ax10.set_yticklabels(latTickLebelsStr, fontSize = tickFontSize)\n",
    "ax10.set_xticklabels(lonTickLebelsStr, fontSize = tickFontSize)\n",
    "ax10.set_title('(j)', x = 0.45, y=1.08, pad=-14, fontsize = textFontSize,loc='left')\n",
    "#+++++++++++++++++++++++++++++++++++++++++++++++++++++++++++++++++++++++++++\n",
    "\n",
    "ax11 = axs[10]\n",
    "cp11 = ax11.contourf(x_Us, y_Us,precip_sonTot_scenEraTwo_diff_masked_Missi,transform=ccrs.PlateCarree(),cmap=cm.BrBG,levels = levels,norm=norm,)\n",
    "\n",
    "p11 = ax11.get_position().get_points().flatten()\n",
    "cbax11 = fig.add_axes([p11[0]+0.18, +0.02, (p11[2]-p11[0])*0.12, 0.9])\n",
    "\n",
    "cbar11 =plt.colorbar(cp11, ax=ax11, cax=cbax11, shrink=.5, ticks=boundaries, orientation = 'vertical') \n",
    "cbar11.ax.tick_params(labelsize = cbarTickFontSize)  # set your label size here\n",
    "\n",
    "for label in cbar11.ax.yaxis.get_ticklabels()[1::2]:\n",
    "    label.set_visible(False)\n",
    "    \n",
    "cbar11.set_label(\"mm/mon\", fontsize = cbarTextFontSize)\n",
    "#++++++++++++++++++++++++++++++++++++++++++++++++++++++++++++++++++++++++++++++++++++++++++++++++++++++++++++\n",
    "\n",
    "plt.grid(b=True, which='major', color='#666666', linestyle='-')\n",
    "ax11.add_feature(cfeature.RIVERS.with_scale('110m'), color='b', label='Rivers')     # couche rivières = was 50 m\n",
    "\n",
    "ax11.add_feature(missi,facecolor='none',edgecolor='black',linewidth=linewidth) # Mississippi\n",
    "ax11.add_feature(arkansas,facecolor='none',edgecolor='black',linewidth=linewidth) # Arkansas\n",
    "ax11.add_feature(missouri,facecolor='none',edgecolor='black',linewidth=linewidth) # Missouri\n",
    "ax11.add_feature(ohio,facecolor='none',edgecolor='black',linewidth=linewidth) # Ohio\n",
    "\n",
    "ax11.add_feature(cfeature.COASTLINE)\n",
    "#ax11.set_xlim([-115, -75])\n",
    "#ax11.set_ylim([27, 52.5])\n",
    "ax11.set_xlim([xLimLow, xLimHigh])\n",
    "ax11.set_ylim([yLimLow, yLimHigh])\n",
    "\n",
    "\n",
    "ax11.set_yticks(latTicks) \n",
    "\n",
    "ax11.set_yticklabels('', fontSize = tickFontSize)\n",
    "\n",
    "ax11.set_xticks(lonTicks) \n",
    "ax11.set_xticklabels(lonTickLebelsStr, fontSize = tickFontSize)\n",
    "ax11.set_xlabel('Longitude (°W)', fontsize = textFontSize)\n",
    "ax11.set_title('(k)', x = 0.45, y=1.08, pad=-14, fontsize = textFontSize,loc='left')\n",
    "#+++++++++++++++++++++++++++++++++++++++++++++++++++++++++++++++++++++++++++++++++++++++++++++++++\n",
    "\n",
    "ax12 = axs[11]\n",
    "cp12 = ax12.contourf(x_Us, y_Us,precip_sonTot_scenEraThree_diff_masked_Missi,transform=ccrs.PlateCarree(),cmap=cm.BrBG,levels = levels,norm=norm,)\n",
    "\n",
    "plt.grid(b=True, which='major', color='#666666', linestyle='-')\n",
    "ax12.add_feature(cfeature.RIVERS.with_scale('110m'), color='b', label='Rivers')     # couche rivières = was 50 m\n",
    "\n",
    "ax12.add_feature(missi,facecolor='none',edgecolor='black',linewidth=linewidth) # Mississippi\n",
    "ax12.add_feature(arkansas,facecolor='none',edgecolor='black',linewidth=linewidth) # Arkansas\n",
    "ax12.add_feature(missouri,facecolor='none',edgecolor='black',linewidth=linewidth) # Missouri\n",
    "ax12.add_feature(ohio,facecolor='none',edgecolor='black',linewidth=linewidth) # Ohio\n",
    "\n",
    "ax12.add_feature(cfeature.COASTLINE)\n",
    "#ax12.set_xlim([-115, -75])\n",
    "#ax12.set_ylim([27, 52.5])\n",
    "ax12.set_xlim([xLimLow, xLimHigh])\n",
    "ax12.set_ylim([yLimLow, yLimHigh])\n",
    "\n",
    "ax12.set_yticks(latTicks) \n",
    "\n",
    "ax12.set_yticklabels('', fontSize = tickFontSize)\n",
    "ax12.set_xticks(lonTicks) \n",
    "\n",
    "ax12.set_xticklabels(lonTickLebelsStr, fontSize = tickFontSize)\n",
    "ax12.set_title('(l)', x = 0.45, y=1.08, pad=-14, fontsize = textFontSize,loc='left')\n",
    "#+++++++++++++++++++++++++++++++++++++++++++++++++++++++++++++++++++++++++++++++++++++++++++\n",
    "#+++++++++++++++++++++++++++++++++++++++++++++++++++++++++++++++++++++++++++++++++++++++++++++++++\n",
    "\n",
    "plt.text(-105, 24, 'DJF', fontsize=titleFontVal)\n",
    "plt.text(-123, 13, 'MAM', fontsize=titleFontVal)\n",
    "plt.text(-96, 2, 'JJA', fontsize=titleFontVal)\n",
    "plt.text(-119, -9, 'SON', fontsize=titleFontVal)\n",
    "    \n",
    "plt.subplots_adjust(left=0.13,\n",
    "                    bottom=0.1,\n",
    "                    right=0.6,\n",
    "                    top=0.9,\n",
    "                    wspace=0.1,\n",
    "                    hspace=0.2)\n",
    "\n",
    "import warnings\n",
    "\n",
    "with warnings.catch_warnings():\n",
    "    warnings.filterwarnings(\"ignore\", category=DeprecationWarning)\n",
    "\n",
    "#plt.savefig(r'C:\\rezaul\\1.academic\\1.research\\2.project\\mrb\\output\\fig\\paperOne\\param\\precip\\seasonal\\tcfPrecipSeasMap.pdf') \n",
    "#plt.savefig(r'C:\\rezaul\\1.academic\\1.research\\2.project\\mrb\\output\\fig\\paperOne\\param\\precip\\seasonal\\tcfPrecipSeasMap.png', dpi=600)  \n",
    "\n",
    "plt.show()\n",
    "\n",
    "#++++++++++++++++++++++++++++++++++++++++++++++++++++++++++++++++++++++++++++++++++++++++++++++++++\n",
    "#++++++++++++++++++++++++++++++++++++++++++++++++++++++++++++++++++++++++++++++++++"
   ]
  },
  {
   "cell_type": "code",
   "execution_count": null,
   "metadata": {},
   "outputs": [],
   "source": []
  },
  {
   "cell_type": "code",
   "execution_count": null,
   "metadata": {},
   "outputs": [],
   "source": []
  },
  {
   "cell_type": "code",
   "execution_count": null,
   "metadata": {},
   "outputs": [],
   "source": []
  },
  {
   "cell_type": "code",
   "execution_count": null,
   "metadata": {},
   "outputs": [],
   "source": []
  },
  {
   "cell_type": "code",
   "execution_count": null,
   "metadata": {},
   "outputs": [],
   "source": []
  },
  {
   "cell_type": "code",
   "execution_count": 166,
   "metadata": {},
   "outputs": [
    {
     "ename": "SyntaxError",
     "evalue": "invalid syntax (<ipython-input-166-073310598ae4>, line 1)",
     "output_type": "error",
     "traceback": [
      "\u001b[1;36m  File \u001b[1;32m\"<ipython-input-166-073310598ae4>\"\u001b[1;36m, line \u001b[1;32m1\u001b[0m\n\u001b[1;33m    STOPPING here ========\u001b[0m\n\u001b[1;37m             ^\u001b[0m\n\u001b[1;31mSyntaxError\u001b[0m\u001b[1;31m:\u001b[0m invalid syntax\n"
     ]
    }
   ],
   "source": [
    "STOPPING here ========"
   ]
  },
  {
   "cell_type": "code",
   "execution_count": null,
   "metadata": {},
   "outputs": [],
   "source": []
  },
  {
   "cell_type": "code",
   "execution_count": null,
   "metadata": {},
   "outputs": [],
   "source": []
  },
  {
   "cell_type": "code",
   "execution_count": null,
   "metadata": {},
   "outputs": [],
   "source": []
  },
  {
   "cell_type": "code",
   "execution_count": null,
   "metadata": {},
   "outputs": [],
   "source": []
  }
 ],
 "metadata": {
  "kernelspec": {
   "display_name": "Python 3",
   "language": "python",
   "name": "python3"
  },
  "language_info": {
   "codemirror_mode": {
    "name": "ipython",
    "version": 3
   },
   "file_extension": ".py",
   "mimetype": "text/x-python",
   "name": "python",
   "nbconvert_exporter": "python",
   "pygments_lexer": "ipython3",
   "version": "3.8.5"
  }
 },
 "nbformat": 4,
 "nbformat_minor": 4
}
