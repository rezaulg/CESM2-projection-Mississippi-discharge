{
 "cells": [
  {
   "cell_type": "markdown",
   "metadata": {},
   "source": [
    "## This script reads CESM2 Discharge data downloaded from Casper in NCAR (Fig 3)"
   ]
  },
  {
   "cell_type": "markdown",
   "metadata": {},
   "source": [
    "## Import Libraries"
   ]
  },
  {
   "cell_type": "code",
   "execution_count": 1,
   "metadata": {},
   "outputs": [],
   "source": [
    "import numpy as np\n",
    "import pandas as pd\n",
    "\n",
    "import xarray as xr\n",
    "import seaborn as sns\n",
    "import warnings\n",
    "from matplotlib import pyplot as plt \n"
   ]
  },
  {
   "cell_type": "markdown",
   "metadata": {},
   "source": [
    "## Read Lat, Lon data for the selected Domain processed from \"GLADE\" in Casper"
   ]
  },
  {
   "cell_type": "markdown",
   "metadata": {},
   "source": [
    "### Lat"
   ]
  },
  {
   "cell_type": "code",
   "execution_count": 2,
   "metadata": {},
   "outputs": [
    {
     "name": "stdout",
     "output_type": "stream",
     "text": [
      "(60,)\n",
      "[24.75 25.25 25.75 26.25 26.75 27.25 27.75 28.25 28.75 29.25 29.75 30.25\n",
      " 30.75 31.25 31.75 32.25 32.75 33.25 33.75 34.25 34.75 35.25 35.75 36.25\n",
      " 36.75 37.25 37.75 38.25 38.75 39.25 39.75 40.25 40.75 41.25 41.75 42.25\n",
      " 42.75 43.25 43.75 44.25 44.75 45.25 45.75 46.25 46.75 47.25 47.75 48.25\n",
      " 48.75 49.25 49.75 50.25 50.75 51.25 51.75 52.25 52.75 53.25 53.75 54.25]\n"
     ]
    }
   ],
   "source": [
    "file_LatUs = 'C:/rezaul/1.academic/1.research/2.project/mrb/dt/cesm/cesm2LE/param/discharge/mon/latsUsArr.npy'\n",
    "#file_LatUs = 'https://github.com/rezaulg/CESM2-projection-Mississippi-discharge/blob/main/latsUsArr.npy'\n",
    "\n",
    "lats_US = np.load(file_LatUs)\n",
    "print(lats_US.shape)\n",
    "print(lats_US)"
   ]
  },
  {
   "cell_type": "markdown",
   "metadata": {},
   "source": [
    "### Lon"
   ]
  },
  {
   "cell_type": "code",
   "execution_count": 3,
   "metadata": {},
   "outputs": [
    {
     "name": "stdout",
     "output_type": "stream",
     "text": [
      "(140,)\n",
      "[-130.25 -129.75 -129.25 -128.75 -128.25 -127.75 -127.25 -126.75 -126.25\n",
      " -125.75 -125.25 -124.75 -124.25 -123.75 -123.25 -122.75 -122.25 -121.75\n",
      " -121.25 -120.75 -120.25 -119.75 -119.25 -118.75 -118.25 -117.75 -117.25\n",
      " -116.75 -116.25 -115.75 -115.25 -114.75 -114.25 -113.75 -113.25 -112.75\n",
      " -112.25 -111.75 -111.25 -110.75 -110.25 -109.75 -109.25 -108.75 -108.25\n",
      " -107.75 -107.25 -106.75 -106.25 -105.75 -105.25 -104.75 -104.25 -103.75\n",
      " -103.25 -102.75 -102.25 -101.75 -101.25 -100.75 -100.25  -99.75  -99.25\n",
      "  -98.75  -98.25  -97.75  -97.25  -96.75  -96.25  -95.75  -95.25  -94.75\n",
      "  -94.25  -93.75  -93.25  -92.75  -92.25  -91.75  -91.25  -90.75  -90.25\n",
      "  -89.75  -89.25  -88.75  -88.25  -87.75  -87.25  -86.75  -86.25  -85.75\n",
      "  -85.25  -84.75  -84.25  -83.75  -83.25  -82.75  -82.25  -81.75  -81.25\n",
      "  -80.75  -80.25  -79.75  -79.25  -78.75  -78.25  -77.75  -77.25  -76.75\n",
      "  -76.25  -75.75  -75.25  -74.75  -74.25  -73.75  -73.25  -72.75  -72.25\n",
      "  -71.75  -71.25  -70.75  -70.25  -69.75  -69.25  -68.75  -68.25  -67.75\n",
      "  -67.25  -66.75  -66.25  -65.75  -65.25  -64.75  -64.25  -63.75  -63.25\n",
      "  -62.75  -62.25  -61.75  -61.25  -60.75]\n"
     ]
    }
   ],
   "source": [
    "file_LonUs = 'C:/rezaul/1.academic/1.research/2.project/mrb/dt/cesm/cesm2LE/param/discharge/mon/lonsUsArr.npy'\n",
    "lons_US = np.load(file_LonUs)\n",
    "print(lons_US.shape)\n",
    "print(lons_US)"
   ]
  },
  {
   "cell_type": "markdown",
   "metadata": {},
   "source": [
    "## Using Monthly Data (Historical + Scen) for the US domain prepared from \"GLADE\" "
   ]
  },
  {
   "cell_type": "code",
   "execution_count": 4,
   "metadata": {},
   "outputs": [
    {
     "name": "stdout",
     "output_type": "stream",
     "text": [
      "(1020, 60, 140)\n"
     ]
    },
    {
     "data": {
      "text/plain": [
       "1.0000000000000002e+36"
      ]
     },
     "execution_count": 4,
     "metadata": {},
     "output_type": "execute_result"
    }
   ],
   "source": [
    "file_histSel_Us_ensMean = 'C:/rezaul/1.academic/1.research/2.project/mrb/dt/cesm/cesm2LE/param/discharge/mon/monDischUsHistSelEnsMean.npy'\n",
    "file_histSel_Us_ensMean_loaded = np.load(file_histSel_Us_ensMean)\n",
    "print(file_histSel_Us_ensMean_loaded.shape)\n",
    "maxVal = np.nanmax(file_histSel_Us_ensMean_loaded)\n",
    "maxVal"
   ]
  },
  {
   "cell_type": "code",
   "execution_count": 5,
   "metadata": {},
   "outputs": [
    {
     "name": "stdout",
     "output_type": "stream",
     "text": [
      "(1032, 60, 140)\n"
     ]
    },
    {
     "data": {
      "text/plain": [
       "1.0000000000000002e+36"
      ]
     },
     "execution_count": 5,
     "metadata": {},
     "output_type": "execute_result"
    }
   ],
   "source": [
    "file_scen_Us_ensMean = 'C:/rezaul/1.academic/1.research/2.project/mrb/dt/cesm/cesm2LE/param/discharge/mon/monDischUsScenEnsMean.npy'\n",
    "file_scen_Us_ensMean_loaded = np.load(file_scen_Us_ensMean)\n",
    "print(file_scen_Us_ensMean_loaded.shape)\n",
    "maxVal = np.nanmax(file_scen_Us_ensMean_loaded)\n",
    "maxVal"
   ]
  },
  {
   "cell_type": "markdown",
   "metadata": {},
   "source": [
    "## Concatenate the historical and scenario data arrays"
   ]
  },
  {
   "cell_type": "code",
   "execution_count": 6,
   "metadata": {},
   "outputs": [
    {
     "name": "stdout",
     "output_type": "stream",
     "text": [
      "(2052, 60, 140)\n"
     ]
    }
   ],
   "source": [
    "disch_histSel_scen_Us_ensMean = np.concatenate((file_histSel_Us_ensMean_loaded, file_scen_Us_ensMean_loaded), axis=0)\n",
    "print(disch_histSel_scen_Us_ensMean.shape)"
   ]
  },
  {
   "cell_type": "markdown",
   "metadata": {},
   "source": [
    "## The four time (1971-2000, 2015-2044, 2045-2074, and 2075-2100) slots"
   ]
  },
  {
   "cell_type": "code",
   "execution_count": 7,
   "metadata": {},
   "outputs": [],
   "source": [
    "histYrSelSt = 1930\n",
    "\n",
    "refPeriodYrSt = 1971\n",
    "refPeriodYrEnd = 2000\n",
    "\n",
    "scenYrSt = 2015\n",
    "scenEraTwoYrSt = 2045\n",
    "scenEraThreeYrSt = 2075\n",
    "\n",
    "scenYrEnd = 2100"
   ]
  },
  {
   "cell_type": "code",
   "execution_count": 8,
   "metadata": {},
   "outputs": [
    {
     "name": "stdout",
     "output_type": "stream",
     "text": [
      "171\n",
      "12\n"
     ]
    }
   ],
   "source": [
    "nYrsHistSelScen = scenYrEnd - histYrSelSt + 1\n",
    "print(nYrsHistSelScen)\n",
    "\n",
    "nMonsPerYr = 12     \n",
    "print(nMonsPerYr)"
   ]
  },
  {
   "cell_type": "markdown",
   "metadata": {},
   "source": [
    "### Coordinates at the outlet of the basins"
   ]
  },
  {
   "cell_type": "code",
   "execution_count": 9,
   "metadata": {},
   "outputs": [],
   "source": [
    "# Missouri at Hermann\n",
    "latTrgt_MissouriHermann = 38.71\n",
    "lonTrgt_MissouriHermann = -91.44\n",
    "\n",
    "# Arkansas at Murray Dam near Little Rock\n",
    "latTrgt_ArkansasMurrayLittleRock = 34.79\n",
    "lonTrgt_ArkansasMurrayLittleRock = -92.36\n",
    "\n",
    "# Ohio at Olmsted\n",
    "latTrgt_OhioOlmsted = 37.18\n",
    "lonTrgt_OhioOlmsted = -89.06\n",
    "\n",
    "# Mississippi at Vicksburg\n",
    "latTrgt_MissiVicks = 32.32\n",
    "lonTrgt_MissiVicks = -90.91\n"
   ]
  },
  {
   "cell_type": "code",
   "execution_count": 10,
   "metadata": {},
   "outputs": [
    {
     "name": "stdout",
     "output_type": "stream",
     "text": [
      "28 78\n",
      "20 76\n",
      "25 82\n",
      "15 79\n"
     ]
    }
   ],
   "source": [
    "# Missouri at Hermann\n",
    "latTrgtIndex_MissouriHermann = np.argmin( np.abs(lats_US - latTrgt_MissouriHermann))\n",
    "lonTrgtIndex_MissouriHermann = np.argmin( np.abs(lons_US - lonTrgt_MissouriHermann))\n",
    "print(latTrgtIndex_MissouriHermann, lonTrgtIndex_MissouriHermann)\n",
    "\n",
    "# Arkansas at Murray Dam near Little Rock\n",
    "latTrgtIndex_ArkansasMurrayLittleRock = np.argmin( np.abs(lats_US - latTrgt_ArkansasMurrayLittleRock))\n",
    "lonTrgtIndex_ArkansasMurrayLittleRock = np.argmin( np.abs(lons_US - lonTrgt_ArkansasMurrayLittleRock))\n",
    "print(latTrgtIndex_ArkansasMurrayLittleRock, lonTrgtIndex_ArkansasMurrayLittleRock)\n",
    "\n",
    "# Ohio at Olmsted\n",
    "latTrgtIndex_OhioOlmsted = np.argmin( np.abs(lats_US - latTrgt_OhioOlmsted))\n",
    "lonTrgtIndex_OhioOlmsted = np.argmin( np.abs(lons_US - lonTrgt_OhioOlmsted))\n",
    "print(latTrgtIndex_OhioOlmsted, lonTrgtIndex_OhioOlmsted)\n",
    "\n",
    "# Mississippi at Vicksburg\n",
    "latTrgtIndex_MissiVicks = np.argmin( np.abs(lats_US - latTrgt_MissiVicks))\n",
    "lonTrgtIndex_MissiVicks = np.argmin( np.abs(lons_US - lonTrgt_MissiVicks))\n",
    "print(latTrgtIndex_MissiVicks, lonTrgtIndex_MissiVicks)\n"
   ]
  },
  {
   "cell_type": "code",
   "execution_count": 11,
   "metadata": {},
   "outputs": [
    {
     "name": "stdout",
     "output_type": "stream",
     "text": [
      "(2052, 60, 140)\n"
     ]
    }
   ],
   "source": [
    "print(disch_histSel_scen_Us_ensMean.shape)"
   ]
  },
  {
   "cell_type": "markdown",
   "metadata": {},
   "source": [
    "## Extracting discharge values at different outlet points"
   ]
  },
  {
   "cell_type": "markdown",
   "metadata": {},
   "source": [
    "### Missouri at Hermann"
   ]
  },
  {
   "cell_type": "code",
   "execution_count": 12,
   "metadata": {},
   "outputs": [
    {
     "name": "stdout",
     "output_type": "stream",
     "text": [
      "(2052,)\n",
      "(171, 12)\n"
     ]
    }
   ],
   "source": [
    "disch_histSel_scen_ensMean_MissouriHermann = disch_histSel_scen_Us_ensMean[:, latTrgtIndex_MissouriHermann, lonTrgtIndex_MissouriHermann]\n",
    "print(disch_histSel_scen_ensMean_MissouriHermann.shape)\n",
    "\n",
    "disch_histSel_scen_ensMean_Yr_MissouriHermann = np.reshape(disch_histSel_scen_ensMean_MissouriHermann,(nYrsHistSelScen, nMonsPerYr))\n",
    "print(disch_histSel_scen_ensMean_Yr_MissouriHermann.shape)\n"
   ]
  },
  {
   "cell_type": "markdown",
   "metadata": {},
   "source": [
    "### Arkansas at Murray Dam near Little Rock"
   ]
  },
  {
   "cell_type": "code",
   "execution_count": 13,
   "metadata": {},
   "outputs": [
    {
     "name": "stdout",
     "output_type": "stream",
     "text": [
      "(2052,)\n",
      "(171, 12)\n"
     ]
    }
   ],
   "source": [
    "disch_histSel_scen_ensMean_ArkansasMurrayLittleRock = disch_histSel_scen_Us_ensMean[:, latTrgtIndex_ArkansasMurrayLittleRock, lonTrgtIndex_ArkansasMurrayLittleRock]\n",
    "print(disch_histSel_scen_ensMean_ArkansasMurrayLittleRock.shape)\n",
    "\n",
    "disch_histSel_scen_ensMean_Yr_ArkansasMurrayLittleRock = np.reshape(disch_histSel_scen_ensMean_ArkansasMurrayLittleRock,(nYrsHistSelScen, nMonsPerYr))\n",
    "print(disch_histSel_scen_ensMean_Yr_ArkansasMurrayLittleRock.shape)\n"
   ]
  },
  {
   "cell_type": "markdown",
   "metadata": {},
   "source": [
    "### Ohio River at Olmsted"
   ]
  },
  {
   "cell_type": "code",
   "execution_count": 14,
   "metadata": {},
   "outputs": [
    {
     "name": "stdout",
     "output_type": "stream",
     "text": [
      "(2052,)\n",
      "(171, 12)\n"
     ]
    }
   ],
   "source": [
    "disch_histSel_scen_ensMean_OhioOlmsted = disch_histSel_scen_Us_ensMean[:, latTrgtIndex_OhioOlmsted, lonTrgtIndex_OhioOlmsted]\n",
    "print(disch_histSel_scen_ensMean_OhioOlmsted.shape)\n",
    "\n",
    "\n",
    "disch_histSel_scen_ensMean_Yr_OhioOlmsted = np.reshape(disch_histSel_scen_ensMean_OhioOlmsted,(nYrsHistSelScen, nMonsPerYr))\n",
    "print(disch_histSel_scen_ensMean_Yr_OhioOlmsted.shape)\n"
   ]
  },
  {
   "cell_type": "markdown",
   "metadata": {},
   "source": [
    "### Mississippi at Vicksburg"
   ]
  },
  {
   "cell_type": "code",
   "execution_count": 15,
   "metadata": {},
   "outputs": [
    {
     "name": "stdout",
     "output_type": "stream",
     "text": [
      "(2052,)\n",
      "(171, 12)\n"
     ]
    }
   ],
   "source": [
    "disch_histSel_scen_ensMean_MissiVicks = disch_histSel_scen_Us_ensMean[:, latTrgtIndex_MissiVicks, lonTrgtIndex_MissiVicks]\n",
    "print(disch_histSel_scen_ensMean_MissiVicks.shape)\n",
    "\n",
    "\n",
    "disch_histSel_scen_ensMean_Yr_MissiVicks=np.reshape(disch_histSel_scen_ensMean_MissiVicks,(nYrsHistSelScen, nMonsPerYr))\n",
    "print(disch_histSel_scen_ensMean_Yr_MissiVicks.shape)\n"
   ]
  },
  {
   "cell_type": "markdown",
   "metadata": {},
   "source": [
    "## Subsetting the data into different periods / Eras"
   ]
  },
  {
   "cell_type": "markdown",
   "metadata": {},
   "source": [
    "## Reference Period"
   ]
  },
  {
   "cell_type": "code",
   "execution_count": 16,
   "metadata": {},
   "outputs": [
    {
     "name": "stdout",
     "output_type": "stream",
     "text": [
      "41 71\n",
      "30\n"
     ]
    }
   ],
   "source": [
    "\n",
    "refPeriodStepSt = refPeriodYrSt - histYrSelSt\n",
    "refPeriodStepEnd = refPeriodYrEnd - histYrSelSt + 1\n",
    "\n",
    "print(refPeriodStepSt, refPeriodStepEnd)\n",
    "print(refPeriodStepEnd-refPeriodStepSt)"
   ]
  },
  {
   "cell_type": "markdown",
   "metadata": {},
   "source": [
    "## Era1"
   ]
  },
  {
   "cell_type": "code",
   "execution_count": 17,
   "metadata": {},
   "outputs": [
    {
     "name": "stdout",
     "output_type": "stream",
     "text": [
      "85 115\n",
      "30\n"
     ]
    }
   ],
   "source": [
    "scenEraOneStepSt = scenYrSt - histYrSelSt\n",
    "scenEraOneStepEnd = scenEraTwoYrSt - histYrSelSt\n",
    "\n",
    "print(scenEraOneStepSt, scenEraOneStepEnd)\n",
    "print(scenEraOneStepEnd-scenEraOneStepSt)"
   ]
  },
  {
   "cell_type": "markdown",
   "metadata": {},
   "source": [
    "## Era2"
   ]
  },
  {
   "cell_type": "code",
   "execution_count": 18,
   "metadata": {},
   "outputs": [
    {
     "name": "stdout",
     "output_type": "stream",
     "text": [
      "115 145\n",
      "30\n"
     ]
    }
   ],
   "source": [
    "scenEraTwoStepSt = scenEraTwoYrSt - histYrSelSt\n",
    "scenEraTwoStepEnd = scenEraThreeYrSt - histYrSelSt\n",
    "\n",
    "print(scenEraTwoStepSt, scenEraTwoStepEnd)\n",
    "print(scenEraTwoStepEnd-scenEraTwoStepSt)"
   ]
  },
  {
   "cell_type": "markdown",
   "metadata": {},
   "source": [
    "## Era3"
   ]
  },
  {
   "cell_type": "code",
   "execution_count": 19,
   "metadata": {},
   "outputs": [
    {
     "name": "stdout",
     "output_type": "stream",
     "text": [
      "145 171\n",
      "26\n"
     ]
    }
   ],
   "source": [
    "scenEraThreeStepSt = scenEraThreeYrSt - histYrSelSt\n",
    "scenEraThreeStepEnd = scenYrEnd - histYrSelSt + 1\n",
    "\n",
    "print(scenEraThreeStepSt, scenEraThreeStepEnd)\n",
    "print(scenEraThreeStepEnd-scenEraThreeStepSt)"
   ]
  },
  {
   "cell_type": "markdown",
   "metadata": {},
   "source": [
    "## Missouri at Hermann"
   ]
  },
  {
   "cell_type": "code",
   "execution_count": 20,
   "metadata": {},
   "outputs": [
    {
     "name": "stdout",
     "output_type": "stream",
     "text": [
      "(30, 12)\n",
      "(30, 12)\n",
      "(30, 12)\n",
      "(26, 12)\n"
     ]
    }
   ],
   "source": [
    "disch_yrMon_refPeriod_ensMean_MissouriHermann = disch_histSel_scen_ensMean_Yr_MissouriHermann[refPeriodStepSt:refPeriodStepEnd,:]\n",
    "print(disch_yrMon_refPeriod_ensMean_MissouriHermann.shape)\n",
    "\n",
    "disch_yrMon_eraOne_ensMean_MissouriHermann = disch_histSel_scen_ensMean_Yr_MissouriHermann[scenEraOneStepSt:scenEraOneStepEnd,:]\n",
    "print(disch_yrMon_eraOne_ensMean_MissouriHermann.shape)\n",
    "\n",
    "disch_yrMon_eraTwo_ensMean_MissouriHermann = disch_histSel_scen_ensMean_Yr_MissouriHermann[scenEraTwoStepSt:scenEraTwoStepEnd,:]\n",
    "print(disch_yrMon_eraTwo_ensMean_MissouriHermann.shape)\n",
    "\n",
    "disch_yrMon_eraThree_ensMean_MissouriHermann = disch_histSel_scen_ensMean_Yr_MissouriHermann[scenEraThreeStepSt:scenEraThreeStepEnd,:]\n",
    "print(disch_yrMon_eraThree_ensMean_MissouriHermann.shape)\n",
    "\n"
   ]
  },
  {
   "cell_type": "code",
   "execution_count": 21,
   "metadata": {},
   "outputs": [
    {
     "name": "stdout",
     "output_type": "stream",
     "text": [
      "(12,)\n",
      "(12,)\n",
      "(12,)\n",
      "(12,)\n"
     ]
    }
   ],
   "source": [
    "\n",
    "disch_monClim_refPeriod_ensMean_MissouriHermann = np.nanmean(disch_yrMon_refPeriod_ensMean_MissouriHermann, axis = 0)\n",
    "print(disch_monClim_refPeriod_ensMean_MissouriHermann.shape)\n",
    "\n",
    "disch_monClim_eraOne_ensMean_MissouriHermann = np.nanmean(disch_yrMon_eraOne_ensMean_MissouriHermann, axis = 0)\n",
    "print(disch_monClim_eraOne_ensMean_MissouriHermann.shape)\n",
    "\n",
    "disch_monClim_eraTwo_ensMean_MissouriHermann = np.nanmean(disch_yrMon_eraTwo_ensMean_MissouriHermann, axis = 0)\n",
    "print(disch_monClim_eraTwo_ensMean_MissouriHermann.shape)\n",
    "\n",
    "disch_monClim_eraThree_ensMean_MissouriHermann = np.nanmean(disch_yrMon_eraThree_ensMean_MissouriHermann, axis = 0)\n",
    "print(disch_monClim_eraThree_ensMean_MissouriHermann.shape)\n"
   ]
  },
  {
   "cell_type": "markdown",
   "metadata": {},
   "source": [
    "## Arkansas at Murray Dam near Little Rock"
   ]
  },
  {
   "cell_type": "code",
   "execution_count": 22,
   "metadata": {},
   "outputs": [
    {
     "name": "stdout",
     "output_type": "stream",
     "text": [
      "(30, 12)\n",
      "(30, 12)\n",
      "(30, 12)\n",
      "(26, 12)\n"
     ]
    }
   ],
   "source": [
    "disch_yrMon_refPeriod_ensMean_ArkansasMurrayLittleRock = disch_histSel_scen_ensMean_Yr_ArkansasMurrayLittleRock[refPeriodStepSt:refPeriodStepEnd,:]\n",
    "print(disch_yrMon_refPeriod_ensMean_ArkansasMurrayLittleRock.shape)\n",
    "\n",
    "disch_yrMon_eraOne_ensMean_ArkansasMurrayLittleRock = disch_histSel_scen_ensMean_Yr_ArkansasMurrayLittleRock[scenEraOneStepSt:scenEraOneStepEnd,:]\n",
    "print(disch_yrMon_eraOne_ensMean_ArkansasMurrayLittleRock.shape)\n",
    "\n",
    "disch_yrMon_eraTwo_ensMean_ArkansasMurrayLittleRock = disch_histSel_scen_ensMean_Yr_ArkansasMurrayLittleRock[scenEraTwoStepSt:scenEraTwoStepEnd,:]\n",
    "print(disch_yrMon_eraTwo_ensMean_ArkansasMurrayLittleRock.shape)\n",
    "\n",
    "disch_yrMon_eraThree_ensMean_ArkansasMurrayLittleRock = disch_histSel_scen_ensMean_Yr_ArkansasMurrayLittleRock[scenEraThreeStepSt:scenEraThreeStepEnd,:]\n",
    "print(disch_yrMon_eraThree_ensMean_ArkansasMurrayLittleRock.shape)\n",
    "\n"
   ]
  },
  {
   "cell_type": "code",
   "execution_count": 23,
   "metadata": {},
   "outputs": [
    {
     "name": "stdout",
     "output_type": "stream",
     "text": [
      "(12,)\n",
      "(12,)\n",
      "(12,)\n",
      "(12,)\n"
     ]
    }
   ],
   "source": [
    "\n",
    "disch_monClim_refPeriod_ensMean_ArkansasMurrayLittleRock = np.nanmean(disch_yrMon_refPeriod_ensMean_ArkansasMurrayLittleRock, axis = 0)\n",
    "print(disch_monClim_refPeriod_ensMean_ArkansasMurrayLittleRock.shape)\n",
    "\n",
    "disch_monClim_eraOne_ensMean_ArkansasMurrayLittleRock = np.nanmean(disch_yrMon_eraOne_ensMean_ArkansasMurrayLittleRock, axis = 0)\n",
    "print(disch_monClim_eraOne_ensMean_ArkansasMurrayLittleRock.shape)\n",
    "\n",
    "disch_monClim_eraTwo_ensMean_ArkansasMurrayLittleRock = np.nanmean(disch_yrMon_eraTwo_ensMean_ArkansasMurrayLittleRock, axis = 0)\n",
    "print(disch_monClim_eraTwo_ensMean_ArkansasMurrayLittleRock.shape)\n",
    "\n",
    "disch_monClim_eraThree_ensMean_ArkansasMurrayLittleRock = np.nanmean(disch_yrMon_eraThree_ensMean_ArkansasMurrayLittleRock, axis = 0)\n",
    "print(disch_monClim_eraThree_ensMean_ArkansasMurrayLittleRock.shape)\n"
   ]
  },
  {
   "cell_type": "markdown",
   "metadata": {},
   "source": [
    "## Ohio River at Olmsted"
   ]
  },
  {
   "cell_type": "code",
   "execution_count": 24,
   "metadata": {},
   "outputs": [
    {
     "name": "stdout",
     "output_type": "stream",
     "text": [
      "(30, 12)\n",
      "(30, 12)\n",
      "(30, 12)\n",
      "(26, 12)\n"
     ]
    }
   ],
   "source": [
    "disch_yrMon_refPeriod_ensMean_OhioOlmsted = disch_histSel_scen_ensMean_Yr_OhioOlmsted[refPeriodStepSt:refPeriodStepEnd,:]\n",
    "print(disch_yrMon_refPeriod_ensMean_OhioOlmsted.shape)\n",
    "\n",
    "disch_yrMon_eraOne_ensMean_OhioOlmsted = disch_histSel_scen_ensMean_Yr_OhioOlmsted[scenEraOneStepSt:scenEraOneStepEnd,:]\n",
    "print(disch_yrMon_eraOne_ensMean_OhioOlmsted.shape)\n",
    "\n",
    "disch_yrMon_eraTwo_ensMean_OhioOlmsted = disch_histSel_scen_ensMean_Yr_OhioOlmsted[scenEraTwoStepSt:scenEraTwoStepEnd,:]\n",
    "print(disch_yrMon_eraTwo_ensMean_OhioOlmsted.shape)\n",
    "\n",
    "disch_yrMon_eraThree_ensMean_OhioOlmsted = disch_histSel_scen_ensMean_Yr_OhioOlmsted[scenEraThreeStepSt:scenEraThreeStepEnd,:]\n",
    "print(disch_yrMon_eraThree_ensMean_OhioOlmsted.shape)\n",
    "\n"
   ]
  },
  {
   "cell_type": "code",
   "execution_count": 25,
   "metadata": {},
   "outputs": [
    {
     "name": "stdout",
     "output_type": "stream",
     "text": [
      "(12,)\n",
      "(12,)\n",
      "(12,)\n",
      "(12,)\n"
     ]
    }
   ],
   "source": [
    "\n",
    "disch_monClim_refPeriod_ensMean_OhioOlmsted = np.nanmean(disch_yrMon_refPeriod_ensMean_OhioOlmsted, axis = 0)\n",
    "print(disch_monClim_refPeriod_ensMean_OhioOlmsted.shape)\n",
    "\n",
    "disch_monClim_eraOne_ensMean_OhioOlmsted = np.nanmean(disch_yrMon_eraOne_ensMean_OhioOlmsted, axis = 0)\n",
    "print(disch_monClim_eraOne_ensMean_OhioOlmsted.shape)\n",
    "\n",
    "disch_monClim_eraTwo_ensMean_OhioOlmsted = np.nanmean(disch_yrMon_eraTwo_ensMean_OhioOlmsted, axis = 0)\n",
    "print(disch_monClim_eraTwo_ensMean_OhioOlmsted.shape)\n",
    "\n",
    "disch_monClim_eraThree_ensMean_OhioOlmsted = np.nanmean(disch_yrMon_eraThree_ensMean_OhioOlmsted, axis = 0)\n",
    "print(disch_monClim_eraThree_ensMean_OhioOlmsted.shape)\n"
   ]
  },
  {
   "cell_type": "markdown",
   "metadata": {},
   "source": [
    "## Mississippi River at Vicksburg"
   ]
  },
  {
   "cell_type": "code",
   "execution_count": 26,
   "metadata": {},
   "outputs": [
    {
     "name": "stdout",
     "output_type": "stream",
     "text": [
      "(30, 12)\n",
      "(30, 12)\n",
      "(30, 12)\n",
      "(26, 12)\n"
     ]
    }
   ],
   "source": [
    "disch_yrMon_refPeriod_ensMean_MissiVicks = disch_histSel_scen_ensMean_Yr_MissiVicks[refPeriodStepSt:refPeriodStepEnd,:]\n",
    "print(disch_yrMon_refPeriod_ensMean_MissiVicks.shape)\n",
    "\n",
    "disch_yrMon_eraOne_ensMean_MissiVicks = disch_histSel_scen_ensMean_Yr_MissiVicks[scenEraOneStepSt:scenEraOneStepEnd,:]\n",
    "print(disch_yrMon_eraOne_ensMean_MissiVicks.shape)\n",
    "\n",
    "disch_yrMon_eraTwo_ensMean_MissiVicks = disch_histSel_scen_ensMean_Yr_MissiVicks[scenEraTwoStepSt:scenEraTwoStepEnd,:]\n",
    "print(disch_yrMon_eraTwo_ensMean_MissiVicks.shape)\n",
    "\n",
    "disch_yrMon_eraThree_ensMean_MissiVicks = disch_histSel_scen_ensMean_Yr_MissiVicks[scenEraThreeStepSt:scenEraThreeStepEnd,:]\n",
    "print(disch_yrMon_eraThree_ensMean_MissiVicks.shape)\n",
    "\n"
   ]
  },
  {
   "cell_type": "code",
   "execution_count": 27,
   "metadata": {},
   "outputs": [
    {
     "name": "stdout",
     "output_type": "stream",
     "text": [
      "(12,)\n",
      "(12,)\n",
      "(12,)\n",
      "(12,)\n"
     ]
    }
   ],
   "source": [
    "\n",
    "disch_monClim_refPeriod_ensMean_MissiVicks = np.nanmean(disch_yrMon_refPeriod_ensMean_MissiVicks, axis = 0)\n",
    "print(disch_monClim_refPeriod_ensMean_MissiVicks.shape)\n",
    "\n",
    "disch_monClim_eraOne_ensMean_MissiVicks = np.nanmean(disch_yrMon_eraOne_ensMean_MissiVicks, axis = 0)\n",
    "print(disch_monClim_eraOne_ensMean_MissiVicks.shape)\n",
    "\n",
    "disch_monClim_eraTwo_ensMean_MissiVicks = np.nanmean(disch_yrMon_eraTwo_ensMean_MissiVicks, axis = 0)\n",
    "print(disch_monClim_eraTwo_ensMean_MissiVicks.shape)\n",
    "\n",
    "disch_monClim_eraThree_ensMean_MissiVicks = np.nanmean(disch_yrMon_eraThree_ensMean_MissiVicks, axis = 0)\n",
    "print(disch_monClim_eraThree_ensMean_MissiVicks.shape)\n"
   ]
  },
  {
   "cell_type": "markdown",
   "metadata": {},
   "source": [
    "## Percent change relative to Historical Reference Period"
   ]
  },
  {
   "cell_type": "markdown",
   "metadata": {},
   "source": [
    "### Missouri"
   ]
  },
  {
   "cell_type": "code",
   "execution_count": 28,
   "metadata": {},
   "outputs": [
    {
     "name": "stdout",
     "output_type": "stream",
     "text": [
      "(12,)\n",
      "(12,)\n",
      "(12,)\n",
      "(12,)\n"
     ]
    }
   ],
   "source": [
    "print(disch_monClim_refPeriod_ensMean_MissouriHermann.shape)\n",
    "print(disch_monClim_eraOne_ensMean_MissouriHermann.shape)\n",
    "print(disch_monClim_eraTwo_ensMean_MissouriHermann.shape)\n",
    "print(disch_monClim_eraThree_ensMean_MissouriHermann.shape)\n"
   ]
  },
  {
   "cell_type": "code",
   "execution_count": 29,
   "metadata": {},
   "outputs": [
    {
     "name": "stdout",
     "output_type": "stream",
     "text": [
      "[ -3.9560132   -0.417961    -1.15300913  -7.97944646 -17.250192\n",
      "  -8.67410436 -11.34635558  -6.98415717   2.72670338  -4.87869839\n",
      "  -6.50506192  -4.87096468]\n",
      "\n",
      "2.7267033785562953\n",
      "-17.250192002390747\n"
     ]
    }
   ],
   "source": [
    "disch_percCh_monClim_eraOne_ensMean_MissouriHermann = (disch_monClim_eraOne_ensMean_MissouriHermann-disch_monClim_refPeriod_ensMean_MissouriHermann)/disch_monClim_refPeriod_ensMean_MissouriHermann*100\n",
    "print(disch_percCh_monClim_eraOne_ensMean_MissouriHermann)\n",
    "print('')\n",
    "maxPercCh_eraOne_MissouriHermann = np.nanmax(disch_percCh_monClim_eraOne_ensMean_MissouriHermann)\n",
    "minPercCh_eraOne_MissouriHermann = np.nanmin(disch_percCh_monClim_eraOne_ensMean_MissouriHermann)\n",
    "\n",
    "print(maxPercCh_eraOne_MissouriHermann)\n",
    "print(minPercCh_eraOne_MissouriHermann)\n"
   ]
  },
  {
   "cell_type": "code",
   "execution_count": 30,
   "metadata": {},
   "outputs": [
    {
     "name": "stdout",
     "output_type": "stream",
     "text": [
      "[ -1.53073636   3.40801417   2.50231323 -13.31481706 -23.10998582\n",
      "  -8.17363171  -9.64306489   0.86111037   5.77739201  -3.86231676\n",
      "  -5.15846117  -2.35375092]\n",
      "\n",
      "5.7773920108311625\n",
      "-23.109985816251104\n"
     ]
    }
   ],
   "source": [
    "disch_percCh_monClim_eraTwo_ensMean_MissouriHermann = (disch_monClim_eraTwo_ensMean_MissouriHermann-disch_monClim_refPeriod_ensMean_MissouriHermann)/disch_monClim_refPeriod_ensMean_MissouriHermann*100\n",
    "print(disch_percCh_monClim_eraTwo_ensMean_MissouriHermann)\n",
    "print('')\n",
    "maxPercCh_eraTwo_MissouriHermann = np.nanmax(disch_percCh_monClim_eraTwo_ensMean_MissouriHermann)\n",
    "minPercCh_eraTwo_MissouriHermann = np.nanmin(disch_percCh_monClim_eraTwo_ensMean_MissouriHermann)\n",
    "\n",
    "print(maxPercCh_eraTwo_MissouriHermann)\n",
    "print(minPercCh_eraTwo_MissouriHermann)\n"
   ]
  },
  {
   "cell_type": "code",
   "execution_count": 31,
   "metadata": {},
   "outputs": [
    {
     "name": "stdout",
     "output_type": "stream",
     "text": [
      "[  6.94451647  11.65956682   7.97879895 -17.23161204 -21.24633013\n",
      "  -3.95578247  -5.62943348  12.40307336  12.35464612   2.13658262\n",
      "   1.24640085   4.98109927]\n",
      "\n",
      "12.403073358506363\n",
      "-21.246330134958168\n"
     ]
    }
   ],
   "source": [
    "disch_percCh_monClim_eraThree_ensMean_MissouriHermann = (disch_monClim_eraThree_ensMean_MissouriHermann-disch_monClim_refPeriod_ensMean_MissouriHermann)/disch_monClim_refPeriod_ensMean_MissouriHermann*100\n",
    "print(disch_percCh_monClim_eraThree_ensMean_MissouriHermann)\n",
    "print('')\n",
    "maxPercCh_eraThree_MissouriHermann = np.nanmax(disch_percCh_monClim_eraThree_ensMean_MissouriHermann)\n",
    "minPercCh_eraThree_MissouriHermann = np.nanmin(disch_percCh_monClim_eraThree_ensMean_MissouriHermann)\n",
    "\n",
    "print(maxPercCh_eraThree_MissouriHermann)\n",
    "print(minPercCh_eraThree_MissouriHermann)\n"
   ]
  },
  {
   "cell_type": "markdown",
   "metadata": {},
   "source": [
    "## Arkansas"
   ]
  },
  {
   "cell_type": "code",
   "execution_count": 32,
   "metadata": {},
   "outputs": [
    {
     "name": "stdout",
     "output_type": "stream",
     "text": [
      "(12,)\n",
      "(12,)\n",
      "(12,)\n",
      "(12,)\n"
     ]
    }
   ],
   "source": [
    "print(disch_monClim_refPeriod_ensMean_ArkansasMurrayLittleRock.shape)\n",
    "print(disch_monClim_eraOne_ensMean_ArkansasMurrayLittleRock.shape)\n",
    "print(disch_monClim_eraTwo_ensMean_ArkansasMurrayLittleRock.shape)\n",
    "print(disch_monClim_eraThree_ensMean_ArkansasMurrayLittleRock.shape)\n",
    "\n",
    "#print(dischObsMonClim_ArkansasMurrayLittleRock.shape)\n"
   ]
  },
  {
   "cell_type": "code",
   "execution_count": 33,
   "metadata": {},
   "outputs": [
    {
     "name": "stdout",
     "output_type": "stream",
     "text": [
      "[-11.49216418 -11.97736554  -9.98536194  -7.89889002  -9.23815323\n",
      " -11.08472576 -13.99635743  -5.11053739  -9.22535311  -9.13998803\n",
      "  -9.72323508 -10.18540267]\n",
      "\n",
      "-5.110537394690868\n",
      "-13.996357430838845\n"
     ]
    }
   ],
   "source": [
    "disch_percCh_monClim_eraOne_ensMean_ArkansasMurrayLittleRock = (disch_monClim_eraOne_ensMean_ArkansasMurrayLittleRock-disch_monClim_refPeriod_ensMean_ArkansasMurrayLittleRock)/disch_monClim_refPeriod_ensMean_ArkansasMurrayLittleRock*100\n",
    "print(disch_percCh_monClim_eraOne_ensMean_ArkansasMurrayLittleRock)\n",
    "print('')\n",
    "maxPercCh_eraOne_ArkansasMurrayLittleRock = np.nanmax(disch_percCh_monClim_eraOne_ensMean_ArkansasMurrayLittleRock)\n",
    "minPercCh_eraOne_ArkansasMurrayLittleRock = np.nanmin(disch_percCh_monClim_eraOne_ensMean_ArkansasMurrayLittleRock)\n",
    "\n",
    "print(maxPercCh_eraOne_ArkansasMurrayLittleRock)\n",
    "print(minPercCh_eraOne_ArkansasMurrayLittleRock)\n"
   ]
  },
  {
   "cell_type": "code",
   "execution_count": 34,
   "metadata": {},
   "outputs": [
    {
     "name": "stdout",
     "output_type": "stream",
     "text": [
      "[-8.30137916 -9.28372068 -6.97625281 -3.63233592 -2.73958852 -4.99698848\n",
      " -3.3356589   9.95245825 -5.45334534 -6.97978754 -7.38521515 -6.86680539]\n",
      "\n",
      "9.952458254586812\n",
      "-9.283720682872646\n"
     ]
    }
   ],
   "source": [
    "disch_percCh_monClim_eraTwo_ensMean_ArkansasMurrayLittleRock = (disch_monClim_eraTwo_ensMean_ArkansasMurrayLittleRock-disch_monClim_refPeriod_ensMean_ArkansasMurrayLittleRock)/disch_monClim_refPeriod_ensMean_ArkansasMurrayLittleRock*100\n",
    "print(disch_percCh_monClim_eraTwo_ensMean_ArkansasMurrayLittleRock)\n",
    "print('')\n",
    "maxPercCh_eraTwo_ArkansasMurrayLittleRock = np.nanmax(disch_percCh_monClim_eraTwo_ensMean_ArkansasMurrayLittleRock)\n",
    "minPercCh_eraTwo_ArkansasMurrayLittleRock = np.nanmin(disch_percCh_monClim_eraTwo_ensMean_ArkansasMurrayLittleRock)\n",
    "\n",
    "print(maxPercCh_eraTwo_ArkansasMurrayLittleRock)\n",
    "print(minPercCh_eraTwo_ArkansasMurrayLittleRock)\n"
   ]
  },
  {
   "cell_type": "code",
   "execution_count": 35,
   "metadata": {},
   "outputs": [
    {
     "name": "stdout",
     "output_type": "stream",
     "text": [
      "[-5.64099235 -8.20085984 -4.81254191 -2.71485023  0.31271203 -1.73740213\n",
      "  6.74263232 21.34070997 -1.34791811 -3.08541433 -3.99341723 -4.38766283]\n",
      "\n",
      "21.340709968228925\n",
      "-8.20085984380405\n"
     ]
    }
   ],
   "source": [
    "disch_percCh_monClim_eraThree_ensMean_ArkansasMurrayLittleRock = (disch_monClim_eraThree_ensMean_ArkansasMurrayLittleRock-disch_monClim_refPeriod_ensMean_ArkansasMurrayLittleRock)/disch_monClim_refPeriod_ensMean_ArkansasMurrayLittleRock*100\n",
    "print(disch_percCh_monClim_eraThree_ensMean_ArkansasMurrayLittleRock)\n",
    "print('')\n",
    "maxPercCh_eraThree_ArkansasMurrayLittleRock = np.nanmax(disch_percCh_monClim_eraThree_ensMean_ArkansasMurrayLittleRock)\n",
    "minPercCh_eraThree_ArkansasMurrayLittleRock = np.nanmin(disch_percCh_monClim_eraThree_ensMean_ArkansasMurrayLittleRock)\n",
    "\n",
    "print(maxPercCh_eraThree_ArkansasMurrayLittleRock)\n",
    "print(minPercCh_eraThree_ArkansasMurrayLittleRock)\n"
   ]
  },
  {
   "cell_type": "markdown",
   "metadata": {},
   "source": [
    "## Ohio at Olmsted"
   ]
  },
  {
   "cell_type": "code",
   "execution_count": 36,
   "metadata": {},
   "outputs": [
    {
     "name": "stdout",
     "output_type": "stream",
     "text": [
      "(12,)\n",
      "(12,)\n",
      "(12,)\n",
      "(12,)\n"
     ]
    }
   ],
   "source": [
    "print(disch_monClim_refPeriod_ensMean_OhioOlmsted.shape)\n",
    "print(disch_monClim_eraOne_ensMean_OhioOlmsted.shape)\n",
    "print(disch_monClim_eraTwo_ensMean_OhioOlmsted.shape)\n",
    "print(disch_monClim_eraThree_ensMean_OhioOlmsted.shape)\n"
   ]
  },
  {
   "cell_type": "code",
   "execution_count": 37,
   "metadata": {},
   "outputs": [
    {
     "name": "stdout",
     "output_type": "stream",
     "text": [
      "[  0.98803489   4.95630331   2.63986904 -10.02536309 -12.77004738\n",
      "  -1.52932666  -4.35218889  -2.53076201   3.68515449  -0.27948304\n",
      "  -1.0526196   -0.43685529]\n",
      "\n",
      "4.956303306317254\n",
      "-12.77004738269011\n"
     ]
    }
   ],
   "source": [
    "disch_percCh_monClim_eraOne_ensMean_OhioOlmsted = (disch_monClim_eraOne_ensMean_OhioOlmsted-disch_monClim_refPeriod_ensMean_OhioOlmsted)/disch_monClim_refPeriod_ensMean_OhioOlmsted*100\n",
    "print(disch_percCh_monClim_eraOne_ensMean_OhioOlmsted)\n",
    "print('')\n",
    "maxPercCh_eraOne_OhioOlmsted = np.nanmax(disch_percCh_monClim_eraOne_ensMean_OhioOlmsted)\n",
    "minPercCh_eraOne_OhioOlmsted = np.nanmin(disch_percCh_monClim_eraOne_ensMean_OhioOlmsted)\n",
    "\n",
    "print(maxPercCh_eraOne_OhioOlmsted)\n",
    "print(minPercCh_eraOne_OhioOlmsted)\n"
   ]
  },
  {
   "cell_type": "code",
   "execution_count": 38,
   "metadata": {},
   "outputs": [
    {
     "name": "stdout",
     "output_type": "stream",
     "text": [
      "[  6.42651044  11.0495541    6.1741391  -15.33830091 -14.5753278\n",
      "   3.37563654   0.22389648   4.81890669   8.82415074   3.41605236\n",
      "   3.07965817   5.01299587]\n",
      "\n",
      "11.049554101120515\n",
      "-15.338300914561056\n"
     ]
    }
   ],
   "source": [
    "disch_percCh_monClim_eraTwo_ensMean_OhioOlmsted = (disch_monClim_eraTwo_ensMean_OhioOlmsted-disch_monClim_refPeriod_ensMean_OhioOlmsted)/disch_monClim_refPeriod_ensMean_OhioOlmsted*100\n",
    "print(disch_percCh_monClim_eraTwo_ensMean_OhioOlmsted)\n",
    "print('')\n",
    "maxPercCh_eraTwo_OhioOlmsted = np.nanmax(disch_percCh_monClim_eraTwo_ensMean_OhioOlmsted)\n",
    "minPercCh_eraTwo_OhioOlmsted = np.nanmin(disch_percCh_monClim_eraTwo_ensMean_OhioOlmsted)\n",
    "\n",
    "print(maxPercCh_eraTwo_OhioOlmsted)\n",
    "print(minPercCh_eraTwo_OhioOlmsted)\n"
   ]
  },
  {
   "cell_type": "code",
   "execution_count": 39,
   "metadata": {},
   "outputs": [
    {
     "name": "stdout",
     "output_type": "stream",
     "text": [
      "[ 15.94681854  19.59890484  10.22997643 -18.50381673 -10.26554827\n",
      "  10.18133929   6.00204428  14.31526995  15.24528095   9.61698851\n",
      "  10.09664994  12.62668202]\n",
      "\n",
      "19.59890483607522\n",
      "-18.503816728958927\n"
     ]
    }
   ],
   "source": [
    "disch_percCh_monClim_eraThree_ensMean_OhioOlmsted = (disch_monClim_eraThree_ensMean_OhioOlmsted-disch_monClim_refPeriod_ensMean_OhioOlmsted)/disch_monClim_refPeriod_ensMean_OhioOlmsted*100\n",
    "print(disch_percCh_monClim_eraThree_ensMean_OhioOlmsted)\n",
    "print('')\n",
    "maxPercCh_eraThree_OhioOlmsted = np.nanmax(disch_percCh_monClim_eraThree_ensMean_OhioOlmsted)\n",
    "minPercCh_eraThree_OhioOlmsted = np.nanmin(disch_percCh_monClim_eraThree_ensMean_OhioOlmsted)\n",
    "\n",
    "print(maxPercCh_eraThree_OhioOlmsted)\n",
    "print(minPercCh_eraThree_OhioOlmsted)\n"
   ]
  },
  {
   "cell_type": "markdown",
   "metadata": {},
   "source": [
    "## Mississippi at Vicksburg"
   ]
  },
  {
   "cell_type": "code",
   "execution_count": 40,
   "metadata": {},
   "outputs": [
    {
     "name": "stdout",
     "output_type": "stream",
     "text": [
      "(12,)\n",
      "(12,)\n",
      "(12,)\n",
      "(12,)\n"
     ]
    }
   ],
   "source": [
    "print(disch_monClim_refPeriod_ensMean_MissiVicks.shape)\n",
    "print(disch_monClim_eraOne_ensMean_MissiVicks.shape)\n",
    "print(disch_monClim_eraTwo_ensMean_MissiVicks.shape)\n",
    "print(disch_monClim_eraThree_ensMean_MissiVicks.shape)\n"
   ]
  },
  {
   "cell_type": "code",
   "execution_count": 41,
   "metadata": {},
   "outputs": [
    {
     "name": "stdout",
     "output_type": "stream",
     "text": [
      "[ 1.17701093  3.36291611  0.16039276 -4.95232979 -5.51233409 -1.9810531\n",
      " -3.22442087 -0.06497738  0.32976214 -0.39469904 -1.41969194 -0.70701853]\n",
      "\n",
      "3.3629161136960026\n",
      "-5.512334086636112\n"
     ]
    }
   ],
   "source": [
    "disch_percCh_monClim_eraOne_ensMean_MissiVicks = (disch_monClim_eraOne_ensMean_MissiVicks-disch_monClim_refPeriod_ensMean_MissiVicks)/disch_monClim_refPeriod_ensMean_MissiVicks*100\n",
    "print(disch_percCh_monClim_eraOne_ensMean_MissiVicks)\n",
    "print('')\n",
    "maxPercCh_eraOne_MissiVicks = np.nanmax(disch_percCh_monClim_eraOne_ensMean_MissiVicks)\n",
    "minPercCh_eraOne_MissiVicks = np.nanmin(disch_percCh_monClim_eraOne_ensMean_MissiVicks)\n",
    "\n",
    "print(maxPercCh_eraOne_MissiVicks)\n",
    "print(minPercCh_eraOne_MissiVicks)\n"
   ]
  },
  {
   "cell_type": "code",
   "execution_count": 42,
   "metadata": {},
   "outputs": [
    {
     "name": "stdout",
     "output_type": "stream",
     "text": [
      "[10.78999696 11.39532956  6.19920727 -2.39393841 -2.38357152  2.98921019\n",
      "  1.97375009  6.64793548  5.09798928  2.71931027  3.50880423  6.75728255]\n",
      "\n",
      "11.395329558359922\n",
      "-2.393938406850445\n"
     ]
    }
   ],
   "source": [
    "disch_percCh_monClim_eraTwo_ensMean_MissiVicks = (disch_monClim_eraTwo_ensMean_MissiVicks-disch_monClim_refPeriod_ensMean_MissiVicks)/disch_monClim_refPeriod_ensMean_MissiVicks*100\n",
    "print(disch_percCh_monClim_eraTwo_ensMean_MissiVicks)\n",
    "print('')\n",
    "maxPercCh_eraTwo_MissiVicks = np.nanmax(disch_percCh_monClim_eraTwo_ensMean_MissiVicks)\n",
    "minPercCh_eraTwo_MissiVicks = np.nanmin(disch_percCh_monClim_eraTwo_ensMean_MissiVicks)\n",
    "\n",
    "print(maxPercCh_eraTwo_MissiVicks)\n",
    "print(minPercCh_eraTwo_MissiVicks)\n"
   ]
  },
  {
   "cell_type": "code",
   "execution_count": 43,
   "metadata": {},
   "outputs": [
    {
     "name": "stdout",
     "output_type": "stream",
     "text": [
      "[20.53875796 20.3039239  11.82348753  0.47528169  3.53501498  8.26103792\n",
      "  7.84807558 15.55369153 10.83309111  7.90833843  9.59293741 14.70533676]\n",
      "\n",
      "20.538757958170184\n",
      "0.4752816939895204\n"
     ]
    }
   ],
   "source": [
    "disch_percCh_monClim_eraThree_ensMean_MissiVicks = (disch_monClim_eraThree_ensMean_MissiVicks-disch_monClim_refPeriod_ensMean_MissiVicks)/disch_monClim_refPeriod_ensMean_MissiVicks*100\n",
    "print(disch_percCh_monClim_eraThree_ensMean_MissiVicks)\n",
    "print('')\n",
    "maxPercCh_eraThree_MissiVicks = np.nanmax(disch_percCh_monClim_eraThree_ensMean_MissiVicks)\n",
    "minPercCh_eraThree_MissiVicks = np.nanmin(disch_percCh_monClim_eraThree_ensMean_MissiVicks)\n",
    "\n",
    "print(maxPercCh_eraThree_MissiVicks)\n",
    "print(minPercCh_eraThree_MissiVicks)\n"
   ]
  },
  {
   "cell_type": "markdown",
   "metadata": {},
   "source": [
    "## Plotting the percent change discharge climatology relative to Historical Referenc period climatology"
   ]
  },
  {
   "cell_type": "code",
   "execution_count": 44,
   "metadata": {},
   "outputs": [
    {
     "name": "stdout",
     "output_type": "stream",
     "text": [
      "('Jan', 'Feb', 'Mar', 'Apr', 'May', 'Jun', 'Jul', 'Aug', 'Sep', 'Oct', 'Nov', 'Dec')\n"
     ]
    }
   ],
   "source": [
    "monsStr = 'Jan','Feb','Mar','Apr','May','Jun','Jul', 'Aug', 'Sep','Oct', 'Nov', 'Dec'\n",
    "print(monsStr)"
   ]
  },
  {
   "cell_type": "code",
   "execution_count": 45,
   "metadata": {},
   "outputs": [
    {
     "data": {
      "image/png": "[encoded data removed]",
      "text/plain": [
       "<Figure size 792x648 with 4 Axes>"
      ]
     },
     "metadata": {
      "needs_background": "light"
     },
     "output_type": "display_data"
    }
   ],
   "source": [
    "\n",
    "#%matplotlib notebook\n",
    "\n",
    "\n",
    "tickFontSize = 17\n",
    "textFontSize = 19\n",
    "legendFontSize = 18\n",
    "titleFontSize = 19\n",
    "\n",
    "\n",
    "linewidth = 0.8\n",
    "dashLinewidth = 0.7\n",
    "\n",
    "#++++++++++++++++++++++++++++++++++++++++++++++++++++++++++++++++++++++++++\n",
    "fig = plt.figure(figsize=(11, 9), constrained_layout=False)\n",
    "\n",
    "axs = [plt.subplot(2, 2, x + 1,) for x in range(4)]\n",
    "ax1 = axs[0]\n",
    "\n",
    "ln12=ax1.plot(range(nMonsPerYr), disch_percCh_monClim_eraOne_ensMean_MissouriHermann, label=\"2015-2044\", color = 'blue', linewidth=1)\n",
    "ln13=ax1.plot(range(nMonsPerYr), disch_percCh_monClim_eraTwo_ensMean_MissouriHermann, label=\"2045-2074\", color = 'orange', linewidth=1.5)\n",
    "ln14=ax1.plot(range(nMonsPerYr), disch_percCh_monClim_eraThree_ensMean_MissouriHermann, label=\"2075-2100\", color = 'red', linewidth=1)\n",
    "ln16 = ax1.axhline(y = 0, color = 'k', label = '', linestyle='--', linewidth=0.7)\n",
    "\n",
    "ax1.set_title('(a) Missouri', y=0.98, pad=-14, fontsize = titleFontSize, loc='left')\n",
    "ax1.set_xticks(range(nMonsPerYr))\n",
    "ax1.set_xticklabels(monsStr, minor=False)\n",
    "ax1.set_xticklabels('', )\n",
    "\n",
    "ax1.set_yticks([-20, -10, 0, 10, 20]) \n",
    "ax1.set_yticklabels(['-20', '-10', '0', '10', '20'],  fontsize = tickFontSize) \n",
    "\n",
    "\n",
    "ax1.set_xlim([0, 11])\n",
    "ax1.set_ylim([-25, 28])\n",
    "\n",
    "ax1.set_xlabel('')\n",
    "#+++++++++++++++++++++++++++++++++++++++++++++++++++++++\n",
    "\n",
    "ax2 = axs[1]\n",
    "ln22=ax2.plot(range(nMonsPerYr), disch_percCh_monClim_eraOne_ensMean_ArkansasMurrayLittleRock, label=\"2015-2044\", color = 'blue', linewidth=1)\n",
    "ln23=ax2.plot(range(nMonsPerYr), disch_percCh_monClim_eraTwo_ensMean_ArkansasMurrayLittleRock, label=\"2045-2074\", color = 'orange', linewidth=1.5)\n",
    "ln24=ax2.plot(range(nMonsPerYr), disch_percCh_monClim_eraThree_ensMean_ArkansasMurrayLittleRock, label=\"2075-2100\", color = 'red', linewidth=1)\n",
    "ln26 = ax2.axhline(y = 0, color = 'k', label = '', linestyle='--', linewidth=0.7)\n",
    "\n",
    "ax2.set_title('(b) Arkansas', y=0.98, pad=-14, fontsize = titleFontSize, loc='left')\n",
    "\n",
    "ax2.set_xticks(range(nMonsPerYr))\n",
    "ax2.set_xticklabels(monsStr, minor=False)\n",
    "ax2.set_xticklabels('', )\n",
    "\n",
    "ax2.set_yticks([-20, -10, 0, 10, 20]) \n",
    "ax2.set_yticklabels(['-20', '-10', '0', '10', '20'],  fontsize = tickFontSize) \n",
    "ax2.set_yticklabels('', )\n",
    "\n",
    "ax2.set_xlim([0, 11])\n",
    "ax2.set_ylim([-25, 28])\n",
    "\n",
    "ax2.set_xlabel('')\n",
    "ax2.set_ylabel('')\n",
    "#+++++++++++++++++++++++++++++++++++++++++++++++++++++++\n",
    "\n",
    "ax3 = axs[2]\n",
    "ln32=ax3.plot(range(nMonsPerYr), disch_percCh_monClim_eraOne_ensMean_OhioOlmsted, label=\"2015-2044\", color = 'blue', linewidth=1)\n",
    "ln33=ax3.plot(range(nMonsPerYr), disch_percCh_monClim_eraTwo_ensMean_OhioOlmsted, label=\"2045-2074\", color = 'orange', linewidth=1.5)\n",
    "ln34=ax3.plot(range(nMonsPerYr), disch_percCh_monClim_eraThree_ensMean_OhioOlmsted, label=\"2075-2100\", color = 'red', linewidth=1)\n",
    "ln36 = ax3.axhline(y = 0, color = 'k', label = '', linestyle='--', linewidth=0.7)\n",
    "\n",
    "ax3.set_title('(c) Ohio', y=0.98, pad=-14, fontsize =  titleFontSize, loc='left')\n",
    "\n",
    "ax3.set_xticks(range(nMonsPerYr))\n",
    "ax3.set_xticklabels(monsStr, minor=False)\n",
    "ax3.set_xticklabels(monsStr, minor=False, rotation = 45,  fontsize = tickFontSize)\n",
    "\n",
    "ax3.set_yticks([-20, -10, 0, 10, 20]) \n",
    "ax3.set_yticklabels(['-20', '-10', '0', '10', '20'],  fontsize = tickFontSize) \n",
    "\n",
    "\n",
    "ax3.set_xlim([0, 11])\n",
    "ax3.set_ylim([-25, 28])\n",
    "\n",
    "ax3.set_ylabel('Percent difference', fontsize = textFontSize )\n",
    "ax3.yaxis.set_label_coords(-0.10, +1.07)\n",
    "\n",
    "ax3.set_xlabel('')\n",
    "#+++++++++++++++++++++++++++++++++++++++++++++++++++++++\n",
    "\n",
    "\n",
    "ax4 = axs[3]\n",
    "ln42=ax4.plot(range(nMonsPerYr), disch_percCh_monClim_eraOne_ensMean_MissiVicks, label=\"2015-2044\", color = 'blue', linewidth=1)\n",
    "ln43=ax4.plot(range(nMonsPerYr), disch_percCh_monClim_eraTwo_ensMean_MissiVicks, label=\"2045-2074\", color = 'orange', linewidth=1.5)\n",
    "ln44=ax4.plot(range(nMonsPerYr), disch_percCh_monClim_eraThree_ensMean_MissiVicks, label=\"2075-2100\", color = 'red', linewidth=1)\n",
    "ln46 = ax4.axhline(y = 0, color = 'k', label = '', linestyle='--', linewidth=0.7)\n",
    "\n",
    "ax4.set_title('(d) Lower Mississippi', y=0.98, pad=-14, fontsize = titleFontSize, loc='left')\n",
    "\n",
    "ax4.set_xticks(range(nMonsPerYr))\n",
    "ax4.set_xticklabels(monsStr, minor=False, rotation = 45,  fontsize = tickFontSize)\n",
    "\n",
    "ax4.set_yticks([-20, -10, 0, 10, 20]) \n",
    "ax4.set_yticklabels(['-20', '-10', '0', '10', '20'],  fontsize = tickFontSize) \n",
    "ax4.set_yticklabels('', )\n",
    "\n",
    "ax4.set_xlim([0, 11])\n",
    "ax4.set_ylim([-25, 28])\n",
    "\n",
    "ax4.set_xlabel('Months', fontsize = textFontSize )\n",
    "ax4.xaxis.set_label_coords(-0.11, -0.23)\n",
    "ax4.legend(ncol=3, loc=(-1.15, -0.46),frameon=False, fontsize=legendFontSize)\n",
    "\n",
    "#+++++++++++++++++++++++++++++++++++++++++++++++++++++++\n",
    "#+++++++++++++++++++++++++++++++++++++++++++++++++++++++\n",
    "#st = fig.suptitle(\"Annual cycle at a gage-station per basin\", fontsize = 20)\n",
    "#st.set_y(0.92)\n",
    "#st.set_x(0.515)\n",
    "\n",
    "with warnings.catch_warnings():\n",
    "    warnings.filterwarnings(\"ignore\", category=DeprecationWarning)\n",
    "\n",
    "plt.subplots_adjust(wspace=0.3, bottom=0.2)\n",
    "\n",
    "plt.show()"
   ]
  },
  {
   "cell_type": "code",
   "execution_count": null,
   "metadata": {},
   "outputs": [],
   "source": []
  },
  {
   "cell_type": "code",
   "execution_count": null,
   "metadata": {},
   "outputs": [],
   "source": []
  },
  {
   "cell_type": "code",
   "execution_count": null,
   "metadata": {},
   "outputs": [],
   "source": []
  },
  {
   "cell_type": "code",
   "execution_count": null,
   "metadata": {},
   "outputs": [],
   "source": []
  },
  {
   "cell_type": "code",
   "execution_count": 46,
   "metadata": {},
   "outputs": [
    {
     "ename": "SyntaxError",
     "evalue": "invalid syntax (<ipython-input-46-76345b92dc7b>, line 1)",
     "output_type": "error",
     "traceback": [
      "\u001b[1;36m  File \u001b[1;32m\"<ipython-input-46-76345b92dc7b>\"\u001b[1;36m, line \u001b[1;32m1\u001b[0m\n\u001b[1;33m    STOP here ============\u001b[0m\n\u001b[1;37m         ^\u001b[0m\n\u001b[1;31mSyntaxError\u001b[0m\u001b[1;31m:\u001b[0m invalid syntax\n"
     ]
    }
   ],
   "source": [
    "STOP here ============"
   ]
  },
  {
   "cell_type": "code",
   "execution_count": null,
   "metadata": {},
   "outputs": [],
   "source": []
  },
  {
   "cell_type": "code",
   "execution_count": null,
   "metadata": {},
   "outputs": [],
   "source": []
  },
  {
   "cell_type": "code",
   "execution_count": null,
   "metadata": {},
   "outputs": [],
   "source": []
  }
 ],
 "metadata": {
  "kernelspec": {
   "display_name": "Python 3",
   "language": "python",
   "name": "python3"
  },
  "language_info": {
   "codemirror_mode": {
    "name": "ipython",
    "version": 3
   },
   "file_extension": ".py",
   "mimetype": "text/x-python",
   "name": "python",
   "nbconvert_exporter": "python",
   "pygments_lexer": "ipython3",
   "version": "3.8.5"
  }
 },
 "nbformat": 4,
 "nbformat_minor": 4
}
