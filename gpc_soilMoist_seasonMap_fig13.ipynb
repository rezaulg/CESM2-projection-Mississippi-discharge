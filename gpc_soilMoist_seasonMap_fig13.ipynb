{
 "cells": [
  {
   "cell_type": "markdown",
   "metadata": {},
   "source": [
    "## This script reads CESM2 Soil Moisture data downloaded from Casper in NCAR (Fig 13)"
   ]
  },
  {
   "cell_type": "markdown",
   "metadata": {},
   "source": [
    "## Import Libraries"
   ]
  },
  {
   "cell_type": "code",
   "execution_count": 1,
   "metadata": {},
   "outputs": [],
   "source": [
    "import numpy as np\n",
    "import pandas as pd\n",
    "import datetime\n",
    "import xarray as xr\n",
    "import seaborn as sns\n",
    "import warnings\n",
    "from matplotlib import pyplot as plt \n",
    "import matplotlib as mpl\n",
    "import shapefile as shp\n",
    "import cartopy.io.shapereader as shpreader\n",
    "from numpy import linspace\n",
    "from numpy import meshgrid\n",
    "import matplotlib.colors as colors\n",
    "from numpy import array, ma\n",
    "import cartopy.crs as ccrs\n",
    "import matplotlib.cm as cm\n",
    "import cartopy.feature as cfeature\n",
    "\n",
    "from netCDF4 import Dataset \n"
   ]
  },
  {
   "cell_type": "markdown",
   "metadata": {},
   "source": [
    "## Basin shape files"
   ]
  },
  {
   "cell_type": "code",
   "execution_count": 2,
   "metadata": {},
   "outputs": [],
   "source": [
    "shapeFile_Missi = 'C:/rezaul/1.academic/1.research/2.project/mrb/dt/shapeFile/mississippi_basins/mississippi_basins/mississippi_1.shp'\n",
    "shapeFile_Arkansas = 'C:/rezaul/1.academic/1.research/2.project/mrb/dt/shapeFile/mississippi_basins/mississippi_basins/arkansas_basin_1.shp'\n",
    "shapeFile_Missouri = 'C:/rezaul/1.academic/1.research/2.project/mrb/dt/shapeFile/mississippi_basins/mississippi_basins/missouri_basin_1.shp'\n",
    "shapeFile_Ohio = 'C:/rezaul/1.academic/1.research/2.project/mrb/dt/shapeFile/mississippi_basins/mississippi_basins/ohio_basin_1.shp'"
   ]
  },
  {
   "cell_type": "code",
   "execution_count": 3,
   "metadata": {},
   "outputs": [],
   "source": [
    "sf_Missi = shp.Reader(shapeFile_Missi)\n",
    "sf_Arkansas = shp.Reader(shapeFile_Arkansas)\n",
    "sf_Missouri = shp.Reader(shapeFile_Missouri)\n",
    "sf_Ohio = shp.Reader(shapeFile_Ohio)\n"
   ]
  },
  {
   "cell_type": "code",
   "execution_count": 4,
   "metadata": {},
   "outputs": [],
   "source": [
    "reader_Missi = shpreader.Reader(shapeFile_Missi)\n",
    "basin_Missi = list(reader_Missi.geometries())\n",
    "#\n",
    "reader_Arkansas = shpreader.Reader(shapeFile_Arkansas)\n",
    "basin_Arkansas = list(reader_Arkansas.geometries())\n",
    "#\n",
    "reader_Missouri = shpreader.Reader(shapeFile_Missouri)\n",
    "basin_Missouri = list(reader_Missouri.geometries())\n",
    "#\n",
    "reader_Ohio = shpreader.Reader(shapeFile_Ohio)\n",
    "basin_Ohio = list(reader_Ohio.geometries())\n",
    "#"
   ]
  },
  {
   "cell_type": "code",
   "execution_count": 5,
   "metadata": {},
   "outputs": [
    {
     "name": "stdout",
     "output_type": "stream",
     "text": [
      "<shapefile.ShapeRecord object at 0x0000025E83D68E20>\n",
      "<shapefile.ShapeRecord object at 0x0000025E9FE0B310>\n",
      "<shapefile.ShapeRecord object at 0x0000025E83D68BB0>\n",
      "<shapefile.ShapeRecord object at 0x0000025E9FE0B5E0>\n"
     ]
    }
   ],
   "source": [
    "feature_Missi = sf_Missi.shapeRecords()[0]\n",
    "print(feature_Missi)\n",
    "\n",
    "feature_Arkansas = sf_Arkansas.shapeRecords()[0]\n",
    "print(feature_Arkansas)\n",
    "\n",
    "feature_Missouri = sf_Missouri.shapeRecords()[0]\n",
    "print(feature_Missouri)\n",
    "\n",
    "feature_Ohio = sf_Ohio.shapeRecords()[0]\n",
    "print(feature_Ohio)\n"
   ]
  },
  {
   "cell_type": "markdown",
   "metadata": {},
   "source": [
    "## Read Lat, Lon data for the selected Domain processed from \"GLADE\" in Casper"
   ]
  },
  {
   "cell_type": "markdown",
   "metadata": {},
   "source": [
    "## Lat"
   ]
  },
  {
   "cell_type": "code",
   "execution_count": 6,
   "metadata": {},
   "outputs": [
    {
     "name": "stdout",
     "output_type": "stream",
     "text": [
      "(32,)\n",
      "[24.973822 25.916231 26.858639 27.801046 28.743456 29.685863 30.628273\n",
      " 31.57068  32.51309  33.455498 34.397907 35.340313 36.282722 37.225132\n",
      " 38.167538 39.109947 40.052357 40.994766 41.937172 42.87958  43.82199\n",
      " 44.764397 45.706806 46.649216 47.59162  48.53403  49.47644  50.41885\n",
      " 51.361256 52.303665 53.246075 54.18848 ]\n",
      "32\n"
     ]
    }
   ],
   "source": [
    "file_LatUs = 'C:/rezaul/1.academic/1.research/2.project/mrb/dt/cesm/cesm2LE/param/precip/mon/latsUsArr.npy'\n",
    "latUs_cesm2 = np.load(file_LatUs)\n",
    "print(latUs_cesm2.shape)\n",
    "print(latUs_cesm2)\n",
    "\n",
    "y_US = latUs_cesm2.shape[0]\n",
    "print(y_US)"
   ]
  },
  {
   "cell_type": "code",
   "execution_count": 7,
   "metadata": {},
   "outputs": [],
   "source": [
    "lats_Us = latUs_cesm2"
   ]
  },
  {
   "cell_type": "markdown",
   "metadata": {},
   "source": [
    "## Lon"
   ]
  },
  {
   "cell_type": "code",
   "execution_count": 8,
   "metadata": {},
   "outputs": [
    {
     "name": "stdout",
     "output_type": "stream",
     "text": [
      "(56,)\n",
      "[230.   231.25 232.5  233.75 235.   236.25 237.5  238.75 240.   241.25\n",
      " 242.5  243.75 245.   246.25 247.5  248.75 250.   251.25 252.5  253.75\n",
      " 255.   256.25 257.5  258.75 260.   261.25 262.5  263.75 265.   266.25\n",
      " 267.5  268.75 270.   271.25 272.5  273.75 275.   276.25 277.5  278.75\n",
      " 280.   281.25 282.5  283.75 285.   286.25 287.5  288.75 290.   291.25\n",
      " 292.5  293.75 295.   296.25 297.5  298.75]\n",
      "56\n"
     ]
    }
   ],
   "source": [
    "file_LonUs = 'C:/rezaul/1.academic/1.research/2.project/mrb/dt/cesm/cesm2LE/param/precip/mon/lonsUsArr.npy'\n",
    "lonUs_cesm2 = np.load(file_LonUs)\n",
    "print(lonUs_cesm2.shape)\n",
    "print(lonUs_cesm2)\n",
    "\n",
    "x_US = lonUs_cesm2.shape[0]\n",
    "print(x_US)"
   ]
  },
  {
   "cell_type": "code",
   "execution_count": 9,
   "metadata": {},
   "outputs": [],
   "source": [
    "lons_Us = lonUs_cesm2"
   ]
  },
  {
   "cell_type": "markdown",
   "metadata": {},
   "source": [
    "### Historical (1930-2014): 1020 months"
   ]
  },
  {
   "cell_type": "code",
   "execution_count": 10,
   "metadata": {},
   "outputs": [
    {
     "name": "stdout",
     "output_type": "stream",
     "text": [
      "(1020, 32, 56)\n"
     ]
    }
   ],
   "source": [
    "file_histSel_ensMean = 'C:/rezaul/1.academic/1.research/2.project/mrb/dt/cesm/cesm2LE/param/soilMoist/mon/monSoilMoistUsHistSelEnsMean.npy'\n",
    "file_histSel_ensMean_loaded = np.load(file_histSel_ensMean)\n",
    "print(file_histSel_ensMean_loaded.shape)"
   ]
  },
  {
   "cell_type": "markdown",
   "metadata": {},
   "source": [
    "### Scenario (2105-2100): 1032 months"
   ]
  },
  {
   "cell_type": "code",
   "execution_count": 11,
   "metadata": {},
   "outputs": [
    {
     "name": "stdout",
     "output_type": "stream",
     "text": [
      "(1032, 32, 56)\n"
     ]
    }
   ],
   "source": [
    "file_scen_ensMean = 'C:/rezaul/1.academic/1.research/2.project/mrb/dt/cesm/cesm2LE/param/soilMoist/mon/monSoilMoistUsScenEnsMean.npy'\n",
    "file_scen_ensMean_loaded = np.load(file_scen_ensMean)\n",
    "print(file_scen_ensMean_loaded.shape)"
   ]
  },
  {
   "cell_type": "markdown",
   "metadata": {},
   "source": [
    "## Concatenate two data arrays"
   ]
  },
  {
   "cell_type": "code",
   "execution_count": 12,
   "metadata": {},
   "outputs": [
    {
     "name": "stdout",
     "output_type": "stream",
     "text": [
      "(2052, 32, 56)\n"
     ]
    }
   ],
   "source": [
    "param_histSel_scen_ensMean_Us = np.concatenate((file_histSel_ensMean_loaded, file_scen_ensMean_loaded), axis=0)\n",
    "print(param_histSel_scen_ensMean_Us.shape)"
   ]
  },
  {
   "cell_type": "markdown",
   "metadata": {},
   "source": [
    "## The two files (Hist selected and Scen)"
   ]
  },
  {
   "cell_type": "code",
   "execution_count": 13,
   "metadata": {},
   "outputs": [
    {
     "name": "stdout",
     "output_type": "stream",
     "text": [
      "(1020, 32, 56)\n",
      "(1032, 32, 56)\n"
     ]
    }
   ],
   "source": [
    "print(file_histSel_ensMean_loaded.shape)\n",
    "print(file_scen_ensMean_loaded.shape)"
   ]
  },
  {
   "cell_type": "markdown",
   "metadata": {},
   "source": [
    "## The four time slots"
   ]
  },
  {
   "cell_type": "code",
   "execution_count": 14,
   "metadata": {},
   "outputs": [],
   "source": [
    "\n",
    "#histYrSt = 1850\n",
    "histYrSelSt = 1930\n",
    "\n",
    "refPeriodYrSt = 1971\n",
    "refPeriodYrEnd = 2000\n",
    "#++++++++++++++++++++++++\n",
    "\n",
    "scenYrSt = 2015\n",
    "scenEraOneYrEnd = 2044\n",
    "\n",
    "scenEraTwoYrSt = 2045\n",
    "scenEraTwoYrEnd = 2074\n",
    "\n",
    "scenEraThreeYrSt = 2075\n",
    "scenYrEnd = 2100\n",
    "#\n"
   ]
  },
  {
   "cell_type": "markdown",
   "metadata": {},
   "source": [
    "## tsteps"
   ]
  },
  {
   "cell_type": "code",
   "execution_count": 15,
   "metadata": {},
   "outputs": [
    {
     "name": "stdout",
     "output_type": "stream",
     "text": [
      "12\n"
     ]
    }
   ],
   "source": [
    "nMonsPerYr = 12     # \n",
    "print(nMonsPerYr)"
   ]
  },
  {
   "cell_type": "markdown",
   "metadata": {},
   "source": [
    "## Reference Period"
   ]
  },
  {
   "cell_type": "code",
   "execution_count": 16,
   "metadata": {},
   "outputs": [
    {
     "name": "stdout",
     "output_type": "stream",
     "text": [
      "492 854\n",
      "362\n"
     ]
    }
   ],
   "source": [
    "refPeriodStepSt = (refPeriodYrSt - histYrSelSt)*nMonsPerYr\n",
    "refPeriodStepEnd = (refPeriodYrEnd - histYrSelSt + 1)*nMonsPerYr + 2   # To include Jan and Feb of the following year in 2001\n",
    "print(refPeriodStepSt, refPeriodStepEnd)\n",
    "print(refPeriodStepEnd-refPeriodStepSt)"
   ]
  },
  {
   "cell_type": "markdown",
   "metadata": {},
   "source": [
    "## Era 1"
   ]
  },
  {
   "cell_type": "code",
   "execution_count": 17,
   "metadata": {},
   "outputs": [
    {
     "name": "stdout",
     "output_type": "stream",
     "text": [
      "0 362\n",
      "362\n"
     ]
    }
   ],
   "source": [
    "scenEraOneStepSt = 0\n",
    "scenEraOneStepEnd = (scenEraOneYrEnd - scenYrSt + 1)*nMonsPerYr + 2  # To include Jan and Feb of the following year in 2045\n",
    "print(scenEraOneStepSt, scenEraOneStepEnd)\n",
    "print(scenEraOneStepEnd-scenEraOneStepSt)"
   ]
  },
  {
   "cell_type": "markdown",
   "metadata": {},
   "source": [
    "## Era 2"
   ]
  },
  {
   "cell_type": "code",
   "execution_count": 18,
   "metadata": {},
   "outputs": [
    {
     "name": "stdout",
     "output_type": "stream",
     "text": [
      "360 722\n",
      "362\n"
     ]
    }
   ],
   "source": [
    "scenEraTwoStepSt = (scenEraTwoYrSt - scenYrSt)*nMonsPerYr\n",
    "scenEraTwoStepEnd = (scenEraTwoYrEnd - scenYrSt + 1)*nMonsPerYr + 2   # To include Jan and Feb of the following year in 2075\n",
    "print(scenEraTwoStepSt, scenEraTwoStepEnd)\n",
    "print(scenEraTwoStepEnd-scenEraTwoStepSt)"
   ]
  },
  {
   "cell_type": "markdown",
   "metadata": {},
   "source": [
    "## Era 3"
   ]
  },
  {
   "cell_type": "code",
   "execution_count": 19,
   "metadata": {},
   "outputs": [
    {
     "name": "stdout",
     "output_type": "stream",
     "text": [
      "720 1032\n",
      "312\n"
     ]
    }
   ],
   "source": [
    "scenEraThreeStepSt = (scenEraThreeYrSt - scenYrSt)*nMonsPerYr\n",
    "scenEraThreeStepEnd = (scenYrEnd - scenYrSt + 1)*nMonsPerYr   # Data ends at Dec, 2100\n",
    "print(scenEraThreeStepSt, scenEraThreeStepEnd)\n",
    "print(scenEraThreeStepEnd-scenEraThreeStepSt)"
   ]
  },
  {
   "cell_type": "markdown",
   "metadata": {},
   "source": [
    "## Subsetting the data into different periods / Eras"
   ]
  },
  {
   "cell_type": "code",
   "execution_count": 20,
   "metadata": {},
   "outputs": [
    {
     "name": "stdout",
     "output_type": "stream",
     "text": [
      "(1020, 32, 56)\n",
      "(1032, 32, 56)\n"
     ]
    }
   ],
   "source": [
    "print(file_histSel_ensMean_loaded.shape)\n",
    "print(file_scen_ensMean_loaded.shape)"
   ]
  },
  {
   "cell_type": "code",
   "execution_count": 21,
   "metadata": {},
   "outputs": [
    {
     "name": "stdout",
     "output_type": "stream",
     "text": [
      "(362, 32, 56)\n"
     ]
    }
   ],
   "source": [
    "param_refPeriod_Us_ensmean = file_histSel_ensMean_loaded[refPeriodStepSt:refPeriodStepEnd, :]\n",
    "print(param_refPeriod_Us_ensmean.shape)"
   ]
  },
  {
   "cell_type": "code",
   "execution_count": 22,
   "metadata": {},
   "outputs": [
    {
     "name": "stdout",
     "output_type": "stream",
     "text": [
      "(362, 32, 56)\n"
     ]
    }
   ],
   "source": [
    "param_scenEraOne_Us_ensmean = file_scen_ensMean_loaded[scenEraOneStepSt:scenEraOneStepEnd, :]\n",
    "print(param_scenEraOne_Us_ensmean.shape)"
   ]
  },
  {
   "cell_type": "code",
   "execution_count": 23,
   "metadata": {},
   "outputs": [
    {
     "name": "stdout",
     "output_type": "stream",
     "text": [
      "(362, 32, 56)\n"
     ]
    }
   ],
   "source": [
    "param_scenEraTwo_Us_ensmean = file_scen_ensMean_loaded[scenEraTwoStepSt:scenEraTwoStepEnd, :]\n",
    "print(param_scenEraTwo_Us_ensmean.shape)"
   ]
  },
  {
   "cell_type": "code",
   "execution_count": 24,
   "metadata": {},
   "outputs": [
    {
     "name": "stdout",
     "output_type": "stream",
     "text": [
      "(312, 32, 56)\n"
     ]
    }
   ],
   "source": [
    "param_scenEraThree_Us_ensmean = file_scen_ensMean_loaded[scenEraThreeStepSt:scenEraThreeStepEnd, :]\n",
    "print(param_scenEraThree_Us_ensmean.shape)"
   ]
  },
  {
   "cell_type": "code",
   "execution_count": null,
   "metadata": {},
   "outputs": [],
   "source": []
  },
  {
   "cell_type": "markdown",
   "metadata": {},
   "source": [
    "## Seasons start here"
   ]
  },
  {
   "cell_type": "code",
   "execution_count": 25,
   "metadata": {},
   "outputs": [
    {
     "name": "stdout",
     "output_type": "stream",
     "text": [
      "12\n"
     ]
    }
   ],
   "source": [
    "print(nMonsPerYr)"
   ]
  },
  {
   "cell_type": "code",
   "execution_count": 26,
   "metadata": {},
   "outputs": [
    {
     "name": "stdout",
     "output_type": "stream",
     "text": [
      "(362, 32, 56)\n",
      "(362, 32, 56)\n",
      "(362, 32, 56)\n",
      "(312, 32, 56)\n"
     ]
    }
   ],
   "source": [
    "param_refPeriod_Us_ensmean = file_histSel_ensMean_loaded[refPeriodStepSt:refPeriodStepEnd, :]\n",
    "print(param_refPeriod_Us_ensmean.shape)\n",
    "\n",
    "param_scenEraOne_Us_ensmean = file_scen_ensMean_loaded[scenEraOneStepSt:scenEraOneStepEnd, :]\n",
    "print(param_scenEraOne_Us_ensmean.shape)\n",
    "\n",
    "param_scenEraTwo_Us_ensmean = file_scen_ensMean_loaded[scenEraTwoStepSt:scenEraTwoStepEnd, :]\n",
    "print(param_scenEraTwo_Us_ensmean.shape)\n",
    "\n",
    "param_scenEraThree_Us_ensmean = file_scen_ensMean_loaded[scenEraThreeStepSt:scenEraThreeStepEnd, :]\n",
    "print(param_scenEraThree_Us_ensmean.shape)"
   ]
  },
  {
   "cell_type": "code",
   "execution_count": null,
   "metadata": {},
   "outputs": [],
   "source": []
  },
  {
   "cell_type": "markdown",
   "metadata": {},
   "source": [
    "## MAM"
   ]
  },
  {
   "cell_type": "markdown",
   "metadata": {},
   "source": [
    "## ref Period"
   ]
  },
  {
   "cell_type": "code",
   "execution_count": 27,
   "metadata": {},
   "outputs": [],
   "source": [
    "mamMonSt = 3\n",
    "mamMonMid = 4\n",
    "mamMonEnd = 5"
   ]
  },
  {
   "cell_type": "code",
   "execution_count": 28,
   "metadata": {},
   "outputs": [
    {
     "name": "stdout",
     "output_type": "stream",
     "text": [
      "(30, 32, 56)\n",
      "(30, 32, 56)\n",
      "(30, 32, 56)\n"
     ]
    }
   ],
   "source": [
    "\n",
    "param_mamSt_refPeriod_Us_ensmean = param_refPeriod_Us_ensmean[mamMonSt-1::nMonsPerYr]\n",
    "print(param_mamSt_refPeriod_Us_ensmean.shape)\n",
    "\n",
    "param_mamMid_refPeriod_Us_ensmean = param_refPeriod_Us_ensmean[mamMonMid-1::nMonsPerYr]\n",
    "print(param_mamMid_refPeriod_Us_ensmean.shape)\n",
    "\n",
    "param_mamEnd_refPeriod_Us_ensmean = param_refPeriod_Us_ensmean[mamMonEnd-1::nMonsPerYr]\n",
    "print(param_mamEnd_refPeriod_Us_ensmean.shape)\n"
   ]
  },
  {
   "cell_type": "code",
   "execution_count": 29,
   "metadata": {},
   "outputs": [
    {
     "name": "stdout",
     "output_type": "stream",
     "text": [
      "(32, 56)\n",
      "(32, 56)\n",
      "(32, 56)\n"
     ]
    }
   ],
   "source": [
    "param_mamSt_refPeriod_Us_ensmean_timeAvg = np.nanmean(param_mamSt_refPeriod_Us_ensmean, axis = 0)\n",
    "print(param_mamSt_refPeriod_Us_ensmean_timeAvg.shape)\n",
    "\n",
    "param_mamMid_refPeriod_Us_ensmean_timeAvg = np.nanmean(param_mamMid_refPeriod_Us_ensmean, axis = 0)\n",
    "print(param_mamMid_refPeriod_Us_ensmean_timeAvg.shape)\n",
    "\n",
    "param_mamEnd_refPeriod_Us_ensmean_timeAvg = np.nanmean(param_mamEnd_refPeriod_Us_ensmean, axis = 0)\n",
    "print(param_mamEnd_refPeriod_Us_ensmean_timeAvg.shape)\n"
   ]
  },
  {
   "cell_type": "code",
   "execution_count": 30,
   "metadata": {},
   "outputs": [
    {
     "name": "stdout",
     "output_type": "stream",
     "text": [
      "(32, 56)\n"
     ]
    }
   ],
   "source": [
    "param_mamTot_refPeriod_Us_ensmean_timeAvg = (param_mamSt_refPeriod_Us_ensmean_timeAvg+param_mamMid_refPeriod_Us_ensmean_timeAvg+param_mamEnd_refPeriod_Us_ensmean_timeAvg)/3\n",
    "print(param_mamTot_refPeriod_Us_ensmean_timeAvg.shape)"
   ]
  },
  {
   "cell_type": "markdown",
   "metadata": {},
   "source": [
    "## Scen Era 1"
   ]
  },
  {
   "cell_type": "code",
   "execution_count": 31,
   "metadata": {},
   "outputs": [
    {
     "name": "stdout",
     "output_type": "stream",
     "text": [
      "(30, 32, 56)\n",
      "(30, 32, 56)\n",
      "(30, 32, 56)\n"
     ]
    }
   ],
   "source": [
    "\n",
    "param_mamSt_scenEraOne_Us_ensmean = param_scenEraOne_Us_ensmean[mamMonSt-1::nMonsPerYr]\n",
    "print(param_mamSt_scenEraOne_Us_ensmean.shape)\n",
    "\n",
    "param_mamMid_scenEraOne_Us_ensmean = param_scenEraOne_Us_ensmean[mamMonMid-1::nMonsPerYr]\n",
    "print(param_mamMid_scenEraOne_Us_ensmean.shape)\n",
    "\n",
    "param_mamEnd_scenEraOne_Us_ensmean = param_scenEraOne_Us_ensmean[mamMonEnd-1::nMonsPerYr]\n",
    "print(param_mamEnd_scenEraOne_Us_ensmean.shape)\n"
   ]
  },
  {
   "cell_type": "code",
   "execution_count": 32,
   "metadata": {},
   "outputs": [
    {
     "name": "stdout",
     "output_type": "stream",
     "text": [
      "(32, 56)\n",
      "(32, 56)\n",
      "(32, 56)\n"
     ]
    }
   ],
   "source": [
    "param_mamSt_scenEraOne_Us_ensmean_timeAvg = np.nanmean(param_mamSt_scenEraOne_Us_ensmean, axis = 0)\n",
    "print(param_mamSt_scenEraOne_Us_ensmean_timeAvg.shape)\n",
    "\n",
    "param_mamMid_scenEraOne_Us_ensmean_timeAvg = np.nanmean(param_mamMid_scenEraOne_Us_ensmean, axis = 0)\n",
    "print(param_mamMid_scenEraOne_Us_ensmean_timeAvg.shape)\n",
    "\n",
    "param_mamEnd_scenEraOne_Us_ensmean_timeAvg = np.nanmean(param_mamEnd_scenEraOne_Us_ensmean, axis = 0)\n",
    "print(param_mamEnd_scenEraOne_Us_ensmean_timeAvg.shape)\n"
   ]
  },
  {
   "cell_type": "code",
   "execution_count": 33,
   "metadata": {},
   "outputs": [
    {
     "name": "stdout",
     "output_type": "stream",
     "text": [
      "(32, 56)\n"
     ]
    }
   ],
   "source": [
    "param_mamTot_scenEraOne_Us_ensmean_timeAvg = (param_mamSt_scenEraOne_Us_ensmean_timeAvg+param_mamMid_scenEraOne_Us_ensmean_timeAvg+param_mamEnd_scenEraOne_Us_ensmean_timeAvg)/3\n",
    "print(param_mamTot_scenEraOne_Us_ensmean_timeAvg.shape)\n"
   ]
  },
  {
   "cell_type": "markdown",
   "metadata": {},
   "source": [
    "## Scen Era 2"
   ]
  },
  {
   "cell_type": "code",
   "execution_count": 34,
   "metadata": {},
   "outputs": [
    {
     "name": "stdout",
     "output_type": "stream",
     "text": [
      "(30, 32, 56)\n",
      "(30, 32, 56)\n",
      "(30, 32, 56)\n"
     ]
    }
   ],
   "source": [
    "\n",
    "param_mamSt_scenEraTwo_Us_ensmean = param_scenEraTwo_Us_ensmean[mamMonSt-1::nMonsPerYr]\n",
    "print(param_mamSt_scenEraTwo_Us_ensmean.shape)\n",
    "\n",
    "param_mamMid_scenEraTwo_Us_ensmean = param_scenEraTwo_Us_ensmean[mamMonMid-1::nMonsPerYr]\n",
    "print(param_mamMid_scenEraTwo_Us_ensmean.shape)\n",
    "\n",
    "param_mamEnd_scenEraTwo_Us_ensmean = param_scenEraTwo_Us_ensmean[mamMonEnd-1::nMonsPerYr]\n",
    "print(param_mamEnd_scenEraTwo_Us_ensmean.shape)\n"
   ]
  },
  {
   "cell_type": "code",
   "execution_count": 35,
   "metadata": {},
   "outputs": [
    {
     "name": "stdout",
     "output_type": "stream",
     "text": [
      "(32, 56)\n",
      "(32, 56)\n",
      "(32, 56)\n"
     ]
    }
   ],
   "source": [
    "param_mamSt_scenEraTwo_Us_ensmean_timeAvg = np.nanmean(param_mamSt_scenEraTwo_Us_ensmean, axis = 0)\n",
    "print(param_mamSt_scenEraTwo_Us_ensmean_timeAvg.shape)\n",
    "\n",
    "param_mamMid_scenEraTwo_Us_ensmean_timeAvg = np.nanmean(param_mamMid_scenEraTwo_Us_ensmean, axis = 0)\n",
    "print(param_mamMid_scenEraTwo_Us_ensmean_timeAvg.shape)\n",
    "\n",
    "param_mamEnd_scenEraTwo_Us_ensmean_timeAvg = np.nanmean(param_mamEnd_scenEraTwo_Us_ensmean, axis = 0)\n",
    "print(param_mamEnd_scenEraTwo_Us_ensmean_timeAvg.shape)\n"
   ]
  },
  {
   "cell_type": "code",
   "execution_count": 36,
   "metadata": {},
   "outputs": [
    {
     "name": "stdout",
     "output_type": "stream",
     "text": [
      "(32, 56)\n"
     ]
    }
   ],
   "source": [
    "param_mamTot_scenEraTwo_Us_ensmean_timeAvg = (param_mamSt_scenEraTwo_Us_ensmean_timeAvg+param_mamMid_scenEraTwo_Us_ensmean_timeAvg+param_mamEnd_scenEraTwo_Us_ensmean_timeAvg)/3\n",
    "print(param_mamTot_scenEraTwo_Us_ensmean_timeAvg.shape)\n"
   ]
  },
  {
   "cell_type": "markdown",
   "metadata": {},
   "source": [
    "## Scen Era 3"
   ]
  },
  {
   "cell_type": "code",
   "execution_count": 37,
   "metadata": {},
   "outputs": [
    {
     "name": "stdout",
     "output_type": "stream",
     "text": [
      "(26, 32, 56)\n",
      "(26, 32, 56)\n",
      "(26, 32, 56)\n"
     ]
    }
   ],
   "source": [
    "\n",
    "param_mamSt_scenEraThree_Us_ensmean = param_scenEraThree_Us_ensmean[mamMonSt-1::nMonsPerYr]\n",
    "print(param_mamSt_scenEraThree_Us_ensmean.shape)\n",
    "\n",
    "param_mamMid_scenEraThree_Us_ensmean = param_scenEraThree_Us_ensmean[mamMonMid-1::nMonsPerYr]\n",
    "print(param_mamMid_scenEraThree_Us_ensmean.shape)\n",
    "\n",
    "param_mamEnd_scenEraThree_Us_ensmean = param_scenEraThree_Us_ensmean[mamMonEnd-1::nMonsPerYr]\n",
    "print(param_mamEnd_scenEraThree_Us_ensmean.shape)\n"
   ]
  },
  {
   "cell_type": "code",
   "execution_count": 38,
   "metadata": {},
   "outputs": [
    {
     "name": "stdout",
     "output_type": "stream",
     "text": [
      "(32, 56)\n",
      "(32, 56)\n",
      "(32, 56)\n"
     ]
    }
   ],
   "source": [
    "param_mamSt_scenEraThree_Us_ensmean_timeAvg = np.nanmean(param_mamSt_scenEraThree_Us_ensmean, axis = 0)\n",
    "print(param_mamSt_scenEraThree_Us_ensmean_timeAvg.shape)\n",
    "\n",
    "param_mamMid_scenEraThree_Us_ensmean_timeAvg = np.nanmean(param_mamMid_scenEraThree_Us_ensmean, axis = 0)\n",
    "print(param_mamMid_scenEraThree_Us_ensmean_timeAvg.shape)\n",
    "\n",
    "param_mamEnd_scenEraThree_Us_ensmean_timeAvg = np.nanmean(param_mamEnd_scenEraThree_Us_ensmean, axis = 0)\n",
    "print(param_mamEnd_scenEraThree_Us_ensmean_timeAvg.shape)\n"
   ]
  },
  {
   "cell_type": "code",
   "execution_count": 39,
   "metadata": {},
   "outputs": [
    {
     "name": "stdout",
     "output_type": "stream",
     "text": [
      "(32, 56)\n"
     ]
    }
   ],
   "source": [
    "param_mamTot_scenEraThree_Us_ensmean_timeAvg = (param_mamSt_scenEraThree_Us_ensmean_timeAvg+param_mamMid_scenEraThree_Us_ensmean_timeAvg+param_mamEnd_scenEraThree_Us_ensmean_timeAvg)/3\n",
    "print(param_mamTot_scenEraThree_Us_ensmean_timeAvg.shape)\n"
   ]
  },
  {
   "cell_type": "markdown",
   "metadata": {},
   "source": [
    "## Differences at the three Eras"
   ]
  },
  {
   "cell_type": "code",
   "execution_count": 40,
   "metadata": {},
   "outputs": [
    {
     "name": "stdout",
     "output_type": "stream",
     "text": [
      "(32, 56)\n"
     ]
    }
   ],
   "source": [
    "param_mamTot_scenEraOne_pDiff_Us_ensmean_timeAvg = (param_mamTot_scenEraOne_Us_ensmean_timeAvg - param_mamTot_refPeriod_Us_ensmean_timeAvg)\n",
    "print(param_mamTot_scenEraOne_pDiff_Us_ensmean_timeAvg.shape)"
   ]
  },
  {
   "cell_type": "code",
   "execution_count": 41,
   "metadata": {},
   "outputs": [
    {
     "name": "stdout",
     "output_type": "stream",
     "text": [
      "(32, 56)\n"
     ]
    }
   ],
   "source": [
    "param_mamTot_scenEraTwo_pDiff_Us_ensmean_timeAvg = (param_mamTot_scenEraTwo_Us_ensmean_timeAvg - param_mamTot_refPeriod_Us_ensmean_timeAvg)\n",
    "print(param_mamTot_scenEraTwo_pDiff_Us_ensmean_timeAvg.shape)"
   ]
  },
  {
   "cell_type": "code",
   "execution_count": 42,
   "metadata": {},
   "outputs": [
    {
     "name": "stdout",
     "output_type": "stream",
     "text": [
      "(32, 56)\n"
     ]
    }
   ],
   "source": [
    "param_mamTot_scenEraThree_pDiff_Us_ensmean_timeAvg = (param_mamTot_scenEraThree_Us_ensmean_timeAvg - param_mamTot_refPeriod_Us_ensmean_timeAvg)\n",
    "print(param_mamTot_scenEraThree_pDiff_Us_ensmean_timeAvg.shape)"
   ]
  },
  {
   "cell_type": "code",
   "execution_count": null,
   "metadata": {},
   "outputs": [],
   "source": []
  },
  {
   "cell_type": "markdown",
   "metadata": {},
   "source": [
    "## Basin Mask (MAM)"
   ]
  },
  {
   "cell_type": "markdown",
   "metadata": {},
   "source": [
    "## Writing in an Xarray Data array"
   ]
  },
  {
   "cell_type": "code",
   "execution_count": 43,
   "metadata": {},
   "outputs": [
    {
     "name": "stdout",
     "output_type": "stream",
     "text": [
      "32\n",
      "56\n"
     ]
    }
   ],
   "source": [
    "y_Us, x_Us = param_mamTot_scenEraOne_pDiff_Us_ensmean_timeAvg.shape             \n",
    "print(y_Us)\n",
    "print(x_Us)"
   ]
  },
  {
   "cell_type": "code",
   "execution_count": 44,
   "metadata": {},
   "outputs": [
    {
     "name": "stdout",
     "output_type": "stream",
     "text": [
      "(32, 56)\n",
      "<xarray.DataArray (Lat: 32, Lon: 56)>\n",
      "array([[  0.        ,   0.        ,   0.        , ...,   0.        ,\n",
      "          0.        ,   0.        ],\n",
      "       [  0.        ,   0.        ,   0.        , ...,   0.        ,\n",
      "          0.        ,   0.        ],\n",
      "       [  0.        ,   0.        ,   0.        , ...,   0.        ,\n",
      "          0.        ,   0.        ],\n",
      "       ...,\n",
      "       [  0.        ,  -0.33985914,  -1.3249967 , ..., -11.06618384,\n",
      "          0.72055314,   0.90807738],\n",
      "       [ -0.5337951 ,  -2.0921782 ,   0.20838199, ...,  -0.85976755,\n",
      "         -5.77312217, -17.04309113],\n",
      "       [ -2.44089019,  -0.50492387,   0.03182978, ...,  -0.24918127,\n",
      "         -0.03643447, -18.55722683]])\n",
      "Coordinates:\n",
      "  * Lat      (Lat) float32 24.97 25.92 26.86 27.8 ... 51.36 52.3 53.25 54.19\n",
      "  * Lon      (Lon) float32 230.0 231.2 232.5 233.8 ... 295.0 296.2 297.5 298.8\n"
     ]
    }
   ],
   "source": [
    "param_mamTot_scenEraOne_diff_Us_xarray = xr.DataArray(param_mamTot_scenEraOne_pDiff_Us_ensmean_timeAvg, coords=[latUs_cesm2, lonUs_cesm2 ], dims=[\"Lat\",\"Lon\"])\n",
    "print(param_mamTot_scenEraOne_diff_Us_xarray.shape)\n",
    "print(param_mamTot_scenEraOne_diff_Us_xarray)"
   ]
  },
  {
   "cell_type": "code",
   "execution_count": 45,
   "metadata": {},
   "outputs": [
    {
     "name": "stdout",
     "output_type": "stream",
     "text": [
      "(32, 56)\n",
      "<xarray.DataArray (Lat: 32, Lon: 56)>\n",
      "array([[  0.        ,   0.        ,   0.        , ...,   0.        ,\n",
      "          0.        ,   0.        ],\n",
      "       [  0.        ,   0.        ,   0.        , ...,   0.        ,\n",
      "          0.        ,   0.        ],\n",
      "       [  0.        ,   0.        ,   0.        , ...,   0.        ,\n",
      "          0.        ,   0.        ],\n",
      "       ...,\n",
      "       [  0.        ,  -0.42436702,  -3.13526745, ..., -16.52582647,\n",
      "          1.07722079,   1.32548938],\n",
      "       [ -0.69325883,  -4.11019921,  -0.52032009, ..., -17.42381192,\n",
      "        -19.5393456 , -17.39345068],\n",
      "       [ -4.8112809 ,  -1.5080886 ,  -0.59716711, ..., -13.68092932,\n",
      "        -13.45780233, -17.93155546]])\n",
      "Coordinates:\n",
      "  * Lat      (Lat) float32 24.97 25.92 26.86 27.8 ... 51.36 52.3 53.25 54.19\n",
      "  * Lon      (Lon) float32 230.0 231.2 232.5 233.8 ... 295.0 296.2 297.5 298.8\n"
     ]
    }
   ],
   "source": [
    "param_mamTot_scenEraTwo_diff_Us_xarray = xr.DataArray(param_mamTot_scenEraTwo_pDiff_Us_ensmean_timeAvg, coords=[latUs_cesm2, lonUs_cesm2 ], dims=[\"Lat\",\"Lon\"])\n",
    "\n",
    "print(param_mamTot_scenEraTwo_diff_Us_xarray.shape)\n",
    "print(param_mamTot_scenEraTwo_diff_Us_xarray)"
   ]
  },
  {
   "cell_type": "code",
   "execution_count": 46,
   "metadata": {},
   "outputs": [
    {
     "name": "stdout",
     "output_type": "stream",
     "text": [
      "(32, 56)\n",
      "<xarray.DataArray (Lat: 32, Lon: 56)>\n",
      "array([[ 0.00000000e+00,  0.00000000e+00,  0.00000000e+00, ...,\n",
      "         0.00000000e+00,  0.00000000e+00,  0.00000000e+00],\n",
      "       [ 0.00000000e+00,  0.00000000e+00,  0.00000000e+00, ...,\n",
      "         0.00000000e+00,  0.00000000e+00,  0.00000000e+00],\n",
      "       [ 0.00000000e+00,  0.00000000e+00,  0.00000000e+00, ...,\n",
      "         0.00000000e+00,  0.00000000e+00,  0.00000000e+00],\n",
      "       ...,\n",
      "       [ 0.00000000e+00, -5.00483514e-01, -4.63602579e+00, ...,\n",
      "        -1.71715819e+01,  3.09456152e-01,  7.59001561e-03],\n",
      "       [-8.33901760e-01, -5.54275951e+00, -1.94180742e+00, ...,\n",
      "        -1.85253167e+01, -1.95908969e+01, -1.80417482e+01],\n",
      "       [-6.50983283e+00, -3.19649645e+00, -1.55963679e+00, ...,\n",
      "        -1.65064958e+01, -1.67639845e+01, -1.76954032e+01]])\n",
      "Coordinates:\n",
      "  * Lat      (Lat) float32 24.97 25.92 26.86 27.8 ... 51.36 52.3 53.25 54.19\n",
      "  * Lon      (Lon) float32 230.0 231.2 232.5 233.8 ... 295.0 296.2 297.5 298.8\n"
     ]
    }
   ],
   "source": [
    "param_mamTot_scenEraThree_diff_Us_xarray = xr.DataArray(param_mamTot_scenEraThree_pDiff_Us_ensmean_timeAvg, coords=[latUs_cesm2, lonUs_cesm2 ], dims=[\"Lat\",\"Lon\"])\n",
    "\n",
    "print(param_mamTot_scenEraThree_diff_Us_xarray.shape)\n",
    "print(param_mamTot_scenEraThree_diff_Us_xarray)"
   ]
  },
  {
   "cell_type": "code",
   "execution_count": null,
   "metadata": {},
   "outputs": [],
   "source": []
  },
  {
   "cell_type": "markdown",
   "metadata": {},
   "source": [
    "## Masking files for the Basin Domain only"
   ]
  },
  {
   "cell_type": "markdown",
   "metadata": {},
   "source": [
    "### Mississippi"
   ]
  },
  {
   "cell_type": "code",
   "execution_count": 47,
   "metadata": {},
   "outputs": [
    {
     "name": "stdout",
     "output_type": "stream",
     "text": [
      "C:/rezaul/1.academic/1.research/2.project/mrb/dt/shapeFile/mask/mrb_us/mask_missiWri_us_CESM_longThree.nc\n"
     ]
    }
   ],
   "source": [
    "MaskFile_Missi_to_load = 'C:/rezaul/1.academic/1.research/2.project/mrb/dt/shapeFile/mask/mrb_us/mask_missiWri_us_CESM_longThree.nc'\n",
    "print(MaskFile_Missi_to_load)"
   ]
  },
  {
   "cell_type": "code",
   "execution_count": 48,
   "metadata": {},
   "outputs": [
    {
     "name": "stdout",
     "output_type": "stream",
     "text": [
      "<xarray.DataArray 'Mask' (Lat: 32, Lon: 56)>\n",
      "array([[0, 0, 0, ..., 0, 0, 0],\n",
      "       [0, 0, 0, ..., 0, 0, 0],\n",
      "       [0, 0, 0, ..., 0, 0, 0],\n",
      "       ...,\n",
      "       [0, 0, 0, ..., 0, 0, 0],\n",
      "       [0, 0, 0, ..., 0, 0, 0],\n",
      "       [0, 0, 0, ..., 0, 0, 0]])\n",
      "Coordinates:\n",
      "  * Lat      (Lat) float32 24.97 25.92 26.86 27.8 ... 51.36 52.3 53.25 54.19\n",
      "  * Lon      (Lon) float32 230.0 231.2 232.5 233.8 ... 295.0 296.2 297.5 298.8\n"
     ]
    },
    {
     "name": "stderr",
     "output_type": "stream",
     "text": [
      "C:\\Users\\muham\\anaconda3\\lib\\site-packages\\xarray\\backends\\plugins.py:61: RuntimeWarning: Engine 'rasterio' loading failed:\n",
      "DLL load failed while importing _base: The specified procedure could not be found.\n",
      "  warnings.warn(f\"Engine {name!r} loading failed:\\n{ex}\", RuntimeWarning)\n"
     ]
    }
   ],
   "source": [
    "MaskFile_Missi = xr.open_dataset(MaskFile_Missi_to_load)['Mask']\n",
    "print(MaskFile_Missi)"
   ]
  },
  {
   "cell_type": "code",
   "execution_count": 49,
   "metadata": {},
   "outputs": [
    {
     "name": "stdout",
     "output_type": "stream",
     "text": [
      "(32, 56)\n",
      "<xarray.DataArray (Lat: 32, Lon: 56)>\n",
      "array([[nan, nan, nan, ..., nan, nan, nan],\n",
      "       [nan, nan, nan, ..., nan, nan, nan],\n",
      "       [nan, nan, nan, ..., nan, nan, nan],\n",
      "       ...,\n",
      "       [nan, nan, nan, ..., nan, nan, nan],\n",
      "       [nan, nan, nan, ..., nan, nan, nan],\n",
      "       [nan, nan, nan, ..., nan, nan, nan]])\n",
      "Coordinates:\n",
      "  * Lat      (Lat) float32 24.97 25.92 26.86 27.8 ... 51.36 52.3 53.25 54.19\n",
      "  * Lon      (Lon) float32 230.0 231.2 232.5 233.8 ... 295.0 296.2 297.5 298.8\n"
     ]
    }
   ],
   "source": [
    "param_mamTot_scenEraOne_diff_masked_Missi = param_mamTot_scenEraOne_diff_Us_xarray.where(MaskFile_Missi>0)\n",
    "print(param_mamTot_scenEraOne_diff_masked_Missi.shape)\n",
    "print(param_mamTot_scenEraOne_diff_masked_Missi)"
   ]
  },
  {
   "cell_type": "code",
   "execution_count": 50,
   "metadata": {},
   "outputs": [
    {
     "name": "stdout",
     "output_type": "stream",
     "text": [
      "(32, 56)\n",
      "<xarray.DataArray (Lat: 32, Lon: 56)>\n",
      "array([[nan, nan, nan, ..., nan, nan, nan],\n",
      "       [nan, nan, nan, ..., nan, nan, nan],\n",
      "       [nan, nan, nan, ..., nan, nan, nan],\n",
      "       ...,\n",
      "       [nan, nan, nan, ..., nan, nan, nan],\n",
      "       [nan, nan, nan, ..., nan, nan, nan],\n",
      "       [nan, nan, nan, ..., nan, nan, nan]])\n",
      "Coordinates:\n",
      "  * Lat      (Lat) float32 24.97 25.92 26.86 27.8 ... 51.36 52.3 53.25 54.19\n",
      "  * Lon      (Lon) float32 230.0 231.2 232.5 233.8 ... 295.0 296.2 297.5 298.8\n"
     ]
    }
   ],
   "source": [
    "param_mamTot_scenEraTwo_diff_masked_Missi = param_mamTot_scenEraTwo_diff_Us_xarray.where(MaskFile_Missi>0)\n",
    "print(param_mamTot_scenEraTwo_diff_masked_Missi.shape)\n",
    "print(param_mamTot_scenEraTwo_diff_masked_Missi)"
   ]
  },
  {
   "cell_type": "code",
   "execution_count": 51,
   "metadata": {},
   "outputs": [
    {
     "name": "stdout",
     "output_type": "stream",
     "text": [
      "(32, 56)\n",
      "<xarray.DataArray (Lat: 32, Lon: 56)>\n",
      "array([[nan, nan, nan, ..., nan, nan, nan],\n",
      "       [nan, nan, nan, ..., nan, nan, nan],\n",
      "       [nan, nan, nan, ..., nan, nan, nan],\n",
      "       ...,\n",
      "       [nan, nan, nan, ..., nan, nan, nan],\n",
      "       [nan, nan, nan, ..., nan, nan, nan],\n",
      "       [nan, nan, nan, ..., nan, nan, nan]])\n",
      "Coordinates:\n",
      "  * Lat      (Lat) float32 24.97 25.92 26.86 27.8 ... 51.36 52.3 53.25 54.19\n",
      "  * Lon      (Lon) float32 230.0 231.2 232.5 233.8 ... 295.0 296.2 297.5 298.8\n"
     ]
    }
   ],
   "source": [
    "param_mamTot_scenEraThree_diff_masked_Missi = param_mamTot_scenEraThree_diff_Us_xarray.where(MaskFile_Missi>0)\n",
    "print(param_mamTot_scenEraThree_diff_masked_Missi.shape)\n",
    "print(param_mamTot_scenEraThree_diff_masked_Missi)"
   ]
  },
  {
   "cell_type": "code",
   "execution_count": null,
   "metadata": {},
   "outputs": [],
   "source": []
  },
  {
   "cell_type": "markdown",
   "metadata": {},
   "source": [
    "## Find max and min values"
   ]
  },
  {
   "cell_type": "code",
   "execution_count": 52,
   "metadata": {},
   "outputs": [
    {
     "name": "stdout",
     "output_type": "stream",
     "text": [
      "0.11850772009957211\n",
      "-2.972882065243194\n"
     ]
    }
   ],
   "source": [
    "maxVal_mamTot_diff_masked_scenEraOne = np.nanmax(param_mamTot_scenEraOne_diff_masked_Missi)\n",
    "print(maxVal_mamTot_diff_masked_scenEraOne)\n",
    "minVal_mamTot_diff_masked_scenEraOne = np.nanmin(param_mamTot_scenEraOne_diff_masked_Missi)\n",
    "print(minVal_mamTot_diff_masked_scenEraOne)"
   ]
  },
  {
   "cell_type": "code",
   "execution_count": 53,
   "metadata": {},
   "outputs": [
    {
     "name": "stdout",
     "output_type": "stream",
     "text": [
      "0.842953804439972\n",
      "-4.4464207683139385\n"
     ]
    }
   ],
   "source": [
    "maxVal_mamTot_diff_masked_scenEraTwo = np.nanmax(param_mamTot_scenEraTwo_diff_masked_Missi)\n",
    "print(maxVal_mamTot_diff_masked_scenEraTwo)\n",
    "minVal_mamTot_diff_masked_scenEraTwo = np.nanmin(param_mamTot_scenEraTwo_diff_masked_Missi)\n",
    "print(minVal_mamTot_diff_masked_scenEraTwo)"
   ]
  },
  {
   "cell_type": "code",
   "execution_count": 54,
   "metadata": {},
   "outputs": [
    {
     "name": "stdout",
     "output_type": "stream",
     "text": [
      "1.5788177896157407\n",
      "-5.33788058463529\n"
     ]
    }
   ],
   "source": [
    "maxVal_mamTot_diff_masked_scenEraThree = np.nanmax(param_mamTot_scenEraThree_diff_masked_Missi)\n",
    "print(maxVal_mamTot_diff_masked_scenEraThree)\n",
    "minVal_mamTot_diff_masked_scenEraThree = np.nanmin(param_mamTot_scenEraThree_diff_masked_Missi)\n",
    "print(minVal_mamTot_diff_masked_scenEraThree)"
   ]
  },
  {
   "cell_type": "code",
   "execution_count": null,
   "metadata": {},
   "outputs": [],
   "source": []
  },
  {
   "cell_type": "markdown",
   "metadata": {},
   "source": [
    "## Plotting"
   ]
  },
  {
   "cell_type": "code",
   "execution_count": 55,
   "metadata": {},
   "outputs": [
    {
     "name": "stdout",
     "output_type": "stream",
     "text": [
      "24.973822\n",
      "54.18848\n",
      "230.0\n",
      "298.75\n"
     ]
    }
   ],
   "source": [
    "\n",
    "latUsMin = lats_Us.min()     # = or = latsCfsDnSc\n",
    "print(latUsMin)\n",
    "\n",
    "latUsMax = lats_Us.max()\n",
    "print(latUsMax)\n",
    "\n",
    "lonUsMin = lons_Us.min()\n",
    "print(lonUsMin)\n",
    "\n",
    "lonUsMax = lons_Us.max()\n",
    "print(lonUsMax)"
   ]
  },
  {
   "cell_type": "code",
   "execution_count": 56,
   "metadata": {},
   "outputs": [
    {
     "name": "stdout",
     "output_type": "stream",
     "text": [
      "[230.0, 298.75, 24.973822, 54.18848]\n"
     ]
    }
   ],
   "source": [
    "extentUs = [lonUsMin, lonUsMax, latUsMin, latUsMax]\n",
    "print(extentUs)"
   ]
  },
  {
   "cell_type": "code",
   "execution_count": 57,
   "metadata": {},
   "outputs": [
    {
     "name": "stdout",
     "output_type": "stream",
     "text": [
      "[230.   231.25 232.5  233.75 235.   236.25 237.5  238.75 240.   241.25\n",
      " 242.5  243.75 245.   246.25 247.5  248.75 250.   251.25 252.5  253.75\n",
      " 255.   256.25 257.5  258.75 260.   261.25 262.5  263.75 265.   266.25\n",
      " 267.5  268.75 270.   271.25 272.5  273.75 275.   276.25 277.5  278.75\n",
      " 280.   281.25 282.5  283.75 285.   286.25 287.5  288.75 290.   291.25\n",
      " 292.5  293.75 295.   296.25 297.5  298.75]\n",
      "[24.97382164 25.91622999 26.85863833 27.80104668 28.74345503 29.68586337\n",
      " 30.62827172 31.57068006 32.51308841 33.45549676 34.3979051  35.34031345\n",
      " 36.2827218  37.22513014 38.16753849 39.10994684 40.05235518 40.99476353\n",
      " 41.93717187 42.87958022 43.82198857 44.76439691 45.70680526 46.64921361\n",
      " 47.59162195 48.5340303  49.47643865 50.41884699 51.36125534 52.30366368\n",
      " 53.24607203 54.18848038]\n"
     ]
    }
   ],
   "source": [
    "x_Us = linspace(lonUsMin, lonUsMax, x_Us)\n",
    "y_Us = linspace(latUsMin, latUsMax, y_Us)\n",
    "print(x_Us)\n",
    "print(y_Us)\n",
    "\n",
    "# Create the rectangular grid out of these values\n",
    "xx_Us, yy_Us = meshgrid(x_Us, y_Us)\n"
   ]
  },
  {
   "cell_type": "code",
   "execution_count": 58,
   "metadata": {},
   "outputs": [
    {
     "name": "stdout",
     "output_type": "stream",
     "text": [
      "-3.0\n",
      "1.0\n"
     ]
    }
   ],
   "source": [
    "vmin_mamTot_scenEraOne = np.floor(minVal_mamTot_diff_masked_scenEraOne)\n",
    "vmax_mamTot_scenEraOne = np.ceil(maxVal_mamTot_diff_masked_scenEraOne)\n",
    "print(vmin_mamTot_scenEraOne)\n",
    "print(vmax_mamTot_scenEraOne)"
   ]
  },
  {
   "cell_type": "code",
   "execution_count": 59,
   "metadata": {},
   "outputs": [
    {
     "name": "stdout",
     "output_type": "stream",
     "text": [
      "-5.0\n",
      "1.0\n"
     ]
    }
   ],
   "source": [
    "vmin_mamTot_scenEraTwo = np.floor(minVal_mamTot_diff_masked_scenEraTwo)\n",
    "vmax_mamTot_scenEraTwo = np.ceil(maxVal_mamTot_diff_masked_scenEraTwo)\n",
    "print(vmin_mamTot_scenEraTwo)\n",
    "print(vmax_mamTot_scenEraTwo)"
   ]
  },
  {
   "cell_type": "code",
   "execution_count": 60,
   "metadata": {},
   "outputs": [
    {
     "name": "stdout",
     "output_type": "stream",
     "text": [
      "-6.0\n",
      "2.0\n"
     ]
    }
   ],
   "source": [
    "vmin_mamTot_scenEraThree = np.floor(minVal_mamTot_diff_masked_scenEraThree)\n",
    "vmax_mamTot_scenEraThree = np.ceil(maxVal_mamTot_diff_masked_scenEraThree)\n",
    "print(vmin_mamTot_scenEraThree)\n",
    "print(vmax_mamTot_scenEraThree)"
   ]
  },
  {
   "cell_type": "code",
   "execution_count": 61,
   "metadata": {},
   "outputs": [
    {
     "name": "stdout",
     "output_type": "stream",
     "text": [
      "5\n"
     ]
    }
   ],
   "source": [
    "nDiv_mamTot_scenEraOne = int(vmax_mamTot_scenEraOne - vmin_mamTot_scenEraOne + 1)\n",
    "print(nDiv_mamTot_scenEraOne)"
   ]
  },
  {
   "cell_type": "code",
   "execution_count": 62,
   "metadata": {},
   "outputs": [
    {
     "name": "stdout",
     "output_type": "stream",
     "text": [
      "7\n"
     ]
    }
   ],
   "source": [
    "nDiv_mamTot_scenEraTwo = int(vmax_mamTot_scenEraTwo - vmin_mamTot_scenEraTwo + 1)\n",
    "print(nDiv_mamTot_scenEraTwo)"
   ]
  },
  {
   "cell_type": "code",
   "execution_count": 63,
   "metadata": {},
   "outputs": [
    {
     "name": "stdout",
     "output_type": "stream",
     "text": [
      "9\n"
     ]
    }
   ],
   "source": [
    "\n",
    "nDiv_mamTot_scenEraThree = int(vmax_mamTot_scenEraThree - vmin_mamTot_scenEraThree + 1)\n",
    "print(nDiv_mamTot_scenEraThree)\n"
   ]
  },
  {
   "cell_type": "code",
   "execution_count": null,
   "metadata": {},
   "outputs": [],
   "source": []
  },
  {
   "cell_type": "markdown",
   "metadata": {},
   "source": [
    "## JJA"
   ]
  },
  {
   "cell_type": "markdown",
   "metadata": {},
   "source": [
    "## ref Period"
   ]
  },
  {
   "cell_type": "code",
   "execution_count": 64,
   "metadata": {},
   "outputs": [],
   "source": [
    "jjaMonSt = 6\n",
    "jjaMonMid = 7\n",
    "jjaMonEnd = 8"
   ]
  },
  {
   "cell_type": "code",
   "execution_count": 65,
   "metadata": {},
   "outputs": [
    {
     "name": "stdout",
     "output_type": "stream",
     "text": [
      "(30, 32, 56)\n",
      "(30, 32, 56)\n",
      "(30, 32, 56)\n"
     ]
    }
   ],
   "source": [
    "\n",
    "param_jjaSt_refPeriod_Us_ensmean = param_refPeriod_Us_ensmean[jjaMonSt-1::nMonsPerYr]\n",
    "print(param_jjaSt_refPeriod_Us_ensmean.shape)\n",
    "\n",
    "param_jjaMid_refPeriod_Us_ensmean = param_refPeriod_Us_ensmean[jjaMonMid-1::nMonsPerYr]\n",
    "print(param_jjaMid_refPeriod_Us_ensmean.shape)\n",
    "\n",
    "param_jjaEnd_refPeriod_Us_ensmean = param_refPeriod_Us_ensmean[jjaMonEnd-1::nMonsPerYr]\n",
    "print(param_jjaEnd_refPeriod_Us_ensmean.shape)\n"
   ]
  },
  {
   "cell_type": "code",
   "execution_count": 66,
   "metadata": {},
   "outputs": [
    {
     "name": "stdout",
     "output_type": "stream",
     "text": [
      "(32, 56)\n",
      "(32, 56)\n",
      "(32, 56)\n"
     ]
    }
   ],
   "source": [
    "param_jjaSt_refPeriod_Us_ensmean_timeAvg = np.nanmean(param_jjaSt_refPeriod_Us_ensmean, axis = 0)\n",
    "print(param_jjaSt_refPeriod_Us_ensmean_timeAvg.shape)\n",
    "\n",
    "param_jjaMid_refPeriod_Us_ensmean_timeAvg = np.nanmean(param_jjaMid_refPeriod_Us_ensmean, axis = 0)\n",
    "print(param_jjaMid_refPeriod_Us_ensmean_timeAvg.shape)\n",
    "\n",
    "param_jjaEnd_refPeriod_Us_ensmean_timeAvg = np.nanmean(param_jjaEnd_refPeriod_Us_ensmean, axis = 0)\n",
    "print(param_jjaEnd_refPeriod_Us_ensmean_timeAvg.shape)\n"
   ]
  },
  {
   "cell_type": "code",
   "execution_count": 67,
   "metadata": {},
   "outputs": [
    {
     "name": "stdout",
     "output_type": "stream",
     "text": [
      "(32, 56)\n"
     ]
    }
   ],
   "source": [
    "param_jjaTot_refPeriod_Us_ensmean_timeAvg = (param_jjaSt_refPeriod_Us_ensmean_timeAvg+param_jjaMid_refPeriod_Us_ensmean_timeAvg+param_jjaEnd_refPeriod_Us_ensmean_timeAvg)/3\n",
    "print(param_jjaTot_refPeriod_Us_ensmean_timeAvg.shape)"
   ]
  },
  {
   "cell_type": "markdown",
   "metadata": {},
   "source": [
    "## Scen Era 1"
   ]
  },
  {
   "cell_type": "code",
   "execution_count": 68,
   "metadata": {},
   "outputs": [
    {
     "name": "stdout",
     "output_type": "stream",
     "text": [
      "(30, 32, 56)\n",
      "(30, 32, 56)\n",
      "(30, 32, 56)\n"
     ]
    }
   ],
   "source": [
    "\n",
    "param_jjaSt_scenEraOne_Us_ensmean = param_scenEraOne_Us_ensmean[jjaMonSt-1::nMonsPerYr]\n",
    "print(param_jjaSt_scenEraOne_Us_ensmean.shape)\n",
    "\n",
    "param_jjaMid_scenEraOne_Us_ensmean = param_scenEraOne_Us_ensmean[jjaMonMid-1::nMonsPerYr]\n",
    "print(param_jjaMid_scenEraOne_Us_ensmean.shape)\n",
    "\n",
    "param_jjaEnd_scenEraOne_Us_ensmean = param_scenEraOne_Us_ensmean[jjaMonEnd-1::nMonsPerYr]\n",
    "print(param_jjaEnd_scenEraOne_Us_ensmean.shape)\n"
   ]
  },
  {
   "cell_type": "code",
   "execution_count": 69,
   "metadata": {},
   "outputs": [
    {
     "name": "stdout",
     "output_type": "stream",
     "text": [
      "(32, 56)\n",
      "(32, 56)\n",
      "(32, 56)\n"
     ]
    }
   ],
   "source": [
    "param_jjaSt_scenEraOne_Us_ensmean_timeAvg = np.nanmean(param_jjaSt_scenEraOne_Us_ensmean, axis = 0)\n",
    "print(param_jjaSt_scenEraOne_Us_ensmean_timeAvg.shape)\n",
    "\n",
    "param_jjaMid_scenEraOne_Us_ensmean_timeAvg = np.nanmean(param_jjaMid_scenEraOne_Us_ensmean, axis = 0)\n",
    "print(param_jjaMid_scenEraOne_Us_ensmean_timeAvg.shape)\n",
    "\n",
    "param_jjaEnd_scenEraOne_Us_ensmean_timeAvg = np.nanmean(param_jjaEnd_scenEraOne_Us_ensmean, axis = 0)\n",
    "print(param_jjaEnd_scenEraOne_Us_ensmean_timeAvg.shape)\n"
   ]
  },
  {
   "cell_type": "code",
   "execution_count": 70,
   "metadata": {},
   "outputs": [
    {
     "name": "stdout",
     "output_type": "stream",
     "text": [
      "(32, 56)\n"
     ]
    }
   ],
   "source": [
    "param_jjaTot_scenEraOne_Us_ensmean_timeAvg = (param_jjaSt_scenEraOne_Us_ensmean_timeAvg+param_jjaMid_scenEraOne_Us_ensmean_timeAvg+param_jjaEnd_scenEraOne_Us_ensmean_timeAvg)/3\n",
    "print(param_jjaTot_scenEraOne_Us_ensmean_timeAvg.shape)\n"
   ]
  },
  {
   "cell_type": "markdown",
   "metadata": {},
   "source": [
    "## Scen Era 2\n"
   ]
  },
  {
   "cell_type": "code",
   "execution_count": 71,
   "metadata": {},
   "outputs": [
    {
     "name": "stdout",
     "output_type": "stream",
     "text": [
      "(30, 32, 56)\n",
      "(30, 32, 56)\n",
      "(30, 32, 56)\n"
     ]
    }
   ],
   "source": [
    "\n",
    "param_jjaSt_scenEraTwo_Us_ensmean = param_scenEraTwo_Us_ensmean[jjaMonSt-1::nMonsPerYr]\n",
    "print(param_jjaSt_scenEraTwo_Us_ensmean.shape)\n",
    "\n",
    "param_jjaMid_scenEraTwo_Us_ensmean = param_scenEraTwo_Us_ensmean[jjaMonMid-1::nMonsPerYr]\n",
    "print(param_jjaMid_scenEraTwo_Us_ensmean.shape)\n",
    "\n",
    "param_jjaEnd_scenEraTwo_Us_ensmean = param_scenEraTwo_Us_ensmean[jjaMonEnd-1::nMonsPerYr]\n",
    "print(param_jjaEnd_scenEraTwo_Us_ensmean.shape)\n"
   ]
  },
  {
   "cell_type": "code",
   "execution_count": 72,
   "metadata": {},
   "outputs": [
    {
     "name": "stdout",
     "output_type": "stream",
     "text": [
      "(32, 56)\n",
      "(32, 56)\n",
      "(32, 56)\n"
     ]
    }
   ],
   "source": [
    "param_jjaSt_scenEraTwo_Us_ensmean_timeAvg = np.nanmean(param_jjaSt_scenEraTwo_Us_ensmean, axis = 0)\n",
    "print(param_jjaSt_scenEraTwo_Us_ensmean_timeAvg.shape)\n",
    "\n",
    "param_jjaMid_scenEraTwo_Us_ensmean_timeAvg = np.nanmean(param_jjaMid_scenEraTwo_Us_ensmean, axis = 0)\n",
    "print(param_jjaMid_scenEraTwo_Us_ensmean_timeAvg.shape)\n",
    "\n",
    "param_jjaEnd_scenEraTwo_Us_ensmean_timeAvg = np.nanmean(param_jjaEnd_scenEraTwo_Us_ensmean, axis = 0)\n",
    "print(param_jjaEnd_scenEraTwo_Us_ensmean_timeAvg.shape)\n"
   ]
  },
  {
   "cell_type": "code",
   "execution_count": 73,
   "metadata": {},
   "outputs": [
    {
     "name": "stdout",
     "output_type": "stream",
     "text": [
      "(32, 56)\n"
     ]
    }
   ],
   "source": [
    "param_jjaTot_scenEraTwo_Us_ensmean_timeAvg = (param_jjaSt_scenEraTwo_Us_ensmean_timeAvg+param_jjaMid_scenEraTwo_Us_ensmean_timeAvg+param_jjaEnd_scenEraTwo_Us_ensmean_timeAvg)/3\n",
    "print(param_jjaTot_scenEraTwo_Us_ensmean_timeAvg.shape)\n"
   ]
  },
  {
   "cell_type": "markdown",
   "metadata": {},
   "source": [
    "## Scen Era 3"
   ]
  },
  {
   "cell_type": "code",
   "execution_count": 74,
   "metadata": {},
   "outputs": [
    {
     "name": "stdout",
     "output_type": "stream",
     "text": [
      "(26, 32, 56)\n",
      "(26, 32, 56)\n",
      "(26, 32, 56)\n"
     ]
    }
   ],
   "source": [
    "\n",
    "param_jjaSt_scenEraThree_Us_ensmean = param_scenEraThree_Us_ensmean[jjaMonSt-1::nMonsPerYr]\n",
    "print(param_jjaSt_scenEraThree_Us_ensmean.shape)\n",
    "\n",
    "param_jjaMid_scenEraThree_Us_ensmean = param_scenEraThree_Us_ensmean[jjaMonMid-1::nMonsPerYr]\n",
    "print(param_jjaMid_scenEraThree_Us_ensmean.shape)\n",
    "\n",
    "param_jjaEnd_scenEraThree_Us_ensmean = param_scenEraThree_Us_ensmean[jjaMonEnd-1::nMonsPerYr]\n",
    "print(param_jjaEnd_scenEraThree_Us_ensmean.shape)\n"
   ]
  },
  {
   "cell_type": "code",
   "execution_count": 75,
   "metadata": {},
   "outputs": [
    {
     "name": "stdout",
     "output_type": "stream",
     "text": [
      "(32, 56)\n",
      "(32, 56)\n",
      "(32, 56)\n"
     ]
    }
   ],
   "source": [
    "param_jjaSt_scenEraThree_Us_ensmean_timeAvg = np.nanmean(param_jjaSt_scenEraThree_Us_ensmean, axis = 0)\n",
    "print(param_jjaSt_scenEraThree_Us_ensmean_timeAvg.shape)\n",
    "\n",
    "param_jjaMid_scenEraThree_Us_ensmean_timeAvg = np.nanmean(param_jjaMid_scenEraThree_Us_ensmean, axis = 0)\n",
    "print(param_jjaMid_scenEraThree_Us_ensmean_timeAvg.shape)\n",
    "\n",
    "param_jjaEnd_scenEraThree_Us_ensmean_timeAvg = np.nanmean(param_jjaEnd_scenEraThree_Us_ensmean, axis = 0)\n",
    "print(param_jjaEnd_scenEraThree_Us_ensmean_timeAvg.shape)\n"
   ]
  },
  {
   "cell_type": "code",
   "execution_count": 76,
   "metadata": {},
   "outputs": [
    {
     "name": "stdout",
     "output_type": "stream",
     "text": [
      "(32, 56)\n"
     ]
    }
   ],
   "source": [
    "param_jjaTot_scenEraThree_Us_ensmean_timeAvg = (param_jjaSt_scenEraThree_Us_ensmean_timeAvg+param_jjaMid_scenEraThree_Us_ensmean_timeAvg+param_jjaEnd_scenEraThree_Us_ensmean_timeAvg)/3\n",
    "print(param_jjaTot_scenEraThree_Us_ensmean_timeAvg.shape)\n"
   ]
  },
  {
   "cell_type": "code",
   "execution_count": null,
   "metadata": {},
   "outputs": [],
   "source": []
  },
  {
   "cell_type": "markdown",
   "metadata": {},
   "source": [
    "## Differences at the three Eras"
   ]
  },
  {
   "cell_type": "code",
   "execution_count": 77,
   "metadata": {},
   "outputs": [
    {
     "name": "stdout",
     "output_type": "stream",
     "text": [
      "(32, 56)\n"
     ]
    }
   ],
   "source": [
    "param_jjaTot_scenEraOne_pDiff_Us_ensmean_timeAvg = (param_jjaTot_scenEraOne_Us_ensmean_timeAvg - param_jjaTot_refPeriod_Us_ensmean_timeAvg)\n",
    "print(param_jjaTot_scenEraOne_pDiff_Us_ensmean_timeAvg.shape)"
   ]
  },
  {
   "cell_type": "code",
   "execution_count": 78,
   "metadata": {},
   "outputs": [
    {
     "name": "stdout",
     "output_type": "stream",
     "text": [
      "(32, 56)\n"
     ]
    }
   ],
   "source": [
    "param_jjaTot_scenEraTwo_pDiff_Us_ensmean_timeAvg = (param_jjaTot_scenEraTwo_Us_ensmean_timeAvg - param_jjaTot_refPeriod_Us_ensmean_timeAvg)\n",
    "print(param_jjaTot_scenEraTwo_pDiff_Us_ensmean_timeAvg.shape)"
   ]
  },
  {
   "cell_type": "code",
   "execution_count": 79,
   "metadata": {},
   "outputs": [
    {
     "name": "stdout",
     "output_type": "stream",
     "text": [
      "(32, 56)\n"
     ]
    }
   ],
   "source": [
    "param_jjaTot_scenEraThree_pDiff_Us_ensmean_timeAvg = (param_jjaTot_scenEraThree_Us_ensmean_timeAvg - param_jjaTot_refPeriod_Us_ensmean_timeAvg)\n",
    "print(param_jjaTot_scenEraThree_pDiff_Us_ensmean_timeAvg.shape)\n"
   ]
  },
  {
   "cell_type": "code",
   "execution_count": null,
   "metadata": {},
   "outputs": [],
   "source": []
  },
  {
   "cell_type": "markdown",
   "metadata": {},
   "source": [
    "## Basin Mask (JJA)"
   ]
  },
  {
   "cell_type": "markdown",
   "metadata": {},
   "source": [
    "## Writing in an Xarray Data array"
   ]
  },
  {
   "cell_type": "code",
   "execution_count": 80,
   "metadata": {},
   "outputs": [
    {
     "name": "stdout",
     "output_type": "stream",
     "text": [
      "(32, 56)\n",
      "<xarray.DataArray (Lat: 32, Lon: 56)>\n",
      "array([[  0.        ,   0.        ,   0.        , ...,   0.        ,\n",
      "          0.        ,   0.        ],\n",
      "       [  0.        ,   0.        ,   0.        , ...,   0.        ,\n",
      "          0.        ,   0.        ],\n",
      "       [  0.        ,   0.        ,   0.        , ...,   0.        ,\n",
      "          0.        ,   0.        ],\n",
      "       ...,\n",
      "       [  0.        ,  -0.29282127,  -2.4863116 , ..., -18.53993443,\n",
      "         -4.83487791,  -7.8564566 ],\n",
      "       [ -0.14963412,  -1.12779729,  -3.08521513, ...,  -5.91523382,\n",
      "        -11.02637085, -20.29465289],\n",
      "       [ -0.65587513,  -1.56850888,  -1.28522087, ...,  -1.20006137,\n",
      "         -4.08043496, -18.84051853]])\n",
      "Coordinates:\n",
      "  * Lat      (Lat) float32 24.97 25.92 26.86 27.8 ... 51.36 52.3 53.25 54.19\n",
      "  * Lon      (Lon) float32 230.0 231.2 232.5 233.8 ... 295.0 296.2 297.5 298.8\n"
     ]
    }
   ],
   "source": [
    "param_jjaTot_scenEraOne_diff_Us_xarray = xr.DataArray(param_jjaTot_scenEraOne_pDiff_Us_ensmean_timeAvg, coords=[latUs_cesm2, lonUs_cesm2 ], dims=[\"Lat\",\"Lon\"])\n",
    "                                                      \n",
    "print(param_jjaTot_scenEraOne_diff_Us_xarray.shape)\n",
    "print(param_jjaTot_scenEraOne_diff_Us_xarray)"
   ]
  },
  {
   "cell_type": "code",
   "execution_count": 81,
   "metadata": {},
   "outputs": [
    {
     "name": "stdout",
     "output_type": "stream",
     "text": [
      "(32, 56)\n",
      "<xarray.DataArray (Lat: 32, Lon: 56)>\n",
      "array([[  0.        ,   0.        ,   0.        , ...,   0.        ,\n",
      "          0.        ,   0.        ],\n",
      "       [  0.        ,   0.        ,   0.        , ...,   0.        ,\n",
      "          0.        ,   0.        ],\n",
      "       [  0.        ,   0.        ,   0.        , ...,   0.        ,\n",
      "          0.        ,   0.        ],\n",
      "       ...,\n",
      "       [  0.        ,  -0.54379415,  -4.17840976, ..., -28.73557213,\n",
      "         -7.38110946, -11.95565577],\n",
      "       [ -0.38249476,  -2.06412675,  -5.60219758, ..., -28.02896785,\n",
      "        -26.75290006, -23.62424114],\n",
      "       [ -1.36542169,  -2.93148679,  -2.41296812, ..., -15.28410236,\n",
      "        -22.98490572, -23.32525802]])\n",
      "Coordinates:\n",
      "  * Lat      (Lat) float32 24.97 25.92 26.86 27.8 ... 51.36 52.3 53.25 54.19\n",
      "  * Lon      (Lon) float32 230.0 231.2 232.5 233.8 ... 295.0 296.2 297.5 298.8\n"
     ]
    }
   ],
   "source": [
    "param_jjaTot_scenEraTwo_diff_Us_xarray = xr.DataArray(param_jjaTot_scenEraTwo_pDiff_Us_ensmean_timeAvg, coords=[latUs_cesm2, lonUs_cesm2 ], dims=[\"Lat\",\"Lon\"])\n",
    "                                                      \n",
    "print(param_jjaTot_scenEraTwo_diff_Us_xarray.shape)\n",
    "print(param_jjaTot_scenEraTwo_diff_Us_xarray)"
   ]
  },
  {
   "cell_type": "code",
   "execution_count": 82,
   "metadata": {},
   "outputs": [
    {
     "name": "stdout",
     "output_type": "stream",
     "text": [
      "(32, 56)\n",
      "<xarray.DataArray (Lat: 32, Lon: 56)>\n",
      "array([[  0.        ,   0.        ,   0.        , ...,   0.        ,\n",
      "          0.        ,   0.        ],\n",
      "       [  0.        ,   0.        ,   0.        , ...,   0.        ,\n",
      "          0.        ,   0.        ],\n",
      "       [  0.        ,   0.        ,   0.        , ...,   0.        ,\n",
      "          0.        ,   0.        ],\n",
      "       ...,\n",
      "       [  0.        ,  -0.75239444,  -5.13067568, ..., -32.78595743,\n",
      "         -9.82086377, -15.74820564],\n",
      "       [ -0.56491141,  -2.7430128 ,  -7.25342582, ..., -36.13450364,\n",
      "        -30.52340075, -26.70972238],\n",
      "       [ -1.91293449,  -3.87040306,  -3.28412386, ..., -22.56779417,\n",
      "        -34.87360068, -28.28333672]])\n",
      "Coordinates:\n",
      "  * Lat      (Lat) float32 24.97 25.92 26.86 27.8 ... 51.36 52.3 53.25 54.19\n",
      "  * Lon      (Lon) float32 230.0 231.2 232.5 233.8 ... 295.0 296.2 297.5 298.8\n"
     ]
    }
   ],
   "source": [
    "param_jjaTot_scenEraThree_diff_Us_xarray = xr.DataArray(param_jjaTot_scenEraThree_pDiff_Us_ensmean_timeAvg, coords=[latUs_cesm2, lonUs_cesm2 ], dims=[\"Lat\",\"Lon\"])\n",
    "                                                      \n",
    "print(param_jjaTot_scenEraThree_diff_Us_xarray.shape)\n",
    "print(param_jjaTot_scenEraThree_diff_Us_xarray)"
   ]
  },
  {
   "cell_type": "code",
   "execution_count": null,
   "metadata": {},
   "outputs": [],
   "source": []
  },
  {
   "cell_type": "markdown",
   "metadata": {},
   "source": [
    "## Masking files for the Basin Domain only"
   ]
  },
  {
   "cell_type": "markdown",
   "metadata": {},
   "source": [
    "### Mississippi"
   ]
  },
  {
   "cell_type": "code",
   "execution_count": 83,
   "metadata": {},
   "outputs": [
    {
     "name": "stdout",
     "output_type": "stream",
     "text": [
      "(32, 56)\n",
      "<xarray.DataArray (Lat: 32, Lon: 56)>\n",
      "array([[nan, nan, nan, ..., nan, nan, nan],\n",
      "       [nan, nan, nan, ..., nan, nan, nan],\n",
      "       [nan, nan, nan, ..., nan, nan, nan],\n",
      "       ...,\n",
      "       [nan, nan, nan, ..., nan, nan, nan],\n",
      "       [nan, nan, nan, ..., nan, nan, nan],\n",
      "       [nan, nan, nan, ..., nan, nan, nan]])\n",
      "Coordinates:\n",
      "  * Lat      (Lat) float32 24.97 25.92 26.86 27.8 ... 51.36 52.3 53.25 54.19\n",
      "  * Lon      (Lon) float32 230.0 231.2 232.5 233.8 ... 295.0 296.2 297.5 298.8\n"
     ]
    }
   ],
   "source": [
    "param_jjaTot_scenEraOne_diff_masked_Missi = param_jjaTot_scenEraOne_diff_Us_xarray.where(MaskFile_Missi>0)\n",
    "print(param_jjaTot_scenEraOne_diff_masked_Missi.shape)\n",
    "print(param_jjaTot_scenEraOne_diff_masked_Missi)"
   ]
  },
  {
   "cell_type": "code",
   "execution_count": 84,
   "metadata": {},
   "outputs": [
    {
     "name": "stdout",
     "output_type": "stream",
     "text": [
      "(32, 56)\n",
      "<xarray.DataArray (Lat: 32, Lon: 56)>\n",
      "array([[nan, nan, nan, ..., nan, nan, nan],\n",
      "       [nan, nan, nan, ..., nan, nan, nan],\n",
      "       [nan, nan, nan, ..., nan, nan, nan],\n",
      "       ...,\n",
      "       [nan, nan, nan, ..., nan, nan, nan],\n",
      "       [nan, nan, nan, ..., nan, nan, nan],\n",
      "       [nan, nan, nan, ..., nan, nan, nan]])\n",
      "Coordinates:\n",
      "  * Lat      (Lat) float32 24.97 25.92 26.86 27.8 ... 51.36 52.3 53.25 54.19\n",
      "  * Lon      (Lon) float32 230.0 231.2 232.5 233.8 ... 295.0 296.2 297.5 298.8\n"
     ]
    }
   ],
   "source": [
    "param_jjaTot_scenEraTwo_diff_masked_Missi = param_jjaTot_scenEraTwo_diff_Us_xarray.where(MaskFile_Missi>0)\n",
    "print(param_jjaTot_scenEraTwo_diff_masked_Missi.shape)\n",
    "print(param_jjaTot_scenEraTwo_diff_masked_Missi)"
   ]
  },
  {
   "cell_type": "code",
   "execution_count": 85,
   "metadata": {},
   "outputs": [
    {
     "name": "stdout",
     "output_type": "stream",
     "text": [
      "(32, 56)\n",
      "<xarray.DataArray (Lat: 32, Lon: 56)>\n",
      "array([[nan, nan, nan, ..., nan, nan, nan],\n",
      "       [nan, nan, nan, ..., nan, nan, nan],\n",
      "       [nan, nan, nan, ..., nan, nan, nan],\n",
      "       ...,\n",
      "       [nan, nan, nan, ..., nan, nan, nan],\n",
      "       [nan, nan, nan, ..., nan, nan, nan],\n",
      "       [nan, nan, nan, ..., nan, nan, nan]])\n",
      "Coordinates:\n",
      "  * Lat      (Lat) float32 24.97 25.92 26.86 27.8 ... 51.36 52.3 53.25 54.19\n",
      "  * Lon      (Lon) float32 230.0 231.2 232.5 233.8 ... 295.0 296.2 297.5 298.8\n"
     ]
    }
   ],
   "source": [
    "param_jjaTot_scenEraThree_diff_masked_Missi = param_jjaTot_scenEraThree_diff_Us_xarray.where(MaskFile_Missi>0)\n",
    "print(param_jjaTot_scenEraThree_diff_masked_Missi.shape)\n",
    "print(param_jjaTot_scenEraThree_diff_masked_Missi)"
   ]
  },
  {
   "cell_type": "code",
   "execution_count": null,
   "metadata": {},
   "outputs": [],
   "source": []
  },
  {
   "cell_type": "markdown",
   "metadata": {},
   "source": [
    "## Find max and min values"
   ]
  },
  {
   "cell_type": "code",
   "execution_count": 86,
   "metadata": {},
   "outputs": [
    {
     "name": "stdout",
     "output_type": "stream",
     "text": [
      "1.3081532351175866\n",
      "-3.451391632503938\n"
     ]
    }
   ],
   "source": [
    "maxVal_jjaTot_diff_masked_scenEraOne = np.nanmax(param_jjaTot_scenEraOne_diff_masked_Missi)\n",
    "print(maxVal_jjaTot_diff_masked_scenEraOne)\n",
    "minVal_jjaTot_diff_masked_scenEraOne = np.nanmin(param_jjaTot_scenEraOne_diff_masked_Missi)\n",
    "print(minVal_jjaTot_diff_masked_scenEraOne)"
   ]
  },
  {
   "cell_type": "code",
   "execution_count": 87,
   "metadata": {},
   "outputs": [
    {
     "name": "stdout",
     "output_type": "stream",
     "text": [
      "1.867835587395561\n",
      "-5.41612370618185\n"
     ]
    }
   ],
   "source": [
    "maxVal_jjaTot_diff_masked_scenEraTwo = np.nanmax(param_jjaTot_scenEraTwo_diff_masked_Missi)\n",
    "print(maxVal_jjaTot_diff_masked_scenEraTwo)\n",
    "minVal_jjaTot_diff_masked_scenEraTwo = np.nanmin(param_jjaTot_scenEraTwo_diff_masked_Missi)\n",
    "print(minVal_jjaTot_diff_masked_scenEraTwo)"
   ]
  },
  {
   "cell_type": "code",
   "execution_count": 88,
   "metadata": {},
   "outputs": [
    {
     "name": "stdout",
     "output_type": "stream",
     "text": [
      "2.034810592455738\n",
      "-7.878598794708907\n"
     ]
    }
   ],
   "source": [
    "maxVal_jjaTot_diff_masked_scenEraThree = np.nanmax(param_jjaTot_scenEraThree_diff_masked_Missi)\n",
    "print(maxVal_jjaTot_diff_masked_scenEraThree)\n",
    "minVal_jjaTot_diff_masked_scenEraThree = np.nanmin(param_jjaTot_scenEraThree_diff_masked_Missi)\n",
    "print(minVal_jjaTot_diff_masked_scenEraThree)"
   ]
  },
  {
   "cell_type": "code",
   "execution_count": 89,
   "metadata": {},
   "outputs": [
    {
     "name": "stdout",
     "output_type": "stream",
     "text": [
      "-8.0\n",
      "3.0\n"
     ]
    }
   ],
   "source": [
    "vmin_jjaTot_scenEraThree = np.floor(minVal_jjaTot_diff_masked_scenEraThree)\n",
    "vmax_jjaTot_scenEraThree = np.ceil(maxVal_jjaTot_diff_masked_scenEraThree)\n",
    "print(vmin_jjaTot_scenEraThree)\n",
    "print(vmax_jjaTot_scenEraThree)"
   ]
  },
  {
   "cell_type": "code",
   "execution_count": 90,
   "metadata": {},
   "outputs": [
    {
     "name": "stdout",
     "output_type": "stream",
     "text": [
      "12\n"
     ]
    }
   ],
   "source": [
    "nDiv_jjaTot_scenEraThree = int(vmax_jjaTot_scenEraThree - vmin_jjaTot_scenEraThree + 1)\n",
    "print(nDiv_jjaTot_scenEraThree)"
   ]
  },
  {
   "cell_type": "code",
   "execution_count": null,
   "metadata": {},
   "outputs": [],
   "source": []
  },
  {
   "cell_type": "code",
   "execution_count": null,
   "metadata": {},
   "outputs": [],
   "source": []
  },
  {
   "cell_type": "markdown",
   "metadata": {},
   "source": [
    "## SON"
   ]
  },
  {
   "cell_type": "markdown",
   "metadata": {},
   "source": [
    "## ref Period\n"
   ]
  },
  {
   "cell_type": "code",
   "execution_count": 91,
   "metadata": {},
   "outputs": [],
   "source": [
    "sonMonSt = 9\n",
    "sonMonMid = 10\n",
    "sonMonEnd = 11"
   ]
  },
  {
   "cell_type": "code",
   "execution_count": 92,
   "metadata": {},
   "outputs": [
    {
     "name": "stdout",
     "output_type": "stream",
     "text": [
      "(30, 32, 56)\n",
      "(30, 32, 56)\n",
      "(30, 32, 56)\n"
     ]
    }
   ],
   "source": [
    "\n",
    "param_sonSt_refPeriod_Us_ensmean = param_refPeriod_Us_ensmean[sonMonSt-1::nMonsPerYr]\n",
    "print(param_sonSt_refPeriod_Us_ensmean.shape)\n",
    "\n",
    "param_sonMid_refPeriod_Us_ensmean = param_refPeriod_Us_ensmean[sonMonMid-1::nMonsPerYr]\n",
    "print(param_sonMid_refPeriod_Us_ensmean.shape)\n",
    "\n",
    "param_sonEnd_refPeriod_Us_ensmean = param_refPeriod_Us_ensmean[sonMonEnd-1::nMonsPerYr]\n",
    "print(param_sonEnd_refPeriod_Us_ensmean.shape)\n"
   ]
  },
  {
   "cell_type": "code",
   "execution_count": 93,
   "metadata": {},
   "outputs": [
    {
     "name": "stdout",
     "output_type": "stream",
     "text": [
      "(32, 56)\n",
      "(32, 56)\n",
      "(32, 56)\n"
     ]
    }
   ],
   "source": [
    "param_sonSt_refPeriod_Us_ensmean_timeAvg = np.nanmean(param_sonSt_refPeriod_Us_ensmean, axis = 0)\n",
    "print(param_sonSt_refPeriod_Us_ensmean_timeAvg.shape)\n",
    "\n",
    "param_sonMid_refPeriod_Us_ensmean_timeAvg = np.nanmean(param_sonMid_refPeriod_Us_ensmean, axis = 0)\n",
    "print(param_sonMid_refPeriod_Us_ensmean_timeAvg.shape)\n",
    "\n",
    "param_sonEnd_refPeriod_Us_ensmean_timeAvg = np.nanmean(param_sonEnd_refPeriod_Us_ensmean, axis = 0)\n",
    "print(param_sonEnd_refPeriod_Us_ensmean_timeAvg.shape)\n"
   ]
  },
  {
   "cell_type": "code",
   "execution_count": 94,
   "metadata": {},
   "outputs": [
    {
     "name": "stdout",
     "output_type": "stream",
     "text": [
      "(32, 56)\n"
     ]
    }
   ],
   "source": [
    "param_sonTot_refPeriod_Us_ensmean_timeAvg = (param_sonSt_refPeriod_Us_ensmean_timeAvg+param_sonMid_refPeriod_Us_ensmean_timeAvg+param_sonEnd_refPeriod_Us_ensmean_timeAvg)/3\n",
    "print(param_sonTot_refPeriod_Us_ensmean_timeAvg.shape)"
   ]
  },
  {
   "cell_type": "markdown",
   "metadata": {},
   "source": [
    "## Scen Era 1"
   ]
  },
  {
   "cell_type": "code",
   "execution_count": 95,
   "metadata": {},
   "outputs": [
    {
     "name": "stdout",
     "output_type": "stream",
     "text": [
      "(30, 32, 56)\n",
      "(30, 32, 56)\n",
      "(30, 32, 56)\n"
     ]
    }
   ],
   "source": [
    "\n",
    "param_sonSt_scenEraOne_Us_ensmean = param_scenEraOne_Us_ensmean[sonMonSt-1::nMonsPerYr]\n",
    "print(param_sonSt_scenEraOne_Us_ensmean.shape)\n",
    "\n",
    "param_sonMid_scenEraOne_Us_ensmean = param_scenEraOne_Us_ensmean[sonMonMid-1::nMonsPerYr]\n",
    "print(param_sonMid_scenEraOne_Us_ensmean.shape)\n",
    "\n",
    "param_sonEnd_scenEraOne_Us_ensmean = param_scenEraOne_Us_ensmean[sonMonEnd-1::nMonsPerYr]\n",
    "print(param_sonEnd_scenEraOne_Us_ensmean.shape)\n"
   ]
  },
  {
   "cell_type": "code",
   "execution_count": 96,
   "metadata": {},
   "outputs": [
    {
     "name": "stdout",
     "output_type": "stream",
     "text": [
      "(32, 56)\n",
      "(32, 56)\n",
      "(32, 56)\n"
     ]
    }
   ],
   "source": [
    "param_sonSt_scenEraOne_Us_ensmean_timeAvg = np.nanmean(param_sonSt_scenEraOne_Us_ensmean, axis = 0)\n",
    "print(param_sonSt_scenEraOne_Us_ensmean_timeAvg.shape)\n",
    "\n",
    "param_sonMid_scenEraOne_Us_ensmean_timeAvg = np.nanmean(param_sonMid_scenEraOne_Us_ensmean, axis = 0)\n",
    "print(param_sonMid_scenEraOne_Us_ensmean_timeAvg.shape)\n",
    "\n",
    "param_sonEnd_scenEraOne_Us_ensmean_timeAvg = np.nanmean(param_sonEnd_scenEraOne_Us_ensmean, axis = 0)\n",
    "print(param_sonEnd_scenEraOne_Us_ensmean_timeAvg.shape)\n"
   ]
  },
  {
   "cell_type": "code",
   "execution_count": 97,
   "metadata": {},
   "outputs": [
    {
     "name": "stdout",
     "output_type": "stream",
     "text": [
      "(32, 56)\n"
     ]
    }
   ],
   "source": [
    "param_sonTot_scenEraOne_Us_ensmean_timeAvg = (param_sonSt_scenEraOne_Us_ensmean_timeAvg+param_sonMid_scenEraOne_Us_ensmean_timeAvg+param_sonEnd_scenEraOne_Us_ensmean_timeAvg)/3\n",
    "print(param_sonTot_scenEraOne_Us_ensmean_timeAvg.shape)\n"
   ]
  },
  {
   "cell_type": "markdown",
   "metadata": {},
   "source": [
    "## Scen Era 2"
   ]
  },
  {
   "cell_type": "code",
   "execution_count": 98,
   "metadata": {},
   "outputs": [
    {
     "name": "stdout",
     "output_type": "stream",
     "text": [
      "(30, 32, 56)\n",
      "(30, 32, 56)\n",
      "(30, 32, 56)\n"
     ]
    }
   ],
   "source": [
    "\n",
    "param_sonSt_scenEraTwo_Us_ensmean = param_scenEraTwo_Us_ensmean[sonMonSt-1::nMonsPerYr]\n",
    "print(param_sonSt_scenEraTwo_Us_ensmean.shape)\n",
    "\n",
    "param_sonMid_scenEraTwo_Us_ensmean = param_scenEraTwo_Us_ensmean[sonMonMid-1::nMonsPerYr]\n",
    "print(param_sonMid_scenEraTwo_Us_ensmean.shape)\n",
    "\n",
    "param_sonEnd_scenEraTwo_Us_ensmean = param_scenEraTwo_Us_ensmean[sonMonEnd-1::nMonsPerYr]\n",
    "print(param_sonEnd_scenEraTwo_Us_ensmean.shape)\n"
   ]
  },
  {
   "cell_type": "code",
   "execution_count": 99,
   "metadata": {},
   "outputs": [
    {
     "name": "stdout",
     "output_type": "stream",
     "text": [
      "(32, 56)\n",
      "(32, 56)\n",
      "(32, 56)\n"
     ]
    }
   ],
   "source": [
    "param_sonSt_scenEraTwo_Us_ensmean_timeAvg = np.nanmean(param_sonSt_scenEraTwo_Us_ensmean, axis = 0)\n",
    "print(param_sonSt_scenEraTwo_Us_ensmean_timeAvg.shape)\n",
    "\n",
    "param_sonMid_scenEraTwo_Us_ensmean_timeAvg = np.nanmean(param_sonMid_scenEraTwo_Us_ensmean, axis = 0)\n",
    "print(param_sonMid_scenEraTwo_Us_ensmean_timeAvg.shape)\n",
    "\n",
    "param_sonEnd_scenEraTwo_Us_ensmean_timeAvg = np.nanmean(param_sonEnd_scenEraTwo_Us_ensmean, axis = 0)\n",
    "print(param_sonEnd_scenEraTwo_Us_ensmean_timeAvg.shape)\n"
   ]
  },
  {
   "cell_type": "code",
   "execution_count": 100,
   "metadata": {},
   "outputs": [
    {
     "name": "stdout",
     "output_type": "stream",
     "text": [
      "(32, 56)\n"
     ]
    }
   ],
   "source": [
    "param_sonTot_scenEraTwo_Us_ensmean_timeAvg = (param_sonSt_scenEraTwo_Us_ensmean_timeAvg+param_sonMid_scenEraTwo_Us_ensmean_timeAvg+param_sonEnd_scenEraTwo_Us_ensmean_timeAvg)/3\n",
    "print(param_sonTot_scenEraTwo_Us_ensmean_timeAvg.shape)\n"
   ]
  },
  {
   "cell_type": "markdown",
   "metadata": {},
   "source": [
    "## Scen Era 3"
   ]
  },
  {
   "cell_type": "code",
   "execution_count": 101,
   "metadata": {},
   "outputs": [
    {
     "name": "stdout",
     "output_type": "stream",
     "text": [
      "(26, 32, 56)\n",
      "(26, 32, 56)\n",
      "(26, 32, 56)\n"
     ]
    }
   ],
   "source": [
    "\n",
    "param_sonSt_scenEraThree_Us_ensmean = param_scenEraThree_Us_ensmean[sonMonSt-1::nMonsPerYr]\n",
    "print(param_sonSt_scenEraThree_Us_ensmean.shape)\n",
    "\n",
    "param_sonMid_scenEraThree_Us_ensmean = param_scenEraThree_Us_ensmean[sonMonMid-1::nMonsPerYr]\n",
    "print(param_sonMid_scenEraThree_Us_ensmean.shape)\n",
    "\n",
    "param_sonEnd_scenEraThree_Us_ensmean = param_scenEraThree_Us_ensmean[sonMonEnd-1::nMonsPerYr]\n",
    "print(param_sonEnd_scenEraThree_Us_ensmean.shape)\n"
   ]
  },
  {
   "cell_type": "code",
   "execution_count": 102,
   "metadata": {},
   "outputs": [
    {
     "name": "stdout",
     "output_type": "stream",
     "text": [
      "(32, 56)\n",
      "(32, 56)\n",
      "(32, 56)\n"
     ]
    }
   ],
   "source": [
    "param_sonSt_scenEraThree_Us_ensmean_timeAvg = np.nanmean(param_sonSt_scenEraThree_Us_ensmean, axis = 0)\n",
    "print(param_sonSt_scenEraThree_Us_ensmean_timeAvg.shape)\n",
    "\n",
    "param_sonMid_scenEraThree_Us_ensmean_timeAvg = np.nanmean(param_sonMid_scenEraThree_Us_ensmean, axis = 0)\n",
    "print(param_sonMid_scenEraThree_Us_ensmean_timeAvg.shape)\n",
    "\n",
    "param_sonEnd_scenEraThree_Us_ensmean_timeAvg = np.nanmean(param_sonEnd_scenEraThree_Us_ensmean, axis = 0)\n",
    "print(param_sonEnd_scenEraThree_Us_ensmean_timeAvg.shape)\n"
   ]
  },
  {
   "cell_type": "code",
   "execution_count": 103,
   "metadata": {},
   "outputs": [
    {
     "name": "stdout",
     "output_type": "stream",
     "text": [
      "(32, 56)\n"
     ]
    }
   ],
   "source": [
    "param_sonTot_scenEraThree_Us_ensmean_timeAvg = (param_sonSt_scenEraThree_Us_ensmean_timeAvg+param_sonMid_scenEraThree_Us_ensmean_timeAvg+param_sonEnd_scenEraThree_Us_ensmean_timeAvg)/3\n",
    "print(param_sonTot_scenEraThree_Us_ensmean_timeAvg.shape)\n"
   ]
  },
  {
   "cell_type": "markdown",
   "metadata": {},
   "source": [
    "## Differences at the three Eras"
   ]
  },
  {
   "cell_type": "code",
   "execution_count": 104,
   "metadata": {},
   "outputs": [
    {
     "name": "stdout",
     "output_type": "stream",
     "text": [
      "(32, 56)\n"
     ]
    }
   ],
   "source": [
    "param_sonTot_scenEraOne_pDiff_Us_ensmean_timeAvg = (param_sonTot_scenEraOne_Us_ensmean_timeAvg - param_sonTot_refPeriod_Us_ensmean_timeAvg)\n",
    "print(param_sonTot_scenEraOne_pDiff_Us_ensmean_timeAvg.shape)"
   ]
  },
  {
   "cell_type": "code",
   "execution_count": 105,
   "metadata": {},
   "outputs": [
    {
     "name": "stdout",
     "output_type": "stream",
     "text": [
      "(32, 56)\n"
     ]
    }
   ],
   "source": [
    "param_sonTot_scenEraTwo_pDiff_Us_ensmean_timeAvg = (param_sonTot_scenEraTwo_Us_ensmean_timeAvg - param_sonTot_refPeriod_Us_ensmean_timeAvg)\n",
    "print(param_sonTot_scenEraTwo_pDiff_Us_ensmean_timeAvg.shape)"
   ]
  },
  {
   "cell_type": "code",
   "execution_count": 106,
   "metadata": {},
   "outputs": [
    {
     "name": "stdout",
     "output_type": "stream",
     "text": [
      "(32, 56)\n"
     ]
    }
   ],
   "source": [
    "param_sonTot_scenEraThree_pDiff_Us_ensmean_timeAvg = (param_sonTot_scenEraThree_Us_ensmean_timeAvg - param_sonTot_refPeriod_Us_ensmean_timeAvg)\n",
    "print(param_sonTot_scenEraThree_pDiff_Us_ensmean_timeAvg.shape)"
   ]
  },
  {
   "cell_type": "code",
   "execution_count": null,
   "metadata": {},
   "outputs": [],
   "source": []
  },
  {
   "cell_type": "markdown",
   "metadata": {},
   "source": [
    "## Basin Mask (SON)\n"
   ]
  },
  {
   "cell_type": "markdown",
   "metadata": {},
   "source": [
    "## Writing in an Xarray Data array"
   ]
  },
  {
   "cell_type": "code",
   "execution_count": 107,
   "metadata": {},
   "outputs": [
    {
     "name": "stdout",
     "output_type": "stream",
     "text": [
      "(32, 56)\n",
      "<xarray.DataArray (Lat: 32, Lon: 56)>\n",
      "array([[ 0.00000000e+00,  0.00000000e+00,  0.00000000e+00, ...,\n",
      "         0.00000000e+00,  0.00000000e+00,  0.00000000e+00],\n",
      "       [ 0.00000000e+00,  0.00000000e+00,  0.00000000e+00, ...,\n",
      "         0.00000000e+00,  0.00000000e+00,  0.00000000e+00],\n",
      "       [ 0.00000000e+00,  0.00000000e+00,  0.00000000e+00, ...,\n",
      "         0.00000000e+00,  0.00000000e+00,  0.00000000e+00],\n",
      "       ...,\n",
      "       [ 0.00000000e+00,  6.45780067e-02, -4.10567446e-01, ...,\n",
      "        -1.87660418e+01, -2.64003571e+00, -2.93578422e+00],\n",
      "       [ 7.50171318e-02, -2.08033583e-01, -4.98886567e-01, ...,\n",
      "        -5.89809839e+00, -1.14892401e+01, -2.42293644e+01],\n",
      "       [-4.00738195e-02,  5.42038049e-03, -5.19886082e-01, ...,\n",
      "        -1.67727379e+00, -4.56363402e+00, -2.58248613e+01]])\n",
      "Coordinates:\n",
      "  * Lat      (Lat) float32 24.97 25.92 26.86 27.8 ... 51.36 52.3 53.25 54.19\n",
      "  * Lon      (Lon) float32 230.0 231.2 232.5 233.8 ... 295.0 296.2 297.5 298.8\n"
     ]
    }
   ],
   "source": [
    "param_sonTot_scenEraOne_diff_Us_xarray = xr.DataArray(param_sonTot_scenEraOne_pDiff_Us_ensmean_timeAvg, coords=[latUs_cesm2, lonUs_cesm2 ], dims=[\"Lat\",\"Lon\"])\n",
    "\n",
    "print(param_sonTot_scenEraOne_diff_Us_xarray.shape)\n",
    "print(param_sonTot_scenEraOne_diff_Us_xarray)"
   ]
  },
  {
   "cell_type": "code",
   "execution_count": 108,
   "metadata": {},
   "outputs": [
    {
     "name": "stdout",
     "output_type": "stream",
     "text": [
      "(32, 56)\n",
      "<xarray.DataArray (Lat: 32, Lon: 56)>\n",
      "array([[ 0.00000000e+00,  0.00000000e+00,  0.00000000e+00, ...,\n",
      "         0.00000000e+00,  0.00000000e+00,  0.00000000e+00],\n",
      "       [ 0.00000000e+00,  0.00000000e+00,  0.00000000e+00, ...,\n",
      "         0.00000000e+00,  0.00000000e+00,  0.00000000e+00],\n",
      "       [ 0.00000000e+00,  0.00000000e+00,  0.00000000e+00, ...,\n",
      "         0.00000000e+00,  0.00000000e+00,  0.00000000e+00],\n",
      "       ...,\n",
      "       [ 0.00000000e+00,  5.46738535e-01, -5.62942580e-01, ...,\n",
      "        -2.77124463e+01, -4.17519870e+00, -4.54133030e+00],\n",
      "       [ 4.81194438e-01, -2.15162776e-01, -8.67739759e-01, ...,\n",
      "        -2.80073811e+01, -2.87397100e+01, -2.71476017e+01],\n",
      "       [ 7.71069556e-02, -5.61101956e-03, -8.12772719e-01, ...,\n",
      "        -1.80416388e+01, -2.45312486e+01, -2.83537498e+01]])\n",
      "Coordinates:\n",
      "  * Lat      (Lat) float32 24.97 25.92 26.86 27.8 ... 51.36 52.3 53.25 54.19\n",
      "  * Lon      (Lon) float32 230.0 231.2 232.5 233.8 ... 295.0 296.2 297.5 298.8\n"
     ]
    }
   ],
   "source": [
    "param_sonTot_scenEraTwo_diff_Us_xarray = xr.DataArray(param_sonTot_scenEraTwo_pDiff_Us_ensmean_timeAvg, coords=[latUs_cesm2, lonUs_cesm2 ], dims=[\"Lat\",\"Lon\"])\n",
    "\n",
    "print(param_sonTot_scenEraTwo_diff_Us_xarray.shape)\n",
    "print(param_sonTot_scenEraTwo_diff_Us_xarray)"
   ]
  },
  {
   "cell_type": "code",
   "execution_count": 109,
   "metadata": {},
   "outputs": [
    {
     "name": "stdout",
     "output_type": "stream",
     "text": [
      "(32, 56)\n",
      "<xarray.DataArray (Lat: 32, Lon: 56)>\n",
      "array([[  0.        ,   0.        ,   0.        , ...,   0.        ,\n",
      "          0.        ,   0.        ],\n",
      "       [  0.        ,   0.        ,   0.        , ...,   0.        ,\n",
      "          0.        ,   0.        ],\n",
      "       [  0.        ,   0.        ,   0.        , ...,   0.        ,\n",
      "          0.        ,   0.        ],\n",
      "       ...,\n",
      "       [  0.        ,   1.02422925,  -0.64343748, ..., -29.54484362,\n",
      "         -6.03781285,  -6.31875485],\n",
      "       [  0.96196196,  -0.12274373,  -1.15393835, ..., -31.95548859,\n",
      "        -30.80066934, -29.08345872],\n",
      "       [  0.29417563,  -0.06637319,  -1.02232339, ..., -22.24446359,\n",
      "        -31.22966616, -30.30666248]])\n",
      "Coordinates:\n",
      "  * Lat      (Lat) float32 24.97 25.92 26.86 27.8 ... 51.36 52.3 53.25 54.19\n",
      "  * Lon      (Lon) float32 230.0 231.2 232.5 233.8 ... 295.0 296.2 297.5 298.8\n"
     ]
    }
   ],
   "source": [
    "param_sonTot_scenEraThree_diff_Us_xarray = xr.DataArray(param_sonTot_scenEraThree_pDiff_Us_ensmean_timeAvg, coords=[latUs_cesm2, lonUs_cesm2 ], dims=[\"Lat\",\"Lon\"])\n",
    "\n",
    "print(param_sonTot_scenEraThree_diff_Us_xarray.shape)\n",
    "print(param_sonTot_scenEraThree_diff_Us_xarray)"
   ]
  },
  {
   "cell_type": "code",
   "execution_count": null,
   "metadata": {},
   "outputs": [],
   "source": []
  },
  {
   "cell_type": "markdown",
   "metadata": {},
   "source": [
    "## Masking files for the Basin Domain only"
   ]
  },
  {
   "cell_type": "markdown",
   "metadata": {},
   "source": [
    "### Mississippi"
   ]
  },
  {
   "cell_type": "code",
   "execution_count": 110,
   "metadata": {},
   "outputs": [
    {
     "name": "stdout",
     "output_type": "stream",
     "text": [
      "(32, 56)\n",
      "<xarray.DataArray (Lat: 32, Lon: 56)>\n",
      "array([[nan, nan, nan, ..., nan, nan, nan],\n",
      "       [nan, nan, nan, ..., nan, nan, nan],\n",
      "       [nan, nan, nan, ..., nan, nan, nan],\n",
      "       ...,\n",
      "       [nan, nan, nan, ..., nan, nan, nan],\n",
      "       [nan, nan, nan, ..., nan, nan, nan],\n",
      "       [nan, nan, nan, ..., nan, nan, nan]])\n",
      "Coordinates:\n",
      "  * Lat      (Lat) float32 24.97 25.92 26.86 27.8 ... 51.36 52.3 53.25 54.19\n",
      "  * Lon      (Lon) float32 230.0 231.2 232.5 233.8 ... 295.0 296.2 297.5 298.8\n"
     ]
    }
   ],
   "source": [
    "param_sonTot_scenEraOne_diff_masked_Missi = param_sonTot_scenEraOne_diff_Us_xarray.where(MaskFile_Missi>0)\n",
    "print(param_sonTot_scenEraOne_diff_masked_Missi.shape)\n",
    "print(param_sonTot_scenEraOne_diff_masked_Missi)"
   ]
  },
  {
   "cell_type": "code",
   "execution_count": 111,
   "metadata": {},
   "outputs": [
    {
     "name": "stdout",
     "output_type": "stream",
     "text": [
      "(32, 56)\n",
      "<xarray.DataArray (Lat: 32, Lon: 56)>\n",
      "array([[nan, nan, nan, ..., nan, nan, nan],\n",
      "       [nan, nan, nan, ..., nan, nan, nan],\n",
      "       [nan, nan, nan, ..., nan, nan, nan],\n",
      "       ...,\n",
      "       [nan, nan, nan, ..., nan, nan, nan],\n",
      "       [nan, nan, nan, ..., nan, nan, nan],\n",
      "       [nan, nan, nan, ..., nan, nan, nan]])\n",
      "Coordinates:\n",
      "  * Lat      (Lat) float32 24.97 25.92 26.86 27.8 ... 51.36 52.3 53.25 54.19\n",
      "  * Lon      (Lon) float32 230.0 231.2 232.5 233.8 ... 295.0 296.2 297.5 298.8\n"
     ]
    }
   ],
   "source": [
    "param_sonTot_scenEraTwo_diff_masked_Missi = param_sonTot_scenEraTwo_diff_Us_xarray.where(MaskFile_Missi>0)\n",
    "print(param_sonTot_scenEraTwo_diff_masked_Missi.shape)\n",
    "print(param_sonTot_scenEraTwo_diff_masked_Missi)"
   ]
  },
  {
   "cell_type": "code",
   "execution_count": 112,
   "metadata": {},
   "outputs": [
    {
     "name": "stdout",
     "output_type": "stream",
     "text": [
      "(32, 56)\n",
      "<xarray.DataArray (Lat: 32, Lon: 56)>\n",
      "array([[nan, nan, nan, ..., nan, nan, nan],\n",
      "       [nan, nan, nan, ..., nan, nan, nan],\n",
      "       [nan, nan, nan, ..., nan, nan, nan],\n",
      "       ...,\n",
      "       [nan, nan, nan, ..., nan, nan, nan],\n",
      "       [nan, nan, nan, ..., nan, nan, nan],\n",
      "       [nan, nan, nan, ..., nan, nan, nan]])\n",
      "Coordinates:\n",
      "  * Lat      (Lat) float32 24.97 25.92 26.86 27.8 ... 51.36 52.3 53.25 54.19\n",
      "  * Lon      (Lon) float32 230.0 231.2 232.5 233.8 ... 295.0 296.2 297.5 298.8\n"
     ]
    }
   ],
   "source": [
    "param_sonTot_scenEraThree_diff_masked_Missi = param_sonTot_scenEraThree_diff_Us_xarray.where(MaskFile_Missi>0)\n",
    "print(param_sonTot_scenEraThree_diff_masked_Missi.shape)\n",
    "print(param_sonTot_scenEraThree_diff_masked_Missi)"
   ]
  },
  {
   "cell_type": "code",
   "execution_count": null,
   "metadata": {},
   "outputs": [],
   "source": []
  },
  {
   "cell_type": "markdown",
   "metadata": {},
   "source": [
    "## Find max and min values"
   ]
  },
  {
   "cell_type": "code",
   "execution_count": 113,
   "metadata": {},
   "outputs": [
    {
     "name": "stdout",
     "output_type": "stream",
     "text": [
      "0.5683209016587973\n",
      "-5.082031433105467\n"
     ]
    }
   ],
   "source": [
    "maxVal_sonTot_diff_masked_scenEraOne = np.nanmax(param_sonTot_scenEraOne_diff_masked_Missi)\n",
    "print(maxVal_sonTot_diff_masked_scenEraOne)\n",
    "minVal_sonTot_diff_masked_scenEraOne = np.nanmin(param_sonTot_scenEraOne_diff_masked_Missi)\n",
    "print(minVal_sonTot_diff_masked_scenEraOne)"
   ]
  },
  {
   "cell_type": "code",
   "execution_count": 114,
   "metadata": {},
   "outputs": [
    {
     "name": "stdout",
     "output_type": "stream",
     "text": [
      "0.6325506223042794\n",
      "-6.576573347303604\n"
     ]
    }
   ],
   "source": [
    "maxVal_sonTot_diff_masked_scenEraTwo = np.nanmax(param_sonTot_scenEraTwo_diff_masked_Missi)\n",
    "print(maxVal_sonTot_diff_masked_scenEraTwo)\n",
    "minVal_sonTot_diff_masked_scenEraTwo = np.nanmin(param_sonTot_scenEraTwo_diff_masked_Missi)\n",
    "print(minVal_sonTot_diff_masked_scenEraTwo)"
   ]
  },
  {
   "cell_type": "code",
   "execution_count": 115,
   "metadata": {},
   "outputs": [
    {
     "name": "stdout",
     "output_type": "stream",
     "text": [
      "1.717475512822471\n",
      "-7.203983903591446\n"
     ]
    }
   ],
   "source": [
    "maxVal_sonTot_diff_masked_scenEraThree = np.nanmax(param_sonTot_scenEraThree_diff_masked_Missi)\n",
    "print(maxVal_sonTot_diff_masked_scenEraThree)\n",
    "minVal_sonTot_diff_masked_scenEraThree = np.nanmin(param_sonTot_scenEraThree_diff_masked_Missi)\n",
    "print(minVal_sonTot_diff_masked_scenEraThree)"
   ]
  },
  {
   "cell_type": "code",
   "execution_count": 116,
   "metadata": {},
   "outputs": [
    {
     "name": "stdout",
     "output_type": "stream",
     "text": [
      "-8.0\n",
      "2.0\n"
     ]
    }
   ],
   "source": [
    "vmin_sonTot_scenEraThree = np.floor(minVal_sonTot_diff_masked_scenEraThree)\n",
    "vmax_sonTot_scenEraThree = np.ceil(maxVal_sonTot_diff_masked_scenEraThree)\n",
    "print(vmin_sonTot_scenEraThree)\n",
    "print(vmax_sonTot_scenEraThree)"
   ]
  },
  {
   "cell_type": "code",
   "execution_count": 117,
   "metadata": {},
   "outputs": [
    {
     "name": "stdout",
     "output_type": "stream",
     "text": [
      "11\n"
     ]
    }
   ],
   "source": [
    "nDiv_sonTot_scenEraThree = int(vmax_sonTot_scenEraThree - vmin_sonTot_scenEraThree + 1)\n",
    "print(nDiv_sonTot_scenEraThree)\n",
    "#48"
   ]
  },
  {
   "cell_type": "code",
   "execution_count": null,
   "metadata": {},
   "outputs": [],
   "source": []
  },
  {
   "cell_type": "code",
   "execution_count": null,
   "metadata": {},
   "outputs": [],
   "source": []
  },
  {
   "cell_type": "markdown",
   "metadata": {},
   "source": [
    "## DJF"
   ]
  },
  {
   "cell_type": "markdown",
   "metadata": {},
   "source": [
    "## ref Period"
   ]
  },
  {
   "cell_type": "code",
   "execution_count": 118,
   "metadata": {},
   "outputs": [],
   "source": [
    "djfMonSt = 12\n",
    "djfMonMid = 1\n",
    "djfMonEnd = 2"
   ]
  },
  {
   "cell_type": "code",
   "execution_count": 119,
   "metadata": {},
   "outputs": [
    {
     "name": "stdout",
     "output_type": "stream",
     "text": [
      "(30, 32, 56)\n",
      "(30, 32, 56)\n",
      "(30, 32, 56)\n"
     ]
    }
   ],
   "source": [
    "\n",
    "param_djfSt_refPeriod_Us_ensmean = param_refPeriod_Us_ensmean[djfMonSt-1::nMonsPerYr]\n",
    "print(param_djfSt_refPeriod_Us_ensmean.shape)\n",
    "\n",
    "param_djfMid_refPeriod_Us_ensmean = param_refPeriod_Us_ensmean[djfMonMid-1::nMonsPerYr]\n",
    "param_djfMid_refPeriod_Us_ensmean = param_djfMid_refPeriod_Us_ensmean[1::]\n",
    "print(param_djfMid_refPeriod_Us_ensmean.shape)\n",
    "\n",
    "param_djfEnd_refPeriod_Us_ensmean = param_refPeriod_Us_ensmean[djfMonEnd-1::nMonsPerYr]\n",
    "param_djfEnd_refPeriod_Us_ensmean = param_djfEnd_refPeriod_Us_ensmean[1::]\n",
    "print(param_djfEnd_refPeriod_Us_ensmean.shape)\n"
   ]
  },
  {
   "cell_type": "code",
   "execution_count": 120,
   "metadata": {},
   "outputs": [
    {
     "name": "stdout",
     "output_type": "stream",
     "text": [
      "(32, 56)\n",
      "(32, 56)\n",
      "(32, 56)\n"
     ]
    }
   ],
   "source": [
    "param_djfSt_refPeriod_Us_ensmean_timeAvg = np.nanmean(param_djfSt_refPeriod_Us_ensmean, axis = 0)\n",
    "print(param_djfSt_refPeriod_Us_ensmean_timeAvg.shape)\n",
    "\n",
    "param_djfMid_refPeriod_Us_ensmean_timeAvg = np.nanmean(param_djfMid_refPeriod_Us_ensmean, axis = 0)\n",
    "print(param_djfMid_refPeriod_Us_ensmean_timeAvg.shape)\n",
    "\n",
    "param_djfEnd_refPeriod_Us_ensmean_timeAvg = np.nanmean(param_djfEnd_refPeriod_Us_ensmean, axis = 0)\n",
    "print(param_djfEnd_refPeriod_Us_ensmean_timeAvg.shape)\n"
   ]
  },
  {
   "cell_type": "code",
   "execution_count": 121,
   "metadata": {},
   "outputs": [
    {
     "name": "stdout",
     "output_type": "stream",
     "text": [
      "(32, 56)\n"
     ]
    }
   ],
   "source": [
    "param_djfTot_refPeriod_Us_ensmean_timeAvg = (param_djfSt_refPeriod_Us_ensmean_timeAvg+param_djfMid_refPeriod_Us_ensmean_timeAvg+param_djfEnd_refPeriod_Us_ensmean_timeAvg)/3\n",
    "print(param_djfTot_refPeriod_Us_ensmean_timeAvg.shape)"
   ]
  },
  {
   "cell_type": "markdown",
   "metadata": {},
   "source": [
    "## Scen Era 1"
   ]
  },
  {
   "cell_type": "code",
   "execution_count": 122,
   "metadata": {},
   "outputs": [
    {
     "name": "stdout",
     "output_type": "stream",
     "text": [
      "(30, 32, 56)\n",
      "(30, 32, 56)\n",
      "(30, 32, 56)\n"
     ]
    }
   ],
   "source": [
    "\n",
    "param_djfSt_scenEraOne_Us_ensmean = param_scenEraOne_Us_ensmean[djfMonSt-1::nMonsPerYr]\n",
    "print(param_djfSt_scenEraOne_Us_ensmean.shape)\n",
    "\n",
    "param_djfMid_scenEraOne_Us_ensmean = param_scenEraOne_Us_ensmean[djfMonMid-1::nMonsPerYr]\n",
    "param_djfMid_scenEraOne_Us_ensmean = param_djfMid_scenEraOne_Us_ensmean[1::]\n",
    "print(param_djfMid_scenEraOne_Us_ensmean.shape)\n",
    "\n",
    "param_djfEnd_scenEraOne_Us_ensmean = param_scenEraOne_Us_ensmean[djfMonEnd-1::nMonsPerYr]\n",
    "param_djfEnd_scenEraOne_Us_ensmean = param_djfEnd_scenEraOne_Us_ensmean[1::]\n",
    "print(param_djfEnd_scenEraOne_Us_ensmean.shape)\n"
   ]
  },
  {
   "cell_type": "code",
   "execution_count": 123,
   "metadata": {},
   "outputs": [
    {
     "name": "stdout",
     "output_type": "stream",
     "text": [
      "(32, 56)\n",
      "(32, 56)\n",
      "(32, 56)\n"
     ]
    }
   ],
   "source": [
    "param_djfSt_scenEraOne_Us_ensmean_timeAvg = np.nanmean(param_djfSt_scenEraOne_Us_ensmean, axis = 0)\n",
    "print(param_djfSt_scenEraOne_Us_ensmean_timeAvg.shape)\n",
    "\n",
    "param_djfMid_scenEraOne_Us_ensmean_timeAvg = np.nanmean(param_djfMid_scenEraOne_Us_ensmean, axis = 0)\n",
    "print(param_djfMid_scenEraOne_Us_ensmean_timeAvg.shape)\n",
    "\n",
    "param_djfEnd_scenEraOne_Us_ensmean_timeAvg = np.nanmean(param_djfEnd_scenEraOne_Us_ensmean, axis = 0)\n",
    "print(param_djfEnd_scenEraOne_Us_ensmean_timeAvg.shape)\n"
   ]
  },
  {
   "cell_type": "code",
   "execution_count": 124,
   "metadata": {},
   "outputs": [
    {
     "name": "stdout",
     "output_type": "stream",
     "text": [
      "(32, 56)\n"
     ]
    }
   ],
   "source": [
    "param_djfTot_scenEraOne_Us_ensmean_timeAvg = (param_djfSt_scenEraOne_Us_ensmean_timeAvg+param_djfMid_scenEraOne_Us_ensmean_timeAvg+param_djfEnd_scenEraOne_Us_ensmean_timeAvg)/3\n",
    "print(param_djfTot_scenEraOne_Us_ensmean_timeAvg.shape)\n"
   ]
  },
  {
   "cell_type": "markdown",
   "metadata": {},
   "source": [
    "## Scen Era 2"
   ]
  },
  {
   "cell_type": "code",
   "execution_count": 125,
   "metadata": {},
   "outputs": [
    {
     "name": "stdout",
     "output_type": "stream",
     "text": [
      "(30, 32, 56)\n",
      "(30, 32, 56)\n",
      "(30, 32, 56)\n"
     ]
    }
   ],
   "source": [
    "\n",
    "param_djfSt_scenEraTwo_Us_ensmean = param_scenEraTwo_Us_ensmean[djfMonSt-1::nMonsPerYr]\n",
    "print(param_djfSt_scenEraTwo_Us_ensmean.shape)\n",
    "\n",
    "param_djfMid_scenEraTwo_Us_ensmean = param_scenEraTwo_Us_ensmean[djfMonMid-1::nMonsPerYr]\n",
    "param_djfMid_scenEraTwo_Us_ensmean = param_djfMid_scenEraTwo_Us_ensmean[1::]\n",
    "print(param_djfMid_scenEraTwo_Us_ensmean.shape)\n",
    "\n",
    "param_djfEnd_scenEraTwo_Us_ensmean = param_scenEraTwo_Us_ensmean[djfMonEnd-1::nMonsPerYr]\n",
    "param_djfEnd_scenEraTwo_Us_ensmean = param_djfEnd_scenEraTwo_Us_ensmean[1::]\n",
    "print(param_djfEnd_scenEraTwo_Us_ensmean.shape)\n"
   ]
  },
  {
   "cell_type": "code",
   "execution_count": 126,
   "metadata": {},
   "outputs": [
    {
     "name": "stdout",
     "output_type": "stream",
     "text": [
      "(32, 56)\n",
      "(32, 56)\n",
      "(32, 56)\n"
     ]
    }
   ],
   "source": [
    "param_djfSt_scenEraTwo_Us_ensmean_timeAvg = np.nanmean(param_djfSt_scenEraTwo_Us_ensmean, axis = 0)\n",
    "print(param_djfSt_scenEraTwo_Us_ensmean_timeAvg.shape)\n",
    "\n",
    "param_djfMid_scenEraTwo_Us_ensmean_timeAvg = np.nanmean(param_djfMid_scenEraTwo_Us_ensmean, axis = 0)\n",
    "print(param_djfMid_scenEraTwo_Us_ensmean_timeAvg.shape)\n",
    "\n",
    "param_djfEnd_scenEraTwo_Us_ensmean_timeAvg = np.nanmean(param_djfEnd_scenEraTwo_Us_ensmean, axis = 0)\n",
    "print(param_djfEnd_scenEraTwo_Us_ensmean_timeAvg.shape)\n"
   ]
  },
  {
   "cell_type": "code",
   "execution_count": 127,
   "metadata": {},
   "outputs": [
    {
     "name": "stdout",
     "output_type": "stream",
     "text": [
      "(32, 56)\n"
     ]
    }
   ],
   "source": [
    "param_djfTot_scenEraTwo_Us_ensmean_timeAvg = (param_djfSt_scenEraTwo_Us_ensmean_timeAvg+param_djfMid_scenEraTwo_Us_ensmean_timeAvg+param_djfEnd_scenEraTwo_Us_ensmean_timeAvg)/3\n",
    "print(param_djfTot_scenEraTwo_Us_ensmean_timeAvg.shape)\n"
   ]
  },
  {
   "cell_type": "markdown",
   "metadata": {},
   "source": [
    "## Scen Era 3"
   ]
  },
  {
   "cell_type": "code",
   "execution_count": 128,
   "metadata": {},
   "outputs": [
    {
     "name": "stdout",
     "output_type": "stream",
     "text": [
      "(26, 32, 56)\n",
      "(26, 32, 56)\n",
      "(26, 32, 56)\n"
     ]
    }
   ],
   "source": [
    "\n",
    "param_djfSt_scenEraThree_Us_ensmean = param_scenEraThree_Us_ensmean[djfMonSt-1::nMonsPerYr]\n",
    "print(param_djfSt_scenEraThree_Us_ensmean.shape)\n",
    "\n",
    "param_djfMid_scenEraThree_Us_ensmean = param_scenEraThree_Us_ensmean[djfMonMid-1::nMonsPerYr]\n",
    "print(param_djfMid_scenEraThree_Us_ensmean.shape)\n",
    "\n",
    "param_djfEnd_scenEraThree_Us_ensmean = param_scenEraThree_Us_ensmean[djfMonEnd-1::nMonsPerYr]\n",
    "print(param_djfEnd_scenEraThree_Us_ensmean.shape)\n"
   ]
  },
  {
   "cell_type": "code",
   "execution_count": 129,
   "metadata": {},
   "outputs": [
    {
     "name": "stdout",
     "output_type": "stream",
     "text": [
      "(32, 56)\n",
      "(32, 56)\n",
      "(32, 56)\n"
     ]
    }
   ],
   "source": [
    "param_djfSt_scenEraThree_Us_ensmean_timeAvg = np.nanmean(param_djfSt_scenEraThree_Us_ensmean, axis = 0)\n",
    "print(param_djfSt_scenEraThree_Us_ensmean_timeAvg.shape)\n",
    "\n",
    "param_djfMid_scenEraThree_Us_ensmean_timeAvg = np.nanmean(param_djfMid_scenEraThree_Us_ensmean, axis = 0)\n",
    "print(param_djfMid_scenEraThree_Us_ensmean_timeAvg.shape)\n",
    "\n",
    "param_djfEnd_scenEraThree_Us_ensmean_timeAvg = np.nanmean(param_djfEnd_scenEraThree_Us_ensmean, axis = 0)\n",
    "print(param_djfEnd_scenEraThree_Us_ensmean_timeAvg.shape)\n"
   ]
  },
  {
   "cell_type": "code",
   "execution_count": 130,
   "metadata": {},
   "outputs": [
    {
     "name": "stdout",
     "output_type": "stream",
     "text": [
      "(32, 56)\n"
     ]
    }
   ],
   "source": [
    "param_djfTot_scenEraThree_Us_ensmean_timeAvg = (param_djfSt_scenEraThree_Us_ensmean_timeAvg+param_djfMid_scenEraThree_Us_ensmean_timeAvg+param_djfEnd_scenEraThree_Us_ensmean_timeAvg)/3\n",
    "print(param_djfTot_scenEraThree_Us_ensmean_timeAvg.shape)\n"
   ]
  },
  {
   "cell_type": "markdown",
   "metadata": {},
   "source": [
    "## Differences at the three Eras"
   ]
  },
  {
   "cell_type": "code",
   "execution_count": 131,
   "metadata": {},
   "outputs": [
    {
     "name": "stdout",
     "output_type": "stream",
     "text": [
      "(32, 56)\n"
     ]
    }
   ],
   "source": [
    "param_djfTot_scenEraOne_pDiff_Us_ensmean_timeAvg = (param_djfTot_scenEraOne_Us_ensmean_timeAvg - param_djfTot_refPeriod_Us_ensmean_timeAvg)\n",
    "\n",
    "print(param_djfTot_scenEraOne_pDiff_Us_ensmean_timeAvg.shape)"
   ]
  },
  {
   "cell_type": "code",
   "execution_count": 132,
   "metadata": {},
   "outputs": [
    {
     "name": "stdout",
     "output_type": "stream",
     "text": [
      "(32, 56)\n"
     ]
    }
   ],
   "source": [
    "param_djfTot_scenEraTwo_pDiff_Us_ensmean_timeAvg = (param_djfTot_scenEraTwo_Us_ensmean_timeAvg - param_djfTot_refPeriod_Us_ensmean_timeAvg)\n",
    "\n",
    "print(param_djfTot_scenEraTwo_pDiff_Us_ensmean_timeAvg.shape)"
   ]
  },
  {
   "cell_type": "code",
   "execution_count": 133,
   "metadata": {},
   "outputs": [
    {
     "name": "stdout",
     "output_type": "stream",
     "text": [
      "(32, 56)\n"
     ]
    }
   ],
   "source": [
    "param_djfTot_scenEraThree_pDiff_Us_ensmean_timeAvg = (param_djfTot_scenEraThree_Us_ensmean_timeAvg - param_djfTot_refPeriod_Us_ensmean_timeAvg)\n",
    "\n",
    "print(param_djfTot_scenEraThree_pDiff_Us_ensmean_timeAvg.shape)"
   ]
  },
  {
   "cell_type": "code",
   "execution_count": null,
   "metadata": {},
   "outputs": [],
   "source": []
  },
  {
   "cell_type": "markdown",
   "metadata": {},
   "source": [
    "## Basin Mask (DJF)"
   ]
  },
  {
   "cell_type": "markdown",
   "metadata": {},
   "source": [
    "## Writing in an Xarray Data array"
   ]
  },
  {
   "cell_type": "code",
   "execution_count": 134,
   "metadata": {},
   "outputs": [
    {
     "name": "stdout",
     "output_type": "stream",
     "text": [
      "(32, 56)\n",
      "<xarray.DataArray (Lat: 32, Lon: 56)>\n",
      "array([[ 0.00000000e+00,  0.00000000e+00,  0.00000000e+00, ...,\n",
      "         0.00000000e+00,  0.00000000e+00,  0.00000000e+00],\n",
      "       [ 0.00000000e+00,  0.00000000e+00,  0.00000000e+00, ...,\n",
      "         0.00000000e+00,  0.00000000e+00,  0.00000000e+00],\n",
      "       [ 0.00000000e+00,  0.00000000e+00,  0.00000000e+00, ...,\n",
      "         0.00000000e+00,  0.00000000e+00,  0.00000000e+00],\n",
      "       ...,\n",
      "       [ 0.00000000e+00, -7.20273966e-01,  7.28827613e-01, ...,\n",
      "        -1.34157336e+01, -1.41536298e-01,  1.73696196e-02],\n",
      "       [-1.00749146e+00, -1.68998259e-01,  1.20027985e+00, ...,\n",
      "        -1.36212837e+00, -7.44256611e+00, -1.96319695e+01],\n",
      "       [-5.64488075e-01,  1.36991050e+00,  1.74841310e-01, ...,\n",
      "        -3.82488681e-01, -1.20180592e-01, -2.11978962e+01]])\n",
      "Coordinates:\n",
      "  * Lat      (Lat) float32 24.97 25.92 26.86 27.8 ... 51.36 52.3 53.25 54.19\n",
      "  * Lon      (Lon) float32 230.0 231.2 232.5 233.8 ... 295.0 296.2 297.5 298.8\n"
     ]
    }
   ],
   "source": [
    "param_djfTot_scenEraOne_diff_Us_xarray = xr.DataArray(param_djfTot_scenEraOne_pDiff_Us_ensmean_timeAvg, coords=[latUs_cesm2, lonUs_cesm2 ], dims=[\"Lat\",\"Lon\"])\n",
    "\n",
    "print(param_djfTot_scenEraOne_diff_Us_xarray.shape)\n",
    "print(param_djfTot_scenEraOne_diff_Us_xarray)"
   ]
  },
  {
   "cell_type": "code",
   "execution_count": 135,
   "metadata": {},
   "outputs": [
    {
     "name": "stdout",
     "output_type": "stream",
     "text": [
      "(32, 56)\n",
      "<xarray.DataArray (Lat: 32, Lon: 56)>\n",
      "array([[  0.        ,   0.        ,   0.        , ...,   0.        ,\n",
      "          0.        ,   0.        ],\n",
      "       [  0.        ,   0.        ,   0.        , ...,   0.        ,\n",
      "          0.        ,   0.        ],\n",
      "       [  0.        ,   0.        ,   0.        , ...,   0.        ,\n",
      "          0.        ,   0.        ],\n",
      "       ...,\n",
      "       [  0.        ,  -1.38237536,   1.03172022, ..., -19.28407044,\n",
      "          0.26815296,   0.34115458],\n",
      "       [ -2.00159645,  -0.821959  ,   1.88484883, ..., -20.74058432,\n",
      "        -22.8172642 , -20.2095305 ],\n",
      "       [ -1.77378392,   2.08465019,   0.688223  , ..., -14.81180504,\n",
      "        -16.2544339 , -21.11394862]])\n",
      "Coordinates:\n",
      "  * Lat      (Lat) float32 24.97 25.92 26.86 27.8 ... 51.36 52.3 53.25 54.19\n",
      "  * Lon      (Lon) float32 230.0 231.2 232.5 233.8 ... 295.0 296.2 297.5 298.8\n"
     ]
    }
   ],
   "source": [
    "param_djfTot_scenEraTwo_diff_Us_xarray = xr.DataArray(param_djfTot_scenEraTwo_pDiff_Us_ensmean_timeAvg, coords=[latUs_cesm2, lonUs_cesm2 ], dims=[\"Lat\",\"Lon\"])\n",
    "\n",
    "print(param_djfTot_scenEraTwo_diff_Us_xarray.shape)\n",
    "print(param_djfTot_scenEraTwo_diff_Us_xarray)"
   ]
  },
  {
   "cell_type": "code",
   "execution_count": 136,
   "metadata": {},
   "outputs": [
    {
     "name": "stdout",
     "output_type": "stream",
     "text": [
      "(32, 56)\n",
      "<xarray.DataArray (Lat: 32, Lon: 56)>\n",
      "array([[  0.        ,   0.        ,   0.        , ...,   0.        ,\n",
      "          0.        ,   0.        ],\n",
      "       [  0.        ,   0.        ,   0.        , ...,   0.        ,\n",
      "          0.        ,   0.        ],\n",
      "       [  0.        ,   0.        ,   0.        , ...,   0.        ,\n",
      "          0.        ,   0.        ],\n",
      "       ...,\n",
      "       [  0.        ,  -1.82906507,   0.90725173, ..., -20.1568328 ,\n",
      "         -0.16313737,  -0.15119543],\n",
      "       [ -2.61497092,  -1.95921912,   2.71547711, ..., -23.07189369,\n",
      "        -23.78397163, -21.2839755 ],\n",
      "       [ -3.31076255,   2.39534084,   1.67101076, ..., -18.01565238,\n",
      "        -21.45247292, -21.85786371]])\n",
      "Coordinates:\n",
      "  * Lat      (Lat) float32 24.97 25.92 26.86 27.8 ... 51.36 52.3 53.25 54.19\n",
      "  * Lon      (Lon) float32 230.0 231.2 232.5 233.8 ... 295.0 296.2 297.5 298.8\n"
     ]
    }
   ],
   "source": [
    "param_djfTot_scenEraThree_diff_Us_xarray = xr.DataArray(param_djfTot_scenEraThree_pDiff_Us_ensmean_timeAvg, coords=[latUs_cesm2, lonUs_cesm2 ], dims=[\"Lat\",\"Lon\"])\n",
    "\n",
    "print(param_djfTot_scenEraThree_diff_Us_xarray.shape)\n",
    "print(param_djfTot_scenEraThree_diff_Us_xarray)"
   ]
  },
  {
   "cell_type": "code",
   "execution_count": null,
   "metadata": {},
   "outputs": [],
   "source": []
  },
  {
   "cell_type": "markdown",
   "metadata": {},
   "source": [
    "## Masking files for the Basin Domain only"
   ]
  },
  {
   "cell_type": "markdown",
   "metadata": {},
   "source": [
    "### Mississippi"
   ]
  },
  {
   "cell_type": "code",
   "execution_count": 137,
   "metadata": {},
   "outputs": [
    {
     "name": "stdout",
     "output_type": "stream",
     "text": [
      "(32, 56)\n",
      "<xarray.DataArray (Lat: 32, Lon: 56)>\n",
      "array([[nan, nan, nan, ..., nan, nan, nan],\n",
      "       [nan, nan, nan, ..., nan, nan, nan],\n",
      "       [nan, nan, nan, ..., nan, nan, nan],\n",
      "       ...,\n",
      "       [nan, nan, nan, ..., nan, nan, nan],\n",
      "       [nan, nan, nan, ..., nan, nan, nan],\n",
      "       [nan, nan, nan, ..., nan, nan, nan]])\n",
      "Coordinates:\n",
      "  * Lat      (Lat) float32 24.97 25.92 26.86 27.8 ... 51.36 52.3 53.25 54.19\n",
      "  * Lon      (Lon) float32 230.0 231.2 232.5 233.8 ... 295.0 296.2 297.5 298.8\n"
     ]
    }
   ],
   "source": [
    "param_djfTot_scenEraOne_diff_masked_Missi = param_djfTot_scenEraOne_diff_Us_xarray.where(MaskFile_Missi>0)\n",
    "print(param_djfTot_scenEraOne_diff_masked_Missi.shape)\n",
    "print(param_djfTot_scenEraOne_diff_masked_Missi)"
   ]
  },
  {
   "cell_type": "code",
   "execution_count": 138,
   "metadata": {},
   "outputs": [
    {
     "name": "stdout",
     "output_type": "stream",
     "text": [
      "(32, 56)\n",
      "<xarray.DataArray (Lat: 32, Lon: 56)>\n",
      "array([[nan, nan, nan, ..., nan, nan, nan],\n",
      "       [nan, nan, nan, ..., nan, nan, nan],\n",
      "       [nan, nan, nan, ..., nan, nan, nan],\n",
      "       ...,\n",
      "       [nan, nan, nan, ..., nan, nan, nan],\n",
      "       [nan, nan, nan, ..., nan, nan, nan],\n",
      "       [nan, nan, nan, ..., nan, nan, nan]])\n",
      "Coordinates:\n",
      "  * Lat      (Lat) float32 24.97 25.92 26.86 27.8 ... 51.36 52.3 53.25 54.19\n",
      "  * Lon      (Lon) float32 230.0 231.2 232.5 233.8 ... 295.0 296.2 297.5 298.8\n"
     ]
    }
   ],
   "source": [
    "param_djfTot_scenEraTwo_diff_masked_Missi = param_djfTot_scenEraTwo_diff_Us_xarray.where(MaskFile_Missi>0)\n",
    "print(param_djfTot_scenEraTwo_diff_masked_Missi.shape)\n",
    "print(param_djfTot_scenEraTwo_diff_masked_Missi)"
   ]
  },
  {
   "cell_type": "code",
   "execution_count": 139,
   "metadata": {},
   "outputs": [
    {
     "name": "stdout",
     "output_type": "stream",
     "text": [
      "(32, 56)\n",
      "<xarray.DataArray (Lat: 32, Lon: 56)>\n",
      "array([[nan, nan, nan, ..., nan, nan, nan],\n",
      "       [nan, nan, nan, ..., nan, nan, nan],\n",
      "       [nan, nan, nan, ..., nan, nan, nan],\n",
      "       ...,\n",
      "       [nan, nan, nan, ..., nan, nan, nan],\n",
      "       [nan, nan, nan, ..., nan, nan, nan],\n",
      "       [nan, nan, nan, ..., nan, nan, nan]])\n",
      "Coordinates:\n",
      "  * Lat      (Lat) float32 24.97 25.92 26.86 27.8 ... 51.36 52.3 53.25 54.19\n",
      "  * Lon      (Lon) float32 230.0 231.2 232.5 233.8 ... 295.0 296.2 297.5 298.8\n"
     ]
    }
   ],
   "source": [
    "param_djfTot_scenEraThree_diff_masked_Missi = param_djfTot_scenEraThree_diff_Us_xarray.where(MaskFile_Missi>0)\n",
    "print(param_djfTot_scenEraThree_diff_masked_Missi.shape)\n",
    "print(param_djfTot_scenEraThree_diff_masked_Missi)"
   ]
  },
  {
   "cell_type": "code",
   "execution_count": null,
   "metadata": {},
   "outputs": [],
   "source": []
  },
  {
   "cell_type": "code",
   "execution_count": null,
   "metadata": {},
   "outputs": [],
   "source": []
  },
  {
   "cell_type": "markdown",
   "metadata": {},
   "source": [
    "## Find max and min values"
   ]
  },
  {
   "cell_type": "code",
   "execution_count": 140,
   "metadata": {},
   "outputs": [
    {
     "name": "stdout",
     "output_type": "stream",
     "text": [
      "1.5917943695916108\n",
      "-3.57028046968248\n"
     ]
    }
   ],
   "source": [
    "maxVal_djfTot_diff_masked_scenEraOne = np.nanmax(param_djfTot_scenEraOne_diff_masked_Missi)\n",
    "print(maxVal_djfTot_diff_masked_scenEraOne)\n",
    "minVal_djfTot_diff_masked_scenEraOne = np.nanmin(param_djfTot_scenEraOne_diff_masked_Missi)\n",
    "print(minVal_djfTot_diff_masked_scenEraOne)"
   ]
  },
  {
   "cell_type": "code",
   "execution_count": 141,
   "metadata": {},
   "outputs": [
    {
     "name": "stdout",
     "output_type": "stream",
     "text": [
      "3.6817254481845296\n",
      "-5.617365165498523\n"
     ]
    }
   ],
   "source": [
    "maxVal_djfTot_diff_masked_scenEraTwo = np.nanmax(param_djfTot_scenEraTwo_diff_masked_Missi)\n",
    "print(maxVal_djfTot_diff_masked_scenEraTwo)\n",
    "minVal_djfTot_diff_masked_scenEraTwo = np.nanmin(param_djfTot_scenEraTwo_diff_masked_Missi)\n",
    "print(minVal_djfTot_diff_masked_scenEraTwo)"
   ]
  },
  {
   "cell_type": "code",
   "execution_count": 142,
   "metadata": {},
   "outputs": [
    {
     "name": "stdout",
     "output_type": "stream",
     "text": [
      "5.139139787396807\n",
      "-6.926476570243505\n"
     ]
    }
   ],
   "source": [
    "maxVal_djfTot_diff_masked_scenEraThree = np.nanmax(param_djfTot_scenEraThree_diff_masked_Missi)\n",
    "print(maxVal_djfTot_diff_masked_scenEraThree)\n",
    "minVal_djfTot_diff_masked_scenEraThree = np.nanmin(param_djfTot_scenEraThree_diff_masked_Missi)\n",
    "print(minVal_djfTot_diff_masked_scenEraThree)"
   ]
  },
  {
   "cell_type": "code",
   "execution_count": 143,
   "metadata": {},
   "outputs": [
    {
     "name": "stdout",
     "output_type": "stream",
     "text": [
      "-7.0\n",
      "6.0\n"
     ]
    }
   ],
   "source": [
    "vmin_djfTot_scenEraThree = np.floor(minVal_djfTot_diff_masked_scenEraThree)\n",
    "vmax_djfTot_scenEraThree = np.ceil(maxVal_djfTot_diff_masked_scenEraThree)\n",
    "print(vmin_djfTot_scenEraThree)\n",
    "print(vmax_djfTot_scenEraThree)"
   ]
  },
  {
   "cell_type": "code",
   "execution_count": 144,
   "metadata": {},
   "outputs": [
    {
     "name": "stdout",
     "output_type": "stream",
     "text": [
      "14\n"
     ]
    }
   ],
   "source": [
    "nDiv_djfTot_scenEraThree = int(vmax_djfTot_scenEraThree - vmin_djfTot_scenEraThree + 1)\n",
    "print(nDiv_djfTot_scenEraThree)"
   ]
  },
  {
   "cell_type": "code",
   "execution_count": 145,
   "metadata": {},
   "outputs": [
    {
     "name": "stdout",
     "output_type": "stream",
     "text": [
      "15\n"
     ]
    }
   ],
   "source": [
    "nDiv_djfTot_scenEraThree = int(vmax_djfTot_scenEraThree - vmin_jjaTot_scenEraThree + 1)\n",
    "print(nDiv_djfTot_scenEraThree)\n",
    "#67"
   ]
  },
  {
   "cell_type": "code",
   "execution_count": 146,
   "metadata": {},
   "outputs": [
    {
     "name": "stdout",
     "output_type": "stream",
     "text": [
      "9\n"
     ]
    }
   ],
   "source": [
    "nDiv_seasonMax = int(vmax_mamTot_scenEraThree - vmin_mamTot_scenEraThree + 1)\n",
    "print(nDiv_seasonMax)\n",
    "#48"
   ]
  },
  {
   "cell_type": "code",
   "execution_count": null,
   "metadata": {},
   "outputs": [],
   "source": []
  },
  {
   "cell_type": "code",
   "execution_count": null,
   "metadata": {},
   "outputs": [],
   "source": []
  },
  {
   "cell_type": "markdown",
   "metadata": {},
   "source": [
    "## Figure Formatting"
   ]
  },
  {
   "cell_type": "code",
   "execution_count": 147,
   "metadata": {},
   "outputs": [
    {
     "name": "stdout",
     "output_type": "stream",
     "text": [
      "[<GeoAxesSubplot:>, <GeoAxesSubplot:>, <GeoAxesSubplot:>, <GeoAxesSubplot:>, <GeoAxesSubplot:>, <GeoAxesSubplot:>, <GeoAxesSubplot:>, <GeoAxesSubplot:>, <GeoAxesSubplot:>, <GeoAxesSubplot:>, <GeoAxesSubplot:>, <GeoAxesSubplot:>]\n"
     ]
    },
    {
     "name": "stderr",
     "output_type": "stream",
     "text": [
      "<ipython-input-147-03d2f2ecf9f9>:89: MatplotlibDeprecationWarning: Case-insensitive properties were deprecated in 3.3 and support will be removed two minor releases later\n",
      "  ax1.set_yticklabels(latTickLebelsStr, fontSize = fontSize)\n",
      "<ipython-input-147-03d2f2ecf9f9>:91: MatplotlibDeprecationWarning: Case-insensitive properties were deprecated in 3.3 and support will be removed two minor releases later\n",
      "  ax1.set_xticklabels('', fontSize = fontSize)\n",
      "<ipython-input-147-03d2f2ecf9f9>:133: MatplotlibDeprecationWarning: Case-insensitive properties were deprecated in 3.3 and support will be removed two minor releases later\n",
      "  ax2.set_yticklabels('', fontSize = fontSize)\n",
      "<ipython-input-147-03d2f2ecf9f9>:140: MatplotlibDeprecationWarning: Case-insensitive properties were deprecated in 3.3 and support will be removed two minor releases later\n",
      "  ax2.set_xticklabels('', fontSize = fontSize)\n",
      "<ipython-input-147-03d2f2ecf9f9>:172: MatplotlibDeprecationWarning: Case-insensitive properties were deprecated in 3.3 and support will be removed two minor releases later\n",
      "  ax3.set_yticklabels('', fontSize = fontSize)\n",
      "<ipython-input-147-03d2f2ecf9f9>:179: MatplotlibDeprecationWarning: Case-insensitive properties were deprecated in 3.3 and support will be removed two minor releases later\n",
      "  ax3.set_xticklabels('', fontSize = fontSize)\n",
      "<ipython-input-147-03d2f2ecf9f9>:219: MatplotlibDeprecationWarning: Case-insensitive properties were deprecated in 3.3 and support will be removed two minor releases later\n",
      "  ax4.set_yticklabels(latTickLebelsStr, fontSize = fontSize)\n",
      "<ipython-input-147-03d2f2ecf9f9>:221: MatplotlibDeprecationWarning: Case-insensitive properties were deprecated in 3.3 and support will be removed two minor releases later\n",
      "  ax4.set_xticklabels('', fontSize = fontSize)\n",
      "<ipython-input-147-03d2f2ecf9f9>:257: MatplotlibDeprecationWarning: Case-insensitive properties were deprecated in 3.3 and support will be removed two minor releases later\n",
      "  ax5.set_yticklabels('', fontSize = fontSize)\n",
      "<ipython-input-147-03d2f2ecf9f9>:264: MatplotlibDeprecationWarning: Case-insensitive properties were deprecated in 3.3 and support will be removed two minor releases later\n",
      "  ax5.set_xticklabels('', fontSize = fontSize)\n",
      "<ipython-input-147-03d2f2ecf9f9>:291: MatplotlibDeprecationWarning: Case-insensitive properties were deprecated in 3.3 and support will be removed two minor releases later\n",
      "  ax6.set_yticklabels('', fontSize = fontSize)\n",
      "<ipython-input-147-03d2f2ecf9f9>:298: MatplotlibDeprecationWarning: Case-insensitive properties were deprecated in 3.3 and support will be removed two minor releases later\n",
      "  ax6.set_xticklabels('', fontSize = fontSize)\n",
      "<ipython-input-147-03d2f2ecf9f9>:334: MatplotlibDeprecationWarning: Case-insensitive properties were deprecated in 3.3 and support will be removed two minor releases later\n",
      "  ax7.set_yticklabels(latTickLebelsStr, fontSize = fontSize)\n",
      "<ipython-input-147-03d2f2ecf9f9>:336: MatplotlibDeprecationWarning: Case-insensitive properties were deprecated in 3.3 and support will be removed two minor releases later\n",
      "  ax7.set_xticklabels('', fontSize = fontSize)\n",
      "<ipython-input-147-03d2f2ecf9f9>:370: MatplotlibDeprecationWarning: Case-insensitive properties were deprecated in 3.3 and support will be removed two minor releases later\n",
      "  ax8.set_yticklabels('', fontSize = fontSize)\n",
      "<ipython-input-147-03d2f2ecf9f9>:377: MatplotlibDeprecationWarning: Case-insensitive properties were deprecated in 3.3 and support will be removed two minor releases later\n",
      "  ax8.set_xticklabels('', fontSize = fontSize)\n",
      "<ipython-input-147-03d2f2ecf9f9>:404: MatplotlibDeprecationWarning: Case-insensitive properties were deprecated in 3.3 and support will be removed two minor releases later\n",
      "  ax9.set_yticklabels('', fontSize = fontSize)\n",
      "<ipython-input-147-03d2f2ecf9f9>:411: MatplotlibDeprecationWarning: Case-insensitive properties were deprecated in 3.3 and support will be removed two minor releases later\n",
      "  ax9.set_xticklabels('', fontSize = fontSize)\n",
      "<ipython-input-147-03d2f2ecf9f9>:447: MatplotlibDeprecationWarning: Case-insensitive properties were deprecated in 3.3 and support will be removed two minor releases later\n",
      "  ax10.set_yticklabels(latTickLebelsStr, fontSize = fontSize)\n",
      "<ipython-input-147-03d2f2ecf9f9>:448: MatplotlibDeprecationWarning: Case-insensitive properties were deprecated in 3.3 and support will be removed two minor releases later\n",
      "  ax10.set_xticklabels(lonTickLebelsStr, fontSize = fontSize)\n",
      "<ipython-input-147-03d2f2ecf9f9>:496: MatplotlibDeprecationWarning: Case-insensitive properties were deprecated in 3.3 and support will be removed two minor releases later\n",
      "  ax11.set_yticklabels('', fontSize = fontSize)\n",
      "<ipython-input-147-03d2f2ecf9f9>:502: MatplotlibDeprecationWarning: Case-insensitive properties were deprecated in 3.3 and support will be removed two minor releases later\n",
      "  ax11.set_xticklabels(lonTickLebelsStr, fontSize = fontSize)\n",
      "<ipython-input-147-03d2f2ecf9f9>:531: MatplotlibDeprecationWarning: Case-insensitive properties were deprecated in 3.3 and support will be removed two minor releases later\n",
      "  ax12.set_yticklabels('', fontSize = fontSize)\n",
      "<ipython-input-147-03d2f2ecf9f9>:537: MatplotlibDeprecationWarning: Case-insensitive properties were deprecated in 3.3 and support will be removed two minor releases later\n",
      "  ax12.set_xticklabels(lonTickLebelsStr, fontSize = fontSize)\n",
      "<ipython-input-147-03d2f2ecf9f9>:572: UserWarning: This figure was using constrained_layout, but that is incompatible with subplots_adjust and/or tight_layout; disabling constrained_layout.\n",
      "  plt.subplots_adjust(left=0.13,\n",
      "C:\\Users\\muham\\anaconda3\\lib\\site-packages\\cartopy\\mpl\\style.py:90: UserWarning: facecolor will have no effect as it has been defined as \"never\".\n",
      "  warnings.warn('facecolor will have no effect as it has been '\n"
     ]
    },
    {
     "data": {
      "image/png": "[encoded data removed]",
      "text/plain": [
       "<Figure size 792x360 with 13 Axes>"
      ]
     },
     "metadata": {
      "needs_background": "light"
     },
     "output_type": "display_data"
    }
   ],
   "source": [
    "\n",
    "fraction_seasonMax = 1\n",
    "nDiv_seasonMax = int(vmax_djfTot_scenEraThree - vmin_sonTot_scenEraThree + 1)\n",
    "\n",
    "\n",
    "fontSize = 9\n",
    "textFontVal = 11\n",
    "legendFontSize = 10\n",
    "titleFontVal = 11\n",
    "\n",
    "cbarTickFontSize = 10\n",
    "cbarTextFontSize = 13\n",
    "\n",
    "linewidth = 0.7\n",
    "#++++++++++++++++++++\n",
    "\n",
    "# Plot for August\n",
    "#   https://stackoverflow.com/questions/7404116/defining-the-midpoint-of-a-colormap-in-matplotlib\n",
    "class MidpointNormalize(mpl.colors.Normalize):\n",
    "    def __init__(self, vmin, vmax, midpoint=0, clip=False):\n",
    "        self.midpoint = midpoint\n",
    "        mpl.colors.Normalize.__init__(self, vmin, vmax, clip)\n",
    "\n",
    "    def __call__(self, value, clip=None):\n",
    "        normalized_min = max(0, 1 / 2 * (1 - abs((self.midpoint - self.vmin) / (self.midpoint - self.vmax))))\n",
    "        normalized_max = min(1, 1 / 2 * (1 + abs((self.vmax - self.midpoint) / (self.midpoint - self.vmin))))\n",
    "        normalized_mid = 0.5\n",
    "        x, y = [self.vmin, self.midpoint, self.vmax], [normalized_min, normalized_mid, normalized_max]\n",
    "        return np.ma.masked_array(np.interp(value, x, y))\n",
    "\n",
    "\n",
    "norm = MidpointNormalize(vmin=vmin_sonTot_scenEraThree, vmax=vmax_djfTot_scenEraThree+0, midpoint=0)\n",
    "levels = np.linspace(vmin_sonTot_scenEraThree, vmax_djfTot_scenEraThree+0, int(nDiv_seasonMax/fraction_seasonMax)) # to draw 11 levels\n",
    "boundaries=np.linspace(vmin_sonTot_scenEraThree,vmax_djfTot_scenEraThree+0, int(nDiv_seasonMax/fraction_seasonMax))\n",
    "\n",
    "latTickLebelsStr = ['27', '37', '47', ]\n",
    "\n",
    "lonTickLebelsStr = ['115', '105', '95', '85', '75',]\n",
    "\n",
    "\n",
    "#fig = plt.figure(figsize=(26, 26), constrained_layout=True)\n",
    "#fig = plt.figure(figsize=(12, 26), constrained_layout=True)\n",
    "#fig = plt.figure(figsize=(12, 12), constrained_layout=True)\n",
    "fig = plt.figure(figsize=(11, 5), constrained_layout=True)\n",
    "\n",
    "\n",
    "#axs = [plt.subplot(1, 3, x + 1, projection = ccrs.PlateCarree()) for x in range(3)]\n",
    "#axs = [plt.subplot(2, 3, x + 1, projection = ccrs.PlateCarree()) for x in range(6)]\n",
    "axs = [plt.subplot(4, 3, x + 1, projection = ccrs.PlateCarree()) for x in range(12)]\n",
    "\n",
    "print(axs)\n",
    "ax1 = axs[0]\n",
    "\n",
    "cp1 = ax1.contourf(x_Us, y_Us,param_djfTot_scenEraOne_diff_masked_Missi,transform=ccrs.PlateCarree(),cmap=cm.BrBG,levels = levels,norm=norm,)\n",
    "                              \n",
    "plt.grid(b=True, which='major', color='#666666', linestyle='-')\n",
    "\n",
    "\n",
    "ax1.add_feature(cfeature.RIVERS.with_scale('110m'), color='b', label='Rivers')     # couche rivières = was 50 m\n",
    "missi = cfeature.ShapelyFeature(basin_Missi, ccrs.PlateCarree())\n",
    "arkansas = cfeature.ShapelyFeature(basin_Arkansas, ccrs.PlateCarree())\n",
    "missouri = cfeature.ShapelyFeature(basin_Missouri, ccrs.PlateCarree())\n",
    "ohio = cfeature.ShapelyFeature(basin_Ohio, ccrs.PlateCarree())\n",
    "\n",
    "ax1.add_feature(missi,facecolor='none',edgecolor='black',linewidth=linewidth) # Mississippi\n",
    "ax1.add_feature(arkansas,facecolor='none',edgecolor='black',linewidth=linewidth) # Arkansas\n",
    "ax1.add_feature(missouri,facecolor='none',edgecolor='black',linewidth=linewidth) # Missouri\n",
    "ax1.add_feature(ohio,facecolor='none',edgecolor='black',linewidth=linewidth) # Ohio\n",
    "\n",
    "ax1.add_feature(cfeature.COASTLINE)\n",
    "#plt.xlim([-125, -70])\n",
    "#plt.ylim([27, 52])\n",
    "ax1.set_xlim([-115, -75])\n",
    "ax1.set_ylim([27, 52.5])\n",
    "\n",
    "#ax1.set_yticks([27, 32, 37, 42, 47, 52]) \n",
    "ax1.set_yticks([27, 37, 47,]) \n",
    "\n",
    "#ax1.set_xticks([ -125, -120, -115, -110, -105, -100, -95, -90, -85, -80, -75, -70,]) \n",
    "#ax1.set_xticks([ -120, -110, -100, -90, -80,  -70,]) \n",
    "ax1.set_xticks([ -115, -105, -95, -85, -75,]) \n",
    "\n",
    "#latTickLebelsStr = ['27', '32', '37', '42', '47', '52' ]\n",
    "latTickLebelsStr = ['27', '37', '47', ]\n",
    "\n",
    "#lonTickLebelsStr = ['130', '125', '120', '115', '110', '105', '100', '95', '90', '85', '80', '75', '70',]\n",
    "#lonTickLebelsStr = ['125', '120', '115', '110', '105', '100', '95', '90', '85', '80', '75', '70',]\n",
    "#lonTickLebelsStr = [ '120', '110', '100', '90', '80', '70',]\n",
    "\n",
    "ax1.set_yticklabels(latTickLebelsStr, fontSize = fontSize)\n",
    "#ax1.set_xticklabels(lonTickLebelsStr, fontSize = fontSize)\n",
    "ax1.set_xticklabels('', fontSize = fontSize)\n",
    "\n",
    "#ax1.set_ylabel('Latitude (°N)', fontsize = textFontVal)\n",
    "#ax1.set_xlabel('Longitude (°W)', fontsize = textFontVal)\n",
    "#ax1.set_title('(a)', fontsize = textFontVal)\n",
    "#ax1.set_title('(a)', x = 0.01, y=0.995, pad=-14, fontsize = textFontVal,loc='left')\n",
    "ax1.set_title('(a)', x = 0.45, y=1.08, pad=-14, fontsize = textFontVal,loc='left')\n",
    "\n",
    "#ax1.text(-105.0, 52.8, r'2015-2044', fontsize=titleFontVal)\n",
    "ax1.text(-108.0, 54, r'2015-2044', fontsize=titleFontVal)\n",
    "\n",
    "#plt.text(1.55, 1.1, 'August 2020', horizontalalignment='center', fontsize=16, transform=ax1.transAxes)\n",
    "#plt.text(0.1, 0.1, '\\u0394' + 'P for three thiry years under RCP3.70 (reference period: 1971-2000)',fontsize=18,fontweight='bold' )\n",
    "#plt.text(0.35, 0.55, '\\u0394' + 'P for three thiry years under RCP3.70 (reference period: 1971-2000)',fontsize=18,fontweight='bold' )\n",
    "\n",
    "#++++++++++++++++++++++++++++++++++++++++++++++++++++++++++++++++++++++++++++++++++++++++++++++++++\n",
    "\n",
    "ax2 = axs[1]\n",
    "cp2 = ax2.contourf(x_Us, y_Us,param_djfTot_scenEraTwo_diff_masked_Missi,transform=ccrs.PlateCarree(),cmap=cm.BrBG,levels = levels,norm=norm,)\n",
    "\n",
    "p2 = ax2.get_position().get_points().flatten()\n",
    "#cbax2 = fig.add_axes([p2[0]+0.043, +0.04, (p2[2]-p5[0])*1.05, 0.025])\n",
    "#cbax2 = fig.add_axes([p2[0]-0.165, +0.12, (p2[2]-p2[0])*3, 0.025])\n",
    "\n",
    "\n",
    "#cbar2 =plt.colorbar(cp2, ax=ax2, cax=cbax2, shrink=.5, ticks=boundaries, orientation = 'horizontal') \n",
    "#cbar2.set_label(\"Change (%)\", fontsize = 18)\n",
    "\n",
    "plt.grid(b=True, which='major', color='#666666', linestyle='-')\n",
    "ax2.add_feature(cfeature.RIVERS.with_scale('110m'), color='b', label='Rivers')     # couche rivières = was 50 m\n",
    "\n",
    "ax2.add_feature(missi,facecolor='none',edgecolor='black',linewidth=linewidth) # Mississippi\n",
    "ax2.add_feature(arkansas,facecolor='none',edgecolor='black',linewidth=linewidth) # Arkansas\n",
    "ax2.add_feature(missouri,facecolor='none',edgecolor='black',linewidth=linewidth) # Missouri\n",
    "ax2.add_feature(ohio,facecolor='none',edgecolor='black',linewidth=linewidth) # Ohio\n",
    "\n",
    "ax2.add_feature(cfeature.COASTLINE)\n",
    "ax2.set_xlim([-115, -75])\n",
    "ax2.set_ylim([27, 52.5])\n",
    "#ax2.set_yticks([27, 32, 37, 42, 47, 52]) \n",
    "ax2.set_yticks([27, 37, 47,]) \n",
    "\n",
    "ax2.set_yticklabels('', fontSize = fontSize)\n",
    "\n",
    "#ax2.set_xticks([ -125, -120, -115, -110, -105, -100, -95, -90, -85, -80, -75, -70,]) \n",
    "#ax2.set_xticks([ -120, -110, -100, -90, -80,  -70,]) \n",
    "ax2.set_xticks([ -115, -105, -95, -85, -75,]) \n",
    "\n",
    "#ax2.set_xticklabels(lonTickLebelsStr, fontSize = fontSize)\n",
    "ax2.set_xticklabels('', fontSize = fontSize)\n",
    "\n",
    "#ax2.set_ylabel('Latitude (°N)', fontsize = textFontVal)\n",
    "#ax2.set_xlabel('Longitude (°W)', fontsize = textFontVal)\n",
    "#ax2.set_title('(b) 2045-2074', fontsize = textFontVal)\n",
    "#ax2.set_title('(b)', x = 0.01, y=0.995, pad=-14, fontsize = textFontVal,loc='left')\n",
    "ax2.set_title('(b)', x = 0.45, y=1.08, pad=-14, fontsize = textFontVal,loc='left')\n",
    "\n",
    "#ax2.text(-105.0, 52.8, r'2045-2074', fontsize=titleFontVal)\n",
    "ax2.text(-108.0, 54, r'2045-2074', fontsize=titleFontVal)\n",
    "\n",
    "#+++++++++++++++++++++++++++++++++++++++++++++++++++++++++++++++++++++++++++++++++++++++++++++++++\n",
    "#+++++++++++++++++++++++++++++++++++++++++++++++++++++++++++++++++++++++++++++++++++++++++++++++++\n",
    "\n",
    "\n",
    "ax3 = axs[2]\n",
    "cp3 = ax3.contourf(x_Us, y_Us,param_djfTot_scenEraThree_diff_masked_Missi,transform=ccrs.PlateCarree(),cmap=cm.BrBG,levels = levels,norm=norm,)\n",
    "\n",
    "plt.grid(b=True, which='major', color='#666666', linestyle='-')\n",
    "ax3.add_feature(cfeature.RIVERS.with_scale('110m'), color='b', label='Rivers')     # couche rivières = was 50 m\n",
    "\n",
    "ax3.add_feature(missi,facecolor='none',edgecolor='black',linewidth=linewidth) # Mississippi\n",
    "ax3.add_feature(arkansas,facecolor='none',edgecolor='black',linewidth=linewidth) # Arkansas\n",
    "ax3.add_feature(missouri,facecolor='none',edgecolor='black',linewidth=linewidth) # Missouri\n",
    "ax3.add_feature(ohio,facecolor='none',edgecolor='black',linewidth=linewidth) # Ohio\n",
    "\n",
    "ax3.add_feature(cfeature.COASTLINE)\n",
    "ax3.set_xlim([-115, -75])\n",
    "ax3.set_ylim([27, 52.5])\n",
    "#ax3.set_yticks([27, 32, 37, 42, 47, 52]) \n",
    "ax3.set_yticks([27, 37, 47,]) \n",
    "\n",
    "ax3.set_yticklabels('', fontSize = fontSize)\n",
    "\n",
    "#ax3.set_xticks([ -125, -120, -115, -110, -105, -100, -95, -90, -85, -80, -75, -70,]) \n",
    "#ax3.set_xticks([ -120, -110, -100, -90, -80,  -70,]) \n",
    "ax3.set_xticks([ -115, -105, -95, -85, -75,]) \n",
    "\n",
    "#ax3.set_xticklabels(lonTickLebelsStr, fontSize = fontSize)\n",
    "ax3.set_xticklabels('', fontSize = fontSize)\n",
    "\n",
    "#ax3.set_ylabel('Latitude (°N)', fontsize = textFontVal)\n",
    "#ax3.set_xlabel('Longitude (°W)', fontsize = textFontVal)\n",
    "#ax3.set_title('(c)', fontsize = textFontVal)\n",
    "#ax3.set_title('(c)', x = 0.01, y=0.995, pad=-14, fontsize = textFontVal,loc='left')\n",
    "ax3.set_title('(c)', x = 0.45, y=1.08, pad=-14, fontsize = textFontVal,loc='left')\n",
    "\n",
    "#ax3.text(-105.0, 52.8, r'2075-2100', fontsize=titleFontVal)\n",
    "ax3.text(-108.0, 54, r'2075-2100', fontsize=titleFontVal)\n",
    "\n",
    "#+++++++++++++++++++++++++++++++++++++++++++++++++++++++++++++++++++++++++++++++++++++++++++\n",
    "#+++++++++++++++++++++++++++++++++++++++++++++++++++++++++++++++++++++++++++++++++++++++++++\n",
    "\n",
    "\n",
    "ax4 = axs[3]\n",
    "cp4 = ax4.contourf(x_Us, y_Us,param_mamTot_scenEraOne_diff_masked_Missi,transform=ccrs.PlateCarree(),cmap=cm.BrBG,levels = levels,norm=norm,)\n",
    "\n",
    "plt.grid(b=True, which='major', color='#666666', linestyle='-')\n",
    "\n",
    "\n",
    "ax4.add_feature(cfeature.RIVERS.with_scale('110m'), color='b', label='Rivers')     # couche rivières = was 50 m\n",
    "ax4.add_feature(missi,facecolor='none',edgecolor='black',linewidth=linewidth) # Mississippi\n",
    "ax4.add_feature(arkansas,facecolor='none',edgecolor='black',linewidth=linewidth) # Arkansas\n",
    "ax4.add_feature(missouri,facecolor='none',edgecolor='black',linewidth=linewidth) # Missouri\n",
    "ax4.add_feature(ohio,facecolor='none',edgecolor='black',linewidth=linewidth) # Ohio\n",
    "\n",
    "ax4.add_feature(cfeature.COASTLINE)\n",
    "#plt.xlim([-125, -70])\n",
    "#plt.ylim([27, 52])\n",
    "ax4.set_xlim([-115, -75])\n",
    "ax4.set_ylim([27, 52.5])\n",
    "\n",
    "#ax4.set_yticks([27, 32, 37, 42, 47, 52]) \n",
    "ax4.set_yticks([27, 37, 47,]) \n",
    "\n",
    "#ax4.set_xticks([ -125, -120, -115, -110, -105, -100, -95, -90, -85, -80, -75, -70,]) \n",
    "#ax4.set_xticks([ -120, -110, -100, -90, -80,  -70,]) \n",
    "ax4.set_xticks([ -115, -105, -95, -85, -75,]) \n",
    "\n",
    "ax4.set_yticklabels(latTickLebelsStr, fontSize = fontSize)\n",
    "#ax4.set_xticklabels(lonTickLebelsStr, fontSize = fontSize)\n",
    "ax4.set_xticklabels('', fontSize = fontSize)\n",
    "\n",
    "#ax4.set_ylabel('Latitude (°N)', fontsize = textFontVal)\n",
    "ax4.set_ylabel('Latitude (°N)', fontsize = textFontVal, y=-0.15)\n",
    "\n",
    "#ax4.set_xlabel('Longitude (°W)', fontsize = textFontVal)\n",
    "#ax4.set_title('(d)', fontsize = textFontVal)\n",
    "#ax4.set_title('(d)', x = 0.01, y=0.995, pad=-14, fontsize = textFontVal,loc='left')\n",
    "ax4.set_title('(d)', x = 0.45, y=1.08, pad=-14, fontsize = textFontVal,loc='left')\n",
    "\n",
    "#+++++++++++++++++++++++++++++++++++++++++++++++++++++++++++++++++++++++++++\n",
    "\n",
    "ax5 = axs[4]\n",
    "cp5 = ax5.contourf(x_Us, y_Us,param_mamTot_scenEraTwo_diff_masked_Missi,transform=ccrs.PlateCarree(),cmap=cm.BrBG,levels = levels,norm=norm,)\n",
    "\n",
    "p5 = ax5.get_position().get_points().flatten()\n",
    "#cbax2 = fig.add_axes([p2[0]+0.043, +0.04, (p2[2]-p5[0])*1.05, 0.025])\n",
    "#cbax5 = fig.add_axes([p5[0]-0.165, +0.04, (p5[2]-p5[0])*3, 0.025])\n",
    "\n",
    "#cbar5 =plt.colorbar(cp5, ax=ax5, cax=cbax5, shrink=.5, ticks=boundaries, orientation = 'horizontal') \n",
    "#cbar5.set_label(\"Change (%)\", fontsize = 18)\n",
    "\n",
    "plt.grid(b=True, which='major', color='#666666', linestyle='-')\n",
    "ax5.add_feature(cfeature.RIVERS.with_scale('110m'), color='b', label='Rivers')     # couche rivières = was 50 m\n",
    "\n",
    "ax5.add_feature(missi,facecolor='none',edgecolor='black',linewidth=linewidth) # Mississippi\n",
    "ax5.add_feature(arkansas,facecolor='none',edgecolor='black',linewidth=linewidth) # Arkansas\n",
    "ax5.add_feature(missouri,facecolor='none',edgecolor='black',linewidth=linewidth) # Missouri\n",
    "ax5.add_feature(ohio,facecolor='none',edgecolor='black',linewidth=linewidth) # Ohio\n",
    "\n",
    "ax5.add_feature(cfeature.COASTLINE)\n",
    "ax5.set_xlim([-115, -75])\n",
    "ax5.set_ylim([27, 52.5])\n",
    "#ax5.set_yticks([27, 32, 37, 42, 47, 52]) \n",
    "ax5.set_yticks([27, 37, 47,]) \n",
    "\n",
    "ax5.set_yticklabels('', fontSize = fontSize)\n",
    "\n",
    "#ax5.set_xticks([ -125, -120, -115, -110, -105, -100, -95, -90, -85, -80, -75, -70,]) \n",
    "#ax5.set_xticks([ -120, -110, -100, -90, -80,  -70,]) \n",
    "ax5.set_xticks([ -115, -105, -95, -85, -75,]) \n",
    "\n",
    "#ax5.set_xticklabels(lonTickLebelsStr, fontSize = fontSize)\n",
    "ax5.set_xticklabels('', fontSize = fontSize)\n",
    "\n",
    "#ax5.set_ylabel('Latitude (°N)', fontsize = textFontVal)\n",
    "#ax5.set_xlabel('Longitude (°W)', fontsize = textFontVal)\n",
    "#ax5.set_title('(e)', fontsize = textFontVal)\n",
    "#ax5.set_title('(e)', x = 0.01, y=0.995, pad=-14, fontsize = textFontVal,loc='left')\n",
    "ax5.set_title('(e)', x = 0.45, y=1.08, pad=-14, fontsize = textFontVal,loc='left')\n",
    "\n",
    "#+++++++++++++++++++++++++++++++++++++++++++++++++++++++++++++++++++++++++++++++++++++++++++++++++\n",
    "\n",
    "ax6 = axs[5]\n",
    "cp6 = ax6.contourf(x_Us, y_Us,param_mamTot_scenEraThree_diff_masked_Missi,transform=ccrs.PlateCarree(),cmap=cm.BrBG,levels = levels,norm=norm,)\n",
    "\n",
    "plt.grid(b=True, which='major', color='#666666', linestyle='-')\n",
    "ax6.add_feature(cfeature.RIVERS.with_scale('110m'), color='b', label='Rivers')     # couche rivières = was 50 m\n",
    "\n",
    "ax6.add_feature(missi,facecolor='none',edgecolor='black',linewidth=linewidth) # Mississippi\n",
    "ax6.add_feature(arkansas,facecolor='none',edgecolor='black',linewidth=linewidth) # Arkansas\n",
    "ax6.add_feature(missouri,facecolor='none',edgecolor='black',linewidth=linewidth) # Missouri\n",
    "ax6.add_feature(ohio,facecolor='none',edgecolor='black',linewidth=linewidth) # Ohio\n",
    "\n",
    "ax6.add_feature(cfeature.COASTLINE)\n",
    "ax6.set_xlim([-115, -75])\n",
    "ax6.set_ylim([27, 52.5])\n",
    "#ax6.set_yticks([27, 32, 37, 42, 47, 52]) \n",
    "ax6.set_yticks([27, 37, 47,]) \n",
    "\n",
    "ax6.set_yticklabels('', fontSize = fontSize)\n",
    "\n",
    "#ax6.set_xticks([ -125, -120, -115, -110, -105, -100, -95, -90, -85, -80, -75, -70,]) \n",
    "#ax6.set_xticks([ -120, -110, -100, -90, -80,  -70,]) \n",
    "ax6.set_xticks([ -115, -105, -95, -85, -75,]) \n",
    "\n",
    "#ax6.set_xticklabels(lonTickLebelsStr, fontSize = fontSize)\n",
    "ax6.set_xticklabels('', fontSize = fontSize)\n",
    "\n",
    "#ax6.set_ylabel('Latitude (°N)', fontsize = textFontVal)\n",
    "#ax6.set_xlabel('Longitude (°W)', fontsize = textFontVal)\n",
    "#ax6.set_title('(f)', fontsize = textFontVal)\n",
    "#ax6.set_title('(f)', x = 0.01, y=0.995, pad=-14, fontsize = textFontVal,loc='left')\n",
    "ax6.set_title('(f)', x = 0.45, y=1.08, pad=-14, fontsize = textFontVal,loc='left')\n",
    "\n",
    "#+++++++++++++++++++++++++++++++++++++++++++++++++++++++++++++++++++++++++++++++++++++++++++\n",
    "\n",
    "\n",
    "ax7 = axs[6]\n",
    "cp7 = ax7.contourf(x_Us, y_Us,param_jjaTot_scenEraOne_diff_masked_Missi,transform=ccrs.PlateCarree(),cmap=cm.BrBG,levels = levels,norm=norm,)\n",
    "\n",
    "plt.grid(b=True, which='major', color='#666666', linestyle='-')\n",
    "\n",
    "\n",
    "ax7.add_feature(cfeature.RIVERS.with_scale('110m'), color='b', label='Rivers')     # couche rivières = was 50 m\n",
    "ax7.add_feature(missi,facecolor='none',edgecolor='black',linewidth=linewidth) # Mississippi\n",
    "ax7.add_feature(arkansas,facecolor='none',edgecolor='black',linewidth=linewidth) # Arkansas\n",
    "ax7.add_feature(missouri,facecolor='none',edgecolor='black',linewidth=linewidth) # Missouri\n",
    "ax7.add_feature(ohio,facecolor='none',edgecolor='black',linewidth=linewidth) # Ohio\n",
    "\n",
    "ax7.add_feature(cfeature.COASTLINE)\n",
    "#plt.xlim([-125, -70])\n",
    "#plt.ylim([27, 52])\n",
    "ax7.set_xlim([-115, -75])\n",
    "ax7.set_ylim([27, 52.5])\n",
    "\n",
    "#ax7.set_yticks([27, 32, 37, 42, 47, 52]) \n",
    "ax7.set_yticks([27, 37, 47,]) \n",
    "\n",
    "#ax7.set_xticks([ -125, -120, -115, -110, -105, -100, -95, -90, -85, -80, -75, -70,]) \n",
    "#ax7.set_xticks([ -120, -110, -100, -90, -80,  -70,]) \n",
    "ax7.set_xticks([ -115, -105, -95, -85, -75,]) \n",
    "\n",
    "ax7.set_yticklabels(latTickLebelsStr, fontSize = fontSize)\n",
    "#ax7.set_xticklabels(lonTickLebelsStr, fontSize = fontSize)\n",
    "ax7.set_xticklabels('', fontSize = fontSize)\n",
    "\n",
    "#ax7.set_ylabel('Latitude (°N)', fontsize = textFontVal)\n",
    "#ax7.set_xlabel('Longitude (°W)', fontsize = textFontVal)\n",
    "#ax7.set_title('(g)', fontsize = textFontVal)\n",
    "#ax7.set_title('(g)', x = 0.01, y=0.995, pad=-14, fontsize = textFontVal,loc='left')\n",
    "ax7.set_title('(g)', x = 0.45, y=1.08, pad=-14, fontsize = textFontVal,loc='left')\n",
    "\n",
    "#+++++++++++++++++++++++++++++++++++++++++++++++++++++++++++++++++++++++++++\n",
    "\n",
    "ax8 = axs[7]\n",
    "cp8 = ax8.contourf(x_Us, y_Us,param_jjaTot_scenEraTwo_diff_masked_Missi,transform=ccrs.PlateCarree(),cmap=cm.BrBG,levels = levels,norm=norm,)\n",
    "\n",
    "p8 = ax8.get_position().get_points().flatten()\n",
    "#cbax8 = fig.add_axes([p2[0]+0.043, +0.04, (p2[2]-p5[0])*1.05, 0.025])\n",
    "#cbax8 = fig.add_axes([p8[0]-0.165, +0.05, (p8[2]-p8[0])*3, 0.015])\n",
    "\n",
    "#cbar8 =plt.colorbar(cp8, ax=ax8, cax=cbax8, shrink=.5, ticks=boundaries, orientation = 'horizontal') \n",
    "#cbar8.set_label(\"Change (%)\", fontsize = 18)\n",
    "\n",
    "plt.grid(b=True, which='major', color='#666666', linestyle='-')\n",
    "ax8.add_feature(cfeature.RIVERS.with_scale('110m'), color='b', label='Rivers')     # couche rivières = was 50 m\n",
    "\n",
    "ax8.add_feature(missi,facecolor='none',edgecolor='black',linewidth=linewidth) # Mississippi\n",
    "ax8.add_feature(arkansas,facecolor='none',edgecolor='black',linewidth=linewidth) # Arkansas\n",
    "ax8.add_feature(missouri,facecolor='none',edgecolor='black',linewidth=linewidth) # Missouri\n",
    "ax8.add_feature(ohio,facecolor='none',edgecolor='black',linewidth=linewidth) # Ohio\n",
    "\n",
    "ax8.add_feature(cfeature.COASTLINE)\n",
    "ax8.set_xlim([-115, -75])\n",
    "ax8.set_ylim([27, 52.5])\n",
    "#ax8.set_yticks([27, 32, 37, 42, 47, 52]) \n",
    "ax8.set_yticks([27, 37, 47,]) \n",
    "\n",
    "ax8.set_yticklabels('', fontSize = fontSize)\n",
    "\n",
    "#ax8.set_xticks([ -125, -120, -115, -110, -105, -100, -95, -90, -85, -80, -75, -70,])\n",
    "#ax8.set_xticks([ -120, -110, -100, -90, -80,  -70,]) \n",
    "ax8.set_xticks([ -115, -105, -95, -85, -75,]) \n",
    "\n",
    "#ax8.set_xticklabels(lonTickLebelsStr, fontSize = fontSize)\n",
    "ax8.set_xticklabels('', fontSize = fontSize)\n",
    "\n",
    "#ax8.set_ylabel('Latitude (°N)', fontsize = textFontVal)\n",
    "#ax8.set_xlabel('Longitude (°W)', fontsize = textFontVal)\n",
    "#ax8.set_title('(h)', fontsize = textFontVal)\n",
    "#ax8.set_title('(h)', x = 0.01, y=0.995, pad=-14, fontsize = textFontVal,loc='left')\n",
    "ax8.set_title('(h)', x = 0.45, y=1.08, pad=-14, fontsize = textFontVal,loc='left')\n",
    "\n",
    "#+++++++++++++++++++++++++++++++++++++++++++++++++++++++++++++++++++++++++++++++++++++++++++++++++\n",
    "\n",
    "ax9 = axs[8]\n",
    "cp9 = ax9.contourf(x_Us, y_Us,param_jjaTot_scenEraThree_diff_masked_Missi,transform=ccrs.PlateCarree(),cmap=cm.BrBG,levels = levels,norm=norm,)\n",
    "\n",
    "plt.grid(b=True, which='major', color='#666666', linestyle='-')\n",
    "ax9.add_feature(cfeature.RIVERS.with_scale('110m'), color='b', label='Rivers')     # couche rivières = was 50 m\n",
    "\n",
    "ax9.add_feature(missi,facecolor='none',edgecolor='black',linewidth=linewidth) # Mississippi\n",
    "ax9.add_feature(arkansas,facecolor='none',edgecolor='black',linewidth=linewidth) # Arkansas\n",
    "ax9.add_feature(missouri,facecolor='none',edgecolor='black',linewidth=linewidth) # Missouri\n",
    "ax9.add_feature(ohio,facecolor='none',edgecolor='black',linewidth=linewidth) # Ohio\n",
    "\n",
    "ax9.add_feature(cfeature.COASTLINE)\n",
    "ax9.set_xlim([-115, -75])\n",
    "ax9.set_ylim([27, 52.5])\n",
    "#ax9.set_yticks([27, 32, 37, 42, 47, 52]) \n",
    "ax9.set_yticks([27, 37, 47,]) \n",
    "\n",
    "ax9.set_yticklabels('', fontSize = fontSize)\n",
    "\n",
    "#ax9.set_xticks([ -125, -120, -115, -110, -105, -100, -95, -90, -85, -80, -75, -70,]) \n",
    "#ax9.set_xticks([ -120, -110, -100, -90, -80,  -70,]) \n",
    "ax9.set_xticks([ -115, -105, -95, -85, -75,]) \n",
    "\n",
    "#ax9.set_xticklabels(lonTickLebelsStr, fontSize = fontSize)\n",
    "ax9.set_xticklabels('', fontSize = fontSize)\n",
    "\n",
    "#ax9.set_ylabel('Latitude (°N)', fontsize = textFontVal)\n",
    "#ax9.set_xlabel('Longitude (°W)', fontsize = textFontVal)\n",
    "#ax9.set_title('(i) 2075-2100', fontsize = textFontVal)\n",
    "#ax9.set_title('(i)', x = 0.01, y=0.995, pad=-14, fontsize = textFontVal,loc='left')\n",
    "ax9.set_title('(i)', x = 0.45, y=1.08, pad=-14, fontsize = textFontVal,loc='left')\n",
    "\n",
    "#+++++++++++++++++++++++++++++++++++++++++++++++++++++++++++++++++++++++++++++++++++++++++++\n",
    "\n",
    "\n",
    "ax10 = axs[9]\n",
    "cp10 = ax10.contourf(x_Us, y_Us,param_sonTot_scenEraOne_diff_masked_Missi,transform=ccrs.PlateCarree(),cmap=cm.BrBG,levels = levels,norm=norm,)\n",
    "\n",
    "plt.grid(b=True, which='major', color='#666666', linestyle='-')\n",
    "\n",
    "\n",
    "ax10.add_feature(cfeature.RIVERS.with_scale('110m'), color='b', label='Rivers')     # couche rivières = was 50 m\n",
    "ax10.add_feature(missi,facecolor='none',edgecolor='black',linewidth=linewidth) # Mississippi\n",
    "ax10.add_feature(arkansas,facecolor='none',edgecolor='black',linewidth=linewidth) # Arkansas\n",
    "ax10.add_feature(missouri,facecolor='none',edgecolor='black',linewidth=linewidth) # Missouri\n",
    "ax10.add_feature(ohio,facecolor='none',edgecolor='black',linewidth=linewidth) # Ohio\n",
    "\n",
    "ax10.add_feature(cfeature.COASTLINE)\n",
    "#plt.xlim([-125, -70])\n",
    "#plt.ylim([27, 52])\n",
    "ax10.set_xlim([-115, -75])\n",
    "ax10.set_ylim([27, 52.5])\n",
    "\n",
    "#ax10.set_yticks([27, 32, 37, 42, 47, 52]) \n",
    "ax10.set_yticks([27, 37, 47,]) \n",
    "\n",
    "#ax7.set_xticks([ -125, -120, -115, -110, -105, -100, -95, -90, -85, -80, -75, -70,]) \n",
    "#ax10.set_xticks([ -120, -110, -100, -90, -80,  -70,]) \n",
    "ax10.set_xticks([ -115, -105, -95, -85, -75,]) \n",
    "\n",
    "ax10.set_yticklabels(latTickLebelsStr, fontSize = fontSize)\n",
    "ax10.set_xticklabels(lonTickLebelsStr, fontSize = fontSize)\n",
    "\n",
    "\n",
    "#ax10.set_ylabel('Latitude (°N)', fontsize = textFontVal)\n",
    "#ax10.set_xlabel('Longitude (°W)', fontsize = textFontVal)\n",
    "#ax10.set_title('(j)', fontsize = textFontVal)\n",
    "#ax10.set_title('(j)', x = 0.01, y=0.995, pad=-14, fontsize = textFontVal,loc='left')\n",
    "ax10.set_title('(j)', x = 0.45, y=1.08, pad=-14, fontsize = textFontVal,loc='left')\n",
    "\n",
    "#+++++++++++++++++++++++++++++++++++++++++++++++++++++++++++++++++++++++++++\n",
    "\n",
    "\n",
    "ax11 = axs[10]\n",
    "cp11 = ax11.contourf(x_Us, y_Us,param_sonTot_scenEraTwo_diff_masked_Missi,transform=ccrs.PlateCarree(),cmap=cm.BrBG,levels = levels,norm=norm,)\n",
    "\n",
    "p11 = ax11.get_position().get_points().flatten()\n",
    "#cbax8 = fig.add_axes([p2[0]+0.043, +0.04, (p2[2]-p5[0])*1.05, 0.025])\n",
    "#cbax11 = fig.add_axes([p11[0]-0.295, +0.05, (p11[2]-p11[0])*4, 0.015])\n",
    "#cbax11 = fig.add_axes([p11[0]-0.295, +0.05, (p11[2]-p11[0])*3.5, 0.015])\n",
    "cbax11 = fig.add_axes([p11[0]+0.18, +0.02, (p11[2]-p11[0])*0.12, 0.9])\n",
    "\n",
    "\n",
    "#cbar11 =plt.colorbar(cp11, ax=ax11, cax=cbax11, shrink=.5, ticks=boundaries, orientation = 'horizontal') \n",
    "cbar11 =plt.colorbar(cp11, ax=ax11, cax=cbax11, shrink=.5, ticks=boundaries, orientation = 'vertical') \n",
    "\n",
    "cbar11.ax.tick_params(labelsize = cbarTickFontSize)  # set your label size here\n",
    "\n",
    "for label in cbar11.ax.yaxis.get_ticklabels()[1::2]:\n",
    "    label.set_visible(False)\n",
    "\n",
    "#cbar11.set_label(\"kg/$\\mathregular{m^{2}}$\", fontsize = 18)\n",
    "cbar11.set_label(\"kg/$\\mathregular{m^{2}}$\", fontsize = cbarTextFontSize)\n",
    "\n",
    "\n",
    "plt.grid(b=True, which='major', color='#666666', linestyle='-')\n",
    "ax11.add_feature(cfeature.RIVERS.with_scale('110m'), color='b', label='Rivers')     # couche rivières = was 50 m\n",
    "\n",
    "ax11.add_feature(missi,facecolor='none',edgecolor='black',linewidth=linewidth) # Mississippi\n",
    "ax11.add_feature(arkansas,facecolor='none',edgecolor='black',linewidth=linewidth) # Arkansas\n",
    "ax11.add_feature(missouri,facecolor='none',edgecolor='black',linewidth=linewidth) # Missouri\n",
    "ax11.add_feature(ohio,facecolor='none',edgecolor='black',linewidth=linewidth) # Ohio\n",
    "\n",
    "ax11.add_feature(cfeature.COASTLINE)\n",
    "ax11.set_xlim([-115, -75])\n",
    "ax11.set_ylim([27, 52.5])\n",
    "#ax11.set_yticks([27, 32, 37, 42, 47, 52]) \n",
    "ax11.set_yticks([27, 37, 47,]) \n",
    "\n",
    "ax11.set_yticklabels('', fontSize = fontSize)\n",
    "\n",
    "#ax8.set_xticks([ -125, -120, -115, -110, -105, -100, -95, -90, -85, -80, -75, -70,])\n",
    "#ax11.set_xticks([ -120, -110, -100, -90, -80,  -70,]) \n",
    "ax11.set_xticks([ -115, -105, -95, -85, -75,]) \n",
    "\n",
    "ax11.set_xticklabels(lonTickLebelsStr, fontSize = fontSize)\n",
    "#ax11.set_ylabel('Latitude (°N)', fontsize = textFontVal)\n",
    "ax11.set_xlabel('Longitude (°W)', fontsize = textFontVal)\n",
    "\n",
    "#ax11.set_title('(k)', fontsize = textFontVal)\n",
    "#ax11.set_title('(k)', x = 0.01, y=0.995, pad=-14, fontsize = textFontVal,loc='left')\n",
    "ax11.set_title('(k)', x = 0.45, y=1.08, pad=-14, fontsize = textFontVal,loc='left')\n",
    "\n",
    "#+++++++++++++++++++++++++++++++++++++++++++++++++++++++++++++++++++++++++++++++++++++++++++++++++\n",
    "\n",
    "ax12 = axs[11]\n",
    "cp12 = ax12.contourf(x_Us, y_Us,param_sonTot_scenEraThree_diff_masked_Missi,transform=ccrs.PlateCarree(),cmap=cm.BrBG,levels = levels,norm=norm,)\n",
    "\n",
    "plt.grid(b=True, which='major', color='#666666', linestyle='-')\n",
    "ax12.add_feature(cfeature.RIVERS.with_scale('110m'), color='b', label='Rivers')     # couche rivières = was 50 m\n",
    "\n",
    "ax12.add_feature(missi,facecolor='none',edgecolor='black',linewidth=linewidth) # Mississippi\n",
    "ax12.add_feature(arkansas,facecolor='none',edgecolor='black',linewidth=linewidth) # Arkansas\n",
    "ax12.add_feature(missouri,facecolor='none',edgecolor='black',linewidth=linewidth) # Missouri\n",
    "ax12.add_feature(ohio,facecolor='none',edgecolor='black',linewidth=linewidth) # Ohio\n",
    "\n",
    "ax12.add_feature(cfeature.COASTLINE)\n",
    "ax12.set_xlim([-115, -75])\n",
    "#ax12.set_ylim([27, 52])\n",
    "ax12.set_ylim([27, 52.5])\n",
    "\n",
    "#ax12.set_yticks([27, 32, 37, 42, 47, 52]) \n",
    "ax12.set_yticks([27, 37, 47,]) \n",
    "\n",
    "ax12.set_yticklabels('', fontSize = fontSize)\n",
    "\n",
    "#ax9.set_xticks([ -125, -120, -115, -110, -105, -100, -95, -90, -85, -80, -75, -70,]) \n",
    "#ax12.set_xticks([ -120, -110, -100, -90, -80,  -70,]) \n",
    "ax12.set_xticks([ -115, -105, -95, -85, -75,]) \n",
    "\n",
    "ax12.set_xticklabels(lonTickLebelsStr, fontSize = fontSize)\n",
    "#ax9.set_ylabel('Latitude (°N)', fontsize = textFontVal)\n",
    "#ax12.set_xlabel('Longitude (°W)', fontsize = textFontVal)\n",
    "#ax12.set_title('(l)', fontsize = textFontVal)\n",
    "#ax12.set_title('(l)', x = 0.01, y=0.995, pad=-14, fontsize = textFontVal,loc='left')\n",
    "ax12.set_title('(l)', x = 0.45, y=1.08, pad=-14, fontsize = textFontVal,loc='left')\n",
    "\n",
    "#+++++++++++++++++++++++++++++++++++++++++++++++++++++++++++++++++++++++++++++++++++++++++++\n",
    "\n",
    "\n",
    "\n",
    "#+++++++++++++++++++++++++++++++++++++++++++++++++++++++++++++++++++++++++++++++++++++++++++++++++\n",
    "#+++++++++++++++++++++++++++++++++++++++++++++++++++++++++++++++++++++++++++++++++++++++++++++++++\n",
    "#+++++++++++++++++++++++++++++++++++++++++++++++++++++++++++++++++++++++++++++++++++++++++++++++++\n",
    "\n",
    "#plt.text(-9.4, 690, 'DJF', fontsize=18)\n",
    "#plt.text(-9.4, 500, 'MAM', fontsize=18)\n",
    "#plt.text(-9.4, 310, 'JJA', fontsize=18)\n",
    "#plt.text(-9.4, 120, 'SON', fontsize=18)\n",
    "\n",
    "plt.text(-34, 4.10, 'DJF', fontsize=titleFontVal)\n",
    "plt.text(-39, 0.85, 'MAM', fontsize=titleFontVal)\n",
    "plt.text(-32, -2.25, 'JJA', fontsize=titleFontVal)\n",
    "plt.text(-38, -5.65, 'SON', fontsize=titleFontVal)\n",
    "\n",
    "#plt.text(0.35, 0.55, '\\u0394' + 'P for three thiry years under RCP3.70 (reference period: 1971-2000)',fontsize=18,fontweight='bold' )\n",
    "#fig.suptitle('this is the figure title')\n",
    "#st = fig.suptitle(\"Seasonal \" + '\\u0394' + \"P for three periods under RCP3.70 (reference period: 1971-2000)\", fontsize = 20)\n",
    "#st = fig.suptitle(\"Seasonal \" + '\\u0394' + \"ET for three periods under RCP3.70\", x=-110.0, y=55, fontsize = 20)\n",
    "#st = fig.suptitle(\"Seasonal \" + \"change in soil moisture for three time periods\", x=-110.0, y=62, fontsize = grandTitleFontVal)\n",
    "#st.set_y(0.42)\n",
    "#st.set_x(0.565)\n",
    "#fig.subplots_adjust(top=2.25)\n",
    "#plt.subplots_adjust(left = 0.125, right=1, bottom = 0.09, top = 0.4, wspace = 0.1, hspace = 0.1)\n",
    "\n",
    "plt.subplots_adjust(left=0.13,\n",
    "                    bottom=0.1,\n",
    "                    right=0.6,\n",
    "                    top=0.9,\n",
    "                    wspace=0.1,\n",
    "                    hspace=0.2)\n",
    "\n",
    "import warnings\n",
    "\n",
    "with warnings.catch_warnings():\n",
    "    warnings.filterwarnings(\"ignore\", category=DeprecationWarning)\n",
    "\n",
    "#plt.margins(x=0)\n",
    "#plt.axis('tight')\n",
    "#ax.axis('tight')\n",
    "\n",
    "#plt.savefig(r'C:\\rezaul\\1.academic\\1.research\\2.project\\mrb\\output\\fig\\paperOne\\param\\soilMoist\\seasonal\\tcfSoilMoistSeasMap.pdf') \n",
    "#plt.savefig(r'C:\\rezaul\\1.academic\\1.research\\2.project\\mrb\\output\\fig\\paperOne\\param\\soilMoist\\seasonal\\tcfSoilMoistSeasMap.png', dpi=600)  \n",
    "\n",
    "\n",
    "#++++++++++++++++++++++++++++++++++++++++++++++++++++++++++++++++++++++++++++++++++++++++++++++++++\n",
    "#++++++++++++++++++++++++++++++++++++++++++++++++++++++++++++++++++++++++++++++++++"
   ]
  },
  {
   "cell_type": "code",
   "execution_count": null,
   "metadata": {},
   "outputs": [],
   "source": []
  },
  {
   "cell_type": "code",
   "execution_count": null,
   "metadata": {},
   "outputs": [],
   "source": []
  },
  {
   "cell_type": "code",
   "execution_count": null,
   "metadata": {},
   "outputs": [],
   "source": []
  },
  {
   "cell_type": "code",
   "execution_count": null,
   "metadata": {},
   "outputs": [],
   "source": []
  },
  {
   "cell_type": "code",
   "execution_count": null,
   "metadata": {},
   "outputs": [],
   "source": []
  },
  {
   "cell_type": "code",
   "execution_count": null,
   "metadata": {},
   "outputs": [],
   "source": []
  },
  {
   "cell_type": "code",
   "execution_count": null,
   "metadata": {},
   "outputs": [],
   "source": []
  },
  {
   "cell_type": "code",
   "execution_count": null,
   "metadata": {},
   "outputs": [],
   "source": []
  },
  {
   "cell_type": "code",
   "execution_count": null,
   "metadata": {},
   "outputs": [],
   "source": []
  },
  {
   "cell_type": "code",
   "execution_count": 148,
   "metadata": {},
   "outputs": [
    {
     "ename": "SyntaxError",
     "evalue": "invalid syntax (<ipython-input-148-f3db6e1961f9>, line 1)",
     "output_type": "error",
     "traceback": [
      "\u001b[1;36m  File \u001b[1;32m\"<ipython-input-148-f3db6e1961f9>\"\u001b[1;36m, line \u001b[1;32m1\u001b[0m\n\u001b[1;33m    STOP here ===================\u001b[0m\n\u001b[1;37m         ^\u001b[0m\n\u001b[1;31mSyntaxError\u001b[0m\u001b[1;31m:\u001b[0m invalid syntax\n"
     ]
    }
   ],
   "source": [
    "STOP here ==================="
   ]
  },
  {
   "cell_type": "code",
   "execution_count": null,
   "metadata": {},
   "outputs": [],
   "source": []
  },
  {
   "cell_type": "code",
   "execution_count": null,
   "metadata": {},
   "outputs": [],
   "source": []
  },
  {
   "cell_type": "code",
   "execution_count": null,
   "metadata": {},
   "outputs": [],
   "source": []
  },
  {
   "cell_type": "code",
   "execution_count": null,
   "metadata": {},
   "outputs": [],
   "source": []
  }
 ],
 "metadata": {
  "kernelspec": {
   "display_name": "Python 3",
   "language": "python",
   "name": "python3"
  },
  "language_info": {
   "codemirror_mode": {
    "name": "ipython",
    "version": 3
   },
   "file_extension": ".py",
   "mimetype": "text/x-python",
   "name": "python",
   "nbconvert_exporter": "python",
   "pygments_lexer": "ipython3",
   "version": "3.8.5"
  }
 },
 "nbformat": 4,
 "nbformat_minor": 4
}
