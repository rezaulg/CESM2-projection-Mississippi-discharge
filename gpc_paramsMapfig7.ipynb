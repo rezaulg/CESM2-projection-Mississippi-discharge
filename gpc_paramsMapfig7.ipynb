{
 "cells": [
  {
   "cell_type": "markdown",
   "metadata": {},
   "source": [
    "## This script reads data for different variables downloaded from Casper in NCAR (Fig 7)"
   ]
  },
  {
   "cell_type": "markdown",
   "metadata": {},
   "source": [
    "## Import Libraries"
   ]
  },
  {
   "cell_type": "code",
   "execution_count": 1,
   "metadata": {},
   "outputs": [],
   "source": [
    "import numpy as np\n",
    "import pandas as pd\n",
    "import datetime\n",
    "import xarray as xr\n",
    "import seaborn as sns\n",
    "import warnings\n",
    "from matplotlib import pyplot as plt \n",
    "import matplotlib as mpl\n",
    "import shapefile as shp\n",
    "import cartopy.io.shapereader as shpreader\n",
    "from numpy import linspace\n",
    "from numpy import meshgrid\n",
    "import matplotlib.colors as colors\n",
    "from numpy import array, ma\n",
    "import cartopy.crs as ccrs\n",
    "import matplotlib.cm as cm\n",
    "import cartopy.feature as cfeature"
   ]
  },
  {
   "cell_type": "markdown",
   "metadata": {},
   "source": [
    "## Basin shape files"
   ]
  },
  {
   "cell_type": "code",
   "execution_count": 2,
   "metadata": {},
   "outputs": [],
   "source": [
    "\n",
    "shapeFile_Missi = 'C:/rezaul/1.academic/1.research/2.project/mrb/dt/shapeFile/mississippi_basins/mississippi_basins/mississippi_1.shp'\n",
    "shapeFile_Arkansas = 'C:/rezaul/1.academic/1.research/2.project/mrb/dt/shapeFile/mississippi_basins/mississippi_basins/arkansas_basin_1.shp'\n",
    "shapeFile_Missouri = 'C:/rezaul/1.academic/1.research/2.project/mrb/dt/shapeFile/mississippi_basins/mississippi_basins/missouri_basin_1.shp'\n",
    "shapeFile_Ohio = 'C:/rezaul/1.academic/1.research/2.project/mrb/dt/shapeFile/mississippi_basins/mississippi_basins/ohio_basin_1.shp'\n"
   ]
  },
  {
   "cell_type": "code",
   "execution_count": 3,
   "metadata": {},
   "outputs": [],
   "source": [
    "\n",
    "sf_Missi = shp.Reader(shapeFile_Missi)\n",
    "sf_Arkansas = shp.Reader(shapeFile_Arkansas)\n",
    "sf_Missouri = shp.Reader(shapeFile_Missouri)\n",
    "sf_Ohio = shp.Reader(shapeFile_Ohio)\n"
   ]
  },
  {
   "cell_type": "code",
   "execution_count": 4,
   "metadata": {},
   "outputs": [],
   "source": [
    "\n",
    "reader_Missi = shpreader.Reader(shapeFile_Missi)\n",
    "basin_Missi = list(reader_Missi.geometries())\n",
    "#\n",
    "\n",
    "reader_Arkansas = shpreader.Reader(shapeFile_Arkansas)\n",
    "basin_Arkansas = list(reader_Arkansas.geometries())\n",
    "#\n",
    "reader_Missouri = shpreader.Reader(shapeFile_Missouri)\n",
    "basin_Missouri = list(reader_Missouri.geometries())\n",
    "#\n",
    "reader_Ohio = shpreader.Reader(shapeFile_Ohio)\n",
    "basin_Ohio = list(reader_Ohio.geometries())\n",
    "#\n"
   ]
  },
  {
   "cell_type": "markdown",
   "metadata": {},
   "source": [
    "## Using data processed from GLADE access to NCAR HPC"
   ]
  },
  {
   "cell_type": "markdown",
   "metadata": {},
   "source": [
    "## Read Lat, Lon data for the selected Domain processed from \"GLADE\" in Casper"
   ]
  },
  {
   "cell_type": "markdown",
   "metadata": {},
   "source": [
    "### Lat"
   ]
  },
  {
   "cell_type": "code",
   "execution_count": 5,
   "metadata": {},
   "outputs": [
    {
     "name": "stdout",
     "output_type": "stream",
     "text": [
      "(32,)\n",
      "[24.973822 25.916231 26.858639 27.801046 28.743456 29.685863 30.628273\n",
      " 31.57068  32.51309  33.455498 34.397907 35.340313 36.282722 37.225132\n",
      " 38.167538 39.109947 40.052357 40.994766 41.937172 42.87958  43.82199\n",
      " 44.764397 45.706806 46.649216 47.59162  48.53403  49.47644  50.41885\n",
      " 51.361256 52.303665 53.246075 54.18848 ]\n"
     ]
    }
   ],
   "source": [
    "file_LatUs = 'C:/rezaul/1.academic/1.research/2.project/mrb/dt/cesm/cesm2LE/param/precip/mon/latsUsArr.npy'\n",
    "\n",
    "lats_US = np.load(file_LatUs)\n",
    "print(lats_US.shape)\n",
    "print(lats_US)"
   ]
  },
  {
   "cell_type": "markdown",
   "metadata": {},
   "source": [
    "### Lon"
   ]
  },
  {
   "cell_type": "code",
   "execution_count": 6,
   "metadata": {},
   "outputs": [
    {
     "name": "stdout",
     "output_type": "stream",
     "text": [
      "(56,)\n",
      "[230.   231.25 232.5  233.75 235.   236.25 237.5  238.75 240.   241.25\n",
      " 242.5  243.75 245.   246.25 247.5  248.75 250.   251.25 252.5  253.75\n",
      " 255.   256.25 257.5  258.75 260.   261.25 262.5  263.75 265.   266.25\n",
      " 267.5  268.75 270.   271.25 272.5  273.75 275.   276.25 277.5  278.75\n",
      " 280.   281.25 282.5  283.75 285.   286.25 287.5  288.75 290.   291.25\n",
      " 292.5  293.75 295.   296.25 297.5  298.75]\n"
     ]
    }
   ],
   "source": [
    "file_LonUs = 'C:/rezaul/1.academic/1.research/2.project/mrb/dt/cesm/cesm2LE/param/precip/mon/lonsUsArr.npy'\n",
    "lons_US = np.load(file_LonUs)\n",
    "print(lons_US.shape)\n",
    "print(lons_US)"
   ]
  },
  {
   "cell_type": "markdown",
   "metadata": {},
   "source": [
    "### Historical (1850-2014): 1980 months"
   ]
  },
  {
   "cell_type": "code",
   "execution_count": 7,
   "metadata": {},
   "outputs": [
    {
     "name": "stdout",
     "output_type": "stream",
     "text": [
      "(1980, 32, 56)\n"
     ]
    },
    {
     "data": {
      "text/plain": [
       "453.8662595041387"
      ]
     },
     "execution_count": 7,
     "metadata": {},
     "output_type": "execute_result"
    }
   ],
   "source": [
    "#file_hist_ensMems = 'C:/rezaul/1.academic/1.research/2.project/mrb/dt/cesm/cesm2LE/mon/precip/monPrecipUsHistEnsMems.npy'\n",
    "file_hist_ensMean = 'C:/rezaul/1.academic/1.research/2.project/mrb/dt/cesm/cesm2LE/param/precip/mon/monPrecipUsHistEnsMean.npy'\n",
    "\n",
    "file_hist_ensMean_loaded = np.load(file_hist_ensMean)\n",
    "print(file_hist_ensMean_loaded.shape)\n",
    "maxVal = np.nanmax(file_hist_ensMean_loaded)\n",
    "maxVal"
   ]
  },
  {
   "cell_type": "markdown",
   "metadata": {},
   "source": [
    "### Scenario (2105-2100): 1032 months"
   ]
  },
  {
   "cell_type": "code",
   "execution_count": 8,
   "metadata": {},
   "outputs": [
    {
     "name": "stdout",
     "output_type": "stream",
     "text": [
      "(1032, 32, 56)\n"
     ]
    },
    {
     "data": {
      "text/plain": [
       "520.7679244813335"
      ]
     },
     "execution_count": 8,
     "metadata": {},
     "output_type": "execute_result"
    }
   ],
   "source": [
    "#file_Scen_ensMems = 'C:/rezaul/1.academic/1.research/2.project/mrb/dt/cesm/cesm2LE/param/CESM2_FLOOD/sm/monSoilMoistUsScenEnsMems.npy'\n",
    "#file_scen_ensMems = 'C:/rezaul/1.academic/1.research/2.project/mrb/dt/cesm/cesm2LE/mon/precip/monPrecipUsScenEnsMems.npy'\n",
    "file_scen_ensMean = 'C:/rezaul/1.academic/1.research/2.project/mrb/dt/cesm/cesm2LE/param/precip/mon/monPrecipUsScenEnsMean.npy'\n",
    "\n",
    "file_scen_ensMean_loaded = np.load(file_scen_ensMean)\n",
    "print(file_scen_ensMean_loaded.shape)\n",
    "maxVal = np.nanmax(file_scen_ensMean_loaded)\n",
    "maxVal"
   ]
  },
  {
   "cell_type": "markdown",
   "metadata": {},
   "source": [
    "## The four time slots"
   ]
  },
  {
   "cell_type": "code",
   "execution_count": 9,
   "metadata": {},
   "outputs": [],
   "source": [
    "\n",
    "histYrSt = 1850\n",
    "\n",
    "refPeriodYrSt = 1971\n",
    "refPeriodYrEnd = 2000\n",
    "#++++++++++++++++++++++++\n",
    "\n",
    "scenYrSt = 2015\n",
    "scenEraOneYrEnd = 2044\n",
    "\n",
    "scenEraTwoYrSt = 2045\n",
    "scenEraTwoYrEnd = 2074\n",
    "\n",
    "scenEraThreeYrSt = 2075\n",
    "scenYrEnd = 2100\n",
    "#\n"
   ]
  },
  {
   "cell_type": "markdown",
   "metadata": {},
   "source": [
    "## tsteps"
   ]
  },
  {
   "cell_type": "code",
   "execution_count": 10,
   "metadata": {},
   "outputs": [
    {
     "name": "stdout",
     "output_type": "stream",
     "text": [
      "12\n"
     ]
    }
   ],
   "source": [
    "nMonsPerYr = 12     # \n",
    "print(nMonsPerYr)"
   ]
  },
  {
   "cell_type": "markdown",
   "metadata": {},
   "source": [
    "## Reference Period"
   ]
  },
  {
   "cell_type": "code",
   "execution_count": 11,
   "metadata": {},
   "outputs": [
    {
     "name": "stdout",
     "output_type": "stream",
     "text": [
      "1452 1812\n",
      "360\n"
     ]
    }
   ],
   "source": [
    "refPeriodStepSt = (refPeriodYrSt - histYrSt)*nMonsPerYr\n",
    "refPeriodStepEnd = (refPeriodYrEnd - histYrSt + 1)*nMonsPerYr\n",
    "print(refPeriodStepSt, refPeriodStepEnd)\n",
    "print(refPeriodStepEnd-refPeriodStepSt)"
   ]
  },
  {
   "cell_type": "markdown",
   "metadata": {},
   "source": [
    "## Era 1"
   ]
  },
  {
   "cell_type": "code",
   "execution_count": 12,
   "metadata": {},
   "outputs": [
    {
     "name": "stdout",
     "output_type": "stream",
     "text": [
      "0 360\n",
      "360\n"
     ]
    }
   ],
   "source": [
    "scenEraOneStepSt = 0\n",
    "scenEraOneStepEnd = (scenEraOneYrEnd - scenYrSt + 1)*nMonsPerYr\n",
    "print(scenEraOneStepSt, scenEraOneStepEnd)\n",
    "print(scenEraOneStepEnd-scenEraOneStepSt)"
   ]
  },
  {
   "cell_type": "markdown",
   "metadata": {},
   "source": [
    "## Era 2"
   ]
  },
  {
   "cell_type": "code",
   "execution_count": 13,
   "metadata": {},
   "outputs": [
    {
     "name": "stdout",
     "output_type": "stream",
     "text": [
      "360 720\n",
      "360\n"
     ]
    }
   ],
   "source": [
    "scenEraTwoStepSt = (scenEraTwoYrSt - scenYrSt)*nMonsPerYr\n",
    "scenEraTwoStepEnd = (scenEraTwoYrEnd - scenYrSt + 1)*nMonsPerYr\n",
    "print(scenEraTwoStepSt, scenEraTwoStepEnd)\n",
    "print(scenEraTwoStepEnd-scenEraTwoStepSt)"
   ]
  },
  {
   "cell_type": "markdown",
   "metadata": {},
   "source": [
    "## Era 3"
   ]
  },
  {
   "cell_type": "code",
   "execution_count": 14,
   "metadata": {},
   "outputs": [
    {
     "name": "stdout",
     "output_type": "stream",
     "text": [
      "720 1032\n",
      "312\n"
     ]
    }
   ],
   "source": [
    "scenEraThreeStepSt = (scenEraThreeYrSt - scenYrSt)*nMonsPerYr\n",
    "scenEraThreeStepEnd = (scenYrEnd - scenYrSt + 1)*nMonsPerYr\n",
    "print(scenEraThreeStepSt, scenEraThreeStepEnd)\n",
    "print(scenEraThreeStepEnd-scenEraThreeStepSt)"
   ]
  },
  {
   "cell_type": "markdown",
   "metadata": {},
   "source": [
    "## Subsetting the data into different periods / Eras"
   ]
  },
  {
   "cell_type": "code",
   "execution_count": 15,
   "metadata": {},
   "outputs": [
    {
     "name": "stdout",
     "output_type": "stream",
     "text": [
      "(360, 32, 56)\n"
     ]
    }
   ],
   "source": [
    "param_refPeriod_Us_ensmean = file_hist_ensMean_loaded[refPeriodStepSt:refPeriodStepEnd, :]\n",
    "print(param_refPeriod_Us_ensmean.shape)"
   ]
  },
  {
   "cell_type": "code",
   "execution_count": 16,
   "metadata": {},
   "outputs": [
    {
     "name": "stdout",
     "output_type": "stream",
     "text": [
      "(360, 32, 56)\n"
     ]
    }
   ],
   "source": [
    "param_scenEraOne_Us_ensmean = file_scen_ensMean_loaded[scenEraOneStepSt:scenEraOneStepEnd, :]\n",
    "print(param_scenEraOne_Us_ensmean.shape)"
   ]
  },
  {
   "cell_type": "code",
   "execution_count": 17,
   "metadata": {},
   "outputs": [
    {
     "name": "stdout",
     "output_type": "stream",
     "text": [
      "(360, 32, 56)\n"
     ]
    }
   ],
   "source": [
    "param_scenEraTwo_Us_ensmean = file_scen_ensMean_loaded[scenEraTwoStepSt:scenEraTwoStepEnd, :]\n",
    "print(param_scenEraTwo_Us_ensmean.shape)"
   ]
  },
  {
   "cell_type": "code",
   "execution_count": 18,
   "metadata": {},
   "outputs": [
    {
     "name": "stdout",
     "output_type": "stream",
     "text": [
      "(312, 32, 56)\n"
     ]
    }
   ],
   "source": [
    "param_scenEraThree_Us_ensmean = file_scen_ensMean_loaded[scenEraThreeStepSt:scenEraThreeStepEnd, :]\n",
    "print(param_scenEraThree_Us_ensmean.shape)"
   ]
  },
  {
   "cell_type": "markdown",
   "metadata": {},
   "source": [
    "## Time average value at the reference period and at the three Eras"
   ]
  },
  {
   "cell_type": "code",
   "execution_count": 19,
   "metadata": {},
   "outputs": [
    {
     "name": "stdout",
     "output_type": "stream",
     "text": [
      "(32, 56)\n"
     ]
    }
   ],
   "source": [
    "param_refPeriod_Us_ensmean_timeAvg = np.nanmean(param_refPeriod_Us_ensmean, axis=0)\n",
    "print(param_refPeriod_Us_ensmean_timeAvg.shape)"
   ]
  },
  {
   "cell_type": "code",
   "execution_count": 20,
   "metadata": {},
   "outputs": [
    {
     "name": "stdout",
     "output_type": "stream",
     "text": [
      "(32, 56)\n"
     ]
    }
   ],
   "source": [
    "param_scenEraOne_Us_ensmean_timeAvg = np.nanmean(param_scenEraOne_Us_ensmean, axis=0)\n",
    "print(param_scenEraOne_Us_ensmean_timeAvg.shape)"
   ]
  },
  {
   "cell_type": "code",
   "execution_count": 21,
   "metadata": {},
   "outputs": [
    {
     "name": "stdout",
     "output_type": "stream",
     "text": [
      "(32, 56)\n"
     ]
    }
   ],
   "source": [
    "param_scenEraTwo_Us_ensmean_timeAvg = np.nanmean(param_scenEraTwo_Us_ensmean, axis=0)\n",
    "print(param_scenEraTwo_Us_ensmean_timeAvg.shape)"
   ]
  },
  {
   "cell_type": "code",
   "execution_count": 22,
   "metadata": {},
   "outputs": [
    {
     "name": "stdout",
     "output_type": "stream",
     "text": [
      "(32, 56)\n"
     ]
    }
   ],
   "source": [
    "param_scenEraThree_Us_ensmean_timeAvg = np.nanmean(param_scenEraThree_Us_ensmean, axis=0)\n",
    "print(param_scenEraThree_Us_ensmean_timeAvg.shape)"
   ]
  },
  {
   "cell_type": "markdown",
   "metadata": {},
   "source": [
    "## Differences of Precipitation at the three Eras relative to the refernce period mean"
   ]
  },
  {
   "cell_type": "code",
   "execution_count": 23,
   "metadata": {},
   "outputs": [
    {
     "name": "stdout",
     "output_type": "stream",
     "text": [
      "(32, 56)\n",
      "(32, 56)\n",
      "(32, 56)\n",
      "(32, 56)\n"
     ]
    }
   ],
   "source": [
    "print(param_refPeriod_Us_ensmean_timeAvg.shape)\n",
    "print(param_scenEraOne_Us_ensmean_timeAvg.shape)\n",
    "print(param_scenEraTwo_Us_ensmean_timeAvg.shape)\n",
    "print(param_scenEraThree_Us_ensmean_timeAvg.shape)\n"
   ]
  },
  {
   "cell_type": "code",
   "execution_count": 24,
   "metadata": {},
   "outputs": [
    {
     "name": "stdout",
     "output_type": "stream",
     "text": [
      "(32, 56)\n",
      "(32, 56)\n",
      "(32, 56)\n"
     ]
    }
   ],
   "source": [
    "param_scenEraOne_diff_Us_ensmean_timeAvg = (param_scenEraOne_Us_ensmean_timeAvg - param_refPeriod_Us_ensmean_timeAvg)\n",
    "print(param_scenEraOne_diff_Us_ensmean_timeAvg.shape)\n",
    "\n",
    "param_scenEraTwo_diff_Us_ensmean_timeAvg = (param_scenEraTwo_Us_ensmean_timeAvg - param_refPeriod_Us_ensmean_timeAvg)\n",
    "print(param_scenEraTwo_diff_Us_ensmean_timeAvg.shape)\n",
    "\n",
    "param_scenEraThree_diff_Us_ensmean_timeAvg = (param_scenEraThree_Us_ensmean_timeAvg - param_refPeriod_Us_ensmean_timeAvg)\n",
    "print(param_scenEraThree_diff_Us_ensmean_timeAvg.shape)\n",
    "\n"
   ]
  },
  {
   "cell_type": "markdown",
   "metadata": {},
   "source": [
    "## Writing in an Xarray Data array"
   ]
  },
  {
   "cell_type": "code",
   "execution_count": 25,
   "metadata": {},
   "outputs": [
    {
     "name": "stdout",
     "output_type": "stream",
     "text": [
      "32\n",
      "56\n"
     ]
    }
   ],
   "source": [
    "y_Us, x_Us = param_scenEraOne_diff_Us_ensmean_timeAvg.shape\n",
    "print(y_Us)\n",
    "print(x_Us)"
   ]
  },
  {
   "cell_type": "code",
   "execution_count": 26,
   "metadata": {},
   "outputs": [
    {
     "name": "stdout",
     "output_type": "stream",
     "text": [
      "(32, 56)\n",
      "<xarray.DataArray (Lat: 32, Lon: 56)>\n",
      "array([[-0.58837701, -0.39874556, -0.32652769, ...,  0.91091265,\n",
      "         0.66223786,  0.29843128],\n",
      "       [-0.59684059, -0.41044162, -0.24715516, ...,  1.45909638,\n",
      "         1.32703012,  1.13672896],\n",
      "       [-0.72468071, -0.51727308, -0.30913081, ...,  2.06978758,\n",
      "         1.944079  ,  1.80885732],\n",
      "       ...,\n",
      "       [ 2.94244802,  3.29396453,  0.64677028, ...,  4.63648885,\n",
      "         4.71327117,  4.72934506],\n",
      "       [ 3.13226449,  1.28783264,  0.71764429, ...,  4.93825177,\n",
      "         4.79610941,  4.54157176],\n",
      "       [ 2.12178381,  1.19058984,  1.3053737 , ...,  4.97864564,\n",
      "         4.57574413,  3.90556634]])\n",
      "Coordinates:\n",
      "  * Lat      (Lat) float32 24.97 25.92 26.86 27.8 ... 51.36 52.3 53.25 54.19\n",
      "  * Lon      (Lon) float32 230.0 231.2 232.5 233.8 ... 295.0 296.2 297.5 298.8\n"
     ]
    }
   ],
   "source": [
    "param_scenEraOne_diff_Us_xarray = xr.DataArray(param_scenEraOne_diff_Us_ensmean_timeAvg, coords=[lats_US, lons_US ], dims=[\"Lat\",\"Lon\"])\n",
    "\n",
    "print(param_scenEraOne_diff_Us_xarray.shape)\n",
    "print(param_scenEraOne_diff_Us_xarray)"
   ]
  },
  {
   "cell_type": "code",
   "execution_count": 27,
   "metadata": {},
   "outputs": [
    {
     "name": "stdout",
     "output_type": "stream",
     "text": [
      "(32, 56)\n",
      "<xarray.DataArray (Lat: 32, Lon: 56)>\n",
      "array([[-0.4267514 , -0.35157167, -0.30272308, ...,  1.68596563,\n",
      "         0.95355654, -0.08805744],\n",
      "       [-0.25545582, -0.17746797, -0.09991694, ...,  3.36663559,\n",
      "         2.72075732,  1.82892985],\n",
      "       [-0.0777135 , -0.01784704,  0.06270102, ...,  4.90526746,\n",
      "         4.14873737,  3.40494744],\n",
      "       ...,\n",
      "       [10.51256402, 11.08875868,  5.41566476, ...,  7.83459521,\n",
      "         8.04256256,  8.19337382],\n",
      "       [11.76805786,  7.6640741 ,  4.84968925, ...,  7.71840456,\n",
      "         7.69407721,  7.72622633],\n",
      "       [ 8.66497128,  6.08274327,  5.00584121, ...,  7.30951067,\n",
      "         6.73901484,  6.1786158 ]])\n",
      "Coordinates:\n",
      "  * Lat      (Lat) float32 24.97 25.92 26.86 27.8 ... 51.36 52.3 53.25 54.19\n",
      "  * Lon      (Lon) float32 230.0 231.2 232.5 233.8 ... 295.0 296.2 297.5 298.8\n"
     ]
    }
   ],
   "source": [
    "param_scenEraTwo_diff_Us_xarray = xr.DataArray(param_scenEraTwo_diff_Us_ensmean_timeAvg, coords=[lats_US, lons_US ], dims=[\"Lat\",\"Lon\"])\n",
    "\n",
    "print(param_scenEraTwo_diff_Us_xarray.shape)\n",
    "print(param_scenEraTwo_diff_Us_xarray)"
   ]
  },
  {
   "cell_type": "code",
   "execution_count": 28,
   "metadata": {},
   "outputs": [
    {
     "name": "stdout",
     "output_type": "stream",
     "text": [
      "(32, 56)\n",
      "<xarray.DataArray (Lat: 32, Lon: 56)>\n",
      "array([[ 0.47402534,  0.27230859,  0.0692417 , ...,  2.52960878,\n",
      "         1.26305461, -0.23185024],\n",
      "       [ 0.80316176,  0.71531359,  0.57780094, ...,  5.53084325,\n",
      "         4.41497383,  3.13205294],\n",
      "       [ 1.16002157,  1.11540173,  1.05101034, ...,  8.00146461,\n",
      "         7.04175952,  6.09077061],\n",
      "       ...,\n",
      "       [18.07987902, 18.96075658,  9.26749034, ..., 13.3144104 ,\n",
      "        13.75510944, 14.0114068 ],\n",
      "       [20.10782502, 13.94756362,  8.34969076, ..., 12.54967645,\n",
      "        12.8382115 , 13.04148778],\n",
      "       [15.00029742, 10.5492239 ,  8.66942705, ..., 11.56829182,\n",
      "        11.04185413, 10.68607574]])\n",
      "Coordinates:\n",
      "  * Lat      (Lat) float32 24.97 25.92 26.86 27.8 ... 51.36 52.3 53.25 54.19\n",
      "  * Lon      (Lon) float32 230.0 231.2 232.5 233.8 ... 295.0 296.2 297.5 298.8\n"
     ]
    }
   ],
   "source": [
    "param_scenEraThree_diff_Us_xarray = xr.DataArray(param_scenEraThree_diff_Us_ensmean_timeAvg, coords=[lats_US, lons_US ], dims=[\"Lat\",\"Lon\"])\n",
    "\n",
    "print(param_scenEraThree_diff_Us_xarray.shape)\n",
    "print(param_scenEraThree_diff_Us_xarray)"
   ]
  },
  {
   "cell_type": "markdown",
   "metadata": {},
   "source": [
    "## Masking files for the Basin Domain only"
   ]
  },
  {
   "cell_type": "markdown",
   "metadata": {},
   "source": [
    "### Mississippi"
   ]
  },
  {
   "cell_type": "code",
   "execution_count": 29,
   "metadata": {},
   "outputs": [
    {
     "name": "stdout",
     "output_type": "stream",
     "text": [
      "C:/rezaul/1.academic/1.research/2.project/mrb/dt/shapeFile/mask/mrb_us/mask_missiWri_us_CESM_longThree.nc\n"
     ]
    }
   ],
   "source": [
    "MaskFile_Missi_to_load = 'C:/rezaul/1.academic/1.research/2.project/mrb/dt/shapeFile/mask/mrb_us/mask_missiWri_us_CESM_longThree.nc'\n",
    "print(MaskFile_Missi_to_load)"
   ]
  },
  {
   "cell_type": "code",
   "execution_count": 30,
   "metadata": {},
   "outputs": [
    {
     "name": "stdout",
     "output_type": "stream",
     "text": [
      "<xarray.DataArray 'Mask' (Lat: 32, Lon: 56)>\n",
      "array([[0, 0, 0, ..., 0, 0, 0],\n",
      "       [0, 0, 0, ..., 0, 0, 0],\n",
      "       [0, 0, 0, ..., 0, 0, 0],\n",
      "       ...,\n",
      "       [0, 0, 0, ..., 0, 0, 0],\n",
      "       [0, 0, 0, ..., 0, 0, 0],\n",
      "       [0, 0, 0, ..., 0, 0, 0]])\n",
      "Coordinates:\n",
      "  * Lat      (Lat) float32 24.97 25.92 26.86 27.8 ... 51.36 52.3 53.25 54.19\n",
      "  * Lon      (Lon) float32 230.0 231.2 232.5 233.8 ... 295.0 296.2 297.5 298.8\n"
     ]
    },
    {
     "name": "stderr",
     "output_type": "stream",
     "text": [
      "C:\\Users\\muham\\anaconda3\\lib\\site-packages\\xarray\\backends\\plugins.py:61: RuntimeWarning: Engine 'rasterio' loading failed:\n",
      "DLL load failed while importing _base: The specified procedure could not be found.\n",
      "  warnings.warn(f\"Engine {name!r} loading failed:\\n{ex}\", RuntimeWarning)\n"
     ]
    }
   ],
   "source": [
    "MaskFile_Missi = xr.open_dataset(MaskFile_Missi_to_load)['Mask']\n",
    "print(MaskFile_Missi)"
   ]
  },
  {
   "cell_type": "code",
   "execution_count": 31,
   "metadata": {},
   "outputs": [
    {
     "name": "stdout",
     "output_type": "stream",
     "text": [
      "(32, 56)\n",
      "<xarray.DataArray (Lat: 32, Lon: 56)>\n",
      "array([[nan, nan, nan, ..., nan, nan, nan],\n",
      "       [nan, nan, nan, ..., nan, nan, nan],\n",
      "       [nan, nan, nan, ..., nan, nan, nan],\n",
      "       ...,\n",
      "       [nan, nan, nan, ..., nan, nan, nan],\n",
      "       [nan, nan, nan, ..., nan, nan, nan],\n",
      "       [nan, nan, nan, ..., nan, nan, nan]])\n",
      "Coordinates:\n",
      "  * Lat      (Lat) float32 24.97 25.92 26.86 27.8 ... 51.36 52.3 53.25 54.19\n",
      "  * Lon      (Lon) float32 230.0 231.2 232.5 233.8 ... 295.0 296.2 297.5 298.8\n"
     ]
    }
   ],
   "source": [
    "param_scenEraOne_diff_masked_Missi = param_scenEraOne_diff_Us_xarray.where(MaskFile_Missi>0)\n",
    "print(param_scenEraOne_diff_masked_Missi.shape)\n",
    "print(param_scenEraOne_diff_masked_Missi)"
   ]
  },
  {
   "cell_type": "code",
   "execution_count": 32,
   "metadata": {},
   "outputs": [
    {
     "name": "stdout",
     "output_type": "stream",
     "text": [
      "(32, 56)\n",
      "<xarray.DataArray (Lat: 32, Lon: 56)>\n",
      "array([[nan, nan, nan, ..., nan, nan, nan],\n",
      "       [nan, nan, nan, ..., nan, nan, nan],\n",
      "       [nan, nan, nan, ..., nan, nan, nan],\n",
      "       ...,\n",
      "       [nan, nan, nan, ..., nan, nan, nan],\n",
      "       [nan, nan, nan, ..., nan, nan, nan],\n",
      "       [nan, nan, nan, ..., nan, nan, nan]])\n",
      "Coordinates:\n",
      "  * Lat      (Lat) float32 24.97 25.92 26.86 27.8 ... 51.36 52.3 53.25 54.19\n",
      "  * Lon      (Lon) float32 230.0 231.2 232.5 233.8 ... 295.0 296.2 297.5 298.8\n"
     ]
    }
   ],
   "source": [
    "param_scenEraTwo_diff_masked_Missi = param_scenEraTwo_diff_Us_xarray.where(MaskFile_Missi>0)\n",
    "print(param_scenEraTwo_diff_masked_Missi.shape)\n",
    "print(param_scenEraTwo_diff_masked_Missi)"
   ]
  },
  {
   "cell_type": "code",
   "execution_count": 33,
   "metadata": {},
   "outputs": [
    {
     "name": "stdout",
     "output_type": "stream",
     "text": [
      "(32, 56)\n",
      "<xarray.DataArray (Lat: 32, Lon: 56)>\n",
      "array([[nan, nan, nan, ..., nan, nan, nan],\n",
      "       [nan, nan, nan, ..., nan, nan, nan],\n",
      "       [nan, nan, nan, ..., nan, nan, nan],\n",
      "       ...,\n",
      "       [nan, nan, nan, ..., nan, nan, nan],\n",
      "       [nan, nan, nan, ..., nan, nan, nan],\n",
      "       [nan, nan, nan, ..., nan, nan, nan]])\n",
      "Coordinates:\n",
      "  * Lat      (Lat) float32 24.97 25.92 26.86 27.8 ... 51.36 52.3 53.25 54.19\n",
      "  * Lon      (Lon) float32 230.0 231.2 232.5 233.8 ... 295.0 296.2 297.5 298.8\n"
     ]
    }
   ],
   "source": [
    "param_scenEraThree_diff_masked_Missi = param_scenEraThree_diff_Us_xarray.where(MaskFile_Missi>0)\n",
    "print(param_scenEraThree_diff_masked_Missi.shape)\n",
    "print(param_scenEraThree_diff_masked_Missi)"
   ]
  },
  {
   "cell_type": "markdown",
   "metadata": {},
   "source": [
    "## Find max and min values"
   ]
  },
  {
   "cell_type": "code",
   "execution_count": 34,
   "metadata": {},
   "outputs": [
    {
     "name": "stdout",
     "output_type": "stream",
     "text": [
      "5.073504423156805\n",
      "0.09344309245379634\n"
     ]
    }
   ],
   "source": [
    "maxVal_diff_scenEraOne = np.nanmax(param_scenEraOne_diff_masked_Missi)\n",
    "print(maxVal_diff_scenEraOne)\n",
    "\n",
    "minVal_diff_scenEraOne = np.nanmin(param_scenEraOne_diff_masked_Missi)\n",
    "print(minVal_diff_scenEraOne)\n"
   ]
  },
  {
   "cell_type": "code",
   "execution_count": 35,
   "metadata": {},
   "outputs": [
    {
     "name": "stdout",
     "output_type": "stream",
     "text": [
      "9.640323909652992\n",
      "0.5723455293764381\n"
     ]
    }
   ],
   "source": [
    "maxVal_diff_scenEraTwo = np.nanmax(param_scenEraTwo_diff_masked_Missi)\n",
    "print(maxVal_diff_scenEraTwo)\n",
    "\n",
    "minVal_diff_scenEraTwo = np.nanmin(param_scenEraTwo_diff_masked_Missi)\n",
    "print(minVal_diff_scenEraTwo)\n"
   ]
  },
  {
   "cell_type": "code",
   "execution_count": 36,
   "metadata": {},
   "outputs": [
    {
     "name": "stdout",
     "output_type": "stream",
     "text": [
      "14.918096066468763\n",
      "1.403391487860187\n"
     ]
    }
   ],
   "source": [
    "maxVal_diff_scenEraThree = np.nanmax(param_scenEraThree_diff_masked_Missi)\n",
    "print(maxVal_diff_scenEraThree)\n",
    "\n",
    "minVal_diff_scenEraThree = np.nanmin(param_scenEraThree_diff_masked_Missi)\n",
    "print(minVal_diff_scenEraThree)\n"
   ]
  },
  {
   "cell_type": "markdown",
   "metadata": {},
   "source": [
    "## Plotting a Map of Precipitation fields"
   ]
  },
  {
   "cell_type": "code",
   "execution_count": 37,
   "metadata": {},
   "outputs": [
    {
     "name": "stdout",
     "output_type": "stream",
     "text": [
      "24.973822\n",
      "54.18848\n",
      "230.0\n",
      "298.75\n"
     ]
    }
   ],
   "source": [
    "\n",
    "latUsMin = lats_US.min()     # = or = latsCfsDnSc\n",
    "print(latUsMin)\n",
    "\n",
    "latUsMax = lats_US.max()\n",
    "print(latUsMax)\n",
    "\n",
    "lonUsMin = lons_US.min()\n",
    "print(lonUsMin)\n",
    "\n",
    "lonUsMax = lons_US.max()\n",
    "print(lonUsMax)"
   ]
  },
  {
   "cell_type": "code",
   "execution_count": 38,
   "metadata": {},
   "outputs": [
    {
     "name": "stdout",
     "output_type": "stream",
     "text": [
      "[230.0, 298.75, 24.973822, 54.18848]\n"
     ]
    }
   ],
   "source": [
    "extentUs = [lonUsMin, lonUsMax, latUsMin, latUsMax]\n",
    "print(extentUs)"
   ]
  },
  {
   "cell_type": "code",
   "execution_count": 39,
   "metadata": {},
   "outputs": [
    {
     "name": "stdout",
     "output_type": "stream",
     "text": [
      "[230.   231.25 232.5  233.75 235.   236.25 237.5  238.75 240.   241.25\n",
      " 242.5  243.75 245.   246.25 247.5  248.75 250.   251.25 252.5  253.75\n",
      " 255.   256.25 257.5  258.75 260.   261.25 262.5  263.75 265.   266.25\n",
      " 267.5  268.75 270.   271.25 272.5  273.75 275.   276.25 277.5  278.75\n",
      " 280.   281.25 282.5  283.75 285.   286.25 287.5  288.75 290.   291.25\n",
      " 292.5  293.75 295.   296.25 297.5  298.75]\n",
      "[24.97382164 25.91622999 26.85863833 27.80104668 28.74345503 29.68586337\n",
      " 30.62827172 31.57068006 32.51308841 33.45549676 34.3979051  35.34031345\n",
      " 36.2827218  37.22513014 38.16753849 39.10994684 40.05235518 40.99476353\n",
      " 41.93717187 42.87958022 43.82198857 44.76439691 45.70680526 46.64921361\n",
      " 47.59162195 48.5340303  49.47643865 50.41884699 51.36125534 52.30366368\n",
      " 53.24607203 54.18848038]\n"
     ]
    }
   ],
   "source": [
    "x_Us = linspace(lonUsMin, lonUsMax, x_Us)\n",
    "y_Us = linspace(latUsMin, latUsMax, y_Us)\n",
    "print(x_Us)\n",
    "print(y_Us)\n",
    "\n",
    "# Create the rectangular grid out of these values\n",
    "xx_Us, yy_Us = meshgrid(x_Us, y_Us)\n"
   ]
  },
  {
   "cell_type": "code",
   "execution_count": 40,
   "metadata": {},
   "outputs": [
    {
     "name": "stdout",
     "output_type": "stream",
     "text": [
      "0.0\n",
      "6.0\n"
     ]
    }
   ],
   "source": [
    "vmin_scenEraOne = np.floor(minVal_diff_scenEraOne)\n",
    "vmax_scenEraOne = np.ceil(maxVal_diff_scenEraOne)\n",
    "print(vmin_scenEraOne)\n",
    "print(vmax_scenEraOne)"
   ]
  },
  {
   "cell_type": "code",
   "execution_count": 41,
   "metadata": {},
   "outputs": [
    {
     "name": "stdout",
     "output_type": "stream",
     "text": [
      "0.1\n",
      "6.0\n"
     ]
    }
   ],
   "source": [
    "\n",
    "#vmin_scenEraOne = np.floor(minVal_diff_scenEraOne)\n",
    "vmin_scenEraOne = 0.1\n",
    "\n",
    "vmax_scenEraOne = np.ceil(maxVal_diff_scenEraOne)\n",
    "print(vmin_scenEraOne)\n",
    "print(vmax_scenEraOne)\n"
   ]
  },
  {
   "cell_type": "code",
   "execution_count": 42,
   "metadata": {},
   "outputs": [
    {
     "name": "stdout",
     "output_type": "stream",
     "text": [
      "0.0\n",
      "10.0\n"
     ]
    }
   ],
   "source": [
    "vmin_scenEraTwo = np.floor(minVal_diff_scenEraTwo)\n",
    "vmax_scenEraTwo = np.ceil(maxVal_diff_scenEraTwo)\n",
    "print(vmin_scenEraTwo)\n",
    "print(vmax_scenEraTwo)"
   ]
  },
  {
   "cell_type": "code",
   "execution_count": 43,
   "metadata": {},
   "outputs": [
    {
     "name": "stdout",
     "output_type": "stream",
     "text": [
      "1.0\n",
      "15.0\n"
     ]
    }
   ],
   "source": [
    "vmin_scenEraThree = np.floor(minVal_diff_scenEraThree)\n",
    "vmax_scenEraThree = np.ceil(maxVal_diff_scenEraThree)\n",
    "print(vmin_scenEraThree)\n",
    "print(vmax_scenEraThree)"
   ]
  },
  {
   "cell_type": "code",
   "execution_count": 44,
   "metadata": {},
   "outputs": [
    {
     "name": "stdout",
     "output_type": "stream",
     "text": [
      "6\n"
     ]
    }
   ],
   "source": [
    "nDiv_scenEraOne = int(vmax_scenEraOne - vmin_scenEraOne + 1)\n",
    "print(nDiv_scenEraOne)"
   ]
  },
  {
   "cell_type": "code",
   "execution_count": 45,
   "metadata": {},
   "outputs": [
    {
     "name": "stdout",
     "output_type": "stream",
     "text": [
      "11\n"
     ]
    }
   ],
   "source": [
    "nDiv_scenEraTwo = int(vmax_scenEraTwo - vmin_scenEraTwo + 1)\n",
    "print(nDiv_scenEraTwo)"
   ]
  },
  {
   "cell_type": "code",
   "execution_count": 46,
   "metadata": {},
   "outputs": [
    {
     "name": "stdout",
     "output_type": "stream",
     "text": [
      "15\n"
     ]
    }
   ],
   "source": [
    "nDiv_scenEraThree = int(vmax_scenEraThree - vmin_scenEraThree + 1)\n",
    "print(nDiv_scenEraThree)"
   ]
  },
  {
   "cell_type": "markdown",
   "metadata": {},
   "source": [
    "## Loading data for other parameters saved in the Disk"
   ]
  },
  {
   "cell_type": "markdown",
   "metadata": {},
   "source": [
    "## ET"
   ]
  },
  {
   "cell_type": "markdown",
   "metadata": {},
   "source": [
    "### Historical (1850-2014): 1980 months"
   ]
  },
  {
   "cell_type": "code",
   "execution_count": 47,
   "metadata": {},
   "outputs": [
    {
     "name": "stdout",
     "output_type": "stream",
     "text": [
      "(1980, 32, 56)\n"
     ]
    },
    {
     "data": {
      "text/plain": [
       "9.999999616903162e+35"
      ]
     },
     "execution_count": 47,
     "metadata": {},
     "output_type": "execute_result"
    }
   ],
   "source": [
    "#file_hist_ensMems = 'C:/rezaul/1.academic/1.research/2.project/mrb/dt/cesm/cesm2LE/mon/precip/monPrecipUsHistEnsMems.npy'\n",
    "file_et_hist_ensMean = 'C:/rezaul/1.academic/1.research/2.project/mrb/dt/cesm/cesm2LE/param/et/mon/monEtUsHistEnsMean.npy'\n",
    "\n",
    "file_et_hist_ensMean_loaded = np.load(file_et_hist_ensMean)\n",
    "print(file_et_hist_ensMean_loaded.shape)\n",
    "maxVal = np.nanmax(file_et_hist_ensMean_loaded)\n",
    "maxVal"
   ]
  },
  {
   "cell_type": "markdown",
   "metadata": {},
   "source": [
    "### Scenario (2105-2100): 1032 months"
   ]
  },
  {
   "cell_type": "code",
   "execution_count": 48,
   "metadata": {},
   "outputs": [
    {
     "name": "stdout",
     "output_type": "stream",
     "text": [
      "(1032, 32, 56)\n"
     ]
    },
    {
     "data": {
      "text/plain": [
       "9.999999616903162e+35"
      ]
     },
     "execution_count": 48,
     "metadata": {},
     "output_type": "execute_result"
    }
   ],
   "source": [
    "\n",
    "file_et_scen_ensMean = 'C:/rezaul/1.academic/1.research/2.project/mrb/dt/cesm/cesm2LE/param/et/mon/monEtUsScenEnsMean.npy'\n",
    "\n",
    "file_et_scen_ensMean_loaded = np.load(file_et_scen_ensMean)\n",
    "print(file_et_scen_ensMean_loaded.shape)\n",
    "maxVal = np.nanmax(file_et_scen_ensMean_loaded)\n",
    "maxVal"
   ]
  },
  {
   "cell_type": "markdown",
   "metadata": {},
   "source": [
    "## Subsetting the data into different periods / Eras"
   ]
  },
  {
   "cell_type": "code",
   "execution_count": 49,
   "metadata": {},
   "outputs": [
    {
     "name": "stdout",
     "output_type": "stream",
     "text": [
      "(360, 32, 56)\n"
     ]
    }
   ],
   "source": [
    "et_refPeriod_Us_ensmean = file_et_hist_ensMean_loaded[refPeriodStepSt:refPeriodStepEnd, :]\n",
    "print(et_refPeriod_Us_ensmean.shape)"
   ]
  },
  {
   "cell_type": "code",
   "execution_count": 50,
   "metadata": {},
   "outputs": [
    {
     "name": "stdout",
     "output_type": "stream",
     "text": [
      "(360, 32, 56)\n"
     ]
    }
   ],
   "source": [
    "et_scenEraOne_Us_ensmean = file_et_hist_ensMean_loaded[scenEraOneStepSt:scenEraOneStepEnd, :]\n",
    "print(et_scenEraOne_Us_ensmean.shape)"
   ]
  },
  {
   "cell_type": "code",
   "execution_count": 51,
   "metadata": {},
   "outputs": [
    {
     "name": "stdout",
     "output_type": "stream",
     "text": [
      "(360, 32, 56)\n"
     ]
    }
   ],
   "source": [
    "et_scenEraTwo_Us_ensmean = file_et_hist_ensMean_loaded[scenEraTwoStepSt:scenEraTwoStepEnd, :]\n",
    "print(et_scenEraTwo_Us_ensmean.shape)"
   ]
  },
  {
   "cell_type": "code",
   "execution_count": 52,
   "metadata": {},
   "outputs": [
    {
     "name": "stdout",
     "output_type": "stream",
     "text": [
      "(312, 32, 56)\n"
     ]
    }
   ],
   "source": [
    "et_scenEraThree_Us_ensmean = file_et_hist_ensMean_loaded[scenEraThreeStepSt:scenEraThreeStepEnd, :]\n",
    "print(et_scenEraThree_Us_ensmean.shape)"
   ]
  },
  {
   "cell_type": "markdown",
   "metadata": {},
   "source": [
    "## Time average value at the ref period and at the three Eras"
   ]
  },
  {
   "cell_type": "code",
   "execution_count": 53,
   "metadata": {},
   "outputs": [
    {
     "name": "stdout",
     "output_type": "stream",
     "text": [
      "(32, 56)\n"
     ]
    }
   ],
   "source": [
    "et_refPeriod_Us_ensmean_timeAvg = np.nanmean(et_refPeriod_Us_ensmean, axis=0)\n",
    "print(et_refPeriod_Us_ensmean_timeAvg.shape)"
   ]
  },
  {
   "cell_type": "code",
   "execution_count": 54,
   "metadata": {},
   "outputs": [
    {
     "name": "stdout",
     "output_type": "stream",
     "text": [
      "(32, 56)\n"
     ]
    }
   ],
   "source": [
    "et_scenEraOne_Us_ensmean_timeAvg = np.nanmean(et_scenEraOne_Us_ensmean, axis=0)\n",
    "print(et_scenEraOne_Us_ensmean_timeAvg.shape)"
   ]
  },
  {
   "cell_type": "code",
   "execution_count": 55,
   "metadata": {},
   "outputs": [
    {
     "name": "stdout",
     "output_type": "stream",
     "text": [
      "(32, 56)\n"
     ]
    }
   ],
   "source": [
    "et_scenEraTwo_Us_ensmean_timeAvg = np.nanmean(et_scenEraTwo_Us_ensmean, axis=0)\n",
    "print(et_scenEraTwo_Us_ensmean_timeAvg.shape)"
   ]
  },
  {
   "cell_type": "code",
   "execution_count": 56,
   "metadata": {},
   "outputs": [
    {
     "name": "stdout",
     "output_type": "stream",
     "text": [
      "(32, 56)\n"
     ]
    }
   ],
   "source": [
    "et_scenEraThree_Us_ensmean_timeAvg = np.nanmean(et_scenEraThree_Us_ensmean, axis=0)\n",
    "print(et_scenEraThree_Us_ensmean_timeAvg.shape)"
   ]
  },
  {
   "cell_type": "markdown",
   "metadata": {},
   "source": [
    "## Differences of ET at the three Eras relative to the refernce period mean"
   ]
  },
  {
   "cell_type": "code",
   "execution_count": 57,
   "metadata": {},
   "outputs": [
    {
     "name": "stdout",
     "output_type": "stream",
     "text": [
      "(32, 56)\n",
      "(32, 56)\n",
      "(32, 56)\n"
     ]
    }
   ],
   "source": [
    "et_scenEraOne_diff_Us_ensmean_timeAvg = (et_scenEraOne_Us_ensmean_timeAvg - et_refPeriod_Us_ensmean_timeAvg)\n",
    "print(et_scenEraOne_diff_Us_ensmean_timeAvg.shape)\n",
    "\n",
    "et_scenEraTwo_diff_Us_ensmean_timeAvg = (et_scenEraTwo_Us_ensmean_timeAvg - et_refPeriod_Us_ensmean_timeAvg)\n",
    "print(et_scenEraTwo_diff_Us_ensmean_timeAvg.shape)\n",
    "\n",
    "et_scenEraThree_diff_Us_ensmean_timeAvg = (et_scenEraThree_Us_ensmean_timeAvg - et_refPeriod_Us_ensmean_timeAvg)\n",
    "print(et_scenEraThree_diff_Us_ensmean_timeAvg.shape)"
   ]
  },
  {
   "cell_type": "markdown",
   "metadata": {},
   "source": [
    "## Writing in an Xarray Data array"
   ]
  },
  {
   "cell_type": "code",
   "execution_count": 58,
   "metadata": {},
   "outputs": [
    {
     "name": "stdout",
     "output_type": "stream",
     "text": [
      "(32, 56)\n",
      "<xarray.DataArray (Lat: 32, Lon: 56)>\n",
      "array([[0.        , 0.        , 0.        , ..., 0.        , 0.        ,\n",
      "        0.        ],\n",
      "       [0.        , 0.        , 0.        , ..., 0.        , 0.        ,\n",
      "        0.        ],\n",
      "       [0.        , 0.        , 0.        , ..., 0.        , 0.        ,\n",
      "        0.        ],\n",
      "       ...,\n",
      "       [0.        , 1.7653737 , 1.78320917, ..., 1.50638625, 0.55782894,\n",
      "        0.69452435],\n",
      "       [2.06401163, 1.80436522, 1.51754159, ..., 4.6422183 , 1.11016483,\n",
      "        1.18133059],\n",
      "       [1.89114626, 1.63623039, 1.79519151, ..., 0.55580759, 2.5947123 ,\n",
      "        0.7853473 ]])\n",
      "Coordinates:\n",
      "  * Lat      (Lat) float32 24.97 25.92 26.86 27.8 ... 51.36 52.3 53.25 54.19\n",
      "  * Lon      (Lon) float32 230.0 231.2 232.5 233.8 ... 295.0 296.2 297.5 298.8\n"
     ]
    }
   ],
   "source": [
    "et_scenEraOne_diff_Us_xarray = xr.DataArray(et_scenEraOne_diff_Us_ensmean_timeAvg, coords=[lats_US, lons_US ], dims=[\"Lat\",\"Lon\"])\n",
    "\n",
    "print(et_scenEraOne_diff_Us_xarray.shape)\n",
    "print(et_scenEraOne_diff_Us_xarray)"
   ]
  },
  {
   "cell_type": "code",
   "execution_count": 59,
   "metadata": {},
   "outputs": [
    {
     "name": "stdout",
     "output_type": "stream",
     "text": [
      "(32, 56)\n",
      "<xarray.DataArray (Lat: 32, Lon: 56)>\n",
      "array([[0.        , 0.        , 0.        , ..., 0.        , 0.        ,\n",
      "        0.        ],\n",
      "       [0.        , 0.        , 0.        , ..., 0.        , 0.        ,\n",
      "        0.        ],\n",
      "       [0.        , 0.        , 0.        , ..., 0.        , 0.        ,\n",
      "        0.        ],\n",
      "       ...,\n",
      "       [0.        , 1.53828795, 1.62186605, ..., 1.14533168, 0.21899604,\n",
      "        0.39225502],\n",
      "       [1.81287872, 1.56787497, 1.35411625, ..., 4.35344066, 0.89995996,\n",
      "        0.99317723],\n",
      "       [1.61863306, 1.38155709, 1.59918023, ..., 0.43971171, 2.46083504,\n",
      "        0.73475434]])\n",
      "Coordinates:\n",
      "  * Lat      (Lat) float32 24.97 25.92 26.86 27.8 ... 51.36 52.3 53.25 54.19\n",
      "  * Lon      (Lon) float32 230.0 231.2 232.5 233.8 ... 295.0 296.2 297.5 298.8\n"
     ]
    }
   ],
   "source": [
    "et_scenEraTwo_diff_Us_xarray = xr.DataArray(et_scenEraTwo_diff_Us_ensmean_timeAvg, coords=[lats_US, lons_US], dims=[\"Lat\",\"Lon\"])\n",
    "\n",
    "print(et_scenEraTwo_diff_Us_xarray.shape)\n",
    "print(et_scenEraTwo_diff_Us_xarray)"
   ]
  },
  {
   "cell_type": "code",
   "execution_count": 60,
   "metadata": {},
   "outputs": [
    {
     "name": "stdout",
     "output_type": "stream",
     "text": [
      "(32, 56)\n",
      "<xarray.DataArray (Lat: 32, Lon: 56)>\n",
      "array([[0.        , 0.        , 0.        , ..., 0.        , 0.        ,\n",
      "        0.        ],\n",
      "       [0.        , 0.        , 0.        , ..., 0.        , 0.        ,\n",
      "        0.        ],\n",
      "       [0.        , 0.        , 0.        , ..., 0.        , 0.        ,\n",
      "        0.        ],\n",
      "       ...,\n",
      "       [0.        , 1.56275522, 1.34008788, ..., 1.10606632, 0.29385069,\n",
      "        0.2517173 ],\n",
      "       [1.78519633, 1.36377777, 1.12699548, ..., 4.43630942, 0.87129069,\n",
      "        0.7950312 ],\n",
      "       [1.37096016, 1.11850972, 1.35195802, ..., 0.79740343, 2.67911746,\n",
      "        0.62765283]])\n",
      "Coordinates:\n",
      "  * Lat      (Lat) float32 24.97 25.92 26.86 27.8 ... 51.36 52.3 53.25 54.19\n",
      "  * Lon      (Lon) float32 230.0 231.2 232.5 233.8 ... 295.0 296.2 297.5 298.8\n"
     ]
    }
   ],
   "source": [
    "et_scenEraThree_diff_Us_xarray = xr.DataArray(et_scenEraThree_diff_Us_ensmean_timeAvg, coords=[lats_US, lons_US ], dims=[\"Lat\",\"Lon\"])\n",
    "\n",
    "print(et_scenEraThree_diff_Us_xarray.shape)\n",
    "print(et_scenEraThree_diff_Us_xarray)"
   ]
  },
  {
   "cell_type": "markdown",
   "metadata": {},
   "source": [
    "## Masking files for the Basin Domain only"
   ]
  },
  {
   "cell_type": "code",
   "execution_count": 61,
   "metadata": {},
   "outputs": [
    {
     "name": "stdout",
     "output_type": "stream",
     "text": [
      "(32, 56)\n",
      "<xarray.DataArray (Lat: 32, Lon: 56)>\n",
      "array([[nan, nan, nan, ..., nan, nan, nan],\n",
      "       [nan, nan, nan, ..., nan, nan, nan],\n",
      "       [nan, nan, nan, ..., nan, nan, nan],\n",
      "       ...,\n",
      "       [nan, nan, nan, ..., nan, nan, nan],\n",
      "       [nan, nan, nan, ..., nan, nan, nan],\n",
      "       [nan, nan, nan, ..., nan, nan, nan]])\n",
      "Coordinates:\n",
      "  * Lat      (Lat) float32 24.97 25.92 26.86 27.8 ... 51.36 52.3 53.25 54.19\n",
      "  * Lon      (Lon) float32 230.0 231.2 232.5 233.8 ... 295.0 296.2 297.5 298.8\n"
     ]
    }
   ],
   "source": [
    "et_scenEraOne_diff_masked_Missi = et_scenEraOne_diff_Us_xarray.where(MaskFile_Missi>0)\n",
    "print(et_scenEraOne_diff_masked_Missi.shape)\n",
    "print(et_scenEraOne_diff_masked_Missi)"
   ]
  },
  {
   "cell_type": "code",
   "execution_count": 62,
   "metadata": {},
   "outputs": [
    {
     "name": "stdout",
     "output_type": "stream",
     "text": [
      "(32, 56)\n",
      "<xarray.DataArray (Lat: 32, Lon: 56)>\n",
      "array([[nan, nan, nan, ..., nan, nan, nan],\n",
      "       [nan, nan, nan, ..., nan, nan, nan],\n",
      "       [nan, nan, nan, ..., nan, nan, nan],\n",
      "       ...,\n",
      "       [nan, nan, nan, ..., nan, nan, nan],\n",
      "       [nan, nan, nan, ..., nan, nan, nan],\n",
      "       [nan, nan, nan, ..., nan, nan, nan]])\n",
      "Coordinates:\n",
      "  * Lat      (Lat) float32 24.97 25.92 26.86 27.8 ... 51.36 52.3 53.25 54.19\n",
      "  * Lon      (Lon) float32 230.0 231.2 232.5 233.8 ... 295.0 296.2 297.5 298.8\n"
     ]
    }
   ],
   "source": [
    "et_scenEraTwo_diff_masked_Missi = et_scenEraTwo_diff_Us_xarray.where(MaskFile_Missi>0)\n",
    "print(et_scenEraTwo_diff_masked_Missi.shape)\n",
    "print(et_scenEraTwo_diff_masked_Missi)"
   ]
  },
  {
   "cell_type": "code",
   "execution_count": 63,
   "metadata": {},
   "outputs": [
    {
     "name": "stdout",
     "output_type": "stream",
     "text": [
      "(32, 56)\n",
      "<xarray.DataArray (Lat: 32, Lon: 56)>\n",
      "array([[nan, nan, nan, ..., nan, nan, nan],\n",
      "       [nan, nan, nan, ..., nan, nan, nan],\n",
      "       [nan, nan, nan, ..., nan, nan, nan],\n",
      "       ...,\n",
      "       [nan, nan, nan, ..., nan, nan, nan],\n",
      "       [nan, nan, nan, ..., nan, nan, nan],\n",
      "       [nan, nan, nan, ..., nan, nan, nan]])\n",
      "Coordinates:\n",
      "  * Lat      (Lat) float32 24.97 25.92 26.86 27.8 ... 51.36 52.3 53.25 54.19\n",
      "  * Lon      (Lon) float32 230.0 231.2 232.5 233.8 ... 295.0 296.2 297.5 298.8\n"
     ]
    }
   ],
   "source": [
    "et_scenEraThree_diff_masked_Missi = et_scenEraThree_diff_Us_xarray.where(MaskFile_Missi>0)\n",
    "print(et_scenEraThree_diff_masked_Missi.shape)\n",
    "print(et_scenEraThree_diff_masked_Missi)"
   ]
  },
  {
   "cell_type": "markdown",
   "metadata": {},
   "source": [
    "## Snowmelt"
   ]
  },
  {
   "cell_type": "markdown",
   "metadata": {},
   "source": [
    "### Historical (1930-2014): 1020 months"
   ]
  },
  {
   "cell_type": "code",
   "execution_count": 64,
   "metadata": {},
   "outputs": [
    {
     "name": "stdout",
     "output_type": "stream",
     "text": [
      "(1020, 32, 56)\n"
     ]
    },
    {
     "data": {
      "text/plain": [
       "9.999999616903162e+35"
      ]
     },
     "execution_count": 64,
     "metadata": {},
     "output_type": "execute_result"
    }
   ],
   "source": [
    "\n",
    "file_snowMelt_histSel_ensMean = 'C:/rezaul/1.academic/1.research/2.project/mrb/dt/cesm/cesm2LE/param/snowMelt/mon/monSnowMeltUsHistSelEnsMean.npy'\n",
    "file_snowMelt_histSel_ensMean_loaded = np.load(file_snowMelt_histSel_ensMean)\n",
    "print(file_snowMelt_histSel_ensMean_loaded.shape)\n",
    "maxVal = np.nanmax(file_snowMelt_histSel_ensMean_loaded)\n",
    "maxVal"
   ]
  },
  {
   "cell_type": "markdown",
   "metadata": {},
   "source": [
    "### Scenario (2105-2100): 1032 months"
   ]
  },
  {
   "cell_type": "code",
   "execution_count": 65,
   "metadata": {},
   "outputs": [
    {
     "name": "stdout",
     "output_type": "stream",
     "text": [
      "(1032, 32, 56)\n"
     ]
    },
    {
     "data": {
      "text/plain": [
       "9.999999616903162e+35"
      ]
     },
     "execution_count": 65,
     "metadata": {},
     "output_type": "execute_result"
    }
   ],
   "source": [
    "\n",
    "file_snowMelt_scen_ensMean = 'C:/rezaul/1.academic/1.research/2.project/mrb/dt/cesm/cesm2LE/param/snowMelt/mon/monSnowMeltUsScenEnsMean.npy'\n",
    "\n",
    "file_snowMelt_scen_ensMean_loaded = np.load(file_snowMelt_scen_ensMean)\n",
    "print(file_snowMelt_scen_ensMean_loaded.shape)\n",
    "maxVal = np.nanmax(file_snowMelt_scen_ensMean_loaded)\n",
    "maxVal"
   ]
  },
  {
   "cell_type": "markdown",
   "metadata": {},
   "source": [
    "## The four time slots"
   ]
  },
  {
   "cell_type": "code",
   "execution_count": 66,
   "metadata": {},
   "outputs": [],
   "source": [
    "\n",
    "#histYrSt = 1850\n",
    "histYrSelSt = 1930\n",
    "\n",
    "refPeriodYrSt = 1971\n",
    "refPeriodYrEnd = 2000\n",
    "#++++++++++++++++++++++++\n",
    "\n",
    "scenYrSt = 2015\n",
    "scenEraOneYrEnd = 2044\n",
    "\n",
    "scenEraTwoYrSt = 2045\n",
    "scenEraTwoYrEnd = 2074\n",
    "\n",
    "scenEraThreeYrSt = 2075\n",
    "scenYrEnd = 2100\n",
    "#\n"
   ]
  },
  {
   "cell_type": "markdown",
   "metadata": {},
   "source": [
    "## Reference Period"
   ]
  },
  {
   "cell_type": "code",
   "execution_count": 67,
   "metadata": {},
   "outputs": [
    {
     "name": "stdout",
     "output_type": "stream",
     "text": [
      "492 852\n",
      "360\n"
     ]
    }
   ],
   "source": [
    "refPeriodStepSt = (refPeriodYrSt - histYrSelSt)*nMonsPerYr\n",
    "\n",
    "refPeriodStepEnd = (refPeriodYrEnd - histYrSelSt + 1)*nMonsPerYr\n",
    "#refPeriodStepEnd = (refPeriodYrEnd - histYrSelSt + 1)*nMonsPerYr + 2   # To include Jan and Feb of the following year in 2001\n",
    "\n",
    "print(refPeriodStepSt, refPeriodStepEnd)\n",
    "print(refPeriodStepEnd-refPeriodStepSt)"
   ]
  },
  {
   "cell_type": "markdown",
   "metadata": {},
   "source": [
    "## Subsetting the data into different periods / Eras"
   ]
  },
  {
   "cell_type": "code",
   "execution_count": 68,
   "metadata": {},
   "outputs": [
    {
     "name": "stdout",
     "output_type": "stream",
     "text": [
      "(360, 32, 56)\n"
     ]
    }
   ],
   "source": [
    "snowMelt_refPeriod_Us_ensmean = file_snowMelt_histSel_ensMean_loaded[refPeriodStepSt:refPeriodStepEnd, :]\n",
    "print(snowMelt_refPeriod_Us_ensmean.shape)"
   ]
  },
  {
   "cell_type": "code",
   "execution_count": 69,
   "metadata": {},
   "outputs": [
    {
     "name": "stdout",
     "output_type": "stream",
     "text": [
      "(360, 32, 56)\n"
     ]
    }
   ],
   "source": [
    "snowMelt_scenEraOne_Us_ensmean = file_snowMelt_scen_ensMean_loaded[scenEraOneStepSt:scenEraOneStepEnd, :]\n",
    "print(snowMelt_scenEraOne_Us_ensmean.shape)"
   ]
  },
  {
   "cell_type": "code",
   "execution_count": 70,
   "metadata": {},
   "outputs": [
    {
     "name": "stdout",
     "output_type": "stream",
     "text": [
      "(360, 32, 56)\n"
     ]
    }
   ],
   "source": [
    "snowMelt_scenEraTwo_Us_ensmean = file_snowMelt_scen_ensMean_loaded[scenEraTwoStepSt:scenEraTwoStepEnd, :]\n",
    "print(snowMelt_scenEraTwo_Us_ensmean.shape)"
   ]
  },
  {
   "cell_type": "code",
   "execution_count": 71,
   "metadata": {},
   "outputs": [
    {
     "name": "stdout",
     "output_type": "stream",
     "text": [
      "(312, 32, 56)\n"
     ]
    }
   ],
   "source": [
    "snowMelt_scenEraThree_Us_ensmean = file_snowMelt_scen_ensMean_loaded[scenEraThreeStepSt:scenEraThreeStepEnd, :]\n",
    "print(snowMelt_scenEraThree_Us_ensmean.shape)"
   ]
  },
  {
   "cell_type": "markdown",
   "metadata": {},
   "source": [
    "## Time average value at the ref period and at the three Eras"
   ]
  },
  {
   "cell_type": "code",
   "execution_count": 72,
   "metadata": {},
   "outputs": [
    {
     "name": "stdout",
     "output_type": "stream",
     "text": [
      "(32, 56)\n"
     ]
    }
   ],
   "source": [
    "snowMelt_refPeriod_Us_ensmean_timeAvg = np.nanmean(snowMelt_refPeriod_Us_ensmean, axis=0)\n",
    "print(snowMelt_refPeriod_Us_ensmean_timeAvg.shape)"
   ]
  },
  {
   "cell_type": "code",
   "execution_count": 73,
   "metadata": {},
   "outputs": [
    {
     "name": "stdout",
     "output_type": "stream",
     "text": [
      "(32, 56)\n"
     ]
    }
   ],
   "source": [
    "snowMelt_scenEraOne_Us_ensmean_timeAvg = np.nanmean(snowMelt_scenEraOne_Us_ensmean, axis=0)\n",
    "print(snowMelt_scenEraOne_Us_ensmean_timeAvg.shape)"
   ]
  },
  {
   "cell_type": "code",
   "execution_count": 74,
   "metadata": {},
   "outputs": [
    {
     "name": "stdout",
     "output_type": "stream",
     "text": [
      "(32, 56)\n"
     ]
    }
   ],
   "source": [
    "snowMelt_scenEraTwo_Us_ensmean_timeAvg = np.nanmean(snowMelt_scenEraTwo_Us_ensmean, axis=0)\n",
    "print(snowMelt_scenEraTwo_Us_ensmean_timeAvg.shape)"
   ]
  },
  {
   "cell_type": "code",
   "execution_count": 75,
   "metadata": {},
   "outputs": [
    {
     "name": "stdout",
     "output_type": "stream",
     "text": [
      "(32, 56)\n"
     ]
    }
   ],
   "source": [
    "snowMelt_scenEraThree_Us_ensmean_timeAvg = np.nanmean(snowMelt_scenEraThree_Us_ensmean, axis=0)\n",
    "print(snowMelt_scenEraThree_Us_ensmean_timeAvg.shape)"
   ]
  },
  {
   "cell_type": "markdown",
   "metadata": {},
   "source": [
    "## Differences of SnowMelt at the three Eras relative to the refernce period mean"
   ]
  },
  {
   "cell_type": "code",
   "execution_count": 76,
   "metadata": {},
   "outputs": [
    {
     "name": "stdout",
     "output_type": "stream",
     "text": [
      "(32, 56)\n",
      "(32, 56)\n",
      "(32, 56)\n"
     ]
    }
   ],
   "source": [
    "snowMelt_scenEraOne_diff_Us_ensmean_timeAvg = (snowMelt_scenEraOne_Us_ensmean_timeAvg - snowMelt_refPeriod_Us_ensmean_timeAvg)\n",
    "print(snowMelt_scenEraOne_diff_Us_ensmean_timeAvg.shape)\n",
    "\n",
    "snowMelt_scenEraTwo_diff_Us_ensmean_timeAvg = (snowMelt_scenEraTwo_Us_ensmean_timeAvg - snowMelt_refPeriod_Us_ensmean_timeAvg)\n",
    "print(snowMelt_scenEraTwo_diff_Us_ensmean_timeAvg.shape)\n",
    "\n",
    "snowMelt_scenEraThree_diff_Us_ensmean_timeAvg = (snowMelt_scenEraThree_Us_ensmean_timeAvg - snowMelt_refPeriod_Us_ensmean_timeAvg)\n",
    "print(snowMelt_scenEraThree_diff_Us_ensmean_timeAvg.shape)\n"
   ]
  },
  {
   "cell_type": "markdown",
   "metadata": {},
   "source": [
    "## Writing in an Xarray Data array"
   ]
  },
  {
   "cell_type": "code",
   "execution_count": 77,
   "metadata": {},
   "outputs": [
    {
     "name": "stdout",
     "output_type": "stream",
     "text": [
      "(32, 56)\n",
      "<xarray.DataArray (Lat: 32, Lon: 56)>\n",
      "array([[  0.        ,   0.        ,   0.        , ...,   0.        ,\n",
      "          0.        ,   0.        ],\n",
      "       [  0.        ,   0.        ,   0.        , ...,   0.        ,\n",
      "          0.        ,   0.        ],\n",
      "       [  0.        ,   0.        ,   0.        , ...,   0.        ,\n",
      "          0.        ,   0.        ],\n",
      "       ...,\n",
      "       [  0.        ,  -2.40409321, -18.85578442, ...,  -8.70670078,\n",
      "         -0.62807347,  -1.48498285],\n",
      "       [ -2.60172586, -16.69630991, -14.39103257, ...,  -6.62307382,\n",
      "         -5.10647301,  -8.48620418],\n",
      "       [-14.83621195, -16.35543021,  -8.67262303, ...,  -6.4850803 ,\n",
      "         -7.26803971, -10.14353277]])\n",
      "Coordinates:\n",
      "  * Lat      (Lat) float32 24.97 25.92 26.86 27.8 ... 51.36 52.3 53.25 54.19\n",
      "  * Lon      (Lon) float32 230.0 231.2 232.5 233.8 ... 295.0 296.2 297.5 298.8\n"
     ]
    }
   ],
   "source": [
    "snowMelt_scenEraOne_diff_Us_xarray = xr.DataArray(snowMelt_scenEraOne_diff_Us_ensmean_timeAvg, coords=[lats_US, lons_US ], dims=[\"Lat\",\"Lon\"])\n",
    "\n",
    "print(snowMelt_scenEraOne_diff_Us_xarray.shape)\n",
    "print(snowMelt_scenEraOne_diff_Us_xarray)"
   ]
  },
  {
   "cell_type": "code",
   "execution_count": 78,
   "metadata": {},
   "outputs": [
    {
     "name": "stdout",
     "output_type": "stream",
     "text": [
      "(32, 56)\n",
      "<xarray.DataArray (Lat: 32, Lon: 56)>\n",
      "array([[  0.        ,   0.        ,   0.        , ...,   0.        ,\n",
      "          0.        ,   0.        ],\n",
      "       [  0.        ,   0.        ,   0.        , ...,   0.        ,\n",
      "          0.        ,   0.        ],\n",
      "       [  0.        ,   0.        ,   0.        , ...,   0.        ,\n",
      "          0.        ,   0.        ],\n",
      "       ...,\n",
      "       [  0.        ,  -4.10658936, -36.59035778, ..., -16.01039657,\n",
      "         -2.98549773,  -5.37625249],\n",
      "       [ -4.44311764, -30.61093841, -30.47587493, ..., -14.31437835,\n",
      "        -12.40732011, -14.07737136],\n",
      "       [-26.74692392, -33.0861306 , -18.56236693, ..., -13.41632672,\n",
      "        -15.47775533, -13.55949169]])\n",
      "Coordinates:\n",
      "  * Lat      (Lat) float32 24.97 25.92 26.86 27.8 ... 51.36 52.3 53.25 54.19\n",
      "  * Lon      (Lon) float32 230.0 231.2 232.5 233.8 ... 295.0 296.2 297.5 298.8\n"
     ]
    }
   ],
   "source": [
    "snowMelt_scenEraTwo_diff_Us_xarray = xr.DataArray(snowMelt_scenEraTwo_diff_Us_ensmean_timeAvg, coords=[lats_US, lons_US ], dims=[\"Lat\",\"Lon\"])\n",
    "\n",
    "print(snowMelt_scenEraTwo_diff_Us_xarray.shape)\n",
    "print(snowMelt_scenEraTwo_diff_Us_xarray)"
   ]
  },
  {
   "cell_type": "code",
   "execution_count": 79,
   "metadata": {},
   "outputs": [
    {
     "name": "stdout",
     "output_type": "stream",
     "text": [
      "(32, 56)\n",
      "<xarray.DataArray (Lat: 32, Lon: 56)>\n",
      "array([[  0.        ,   0.        ,   0.        , ...,   0.        ,\n",
      "          0.        ,   0.        ],\n",
      "       [  0.        ,   0.        ,   0.        , ...,   0.        ,\n",
      "          0.        ,   0.        ],\n",
      "       [  0.        ,   0.        ,   0.        , ...,   0.        ,\n",
      "          0.        ,   0.        ],\n",
      "       ...,\n",
      "       [  0.        ,  -5.08158981, -52.32325255, ..., -21.13370425,\n",
      "         -9.68586267, -13.91982091],\n",
      "       [ -5.61072309, -41.70685921, -48.97156871, ..., -17.49074205,\n",
      "        -16.59643698, -20.13937104],\n",
      "       [-36.41662762, -51.87407871, -31.49545651, ..., -16.97875219,\n",
      "        -19.7060942 , -17.98392353]])\n",
      "Coordinates:\n",
      "  * Lat      (Lat) float32 24.97 25.92 26.86 27.8 ... 51.36 52.3 53.25 54.19\n",
      "  * Lon      (Lon) float32 230.0 231.2 232.5 233.8 ... 295.0 296.2 297.5 298.8\n"
     ]
    }
   ],
   "source": [
    "snowMelt_scenEraThree_diff_Us_xarray = xr.DataArray(snowMelt_scenEraThree_diff_Us_ensmean_timeAvg, coords=[lats_US, lons_US ], dims=[\"Lat\",\"Lon\"])\n",
    "\n",
    "print(snowMelt_scenEraThree_diff_Us_xarray.shape)\n",
    "print(snowMelt_scenEraThree_diff_Us_xarray)"
   ]
  },
  {
   "cell_type": "markdown",
   "metadata": {},
   "source": [
    "## Masking files for the Basin Domain only"
   ]
  },
  {
   "cell_type": "code",
   "execution_count": 80,
   "metadata": {},
   "outputs": [
    {
     "name": "stdout",
     "output_type": "stream",
     "text": [
      "(32, 56)\n",
      "<xarray.DataArray (Lat: 32, Lon: 56)>\n",
      "array([[nan, nan, nan, ..., nan, nan, nan],\n",
      "       [nan, nan, nan, ..., nan, nan, nan],\n",
      "       [nan, nan, nan, ..., nan, nan, nan],\n",
      "       ...,\n",
      "       [nan, nan, nan, ..., nan, nan, nan],\n",
      "       [nan, nan, nan, ..., nan, nan, nan],\n",
      "       [nan, nan, nan, ..., nan, nan, nan]])\n",
      "Coordinates:\n",
      "  * Lat      (Lat) float32 24.97 25.92 26.86 27.8 ... 51.36 52.3 53.25 54.19\n",
      "  * Lon      (Lon) float32 230.0 231.2 232.5 233.8 ... 295.0 296.2 297.5 298.8\n"
     ]
    }
   ],
   "source": [
    "snowMelt_scenEraOne_diff_masked_Missi = snowMelt_scenEraOne_diff_Us_xarray.where(MaskFile_Missi>0)\n",
    "print(snowMelt_scenEraOne_diff_masked_Missi.shape)\n",
    "print(snowMelt_scenEraOne_diff_masked_Missi)"
   ]
  },
  {
   "cell_type": "code",
   "execution_count": 81,
   "metadata": {},
   "outputs": [
    {
     "name": "stdout",
     "output_type": "stream",
     "text": [
      "(32, 56)\n",
      "<xarray.DataArray (Lat: 32, Lon: 56)>\n",
      "array([[nan, nan, nan, ..., nan, nan, nan],\n",
      "       [nan, nan, nan, ..., nan, nan, nan],\n",
      "       [nan, nan, nan, ..., nan, nan, nan],\n",
      "       ...,\n",
      "       [nan, nan, nan, ..., nan, nan, nan],\n",
      "       [nan, nan, nan, ..., nan, nan, nan],\n",
      "       [nan, nan, nan, ..., nan, nan, nan]])\n",
      "Coordinates:\n",
      "  * Lat      (Lat) float32 24.97 25.92 26.86 27.8 ... 51.36 52.3 53.25 54.19\n",
      "  * Lon      (Lon) float32 230.0 231.2 232.5 233.8 ... 295.0 296.2 297.5 298.8\n"
     ]
    }
   ],
   "source": [
    "snowMelt_scenEraTwo_diff_masked_Missi = snowMelt_scenEraTwo_diff_Us_xarray.where(MaskFile_Missi>0)\n",
    "print(snowMelt_scenEraTwo_diff_masked_Missi.shape)\n",
    "print(snowMelt_scenEraTwo_diff_masked_Missi)"
   ]
  },
  {
   "cell_type": "code",
   "execution_count": 82,
   "metadata": {},
   "outputs": [
    {
     "name": "stdout",
     "output_type": "stream",
     "text": [
      "(32, 56)\n",
      "<xarray.DataArray (Lat: 32, Lon: 56)>\n",
      "array([[nan, nan, nan, ..., nan, nan, nan],\n",
      "       [nan, nan, nan, ..., nan, nan, nan],\n",
      "       [nan, nan, nan, ..., nan, nan, nan],\n",
      "       ...,\n",
      "       [nan, nan, nan, ..., nan, nan, nan],\n",
      "       [nan, nan, nan, ..., nan, nan, nan],\n",
      "       [nan, nan, nan, ..., nan, nan, nan]])\n",
      "Coordinates:\n",
      "  * Lat      (Lat) float32 24.97 25.92 26.86 27.8 ... 51.36 52.3 53.25 54.19\n",
      "  * Lon      (Lon) float32 230.0 231.2 232.5 233.8 ... 295.0 296.2 297.5 298.8\n"
     ]
    }
   ],
   "source": [
    "snowMelt_scenEraThree_diff_masked_Missi = snowMelt_scenEraThree_diff_Us_xarray.where(MaskFile_Missi>0)\n",
    "print(snowMelt_scenEraThree_diff_masked_Missi.shape)\n",
    "print(snowMelt_scenEraThree_diff_masked_Missi)"
   ]
  },
  {
   "cell_type": "markdown",
   "metadata": {},
   "source": [
    "## Soil Moisture"
   ]
  },
  {
   "cell_type": "markdown",
   "metadata": {},
   "source": [
    "### Historical (1930-2014): 1020 months"
   ]
  },
  {
   "cell_type": "code",
   "execution_count": 83,
   "metadata": {},
   "outputs": [
    {
     "name": "stdout",
     "output_type": "stream",
     "text": [
      "(1020, 32, 56)\n"
     ]
    },
    {
     "data": {
      "text/plain": [
       "9.999999616903162e+35"
      ]
     },
     "execution_count": 83,
     "metadata": {},
     "output_type": "execute_result"
    }
   ],
   "source": [
    "\n",
    "file_soilMoist_histSel_ensMean = 'C:/rezaul/1.academic/1.research/2.project/mrb/dt/cesm/cesm2LE/param/soilMoist/mon/monSoilMoistUsHistSelEnsMean.npy'\n",
    "\n",
    "file_soilMoist_histSel_ensMean_loaded = np.load(file_soilMoist_histSel_ensMean)\n",
    "print(file_soilMoist_histSel_ensMean_loaded.shape)\n",
    "maxVal = np.nanmax(file_soilMoist_histSel_ensMean_loaded)\n",
    "maxVal"
   ]
  },
  {
   "cell_type": "markdown",
   "metadata": {},
   "source": [
    "### Scenario (2105-2100): 1032 months"
   ]
  },
  {
   "cell_type": "code",
   "execution_count": 84,
   "metadata": {},
   "outputs": [
    {
     "name": "stdout",
     "output_type": "stream",
     "text": [
      "(1032, 32, 56)\n"
     ]
    },
    {
     "data": {
      "text/plain": [
       "9.999999616903162e+35"
      ]
     },
     "execution_count": 84,
     "metadata": {},
     "output_type": "execute_result"
    }
   ],
   "source": [
    "\n",
    "file_soilMoist_scen_ensMean = 'C:/rezaul/1.academic/1.research/2.project/mrb/dt/cesm/cesm2LE/param/soilMoist/mon/monSoilMoistUsScenEnsMean.npy'\n",
    "\n",
    "file_soilMoist_scen_ensMean_loaded = np.load(file_soilMoist_scen_ensMean)\n",
    "print(file_soilMoist_scen_ensMean_loaded.shape)\n",
    "maxVal = np.nanmax(file_soilMoist_scen_ensMean_loaded)\n",
    "maxVal"
   ]
  },
  {
   "cell_type": "markdown",
   "metadata": {},
   "source": [
    "## Subsetting the data into different periods / Eras"
   ]
  },
  {
   "cell_type": "code",
   "execution_count": 85,
   "metadata": {},
   "outputs": [
    {
     "name": "stdout",
     "output_type": "stream",
     "text": [
      "(360, 32, 56)\n"
     ]
    }
   ],
   "source": [
    "soilMoist_refPeriod_Us_ensmean = file_soilMoist_histSel_ensMean_loaded[refPeriodStepSt:refPeriodStepEnd, :]\n",
    "print(soilMoist_refPeriod_Us_ensmean.shape)"
   ]
  },
  {
   "cell_type": "code",
   "execution_count": 86,
   "metadata": {},
   "outputs": [
    {
     "name": "stdout",
     "output_type": "stream",
     "text": [
      "(360, 32, 56)\n"
     ]
    }
   ],
   "source": [
    "soilMoist_scenEraOne_Us_ensmean = file_soilMoist_scen_ensMean_loaded[scenEraOneStepSt:scenEraOneStepEnd, :]\n",
    "print(soilMoist_scenEraOne_Us_ensmean.shape)"
   ]
  },
  {
   "cell_type": "code",
   "execution_count": 87,
   "metadata": {},
   "outputs": [
    {
     "name": "stdout",
     "output_type": "stream",
     "text": [
      "(360, 32, 56)\n"
     ]
    }
   ],
   "source": [
    "soilMoist_scenEraTwo_Us_ensmean = file_soilMoist_scen_ensMean_loaded[scenEraTwoStepSt:scenEraTwoStepEnd, :]\n",
    "print(soilMoist_scenEraTwo_Us_ensmean.shape)"
   ]
  },
  {
   "cell_type": "code",
   "execution_count": 88,
   "metadata": {},
   "outputs": [
    {
     "name": "stdout",
     "output_type": "stream",
     "text": [
      "(312, 32, 56)\n"
     ]
    }
   ],
   "source": [
    "soilMoist_scenEraThree_Us_ensmean = file_soilMoist_scen_ensMean_loaded[scenEraThreeStepSt:scenEraThreeStepEnd, :]\n",
    "print(soilMoist_scenEraThree_Us_ensmean.shape)"
   ]
  },
  {
   "cell_type": "markdown",
   "metadata": {},
   "source": [
    "## Time average value at the ref period and at the three Eras"
   ]
  },
  {
   "cell_type": "code",
   "execution_count": 89,
   "metadata": {},
   "outputs": [
    {
     "name": "stdout",
     "output_type": "stream",
     "text": [
      "(32, 56)\n"
     ]
    }
   ],
   "source": [
    "soilMoist_refPeriod_Us_ensmean_timeAvg = np.nanmean(soilMoist_refPeriod_Us_ensmean, axis=0)\n",
    "print(soilMoist_refPeriod_Us_ensmean_timeAvg.shape)"
   ]
  },
  {
   "cell_type": "code",
   "execution_count": 90,
   "metadata": {},
   "outputs": [
    {
     "name": "stdout",
     "output_type": "stream",
     "text": [
      "(32, 56)\n"
     ]
    }
   ],
   "source": [
    "soilMoist_scenEraOne_Us_ensmean_timeAvg = np.nanmean(soilMoist_scenEraOne_Us_ensmean, axis=0)\n",
    "print(soilMoist_scenEraOne_Us_ensmean_timeAvg.shape)"
   ]
  },
  {
   "cell_type": "code",
   "execution_count": 91,
   "metadata": {},
   "outputs": [
    {
     "name": "stdout",
     "output_type": "stream",
     "text": [
      "(32, 56)\n"
     ]
    }
   ],
   "source": [
    "soilMoist_scenEraTwo_Us_ensmean_timeAvg = np.nanmean(soilMoist_scenEraTwo_Us_ensmean, axis=0)\n",
    "print(soilMoist_scenEraTwo_Us_ensmean_timeAvg.shape)"
   ]
  },
  {
   "cell_type": "code",
   "execution_count": 92,
   "metadata": {},
   "outputs": [
    {
     "name": "stdout",
     "output_type": "stream",
     "text": [
      "(32, 56)\n"
     ]
    }
   ],
   "source": [
    "soilMoist_scenEraThree_Us_ensmean_timeAvg = np.nanmean(soilMoist_scenEraThree_Us_ensmean, axis=0)\n",
    "print(soilMoist_scenEraThree_Us_ensmean_timeAvg.shape)"
   ]
  },
  {
   "cell_type": "markdown",
   "metadata": {},
   "source": [
    "## Differences of Soil Moisture at the three Eras relative to the refernce period mean"
   ]
  },
  {
   "cell_type": "code",
   "execution_count": 93,
   "metadata": {},
   "outputs": [
    {
     "name": "stdout",
     "output_type": "stream",
     "text": [
      "(32, 56)\n",
      "(32, 56)\n",
      "(32, 56)\n"
     ]
    }
   ],
   "source": [
    "soilMoist_scenEraOne_diff_Us_ensmean_timeAvg = (soilMoist_scenEraOne_Us_ensmean_timeAvg - soilMoist_refPeriod_Us_ensmean_timeAvg)\n",
    "print(soilMoist_scenEraOne_diff_Us_ensmean_timeAvg.shape)\n",
    "\n",
    "soilMoist_scenEraTwo_diff_Us_ensmean_timeAvg = (soilMoist_scenEraTwo_Us_ensmean_timeAvg - soilMoist_refPeriod_Us_ensmean_timeAvg)\n",
    "print(soilMoist_scenEraTwo_diff_Us_ensmean_timeAvg.shape)\n",
    "\n",
    "soilMoist_scenEraThree_diff_Us_ensmean_timeAvg = (soilMoist_scenEraThree_Us_ensmean_timeAvg - soilMoist_refPeriod_Us_ensmean_timeAvg)\n",
    "print(soilMoist_scenEraThree_diff_Us_ensmean_timeAvg.shape)\n",
    "\n"
   ]
  },
  {
   "cell_type": "markdown",
   "metadata": {},
   "source": [
    "## Writing in an Xarray Data array"
   ]
  },
  {
   "cell_type": "code",
   "execution_count": 94,
   "metadata": {},
   "outputs": [
    {
     "name": "stdout",
     "output_type": "stream",
     "text": [
      "(32, 56)\n",
      "<xarray.DataArray (Lat: 32, Lon: 56)>\n",
      "array([[  0.        ,   0.        ,   0.        , ...,   0.        ,\n",
      "          0.        ,   0.        ],\n",
      "       [  0.        ,   0.        ,   0.        , ...,   0.        ,\n",
      "          0.        ,   0.        ],\n",
      "       [  0.        ,   0.        ,   0.        , ...,   0.        ,\n",
      "          0.        ,   0.        ],\n",
      "       ...,\n",
      "       [  0.        ,  -0.31514726,  -0.87040546, ..., -15.34342363,\n",
      "         -1.714768  ,  -2.46252887],\n",
      "       [ -0.39835385,  -0.89140431,  -0.53321743, ...,  -3.46557077,\n",
      "         -8.81997889, -20.26027182],\n",
      "       [ -0.91328951,  -0.17825635,  -0.38910449, ...,  -0.86682921,\n",
      "         -2.19979497, -21.09788444]])\n",
      "Coordinates:\n",
      "  * Lat      (Lat) float32 24.97 25.92 26.86 27.8 ... 51.36 52.3 53.25 54.19\n",
      "  * Lon      (Lon) float32 230.0 231.2 232.5 233.8 ... 295.0 296.2 297.5 298.8\n"
     ]
    }
   ],
   "source": [
    "soilMoist_scenEraOne_diff_Us_xarray = xr.DataArray(soilMoist_scenEraOne_diff_Us_ensmean_timeAvg, coords=[lats_US, lons_US ], dims=[\"Lat\",\"Lon\"])\n",
    "\n",
    "print(soilMoist_scenEraOne_diff_Us_xarray.shape)\n",
    "print(soilMoist_scenEraOne_diff_Us_xarray)"
   ]
  },
  {
   "cell_type": "code",
   "execution_count": 95,
   "metadata": {},
   "outputs": [
    {
     "name": "stdout",
     "output_type": "stream",
     "text": [
      "(32, 56)\n",
      "<xarray.DataArray (Lat: 32, Lon: 56)>\n",
      "array([[  0.        ,   0.        ,   0.        , ...,   0.        ,\n",
      "          0.        ,   0.        ],\n",
      "       [  0.        ,   0.        ,   0.        , ...,   0.        ,\n",
      "          0.        ,   0.        ],\n",
      "       [  0.        ,   0.        ,   0.        , ...,   0.        ,\n",
      "          0.        ,   0.        ],\n",
      "       ...,\n",
      "       [  0.        ,  -0.44863758,  -1.70612303, ..., -23.07569321,\n",
      "         -2.56494809,  -3.71041324],\n",
      "       [ -0.64451368,  -1.79128203,  -1.27192627, ..., -23.47633998,\n",
      "        -24.46076055, -22.09776567],\n",
      "       [ -1.94999523,  -0.58437863,  -0.78495701, ..., -15.36782463,\n",
      "        -19.20267226, -22.69221115]])\n",
      "Coordinates:\n",
      "  * Lat      (Lat) float32 24.97 25.92 26.86 27.8 ... 51.36 52.3 53.25 54.19\n",
      "  * Lon      (Lon) float32 230.0 231.2 232.5 233.8 ... 295.0 296.2 297.5 298.8\n"
     ]
    }
   ],
   "source": [
    "soilMoist_scenEraTwo_diff_Us_xarray = xr.DataArray(soilMoist_scenEraTwo_diff_Us_ensmean_timeAvg, coords=[lats_US, lons_US ], dims=[\"Lat\",\"Lon\"])\n",
    "\n",
    "print(soilMoist_scenEraTwo_diff_Us_xarray.shape)\n",
    "print(soilMoist_scenEraTwo_diff_Us_xarray)"
   ]
  },
  {
   "cell_type": "code",
   "execution_count": 96,
   "metadata": {},
   "outputs": [
    {
     "name": "stdout",
     "output_type": "stream",
     "text": [
      "(32, 56)\n",
      "<xarray.DataArray (Lat: 32, Lon: 56)>\n",
      "array([[  0.        ,   0.        ,   0.        , ...,   0.        ,\n",
      "          0.        ,   0.        ],\n",
      "       [  0.        ,   0.        ,   0.        , ...,   0.        ,\n",
      "          0.        ,   0.        ],\n",
      "       [  0.        ,   0.        ,   0.        , ...,   0.        ,\n",
      "          0.        ,   0.        ],\n",
      "       ...,\n",
      "       [  0.        ,  -0.51587423,  -2.37512073, ..., -24.9153073 ,\n",
      "         -3.92635852,  -5.54804665],\n",
      "       [ -0.76457866,  -2.59129814,  -1.90027095, ..., -27.42156223,\n",
      "        -26.17436193, -23.77956013],\n",
      "       [ -2.86037188,  -1.18177442,  -1.04671377, ..., -19.83283938,\n",
      "        -26.07956923, -24.53655399]])\n",
      "Coordinates:\n",
      "  * Lat      (Lat) float32 24.97 25.92 26.86 27.8 ... 51.36 52.3 53.25 54.19\n",
      "  * Lon      (Lon) float32 230.0 231.2 232.5 233.8 ... 295.0 296.2 297.5 298.8\n"
     ]
    }
   ],
   "source": [
    "soilMoist_scenEraThree_diff_Us_xarray = xr.DataArray(soilMoist_scenEraThree_diff_Us_ensmean_timeAvg, coords=[lats_US, lons_US ], dims=[\"Lat\",\"Lon\"])\n",
    "\n",
    "print(soilMoist_scenEraThree_diff_Us_xarray.shape)\n",
    "print(soilMoist_scenEraThree_diff_Us_xarray)"
   ]
  },
  {
   "cell_type": "markdown",
   "metadata": {},
   "source": [
    "## Masking files for the Basin Domain only"
   ]
  },
  {
   "cell_type": "code",
   "execution_count": 97,
   "metadata": {},
   "outputs": [
    {
     "name": "stdout",
     "output_type": "stream",
     "text": [
      "(32, 56)\n",
      "<xarray.DataArray (Lat: 32, Lon: 56)>\n",
      "array([[nan, nan, nan, ..., nan, nan, nan],\n",
      "       [nan, nan, nan, ..., nan, nan, nan],\n",
      "       [nan, nan, nan, ..., nan, nan, nan],\n",
      "       ...,\n",
      "       [nan, nan, nan, ..., nan, nan, nan],\n",
      "       [nan, nan, nan, ..., nan, nan, nan],\n",
      "       [nan, nan, nan, ..., nan, nan, nan]])\n",
      "Coordinates:\n",
      "  * Lat      (Lat) float32 24.97 25.92 26.86 27.8 ... 51.36 52.3 53.25 54.19\n",
      "  * Lon      (Lon) float32 230.0 231.2 232.5 233.8 ... 295.0 296.2 297.5 298.8\n"
     ]
    }
   ],
   "source": [
    "soilMoist_scenEraOne_diff_masked_Missi = soilMoist_scenEraOne_diff_Us_xarray.where(MaskFile_Missi>0)\n",
    "print(soilMoist_scenEraOne_diff_masked_Missi.shape)\n",
    "print(soilMoist_scenEraOne_diff_masked_Missi)"
   ]
  },
  {
   "cell_type": "code",
   "execution_count": 98,
   "metadata": {},
   "outputs": [
    {
     "name": "stdout",
     "output_type": "stream",
     "text": [
      "(32, 56)\n",
      "<xarray.DataArray (Lat: 32, Lon: 56)>\n",
      "array([[nan, nan, nan, ..., nan, nan, nan],\n",
      "       [nan, nan, nan, ..., nan, nan, nan],\n",
      "       [nan, nan, nan, ..., nan, nan, nan],\n",
      "       ...,\n",
      "       [nan, nan, nan, ..., nan, nan, nan],\n",
      "       [nan, nan, nan, ..., nan, nan, nan],\n",
      "       [nan, nan, nan, ..., nan, nan, nan]])\n",
      "Coordinates:\n",
      "  * Lat      (Lat) float32 24.97 25.92 26.86 27.8 ... 51.36 52.3 53.25 54.19\n",
      "  * Lon      (Lon) float32 230.0 231.2 232.5 233.8 ... 295.0 296.2 297.5 298.8\n"
     ]
    }
   ],
   "source": [
    "soilMoist_scenEraTwo_diff_masked_Missi = soilMoist_scenEraTwo_diff_Us_xarray.where(MaskFile_Missi>0)\n",
    "print(soilMoist_scenEraTwo_diff_masked_Missi.shape)\n",
    "print(soilMoist_scenEraTwo_diff_masked_Missi)"
   ]
  },
  {
   "cell_type": "code",
   "execution_count": 99,
   "metadata": {},
   "outputs": [
    {
     "name": "stdout",
     "output_type": "stream",
     "text": [
      "(32, 56)\n",
      "<xarray.DataArray (Lat: 32, Lon: 56)>\n",
      "array([[nan, nan, nan, ..., nan, nan, nan],\n",
      "       [nan, nan, nan, ..., nan, nan, nan],\n",
      "       [nan, nan, nan, ..., nan, nan, nan],\n",
      "       ...,\n",
      "       [nan, nan, nan, ..., nan, nan, nan],\n",
      "       [nan, nan, nan, ..., nan, nan, nan],\n",
      "       [nan, nan, nan, ..., nan, nan, nan]])\n",
      "Coordinates:\n",
      "  * Lat      (Lat) float32 24.97 25.92 26.86 27.8 ... 51.36 52.3 53.25 54.19\n",
      "  * Lon      (Lon) float32 230.0 231.2 232.5 233.8 ... 295.0 296.2 297.5 298.8\n"
     ]
    }
   ],
   "source": [
    "soilMoist_scenEraThree_diff_masked_Missi = soilMoist_scenEraThree_diff_Us_xarray.where(MaskFile_Missi>0)\n",
    "print(soilMoist_scenEraThree_diff_masked_Missi.shape)\n",
    "print(soilMoist_scenEraThree_diff_masked_Missi)"
   ]
  },
  {
   "cell_type": "markdown",
   "metadata": {},
   "source": [
    "## Runoff"
   ]
  },
  {
   "cell_type": "markdown",
   "metadata": {},
   "source": [
    "### Hist Sel (1930-2014)"
   ]
  },
  {
   "cell_type": "code",
   "execution_count": 100,
   "metadata": {},
   "outputs": [
    {
     "name": "stdout",
     "output_type": "stream",
     "text": [
      "(1980, 32, 56)\n"
     ]
    },
    {
     "data": {
      "text/plain": [
       "9.999999616903162e+35"
      ]
     },
     "execution_count": 100,
     "metadata": {},
     "output_type": "execute_result"
    }
   ],
   "source": [
    "\n",
    "file_runoff_hist_ensMean = 'C:/rezaul/1.academic/1.research/2.project/mrb/dt/cesm/cesm2LE/param/runoff/mon/monRunoffUsHistEnsMean.npy'\n",
    "\n",
    "file_runoff_hist_ensMean_loaded = np.load(file_runoff_hist_ensMean)\n",
    "print(file_runoff_hist_ensMean_loaded.shape)\n",
    "maxVal = np.nanmax(file_runoff_hist_ensMean_loaded)\n",
    "maxVal"
   ]
  },
  {
   "cell_type": "markdown",
   "metadata": {},
   "source": [
    "### Scenario (2105-2100): 1032 months"
   ]
  },
  {
   "cell_type": "code",
   "execution_count": 101,
   "metadata": {},
   "outputs": [
    {
     "name": "stdout",
     "output_type": "stream",
     "text": [
      "(1032, 32, 56)\n"
     ]
    },
    {
     "data": {
      "text/plain": [
       "9.999999616903162e+35"
      ]
     },
     "execution_count": 101,
     "metadata": {},
     "output_type": "execute_result"
    }
   ],
   "source": [
    "\n",
    "file_runoff_scen_ensMean = 'C:/rezaul/1.academic/1.research/2.project/mrb/dt/cesm/cesm2LE/param/runoff/mon/monRunoffUsScenEnsMean.npy'\n",
    "\n",
    "file_runoff_scen_ensMean_loaded = np.load(file_runoff_scen_ensMean)\n",
    "print(file_runoff_scen_ensMean_loaded.shape)\n",
    "maxVal = np.nanmax(file_runoff_scen_ensMean_loaded)\n",
    "maxVal"
   ]
  },
  {
   "cell_type": "markdown",
   "metadata": {},
   "source": [
    "## Reference Period"
   ]
  },
  {
   "cell_type": "code",
   "execution_count": 102,
   "metadata": {},
   "outputs": [
    {
     "name": "stdout",
     "output_type": "stream",
     "text": [
      "1452 1812\n",
      "360\n"
     ]
    }
   ],
   "source": [
    "refPeriodStepSt = (refPeriodYrSt - histYrSt)*nMonsPerYr\n",
    "refPeriodStepEnd = (refPeriodYrEnd - histYrSt + 1)*nMonsPerYr\n",
    "print(refPeriodStepSt, refPeriodStepEnd)\n",
    "print(refPeriodStepEnd-refPeriodStepSt)"
   ]
  },
  {
   "cell_type": "markdown",
   "metadata": {},
   "source": [
    "## Subsetting the data into different periods / Eras"
   ]
  },
  {
   "cell_type": "code",
   "execution_count": 103,
   "metadata": {},
   "outputs": [
    {
     "name": "stdout",
     "output_type": "stream",
     "text": [
      "(360, 32, 56)\n"
     ]
    }
   ],
   "source": [
    "runoff_refPeriod_Us_ensmean = file_runoff_hist_ensMean_loaded[refPeriodStepSt:refPeriodStepEnd, :]\n",
    "print(runoff_refPeriod_Us_ensmean.shape)"
   ]
  },
  {
   "cell_type": "code",
   "execution_count": 104,
   "metadata": {},
   "outputs": [
    {
     "name": "stdout",
     "output_type": "stream",
     "text": [
      "(360, 32, 56)\n"
     ]
    }
   ],
   "source": [
    "runoff_scenEraOne_Us_ensmean = file_runoff_scen_ensMean_loaded[scenEraOneStepSt:scenEraOneStepEnd, :]\n",
    "print(runoff_scenEraOne_Us_ensmean.shape)"
   ]
  },
  {
   "cell_type": "code",
   "execution_count": 105,
   "metadata": {},
   "outputs": [
    {
     "name": "stdout",
     "output_type": "stream",
     "text": [
      "(360, 32, 56)\n"
     ]
    }
   ],
   "source": [
    "runoff_scenEraTwo_Us_ensmean = file_runoff_scen_ensMean_loaded[scenEraTwoStepSt:scenEraTwoStepEnd, :]\n",
    "print(runoff_scenEraTwo_Us_ensmean.shape)"
   ]
  },
  {
   "cell_type": "code",
   "execution_count": 106,
   "metadata": {},
   "outputs": [
    {
     "name": "stdout",
     "output_type": "stream",
     "text": [
      "(312, 32, 56)\n"
     ]
    }
   ],
   "source": [
    "runoff_scenEraThree_Us_ensmean = file_runoff_scen_ensMean_loaded[scenEraThreeStepSt:scenEraThreeStepEnd, :]\n",
    "print(runoff_scenEraThree_Us_ensmean.shape)"
   ]
  },
  {
   "cell_type": "markdown",
   "metadata": {},
   "source": [
    "## Time average value at the ref period and at the three Eras"
   ]
  },
  {
   "cell_type": "code",
   "execution_count": 107,
   "metadata": {},
   "outputs": [
    {
     "name": "stdout",
     "output_type": "stream",
     "text": [
      "(32, 56)\n"
     ]
    }
   ],
   "source": [
    "runoff_refPeriod_Us_ensmean_timeAvg = np.nanmean(runoff_refPeriod_Us_ensmean, axis=0)\n",
    "print(runoff_refPeriod_Us_ensmean_timeAvg.shape)"
   ]
  },
  {
   "cell_type": "code",
   "execution_count": 108,
   "metadata": {},
   "outputs": [
    {
     "name": "stdout",
     "output_type": "stream",
     "text": [
      "(32, 56)\n"
     ]
    }
   ],
   "source": [
    "runoff_scenEraOne_Us_ensmean_timeAvg = np.nanmean(runoff_scenEraOne_Us_ensmean, axis=0)\n",
    "print(runoff_scenEraOne_Us_ensmean_timeAvg.shape)"
   ]
  },
  {
   "cell_type": "code",
   "execution_count": 109,
   "metadata": {},
   "outputs": [
    {
     "name": "stdout",
     "output_type": "stream",
     "text": [
      "(32, 56)\n"
     ]
    }
   ],
   "source": [
    "runoff_scenEraTwo_Us_ensmean_timeAvg = np.nanmean(runoff_scenEraTwo_Us_ensmean, axis=0)\n",
    "print(runoff_scenEraTwo_Us_ensmean_timeAvg.shape)"
   ]
  },
  {
   "cell_type": "code",
   "execution_count": 110,
   "metadata": {},
   "outputs": [
    {
     "name": "stdout",
     "output_type": "stream",
     "text": [
      "(32, 56)\n"
     ]
    }
   ],
   "source": [
    "runoff_scenEraThree_Us_ensmean_timeAvg = np.nanmean(runoff_scenEraThree_Us_ensmean, axis=0)\n",
    "print(runoff_scenEraThree_Us_ensmean_timeAvg.shape)"
   ]
  },
  {
   "cell_type": "markdown",
   "metadata": {},
   "source": [
    "## Differences of Runoff at the three Eras relative to the refernce period mean"
   ]
  },
  {
   "cell_type": "code",
   "execution_count": 111,
   "metadata": {},
   "outputs": [
    {
     "name": "stdout",
     "output_type": "stream",
     "text": [
      "(32, 56)\n",
      "(32, 56)\n",
      "(32, 56)\n"
     ]
    }
   ],
   "source": [
    "runoff_scenEraOne_diff_Us_ensmean_timeAvg = (runoff_scenEraOne_Us_ensmean_timeAvg - runoff_refPeriod_Us_ensmean_timeAvg)\n",
    "print(runoff_scenEraOne_diff_Us_ensmean_timeAvg.shape)\n",
    "\n",
    "runoff_scenEraTwo_diff_Us_ensmean_timeAvg = (runoff_scenEraTwo_Us_ensmean_timeAvg - runoff_refPeriod_Us_ensmean_timeAvg)\n",
    "print(runoff_scenEraTwo_diff_Us_ensmean_timeAvg.shape)\n",
    "\n",
    "runoff_scenEraThree_diff_Us_ensmean_timeAvg = (runoff_scenEraThree_Us_ensmean_timeAvg - runoff_refPeriod_Us_ensmean_timeAvg)\n",
    "print(runoff_scenEraThree_diff_Us_ensmean_timeAvg.shape)\n",
    "\n"
   ]
  },
  {
   "cell_type": "markdown",
   "metadata": {},
   "source": [
    "## Writing in an Xarray Data array"
   ]
  },
  {
   "cell_type": "code",
   "execution_count": 112,
   "metadata": {},
   "outputs": [
    {
     "name": "stdout",
     "output_type": "stream",
     "text": [
      "(32, 56)\n",
      "<xarray.DataArray (Lat: 32, Lon: 56)>\n",
      "array([[ 0.        ,  0.        ,  0.        , ...,  0.        ,\n",
      "         0.        ,  0.        ],\n",
      "       [ 0.        ,  0.        ,  0.        , ...,  0.        ,\n",
      "         0.        ,  0.        ],\n",
      "       [ 0.        ,  0.        ,  0.        , ...,  0.        ,\n",
      "         0.        ,  0.        ],\n",
      "       ...,\n",
      "       [ 0.        ,  0.64760285, -0.03788749, ..., -2.0521387 ,\n",
      "        -1.95476396,  0.09596729],\n",
      "       [ 0.59672455,  0.12008839, -0.19975391, ...,  5.62616149,\n",
      "         2.52865968, -6.95753814],\n",
      "       [ 0.38303875, -0.13158464, -0.26551867, ...,  2.74272108,\n",
      "         4.18901311, -3.04082474]])\n",
      "Coordinates:\n",
      "  * Lat      (Lat) float32 24.97 25.92 26.86 27.8 ... 51.36 52.3 53.25 54.19\n",
      "  * Lon      (Lon) float32 230.0 231.2 232.5 233.8 ... 295.0 296.2 297.5 298.8\n"
     ]
    }
   ],
   "source": [
    "runoff_scenEraOne_diff_Us_xarray = xr.DataArray(runoff_scenEraOne_diff_Us_ensmean_timeAvg, coords=[lats_US, lons_US], dims=[\"Lat\",\"Lon\"])\n",
    "\n",
    "print(runoff_scenEraOne_diff_Us_xarray.shape)\n",
    "print(runoff_scenEraOne_diff_Us_xarray)"
   ]
  },
  {
   "cell_type": "code",
   "execution_count": 113,
   "metadata": {},
   "outputs": [
    {
     "name": "stdout",
     "output_type": "stream",
     "text": [
      "(32, 56)\n",
      "<xarray.DataArray (Lat: 32, Lon: 56)>\n",
      "array([[ 0.        ,  0.        ,  0.        , ...,  0.        ,\n",
      "         0.        ,  0.        ],\n",
      "       [ 0.        ,  0.        ,  0.        , ...,  0.        ,\n",
      "         0.        ,  0.        ],\n",
      "       [ 0.        ,  0.        ,  0.        , ...,  0.        ,\n",
      "         0.        ,  0.        ],\n",
      "       ...,\n",
      "       [ 0.        ,  2.69086654,  1.21617251, ..., -9.95706962,\n",
      "        -2.68856008,  0.26124045],\n",
      "       [ 2.89389515,  1.89813331,  0.6408788 , ..., -2.96251537,\n",
      "        -9.49285009, -8.72719509],\n",
      "       [ 2.25225739,  0.98733879,  0.18294733, ..., -0.45744665,\n",
      "        -0.36976394, -3.74434125]])\n",
      "Coordinates:\n",
      "  * Lat      (Lat) float32 24.97 25.92 26.86 27.8 ... 51.36 52.3 53.25 54.19\n",
      "  * Lon      (Lon) float32 230.0 231.2 232.5 233.8 ... 295.0 296.2 297.5 298.8\n"
     ]
    }
   ],
   "source": [
    "runoff_scenEraTwo_diff_Us_xarray = xr.DataArray(runoff_scenEraTwo_diff_Us_ensmean_timeAvg, coords=[lats_US, lons_US], dims=[\"Lat\",\"Lon\"])\n",
    "\n",
    "print(runoff_scenEraTwo_diff_Us_xarray.shape)\n",
    "print(runoff_scenEraTwo_diff_Us_xarray)"
   ]
  },
  {
   "cell_type": "code",
   "execution_count": 114,
   "metadata": {},
   "outputs": [
    {
     "name": "stdout",
     "output_type": "stream",
     "text": [
      "(32, 56)\n",
      "<xarray.DataArray (Lat: 32, Lon: 56)>\n",
      "array([[  0.        ,   0.        ,   0.        , ...,   0.        ,\n",
      "          0.        ,   0.        ],\n",
      "       [  0.        ,   0.        ,   0.        , ...,   0.        ,\n",
      "          0.        ,   0.        ],\n",
      "       [  0.        ,   0.        ,   0.        , ...,   0.        ,\n",
      "          0.        ,   0.        ],\n",
      "       ...,\n",
      "       [  0.        ,   4.70767995,   2.02914346, ..., -10.52857779,\n",
      "         -3.64418654,   0.85990522],\n",
      "       [  5.1018457 ,   3.64781487,   1.21815982, ...,  -6.7823452 ,\n",
      "        -10.7201869 ,  -9.38024029],\n",
      "       [  4.07437805,   1.93664075,   0.58712401, ...,  -3.04801735,\n",
      "         -5.52185835,  -3.77277665]])\n",
      "Coordinates:\n",
      "  * Lat      (Lat) float32 24.97 25.92 26.86 27.8 ... 51.36 52.3 53.25 54.19\n",
      "  * Lon      (Lon) float32 230.0 231.2 232.5 233.8 ... 295.0 296.2 297.5 298.8\n"
     ]
    }
   ],
   "source": [
    "runoff_scenEraThree_diff_Us_xarray = xr.DataArray(runoff_scenEraThree_diff_Us_ensmean_timeAvg, coords=[lats_US, lons_US], dims=[\"Lat\",\"Lon\"])\n",
    "\n",
    "print(runoff_scenEraThree_diff_Us_xarray.shape)\n",
    "print(runoff_scenEraThree_diff_Us_xarray)"
   ]
  },
  {
   "cell_type": "markdown",
   "metadata": {},
   "source": [
    "## Masking files for the Basin Domain only"
   ]
  },
  {
   "cell_type": "code",
   "execution_count": 115,
   "metadata": {},
   "outputs": [
    {
     "name": "stdout",
     "output_type": "stream",
     "text": [
      "(32, 56)\n",
      "<xarray.DataArray (Lat: 32, Lon: 56)>\n",
      "array([[nan, nan, nan, ..., nan, nan, nan],\n",
      "       [nan, nan, nan, ..., nan, nan, nan],\n",
      "       [nan, nan, nan, ..., nan, nan, nan],\n",
      "       ...,\n",
      "       [nan, nan, nan, ..., nan, nan, nan],\n",
      "       [nan, nan, nan, ..., nan, nan, nan],\n",
      "       [nan, nan, nan, ..., nan, nan, nan]])\n",
      "Coordinates:\n",
      "  * Lat      (Lat) float32 24.97 25.92 26.86 27.8 ... 51.36 52.3 53.25 54.19\n",
      "  * Lon      (Lon) float32 230.0 231.2 232.5 233.8 ... 295.0 296.2 297.5 298.8\n"
     ]
    }
   ],
   "source": [
    "runoff_scenEraOne_diff_masked_Missi = runoff_scenEraOne_diff_Us_xarray.where(MaskFile_Missi>0)\n",
    "print(runoff_scenEraOne_diff_masked_Missi.shape)\n",
    "print(runoff_scenEraOne_diff_masked_Missi)"
   ]
  },
  {
   "cell_type": "code",
   "execution_count": 116,
   "metadata": {},
   "outputs": [
    {
     "name": "stdout",
     "output_type": "stream",
     "text": [
      "(32, 56)\n",
      "<xarray.DataArray (Lat: 32, Lon: 56)>\n",
      "array([[nan, nan, nan, ..., nan, nan, nan],\n",
      "       [nan, nan, nan, ..., nan, nan, nan],\n",
      "       [nan, nan, nan, ..., nan, nan, nan],\n",
      "       ...,\n",
      "       [nan, nan, nan, ..., nan, nan, nan],\n",
      "       [nan, nan, nan, ..., nan, nan, nan],\n",
      "       [nan, nan, nan, ..., nan, nan, nan]])\n",
      "Coordinates:\n",
      "  * Lat      (Lat) float32 24.97 25.92 26.86 27.8 ... 51.36 52.3 53.25 54.19\n",
      "  * Lon      (Lon) float32 230.0 231.2 232.5 233.8 ... 295.0 296.2 297.5 298.8\n"
     ]
    }
   ],
   "source": [
    "runoff_scenEraTwo_diff_masked_Missi = runoff_scenEraTwo_diff_Us_xarray.where(MaskFile_Missi>0)\n",
    "print(runoff_scenEraTwo_diff_masked_Missi.shape)\n",
    "print(runoff_scenEraTwo_diff_masked_Missi)"
   ]
  },
  {
   "cell_type": "code",
   "execution_count": 117,
   "metadata": {},
   "outputs": [
    {
     "name": "stdout",
     "output_type": "stream",
     "text": [
      "(32, 56)\n",
      "<xarray.DataArray (Lat: 32, Lon: 56)>\n",
      "array([[nan, nan, nan, ..., nan, nan, nan],\n",
      "       [nan, nan, nan, ..., nan, nan, nan],\n",
      "       [nan, nan, nan, ..., nan, nan, nan],\n",
      "       ...,\n",
      "       [nan, nan, nan, ..., nan, nan, nan],\n",
      "       [nan, nan, nan, ..., nan, nan, nan],\n",
      "       [nan, nan, nan, ..., nan, nan, nan]])\n",
      "Coordinates:\n",
      "  * Lat      (Lat) float32 24.97 25.92 26.86 27.8 ... 51.36 52.3 53.25 54.19\n",
      "  * Lon      (Lon) float32 230.0 231.2 232.5 233.8 ... 295.0 296.2 297.5 298.8\n"
     ]
    }
   ],
   "source": [
    "runoff_scenEraThree_diff_masked_Missi = runoff_scenEraThree_diff_Us_xarray.where(MaskFile_Missi>0)\n",
    "print(runoff_scenEraThree_diff_masked_Missi.shape)\n",
    "print(runoff_scenEraThree_diff_masked_Missi)"
   ]
  },
  {
   "cell_type": "markdown",
   "metadata": {},
   "source": [
    "## Making a panel plot for different parameters"
   ]
  },
  {
   "cell_type": "markdown",
   "metadata": {},
   "source": [
    "### Precipitation"
   ]
  },
  {
   "cell_type": "code",
   "execution_count": 118,
   "metadata": {},
   "outputs": [],
   "source": [
    "class MidpointNormalize(mpl.colors.Normalize):\n",
    "    def __init__(self, vmin, vmax, midpoint=0, clip=False):\n",
    "        self.midpoint = midpoint\n",
    "        mpl.colors.Normalize.__init__(self, vmin, vmax, clip)\n",
    "\n",
    "    def __call__(self, value, clip=None):\n",
    "        normalized_min = max(0, 1 / 2 * (1 - abs((self.midpoint - self.vmin) / (self.midpoint - self.vmax))))\n",
    "        normalized_max = min(1, 1 / 2 * (1 + abs((self.vmax - self.midpoint) / (self.midpoint - self.vmin))))\n",
    "        normalized_mid = 0.5\n",
    "        x, y = [self.vmin, self.midpoint, self.vmax], [normalized_min, normalized_mid, normalized_max]\n",
    "        return np.ma.masked_array(np.interp(value, x, y))"
   ]
  },
  {
   "cell_type": "code",
   "execution_count": 119,
   "metadata": {},
   "outputs": [
    {
     "name": "stdout",
     "output_type": "stream",
     "text": [
      "5.073504423156805\n",
      "0.09344309245379634\n",
      "9.640323909652992\n",
      "0.5723455293764381\n",
      "14.918096066468763\n",
      "1.403391487860187\n",
      "\n",
      "0.0\n",
      "0.1 6.0\n",
      "0.0 10.0\n",
      "1.0 15.0\n",
      "\n",
      "6\n",
      "11\n",
      "15\n"
     ]
    }
   ],
   "source": [
    "\n",
    "maxVal_precip_diff_scenEraOne = np.nanmax(param_scenEraOne_diff_masked_Missi)\n",
    "print(maxVal_precip_diff_scenEraOne)\n",
    "minVal_precip_diff_scenEraOne = np.nanmin(param_scenEraOne_diff_masked_Missi)\n",
    "print(minVal_precip_diff_scenEraOne)\n",
    "maxVal_precip_diff_scenEraTwo = np.nanmax(param_scenEraTwo_diff_masked_Missi)\n",
    "print(maxVal_precip_diff_scenEraTwo)\n",
    "minVal_precip_diff_scenEraTwo = np.nanmin(param_scenEraTwo_diff_masked_Missi)\n",
    "print(minVal_precip_diff_scenEraTwo)\n",
    "maxVal_precip_diff_scenEraThree = np.nanmax(param_scenEraThree_diff_masked_Missi)\n",
    "print(maxVal_precip_diff_scenEraThree)\n",
    "minVal_precip_diff_scenEraThree = np.nanmin(param_scenEraThree_diff_masked_Missi)\n",
    "print(minVal_precip_diff_scenEraThree)\n",
    "print('')\n",
    "\n",
    "vmin_precip_scenEraOne = np.floor(minVal_precip_diff_scenEraOne)\n",
    "vmax_precip_scenEraOne = np.ceil(maxVal_precip_diff_scenEraOne)\n",
    "print(vmin_precip_scenEraOne)\n",
    "vmin_precip_scenEraOne = 0.1\n",
    "print(vmin_precip_scenEraOne, vmax_precip_scenEraOne)\n",
    "\n",
    "vmin_precip_scenEraTwo = np.floor(minVal_precip_diff_scenEraTwo)\n",
    "vmax_precip_scenEraTwo = np.ceil(maxVal_precip_diff_scenEraTwo)\n",
    "print(vmin_precip_scenEraTwo, vmax_precip_scenEraTwo)\n",
    "\n",
    "vmin_precip_scenEraThree = np.floor(minVal_precip_diff_scenEraThree)\n",
    "vmax_precip_scenEraThree = np.ceil(maxVal_precip_diff_scenEraThree)\n",
    "print(vmin_precip_scenEraThree, vmax_precip_scenEraThree)\n",
    "print('')\n",
    "\n",
    "nDiv_precip_scenEraOne = int(vmax_precip_scenEraOne - vmin_precip_scenEraOne + 1)\n",
    "print(nDiv_precip_scenEraOne)\n",
    "nDiv_precip_scenEraTwo = int(vmax_precip_scenEraTwo - vmin_precip_scenEraTwo + 1)\n",
    "print(nDiv_precip_scenEraTwo)\n",
    "nDiv_precip_scenEraThree = int(vmax_precip_scenEraThree - vmin_precip_scenEraThree + 1)\n",
    "print(nDiv_precip_scenEraThree)\n",
    "#+++++++++++++++++++++++++++++++\n",
    "\n",
    "fraction_precip = 0.9\n",
    "norm_precip = MidpointNormalize(vmin = vmin_precip_scenEraOne, vmax = vmax_precip_scenEraThree, midpoint=0)\n",
    "levels_precip = np.linspace(vmin_precip_scenEraTwo, vmax_precip_scenEraThree, int(nDiv_precip_scenEraThree/fraction_precip)) # to draw 11 levels\n",
    "boundaries_precip = np.linspace(vmin_precip_scenEraTwo, vmax_precip_scenEraThree, int(nDiv_precip_scenEraThree/fraction_precip))\n",
    "\n"
   ]
  },
  {
   "cell_type": "markdown",
   "metadata": {},
   "source": [
    "## ET"
   ]
  },
  {
   "cell_type": "code",
   "execution_count": 120,
   "metadata": {},
   "outputs": [
    {
     "name": "stdout",
     "output_type": "stream",
     "text": [
      "3.2922757434712793\n",
      "-15.435162361352063\n",
      "1.5970954799080346\n",
      "-13.95440429956281\n",
      "0.6801905251272871\n",
      "-8.972766756483495\n",
      "\n",
      "-16.0 4.0\n",
      "-14.0 2.0\n",
      "-9.0 1.0\n",
      "21\n",
      "17\n",
      "11\n"
     ]
    }
   ],
   "source": [
    "maxVal_et_diff_scenEraOne = np.nanmax(et_scenEraOne_diff_masked_Missi)\n",
    "print(maxVal_et_diff_scenEraOne)\n",
    "minVal_et_diff_scenEraOne = np.nanmin(et_scenEraOne_diff_masked_Missi)\n",
    "print(minVal_et_diff_scenEraOne)\n",
    "#++++\n",
    "maxVal_et_diff_scenEraTwo = np.nanmax(et_scenEraTwo_diff_masked_Missi)\n",
    "print(maxVal_et_diff_scenEraTwo)\n",
    "minVal_et_diff_scenEraTwo = np.nanmin(et_scenEraTwo_diff_masked_Missi)\n",
    "print(minVal_et_diff_scenEraTwo)\n",
    "#++++\n",
    "maxVal_et_diff_scenEraThree = np.nanmax(et_scenEraThree_diff_masked_Missi)\n",
    "print(maxVal_et_diff_scenEraThree)\n",
    "minVal_et_diff_scenEraThree = np.nanmin(et_scenEraThree_diff_masked_Missi)\n",
    "print(minVal_et_diff_scenEraThree)\n",
    "print('')\n",
    "#+++++++++++++++++++++++++++++++++++++++++++++++++++++++++++++++++++++++++++++++++++++\n",
    "vmin_et_scenEraOne = np.floor(minVal_et_diff_scenEraOne)\n",
    "vmax_et_scenEraOne = np.ceil(maxVal_et_diff_scenEraOne)\n",
    "print(vmin_et_scenEraOne, vmax_et_scenEraOne)\n",
    "vmin_et_scenEraTwo = np.floor(minVal_et_diff_scenEraTwo)\n",
    "vmax_et_scenEraTwo = np.ceil(maxVal_et_diff_scenEraTwo)\n",
    "print(vmin_et_scenEraTwo, vmax_et_scenEraTwo)\n",
    "vmin_et_scenEraThree = np.floor(minVal_et_diff_scenEraThree)\n",
    "vmax_et_scenEraThree = np.ceil(maxVal_et_diff_scenEraThree)\n",
    "print(vmin_et_scenEraThree, vmax_et_scenEraThree)\n",
    "#+++++++++++++++++++++++++++++++++++++++++++++++++++++++++++++++++++++++++++++++++++++\n",
    "\n",
    "\n",
    "nDiv_et_scenEraOne = int(vmax_et_scenEraOne - vmin_et_scenEraOne + 1)\n",
    "print(nDiv_et_scenEraOne)\n",
    "nDiv_et_scenEraTwo = int(vmax_et_scenEraTwo - vmin_et_scenEraTwo + 1)\n",
    "print(nDiv_et_scenEraTwo)\n",
    "nDiv_et_scenEraThree = int(vmax_et_scenEraThree - vmin_et_scenEraThree + 1)\n",
    "print(nDiv_et_scenEraThree)\n",
    "#+++++++++++++++++++++++++++++++++++++++++++++++++++++++++++++++++++++++++++++++++\n",
    "\n",
    "fraction_et = 1.0\n",
    "norm_et = MidpointNormalize(vmin=vmin_et_scenEraThree, vmax=vmax_et_scenEraThree, midpoint=0)\n",
    "levels_et = np.linspace(vmin_et_scenEraThree, vmax_et_scenEraThree, int(nDiv_et_scenEraThree/fraction_et)) # to draw 11 levels\n",
    "boundaries_et=np.linspace(vmin_et_scenEraThree, vmax_et_scenEraThree, int(nDiv_et_scenEraThree/fraction_et), )\n"
   ]
  },
  {
   "cell_type": "markdown",
   "metadata": {},
   "source": [
    "## Snowmelt"
   ]
  },
  {
   "cell_type": "code",
   "execution_count": 121,
   "metadata": {},
   "outputs": [
    {
     "name": "stdout",
     "output_type": "stream",
     "text": [
      "0.0420252913026804\n",
      "-12.533375130859152\n",
      "-0.032623205010189525\n",
      "-19.540702606897828\n",
      "-0.03565723770120626\n",
      "-25.79118112958841\n",
      "\n",
      "-13.0 1.0\n",
      "-20.0 -0.0\n",
      "-26.0 -0.0\n",
      "15\n",
      "21\n",
      "28\n"
     ]
    }
   ],
   "source": [
    "maxVal_snowMelt_diff_scenEraOne = np.nanmax(snowMelt_scenEraOne_diff_masked_Missi)\n",
    "print(maxVal_snowMelt_diff_scenEraOne)\n",
    "minVal_snowMelt_diff_scenEraOne = np.nanmin(snowMelt_scenEraOne_diff_masked_Missi)\n",
    "print(minVal_snowMelt_diff_scenEraOne)\n",
    "#++++\n",
    "maxVal_snowMelt_diff_scenEraTwo = np.nanmax(snowMelt_scenEraTwo_diff_masked_Missi)\n",
    "print(maxVal_snowMelt_diff_scenEraTwo)\n",
    "minVal_snowMelt_diff_scenEraTwo = np.nanmin(snowMelt_scenEraTwo_diff_masked_Missi)\n",
    "print(minVal_snowMelt_diff_scenEraTwo)\n",
    "#++++\n",
    "maxVal_snowMelt_diff_scenEraThree = np.nanmax(snowMelt_scenEraThree_diff_masked_Missi)\n",
    "print(maxVal_snowMelt_diff_scenEraThree)\n",
    "minVal_snowMelt_diff_scenEraThree = np.nanmin(snowMelt_scenEraThree_diff_masked_Missi)\n",
    "print(minVal_snowMelt_diff_scenEraThree)\n",
    "print('')\n",
    "#+++++++++++++++++++++++++++++++++++++++++++++++++++++++++++++++++++++++++++++++++++++\n",
    "vmin_snowMelt_scenEraOne = np.floor(minVal_snowMelt_diff_scenEraOne)\n",
    "vmax_snowMelt_scenEraOne = np.ceil(maxVal_snowMelt_diff_scenEraOne)\n",
    "print(vmin_snowMelt_scenEraOne, vmax_snowMelt_scenEraOne)\n",
    "vmin_snowMelt_scenEraTwo = np.floor(minVal_snowMelt_diff_scenEraTwo)\n",
    "vmax_snowMelt_scenEraTwo = np.ceil(maxVal_snowMelt_diff_scenEraTwo)\n",
    "print(vmin_snowMelt_scenEraTwo, vmax_snowMelt_scenEraTwo)\n",
    "vmin_snowMelt_scenEraThree = np.floor(minVal_snowMelt_diff_scenEraThree)\n",
    "vmax_snowMelt_scenEraThree = np.ceil(maxVal_snowMelt_diff_scenEraThree)\n",
    "print(vmin_snowMelt_scenEraThree, vmax_snowMelt_scenEraThree)\n",
    "#+++++++++++++++++++++++++++++++++++++++++++++++++++++++++++++++++++++++++++++++++++++\n",
    "\n",
    "\n",
    "nDiv_snowMelt_scenEraOne = int(vmax_snowMelt_scenEraOne - vmin_snowMelt_scenEraOne + 1)\n",
    "print(nDiv_snowMelt_scenEraOne)\n",
    "nDiv_snowMelt_scenEraTwo = int(vmax_snowMelt_scenEraTwo - vmin_snowMelt_scenEraTwo + 1)\n",
    "print(nDiv_snowMelt_scenEraTwo)\n",
    "nDiv_snowMelt_scenEraThree = int(vmax_snowMelt_scenEraOne - vmin_snowMelt_scenEraThree + 1)\n",
    "print(nDiv_snowMelt_scenEraThree)\n",
    "\n",
    "#+++++++++++++++++++++++++++++++++++++++++++++++++++++++++++++++++++++++++++++++++\n",
    "\n",
    "\n",
    "fraction_snowMelt = 1.8\n",
    "norm_snowMelt = MidpointNormalize(vmin=vmin_snowMelt_scenEraThree, vmax=vmax_snowMelt_scenEraThree+1, midpoint=0)  # = +1\n",
    "levels_snowMelt = np.linspace(vmin_snowMelt_scenEraThree, vmax_snowMelt_scenEraOne+1, int(nDiv_snowMelt_scenEraThree/fraction_snowMelt)) # to draw 11 levels\n",
    "boundaries_snowMelt=np.linspace(vmin_snowMelt_scenEraThree, vmax_snowMelt_scenEraOne+1, int(nDiv_snowMelt_scenEraThree/fraction_snowMelt))\n"
   ]
  },
  {
   "cell_type": "markdown",
   "metadata": {},
   "source": [
    "## Soil Moisture"
   ]
  },
  {
   "cell_type": "code",
   "execution_count": 122,
   "metadata": {},
   "outputs": [
    {
     "name": "stdout",
     "output_type": "stream",
     "text": [
      "0.3134370899200931\n",
      "-3.4920199145211512\n",
      "0.5739883332782441\n",
      "-4.978746392514989\n",
      "1.3796214866923506\n",
      "-6.053180815118026\n",
      "\n",
      "-4.0 1.0\n",
      "-5.0 1.0\n",
      "-7.0 2.0\n",
      "6\n",
      "7\n",
      "10\n"
     ]
    }
   ],
   "source": [
    "maxVal_soilMoist_diff_scenEraOne = np.nanmax(soilMoist_scenEraOne_diff_masked_Missi)\n",
    "print(maxVal_soilMoist_diff_scenEraOne)\n",
    "minVal_soilMoist_diff_scenEraOne = np.nanmin(soilMoist_scenEraOne_diff_masked_Missi)\n",
    "print(minVal_soilMoist_diff_scenEraOne)\n",
    "#++++\n",
    "maxVal_soilMoist_diff_scenEraTwo = np.nanmax(soilMoist_scenEraTwo_diff_masked_Missi)\n",
    "print(maxVal_soilMoist_diff_scenEraTwo)\n",
    "minVal_soilMoist_diff_scenEraTwo = np.nanmin(soilMoist_scenEraTwo_diff_masked_Missi)\n",
    "print(minVal_soilMoist_diff_scenEraTwo)\n",
    "#++++\n",
    "maxVal_soilMoist_diff_scenEraThree = np.nanmax(soilMoist_scenEraThree_diff_masked_Missi)\n",
    "print(maxVal_soilMoist_diff_scenEraThree)\n",
    "minVal_soilMoist_diff_scenEraThree = np.nanmin(soilMoist_scenEraThree_diff_masked_Missi)\n",
    "print(minVal_soilMoist_diff_scenEraThree)\n",
    "print('')\n",
    "#+++++++++++++++++++++++++++++++++++++++++++++++++++++++++++++++++++++++++++++++++++++\n",
    "vmin_soilMoist_scenEraOne = np.floor(minVal_soilMoist_diff_scenEraOne)\n",
    "vmax_soilMoist_scenEraOne = np.ceil(maxVal_soilMoist_diff_scenEraOne)\n",
    "print(vmin_soilMoist_scenEraOne, vmax_soilMoist_scenEraOne)\n",
    "vmin_soilMoist_scenEraTwo = np.floor(minVal_soilMoist_diff_scenEraTwo)\n",
    "vmax_soilMoist_scenEraTwo = np.ceil(maxVal_soilMoist_diff_scenEraTwo)\n",
    "print(vmin_soilMoist_scenEraTwo, vmax_soilMoist_scenEraTwo)\n",
    "vmin_soilMoist_scenEraThree = np.floor(minVal_soilMoist_diff_scenEraThree)\n",
    "vmax_soilMoist_scenEraThree = np.ceil(maxVal_soilMoist_diff_scenEraThree)\n",
    "print(vmin_soilMoist_scenEraThree, vmax_soilMoist_scenEraThree)\n",
    "#+++++++++++++++++++++++++++++++++++++++++++++++++++++++++++++++++++++++++++++++++++++\n",
    "\n",
    "\n",
    "nDiv_soilMoist_scenEraOne = int(vmax_soilMoist_scenEraOne - vmin_soilMoist_scenEraOne + 1)\n",
    "print(nDiv_soilMoist_scenEraOne)\n",
    "nDiv_soilMoist_scenEraTwo = int(vmax_soilMoist_scenEraTwo - vmin_soilMoist_scenEraTwo + 1)\n",
    "print(nDiv_soilMoist_scenEraTwo)\n",
    "nDiv_soilMoist_scenEraThree = int(vmax_soilMoist_scenEraThree - vmin_soilMoist_scenEraThree + 1)\n",
    "print(nDiv_soilMoist_scenEraThree)\n",
    "\n",
    "#+++++++++++++++++++++++++++++++++++++++++++++++++++++++++++++++++++++++++++++++++\n",
    "\n",
    "fraction_soilMoist = 0.9\n",
    "norm_soilMoist = MidpointNormalize(vmin=vmin_soilMoist_scenEraThree, vmax=vmax_soilMoist_scenEraThree+1, midpoint=0)  # = +1\n",
    "levels_soilMoist = np.linspace(vmin_soilMoist_scenEraThree, vmax_soilMoist_scenEraThree+1, int(nDiv_soilMoist_scenEraThree/fraction_soilMoist)) # to draw 11 levels\n",
    "boundaries_soilMoist=np.linspace(vmin_soilMoist_scenEraThree, vmax_soilMoist_scenEraThree+1, int(nDiv_soilMoist_scenEraThree/fraction_soilMoist))\n"
   ]
  },
  {
   "cell_type": "markdown",
   "metadata": {},
   "source": [
    "## Runoff"
   ]
  },
  {
   "cell_type": "code",
   "execution_count": 123,
   "metadata": {},
   "outputs": [
    {
     "name": "stdout",
     "output_type": "stream",
     "text": [
      "0.8152886808681217\n",
      "-1.3679842844452264\n",
      "2.0046136037868933\n",
      "-1.7410209329364754\n",
      "4.0185924879157895\n",
      "-2.4150117181739157\n",
      "\n",
      "-2.0 1.0\n",
      "-2.0 3.0\n",
      "-3.0 5.0\n",
      "4\n",
      "6\n",
      "9\n"
     ]
    }
   ],
   "source": [
    "maxVal_runoff_diff_scenEraOne = np.nanmax(runoff_scenEraOne_diff_masked_Missi)\n",
    "print(maxVal_runoff_diff_scenEraOne)\n",
    "minVal_runoff_diff_scenEraOne = np.nanmin(runoff_scenEraOne_diff_masked_Missi)\n",
    "print(minVal_runoff_diff_scenEraOne)\n",
    "#++++\n",
    "maxVal_runoff_diff_scenEraTwo = np.nanmax(runoff_scenEraTwo_diff_masked_Missi)\n",
    "print(maxVal_runoff_diff_scenEraTwo)\n",
    "minVal_runoff_diff_scenEraTwo = np.nanmin(runoff_scenEraTwo_diff_masked_Missi)\n",
    "print(minVal_runoff_diff_scenEraTwo)\n",
    "#++++\n",
    "maxVal_runoff_diff_scenEraThree = np.nanmax(runoff_scenEraThree_diff_masked_Missi)\n",
    "print(maxVal_runoff_diff_scenEraThree)\n",
    "minVal_runoff_diff_scenEraThree = np.nanmin(runoff_scenEraThree_diff_masked_Missi)\n",
    "print(minVal_runoff_diff_scenEraThree)\n",
    "print('')\n",
    "#+++++++++++++++++++++++++++++++++++++++++++++++++++++++++++++++++++++++++++++++++++++\n",
    "vmin_runoff_scenEraOne = np.floor(minVal_runoff_diff_scenEraOne)\n",
    "vmax_runoff_scenEraOne = np.ceil(maxVal_runoff_diff_scenEraOne)\n",
    "print(vmin_runoff_scenEraOne, vmax_runoff_scenEraOne)\n",
    "vmin_runoff_scenEraTwo = np.floor(minVal_runoff_diff_scenEraTwo)\n",
    "vmax_runoff_scenEraTwo = np.ceil(maxVal_runoff_diff_scenEraTwo)\n",
    "print(vmin_runoff_scenEraTwo, vmax_runoff_scenEraTwo)\n",
    "vmin_runoff_scenEraThree = np.floor(minVal_runoff_diff_scenEraThree)\n",
    "vmax_runoff_scenEraThree = np.ceil(maxVal_runoff_diff_scenEraThree)\n",
    "print(vmin_runoff_scenEraThree, vmax_runoff_scenEraThree)\n",
    "#+++++++++++++++++++++++++++++++++++++++++++++++++++++++++++++++++++++++++++++++++++++\n",
    "\n",
    "\n",
    "nDiv_runoff_scenEraOne = int(vmax_runoff_scenEraOne - vmin_runoff_scenEraOne + 1)\n",
    "print(nDiv_runoff_scenEraOne)\n",
    "nDiv_runoff_scenEraTwo = int(vmax_runoff_scenEraTwo - vmin_runoff_scenEraTwo + 1)\n",
    "print(nDiv_runoff_scenEraTwo)\n",
    "nDiv_runoff_scenEraThree = int(vmax_runoff_scenEraThree - vmin_runoff_scenEraThree + 1)\n",
    "print(nDiv_runoff_scenEraThree)\n",
    "#+++++++++++++++++++++++++++++++++++++++++++++++++++++++++++++++++++++++++++++++++\n",
    "\n",
    "\n",
    "fraction_runoff = 0.9\n",
    "norm_runoff = MidpointNormalize(vmin=vmin_runoff_scenEraThree, vmax=vmax_runoff_scenEraThree+1, midpoint=0)\n",
    "levels_runoff = np.linspace(vmin_runoff_scenEraThree, vmax_runoff_scenEraThree+1, int(nDiv_runoff_scenEraThree/fraction_runoff)) # to draw 11 levels\n",
    "boundaries_runoff=np.linspace(vmin_runoff_scenEraThree, vmax_runoff_scenEraThree+1, int(nDiv_runoff_scenEraThree/fraction_runoff))\n"
   ]
  },
  {
   "cell_type": "markdown",
   "metadata": {},
   "source": [
    "## Figure Formatting"
   ]
  },
  {
   "cell_type": "code",
   "execution_count": 124,
   "metadata": {},
   "outputs": [
    {
     "name": "stdout",
     "output_type": "stream",
     "text": [
      "[<GeoAxesSubplot:>, <GeoAxesSubplot:>, <GeoAxesSubplot:>, <GeoAxesSubplot:>, <GeoAxesSubplot:>, <GeoAxesSubplot:>, <GeoAxesSubplot:>, <GeoAxesSubplot:>, <GeoAxesSubplot:>, <GeoAxesSubplot:>, <GeoAxesSubplot:>, <GeoAxesSubplot:>, <GeoAxesSubplot:>, <GeoAxesSubplot:>, <GeoAxesSubplot:>]\n"
     ]
    },
    {
     "name": "stderr",
     "output_type": "stream",
     "text": [
      "<ipython-input-124-2fd55bd7475b>:71: MatplotlibDeprecationWarning: Case-insensitive properties were deprecated in 3.3 and support will be removed two minor releases later\n",
      "  ax1.set_yticklabels(latTickLebelsStr, fontSize = tickFontSize)\n",
      "<ipython-input-124-2fd55bd7475b>:72: MatplotlibDeprecationWarning: Case-insensitive properties were deprecated in 3.3 and support will be removed two minor releases later\n",
      "  ax1.set_xticklabels('', fontSize = tickFontSize)\n",
      "<ipython-input-124-2fd55bd7475b>:106: MatplotlibDeprecationWarning: Case-insensitive properties were deprecated in 3.3 and support will be removed two minor releases later\n",
      "  ax2.set_yticklabels('', fontSize = tickFontSize)\n",
      "<ipython-input-124-2fd55bd7475b>:107: MatplotlibDeprecationWarning: Case-insensitive properties were deprecated in 3.3 and support will be removed two minor releases later\n",
      "  ax2.set_xticklabels('', fontSize = tickFontSize)\n",
      "<ipython-input-124-2fd55bd7475b>:131: MatplotlibDeprecationWarning: Case-insensitive properties were deprecated in 3.3 and support will be removed two minor releases later\n",
      "  ax3.set_yticklabels('', fontSize = tickFontSize)\n",
      "<ipython-input-124-2fd55bd7475b>:132: MatplotlibDeprecationWarning: Case-insensitive properties were deprecated in 3.3 and support will be removed two minor releases later\n",
      "  ax3.set_xticklabels('', fontSize = tickFontSize)\n",
      "<ipython-input-124-2fd55bd7475b>:156: MatplotlibDeprecationWarning: Case-insensitive properties were deprecated in 3.3 and support will be removed two minor releases later\n",
      "  ax4.set_yticklabels(latTickLebelsStr, fontSize = tickFontSize)\n",
      "<ipython-input-124-2fd55bd7475b>:157: MatplotlibDeprecationWarning: Case-insensitive properties were deprecated in 3.3 and support will be removed two minor releases later\n",
      "  ax4.set_xticklabels('', fontSize = tickFontSize)\n",
      "<ipython-input-124-2fd55bd7475b>:189: MatplotlibDeprecationWarning: Case-insensitive properties were deprecated in 3.3 and support will be removed two minor releases later\n",
      "  ax5.set_yticklabels('', fontSize = tickFontSize)\n",
      "<ipython-input-124-2fd55bd7475b>:190: MatplotlibDeprecationWarning: Case-insensitive properties were deprecated in 3.3 and support will be removed two minor releases later\n",
      "  ax5.set_xticklabels('', fontSize = tickFontSize)\n",
      "<ipython-input-124-2fd55bd7475b>:214: MatplotlibDeprecationWarning: Case-insensitive properties were deprecated in 3.3 and support will be removed two minor releases later\n",
      "  ax6.set_yticklabels('', fontSize = tickFontSize)\n",
      "<ipython-input-124-2fd55bd7475b>:215: MatplotlibDeprecationWarning: Case-insensitive properties were deprecated in 3.3 and support will be removed two minor releases later\n",
      "  ax6.set_xticklabels('', fontSize = tickFontSize)\n",
      "<ipython-input-124-2fd55bd7475b>:239: MatplotlibDeprecationWarning: Case-insensitive properties were deprecated in 3.3 and support will be removed two minor releases later\n",
      "  ax7.set_yticklabels(latTickLebelsStr, fontSize = tickFontSize)\n",
      "<ipython-input-124-2fd55bd7475b>:240: MatplotlibDeprecationWarning: Case-insensitive properties were deprecated in 3.3 and support will be removed two minor releases later\n",
      "  ax7.set_xticklabels('', fontSize = tickFontSize)\n",
      "<ipython-input-124-2fd55bd7475b>:276: MatplotlibDeprecationWarning: Case-insensitive properties were deprecated in 3.3 and support will be removed two minor releases later\n",
      "  ax8.set_yticklabels('', fontSize = tickFontSize)\n",
      "<ipython-input-124-2fd55bd7475b>:277: MatplotlibDeprecationWarning: Case-insensitive properties were deprecated in 3.3 and support will be removed two minor releases later\n",
      "  ax8.set_xticklabels('', fontSize = tickFontSize)\n",
      "<ipython-input-124-2fd55bd7475b>:302: MatplotlibDeprecationWarning: Case-insensitive properties were deprecated in 3.3 and support will be removed two minor releases later\n",
      "  ax9.set_yticklabels('', fontSize = tickFontSize)\n",
      "<ipython-input-124-2fd55bd7475b>:303: MatplotlibDeprecationWarning: Case-insensitive properties were deprecated in 3.3 and support will be removed two minor releases later\n",
      "  ax9.set_xticklabels('', fontSize = tickFontSize)\n",
      "<ipython-input-124-2fd55bd7475b>:330: MatplotlibDeprecationWarning: Case-insensitive properties were deprecated in 3.3 and support will be removed two minor releases later\n",
      "  ax10.set_yticklabels(latTickLebelsStr, fontSize = tickFontSize)\n",
      "<ipython-input-124-2fd55bd7475b>:331: MatplotlibDeprecationWarning: Case-insensitive properties were deprecated in 3.3 and support will be removed two minor releases later\n",
      "  ax10.set_xticklabels('', fontSize = tickFontSize)\n",
      "<ipython-input-124-2fd55bd7475b>:367: MatplotlibDeprecationWarning: Case-insensitive properties were deprecated in 3.3 and support will be removed two minor releases later\n",
      "  ax11.set_yticklabels('', fontSize = tickFontSize)\n",
      "<ipython-input-124-2fd55bd7475b>:368: MatplotlibDeprecationWarning: Case-insensitive properties were deprecated in 3.3 and support will be removed two minor releases later\n",
      "  ax11.set_xticklabels('', fontSize = tickFontSize)\n",
      "<ipython-input-124-2fd55bd7475b>:391: MatplotlibDeprecationWarning: Case-insensitive properties were deprecated in 3.3 and support will be removed two minor releases later\n",
      "  ax12.set_yticklabels('', fontSize = tickFontSize)\n",
      "<ipython-input-124-2fd55bd7475b>:392: MatplotlibDeprecationWarning: Case-insensitive properties were deprecated in 3.3 and support will be removed two minor releases later\n",
      "  ax12.set_xticklabels('', fontSize = tickFontSize)\n",
      "<ipython-input-124-2fd55bd7475b>:415: MatplotlibDeprecationWarning: Case-insensitive properties were deprecated in 3.3 and support will be removed two minor releases later\n",
      "  ax13.set_yticklabels(latTickLebelsStr, fontSize = tickFontSize)\n",
      "<ipython-input-124-2fd55bd7475b>:416: MatplotlibDeprecationWarning: Case-insensitive properties were deprecated in 3.3 and support will be removed two minor releases later\n",
      "  ax13.set_xticklabels(lonTickLebelsStr, fontSize = tickFontSize)\n",
      "<ipython-input-124-2fd55bd7475b>:452: MatplotlibDeprecationWarning: Case-insensitive properties were deprecated in 3.3 and support will be removed two minor releases later\n",
      "  ax14.set_yticklabels('', fontSize = tickFontSize)\n",
      "<ipython-input-124-2fd55bd7475b>:453: MatplotlibDeprecationWarning: Case-insensitive properties were deprecated in 3.3 and support will be removed two minor releases later\n",
      "  ax14.set_xticklabels(lonTickLebelsStr, fontSize = tickFontSize)\n",
      "<ipython-input-124-2fd55bd7475b>:478: MatplotlibDeprecationWarning: Case-insensitive properties were deprecated in 3.3 and support will be removed two minor releases later\n",
      "  ax15.set_yticklabels('', fontSize = tickFontSize)\n",
      "<ipython-input-124-2fd55bd7475b>:479: MatplotlibDeprecationWarning: Case-insensitive properties were deprecated in 3.3 and support will be removed two minor releases later\n",
      "  ax15.set_xticklabels(lonTickLebelsStr, fontSize = tickFontSize)\n",
      "<ipython-input-124-2fd55bd7475b>:485: UserWarning: This figure was using constrained_layout, but that is incompatible with subplots_adjust and/or tight_layout; disabling constrained_layout.\n",
      "  plt.subplots_adjust(left=0.13,\n",
      "C:\\Users\\muham\\anaconda3\\lib\\site-packages\\cartopy\\mpl\\style.py:90: UserWarning: facecolor will have no effect as it has been defined as \"never\".\n",
      "  warnings.warn('facecolor will have no effect as it has been '\n"
     ]
    },
    {
     "data": {
      "image/png": "[encoded data removed]",
      "text/plain": [
       "<Figure size 936x720 with 20 Axes>"
      ]
     },
     "metadata": {
      "needs_background": "light"
     },
     "output_type": "display_data"
    }
   ],
   "source": [
    "\n",
    "#+++++++++++++++++++++++++++++++++++++++++++++++++++++++++++++++++++++++++++++++++++++++++\n",
    "\n",
    "tickFontSize = 12\n",
    "textFontSize = 14\n",
    "#legendFontSize = 10\n",
    "paramFontSize = 15\n",
    "titleFontSize = 16\n",
    "\n",
    "cbarTickFontSize = 12\n",
    "cbarTextFontSize = 14\n",
    "\n",
    "figTitleDistY = 1.02\n",
    "linewidth = 0.7\n",
    "#++++++++++++++++++++\n",
    "\n",
    "class MidpointNormalize(mpl.colors.Normalize):\n",
    "    def __init__(self, vmin, vmax, midpoint=0, clip=False):\n",
    "        self.midpoint = midpoint\n",
    "        mpl.colors.Normalize.__init__(self, vmin, vmax, clip)\n",
    "\n",
    "    def __call__(self, value, clip=None):\n",
    "        normalized_min = max(0, 1 / 2 * (1 - abs((self.midpoint - self.vmin) / (self.midpoint - self.vmax))))\n",
    "        normalized_max = min(1, 1 / 2 * (1 + abs((self.vmax - self.midpoint) / (self.midpoint - self.vmin))))\n",
    "        normalized_mid = 0.5\n",
    "        x, y = [self.vmin, self.midpoint, self.vmax], [normalized_min, normalized_mid, normalized_max]\n",
    "        return np.ma.masked_array(np.interp(value, x, y))\n",
    "\n",
    "\n",
    "\n",
    "latTickLebelsStr = ['27', '37', '47', ]\n",
    "lonTickLebelsStr = ['115', '105', '95', '85', '75',]\n",
    "\n",
    "latTicks = [27, 37, 47]\n",
    "lonTicks = [-115, -105, -95, -85, -75]\n",
    "\n",
    "yLimLow = 27\n",
    "yLimHigh = 52.5\n",
    "\n",
    "xLimLow = -115\n",
    "xLimHigh = -75\n",
    "\n",
    "#+++++++++++++++++++++++++++++++++++++++++++++++++++++++++++++++++++++++++++++++++++++++++++++++++++++++++++\n",
    "fig = plt.figure(figsize=(13, 10), constrained_layout=True)\n",
    "axs = [plt.subplot(5, 3, x + 1, projection = ccrs.PlateCarree()) for x in range(15)]\n",
    "\n",
    "print(axs)\n",
    "ax1 = axs[0]\n",
    "\n",
    "cp1 = ax1.contourf(x_Us, y_Us,param_scenEraOne_diff_masked_Missi,transform=ccrs.PlateCarree(),cmap=cm.BrBG,levels = levels_precip,norm=norm_precip,)\n",
    "\n",
    "plt.grid(b=True, which='major', color='#666666', linestyle='-')\n",
    "\n",
    "ax1.add_feature(cfeature.RIVERS.with_scale('110m'), color='b', label='Rivers')     # couche rivières = was 50 m\n",
    "missi = cfeature.ShapelyFeature(basin_Missi, ccrs.PlateCarree())\n",
    "arkansas = cfeature.ShapelyFeature(basin_Arkansas, ccrs.PlateCarree())\n",
    "missouri = cfeature.ShapelyFeature(basin_Missouri, ccrs.PlateCarree())\n",
    "ohio = cfeature.ShapelyFeature(basin_Ohio, ccrs.PlateCarree())\n",
    "\n",
    "ax1.add_feature(missi,facecolor='none',edgecolor='black',linewidth=linewidth) # Mississippi\n",
    "ax1.add_feature(arkansas,facecolor='none',edgecolor='black',linewidth=linewidth) # Arkansas\n",
    "ax1.add_feature(missouri,facecolor='none',edgecolor='black',linewidth=linewidth) # Missouri\n",
    "ax1.add_feature(ohio,facecolor='none',edgecolor='black',linewidth=linewidth) # Ohio\n",
    "\n",
    "ax1.add_feature(cfeature.COASTLINE)\n",
    "ax1.set_xlim([xLimLow, xLimHigh])\n",
    "ax1.set_ylim([yLimLow, yLimHigh])\n",
    "\n",
    "ax1.set_yticks(latTicks)\n",
    "ax1.set_xticks(lonTicks) \n",
    "\n",
    "ax1.set_yticklabels(latTickLebelsStr, fontSize = tickFontSize)\n",
    "ax1.set_xticklabels('', fontSize = tickFontSize)\n",
    "ax1.set_title('(a)', x = 0.45, y=figTitleDistY, pad=-14, fontsize = textFontSize, loc='left')\n",
    "ax1.text(-106.5, 59, r'2015-2044', fontsize=titleFontSize)\n",
    "#++++++++++++++++++++++++++++++++++++++++++++++++++++++++++++++++++++++++++++++++++++++++++++++++++\n",
    "\n",
    "ax2 = axs[1]\n",
    "cp2 = ax2.contourf(x_Us, y_Us,param_scenEraTwo_diff_masked_Missi,transform=ccrs.PlateCarree(),cmap=cm.BrBG,levels = levels_precip,norm=norm_precip,)\n",
    "plt.grid(b=True, which='major', color='#666666', linestyle='-')\n",
    "\n",
    "p2 = ax2.get_position().get_points().flatten()\n",
    "cbax2 = fig.add_axes([p2[0]+0.20, +0.770, (p2[2]-p2[0])*0.04, 0.112])\n",
    "\n",
    "cbar2 =plt.colorbar(cp2, ax=ax2, cax=cbax2, shrink=.5, ticks=boundaries_precip, orientation = 'vertical') \n",
    "cbar2.ax.tick_params(labelsize = cbarTickFontSize)  # set your label size here   \n",
    "\n",
    "for index, label in enumerate(cbar2.ax.yaxis.get_ticklabels()):\n",
    "    if index % 3 != 0:\n",
    "        label.set_visible(False)\n",
    "        \n",
    "cbar2.set_label(\"mm/mon\", fontsize = cbarTextFontSize)\n",
    "ax2.add_feature(cfeature.RIVERS.with_scale('110m'), color='b', label='Rivers')     # couche rivières = was 50 m\n",
    "\n",
    "ax2.add_feature(missi,facecolor='none',edgecolor='black',linewidth=linewidth) # Mississippi\n",
    "ax2.add_feature(arkansas,facecolor='none',edgecolor='black',linewidth=linewidth) # Arkansas\n",
    "ax2.add_feature(missouri,facecolor='none',edgecolor='black',linewidth=linewidth) # Missouri\n",
    "ax2.add_feature(ohio,facecolor='none',edgecolor='black',linewidth=linewidth) # Ohio\n",
    "\n",
    "ax2.add_feature(cfeature.COASTLINE)\n",
    "ax2.set_xlim([xLimLow, xLimHigh])\n",
    "ax2.set_ylim([yLimLow, yLimHigh])\n",
    "\n",
    "ax2.set_yticks(latTicks)\n",
    "ax2.set_xticks(lonTicks) \n",
    "\n",
    "ax2.set_yticklabels('', fontSize = tickFontSize)\n",
    "ax2.set_xticklabels('', fontSize = tickFontSize)\n",
    "ax2.set_title('(b)', x = 0.45, y=figTitleDistY, pad=-14, fontsize = textFontSize, loc='left')\n",
    "ax2.text(-106, 59, r'2045-2074', fontsize=titleFontSize)\n",
    "ax2.text(-107, 54, r'Precipitation', fontsize=paramFontSize)\n",
    "#+++++++++++++++++++++++++++++++++++++++++++++++++++++++++++++++++++++++++++++++++++++++++++++++++\n",
    "\n",
    "ax3 = axs[2]\n",
    "cp3 = ax3.contourf(x_Us, y_Us,param_scenEraThree_diff_masked_Missi,transform=ccrs.PlateCarree(),cmap=cm.BrBG,levels = levels_precip,norm=norm_precip,)\n",
    "\n",
    "plt.grid(b=True, which='major', color='#666666', linestyle='-')\n",
    "ax3.add_feature(cfeature.RIVERS.with_scale('110m'), color='b', label='Rivers')     # couche rivières = was 50 m\n",
    "\n",
    "ax3.add_feature(missi,facecolor='none',edgecolor='black',linewidth=linewidth) # Mississippi\n",
    "ax3.add_feature(arkansas,facecolor='none',edgecolor='black',linewidth=linewidth) # Arkansas\n",
    "ax3.add_feature(missouri,facecolor='none',edgecolor='black',linewidth=linewidth) # Missouri\n",
    "ax3.add_feature(ohio,facecolor='none',edgecolor='black',linewidth=linewidth) # Ohio\n",
    "\n",
    "ax3.add_feature(cfeature.COASTLINE)\n",
    "ax3.set_xlim([xLimLow, xLimHigh])\n",
    "ax3.set_ylim([yLimLow, yLimHigh])\n",
    "\n",
    "ax3.set_yticks(latTicks)\n",
    "ax3.set_xticks(lonTicks) \n",
    "\n",
    "ax3.set_yticklabels('', fontSize = tickFontSize)\n",
    "ax3.set_xticklabels('', fontSize = tickFontSize)\n",
    "ax3.set_title('(c)', x = 0.45, y=figTitleDistY, pad=-14, fontsize = textFontSize, loc='left')\n",
    "ax3.text(-107.5, 59, r' 2075-2100', fontsize=titleFontSize)\n",
    "#+++++++++++++++++++++++++++++++++++++++++++++++++++++++++++++++++++++++++++++++++++++++++++\n",
    "#+++++++++++++++++++++++++++++++++++++++++++++++++++++++++++++++++++++++++++++++++++++++++++\n",
    "\n",
    "ax4 = axs[3]\n",
    "cp4 = ax4.contourf(x_Us, y_Us,et_scenEraOne_diff_masked_Missi,transform=ccrs.PlateCarree(),cmap=cm.BrBG_r,levels = levels_et,norm=norm_et)\n",
    "\n",
    "plt.grid(b=True, which='major', color='#666666', linestyle='-')\n",
    "\n",
    "ax4.add_feature(cfeature.RIVERS.with_scale('110m'), color='b', label='Rivers')     # couche rivières = was 50 m\n",
    "ax4.add_feature(missi,facecolor='none',edgecolor='black',linewidth=linewidth) # Mississippi\n",
    "ax4.add_feature(arkansas,facecolor='none',edgecolor='black',linewidth=linewidth) # Arkansas\n",
    "ax4.add_feature(missouri,facecolor='none',edgecolor='black',linewidth=linewidth) # Missouri\n",
    "ax4.add_feature(ohio,facecolor='none',edgecolor='black',linewidth=linewidth) # Ohio\n",
    "\n",
    "ax4.add_feature(cfeature.COASTLINE)\n",
    "ax4.set_xlim([xLimLow, xLimHigh])\n",
    "ax4.set_ylim([yLimLow, yLimHigh])\n",
    "\n",
    "ax4.set_yticks(latTicks)\n",
    "ax4.set_xticks(lonTicks) \n",
    "\n",
    "ax4.set_yticklabels(latTickLebelsStr, fontSize = tickFontSize)\n",
    "ax4.set_xticklabels('', fontSize = tickFontSize)\n",
    "ax4.set_title('(d)', x = 0.45, y=figTitleDistY, pad=-14, fontsize = textFontSize, loc='left')\n",
    "#+++++++++++++++++++++++++++++++++++++++++++++++++++++++++++++++++++++++++++\n",
    "\n",
    "ax5 = axs[4]\n",
    "cp5 = ax5.contourf(x_Us, y_Us,et_scenEraTwo_diff_masked_Missi,transform=ccrs.PlateCarree(),cmap=cm.BrBG_r,levels = levels_et,norm=norm_et)\n",
    "plt.grid(b=True, which='major', color='#666666', linestyle='-')\n",
    "\n",
    "p5 = ax5.get_position().get_points().flatten()\n",
    "cbax5 = fig.add_axes([p5[0]+0.20, +0.606, (p5[2]-p5[0])*0.04, 0.112])\n",
    "cbar5 =plt.colorbar(cp5, ax=ax5, cax=cbax5, shrink=.5, ticks=boundaries_et, orientation = 'vertical') \n",
    "cbar5.ax.tick_params(labelsize = cbarTickFontSize)  # set your label size here\n",
    "\n",
    "for index, label in enumerate(cbar5.ax.yaxis.get_ticklabels()):\n",
    "    if index % 4 != 0:\n",
    "        label.set_visible(False)\n",
    "\n",
    "cbar5.set_label(\"mm/mon\", fontsize = cbarTextFontSize)\n",
    "ax5.add_feature(cfeature.RIVERS.with_scale('110m'), color='b', label='Rivers')     # couche rivières = was 50 m\n",
    "\n",
    "ax5.add_feature(missi,facecolor='none',edgecolor='black',linewidth=linewidth) # Mississippi\n",
    "ax5.add_feature(arkansas,facecolor='none',edgecolor='black',linewidth=linewidth) # Arkansas\n",
    "ax5.add_feature(missouri,facecolor='none',edgecolor='black',linewidth=linewidth) # Missouri\n",
    "ax5.add_feature(ohio,facecolor='none',edgecolor='black',linewidth=linewidth) # Ohio\n",
    "\n",
    "ax5.add_feature(cfeature.COASTLINE)\n",
    "ax5.set_xlim([xLimLow, xLimHigh])\n",
    "ax5.set_ylim([yLimLow, yLimHigh])\n",
    "\n",
    "ax5.set_yticks(latTicks)\n",
    "ax5.set_xticks(lonTicks) \n",
    "\n",
    "ax5.set_yticklabels('', fontSize = tickFontSize)\n",
    "ax5.set_xticklabels('', fontSize = tickFontSize)\n",
    "ax5.set_title('(e)', x = 0.45, y=figTitleDistY, pad=-14, fontsize = textFontSize, loc='left')\n",
    "ax5.text(-97, 54, r'ET', fontsize=paramFontSize)\n",
    "#+++++++++++++++++++++++++++++++++++++++++++++++++++++++++++++++++++++++++++++++++++++++++++++++++\n",
    "\n",
    "ax6 = axs[5]\n",
    "cp6 = ax6.contourf(x_Us, y_Us,et_scenEraThree_diff_masked_Missi,transform=ccrs.PlateCarree(),cmap=cm.BrBG_r,levels = levels_et,norm=norm_et)\n",
    "\n",
    "plt.grid(b=True, which='major', color='#666666', linestyle='-')\n",
    "ax6.add_feature(cfeature.RIVERS.with_scale('110m'), color='b', label='Rivers')     # couche rivières = was 50 m\n",
    "\n",
    "ax6.add_feature(missi,facecolor='none',edgecolor='black',linewidth=linewidth) # Mississippi\n",
    "ax6.add_feature(arkansas,facecolor='none',edgecolor='black',linewidth=linewidth) # Arkansas\n",
    "ax6.add_feature(missouri,facecolor='none',edgecolor='black',linewidth=linewidth) # Missouri\n",
    "ax6.add_feature(ohio,facecolor='none',edgecolor='black',linewidth=linewidth) # Ohio\n",
    "\n",
    "ax6.add_feature(cfeature.COASTLINE)\n",
    "ax6.set_xlim([xLimLow, xLimHigh])\n",
    "ax6.set_ylim([yLimLow, yLimHigh])\n",
    "\n",
    "ax6.set_yticks(latTicks)\n",
    "ax6.set_xticks(lonTicks) \n",
    "\n",
    "\n",
    "ax6.set_yticklabels('', fontSize = tickFontSize)\n",
    "ax6.set_xticklabels('', fontSize = tickFontSize)\n",
    "ax6.set_title('(f)', x = 0.45, y=figTitleDistY, pad=-14, fontsize = textFontSize, loc='left')\n",
    "#+++++++++++++++++++++++++++++++++++++++++++++++++++++++++++++++++++++++++++++++++++++++++++\n",
    "#+++++++++++++++++++++++++++++++++++++++++++++++++++++++++++++++++++++++++++++++++++++++++++\n",
    "#++++++++++++++++++++++++++++++++++++++++++++++++++++++++++++++++++++++++++++++++++++++++++\n",
    "\n",
    "ax7 = axs[6]\n",
    "cp7 = ax7.contourf(x_Us, y_Us,snowMelt_scenEraOne_diff_masked_Missi,transform=ccrs.PlateCarree(),cmap=cm.BrBG,levels = levels_snowMelt,norm=norm_snowMelt,)\n",
    "\n",
    "plt.grid(b=True, which='major', color='#666666', linestyle='-')\n",
    "\n",
    "ax7.add_feature(cfeature.RIVERS.with_scale('110m'), color='b', label='Rivers')     # couche rivières = was 50 m\n",
    "ax7.add_feature(missi,facecolor='none',edgecolor='black',linewidth=linewidth) # Mississippi\n",
    "ax7.add_feature(arkansas,facecolor='none',edgecolor='black',linewidth=linewidth) # Arkansas\n",
    "ax7.add_feature(missouri,facecolor='none',edgecolor='black',linewidth=linewidth) # Missouri\n",
    "ax7.add_feature(ohio,facecolor='none',edgecolor='black',linewidth=linewidth) # Ohio\n",
    "\n",
    "ax7.add_feature(cfeature.COASTLINE)\n",
    "ax7.set_xlim([xLimLow, xLimHigh])\n",
    "ax7.set_ylim([yLimLow, yLimHigh])\n",
    "\n",
    "ax7.set_yticks(latTicks)\n",
    "ax7.set_xticks(lonTicks) \n",
    "\n",
    "ax7.set_yticklabels(latTickLebelsStr, fontSize = tickFontSize)\n",
    "ax7.set_xticklabels('', fontSize = tickFontSize)\n",
    "\n",
    "ax7.set_ylabel('Latitude (°N)', fontsize = textFontSize)\n",
    "ax7.set_title('(g)', x = 0.45, y=figTitleDistY, pad=-14, fontsize = textFontSize, loc='left')\n",
    "#+++++++++++++++++++++++++++++++++++++++++++++++++++++++++++++++++++++++++++\n",
    "\n",
    "ax8 = axs[7]\n",
    "cp8 = ax8.contourf(x_Us, y_Us,snowMelt_scenEraTwo_diff_masked_Missi,transform=ccrs.PlateCarree(),cmap=cm.BrBG,levels = levels_snowMelt,norm=norm_snowMelt)\n",
    "\n",
    "plt.grid(b=True, which='major', color='#666666', linestyle='-')\n",
    "\n",
    "p8 = ax8.get_position().get_points().flatten()\n",
    "cbax8 = fig.add_axes([p8[0]+0.20, +0.445, (p8[2]-p8[0])*0.04, 0.112])\n",
    "cbar8 =plt.colorbar(cp8, ax=ax8, cax=cbax8, shrink=.5, ticks=boundaries_snowMelt, orientation = 'vertical') \n",
    "cbar8.ax.tick_params(labelsize = cbarTickFontSize)  # set your label size here\n",
    "\n",
    "for index, label in enumerate(cbar8.ax.yaxis.get_ticklabels()):\n",
    "    if index % 3 != 0:\n",
    "        label.set_visible(False)        \n",
    "\n",
    "cbar8.set_label(\"mm/mon\", fontsize = cbarTextFontSize)\n",
    "\n",
    "ax8.add_feature(cfeature.RIVERS.with_scale('110m'), color='b', label='Rivers')     # couche rivières = was 50 m\n",
    "\n",
    "ax8.add_feature(missi,facecolor='none',edgecolor='black',linewidth=linewidth) # Mississippi\n",
    "ax8.add_feature(arkansas,facecolor='none',edgecolor='black',linewidth=linewidth) # Arkansas\n",
    "ax8.add_feature(missouri,facecolor='none',edgecolor='black',linewidth=linewidth) # Missouri\n",
    "ax8.add_feature(ohio,facecolor='none',edgecolor='black',linewidth=linewidth) # Ohio\n",
    "\n",
    "ax8.add_feature(cfeature.COASTLINE)\n",
    "ax8.set_xlim([xLimLow, xLimHigh])\n",
    "ax8.set_ylim([yLimLow, yLimHigh])\n",
    "\n",
    "ax8.set_yticks(latTicks)\n",
    "ax8.set_xticks(lonTicks) \n",
    "\n",
    "ax8.set_yticklabels('', fontSize = tickFontSize)\n",
    "ax8.set_xticklabels('', fontSize = tickFontSize)\n",
    "\n",
    "ax8.set_title('(h)', x = 0.45, y=figTitleDistY, pad=-14, fontsize = textFontSize, loc='left')\n",
    "ax8.text(-104, 54, r'Snowmelt', fontsize=paramFontSize)\n",
    "#+++++++++++++++++++++++++++++++++++++++++++++++++++++++++++++++++++++++++++++++++++++++++++++++++\n",
    "\n",
    "\n",
    "ax9 = axs[8]\n",
    "cp9 = ax9.contourf(x_Us, y_Us,snowMelt_scenEraThree_diff_masked_Missi,transform=ccrs.PlateCarree(),cmap=cm.BrBG,levels = levels_snowMelt,norm=norm_snowMelt)\n",
    "\n",
    "plt.grid(b=True, which='major', color='#666666', linestyle='-')\n",
    "ax9.add_feature(cfeature.RIVERS.with_scale('110m'), color='b', label='Rivers')     # couche rivières = was 50 m\n",
    "\n",
    "ax9.add_feature(missi,facecolor='none',edgecolor='black',linewidth=linewidth) # Mississippi\n",
    "ax9.add_feature(arkansas,facecolor='none',edgecolor='black',linewidth=linewidth) # Arkansas\n",
    "ax9.add_feature(missouri,facecolor='none',edgecolor='black',linewidth=linewidth) # Missouri\n",
    "ax9.add_feature(ohio,facecolor='none',edgecolor='black',linewidth=linewidth) # Ohio\n",
    "\n",
    "ax9.add_feature(cfeature.COASTLINE)\n",
    "ax9.set_xlim([xLimLow, xLimHigh])\n",
    "ax9.set_ylim([yLimLow, yLimHigh])\n",
    "\n",
    "ax9.set_yticks(latTicks)\n",
    "ax9.set_xticks(lonTicks) \n",
    "\n",
    "ax9.set_yticklabels('', fontSize = tickFontSize)\n",
    "ax9.set_xticklabels('', fontSize = tickFontSize)\n",
    "ax9.set_title('(i)', x = 0.45, y=figTitleDistY, pad=-14, fontsize = textFontSize, loc='left')\n",
    "#+++++++++++++++++++++++++++++++++++++++++++++++++++++++++++++++++++++++++++++++++++++++++++\n",
    "#+++++++++++++++++++++++++++++++++++++++++++++++++++++++++++++++++++++++++++++++++++++++++++\n",
    "#+++++++++++++++++++++++++++++++++++++++++++++++++++++++++++++++++++++++++++++++++++++++++++\n",
    "\n",
    "\n",
    "ax10 = axs[9]\n",
    "cp10 = ax10.contourf(x_Us, y_Us,soilMoist_scenEraOne_diff_masked_Missi,transform=ccrs.PlateCarree(),cmap=cm.BrBG,levels = levels_soilMoist,norm=norm_soilMoist,)\n",
    "\n",
    "plt.grid(b=True, which='major', color='#666666', linestyle='-')\n",
    "\n",
    "\n",
    "ax10.add_feature(cfeature.RIVERS.with_scale('110m'), color='b', label='Rivers')     # couche rivières = was 50 m\n",
    "ax10.add_feature(missi,facecolor='none',edgecolor='black',linewidth=linewidth) # Mississippi\n",
    "ax10.add_feature(arkansas,facecolor='none',edgecolor='black',linewidth=linewidth) # Arkansas\n",
    "ax10.add_feature(missouri,facecolor='none',edgecolor='black',linewidth=linewidth) # Missouri\n",
    "ax10.add_feature(ohio,facecolor='none',edgecolor='black',linewidth=linewidth) # Ohio\n",
    "\n",
    "ax10.add_feature(cfeature.COASTLINE)\n",
    "\n",
    "ax10.set_xlim([xLimLow, xLimHigh])\n",
    "ax10.set_ylim([yLimLow, yLimHigh])\n",
    "\n",
    "ax10.set_yticks(latTicks)\n",
    "ax10.set_xticks(lonTicks) \n",
    "\n",
    "ax10.set_yticklabels(latTickLebelsStr, fontSize = tickFontSize)\n",
    "ax10.set_xticklabels('', fontSize = tickFontSize)\n",
    "ax10.set_title('(j)', x = 0.45, y=figTitleDistY, pad=-14, fontsize = textFontSize, loc='left')\n",
    "#+++++++++++++++++++++++++++++++++++++++++++++++++++++++++++++++++++++++++++\n",
    "\n",
    "ax11 = axs[10]\n",
    "cp11 = ax11.contourf(x_Us, y_Us,soilMoist_scenEraTwo_diff_masked_Missi,transform=ccrs.PlateCarree(),cmap=cm.BrBG,levels = levels_soilMoist,norm=norm_soilMoist,)\n",
    "\n",
    "plt.grid(b=True, which='major', color='#666666', linestyle='-')\n",
    "\n",
    "p11 = ax11.get_position().get_points().flatten()\n",
    "cbax11 = fig.add_axes([p11[0]+0.20, +0.280, (p11[2]-p11[0])*0.04, 0.112])\n",
    "\n",
    "cbar11 =plt.colorbar(cp11, ax=ax11, cax=cbax11, shrink=.5, ticks=boundaries_soilMoist, orientation = 'vertical') \n",
    "\n",
    "cbar11.ax.tick_params(labelsize = cbarTickFontSize)  # set your label size here\n",
    "\n",
    "for index, label in enumerate(cbar11.ax.yaxis.get_ticklabels()):\n",
    "    if index % 3 != 0:\n",
    "        label.set_visible(False)        \n",
    "        \n",
    "    \n",
    "cbar11.set_label(\"kg/$\\mathregular{m^{2}}$\", fontsize = cbarTextFontSize)\n",
    "ax11.add_feature(cfeature.RIVERS.with_scale('110m'), color='b', label='Rivers')     # couche rivières = was 50 m\n",
    "\n",
    "ax11.add_feature(missi,facecolor='none',edgecolor='black',linewidth=linewidth) # Mississippi\n",
    "ax11.add_feature(arkansas,facecolor='none',edgecolor='black',linewidth=linewidth) # Arkansas\n",
    "ax11.add_feature(missouri,facecolor='none',edgecolor='black',linewidth=linewidth) # Missouri\n",
    "ax11.add_feature(ohio,facecolor='none',edgecolor='black',linewidth=linewidth) # Ohio\n",
    "\n",
    "ax11.add_feature(cfeature.COASTLINE)\n",
    "ax11.set_xlim([xLimLow, xLimHigh])\n",
    "ax11.set_ylim([yLimLow, yLimHigh])\n",
    "\n",
    "ax11.set_yticks(latTicks)\n",
    "ax11.set_xticks(lonTicks) \n",
    "\n",
    "ax11.set_yticklabels('', fontSize = tickFontSize)\n",
    "ax11.set_xticklabels('', fontSize = tickFontSize)\n",
    "ax11.set_title('(k)', x = 0.45, y=figTitleDistY, pad=-14, fontsize = textFontSize, loc='left')\n",
    "ax11.text(-107, 54, r'Soil Moisture', fontsize=paramFontSize)\n",
    "#+++++++++++++++++++++++++++++++++++++++++++++++++++++++++++++++++++++++++++++++++++++++++++++++++\n",
    "\n",
    "ax12 = axs[11]\n",
    "cp12 = ax12.contourf(x_Us, y_Us,soilMoist_scenEraThree_diff_masked_Missi,transform=ccrs.PlateCarree(),cmap=cm.BrBG,levels = levels_soilMoist,norm=norm_soilMoist,)\n",
    "\n",
    "plt.grid(b=True, which='major', color='#666666', linestyle='-')\n",
    "ax12.add_feature(cfeature.RIVERS.with_scale('110m'), color='b', label='Rivers')     # couche rivières = was 50 m\n",
    "\n",
    "ax12.add_feature(missi,facecolor='none',edgecolor='black',linewidth=linewidth) # Mississippi\n",
    "ax12.add_feature(arkansas,facecolor='none',edgecolor='black',linewidth=linewidth) # Arkansas\n",
    "ax12.add_feature(missouri,facecolor='none',edgecolor='black',linewidth=linewidth) # Missouri\n",
    "ax12.add_feature(ohio,facecolor='none',edgecolor='black',linewidth=linewidth) # Ohio\n",
    "\n",
    "ax12.add_feature(cfeature.COASTLINE)\n",
    "ax12.set_xlim([xLimLow, xLimHigh])\n",
    "ax12.set_ylim([yLimLow, yLimHigh])\n",
    "\n",
    "ax12.set_yticks(latTicks)\n",
    "ax12.set_xticks(lonTicks) \n",
    "\n",
    "ax12.set_yticklabels('', fontSize = tickFontSize)\n",
    "ax12.set_xticklabels('', fontSize = tickFontSize)\n",
    "ax12.set_title('(l)', x = 0.45, y=figTitleDistY, pad=-14, fontsize = textFontSize, loc='left')\n",
    "#+++++++++++++++++++++++++++++++++++++++++++++++++++++++++++++++++++++++++++++++++++++++++++\n",
    "\n",
    "ax13 = axs[12]\n",
    "cp13 = ax13.contourf(x_Us, y_Us,runoff_scenEraOne_diff_masked_Missi,transform=ccrs.PlateCarree(),cmap=cm.BrBG,levels = levels_runoff,norm=norm_runoff,)\n",
    "\n",
    "plt.grid(b=True, which='major', color='#666666', linestyle='-')\n",
    "\n",
    "\n",
    "ax13.add_feature(cfeature.RIVERS.with_scale('110m'), color='b', label='Rivers')     # couche rivières = was 50 m\n",
    "ax13.add_feature(missi,facecolor='none',edgecolor='black',linewidth=linewidth) # Mississippi\n",
    "ax13.add_feature(arkansas,facecolor='none',edgecolor='black',linewidth=linewidth) # Arkansas\n",
    "ax13.add_feature(missouri,facecolor='none',edgecolor='black',linewidth=linewidth) # Missouri\n",
    "ax13.add_feature(ohio,facecolor='none',edgecolor='black',linewidth=linewidth) # Ohio\n",
    "\n",
    "ax13.add_feature(cfeature.COASTLINE)\n",
    "ax13.set_xlim([xLimLow, xLimHigh])\n",
    "ax13.set_ylim([yLimLow, yLimHigh])\n",
    "\n",
    "ax13.set_yticks(latTicks)\n",
    "ax13.set_xticks(lonTicks) \n",
    "\n",
    "ax13.set_yticklabels(latTickLebelsStr, fontSize = tickFontSize)\n",
    "ax13.set_xticklabels(lonTickLebelsStr, fontSize = tickFontSize)\n",
    "ax13.set_title('(m)', x = 0.45, y=figTitleDistY, pad=-14, fontsize = textFontSize, loc='left')\n",
    "#+++++++++++++++++++++++++++++++++++++++++++++++++++++++++++++++++++++++++++\n",
    "\n",
    "ax14 = axs[13]\n",
    "cp14 = ax14.contourf(x_Us, y_Us,runoff_scenEraTwo_diff_masked_Missi,transform=ccrs.PlateCarree(),cmap=cm.BrBG,levels = levels_runoff,norm=norm_runoff)\n",
    "\n",
    "plt.grid(b=True, which='major', color='#666666', linestyle='-')\n",
    "\n",
    "p14 = ax14.get_position().get_points().flatten()\n",
    "cbax14 = fig.add_axes([p14[0]+0.20, +0.117, (p14[2]-p14[0])*0.04, 0.112])\n",
    "\n",
    "cbar14 =plt.colorbar(cp14, ax=ax14, cax=cbax14, shrink=.5, ticks=boundaries_runoff, orientation = 'vertical') \n",
    "cbar14.ax.tick_params(labelsize = cbarTickFontSize)  # set your label size here\n",
    "\n",
    "for index, label in enumerate(cbar14.ax.yaxis.get_ticklabels()):\n",
    "    if index % 3 != 0:\n",
    "        label.set_visible(False)        \n",
    "        \n",
    "    \n",
    "cbar14.set_label(\"mm/mon\", fontsize = cbarTextFontSize)\n",
    "\n",
    "ax14.add_feature(cfeature.RIVERS.with_scale('110m'), color='b', label='Rivers')     # couche rivières = was 50 m\n",
    "\n",
    "ax14.add_feature(missi,facecolor='none',edgecolor='black',linewidth=linewidth) # Mississippi\n",
    "ax14.add_feature(arkansas,facecolor='none',edgecolor='black',linewidth=linewidth) # Arkansas\n",
    "ax14.add_feature(missouri,facecolor='none',edgecolor='black',linewidth=linewidth) # Missouri\n",
    "ax14.add_feature(ohio,facecolor='none',edgecolor='black',linewidth=linewidth) # Ohio\n",
    "\n",
    "ax14.add_feature(cfeature.COASTLINE)\n",
    "ax14.set_xlim([xLimLow, xLimHigh])\n",
    "ax14.set_ylim([yLimLow, yLimHigh])\n",
    "\n",
    "ax14.set_yticks(latTicks)\n",
    "ax14.set_xticks(lonTicks) \n",
    "\n",
    "ax14.set_yticklabels('', fontSize = tickFontSize)\n",
    "ax14.set_xticklabels(lonTickLebelsStr, fontSize = tickFontSize)\n",
    "ax14.set_xlabel('Longitude (°W)', fontsize = textFontSize)\n",
    "ax14.set_title('(n)', x = 0.45, y=figTitleDistY, pad=-14, fontsize = textFontSize, loc='left')\n",
    "ax14.text(-101, 54, r'Runoff', fontsize=paramFontSize)\n",
    "#+++++++++++++++++++++++++++++++++++++++++++++++++++++++++++++++++++++++++++++++++++++++++++++++++\n",
    "\n",
    "ax15 = axs[14]\n",
    "cp15 = ax15.contourf(x_Us, y_Us,runoff_scenEraThree_diff_masked_Missi,transform=ccrs.PlateCarree(),cmap=cm.BrBG,levels = levels_runoff,norm=norm_runoff)\n",
    "\n",
    "plt.grid(b=True, which='major', color='#666666', linestyle='-')\n",
    "\n",
    "ax15.add_feature(cfeature.RIVERS.with_scale('110m'), color='b', label='Rivers')     # couche rivières = was 50 m\n",
    "\n",
    "ax15.add_feature(missi,facecolor='none',edgecolor='black',linewidth=linewidth) # Mississippi\n",
    "ax15.add_feature(arkansas,facecolor='none',edgecolor='black',linewidth=linewidth) # Arkansas\n",
    "ax15.add_feature(missouri,facecolor='none',edgecolor='black',linewidth=linewidth) # Missouri\n",
    "ax15.add_feature(ohio,facecolor='none',edgecolor='black',linewidth=linewidth) # Ohio\n",
    "\n",
    "ax15.add_feature(cfeature.COASTLINE)\n",
    "ax15.set_xlim([xLimLow, xLimHigh])\n",
    "ax15.set_ylim([yLimLow, yLimHigh])\n",
    "\n",
    "ax15.set_yticks(latTicks)\n",
    "ax15.set_xticks(lonTicks) \n",
    "\n",
    "ax15.set_yticklabels('', fontSize = tickFontSize)\n",
    "ax15.set_xticklabels(lonTickLebelsStr, fontSize = tickFontSize)\n",
    "ax15.set_title('(o)', x = 0.45, y=figTitleDistY, pad=-14, fontsize = textFontSize, loc='left')\n",
    "#+++++++++++++++++++++++++++++++++++++++++++++++++++++++++++++++++++++++++++++++++++++++++++++++++\n",
    "#++++++++++++++++++++++++++++++++++++++++++++++++++++++++++++++++++++++++++++++++++++++++++++++++++\n",
    "#++++++++++++++++++++++++++++++++++++++++++++++++++++++++++++++++++++++++++++++++++++++++++++++++++\n",
    "\n",
    "plt.subplots_adjust(left=0.13,\n",
    "                    bottom=0.1,\n",
    "                    right=0.6,\n",
    "                    top=0.9,\n",
    "                    wspace=0.25,\n",
    "                    hspace=0.1\n",
    "                    )\n",
    "\n",
    "import warnings\n",
    "\n",
    "with warnings.catch_warnings():\n",
    "    warnings.filterwarnings(\"ignore\", category=DeprecationWarning)\n",
    "\n",
    "    \n",
    "#plt.savefig(r'C:\\rezaul\\1.academic\\1.research\\2.project\\mrb\\output\\fig\\paperOne\\param\\gr\\anomSpatial\\tcfParamMap.pdf') \n",
    "#plt.savefig(r'C:\\rezaul\\1.academic\\1.research\\2.project\\mrb\\output\\fig\\paperOne\\param\\gr\\anomSpatial\\tcfParamMap.png', dpi=600)  \n",
    "\n",
    "\n",
    "plt.show()\n"
   ]
  },
  {
   "cell_type": "code",
   "execution_count": null,
   "metadata": {},
   "outputs": [],
   "source": []
  },
  {
   "cell_type": "code",
   "execution_count": null,
   "metadata": {},
   "outputs": [],
   "source": []
  },
  {
   "cell_type": "code",
   "execution_count": null,
   "metadata": {},
   "outputs": [],
   "source": []
  },
  {
   "cell_type": "code",
   "execution_count": null,
   "metadata": {},
   "outputs": [],
   "source": []
  },
  {
   "cell_type": "code",
   "execution_count": null,
   "metadata": {},
   "outputs": [],
   "source": []
  },
  {
   "cell_type": "code",
   "execution_count": null,
   "metadata": {},
   "outputs": [],
   "source": []
  },
  {
   "cell_type": "code",
   "execution_count": 125,
   "metadata": {},
   "outputs": [
    {
     "ename": "SyntaxError",
     "evalue": "invalid syntax (<ipython-input-125-9c5471e7b37b>, line 1)",
     "output_type": "error",
     "traceback": [
      "\u001b[1;36m  File \u001b[1;32m\"<ipython-input-125-9c5471e7b37b>\"\u001b[1;36m, line \u001b[1;32m1\u001b[0m\n\u001b[1;33m    STOP here ==============\u001b[0m\n\u001b[1;37m         ^\u001b[0m\n\u001b[1;31mSyntaxError\u001b[0m\u001b[1;31m:\u001b[0m invalid syntax\n"
     ]
    }
   ],
   "source": [
    "STOP here =============="
   ]
  },
  {
   "cell_type": "code",
   "execution_count": null,
   "metadata": {},
   "outputs": [],
   "source": []
  },
  {
   "cell_type": "code",
   "execution_count": null,
   "metadata": {},
   "outputs": [],
   "source": []
  },
  {
   "cell_type": "code",
   "execution_count": null,
   "metadata": {},
   "outputs": [],
   "source": []
  },
  {
   "cell_type": "code",
   "execution_count": null,
   "metadata": {},
   "outputs": [],
   "source": []
  }
 ],
 "metadata": {
  "kernelspec": {
   "display_name": "Python 3",
   "language": "python",
   "name": "python3"
  },
  "language_info": {
   "codemirror_mode": {
    "name": "ipython",
    "version": 3
   },
   "file_extension": ".py",
   "mimetype": "text/x-python",
   "name": "python",
   "nbconvert_exporter": "python",
   "pygments_lexer": "ipython3",
   "version": "3.8.5"
  }
 },
 "nbformat": 4,
 "nbformat_minor": 4
}
