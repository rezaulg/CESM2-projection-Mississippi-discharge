{
 "cells": [
  {
   "cell_type": "markdown",
   "metadata": {},
   "source": [
    "This script reads the Nc file for Surface Runoff downloaded from Casper log-in"
   ]
  },
  {
   "cell_type": "code",
   "execution_count": 1,
   "metadata": {},
   "outputs": [],
   "source": [
    "# To support both python 2 and python 3\n",
    "from __future__ import division, print_function, unicode_literals\n",
    "\n",
    "# Common imports\n",
    "import numpy as np\n",
    "import os\n",
    "\n",
    "# to make this notebook's output stable across runs\n",
    "np.random.seed(42)\n",
    "# To plot pretty figures\n",
    "%matplotlib inline\n",
    "#%matplotlib notebook\n",
    "\n",
    "import matplotlib as mpl\n",
    "import matplotlib.pyplot as plt\n",
    "mpl.rc('axes', labelsize=14)\n",
    "mpl.rc('xtick', labelsize=12)\n",
    "mpl.rc('ytick', labelsize=12)\n",
    "\n",
    "\n",
    "# Where to save the figures\n",
    "PROJECT_ROOT_DIR = \".\"  \n",
    "\n",
    "path2Create = r'C:/rezaul/1.academic/1.research/2.project/mrb/output/'\n",
    " \n",
    "if not os.path.exists(path2Create):\n",
    "    os.makedirs(path2Create)    \n",
    "    \n",
    "path2Save = 'C:/rezaul/1.academic/1.research/2.project/mrb/output/fig/disch/'\n",
    "\n",
    "if not os.path.exists(path2Save):\n",
    "    os.makedirs(path2Save)    \n",
    "\n",
    "IMAGES_PATH = os.path.join(path2Save)\n",
    "outputPath = os.path.join(path2Save)\n",
    "\n",
    "def save_fig(fig_id, tight_layout=True, fig_extension=\"png\", resolution=300):\n",
    "    path = os.path.join(IMAGES_PATH, fig_id + \".\" + fig_extension)\n",
    "    \n",
    "    print(\"Saving figure\", fig_id)\n",
    "    if tight_layout:\n",
    "        plt.tight_layout()\n",
    "    plt.savefig(path, format=fig_extension, dpi=resolution)\n"
   ]
  },
  {
   "cell_type": "code",
   "execution_count": null,
   "metadata": {},
   "outputs": [],
   "source": []
  },
  {
   "cell_type": "markdown",
   "metadata": {},
   "source": [
    "## Import Libraries"
   ]
  },
  {
   "cell_type": "code",
   "execution_count": 2,
   "metadata": {},
   "outputs": [],
   "source": [
    "# Common imports\n",
    "import numpy as np\n",
    "import pandas as pd\n",
    "import os\n",
    "import glob\n",
    "from datetime import datetime\n",
    "#from osgeo import gdal # Import the GDAL library\n",
    "#import gdal\n",
    "\n",
    "import cmocean\n",
    "\n",
    "#import matplotlib.pyplot as plt # Import the Matplotlib package\n",
    "from matplotlib import pyplot as plt  # Import the Matplotlib package\n",
    "from numpy import linspace # Import the Linspace numpy library\n",
    "from numpy import meshgrid # Import the Meshgrid numpy library\n",
    "\n",
    "#from init import *\n",
    "import scipy.io as sio\n",
    "# Common imports\n",
    "import calendar\n",
    "import datetime\n",
    "import matplotlib.dates as mdates\n",
    "from numpy import array, ma\n",
    "#import scipy.io\n",
    "from scipy.io import loadmat   # https://scipy-cookbook.readthedocs.io/items/Reading_mat_files.html\n",
    "import xarray as xr\n"
   ]
  },
  {
   "cell_type": "code",
   "execution_count": 3,
   "metadata": {},
   "outputs": [],
   "source": [
    "# Stats\n",
    "from statsmodels.distributions.empirical_distribution import ECDF\n",
    "from scipy.stats import gamma, norm\n",
    "from scipy.signal import detrend\n",
    "\n",
    "from netCDF4 import Dataset   # http://code.google.com/p/netcdf4-python/\n",
    "from numpy.random import normal\n",
    "from numpy import hstack\n",
    "\n",
    "import math\n"
   ]
  },
  {
   "cell_type": "code",
   "execution_count": 4,
   "metadata": {},
   "outputs": [],
   "source": [
    "# Plotting\n",
    "import matplotlib.colors as colors\n",
    "from copy import copy\n",
    "import matplotlib.cm as cm\n",
    "#from matplotlib_scalebar.scalebar import ScaleBar\n",
    "\n",
    "import seaborn as sns\n",
    "import matplotlib.gridspec as gridspec\n"
   ]
  },
  {
   "cell_type": "code",
   "execution_count": 5,
   "metadata": {},
   "outputs": [],
   "source": [
    "# Projection\n",
    "import cartopy.crs as ccrs\n",
    "\n",
    "import cartopy.feature as cfeature\n",
    "import cartopy.io.shapereader as shpreader\n",
    "from descartes import PolygonPatch\n",
    "import shapefile as shp  # Requires the pyshp package\n",
    "\n",
    "#from cartopy.feature import ShapelyFeature\n",
    "#from cartopy.io.shapereader import Reader"
   ]
  },
  {
   "cell_type": "code",
   "execution_count": null,
   "metadata": {},
   "outputs": [],
   "source": []
  },
  {
   "cell_type": "code",
   "execution_count": 6,
   "metadata": {},
   "outputs": [],
   "source": [
    "from descartes import PolygonPatch\n",
    "import shapefile as shp  # Requires the pyshp package\n",
    "sf=shp.Reader('C:/rezaul/1.academic/1.research/1.data/shapeFile/missi/Miss_RiverBasin.shp')"
   ]
  },
  {
   "cell_type": "code",
   "execution_count": null,
   "metadata": {},
   "outputs": [],
   "source": []
  },
  {
   "cell_type": "markdown",
   "metadata": {},
   "source": [
    "## Basin shape files"
   ]
  },
  {
   "cell_type": "code",
   "execution_count": 7,
   "metadata": {},
   "outputs": [],
   "source": [
    "shapeFile_Missi = 'C:/rezaul/1.academic/1.research/2.project/mrb/dt/shapeFile/mississippi_basins/mississippi_basins/mississippi_1.shp'\n",
    "shapeFile_Arkansas = 'C:/rezaul/1.academic/1.research/2.project/mrb/dt/shapeFile/mississippi_basins/mississippi_basins/arkansas_basin_1.shp'\n",
    "shapeFile_Missouri = 'C:/rezaul/1.academic/1.research/2.project/mrb/dt/shapeFile/mississippi_basins/mississippi_basins/missouri_basin_1.shp'\n",
    "shapeFile_Ohio = 'C:/rezaul/1.academic/1.research/2.project/mrb/dt/shapeFile/mississippi_basins/mississippi_basins/ohio_basin_1.shp'"
   ]
  },
  {
   "cell_type": "code",
   "execution_count": 8,
   "metadata": {},
   "outputs": [],
   "source": [
    "sf_Missi = shp.Reader(shapeFile_Missi)\n",
    "sf_Arkansas = shp.Reader(shapeFile_Arkansas)\n",
    "sf_Missouri = shp.Reader(shapeFile_Missouri)\n",
    "sf_Ohio = shp.Reader(shapeFile_Ohio)\n"
   ]
  },
  {
   "cell_type": "code",
   "execution_count": 9,
   "metadata": {},
   "outputs": [],
   "source": [
    "reader_Missi = shpreader.Reader(shapeFile_Missi)\n",
    "basin_Missi = list(reader_Missi.geometries())\n",
    "#\n",
    "\n",
    "reader_Arkansas = shpreader.Reader(shapeFile_Arkansas)\n",
    "basin_Arkansas = list(reader_Arkansas.geometries())\n",
    "#\n",
    "reader_Missouri = shpreader.Reader(shapeFile_Missouri)\n",
    "basin_Missouri = list(reader_Missouri.geometries())\n",
    "#\n",
    "reader_Ohio = shpreader.Reader(shapeFile_Ohio)\n",
    "basin_Ohio = list(reader_Ohio.geometries())\n",
    "#\n"
   ]
  },
  {
   "cell_type": "markdown",
   "metadata": {},
   "source": [
    "## Read Nc file"
   ]
  },
  {
   "cell_type": "code",
   "execution_count": 10,
   "metadata": {},
   "outputs": [
    {
     "name": "stdout",
     "output_type": "stream",
     "text": [
      "C:/rezaul/1.academic/1.research/2.project/mrb/dt/cesm/cesm2LE/param/precip/mon/b.e21.BHISTcmip6.f09_g17.LE2-1001.001.cam.h0.PRECT.185001-185912.nc\n"
     ]
    }
   ],
   "source": [
    "filePath = 'C:/rezaul/1.academic/1.research/2.project/mrb/dt/cesm/cesm2LE/param/precip/mon'\n",
    "fileName = 'b.e21.BHISTcmip6.f09_g17.LE2-1001.001.cam.h0.PRECT.185001-185912.nc'\n",
    "ncFile_param = str(filePath) + '/' + str(fileName)\n",
    "print(ncFile_param)"
   ]
  },
  {
   "cell_type": "code",
   "execution_count": 11,
   "metadata": {},
   "outputs": [],
   "source": [
    "file_param = Dataset(ncFile_param, mode='r')\n",
    "file_param\n",
    "\n",
    "lons = file_param.variables['lon'][:]\n",
    "lats = file_param.variables['lat'][:]"
   ]
  },
  {
   "cell_type": "code",
   "execution_count": 12,
   "metadata": {},
   "outputs": [
    {
     "name": "stdout",
     "output_type": "stream",
     "text": [
      "[-90.         -89.05759162 -88.11518325 -87.17277487]\n",
      "[0.   1.25 2.5  3.75]\n"
     ]
    }
   ],
   "source": [
    "print(lats[0:4])\n",
    "print(lons[0:4])"
   ]
  },
  {
   "cell_type": "code",
   "execution_count": 13,
   "metadata": {},
   "outputs": [
    {
     "name": "stderr",
     "output_type": "stream",
     "text": [
      "C:\\Users\\muham\\anaconda3\\lib\\site-packages\\xarray\\backends\\plugins.py:61: RuntimeWarning: Engine 'rasterio' loading failed:\n",
      "DLL load failed while importing _base: The specified procedure could not be found.\n",
      "  warnings.warn(f\"Engine {name!r} loading failed:\\n{ex}\", RuntimeWarning)\n"
     ]
    },
    {
     "data": {
      "text/html": [
       "<div><svg style=\"position: absolute; width: 0; height: 0; overflow: hidden\">\n",
       "<defs>\n",
       "<symbol id=\"icon-database\" viewBox=\"0 0 32 32\">\n",
       "<path d=\"M16 0c-8.837 0-16 2.239-16 5v4c0 2.761 7.163 5 16 5s16-2.239 16-5v-4c0-2.761-7.163-5-16-5z\"></path>\n",
       "<path d=\"M16 17c-8.837 0-16-2.239-16-5v6c0 2.761 7.163 5 16 5s16-2.239 16-5v-6c0 2.761-7.163 5-16 5z\"></path>\n",
       "<path d=\"M16 26c-8.837 0-16-2.239-16-5v6c0 2.761 7.163 5 16 5s16-2.239 16-5v-6c0 2.761-7.163 5-16 5z\"></path>\n",
       "</symbol>\n",
       "<symbol id=\"icon-file-text2\" viewBox=\"0 0 32 32\">\n",
       "<path d=\"M28.681 7.159c-0.694-0.947-1.662-2.053-2.724-3.116s-2.169-2.030-3.116-2.724c-1.612-1.182-2.393-1.319-2.841-1.319h-15.5c-1.378 0-2.5 1.121-2.5 2.5v27c0 1.378 1.122 2.5 2.5 2.5h23c1.378 0 2.5-1.122 2.5-2.5v-19.5c0-0.448-0.137-1.23-1.319-2.841zM24.543 5.457c0.959 0.959 1.712 1.825 2.268 2.543h-4.811v-4.811c0.718 0.556 1.584 1.309 2.543 2.268zM28 29.5c0 0.271-0.229 0.5-0.5 0.5h-23c-0.271 0-0.5-0.229-0.5-0.5v-27c0-0.271 0.229-0.5 0.5-0.5 0 0 15.499-0 15.5 0v7c0 0.552 0.448 1 1 1h7v19.5z\"></path>\n",
       "<path d=\"M23 26h-14c-0.552 0-1-0.448-1-1s0.448-1 1-1h14c0.552 0 1 0.448 1 1s-0.448 1-1 1z\"></path>\n",
       "<path d=\"M23 22h-14c-0.552 0-1-0.448-1-1s0.448-1 1-1h14c0.552 0 1 0.448 1 1s-0.448 1-1 1z\"></path>\n",
       "<path d=\"M23 18h-14c-0.552 0-1-0.448-1-1s0.448-1 1-1h14c0.552 0 1 0.448 1 1s-0.448 1-1 1z\"></path>\n",
       "</symbol>\n",
       "</defs>\n",
       "</svg>\n",
       "<style>/* CSS stylesheet for displaying xarray objects in jupyterlab.\n",
       " *\n",
       " */\n",
       "\n",
       ":root {\n",
       "  --xr-font-color0: var(--jp-content-font-color0, rgba(0, 0, 0, 1));\n",
       "  --xr-font-color2: var(--jp-content-font-color2, rgba(0, 0, 0, 0.54));\n",
       "  --xr-font-color3: var(--jp-content-font-color3, rgba(0, 0, 0, 0.38));\n",
       "  --xr-border-color: var(--jp-border-color2, #e0e0e0);\n",
       "  --xr-disabled-color: var(--jp-layout-color3, #bdbdbd);\n",
       "  --xr-background-color: var(--jp-layout-color0, white);\n",
       "  --xr-background-color-row-even: var(--jp-layout-color1, white);\n",
       "  --xr-background-color-row-odd: var(--jp-layout-color2, #eeeeee);\n",
       "}\n",
       "\n",
       "html[theme=dark],\n",
       "body.vscode-dark {\n",
       "  --xr-font-color0: rgba(255, 255, 255, 1);\n",
       "  --xr-font-color2: rgba(255, 255, 255, 0.54);\n",
       "  --xr-font-color3: rgba(255, 255, 255, 0.38);\n",
       "  --xr-border-color: #1F1F1F;\n",
       "  --xr-disabled-color: #515151;\n",
       "  --xr-background-color: #111111;\n",
       "  --xr-background-color-row-even: #111111;\n",
       "  --xr-background-color-row-odd: #313131;\n",
       "}\n",
       "\n",
       ".xr-wrap {\n",
       "  display: block !important;\n",
       "  min-width: 300px;\n",
       "  max-width: 700px;\n",
       "}\n",
       "\n",
       ".xr-text-repr-fallback {\n",
       "  /* fallback to plain text repr when CSS is not injected (untrusted notebook) */\n",
       "  display: none;\n",
       "}\n",
       "\n",
       ".xr-header {\n",
       "  padding-top: 6px;\n",
       "  padding-bottom: 6px;\n",
       "  margin-bottom: 4px;\n",
       "  border-bottom: solid 1px var(--xr-border-color);\n",
       "}\n",
       "\n",
       ".xr-header > div,\n",
       ".xr-header > ul {\n",
       "  display: inline;\n",
       "  margin-top: 0;\n",
       "  margin-bottom: 0;\n",
       "}\n",
       "\n",
       ".xr-obj-type,\n",
       ".xr-array-name {\n",
       "  margin-left: 2px;\n",
       "  margin-right: 10px;\n",
       "}\n",
       "\n",
       ".xr-obj-type {\n",
       "  color: var(--xr-font-color2);\n",
       "}\n",
       "\n",
       ".xr-sections {\n",
       "  padding-left: 0 !important;\n",
       "  display: grid;\n",
       "  grid-template-columns: 150px auto auto 1fr 20px 20px;\n",
       "}\n",
       "\n",
       ".xr-section-item {\n",
       "  display: contents;\n",
       "}\n",
       "\n",
       ".xr-section-item input {\n",
       "  display: none;\n",
       "}\n",
       "\n",
       ".xr-section-item input + label {\n",
       "  color: var(--xr-disabled-color);\n",
       "}\n",
       "\n",
       ".xr-section-item input:enabled + label {\n",
       "  cursor: pointer;\n",
       "  color: var(--xr-font-color2);\n",
       "}\n",
       "\n",
       ".xr-section-item input:enabled + label:hover {\n",
       "  color: var(--xr-font-color0);\n",
       "}\n",
       "\n",
       ".xr-section-summary {\n",
       "  grid-column: 1;\n",
       "  color: var(--xr-font-color2);\n",
       "  font-weight: 500;\n",
       "}\n",
       "\n",
       ".xr-section-summary > span {\n",
       "  display: inline-block;\n",
       "  padding-left: 0.5em;\n",
       "}\n",
       "\n",
       ".xr-section-summary-in:disabled + label {\n",
       "  color: var(--xr-font-color2);\n",
       "}\n",
       "\n",
       ".xr-section-summary-in + label:before {\n",
       "  display: inline-block;\n",
       "  content: '►';\n",
       "  font-size: 11px;\n",
       "  width: 15px;\n",
       "  text-align: center;\n",
       "}\n",
       "\n",
       ".xr-section-summary-in:disabled + label:before {\n",
       "  color: var(--xr-disabled-color);\n",
       "}\n",
       "\n",
       ".xr-section-summary-in:checked + label:before {\n",
       "  content: '▼';\n",
       "}\n",
       "\n",
       ".xr-section-summary-in:checked + label > span {\n",
       "  display: none;\n",
       "}\n",
       "\n",
       ".xr-section-summary,\n",
       ".xr-section-inline-details {\n",
       "  padding-top: 4px;\n",
       "  padding-bottom: 4px;\n",
       "}\n",
       "\n",
       ".xr-section-inline-details {\n",
       "  grid-column: 2 / -1;\n",
       "}\n",
       "\n",
       ".xr-section-details {\n",
       "  display: none;\n",
       "  grid-column: 1 / -1;\n",
       "  margin-bottom: 5px;\n",
       "}\n",
       "\n",
       ".xr-section-summary-in:checked ~ .xr-section-details {\n",
       "  display: contents;\n",
       "}\n",
       "\n",
       ".xr-array-wrap {\n",
       "  grid-column: 1 / -1;\n",
       "  display: grid;\n",
       "  grid-template-columns: 20px auto;\n",
       "}\n",
       "\n",
       ".xr-array-wrap > label {\n",
       "  grid-column: 1;\n",
       "  vertical-align: top;\n",
       "}\n",
       "\n",
       ".xr-preview {\n",
       "  color: var(--xr-font-color3);\n",
       "}\n",
       "\n",
       ".xr-array-preview,\n",
       ".xr-array-data {\n",
       "  padding: 0 5px !important;\n",
       "  grid-column: 2;\n",
       "}\n",
       "\n",
       ".xr-array-data,\n",
       ".xr-array-in:checked ~ .xr-array-preview {\n",
       "  display: none;\n",
       "}\n",
       "\n",
       ".xr-array-in:checked ~ .xr-array-data,\n",
       ".xr-array-preview {\n",
       "  display: inline-block;\n",
       "}\n",
       "\n",
       ".xr-dim-list {\n",
       "  display: inline-block !important;\n",
       "  list-style: none;\n",
       "  padding: 0 !important;\n",
       "  margin: 0;\n",
       "}\n",
       "\n",
       ".xr-dim-list li {\n",
       "  display: inline-block;\n",
       "  padding: 0;\n",
       "  margin: 0;\n",
       "}\n",
       "\n",
       ".xr-dim-list:before {\n",
       "  content: '(';\n",
       "}\n",
       "\n",
       ".xr-dim-list:after {\n",
       "  content: ')';\n",
       "}\n",
       "\n",
       ".xr-dim-list li:not(:last-child):after {\n",
       "  content: ',';\n",
       "  padding-right: 5px;\n",
       "}\n",
       "\n",
       ".xr-has-index {\n",
       "  font-weight: bold;\n",
       "}\n",
       "\n",
       ".xr-var-list,\n",
       ".xr-var-item {\n",
       "  display: contents;\n",
       "}\n",
       "\n",
       ".xr-var-item > div,\n",
       ".xr-var-item label,\n",
       ".xr-var-item > .xr-var-name span {\n",
       "  background-color: var(--xr-background-color-row-even);\n",
       "  margin-bottom: 0;\n",
       "}\n",
       "\n",
       ".xr-var-item > .xr-var-name:hover span {\n",
       "  padding-right: 5px;\n",
       "}\n",
       "\n",
       ".xr-var-list > li:nth-child(odd) > div,\n",
       ".xr-var-list > li:nth-child(odd) > label,\n",
       ".xr-var-list > li:nth-child(odd) > .xr-var-name span {\n",
       "  background-color: var(--xr-background-color-row-odd);\n",
       "}\n",
       "\n",
       ".xr-var-name {\n",
       "  grid-column: 1;\n",
       "}\n",
       "\n",
       ".xr-var-dims {\n",
       "  grid-column: 2;\n",
       "}\n",
       "\n",
       ".xr-var-dtype {\n",
       "  grid-column: 3;\n",
       "  text-align: right;\n",
       "  color: var(--xr-font-color2);\n",
       "}\n",
       "\n",
       ".xr-var-preview {\n",
       "  grid-column: 4;\n",
       "}\n",
       "\n",
       ".xr-var-name,\n",
       ".xr-var-dims,\n",
       ".xr-var-dtype,\n",
       ".xr-preview,\n",
       ".xr-attrs dt {\n",
       "  white-space: nowrap;\n",
       "  overflow: hidden;\n",
       "  text-overflow: ellipsis;\n",
       "  padding-right: 10px;\n",
       "}\n",
       "\n",
       ".xr-var-name:hover,\n",
       ".xr-var-dims:hover,\n",
       ".xr-var-dtype:hover,\n",
       ".xr-attrs dt:hover {\n",
       "  overflow: visible;\n",
       "  width: auto;\n",
       "  z-index: 1;\n",
       "}\n",
       "\n",
       ".xr-var-attrs,\n",
       ".xr-var-data {\n",
       "  display: none;\n",
       "  background-color: var(--xr-background-color) !important;\n",
       "  padding-bottom: 5px !important;\n",
       "}\n",
       "\n",
       ".xr-var-attrs-in:checked ~ .xr-var-attrs,\n",
       ".xr-var-data-in:checked ~ .xr-var-data {\n",
       "  display: block;\n",
       "}\n",
       "\n",
       ".xr-var-data > table {\n",
       "  float: right;\n",
       "}\n",
       "\n",
       ".xr-var-name span,\n",
       ".xr-var-data,\n",
       ".xr-attrs {\n",
       "  padding-left: 25px !important;\n",
       "}\n",
       "\n",
       ".xr-attrs,\n",
       ".xr-var-attrs,\n",
       ".xr-var-data {\n",
       "  grid-column: 1 / -1;\n",
       "}\n",
       "\n",
       "dl.xr-attrs {\n",
       "  padding: 0;\n",
       "  margin: 0;\n",
       "  display: grid;\n",
       "  grid-template-columns: 125px auto;\n",
       "}\n",
       "\n",
       ".xr-attrs dt,\n",
       ".xr-attrs dd {\n",
       "  padding: 0;\n",
       "  margin: 0;\n",
       "  float: left;\n",
       "  padding-right: 10px;\n",
       "  width: auto;\n",
       "}\n",
       "\n",
       ".xr-attrs dt {\n",
       "  font-weight: normal;\n",
       "  grid-column: 1;\n",
       "}\n",
       "\n",
       ".xr-attrs dt:hover span {\n",
       "  display: inline-block;\n",
       "  background: var(--xr-background-color);\n",
       "  padding-right: 10px;\n",
       "}\n",
       "\n",
       ".xr-attrs dd {\n",
       "  grid-column: 2;\n",
       "  white-space: pre-wrap;\n",
       "  word-break: break-all;\n",
       "}\n",
       "\n",
       ".xr-icon-database,\n",
       ".xr-icon-file-text2 {\n",
       "  display: inline-block;\n",
       "  vertical-align: middle;\n",
       "  width: 1em;\n",
       "  height: 1.5em !important;\n",
       "  stroke-width: 0;\n",
       "  stroke: currentColor;\n",
       "  fill: currentColor;\n",
       "}\n",
       "</style><pre class='xr-text-repr-fallback'>&lt;xarray.Dataset&gt;\n",
       "Dimensions:       (lat: 192, zlon: 1, nbnd: 2, lon: 288, lev: 32, ilev: 33,\n",
       "                   time: 120)\n",
       "Coordinates:\n",
       "  * lat           (lat) float64 -90.0 -89.06 -88.12 -87.17 ... 88.12 89.06 90.0\n",
       "  * zlon          (zlon) float64 0.0\n",
       "  * lon           (lon) float64 0.0 1.25 2.5 3.75 ... 355.0 356.2 357.5 358.8\n",
       "  * lev           (lev) float64 3.643 7.595 14.36 24.61 ... 957.5 976.3 992.6\n",
       "  * ilev          (ilev) float64 2.255 5.032 10.16 18.56 ... 967.5 985.1 1e+03\n",
       "  * time          (time) object 1850-02-01 00:00:00 ... 1860-01-01 00:00:00\n",
       "Dimensions without coordinates: nbnd\n",
       "Data variables: (12/27)\n",
       "    zlon_bnds     (zlon, nbnd) float64 0.0 358.8\n",
       "    gw            (lat) float64 3.382e-05 0.0002705 ... 0.0002705 3.382e-05\n",
       "    hyam          (lev) float64 0.003643 0.007595 0.01436 ... 0.001989 0.0\n",
       "    hybm          (lev) float64 0.0 0.0 0.0 0.0 ... 0.9251 0.9512 0.9743 0.9926\n",
       "    P0            float64 1e+05\n",
       "    hyai          (ilev) float64 0.002255 0.005032 0.01016 ... 0.003979 0.0 0.0\n",
       "    ...            ...\n",
       "    n2ovmr        (time) float64 2.73e-07 2.73e-07 ... 2.74e-07 2.74e-07\n",
       "    f11vmr        (time) float64 3.211e-11 3.211e-11 ... 3.211e-11 3.211e-11\n",
       "    f12vmr        (time) float64 0.0 0.0 0.0 0.0 0.0 0.0 ... 0.0 0.0 0.0 0.0 0.0\n",
       "    sol_tsi       (time) float64 -1.0 -1.0 -1.0 -1.0 ... -1.0 -1.0 -1.0 -1.0\n",
       "    nsteph        (time) float64 1.488e+03 2.832e+03 ... 1.737e+05 1.752e+05\n",
       "    PRECT         (time, lat, lon) float32 ...\n",
       "Attributes:\n",
       "    Conventions:       CF-1.0\n",
       "    source:            CAM\n",
       "    case:              b.e21.BHISTcmip6.f09_g17.LE2-1001.001\n",
       "    logname:           sunseon\n",
       "    host:              mom1\n",
       "    initial_file:      b.e21.B1850.f09_g17.CMIP6-piControl.001.cam.i.1001-01-...\n",
       "    topography_file:   /mnt/lustre/share/CESM/cesm_input/atm/cam/topo/fv_0.9x...\n",
       "    model_doi_url:     https://doi.org/10.5065/D67H1H0V\n",
       "    time_period_freq:  month_1</pre><div class='xr-wrap' style='display:none'><div class='xr-header'><div class='xr-obj-type'>xarray.Dataset</div></div><ul class='xr-sections'><li class='xr-section-item'><input id='section-19f0c549-9288-4df0-a9e4-7e6697168920' class='xr-section-summary-in' type='checkbox' disabled ><label for='section-19f0c549-9288-4df0-a9e4-7e6697168920' class='xr-section-summary'  title='Expand/collapse section'>Dimensions:</label><div class='xr-section-inline-details'><ul class='xr-dim-list'><li><span class='xr-has-index'>lat</span>: 192</li><li><span class='xr-has-index'>zlon</span>: 1</li><li><span>nbnd</span>: 2</li><li><span class='xr-has-index'>lon</span>: 288</li><li><span class='xr-has-index'>lev</span>: 32</li><li><span class='xr-has-index'>ilev</span>: 33</li><li><span class='xr-has-index'>time</span>: 120</li></ul></div><div class='xr-section-details'></div></li><li class='xr-section-item'><input id='section-907ca1d5-080d-4b1a-a9bc-0de769120906' class='xr-section-summary-in' type='checkbox'  checked><label for='section-907ca1d5-080d-4b1a-a9bc-0de769120906' class='xr-section-summary' >Coordinates: <span>(6)</span></label><div class='xr-section-inline-details'></div><div class='xr-section-details'><ul class='xr-var-list'><li class='xr-var-item'><div class='xr-var-name'><span class='xr-has-index'>lat</span></div><div class='xr-var-dims'>(lat)</div><div class='xr-var-dtype'>float64</div><div class='xr-var-preview xr-preview'>-90.0 -89.06 -88.12 ... 89.06 90.0</div><input id='attrs-b4745466-f8c0-45a3-b3fa-3df00c0afcde' class='xr-var-attrs-in' type='checkbox' ><label for='attrs-b4745466-f8c0-45a3-b3fa-3df00c0afcde' title='Show/Hide attributes'><svg class='icon xr-icon-file-text2'><use xlink:href='#icon-file-text2'></use></svg></label><input id='data-2eda3b01-3d1b-4904-a413-e96de63801e5' class='xr-var-data-in' type='checkbox'><label for='data-2eda3b01-3d1b-4904-a413-e96de63801e5' title='Show/Hide data repr'><svg class='icon xr-icon-database'><use xlink:href='#icon-database'></use></svg></label><div class='xr-var-attrs'><dl class='xr-attrs'><dt><span>long_name :</span></dt><dd>latitude</dd><dt><span>units :</span></dt><dd>degrees_north</dd></dl></div><div class='xr-var-data'><pre>array([-90.      , -89.057592, -88.115183, -87.172775, -86.230366, -85.287958,\n",
       "       -84.34555 , -83.403141, -82.460733, -81.518325, -80.575916, -79.633508,\n",
       "       -78.691099, -77.748691, -76.806283, -75.863874, -74.921466, -73.979058,\n",
       "       -73.036649, -72.094241, -71.151832, -70.209424, -69.267016, -68.324607,\n",
       "       -67.382199, -66.439791, -65.497382, -64.554974, -63.612565, -62.670157,\n",
       "       -61.727749, -60.78534 , -59.842932, -58.900524, -57.958115, -57.015707,\n",
       "       -56.073298, -55.13089 , -54.188482, -53.246073, -52.303665, -51.361257,\n",
       "       -50.418848, -49.47644 , -48.534031, -47.591623, -46.649215, -45.706806,\n",
       "       -44.764398, -43.82199 , -42.879581, -41.937173, -40.994764, -40.052356,\n",
       "       -39.109948, -38.167539, -37.225131, -36.282723, -35.340314, -34.397906,\n",
       "       -33.455497, -32.513089, -31.570681, -30.628272, -29.685864, -28.743455,\n",
       "       -27.801047, -26.858639, -25.91623 , -24.973822, -24.031414, -23.089005,\n",
       "       -22.146597, -21.204188, -20.26178 , -19.319372, -18.376963, -17.434555,\n",
       "       -16.492147, -15.549738, -14.60733 , -13.664921, -12.722513, -11.780105,\n",
       "       -10.837696,  -9.895288,  -8.95288 ,  -8.010471,  -7.068063,  -6.125654,\n",
       "        -5.183246,  -4.240838,  -3.298429,  -2.356021,  -1.413613,  -0.471204,\n",
       "         0.471204,   1.413613,   2.356021,   3.298429,   4.240838,   5.183246,\n",
       "         6.125654,   7.068063,   8.010471,   8.95288 ,   9.895288,  10.837696,\n",
       "        11.780105,  12.722513,  13.664921,  14.60733 ,  15.549738,  16.492147,\n",
       "        17.434555,  18.376963,  19.319372,  20.26178 ,  21.204188,  22.146597,\n",
       "        23.089005,  24.031414,  24.973822,  25.91623 ,  26.858639,  27.801047,\n",
       "        28.743455,  29.685864,  30.628272,  31.570681,  32.513089,  33.455497,\n",
       "        34.397906,  35.340314,  36.282723,  37.225131,  38.167539,  39.109948,\n",
       "        40.052356,  40.994764,  41.937173,  42.879581,  43.82199 ,  44.764398,\n",
       "        45.706806,  46.649215,  47.591623,  48.534031,  49.47644 ,  50.418848,\n",
       "        51.361257,  52.303665,  53.246073,  54.188482,  55.13089 ,  56.073298,\n",
       "        57.015707,  57.958115,  58.900524,  59.842932,  60.78534 ,  61.727749,\n",
       "        62.670157,  63.612565,  64.554974,  65.497382,  66.439791,  67.382199,\n",
       "        68.324607,  69.267016,  70.209424,  71.151832,  72.094241,  73.036649,\n",
       "        73.979058,  74.921466,  75.863874,  76.806283,  77.748691,  78.691099,\n",
       "        79.633508,  80.575916,  81.518325,  82.460733,  83.403141,  84.34555 ,\n",
       "        85.287958,  86.230366,  87.172775,  88.115183,  89.057592,  90.      ])</pre></div></li><li class='xr-var-item'><div class='xr-var-name'><span class='xr-has-index'>zlon</span></div><div class='xr-var-dims'>(zlon)</div><div class='xr-var-dtype'>float64</div><div class='xr-var-preview xr-preview'>0.0</div><input id='attrs-e4f8c50f-0556-44f9-817f-977009227aa7' class='xr-var-attrs-in' type='checkbox' ><label for='attrs-e4f8c50f-0556-44f9-817f-977009227aa7' title='Show/Hide attributes'><svg class='icon xr-icon-file-text2'><use xlink:href='#icon-file-text2'></use></svg></label><input id='data-4eb3254d-3d4b-4da1-bc98-f6d462ec26eb' class='xr-var-data-in' type='checkbox'><label for='data-4eb3254d-3d4b-4da1-bc98-f6d462ec26eb' title='Show/Hide data repr'><svg class='icon xr-icon-database'><use xlink:href='#icon-database'></use></svg></label><div class='xr-var-attrs'><dl class='xr-attrs'><dt><span>long_name :</span></dt><dd>longitude</dd><dt><span>units :</span></dt><dd>degrees_east</dd><dt><span>bounds :</span></dt><dd>zlon_bnds</dd></dl></div><div class='xr-var-data'><pre>array([0.])</pre></div></li><li class='xr-var-item'><div class='xr-var-name'><span class='xr-has-index'>lon</span></div><div class='xr-var-dims'>(lon)</div><div class='xr-var-dtype'>float64</div><div class='xr-var-preview xr-preview'>0.0 1.25 2.5 ... 356.2 357.5 358.8</div><input id='attrs-482bf6fa-26d4-470d-b34a-dc0ae39a70dd' class='xr-var-attrs-in' type='checkbox' ><label for='attrs-482bf6fa-26d4-470d-b34a-dc0ae39a70dd' title='Show/Hide attributes'><svg class='icon xr-icon-file-text2'><use xlink:href='#icon-file-text2'></use></svg></label><input id='data-832094c5-4c3d-4bd4-bcb2-fa44fee76e5e' class='xr-var-data-in' type='checkbox'><label for='data-832094c5-4c3d-4bd4-bcb2-fa44fee76e5e' title='Show/Hide data repr'><svg class='icon xr-icon-database'><use xlink:href='#icon-database'></use></svg></label><div class='xr-var-attrs'><dl class='xr-attrs'><dt><span>long_name :</span></dt><dd>longitude</dd><dt><span>units :</span></dt><dd>degrees_east</dd></dl></div><div class='xr-var-data'><pre>array([  0.  ,   1.25,   2.5 , ..., 356.25, 357.5 , 358.75])</pre></div></li><li class='xr-var-item'><div class='xr-var-name'><span class='xr-has-index'>lev</span></div><div class='xr-var-dims'>(lev)</div><div class='xr-var-dtype'>float64</div><div class='xr-var-preview xr-preview'>3.643 7.595 14.36 ... 976.3 992.6</div><input id='attrs-8dced3bc-122d-4b00-b42a-ed82f13d5a5c' class='xr-var-attrs-in' type='checkbox' ><label for='attrs-8dced3bc-122d-4b00-b42a-ed82f13d5a5c' title='Show/Hide attributes'><svg class='icon xr-icon-file-text2'><use xlink:href='#icon-file-text2'></use></svg></label><input id='data-0efe1b1f-ea17-4c27-b008-0c2a2305fbda' class='xr-var-data-in' type='checkbox'><label for='data-0efe1b1f-ea17-4c27-b008-0c2a2305fbda' title='Show/Hide data repr'><svg class='icon xr-icon-database'><use xlink:href='#icon-database'></use></svg></label><div class='xr-var-attrs'><dl class='xr-attrs'><dt><span>long_name :</span></dt><dd>hybrid level at midpoints (1000*(A+B))</dd><dt><span>units :</span></dt><dd>hPa</dd><dt><span>positive :</span></dt><dd>down</dd><dt><span>standard_name :</span></dt><dd>atmosphere_hybrid_sigma_pressure_coordinate</dd><dt><span>formula_terms :</span></dt><dd>a: hyam b: hybm p0: P0 ps: PS</dd></dl></div><div class='xr-var-data'><pre>array([  3.643466,   7.59482 ,  14.356632,  24.61222 ,  35.92325 ,  43.19375 ,\n",
       "        51.677499,  61.520498,  73.750958,  87.82123 , 103.317127, 121.547241,\n",
       "       142.994039, 168.22508 , 197.908087, 232.828619, 273.910817, 322.241902,\n",
       "       379.100904, 445.992574, 524.687175, 609.778695, 691.38943 , 763.404481,\n",
       "       820.858369, 859.534767, 887.020249, 912.644547, 936.198398, 957.48548 ,\n",
       "       976.325407, 992.556095])</pre></div></li><li class='xr-var-item'><div class='xr-var-name'><span class='xr-has-index'>ilev</span></div><div class='xr-var-dims'>(ilev)</div><div class='xr-var-dtype'>float64</div><div class='xr-var-preview xr-preview'>2.255 5.032 10.16 ... 985.1 1e+03</div><input id='attrs-84667526-296c-44e5-8a65-f2d2c7d76a05' class='xr-var-attrs-in' type='checkbox' ><label for='attrs-84667526-296c-44e5-8a65-f2d2c7d76a05' title='Show/Hide attributes'><svg class='icon xr-icon-file-text2'><use xlink:href='#icon-file-text2'></use></svg></label><input id='data-882bff71-28ef-49c5-8f79-fc06c9782a78' class='xr-var-data-in' type='checkbox'><label for='data-882bff71-28ef-49c5-8f79-fc06c9782a78' title='Show/Hide data repr'><svg class='icon xr-icon-database'><use xlink:href='#icon-database'></use></svg></label><div class='xr-var-attrs'><dl class='xr-attrs'><dt><span>long_name :</span></dt><dd>hybrid level at interfaces (1000*(A+B))</dd><dt><span>units :</span></dt><dd>hPa</dd><dt><span>positive :</span></dt><dd>down</dd><dt><span>standard_name :</span></dt><dd>atmosphere_hybrid_sigma_pressure_coordinate</dd><dt><span>formula_terms :</span></dt><dd>a: hyai b: hybi p0: P0 ps: PS</dd></dl></div><div class='xr-var-data'><pre>array([   2.25524 ,    5.031692,   10.157947,   18.555317,   29.734676,\n",
       "         39.273001,   47.114499,   56.240499,   66.800497,   80.701418,\n",
       "         94.941042,  111.693211,  131.401271,  154.586807,  181.863353,\n",
       "        213.952821,  251.704417,  296.117216,  348.366588,  409.835219,\n",
       "        482.149929,  567.224421,  652.332969,  730.445892,  796.363071,\n",
       "        845.353667,  873.715866,  900.324631,  924.964462,  947.432335,\n",
       "        967.538625,  985.11219 , 1000.      ])</pre></div></li><li class='xr-var-item'><div class='xr-var-name'><span class='xr-has-index'>time</span></div><div class='xr-var-dims'>(time)</div><div class='xr-var-dtype'>object</div><div class='xr-var-preview xr-preview'>1850-02-01 00:00:00 ... 1860-01-...</div><input id='attrs-8c0b9034-cc15-4f27-9331-ad8b2dadab4f' class='xr-var-attrs-in' type='checkbox' ><label for='attrs-8c0b9034-cc15-4f27-9331-ad8b2dadab4f' title='Show/Hide attributes'><svg class='icon xr-icon-file-text2'><use xlink:href='#icon-file-text2'></use></svg></label><input id='data-3a249f52-b881-4b97-a7e7-91d914bfff01' class='xr-var-data-in' type='checkbox'><label for='data-3a249f52-b881-4b97-a7e7-91d914bfff01' title='Show/Hide data repr'><svg class='icon xr-icon-database'><use xlink:href='#icon-database'></use></svg></label><div class='xr-var-attrs'><dl class='xr-attrs'><dt><span>long_name :</span></dt><dd>time</dd><dt><span>bounds :</span></dt><dd>time_bnds</dd></dl></div><div class='xr-var-data'><pre>array([cftime.DatetimeNoLeap(1850, 2, 1, 0, 0, 0, 0),\n",
       "       cftime.DatetimeNoLeap(1850, 3, 1, 0, 0, 0, 0),\n",
       "       cftime.DatetimeNoLeap(1850, 4, 1, 0, 0, 0, 0),\n",
       "       cftime.DatetimeNoLeap(1850, 5, 1, 0, 0, 0, 0),\n",
       "       cftime.DatetimeNoLeap(1850, 6, 1, 0, 0, 0, 0),\n",
       "       cftime.DatetimeNoLeap(1850, 7, 1, 0, 0, 0, 0),\n",
       "       cftime.DatetimeNoLeap(1850, 8, 1, 0, 0, 0, 0),\n",
       "       cftime.DatetimeNoLeap(1850, 9, 1, 0, 0, 0, 0),\n",
       "       cftime.DatetimeNoLeap(1850, 10, 1, 0, 0, 0, 0),\n",
       "       cftime.DatetimeNoLeap(1850, 11, 1, 0, 0, 0, 0),\n",
       "       cftime.DatetimeNoLeap(1850, 12, 1, 0, 0, 0, 0),\n",
       "       cftime.DatetimeNoLeap(1851, 1, 1, 0, 0, 0, 0),\n",
       "       cftime.DatetimeNoLeap(1851, 2, 1, 0, 0, 0, 0),\n",
       "       cftime.DatetimeNoLeap(1851, 3, 1, 0, 0, 0, 0),\n",
       "       cftime.DatetimeNoLeap(1851, 4, 1, 0, 0, 0, 0),\n",
       "       cftime.DatetimeNoLeap(1851, 5, 1, 0, 0, 0, 0),\n",
       "       cftime.DatetimeNoLeap(1851, 6, 1, 0, 0, 0, 0),\n",
       "       cftime.DatetimeNoLeap(1851, 7, 1, 0, 0, 0, 0),\n",
       "       cftime.DatetimeNoLeap(1851, 8, 1, 0, 0, 0, 0),\n",
       "       cftime.DatetimeNoLeap(1851, 9, 1, 0, 0, 0, 0),\n",
       "       cftime.DatetimeNoLeap(1851, 10, 1, 0, 0, 0, 0),\n",
       "       cftime.DatetimeNoLeap(1851, 11, 1, 0, 0, 0, 0),\n",
       "       cftime.DatetimeNoLeap(1851, 12, 1, 0, 0, 0, 0),\n",
       "       cftime.DatetimeNoLeap(1852, 1, 1, 0, 0, 0, 0),\n",
       "       cftime.DatetimeNoLeap(1852, 2, 1, 0, 0, 0, 0),\n",
       "       cftime.DatetimeNoLeap(1852, 3, 1, 0, 0, 0, 0),\n",
       "       cftime.DatetimeNoLeap(1852, 4, 1, 0, 0, 0, 0),\n",
       "       cftime.DatetimeNoLeap(1852, 5, 1, 0, 0, 0, 0),\n",
       "       cftime.DatetimeNoLeap(1852, 6, 1, 0, 0, 0, 0),\n",
       "       cftime.DatetimeNoLeap(1852, 7, 1, 0, 0, 0, 0),\n",
       "       cftime.DatetimeNoLeap(1852, 8, 1, 0, 0, 0, 0),\n",
       "       cftime.DatetimeNoLeap(1852, 9, 1, 0, 0, 0, 0),\n",
       "       cftime.DatetimeNoLeap(1852, 10, 1, 0, 0, 0, 0),\n",
       "       cftime.DatetimeNoLeap(1852, 11, 1, 0, 0, 0, 0),\n",
       "       cftime.DatetimeNoLeap(1852, 12, 1, 0, 0, 0, 0),\n",
       "       cftime.DatetimeNoLeap(1853, 1, 1, 0, 0, 0, 0),\n",
       "       cftime.DatetimeNoLeap(1853, 2, 1, 0, 0, 0, 0),\n",
       "       cftime.DatetimeNoLeap(1853, 3, 1, 0, 0, 0, 0),\n",
       "       cftime.DatetimeNoLeap(1853, 4, 1, 0, 0, 0, 0),\n",
       "       cftime.DatetimeNoLeap(1853, 5, 1, 0, 0, 0, 0),\n",
       "       cftime.DatetimeNoLeap(1853, 6, 1, 0, 0, 0, 0),\n",
       "       cftime.DatetimeNoLeap(1853, 7, 1, 0, 0, 0, 0),\n",
       "       cftime.DatetimeNoLeap(1853, 8, 1, 0, 0, 0, 0),\n",
       "       cftime.DatetimeNoLeap(1853, 9, 1, 0, 0, 0, 0),\n",
       "       cftime.DatetimeNoLeap(1853, 10, 1, 0, 0, 0, 0),\n",
       "       cftime.DatetimeNoLeap(1853, 11, 1, 0, 0, 0, 0),\n",
       "       cftime.DatetimeNoLeap(1853, 12, 1, 0, 0, 0, 0),\n",
       "       cftime.DatetimeNoLeap(1854, 1, 1, 0, 0, 0, 0),\n",
       "       cftime.DatetimeNoLeap(1854, 2, 1, 0, 0, 0, 0),\n",
       "       cftime.DatetimeNoLeap(1854, 3, 1, 0, 0, 0, 0),\n",
       "       cftime.DatetimeNoLeap(1854, 4, 1, 0, 0, 0, 0),\n",
       "       cftime.DatetimeNoLeap(1854, 5, 1, 0, 0, 0, 0),\n",
       "       cftime.DatetimeNoLeap(1854, 6, 1, 0, 0, 0, 0),\n",
       "       cftime.DatetimeNoLeap(1854, 7, 1, 0, 0, 0, 0),\n",
       "       cftime.DatetimeNoLeap(1854, 8, 1, 0, 0, 0, 0),\n",
       "       cftime.DatetimeNoLeap(1854, 9, 1, 0, 0, 0, 0),\n",
       "       cftime.DatetimeNoLeap(1854, 10, 1, 0, 0, 0, 0),\n",
       "       cftime.DatetimeNoLeap(1854, 11, 1, 0, 0, 0, 0),\n",
       "       cftime.DatetimeNoLeap(1854, 12, 1, 0, 0, 0, 0),\n",
       "       cftime.DatetimeNoLeap(1855, 1, 1, 0, 0, 0, 0),\n",
       "       cftime.DatetimeNoLeap(1855, 2, 1, 0, 0, 0, 0),\n",
       "       cftime.DatetimeNoLeap(1855, 3, 1, 0, 0, 0, 0),\n",
       "       cftime.DatetimeNoLeap(1855, 4, 1, 0, 0, 0, 0),\n",
       "       cftime.DatetimeNoLeap(1855, 5, 1, 0, 0, 0, 0),\n",
       "       cftime.DatetimeNoLeap(1855, 6, 1, 0, 0, 0, 0),\n",
       "       cftime.DatetimeNoLeap(1855, 7, 1, 0, 0, 0, 0),\n",
       "       cftime.DatetimeNoLeap(1855, 8, 1, 0, 0, 0, 0),\n",
       "       cftime.DatetimeNoLeap(1855, 9, 1, 0, 0, 0, 0),\n",
       "       cftime.DatetimeNoLeap(1855, 10, 1, 0, 0, 0, 0),\n",
       "       cftime.DatetimeNoLeap(1855, 11, 1, 0, 0, 0, 0),\n",
       "       cftime.DatetimeNoLeap(1855, 12, 1, 0, 0, 0, 0),\n",
       "       cftime.DatetimeNoLeap(1856, 1, 1, 0, 0, 0, 0),\n",
       "       cftime.DatetimeNoLeap(1856, 2, 1, 0, 0, 0, 0),\n",
       "       cftime.DatetimeNoLeap(1856, 3, 1, 0, 0, 0, 0),\n",
       "       cftime.DatetimeNoLeap(1856, 4, 1, 0, 0, 0, 0),\n",
       "       cftime.DatetimeNoLeap(1856, 5, 1, 0, 0, 0, 0),\n",
       "       cftime.DatetimeNoLeap(1856, 6, 1, 0, 0, 0, 0),\n",
       "       cftime.DatetimeNoLeap(1856, 7, 1, 0, 0, 0, 0),\n",
       "       cftime.DatetimeNoLeap(1856, 8, 1, 0, 0, 0, 0),\n",
       "       cftime.DatetimeNoLeap(1856, 9, 1, 0, 0, 0, 0),\n",
       "       cftime.DatetimeNoLeap(1856, 10, 1, 0, 0, 0, 0),\n",
       "       cftime.DatetimeNoLeap(1856, 11, 1, 0, 0, 0, 0),\n",
       "       cftime.DatetimeNoLeap(1856, 12, 1, 0, 0, 0, 0),\n",
       "       cftime.DatetimeNoLeap(1857, 1, 1, 0, 0, 0, 0),\n",
       "       cftime.DatetimeNoLeap(1857, 2, 1, 0, 0, 0, 0),\n",
       "       cftime.DatetimeNoLeap(1857, 3, 1, 0, 0, 0, 0),\n",
       "       cftime.DatetimeNoLeap(1857, 4, 1, 0, 0, 0, 0),\n",
       "       cftime.DatetimeNoLeap(1857, 5, 1, 0, 0, 0, 0),\n",
       "       cftime.DatetimeNoLeap(1857, 6, 1, 0, 0, 0, 0),\n",
       "       cftime.DatetimeNoLeap(1857, 7, 1, 0, 0, 0, 0),\n",
       "       cftime.DatetimeNoLeap(1857, 8, 1, 0, 0, 0, 0),\n",
       "       cftime.DatetimeNoLeap(1857, 9, 1, 0, 0, 0, 0),\n",
       "       cftime.DatetimeNoLeap(1857, 10, 1, 0, 0, 0, 0),\n",
       "       cftime.DatetimeNoLeap(1857, 11, 1, 0, 0, 0, 0),\n",
       "       cftime.DatetimeNoLeap(1857, 12, 1, 0, 0, 0, 0),\n",
       "       cftime.DatetimeNoLeap(1858, 1, 1, 0, 0, 0, 0),\n",
       "       cftime.DatetimeNoLeap(1858, 2, 1, 0, 0, 0, 0),\n",
       "       cftime.DatetimeNoLeap(1858, 3, 1, 0, 0, 0, 0),\n",
       "       cftime.DatetimeNoLeap(1858, 4, 1, 0, 0, 0, 0),\n",
       "       cftime.DatetimeNoLeap(1858, 5, 1, 0, 0, 0, 0),\n",
       "       cftime.DatetimeNoLeap(1858, 6, 1, 0, 0, 0, 0),\n",
       "       cftime.DatetimeNoLeap(1858, 7, 1, 0, 0, 0, 0),\n",
       "       cftime.DatetimeNoLeap(1858, 8, 1, 0, 0, 0, 0),\n",
       "       cftime.DatetimeNoLeap(1858, 9, 1, 0, 0, 0, 0),\n",
       "       cftime.DatetimeNoLeap(1858, 10, 1, 0, 0, 0, 0),\n",
       "       cftime.DatetimeNoLeap(1858, 11, 1, 0, 0, 0, 0),\n",
       "       cftime.DatetimeNoLeap(1858, 12, 1, 0, 0, 0, 0),\n",
       "       cftime.DatetimeNoLeap(1859, 1, 1, 0, 0, 0, 0),\n",
       "       cftime.DatetimeNoLeap(1859, 2, 1, 0, 0, 0, 0),\n",
       "       cftime.DatetimeNoLeap(1859, 3, 1, 0, 0, 0, 0),\n",
       "       cftime.DatetimeNoLeap(1859, 4, 1, 0, 0, 0, 0),\n",
       "       cftime.DatetimeNoLeap(1859, 5, 1, 0, 0, 0, 0),\n",
       "       cftime.DatetimeNoLeap(1859, 6, 1, 0, 0, 0, 0),\n",
       "       cftime.DatetimeNoLeap(1859, 7, 1, 0, 0, 0, 0),\n",
       "       cftime.DatetimeNoLeap(1859, 8, 1, 0, 0, 0, 0),\n",
       "       cftime.DatetimeNoLeap(1859, 9, 1, 0, 0, 0, 0),\n",
       "       cftime.DatetimeNoLeap(1859, 10, 1, 0, 0, 0, 0),\n",
       "       cftime.DatetimeNoLeap(1859, 11, 1, 0, 0, 0, 0),\n",
       "       cftime.DatetimeNoLeap(1859, 12, 1, 0, 0, 0, 0),\n",
       "       cftime.DatetimeNoLeap(1860, 1, 1, 0, 0, 0, 0)], dtype=object)</pre></div></li></ul></div></li><li class='xr-section-item'><input id='section-adaebe0b-3eb1-4bad-935a-f63cb0f4ad9c' class='xr-section-summary-in' type='checkbox'  ><label for='section-adaebe0b-3eb1-4bad-935a-f63cb0f4ad9c' class='xr-section-summary' >Data variables: <span>(27)</span></label><div class='xr-section-inline-details'></div><div class='xr-section-details'><ul class='xr-var-list'><li class='xr-var-item'><div class='xr-var-name'><span>zlon_bnds</span></div><div class='xr-var-dims'>(zlon, nbnd)</div><div class='xr-var-dtype'>float64</div><div class='xr-var-preview xr-preview'>...</div><input id='attrs-423269bc-ec60-4188-8124-ddabcb2a5b04' class='xr-var-attrs-in' type='checkbox' ><label for='attrs-423269bc-ec60-4188-8124-ddabcb2a5b04' title='Show/Hide attributes'><svg class='icon xr-icon-file-text2'><use xlink:href='#icon-file-text2'></use></svg></label><input id='data-293728b8-743f-4f99-bc30-b02fd275602e' class='xr-var-data-in' type='checkbox'><label for='data-293728b8-743f-4f99-bc30-b02fd275602e' title='Show/Hide data repr'><svg class='icon xr-icon-database'><use xlink:href='#icon-database'></use></svg></label><div class='xr-var-attrs'><dl class='xr-attrs'><dt><span>long_name :</span></dt><dd>zlon bounds</dd><dt><span>units :</span></dt><dd>degrees_east</dd></dl></div><div class='xr-var-data'><pre>array([[  0.  , 358.75]])</pre></div></li><li class='xr-var-item'><div class='xr-var-name'><span>gw</span></div><div class='xr-var-dims'>(lat)</div><div class='xr-var-dtype'>float64</div><div class='xr-var-preview xr-preview'>...</div><input id='attrs-66c0c25a-0985-4974-9e72-d5dfabea5a12' class='xr-var-attrs-in' type='checkbox' ><label for='attrs-66c0c25a-0985-4974-9e72-d5dfabea5a12' title='Show/Hide attributes'><svg class='icon xr-icon-file-text2'><use xlink:href='#icon-file-text2'></use></svg></label><input id='data-5b1f87c9-340d-439f-a378-fa83f5baff80' class='xr-var-data-in' type='checkbox'><label for='data-5b1f87c9-340d-439f-a378-fa83f5baff80' title='Show/Hide data repr'><svg class='icon xr-icon-database'><use xlink:href='#icon-database'></use></svg></label><div class='xr-var-attrs'><dl class='xr-attrs'><dt><span>long_name :</span></dt><dd>latitude weights</dd></dl></div><div class='xr-var-data'><pre>array([3.381743e-05, 2.705257e-04, 5.409782e-04, 8.112844e-04, 1.081371e-03,\n",
       "       1.351165e-03, 1.620594e-03, 1.889584e-03, 2.158063e-03, 2.425958e-03,\n",
       "       2.693197e-03, 2.959707e-03, 3.225417e-03, 3.490254e-03, 3.754146e-03,\n",
       "       4.017023e-03, 4.278814e-03, 4.539446e-03, 4.798851e-03, 5.056958e-03,\n",
       "       5.313696e-03, 5.568997e-03, 5.822791e-03, 6.075010e-03, 6.325585e-03,\n",
       "       6.574449e-03, 6.821535e-03, 7.066775e-03, 7.310103e-03, 7.551454e-03,\n",
       "       7.790762e-03, 8.027962e-03, 8.262990e-03, 8.495782e-03, 8.726277e-03,\n",
       "       8.954410e-03, 9.180121e-03, 9.403349e-03, 9.624033e-03, 9.842113e-03,\n",
       "       1.005753e-02, 1.027023e-02, 1.048014e-02, 1.068723e-02, 1.089142e-02,\n",
       "       1.109266e-02, 1.129091e-02, 1.148610e-02, 1.167818e-02, 1.186710e-02,\n",
       "       1.205281e-02, 1.223527e-02, 1.241441e-02, 1.259019e-02, 1.276257e-02,\n",
       "       1.293149e-02, 1.309692e-02, 1.325880e-02, 1.341709e-02, 1.357176e-02,\n",
       "       1.372275e-02, 1.387004e-02, 1.401357e-02, 1.415330e-02, 1.428921e-02,\n",
       "       1.442126e-02, 1.454940e-02, 1.467360e-02, 1.479384e-02, 1.491007e-02,\n",
       "       1.502227e-02, 1.513041e-02, 1.523445e-02, 1.533437e-02, 1.543015e-02,\n",
       "       1.552175e-02, 1.560915e-02, 1.569232e-02, 1.577125e-02, 1.584592e-02,\n",
       "       1.591630e-02, 1.598237e-02, 1.604412e-02, 1.610152e-02, 1.615457e-02,\n",
       "       1.620326e-02, 1.624755e-02, 1.628745e-02, 1.632295e-02, 1.635403e-02,\n",
       "       1.638069e-02, 1.640291e-02, 1.642070e-02, 1.643404e-02, 1.644294e-02,\n",
       "       1.644739e-02, 1.644739e-02, 1.644294e-02, 1.643404e-02, 1.642070e-02,\n",
       "       1.640291e-02, 1.638069e-02, 1.635403e-02, 1.632295e-02, 1.628745e-02,\n",
       "       1.624755e-02, 1.620326e-02, 1.615457e-02, 1.610152e-02, 1.604412e-02,\n",
       "       1.598237e-02, 1.591630e-02, 1.584592e-02, 1.577125e-02, 1.569232e-02,\n",
       "       1.560915e-02, 1.552175e-02, 1.543015e-02, 1.533437e-02, 1.523445e-02,\n",
       "       1.513041e-02, 1.502227e-02, 1.491007e-02, 1.479384e-02, 1.467360e-02,\n",
       "       1.454940e-02, 1.442126e-02, 1.428921e-02, 1.415330e-02, 1.401357e-02,\n",
       "       1.387004e-02, 1.372275e-02, 1.357176e-02, 1.341709e-02, 1.325880e-02,\n",
       "       1.309692e-02, 1.293149e-02, 1.276257e-02, 1.259019e-02, 1.241441e-02,\n",
       "       1.223527e-02, 1.205281e-02, 1.186710e-02, 1.167818e-02, 1.148610e-02,\n",
       "       1.129091e-02, 1.109266e-02, 1.089142e-02, 1.068723e-02, 1.048014e-02,\n",
       "       1.027023e-02, 1.005753e-02, 9.842113e-03, 9.624033e-03, 9.403349e-03,\n",
       "       9.180121e-03, 8.954410e-03, 8.726277e-03, 8.495782e-03, 8.262990e-03,\n",
       "       8.027962e-03, 7.790762e-03, 7.551454e-03, 7.310103e-03, 7.066775e-03,\n",
       "       6.821535e-03, 6.574449e-03, 6.325585e-03, 6.075010e-03, 5.822791e-03,\n",
       "       5.568997e-03, 5.313696e-03, 5.056958e-03, 4.798851e-03, 4.539446e-03,\n",
       "       4.278814e-03, 4.017023e-03, 3.754146e-03, 3.490254e-03, 3.225417e-03,\n",
       "       2.959707e-03, 2.693197e-03, 2.425958e-03, 2.158063e-03, 1.889584e-03,\n",
       "       1.620594e-03, 1.351165e-03, 1.081371e-03, 8.112844e-04, 5.409782e-04,\n",
       "       2.705257e-04, 3.381743e-05])</pre></div></li><li class='xr-var-item'><div class='xr-var-name'><span>hyam</span></div><div class='xr-var-dims'>(lev)</div><div class='xr-var-dtype'>float64</div><div class='xr-var-preview xr-preview'>...</div><input id='attrs-8264ac98-9e6a-441d-8182-95eecb468020' class='xr-var-attrs-in' type='checkbox' ><label for='attrs-8264ac98-9e6a-441d-8182-95eecb468020' title='Show/Hide attributes'><svg class='icon xr-icon-file-text2'><use xlink:href='#icon-file-text2'></use></svg></label><input id='data-6b9ef5da-2f9a-4b63-abd4-93d7060ce254' class='xr-var-data-in' type='checkbox'><label for='data-6b9ef5da-2f9a-4b63-abd4-93d7060ce254' title='Show/Hide data repr'><svg class='icon xr-icon-database'><use xlink:href='#icon-database'></use></svg></label><div class='xr-var-attrs'><dl class='xr-attrs'><dt><span>long_name :</span></dt><dd>hybrid A coefficient at layer midpoints</dd></dl></div><div class='xr-var-data'><pre>array([0.003643, 0.007595, 0.014357, 0.024612, 0.035923, 0.043194, 0.051677,\n",
       "       0.06152 , 0.073751, 0.087821, 0.103317, 0.121547, 0.142994, 0.168225,\n",
       "       0.178231, 0.170324, 0.161023, 0.15008 , 0.137207, 0.122062, 0.104245,\n",
       "       0.084979, 0.066502, 0.050197, 0.037189, 0.028432, 0.022209, 0.016407,\n",
       "       0.011075, 0.006255, 0.001989, 0.      ])</pre></div></li><li class='xr-var-item'><div class='xr-var-name'><span>hybm</span></div><div class='xr-var-dims'>(lev)</div><div class='xr-var-dtype'>float64</div><div class='xr-var-preview xr-preview'>...</div><input id='attrs-b67c04e7-ccb9-47e5-854d-839d2de02dd0' class='xr-var-attrs-in' type='checkbox' ><label for='attrs-b67c04e7-ccb9-47e5-854d-839d2de02dd0' title='Show/Hide attributes'><svg class='icon xr-icon-file-text2'><use xlink:href='#icon-file-text2'></use></svg></label><input id='data-d742ed5f-feef-4a68-9f9b-03cb5c5ba614' class='xr-var-data-in' type='checkbox'><label for='data-d742ed5f-feef-4a68-9f9b-03cb5c5ba614' title='Show/Hide data repr'><svg class='icon xr-icon-database'><use xlink:href='#icon-database'></use></svg></label><div class='xr-var-attrs'><dl class='xr-attrs'><dt><span>long_name :</span></dt><dd>hybrid B coefficient at layer midpoints</dd></dl></div><div class='xr-var-data'><pre>array([0.      , 0.      , 0.      , 0.      , 0.      , 0.      , 0.      ,\n",
       "       0.      , 0.      , 0.      , 0.      , 0.      , 0.      , 0.      ,\n",
       "       0.019677, 0.062504, 0.112888, 0.172162, 0.241894, 0.323931, 0.420442,\n",
       "       0.5248  , 0.624888, 0.713208, 0.78367 , 0.831103, 0.864811, 0.896237,\n",
       "       0.925124, 0.951231, 0.974336, 0.992556])</pre></div></li><li class='xr-var-item'><div class='xr-var-name'><span>P0</span></div><div class='xr-var-dims'>()</div><div class='xr-var-dtype'>float64</div><div class='xr-var-preview xr-preview'>...</div><input id='attrs-5666d83f-434e-447c-8ec0-94ff46c961ce' class='xr-var-attrs-in' type='checkbox' ><label for='attrs-5666d83f-434e-447c-8ec0-94ff46c961ce' title='Show/Hide attributes'><svg class='icon xr-icon-file-text2'><use xlink:href='#icon-file-text2'></use></svg></label><input id='data-ecada800-8a05-4e55-8ca6-b1c695d54ed0' class='xr-var-data-in' type='checkbox'><label for='data-ecada800-8a05-4e55-8ca6-b1c695d54ed0' title='Show/Hide data repr'><svg class='icon xr-icon-database'><use xlink:href='#icon-database'></use></svg></label><div class='xr-var-attrs'><dl class='xr-attrs'><dt><span>long_name :</span></dt><dd>reference pressure</dd><dt><span>units :</span></dt><dd>Pa</dd></dl></div><div class='xr-var-data'><pre>array(100000.)</pre></div></li><li class='xr-var-item'><div class='xr-var-name'><span>hyai</span></div><div class='xr-var-dims'>(ilev)</div><div class='xr-var-dtype'>float64</div><div class='xr-var-preview xr-preview'>...</div><input id='attrs-8821c694-f541-4197-9324-a47bed100849' class='xr-var-attrs-in' type='checkbox' ><label for='attrs-8821c694-f541-4197-9324-a47bed100849' title='Show/Hide attributes'><svg class='icon xr-icon-file-text2'><use xlink:href='#icon-file-text2'></use></svg></label><input id='data-4554811b-af30-4142-aa13-c9c18a7c00ac' class='xr-var-data-in' type='checkbox'><label for='data-4554811b-af30-4142-aa13-c9c18a7c00ac' title='Show/Hide data repr'><svg class='icon xr-icon-database'><use xlink:href='#icon-database'></use></svg></label><div class='xr-var-attrs'><dl class='xr-attrs'><dt><span>long_name :</span></dt><dd>hybrid A coefficient at layer interfaces</dd></dl></div><div class='xr-var-data'><pre>array([0.002255, 0.005032, 0.010158, 0.018555, 0.029735, 0.039273, 0.047114,\n",
       "       0.05624 , 0.0668  , 0.080701, 0.094941, 0.111693, 0.131401, 0.154587,\n",
       "       0.181863, 0.174598, 0.166051, 0.155995, 0.144165, 0.130248, 0.113876,\n",
       "       0.094614, 0.075344, 0.057659, 0.042735, 0.031643, 0.025221, 0.019197,\n",
       "       0.013618, 0.008531, 0.003979, 0.      , 0.      ])</pre></div></li><li class='xr-var-item'><div class='xr-var-name'><span>hybi</span></div><div class='xr-var-dims'>(ilev)</div><div class='xr-var-dtype'>float64</div><div class='xr-var-preview xr-preview'>...</div><input id='attrs-944eba2f-b72b-4fae-abc2-6487f3a83aec' class='xr-var-attrs-in' type='checkbox' ><label for='attrs-944eba2f-b72b-4fae-abc2-6487f3a83aec' title='Show/Hide attributes'><svg class='icon xr-icon-file-text2'><use xlink:href='#icon-file-text2'></use></svg></label><input id='data-bbdc91c5-b88a-416c-8930-e1ca895feb7f' class='xr-var-data-in' type='checkbox'><label for='data-bbdc91c5-b88a-416c-8930-e1ca895feb7f' title='Show/Hide data repr'><svg class='icon xr-icon-database'><use xlink:href='#icon-database'></use></svg></label><div class='xr-var-attrs'><dl class='xr-attrs'><dt><span>long_name :</span></dt><dd>hybrid B coefficient at layer interfaces</dd></dl></div><div class='xr-var-data'><pre>array([0.      , 0.      , 0.      , 0.      , 0.      , 0.      , 0.      ,\n",
       "       0.      , 0.      , 0.      , 0.      , 0.      , 0.      , 0.      ,\n",
       "       0.      , 0.039355, 0.085654, 0.140122, 0.204201, 0.279587, 0.368274,\n",
       "       0.472611, 0.576989, 0.672787, 0.753628, 0.813711, 0.848495, 0.881128,\n",
       "       0.911346, 0.938901, 0.96356 , 0.985112, 1.      ])</pre></div></li><li class='xr-var-item'><div class='xr-var-name'><span>ndbase</span></div><div class='xr-var-dims'>()</div><div class='xr-var-dtype'>float64</div><div class='xr-var-preview xr-preview'>...</div><input id='attrs-9a38f434-5595-4f09-97d8-8ba2df9ee0b7' class='xr-var-attrs-in' type='checkbox' ><label for='attrs-9a38f434-5595-4f09-97d8-8ba2df9ee0b7' title='Show/Hide attributes'><svg class='icon xr-icon-file-text2'><use xlink:href='#icon-file-text2'></use></svg></label><input id='data-08d27686-0ee9-49fa-a6be-c031572bb24e' class='xr-var-data-in' type='checkbox'><label for='data-08d27686-0ee9-49fa-a6be-c031572bb24e' title='Show/Hide data repr'><svg class='icon xr-icon-database'><use xlink:href='#icon-database'></use></svg></label><div class='xr-var-attrs'><dl class='xr-attrs'><dt><span>long_name :</span></dt><dd>base day</dd></dl></div><div class='xr-var-data'><pre>array(0.)</pre></div></li><li class='xr-var-item'><div class='xr-var-name'><span>nsbase</span></div><div class='xr-var-dims'>()</div><div class='xr-var-dtype'>float64</div><div class='xr-var-preview xr-preview'>...</div><input id='attrs-9e0f52a3-d924-4b62-8117-db5179862f57' class='xr-var-attrs-in' type='checkbox' ><label for='attrs-9e0f52a3-d924-4b62-8117-db5179862f57' title='Show/Hide attributes'><svg class='icon xr-icon-file-text2'><use xlink:href='#icon-file-text2'></use></svg></label><input id='data-0707e2b5-2fbe-4109-94ea-ff816d3d832a' class='xr-var-data-in' type='checkbox'><label for='data-0707e2b5-2fbe-4109-94ea-ff816d3d832a' title='Show/Hide data repr'><svg class='icon xr-icon-database'><use xlink:href='#icon-database'></use></svg></label><div class='xr-var-attrs'><dl class='xr-attrs'><dt><span>long_name :</span></dt><dd>seconds of base day</dd></dl></div><div class='xr-var-data'><pre>array(0.)</pre></div></li><li class='xr-var-item'><div class='xr-var-name'><span>nbdate</span></div><div class='xr-var-dims'>()</div><div class='xr-var-dtype'>float64</div><div class='xr-var-preview xr-preview'>...</div><input id='attrs-e168b141-6e20-4a78-8736-16d81f84a55f' class='xr-var-attrs-in' type='checkbox' ><label for='attrs-e168b141-6e20-4a78-8736-16d81f84a55f' title='Show/Hide attributes'><svg class='icon xr-icon-file-text2'><use xlink:href='#icon-file-text2'></use></svg></label><input id='data-70ba6caf-e19e-4804-8d7e-314bc57018c6' class='xr-var-data-in' type='checkbox'><label for='data-70ba6caf-e19e-4804-8d7e-314bc57018c6' title='Show/Hide data repr'><svg class='icon xr-icon-database'><use xlink:href='#icon-database'></use></svg></label><div class='xr-var-attrs'><dl class='xr-attrs'><dt><span>long_name :</span></dt><dd>base date (YYYYMMDD)</dd></dl></div><div class='xr-var-data'><pre>array(18500101.)</pre></div></li><li class='xr-var-item'><div class='xr-var-name'><span>nbsec</span></div><div class='xr-var-dims'>()</div><div class='xr-var-dtype'>float64</div><div class='xr-var-preview xr-preview'>...</div><input id='attrs-521a9b2e-0c53-47e9-81ce-e5fba920673b' class='xr-var-attrs-in' type='checkbox' ><label for='attrs-521a9b2e-0c53-47e9-81ce-e5fba920673b' title='Show/Hide attributes'><svg class='icon xr-icon-file-text2'><use xlink:href='#icon-file-text2'></use></svg></label><input id='data-8bcf00b2-c5f1-4c9c-bcad-b20e437eeb5f' class='xr-var-data-in' type='checkbox'><label for='data-8bcf00b2-c5f1-4c9c-bcad-b20e437eeb5f' title='Show/Hide data repr'><svg class='icon xr-icon-database'><use xlink:href='#icon-database'></use></svg></label><div class='xr-var-attrs'><dl class='xr-attrs'><dt><span>long_name :</span></dt><dd>seconds of base date</dd></dl></div><div class='xr-var-data'><pre>array(0.)</pre></div></li><li class='xr-var-item'><div class='xr-var-name'><span>mdt</span></div><div class='xr-var-dims'>()</div><div class='xr-var-dtype'>float64</div><div class='xr-var-preview xr-preview'>...</div><input id='attrs-3e9df388-6d66-4578-820a-dd10200afde5' class='xr-var-attrs-in' type='checkbox' ><label for='attrs-3e9df388-6d66-4578-820a-dd10200afde5' title='Show/Hide attributes'><svg class='icon xr-icon-file-text2'><use xlink:href='#icon-file-text2'></use></svg></label><input id='data-2dcc21de-b136-4ded-bab1-1f65a09b6152' class='xr-var-data-in' type='checkbox'><label for='data-2dcc21de-b136-4ded-bab1-1f65a09b6152' title='Show/Hide data repr'><svg class='icon xr-icon-database'><use xlink:href='#icon-database'></use></svg></label><div class='xr-var-attrs'><dl class='xr-attrs'><dt><span>long_name :</span></dt><dd>timestep</dd><dt><span>units :</span></dt><dd>s</dd></dl></div><div class='xr-var-data'><pre>array(1800.)</pre></div></li><li class='xr-var-item'><div class='xr-var-name'><span>date</span></div><div class='xr-var-dims'>(time)</div><div class='xr-var-dtype'>float64</div><div class='xr-var-preview xr-preview'>...</div><input id='attrs-8d82cd0f-0494-4fec-8112-61788ad5581e' class='xr-var-attrs-in' type='checkbox' ><label for='attrs-8d82cd0f-0494-4fec-8112-61788ad5581e' title='Show/Hide attributes'><svg class='icon xr-icon-file-text2'><use xlink:href='#icon-file-text2'></use></svg></label><input id='data-3983cd65-d8e7-46d8-9eb1-0410d5c0d9ea' class='xr-var-data-in' type='checkbox'><label for='data-3983cd65-d8e7-46d8-9eb1-0410d5c0d9ea' title='Show/Hide data repr'><svg class='icon xr-icon-database'><use xlink:href='#icon-database'></use></svg></label><div class='xr-var-attrs'><dl class='xr-attrs'><dt><span>long_name :</span></dt><dd>current date (YYYYMMDD)</dd></dl></div><div class='xr-var-data'><pre>array([18500201., 18500301., 18500401., 18500501., 18500601., 18500701.,\n",
       "       18500801., 18500901., 18501001., 18501101., 18501201., 18510101.,\n",
       "       18510201., 18510301., 18510401., 18510501., 18510601., 18510701.,\n",
       "       18510801., 18510901., 18511001., 18511101., 18511201., 18520101.,\n",
       "       18520201., 18520301., 18520401., 18520501., 18520601., 18520701.,\n",
       "       18520801., 18520901., 18521001., 18521101., 18521201., 18530101.,\n",
       "       18530201., 18530301., 18530401., 18530501., 18530601., 18530701.,\n",
       "       18530801., 18530901., 18531001., 18531101., 18531201., 18540101.,\n",
       "       18540201., 18540301., 18540401., 18540501., 18540601., 18540701.,\n",
       "       18540801., 18540901., 18541001., 18541101., 18541201., 18550101.,\n",
       "       18550201., 18550301., 18550401., 18550501., 18550601., 18550701.,\n",
       "       18550801., 18550901., 18551001., 18551101., 18551201., 18560101.,\n",
       "       18560201., 18560301., 18560401., 18560501., 18560601., 18560701.,\n",
       "       18560801., 18560901., 18561001., 18561101., 18561201., 18570101.,\n",
       "       18570201., 18570301., 18570401., 18570501., 18570601., 18570701.,\n",
       "       18570801., 18570901., 18571001., 18571101., 18571201., 18580101.,\n",
       "       18580201., 18580301., 18580401., 18580501., 18580601., 18580701.,\n",
       "       18580801., 18580901., 18581001., 18581101., 18581201., 18590101.,\n",
       "       18590201., 18590301., 18590401., 18590501., 18590601., 18590701.,\n",
       "       18590801., 18590901., 18591001., 18591101., 18591201., 18600101.])</pre></div></li><li class='xr-var-item'><div class='xr-var-name'><span>datesec</span></div><div class='xr-var-dims'>(time)</div><div class='xr-var-dtype'>float64</div><div class='xr-var-preview xr-preview'>...</div><input id='attrs-483757e5-d816-4640-aa49-0ebb0550531d' class='xr-var-attrs-in' type='checkbox' ><label for='attrs-483757e5-d816-4640-aa49-0ebb0550531d' title='Show/Hide attributes'><svg class='icon xr-icon-file-text2'><use xlink:href='#icon-file-text2'></use></svg></label><input id='data-c92308e5-dc37-40b8-a0e7-063c7b45fe77' class='xr-var-data-in' type='checkbox'><label for='data-c92308e5-dc37-40b8-a0e7-063c7b45fe77' title='Show/Hide data repr'><svg class='icon xr-icon-database'><use xlink:href='#icon-database'></use></svg></label><div class='xr-var-attrs'><dl class='xr-attrs'><dt><span>long_name :</span></dt><dd>current seconds of current date</dd></dl></div><div class='xr-var-data'><pre>array([0., 0., 0., 0., 0., 0., 0., 0., 0., 0., 0., 0., 0., 0., 0., 0., 0., 0.,\n",
       "       0., 0., 0., 0., 0., 0., 0., 0., 0., 0., 0., 0., 0., 0., 0., 0., 0., 0.,\n",
       "       0., 0., 0., 0., 0., 0., 0., 0., 0., 0., 0., 0., 0., 0., 0., 0., 0., 0.,\n",
       "       0., 0., 0., 0., 0., 0., 0., 0., 0., 0., 0., 0., 0., 0., 0., 0., 0., 0.,\n",
       "       0., 0., 0., 0., 0., 0., 0., 0., 0., 0., 0., 0., 0., 0., 0., 0., 0., 0.,\n",
       "       0., 0., 0., 0., 0., 0., 0., 0., 0., 0., 0., 0., 0., 0., 0., 0., 0., 0.,\n",
       "       0., 0., 0., 0., 0., 0., 0., 0., 0., 0., 0., 0.])</pre></div></li><li class='xr-var-item'><div class='xr-var-name'><span>time_bnds</span></div><div class='xr-var-dims'>(time, nbnd)</div><div class='xr-var-dtype'>object</div><div class='xr-var-preview xr-preview'>...</div><input id='attrs-678d4a6c-9873-4648-85bd-07f7c14dfa50' class='xr-var-attrs-in' type='checkbox' ><label for='attrs-678d4a6c-9873-4648-85bd-07f7c14dfa50' title='Show/Hide attributes'><svg class='icon xr-icon-file-text2'><use xlink:href='#icon-file-text2'></use></svg></label><input id='data-198606ba-37fd-467e-9b24-5f758e61ccf2' class='xr-var-data-in' type='checkbox'><label for='data-198606ba-37fd-467e-9b24-5f758e61ccf2' title='Show/Hide data repr'><svg class='icon xr-icon-database'><use xlink:href='#icon-database'></use></svg></label><div class='xr-var-attrs'><dl class='xr-attrs'><dt><span>long_name :</span></dt><dd>time interval endpoints</dd></dl></div><div class='xr-var-data'><pre>array([[cftime.DatetimeNoLeap(1850, 1, 1, 0, 0, 0, 0),\n",
       "        cftime.DatetimeNoLeap(1850, 2, 1, 0, 0, 0, 0)],\n",
       "       [cftime.DatetimeNoLeap(1850, 2, 1, 0, 0, 0, 0),\n",
       "        cftime.DatetimeNoLeap(1850, 3, 1, 0, 0, 0, 0)],\n",
       "       [cftime.DatetimeNoLeap(1850, 3, 1, 0, 0, 0, 0),\n",
       "        cftime.DatetimeNoLeap(1850, 4, 1, 0, 0, 0, 0)],\n",
       "       ...,\n",
       "       [cftime.DatetimeNoLeap(1859, 10, 1, 0, 0, 0, 0),\n",
       "        cftime.DatetimeNoLeap(1859, 11, 1, 0, 0, 0, 0)],\n",
       "       [cftime.DatetimeNoLeap(1859, 11, 1, 0, 0, 0, 0),\n",
       "        cftime.DatetimeNoLeap(1859, 12, 1, 0, 0, 0, 0)],\n",
       "       [cftime.DatetimeNoLeap(1859, 12, 1, 0, 0, 0, 0),\n",
       "        cftime.DatetimeNoLeap(1860, 1, 1, 0, 0, 0, 0)]], dtype=object)</pre></div></li><li class='xr-var-item'><div class='xr-var-name'><span>date_written</span></div><div class='xr-var-dims'>(time)</div><div class='xr-var-dtype'>object</div><div class='xr-var-preview xr-preview'>...</div><input id='attrs-05cbd426-07a2-4a5d-877b-4d9849b45979' class='xr-var-attrs-in' type='checkbox' disabled><label for='attrs-05cbd426-07a2-4a5d-877b-4d9849b45979' title='Show/Hide attributes'><svg class='icon xr-icon-file-text2'><use xlink:href='#icon-file-text2'></use></svg></label><input id='data-8b66f788-716c-485c-89b3-9f889b0abd74' class='xr-var-data-in' type='checkbox'><label for='data-8b66f788-716c-485c-89b3-9f889b0abd74' title='Show/Hide data repr'><svg class='icon xr-icon-database'><use xlink:href='#icon-database'></use></svg></label><div class='xr-var-attrs'><dl class='xr-attrs'></dl></div><div class='xr-var-data'><pre>array([b&#x27;01/31/20&#x27;, b&#x27;01/31/20&#x27;, b&#x27;01/31/20&#x27;, b&#x27;01/31/20&#x27;, b&#x27;01/31/20&#x27;,\n",
       "       b&#x27;01/31/20&#x27;, b&#x27;01/31/20&#x27;, b&#x27;01/31/20&#x27;, b&#x27;01/31/20&#x27;, b&#x27;01/31/20&#x27;,\n",
       "       b&#x27;01/31/20&#x27;, b&#x27;01/31/20&#x27;, b&#x27;01/31/20&#x27;, b&#x27;01/31/20&#x27;, b&#x27;01/31/20&#x27;,\n",
       "       b&#x27;01/31/20&#x27;, b&#x27;01/31/20&#x27;, b&#x27;01/31/20&#x27;, b&#x27;01/31/20&#x27;, b&#x27;01/31/20&#x27;,\n",
       "       b&#x27;01/31/20&#x27;, b&#x27;01/31/20&#x27;, b&#x27;01/31/20&#x27;, b&#x27;01/31/20&#x27;, b&#x27;01/31/20&#x27;,\n",
       "       b&#x27;01/31/20&#x27;, b&#x27;01/31/20&#x27;, b&#x27;01/31/20&#x27;, b&#x27;01/31/20&#x27;, b&#x27;01/31/20&#x27;,\n",
       "       b&#x27;01/31/20&#x27;, b&#x27;01/31/20&#x27;, b&#x27;01/31/20&#x27;, b&#x27;01/31/20&#x27;, b&#x27;01/31/20&#x27;,\n",
       "       b&#x27;01/31/20&#x27;, b&#x27;01/31/20&#x27;, b&#x27;01/31/20&#x27;, b&#x27;01/31/20&#x27;, b&#x27;01/31/20&#x27;,\n",
       "       b&#x27;01/31/20&#x27;, b&#x27;01/31/20&#x27;, b&#x27;01/31/20&#x27;, b&#x27;01/31/20&#x27;, b&#x27;01/31/20&#x27;,\n",
       "       b&#x27;01/31/20&#x27;, b&#x27;01/31/20&#x27;, b&#x27;01/31/20&#x27;, b&#x27;01/31/20&#x27;, b&#x27;01/31/20&#x27;,\n",
       "       b&#x27;01/31/20&#x27;, b&#x27;01/31/20&#x27;, b&#x27;01/31/20&#x27;, b&#x27;02/01/20&#x27;, b&#x27;02/01/20&#x27;,\n",
       "       b&#x27;02/01/20&#x27;, b&#x27;02/01/20&#x27;, b&#x27;02/01/20&#x27;, b&#x27;02/01/20&#x27;, b&#x27;02/01/20&#x27;,\n",
       "       b&#x27;02/01/20&#x27;, b&#x27;02/01/20&#x27;, b&#x27;02/01/20&#x27;, b&#x27;02/01/20&#x27;, b&#x27;02/01/20&#x27;,\n",
       "       b&#x27;02/01/20&#x27;, b&#x27;02/01/20&#x27;, b&#x27;02/01/20&#x27;, b&#x27;02/01/20&#x27;, b&#x27;02/01/20&#x27;,\n",
       "       b&#x27;02/01/20&#x27;, b&#x27;02/01/20&#x27;, b&#x27;02/01/20&#x27;, b&#x27;02/01/20&#x27;, b&#x27;02/01/20&#x27;,\n",
       "       b&#x27;02/01/20&#x27;, b&#x27;02/01/20&#x27;, b&#x27;02/01/20&#x27;, b&#x27;02/01/20&#x27;, b&#x27;02/01/20&#x27;,\n",
       "       b&#x27;02/01/20&#x27;, b&#x27;02/01/20&#x27;, b&#x27;02/01/20&#x27;, b&#x27;02/01/20&#x27;, b&#x27;02/01/20&#x27;,\n",
       "       b&#x27;02/01/20&#x27;, b&#x27;02/01/20&#x27;, b&#x27;02/01/20&#x27;, b&#x27;02/01/20&#x27;, b&#x27;02/01/20&#x27;,\n",
       "       b&#x27;02/01/20&#x27;, b&#x27;02/01/20&#x27;, b&#x27;02/01/20&#x27;, b&#x27;02/01/20&#x27;, b&#x27;02/01/20&#x27;,\n",
       "       b&#x27;02/01/20&#x27;, b&#x27;02/01/20&#x27;, b&#x27;02/01/20&#x27;, b&#x27;02/01/20&#x27;, b&#x27;02/01/20&#x27;,\n",
       "       b&#x27;02/01/20&#x27;, b&#x27;02/01/20&#x27;, b&#x27;02/01/20&#x27;, b&#x27;02/01/20&#x27;, b&#x27;02/01/20&#x27;,\n",
       "       b&#x27;02/01/20&#x27;, b&#x27;02/01/20&#x27;, b&#x27;02/01/20&#x27;, b&#x27;02/01/20&#x27;, b&#x27;02/01/20&#x27;,\n",
       "       b&#x27;02/01/20&#x27;, b&#x27;02/01/20&#x27;, b&#x27;02/01/20&#x27;, b&#x27;02/01/20&#x27;, b&#x27;02/01/20&#x27;,\n",
       "       b&#x27;02/01/20&#x27;, b&#x27;02/01/20&#x27;, b&#x27;02/01/20&#x27;, b&#x27;02/01/20&#x27;, b&#x27;02/01/20&#x27;],\n",
       "      dtype=object)</pre></div></li><li class='xr-var-item'><div class='xr-var-name'><span>time_written</span></div><div class='xr-var-dims'>(time)</div><div class='xr-var-dtype'>object</div><div class='xr-var-preview xr-preview'>...</div><input id='attrs-5cd33841-c936-45e3-b9bb-7994a7ed5439' class='xr-var-attrs-in' type='checkbox' disabled><label for='attrs-5cd33841-c936-45e3-b9bb-7994a7ed5439' title='Show/Hide attributes'><svg class='icon xr-icon-file-text2'><use xlink:href='#icon-file-text2'></use></svg></label><input id='data-b026000d-ae09-4274-b8ff-27b5e95040c1' class='xr-var-data-in' type='checkbox'><label for='data-b026000d-ae09-4274-b8ff-27b5e95040c1' title='Show/Hide data repr'><svg class='icon xr-icon-database'><use xlink:href='#icon-database'></use></svg></label><div class='xr-var-attrs'><dl class='xr-attrs'></dl></div><div class='xr-var-data'><pre>array([b&#x27;16:35:01&#x27;, b&#x27;16:43:02&#x27;, b&#x27;16:51:44&#x27;, b&#x27;17:00:07&#x27;, b&#x27;17:08:46&#x27;,\n",
       "       b&#x27;17:17:06&#x27;, b&#x27;17:25:43&#x27;, b&#x27;17:34:24&#x27;, b&#x27;17:42:50&#x27;, b&#x27;17:51:34&#x27;,\n",
       "       b&#x27;17:59:59&#x27;, b&#x27;18:08:42&#x27;, b&#x27;18:17:29&#x27;, b&#x27;18:25:20&#x27;, b&#x27;18:34:01&#x27;,\n",
       "       b&#x27;18:42:25&#x27;, b&#x27;18:51:03&#x27;, b&#x27;18:59:26&#x27;, b&#x27;19:08:06&#x27;, b&#x27;19:16:46&#x27;,\n",
       "       b&#x27;19:25:10&#x27;, b&#x27;19:33:50&#x27;, b&#x27;19:42:19&#x27;, b&#x27;19:51:08&#x27;, b&#x27;19:59:53&#x27;,\n",
       "       b&#x27;20:07:49&#x27;, b&#x27;20:16:29&#x27;, b&#x27;20:24:53&#x27;, b&#x27;20:33:31&#x27;, b&#x27;20:41:51&#x27;,\n",
       "       b&#x27;20:50:31&#x27;, b&#x27;20:59:08&#x27;, b&#x27;21:07:29&#x27;, b&#x27;21:16:09&#x27;, b&#x27;21:24:32&#x27;,\n",
       "       b&#x27;21:33:11&#x27;, b&#x27;21:41:58&#x27;, b&#x27;21:49:50&#x27;, b&#x27;21:58:36&#x27;, b&#x27;22:06:58&#x27;,\n",
       "       b&#x27;22:15:35&#x27;, b&#x27;22:23:56&#x27;, b&#x27;22:32:35&#x27;, b&#x27;22:41:18&#x27;, b&#x27;22:49:45&#x27;,\n",
       "       b&#x27;22:58:26&#x27;, b&#x27;23:06:51&#x27;, b&#x27;23:15:32&#x27;, b&#x27;23:24:23&#x27;, b&#x27;23:32:20&#x27;,\n",
       "       b&#x27;23:41:05&#x27;, b&#x27;23:49:27&#x27;, b&#x27;23:58:07&#x27;, b&#x27;00:06:31&#x27;, b&#x27;00:15:12&#x27;,\n",
       "       b&#x27;00:23:51&#x27;, b&#x27;00:32:16&#x27;, b&#x27;00:40:58&#x27;, b&#x27;00:49:30&#x27;, b&#x27;00:58:07&#x27;,\n",
       "       b&#x27;01:06:51&#x27;, b&#x27;01:14:46&#x27;, b&#x27;01:23:27&#x27;, b&#x27;01:31:50&#x27;, b&#x27;01:40:30&#x27;,\n",
       "       b&#x27;01:48:52&#x27;, b&#x27;01:57:33&#x27;, b&#x27;02:06:15&#x27;, b&#x27;02:14:46&#x27;, b&#x27;02:23:38&#x27;,\n",
       "       b&#x27;02:32:08&#x27;, b&#x27;02:40:50&#x27;, b&#x27;02:49:34&#x27;, b&#x27;02:57:34&#x27;, b&#x27;03:06:19&#x27;,\n",
       "       b&#x27;03:14:41&#x27;, b&#x27;03:23:17&#x27;, b&#x27;03:31:37&#x27;, b&#x27;03:40:13&#x27;, b&#x27;03:48:56&#x27;,\n",
       "       b&#x27;03:57:27&#x27;, b&#x27;04:06:15&#x27;, b&#x27;04:14:43&#x27;, b&#x27;04:23:24&#x27;, b&#x27;04:32:04&#x27;,\n",
       "       b&#x27;04:40:03&#x27;, b&#x27;04:48:47&#x27;, b&#x27;04:57:11&#x27;, b&#x27;05:05:50&#x27;, b&#x27;05:14:15&#x27;,\n",
       "       b&#x27;05:22:55&#x27;, b&#x27;05:31:40&#x27;, b&#x27;05:40:07&#x27;, b&#x27;05:48:50&#x27;, b&#x27;05:57:23&#x27;,\n",
       "       b&#x27;06:06:06&#x27;, b&#x27;06:14:58&#x27;, b&#x27;06:22:49&#x27;, b&#x27;06:31:28&#x27;, b&#x27;06:39:50&#x27;,\n",
       "       b&#x27;06:48:36&#x27;, b&#x27;06:57:11&#x27;, b&#x27;07:05:47&#x27;, b&#x27;07:14:35&#x27;, b&#x27;07:23:06&#x27;,\n",
       "       b&#x27;07:31:48&#x27;, b&#x27;07:40:12&#x27;, b&#x27;07:49:03&#x27;, b&#x27;07:57:47&#x27;, b&#x27;08:05:43&#x27;,\n",
       "       b&#x27;08:14:28&#x27;, b&#x27;08:22:50&#x27;, b&#x27;08:31:29&#x27;, b&#x27;08:39:51&#x27;, b&#x27;08:48:31&#x27;,\n",
       "       b&#x27;08:57:15&#x27;, b&#x27;09:05:39&#x27;, b&#x27;09:14:22&#x27;, b&#x27;09:22:55&#x27;, b&#x27;09:31:39&#x27;],\n",
       "      dtype=object)</pre></div></li><li class='xr-var-item'><div class='xr-var-name'><span>ndcur</span></div><div class='xr-var-dims'>(time)</div><div class='xr-var-dtype'>float64</div><div class='xr-var-preview xr-preview'>...</div><input id='attrs-dea34f09-10c8-441c-827c-a1c31fc31c3f' class='xr-var-attrs-in' type='checkbox' ><label for='attrs-dea34f09-10c8-441c-827c-a1c31fc31c3f' title='Show/Hide attributes'><svg class='icon xr-icon-file-text2'><use xlink:href='#icon-file-text2'></use></svg></label><input id='data-77a9c097-01b8-4992-aaa2-c19abda4cb97' class='xr-var-data-in' type='checkbox'><label for='data-77a9c097-01b8-4992-aaa2-c19abda4cb97' title='Show/Hide data repr'><svg class='icon xr-icon-database'><use xlink:href='#icon-database'></use></svg></label><div class='xr-var-attrs'><dl class='xr-attrs'><dt><span>long_name :</span></dt><dd>current day (from base day)</dd></dl></div><div class='xr-var-data'><pre>array([  31.,   59.,   90.,  120.,  151.,  181.,  212.,  243.,  273.,  304.,\n",
       "        334.,  365.,  396.,  424.,  455.,  485.,  516.,  546.,  577.,  608.,\n",
       "        638.,  669.,  699.,  730.,  761.,  789.,  820.,  850.,  881.,  911.,\n",
       "        942.,  973., 1003., 1034., 1064., 1095., 1126., 1154., 1185., 1215.,\n",
       "       1246., 1276., 1307., 1338., 1368., 1399., 1429., 1460., 1491., 1519.,\n",
       "       1550., 1580., 1611., 1641., 1672., 1703., 1733., 1764., 1794., 1825.,\n",
       "       1856., 1884., 1915., 1945., 1976., 2006., 2037., 2068., 2098., 2129.,\n",
       "       2159., 2190., 2221., 2249., 2280., 2310., 2341., 2371., 2402., 2433.,\n",
       "       2463., 2494., 2524., 2555., 2586., 2614., 2645., 2675., 2706., 2736.,\n",
       "       2767., 2798., 2828., 2859., 2889., 2920., 2951., 2979., 3010., 3040.,\n",
       "       3071., 3101., 3132., 3163., 3193., 3224., 3254., 3285., 3316., 3344.,\n",
       "       3375., 3405., 3436., 3466., 3497., 3528., 3558., 3589., 3619., 3650.])</pre></div></li><li class='xr-var-item'><div class='xr-var-name'><span>nscur</span></div><div class='xr-var-dims'>(time)</div><div class='xr-var-dtype'>float64</div><div class='xr-var-preview xr-preview'>...</div><input id='attrs-34e35e6f-ad6a-471a-bdbb-2c1692f2469c' class='xr-var-attrs-in' type='checkbox' ><label for='attrs-34e35e6f-ad6a-471a-bdbb-2c1692f2469c' title='Show/Hide attributes'><svg class='icon xr-icon-file-text2'><use xlink:href='#icon-file-text2'></use></svg></label><input id='data-d423444b-78e4-456b-946d-25254bff1683' class='xr-var-data-in' type='checkbox'><label for='data-d423444b-78e4-456b-946d-25254bff1683' title='Show/Hide data repr'><svg class='icon xr-icon-database'><use xlink:href='#icon-database'></use></svg></label><div class='xr-var-attrs'><dl class='xr-attrs'><dt><span>long_name :</span></dt><dd>current seconds of current day</dd></dl></div><div class='xr-var-data'><pre>array([0., 0., 0., 0., 0., 0., 0., 0., 0., 0., 0., 0., 0., 0., 0., 0., 0., 0.,\n",
       "       0., 0., 0., 0., 0., 0., 0., 0., 0., 0., 0., 0., 0., 0., 0., 0., 0., 0.,\n",
       "       0., 0., 0., 0., 0., 0., 0., 0., 0., 0., 0., 0., 0., 0., 0., 0., 0., 0.,\n",
       "       0., 0., 0., 0., 0., 0., 0., 0., 0., 0., 0., 0., 0., 0., 0., 0., 0., 0.,\n",
       "       0., 0., 0., 0., 0., 0., 0., 0., 0., 0., 0., 0., 0., 0., 0., 0., 0., 0.,\n",
       "       0., 0., 0., 0., 0., 0., 0., 0., 0., 0., 0., 0., 0., 0., 0., 0., 0., 0.,\n",
       "       0., 0., 0., 0., 0., 0., 0., 0., 0., 0., 0., 0.])</pre></div></li><li class='xr-var-item'><div class='xr-var-name'><span>co2vmr</span></div><div class='xr-var-dims'>(time)</div><div class='xr-var-dtype'>float64</div><div class='xr-var-preview xr-preview'>...</div><input id='attrs-95f06fcc-f0df-4587-b491-cbe535545538' class='xr-var-attrs-in' type='checkbox' ><label for='attrs-95f06fcc-f0df-4587-b491-cbe535545538' title='Show/Hide attributes'><svg class='icon xr-icon-file-text2'><use xlink:href='#icon-file-text2'></use></svg></label><input id='data-22849c8d-588a-4cc4-8e9e-445bf2ed4369' class='xr-var-data-in' type='checkbox'><label for='data-22849c8d-588a-4cc4-8e9e-445bf2ed4369' title='Show/Hide data repr'><svg class='icon xr-icon-database'><use xlink:href='#icon-database'></use></svg></label><div class='xr-var-attrs'><dl class='xr-attrs'><dt><span>long_name :</span></dt><dd>co2 volume mixing ratio</dd></dl></div><div class='xr-var-data'><pre>array([0.000284, 0.000284, 0.000284, 0.000284, 0.000284, 0.000284, 0.000284,\n",
       "       0.000284, 0.000284, 0.000284, 0.000284, 0.000284, 0.000284, 0.000284,\n",
       "       0.000284, 0.000284, 0.000284, 0.000284, 0.000284, 0.000284, 0.000284,\n",
       "       0.000285, 0.000285, 0.000285, 0.000285, 0.000285, 0.000285, 0.000285,\n",
       "       0.000285, 0.000285, 0.000285, 0.000285, 0.000285, 0.000285, 0.000285,\n",
       "       0.000285, 0.000285, 0.000285, 0.000285, 0.000285, 0.000285, 0.000285,\n",
       "       0.000285, 0.000285, 0.000285, 0.000285, 0.000285, 0.000285, 0.000285,\n",
       "       0.000285, 0.000285, 0.000285, 0.000285, 0.000285, 0.000285, 0.000285,\n",
       "       0.000285, 0.000285, 0.000285, 0.000285, 0.000285, 0.000285, 0.000285,\n",
       "       0.000285, 0.000285, 0.000285, 0.000285, 0.000285, 0.000285, 0.000285,\n",
       "       0.000285, 0.000285, 0.000285, 0.000285, 0.000285, 0.000285, 0.000285,\n",
       "       0.000285, 0.000285, 0.000285, 0.000285, 0.000285, 0.000285, 0.000285,\n",
       "       0.000285, 0.000285, 0.000285, 0.000285, 0.000285, 0.000285, 0.000285,\n",
       "       0.000285, 0.000285, 0.000285, 0.000285, 0.000285, 0.000285, 0.000285,\n",
       "       0.000285, 0.000285, 0.000285, 0.000285, 0.000285, 0.000285, 0.000285,\n",
       "       0.000285, 0.000285, 0.000285, 0.000285, 0.000285, 0.000286, 0.000286,\n",
       "       0.000286, 0.000286, 0.000286, 0.000286, 0.000286, 0.000286, 0.000286,\n",
       "       0.000286])</pre></div></li><li class='xr-var-item'><div class='xr-var-name'><span>ch4vmr</span></div><div class='xr-var-dims'>(time)</div><div class='xr-var-dtype'>float64</div><div class='xr-var-preview xr-preview'>...</div><input id='attrs-20c62148-a817-4f08-8e19-b3c54b75801f' class='xr-var-attrs-in' type='checkbox' ><label for='attrs-20c62148-a817-4f08-8e19-b3c54b75801f' title='Show/Hide attributes'><svg class='icon xr-icon-file-text2'><use xlink:href='#icon-file-text2'></use></svg></label><input id='data-e9f060c8-ceb6-4581-ac6d-3c15cca9c081' class='xr-var-data-in' type='checkbox'><label for='data-e9f060c8-ceb6-4581-ac6d-3c15cca9c081' title='Show/Hide data repr'><svg class='icon xr-icon-database'><use xlink:href='#icon-database'></use></svg></label><div class='xr-var-attrs'><dl class='xr-attrs'><dt><span>long_name :</span></dt><dd>ch4 volume mixing ratio</dd></dl></div><div class='xr-var-data'><pre>array([8.082350e-07, 8.082376e-07, 8.082405e-07, 8.082432e-07, 8.082461e-07,\n",
       "       8.082489e-07, 8.082625e-07, 8.082765e-07, 8.082901e-07, 8.083041e-07,\n",
       "       8.083177e-07, 8.083317e-07, 8.083457e-07, 8.083583e-07, 8.083723e-07,\n",
       "       8.083859e-07, 8.083999e-07, 8.084135e-07, 8.084755e-07, 8.085391e-07,\n",
       "       8.086007e-07, 8.086643e-07, 8.087259e-07, 8.087895e-07, 8.088531e-07,\n",
       "       8.089106e-07, 8.089742e-07, 8.090358e-07, 8.090994e-07, 8.091609e-07,\n",
       "       8.092650e-07, 8.093704e-07, 8.094724e-07, 8.095778e-07, 8.096798e-07,\n",
       "       8.097852e-07, 8.098906e-07, 8.099858e-07, 8.100912e-07, 8.101932e-07,\n",
       "       8.102987e-07, 8.104007e-07, 8.105132e-07, 8.106260e-07, 8.107352e-07,\n",
       "       8.108480e-07, 8.109572e-07, 8.110700e-07, 8.111828e-07, 8.112846e-07,\n",
       "       8.113974e-07, 8.115066e-07, 8.116194e-07, 8.117286e-07, 8.118637e-07,\n",
       "       8.119995e-07, 8.121309e-07, 8.122668e-07, 8.123982e-07, 8.125341e-07,\n",
       "       8.126699e-07, 8.127926e-07, 8.129284e-07, 8.130599e-07, 8.131957e-07,\n",
       "       8.133272e-07, 8.134519e-07, 8.135763e-07, 8.136966e-07, 8.138210e-07,\n",
       "       8.139413e-07, 8.140657e-07, 8.141900e-07, 8.143024e-07, 8.144267e-07,\n",
       "       8.145471e-07, 8.146714e-07, 8.147918e-07, 8.149319e-07, 8.150726e-07,\n",
       "       8.152088e-07, 8.153495e-07, 8.154856e-07, 8.156263e-07, 8.157670e-07,\n",
       "       8.158941e-07, 8.160348e-07, 8.161709e-07, 8.163116e-07, 8.164478e-07,\n",
       "       8.166087e-07, 8.167703e-07, 8.169267e-07, 8.170883e-07, 8.172447e-07,\n",
       "       8.174063e-07, 8.175679e-07, 8.177138e-07, 8.178754e-07, 8.180318e-07,\n",
       "       8.181934e-07, 8.183498e-07, 8.185228e-07, 8.186961e-07, 8.188639e-07,\n",
       "       8.190372e-07, 8.192050e-07, 8.193783e-07, 8.195517e-07, 8.197083e-07,\n",
       "       8.198816e-07, 8.200494e-07, 8.202227e-07, 8.203905e-07, 8.205535e-07,\n",
       "       8.207163e-07, 8.208738e-07, 8.210365e-07, 8.211940e-07, 8.213568e-07])</pre></div></li><li class='xr-var-item'><div class='xr-var-name'><span>n2ovmr</span></div><div class='xr-var-dims'>(time)</div><div class='xr-var-dtype'>float64</div><div class='xr-var-preview xr-preview'>...</div><input id='attrs-7431d38c-7ad9-4605-88a8-afaf5552549e' class='xr-var-attrs-in' type='checkbox' ><label for='attrs-7431d38c-7ad9-4605-88a8-afaf5552549e' title='Show/Hide attributes'><svg class='icon xr-icon-file-text2'><use xlink:href='#icon-file-text2'></use></svg></label><input id='data-57d18763-2073-42b0-bbeb-e24dd414b0b6' class='xr-var-data-in' type='checkbox'><label for='data-57d18763-2073-42b0-bbeb-e24dd414b0b6' title='Show/Hide data repr'><svg class='icon xr-icon-database'><use xlink:href='#icon-database'></use></svg></label><div class='xr-var-attrs'><dl class='xr-attrs'><dt><span>long_name :</span></dt><dd>n2o volume mixing ratio</dd></dl></div><div class='xr-var-data'><pre>array([2.729934e-07, 2.729985e-07, 2.730042e-07, 2.730097e-07, 2.730155e-07,\n",
       "       2.730210e-07, 2.730271e-07, 2.730333e-07, 2.730393e-07, 2.730455e-07,\n",
       "       2.730515e-07, 2.730577e-07, 2.730639e-07, 2.730694e-07, 2.730756e-07,\n",
       "       2.730816e-07, 2.730878e-07, 2.730938e-07, 2.731001e-07, 2.731063e-07,\n",
       "       2.731124e-07, 2.731187e-07, 2.731248e-07, 2.731311e-07, 2.731373e-07,\n",
       "       2.731430e-07, 2.731493e-07, 2.731554e-07, 2.731616e-07, 2.731677e-07,\n",
       "       2.731758e-07, 2.731840e-07, 2.731919e-07, 2.732001e-07, 2.732080e-07,\n",
       "       2.732161e-07, 2.732243e-07, 2.732317e-07, 2.732398e-07, 2.732477e-07,\n",
       "       2.732559e-07, 2.732638e-07, 2.732722e-07, 2.732806e-07, 2.732887e-07,\n",
       "       2.732971e-07, 2.733053e-07, 2.733137e-07, 2.733221e-07, 2.733296e-07,\n",
       "       2.733380e-07, 2.733462e-07, 2.733546e-07, 2.733627e-07, 2.733718e-07,\n",
       "       2.733809e-07, 2.733897e-07, 2.733987e-07, 2.734075e-07, 2.734166e-07,\n",
       "       2.734257e-07, 2.734339e-07, 2.734430e-07, 2.734518e-07, 2.734609e-07,\n",
       "       2.734697e-07, 2.734788e-07, 2.734880e-07, 2.734969e-07, 2.735061e-07,\n",
       "       2.735150e-07, 2.735242e-07, 2.735333e-07, 2.735416e-07, 2.735508e-07,\n",
       "       2.735597e-07, 2.735689e-07, 2.735778e-07, 2.735860e-07, 2.735943e-07,\n",
       "       2.736022e-07, 2.736105e-07, 2.736184e-07, 2.736267e-07, 2.736349e-07,\n",
       "       2.736423e-07, 2.736506e-07, 2.736586e-07, 2.736668e-07, 2.736748e-07,\n",
       "       2.736817e-07, 2.736886e-07, 2.736952e-07, 2.737021e-07, 2.737087e-07,\n",
       "       2.737156e-07, 2.737225e-07, 2.737287e-07, 2.737356e-07, 2.737422e-07,\n",
       "       2.737491e-07, 2.737558e-07, 2.737674e-07, 2.737792e-07, 2.737907e-07,\n",
       "       2.738025e-07, 2.738139e-07, 2.738257e-07, 2.738375e-07, 2.738481e-07,\n",
       "       2.738600e-07, 2.738714e-07, 2.738832e-07, 2.738946e-07, 2.739082e-07,\n",
       "       2.739219e-07, 2.739351e-07, 2.739488e-07, 2.739620e-07, 2.739757e-07])</pre></div></li><li class='xr-var-item'><div class='xr-var-name'><span>f11vmr</span></div><div class='xr-var-dims'>(time)</div><div class='xr-var-dtype'>float64</div><div class='xr-var-preview xr-preview'>...</div><input id='attrs-a01e5eb0-3d35-4e8a-b5d7-b10888ec73c5' class='xr-var-attrs-in' type='checkbox' ><label for='attrs-a01e5eb0-3d35-4e8a-b5d7-b10888ec73c5' title='Show/Hide attributes'><svg class='icon xr-icon-file-text2'><use xlink:href='#icon-file-text2'></use></svg></label><input id='data-ce8f7164-e5b4-447d-a721-bfcdb09aab88' class='xr-var-data-in' type='checkbox'><label for='data-ce8f7164-e5b4-447d-a721-bfcdb09aab88' title='Show/Hide data repr'><svg class='icon xr-icon-database'><use xlink:href='#icon-database'></use></svg></label><div class='xr-var-attrs'><dl class='xr-attrs'><dt><span>long_name :</span></dt><dd>f11 volume mixing ratio</dd></dl></div><div class='xr-var-data'><pre>array([3.211021e-11, 3.211021e-11, 3.211021e-11, 3.211021e-11, 3.211021e-11,\n",
       "       3.211021e-11, 3.211021e-11, 3.211021e-11, 3.211021e-11, 3.211021e-11,\n",
       "       3.211021e-11, 3.211021e-11, 3.211021e-11, 3.211021e-11, 3.211021e-11,\n",
       "       3.211021e-11, 3.211021e-11, 3.211021e-11, 3.211021e-11, 3.211021e-11,\n",
       "       3.211021e-11, 3.211021e-11, 3.211021e-11, 3.211021e-11, 3.211021e-11,\n",
       "       3.211021e-11, 3.211022e-11, 3.211022e-11, 3.211022e-11, 3.211022e-11,\n",
       "       3.211022e-11, 3.211022e-11, 3.211022e-11, 3.211022e-11, 3.211022e-11,\n",
       "       3.211022e-11, 3.211022e-11, 3.211022e-11, 3.211023e-11, 3.211023e-11,\n",
       "       3.211023e-11, 3.211023e-11, 3.211023e-11, 3.211023e-11, 3.211023e-11,\n",
       "       3.211023e-11, 3.211023e-11, 3.211023e-11, 3.211023e-11, 3.211023e-11,\n",
       "       3.211023e-11, 3.211023e-11, 3.211023e-11, 3.211023e-11, 3.211023e-11,\n",
       "       3.211023e-11, 3.211023e-11, 3.211023e-11, 3.211024e-11, 3.211024e-11,\n",
       "       3.211024e-11, 3.211024e-11, 3.211024e-11, 3.211024e-11, 3.211024e-11,\n",
       "       3.211024e-11, 3.211024e-11, 3.211024e-11, 3.211024e-11, 3.211025e-11,\n",
       "       3.211025e-11, 3.211025e-11, 3.211025e-11, 3.211025e-11, 3.211025e-11,\n",
       "       3.211025e-11, 3.211025e-11, 3.211025e-11, 3.211025e-11, 3.211025e-11,\n",
       "       3.211025e-11, 3.211025e-11, 3.211025e-11, 3.211025e-11, 3.211025e-11,\n",
       "       3.211025e-11, 3.211025e-11, 3.211025e-11, 3.211025e-11, 3.211025e-11,\n",
       "       3.211025e-11, 3.211025e-11, 3.211025e-11, 3.211026e-11, 3.211026e-11,\n",
       "       3.211026e-11, 3.211027e-11, 3.211027e-11, 3.211027e-11, 3.211027e-11,\n",
       "       3.211028e-11, 3.211028e-11, 3.211028e-11, 3.211028e-11, 3.211028e-11,\n",
       "       3.211028e-11, 3.211028e-11, 3.211028e-11, 3.211028e-11, 3.211028e-11,\n",
       "       3.211028e-11, 3.211028e-11, 3.211028e-11, 3.211028e-11, 3.211028e-11,\n",
       "       3.211029e-11, 3.211029e-11, 3.211029e-11, 3.211029e-11, 3.211029e-11])</pre></div></li><li class='xr-var-item'><div class='xr-var-name'><span>f12vmr</span></div><div class='xr-var-dims'>(time)</div><div class='xr-var-dtype'>float64</div><div class='xr-var-preview xr-preview'>...</div><input id='attrs-a9ee3e53-b9d9-481d-acca-0cb8c89d1c78' class='xr-var-attrs-in' type='checkbox' ><label for='attrs-a9ee3e53-b9d9-481d-acca-0cb8c89d1c78' title='Show/Hide attributes'><svg class='icon xr-icon-file-text2'><use xlink:href='#icon-file-text2'></use></svg></label><input id='data-a3813ad6-6418-4a90-8c2f-68f65a9f446f' class='xr-var-data-in' type='checkbox'><label for='data-a3813ad6-6418-4a90-8c2f-68f65a9f446f' title='Show/Hide data repr'><svg class='icon xr-icon-database'><use xlink:href='#icon-database'></use></svg></label><div class='xr-var-attrs'><dl class='xr-attrs'><dt><span>long_name :</span></dt><dd>f12 volume mixing ratio</dd></dl></div><div class='xr-var-data'><pre>array([0., 0., 0., 0., 0., 0., 0., 0., 0., 0., 0., 0., 0., 0., 0., 0., 0., 0.,\n",
       "       0., 0., 0., 0., 0., 0., 0., 0., 0., 0., 0., 0., 0., 0., 0., 0., 0., 0.,\n",
       "       0., 0., 0., 0., 0., 0., 0., 0., 0., 0., 0., 0., 0., 0., 0., 0., 0., 0.,\n",
       "       0., 0., 0., 0., 0., 0., 0., 0., 0., 0., 0., 0., 0., 0., 0., 0., 0., 0.,\n",
       "       0., 0., 0., 0., 0., 0., 0., 0., 0., 0., 0., 0., 0., 0., 0., 0., 0., 0.,\n",
       "       0., 0., 0., 0., 0., 0., 0., 0., 0., 0., 0., 0., 0., 0., 0., 0., 0., 0.,\n",
       "       0., 0., 0., 0., 0., 0., 0., 0., 0., 0., 0., 0.])</pre></div></li><li class='xr-var-item'><div class='xr-var-name'><span>sol_tsi</span></div><div class='xr-var-dims'>(time)</div><div class='xr-var-dtype'>float64</div><div class='xr-var-preview xr-preview'>...</div><input id='attrs-2836276c-540c-41e4-9a22-6738e6323fb8' class='xr-var-attrs-in' type='checkbox' ><label for='attrs-2836276c-540c-41e4-9a22-6738e6323fb8' title='Show/Hide attributes'><svg class='icon xr-icon-file-text2'><use xlink:href='#icon-file-text2'></use></svg></label><input id='data-4a5d2149-cd25-4153-8bb3-71fae0bcf92d' class='xr-var-data-in' type='checkbox'><label for='data-4a5d2149-cd25-4153-8bb3-71fae0bcf92d' title='Show/Hide data repr'><svg class='icon xr-icon-database'><use xlink:href='#icon-database'></use></svg></label><div class='xr-var-attrs'><dl class='xr-attrs'><dt><span>long_name :</span></dt><dd>total solar irradiance</dd><dt><span>units :</span></dt><dd>W/m2</dd></dl></div><div class='xr-var-data'><pre>array([-1., -1., -1., -1., -1., -1., -1., -1., -1., -1., -1., -1., -1., -1.,\n",
       "       -1., -1., -1., -1., -1., -1., -1., -1., -1., -1., -1., -1., -1., -1.,\n",
       "       -1., -1., -1., -1., -1., -1., -1., -1., -1., -1., -1., -1., -1., -1.,\n",
       "       -1., -1., -1., -1., -1., -1., -1., -1., -1., -1., -1., -1., -1., -1.,\n",
       "       -1., -1., -1., -1., -1., -1., -1., -1., -1., -1., -1., -1., -1., -1.,\n",
       "       -1., -1., -1., -1., -1., -1., -1., -1., -1., -1., -1., -1., -1., -1.,\n",
       "       -1., -1., -1., -1., -1., -1., -1., -1., -1., -1., -1., -1., -1., -1.,\n",
       "       -1., -1., -1., -1., -1., -1., -1., -1., -1., -1., -1., -1., -1., -1.,\n",
       "       -1., -1., -1., -1., -1., -1., -1., -1.])</pre></div></li><li class='xr-var-item'><div class='xr-var-name'><span>nsteph</span></div><div class='xr-var-dims'>(time)</div><div class='xr-var-dtype'>float64</div><div class='xr-var-preview xr-preview'>...</div><input id='attrs-f46d7c5c-3b09-4efb-8f7d-1b067650fab2' class='xr-var-attrs-in' type='checkbox' ><label for='attrs-f46d7c5c-3b09-4efb-8f7d-1b067650fab2' title='Show/Hide attributes'><svg class='icon xr-icon-file-text2'><use xlink:href='#icon-file-text2'></use></svg></label><input id='data-a837abd6-3156-4247-ab16-ae9f45053970' class='xr-var-data-in' type='checkbox'><label for='data-a837abd6-3156-4247-ab16-ae9f45053970' title='Show/Hide data repr'><svg class='icon xr-icon-database'><use xlink:href='#icon-database'></use></svg></label><div class='xr-var-attrs'><dl class='xr-attrs'><dt><span>long_name :</span></dt><dd>current timestep</dd></dl></div><div class='xr-var-data'><pre>array([  1488.,   2832.,   4320.,   5760.,   7248.,   8688.,  10176.,  11664.,\n",
       "        13104.,  14592.,  16032.,  17520.,  19008.,  20352.,  21840.,  23280.,\n",
       "        24768.,  26208.,  27696.,  29184.,  30624.,  32112.,  33552.,  35040.,\n",
       "        36528.,  37872.,  39360.,  40800.,  42288.,  43728.,  45216.,  46704.,\n",
       "        48144.,  49632.,  51072.,  52560.,  54048.,  55392.,  56880.,  58320.,\n",
       "        59808.,  61248.,  62736.,  64224.,  65664.,  67152.,  68592.,  70080.,\n",
       "        71568.,  72912.,  74400.,  75840.,  77328.,  78768.,  80256.,  81744.,\n",
       "        83184.,  84672.,  86112.,  87600.,  89088.,  90432.,  91920.,  93360.,\n",
       "        94848.,  96288.,  97776.,  99264., 100704., 102192., 103632., 105120.,\n",
       "       106608., 107952., 109440., 110880., 112368., 113808., 115296., 116784.,\n",
       "       118224., 119712., 121152., 122640., 124128., 125472., 126960., 128400.,\n",
       "       129888., 131328., 132816., 134304., 135744., 137232., 138672., 140160.,\n",
       "       141648., 142992., 144480., 145920., 147408., 148848., 150336., 151824.,\n",
       "       153264., 154752., 156192., 157680., 159168., 160512., 162000., 163440.,\n",
       "       164928., 166368., 167856., 169344., 170784., 172272., 173712., 175200.])</pre></div></li><li class='xr-var-item'><div class='xr-var-name'><span>PRECT</span></div><div class='xr-var-dims'>(time, lat, lon)</div><div class='xr-var-dtype'>float32</div><div class='xr-var-preview xr-preview'>...</div><input id='attrs-857c96fd-2114-4db1-9ce6-049aa3d63740' class='xr-var-attrs-in' type='checkbox' ><label for='attrs-857c96fd-2114-4db1-9ce6-049aa3d63740' title='Show/Hide attributes'><svg class='icon xr-icon-file-text2'><use xlink:href='#icon-file-text2'></use></svg></label><input id='data-c50d808c-c4c1-4442-a3ae-e06fde39ecd0' class='xr-var-data-in' type='checkbox'><label for='data-c50d808c-c4c1-4442-a3ae-e06fde39ecd0' title='Show/Hide data repr'><svg class='icon xr-icon-database'><use xlink:href='#icon-database'></use></svg></label><div class='xr-var-attrs'><dl class='xr-attrs'><dt><span>units :</span></dt><dd>m/s</dd><dt><span>long_name :</span></dt><dd>Total (convective and large-scale) precipitation rate (liq + ice)</dd><dt><span>cell_methods :</span></dt><dd>time: mean</dd></dl></div><div class='xr-var-data'><pre>[6635520 values with dtype=float32]</pre></div></li></ul></div></li><li class='xr-section-item'><input id='section-ff178ba8-69fa-42bb-ba46-819c135a1710' class='xr-section-summary-in' type='checkbox'  checked><label for='section-ff178ba8-69fa-42bb-ba46-819c135a1710' class='xr-section-summary' >Attributes: <span>(9)</span></label><div class='xr-section-inline-details'></div><div class='xr-section-details'><dl class='xr-attrs'><dt><span>Conventions :</span></dt><dd>CF-1.0</dd><dt><span>source :</span></dt><dd>CAM</dd><dt><span>case :</span></dt><dd>b.e21.BHISTcmip6.f09_g17.LE2-1001.001</dd><dt><span>logname :</span></dt><dd>sunseon</dd><dt><span>host :</span></dt><dd>mom1</dd><dt><span>initial_file :</span></dt><dd>b.e21.B1850.f09_g17.CMIP6-piControl.001.cam.i.1001-01-01-00000.nc</dd><dt><span>topography_file :</span></dt><dd>/mnt/lustre/share/CESM/cesm_input/atm/cam/topo/fv_0.9x1.25_nc3000_Nsw042_Nrs008_Co060_Fi001_ZR_sgh30_24km_GRNL_c170103.nc</dd><dt><span>model_doi_url :</span></dt><dd>https://doi.org/10.5065/D67H1H0V</dd><dt><span>time_period_freq :</span></dt><dd>month_1</dd></dl></div></li></ul></div></div>"
      ],
      "text/plain": [
       "<xarray.Dataset>\n",
       "Dimensions:       (lat: 192, zlon: 1, nbnd: 2, lon: 288, lev: 32, ilev: 33,\n",
       "                   time: 120)\n",
       "Coordinates:\n",
       "  * lat           (lat) float64 -90.0 -89.06 -88.12 -87.17 ... 88.12 89.06 90.0\n",
       "  * zlon          (zlon) float64 0.0\n",
       "  * lon           (lon) float64 0.0 1.25 2.5 3.75 ... 355.0 356.2 357.5 358.8\n",
       "  * lev           (lev) float64 3.643 7.595 14.36 24.61 ... 957.5 976.3 992.6\n",
       "  * ilev          (ilev) float64 2.255 5.032 10.16 18.56 ... 967.5 985.1 1e+03\n",
       "  * time          (time) object 1850-02-01 00:00:00 ... 1860-01-01 00:00:00\n",
       "Dimensions without coordinates: nbnd\n",
       "Data variables: (12/27)\n",
       "    zlon_bnds     (zlon, nbnd) float64 ...\n",
       "    gw            (lat) float64 ...\n",
       "    hyam          (lev) float64 ...\n",
       "    hybm          (lev) float64 ...\n",
       "    P0            float64 ...\n",
       "    hyai          (ilev) float64 ...\n",
       "    ...            ...\n",
       "    n2ovmr        (time) float64 ...\n",
       "    f11vmr        (time) float64 ...\n",
       "    f12vmr        (time) float64 ...\n",
       "    sol_tsi       (time) float64 ...\n",
       "    nsteph        (time) float64 ...\n",
       "    PRECT         (time, lat, lon) float32 ...\n",
       "Attributes:\n",
       "    Conventions:       CF-1.0\n",
       "    source:            CAM\n",
       "    case:              b.e21.BHISTcmip6.f09_g17.LE2-1001.001\n",
       "    logname:           sunseon\n",
       "    host:              mom1\n",
       "    initial_file:      b.e21.B1850.f09_g17.CMIP6-piControl.001.cam.i.1001-01-...\n",
       "    topography_file:   /mnt/lustre/share/CESM/cesm_input/atm/cam/topo/fv_0.9x...\n",
       "    model_doi_url:     https://doi.org/10.5065/D67H1H0V\n",
       "    time_period_freq:  month_1"
      ]
     },
     "execution_count": 13,
     "metadata": {},
     "output_type": "execute_result"
    }
   ],
   "source": [
    "file_xr  = xr.open_dataset(ncFile_param) \n",
    "file_xr"
   ]
  },
  {
   "cell_type": "code",
   "execution_count": 14,
   "metadata": {},
   "outputs": [
    {
     "name": "stdout",
     "output_type": "stream",
     "text": [
      "(120, 192, 288)\n",
      "<xarray.DataArray 'PRECT' (time: 120, lat: 192, lon: 288)>\n",
      "[6635520 values with dtype=float32]\n",
      "Coordinates:\n",
      "  * lat      (lat) float64 -90.0 -89.06 -88.12 -87.17 ... 87.17 88.12 89.06 90.0\n",
      "  * lon      (lon) float64 0.0 1.25 2.5 3.75 5.0 ... 355.0 356.2 357.5 358.8\n",
      "  * time     (time) object 1850-02-01 00:00:00 ... 1860-01-01 00:00:00\n",
      "Attributes:\n",
      "    units:         m/s\n",
      "    long_name:     Total (convective and large-scale) precipitation rate (liq...\n",
      "    cell_methods:  time: mean\n"
     ]
    }
   ],
   "source": [
    "param_val = file_xr['PRECT']\n",
    "print(param_val.shape)\n",
    "print(param_val)"
   ]
  },
  {
   "cell_type": "code",
   "execution_count": 15,
   "metadata": {},
   "outputs": [
    {
     "name": "stdout",
     "output_type": "stream",
     "text": [
      "120\n",
      "(120, 192, 288)\n"
     ]
    }
   ],
   "source": [
    "\n",
    "file_paramHist = Dataset(ncFile_param, mode='r')\n",
    "file_paramHist\n",
    "\n",
    "lons = file_paramHist.variables['lon'][:]\n",
    "lats = file_paramHist.variables['lat'][:]\n",
    "times = file_paramHist.variables['time'][:]\n",
    "ntim = times.shape[0]\n",
    "print(ntim)\n",
    "\n",
    "time = np.arange(ntim)\n",
    "time\n",
    "\n",
    "param_valHist = file_paramHist.variables['PRECT'][:]*86400*30\n",
    "print(param_valHist.shape)\n",
    "   "
   ]
  },
  {
   "cell_type": "code",
   "execution_count": null,
   "metadata": {},
   "outputs": [],
   "source": []
  },
  {
   "cell_type": "markdown",
   "metadata": {},
   "source": [
    "## Setting US boundaries"
   ]
  },
  {
   "cell_type": "code",
   "execution_count": 16,
   "metadata": {},
   "outputs": [],
   "source": [
    "# Save only U.S. \n",
    "latboundsUs = [ 25 , 55]\n",
    "lonboundsUs = [230 , 300]\n"
   ]
  },
  {
   "cell_type": "code",
   "execution_count": 17,
   "metadata": {},
   "outputs": [],
   "source": [
    "# latitude lower and upper index\n",
    "latli = np.argmin( np.abs( lats - latboundsUs[0] ) )\n",
    "latui = np.argmin( np.abs( lats - latboundsUs[1] ) ) \n",
    "\n",
    "# longitude lower and upper index\n",
    "lonli = np.argmin( np.abs( lons - lonboundsUs[0] ) )\n",
    "lonui = np.argmin( np.abs( lons - lonboundsUs[1] ) )  "
   ]
  },
  {
   "cell_type": "code",
   "execution_count": 18,
   "metadata": {},
   "outputs": [
    {
     "name": "stdout",
     "output_type": "stream",
     "text": [
      "122 154\n"
     ]
    }
   ],
   "source": [
    "print(latli, latui)\n"
   ]
  },
  {
   "cell_type": "code",
   "execution_count": 19,
   "metadata": {},
   "outputs": [
    {
     "name": "stdout",
     "output_type": "stream",
     "text": [
      "184 240\n"
     ]
    }
   ],
   "source": [
    "print(lonli, lonui)"
   ]
  },
  {
   "cell_type": "code",
   "execution_count": 20,
   "metadata": {},
   "outputs": [
    {
     "name": "stdout",
     "output_type": "stream",
     "text": [
      "(120, 32, 56)\n"
     ]
    }
   ],
   "source": [
    "param_val_sample_Us = param_val[:, latli:latui , lonli:lonui]\n",
    "print(param_val_sample_Us.shape)"
   ]
  },
  {
   "cell_type": "code",
   "execution_count": 21,
   "metadata": {},
   "outputs": [
    {
     "name": "stdout",
     "output_type": "stream",
     "text": [
      "[24.97382199 25.91623037 26.85863874 27.80104712 28.7434555  29.68586387\n",
      " 30.62827225 31.57068063 32.51308901 33.45549738 34.39790576 35.34031414\n",
      " 36.28272251 37.22513089 38.16753927 39.10994764 40.05235602 40.9947644\n",
      " 41.93717277 42.87958115 43.82198953 44.76439791 45.70680628 46.64921466\n",
      " 47.59162304 48.53403141 49.47643979 50.41884817 51.36125654 52.30366492\n",
      " 53.2460733  54.18848168]\n"
     ]
    }
   ],
   "source": [
    "lats_Us = lats[latli:latui]\n",
    "print(lats_Us)"
   ]
  },
  {
   "cell_type": "code",
   "execution_count": 22,
   "metadata": {},
   "outputs": [
    {
     "name": "stdout",
     "output_type": "stream",
     "text": [
      "[230.   231.25 232.5  233.75 235.   236.25 237.5  238.75 240.   241.25\n",
      " 242.5  243.75 245.   246.25 247.5  248.75 250.   251.25 252.5  253.75\n",
      " 255.   256.25 257.5  258.75 260.   261.25 262.5  263.75 265.   266.25\n",
      " 267.5  268.75 270.   271.25 272.5  273.75 275.   276.25 277.5  278.75\n",
      " 280.   281.25 282.5  283.75 285.   286.25 287.5  288.75 290.   291.25\n",
      " 292.5  293.75 295.   296.25 297.5  298.75]\n"
     ]
    }
   ],
   "source": [
    "lons_Us = lons[lonli:lonui]\n",
    "print(lons_Us)"
   ]
  },
  {
   "cell_type": "code",
   "execution_count": null,
   "metadata": {},
   "outputs": [],
   "source": []
  },
  {
   "cell_type": "markdown",
   "metadata": {},
   "source": [
    "## Using data processed from GLADE access to NCAR HPC"
   ]
  },
  {
   "cell_type": "markdown",
   "metadata": {},
   "source": [
    "### Lat Lon info from CESM2"
   ]
  },
  {
   "cell_type": "code",
   "execution_count": 23,
   "metadata": {},
   "outputs": [
    {
     "name": "stdout",
     "output_type": "stream",
     "text": [
      "(32,)\n",
      "[24.973822 25.916231 26.858639 27.801046 28.743456 29.685863 30.628273\n",
      " 31.57068  32.51309  33.455498 34.397907 35.340313 36.282722 37.225132\n",
      " 38.167538 39.109947 40.052357 40.994766 41.937172 42.87958  43.82199\n",
      " 44.764397 45.706806 46.649216 47.59162  48.53403  49.47644  50.41885\n",
      " 51.361256 52.303665 53.246075 54.18848 ]\n"
     ]
    }
   ],
   "source": [
    "file_LatUs = 'C:/rezaul/1.academic/1.research/2.project/mrb/dt/cesm/cesm2LE/param/CESM2_FLOOD/sm/latsUsArr.npy'\n",
    "latUs_cesm2 = np.load(file_LatUs)\n",
    "print(latUs_cesm2.shape)\n",
    "print(latUs_cesm2)"
   ]
  },
  {
   "cell_type": "code",
   "execution_count": 24,
   "metadata": {},
   "outputs": [
    {
     "name": "stdout",
     "output_type": "stream",
     "text": [
      "(56,)\n",
      "[230.   231.25 232.5  233.75 235.   236.25 237.5  238.75 240.   241.25\n",
      " 242.5  243.75 245.   246.25 247.5  248.75 250.   251.25 252.5  253.75\n",
      " 255.   256.25 257.5  258.75 260.   261.25 262.5  263.75 265.   266.25\n",
      " 267.5  268.75 270.   271.25 272.5  273.75 275.   276.25 277.5  278.75\n",
      " 280.   281.25 282.5  283.75 285.   286.25 287.5  288.75 290.   291.25\n",
      " 292.5  293.75 295.   296.25 297.5  298.75]\n"
     ]
    }
   ],
   "source": [
    "file_LonUs = 'C:/rezaul/1.academic/1.research/2.project/mrb/dt/cesm/cesm2LE/param/CESM2_FLOOD/sm/lonsUsArr.npy'\n",
    "lonUs_cesm2 = np.load(file_LonUs)\n",
    "print(lonUs_cesm2.shape)\n",
    "print(lonUs_cesm2)"
   ]
  },
  {
   "cell_type": "code",
   "execution_count": null,
   "metadata": {},
   "outputs": [],
   "source": []
  },
  {
   "cell_type": "markdown",
   "metadata": {},
   "source": [
    "### Historical (1930-2014)"
   ]
  },
  {
   "cell_type": "code",
   "execution_count": 25,
   "metadata": {},
   "outputs": [
    {
     "name": "stdout",
     "output_type": "stream",
     "text": [
      "(1980, 32, 56, 50)\n"
     ]
    },
    {
     "data": {
      "text/plain": [
       "1416.2439802021254"
      ]
     },
     "execution_count": 25,
     "metadata": {},
     "output_type": "execute_result"
    }
   ],
   "source": [
    "file_hist_ensMems = 'C:/rezaul/1.academic/1.research/2.project/mrb/dt/cesm/cesm2LE/param/precip/mon/monPrecipUsHistEnsMems.npy'\n",
    "file_hist_ensMems_loaded = np.load(file_hist_ensMems)\n",
    "print(file_hist_ensMems_loaded.shape)\n",
    "maxVal = np.nanmax(file_hist_ensMems_loaded)\n",
    "maxVal"
   ]
  },
  {
   "cell_type": "code",
   "execution_count": null,
   "metadata": {},
   "outputs": [],
   "source": []
  },
  {
   "cell_type": "markdown",
   "metadata": {},
   "source": [
    "### Scenario (2015-2100)"
   ]
  },
  {
   "cell_type": "code",
   "execution_count": 26,
   "metadata": {},
   "outputs": [
    {
     "name": "stdout",
     "output_type": "stream",
     "text": [
      "(1032, 32, 56, 50)\n"
     ]
    },
    {
     "data": {
      "text/plain": [
       "1645.1687024527928"
      ]
     },
     "execution_count": 26,
     "metadata": {},
     "output_type": "execute_result"
    }
   ],
   "source": [
    "file_scen_ensMems = 'C:/rezaul/1.academic/1.research/2.project/mrb/dt/cesm/cesm2LE/param/precip/mon/monPrecipUsScenEnsMems.npy'\n",
    "\n",
    "file_scen_ensMems_loaded = np.load(file_scen_ensMems)\n",
    "print(file_scen_ensMems_loaded.shape)\n",
    "maxVal = np.nanmax(file_scen_ensMems_loaded)\n",
    "maxVal"
   ]
  },
  {
   "cell_type": "code",
   "execution_count": null,
   "metadata": {},
   "outputs": [],
   "source": []
  },
  {
   "cell_type": "markdown",
   "metadata": {},
   "source": [
    "## The two files"
   ]
  },
  {
   "cell_type": "code",
   "execution_count": 27,
   "metadata": {},
   "outputs": [
    {
     "name": "stdout",
     "output_type": "stream",
     "text": [
      "(1980, 32, 56, 50)\n",
      "(1032, 32, 56, 50)\n"
     ]
    }
   ],
   "source": [
    "print(file_hist_ensMems_loaded.shape)\n",
    "print(file_scen_ensMems_loaded.shape)\n"
   ]
  },
  {
   "cell_type": "code",
   "execution_count": 28,
   "metadata": {},
   "outputs": [],
   "source": [
    "file_hist_ensMean_loaded = np.nanmean(file_hist_ensMems_loaded, axis = 3)\n",
    "file_scen_ensMean_loaded = np.nanmean(file_scen_ensMems_loaded, axis = 3)"
   ]
  },
  {
   "cell_type": "code",
   "execution_count": 29,
   "metadata": {},
   "outputs": [
    {
     "name": "stdout",
     "output_type": "stream",
     "text": [
      "(1980, 32, 56)\n",
      "(1032, 32, 56)\n"
     ]
    }
   ],
   "source": [
    "print(file_hist_ensMean_loaded.shape)\n",
    "print(file_scen_ensMean_loaded.shape)\n"
   ]
  },
  {
   "cell_type": "code",
   "execution_count": null,
   "metadata": {},
   "outputs": [],
   "source": []
  },
  {
   "cell_type": "markdown",
   "metadata": {},
   "source": [
    "## The four time slots"
   ]
  },
  {
   "cell_type": "code",
   "execution_count": 30,
   "metadata": {},
   "outputs": [],
   "source": [
    "\n",
    "histYrSt = 1850\n",
    "\n",
    "refPeriodYrSt = 1971\n",
    "refPeriodYrEnd = 2000\n",
    "#++++++++++++++++++++++++\n",
    "\n",
    "scenYrSt = 2015\n",
    "scenEraOneYrEnd = 2044\n",
    "\n",
    "scenEraTwoYrSt = 2045\n",
    "scenEraTwoYrEnd = 2074\n",
    "\n",
    "scenEraThreeYrSt = 2075\n",
    "scenYrEnd = 2100\n",
    "#\n"
   ]
  },
  {
   "cell_type": "markdown",
   "metadata": {},
   "source": [
    "## tsteps"
   ]
  },
  {
   "cell_type": "code",
   "execution_count": 31,
   "metadata": {},
   "outputs": [
    {
     "name": "stdout",
     "output_type": "stream",
     "text": [
      "12\n"
     ]
    }
   ],
   "source": [
    "nMonsPerYr = 12     # \n",
    "print(nMonsPerYr)"
   ]
  },
  {
   "cell_type": "markdown",
   "metadata": {},
   "source": [
    "## Reference Period"
   ]
  },
  {
   "cell_type": "code",
   "execution_count": 32,
   "metadata": {},
   "outputs": [
    {
     "name": "stdout",
     "output_type": "stream",
     "text": [
      "1452 1812\n",
      "360\n"
     ]
    }
   ],
   "source": [
    "refPeriodStepSt = (refPeriodYrSt - histYrSt)*nMonsPerYr\n",
    "refPeriodStepEnd = (refPeriodYrEnd - histYrSt + 1)*nMonsPerYr\n",
    "print(refPeriodStepSt, refPeriodStepEnd)\n",
    "print(refPeriodStepEnd-refPeriodStepSt)"
   ]
  },
  {
   "cell_type": "markdown",
   "metadata": {},
   "source": [
    "## Era 1"
   ]
  },
  {
   "cell_type": "code",
   "execution_count": 33,
   "metadata": {},
   "outputs": [
    {
     "name": "stdout",
     "output_type": "stream",
     "text": [
      "0 360\n",
      "360\n"
     ]
    }
   ],
   "source": [
    "scenEraOneStepSt = 0\n",
    "scenEraOneStepEnd = (scenEraOneYrEnd - scenYrSt + 1)*nMonsPerYr\n",
    "print(scenEraOneStepSt, scenEraOneStepEnd)\n",
    "print(scenEraOneStepEnd-scenEraOneStepSt)"
   ]
  },
  {
   "cell_type": "markdown",
   "metadata": {},
   "source": [
    "## Era 2"
   ]
  },
  {
   "cell_type": "code",
   "execution_count": 34,
   "metadata": {},
   "outputs": [
    {
     "name": "stdout",
     "output_type": "stream",
     "text": [
      "360 720\n",
      "360\n"
     ]
    }
   ],
   "source": [
    "scenEraTwoStepSt = (scenEraTwoYrSt - scenYrSt)*nMonsPerYr\n",
    "scenEraTwoStepEnd = (scenEraTwoYrEnd - scenYrSt + 1)*nMonsPerYr\n",
    "print(scenEraTwoStepSt, scenEraTwoStepEnd)\n",
    "print(scenEraTwoStepEnd-scenEraTwoStepSt)"
   ]
  },
  {
   "cell_type": "markdown",
   "metadata": {},
   "source": [
    "## Era 3"
   ]
  },
  {
   "cell_type": "code",
   "execution_count": 35,
   "metadata": {},
   "outputs": [
    {
     "name": "stdout",
     "output_type": "stream",
     "text": [
      "720 1032\n",
      "312\n"
     ]
    }
   ],
   "source": [
    "scenEraThreeStepSt = (scenEraThreeYrSt - scenYrSt)*nMonsPerYr\n",
    "scenEraThreeStepEnd = (scenYrEnd - scenYrSt + 1)*nMonsPerYr\n",
    "print(scenEraThreeStepSt, scenEraThreeStepEnd)\n",
    "print(scenEraThreeStepEnd-scenEraThreeStepSt)"
   ]
  },
  {
   "cell_type": "code",
   "execution_count": null,
   "metadata": {},
   "outputs": [],
   "source": []
  },
  {
   "cell_type": "markdown",
   "metadata": {},
   "source": [
    "## Subsetting the data into different periods / Eras"
   ]
  },
  {
   "cell_type": "code",
   "execution_count": 36,
   "metadata": {},
   "outputs": [
    {
     "name": "stdout",
     "output_type": "stream",
     "text": [
      "(1980, 32, 56)\n",
      "(1032, 32, 56)\n"
     ]
    }
   ],
   "source": [
    "print(file_hist_ensMean_loaded.shape)\n",
    "print(file_scen_ensMean_loaded.shape)"
   ]
  },
  {
   "cell_type": "code",
   "execution_count": 37,
   "metadata": {},
   "outputs": [
    {
     "name": "stdout",
     "output_type": "stream",
     "text": [
      "(360, 32, 56)\n"
     ]
    }
   ],
   "source": [
    "param_refPeriod_Us_ensmean = file_hist_ensMean_loaded[refPeriodStepSt:refPeriodStepEnd, :]\n",
    "print(param_refPeriod_Us_ensmean.shape)"
   ]
  },
  {
   "cell_type": "code",
   "execution_count": 38,
   "metadata": {},
   "outputs": [
    {
     "name": "stdout",
     "output_type": "stream",
     "text": [
      "(360, 32, 56)\n"
     ]
    }
   ],
   "source": [
    "param_scenEraOne_Us_ensmean = file_scen_ensMean_loaded[scenEraOneStepSt:scenEraOneStepEnd, :]\n",
    "print(param_scenEraOne_Us_ensmean.shape)"
   ]
  },
  {
   "cell_type": "code",
   "execution_count": 39,
   "metadata": {},
   "outputs": [
    {
     "name": "stdout",
     "output_type": "stream",
     "text": [
      "(360, 32, 56)\n"
     ]
    }
   ],
   "source": [
    "param_scenEraTwo_Us_ensmean = file_scen_ensMean_loaded[scenEraTwoStepSt:scenEraTwoStepEnd, :]\n",
    "print(param_scenEraTwo_Us_ensmean.shape)"
   ]
  },
  {
   "cell_type": "code",
   "execution_count": 40,
   "metadata": {},
   "outputs": [
    {
     "name": "stdout",
     "output_type": "stream",
     "text": [
      "(312, 32, 56)\n"
     ]
    }
   ],
   "source": [
    "param_scenEraThree_Us_ensmean = file_scen_ensMean_loaded[scenEraThreeStepSt:scenEraThreeStepEnd, :]\n",
    "print(param_scenEraThree_Us_ensmean.shape)"
   ]
  },
  {
   "cell_type": "code",
   "execution_count": null,
   "metadata": {},
   "outputs": [],
   "source": []
  },
  {
   "cell_type": "markdown",
   "metadata": {},
   "source": [
    "## Time average value at the reference period and at the three Eras"
   ]
  },
  {
   "cell_type": "code",
   "execution_count": 41,
   "metadata": {},
   "outputs": [
    {
     "name": "stdout",
     "output_type": "stream",
     "text": [
      "(32, 56)\n"
     ]
    }
   ],
   "source": [
    "param_refPeriod_Us_ensmean_timeAvg = np.nanmean(param_refPeriod_Us_ensmean, axis=0)\n",
    "print(param_refPeriod_Us_ensmean_timeAvg.shape)"
   ]
  },
  {
   "cell_type": "code",
   "execution_count": 42,
   "metadata": {},
   "outputs": [
    {
     "name": "stdout",
     "output_type": "stream",
     "text": [
      "(32, 56)\n"
     ]
    }
   ],
   "source": [
    "param_scenEraOne_Us_ensmean_timeAvg = np.nanmean(param_scenEraOne_Us_ensmean, axis=0)\n",
    "print(param_scenEraOne_Us_ensmean_timeAvg.shape)"
   ]
  },
  {
   "cell_type": "code",
   "execution_count": 43,
   "metadata": {},
   "outputs": [
    {
     "name": "stdout",
     "output_type": "stream",
     "text": [
      "(32, 56)\n"
     ]
    }
   ],
   "source": [
    "param_scenEraTwo_Us_ensmean_timeAvg = np.nanmean(param_scenEraTwo_Us_ensmean, axis=0)\n",
    "print(param_scenEraTwo_Us_ensmean_timeAvg.shape)"
   ]
  },
  {
   "cell_type": "code",
   "execution_count": 44,
   "metadata": {},
   "outputs": [
    {
     "name": "stdout",
     "output_type": "stream",
     "text": [
      "(32, 56)\n"
     ]
    }
   ],
   "source": [
    "param_scenEraThree_Us_ensmean_timeAvg = np.nanmean(param_scenEraThree_Us_ensmean, axis=0)\n",
    "print(param_scenEraThree_Us_ensmean_timeAvg.shape)"
   ]
  },
  {
   "cell_type": "code",
   "execution_count": null,
   "metadata": {},
   "outputs": [],
   "source": []
  },
  {
   "cell_type": "markdown",
   "metadata": {},
   "source": [
    "## Differences of Precipitation at the three Eras relative to the refernce period mean"
   ]
  },
  {
   "cell_type": "code",
   "execution_count": 45,
   "metadata": {},
   "outputs": [
    {
     "name": "stdout",
     "output_type": "stream",
     "text": [
      "(32, 56)\n",
      "(32, 56)\n",
      "(32, 56)\n",
      "(32, 56)\n"
     ]
    }
   ],
   "source": [
    "print(param_refPeriod_Us_ensmean_timeAvg.shape)\n",
    "print(param_scenEraOne_Us_ensmean_timeAvg.shape)\n",
    "print(param_scenEraTwo_Us_ensmean_timeAvg.shape)\n",
    "print(param_scenEraThree_Us_ensmean_timeAvg.shape)\n"
   ]
  },
  {
   "cell_type": "code",
   "execution_count": 46,
   "metadata": {},
   "outputs": [
    {
     "name": "stdout",
     "output_type": "stream",
     "text": [
      "(32, 56)\n",
      "(32, 56)\n",
      "(32, 56)\n"
     ]
    }
   ],
   "source": [
    "param_scenEraOne_diff_Us_ensmean_timeAvg = (param_scenEraOne_Us_ensmean_timeAvg - param_refPeriod_Us_ensmean_timeAvg)\n",
    "print(param_scenEraOne_diff_Us_ensmean_timeAvg.shape)\n",
    "\n",
    "param_scenEraTwo_diff_Us_ensmean_timeAvg = (param_scenEraTwo_Us_ensmean_timeAvg - param_refPeriod_Us_ensmean_timeAvg)\n",
    "print(param_scenEraTwo_diff_Us_ensmean_timeAvg.shape)\n",
    "\n",
    "param_scenEraThree_diff_Us_ensmean_timeAvg = (param_scenEraThree_Us_ensmean_timeAvg - param_refPeriod_Us_ensmean_timeAvg)\n",
    "print(param_scenEraThree_diff_Us_ensmean_timeAvg.shape)\n",
    "\n"
   ]
  },
  {
   "cell_type": "code",
   "execution_count": null,
   "metadata": {},
   "outputs": [],
   "source": []
  },
  {
   "cell_type": "markdown",
   "metadata": {},
   "source": [
    "## Writing in an Xarray Data array"
   ]
  },
  {
   "cell_type": "code",
   "execution_count": 47,
   "metadata": {},
   "outputs": [
    {
     "name": "stdout",
     "output_type": "stream",
     "text": [
      "32\n",
      "56\n"
     ]
    }
   ],
   "source": [
    "y_Us, x_Us = param_scenEraOne_diff_Us_ensmean_timeAvg.shape\n",
    "print(y_Us)\n",
    "print(x_Us)"
   ]
  },
  {
   "cell_type": "code",
   "execution_count": 48,
   "metadata": {},
   "outputs": [
    {
     "name": "stdout",
     "output_type": "stream",
     "text": [
      "(32, 56)\n",
      "<xarray.DataArray (Lat: 32, Lon: 56)>\n",
      "array([[-0.58837701, -0.39874556, -0.32652769, ...,  0.91091265,\n",
      "         0.66223786,  0.29843128],\n",
      "       [-0.59684059, -0.41044162, -0.24715516, ...,  1.45909638,\n",
      "         1.32703012,  1.13672896],\n",
      "       [-0.72468071, -0.51727308, -0.30913081, ...,  2.06978758,\n",
      "         1.944079  ,  1.80885732],\n",
      "       ...,\n",
      "       [ 2.94244802,  3.29396453,  0.64677028, ...,  4.63648885,\n",
      "         4.71327117,  4.72934506],\n",
      "       [ 3.13226449,  1.28783264,  0.71764429, ...,  4.93825177,\n",
      "         4.79610941,  4.54157176],\n",
      "       [ 2.12178381,  1.19058984,  1.3053737 , ...,  4.97864564,\n",
      "         4.57574413,  3.90556634]])\n",
      "Coordinates:\n",
      "  * Lat      (Lat) float32 24.97 25.92 26.86 27.8 ... 51.36 52.3 53.25 54.19\n",
      "  * Lon      (Lon) float32 230.0 231.2 232.5 233.8 ... 295.0 296.2 297.5 298.8\n"
     ]
    }
   ],
   "source": [
    "param_scenEraOne_diff_Us_xarray = xr.DataArray(param_scenEraOne_diff_Us_ensmean_timeAvg, coords=[latUs_cesm2, lonUs_cesm2 ], dims=[\"Lat\",\"Lon\"])\n",
    "\n",
    "print(param_scenEraOne_diff_Us_xarray.shape)\n",
    "print(param_scenEraOne_diff_Us_xarray)"
   ]
  },
  {
   "cell_type": "code",
   "execution_count": 49,
   "metadata": {},
   "outputs": [
    {
     "name": "stdout",
     "output_type": "stream",
     "text": [
      "(32, 56)\n",
      "<xarray.DataArray (Lat: 32, Lon: 56)>\n",
      "array([[-0.4267514 , -0.35157167, -0.30272308, ...,  1.68596563,\n",
      "         0.95355654, -0.08805744],\n",
      "       [-0.25545582, -0.17746797, -0.09991694, ...,  3.36663559,\n",
      "         2.72075732,  1.82892985],\n",
      "       [-0.0777135 , -0.01784704,  0.06270102, ...,  4.90526746,\n",
      "         4.14873737,  3.40494744],\n",
      "       ...,\n",
      "       [10.51256402, 11.08875868,  5.41566476, ...,  7.83459521,\n",
      "         8.04256256,  8.19337382],\n",
      "       [11.76805786,  7.6640741 ,  4.84968925, ...,  7.71840456,\n",
      "         7.69407721,  7.72622633],\n",
      "       [ 8.66497128,  6.08274327,  5.00584121, ...,  7.30951067,\n",
      "         6.73901484,  6.1786158 ]])\n",
      "Coordinates:\n",
      "  * Lat      (Lat) float32 24.97 25.92 26.86 27.8 ... 51.36 52.3 53.25 54.19\n",
      "  * Lon      (Lon) float32 230.0 231.2 232.5 233.8 ... 295.0 296.2 297.5 298.8\n"
     ]
    }
   ],
   "source": [
    "param_scenEraTwo_diff_Us_xarray = xr.DataArray(param_scenEraTwo_diff_Us_ensmean_timeAvg, coords=[latUs_cesm2, lonUs_cesm2 ], dims=[\"Lat\",\"Lon\"])\n",
    "\n",
    "print(param_scenEraTwo_diff_Us_xarray.shape)\n",
    "print(param_scenEraTwo_diff_Us_xarray)"
   ]
  },
  {
   "cell_type": "code",
   "execution_count": 50,
   "metadata": {},
   "outputs": [
    {
     "name": "stdout",
     "output_type": "stream",
     "text": [
      "(32, 56)\n",
      "<xarray.DataArray (Lat: 32, Lon: 56)>\n",
      "array([[ 0.47402534,  0.27230859,  0.0692417 , ...,  2.52960878,\n",
      "         1.26305461, -0.23185024],\n",
      "       [ 0.80316176,  0.71531359,  0.57780094, ...,  5.53084325,\n",
      "         4.41497383,  3.13205294],\n",
      "       [ 1.16002157,  1.11540173,  1.05101034, ...,  8.00146461,\n",
      "         7.04175952,  6.09077061],\n",
      "       ...,\n",
      "       [18.07987902, 18.96075658,  9.26749034, ..., 13.3144104 ,\n",
      "        13.75510944, 14.0114068 ],\n",
      "       [20.10782502, 13.94756362,  8.34969076, ..., 12.54967645,\n",
      "        12.8382115 , 13.04148778],\n",
      "       [15.00029742, 10.5492239 ,  8.66942705, ..., 11.56829182,\n",
      "        11.04185413, 10.68607574]])\n",
      "Coordinates:\n",
      "  * Lat      (Lat) float32 24.97 25.92 26.86 27.8 ... 51.36 52.3 53.25 54.19\n",
      "  * Lon      (Lon) float32 230.0 231.2 232.5 233.8 ... 295.0 296.2 297.5 298.8\n"
     ]
    }
   ],
   "source": [
    "param_scenEraThree_diff_Us_xarray = xr.DataArray(param_scenEraThree_diff_Us_ensmean_timeAvg, coords=[latUs_cesm2, lonUs_cesm2 ], dims=[\"Lat\",\"Lon\"])\n",
    "\n",
    "print(param_scenEraThree_diff_Us_xarray.shape)\n",
    "print(param_scenEraThree_diff_Us_xarray)"
   ]
  },
  {
   "cell_type": "code",
   "execution_count": null,
   "metadata": {},
   "outputs": [],
   "source": []
  },
  {
   "cell_type": "code",
   "execution_count": null,
   "metadata": {},
   "outputs": [],
   "source": []
  },
  {
   "cell_type": "markdown",
   "metadata": {},
   "source": [
    "## Masking files for the Basin Domain only"
   ]
  },
  {
   "cell_type": "markdown",
   "metadata": {},
   "source": [
    "### Mississippi"
   ]
  },
  {
   "cell_type": "code",
   "execution_count": 51,
   "metadata": {},
   "outputs": [
    {
     "name": "stdout",
     "output_type": "stream",
     "text": [
      "C:/rezaul/1.academic/1.research/2.project/mrb/dt/shapeFile/mask/mrb_us/mask_missiWri_us_CESM_longThree.nc\n"
     ]
    }
   ],
   "source": [
    "MaskFile_Missi_to_load = 'C:/rezaul/1.academic/1.research/2.project/mrb/dt/shapeFile/mask/mrb_us/mask_missiWri_us_CESM_longThree.nc'\n",
    "print(MaskFile_Missi_to_load)"
   ]
  },
  {
   "cell_type": "code",
   "execution_count": 52,
   "metadata": {},
   "outputs": [
    {
     "name": "stdout",
     "output_type": "stream",
     "text": [
      "<xarray.DataArray 'Mask' (Lat: 32, Lon: 56)>\n",
      "array([[0, 0, 0, ..., 0, 0, 0],\n",
      "       [0, 0, 0, ..., 0, 0, 0],\n",
      "       [0, 0, 0, ..., 0, 0, 0],\n",
      "       ...,\n",
      "       [0, 0, 0, ..., 0, 0, 0],\n",
      "       [0, 0, 0, ..., 0, 0, 0],\n",
      "       [0, 0, 0, ..., 0, 0, 0]])\n",
      "Coordinates:\n",
      "  * Lat      (Lat) float32 24.97 25.92 26.86 27.8 ... 51.36 52.3 53.25 54.19\n",
      "  * Lon      (Lon) float32 230.0 231.2 232.5 233.8 ... 295.0 296.2 297.5 298.8\n"
     ]
    }
   ],
   "source": [
    "MaskFile_Missi = xr.open_dataset(MaskFile_Missi_to_load)['Mask']\n",
    "print(MaskFile_Missi)"
   ]
  },
  {
   "cell_type": "code",
   "execution_count": 53,
   "metadata": {},
   "outputs": [
    {
     "name": "stdout",
     "output_type": "stream",
     "text": [
      "(32, 56)\n",
      "<xarray.DataArray (Lat: 32, Lon: 56)>\n",
      "array([[nan, nan, nan, ..., nan, nan, nan],\n",
      "       [nan, nan, nan, ..., nan, nan, nan],\n",
      "       [nan, nan, nan, ..., nan, nan, nan],\n",
      "       ...,\n",
      "       [nan, nan, nan, ..., nan, nan, nan],\n",
      "       [nan, nan, nan, ..., nan, nan, nan],\n",
      "       [nan, nan, nan, ..., nan, nan, nan]])\n",
      "Coordinates:\n",
      "  * Lat      (Lat) float32 24.97 25.92 26.86 27.8 ... 51.36 52.3 53.25 54.19\n",
      "  * Lon      (Lon) float32 230.0 231.2 232.5 233.8 ... 295.0 296.2 297.5 298.8\n"
     ]
    }
   ],
   "source": [
    "param_scenEraOne_diff_masked_Missi = param_scenEraOne_diff_Us_xarray.where(MaskFile_Missi>0)\n",
    "print(param_scenEraOne_diff_masked_Missi.shape)\n",
    "print(param_scenEraOne_diff_masked_Missi)"
   ]
  },
  {
   "cell_type": "code",
   "execution_count": 54,
   "metadata": {},
   "outputs": [
    {
     "name": "stdout",
     "output_type": "stream",
     "text": [
      "(32, 56)\n",
      "<xarray.DataArray (Lat: 32, Lon: 56)>\n",
      "array([[nan, nan, nan, ..., nan, nan, nan],\n",
      "       [nan, nan, nan, ..., nan, nan, nan],\n",
      "       [nan, nan, nan, ..., nan, nan, nan],\n",
      "       ...,\n",
      "       [nan, nan, nan, ..., nan, nan, nan],\n",
      "       [nan, nan, nan, ..., nan, nan, nan],\n",
      "       [nan, nan, nan, ..., nan, nan, nan]])\n",
      "Coordinates:\n",
      "  * Lat      (Lat) float32 24.97 25.92 26.86 27.8 ... 51.36 52.3 53.25 54.19\n",
      "  * Lon      (Lon) float32 230.0 231.2 232.5 233.8 ... 295.0 296.2 297.5 298.8\n"
     ]
    }
   ],
   "source": [
    "param_scenEraTwo_diff_masked_Missi = param_scenEraTwo_diff_Us_xarray.where(MaskFile_Missi>0)\n",
    "print(param_scenEraTwo_diff_masked_Missi.shape)\n",
    "print(param_scenEraTwo_diff_masked_Missi)"
   ]
  },
  {
   "cell_type": "code",
   "execution_count": 55,
   "metadata": {},
   "outputs": [
    {
     "name": "stdout",
     "output_type": "stream",
     "text": [
      "(32, 56)\n",
      "<xarray.DataArray (Lat: 32, Lon: 56)>\n",
      "array([[nan, nan, nan, ..., nan, nan, nan],\n",
      "       [nan, nan, nan, ..., nan, nan, nan],\n",
      "       [nan, nan, nan, ..., nan, nan, nan],\n",
      "       ...,\n",
      "       [nan, nan, nan, ..., nan, nan, nan],\n",
      "       [nan, nan, nan, ..., nan, nan, nan],\n",
      "       [nan, nan, nan, ..., nan, nan, nan]])\n",
      "Coordinates:\n",
      "  * Lat      (Lat) float32 24.97 25.92 26.86 27.8 ... 51.36 52.3 53.25 54.19\n",
      "  * Lon      (Lon) float32 230.0 231.2 232.5 233.8 ... 295.0 296.2 297.5 298.8\n"
     ]
    }
   ],
   "source": [
    "param_scenEraThree_diff_masked_Missi = param_scenEraThree_diff_Us_xarray.where(MaskFile_Missi>0)\n",
    "print(param_scenEraThree_diff_masked_Missi.shape)\n",
    "print(param_scenEraThree_diff_masked_Missi)"
   ]
  },
  {
   "cell_type": "code",
   "execution_count": null,
   "metadata": {},
   "outputs": [],
   "source": []
  },
  {
   "cell_type": "markdown",
   "metadata": {},
   "source": [
    "## Find max and min values"
   ]
  },
  {
   "cell_type": "code",
   "execution_count": 56,
   "metadata": {},
   "outputs": [
    {
     "name": "stdout",
     "output_type": "stream",
     "text": [
      "5.073504423156805\n",
      "0.09344309245379634\n"
     ]
    }
   ],
   "source": [
    "maxVal_diff_scenEraOne = np.nanmax(param_scenEraOne_diff_masked_Missi)\n",
    "print(maxVal_diff_scenEraOne)\n",
    "\n",
    "minVal_diff_scenEraOne = np.nanmin(param_scenEraOne_diff_masked_Missi)\n",
    "print(minVal_diff_scenEraOne)\n"
   ]
  },
  {
   "cell_type": "code",
   "execution_count": 57,
   "metadata": {},
   "outputs": [
    {
     "name": "stdout",
     "output_type": "stream",
     "text": [
      "9.640323909652992\n",
      "0.5723455293764381\n"
     ]
    }
   ],
   "source": [
    "maxVal_diff_scenEraTwo = np.nanmax(param_scenEraTwo_diff_masked_Missi)\n",
    "print(maxVal_diff_scenEraTwo)\n",
    "\n",
    "minVal_diff_scenEraTwo = np.nanmin(param_scenEraTwo_diff_masked_Missi)\n",
    "print(minVal_diff_scenEraTwo)\n"
   ]
  },
  {
   "cell_type": "code",
   "execution_count": 58,
   "metadata": {},
   "outputs": [
    {
     "name": "stdout",
     "output_type": "stream",
     "text": [
      "14.918096066468763\n",
      "1.403391487860187\n"
     ]
    }
   ],
   "source": [
    "maxVal_diff_scenEraThree = np.nanmax(param_scenEraThree_diff_masked_Missi)\n",
    "print(maxVal_diff_scenEraThree)\n",
    "\n",
    "minVal_diff_scenEraThree = np.nanmin(param_scenEraThree_diff_masked_Missi)\n",
    "print(minVal_diff_scenEraThree)\n"
   ]
  },
  {
   "cell_type": "code",
   "execution_count": null,
   "metadata": {},
   "outputs": [],
   "source": []
  },
  {
   "cell_type": "markdown",
   "metadata": {},
   "source": [
    "## Plotting a Map of Precipitation fields"
   ]
  },
  {
   "cell_type": "code",
   "execution_count": 59,
   "metadata": {},
   "outputs": [
    {
     "name": "stdout",
     "output_type": "stream",
     "text": [
      "24.973822\n",
      "54.18848\n",
      "230.0\n",
      "298.75\n"
     ]
    }
   ],
   "source": [
    "\n",
    "latUsMin = latUs_cesm2.min()     # = or = latsCfsDnSc\n",
    "print(latUsMin)\n",
    "\n",
    "latUsMax = latUs_cesm2.max()\n",
    "print(latUsMax)\n",
    "\n",
    "lonUsMin = lonUs_cesm2.min()\n",
    "print(lonUsMin)\n",
    "\n",
    "lonUsMax = lonUs_cesm2.max()\n",
    "print(lonUsMax)"
   ]
  },
  {
   "cell_type": "code",
   "execution_count": 60,
   "metadata": {},
   "outputs": [
    {
     "name": "stdout",
     "output_type": "stream",
     "text": [
      "[230.0, 298.75, 24.973822, 54.18848]\n"
     ]
    }
   ],
   "source": [
    "extentUs = [lonUsMin, lonUsMax, latUsMin, latUsMax]\n",
    "print(extentUs)"
   ]
  },
  {
   "cell_type": "code",
   "execution_count": 61,
   "metadata": {},
   "outputs": [
    {
     "name": "stdout",
     "output_type": "stream",
     "text": [
      "[230.   231.25 232.5  233.75 235.   236.25 237.5  238.75 240.   241.25\n",
      " 242.5  243.75 245.   246.25 247.5  248.75 250.   251.25 252.5  253.75\n",
      " 255.   256.25 257.5  258.75 260.   261.25 262.5  263.75 265.   266.25\n",
      " 267.5  268.75 270.   271.25 272.5  273.75 275.   276.25 277.5  278.75\n",
      " 280.   281.25 282.5  283.75 285.   286.25 287.5  288.75 290.   291.25\n",
      " 292.5  293.75 295.   296.25 297.5  298.75]\n",
      "[24.97382164 25.91622999 26.85863833 27.80104668 28.74345503 29.68586337\n",
      " 30.62827172 31.57068006 32.51308841 33.45549676 34.3979051  35.34031345\n",
      " 36.2827218  37.22513014 38.16753849 39.10994684 40.05235518 40.99476353\n",
      " 41.93717187 42.87958022 43.82198857 44.76439691 45.70680526 46.64921361\n",
      " 47.59162195 48.5340303  49.47643865 50.41884699 51.36125534 52.30366368\n",
      " 53.24607203 54.18848038]\n"
     ]
    }
   ],
   "source": [
    "x_Us = linspace(lonUsMin, lonUsMax, x_Us)\n",
    "y_Us = linspace(latUsMin, latUsMax, y_Us)\n",
    "print(x_Us)\n",
    "print(y_Us)\n",
    "\n",
    "# Create the rectangular grid out of these values\n",
    "xx_Us, yy_Us = meshgrid(x_Us, y_Us)\n"
   ]
  },
  {
   "cell_type": "code",
   "execution_count": null,
   "metadata": {},
   "outputs": [],
   "source": []
  },
  {
   "cell_type": "code",
   "execution_count": 62,
   "metadata": {},
   "outputs": [
    {
     "name": "stdout",
     "output_type": "stream",
     "text": [
      "0.0\n",
      "6.0\n"
     ]
    }
   ],
   "source": [
    "vmin_scenEraOne = np.floor(minVal_diff_scenEraOne)\n",
    "vmax_scenEraOne = np.ceil(maxVal_diff_scenEraOne)\n",
    "print(vmin_scenEraOne)\n",
    "print(vmax_scenEraOne)"
   ]
  },
  {
   "cell_type": "code",
   "execution_count": 63,
   "metadata": {},
   "outputs": [
    {
     "name": "stdout",
     "output_type": "stream",
     "text": [
      "0.1\n",
      "6.0\n"
     ]
    }
   ],
   "source": [
    "\n",
    "#vmin_scenEraOne = np.floor(minVal_diff_scenEraOne)\n",
    "vmin_scenEraOne = 0.1\n",
    "\n",
    "vmax_scenEraOne = np.ceil(maxVal_diff_scenEraOne)\n",
    "print(vmin_scenEraOne)\n",
    "print(vmax_scenEraOne)\n"
   ]
  },
  {
   "cell_type": "code",
   "execution_count": null,
   "metadata": {},
   "outputs": [],
   "source": []
  },
  {
   "cell_type": "code",
   "execution_count": 64,
   "metadata": {},
   "outputs": [
    {
     "name": "stdout",
     "output_type": "stream",
     "text": [
      "0.0\n",
      "10.0\n"
     ]
    }
   ],
   "source": [
    "vmin_scenEraTwo = np.floor(minVal_diff_scenEraTwo)\n",
    "vmax_scenEraTwo = np.ceil(maxVal_diff_scenEraTwo)\n",
    "print(vmin_scenEraTwo)\n",
    "print(vmax_scenEraTwo)"
   ]
  },
  {
   "cell_type": "code",
   "execution_count": 65,
   "metadata": {},
   "outputs": [
    {
     "name": "stdout",
     "output_type": "stream",
     "text": [
      "1.0\n",
      "15.0\n"
     ]
    }
   ],
   "source": [
    "vmin_scenEraThree = np.floor(minVal_diff_scenEraThree)\n",
    "vmax_scenEraThree = np.ceil(maxVal_diff_scenEraThree)\n",
    "print(vmin_scenEraThree)\n",
    "print(vmax_scenEraThree)"
   ]
  },
  {
   "cell_type": "code",
   "execution_count": null,
   "metadata": {},
   "outputs": [],
   "source": []
  },
  {
   "cell_type": "code",
   "execution_count": 66,
   "metadata": {},
   "outputs": [
    {
     "name": "stdout",
     "output_type": "stream",
     "text": [
      "6\n"
     ]
    }
   ],
   "source": [
    "nDiv_scenEraOne = int(vmax_scenEraOne - vmin_scenEraOne + 1)\n",
    "print(nDiv_scenEraOne)"
   ]
  },
  {
   "cell_type": "code",
   "execution_count": 67,
   "metadata": {},
   "outputs": [
    {
     "name": "stdout",
     "output_type": "stream",
     "text": [
      "11\n"
     ]
    }
   ],
   "source": [
    "nDiv_scenEraTwo = int(vmax_scenEraTwo - vmin_scenEraTwo + 1)\n",
    "print(nDiv_scenEraTwo)"
   ]
  },
  {
   "cell_type": "code",
   "execution_count": 68,
   "metadata": {},
   "outputs": [
    {
     "name": "stdout",
     "output_type": "stream",
     "text": [
      "15\n"
     ]
    }
   ],
   "source": [
    "nDiv_scenEraThree = int(vmax_scenEraThree - vmin_scenEraThree + 1)\n",
    "print(nDiv_scenEraThree)"
   ]
  },
  {
   "cell_type": "code",
   "execution_count": null,
   "metadata": {},
   "outputs": [],
   "source": []
  },
  {
   "cell_type": "markdown",
   "metadata": {},
   "source": [
    "## Loading data for other parameters saved in the Disk"
   ]
  },
  {
   "cell_type": "markdown",
   "metadata": {},
   "source": [
    "## ET"
   ]
  },
  {
   "cell_type": "code",
   "execution_count": 69,
   "metadata": {},
   "outputs": [
    {
     "name": "stdout",
     "output_type": "stream",
     "text": [
      "(32, 56)\n",
      "(32, 56)\n",
      "(32, 56)\n"
     ]
    }
   ],
   "source": [
    "# \n",
    "file_et_scenEraOne_diff_masked_Missi = 'C:/rezaul/1.academic/1.research/2.project/mrb/dt/cesm/cesm2LE/param/et/mon/output/map/mask/et_scenEraOne_diff_masked_Missi.npy'\n",
    "et_scenEraOne_diff_masked_Missi = np.load(file_et_scenEraOne_diff_masked_Missi)\n",
    "print(et_scenEraOne_diff_masked_Missi.shape)\n",
    "\n",
    "file_et_scenEraTwo_diff_masked_Missi = 'C:/rezaul/1.academic/1.research/2.project/mrb/dt/cesm/cesm2LE/param/et/mon/output/map/mask/et_scenEraTwo_diff_masked_Missi.npy'\n",
    "et_scenEraTwo_diff_masked_Missi = np.load(file_et_scenEraTwo_diff_masked_Missi)\n",
    "print(et_scenEraTwo_diff_masked_Missi.shape)\n",
    "\n",
    "file_et_scenEraThree_diff_masked_Missi = 'C:/rezaul/1.academic/1.research/2.project/mrb/dt/cesm/cesm2LE/param/et/mon/output/map/mask/et_scenEraThree_diff_masked_Missi.npy'\n",
    "et_scenEraThree_diff_masked_Missi = np.load(file_et_scenEraThree_diff_masked_Missi)\n",
    "print(et_scenEraThree_diff_masked_Missi.shape)\n"
   ]
  },
  {
   "cell_type": "markdown",
   "metadata": {},
   "source": [
    "## Snowmelt"
   ]
  },
  {
   "cell_type": "code",
   "execution_count": 70,
   "metadata": {},
   "outputs": [
    {
     "name": "stdout",
     "output_type": "stream",
     "text": [
      "(32, 56)\n",
      "(32, 56)\n",
      "(32, 56)\n"
     ]
    }
   ],
   "source": [
    "# \n",
    "file_snowMelt_scenEraOne_diff_masked_Missi = 'C:/rezaul/1.academic/1.research/2.project/mrb/dt/cesm/cesm2LE/param/snowMelt/mon/output/map/mask/snowMelt_scenEraOne_diff_masked_Missi.npy'\n",
    "snowMelt_scenEraOne_diff_masked_Missi = np.load(file_snowMelt_scenEraOne_diff_masked_Missi)\n",
    "print(snowMelt_scenEraOne_diff_masked_Missi.shape)\n",
    "\n",
    "file_snowMelt_scenEraTwo_diff_masked_Missi = 'C:/rezaul/1.academic/1.research/2.project/mrb/dt/cesm/cesm2LE/param/snowMelt/mon/output/map/mask/snowMelt_scenEraTwo_diff_masked_Missi.npy'\n",
    "snowMelt_scenEraTwo_diff_masked_Missi = np.load(file_snowMelt_scenEraTwo_diff_masked_Missi)\n",
    "print(snowMelt_scenEraTwo_diff_masked_Missi.shape)\n",
    "\n",
    "file_snowMelt_scenEraThree_diff_masked_Missi = 'C:/rezaul/1.academic/1.research/2.project/mrb/dt/cesm/cesm2LE/param/snowMelt/mon/output/map/mask/snowMelt_scenEraThree_diff_masked_Missi.npy'\n",
    "snowMelt_scenEraThree_diff_masked_Missi = np.load(file_snowMelt_scenEraThree_diff_masked_Missi)\n",
    "print(snowMelt_scenEraThree_diff_masked_Missi.shape)\n"
   ]
  },
  {
   "cell_type": "markdown",
   "metadata": {},
   "source": [
    "## Soil Moisture"
   ]
  },
  {
   "cell_type": "code",
   "execution_count": 71,
   "metadata": {},
   "outputs": [
    {
     "name": "stdout",
     "output_type": "stream",
     "text": [
      "(32, 56)\n",
      "(32, 56)\n",
      "(32, 56)\n"
     ]
    }
   ],
   "source": [
    "# \n",
    "file_soilMoist_scenEraOne_diff_masked_Missi = 'C:/rezaul/1.academic/1.research/2.project/mrb/dt/cesm/cesm2LE/param/soilMoist/mon/output/map/mask/soilMoist_scenEraOne_diff_masked_Missi.npy'\n",
    "soilMoist_scenEraOne_diff_masked_Missi = np.load(file_soilMoist_scenEraOne_diff_masked_Missi)\n",
    "print(soilMoist_scenEraOne_diff_masked_Missi.shape)\n",
    "\n",
    "file_soilMoist_scenEraTwo_diff_masked_Missi = 'C:/rezaul/1.academic/1.research/2.project/mrb/dt/cesm/cesm2LE/param/soilMoist/mon/output/map/mask/soilMoist_scenEraTwo_diff_masked_Missi.npy'\n",
    "soilMoist_scenEraTwo_diff_masked_Missi = np.load(file_soilMoist_scenEraTwo_diff_masked_Missi)\n",
    "print(soilMoist_scenEraTwo_diff_masked_Missi.shape)\n",
    "\n",
    "file_soilMoist_scenEraThree_diff_masked_Missi = 'C:/rezaul/1.academic/1.research/2.project/mrb/dt/cesm/cesm2LE/param/soilMoist/mon/output/map/mask/soilMoist_scenEraThree_diff_masked_Missi.npy'\n",
    "soilMoist_scenEraThree_diff_masked_Missi = np.load(file_soilMoist_scenEraThree_diff_masked_Missi)\n",
    "print(soilMoist_scenEraThree_diff_masked_Missi.shape)\n"
   ]
  },
  {
   "cell_type": "markdown",
   "metadata": {},
   "source": [
    "## Runoff"
   ]
  },
  {
   "cell_type": "code",
   "execution_count": 72,
   "metadata": {},
   "outputs": [
    {
     "name": "stdout",
     "output_type": "stream",
     "text": [
      "(32, 56)\n",
      "(32, 56)\n",
      "(32, 56)\n"
     ]
    }
   ],
   "source": [
    "# \n",
    "file_runoff_scenEraOne_diff_masked_Missi = 'C:/rezaul/1.academic/1.research/2.project/mrb/dt/cesm/cesm2LE/param/runoff/mon/output/map/mask/runoff_scenEraOne_diff_masked_Missi.npy'\n",
    "runoff_scenEraOne_diff_masked_Missi = np.load(file_runoff_scenEraOne_diff_masked_Missi)\n",
    "print(runoff_scenEraOne_diff_masked_Missi.shape)\n",
    "\n",
    "file_runoff_scenEraTwo_diff_masked_Missi = 'C:/rezaul/1.academic/1.research/2.project/mrb/dt/cesm/cesm2LE/param/runoff/mon/output/map/mask/runoff_scenEraTwo_diff_masked_Missi.npy'\n",
    "runoff_scenEraTwo_diff_masked_Missi = np.load(file_runoff_scenEraTwo_diff_masked_Missi)\n",
    "print(runoff_scenEraTwo_diff_masked_Missi.shape)\n",
    "\n",
    "file_runoff_scenEraThree_diff_masked_Missi = 'C:/rezaul/1.academic/1.research/2.project/mrb/dt/cesm/cesm2LE/param/runoff/mon/output/map/mask/runoff_scenEraThree_diff_masked_Missi.npy'\n",
    "runoff_scenEraThree_diff_masked_Missi = np.load(file_runoff_scenEraThree_diff_masked_Missi)\n",
    "print(runoff_scenEraThree_diff_masked_Missi.shape)\n"
   ]
  },
  {
   "cell_type": "code",
   "execution_count": null,
   "metadata": {},
   "outputs": [],
   "source": []
  },
  {
   "cell_type": "markdown",
   "metadata": {},
   "source": [
    "## Making a panel plot for different parameters"
   ]
  },
  {
   "cell_type": "markdown",
   "metadata": {},
   "source": [
    "### Precipitation"
   ]
  },
  {
   "cell_type": "code",
   "execution_count": 73,
   "metadata": {},
   "outputs": [],
   "source": [
    "class MidpointNormalize(mpl.colors.Normalize):\n",
    "    def __init__(self, vmin, vmax, midpoint=0, clip=False):\n",
    "        self.midpoint = midpoint\n",
    "        mpl.colors.Normalize.__init__(self, vmin, vmax, clip)\n",
    "\n",
    "    def __call__(self, value, clip=None):\n",
    "        normalized_min = max(0, 1 / 2 * (1 - abs((self.midpoint - self.vmin) / (self.midpoint - self.vmax))))\n",
    "        normalized_max = min(1, 1 / 2 * (1 + abs((self.vmax - self.midpoint) / (self.midpoint - self.vmin))))\n",
    "        normalized_mid = 0.5\n",
    "        x, y = [self.vmin, self.midpoint, self.vmax], [normalized_min, normalized_mid, normalized_max]\n",
    "        return np.ma.masked_array(np.interp(value, x, y))"
   ]
  },
  {
   "cell_type": "code",
   "execution_count": 74,
   "metadata": {},
   "outputs": [
    {
     "name": "stdout",
     "output_type": "stream",
     "text": [
      "5.073504423156805\n",
      "0.09344309245379634\n",
      "9.640323909652992\n",
      "0.5723455293764381\n",
      "14.918096066468763\n",
      "1.403391487860187\n",
      "\n",
      "0.0\n",
      "0.1 6.0\n",
      "0.0 10.0\n",
      "1.0 15.0\n",
      "\n",
      "6\n",
      "11\n",
      "15\n"
     ]
    }
   ],
   "source": [
    "\n",
    "maxVal_precip_diff_scenEraOne = np.nanmax(param_scenEraOne_diff_masked_Missi)\n",
    "print(maxVal_precip_diff_scenEraOne)\n",
    "minVal_precip_diff_scenEraOne = np.nanmin(param_scenEraOne_diff_masked_Missi)\n",
    "print(minVal_precip_diff_scenEraOne)\n",
    "maxVal_precip_diff_scenEraTwo = np.nanmax(param_scenEraTwo_diff_masked_Missi)\n",
    "print(maxVal_precip_diff_scenEraTwo)\n",
    "minVal_precip_diff_scenEraTwo = np.nanmin(param_scenEraTwo_diff_masked_Missi)\n",
    "print(minVal_precip_diff_scenEraTwo)\n",
    "maxVal_precip_diff_scenEraThree = np.nanmax(param_scenEraThree_diff_masked_Missi)\n",
    "print(maxVal_precip_diff_scenEraThree)\n",
    "minVal_precip_diff_scenEraThree = np.nanmin(param_scenEraThree_diff_masked_Missi)\n",
    "print(minVal_precip_diff_scenEraThree)\n",
    "print('')\n",
    "\n",
    "vmin_precip_scenEraOne = np.floor(minVal_precip_diff_scenEraOne)\n",
    "vmax_precip_scenEraOne = np.ceil(maxVal_precip_diff_scenEraOne)\n",
    "print(vmin_precip_scenEraOne)\n",
    "vmin_precip_scenEraOne = 0.1\n",
    "print(vmin_precip_scenEraOne, vmax_precip_scenEraOne)\n",
    "\n",
    "vmin_precip_scenEraTwo = np.floor(minVal_precip_diff_scenEraTwo)\n",
    "vmax_precip_scenEraTwo = np.ceil(maxVal_precip_diff_scenEraTwo)\n",
    "print(vmin_precip_scenEraTwo, vmax_precip_scenEraTwo)\n",
    "\n",
    "vmin_precip_scenEraThree = np.floor(minVal_precip_diff_scenEraThree)\n",
    "vmax_precip_scenEraThree = np.ceil(maxVal_precip_diff_scenEraThree)\n",
    "print(vmin_precip_scenEraThree, vmax_precip_scenEraThree)\n",
    "print('')\n",
    "\n",
    "nDiv_precip_scenEraOne = int(vmax_precip_scenEraOne - vmin_precip_scenEraOne + 1)\n",
    "print(nDiv_precip_scenEraOne)\n",
    "nDiv_precip_scenEraTwo = int(vmax_precip_scenEraTwo - vmin_precip_scenEraTwo + 1)\n",
    "print(nDiv_precip_scenEraTwo)\n",
    "nDiv_precip_scenEraThree = int(vmax_precip_scenEraThree - vmin_precip_scenEraThree + 1)\n",
    "print(nDiv_precip_scenEraThree)\n",
    "#+++++++++++++++++++++++++++++++\n",
    "\n",
    "fraction_precip = 0.9\n",
    "norm_precip = MidpointNormalize(vmin = vmin_precip_scenEraOne, vmax = vmax_precip_scenEraThree, midpoint=0)\n",
    "levels_precip = np.linspace(vmin_precip_scenEraTwo, vmax_precip_scenEraThree, int(nDiv_precip_scenEraThree/fraction_precip)) # to draw 11 levels\n",
    "boundaries_precip = np.linspace(vmin_precip_scenEraTwo, vmax_precip_scenEraThree, int(nDiv_precip_scenEraThree/fraction_precip))\n",
    "\n"
   ]
  },
  {
   "cell_type": "markdown",
   "metadata": {},
   "source": [
    "## ET"
   ]
  },
  {
   "cell_type": "code",
   "execution_count": 75,
   "metadata": {},
   "outputs": [
    {
     "name": "stdout",
     "output_type": "stream",
     "text": [
      "6.984543628427339\n",
      "-1.8078112933255994\n",
      "10.370182442729167\n",
      "-2.5467258005674367\n",
      "13.813181448332628\n",
      "-3.7616641358225493\n",
      "\n",
      "-2.0 7.0\n",
      "-3.0 11.0\n",
      "-4.0 14.0\n",
      "10\n",
      "15\n",
      "19\n"
     ]
    }
   ],
   "source": [
    "maxVal_et_diff_scenEraOne = np.nanmax(et_scenEraOne_diff_masked_Missi)\n",
    "print(maxVal_et_diff_scenEraOne)\n",
    "minVal_et_diff_scenEraOne = np.nanmin(et_scenEraOne_diff_masked_Missi)\n",
    "print(minVal_et_diff_scenEraOne)\n",
    "#++++\n",
    "maxVal_et_diff_scenEraTwo = np.nanmax(et_scenEraTwo_diff_masked_Missi)\n",
    "print(maxVal_et_diff_scenEraTwo)\n",
    "minVal_et_diff_scenEraTwo = np.nanmin(et_scenEraTwo_diff_masked_Missi)\n",
    "print(minVal_et_diff_scenEraTwo)\n",
    "#++++\n",
    "maxVal_et_diff_scenEraThree = np.nanmax(et_scenEraThree_diff_masked_Missi)\n",
    "print(maxVal_et_diff_scenEraThree)\n",
    "minVal_et_diff_scenEraThree = np.nanmin(et_scenEraThree_diff_masked_Missi)\n",
    "print(minVal_et_diff_scenEraThree)\n",
    "print('')\n",
    "#+++++++++++++++++++++++++++++++++++++++++++++++++++++++++++++++++++++++++++++++++++++\n",
    "vmin_et_scenEraOne = np.floor(minVal_et_diff_scenEraOne)\n",
    "vmax_et_scenEraOne = np.ceil(maxVal_et_diff_scenEraOne)\n",
    "print(vmin_et_scenEraOne, vmax_et_scenEraOne)\n",
    "vmin_et_scenEraTwo = np.floor(minVal_et_diff_scenEraTwo)\n",
    "vmax_et_scenEraTwo = np.ceil(maxVal_et_diff_scenEraTwo)\n",
    "print(vmin_et_scenEraTwo, vmax_et_scenEraTwo)\n",
    "vmin_et_scenEraThree = np.floor(minVal_et_diff_scenEraThree)\n",
    "vmax_et_scenEraThree = np.ceil(maxVal_et_diff_scenEraThree)\n",
    "print(vmin_et_scenEraThree, vmax_et_scenEraThree)\n",
    "#+++++++++++++++++++++++++++++++++++++++++++++++++++++++++++++++++++++++++++++++++++++\n",
    "\n",
    "\n",
    "nDiv_et_scenEraOne = int(vmax_et_scenEraOne - vmin_et_scenEraOne + 1)\n",
    "print(nDiv_et_scenEraOne)\n",
    "nDiv_et_scenEraTwo = int(vmax_et_scenEraTwo - vmin_et_scenEraTwo + 1)\n",
    "print(nDiv_et_scenEraTwo)\n",
    "nDiv_et_scenEraThree = int(vmax_et_scenEraThree - vmin_et_scenEraThree + 1)\n",
    "print(nDiv_et_scenEraThree)\n",
    "#+++++++++++++++++++++++++++++++++++++++++++++++++++++++++++++++++++++++++++++++++\n",
    "\n",
    "fraction_et = 1.0\n",
    "norm_et = MidpointNormalize(vmin=vmin_et_scenEraThree, vmax=vmax_et_scenEraThree, midpoint=0)\n",
    "levels_et = np.linspace(vmin_et_scenEraThree, vmax_et_scenEraThree, int(nDiv_et_scenEraThree/fraction_et)) # to draw 11 levels\n",
    "boundaries_et=np.linspace(vmin_et_scenEraThree, vmax_et_scenEraThree, int(nDiv_et_scenEraThree/fraction_et), )\n"
   ]
  },
  {
   "cell_type": "markdown",
   "metadata": {},
   "source": [
    "## Snowmelt"
   ]
  },
  {
   "cell_type": "code",
   "execution_count": 76,
   "metadata": {},
   "outputs": [
    {
     "name": "stdout",
     "output_type": "stream",
     "text": [
      "0.0420252913026804\n",
      "-12.533375130859152\n",
      "-0.032623205010189525\n",
      "-19.540702606897828\n",
      "-0.03565723770120626\n",
      "-25.79118112958841\n",
      "\n",
      "-13.0 1.0\n",
      "-20.0 -0.0\n",
      "-26.0 -0.0\n",
      "15\n",
      "21\n",
      "28\n"
     ]
    }
   ],
   "source": [
    "maxVal_snowMelt_diff_scenEraOne = np.nanmax(snowMelt_scenEraOne_diff_masked_Missi)\n",
    "print(maxVal_snowMelt_diff_scenEraOne)\n",
    "minVal_snowMelt_diff_scenEraOne = np.nanmin(snowMelt_scenEraOne_diff_masked_Missi)\n",
    "print(minVal_snowMelt_diff_scenEraOne)\n",
    "#++++\n",
    "maxVal_snowMelt_diff_scenEraTwo = np.nanmax(snowMelt_scenEraTwo_diff_masked_Missi)\n",
    "print(maxVal_snowMelt_diff_scenEraTwo)\n",
    "minVal_snowMelt_diff_scenEraTwo = np.nanmin(snowMelt_scenEraTwo_diff_masked_Missi)\n",
    "print(minVal_snowMelt_diff_scenEraTwo)\n",
    "#++++\n",
    "maxVal_snowMelt_diff_scenEraThree = np.nanmax(snowMelt_scenEraThree_diff_masked_Missi)\n",
    "print(maxVal_snowMelt_diff_scenEraThree)\n",
    "minVal_snowMelt_diff_scenEraThree = np.nanmin(snowMelt_scenEraThree_diff_masked_Missi)\n",
    "print(minVal_snowMelt_diff_scenEraThree)\n",
    "print('')\n",
    "#+++++++++++++++++++++++++++++++++++++++++++++++++++++++++++++++++++++++++++++++++++++\n",
    "vmin_snowMelt_scenEraOne = np.floor(minVal_snowMelt_diff_scenEraOne)\n",
    "vmax_snowMelt_scenEraOne = np.ceil(maxVal_snowMelt_diff_scenEraOne)\n",
    "print(vmin_snowMelt_scenEraOne, vmax_snowMelt_scenEraOne)\n",
    "vmin_snowMelt_scenEraTwo = np.floor(minVal_snowMelt_diff_scenEraTwo)\n",
    "vmax_snowMelt_scenEraTwo = np.ceil(maxVal_snowMelt_diff_scenEraTwo)\n",
    "print(vmin_snowMelt_scenEraTwo, vmax_snowMelt_scenEraTwo)\n",
    "vmin_snowMelt_scenEraThree = np.floor(minVal_snowMelt_diff_scenEraThree)\n",
    "vmax_snowMelt_scenEraThree = np.ceil(maxVal_snowMelt_diff_scenEraThree)\n",
    "print(vmin_snowMelt_scenEraThree, vmax_snowMelt_scenEraThree)\n",
    "#+++++++++++++++++++++++++++++++++++++++++++++++++++++++++++++++++++++++++++++++++++++\n",
    "\n",
    "\n",
    "nDiv_snowMelt_scenEraOne = int(vmax_snowMelt_scenEraOne - vmin_snowMelt_scenEraOne + 1)\n",
    "print(nDiv_snowMelt_scenEraOne)\n",
    "nDiv_snowMelt_scenEraTwo = int(vmax_snowMelt_scenEraTwo - vmin_snowMelt_scenEraTwo + 1)\n",
    "print(nDiv_snowMelt_scenEraTwo)\n",
    "nDiv_snowMelt_scenEraThree = int(vmax_snowMelt_scenEraOne - vmin_snowMelt_scenEraThree + 1)\n",
    "print(nDiv_snowMelt_scenEraThree)\n",
    "\n",
    "#+++++++++++++++++++++++++++++++++++++++++++++++++++++++++++++++++++++++++++++++++\n",
    "\n",
    "\n",
    "fraction_snowMelt = 1.8\n",
    "norm_snowMelt = MidpointNormalize(vmin=vmin_snowMelt_scenEraThree, vmax=vmax_snowMelt_scenEraThree+1, midpoint=0)  # = +1\n",
    "levels_snowMelt = np.linspace(vmin_snowMelt_scenEraThree, vmax_snowMelt_scenEraOne+1, int(nDiv_snowMelt_scenEraThree/fraction_snowMelt)) # to draw 11 levels\n",
    "boundaries_snowMelt=np.linspace(vmin_snowMelt_scenEraThree, vmax_snowMelt_scenEraOne+1, int(nDiv_snowMelt_scenEraThree/fraction_snowMelt))\n"
   ]
  },
  {
   "cell_type": "markdown",
   "metadata": {},
   "source": [
    "## Soil Moisture"
   ]
  },
  {
   "cell_type": "code",
   "execution_count": 77,
   "metadata": {},
   "outputs": [
    {
     "name": "stdout",
     "output_type": "stream",
     "text": [
      "0.3134370899200931\n",
      "-3.4920199145211512\n",
      "0.5739883332782441\n",
      "-4.978746392514989\n",
      "1.3796214866923506\n",
      "-6.053180815118026\n",
      "\n",
      "-4.0 1.0\n",
      "-5.0 1.0\n",
      "-7.0 2.0\n",
      "6\n",
      "7\n",
      "10\n"
     ]
    }
   ],
   "source": [
    "maxVal_soilMoist_diff_scenEraOne = np.nanmax(soilMoist_scenEraOne_diff_masked_Missi)\n",
    "print(maxVal_soilMoist_diff_scenEraOne)\n",
    "minVal_soilMoist_diff_scenEraOne = np.nanmin(soilMoist_scenEraOne_diff_masked_Missi)\n",
    "print(minVal_soilMoist_diff_scenEraOne)\n",
    "#++++\n",
    "maxVal_soilMoist_diff_scenEraTwo = np.nanmax(soilMoist_scenEraTwo_diff_masked_Missi)\n",
    "print(maxVal_soilMoist_diff_scenEraTwo)\n",
    "minVal_soilMoist_diff_scenEraTwo = np.nanmin(soilMoist_scenEraTwo_diff_masked_Missi)\n",
    "print(minVal_soilMoist_diff_scenEraTwo)\n",
    "#++++\n",
    "maxVal_soilMoist_diff_scenEraThree = np.nanmax(soilMoist_scenEraThree_diff_masked_Missi)\n",
    "print(maxVal_soilMoist_diff_scenEraThree)\n",
    "minVal_soilMoist_diff_scenEraThree = np.nanmin(soilMoist_scenEraThree_diff_masked_Missi)\n",
    "print(minVal_soilMoist_diff_scenEraThree)\n",
    "print('')\n",
    "#+++++++++++++++++++++++++++++++++++++++++++++++++++++++++++++++++++++++++++++++++++++\n",
    "vmin_soilMoist_scenEraOne = np.floor(minVal_soilMoist_diff_scenEraOne)\n",
    "vmax_soilMoist_scenEraOne = np.ceil(maxVal_soilMoist_diff_scenEraOne)\n",
    "print(vmin_soilMoist_scenEraOne, vmax_soilMoist_scenEraOne)\n",
    "vmin_soilMoist_scenEraTwo = np.floor(minVal_soilMoist_diff_scenEraTwo)\n",
    "vmax_soilMoist_scenEraTwo = np.ceil(maxVal_soilMoist_diff_scenEraTwo)\n",
    "print(vmin_soilMoist_scenEraTwo, vmax_soilMoist_scenEraTwo)\n",
    "vmin_soilMoist_scenEraThree = np.floor(minVal_soilMoist_diff_scenEraThree)\n",
    "vmax_soilMoist_scenEraThree = np.ceil(maxVal_soilMoist_diff_scenEraThree)\n",
    "print(vmin_soilMoist_scenEraThree, vmax_soilMoist_scenEraThree)\n",
    "#+++++++++++++++++++++++++++++++++++++++++++++++++++++++++++++++++++++++++++++++++++++\n",
    "\n",
    "\n",
    "nDiv_soilMoist_scenEraOne = int(vmax_soilMoist_scenEraOne - vmin_soilMoist_scenEraOne + 1)\n",
    "print(nDiv_soilMoist_scenEraOne)\n",
    "nDiv_soilMoist_scenEraTwo = int(vmax_soilMoist_scenEraTwo - vmin_soilMoist_scenEraTwo + 1)\n",
    "print(nDiv_soilMoist_scenEraTwo)\n",
    "nDiv_soilMoist_scenEraThree = int(vmax_soilMoist_scenEraThree - vmin_soilMoist_scenEraThree + 1)\n",
    "print(nDiv_soilMoist_scenEraThree)\n",
    "\n",
    "#+++++++++++++++++++++++++++++++++++++++++++++++++++++++++++++++++++++++++++++++++\n",
    "\n",
    "fraction_soilMoist = 0.9\n",
    "norm_soilMoist = MidpointNormalize(vmin=vmin_soilMoist_scenEraThree, vmax=vmax_soilMoist_scenEraThree+1, midpoint=0)  # = +1\n",
    "levels_soilMoist = np.linspace(vmin_soilMoist_scenEraThree, vmax_soilMoist_scenEraThree+1, int(nDiv_soilMoist_scenEraThree/fraction_soilMoist)) # to draw 11 levels\n",
    "boundaries_soilMoist=np.linspace(vmin_soilMoist_scenEraThree, vmax_soilMoist_scenEraThree+1, int(nDiv_soilMoist_scenEraThree/fraction_soilMoist))\n"
   ]
  },
  {
   "cell_type": "markdown",
   "metadata": {},
   "source": [
    "## Runoff"
   ]
  },
  {
   "cell_type": "code",
   "execution_count": 78,
   "metadata": {},
   "outputs": [
    {
     "name": "stdout",
     "output_type": "stream",
     "text": [
      "0.8152886808681217\n",
      "-1.3679842844452264\n",
      "2.0046136037868933\n",
      "-1.7410209329364754\n",
      "4.0185924879157895\n",
      "-2.4150117181739157\n",
      "\n",
      "-2.0 1.0\n",
      "-2.0 3.0\n",
      "-3.0 5.0\n",
      "4\n",
      "6\n",
      "9\n"
     ]
    }
   ],
   "source": [
    "maxVal_runoff_diff_scenEraOne = np.nanmax(runoff_scenEraOne_diff_masked_Missi)\n",
    "print(maxVal_runoff_diff_scenEraOne)\n",
    "minVal_runoff_diff_scenEraOne = np.nanmin(runoff_scenEraOne_diff_masked_Missi)\n",
    "print(minVal_runoff_diff_scenEraOne)\n",
    "#++++\n",
    "maxVal_runoff_diff_scenEraTwo = np.nanmax(runoff_scenEraTwo_diff_masked_Missi)\n",
    "print(maxVal_runoff_diff_scenEraTwo)\n",
    "minVal_runoff_diff_scenEraTwo = np.nanmin(runoff_scenEraTwo_diff_masked_Missi)\n",
    "print(minVal_runoff_diff_scenEraTwo)\n",
    "#++++\n",
    "maxVal_runoff_diff_scenEraThree = np.nanmax(runoff_scenEraThree_diff_masked_Missi)\n",
    "print(maxVal_runoff_diff_scenEraThree)\n",
    "minVal_runoff_diff_scenEraThree = np.nanmin(runoff_scenEraThree_diff_masked_Missi)\n",
    "print(minVal_runoff_diff_scenEraThree)\n",
    "print('')\n",
    "#+++++++++++++++++++++++++++++++++++++++++++++++++++++++++++++++++++++++++++++++++++++\n",
    "vmin_runoff_scenEraOne = np.floor(minVal_runoff_diff_scenEraOne)\n",
    "vmax_runoff_scenEraOne = np.ceil(maxVal_runoff_diff_scenEraOne)\n",
    "print(vmin_runoff_scenEraOne, vmax_runoff_scenEraOne)\n",
    "vmin_runoff_scenEraTwo = np.floor(minVal_runoff_diff_scenEraTwo)\n",
    "vmax_runoff_scenEraTwo = np.ceil(maxVal_runoff_diff_scenEraTwo)\n",
    "print(vmin_runoff_scenEraTwo, vmax_runoff_scenEraTwo)\n",
    "vmin_runoff_scenEraThree = np.floor(minVal_runoff_diff_scenEraThree)\n",
    "vmax_runoff_scenEraThree = np.ceil(maxVal_runoff_diff_scenEraThree)\n",
    "print(vmin_runoff_scenEraThree, vmax_runoff_scenEraThree)\n",
    "#+++++++++++++++++++++++++++++++++++++++++++++++++++++++++++++++++++++++++++++++++++++\n",
    "\n",
    "\n",
    "nDiv_runoff_scenEraOne = int(vmax_runoff_scenEraOne - vmin_runoff_scenEraOne + 1)\n",
    "print(nDiv_runoff_scenEraOne)\n",
    "nDiv_runoff_scenEraTwo = int(vmax_runoff_scenEraTwo - vmin_runoff_scenEraTwo + 1)\n",
    "print(nDiv_runoff_scenEraTwo)\n",
    "nDiv_runoff_scenEraThree = int(vmax_runoff_scenEraThree - vmin_runoff_scenEraThree + 1)\n",
    "print(nDiv_runoff_scenEraThree)\n",
    "#+++++++++++++++++++++++++++++++++++++++++++++++++++++++++++++++++++++++++++++++++\n",
    "\n",
    "\n",
    "fraction_runoff = 0.9\n",
    "norm_runoff = MidpointNormalize(vmin=vmin_runoff_scenEraThree, vmax=vmax_runoff_scenEraThree+1, midpoint=0)\n",
    "levels_runoff = np.linspace(vmin_runoff_scenEraThree, vmax_runoff_scenEraThree+1, int(nDiv_runoff_scenEraThree/fraction_runoff)) # to draw 11 levels\n",
    "boundaries_runoff=np.linspace(vmin_runoff_scenEraThree, vmax_runoff_scenEraThree+1, int(nDiv_runoff_scenEraThree/fraction_runoff))\n"
   ]
  },
  {
   "cell_type": "code",
   "execution_count": null,
   "metadata": {},
   "outputs": [],
   "source": []
  },
  {
   "cell_type": "markdown",
   "metadata": {},
   "source": [
    "## Figure Formatting"
   ]
  },
  {
   "cell_type": "code",
   "execution_count": 79,
   "metadata": {},
   "outputs": [
    {
     "name": "stdout",
     "output_type": "stream",
     "text": [
      "[<GeoAxesSubplot:>, <GeoAxesSubplot:>, <GeoAxesSubplot:>, <GeoAxesSubplot:>, <GeoAxesSubplot:>, <GeoAxesSubplot:>, <GeoAxesSubplot:>, <GeoAxesSubplot:>, <GeoAxesSubplot:>, <GeoAxesSubplot:>, <GeoAxesSubplot:>, <GeoAxesSubplot:>, <GeoAxesSubplot:>, <GeoAxesSubplot:>, <GeoAxesSubplot:>]\n"
     ]
    },
    {
     "name": "stderr",
     "output_type": "stream",
     "text": [
      "<ipython-input-79-2fd55bd7475b>:71: MatplotlibDeprecationWarning: Case-insensitive properties were deprecated in 3.3 and support will be removed two minor releases later\n",
      "  ax1.set_yticklabels(latTickLebelsStr, fontSize = tickFontSize)\n",
      "<ipython-input-79-2fd55bd7475b>:72: MatplotlibDeprecationWarning: Case-insensitive properties were deprecated in 3.3 and support will be removed two minor releases later\n",
      "  ax1.set_xticklabels('', fontSize = tickFontSize)\n",
      "<ipython-input-79-2fd55bd7475b>:106: MatplotlibDeprecationWarning: Case-insensitive properties were deprecated in 3.3 and support will be removed two minor releases later\n",
      "  ax2.set_yticklabels('', fontSize = tickFontSize)\n",
      "<ipython-input-79-2fd55bd7475b>:107: MatplotlibDeprecationWarning: Case-insensitive properties were deprecated in 3.3 and support will be removed two minor releases later\n",
      "  ax2.set_xticklabels('', fontSize = tickFontSize)\n",
      "<ipython-input-79-2fd55bd7475b>:131: MatplotlibDeprecationWarning: Case-insensitive properties were deprecated in 3.3 and support will be removed two minor releases later\n",
      "  ax3.set_yticklabels('', fontSize = tickFontSize)\n",
      "<ipython-input-79-2fd55bd7475b>:132: MatplotlibDeprecationWarning: Case-insensitive properties were deprecated in 3.3 and support will be removed two minor releases later\n",
      "  ax3.set_xticklabels('', fontSize = tickFontSize)\n",
      "<ipython-input-79-2fd55bd7475b>:156: MatplotlibDeprecationWarning: Case-insensitive properties were deprecated in 3.3 and support will be removed two minor releases later\n",
      "  ax4.set_yticklabels(latTickLebelsStr, fontSize = tickFontSize)\n",
      "<ipython-input-79-2fd55bd7475b>:157: MatplotlibDeprecationWarning: Case-insensitive properties were deprecated in 3.3 and support will be removed two minor releases later\n",
      "  ax4.set_xticklabels('', fontSize = tickFontSize)\n",
      "<ipython-input-79-2fd55bd7475b>:189: MatplotlibDeprecationWarning: Case-insensitive properties were deprecated in 3.3 and support will be removed two minor releases later\n",
      "  ax5.set_yticklabels('', fontSize = tickFontSize)\n",
      "<ipython-input-79-2fd55bd7475b>:190: MatplotlibDeprecationWarning: Case-insensitive properties were deprecated in 3.3 and support will be removed two minor releases later\n",
      "  ax5.set_xticklabels('', fontSize = tickFontSize)\n",
      "<ipython-input-79-2fd55bd7475b>:214: MatplotlibDeprecationWarning: Case-insensitive properties were deprecated in 3.3 and support will be removed two minor releases later\n",
      "  ax6.set_yticklabels('', fontSize = tickFontSize)\n",
      "<ipython-input-79-2fd55bd7475b>:215: MatplotlibDeprecationWarning: Case-insensitive properties were deprecated in 3.3 and support will be removed two minor releases later\n",
      "  ax6.set_xticklabels('', fontSize = tickFontSize)\n",
      "<ipython-input-79-2fd55bd7475b>:239: MatplotlibDeprecationWarning: Case-insensitive properties were deprecated in 3.3 and support will be removed two minor releases later\n",
      "  ax7.set_yticklabels(latTickLebelsStr, fontSize = tickFontSize)\n",
      "<ipython-input-79-2fd55bd7475b>:240: MatplotlibDeprecationWarning: Case-insensitive properties were deprecated in 3.3 and support will be removed two minor releases later\n",
      "  ax7.set_xticklabels('', fontSize = tickFontSize)\n",
      "<ipython-input-79-2fd55bd7475b>:276: MatplotlibDeprecationWarning: Case-insensitive properties were deprecated in 3.3 and support will be removed two minor releases later\n",
      "  ax8.set_yticklabels('', fontSize = tickFontSize)\n",
      "<ipython-input-79-2fd55bd7475b>:277: MatplotlibDeprecationWarning: Case-insensitive properties were deprecated in 3.3 and support will be removed two minor releases later\n",
      "  ax8.set_xticklabels('', fontSize = tickFontSize)\n",
      "<ipython-input-79-2fd55bd7475b>:302: MatplotlibDeprecationWarning: Case-insensitive properties were deprecated in 3.3 and support will be removed two minor releases later\n",
      "  ax9.set_yticklabels('', fontSize = tickFontSize)\n",
      "<ipython-input-79-2fd55bd7475b>:303: MatplotlibDeprecationWarning: Case-insensitive properties were deprecated in 3.3 and support will be removed two minor releases later\n",
      "  ax9.set_xticklabels('', fontSize = tickFontSize)\n",
      "<ipython-input-79-2fd55bd7475b>:330: MatplotlibDeprecationWarning: Case-insensitive properties were deprecated in 3.3 and support will be removed two minor releases later\n",
      "  ax10.set_yticklabels(latTickLebelsStr, fontSize = tickFontSize)\n",
      "<ipython-input-79-2fd55bd7475b>:331: MatplotlibDeprecationWarning: Case-insensitive properties were deprecated in 3.3 and support will be removed two minor releases later\n",
      "  ax10.set_xticklabels('', fontSize = tickFontSize)\n",
      "<ipython-input-79-2fd55bd7475b>:367: MatplotlibDeprecationWarning: Case-insensitive properties were deprecated in 3.3 and support will be removed two minor releases later\n",
      "  ax11.set_yticklabels('', fontSize = tickFontSize)\n",
      "<ipython-input-79-2fd55bd7475b>:368: MatplotlibDeprecationWarning: Case-insensitive properties were deprecated in 3.3 and support will be removed two minor releases later\n",
      "  ax11.set_xticklabels('', fontSize = tickFontSize)\n",
      "<ipython-input-79-2fd55bd7475b>:391: MatplotlibDeprecationWarning: Case-insensitive properties were deprecated in 3.3 and support will be removed two minor releases later\n",
      "  ax12.set_yticklabels('', fontSize = tickFontSize)\n",
      "<ipython-input-79-2fd55bd7475b>:392: MatplotlibDeprecationWarning: Case-insensitive properties were deprecated in 3.3 and support will be removed two minor releases later\n",
      "  ax12.set_xticklabels('', fontSize = tickFontSize)\n",
      "<ipython-input-79-2fd55bd7475b>:415: MatplotlibDeprecationWarning: Case-insensitive properties were deprecated in 3.3 and support will be removed two minor releases later\n",
      "  ax13.set_yticklabels(latTickLebelsStr, fontSize = tickFontSize)\n",
      "<ipython-input-79-2fd55bd7475b>:416: MatplotlibDeprecationWarning: Case-insensitive properties were deprecated in 3.3 and support will be removed two minor releases later\n",
      "  ax13.set_xticklabels(lonTickLebelsStr, fontSize = tickFontSize)\n",
      "<ipython-input-79-2fd55bd7475b>:452: MatplotlibDeprecationWarning: Case-insensitive properties were deprecated in 3.3 and support will be removed two minor releases later\n",
      "  ax14.set_yticklabels('', fontSize = tickFontSize)\n",
      "<ipython-input-79-2fd55bd7475b>:453: MatplotlibDeprecationWarning: Case-insensitive properties were deprecated in 3.3 and support will be removed two minor releases later\n",
      "  ax14.set_xticklabels(lonTickLebelsStr, fontSize = tickFontSize)\n",
      "<ipython-input-79-2fd55bd7475b>:478: MatplotlibDeprecationWarning: Case-insensitive properties were deprecated in 3.3 and support will be removed two minor releases later\n",
      "  ax15.set_yticklabels('', fontSize = tickFontSize)\n",
      "<ipython-input-79-2fd55bd7475b>:479: MatplotlibDeprecationWarning: Case-insensitive properties were deprecated in 3.3 and support will be removed two minor releases later\n",
      "  ax15.set_xticklabels(lonTickLebelsStr, fontSize = tickFontSize)\n",
      "<ipython-input-79-2fd55bd7475b>:485: UserWarning: This figure was using constrained_layout, but that is incompatible with subplots_adjust and/or tight_layout; disabling constrained_layout.\n",
      "  plt.subplots_adjust(left=0.13,\n",
      "C:\\Users\\muham\\anaconda3\\lib\\site-packages\\cartopy\\mpl\\style.py:90: UserWarning: facecolor will have no effect as it has been defined as \"never\".\n",
      "  warnings.warn('facecolor will have no effect as it has been '\n"
     ]
    },
    {
     "data": {
      "image/png": "[encoded data removed]",
      "text/plain": [
       "<Figure size 936x720 with 20 Axes>"
      ]
     },
     "metadata": {
      "needs_background": "light"
     },
     "output_type": "display_data"
    }
   ],
   "source": [
    "\n",
    "#+++++++++++++++++++++++++++++++++++++++++++++++++++++++++++++++++++++++++++++++++++++++++\n",
    "\n",
    "tickFontSize = 12\n",
    "textFontSize = 14\n",
    "#legendFontSize = 10\n",
    "paramFontSize = 15\n",
    "titleFontSize = 16\n",
    "\n",
    "cbarTickFontSize = 12\n",
    "cbarTextFontSize = 14\n",
    "\n",
    "figTitleDistY = 1.02\n",
    "linewidth = 0.7\n",
    "#++++++++++++++++++++\n",
    "\n",
    "class MidpointNormalize(mpl.colors.Normalize):\n",
    "    def __init__(self, vmin, vmax, midpoint=0, clip=False):\n",
    "        self.midpoint = midpoint\n",
    "        mpl.colors.Normalize.__init__(self, vmin, vmax, clip)\n",
    "\n",
    "    def __call__(self, value, clip=None):\n",
    "        normalized_min = max(0, 1 / 2 * (1 - abs((self.midpoint - self.vmin) / (self.midpoint - self.vmax))))\n",
    "        normalized_max = min(1, 1 / 2 * (1 + abs((self.vmax - self.midpoint) / (self.midpoint - self.vmin))))\n",
    "        normalized_mid = 0.5\n",
    "        x, y = [self.vmin, self.midpoint, self.vmax], [normalized_min, normalized_mid, normalized_max]\n",
    "        return np.ma.masked_array(np.interp(value, x, y))\n",
    "\n",
    "\n",
    "\n",
    "latTickLebelsStr = ['27', '37', '47', ]\n",
    "lonTickLebelsStr = ['115', '105', '95', '85', '75',]\n",
    "\n",
    "latTicks = [27, 37, 47]\n",
    "lonTicks = [-115, -105, -95, -85, -75]\n",
    "\n",
    "yLimLow = 27\n",
    "yLimHigh = 52.5\n",
    "\n",
    "xLimLow = -115\n",
    "xLimHigh = -75\n",
    "\n",
    "#+++++++++++++++++++++++++++++++++++++++++++++++++++++++++++++++++++++++++++++++++++++++++++++++++++++++++++\n",
    "fig = plt.figure(figsize=(13, 10), constrained_layout=True)\n",
    "axs = [plt.subplot(5, 3, x + 1, projection = ccrs.PlateCarree()) for x in range(15)]\n",
    "\n",
    "print(axs)\n",
    "ax1 = axs[0]\n",
    "\n",
    "cp1 = ax1.contourf(x_Us, y_Us,param_scenEraOne_diff_masked_Missi,transform=ccrs.PlateCarree(),cmap=cm.BrBG,levels = levels_precip,norm=norm_precip,)\n",
    "\n",
    "plt.grid(b=True, which='major', color='#666666', linestyle='-')\n",
    "\n",
    "ax1.add_feature(cfeature.RIVERS.with_scale('110m'), color='b', label='Rivers')     # couche rivières = was 50 m\n",
    "missi = cfeature.ShapelyFeature(basin_Missi, ccrs.PlateCarree())\n",
    "arkansas = cfeature.ShapelyFeature(basin_Arkansas, ccrs.PlateCarree())\n",
    "missouri = cfeature.ShapelyFeature(basin_Missouri, ccrs.PlateCarree())\n",
    "ohio = cfeature.ShapelyFeature(basin_Ohio, ccrs.PlateCarree())\n",
    "\n",
    "ax1.add_feature(missi,facecolor='none',edgecolor='black',linewidth=linewidth) # Mississippi\n",
    "ax1.add_feature(arkansas,facecolor='none',edgecolor='black',linewidth=linewidth) # Arkansas\n",
    "ax1.add_feature(missouri,facecolor='none',edgecolor='black',linewidth=linewidth) # Missouri\n",
    "ax1.add_feature(ohio,facecolor='none',edgecolor='black',linewidth=linewidth) # Ohio\n",
    "\n",
    "ax1.add_feature(cfeature.COASTLINE)\n",
    "ax1.set_xlim([xLimLow, xLimHigh])\n",
    "ax1.set_ylim([yLimLow, yLimHigh])\n",
    "\n",
    "ax1.set_yticks(latTicks)\n",
    "ax1.set_xticks(lonTicks) \n",
    "\n",
    "ax1.set_yticklabels(latTickLebelsStr, fontSize = tickFontSize)\n",
    "ax1.set_xticklabels('', fontSize = tickFontSize)\n",
    "ax1.set_title('(a)', x = 0.45, y=figTitleDistY, pad=-14, fontsize = textFontSize, loc='left')\n",
    "ax1.text(-106.5, 59, r'2015-2044', fontsize=titleFontSize)\n",
    "#++++++++++++++++++++++++++++++++++++++++++++++++++++++++++++++++++++++++++++++++++++++++++++++++++\n",
    "\n",
    "ax2 = axs[1]\n",
    "cp2 = ax2.contourf(x_Us, y_Us,param_scenEraTwo_diff_masked_Missi,transform=ccrs.PlateCarree(),cmap=cm.BrBG,levels = levels_precip,norm=norm_precip,)\n",
    "plt.grid(b=True, which='major', color='#666666', linestyle='-')\n",
    "\n",
    "p2 = ax2.get_position().get_points().flatten()\n",
    "cbax2 = fig.add_axes([p2[0]+0.20, +0.770, (p2[2]-p2[0])*0.04, 0.112])\n",
    "\n",
    "cbar2 =plt.colorbar(cp2, ax=ax2, cax=cbax2, shrink=.5, ticks=boundaries_precip, orientation = 'vertical') \n",
    "cbar2.ax.tick_params(labelsize = cbarTickFontSize)  # set your label size here   \n",
    "\n",
    "for index, label in enumerate(cbar2.ax.yaxis.get_ticklabels()):\n",
    "    if index % 3 != 0:\n",
    "        label.set_visible(False)\n",
    "        \n",
    "cbar2.set_label(\"mm/mon\", fontsize = cbarTextFontSize)\n",
    "ax2.add_feature(cfeature.RIVERS.with_scale('110m'), color='b', label='Rivers')     # couche rivières = was 50 m\n",
    "\n",
    "ax2.add_feature(missi,facecolor='none',edgecolor='black',linewidth=linewidth) # Mississippi\n",
    "ax2.add_feature(arkansas,facecolor='none',edgecolor='black',linewidth=linewidth) # Arkansas\n",
    "ax2.add_feature(missouri,facecolor='none',edgecolor='black',linewidth=linewidth) # Missouri\n",
    "ax2.add_feature(ohio,facecolor='none',edgecolor='black',linewidth=linewidth) # Ohio\n",
    "\n",
    "ax2.add_feature(cfeature.COASTLINE)\n",
    "ax2.set_xlim([xLimLow, xLimHigh])\n",
    "ax2.set_ylim([yLimLow, yLimHigh])\n",
    "\n",
    "ax2.set_yticks(latTicks)\n",
    "ax2.set_xticks(lonTicks) \n",
    "\n",
    "ax2.set_yticklabels('', fontSize = tickFontSize)\n",
    "ax2.set_xticklabels('', fontSize = tickFontSize)\n",
    "ax2.set_title('(b)', x = 0.45, y=figTitleDistY, pad=-14, fontsize = textFontSize, loc='left')\n",
    "ax2.text(-106, 59, r'2045-2074', fontsize=titleFontSize)\n",
    "ax2.text(-107, 54, r'Precipitation', fontsize=paramFontSize)\n",
    "#+++++++++++++++++++++++++++++++++++++++++++++++++++++++++++++++++++++++++++++++++++++++++++++++++\n",
    "\n",
    "ax3 = axs[2]\n",
    "cp3 = ax3.contourf(x_Us, y_Us,param_scenEraThree_diff_masked_Missi,transform=ccrs.PlateCarree(),cmap=cm.BrBG,levels = levels_precip,norm=norm_precip,)\n",
    "\n",
    "plt.grid(b=True, which='major', color='#666666', linestyle='-')\n",
    "ax3.add_feature(cfeature.RIVERS.with_scale('110m'), color='b', label='Rivers')     # couche rivières = was 50 m\n",
    "\n",
    "ax3.add_feature(missi,facecolor='none',edgecolor='black',linewidth=linewidth) # Mississippi\n",
    "ax3.add_feature(arkansas,facecolor='none',edgecolor='black',linewidth=linewidth) # Arkansas\n",
    "ax3.add_feature(missouri,facecolor='none',edgecolor='black',linewidth=linewidth) # Missouri\n",
    "ax3.add_feature(ohio,facecolor='none',edgecolor='black',linewidth=linewidth) # Ohio\n",
    "\n",
    "ax3.add_feature(cfeature.COASTLINE)\n",
    "ax3.set_xlim([xLimLow, xLimHigh])\n",
    "ax3.set_ylim([yLimLow, yLimHigh])\n",
    "\n",
    "ax3.set_yticks(latTicks)\n",
    "ax3.set_xticks(lonTicks) \n",
    "\n",
    "ax3.set_yticklabels('', fontSize = tickFontSize)\n",
    "ax3.set_xticklabels('', fontSize = tickFontSize)\n",
    "ax3.set_title('(c)', x = 0.45, y=figTitleDistY, pad=-14, fontsize = textFontSize, loc='left')\n",
    "ax3.text(-107.5, 59, r' 2075-2100', fontsize=titleFontSize)\n",
    "#+++++++++++++++++++++++++++++++++++++++++++++++++++++++++++++++++++++++++++++++++++++++++++\n",
    "#+++++++++++++++++++++++++++++++++++++++++++++++++++++++++++++++++++++++++++++++++++++++++++\n",
    "\n",
    "ax4 = axs[3]\n",
    "cp4 = ax4.contourf(x_Us, y_Us,et_scenEraOne_diff_masked_Missi,transform=ccrs.PlateCarree(),cmap=cm.BrBG_r,levels = levels_et,norm=norm_et)\n",
    "\n",
    "plt.grid(b=True, which='major', color='#666666', linestyle='-')\n",
    "\n",
    "ax4.add_feature(cfeature.RIVERS.with_scale('110m'), color='b', label='Rivers')     # couche rivières = was 50 m\n",
    "ax4.add_feature(missi,facecolor='none',edgecolor='black',linewidth=linewidth) # Mississippi\n",
    "ax4.add_feature(arkansas,facecolor='none',edgecolor='black',linewidth=linewidth) # Arkansas\n",
    "ax4.add_feature(missouri,facecolor='none',edgecolor='black',linewidth=linewidth) # Missouri\n",
    "ax4.add_feature(ohio,facecolor='none',edgecolor='black',linewidth=linewidth) # Ohio\n",
    "\n",
    "ax4.add_feature(cfeature.COASTLINE)\n",
    "ax4.set_xlim([xLimLow, xLimHigh])\n",
    "ax4.set_ylim([yLimLow, yLimHigh])\n",
    "\n",
    "ax4.set_yticks(latTicks)\n",
    "ax4.set_xticks(lonTicks) \n",
    "\n",
    "ax4.set_yticklabels(latTickLebelsStr, fontSize = tickFontSize)\n",
    "ax4.set_xticklabels('', fontSize = tickFontSize)\n",
    "ax4.set_title('(d)', x = 0.45, y=figTitleDistY, pad=-14, fontsize = textFontSize, loc='left')\n",
    "#+++++++++++++++++++++++++++++++++++++++++++++++++++++++++++++++++++++++++++\n",
    "\n",
    "ax5 = axs[4]\n",
    "cp5 = ax5.contourf(x_Us, y_Us,et_scenEraTwo_diff_masked_Missi,transform=ccrs.PlateCarree(),cmap=cm.BrBG_r,levels = levels_et,norm=norm_et)\n",
    "plt.grid(b=True, which='major', color='#666666', linestyle='-')\n",
    "\n",
    "p5 = ax5.get_position().get_points().flatten()\n",
    "cbax5 = fig.add_axes([p5[0]+0.20, +0.606, (p5[2]-p5[0])*0.04, 0.112])\n",
    "cbar5 =plt.colorbar(cp5, ax=ax5, cax=cbax5, shrink=.5, ticks=boundaries_et, orientation = 'vertical') \n",
    "cbar5.ax.tick_params(labelsize = cbarTickFontSize)  # set your label size here\n",
    "\n",
    "for index, label in enumerate(cbar5.ax.yaxis.get_ticklabels()):\n",
    "    if index % 4 != 0:\n",
    "        label.set_visible(False)\n",
    "\n",
    "cbar5.set_label(\"mm/mon\", fontsize = cbarTextFontSize)\n",
    "ax5.add_feature(cfeature.RIVERS.with_scale('110m'), color='b', label='Rivers')     # couche rivières = was 50 m\n",
    "\n",
    "ax5.add_feature(missi,facecolor='none',edgecolor='black',linewidth=linewidth) # Mississippi\n",
    "ax5.add_feature(arkansas,facecolor='none',edgecolor='black',linewidth=linewidth) # Arkansas\n",
    "ax5.add_feature(missouri,facecolor='none',edgecolor='black',linewidth=linewidth) # Missouri\n",
    "ax5.add_feature(ohio,facecolor='none',edgecolor='black',linewidth=linewidth) # Ohio\n",
    "\n",
    "ax5.add_feature(cfeature.COASTLINE)\n",
    "ax5.set_xlim([xLimLow, xLimHigh])\n",
    "ax5.set_ylim([yLimLow, yLimHigh])\n",
    "\n",
    "ax5.set_yticks(latTicks)\n",
    "ax5.set_xticks(lonTicks) \n",
    "\n",
    "ax5.set_yticklabels('', fontSize = tickFontSize)\n",
    "ax5.set_xticklabels('', fontSize = tickFontSize)\n",
    "ax5.set_title('(e)', x = 0.45, y=figTitleDistY, pad=-14, fontsize = textFontSize, loc='left')\n",
    "ax5.text(-97, 54, r'ET', fontsize=paramFontSize)\n",
    "#+++++++++++++++++++++++++++++++++++++++++++++++++++++++++++++++++++++++++++++++++++++++++++++++++\n",
    "\n",
    "ax6 = axs[5]\n",
    "cp6 = ax6.contourf(x_Us, y_Us,et_scenEraThree_diff_masked_Missi,transform=ccrs.PlateCarree(),cmap=cm.BrBG_r,levels = levels_et,norm=norm_et)\n",
    "\n",
    "plt.grid(b=True, which='major', color='#666666', linestyle='-')\n",
    "ax6.add_feature(cfeature.RIVERS.with_scale('110m'), color='b', label='Rivers')     # couche rivières = was 50 m\n",
    "\n",
    "ax6.add_feature(missi,facecolor='none',edgecolor='black',linewidth=linewidth) # Mississippi\n",
    "ax6.add_feature(arkansas,facecolor='none',edgecolor='black',linewidth=linewidth) # Arkansas\n",
    "ax6.add_feature(missouri,facecolor='none',edgecolor='black',linewidth=linewidth) # Missouri\n",
    "ax6.add_feature(ohio,facecolor='none',edgecolor='black',linewidth=linewidth) # Ohio\n",
    "\n",
    "ax6.add_feature(cfeature.COASTLINE)\n",
    "ax6.set_xlim([xLimLow, xLimHigh])\n",
    "ax6.set_ylim([yLimLow, yLimHigh])\n",
    "\n",
    "ax6.set_yticks(latTicks)\n",
    "ax6.set_xticks(lonTicks) \n",
    "\n",
    "\n",
    "ax6.set_yticklabels('', fontSize = tickFontSize)\n",
    "ax6.set_xticklabels('', fontSize = tickFontSize)\n",
    "ax6.set_title('(f)', x = 0.45, y=figTitleDistY, pad=-14, fontsize = textFontSize, loc='left')\n",
    "#+++++++++++++++++++++++++++++++++++++++++++++++++++++++++++++++++++++++++++++++++++++++++++\n",
    "#+++++++++++++++++++++++++++++++++++++++++++++++++++++++++++++++++++++++++++++++++++++++++++\n",
    "#++++++++++++++++++++++++++++++++++++++++++++++++++++++++++++++++++++++++++++++++++++++++++\n",
    "\n",
    "ax7 = axs[6]\n",
    "cp7 = ax7.contourf(x_Us, y_Us,snowMelt_scenEraOne_diff_masked_Missi,transform=ccrs.PlateCarree(),cmap=cm.BrBG,levels = levels_snowMelt,norm=norm_snowMelt,)\n",
    "\n",
    "plt.grid(b=True, which='major', color='#666666', linestyle='-')\n",
    "\n",
    "ax7.add_feature(cfeature.RIVERS.with_scale('110m'), color='b', label='Rivers')     # couche rivières = was 50 m\n",
    "ax7.add_feature(missi,facecolor='none',edgecolor='black',linewidth=linewidth) # Mississippi\n",
    "ax7.add_feature(arkansas,facecolor='none',edgecolor='black',linewidth=linewidth) # Arkansas\n",
    "ax7.add_feature(missouri,facecolor='none',edgecolor='black',linewidth=linewidth) # Missouri\n",
    "ax7.add_feature(ohio,facecolor='none',edgecolor='black',linewidth=linewidth) # Ohio\n",
    "\n",
    "ax7.add_feature(cfeature.COASTLINE)\n",
    "ax7.set_xlim([xLimLow, xLimHigh])\n",
    "ax7.set_ylim([yLimLow, yLimHigh])\n",
    "\n",
    "ax7.set_yticks(latTicks)\n",
    "ax7.set_xticks(lonTicks) \n",
    "\n",
    "ax7.set_yticklabels(latTickLebelsStr, fontSize = tickFontSize)\n",
    "ax7.set_xticklabels('', fontSize = tickFontSize)\n",
    "\n",
    "ax7.set_ylabel('Latitude (°N)', fontsize = textFontSize)\n",
    "ax7.set_title('(g)', x = 0.45, y=figTitleDistY, pad=-14, fontsize = textFontSize, loc='left')\n",
    "#+++++++++++++++++++++++++++++++++++++++++++++++++++++++++++++++++++++++++++\n",
    "\n",
    "ax8 = axs[7]\n",
    "cp8 = ax8.contourf(x_Us, y_Us,snowMelt_scenEraTwo_diff_masked_Missi,transform=ccrs.PlateCarree(),cmap=cm.BrBG,levels = levels_snowMelt,norm=norm_snowMelt)\n",
    "\n",
    "plt.grid(b=True, which='major', color='#666666', linestyle='-')\n",
    "\n",
    "p8 = ax8.get_position().get_points().flatten()\n",
    "cbax8 = fig.add_axes([p8[0]+0.20, +0.445, (p8[2]-p8[0])*0.04, 0.112])\n",
    "cbar8 =plt.colorbar(cp8, ax=ax8, cax=cbax8, shrink=.5, ticks=boundaries_snowMelt, orientation = 'vertical') \n",
    "cbar8.ax.tick_params(labelsize = cbarTickFontSize)  # set your label size here\n",
    "\n",
    "for index, label in enumerate(cbar8.ax.yaxis.get_ticklabels()):\n",
    "    if index % 3 != 0:\n",
    "        label.set_visible(False)        \n",
    "\n",
    "cbar8.set_label(\"mm/mon\", fontsize = cbarTextFontSize)\n",
    "\n",
    "ax8.add_feature(cfeature.RIVERS.with_scale('110m'), color='b', label='Rivers')     # couche rivières = was 50 m\n",
    "\n",
    "ax8.add_feature(missi,facecolor='none',edgecolor='black',linewidth=linewidth) # Mississippi\n",
    "ax8.add_feature(arkansas,facecolor='none',edgecolor='black',linewidth=linewidth) # Arkansas\n",
    "ax8.add_feature(missouri,facecolor='none',edgecolor='black',linewidth=linewidth) # Missouri\n",
    "ax8.add_feature(ohio,facecolor='none',edgecolor='black',linewidth=linewidth) # Ohio\n",
    "\n",
    "ax8.add_feature(cfeature.COASTLINE)\n",
    "ax8.set_xlim([xLimLow, xLimHigh])\n",
    "ax8.set_ylim([yLimLow, yLimHigh])\n",
    "\n",
    "ax8.set_yticks(latTicks)\n",
    "ax8.set_xticks(lonTicks) \n",
    "\n",
    "ax8.set_yticklabels('', fontSize = tickFontSize)\n",
    "ax8.set_xticklabels('', fontSize = tickFontSize)\n",
    "\n",
    "ax8.set_title('(h)', x = 0.45, y=figTitleDistY, pad=-14, fontsize = textFontSize, loc='left')\n",
    "ax8.text(-104, 54, r'Snowmelt', fontsize=paramFontSize)\n",
    "#+++++++++++++++++++++++++++++++++++++++++++++++++++++++++++++++++++++++++++++++++++++++++++++++++\n",
    "\n",
    "\n",
    "ax9 = axs[8]\n",
    "cp9 = ax9.contourf(x_Us, y_Us,snowMelt_scenEraThree_diff_masked_Missi,transform=ccrs.PlateCarree(),cmap=cm.BrBG,levels = levels_snowMelt,norm=norm_snowMelt)\n",
    "\n",
    "plt.grid(b=True, which='major', color='#666666', linestyle='-')\n",
    "ax9.add_feature(cfeature.RIVERS.with_scale('110m'), color='b', label='Rivers')     # couche rivières = was 50 m\n",
    "\n",
    "ax9.add_feature(missi,facecolor='none',edgecolor='black',linewidth=linewidth) # Mississippi\n",
    "ax9.add_feature(arkansas,facecolor='none',edgecolor='black',linewidth=linewidth) # Arkansas\n",
    "ax9.add_feature(missouri,facecolor='none',edgecolor='black',linewidth=linewidth) # Missouri\n",
    "ax9.add_feature(ohio,facecolor='none',edgecolor='black',linewidth=linewidth) # Ohio\n",
    "\n",
    "ax9.add_feature(cfeature.COASTLINE)\n",
    "ax9.set_xlim([xLimLow, xLimHigh])\n",
    "ax9.set_ylim([yLimLow, yLimHigh])\n",
    "\n",
    "ax9.set_yticks(latTicks)\n",
    "ax9.set_xticks(lonTicks) \n",
    "\n",
    "ax9.set_yticklabels('', fontSize = tickFontSize)\n",
    "ax9.set_xticklabels('', fontSize = tickFontSize)\n",
    "ax9.set_title('(i)', x = 0.45, y=figTitleDistY, pad=-14, fontsize = textFontSize, loc='left')\n",
    "#+++++++++++++++++++++++++++++++++++++++++++++++++++++++++++++++++++++++++++++++++++++++++++\n",
    "#+++++++++++++++++++++++++++++++++++++++++++++++++++++++++++++++++++++++++++++++++++++++++++\n",
    "#+++++++++++++++++++++++++++++++++++++++++++++++++++++++++++++++++++++++++++++++++++++++++++\n",
    "\n",
    "\n",
    "ax10 = axs[9]\n",
    "cp10 = ax10.contourf(x_Us, y_Us,soilMoist_scenEraOne_diff_masked_Missi,transform=ccrs.PlateCarree(),cmap=cm.BrBG,levels = levels_soilMoist,norm=norm_soilMoist,)\n",
    "\n",
    "plt.grid(b=True, which='major', color='#666666', linestyle='-')\n",
    "\n",
    "\n",
    "ax10.add_feature(cfeature.RIVERS.with_scale('110m'), color='b', label='Rivers')     # couche rivières = was 50 m\n",
    "ax10.add_feature(missi,facecolor='none',edgecolor='black',linewidth=linewidth) # Mississippi\n",
    "ax10.add_feature(arkansas,facecolor='none',edgecolor='black',linewidth=linewidth) # Arkansas\n",
    "ax10.add_feature(missouri,facecolor='none',edgecolor='black',linewidth=linewidth) # Missouri\n",
    "ax10.add_feature(ohio,facecolor='none',edgecolor='black',linewidth=linewidth) # Ohio\n",
    "\n",
    "ax10.add_feature(cfeature.COASTLINE)\n",
    "\n",
    "ax10.set_xlim([xLimLow, xLimHigh])\n",
    "ax10.set_ylim([yLimLow, yLimHigh])\n",
    "\n",
    "ax10.set_yticks(latTicks)\n",
    "ax10.set_xticks(lonTicks) \n",
    "\n",
    "ax10.set_yticklabels(latTickLebelsStr, fontSize = tickFontSize)\n",
    "ax10.set_xticklabels('', fontSize = tickFontSize)\n",
    "ax10.set_title('(j)', x = 0.45, y=figTitleDistY, pad=-14, fontsize = textFontSize, loc='left')\n",
    "#+++++++++++++++++++++++++++++++++++++++++++++++++++++++++++++++++++++++++++\n",
    "\n",
    "ax11 = axs[10]\n",
    "cp11 = ax11.contourf(x_Us, y_Us,soilMoist_scenEraTwo_diff_masked_Missi,transform=ccrs.PlateCarree(),cmap=cm.BrBG,levels = levels_soilMoist,norm=norm_soilMoist,)\n",
    "\n",
    "plt.grid(b=True, which='major', color='#666666', linestyle='-')\n",
    "\n",
    "p11 = ax11.get_position().get_points().flatten()\n",
    "cbax11 = fig.add_axes([p11[0]+0.20, +0.280, (p11[2]-p11[0])*0.04, 0.112])\n",
    "\n",
    "cbar11 =plt.colorbar(cp11, ax=ax11, cax=cbax11, shrink=.5, ticks=boundaries_soilMoist, orientation = 'vertical') \n",
    "\n",
    "cbar11.ax.tick_params(labelsize = cbarTickFontSize)  # set your label size here\n",
    "\n",
    "for index, label in enumerate(cbar11.ax.yaxis.get_ticklabels()):\n",
    "    if index % 3 != 0:\n",
    "        label.set_visible(False)        \n",
    "        \n",
    "    \n",
    "cbar11.set_label(\"kg/$\\mathregular{m^{2}}$\", fontsize = cbarTextFontSize)\n",
    "ax11.add_feature(cfeature.RIVERS.with_scale('110m'), color='b', label='Rivers')     # couche rivières = was 50 m\n",
    "\n",
    "ax11.add_feature(missi,facecolor='none',edgecolor='black',linewidth=linewidth) # Mississippi\n",
    "ax11.add_feature(arkansas,facecolor='none',edgecolor='black',linewidth=linewidth) # Arkansas\n",
    "ax11.add_feature(missouri,facecolor='none',edgecolor='black',linewidth=linewidth) # Missouri\n",
    "ax11.add_feature(ohio,facecolor='none',edgecolor='black',linewidth=linewidth) # Ohio\n",
    "\n",
    "ax11.add_feature(cfeature.COASTLINE)\n",
    "ax11.set_xlim([xLimLow, xLimHigh])\n",
    "ax11.set_ylim([yLimLow, yLimHigh])\n",
    "\n",
    "ax11.set_yticks(latTicks)\n",
    "ax11.set_xticks(lonTicks) \n",
    "\n",
    "ax11.set_yticklabels('', fontSize = tickFontSize)\n",
    "ax11.set_xticklabels('', fontSize = tickFontSize)\n",
    "ax11.set_title('(k)', x = 0.45, y=figTitleDistY, pad=-14, fontsize = textFontSize, loc='left')\n",
    "ax11.text(-107, 54, r'Soil Moisture', fontsize=paramFontSize)\n",
    "#+++++++++++++++++++++++++++++++++++++++++++++++++++++++++++++++++++++++++++++++++++++++++++++++++\n",
    "\n",
    "ax12 = axs[11]\n",
    "cp12 = ax12.contourf(x_Us, y_Us,soilMoist_scenEraThree_diff_masked_Missi,transform=ccrs.PlateCarree(),cmap=cm.BrBG,levels = levels_soilMoist,norm=norm_soilMoist,)\n",
    "\n",
    "plt.grid(b=True, which='major', color='#666666', linestyle='-')\n",
    "ax12.add_feature(cfeature.RIVERS.with_scale('110m'), color='b', label='Rivers')     # couche rivières = was 50 m\n",
    "\n",
    "ax12.add_feature(missi,facecolor='none',edgecolor='black',linewidth=linewidth) # Mississippi\n",
    "ax12.add_feature(arkansas,facecolor='none',edgecolor='black',linewidth=linewidth) # Arkansas\n",
    "ax12.add_feature(missouri,facecolor='none',edgecolor='black',linewidth=linewidth) # Missouri\n",
    "ax12.add_feature(ohio,facecolor='none',edgecolor='black',linewidth=linewidth) # Ohio\n",
    "\n",
    "ax12.add_feature(cfeature.COASTLINE)\n",
    "ax12.set_xlim([xLimLow, xLimHigh])\n",
    "ax12.set_ylim([yLimLow, yLimHigh])\n",
    "\n",
    "ax12.set_yticks(latTicks)\n",
    "ax12.set_xticks(lonTicks) \n",
    "\n",
    "ax12.set_yticklabels('', fontSize = tickFontSize)\n",
    "ax12.set_xticklabels('', fontSize = tickFontSize)\n",
    "ax12.set_title('(l)', x = 0.45, y=figTitleDistY, pad=-14, fontsize = textFontSize, loc='left')\n",
    "#+++++++++++++++++++++++++++++++++++++++++++++++++++++++++++++++++++++++++++++++++++++++++++\n",
    "\n",
    "ax13 = axs[12]\n",
    "cp13 = ax13.contourf(x_Us, y_Us,runoff_scenEraOne_diff_masked_Missi,transform=ccrs.PlateCarree(),cmap=cm.BrBG,levels = levels_runoff,norm=norm_runoff,)\n",
    "\n",
    "plt.grid(b=True, which='major', color='#666666', linestyle='-')\n",
    "\n",
    "\n",
    "ax13.add_feature(cfeature.RIVERS.with_scale('110m'), color='b', label='Rivers')     # couche rivières = was 50 m\n",
    "ax13.add_feature(missi,facecolor='none',edgecolor='black',linewidth=linewidth) # Mississippi\n",
    "ax13.add_feature(arkansas,facecolor='none',edgecolor='black',linewidth=linewidth) # Arkansas\n",
    "ax13.add_feature(missouri,facecolor='none',edgecolor='black',linewidth=linewidth) # Missouri\n",
    "ax13.add_feature(ohio,facecolor='none',edgecolor='black',linewidth=linewidth) # Ohio\n",
    "\n",
    "ax13.add_feature(cfeature.COASTLINE)\n",
    "ax13.set_xlim([xLimLow, xLimHigh])\n",
    "ax13.set_ylim([yLimLow, yLimHigh])\n",
    "\n",
    "ax13.set_yticks(latTicks)\n",
    "ax13.set_xticks(lonTicks) \n",
    "\n",
    "ax13.set_yticklabels(latTickLebelsStr, fontSize = tickFontSize)\n",
    "ax13.set_xticklabels(lonTickLebelsStr, fontSize = tickFontSize)\n",
    "ax13.set_title('(m)', x = 0.45, y=figTitleDistY, pad=-14, fontsize = textFontSize, loc='left')\n",
    "#+++++++++++++++++++++++++++++++++++++++++++++++++++++++++++++++++++++++++++\n",
    "\n",
    "ax14 = axs[13]\n",
    "cp14 = ax14.contourf(x_Us, y_Us,runoff_scenEraTwo_diff_masked_Missi,transform=ccrs.PlateCarree(),cmap=cm.BrBG,levels = levels_runoff,norm=norm_runoff)\n",
    "\n",
    "plt.grid(b=True, which='major', color='#666666', linestyle='-')\n",
    "\n",
    "p14 = ax14.get_position().get_points().flatten()\n",
    "cbax14 = fig.add_axes([p14[0]+0.20, +0.117, (p14[2]-p14[0])*0.04, 0.112])\n",
    "\n",
    "cbar14 =plt.colorbar(cp14, ax=ax14, cax=cbax14, shrink=.5, ticks=boundaries_runoff, orientation = 'vertical') \n",
    "cbar14.ax.tick_params(labelsize = cbarTickFontSize)  # set your label size here\n",
    "\n",
    "for index, label in enumerate(cbar14.ax.yaxis.get_ticklabels()):\n",
    "    if index % 3 != 0:\n",
    "        label.set_visible(False)        \n",
    "        \n",
    "    \n",
    "cbar14.set_label(\"mm/mon\", fontsize = cbarTextFontSize)\n",
    "\n",
    "ax14.add_feature(cfeature.RIVERS.with_scale('110m'), color='b', label='Rivers')     # couche rivières = was 50 m\n",
    "\n",
    "ax14.add_feature(missi,facecolor='none',edgecolor='black',linewidth=linewidth) # Mississippi\n",
    "ax14.add_feature(arkansas,facecolor='none',edgecolor='black',linewidth=linewidth) # Arkansas\n",
    "ax14.add_feature(missouri,facecolor='none',edgecolor='black',linewidth=linewidth) # Missouri\n",
    "ax14.add_feature(ohio,facecolor='none',edgecolor='black',linewidth=linewidth) # Ohio\n",
    "\n",
    "ax14.add_feature(cfeature.COASTLINE)\n",
    "ax14.set_xlim([xLimLow, xLimHigh])\n",
    "ax14.set_ylim([yLimLow, yLimHigh])\n",
    "\n",
    "ax14.set_yticks(latTicks)\n",
    "ax14.set_xticks(lonTicks) \n",
    "\n",
    "ax14.set_yticklabels('', fontSize = tickFontSize)\n",
    "ax14.set_xticklabels(lonTickLebelsStr, fontSize = tickFontSize)\n",
    "ax14.set_xlabel('Longitude (°W)', fontsize = textFontSize)\n",
    "ax14.set_title('(n)', x = 0.45, y=figTitleDistY, pad=-14, fontsize = textFontSize, loc='left')\n",
    "ax14.text(-101, 54, r'Runoff', fontsize=paramFontSize)\n",
    "#+++++++++++++++++++++++++++++++++++++++++++++++++++++++++++++++++++++++++++++++++++++++++++++++++\n",
    "\n",
    "ax15 = axs[14]\n",
    "cp15 = ax15.contourf(x_Us, y_Us,runoff_scenEraThree_diff_masked_Missi,transform=ccrs.PlateCarree(),cmap=cm.BrBG,levels = levels_runoff,norm=norm_runoff)\n",
    "\n",
    "plt.grid(b=True, which='major', color='#666666', linestyle='-')\n",
    "\n",
    "ax15.add_feature(cfeature.RIVERS.with_scale('110m'), color='b', label='Rivers')     # couche rivières = was 50 m\n",
    "\n",
    "ax15.add_feature(missi,facecolor='none',edgecolor='black',linewidth=linewidth) # Mississippi\n",
    "ax15.add_feature(arkansas,facecolor='none',edgecolor='black',linewidth=linewidth) # Arkansas\n",
    "ax15.add_feature(missouri,facecolor='none',edgecolor='black',linewidth=linewidth) # Missouri\n",
    "ax15.add_feature(ohio,facecolor='none',edgecolor='black',linewidth=linewidth) # Ohio\n",
    "\n",
    "ax15.add_feature(cfeature.COASTLINE)\n",
    "ax15.set_xlim([xLimLow, xLimHigh])\n",
    "ax15.set_ylim([yLimLow, yLimHigh])\n",
    "\n",
    "ax15.set_yticks(latTicks)\n",
    "ax15.set_xticks(lonTicks) \n",
    "\n",
    "ax15.set_yticklabels('', fontSize = tickFontSize)\n",
    "ax15.set_xticklabels(lonTickLebelsStr, fontSize = tickFontSize)\n",
    "ax15.set_title('(o)', x = 0.45, y=figTitleDistY, pad=-14, fontsize = textFontSize, loc='left')\n",
    "#+++++++++++++++++++++++++++++++++++++++++++++++++++++++++++++++++++++++++++++++++++++++++++++++++\n",
    "#++++++++++++++++++++++++++++++++++++++++++++++++++++++++++++++++++++++++++++++++++++++++++++++++++\n",
    "#++++++++++++++++++++++++++++++++++++++++++++++++++++++++++++++++++++++++++++++++++++++++++++++++++\n",
    "\n",
    "plt.subplots_adjust(left=0.13,\n",
    "                    bottom=0.1,\n",
    "                    right=0.6,\n",
    "                    top=0.9,\n",
    "                    wspace=0.25,\n",
    "                    hspace=0.1\n",
    "                    )\n",
    "\n",
    "import warnings\n",
    "\n",
    "with warnings.catch_warnings():\n",
    "    warnings.filterwarnings(\"ignore\", category=DeprecationWarning)\n",
    "\n",
    "    \n",
    "#plt.savefig(r'C:\\rezaul\\1.academic\\1.research\\2.project\\mrb\\output\\fig\\paperOne\\param\\gr\\anomSpatial\\tcfParamMap.pdf') \n",
    "#plt.savefig(r'C:\\rezaul\\1.academic\\1.research\\2.project\\mrb\\output\\fig\\paperOne\\param\\gr\\anomSpatial\\tcfParamMap.png', dpi=600)  \n",
    "\n",
    "\n",
    "plt.show()\n"
   ]
  },
  {
   "cell_type": "code",
   "execution_count": null,
   "metadata": {},
   "outputs": [],
   "source": []
  },
  {
   "cell_type": "code",
   "execution_count": null,
   "metadata": {},
   "outputs": [],
   "source": []
  },
  {
   "cell_type": "code",
   "execution_count": null,
   "metadata": {},
   "outputs": [],
   "source": []
  },
  {
   "cell_type": "code",
   "execution_count": null,
   "metadata": {},
   "outputs": [],
   "source": []
  },
  {
   "cell_type": "code",
   "execution_count": null,
   "metadata": {},
   "outputs": [],
   "source": []
  },
  {
   "cell_type": "code",
   "execution_count": null,
   "metadata": {},
   "outputs": [],
   "source": []
  },
  {
   "cell_type": "code",
   "execution_count": null,
   "metadata": {},
   "outputs": [],
   "source": []
  },
  {
   "cell_type": "code",
   "execution_count": 80,
   "metadata": {},
   "outputs": [
    {
     "ename": "SyntaxError",
     "evalue": "invalid syntax (<ipython-input-80-9c5471e7b37b>, line 1)",
     "output_type": "error",
     "traceback": [
      "\u001b[1;36m  File \u001b[1;32m\"<ipython-input-80-9c5471e7b37b>\"\u001b[1;36m, line \u001b[1;32m1\u001b[0m\n\u001b[1;33m    STOP here ==============\u001b[0m\n\u001b[1;37m         ^\u001b[0m\n\u001b[1;31mSyntaxError\u001b[0m\u001b[1;31m:\u001b[0m invalid syntax\n"
     ]
    }
   ],
   "source": [
    "STOP here =============="
   ]
  },
  {
   "cell_type": "code",
   "execution_count": null,
   "metadata": {},
   "outputs": [],
   "source": []
  },
  {
   "cell_type": "code",
   "execution_count": null,
   "metadata": {},
   "outputs": [],
   "source": []
  },
  {
   "cell_type": "code",
   "execution_count": null,
   "metadata": {},
   "outputs": [],
   "source": []
  },
  {
   "cell_type": "code",
   "execution_count": null,
   "metadata": {},
   "outputs": [],
   "source": []
  }
 ],
 "metadata": {
  "kernelspec": {
   "display_name": "Python 3",
   "language": "python",
   "name": "python3"
  },
  "language_info": {
   "codemirror_mode": {
    "name": "ipython",
    "version": 3
   },
   "file_extension": ".py",
   "mimetype": "text/x-python",
   "name": "python",
   "nbconvert_exporter": "python",
   "pygments_lexer": "ipython3",
   "version": "3.8.5"
  }
 },
 "nbformat": 4,
 "nbformat_minor": 4
}
