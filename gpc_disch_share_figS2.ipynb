{
 "cells": [
  {
   "cell_type": "markdown",
   "metadata": {},
   "source": [
    "## This script reads CESM2 Discharge data downloaded from Casper in NCAR (Figure S2)"
   ]
  },
  {
   "cell_type": "markdown",
   "metadata": {},
   "source": [
    "## Import Libraries"
   ]
  },
  {
   "cell_type": "code",
   "execution_count": 1,
   "metadata": {},
   "outputs": [],
   "source": [
    "import numpy as np\n",
    "import pandas as pd\n",
    "import datetime\n",
    "\n",
    "import xarray as xr\n",
    "import seaborn as sns\n",
    "import warnings\n",
    "from matplotlib import pyplot as plt \n"
   ]
  },
  {
   "cell_type": "markdown",
   "metadata": {},
   "source": [
    "## Read Lat, Lon data for the selected Domain processed from \"GLADE\" in Casper"
   ]
  },
  {
   "cell_type": "markdown",
   "metadata": {},
   "source": [
    "### Lat"
   ]
  },
  {
   "cell_type": "code",
   "execution_count": 2,
   "metadata": {},
   "outputs": [
    {
     "name": "stdout",
     "output_type": "stream",
     "text": [
      "(60,)\n",
      "[24.75 25.25 25.75 26.25 26.75 27.25 27.75 28.25 28.75 29.25 29.75 30.25\n",
      " 30.75 31.25 31.75 32.25 32.75 33.25 33.75 34.25 34.75 35.25 35.75 36.25\n",
      " 36.75 37.25 37.75 38.25 38.75 39.25 39.75 40.25 40.75 41.25 41.75 42.25\n",
      " 42.75 43.25 43.75 44.25 44.75 45.25 45.75 46.25 46.75 47.25 47.75 48.25\n",
      " 48.75 49.25 49.75 50.25 50.75 51.25 51.75 52.25 52.75 53.25 53.75 54.25]\n"
     ]
    }
   ],
   "source": [
    "file_LatUs = 'C:/rezaul/1.academic/1.research/2.project/mrb/dt/cesm/cesm2LE/param/discharge/mon/latsUsArr.npy'\n",
    "#file_LatUs = 'https://github.com/rezaulg/CESM2-projection-Mississippi-discharge/blob/main/latsUsArr.npy'\n",
    "\n",
    "lats_US = np.load(file_LatUs)\n",
    "print(lats_US.shape)\n",
    "print(lats_US)"
   ]
  },
  {
   "cell_type": "markdown",
   "metadata": {},
   "source": [
    "### Lon"
   ]
  },
  {
   "cell_type": "code",
   "execution_count": 3,
   "metadata": {},
   "outputs": [
    {
     "name": "stdout",
     "output_type": "stream",
     "text": [
      "(140,)\n",
      "[-130.25 -129.75 -129.25 -128.75 -128.25 -127.75 -127.25 -126.75 -126.25\n",
      " -125.75 -125.25 -124.75 -124.25 -123.75 -123.25 -122.75 -122.25 -121.75\n",
      " -121.25 -120.75 -120.25 -119.75 -119.25 -118.75 -118.25 -117.75 -117.25\n",
      " -116.75 -116.25 -115.75 -115.25 -114.75 -114.25 -113.75 -113.25 -112.75\n",
      " -112.25 -111.75 -111.25 -110.75 -110.25 -109.75 -109.25 -108.75 -108.25\n",
      " -107.75 -107.25 -106.75 -106.25 -105.75 -105.25 -104.75 -104.25 -103.75\n",
      " -103.25 -102.75 -102.25 -101.75 -101.25 -100.75 -100.25  -99.75  -99.25\n",
      "  -98.75  -98.25  -97.75  -97.25  -96.75  -96.25  -95.75  -95.25  -94.75\n",
      "  -94.25  -93.75  -93.25  -92.75  -92.25  -91.75  -91.25  -90.75  -90.25\n",
      "  -89.75  -89.25  -88.75  -88.25  -87.75  -87.25  -86.75  -86.25  -85.75\n",
      "  -85.25  -84.75  -84.25  -83.75  -83.25  -82.75  -82.25  -81.75  -81.25\n",
      "  -80.75  -80.25  -79.75  -79.25  -78.75  -78.25  -77.75  -77.25  -76.75\n",
      "  -76.25  -75.75  -75.25  -74.75  -74.25  -73.75  -73.25  -72.75  -72.25\n",
      "  -71.75  -71.25  -70.75  -70.25  -69.75  -69.25  -68.75  -68.25  -67.75\n",
      "  -67.25  -66.75  -66.25  -65.75  -65.25  -64.75  -64.25  -63.75  -63.25\n",
      "  -62.75  -62.25  -61.75  -61.25  -60.75]\n"
     ]
    }
   ],
   "source": [
    "file_LonUs = 'C:/rezaul/1.academic/1.research/2.project/mrb/dt/cesm/cesm2LE/param/discharge/mon/lonsUsArr.npy'\n",
    "lons_US = np.load(file_LonUs)\n",
    "print(lons_US.shape)\n",
    "print(lons_US)"
   ]
  },
  {
   "cell_type": "markdown",
   "metadata": {},
   "source": [
    "## Historical years and 3 time periods (i.e., Era) in Scenario years"
   ]
  },
  {
   "cell_type": "code",
   "execution_count": 4,
   "metadata": {},
   "outputs": [],
   "source": [
    "histYrSelSt = 1930\n",
    "\n",
    "refPeriodYrSt = 1971\n",
    "refPeriodYrEnd = 2000\n",
    "\n",
    "scenYrSt = 2015\n",
    "scenEraTwoYrSt = 2045\n",
    "scenEraThreeYrSt = 2075\n",
    "\n",
    "scenYrEnd = 2100\n",
    "#"
   ]
  },
  {
   "cell_type": "code",
   "execution_count": 5,
   "metadata": {},
   "outputs": [
    {
     "name": "stdout",
     "output_type": "stream",
     "text": [
      "171\n"
     ]
    }
   ],
   "source": [
    "nYrsHistSelScen = scenYrEnd - histYrSelSt + 1\n",
    "print(nYrsHistSelScen)"
   ]
  },
  {
   "cell_type": "code",
   "execution_count": 6,
   "metadata": {},
   "outputs": [
    {
     "name": "stdout",
     "output_type": "stream",
     "text": [
      "12\n"
     ]
    }
   ],
   "source": [
    "nMonsPerYr = 12     \n",
    "print(nMonsPerYr)"
   ]
  },
  {
   "cell_type": "markdown",
   "metadata": {},
   "source": [
    "## Reference Period"
   ]
  },
  {
   "cell_type": "code",
   "execution_count": 7,
   "metadata": {},
   "outputs": [
    {
     "name": "stdout",
     "output_type": "stream",
     "text": [
      "41 71\n",
      "30\n"
     ]
    }
   ],
   "source": [
    "refPeriodStepSt = (refPeriodYrSt - histYrSelSt)*1\n",
    "refPeriodStepEnd = (refPeriodYrEnd - histYrSelSt + 1)*1\n",
    "print(refPeriodStepSt, refPeriodStepEnd)\n",
    "print(refPeriodStepEnd-refPeriodStepSt)"
   ]
  },
  {
   "cell_type": "markdown",
   "metadata": {},
   "source": [
    "## Era1"
   ]
  },
  {
   "cell_type": "code",
   "execution_count": 8,
   "metadata": {},
   "outputs": [
    {
     "name": "stdout",
     "output_type": "stream",
     "text": [
      "85 115\n",
      "30\n"
     ]
    }
   ],
   "source": [
    "scenEraOneStepSt = (scenYrSt - histYrSelSt)*1\n",
    "scenEraOneStepEnd = (scenEraTwoYrSt - histYrSelSt)*1\n",
    "print(scenEraOneStepSt, scenEraOneStepEnd)\n",
    "print(scenEraOneStepEnd-scenEraOneStepSt)"
   ]
  },
  {
   "cell_type": "markdown",
   "metadata": {},
   "source": [
    "## Era2"
   ]
  },
  {
   "cell_type": "code",
   "execution_count": 9,
   "metadata": {},
   "outputs": [
    {
     "name": "stdout",
     "output_type": "stream",
     "text": [
      "115 145\n",
      "30\n"
     ]
    }
   ],
   "source": [
    "scenEraTwoStepSt = (scenEraTwoYrSt - histYrSelSt)*1\n",
    "scenEraTwoStepEnd = (scenEraThreeYrSt - histYrSelSt)*1\n",
    "\n",
    "print(scenEraTwoStepSt, scenEraTwoStepEnd)\n",
    "print(scenEraTwoStepEnd-scenEraTwoStepSt)"
   ]
  },
  {
   "cell_type": "markdown",
   "metadata": {},
   "source": [
    "## Era3"
   ]
  },
  {
   "cell_type": "code",
   "execution_count": 10,
   "metadata": {},
   "outputs": [
    {
     "name": "stdout",
     "output_type": "stream",
     "text": [
      "145 171\n",
      "26\n"
     ]
    }
   ],
   "source": [
    "scenEraThreeStepSt = (scenEraThreeYrSt - histYrSelSt)*1\n",
    "scenEraThreeStepEnd = (scenYrEnd - histYrSelSt + 1)*1\n",
    "print(scenEraThreeStepSt, scenEraThreeStepEnd)\n",
    "print(scenEraThreeStepEnd-scenEraThreeStepSt)"
   ]
  },
  {
   "cell_type": "markdown",
   "metadata": {},
   "source": [
    "## Formatting X-axis ticks for plotting purpose"
   ]
  },
  {
   "cell_type": "code",
   "execution_count": 11,
   "metadata": {},
   "outputs": [
    {
     "data": {
      "text/html": [
       "<div>\n",
       "<style scoped>\n",
       "    .dataframe tbody tr th:only-of-type {\n",
       "        vertical-align: middle;\n",
       "    }\n",
       "\n",
       "    .dataframe tbody tr th {\n",
       "        vertical-align: top;\n",
       "    }\n",
       "\n",
       "    .dataframe thead th {\n",
       "        text-align: right;\n",
       "    }\n",
       "</style>\n",
       "<table border=\"1\" class=\"dataframe\">\n",
       "  <thead>\n",
       "    <tr style=\"text-align: right;\">\n",
       "      <th></th>\n",
       "      <th>t1</th>\n",
       "    </tr>\n",
       "  </thead>\n",
       "  <tbody>\n",
       "    <tr>\n",
       "      <th>0</th>\n",
       "      <td>1930-01-01</td>\n",
       "    </tr>\n",
       "    <tr>\n",
       "      <th>1</th>\n",
       "      <td>1931-01-01</td>\n",
       "    </tr>\n",
       "    <tr>\n",
       "      <th>2</th>\n",
       "      <td>1932-01-01</td>\n",
       "    </tr>\n",
       "    <tr>\n",
       "      <th>3</th>\n",
       "      <td>1933-01-01</td>\n",
       "    </tr>\n",
       "    <tr>\n",
       "      <th>4</th>\n",
       "      <td>1934-01-01</td>\n",
       "    </tr>\n",
       "    <tr>\n",
       "      <th>...</th>\n",
       "      <td>...</td>\n",
       "    </tr>\n",
       "    <tr>\n",
       "      <th>166</th>\n",
       "      <td>2096-01-01</td>\n",
       "    </tr>\n",
       "    <tr>\n",
       "      <th>167</th>\n",
       "      <td>2097-01-01</td>\n",
       "    </tr>\n",
       "    <tr>\n",
       "      <th>168</th>\n",
       "      <td>2098-01-01</td>\n",
       "    </tr>\n",
       "    <tr>\n",
       "      <th>169</th>\n",
       "      <td>2099-01-01</td>\n",
       "    </tr>\n",
       "    <tr>\n",
       "      <th>170</th>\n",
       "      <td>2100-01-01</td>\n",
       "    </tr>\n",
       "  </tbody>\n",
       "</table>\n",
       "<p>171 rows × 1 columns</p>\n",
       "</div>"
      ],
      "text/plain": [
       "            t1\n",
       "0   1930-01-01\n",
       "1   1931-01-01\n",
       "2   1932-01-01\n",
       "3   1933-01-01\n",
       "4   1934-01-01\n",
       "..         ...\n",
       "166 2096-01-01\n",
       "167 2097-01-01\n",
       "168 2098-01-01\n",
       "169 2099-01-01\n",
       "170 2100-01-01\n",
       "\n",
       "[171 rows x 1 columns]"
      ]
     },
     "execution_count": 11,
     "metadata": {},
     "output_type": "execute_result"
    }
   ],
   "source": [
    "histYrSelSt = 1930\n",
    "scenYrEnd = 2100\n",
    "\n",
    "timeList = []\n",
    "for yr in range(histYrSelSt, scenYrEnd+1):  \n",
    "    \n",
    "    yMD = datetime.datetime(yr,1,1)    \n",
    "    timeList.append(yMD)                   \n",
    "                        \n",
    "timeListDf = pd.DataFrame(timeList)\n",
    "\n",
    "timeListDf.columns = ['t1']\n",
    "timeListDf\n"
   ]
  },
  {
   "cell_type": "code",
   "execution_count": 12,
   "metadata": {},
   "outputs": [
    {
     "data": {
      "text/plain": [
       "Int64Index([0, 20, 40, 60, 80, 100, 120, 140, 160], dtype='int64')"
      ]
     },
     "execution_count": 12,
     "metadata": {},
     "output_type": "execute_result"
    }
   ],
   "source": [
    "yMD = timeListDf['t1'].dt.strftime('%Y').sort_values()\n",
    "multiple = 20\n",
    "\n",
    "multiple = np.ceil(multiple)\n",
    "timeTickLebels = yMD[yMD.index % multiple == 0]\n",
    "timeTicks = yMD.index[yMD.index % multiple == 0]\n",
    "timeTicks\n"
   ]
  },
  {
   "cell_type": "code",
   "execution_count": 13,
   "metadata": {},
   "outputs": [
    {
     "name": "stdout",
     "output_type": "stream",
     "text": [
      "(9,)\n",
      "0      1930\n",
      "20     1950\n",
      "40     1970\n",
      "60     1990\n",
      "80     2010\n",
      "100    2030\n",
      "120    2050\n",
      "140    2070\n",
      "160    2090\n",
      "Name: t1, dtype: object\n"
     ]
    }
   ],
   "source": [
    "print(timeTicks.shape)\n",
    "print(timeTickLebels)"
   ]
  },
  {
   "cell_type": "markdown",
   "metadata": {},
   "source": [
    "## Color for plotting"
   ]
  },
  {
   "cell_type": "code",
   "execution_count": 14,
   "metadata": {},
   "outputs": [],
   "source": [
    "width = 0.5  # the width of the bars\n",
    "\n",
    "my_colors = [\"green\", \"blue\", \n",
    "             \"orange\", \"red\"]\n",
    "sns.set_palette( my_colors )"
   ]
  },
  {
   "cell_type": "markdown",
   "metadata": {},
   "source": [
    "## Using Monthly Data (HistSel + Scen) for the US domain from Ensemble Members"
   ]
  },
  {
   "cell_type": "code",
   "execution_count": 15,
   "metadata": {},
   "outputs": [
    {
     "name": "stdout",
     "output_type": "stream",
     "text": [
      "(1020, 60, 140)\n"
     ]
    },
    {
     "data": {
      "text/plain": [
       "1.0000000000000002e+36"
      ]
     },
     "execution_count": 15,
     "metadata": {},
     "output_type": "execute_result"
    }
   ],
   "source": [
    "file_histSel_Us_ensMean = 'C:/rezaul/1.academic/1.research/2.project/mrb/dt/cesm/cesm2LE/param/discharge/mon/monDischUsHistSelEnsMean.npy'\n",
    "file_histSel_Us_ensMean_loaded = np.load(file_histSel_Us_ensMean)\n",
    "print(file_histSel_Us_ensMean_loaded.shape)\n",
    "maxVal = np.nanmax(file_histSel_Us_ensMean_loaded)\n",
    "maxVal"
   ]
  },
  {
   "cell_type": "code",
   "execution_count": 16,
   "metadata": {},
   "outputs": [
    {
     "name": "stdout",
     "output_type": "stream",
     "text": [
      "(1032, 60, 140)\n"
     ]
    },
    {
     "data": {
      "text/plain": [
       "1.0000000000000002e+36"
      ]
     },
     "execution_count": 16,
     "metadata": {},
     "output_type": "execute_result"
    }
   ],
   "source": [
    "file_scen_Us_ensMean = 'C:/rezaul/1.academic/1.research/2.project/mrb/dt/cesm/cesm2LE/param/discharge/mon/monDischUsScenEnsMean.npy'\n",
    "file_scen_Us_ensMean_loaded = np.load(file_scen_Us_ensMean)\n",
    "print(file_scen_Us_ensMean_loaded.shape)\n",
    "maxVal = np.nanmax(file_scen_Us_ensMean_loaded)\n",
    "maxVal"
   ]
  },
  {
   "cell_type": "markdown",
   "metadata": {},
   "source": [
    "## Concatenate two data arrays"
   ]
  },
  {
   "cell_type": "code",
   "execution_count": 17,
   "metadata": {},
   "outputs": [
    {
     "name": "stdout",
     "output_type": "stream",
     "text": [
      "(2052, 60, 140)\n"
     ]
    }
   ],
   "source": [
    "disch_histSel_scen_Us_ensMean = np.concatenate((file_histSel_Us_ensMean_loaded, file_scen_Us_ensMean_loaded), axis=0)\n",
    "print(disch_histSel_scen_Us_ensMean.shape)"
   ]
  },
  {
   "cell_type": "markdown",
   "metadata": {},
   "source": [
    "## Extracting discharge values at different outlet points "
   ]
  },
  {
   "cell_type": "markdown",
   "metadata": {},
   "source": [
    "### Coordinates"
   ]
  },
  {
   "cell_type": "code",
   "execution_count": 18,
   "metadata": {},
   "outputs": [],
   "source": [
    "# Missouri at Hermann\n",
    "latTrgt_MissouriHermann = 38.71\n",
    "lonTrgt_MissouriHermann = -91.44\n",
    "\n",
    "# Arkansas at Murray Dam near Little Rock\n",
    "latTrgt_ArkansasMurrayLittleRock = 34.79\n",
    "lonTrgt_ArkansasMurrayLittleRock = -92.36\n",
    "\n",
    "# Ohio at Olmsted\n",
    "latTrgt_OhioOlmsted = 37.18\n",
    "lonTrgt_OhioOlmsted = -89.06\n",
    "\n",
    "# Mississippi at Vicksburg\n",
    "latTrgt_MissiVicks = 32.32\n",
    "lonTrgt_MissiVicks = -90.91\n"
   ]
  },
  {
   "cell_type": "code",
   "execution_count": 19,
   "metadata": {},
   "outputs": [
    {
     "name": "stdout",
     "output_type": "stream",
     "text": [
      "28 78\n",
      "20 76\n",
      "25 82\n",
      "15 79\n"
     ]
    }
   ],
   "source": [
    "# Missouri at Hermann\n",
    "latTrgtIndex_MissouriHermann = np.argmin( np.abs(lats_US - latTrgt_MissouriHermann))\n",
    "lonTrgtIndex_MissouriHermann = np.argmin( np.abs(lons_US - lonTrgt_MissouriHermann))\n",
    "print(latTrgtIndex_MissouriHermann, lonTrgtIndex_MissouriHermann)\n",
    "\n",
    "# Arkansas at Murray Dam near Little Rock\n",
    "latTrgtIndex_ArkansasMurrayLittleRock = np.argmin( np.abs(lats_US - latTrgt_ArkansasMurrayLittleRock))\n",
    "lonTrgtIndex_ArkansasMurrayLittleRock = np.argmin( np.abs(lons_US - lonTrgt_ArkansasMurrayLittleRock))\n",
    "print(latTrgtIndex_ArkansasMurrayLittleRock, lonTrgtIndex_ArkansasMurrayLittleRock)\n",
    "\n",
    "# Ohio at Olmsted\n",
    "latTrgtIndex_OhioOlmsted = np.argmin( np.abs(lats_US - latTrgt_OhioOlmsted))\n",
    "lonTrgtIndex_OhioOlmsted = np.argmin( np.abs(lons_US - lonTrgt_OhioOlmsted))\n",
    "print(latTrgtIndex_OhioOlmsted, lonTrgtIndex_OhioOlmsted)\n",
    "\n",
    "# Mississippi at Vicksburg\n",
    "latTrgtIndex_MissiVicks = np.argmin( np.abs(lats_US - latTrgt_MissiVicks))\n",
    "lonTrgtIndex_MissiVicks = np.argmin( np.abs(lons_US - lonTrgt_MissiVicks))\n",
    "print(latTrgtIndex_MissiVicks, lonTrgtIndex_MissiVicks)\n"
   ]
  },
  {
   "cell_type": "markdown",
   "metadata": {},
   "source": [
    "## Missouri at Hermann"
   ]
  },
  {
   "cell_type": "code",
   "execution_count": 20,
   "metadata": {},
   "outputs": [
    {
     "name": "stdout",
     "output_type": "stream",
     "text": [
      "(2052,)\n",
      "(171, 12)\n",
      "(171,)\n"
     ]
    }
   ],
   "source": [
    "disch_histSel_scen_ensMean_MissouriHermann = disch_histSel_scen_Us_ensMean[:, latTrgtIndex_MissouriHermann, lonTrgtIndex_MissouriHermann]\n",
    "print(disch_histSel_scen_ensMean_MissouriHermann.shape)\n",
    "\n",
    "disch_histSel_scen_ensMean_Yr_MissouriHermann = np.reshape(disch_histSel_scen_ensMean_MissouriHermann,(nYrsHistSelScen, nMonsPerYr))\n",
    "print(disch_histSel_scen_ensMean_Yr_MissouriHermann.shape)\n",
    "\n",
    "disch_yrMean_histSel_scen_ensMean_MissouriHermannArr = np.nanmean(disch_histSel_scen_ensMean_Yr_MissouriHermann, axis = 1)\n",
    "print(disch_yrMean_histSel_scen_ensMean_MissouriHermannArr.shape)\n"
   ]
  },
  {
   "cell_type": "markdown",
   "metadata": {},
   "source": [
    "### Sub-setting the time series into historical reference and 3 time periods in the 21st century"
   ]
  },
  {
   "cell_type": "code",
   "execution_count": 21,
   "metadata": {},
   "outputs": [
    {
     "name": "stdout",
     "output_type": "stream",
     "text": [
      "(30,)\n",
      "(30,)\n",
      "(30,)\n",
      "(26,)\n"
     ]
    }
   ],
   "source": [
    "disch_yrMean_refPeriod_ensMean_MissouriHermannArr = disch_yrMean_histSel_scen_ensMean_MissouriHermannArr[refPeriodStepSt:refPeriodStepEnd]\n",
    "print(disch_yrMean_refPeriod_ensMean_MissouriHermannArr.shape)\n",
    "\n",
    "disch_yrMean_eraOne_ensMean_MissouriHermannArr = disch_yrMean_histSel_scen_ensMean_MissouriHermannArr[scenEraOneStepSt:scenEraOneStepEnd]\n",
    "print(disch_yrMean_eraOne_ensMean_MissouriHermannArr.shape)\n",
    "\n",
    "disch_yrMean_eraTwo_ensMean_MissouriHermannArr = disch_yrMean_histSel_scen_ensMean_MissouriHermannArr[scenEraTwoStepSt:scenEraTwoStepEnd]\n",
    "print(disch_yrMean_eraTwo_ensMean_MissouriHermannArr.shape)\n",
    "\n",
    "disch_yrMean_eraThree_ensMean_MissouriHermannArr = disch_yrMean_histSel_scen_ensMean_MissouriHermannArr[scenEraThreeStepSt:scenEraThreeStepEnd]\n",
    "print(disch_yrMean_eraThree_ensMean_MissouriHermannArr.shape)"
   ]
  },
  {
   "cell_type": "markdown",
   "metadata": {},
   "source": [
    "### Percent change calculation"
   ]
  },
  {
   "cell_type": "code",
   "execution_count": 22,
   "metadata": {},
   "outputs": [
    {
     "name": "stdout",
     "output_type": "stream",
     "text": [
      "4269.254595404186\n",
      "\n",
      "(171,)\n",
      "\n",
      "(30,)\n",
      "(30,)\n",
      "(26,)\n"
     ]
    }
   ],
   "source": [
    "\n",
    "disch_yrMean_refPeriodMean_ensMean_MissouriHermannArr = np.nanmean(disch_yrMean_refPeriod_ensMean_MissouriHermannArr)\n",
    "print(disch_yrMean_refPeriodMean_ensMean_MissouriHermannArr)\n",
    "print('')\n",
    "\n",
    "disch_yrMeanPercCh_histSel_scen_ensMean_MissouriHermannArr = (disch_yrMean_histSel_scen_ensMean_MissouriHermannArr - disch_yrMean_refPeriodMean_ensMean_MissouriHermannArr)/disch_yrMean_refPeriodMean_ensMean_MissouriHermannArr*100\n",
    "print(disch_yrMeanPercCh_histSel_scen_ensMean_MissouriHermannArr.shape)\n",
    "print('')\n",
    "\n",
    "disch_yrMeanPercCh_eraOne_ensMean_MissouriHermannArr = disch_yrMeanPercCh_histSel_scen_ensMean_MissouriHermannArr[scenEraOneStepSt:scenEraOneStepEnd]\n",
    "print(disch_yrMeanPercCh_eraOne_ensMean_MissouriHermannArr.shape)\n",
    "\n",
    "disch_yrMeanPercCh_eraTwo_ensMean_MissouriHermannArr = disch_yrMeanPercCh_histSel_scen_ensMean_MissouriHermannArr[scenEraTwoStepSt:scenEraTwoStepEnd]\n",
    "print(disch_yrMeanPercCh_eraTwo_ensMean_MissouriHermannArr.shape)\n",
    "\n",
    "disch_yrMeanPercCh_eraThree_ensMean_MissouriHermannArr = disch_yrMeanPercCh_histSel_scen_ensMean_MissouriHermannArr[scenEraThreeStepSt:scenEraThreeStepEnd]\n",
    "print(disch_yrMeanPercCh_eraThree_ensMean_MissouriHermannArr.shape)"
   ]
  },
  {
   "cell_type": "markdown",
   "metadata": {},
   "source": [
    "## Arkansas at Murray Dam near Little Rock"
   ]
  },
  {
   "cell_type": "code",
   "execution_count": 23,
   "metadata": {},
   "outputs": [
    {
     "name": "stdout",
     "output_type": "stream",
     "text": [
      "(2052,)\n",
      "(171, 12)\n",
      "(171,)\n"
     ]
    }
   ],
   "source": [
    "disch_histSel_scen_ensMean_ArkansasMurrayLittleRock = disch_histSel_scen_Us_ensMean[:, latTrgtIndex_ArkansasMurrayLittleRock, lonTrgtIndex_ArkansasMurrayLittleRock]\n",
    "print(disch_histSel_scen_ensMean_ArkansasMurrayLittleRock.shape)\n",
    "\n",
    "disch_histSel_scen_ensMean_Yr_ArkansasMurrayLittleRock = np.reshape(disch_histSel_scen_ensMean_ArkansasMurrayLittleRock,(nYrsHistSelScen, nMonsPerYr))\n",
    "print(disch_histSel_scen_ensMean_Yr_ArkansasMurrayLittleRock.shape)\n",
    "\n",
    "disch_yrMean_histSel_scen_ensMean_ArkansasMurrayLittleRockArr = np.nanmean(disch_histSel_scen_ensMean_Yr_ArkansasMurrayLittleRock, axis = 1)\n",
    "print(disch_yrMean_histSel_scen_ensMean_ArkansasMurrayLittleRockArr.shape)\n"
   ]
  },
  {
   "cell_type": "markdown",
   "metadata": {},
   "source": [
    "### Sub-setting the time series into historical reference and 3 time periods in the 21st century"
   ]
  },
  {
   "cell_type": "code",
   "execution_count": 24,
   "metadata": {},
   "outputs": [
    {
     "name": "stdout",
     "output_type": "stream",
     "text": [
      "(30,)\n",
      "(30,)\n",
      "(30,)\n",
      "(26,)\n"
     ]
    }
   ],
   "source": [
    "disch_yrMean_refPeriod_ensMean_ArkansasMurrayLittleRockArr = disch_yrMean_histSel_scen_ensMean_ArkansasMurrayLittleRockArr[refPeriodStepSt:refPeriodStepEnd]\n",
    "print(disch_yrMean_refPeriod_ensMean_ArkansasMurrayLittleRockArr.shape)\n",
    "\n",
    "disch_yrMean_eraOne_ensMean_ArkansasMurrayLittleRockArr = disch_yrMean_histSel_scen_ensMean_ArkansasMurrayLittleRockArr[scenEraOneStepSt:scenEraOneStepEnd]\n",
    "print(disch_yrMean_eraOne_ensMean_ArkansasMurrayLittleRockArr.shape)\n",
    "\n",
    "disch_yrMean_eraTwo_ensMean_ArkansasMurrayLittleRockArr = disch_yrMean_histSel_scen_ensMean_ArkansasMurrayLittleRockArr[scenEraTwoStepSt:scenEraTwoStepEnd]\n",
    "print(disch_yrMean_eraTwo_ensMean_ArkansasMurrayLittleRockArr.shape)\n",
    "\n",
    "disch_yrMean_eraThree_ensMean_ArkansasMurrayLittleRockArr = disch_yrMean_histSel_scen_ensMean_ArkansasMurrayLittleRockArr[scenEraThreeStepSt:scenEraThreeStepEnd]\n",
    "print(disch_yrMean_eraThree_ensMean_ArkansasMurrayLittleRockArr.shape)"
   ]
  },
  {
   "cell_type": "markdown",
   "metadata": {},
   "source": [
    "### Percent change calculation"
   ]
  },
  {
   "cell_type": "code",
   "execution_count": 25,
   "metadata": {},
   "outputs": [
    {
     "name": "stdout",
     "output_type": "stream",
     "text": [
      "1798.0349709062723\n",
      "\n",
      "(171,)\n",
      "\n",
      "(30,)\n",
      "(30,)\n",
      "(26,)\n"
     ]
    }
   ],
   "source": [
    "disch_yrMean_refPeriodMean_ensMean_ArkansasMurrayLittleRockArr = np.nanmean(disch_yrMean_refPeriod_ensMean_ArkansasMurrayLittleRockArr)\n",
    "print(disch_yrMean_refPeriodMean_ensMean_ArkansasMurrayLittleRockArr)\n",
    "print('')\n",
    "\n",
    "disch_yrMeanPercCh_histSel_scen_ensMean_ArkansasMurrayLittleRockArr = (disch_yrMean_histSel_scen_ensMean_ArkansasMurrayLittleRockArr - disch_yrMean_refPeriodMean_ensMean_ArkansasMurrayLittleRockArr)/disch_yrMean_refPeriodMean_ensMean_ArkansasMurrayLittleRockArr*100\n",
    "print(disch_yrMeanPercCh_histSel_scen_ensMean_ArkansasMurrayLittleRockArr.shape)\n",
    "print('')\n",
    "\n",
    "disch_yrMeanPercCh_eraOne_ensMean_ArkansasMurrayLittleRockArr = disch_yrMeanPercCh_histSel_scen_ensMean_ArkansasMurrayLittleRockArr[scenEraOneStepSt:scenEraOneStepEnd]\n",
    "print(disch_yrMeanPercCh_eraOne_ensMean_ArkansasMurrayLittleRockArr.shape)\n",
    "\n",
    "disch_yrMeanPercCh_eraTwo_ensMean_ArkansasMurrayLittleRockArr = disch_yrMeanPercCh_histSel_scen_ensMean_ArkansasMurrayLittleRockArr[scenEraTwoStepSt:scenEraTwoStepEnd]\n",
    "print(disch_yrMeanPercCh_eraTwo_ensMean_ArkansasMurrayLittleRockArr.shape)\n",
    "\n",
    "disch_yrMeanPercCh_eraThree_ensMean_ArkansasMurrayLittleRockArr = disch_yrMeanPercCh_histSel_scen_ensMean_ArkansasMurrayLittleRockArr[scenEraThreeStepSt:scenEraThreeStepEnd]\n",
    "print(disch_yrMeanPercCh_eraThree_ensMean_ArkansasMurrayLittleRockArr.shape)"
   ]
  },
  {
   "cell_type": "markdown",
   "metadata": {},
   "source": [
    "## Ohio River at Olmsted"
   ]
  },
  {
   "cell_type": "code",
   "execution_count": 26,
   "metadata": {},
   "outputs": [
    {
     "name": "stdout",
     "output_type": "stream",
     "text": [
      "(2052,)\n",
      "(171, 12)\n",
      "(171,)\n"
     ]
    }
   ],
   "source": [
    "disch_histSel_scen_ensMean_OhioOlmsted = disch_histSel_scen_Us_ensMean[:, latTrgtIndex_OhioOlmsted, lonTrgtIndex_OhioOlmsted]\n",
    "print(disch_histSel_scen_ensMean_OhioOlmsted.shape)\n",
    "\n",
    "disch_histSel_scen_ensMean_Yr_OhioOlmsted = np.reshape(disch_histSel_scen_ensMean_OhioOlmsted,(nYrsHistSelScen, nMonsPerYr))\n",
    "print(disch_histSel_scen_ensMean_Yr_OhioOlmsted.shape)\n",
    "\n",
    "disch_yrMean_histSel_scen_ensMean_OhioOlmstedArr = np.nanmean(disch_histSel_scen_ensMean_Yr_OhioOlmsted, axis = 1)\n",
    "print(disch_yrMean_histSel_scen_ensMean_OhioOlmstedArr.shape)\n"
   ]
  },
  {
   "cell_type": "markdown",
   "metadata": {},
   "source": [
    "### Sub-setting the time series into historical reference and 3 time periods in the 21st century"
   ]
  },
  {
   "cell_type": "code",
   "execution_count": 27,
   "metadata": {},
   "outputs": [
    {
     "name": "stdout",
     "output_type": "stream",
     "text": [
      "(30,)\n",
      "(30,)\n",
      "(30,)\n",
      "(26,)\n"
     ]
    }
   ],
   "source": [
    "disch_yrMean_refPeriod_ensMean_OhioOlmstedArr = disch_yrMean_histSel_scen_ensMean_OhioOlmstedArr[refPeriodStepSt:refPeriodStepEnd]\n",
    "print(disch_yrMean_refPeriod_ensMean_OhioOlmstedArr.shape)\n",
    "\n",
    "disch_yrMean_eraOne_ensMean_OhioOlmstedArr = disch_yrMean_histSel_scen_ensMean_OhioOlmstedArr[scenEraOneStepSt:scenEraOneStepEnd]\n",
    "print(disch_yrMean_eraOne_ensMean_OhioOlmstedArr.shape)\n",
    "\n",
    "disch_yrMean_eraTwo_ensMean_OhioOlmstedArr = disch_yrMean_histSel_scen_ensMean_OhioOlmstedArr[scenEraTwoStepSt:scenEraTwoStepEnd]\n",
    "print(disch_yrMean_eraTwo_ensMean_OhioOlmstedArr.shape)\n",
    "\n",
    "disch_yrMean_eraThree_ensMean_OhioOlmstedArr = disch_yrMean_histSel_scen_ensMean_OhioOlmstedArr[scenEraThreeStepSt:scenEraThreeStepEnd]\n",
    "print(disch_yrMean_eraThree_ensMean_OhioOlmstedArr.shape)"
   ]
  },
  {
   "cell_type": "markdown",
   "metadata": {},
   "source": [
    "### Percent change calculation"
   ]
  },
  {
   "cell_type": "code",
   "execution_count": 28,
   "metadata": {},
   "outputs": [
    {
     "name": "stdout",
     "output_type": "stream",
     "text": [
      "7890.239422232165\n",
      "\n",
      "(171,)\n",
      "\n",
      "(30,)\n",
      "(30,)\n",
      "(26,)\n"
     ]
    }
   ],
   "source": [
    "disch_yrMean_refPeriodMean_ensMean_OhioOlmstedArr = np.nanmean(disch_yrMean_refPeriod_ensMean_OhioOlmstedArr)\n",
    "print(disch_yrMean_refPeriodMean_ensMean_OhioOlmstedArr)\n",
    "print('')\n",
    "\n",
    "disch_yrMeanPercCh_histSel_scen_ensMean_OhioOlmstedArr = (disch_yrMean_histSel_scen_ensMean_OhioOlmstedArr - disch_yrMean_refPeriodMean_ensMean_OhioOlmstedArr)/disch_yrMean_refPeriodMean_ensMean_OhioOlmstedArr*100\n",
    "print(disch_yrMeanPercCh_histSel_scen_ensMean_OhioOlmstedArr.shape)\n",
    "print('')\n",
    "\n",
    "disch_yrMeanPercCh_eraOne_ensMean_OhioOlmstedArr = disch_yrMeanPercCh_histSel_scen_ensMean_OhioOlmstedArr[scenEraOneStepSt:scenEraOneStepEnd]\n",
    "print(disch_yrMeanPercCh_eraOne_ensMean_OhioOlmstedArr.shape)\n",
    "\n",
    "disch_yrMeanPercCh_eraTwo_ensMean_OhioOlmstedArr = disch_yrMeanPercCh_histSel_scen_ensMean_OhioOlmstedArr[scenEraTwoStepSt:scenEraTwoStepEnd]\n",
    "print(disch_yrMeanPercCh_eraTwo_ensMean_OhioOlmstedArr.shape)\n",
    "\n",
    "disch_yrMeanPercCh_eraThree_ensMean_OhioOlmstedArr = disch_yrMeanPercCh_histSel_scen_ensMean_OhioOlmstedArr[scenEraThreeStepSt:scenEraThreeStepEnd]\n",
    "print(disch_yrMeanPercCh_eraThree_ensMean_OhioOlmstedArr.shape)"
   ]
  },
  {
   "cell_type": "markdown",
   "metadata": {},
   "source": [
    "## Mississippi at Vicksburg"
   ]
  },
  {
   "cell_type": "code",
   "execution_count": 29,
   "metadata": {},
   "outputs": [
    {
     "name": "stdout",
     "output_type": "stream",
     "text": [
      "(2052,)\n",
      "(171, 12)\n",
      "(171,)\n"
     ]
    }
   ],
   "source": [
    "disch_histSel_scen_ensMean_MissiVicks = disch_histSel_scen_Us_ensMean[:, latTrgtIndex_MissiVicks, lonTrgtIndex_MissiVicks]\n",
    "print(disch_histSel_scen_ensMean_MissiVicks.shape)\n",
    "\n",
    "disch_histSel_scen_ensMean_Yr_MissiVicks=np.reshape(disch_histSel_scen_ensMean_MissiVicks,(nYrsHistSelScen, nMonsPerYr))\n",
    "print(disch_histSel_scen_ensMean_Yr_MissiVicks.shape)\n",
    "\n",
    "disch_yrMean_histSel_scen_ensMean_MissiVicksArr = np.nanmean(disch_histSel_scen_ensMean_Yr_MissiVicks, axis = 1)\n",
    "print(disch_yrMean_histSel_scen_ensMean_MissiVicksArr.shape)"
   ]
  },
  {
   "cell_type": "markdown",
   "metadata": {},
   "source": [
    "### Sub-setting the time series into historical reference and 3 time periods in the 21st century"
   ]
  },
  {
   "cell_type": "code",
   "execution_count": 30,
   "metadata": {},
   "outputs": [
    {
     "name": "stdout",
     "output_type": "stream",
     "text": [
      "(30,)\n",
      "(30,)\n",
      "(30,)\n",
      "(26,)\n"
     ]
    }
   ],
   "source": [
    "disch_yrMean_refPeriod_ensMean_MissiVicksArr = disch_yrMean_histSel_scen_ensMean_MissiVicksArr[refPeriodStepSt:refPeriodStepEnd]\n",
    "print(disch_yrMean_refPeriod_ensMean_MissiVicksArr.shape)\n",
    "\n",
    "disch_yrMean_eraOne_ensMean_MissiVicksArr = disch_yrMean_histSel_scen_ensMean_MissiVicksArr[scenEraOneStepSt:scenEraOneStepEnd]\n",
    "print(disch_yrMean_eraOne_ensMean_MissiVicksArr.shape)\n",
    "\n",
    "disch_yrMean_eraTwo_ensMean_MissiVicksArr = disch_yrMean_histSel_scen_ensMean_MissiVicksArr[scenEraTwoStepSt:scenEraTwoStepEnd]\n",
    "print(disch_yrMean_eraTwo_ensMean_MissiVicksArr.shape)\n",
    "\n",
    "disch_yrMean_eraThree_ensMean_MissiVicksArr = disch_yrMean_histSel_scen_ensMean_MissiVicksArr[scenEraThreeStepSt:scenEraThreeStepEnd]\n",
    "print(disch_yrMean_eraThree_ensMean_MissiVicksArr.shape)"
   ]
  },
  {
   "cell_type": "markdown",
   "metadata": {},
   "source": [
    "### Percent change calculation"
   ]
  },
  {
   "cell_type": "code",
   "execution_count": 31,
   "metadata": {},
   "outputs": [
    {
     "name": "stdout",
     "output_type": "stream",
     "text": [
      "22716.041475665006\n",
      "\n",
      "(171,)\n",
      "\n",
      "(30,)\n",
      "(30,)\n",
      "(26,)\n"
     ]
    }
   ],
   "source": [
    "disch_yrMean_refPeriodMean_ensMean_MissiVicksArr = np.nanmean(disch_yrMean_refPeriod_ensMean_MissiVicksArr)\n",
    "print(disch_yrMean_refPeriodMean_ensMean_MissiVicksArr)\n",
    "print('')\n",
    "\n",
    "disch_yrMeanPercCh_histSel_scen_ensMean_MissiVicksArr = (disch_yrMean_histSel_scen_ensMean_MissiVicksArr - disch_yrMean_refPeriodMean_ensMean_MissiVicksArr)/disch_yrMean_refPeriodMean_ensMean_MissiVicksArr*100\n",
    "print(disch_yrMeanPercCh_histSel_scen_ensMean_MissiVicksArr.shape)\n",
    "print('')\n",
    "\n",
    "disch_yrMeanPercCh_eraOne_ensMean_MissiVicksArr = disch_yrMeanPercCh_histSel_scen_ensMean_MissiVicksArr[scenEraOneStepSt:scenEraOneStepEnd]\n",
    "print(disch_yrMeanPercCh_eraOne_ensMean_MissiVicksArr.shape)\n",
    "\n",
    "disch_yrMeanPercCh_eraTwo_ensMean_MissiVicksArr = disch_yrMeanPercCh_histSel_scen_ensMean_MissiVicksArr[scenEraTwoStepSt:scenEraTwoStepEnd]\n",
    "print(disch_yrMeanPercCh_eraTwo_ensMean_MissiVicksArr.shape)\n",
    "\n",
    "disch_yrMeanPercCh_eraThree_ensMean_MissiVicksArr = disch_yrMeanPercCh_histSel_scen_ensMean_MissiVicksArr[scenEraThreeStepSt:scenEraThreeStepEnd]\n",
    "print(disch_yrMeanPercCh_eraThree_ensMean_MissiVicksArr.shape)\n"
   ]
  },
  {
   "cell_type": "markdown",
   "metadata": {},
   "source": [
    "## Partitioning wrt Max discharge"
   ]
  },
  {
   "cell_type": "code",
   "execution_count": 32,
   "metadata": {},
   "outputs": [
    {
     "name": "stdout",
     "output_type": "stream",
     "text": [
      "(171,)\n"
     ]
    }
   ],
   "source": [
    "print(disch_yrMean_histSel_scen_ensMean_MissiVicksArr.shape)"
   ]
  },
  {
   "cell_type": "code",
   "execution_count": 33,
   "metadata": {},
   "outputs": [
    {
     "name": "stdout",
     "output_type": "stream",
     "text": [
      "26588.07713656241\n"
     ]
    }
   ],
   "source": [
    "maxDischVicks = np.nanmax(disch_yrMean_histSel_scen_ensMean_MissiVicksArr)\n",
    "print(maxDischVicks)"
   ]
  },
  {
   "cell_type": "code",
   "execution_count": 34,
   "metadata": {},
   "outputs": [],
   "source": [
    "\n",
    "disch_yrMean_histSel_scen_ensMean_rel_MissouriHermannArr = disch_yrMean_histSel_scen_ensMean_MissouriHermannArr/maxDischVicks\n",
    "disch_yrMean_histSel_scen_ensMean_rel_ArkansasMurrayLittleRockArr = disch_yrMean_histSel_scen_ensMean_ArkansasMurrayLittleRockArr/maxDischVicks\n",
    "disch_yrMean_histSel_scen_ensMean_rel_OhioOlmstedArr = disch_yrMean_histSel_scen_ensMean_OhioOlmstedArr/maxDischVicks\n",
    "disch_yrMean_histSel_scen_ensMean_rel_MissiVicksArr = disch_yrMean_histSel_scen_ensMean_MissiVicksArr/maxDischVicks\n"
   ]
  },
  {
   "cell_type": "code",
   "execution_count": 35,
   "metadata": {},
   "outputs": [
    {
     "name": "stderr",
     "output_type": "stream",
     "text": [
      "<ipython-input-35-0f640efa1fa9>:25: UserWarning: FixedFormatter should only be used together with FixedLocator\n",
      "  ax1.xaxis.set_major_formatter(plt.FixedFormatter(yMD))\n",
      "<ipython-input-35-0f640efa1fa9>:48: UserWarning: FixedFormatter should only be used together with FixedLocator\n",
      "  ax2.xaxis.set_major_formatter(plt.FixedFormatter(yMD))\n"
     ]
    },
    {
     "data": {
      "image/png": "[encoded data removed]",
      "text/plain": [
       "<Figure size 720x648 with 2 Axes>"
      ]
     },
     "metadata": {
      "needs_background": "light"
     },
     "output_type": "display_data"
    }
   ],
   "source": [
    "#%matplotlib notebook\n",
    "\n",
    "tickFontSize = 14\n",
    "textFontSize = 16\n",
    "legendFontSize = 15\n",
    "titleFontSize = 16\n",
    "linewidth = 0.8\n",
    "dashLinewidth = 0.7\n",
    "\n",
    "#++++++++++++++++++++++++++++++++++++++++++++++++++++++++++++++++++++++++++\n",
    "\n",
    "fig = plt.figure(figsize=(10, 9), constrained_layout=False)\n",
    "\n",
    "axs = [plt.subplot(2, 1, x + 1,) for x in range(2)]\n",
    "\n",
    "ax1 = axs[0]\n",
    "\n",
    "ln11=ax1.plot(range(171), disch_yrMean_histSel_scen_ensMean_rel_MissouriHermannArr, label=\"Missouri\", color = 'green', linestyle='-', linewidth=linewidth)\n",
    "ln12=ax1.plot(range(171), disch_yrMean_histSel_scen_ensMean_rel_ArkansasMurrayLittleRockArr, label=\"Arkansas\", color = 'blue', linestyle='-', linewidth=linewidth)\n",
    "ln13=ax1.plot(range(171), disch_yrMean_histSel_scen_ensMean_rel_OhioOlmstedArr, label=\"Ohio\", color = 'orange', linestyle='-', linewidth=linewidth)\n",
    "ln14=ax1.axvspan(1, 84.5, color='b',alpha=0.03)\n",
    "\n",
    "ax1.set_title('(a) Tributary rivers', y= 0.98, pad=-14, fontsize = titleFontSize, loc='left')\n",
    "\n",
    "ax1.xaxis.set_major_formatter(plt.FixedFormatter(yMD))\n",
    "ax1.set_xticks(timeTicks)\n",
    "ax1.set_xticklabels(timeTickLebels, minor=False, fontsize=tickFontSize, rotation=0)\n",
    "ax1.set_xticklabels('', )\n",
    "\n",
    "ax1.set_yticks([0.05, 0.15, 0.25, 0.35],)\n",
    "ax1.set_yticklabels(['0.05', '0.15', '0.25', '0.35'],fontsize=tickFontSize)\n",
    "\n",
    "ax1.set_xlim([0, 170])\n",
    "ax1.set_ylim([0.05, 0.37])\n",
    "\n",
    "ax1.legend(ncol=3, loc=(-0.01, -1.45),frameon=False, fontsize=legendFontSize)\n",
    "ax1.set_ylabel('Normalized discharge, $\\mathregular{m^{3}}$/s', fontsize=textFontSize)\n",
    "ax1.yaxis.set_label_coords(-0.07, -0.05)\n",
    "#++++++++++++++++++++++++++++++++++++++++++++++++++++++++++++++++++++++++++++++++++++++++++++++++++++++++++\n",
    "\n",
    "\n",
    "ax2 = axs[1]\n",
    "ln21=ax2.plot(range(171), disch_yrMean_histSel_scen_ensMean_rel_MissiVicksArr, label=\"Lower Mississippi\", color = 'red', linestyle='-', linewidth=linewidth)\n",
    "ln22=ax2.axvspan(1, 84.5, color='b',alpha=0.03)\n",
    "\n",
    "ax2.set_title('(b) Lower Mississippi River', y= 0.98, pad=-14, fontsize = titleFontSize, loc='left')\n",
    "\n",
    "ax2.xaxis.set_major_formatter(plt.FixedFormatter(yMD))\n",
    "ax2.set_xticks(timeTicks, )\n",
    "ax2.set_xticklabels(timeTickLebels, minor=False, rotation=0, fontsize=tickFontSize)\n",
    "\n",
    "ax2.set_yticks([0.8, 0.9, 1.0, ],)\n",
    "ax2.set_yticklabels(['0.80', '0.90', '1.00',],fontsize=tickFontSize)\n",
    "\n",
    "\n",
    "ax2.set_xlim([0, 170])\n",
    "ax2.set_ylim([0.8, 1.005])\n",
    "ax2.set_xlabel('Time', fontsize=textFontSize)\n",
    "ax2.legend(ncol=1, loc=(+0.68, -0.3),frameon=False, fontsize=legendFontSize)\n",
    "\n",
    "plt.subplots_adjust(hspace=0.15, bottom=0.2)\n",
    "\n",
    "#plt.savefig(r'C:\\rezaul\\1.academic\\1.research\\2.project\\mrb\\output\\fig\\paperOne\\param\\disch\\partition\\dischPartitionTs.pdf') \n",
    "#plt.savefig(r'C:\\rezaul\\1.academic\\1.research\\2.project\\mrb\\output\\fig\\paperOne\\param\\disch\\partition\\dischPartitionTs.png', dpi=1200)  \n",
    "\n",
    "plt.show()"
   ]
  },
  {
   "cell_type": "code",
   "execution_count": null,
   "metadata": {},
   "outputs": [],
   "source": []
  },
  {
   "cell_type": "code",
   "execution_count": null,
   "metadata": {},
   "outputs": [],
   "source": []
  },
  {
   "cell_type": "code",
   "execution_count": null,
   "metadata": {},
   "outputs": [],
   "source": []
  },
  {
   "cell_type": "code",
   "execution_count": null,
   "metadata": {},
   "outputs": [],
   "source": []
  },
  {
   "cell_type": "code",
   "execution_count": 36,
   "metadata": {},
   "outputs": [
    {
     "ename": "SyntaxError",
     "evalue": "invalid syntax (<ipython-input-36-753fd59e218f>, line 1)",
     "output_type": "error",
     "traceback": [
      "\u001b[1;36m  File \u001b[1;32m\"<ipython-input-36-753fd59e218f>\"\u001b[1;36m, line \u001b[1;32m1\u001b[0m\n\u001b[1;33m    STOP here\u001b[0m\n\u001b[1;37m         ^\u001b[0m\n\u001b[1;31mSyntaxError\u001b[0m\u001b[1;31m:\u001b[0m invalid syntax\n"
     ]
    }
   ],
   "source": [
    "STOP here"
   ]
  },
  {
   "cell_type": "code",
   "execution_count": null,
   "metadata": {},
   "outputs": [],
   "source": []
  },
  {
   "cell_type": "code",
   "execution_count": null,
   "metadata": {},
   "outputs": [],
   "source": []
  },
  {
   "cell_type": "code",
   "execution_count": null,
   "metadata": {},
   "outputs": [],
   "source": []
  },
  {
   "cell_type": "code",
   "execution_count": null,
   "metadata": {},
   "outputs": [],
   "source": []
  }
 ],
 "metadata": {
  "kernelspec": {
   "display_name": "Python 3",
   "language": "python",
   "name": "python3"
  },
  "language_info": {
   "codemirror_mode": {
    "name": "ipython",
    "version": 3
   },
   "file_extension": ".py",
   "mimetype": "text/x-python",
   "name": "python",
   "nbconvert_exporter": "python",
   "pygments_lexer": "ipython3",
   "version": "3.8.5"
  }
 },
 "nbformat": 4,
 "nbformat_minor": 4
}
