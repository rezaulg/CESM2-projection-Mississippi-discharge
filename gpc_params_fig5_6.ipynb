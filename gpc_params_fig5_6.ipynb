{
 "cells": [
  {
   "cell_type": "markdown",
   "metadata": {},
   "source": [
    "This script reads the Nc file for Mosart Discharge downloaded from Casper log-in"
   ]
  },
  {
   "cell_type": "code",
   "execution_count": 1,
   "metadata": {},
   "outputs": [],
   "source": [
    "# To support both python 2 and python 3\n",
    "from __future__ import division, print_function, unicode_literals\n",
    "\n",
    "# Common imports\n",
    "import numpy as np\n",
    "import os\n",
    "\n",
    "# to make this notebook's output stable across runs\n",
    "np.random.seed(42)\n",
    "# To plot pretty figures\n",
    "%matplotlib inline\n",
    "#%matplotlib notebook\n",
    "\n",
    "import matplotlib as mpl\n",
    "import matplotlib.pyplot as plt\n",
    "mpl.rc('axes', labelsize=14)\n",
    "mpl.rc('xtick', labelsize=12)\n",
    "mpl.rc('ytick', labelsize=12)\n",
    "\n",
    "\n",
    "# Where to save the figures\n",
    "PROJECT_ROOT_DIR = \".\"  \n",
    "\n",
    "#path2Create = r'C:\\rezaul\\1.academic\\1.research\\2.project\\mrb\\paper\\paperOne\\fig\\'\n",
    "path2Create = os.path.join(r\"C:/rezaul/1.academic/1.research/2.project/mrb/paper/paperOne/fig/\")\n",
    "\n",
    "    \n",
    " \n",
    "if not os.path.exists(path2Create):\n",
    "    os.makedirs(path2Create)    \n",
    "    \n",
    "path2Save = 'C:/rezaul/1.academic/1.research/2.project/mrb/paper/paperOne/fig/'\n",
    "\n",
    "if not os.path.exists(path2Save):\n",
    "    os.makedirs(path2Save)    \n",
    "\n",
    "IMAGES_PATH = os.path.join(path2Save)\n",
    "outputPath = os.path.join(path2Save)\n",
    "\n",
    "#def save_fig(fig_id, tight_layout=True, fig_extension=\"png\", resolution=300):\n",
    "def save_fig(fig_id, tight_layout=True, fig_extension=\"pdf\", resolution=600):\n",
    "    \n",
    "    path = os.path.join(IMAGES_PATH, fig_id + \".\" + fig_extension)\n",
    "    \n",
    "    print(\"Saving figure\", fig_id)\n",
    "    if tight_layout:\n",
    "        plt.tight_layout()\n",
    "    plt.savefig(path, format=fig_extension, dpi=resolution)\n"
   ]
  },
  {
   "cell_type": "code",
   "execution_count": null,
   "metadata": {},
   "outputs": [],
   "source": []
  },
  {
   "cell_type": "markdown",
   "metadata": {},
   "source": [
    "## Import Libraries"
   ]
  },
  {
   "cell_type": "code",
   "execution_count": 2,
   "metadata": {},
   "outputs": [],
   "source": [
    "# Common imports\n",
    "import numpy as np\n",
    "import pandas as pd\n",
    "import os\n",
    "import glob\n",
    "from datetime import datetime\n",
    "#from osgeo import gdal # Import the GDAL library\n",
    "#import gdal\n",
    "\n",
    "import cmocean\n",
    "\n",
    "#import matplotlib.pyplot as plt # Import the Matplotlib package\n",
    "from matplotlib import pyplot as plt  # Import the Matplotlib package\n",
    "from numpy import linspace # Import the Linspace numpy library\n",
    "from numpy import meshgrid # Import the Meshgrid numpy library\n",
    "\n",
    "#from init import *\n",
    "import scipy.io as sio\n",
    "# Common imports\n",
    "import calendar\n",
    "import datetime\n",
    "import matplotlib.dates as mdates\n",
    "from numpy import array, ma\n",
    "#import scipy.io\n",
    "from scipy.io import loadmat   # https://scipy-cookbook.readthedocs.io/items/Reading_mat_files.html\n",
    "import xarray as xr\n"
   ]
  },
  {
   "cell_type": "code",
   "execution_count": 3,
   "metadata": {},
   "outputs": [],
   "source": [
    "# Stats\n",
    "from statsmodels.distributions.empirical_distribution import ECDF\n",
    "from scipy.stats import gamma, norm\n",
    "from scipy.signal import detrend\n",
    "\n",
    "from netCDF4 import Dataset   # http://code.google.com/p/netcdf4-python/\n",
    "from numpy.random import normal\n",
    "from numpy import hstack\n",
    "\n",
    "import math\n"
   ]
  },
  {
   "cell_type": "code",
   "execution_count": 4,
   "metadata": {},
   "outputs": [],
   "source": [
    "# Plotting\n",
    "import matplotlib.colors as colors\n",
    "from copy import copy\n",
    "import matplotlib.cm as cm\n",
    "#from matplotlib_scalebar.scalebar import ScaleBar\n",
    "\n",
    "import seaborn as sns\n",
    "import matplotlib.gridspec as gridspec\n"
   ]
  },
  {
   "cell_type": "code",
   "execution_count": 5,
   "metadata": {},
   "outputs": [],
   "source": [
    "# Projection\n",
    "import cartopy.crs as ccrs\n",
    "\n",
    "import cartopy.feature as cfeature\n",
    "import cartopy.io.shapereader as shpreader\n",
    "from descartes import PolygonPatch\n",
    "import shapefile as shp  # Requires the pyshp package\n",
    "\n",
    "#from cartopy.feature import ShapelyFeature\n",
    "#from cartopy.io.shapereader import Reader"
   ]
  },
  {
   "cell_type": "code",
   "execution_count": null,
   "metadata": {},
   "outputs": [],
   "source": []
  },
  {
   "cell_type": "code",
   "execution_count": 6,
   "metadata": {},
   "outputs": [],
   "source": [
    "from descartes import PolygonPatch\n",
    "import shapefile as shp  # Requires the pyshp package\n",
    "sf=shp.Reader('C:/rezaul/1.academic/1.research/1.data/shapeFile/missi/Miss_RiverBasin.shp')"
   ]
  },
  {
   "cell_type": "code",
   "execution_count": null,
   "metadata": {},
   "outputs": [],
   "source": []
  },
  {
   "cell_type": "code",
   "execution_count": 7,
   "metadata": {},
   "outputs": [
    {
     "data": {
      "text/plain": [
       "'\\n\\n# time: 62415 days = 171 years, 2052 months\\ntime=np.linspace(1930,2101,62415) # years since 1930-01-01\\ndays = np.arange(1,62416,1) # days since 1930-01-01\\nmonths = np.linspace(1930,2101,2052) # months since 1930-01-01\\nyears = np.arange(1930,2101,1)\\n'"
      ]
     },
     "execution_count": 7,
     "metadata": {},
     "output_type": "execute_result"
    }
   ],
   "source": [
    "# SET TIME AXIS\n",
    "#=================================================\n",
    "'''\n",
    "\n",
    "# time: 62415 days = 171 years, 2052 months\n",
    "time=np.linspace(1930,2101,62415) # years since 1930-01-01\n",
    "days = np.arange(1,62416,1) # days since 1930-01-01\n",
    "months = np.linspace(1930,2101,2052) # months since 1930-01-01\n",
    "years = np.arange(1930,2101,1)\n",
    "'''"
   ]
  },
  {
   "cell_type": "code",
   "execution_count": null,
   "metadata": {},
   "outputs": [],
   "source": []
  },
  {
   "cell_type": "markdown",
   "metadata": {},
   "source": [
    "## Basin shape files"
   ]
  },
  {
   "cell_type": "code",
   "execution_count": 8,
   "metadata": {},
   "outputs": [],
   "source": [
    "shapeFile_Missi = 'C:/rezaul/1.academic/1.research/2.project/mrb/dt/shapeFile/mississippi_basins/mississippi_basins/mississippi_1.shp'\n",
    "shapeFile_Arkansas = 'C:/rezaul/1.academic/1.research/2.project/mrb/dt/shapeFile/mississippi_basins/mississippi_basins/arkansas_basin_1.shp'\n",
    "shapeFile_Missouri = 'C:/rezaul/1.academic/1.research/2.project/mrb/dt/shapeFile/mississippi_basins/mississippi_basins/missouri_basin_1.shp'\n",
    "shapeFile_Ohio = 'C:/rezaul/1.academic/1.research/2.project/mrb/dt/shapeFile/mississippi_basins/mississippi_basins/ohio_basin_1.shp'\n",
    "shapeFile_LowMissi = 'C:/rezaul/1.academic/1.research/2.project/mrb/dt/shapeFile/received/sophia/Subcatchments_Mississippi/Subcatchments/lowerMRB.shp'\n",
    "\n",
    "shapeFile_Missi_Trunk = 'C:/rezaul/1.academic/1.research/2.project/mrb/dt/shapeFile/mississippi_basins/mississippi_basins/mississippi_trunk_1.shp'\n"
   ]
  },
  {
   "cell_type": "code",
   "execution_count": 9,
   "metadata": {},
   "outputs": [],
   "source": [
    "shapeFile_MissiWri = 'C:/rezaul/1.academic/1.research/2.project/mrb/dt/shapeFile/basin/Shapefiles_Rhine_Mississippi_basin/wribasin.shp'\n"
   ]
  },
  {
   "cell_type": "markdown",
   "metadata": {},
   "source": [
    "## Basin Masks"
   ]
  },
  {
   "cell_type": "code",
   "execution_count": 10,
   "metadata": {},
   "outputs": [],
   "source": [
    "MaskFile_Arkansas = 'C:/rezaul/1.academic/1.research/2.project/mrb/dt/shapeFile/mask/mask_arkansas_CESM.nc' #Change if needed\n",
    "MaskFile_Missouri = 'C:/rezaul/1.academic/1.research/2.project/mrb/dt/shapeFile/mask/mask_missouri_CESM.nc' #Change if needed\n",
    "MaskFile_Ohio = 'C:/rezaul/1.academic/1.research/2.project/mrb/dt/shapeFile/mask/mask_ohio_CESM.nc' #Change if needed\n",
    "MaskFile_Missi = 'C:/rezaul/1.academic/1.research/2.project/mrb/dt/shapeFile/mask/mask_missi_CESM.nc' #Change if needed\n"
   ]
  },
  {
   "cell_type": "markdown",
   "metadata": {},
   "source": [
    "## Masking"
   ]
  },
  {
   "cell_type": "code",
   "execution_count": 11,
   "metadata": {},
   "outputs": [],
   "source": [
    "def GetMask2D(Lat,Lon,CreatMask,MaskFile,feature,coordinate):\n",
    "    \"\"\"\n",
    "    Lat and Lon: DataArray - lat and lon from the data to be masked\n",
    "    The fist-time run should set CreatMask as True!!!\n",
    "    MaskFile: file path of the maskfile\n",
    "    feature: shaperecords from shapefile (Usually can get the following code)\n",
    "            shape = shapefile.Reader(shpfile)\n",
    "            feature = shape.shapeRecords()[id]\n",
    "\n",
    "    coordinates: 0 when the map to mask is in lon(0,360) but shapefile's feature is in lon(-180,0)\n",
    "            1 when the map to mask is in lon(-180,180) but shapefile's feature is in lon(180,360)\n",
    "            2 when 0 and 1 are not the case\n",
    "    \"\"\"\n",
    "    if CreatMask:\n",
    "        print('This may take some time...')\n",
    "        Mask = xr.DataArray(np.zeros((len(Lat),len(Lon)),dtype=int), coords=[Lat, Lon], dims=[Lat.dims[0],Lon.dims[0]])\n",
    "        first = feature.shape.__geo_interface__ \n",
    "        # change the coordinate (londitude) to match the shapefile with the data to be masked\n",
    "        if coordinate==0:\n",
    "            coordi = np.array(first['coordinates'][0])\n",
    "            coordi[:,0] = coordi[:,0]+360\n",
    "            coordi_final = coordi.tolist()\n",
    "        if  coordinate==1:\n",
    "            coordi = np.array(first['coordinates'][0])\n",
    "            coordi[:,0] = coordi[:,0]-360\n",
    "            coordi_final = coordi.tolist()\n",
    "        if coordinate ==2:\n",
    "            coordi_final = first['coordinates'][0]\n",
    "        \n",
    "        from shapely.geometry import Point, Polygon\n",
    "        poly = Polygon(coordi_final)\n",
    "        \n",
    "        for ilat,lat in enumerate(Lat):\n",
    "            for ilon,lon in enumerate(Lon):\n",
    "                if Point(lon,lat).within(poly):\n",
    "                    Mask[ilat,ilon]=1\n",
    "                else:\n",
    "                    Mask[ilat,ilon]=0\n",
    "        ds=xr.Dataset({'Mask': Mask}) \n",
    "        ds.to_netcdf(MaskFile)\n",
    "   \n",
    "    MASK = xr.open_dataset(MaskFile)['Mask']\n",
    "\n",
    "    return MASK"
   ]
  },
  {
   "cell_type": "code",
   "execution_count": 12,
   "metadata": {},
   "outputs": [],
   "source": [
    "sf_Missi = shp.Reader(shapeFile_Missi)\n",
    "sf_Arkansas = shp.Reader(shapeFile_Arkansas)\n",
    "sf_Missouri = shp.Reader(shapeFile_Missouri)\n",
    "sf_Ohio = shp.Reader(shapeFile_Ohio)\n",
    "sf_LowMissi = shp.Reader(shapeFile_LowMissi)\n"
   ]
  },
  {
   "cell_type": "code",
   "execution_count": 13,
   "metadata": {},
   "outputs": [
    {
     "name": "stdout",
     "output_type": "stream",
     "text": [
      "shapefile Reader\n",
      "    254 shapes (type 'POLYGON')\n",
      "    254 records (16 fields)\n"
     ]
    }
   ],
   "source": [
    "sf_MissiWri = shp.Reader(shapeFile_MissiWri)\n",
    "print(sf_MissiWri)\n"
   ]
  },
  {
   "cell_type": "code",
   "execution_count": null,
   "metadata": {},
   "outputs": [],
   "source": []
  },
  {
   "cell_type": "code",
   "execution_count": 14,
   "metadata": {},
   "outputs": [],
   "source": [
    "reader_Missi = shpreader.Reader(shapeFile_Missi)\n",
    "basin_Missi = list(reader_Missi.geometries())\n",
    "#\n",
    "reader_Arkansas = shpreader.Reader(shapeFile_Arkansas)\n",
    "basin_Arkansas = list(reader_Arkansas.geometries())\n",
    "#\n",
    "reader_Missouri = shpreader.Reader(shapeFile_Missouri)\n",
    "basin_Missouri = list(reader_Missouri.geometries())\n",
    "#\n",
    "reader_Ohio = shpreader.Reader(shapeFile_Ohio)\n",
    "basin_Ohio = list(reader_Ohio.geometries())\n",
    "#\n",
    "reader_Missi_Trunk = shpreader.Reader(shapeFile_Missi_Trunk)\n",
    "basin_Missi_Trunk = list(reader_Missi_Trunk.geometries())\n",
    "#\n",
    "\n"
   ]
  },
  {
   "cell_type": "code",
   "execution_count": 15,
   "metadata": {},
   "outputs": [
    {
     "name": "stdout",
     "output_type": "stream",
     "text": [
      "[<shapely.geometry.polygon.Polygon object at 0x000001D10CB68F10>, <shapely.geometry.polygon.Polygon object at 0x000001D10CB68B20>, <shapely.geometry.polygon.Polygon object at 0x000001D10CB68F40>, <shapely.geometry.polygon.Polygon object at 0x000001D10CB68520>, <shapely.geometry.polygon.Polygon object at 0x000001D10CB68880>, <shapely.geometry.polygon.Polygon object at 0x000001D10CB68F70>, <shapely.geometry.polygon.Polygon object at 0x000001D10CB5EAC0>, <shapely.geometry.polygon.Polygon object at 0x000001D10CB5ED90>, <shapely.geometry.polygon.Polygon object at 0x000001D10CB5E850>, <shapely.geometry.polygon.Polygon object at 0x000001D10CB5EAF0>, <shapely.geometry.polygon.Polygon object at 0x000001D10CB5E3A0>, <shapely.geometry.polygon.Polygon object at 0x000001D10CB5EA60>, <shapely.geometry.polygon.Polygon object at 0x000001D10CB5E970>, <shapely.geometry.polygon.Polygon object at 0x000001D10CB5E670>, <shapely.geometry.polygon.Polygon object at 0x000001D10CB5E550>, <shapely.geometry.polygon.Polygon object at 0x000001D10CB5EFA0>, <shapely.geometry.polygon.Polygon object at 0x000001D10CB5E580>, <shapely.geometry.polygon.Polygon object at 0x000001D10CB5E790>, <shapely.geometry.polygon.Polygon object at 0x000001D10CC180A0>, <shapely.geometry.polygon.Polygon object at 0x000001D10CC18100>, <shapely.geometry.polygon.Polygon object at 0x000001D10CC18190>, <shapely.geometry.polygon.Polygon object at 0x000001D10CC18220>, <shapely.geometry.polygon.Polygon object at 0x000001D10CC182B0>, <shapely.geometry.polygon.Polygon object at 0x000001D10CC18340>, <shapely.geometry.polygon.Polygon object at 0x000001D10CC183D0>, <shapely.geometry.polygon.Polygon object at 0x000001D10CC18460>, <shapely.geometry.polygon.Polygon object at 0x000001D10CC184F0>, <shapely.geometry.polygon.Polygon object at 0x000001D10CC18580>, <shapely.geometry.polygon.Polygon object at 0x000001D10CC18610>, <shapely.geometry.polygon.Polygon object at 0x000001D10CC186A0>, <shapely.geometry.polygon.Polygon object at 0x000001D10CC18730>, <shapely.geometry.polygon.Polygon object at 0x000001D10CC187C0>, <shapely.geometry.polygon.Polygon object at 0x000001D10CC18850>, <shapely.geometry.polygon.Polygon object at 0x000001D10CC188E0>, <shapely.geometry.polygon.Polygon object at 0x000001D10CC18970>, <shapely.geometry.polygon.Polygon object at 0x000001D10CC18A00>, <shapely.geometry.polygon.Polygon object at 0x000001D10CC18A60>, <shapely.geometry.polygon.Polygon object at 0x000001D10CC18A90>, <shapely.geometry.polygon.Polygon object at 0x000001D10CC18B20>, <shapely.geometry.polygon.Polygon object at 0x000001D10CC18BB0>, <shapely.geometry.polygon.Polygon object at 0x000001D10CC18C40>, <shapely.geometry.polygon.Polygon object at 0x000001D10CC18CD0>, <shapely.geometry.polygon.Polygon object at 0x000001D10CC18D60>, <shapely.geometry.polygon.Polygon object at 0x000001D10CC18DF0>, <shapely.geometry.polygon.Polygon object at 0x000001D10CC18EE0>, <shapely.geometry.polygon.Polygon object at 0x000001D10CC18FA0>, <shapely.geometry.polygon.Polygon object at 0x000001D10CBE4070>, <shapely.geometry.polygon.Polygon object at 0x000001D10CBE40D0>, <shapely.geometry.polygon.Polygon object at 0x000001D10CBE4130>, <shapely.geometry.polygon.Polygon object at 0x000001D10CBE41C0>, <shapely.geometry.polygon.Polygon object at 0x000001D10CBE4250>, <shapely.geometry.polygon.Polygon object at 0x000001D10CBE42E0>, <shapely.geometry.polygon.Polygon object at 0x000001D10CBE4370>, <shapely.geometry.polygon.Polygon object at 0x000001D10CBE4400>, <shapely.geometry.polygon.Polygon object at 0x000001D10CBE4490>, <shapely.geometry.polygon.Polygon object at 0x000001D10CBE4520>, <shapely.geometry.polygon.Polygon object at 0x000001D10CBE45B0>, <shapely.geometry.polygon.Polygon object at 0x000001D10CBE4640>, <shapely.geometry.polygon.Polygon object at 0x000001D10CBE46D0>, <shapely.geometry.polygon.Polygon object at 0x000001D10CBE4790>, <shapely.geometry.polygon.Polygon object at 0x000001D10CBE47C0>, <shapely.geometry.polygon.Polygon object at 0x000001D10CBE4850>, <shapely.geometry.polygon.Polygon object at 0x000001D10CBE4910>, <shapely.geometry.polygon.Polygon object at 0x000001D10CBE4940>, <shapely.geometry.polygon.Polygon object at 0x000001D10CBE49D0>, <shapely.geometry.polygon.Polygon object at 0x000001D10CBE4A60>, <shapely.geometry.polygon.Polygon object at 0x000001D10CBE4B20>, <shapely.geometry.polygon.Polygon object at 0x000001D10CC18F10>, <shapely.geometry.polygon.Polygon object at 0x000001D10CC189A0>, <shapely.geometry.polygon.Polygon object at 0x000001D10CC18E80>, <shapely.geometry.polygon.Polygon object at 0x000001D10CC18910>, <shapely.geometry.polygon.Polygon object at 0x000001D10CC186D0>, <shapely.geometry.polygon.Polygon object at 0x000001D10CC185B0>, <shapely.geometry.polygon.Polygon object at 0x000001D10CC18400>, <shapely.geometry.polygon.Polygon object at 0x000001D10CC18250>, <shapely.geometry.polygon.Polygon object at 0x000001D10CB68160>, <shapely.geometry.polygon.Polygon object at 0x000001D10CB68940>, <shapely.geometry.polygon.Polygon object at 0x000001D10CB689A0>, <shapely.geometry.polygon.Polygon object at 0x000001D10CB687F0>, <shapely.geometry.polygon.Polygon object at 0x000001D10CB5E3D0>, <shapely.geometry.polygon.Polygon object at 0x000001D10CB320D0>, <shapely.geometry.polygon.Polygon object at 0x000001D10C954A00>, <shapely.geometry.polygon.Polygon object at 0x000001D10CB5E2E0>, <shapely.geometry.polygon.Polygon object at 0x000001D10CB5E0A0>, <shapely.geometry.polygon.Polygon object at 0x000001D1707DBB50>, <shapely.geometry.polygon.Polygon object at 0x000001D1707E9700>, <shapely.geometry.polygon.Polygon object at 0x000001D109526E20>, <shapely.geometry.polygon.Polygon object at 0x000001D109194F40>, <shapely.geometry.polygon.Polygon object at 0x000001D10CBE4DF0>, <shapely.geometry.polygon.Polygon object at 0x000001D10CBE4430>, <shapely.geometry.polygon.Polygon object at 0x000001D10CBE4CD0>, <shapely.geometry.polygon.Polygon object at 0x000001D10CBE4C40>, <shapely.geometry.polygon.Polygon object at 0x000001D10CBE4B50>, <shapely.geometry.polygon.Polygon object at 0x000001D10CBE4970>, <shapely.geometry.polygon.Polygon object at 0x000001D10CBE4700>, <shapely.geometry.polygon.Polygon object at 0x000001D10CBE4550>, <shapely.geometry.polygon.Polygon object at 0x000001D10CBE4280>, <shapely.geometry.polygon.Polygon object at 0x000001D10CBE40A0>, <shapely.geometry.polygon.Polygon object at 0x000001D10CBE4D60>, <shapely.geometry.polygon.Polygon object at 0x000001D10CBE4E50>, <shapely.geometry.polygon.Polygon object at 0x000001D10CBE4EE0>, <shapely.geometry.polygon.Polygon object at 0x000001D10CBE4FA0>, <shapely.geometry.polygon.Polygon object at 0x000001D10CBE4FD0>, <shapely.geometry.polygon.Polygon object at 0x000001D10CBEE910>, <shapely.geometry.polygon.Polygon object at 0x000001D10CBEE850>, <shapely.geometry.polygon.Polygon object at 0x000001D10CBEE040>, <shapely.geometry.polygon.Polygon object at 0x000001D10CBEE0D0>, <shapely.geometry.polygon.Polygon object at 0x000001D10CBEE2E0>, <shapely.geometry.polygon.Polygon object at 0x000001D10CBEE1F0>, <shapely.geometry.polygon.Polygon object at 0x000001D10CBEE340>, <shapely.geometry.polygon.Polygon object at 0x000001D10CBEE460>, <shapely.geometry.polygon.Polygon object at 0x000001D10CBEE430>, <shapely.geometry.polygon.Polygon object at 0x000001D10CBEE580>, <shapely.geometry.polygon.Polygon object at 0x000001D10CBEE640>, <shapely.geometry.polygon.Polygon object at 0x000001D10CBEE670>, <shapely.geometry.polygon.Polygon object at 0x000001D10CBEE700>, <shapely.geometry.polygon.Polygon object at 0x000001D10CBEE790>, <shapely.geometry.polygon.Polygon object at 0x000001D10CBEE820>, <shapely.geometry.polygon.Polygon object at 0x000001D10CBEE8E0>, <shapely.geometry.polygon.Polygon object at 0x000001D10CBEE9A0>, <shapely.geometry.polygon.Polygon object at 0x000001D10CBEEA90>, <shapely.geometry.polygon.Polygon object at 0x000001D10CBEEAC0>, <shapely.geometry.polygon.Polygon object at 0x000001D10CBEEB80>, <shapely.geometry.polygon.Polygon object at 0x000001D10CBEEC10>, <shapely.geometry.polygon.Polygon object at 0x000001D10CBEECA0>, <shapely.geometry.polygon.Polygon object at 0x000001D10CBEECD0>, <shapely.geometry.polygon.Polygon object at 0x000001D10CBEEDC0>, <shapely.geometry.polygon.Polygon object at 0x000001D10CBEEDF0>, <shapely.geometry.polygon.Polygon object at 0x000001D10CBEEE80>, <shapely.geometry.polygon.Polygon object at 0x000001D10CBEEF10>, <shapely.geometry.polygon.Polygon object at 0x000001D10CB5E7C0>, <shapely.geometry.polygon.Polygon object at 0x000001D10CB323D0>, <shapely.geometry.polygon.Polygon object at 0x000001D10CB68EB0>, <shapely.geometry.polygon.Polygon object at 0x000001D10CB689D0>, <shapely.geometry.polygon.Polygon object at 0x000001D10CB68790>, <shapely.geometry.polygon.Polygon object at 0x000001D10CED1CD0>, <shapely.geometry.polygon.Polygon object at 0x000001D10CED1E50>, <shapely.geometry.polygon.Polygon object at 0x000001D10CED1EB0>, <shapely.geometry.polygon.Polygon object at 0x000001D10CED1070>, <shapely.geometry.polygon.Polygon object at 0x000001D10CED10A0>, <shapely.geometry.polygon.Polygon object at 0x000001D10CED1130>, <shapely.geometry.polygon.Polygon object at 0x000001D10CED11F0>, <shapely.geometry.polygon.Polygon object at 0x000001D10CED12E0>, <shapely.geometry.polygon.Polygon object at 0x000001D10CB32D90>, <shapely.geometry.polygon.Polygon object at 0x000001D10CED13A0>, <shapely.geometry.polygon.Polygon object at 0x000001D10CED1430>, <shapely.geometry.polygon.Polygon object at 0x000001D10CED1490>, <shapely.geometry.polygon.Polygon object at 0x000001D10CED14F0>, <shapely.geometry.polygon.Polygon object at 0x000001D10CED1580>, <shapely.geometry.polygon.Polygon object at 0x000001D10CED1610>, <shapely.geometry.polygon.Polygon object at 0x000001D10CED16A0>, <shapely.geometry.polygon.Polygon object at 0x000001D10CED1730>, <shapely.geometry.polygon.Polygon object at 0x000001D10CED17F0>, <shapely.geometry.polygon.Polygon object at 0x000001D10CED1820>, <shapely.geometry.polygon.Polygon object at 0x000001D10CED18B0>, <shapely.geometry.polygon.Polygon object at 0x000001D10CED19D0>, <shapely.geometry.polygon.Polygon object at 0x000001D10CED1A00>, <shapely.geometry.polygon.Polygon object at 0x000001D10CED1AF0>, <shapely.geometry.polygon.Polygon object at 0x000001D10CED1C10>, <shapely.geometry.polygon.Polygon object at 0x000001D10CED1C40>, <shapely.geometry.polygon.Polygon object at 0x000001D10CED1D30>, <shapely.geometry.polygon.Polygon object at 0x000001D10CED1E20>, <shapely.geometry.polygon.Polygon object at 0x000001D10CED1F70>, <shapely.geometry.polygon.Polygon object at 0x000001D10CBEE3A0>, <shapely.geometry.polygon.Polygon object at 0x000001D10CC11D30>, <shapely.geometry.polygon.Polygon object at 0x000001D10CC11A30>, <shapely.geometry.polygon.Polygon object at 0x000001D10CC117C0>, <shapely.geometry.polygon.Polygon object at 0x000001D10CC11040>, <shapely.geometry.polygon.Polygon object at 0x000001D10CC110D0>, <shapely.geometry.polygon.Polygon object at 0x000001D10CC11100>, <shapely.geometry.polygon.Polygon object at 0x000001D10CC111C0>, <shapely.geometry.polygon.Polygon object at 0x000001D10CC110A0>, <shapely.geometry.polygon.Polygon object at 0x000001D10CED1FA0>, <shapely.geometry.polygon.Polygon object at 0x000001D10CED1760>, <shapely.geometry.polygon.Polygon object at 0x000001D10CED1F10>, <shapely.geometry.polygon.Polygon object at 0x000001D10CED16D0>, <shapely.geometry.polygon.Polygon object at 0x000001D10CED15B0>, <shapely.geometry.polygon.Polygon object at 0x000001D10CB32FD0>, <shapely.geometry.polygon.Polygon object at 0x000001D1707EA970>, <shapely.geometry.polygon.Polygon object at 0x000001D10CED1910>, <shapely.geometry.polygon.Polygon object at 0x000001D10CED1B20>, <shapely.geometry.polygon.Polygon object at 0x000001D10CBEEE20>, <shapely.geometry.polygon.Polygon object at 0x000001D10CBEEEB0>, <shapely.geometry.polygon.Polygon object at 0x000001D10CBEED30>, <shapely.geometry.polygon.Polygon object at 0x000001D10CBEE940>, <shapely.geometry.polygon.Polygon object at 0x000001D10CBEE7C0>, <shapely.geometry.polygon.Polygon object at 0x000001D10CBEE310>, <shapely.geometry.polygon.Polygon object at 0x000001D1707F48B0>, <shapely.geometry.polygon.Polygon object at 0x000001D10CBEE190>, <shapely.geometry.polygon.Polygon object at 0x000001D10CBEE280>, <shapely.geometry.polygon.Polygon object at 0x000001D109194F10>, <shapely.geometry.polygon.Polygon object at 0x000001D10CB5E9D0>, <shapely.geometry.polygon.Polygon object at 0x000001D10CB5E4F0>, <shapely.geometry.polygon.Polygon object at 0x000001D10CB684F0>, <shapely.geometry.polygon.Polygon object at 0x000001D10CB68AC0>, <shapely.geometry.polygon.Polygon object at 0x000001D10CB68CD0>, <shapely.geometry.polygon.Polygon object at 0x000001D10CC181C0>, <shapely.geometry.polygon.Polygon object at 0x000001D10CC187F0>, <shapely.geometry.polygon.Polygon object at 0x000001D10CC18C70>, <shapely.geometry.polygon.Polygon object at 0x000001D10CC18BE0>, <shapely.geometry.polygon.Polygon object at 0x000001D10CBE4E80>, <shapely.geometry.polygon.Polygon object at 0x000001D10CBE41F0>, <shapely.geometry.polygon.Polygon object at 0x000001D10CBE4880>, <shapely.geometry.polygon.Polygon object at 0x000001D10CBE43A0>, <shapely.geometry.polygon.Polygon object at 0x000001D10CBE4CA0>, <shapely.geometry.polygon.Polygon object at 0x000001D10CC11940>, <shapely.geometry.polygon.Polygon object at 0x000001D10CC11AF0>, <shapely.geometry.polygon.Polygon object at 0x000001D10CC11250>, <shapely.geometry.polygon.Polygon object at 0x000001D10CC11280>, <shapely.geometry.polygon.Polygon object at 0x000001D10CC111F0>, <shapely.geometry.polygon.Polygon object at 0x000001D10CC113D0>, <shapely.geometry.polygon.Polygon object at 0x000001D10CC11430>, <shapely.geometry.polygon.Polygon object at 0x000001D10CC114C0>, <shapely.geometry.polygon.Polygon object at 0x000001D10CC115E0>, <shapely.geometry.polygon.Polygon object at 0x000001D10CC11610>, <shapely.geometry.polygon.Polygon object at 0x000001D10CC116D0>, <shapely.geometry.polygon.Polygon object at 0x000001D10CC11820>, <shapely.geometry.polygon.Polygon object at 0x000001D10CC11850>, <shapely.geometry.polygon.Polygon object at 0x000001D10CC119D0>, <shapely.geometry.polygon.Polygon object at 0x000001D10CC11A00>, <shapely.geometry.polygon.Polygon object at 0x000001D10CC11B80>, <shapely.geometry.polygon.Polygon object at 0x000001D10CC11BE0>, <shapely.geometry.polygon.Polygon object at 0x000001D10CC11CD0>, <shapely.geometry.polygon.Polygon object at 0x000001D10CC11DC0>, <shapely.geometry.polygon.Polygon object at 0x000001D10CC11E80>, <shapely.geometry.polygon.Polygon object at 0x000001D10CED1220>, <shapely.geometry.polygon.Polygon object at 0x000001D10CC11F10>, <shapely.geometry.polygon.Polygon object at 0x000001D10CC11EE0>, <shapely.geometry.polygon.Polygon object at 0x000001D10CC11F40>, <shapely.geometry.polygon.Polygon object at 0x000001D10CEB40D0>, <shapely.geometry.polygon.Polygon object at 0x000001D10CEB4AC0>, <shapely.geometry.polygon.Polygon object at 0x000001D10CEB4040>, <shapely.geometry.polygon.Polygon object at 0x000001D10CEB4130>, <shapely.geometry.polygon.Polygon object at 0x000001D10CEB41C0>, <shapely.geometry.polygon.Polygon object at 0x000001D10CEB4250>, <shapely.geometry.polygon.Polygon object at 0x000001D10CEB42E0>, <shapely.geometry.polygon.Polygon object at 0x000001D10CEB4370>, <shapely.geometry.polygon.Polygon object at 0x000001D10CEB4400>, <shapely.geometry.polygon.Polygon object at 0x000001D10CEB4490>, <shapely.geometry.polygon.Polygon object at 0x000001D10CEB4520>, <shapely.geometry.polygon.Polygon object at 0x000001D10CEB45B0>, <shapely.geometry.polygon.Polygon object at 0x000001D10CEB4640>, <shapely.geometry.polygon.Polygon object at 0x000001D10CEB46D0>, <shapely.geometry.polygon.Polygon object at 0x000001D10CEB4760>, <shapely.geometry.polygon.Polygon object at 0x000001D10CEB47F0>, <shapely.geometry.polygon.Polygon object at 0x000001D10CEB4880>, <shapely.geometry.polygon.Polygon object at 0x000001D10CEB4910>, <shapely.geometry.polygon.Polygon object at 0x000001D10CEB49A0>, <shapely.geometry.polygon.Polygon object at 0x000001D10CEB4A30>, <shapely.geometry.polygon.Polygon object at 0x000001D10CEB4B20>, <shapely.geometry.polygon.Polygon object at 0x000001D10CEB4BB0>, <shapely.geometry.polygon.Polygon object at 0x000001D10CEB4C40>, <shapely.geometry.polygon.Polygon object at 0x000001D10CEB4D30>, <shapely.geometry.polygon.Polygon object at 0x000001D10CEB4D90>]\n"
     ]
    }
   ],
   "source": [
    "reader_MissiWri = shpreader.Reader(shapeFile_MissiWri)\n",
    "basin_MissiWri = list(reader_MissiWri.geometries())\n",
    "print(basin_MissiWri)\n",
    "#"
   ]
  },
  {
   "cell_type": "code",
   "execution_count": null,
   "metadata": {},
   "outputs": [],
   "source": []
  },
  {
   "cell_type": "code",
   "execution_count": 16,
   "metadata": {},
   "outputs": [
    {
     "name": "stdout",
     "output_type": "stream",
     "text": [
      "<shapefile.ShapeRecord object at 0x000001D10CB5ED60>\n",
      "<shapefile.ShapeRecord object at 0x000001D10CB68400>\n",
      "<shapefile.ShapeRecord object at 0x000001D10CC041F0>\n",
      "<shapefile.ShapeRecord object at 0x000001D10CC041C0>\n",
      "<shapefile.ShapeRecord object at 0x000001D10CC043A0>\n"
     ]
    }
   ],
   "source": [
    "feature_Missi = sf_Missi.shapeRecords()[0]\n",
    "print(feature_Missi)\n",
    "\n",
    "feature_Arkansas = sf_Arkansas.shapeRecords()[0]\n",
    "print(feature_Arkansas)\n",
    "\n",
    "feature_Missouri = sf_Missouri.shapeRecords()[0]\n",
    "print(feature_Missouri)\n",
    "\n",
    "feature_Ohio = sf_Ohio.shapeRecords()[0]\n",
    "print(feature_Ohio)\n",
    "\n",
    "feature_LowMissi = sf_LowMissi.shapeRecords()[0]\n",
    "print(feature_LowMissi)\n"
   ]
  },
  {
   "cell_type": "code",
   "execution_count": 17,
   "metadata": {},
   "outputs": [
    {
     "name": "stdout",
     "output_type": "stream",
     "text": [
      "<shapefile.ShapeRecord object at 0x000001D10E280E50>\n"
     ]
    }
   ],
   "source": [
    "feature_MissiWri = sf_MissiWri.shapeRecords()[45]\n",
    "print(feature_MissiWri)"
   ]
  },
  {
   "cell_type": "code",
   "execution_count": null,
   "metadata": {},
   "outputs": [],
   "source": []
  },
  {
   "cell_type": "code",
   "execution_count": null,
   "metadata": {},
   "outputs": [],
   "source": []
  },
  {
   "cell_type": "code",
   "execution_count": null,
   "metadata": {},
   "outputs": [],
   "source": []
  },
  {
   "cell_type": "markdown",
   "metadata": {},
   "source": [
    "## Read Nc file"
   ]
  },
  {
   "cell_type": "code",
   "execution_count": 18,
   "metadata": {},
   "outputs": [
    {
     "name": "stdout",
     "output_type": "stream",
     "text": [
      "C:/rezaul/1.academic/1.research/2.project/mrb/dt/cesm/cesm2LE/param/precip/mon/b.e21.BHISTcmip6.f09_g17.LE2-1001.001.cam.h0.PRECT.185001-185912.nc\n"
     ]
    }
   ],
   "source": [
    "#filePath = 'C:/rezaul/1.academic/1.research/2.project/mrb/dt/cesm/cesm2LE/mon/precip'\n",
    "filePath = 'C:/rezaul/1.academic/1.research/2.project/mrb/dt/cesm/cesm2LE/param/precip/mon'\n",
    "fileName = 'b.e21.BHISTcmip6.f09_g17.LE2-1001.001.cam.h0.PRECT.185001-185912.nc'\n",
    "\n",
    "ncFile_param = str(filePath) + '/' + str(fileName)\n",
    "print(ncFile_param)"
   ]
  },
  {
   "cell_type": "code",
   "execution_count": 19,
   "metadata": {},
   "outputs": [],
   "source": [
    "file_param = Dataset(ncFile_param, mode='r')\n",
    "file_param\n",
    "\n",
    "lons = file_param.variables['lon'][:]\n",
    "lats = file_param.variables['lat'][:]"
   ]
  },
  {
   "cell_type": "code",
   "execution_count": 20,
   "metadata": {},
   "outputs": [
    {
     "name": "stdout",
     "output_type": "stream",
     "text": [
      "[-90.         -89.05759162 -88.11518325 -87.17277487]\n",
      "[0.   1.25 2.5  3.75]\n"
     ]
    }
   ],
   "source": [
    "print(lats[0:4])\n",
    "print(lons[0:4])"
   ]
  },
  {
   "cell_type": "code",
   "execution_count": null,
   "metadata": {},
   "outputs": [],
   "source": []
  },
  {
   "cell_type": "code",
   "execution_count": 21,
   "metadata": {},
   "outputs": [
    {
     "name": "stderr",
     "output_type": "stream",
     "text": [
      "C:\\Users\\muham\\anaconda3\\lib\\site-packages\\xarray\\backends\\plugins.py:61: RuntimeWarning: Engine 'rasterio' loading failed:\n",
      "DLL load failed while importing _base: The specified procedure could not be found.\n",
      "  warnings.warn(f\"Engine {name!r} loading failed:\\n{ex}\", RuntimeWarning)\n"
     ]
    },
    {
     "data": {
      "text/html": [
       "<div><svg style=\"position: absolute; width: 0; height: 0; overflow: hidden\">\n",
       "<defs>\n",
       "<symbol id=\"icon-database\" viewBox=\"0 0 32 32\">\n",
       "<path d=\"M16 0c-8.837 0-16 2.239-16 5v4c0 2.761 7.163 5 16 5s16-2.239 16-5v-4c0-2.761-7.163-5-16-5z\"></path>\n",
       "<path d=\"M16 17c-8.837 0-16-2.239-16-5v6c0 2.761 7.163 5 16 5s16-2.239 16-5v-6c0 2.761-7.163 5-16 5z\"></path>\n",
       "<path d=\"M16 26c-8.837 0-16-2.239-16-5v6c0 2.761 7.163 5 16 5s16-2.239 16-5v-6c0 2.761-7.163 5-16 5z\"></path>\n",
       "</symbol>\n",
       "<symbol id=\"icon-file-text2\" viewBox=\"0 0 32 32\">\n",
       "<path d=\"M28.681 7.159c-0.694-0.947-1.662-2.053-2.724-3.116s-2.169-2.030-3.116-2.724c-1.612-1.182-2.393-1.319-2.841-1.319h-15.5c-1.378 0-2.5 1.121-2.5 2.5v27c0 1.378 1.122 2.5 2.5 2.5h23c1.378 0 2.5-1.122 2.5-2.5v-19.5c0-0.448-0.137-1.23-1.319-2.841zM24.543 5.457c0.959 0.959 1.712 1.825 2.268 2.543h-4.811v-4.811c0.718 0.556 1.584 1.309 2.543 2.268zM28 29.5c0 0.271-0.229 0.5-0.5 0.5h-23c-0.271 0-0.5-0.229-0.5-0.5v-27c0-0.271 0.229-0.5 0.5-0.5 0 0 15.499-0 15.5 0v7c0 0.552 0.448 1 1 1h7v19.5z\"></path>\n",
       "<path d=\"M23 26h-14c-0.552 0-1-0.448-1-1s0.448-1 1-1h14c0.552 0 1 0.448 1 1s-0.448 1-1 1z\"></path>\n",
       "<path d=\"M23 22h-14c-0.552 0-1-0.448-1-1s0.448-1 1-1h14c0.552 0 1 0.448 1 1s-0.448 1-1 1z\"></path>\n",
       "<path d=\"M23 18h-14c-0.552 0-1-0.448-1-1s0.448-1 1-1h14c0.552 0 1 0.448 1 1s-0.448 1-1 1z\"></path>\n",
       "</symbol>\n",
       "</defs>\n",
       "</svg>\n",
       "<style>/* CSS stylesheet for displaying xarray objects in jupyterlab.\n",
       " *\n",
       " */\n",
       "\n",
       ":root {\n",
       "  --xr-font-color0: var(--jp-content-font-color0, rgba(0, 0, 0, 1));\n",
       "  --xr-font-color2: var(--jp-content-font-color2, rgba(0, 0, 0, 0.54));\n",
       "  --xr-font-color3: var(--jp-content-font-color3, rgba(0, 0, 0, 0.38));\n",
       "  --xr-border-color: var(--jp-border-color2, #e0e0e0);\n",
       "  --xr-disabled-color: var(--jp-layout-color3, #bdbdbd);\n",
       "  --xr-background-color: var(--jp-layout-color0, white);\n",
       "  --xr-background-color-row-even: var(--jp-layout-color1, white);\n",
       "  --xr-background-color-row-odd: var(--jp-layout-color2, #eeeeee);\n",
       "}\n",
       "\n",
       "html[theme=dark],\n",
       "body.vscode-dark {\n",
       "  --xr-font-color0: rgba(255, 255, 255, 1);\n",
       "  --xr-font-color2: rgba(255, 255, 255, 0.54);\n",
       "  --xr-font-color3: rgba(255, 255, 255, 0.38);\n",
       "  --xr-border-color: #1F1F1F;\n",
       "  --xr-disabled-color: #515151;\n",
       "  --xr-background-color: #111111;\n",
       "  --xr-background-color-row-even: #111111;\n",
       "  --xr-background-color-row-odd: #313131;\n",
       "}\n",
       "\n",
       ".xr-wrap {\n",
       "  display: block !important;\n",
       "  min-width: 300px;\n",
       "  max-width: 700px;\n",
       "}\n",
       "\n",
       ".xr-text-repr-fallback {\n",
       "  /* fallback to plain text repr when CSS is not injected (untrusted notebook) */\n",
       "  display: none;\n",
       "}\n",
       "\n",
       ".xr-header {\n",
       "  padding-top: 6px;\n",
       "  padding-bottom: 6px;\n",
       "  margin-bottom: 4px;\n",
       "  border-bottom: solid 1px var(--xr-border-color);\n",
       "}\n",
       "\n",
       ".xr-header > div,\n",
       ".xr-header > ul {\n",
       "  display: inline;\n",
       "  margin-top: 0;\n",
       "  margin-bottom: 0;\n",
       "}\n",
       "\n",
       ".xr-obj-type,\n",
       ".xr-array-name {\n",
       "  margin-left: 2px;\n",
       "  margin-right: 10px;\n",
       "}\n",
       "\n",
       ".xr-obj-type {\n",
       "  color: var(--xr-font-color2);\n",
       "}\n",
       "\n",
       ".xr-sections {\n",
       "  padding-left: 0 !important;\n",
       "  display: grid;\n",
       "  grid-template-columns: 150px auto auto 1fr 20px 20px;\n",
       "}\n",
       "\n",
       ".xr-section-item {\n",
       "  display: contents;\n",
       "}\n",
       "\n",
       ".xr-section-item input {\n",
       "  display: none;\n",
       "}\n",
       "\n",
       ".xr-section-item input + label {\n",
       "  color: var(--xr-disabled-color);\n",
       "}\n",
       "\n",
       ".xr-section-item input:enabled + label {\n",
       "  cursor: pointer;\n",
       "  color: var(--xr-font-color2);\n",
       "}\n",
       "\n",
       ".xr-section-item input:enabled + label:hover {\n",
       "  color: var(--xr-font-color0);\n",
       "}\n",
       "\n",
       ".xr-section-summary {\n",
       "  grid-column: 1;\n",
       "  color: var(--xr-font-color2);\n",
       "  font-weight: 500;\n",
       "}\n",
       "\n",
       ".xr-section-summary > span {\n",
       "  display: inline-block;\n",
       "  padding-left: 0.5em;\n",
       "}\n",
       "\n",
       ".xr-section-summary-in:disabled + label {\n",
       "  color: var(--xr-font-color2);\n",
       "}\n",
       "\n",
       ".xr-section-summary-in + label:before {\n",
       "  display: inline-block;\n",
       "  content: '►';\n",
       "  font-size: 11px;\n",
       "  width: 15px;\n",
       "  text-align: center;\n",
       "}\n",
       "\n",
       ".xr-section-summary-in:disabled + label:before {\n",
       "  color: var(--xr-disabled-color);\n",
       "}\n",
       "\n",
       ".xr-section-summary-in:checked + label:before {\n",
       "  content: '▼';\n",
       "}\n",
       "\n",
       ".xr-section-summary-in:checked + label > span {\n",
       "  display: none;\n",
       "}\n",
       "\n",
       ".xr-section-summary,\n",
       ".xr-section-inline-details {\n",
       "  padding-top: 4px;\n",
       "  padding-bottom: 4px;\n",
       "}\n",
       "\n",
       ".xr-section-inline-details {\n",
       "  grid-column: 2 / -1;\n",
       "}\n",
       "\n",
       ".xr-section-details {\n",
       "  display: none;\n",
       "  grid-column: 1 / -1;\n",
       "  margin-bottom: 5px;\n",
       "}\n",
       "\n",
       ".xr-section-summary-in:checked ~ .xr-section-details {\n",
       "  display: contents;\n",
       "}\n",
       "\n",
       ".xr-array-wrap {\n",
       "  grid-column: 1 / -1;\n",
       "  display: grid;\n",
       "  grid-template-columns: 20px auto;\n",
       "}\n",
       "\n",
       ".xr-array-wrap > label {\n",
       "  grid-column: 1;\n",
       "  vertical-align: top;\n",
       "}\n",
       "\n",
       ".xr-preview {\n",
       "  color: var(--xr-font-color3);\n",
       "}\n",
       "\n",
       ".xr-array-preview,\n",
       ".xr-array-data {\n",
       "  padding: 0 5px !important;\n",
       "  grid-column: 2;\n",
       "}\n",
       "\n",
       ".xr-array-data,\n",
       ".xr-array-in:checked ~ .xr-array-preview {\n",
       "  display: none;\n",
       "}\n",
       "\n",
       ".xr-array-in:checked ~ .xr-array-data,\n",
       ".xr-array-preview {\n",
       "  display: inline-block;\n",
       "}\n",
       "\n",
       ".xr-dim-list {\n",
       "  display: inline-block !important;\n",
       "  list-style: none;\n",
       "  padding: 0 !important;\n",
       "  margin: 0;\n",
       "}\n",
       "\n",
       ".xr-dim-list li {\n",
       "  display: inline-block;\n",
       "  padding: 0;\n",
       "  margin: 0;\n",
       "}\n",
       "\n",
       ".xr-dim-list:before {\n",
       "  content: '(';\n",
       "}\n",
       "\n",
       ".xr-dim-list:after {\n",
       "  content: ')';\n",
       "}\n",
       "\n",
       ".xr-dim-list li:not(:last-child):after {\n",
       "  content: ',';\n",
       "  padding-right: 5px;\n",
       "}\n",
       "\n",
       ".xr-has-index {\n",
       "  font-weight: bold;\n",
       "}\n",
       "\n",
       ".xr-var-list,\n",
       ".xr-var-item {\n",
       "  display: contents;\n",
       "}\n",
       "\n",
       ".xr-var-item > div,\n",
       ".xr-var-item label,\n",
       ".xr-var-item > .xr-var-name span {\n",
       "  background-color: var(--xr-background-color-row-even);\n",
       "  margin-bottom: 0;\n",
       "}\n",
       "\n",
       ".xr-var-item > .xr-var-name:hover span {\n",
       "  padding-right: 5px;\n",
       "}\n",
       "\n",
       ".xr-var-list > li:nth-child(odd) > div,\n",
       ".xr-var-list > li:nth-child(odd) > label,\n",
       ".xr-var-list > li:nth-child(odd) > .xr-var-name span {\n",
       "  background-color: var(--xr-background-color-row-odd);\n",
       "}\n",
       "\n",
       ".xr-var-name {\n",
       "  grid-column: 1;\n",
       "}\n",
       "\n",
       ".xr-var-dims {\n",
       "  grid-column: 2;\n",
       "}\n",
       "\n",
       ".xr-var-dtype {\n",
       "  grid-column: 3;\n",
       "  text-align: right;\n",
       "  color: var(--xr-font-color2);\n",
       "}\n",
       "\n",
       ".xr-var-preview {\n",
       "  grid-column: 4;\n",
       "}\n",
       "\n",
       ".xr-var-name,\n",
       ".xr-var-dims,\n",
       ".xr-var-dtype,\n",
       ".xr-preview,\n",
       ".xr-attrs dt {\n",
       "  white-space: nowrap;\n",
       "  overflow: hidden;\n",
       "  text-overflow: ellipsis;\n",
       "  padding-right: 10px;\n",
       "}\n",
       "\n",
       ".xr-var-name:hover,\n",
       ".xr-var-dims:hover,\n",
       ".xr-var-dtype:hover,\n",
       ".xr-attrs dt:hover {\n",
       "  overflow: visible;\n",
       "  width: auto;\n",
       "  z-index: 1;\n",
       "}\n",
       "\n",
       ".xr-var-attrs,\n",
       ".xr-var-data {\n",
       "  display: none;\n",
       "  background-color: var(--xr-background-color) !important;\n",
       "  padding-bottom: 5px !important;\n",
       "}\n",
       "\n",
       ".xr-var-attrs-in:checked ~ .xr-var-attrs,\n",
       ".xr-var-data-in:checked ~ .xr-var-data {\n",
       "  display: block;\n",
       "}\n",
       "\n",
       ".xr-var-data > table {\n",
       "  float: right;\n",
       "}\n",
       "\n",
       ".xr-var-name span,\n",
       ".xr-var-data,\n",
       ".xr-attrs {\n",
       "  padding-left: 25px !important;\n",
       "}\n",
       "\n",
       ".xr-attrs,\n",
       ".xr-var-attrs,\n",
       ".xr-var-data {\n",
       "  grid-column: 1 / -1;\n",
       "}\n",
       "\n",
       "dl.xr-attrs {\n",
       "  padding: 0;\n",
       "  margin: 0;\n",
       "  display: grid;\n",
       "  grid-template-columns: 125px auto;\n",
       "}\n",
       "\n",
       ".xr-attrs dt,\n",
       ".xr-attrs dd {\n",
       "  padding: 0;\n",
       "  margin: 0;\n",
       "  float: left;\n",
       "  padding-right: 10px;\n",
       "  width: auto;\n",
       "}\n",
       "\n",
       ".xr-attrs dt {\n",
       "  font-weight: normal;\n",
       "  grid-column: 1;\n",
       "}\n",
       "\n",
       ".xr-attrs dt:hover span {\n",
       "  display: inline-block;\n",
       "  background: var(--xr-background-color);\n",
       "  padding-right: 10px;\n",
       "}\n",
       "\n",
       ".xr-attrs dd {\n",
       "  grid-column: 2;\n",
       "  white-space: pre-wrap;\n",
       "  word-break: break-all;\n",
       "}\n",
       "\n",
       ".xr-icon-database,\n",
       ".xr-icon-file-text2 {\n",
       "  display: inline-block;\n",
       "  vertical-align: middle;\n",
       "  width: 1em;\n",
       "  height: 1.5em !important;\n",
       "  stroke-width: 0;\n",
       "  stroke: currentColor;\n",
       "  fill: currentColor;\n",
       "}\n",
       "</style><pre class='xr-text-repr-fallback'>&lt;xarray.Dataset&gt;\n",
       "Dimensions:       (lat: 192, zlon: 1, nbnd: 2, lon: 288, lev: 32, ilev: 33,\n",
       "                   time: 120)\n",
       "Coordinates:\n",
       "  * lat           (lat) float64 -90.0 -89.06 -88.12 -87.17 ... 88.12 89.06 90.0\n",
       "  * zlon          (zlon) float64 0.0\n",
       "  * lon           (lon) float64 0.0 1.25 2.5 3.75 ... 355.0 356.2 357.5 358.8\n",
       "  * lev           (lev) float64 3.643 7.595 14.36 24.61 ... 957.5 976.3 992.6\n",
       "  * ilev          (ilev) float64 2.255 5.032 10.16 18.56 ... 967.5 985.1 1e+03\n",
       "  * time          (time) object 1850-02-01 00:00:00 ... 1860-01-01 00:00:00\n",
       "Dimensions without coordinates: nbnd\n",
       "Data variables: (12/27)\n",
       "    zlon_bnds     (zlon, nbnd) float64 0.0 358.8\n",
       "    gw            (lat) float64 3.382e-05 0.0002705 ... 0.0002705 3.382e-05\n",
       "    hyam          (lev) float64 0.003643 0.007595 0.01436 ... 0.001989 0.0\n",
       "    hybm          (lev) float64 0.0 0.0 0.0 0.0 ... 0.9251 0.9512 0.9743 0.9926\n",
       "    P0            float64 1e+05\n",
       "    hyai          (ilev) float64 0.002255 0.005032 0.01016 ... 0.003979 0.0 0.0\n",
       "    ...            ...\n",
       "    n2ovmr        (time) float64 2.73e-07 2.73e-07 ... 2.74e-07 2.74e-07\n",
       "    f11vmr        (time) float64 3.211e-11 3.211e-11 ... 3.211e-11 3.211e-11\n",
       "    f12vmr        (time) float64 0.0 0.0 0.0 0.0 0.0 0.0 ... 0.0 0.0 0.0 0.0 0.0\n",
       "    sol_tsi       (time) float64 -1.0 -1.0 -1.0 -1.0 ... -1.0 -1.0 -1.0 -1.0\n",
       "    nsteph        (time) float64 1.488e+03 2.832e+03 ... 1.737e+05 1.752e+05\n",
       "    PRECT         (time, lat, lon) float32 ...\n",
       "Attributes:\n",
       "    Conventions:       CF-1.0\n",
       "    source:            CAM\n",
       "    case:              b.e21.BHISTcmip6.f09_g17.LE2-1001.001\n",
       "    logname:           sunseon\n",
       "    host:              mom1\n",
       "    initial_file:      b.e21.B1850.f09_g17.CMIP6-piControl.001.cam.i.1001-01-...\n",
       "    topography_file:   /mnt/lustre/share/CESM/cesm_input/atm/cam/topo/fv_0.9x...\n",
       "    model_doi_url:     https://doi.org/10.5065/D67H1H0V\n",
       "    time_period_freq:  month_1</pre><div class='xr-wrap' style='display:none'><div class='xr-header'><div class='xr-obj-type'>xarray.Dataset</div></div><ul class='xr-sections'><li class='xr-section-item'><input id='section-a2ec5ed5-dbb1-4c09-83b1-1fc9d5e76c65' class='xr-section-summary-in' type='checkbox' disabled ><label for='section-a2ec5ed5-dbb1-4c09-83b1-1fc9d5e76c65' class='xr-section-summary'  title='Expand/collapse section'>Dimensions:</label><div class='xr-section-inline-details'><ul class='xr-dim-list'><li><span class='xr-has-index'>lat</span>: 192</li><li><span class='xr-has-index'>zlon</span>: 1</li><li><span>nbnd</span>: 2</li><li><span class='xr-has-index'>lon</span>: 288</li><li><span class='xr-has-index'>lev</span>: 32</li><li><span class='xr-has-index'>ilev</span>: 33</li><li><span class='xr-has-index'>time</span>: 120</li></ul></div><div class='xr-section-details'></div></li><li class='xr-section-item'><input id='section-9cf39237-afef-4ab7-bb0f-a05010829f03' class='xr-section-summary-in' type='checkbox'  checked><label for='section-9cf39237-afef-4ab7-bb0f-a05010829f03' class='xr-section-summary' >Coordinates: <span>(6)</span></label><div class='xr-section-inline-details'></div><div class='xr-section-details'><ul class='xr-var-list'><li class='xr-var-item'><div class='xr-var-name'><span class='xr-has-index'>lat</span></div><div class='xr-var-dims'>(lat)</div><div class='xr-var-dtype'>float64</div><div class='xr-var-preview xr-preview'>-90.0 -89.06 -88.12 ... 89.06 90.0</div><input id='attrs-16d1b216-e577-4b60-aba9-b8f77dc1ecab' class='xr-var-attrs-in' type='checkbox' ><label for='attrs-16d1b216-e577-4b60-aba9-b8f77dc1ecab' title='Show/Hide attributes'><svg class='icon xr-icon-file-text2'><use xlink:href='#icon-file-text2'></use></svg></label><input id='data-2aea63be-a3cf-4343-bcff-102c321473cc' class='xr-var-data-in' type='checkbox'><label for='data-2aea63be-a3cf-4343-bcff-102c321473cc' title='Show/Hide data repr'><svg class='icon xr-icon-database'><use xlink:href='#icon-database'></use></svg></label><div class='xr-var-attrs'><dl class='xr-attrs'><dt><span>long_name :</span></dt><dd>latitude</dd><dt><span>units :</span></dt><dd>degrees_north</dd></dl></div><div class='xr-var-data'><pre>array([-90.      , -89.057592, -88.115183, -87.172775, -86.230366, -85.287958,\n",
       "       -84.34555 , -83.403141, -82.460733, -81.518325, -80.575916, -79.633508,\n",
       "       -78.691099, -77.748691, -76.806283, -75.863874, -74.921466, -73.979058,\n",
       "       -73.036649, -72.094241, -71.151832, -70.209424, -69.267016, -68.324607,\n",
       "       -67.382199, -66.439791, -65.497382, -64.554974, -63.612565, -62.670157,\n",
       "       -61.727749, -60.78534 , -59.842932, -58.900524, -57.958115, -57.015707,\n",
       "       -56.073298, -55.13089 , -54.188482, -53.246073, -52.303665, -51.361257,\n",
       "       -50.418848, -49.47644 , -48.534031, -47.591623, -46.649215, -45.706806,\n",
       "       -44.764398, -43.82199 , -42.879581, -41.937173, -40.994764, -40.052356,\n",
       "       -39.109948, -38.167539, -37.225131, -36.282723, -35.340314, -34.397906,\n",
       "       -33.455497, -32.513089, -31.570681, -30.628272, -29.685864, -28.743455,\n",
       "       -27.801047, -26.858639, -25.91623 , -24.973822, -24.031414, -23.089005,\n",
       "       -22.146597, -21.204188, -20.26178 , -19.319372, -18.376963, -17.434555,\n",
       "       -16.492147, -15.549738, -14.60733 , -13.664921, -12.722513, -11.780105,\n",
       "       -10.837696,  -9.895288,  -8.95288 ,  -8.010471,  -7.068063,  -6.125654,\n",
       "        -5.183246,  -4.240838,  -3.298429,  -2.356021,  -1.413613,  -0.471204,\n",
       "         0.471204,   1.413613,   2.356021,   3.298429,   4.240838,   5.183246,\n",
       "         6.125654,   7.068063,   8.010471,   8.95288 ,   9.895288,  10.837696,\n",
       "        11.780105,  12.722513,  13.664921,  14.60733 ,  15.549738,  16.492147,\n",
       "        17.434555,  18.376963,  19.319372,  20.26178 ,  21.204188,  22.146597,\n",
       "        23.089005,  24.031414,  24.973822,  25.91623 ,  26.858639,  27.801047,\n",
       "        28.743455,  29.685864,  30.628272,  31.570681,  32.513089,  33.455497,\n",
       "        34.397906,  35.340314,  36.282723,  37.225131,  38.167539,  39.109948,\n",
       "        40.052356,  40.994764,  41.937173,  42.879581,  43.82199 ,  44.764398,\n",
       "        45.706806,  46.649215,  47.591623,  48.534031,  49.47644 ,  50.418848,\n",
       "        51.361257,  52.303665,  53.246073,  54.188482,  55.13089 ,  56.073298,\n",
       "        57.015707,  57.958115,  58.900524,  59.842932,  60.78534 ,  61.727749,\n",
       "        62.670157,  63.612565,  64.554974,  65.497382,  66.439791,  67.382199,\n",
       "        68.324607,  69.267016,  70.209424,  71.151832,  72.094241,  73.036649,\n",
       "        73.979058,  74.921466,  75.863874,  76.806283,  77.748691,  78.691099,\n",
       "        79.633508,  80.575916,  81.518325,  82.460733,  83.403141,  84.34555 ,\n",
       "        85.287958,  86.230366,  87.172775,  88.115183,  89.057592,  90.      ])</pre></div></li><li class='xr-var-item'><div class='xr-var-name'><span class='xr-has-index'>zlon</span></div><div class='xr-var-dims'>(zlon)</div><div class='xr-var-dtype'>float64</div><div class='xr-var-preview xr-preview'>0.0</div><input id='attrs-e67d26b1-46a8-4f8e-bfdb-be252c68c6b2' class='xr-var-attrs-in' type='checkbox' ><label for='attrs-e67d26b1-46a8-4f8e-bfdb-be252c68c6b2' title='Show/Hide attributes'><svg class='icon xr-icon-file-text2'><use xlink:href='#icon-file-text2'></use></svg></label><input id='data-e1701325-047c-413a-8d4d-1400a5e3c266' class='xr-var-data-in' type='checkbox'><label for='data-e1701325-047c-413a-8d4d-1400a5e3c266' title='Show/Hide data repr'><svg class='icon xr-icon-database'><use xlink:href='#icon-database'></use></svg></label><div class='xr-var-attrs'><dl class='xr-attrs'><dt><span>long_name :</span></dt><dd>longitude</dd><dt><span>units :</span></dt><dd>degrees_east</dd><dt><span>bounds :</span></dt><dd>zlon_bnds</dd></dl></div><div class='xr-var-data'><pre>array([0.])</pre></div></li><li class='xr-var-item'><div class='xr-var-name'><span class='xr-has-index'>lon</span></div><div class='xr-var-dims'>(lon)</div><div class='xr-var-dtype'>float64</div><div class='xr-var-preview xr-preview'>0.0 1.25 2.5 ... 356.2 357.5 358.8</div><input id='attrs-e4ba8f96-243d-4e7a-8179-70aa7c3a4725' class='xr-var-attrs-in' type='checkbox' ><label for='attrs-e4ba8f96-243d-4e7a-8179-70aa7c3a4725' title='Show/Hide attributes'><svg class='icon xr-icon-file-text2'><use xlink:href='#icon-file-text2'></use></svg></label><input id='data-5e4f73b5-7fb4-41a0-8518-b0961864c184' class='xr-var-data-in' type='checkbox'><label for='data-5e4f73b5-7fb4-41a0-8518-b0961864c184' title='Show/Hide data repr'><svg class='icon xr-icon-database'><use xlink:href='#icon-database'></use></svg></label><div class='xr-var-attrs'><dl class='xr-attrs'><dt><span>long_name :</span></dt><dd>longitude</dd><dt><span>units :</span></dt><dd>degrees_east</dd></dl></div><div class='xr-var-data'><pre>array([  0.  ,   1.25,   2.5 , ..., 356.25, 357.5 , 358.75])</pre></div></li><li class='xr-var-item'><div class='xr-var-name'><span class='xr-has-index'>lev</span></div><div class='xr-var-dims'>(lev)</div><div class='xr-var-dtype'>float64</div><div class='xr-var-preview xr-preview'>3.643 7.595 14.36 ... 976.3 992.6</div><input id='attrs-7aa43d19-bd14-4531-82fa-1b2515b354d9' class='xr-var-attrs-in' type='checkbox' ><label for='attrs-7aa43d19-bd14-4531-82fa-1b2515b354d9' title='Show/Hide attributes'><svg class='icon xr-icon-file-text2'><use xlink:href='#icon-file-text2'></use></svg></label><input id='data-f5c11c4b-ef4f-4260-b1f1-bf1cc409aa69' class='xr-var-data-in' type='checkbox'><label for='data-f5c11c4b-ef4f-4260-b1f1-bf1cc409aa69' title='Show/Hide data repr'><svg class='icon xr-icon-database'><use xlink:href='#icon-database'></use></svg></label><div class='xr-var-attrs'><dl class='xr-attrs'><dt><span>long_name :</span></dt><dd>hybrid level at midpoints (1000*(A+B))</dd><dt><span>units :</span></dt><dd>hPa</dd><dt><span>positive :</span></dt><dd>down</dd><dt><span>standard_name :</span></dt><dd>atmosphere_hybrid_sigma_pressure_coordinate</dd><dt><span>formula_terms :</span></dt><dd>a: hyam b: hybm p0: P0 ps: PS</dd></dl></div><div class='xr-var-data'><pre>array([  3.643466,   7.59482 ,  14.356632,  24.61222 ,  35.92325 ,  43.19375 ,\n",
       "        51.677499,  61.520498,  73.750958,  87.82123 , 103.317127, 121.547241,\n",
       "       142.994039, 168.22508 , 197.908087, 232.828619, 273.910817, 322.241902,\n",
       "       379.100904, 445.992574, 524.687175, 609.778695, 691.38943 , 763.404481,\n",
       "       820.858369, 859.534767, 887.020249, 912.644547, 936.198398, 957.48548 ,\n",
       "       976.325407, 992.556095])</pre></div></li><li class='xr-var-item'><div class='xr-var-name'><span class='xr-has-index'>ilev</span></div><div class='xr-var-dims'>(ilev)</div><div class='xr-var-dtype'>float64</div><div class='xr-var-preview xr-preview'>2.255 5.032 10.16 ... 985.1 1e+03</div><input id='attrs-423cc7e3-7d41-424a-a076-cd8c0d66cf19' class='xr-var-attrs-in' type='checkbox' ><label for='attrs-423cc7e3-7d41-424a-a076-cd8c0d66cf19' title='Show/Hide attributes'><svg class='icon xr-icon-file-text2'><use xlink:href='#icon-file-text2'></use></svg></label><input id='data-4e8ef466-161c-4970-89c4-6512a6425731' class='xr-var-data-in' type='checkbox'><label for='data-4e8ef466-161c-4970-89c4-6512a6425731' title='Show/Hide data repr'><svg class='icon xr-icon-database'><use xlink:href='#icon-database'></use></svg></label><div class='xr-var-attrs'><dl class='xr-attrs'><dt><span>long_name :</span></dt><dd>hybrid level at interfaces (1000*(A+B))</dd><dt><span>units :</span></dt><dd>hPa</dd><dt><span>positive :</span></dt><dd>down</dd><dt><span>standard_name :</span></dt><dd>atmosphere_hybrid_sigma_pressure_coordinate</dd><dt><span>formula_terms :</span></dt><dd>a: hyai b: hybi p0: P0 ps: PS</dd></dl></div><div class='xr-var-data'><pre>array([   2.25524 ,    5.031692,   10.157947,   18.555317,   29.734676,\n",
       "         39.273001,   47.114499,   56.240499,   66.800497,   80.701418,\n",
       "         94.941042,  111.693211,  131.401271,  154.586807,  181.863353,\n",
       "        213.952821,  251.704417,  296.117216,  348.366588,  409.835219,\n",
       "        482.149929,  567.224421,  652.332969,  730.445892,  796.363071,\n",
       "        845.353667,  873.715866,  900.324631,  924.964462,  947.432335,\n",
       "        967.538625,  985.11219 , 1000.      ])</pre></div></li><li class='xr-var-item'><div class='xr-var-name'><span class='xr-has-index'>time</span></div><div class='xr-var-dims'>(time)</div><div class='xr-var-dtype'>object</div><div class='xr-var-preview xr-preview'>1850-02-01 00:00:00 ... 1860-01-...</div><input id='attrs-ee3851ed-4c70-4bb0-b03b-09777ae63dc0' class='xr-var-attrs-in' type='checkbox' ><label for='attrs-ee3851ed-4c70-4bb0-b03b-09777ae63dc0' title='Show/Hide attributes'><svg class='icon xr-icon-file-text2'><use xlink:href='#icon-file-text2'></use></svg></label><input id='data-7190fa89-c042-4c73-9fc7-16e9b7a8c811' class='xr-var-data-in' type='checkbox'><label for='data-7190fa89-c042-4c73-9fc7-16e9b7a8c811' title='Show/Hide data repr'><svg class='icon xr-icon-database'><use xlink:href='#icon-database'></use></svg></label><div class='xr-var-attrs'><dl class='xr-attrs'><dt><span>long_name :</span></dt><dd>time</dd><dt><span>bounds :</span></dt><dd>time_bnds</dd></dl></div><div class='xr-var-data'><pre>array([cftime.DatetimeNoLeap(1850, 2, 1, 0, 0, 0, 0),\n",
       "       cftime.DatetimeNoLeap(1850, 3, 1, 0, 0, 0, 0),\n",
       "       cftime.DatetimeNoLeap(1850, 4, 1, 0, 0, 0, 0),\n",
       "       cftime.DatetimeNoLeap(1850, 5, 1, 0, 0, 0, 0),\n",
       "       cftime.DatetimeNoLeap(1850, 6, 1, 0, 0, 0, 0),\n",
       "       cftime.DatetimeNoLeap(1850, 7, 1, 0, 0, 0, 0),\n",
       "       cftime.DatetimeNoLeap(1850, 8, 1, 0, 0, 0, 0),\n",
       "       cftime.DatetimeNoLeap(1850, 9, 1, 0, 0, 0, 0),\n",
       "       cftime.DatetimeNoLeap(1850, 10, 1, 0, 0, 0, 0),\n",
       "       cftime.DatetimeNoLeap(1850, 11, 1, 0, 0, 0, 0),\n",
       "       cftime.DatetimeNoLeap(1850, 12, 1, 0, 0, 0, 0),\n",
       "       cftime.DatetimeNoLeap(1851, 1, 1, 0, 0, 0, 0),\n",
       "       cftime.DatetimeNoLeap(1851, 2, 1, 0, 0, 0, 0),\n",
       "       cftime.DatetimeNoLeap(1851, 3, 1, 0, 0, 0, 0),\n",
       "       cftime.DatetimeNoLeap(1851, 4, 1, 0, 0, 0, 0),\n",
       "       cftime.DatetimeNoLeap(1851, 5, 1, 0, 0, 0, 0),\n",
       "       cftime.DatetimeNoLeap(1851, 6, 1, 0, 0, 0, 0),\n",
       "       cftime.DatetimeNoLeap(1851, 7, 1, 0, 0, 0, 0),\n",
       "       cftime.DatetimeNoLeap(1851, 8, 1, 0, 0, 0, 0),\n",
       "       cftime.DatetimeNoLeap(1851, 9, 1, 0, 0, 0, 0),\n",
       "       cftime.DatetimeNoLeap(1851, 10, 1, 0, 0, 0, 0),\n",
       "       cftime.DatetimeNoLeap(1851, 11, 1, 0, 0, 0, 0),\n",
       "       cftime.DatetimeNoLeap(1851, 12, 1, 0, 0, 0, 0),\n",
       "       cftime.DatetimeNoLeap(1852, 1, 1, 0, 0, 0, 0),\n",
       "       cftime.DatetimeNoLeap(1852, 2, 1, 0, 0, 0, 0),\n",
       "       cftime.DatetimeNoLeap(1852, 3, 1, 0, 0, 0, 0),\n",
       "       cftime.DatetimeNoLeap(1852, 4, 1, 0, 0, 0, 0),\n",
       "       cftime.DatetimeNoLeap(1852, 5, 1, 0, 0, 0, 0),\n",
       "       cftime.DatetimeNoLeap(1852, 6, 1, 0, 0, 0, 0),\n",
       "       cftime.DatetimeNoLeap(1852, 7, 1, 0, 0, 0, 0),\n",
       "       cftime.DatetimeNoLeap(1852, 8, 1, 0, 0, 0, 0),\n",
       "       cftime.DatetimeNoLeap(1852, 9, 1, 0, 0, 0, 0),\n",
       "       cftime.DatetimeNoLeap(1852, 10, 1, 0, 0, 0, 0),\n",
       "       cftime.DatetimeNoLeap(1852, 11, 1, 0, 0, 0, 0),\n",
       "       cftime.DatetimeNoLeap(1852, 12, 1, 0, 0, 0, 0),\n",
       "       cftime.DatetimeNoLeap(1853, 1, 1, 0, 0, 0, 0),\n",
       "       cftime.DatetimeNoLeap(1853, 2, 1, 0, 0, 0, 0),\n",
       "       cftime.DatetimeNoLeap(1853, 3, 1, 0, 0, 0, 0),\n",
       "       cftime.DatetimeNoLeap(1853, 4, 1, 0, 0, 0, 0),\n",
       "       cftime.DatetimeNoLeap(1853, 5, 1, 0, 0, 0, 0),\n",
       "       cftime.DatetimeNoLeap(1853, 6, 1, 0, 0, 0, 0),\n",
       "       cftime.DatetimeNoLeap(1853, 7, 1, 0, 0, 0, 0),\n",
       "       cftime.DatetimeNoLeap(1853, 8, 1, 0, 0, 0, 0),\n",
       "       cftime.DatetimeNoLeap(1853, 9, 1, 0, 0, 0, 0),\n",
       "       cftime.DatetimeNoLeap(1853, 10, 1, 0, 0, 0, 0),\n",
       "       cftime.DatetimeNoLeap(1853, 11, 1, 0, 0, 0, 0),\n",
       "       cftime.DatetimeNoLeap(1853, 12, 1, 0, 0, 0, 0),\n",
       "       cftime.DatetimeNoLeap(1854, 1, 1, 0, 0, 0, 0),\n",
       "       cftime.DatetimeNoLeap(1854, 2, 1, 0, 0, 0, 0),\n",
       "       cftime.DatetimeNoLeap(1854, 3, 1, 0, 0, 0, 0),\n",
       "       cftime.DatetimeNoLeap(1854, 4, 1, 0, 0, 0, 0),\n",
       "       cftime.DatetimeNoLeap(1854, 5, 1, 0, 0, 0, 0),\n",
       "       cftime.DatetimeNoLeap(1854, 6, 1, 0, 0, 0, 0),\n",
       "       cftime.DatetimeNoLeap(1854, 7, 1, 0, 0, 0, 0),\n",
       "       cftime.DatetimeNoLeap(1854, 8, 1, 0, 0, 0, 0),\n",
       "       cftime.DatetimeNoLeap(1854, 9, 1, 0, 0, 0, 0),\n",
       "       cftime.DatetimeNoLeap(1854, 10, 1, 0, 0, 0, 0),\n",
       "       cftime.DatetimeNoLeap(1854, 11, 1, 0, 0, 0, 0),\n",
       "       cftime.DatetimeNoLeap(1854, 12, 1, 0, 0, 0, 0),\n",
       "       cftime.DatetimeNoLeap(1855, 1, 1, 0, 0, 0, 0),\n",
       "       cftime.DatetimeNoLeap(1855, 2, 1, 0, 0, 0, 0),\n",
       "       cftime.DatetimeNoLeap(1855, 3, 1, 0, 0, 0, 0),\n",
       "       cftime.DatetimeNoLeap(1855, 4, 1, 0, 0, 0, 0),\n",
       "       cftime.DatetimeNoLeap(1855, 5, 1, 0, 0, 0, 0),\n",
       "       cftime.DatetimeNoLeap(1855, 6, 1, 0, 0, 0, 0),\n",
       "       cftime.DatetimeNoLeap(1855, 7, 1, 0, 0, 0, 0),\n",
       "       cftime.DatetimeNoLeap(1855, 8, 1, 0, 0, 0, 0),\n",
       "       cftime.DatetimeNoLeap(1855, 9, 1, 0, 0, 0, 0),\n",
       "       cftime.DatetimeNoLeap(1855, 10, 1, 0, 0, 0, 0),\n",
       "       cftime.DatetimeNoLeap(1855, 11, 1, 0, 0, 0, 0),\n",
       "       cftime.DatetimeNoLeap(1855, 12, 1, 0, 0, 0, 0),\n",
       "       cftime.DatetimeNoLeap(1856, 1, 1, 0, 0, 0, 0),\n",
       "       cftime.DatetimeNoLeap(1856, 2, 1, 0, 0, 0, 0),\n",
       "       cftime.DatetimeNoLeap(1856, 3, 1, 0, 0, 0, 0),\n",
       "       cftime.DatetimeNoLeap(1856, 4, 1, 0, 0, 0, 0),\n",
       "       cftime.DatetimeNoLeap(1856, 5, 1, 0, 0, 0, 0),\n",
       "       cftime.DatetimeNoLeap(1856, 6, 1, 0, 0, 0, 0),\n",
       "       cftime.DatetimeNoLeap(1856, 7, 1, 0, 0, 0, 0),\n",
       "       cftime.DatetimeNoLeap(1856, 8, 1, 0, 0, 0, 0),\n",
       "       cftime.DatetimeNoLeap(1856, 9, 1, 0, 0, 0, 0),\n",
       "       cftime.DatetimeNoLeap(1856, 10, 1, 0, 0, 0, 0),\n",
       "       cftime.DatetimeNoLeap(1856, 11, 1, 0, 0, 0, 0),\n",
       "       cftime.DatetimeNoLeap(1856, 12, 1, 0, 0, 0, 0),\n",
       "       cftime.DatetimeNoLeap(1857, 1, 1, 0, 0, 0, 0),\n",
       "       cftime.DatetimeNoLeap(1857, 2, 1, 0, 0, 0, 0),\n",
       "       cftime.DatetimeNoLeap(1857, 3, 1, 0, 0, 0, 0),\n",
       "       cftime.DatetimeNoLeap(1857, 4, 1, 0, 0, 0, 0),\n",
       "       cftime.DatetimeNoLeap(1857, 5, 1, 0, 0, 0, 0),\n",
       "       cftime.DatetimeNoLeap(1857, 6, 1, 0, 0, 0, 0),\n",
       "       cftime.DatetimeNoLeap(1857, 7, 1, 0, 0, 0, 0),\n",
       "       cftime.DatetimeNoLeap(1857, 8, 1, 0, 0, 0, 0),\n",
       "       cftime.DatetimeNoLeap(1857, 9, 1, 0, 0, 0, 0),\n",
       "       cftime.DatetimeNoLeap(1857, 10, 1, 0, 0, 0, 0),\n",
       "       cftime.DatetimeNoLeap(1857, 11, 1, 0, 0, 0, 0),\n",
       "       cftime.DatetimeNoLeap(1857, 12, 1, 0, 0, 0, 0),\n",
       "       cftime.DatetimeNoLeap(1858, 1, 1, 0, 0, 0, 0),\n",
       "       cftime.DatetimeNoLeap(1858, 2, 1, 0, 0, 0, 0),\n",
       "       cftime.DatetimeNoLeap(1858, 3, 1, 0, 0, 0, 0),\n",
       "       cftime.DatetimeNoLeap(1858, 4, 1, 0, 0, 0, 0),\n",
       "       cftime.DatetimeNoLeap(1858, 5, 1, 0, 0, 0, 0),\n",
       "       cftime.DatetimeNoLeap(1858, 6, 1, 0, 0, 0, 0),\n",
       "       cftime.DatetimeNoLeap(1858, 7, 1, 0, 0, 0, 0),\n",
       "       cftime.DatetimeNoLeap(1858, 8, 1, 0, 0, 0, 0),\n",
       "       cftime.DatetimeNoLeap(1858, 9, 1, 0, 0, 0, 0),\n",
       "       cftime.DatetimeNoLeap(1858, 10, 1, 0, 0, 0, 0),\n",
       "       cftime.DatetimeNoLeap(1858, 11, 1, 0, 0, 0, 0),\n",
       "       cftime.DatetimeNoLeap(1858, 12, 1, 0, 0, 0, 0),\n",
       "       cftime.DatetimeNoLeap(1859, 1, 1, 0, 0, 0, 0),\n",
       "       cftime.DatetimeNoLeap(1859, 2, 1, 0, 0, 0, 0),\n",
       "       cftime.DatetimeNoLeap(1859, 3, 1, 0, 0, 0, 0),\n",
       "       cftime.DatetimeNoLeap(1859, 4, 1, 0, 0, 0, 0),\n",
       "       cftime.DatetimeNoLeap(1859, 5, 1, 0, 0, 0, 0),\n",
       "       cftime.DatetimeNoLeap(1859, 6, 1, 0, 0, 0, 0),\n",
       "       cftime.DatetimeNoLeap(1859, 7, 1, 0, 0, 0, 0),\n",
       "       cftime.DatetimeNoLeap(1859, 8, 1, 0, 0, 0, 0),\n",
       "       cftime.DatetimeNoLeap(1859, 9, 1, 0, 0, 0, 0),\n",
       "       cftime.DatetimeNoLeap(1859, 10, 1, 0, 0, 0, 0),\n",
       "       cftime.DatetimeNoLeap(1859, 11, 1, 0, 0, 0, 0),\n",
       "       cftime.DatetimeNoLeap(1859, 12, 1, 0, 0, 0, 0),\n",
       "       cftime.DatetimeNoLeap(1860, 1, 1, 0, 0, 0, 0)], dtype=object)</pre></div></li></ul></div></li><li class='xr-section-item'><input id='section-d1d6423d-3374-4994-be09-842d2ee10423' class='xr-section-summary-in' type='checkbox'  ><label for='section-d1d6423d-3374-4994-be09-842d2ee10423' class='xr-section-summary' >Data variables: <span>(27)</span></label><div class='xr-section-inline-details'></div><div class='xr-section-details'><ul class='xr-var-list'><li class='xr-var-item'><div class='xr-var-name'><span>zlon_bnds</span></div><div class='xr-var-dims'>(zlon, nbnd)</div><div class='xr-var-dtype'>float64</div><div class='xr-var-preview xr-preview'>...</div><input id='attrs-0f7c1ba5-b464-411e-910a-7e34851bcaa4' class='xr-var-attrs-in' type='checkbox' ><label for='attrs-0f7c1ba5-b464-411e-910a-7e34851bcaa4' title='Show/Hide attributes'><svg class='icon xr-icon-file-text2'><use xlink:href='#icon-file-text2'></use></svg></label><input id='data-2fa1031c-7d4e-43c6-953f-1e79c9f3d35d' class='xr-var-data-in' type='checkbox'><label for='data-2fa1031c-7d4e-43c6-953f-1e79c9f3d35d' title='Show/Hide data repr'><svg class='icon xr-icon-database'><use xlink:href='#icon-database'></use></svg></label><div class='xr-var-attrs'><dl class='xr-attrs'><dt><span>long_name :</span></dt><dd>zlon bounds</dd><dt><span>units :</span></dt><dd>degrees_east</dd></dl></div><div class='xr-var-data'><pre>array([[  0.  , 358.75]])</pre></div></li><li class='xr-var-item'><div class='xr-var-name'><span>gw</span></div><div class='xr-var-dims'>(lat)</div><div class='xr-var-dtype'>float64</div><div class='xr-var-preview xr-preview'>...</div><input id='attrs-65f7fcfd-efe7-4f0b-b24f-7e8db30937d5' class='xr-var-attrs-in' type='checkbox' ><label for='attrs-65f7fcfd-efe7-4f0b-b24f-7e8db30937d5' title='Show/Hide attributes'><svg class='icon xr-icon-file-text2'><use xlink:href='#icon-file-text2'></use></svg></label><input id='data-b1c5993b-7da8-4a2b-9c5d-129328a9f738' class='xr-var-data-in' type='checkbox'><label for='data-b1c5993b-7da8-4a2b-9c5d-129328a9f738' title='Show/Hide data repr'><svg class='icon xr-icon-database'><use xlink:href='#icon-database'></use></svg></label><div class='xr-var-attrs'><dl class='xr-attrs'><dt><span>long_name :</span></dt><dd>latitude weights</dd></dl></div><div class='xr-var-data'><pre>array([3.381743e-05, 2.705257e-04, 5.409782e-04, 8.112844e-04, 1.081371e-03,\n",
       "       1.351165e-03, 1.620594e-03, 1.889584e-03, 2.158063e-03, 2.425958e-03,\n",
       "       2.693197e-03, 2.959707e-03, 3.225417e-03, 3.490254e-03, 3.754146e-03,\n",
       "       4.017023e-03, 4.278814e-03, 4.539446e-03, 4.798851e-03, 5.056958e-03,\n",
       "       5.313696e-03, 5.568997e-03, 5.822791e-03, 6.075010e-03, 6.325585e-03,\n",
       "       6.574449e-03, 6.821535e-03, 7.066775e-03, 7.310103e-03, 7.551454e-03,\n",
       "       7.790762e-03, 8.027962e-03, 8.262990e-03, 8.495782e-03, 8.726277e-03,\n",
       "       8.954410e-03, 9.180121e-03, 9.403349e-03, 9.624033e-03, 9.842113e-03,\n",
       "       1.005753e-02, 1.027023e-02, 1.048014e-02, 1.068723e-02, 1.089142e-02,\n",
       "       1.109266e-02, 1.129091e-02, 1.148610e-02, 1.167818e-02, 1.186710e-02,\n",
       "       1.205281e-02, 1.223527e-02, 1.241441e-02, 1.259019e-02, 1.276257e-02,\n",
       "       1.293149e-02, 1.309692e-02, 1.325880e-02, 1.341709e-02, 1.357176e-02,\n",
       "       1.372275e-02, 1.387004e-02, 1.401357e-02, 1.415330e-02, 1.428921e-02,\n",
       "       1.442126e-02, 1.454940e-02, 1.467360e-02, 1.479384e-02, 1.491007e-02,\n",
       "       1.502227e-02, 1.513041e-02, 1.523445e-02, 1.533437e-02, 1.543015e-02,\n",
       "       1.552175e-02, 1.560915e-02, 1.569232e-02, 1.577125e-02, 1.584592e-02,\n",
       "       1.591630e-02, 1.598237e-02, 1.604412e-02, 1.610152e-02, 1.615457e-02,\n",
       "       1.620326e-02, 1.624755e-02, 1.628745e-02, 1.632295e-02, 1.635403e-02,\n",
       "       1.638069e-02, 1.640291e-02, 1.642070e-02, 1.643404e-02, 1.644294e-02,\n",
       "       1.644739e-02, 1.644739e-02, 1.644294e-02, 1.643404e-02, 1.642070e-02,\n",
       "       1.640291e-02, 1.638069e-02, 1.635403e-02, 1.632295e-02, 1.628745e-02,\n",
       "       1.624755e-02, 1.620326e-02, 1.615457e-02, 1.610152e-02, 1.604412e-02,\n",
       "       1.598237e-02, 1.591630e-02, 1.584592e-02, 1.577125e-02, 1.569232e-02,\n",
       "       1.560915e-02, 1.552175e-02, 1.543015e-02, 1.533437e-02, 1.523445e-02,\n",
       "       1.513041e-02, 1.502227e-02, 1.491007e-02, 1.479384e-02, 1.467360e-02,\n",
       "       1.454940e-02, 1.442126e-02, 1.428921e-02, 1.415330e-02, 1.401357e-02,\n",
       "       1.387004e-02, 1.372275e-02, 1.357176e-02, 1.341709e-02, 1.325880e-02,\n",
       "       1.309692e-02, 1.293149e-02, 1.276257e-02, 1.259019e-02, 1.241441e-02,\n",
       "       1.223527e-02, 1.205281e-02, 1.186710e-02, 1.167818e-02, 1.148610e-02,\n",
       "       1.129091e-02, 1.109266e-02, 1.089142e-02, 1.068723e-02, 1.048014e-02,\n",
       "       1.027023e-02, 1.005753e-02, 9.842113e-03, 9.624033e-03, 9.403349e-03,\n",
       "       9.180121e-03, 8.954410e-03, 8.726277e-03, 8.495782e-03, 8.262990e-03,\n",
       "       8.027962e-03, 7.790762e-03, 7.551454e-03, 7.310103e-03, 7.066775e-03,\n",
       "       6.821535e-03, 6.574449e-03, 6.325585e-03, 6.075010e-03, 5.822791e-03,\n",
       "       5.568997e-03, 5.313696e-03, 5.056958e-03, 4.798851e-03, 4.539446e-03,\n",
       "       4.278814e-03, 4.017023e-03, 3.754146e-03, 3.490254e-03, 3.225417e-03,\n",
       "       2.959707e-03, 2.693197e-03, 2.425958e-03, 2.158063e-03, 1.889584e-03,\n",
       "       1.620594e-03, 1.351165e-03, 1.081371e-03, 8.112844e-04, 5.409782e-04,\n",
       "       2.705257e-04, 3.381743e-05])</pre></div></li><li class='xr-var-item'><div class='xr-var-name'><span>hyam</span></div><div class='xr-var-dims'>(lev)</div><div class='xr-var-dtype'>float64</div><div class='xr-var-preview xr-preview'>...</div><input id='attrs-d19d214f-96d0-412d-b388-b38fe7931da7' class='xr-var-attrs-in' type='checkbox' ><label for='attrs-d19d214f-96d0-412d-b388-b38fe7931da7' title='Show/Hide attributes'><svg class='icon xr-icon-file-text2'><use xlink:href='#icon-file-text2'></use></svg></label><input id='data-db066197-82e7-4b19-bed4-8736dd4aabc8' class='xr-var-data-in' type='checkbox'><label for='data-db066197-82e7-4b19-bed4-8736dd4aabc8' title='Show/Hide data repr'><svg class='icon xr-icon-database'><use xlink:href='#icon-database'></use></svg></label><div class='xr-var-attrs'><dl class='xr-attrs'><dt><span>long_name :</span></dt><dd>hybrid A coefficient at layer midpoints</dd></dl></div><div class='xr-var-data'><pre>array([0.003643, 0.007595, 0.014357, 0.024612, 0.035923, 0.043194, 0.051677,\n",
       "       0.06152 , 0.073751, 0.087821, 0.103317, 0.121547, 0.142994, 0.168225,\n",
       "       0.178231, 0.170324, 0.161023, 0.15008 , 0.137207, 0.122062, 0.104245,\n",
       "       0.084979, 0.066502, 0.050197, 0.037189, 0.028432, 0.022209, 0.016407,\n",
       "       0.011075, 0.006255, 0.001989, 0.      ])</pre></div></li><li class='xr-var-item'><div class='xr-var-name'><span>hybm</span></div><div class='xr-var-dims'>(lev)</div><div class='xr-var-dtype'>float64</div><div class='xr-var-preview xr-preview'>...</div><input id='attrs-f0af1aef-a8fa-4f13-bbdf-9717ba820be3' class='xr-var-attrs-in' type='checkbox' ><label for='attrs-f0af1aef-a8fa-4f13-bbdf-9717ba820be3' title='Show/Hide attributes'><svg class='icon xr-icon-file-text2'><use xlink:href='#icon-file-text2'></use></svg></label><input id='data-9ea894a9-88a0-466d-952b-71d6f098882f' class='xr-var-data-in' type='checkbox'><label for='data-9ea894a9-88a0-466d-952b-71d6f098882f' title='Show/Hide data repr'><svg class='icon xr-icon-database'><use xlink:href='#icon-database'></use></svg></label><div class='xr-var-attrs'><dl class='xr-attrs'><dt><span>long_name :</span></dt><dd>hybrid B coefficient at layer midpoints</dd></dl></div><div class='xr-var-data'><pre>array([0.      , 0.      , 0.      , 0.      , 0.      , 0.      , 0.      ,\n",
       "       0.      , 0.      , 0.      , 0.      , 0.      , 0.      , 0.      ,\n",
       "       0.019677, 0.062504, 0.112888, 0.172162, 0.241894, 0.323931, 0.420442,\n",
       "       0.5248  , 0.624888, 0.713208, 0.78367 , 0.831103, 0.864811, 0.896237,\n",
       "       0.925124, 0.951231, 0.974336, 0.992556])</pre></div></li><li class='xr-var-item'><div class='xr-var-name'><span>P0</span></div><div class='xr-var-dims'>()</div><div class='xr-var-dtype'>float64</div><div class='xr-var-preview xr-preview'>...</div><input id='attrs-9005119b-6052-47a3-9b71-1763f0a934a0' class='xr-var-attrs-in' type='checkbox' ><label for='attrs-9005119b-6052-47a3-9b71-1763f0a934a0' title='Show/Hide attributes'><svg class='icon xr-icon-file-text2'><use xlink:href='#icon-file-text2'></use></svg></label><input id='data-164216b1-78f0-4764-80bd-3e98928795e1' class='xr-var-data-in' type='checkbox'><label for='data-164216b1-78f0-4764-80bd-3e98928795e1' title='Show/Hide data repr'><svg class='icon xr-icon-database'><use xlink:href='#icon-database'></use></svg></label><div class='xr-var-attrs'><dl class='xr-attrs'><dt><span>long_name :</span></dt><dd>reference pressure</dd><dt><span>units :</span></dt><dd>Pa</dd></dl></div><div class='xr-var-data'><pre>array(100000.)</pre></div></li><li class='xr-var-item'><div class='xr-var-name'><span>hyai</span></div><div class='xr-var-dims'>(ilev)</div><div class='xr-var-dtype'>float64</div><div class='xr-var-preview xr-preview'>...</div><input id='attrs-5e6751f9-82e5-42b7-b2a2-b25c5deb11a9' class='xr-var-attrs-in' type='checkbox' ><label for='attrs-5e6751f9-82e5-42b7-b2a2-b25c5deb11a9' title='Show/Hide attributes'><svg class='icon xr-icon-file-text2'><use xlink:href='#icon-file-text2'></use></svg></label><input id='data-e9cdcd73-3b8b-4e5b-b625-dd00e9d9347c' class='xr-var-data-in' type='checkbox'><label for='data-e9cdcd73-3b8b-4e5b-b625-dd00e9d9347c' title='Show/Hide data repr'><svg class='icon xr-icon-database'><use xlink:href='#icon-database'></use></svg></label><div class='xr-var-attrs'><dl class='xr-attrs'><dt><span>long_name :</span></dt><dd>hybrid A coefficient at layer interfaces</dd></dl></div><div class='xr-var-data'><pre>array([0.002255, 0.005032, 0.010158, 0.018555, 0.029735, 0.039273, 0.047114,\n",
       "       0.05624 , 0.0668  , 0.080701, 0.094941, 0.111693, 0.131401, 0.154587,\n",
       "       0.181863, 0.174598, 0.166051, 0.155995, 0.144165, 0.130248, 0.113876,\n",
       "       0.094614, 0.075344, 0.057659, 0.042735, 0.031643, 0.025221, 0.019197,\n",
       "       0.013618, 0.008531, 0.003979, 0.      , 0.      ])</pre></div></li><li class='xr-var-item'><div class='xr-var-name'><span>hybi</span></div><div class='xr-var-dims'>(ilev)</div><div class='xr-var-dtype'>float64</div><div class='xr-var-preview xr-preview'>...</div><input id='attrs-2f0e0ff4-9e0e-4f71-98b4-09d301b23876' class='xr-var-attrs-in' type='checkbox' ><label for='attrs-2f0e0ff4-9e0e-4f71-98b4-09d301b23876' title='Show/Hide attributes'><svg class='icon xr-icon-file-text2'><use xlink:href='#icon-file-text2'></use></svg></label><input id='data-88af8491-ca76-409e-8ed4-2e151c67b736' class='xr-var-data-in' type='checkbox'><label for='data-88af8491-ca76-409e-8ed4-2e151c67b736' title='Show/Hide data repr'><svg class='icon xr-icon-database'><use xlink:href='#icon-database'></use></svg></label><div class='xr-var-attrs'><dl class='xr-attrs'><dt><span>long_name :</span></dt><dd>hybrid B coefficient at layer interfaces</dd></dl></div><div class='xr-var-data'><pre>array([0.      , 0.      , 0.      , 0.      , 0.      , 0.      , 0.      ,\n",
       "       0.      , 0.      , 0.      , 0.      , 0.      , 0.      , 0.      ,\n",
       "       0.      , 0.039355, 0.085654, 0.140122, 0.204201, 0.279587, 0.368274,\n",
       "       0.472611, 0.576989, 0.672787, 0.753628, 0.813711, 0.848495, 0.881128,\n",
       "       0.911346, 0.938901, 0.96356 , 0.985112, 1.      ])</pre></div></li><li class='xr-var-item'><div class='xr-var-name'><span>ndbase</span></div><div class='xr-var-dims'>()</div><div class='xr-var-dtype'>float64</div><div class='xr-var-preview xr-preview'>...</div><input id='attrs-b64be14f-5207-411a-97f9-50eed05f6e62' class='xr-var-attrs-in' type='checkbox' ><label for='attrs-b64be14f-5207-411a-97f9-50eed05f6e62' title='Show/Hide attributes'><svg class='icon xr-icon-file-text2'><use xlink:href='#icon-file-text2'></use></svg></label><input id='data-789a61f2-9cca-4782-82c5-57be92ae1073' class='xr-var-data-in' type='checkbox'><label for='data-789a61f2-9cca-4782-82c5-57be92ae1073' title='Show/Hide data repr'><svg class='icon xr-icon-database'><use xlink:href='#icon-database'></use></svg></label><div class='xr-var-attrs'><dl class='xr-attrs'><dt><span>long_name :</span></dt><dd>base day</dd></dl></div><div class='xr-var-data'><pre>array(0.)</pre></div></li><li class='xr-var-item'><div class='xr-var-name'><span>nsbase</span></div><div class='xr-var-dims'>()</div><div class='xr-var-dtype'>float64</div><div class='xr-var-preview xr-preview'>...</div><input id='attrs-f022eb33-bed1-4ef1-8884-c2d4943824a7' class='xr-var-attrs-in' type='checkbox' ><label for='attrs-f022eb33-bed1-4ef1-8884-c2d4943824a7' title='Show/Hide attributes'><svg class='icon xr-icon-file-text2'><use xlink:href='#icon-file-text2'></use></svg></label><input id='data-882d4e2d-1452-4288-85b5-a4e2cf709d2e' class='xr-var-data-in' type='checkbox'><label for='data-882d4e2d-1452-4288-85b5-a4e2cf709d2e' title='Show/Hide data repr'><svg class='icon xr-icon-database'><use xlink:href='#icon-database'></use></svg></label><div class='xr-var-attrs'><dl class='xr-attrs'><dt><span>long_name :</span></dt><dd>seconds of base day</dd></dl></div><div class='xr-var-data'><pre>array(0.)</pre></div></li><li class='xr-var-item'><div class='xr-var-name'><span>nbdate</span></div><div class='xr-var-dims'>()</div><div class='xr-var-dtype'>float64</div><div class='xr-var-preview xr-preview'>...</div><input id='attrs-39aba57b-acaf-4b26-a2d4-630395eeb049' class='xr-var-attrs-in' type='checkbox' ><label for='attrs-39aba57b-acaf-4b26-a2d4-630395eeb049' title='Show/Hide attributes'><svg class='icon xr-icon-file-text2'><use xlink:href='#icon-file-text2'></use></svg></label><input id='data-f0730501-be61-4fa8-a6fa-091605b6540f' class='xr-var-data-in' type='checkbox'><label for='data-f0730501-be61-4fa8-a6fa-091605b6540f' title='Show/Hide data repr'><svg class='icon xr-icon-database'><use xlink:href='#icon-database'></use></svg></label><div class='xr-var-attrs'><dl class='xr-attrs'><dt><span>long_name :</span></dt><dd>base date (YYYYMMDD)</dd></dl></div><div class='xr-var-data'><pre>array(18500101.)</pre></div></li><li class='xr-var-item'><div class='xr-var-name'><span>nbsec</span></div><div class='xr-var-dims'>()</div><div class='xr-var-dtype'>float64</div><div class='xr-var-preview xr-preview'>...</div><input id='attrs-ea26bcc3-aea4-45ba-adb1-14935db7399c' class='xr-var-attrs-in' type='checkbox' ><label for='attrs-ea26bcc3-aea4-45ba-adb1-14935db7399c' title='Show/Hide attributes'><svg class='icon xr-icon-file-text2'><use xlink:href='#icon-file-text2'></use></svg></label><input id='data-794c383b-e6ca-4a30-9540-6e8df92109a8' class='xr-var-data-in' type='checkbox'><label for='data-794c383b-e6ca-4a30-9540-6e8df92109a8' title='Show/Hide data repr'><svg class='icon xr-icon-database'><use xlink:href='#icon-database'></use></svg></label><div class='xr-var-attrs'><dl class='xr-attrs'><dt><span>long_name :</span></dt><dd>seconds of base date</dd></dl></div><div class='xr-var-data'><pre>array(0.)</pre></div></li><li class='xr-var-item'><div class='xr-var-name'><span>mdt</span></div><div class='xr-var-dims'>()</div><div class='xr-var-dtype'>float64</div><div class='xr-var-preview xr-preview'>...</div><input id='attrs-c59cdd13-2db8-4897-8454-2b33a35cc5b0' class='xr-var-attrs-in' type='checkbox' ><label for='attrs-c59cdd13-2db8-4897-8454-2b33a35cc5b0' title='Show/Hide attributes'><svg class='icon xr-icon-file-text2'><use xlink:href='#icon-file-text2'></use></svg></label><input id='data-30eaf428-460a-4ef1-ac4c-6df656095c59' class='xr-var-data-in' type='checkbox'><label for='data-30eaf428-460a-4ef1-ac4c-6df656095c59' title='Show/Hide data repr'><svg class='icon xr-icon-database'><use xlink:href='#icon-database'></use></svg></label><div class='xr-var-attrs'><dl class='xr-attrs'><dt><span>long_name :</span></dt><dd>timestep</dd><dt><span>units :</span></dt><dd>s</dd></dl></div><div class='xr-var-data'><pre>array(1800.)</pre></div></li><li class='xr-var-item'><div class='xr-var-name'><span>date</span></div><div class='xr-var-dims'>(time)</div><div class='xr-var-dtype'>float64</div><div class='xr-var-preview xr-preview'>...</div><input id='attrs-a8c3b293-8891-4d92-9d8e-460c5843a84d' class='xr-var-attrs-in' type='checkbox' ><label for='attrs-a8c3b293-8891-4d92-9d8e-460c5843a84d' title='Show/Hide attributes'><svg class='icon xr-icon-file-text2'><use xlink:href='#icon-file-text2'></use></svg></label><input id='data-aa672dc7-38f3-4ffb-bf28-34fff29a5a1a' class='xr-var-data-in' type='checkbox'><label for='data-aa672dc7-38f3-4ffb-bf28-34fff29a5a1a' title='Show/Hide data repr'><svg class='icon xr-icon-database'><use xlink:href='#icon-database'></use></svg></label><div class='xr-var-attrs'><dl class='xr-attrs'><dt><span>long_name :</span></dt><dd>current date (YYYYMMDD)</dd></dl></div><div class='xr-var-data'><pre>array([18500201., 18500301., 18500401., 18500501., 18500601., 18500701.,\n",
       "       18500801., 18500901., 18501001., 18501101., 18501201., 18510101.,\n",
       "       18510201., 18510301., 18510401., 18510501., 18510601., 18510701.,\n",
       "       18510801., 18510901., 18511001., 18511101., 18511201., 18520101.,\n",
       "       18520201., 18520301., 18520401., 18520501., 18520601., 18520701.,\n",
       "       18520801., 18520901., 18521001., 18521101., 18521201., 18530101.,\n",
       "       18530201., 18530301., 18530401., 18530501., 18530601., 18530701.,\n",
       "       18530801., 18530901., 18531001., 18531101., 18531201., 18540101.,\n",
       "       18540201., 18540301., 18540401., 18540501., 18540601., 18540701.,\n",
       "       18540801., 18540901., 18541001., 18541101., 18541201., 18550101.,\n",
       "       18550201., 18550301., 18550401., 18550501., 18550601., 18550701.,\n",
       "       18550801., 18550901., 18551001., 18551101., 18551201., 18560101.,\n",
       "       18560201., 18560301., 18560401., 18560501., 18560601., 18560701.,\n",
       "       18560801., 18560901., 18561001., 18561101., 18561201., 18570101.,\n",
       "       18570201., 18570301., 18570401., 18570501., 18570601., 18570701.,\n",
       "       18570801., 18570901., 18571001., 18571101., 18571201., 18580101.,\n",
       "       18580201., 18580301., 18580401., 18580501., 18580601., 18580701.,\n",
       "       18580801., 18580901., 18581001., 18581101., 18581201., 18590101.,\n",
       "       18590201., 18590301., 18590401., 18590501., 18590601., 18590701.,\n",
       "       18590801., 18590901., 18591001., 18591101., 18591201., 18600101.])</pre></div></li><li class='xr-var-item'><div class='xr-var-name'><span>datesec</span></div><div class='xr-var-dims'>(time)</div><div class='xr-var-dtype'>float64</div><div class='xr-var-preview xr-preview'>...</div><input id='attrs-12d249cc-3abb-4b12-a9e9-1aed454100ef' class='xr-var-attrs-in' type='checkbox' ><label for='attrs-12d249cc-3abb-4b12-a9e9-1aed454100ef' title='Show/Hide attributes'><svg class='icon xr-icon-file-text2'><use xlink:href='#icon-file-text2'></use></svg></label><input id='data-2594ebcc-88af-420b-97d6-407f1625bfd2' class='xr-var-data-in' type='checkbox'><label for='data-2594ebcc-88af-420b-97d6-407f1625bfd2' title='Show/Hide data repr'><svg class='icon xr-icon-database'><use xlink:href='#icon-database'></use></svg></label><div class='xr-var-attrs'><dl class='xr-attrs'><dt><span>long_name :</span></dt><dd>current seconds of current date</dd></dl></div><div class='xr-var-data'><pre>array([0., 0., 0., 0., 0., 0., 0., 0., 0., 0., 0., 0., 0., 0., 0., 0., 0., 0.,\n",
       "       0., 0., 0., 0., 0., 0., 0., 0., 0., 0., 0., 0., 0., 0., 0., 0., 0., 0.,\n",
       "       0., 0., 0., 0., 0., 0., 0., 0., 0., 0., 0., 0., 0., 0., 0., 0., 0., 0.,\n",
       "       0., 0., 0., 0., 0., 0., 0., 0., 0., 0., 0., 0., 0., 0., 0., 0., 0., 0.,\n",
       "       0., 0., 0., 0., 0., 0., 0., 0., 0., 0., 0., 0., 0., 0., 0., 0., 0., 0.,\n",
       "       0., 0., 0., 0., 0., 0., 0., 0., 0., 0., 0., 0., 0., 0., 0., 0., 0., 0.,\n",
       "       0., 0., 0., 0., 0., 0., 0., 0., 0., 0., 0., 0.])</pre></div></li><li class='xr-var-item'><div class='xr-var-name'><span>time_bnds</span></div><div class='xr-var-dims'>(time, nbnd)</div><div class='xr-var-dtype'>object</div><div class='xr-var-preview xr-preview'>...</div><input id='attrs-035c3817-f8a0-496b-9b49-b5be254c3a7e' class='xr-var-attrs-in' type='checkbox' ><label for='attrs-035c3817-f8a0-496b-9b49-b5be254c3a7e' title='Show/Hide attributes'><svg class='icon xr-icon-file-text2'><use xlink:href='#icon-file-text2'></use></svg></label><input id='data-191a74ba-96d7-420f-b3bb-ee0ba01175b2' class='xr-var-data-in' type='checkbox'><label for='data-191a74ba-96d7-420f-b3bb-ee0ba01175b2' title='Show/Hide data repr'><svg class='icon xr-icon-database'><use xlink:href='#icon-database'></use></svg></label><div class='xr-var-attrs'><dl class='xr-attrs'><dt><span>long_name :</span></dt><dd>time interval endpoints</dd></dl></div><div class='xr-var-data'><pre>array([[cftime.DatetimeNoLeap(1850, 1, 1, 0, 0, 0, 0),\n",
       "        cftime.DatetimeNoLeap(1850, 2, 1, 0, 0, 0, 0)],\n",
       "       [cftime.DatetimeNoLeap(1850, 2, 1, 0, 0, 0, 0),\n",
       "        cftime.DatetimeNoLeap(1850, 3, 1, 0, 0, 0, 0)],\n",
       "       [cftime.DatetimeNoLeap(1850, 3, 1, 0, 0, 0, 0),\n",
       "        cftime.DatetimeNoLeap(1850, 4, 1, 0, 0, 0, 0)],\n",
       "       ...,\n",
       "       [cftime.DatetimeNoLeap(1859, 10, 1, 0, 0, 0, 0),\n",
       "        cftime.DatetimeNoLeap(1859, 11, 1, 0, 0, 0, 0)],\n",
       "       [cftime.DatetimeNoLeap(1859, 11, 1, 0, 0, 0, 0),\n",
       "        cftime.DatetimeNoLeap(1859, 12, 1, 0, 0, 0, 0)],\n",
       "       [cftime.DatetimeNoLeap(1859, 12, 1, 0, 0, 0, 0),\n",
       "        cftime.DatetimeNoLeap(1860, 1, 1, 0, 0, 0, 0)]], dtype=object)</pre></div></li><li class='xr-var-item'><div class='xr-var-name'><span>date_written</span></div><div class='xr-var-dims'>(time)</div><div class='xr-var-dtype'>object</div><div class='xr-var-preview xr-preview'>...</div><input id='attrs-81ad105b-a8ca-4a80-b3a0-2af6d1586708' class='xr-var-attrs-in' type='checkbox' disabled><label for='attrs-81ad105b-a8ca-4a80-b3a0-2af6d1586708' title='Show/Hide attributes'><svg class='icon xr-icon-file-text2'><use xlink:href='#icon-file-text2'></use></svg></label><input id='data-4d5c0ec2-0190-4f84-9a22-00910a1f1a6e' class='xr-var-data-in' type='checkbox'><label for='data-4d5c0ec2-0190-4f84-9a22-00910a1f1a6e' title='Show/Hide data repr'><svg class='icon xr-icon-database'><use xlink:href='#icon-database'></use></svg></label><div class='xr-var-attrs'><dl class='xr-attrs'></dl></div><div class='xr-var-data'><pre>array([b&#x27;01/31/20&#x27;, b&#x27;01/31/20&#x27;, b&#x27;01/31/20&#x27;, b&#x27;01/31/20&#x27;, b&#x27;01/31/20&#x27;,\n",
       "       b&#x27;01/31/20&#x27;, b&#x27;01/31/20&#x27;, b&#x27;01/31/20&#x27;, b&#x27;01/31/20&#x27;, b&#x27;01/31/20&#x27;,\n",
       "       b&#x27;01/31/20&#x27;, b&#x27;01/31/20&#x27;, b&#x27;01/31/20&#x27;, b&#x27;01/31/20&#x27;, b&#x27;01/31/20&#x27;,\n",
       "       b&#x27;01/31/20&#x27;, b&#x27;01/31/20&#x27;, b&#x27;01/31/20&#x27;, b&#x27;01/31/20&#x27;, b&#x27;01/31/20&#x27;,\n",
       "       b&#x27;01/31/20&#x27;, b&#x27;01/31/20&#x27;, b&#x27;01/31/20&#x27;, b&#x27;01/31/20&#x27;, b&#x27;01/31/20&#x27;,\n",
       "       b&#x27;01/31/20&#x27;, b&#x27;01/31/20&#x27;, b&#x27;01/31/20&#x27;, b&#x27;01/31/20&#x27;, b&#x27;01/31/20&#x27;,\n",
       "       b&#x27;01/31/20&#x27;, b&#x27;01/31/20&#x27;, b&#x27;01/31/20&#x27;, b&#x27;01/31/20&#x27;, b&#x27;01/31/20&#x27;,\n",
       "       b&#x27;01/31/20&#x27;, b&#x27;01/31/20&#x27;, b&#x27;01/31/20&#x27;, b&#x27;01/31/20&#x27;, b&#x27;01/31/20&#x27;,\n",
       "       b&#x27;01/31/20&#x27;, b&#x27;01/31/20&#x27;, b&#x27;01/31/20&#x27;, b&#x27;01/31/20&#x27;, b&#x27;01/31/20&#x27;,\n",
       "       b&#x27;01/31/20&#x27;, b&#x27;01/31/20&#x27;, b&#x27;01/31/20&#x27;, b&#x27;01/31/20&#x27;, b&#x27;01/31/20&#x27;,\n",
       "       b&#x27;01/31/20&#x27;, b&#x27;01/31/20&#x27;, b&#x27;01/31/20&#x27;, b&#x27;02/01/20&#x27;, b&#x27;02/01/20&#x27;,\n",
       "       b&#x27;02/01/20&#x27;, b&#x27;02/01/20&#x27;, b&#x27;02/01/20&#x27;, b&#x27;02/01/20&#x27;, b&#x27;02/01/20&#x27;,\n",
       "       b&#x27;02/01/20&#x27;, b&#x27;02/01/20&#x27;, b&#x27;02/01/20&#x27;, b&#x27;02/01/20&#x27;, b&#x27;02/01/20&#x27;,\n",
       "       b&#x27;02/01/20&#x27;, b&#x27;02/01/20&#x27;, b&#x27;02/01/20&#x27;, b&#x27;02/01/20&#x27;, b&#x27;02/01/20&#x27;,\n",
       "       b&#x27;02/01/20&#x27;, b&#x27;02/01/20&#x27;, b&#x27;02/01/20&#x27;, b&#x27;02/01/20&#x27;, b&#x27;02/01/20&#x27;,\n",
       "       b&#x27;02/01/20&#x27;, b&#x27;02/01/20&#x27;, b&#x27;02/01/20&#x27;, b&#x27;02/01/20&#x27;, b&#x27;02/01/20&#x27;,\n",
       "       b&#x27;02/01/20&#x27;, b&#x27;02/01/20&#x27;, b&#x27;02/01/20&#x27;, b&#x27;02/01/20&#x27;, b&#x27;02/01/20&#x27;,\n",
       "       b&#x27;02/01/20&#x27;, b&#x27;02/01/20&#x27;, b&#x27;02/01/20&#x27;, b&#x27;02/01/20&#x27;, b&#x27;02/01/20&#x27;,\n",
       "       b&#x27;02/01/20&#x27;, b&#x27;02/01/20&#x27;, b&#x27;02/01/20&#x27;, b&#x27;02/01/20&#x27;, b&#x27;02/01/20&#x27;,\n",
       "       b&#x27;02/01/20&#x27;, b&#x27;02/01/20&#x27;, b&#x27;02/01/20&#x27;, b&#x27;02/01/20&#x27;, b&#x27;02/01/20&#x27;,\n",
       "       b&#x27;02/01/20&#x27;, b&#x27;02/01/20&#x27;, b&#x27;02/01/20&#x27;, b&#x27;02/01/20&#x27;, b&#x27;02/01/20&#x27;,\n",
       "       b&#x27;02/01/20&#x27;, b&#x27;02/01/20&#x27;, b&#x27;02/01/20&#x27;, b&#x27;02/01/20&#x27;, b&#x27;02/01/20&#x27;,\n",
       "       b&#x27;02/01/20&#x27;, b&#x27;02/01/20&#x27;, b&#x27;02/01/20&#x27;, b&#x27;02/01/20&#x27;, b&#x27;02/01/20&#x27;,\n",
       "       b&#x27;02/01/20&#x27;, b&#x27;02/01/20&#x27;, b&#x27;02/01/20&#x27;, b&#x27;02/01/20&#x27;, b&#x27;02/01/20&#x27;],\n",
       "      dtype=object)</pre></div></li><li class='xr-var-item'><div class='xr-var-name'><span>time_written</span></div><div class='xr-var-dims'>(time)</div><div class='xr-var-dtype'>object</div><div class='xr-var-preview xr-preview'>...</div><input id='attrs-4d62abc9-acdb-426a-bd05-6b3c1657545a' class='xr-var-attrs-in' type='checkbox' disabled><label for='attrs-4d62abc9-acdb-426a-bd05-6b3c1657545a' title='Show/Hide attributes'><svg class='icon xr-icon-file-text2'><use xlink:href='#icon-file-text2'></use></svg></label><input id='data-4230a28e-0b65-402c-986f-2a8e786fdeb5' class='xr-var-data-in' type='checkbox'><label for='data-4230a28e-0b65-402c-986f-2a8e786fdeb5' title='Show/Hide data repr'><svg class='icon xr-icon-database'><use xlink:href='#icon-database'></use></svg></label><div class='xr-var-attrs'><dl class='xr-attrs'></dl></div><div class='xr-var-data'><pre>array([b&#x27;16:35:01&#x27;, b&#x27;16:43:02&#x27;, b&#x27;16:51:44&#x27;, b&#x27;17:00:07&#x27;, b&#x27;17:08:46&#x27;,\n",
       "       b&#x27;17:17:06&#x27;, b&#x27;17:25:43&#x27;, b&#x27;17:34:24&#x27;, b&#x27;17:42:50&#x27;, b&#x27;17:51:34&#x27;,\n",
       "       b&#x27;17:59:59&#x27;, b&#x27;18:08:42&#x27;, b&#x27;18:17:29&#x27;, b&#x27;18:25:20&#x27;, b&#x27;18:34:01&#x27;,\n",
       "       b&#x27;18:42:25&#x27;, b&#x27;18:51:03&#x27;, b&#x27;18:59:26&#x27;, b&#x27;19:08:06&#x27;, b&#x27;19:16:46&#x27;,\n",
       "       b&#x27;19:25:10&#x27;, b&#x27;19:33:50&#x27;, b&#x27;19:42:19&#x27;, b&#x27;19:51:08&#x27;, b&#x27;19:59:53&#x27;,\n",
       "       b&#x27;20:07:49&#x27;, b&#x27;20:16:29&#x27;, b&#x27;20:24:53&#x27;, b&#x27;20:33:31&#x27;, b&#x27;20:41:51&#x27;,\n",
       "       b&#x27;20:50:31&#x27;, b&#x27;20:59:08&#x27;, b&#x27;21:07:29&#x27;, b&#x27;21:16:09&#x27;, b&#x27;21:24:32&#x27;,\n",
       "       b&#x27;21:33:11&#x27;, b&#x27;21:41:58&#x27;, b&#x27;21:49:50&#x27;, b&#x27;21:58:36&#x27;, b&#x27;22:06:58&#x27;,\n",
       "       b&#x27;22:15:35&#x27;, b&#x27;22:23:56&#x27;, b&#x27;22:32:35&#x27;, b&#x27;22:41:18&#x27;, b&#x27;22:49:45&#x27;,\n",
       "       b&#x27;22:58:26&#x27;, b&#x27;23:06:51&#x27;, b&#x27;23:15:32&#x27;, b&#x27;23:24:23&#x27;, b&#x27;23:32:20&#x27;,\n",
       "       b&#x27;23:41:05&#x27;, b&#x27;23:49:27&#x27;, b&#x27;23:58:07&#x27;, b&#x27;00:06:31&#x27;, b&#x27;00:15:12&#x27;,\n",
       "       b&#x27;00:23:51&#x27;, b&#x27;00:32:16&#x27;, b&#x27;00:40:58&#x27;, b&#x27;00:49:30&#x27;, b&#x27;00:58:07&#x27;,\n",
       "       b&#x27;01:06:51&#x27;, b&#x27;01:14:46&#x27;, b&#x27;01:23:27&#x27;, b&#x27;01:31:50&#x27;, b&#x27;01:40:30&#x27;,\n",
       "       b&#x27;01:48:52&#x27;, b&#x27;01:57:33&#x27;, b&#x27;02:06:15&#x27;, b&#x27;02:14:46&#x27;, b&#x27;02:23:38&#x27;,\n",
       "       b&#x27;02:32:08&#x27;, b&#x27;02:40:50&#x27;, b&#x27;02:49:34&#x27;, b&#x27;02:57:34&#x27;, b&#x27;03:06:19&#x27;,\n",
       "       b&#x27;03:14:41&#x27;, b&#x27;03:23:17&#x27;, b&#x27;03:31:37&#x27;, b&#x27;03:40:13&#x27;, b&#x27;03:48:56&#x27;,\n",
       "       b&#x27;03:57:27&#x27;, b&#x27;04:06:15&#x27;, b&#x27;04:14:43&#x27;, b&#x27;04:23:24&#x27;, b&#x27;04:32:04&#x27;,\n",
       "       b&#x27;04:40:03&#x27;, b&#x27;04:48:47&#x27;, b&#x27;04:57:11&#x27;, b&#x27;05:05:50&#x27;, b&#x27;05:14:15&#x27;,\n",
       "       b&#x27;05:22:55&#x27;, b&#x27;05:31:40&#x27;, b&#x27;05:40:07&#x27;, b&#x27;05:48:50&#x27;, b&#x27;05:57:23&#x27;,\n",
       "       b&#x27;06:06:06&#x27;, b&#x27;06:14:58&#x27;, b&#x27;06:22:49&#x27;, b&#x27;06:31:28&#x27;, b&#x27;06:39:50&#x27;,\n",
       "       b&#x27;06:48:36&#x27;, b&#x27;06:57:11&#x27;, b&#x27;07:05:47&#x27;, b&#x27;07:14:35&#x27;, b&#x27;07:23:06&#x27;,\n",
       "       b&#x27;07:31:48&#x27;, b&#x27;07:40:12&#x27;, b&#x27;07:49:03&#x27;, b&#x27;07:57:47&#x27;, b&#x27;08:05:43&#x27;,\n",
       "       b&#x27;08:14:28&#x27;, b&#x27;08:22:50&#x27;, b&#x27;08:31:29&#x27;, b&#x27;08:39:51&#x27;, b&#x27;08:48:31&#x27;,\n",
       "       b&#x27;08:57:15&#x27;, b&#x27;09:05:39&#x27;, b&#x27;09:14:22&#x27;, b&#x27;09:22:55&#x27;, b&#x27;09:31:39&#x27;],\n",
       "      dtype=object)</pre></div></li><li class='xr-var-item'><div class='xr-var-name'><span>ndcur</span></div><div class='xr-var-dims'>(time)</div><div class='xr-var-dtype'>float64</div><div class='xr-var-preview xr-preview'>...</div><input id='attrs-b6270b9b-b47e-41ee-ae58-cde869509eb8' class='xr-var-attrs-in' type='checkbox' ><label for='attrs-b6270b9b-b47e-41ee-ae58-cde869509eb8' title='Show/Hide attributes'><svg class='icon xr-icon-file-text2'><use xlink:href='#icon-file-text2'></use></svg></label><input id='data-e5c82f62-6984-436f-9f12-f64c1dab425b' class='xr-var-data-in' type='checkbox'><label for='data-e5c82f62-6984-436f-9f12-f64c1dab425b' title='Show/Hide data repr'><svg class='icon xr-icon-database'><use xlink:href='#icon-database'></use></svg></label><div class='xr-var-attrs'><dl class='xr-attrs'><dt><span>long_name :</span></dt><dd>current day (from base day)</dd></dl></div><div class='xr-var-data'><pre>array([  31.,   59.,   90.,  120.,  151.,  181.,  212.,  243.,  273.,  304.,\n",
       "        334.,  365.,  396.,  424.,  455.,  485.,  516.,  546.,  577.,  608.,\n",
       "        638.,  669.,  699.,  730.,  761.,  789.,  820.,  850.,  881.,  911.,\n",
       "        942.,  973., 1003., 1034., 1064., 1095., 1126., 1154., 1185., 1215.,\n",
       "       1246., 1276., 1307., 1338., 1368., 1399., 1429., 1460., 1491., 1519.,\n",
       "       1550., 1580., 1611., 1641., 1672., 1703., 1733., 1764., 1794., 1825.,\n",
       "       1856., 1884., 1915., 1945., 1976., 2006., 2037., 2068., 2098., 2129.,\n",
       "       2159., 2190., 2221., 2249., 2280., 2310., 2341., 2371., 2402., 2433.,\n",
       "       2463., 2494., 2524., 2555., 2586., 2614., 2645., 2675., 2706., 2736.,\n",
       "       2767., 2798., 2828., 2859., 2889., 2920., 2951., 2979., 3010., 3040.,\n",
       "       3071., 3101., 3132., 3163., 3193., 3224., 3254., 3285., 3316., 3344.,\n",
       "       3375., 3405., 3436., 3466., 3497., 3528., 3558., 3589., 3619., 3650.])</pre></div></li><li class='xr-var-item'><div class='xr-var-name'><span>nscur</span></div><div class='xr-var-dims'>(time)</div><div class='xr-var-dtype'>float64</div><div class='xr-var-preview xr-preview'>...</div><input id='attrs-efe10b60-f11a-4e15-a147-2ad9956d718f' class='xr-var-attrs-in' type='checkbox' ><label for='attrs-efe10b60-f11a-4e15-a147-2ad9956d718f' title='Show/Hide attributes'><svg class='icon xr-icon-file-text2'><use xlink:href='#icon-file-text2'></use></svg></label><input id='data-fe7709b3-2a9d-4f41-918a-89ef3736bcad' class='xr-var-data-in' type='checkbox'><label for='data-fe7709b3-2a9d-4f41-918a-89ef3736bcad' title='Show/Hide data repr'><svg class='icon xr-icon-database'><use xlink:href='#icon-database'></use></svg></label><div class='xr-var-attrs'><dl class='xr-attrs'><dt><span>long_name :</span></dt><dd>current seconds of current day</dd></dl></div><div class='xr-var-data'><pre>array([0., 0., 0., 0., 0., 0., 0., 0., 0., 0., 0., 0., 0., 0., 0., 0., 0., 0.,\n",
       "       0., 0., 0., 0., 0., 0., 0., 0., 0., 0., 0., 0., 0., 0., 0., 0., 0., 0.,\n",
       "       0., 0., 0., 0., 0., 0., 0., 0., 0., 0., 0., 0., 0., 0., 0., 0., 0., 0.,\n",
       "       0., 0., 0., 0., 0., 0., 0., 0., 0., 0., 0., 0., 0., 0., 0., 0., 0., 0.,\n",
       "       0., 0., 0., 0., 0., 0., 0., 0., 0., 0., 0., 0., 0., 0., 0., 0., 0., 0.,\n",
       "       0., 0., 0., 0., 0., 0., 0., 0., 0., 0., 0., 0., 0., 0., 0., 0., 0., 0.,\n",
       "       0., 0., 0., 0., 0., 0., 0., 0., 0., 0., 0., 0.])</pre></div></li><li class='xr-var-item'><div class='xr-var-name'><span>co2vmr</span></div><div class='xr-var-dims'>(time)</div><div class='xr-var-dtype'>float64</div><div class='xr-var-preview xr-preview'>...</div><input id='attrs-86720fa2-de98-4aec-98dc-eb2f0b0a8ac8' class='xr-var-attrs-in' type='checkbox' ><label for='attrs-86720fa2-de98-4aec-98dc-eb2f0b0a8ac8' title='Show/Hide attributes'><svg class='icon xr-icon-file-text2'><use xlink:href='#icon-file-text2'></use></svg></label><input id='data-646ff02c-feb2-46ee-9423-8bec3ed2e998' class='xr-var-data-in' type='checkbox'><label for='data-646ff02c-feb2-46ee-9423-8bec3ed2e998' title='Show/Hide data repr'><svg class='icon xr-icon-database'><use xlink:href='#icon-database'></use></svg></label><div class='xr-var-attrs'><dl class='xr-attrs'><dt><span>long_name :</span></dt><dd>co2 volume mixing ratio</dd></dl></div><div class='xr-var-data'><pre>array([0.000284, 0.000284, 0.000284, 0.000284, 0.000284, 0.000284, 0.000284,\n",
       "       0.000284, 0.000284, 0.000284, 0.000284, 0.000284, 0.000284, 0.000284,\n",
       "       0.000284, 0.000284, 0.000284, 0.000284, 0.000284, 0.000284, 0.000284,\n",
       "       0.000285, 0.000285, 0.000285, 0.000285, 0.000285, 0.000285, 0.000285,\n",
       "       0.000285, 0.000285, 0.000285, 0.000285, 0.000285, 0.000285, 0.000285,\n",
       "       0.000285, 0.000285, 0.000285, 0.000285, 0.000285, 0.000285, 0.000285,\n",
       "       0.000285, 0.000285, 0.000285, 0.000285, 0.000285, 0.000285, 0.000285,\n",
       "       0.000285, 0.000285, 0.000285, 0.000285, 0.000285, 0.000285, 0.000285,\n",
       "       0.000285, 0.000285, 0.000285, 0.000285, 0.000285, 0.000285, 0.000285,\n",
       "       0.000285, 0.000285, 0.000285, 0.000285, 0.000285, 0.000285, 0.000285,\n",
       "       0.000285, 0.000285, 0.000285, 0.000285, 0.000285, 0.000285, 0.000285,\n",
       "       0.000285, 0.000285, 0.000285, 0.000285, 0.000285, 0.000285, 0.000285,\n",
       "       0.000285, 0.000285, 0.000285, 0.000285, 0.000285, 0.000285, 0.000285,\n",
       "       0.000285, 0.000285, 0.000285, 0.000285, 0.000285, 0.000285, 0.000285,\n",
       "       0.000285, 0.000285, 0.000285, 0.000285, 0.000285, 0.000285, 0.000285,\n",
       "       0.000285, 0.000285, 0.000285, 0.000285, 0.000285, 0.000286, 0.000286,\n",
       "       0.000286, 0.000286, 0.000286, 0.000286, 0.000286, 0.000286, 0.000286,\n",
       "       0.000286])</pre></div></li><li class='xr-var-item'><div class='xr-var-name'><span>ch4vmr</span></div><div class='xr-var-dims'>(time)</div><div class='xr-var-dtype'>float64</div><div class='xr-var-preview xr-preview'>...</div><input id='attrs-b39e8011-7eb7-48c9-9545-026e4ff4e78f' class='xr-var-attrs-in' type='checkbox' ><label for='attrs-b39e8011-7eb7-48c9-9545-026e4ff4e78f' title='Show/Hide attributes'><svg class='icon xr-icon-file-text2'><use xlink:href='#icon-file-text2'></use></svg></label><input id='data-c410ae9c-2dbd-4d11-b9f5-11f3218a8df7' class='xr-var-data-in' type='checkbox'><label for='data-c410ae9c-2dbd-4d11-b9f5-11f3218a8df7' title='Show/Hide data repr'><svg class='icon xr-icon-database'><use xlink:href='#icon-database'></use></svg></label><div class='xr-var-attrs'><dl class='xr-attrs'><dt><span>long_name :</span></dt><dd>ch4 volume mixing ratio</dd></dl></div><div class='xr-var-data'><pre>array([8.082350e-07, 8.082376e-07, 8.082405e-07, 8.082432e-07, 8.082461e-07,\n",
       "       8.082489e-07, 8.082625e-07, 8.082765e-07, 8.082901e-07, 8.083041e-07,\n",
       "       8.083177e-07, 8.083317e-07, 8.083457e-07, 8.083583e-07, 8.083723e-07,\n",
       "       8.083859e-07, 8.083999e-07, 8.084135e-07, 8.084755e-07, 8.085391e-07,\n",
       "       8.086007e-07, 8.086643e-07, 8.087259e-07, 8.087895e-07, 8.088531e-07,\n",
       "       8.089106e-07, 8.089742e-07, 8.090358e-07, 8.090994e-07, 8.091609e-07,\n",
       "       8.092650e-07, 8.093704e-07, 8.094724e-07, 8.095778e-07, 8.096798e-07,\n",
       "       8.097852e-07, 8.098906e-07, 8.099858e-07, 8.100912e-07, 8.101932e-07,\n",
       "       8.102987e-07, 8.104007e-07, 8.105132e-07, 8.106260e-07, 8.107352e-07,\n",
       "       8.108480e-07, 8.109572e-07, 8.110700e-07, 8.111828e-07, 8.112846e-07,\n",
       "       8.113974e-07, 8.115066e-07, 8.116194e-07, 8.117286e-07, 8.118637e-07,\n",
       "       8.119995e-07, 8.121309e-07, 8.122668e-07, 8.123982e-07, 8.125341e-07,\n",
       "       8.126699e-07, 8.127926e-07, 8.129284e-07, 8.130599e-07, 8.131957e-07,\n",
       "       8.133272e-07, 8.134519e-07, 8.135763e-07, 8.136966e-07, 8.138210e-07,\n",
       "       8.139413e-07, 8.140657e-07, 8.141900e-07, 8.143024e-07, 8.144267e-07,\n",
       "       8.145471e-07, 8.146714e-07, 8.147918e-07, 8.149319e-07, 8.150726e-07,\n",
       "       8.152088e-07, 8.153495e-07, 8.154856e-07, 8.156263e-07, 8.157670e-07,\n",
       "       8.158941e-07, 8.160348e-07, 8.161709e-07, 8.163116e-07, 8.164478e-07,\n",
       "       8.166087e-07, 8.167703e-07, 8.169267e-07, 8.170883e-07, 8.172447e-07,\n",
       "       8.174063e-07, 8.175679e-07, 8.177138e-07, 8.178754e-07, 8.180318e-07,\n",
       "       8.181934e-07, 8.183498e-07, 8.185228e-07, 8.186961e-07, 8.188639e-07,\n",
       "       8.190372e-07, 8.192050e-07, 8.193783e-07, 8.195517e-07, 8.197083e-07,\n",
       "       8.198816e-07, 8.200494e-07, 8.202227e-07, 8.203905e-07, 8.205535e-07,\n",
       "       8.207163e-07, 8.208738e-07, 8.210365e-07, 8.211940e-07, 8.213568e-07])</pre></div></li><li class='xr-var-item'><div class='xr-var-name'><span>n2ovmr</span></div><div class='xr-var-dims'>(time)</div><div class='xr-var-dtype'>float64</div><div class='xr-var-preview xr-preview'>...</div><input id='attrs-d00a285e-f07a-42a2-a7ee-1a54c786376f' class='xr-var-attrs-in' type='checkbox' ><label for='attrs-d00a285e-f07a-42a2-a7ee-1a54c786376f' title='Show/Hide attributes'><svg class='icon xr-icon-file-text2'><use xlink:href='#icon-file-text2'></use></svg></label><input id='data-3dcd3320-f133-4908-b669-19312f2330c6' class='xr-var-data-in' type='checkbox'><label for='data-3dcd3320-f133-4908-b669-19312f2330c6' title='Show/Hide data repr'><svg class='icon xr-icon-database'><use xlink:href='#icon-database'></use></svg></label><div class='xr-var-attrs'><dl class='xr-attrs'><dt><span>long_name :</span></dt><dd>n2o volume mixing ratio</dd></dl></div><div class='xr-var-data'><pre>array([2.729934e-07, 2.729985e-07, 2.730042e-07, 2.730097e-07, 2.730155e-07,\n",
       "       2.730210e-07, 2.730271e-07, 2.730333e-07, 2.730393e-07, 2.730455e-07,\n",
       "       2.730515e-07, 2.730577e-07, 2.730639e-07, 2.730694e-07, 2.730756e-07,\n",
       "       2.730816e-07, 2.730878e-07, 2.730938e-07, 2.731001e-07, 2.731063e-07,\n",
       "       2.731124e-07, 2.731187e-07, 2.731248e-07, 2.731311e-07, 2.731373e-07,\n",
       "       2.731430e-07, 2.731493e-07, 2.731554e-07, 2.731616e-07, 2.731677e-07,\n",
       "       2.731758e-07, 2.731840e-07, 2.731919e-07, 2.732001e-07, 2.732080e-07,\n",
       "       2.732161e-07, 2.732243e-07, 2.732317e-07, 2.732398e-07, 2.732477e-07,\n",
       "       2.732559e-07, 2.732638e-07, 2.732722e-07, 2.732806e-07, 2.732887e-07,\n",
       "       2.732971e-07, 2.733053e-07, 2.733137e-07, 2.733221e-07, 2.733296e-07,\n",
       "       2.733380e-07, 2.733462e-07, 2.733546e-07, 2.733627e-07, 2.733718e-07,\n",
       "       2.733809e-07, 2.733897e-07, 2.733987e-07, 2.734075e-07, 2.734166e-07,\n",
       "       2.734257e-07, 2.734339e-07, 2.734430e-07, 2.734518e-07, 2.734609e-07,\n",
       "       2.734697e-07, 2.734788e-07, 2.734880e-07, 2.734969e-07, 2.735061e-07,\n",
       "       2.735150e-07, 2.735242e-07, 2.735333e-07, 2.735416e-07, 2.735508e-07,\n",
       "       2.735597e-07, 2.735689e-07, 2.735778e-07, 2.735860e-07, 2.735943e-07,\n",
       "       2.736022e-07, 2.736105e-07, 2.736184e-07, 2.736267e-07, 2.736349e-07,\n",
       "       2.736423e-07, 2.736506e-07, 2.736586e-07, 2.736668e-07, 2.736748e-07,\n",
       "       2.736817e-07, 2.736886e-07, 2.736952e-07, 2.737021e-07, 2.737087e-07,\n",
       "       2.737156e-07, 2.737225e-07, 2.737287e-07, 2.737356e-07, 2.737422e-07,\n",
       "       2.737491e-07, 2.737558e-07, 2.737674e-07, 2.737792e-07, 2.737907e-07,\n",
       "       2.738025e-07, 2.738139e-07, 2.738257e-07, 2.738375e-07, 2.738481e-07,\n",
       "       2.738600e-07, 2.738714e-07, 2.738832e-07, 2.738946e-07, 2.739082e-07,\n",
       "       2.739219e-07, 2.739351e-07, 2.739488e-07, 2.739620e-07, 2.739757e-07])</pre></div></li><li class='xr-var-item'><div class='xr-var-name'><span>f11vmr</span></div><div class='xr-var-dims'>(time)</div><div class='xr-var-dtype'>float64</div><div class='xr-var-preview xr-preview'>...</div><input id='attrs-5124043e-c94b-43ef-a69d-24097bc6899e' class='xr-var-attrs-in' type='checkbox' ><label for='attrs-5124043e-c94b-43ef-a69d-24097bc6899e' title='Show/Hide attributes'><svg class='icon xr-icon-file-text2'><use xlink:href='#icon-file-text2'></use></svg></label><input id='data-c6f7abf3-094b-48fe-83e6-6671fcc6d514' class='xr-var-data-in' type='checkbox'><label for='data-c6f7abf3-094b-48fe-83e6-6671fcc6d514' title='Show/Hide data repr'><svg class='icon xr-icon-database'><use xlink:href='#icon-database'></use></svg></label><div class='xr-var-attrs'><dl class='xr-attrs'><dt><span>long_name :</span></dt><dd>f11 volume mixing ratio</dd></dl></div><div class='xr-var-data'><pre>array([3.211021e-11, 3.211021e-11, 3.211021e-11, 3.211021e-11, 3.211021e-11,\n",
       "       3.211021e-11, 3.211021e-11, 3.211021e-11, 3.211021e-11, 3.211021e-11,\n",
       "       3.211021e-11, 3.211021e-11, 3.211021e-11, 3.211021e-11, 3.211021e-11,\n",
       "       3.211021e-11, 3.211021e-11, 3.211021e-11, 3.211021e-11, 3.211021e-11,\n",
       "       3.211021e-11, 3.211021e-11, 3.211021e-11, 3.211021e-11, 3.211021e-11,\n",
       "       3.211021e-11, 3.211022e-11, 3.211022e-11, 3.211022e-11, 3.211022e-11,\n",
       "       3.211022e-11, 3.211022e-11, 3.211022e-11, 3.211022e-11, 3.211022e-11,\n",
       "       3.211022e-11, 3.211022e-11, 3.211022e-11, 3.211023e-11, 3.211023e-11,\n",
       "       3.211023e-11, 3.211023e-11, 3.211023e-11, 3.211023e-11, 3.211023e-11,\n",
       "       3.211023e-11, 3.211023e-11, 3.211023e-11, 3.211023e-11, 3.211023e-11,\n",
       "       3.211023e-11, 3.211023e-11, 3.211023e-11, 3.211023e-11, 3.211023e-11,\n",
       "       3.211023e-11, 3.211023e-11, 3.211023e-11, 3.211024e-11, 3.211024e-11,\n",
       "       3.211024e-11, 3.211024e-11, 3.211024e-11, 3.211024e-11, 3.211024e-11,\n",
       "       3.211024e-11, 3.211024e-11, 3.211024e-11, 3.211024e-11, 3.211025e-11,\n",
       "       3.211025e-11, 3.211025e-11, 3.211025e-11, 3.211025e-11, 3.211025e-11,\n",
       "       3.211025e-11, 3.211025e-11, 3.211025e-11, 3.211025e-11, 3.211025e-11,\n",
       "       3.211025e-11, 3.211025e-11, 3.211025e-11, 3.211025e-11, 3.211025e-11,\n",
       "       3.211025e-11, 3.211025e-11, 3.211025e-11, 3.211025e-11, 3.211025e-11,\n",
       "       3.211025e-11, 3.211025e-11, 3.211025e-11, 3.211026e-11, 3.211026e-11,\n",
       "       3.211026e-11, 3.211027e-11, 3.211027e-11, 3.211027e-11, 3.211027e-11,\n",
       "       3.211028e-11, 3.211028e-11, 3.211028e-11, 3.211028e-11, 3.211028e-11,\n",
       "       3.211028e-11, 3.211028e-11, 3.211028e-11, 3.211028e-11, 3.211028e-11,\n",
       "       3.211028e-11, 3.211028e-11, 3.211028e-11, 3.211028e-11, 3.211028e-11,\n",
       "       3.211029e-11, 3.211029e-11, 3.211029e-11, 3.211029e-11, 3.211029e-11])</pre></div></li><li class='xr-var-item'><div class='xr-var-name'><span>f12vmr</span></div><div class='xr-var-dims'>(time)</div><div class='xr-var-dtype'>float64</div><div class='xr-var-preview xr-preview'>...</div><input id='attrs-6f9b2e56-a4d8-44f1-9282-d6320932fa23' class='xr-var-attrs-in' type='checkbox' ><label for='attrs-6f9b2e56-a4d8-44f1-9282-d6320932fa23' title='Show/Hide attributes'><svg class='icon xr-icon-file-text2'><use xlink:href='#icon-file-text2'></use></svg></label><input id='data-1a31f731-68a7-4825-b4ec-6ff1983fe0bd' class='xr-var-data-in' type='checkbox'><label for='data-1a31f731-68a7-4825-b4ec-6ff1983fe0bd' title='Show/Hide data repr'><svg class='icon xr-icon-database'><use xlink:href='#icon-database'></use></svg></label><div class='xr-var-attrs'><dl class='xr-attrs'><dt><span>long_name :</span></dt><dd>f12 volume mixing ratio</dd></dl></div><div class='xr-var-data'><pre>array([0., 0., 0., 0., 0., 0., 0., 0., 0., 0., 0., 0., 0., 0., 0., 0., 0., 0.,\n",
       "       0., 0., 0., 0., 0., 0., 0., 0., 0., 0., 0., 0., 0., 0., 0., 0., 0., 0.,\n",
       "       0., 0., 0., 0., 0., 0., 0., 0., 0., 0., 0., 0., 0., 0., 0., 0., 0., 0.,\n",
       "       0., 0., 0., 0., 0., 0., 0., 0., 0., 0., 0., 0., 0., 0., 0., 0., 0., 0.,\n",
       "       0., 0., 0., 0., 0., 0., 0., 0., 0., 0., 0., 0., 0., 0., 0., 0., 0., 0.,\n",
       "       0., 0., 0., 0., 0., 0., 0., 0., 0., 0., 0., 0., 0., 0., 0., 0., 0., 0.,\n",
       "       0., 0., 0., 0., 0., 0., 0., 0., 0., 0., 0., 0.])</pre></div></li><li class='xr-var-item'><div class='xr-var-name'><span>sol_tsi</span></div><div class='xr-var-dims'>(time)</div><div class='xr-var-dtype'>float64</div><div class='xr-var-preview xr-preview'>...</div><input id='attrs-6f8a081c-3413-4e1d-a2a3-eb3ffb2f236e' class='xr-var-attrs-in' type='checkbox' ><label for='attrs-6f8a081c-3413-4e1d-a2a3-eb3ffb2f236e' title='Show/Hide attributes'><svg class='icon xr-icon-file-text2'><use xlink:href='#icon-file-text2'></use></svg></label><input id='data-28629e17-1783-4491-9ff4-a0476472c425' class='xr-var-data-in' type='checkbox'><label for='data-28629e17-1783-4491-9ff4-a0476472c425' title='Show/Hide data repr'><svg class='icon xr-icon-database'><use xlink:href='#icon-database'></use></svg></label><div class='xr-var-attrs'><dl class='xr-attrs'><dt><span>long_name :</span></dt><dd>total solar irradiance</dd><dt><span>units :</span></dt><dd>W/m2</dd></dl></div><div class='xr-var-data'><pre>array([-1., -1., -1., -1., -1., -1., -1., -1., -1., -1., -1., -1., -1., -1.,\n",
       "       -1., -1., -1., -1., -1., -1., -1., -1., -1., -1., -1., -1., -1., -1.,\n",
       "       -1., -1., -1., -1., -1., -1., -1., -1., -1., -1., -1., -1., -1., -1.,\n",
       "       -1., -1., -1., -1., -1., -1., -1., -1., -1., -1., -1., -1., -1., -1.,\n",
       "       -1., -1., -1., -1., -1., -1., -1., -1., -1., -1., -1., -1., -1., -1.,\n",
       "       -1., -1., -1., -1., -1., -1., -1., -1., -1., -1., -1., -1., -1., -1.,\n",
       "       -1., -1., -1., -1., -1., -1., -1., -1., -1., -1., -1., -1., -1., -1.,\n",
       "       -1., -1., -1., -1., -1., -1., -1., -1., -1., -1., -1., -1., -1., -1.,\n",
       "       -1., -1., -1., -1., -1., -1., -1., -1.])</pre></div></li><li class='xr-var-item'><div class='xr-var-name'><span>nsteph</span></div><div class='xr-var-dims'>(time)</div><div class='xr-var-dtype'>float64</div><div class='xr-var-preview xr-preview'>...</div><input id='attrs-655478b9-1c8a-4573-a8fc-274bf62a1c53' class='xr-var-attrs-in' type='checkbox' ><label for='attrs-655478b9-1c8a-4573-a8fc-274bf62a1c53' title='Show/Hide attributes'><svg class='icon xr-icon-file-text2'><use xlink:href='#icon-file-text2'></use></svg></label><input id='data-15ef6c69-be7f-4f5a-81c9-3339d31db4ab' class='xr-var-data-in' type='checkbox'><label for='data-15ef6c69-be7f-4f5a-81c9-3339d31db4ab' title='Show/Hide data repr'><svg class='icon xr-icon-database'><use xlink:href='#icon-database'></use></svg></label><div class='xr-var-attrs'><dl class='xr-attrs'><dt><span>long_name :</span></dt><dd>current timestep</dd></dl></div><div class='xr-var-data'><pre>array([  1488.,   2832.,   4320.,   5760.,   7248.,   8688.,  10176.,  11664.,\n",
       "        13104.,  14592.,  16032.,  17520.,  19008.,  20352.,  21840.,  23280.,\n",
       "        24768.,  26208.,  27696.,  29184.,  30624.,  32112.,  33552.,  35040.,\n",
       "        36528.,  37872.,  39360.,  40800.,  42288.,  43728.,  45216.,  46704.,\n",
       "        48144.,  49632.,  51072.,  52560.,  54048.,  55392.,  56880.,  58320.,\n",
       "        59808.,  61248.,  62736.,  64224.,  65664.,  67152.,  68592.,  70080.,\n",
       "        71568.,  72912.,  74400.,  75840.,  77328.,  78768.,  80256.,  81744.,\n",
       "        83184.,  84672.,  86112.,  87600.,  89088.,  90432.,  91920.,  93360.,\n",
       "        94848.,  96288.,  97776.,  99264., 100704., 102192., 103632., 105120.,\n",
       "       106608., 107952., 109440., 110880., 112368., 113808., 115296., 116784.,\n",
       "       118224., 119712., 121152., 122640., 124128., 125472., 126960., 128400.,\n",
       "       129888., 131328., 132816., 134304., 135744., 137232., 138672., 140160.,\n",
       "       141648., 142992., 144480., 145920., 147408., 148848., 150336., 151824.,\n",
       "       153264., 154752., 156192., 157680., 159168., 160512., 162000., 163440.,\n",
       "       164928., 166368., 167856., 169344., 170784., 172272., 173712., 175200.])</pre></div></li><li class='xr-var-item'><div class='xr-var-name'><span>PRECT</span></div><div class='xr-var-dims'>(time, lat, lon)</div><div class='xr-var-dtype'>float32</div><div class='xr-var-preview xr-preview'>...</div><input id='attrs-af0c9079-c322-4e46-92cb-78040883735f' class='xr-var-attrs-in' type='checkbox' ><label for='attrs-af0c9079-c322-4e46-92cb-78040883735f' title='Show/Hide attributes'><svg class='icon xr-icon-file-text2'><use xlink:href='#icon-file-text2'></use></svg></label><input id='data-5c5048ea-fd95-4398-b4eb-8d91f1f57800' class='xr-var-data-in' type='checkbox'><label for='data-5c5048ea-fd95-4398-b4eb-8d91f1f57800' title='Show/Hide data repr'><svg class='icon xr-icon-database'><use xlink:href='#icon-database'></use></svg></label><div class='xr-var-attrs'><dl class='xr-attrs'><dt><span>units :</span></dt><dd>m/s</dd><dt><span>long_name :</span></dt><dd>Total (convective and large-scale) precipitation rate (liq + ice)</dd><dt><span>cell_methods :</span></dt><dd>time: mean</dd></dl></div><div class='xr-var-data'><pre>[6635520 values with dtype=float32]</pre></div></li></ul></div></li><li class='xr-section-item'><input id='section-0681d382-2d01-4787-9402-c2cd13e6af2f' class='xr-section-summary-in' type='checkbox'  checked><label for='section-0681d382-2d01-4787-9402-c2cd13e6af2f' class='xr-section-summary' >Attributes: <span>(9)</span></label><div class='xr-section-inline-details'></div><div class='xr-section-details'><dl class='xr-attrs'><dt><span>Conventions :</span></dt><dd>CF-1.0</dd><dt><span>source :</span></dt><dd>CAM</dd><dt><span>case :</span></dt><dd>b.e21.BHISTcmip6.f09_g17.LE2-1001.001</dd><dt><span>logname :</span></dt><dd>sunseon</dd><dt><span>host :</span></dt><dd>mom1</dd><dt><span>initial_file :</span></dt><dd>b.e21.B1850.f09_g17.CMIP6-piControl.001.cam.i.1001-01-01-00000.nc</dd><dt><span>topography_file :</span></dt><dd>/mnt/lustre/share/CESM/cesm_input/atm/cam/topo/fv_0.9x1.25_nc3000_Nsw042_Nrs008_Co060_Fi001_ZR_sgh30_24km_GRNL_c170103.nc</dd><dt><span>model_doi_url :</span></dt><dd>https://doi.org/10.5065/D67H1H0V</dd><dt><span>time_period_freq :</span></dt><dd>month_1</dd></dl></div></li></ul></div></div>"
      ],
      "text/plain": [
       "<xarray.Dataset>\n",
       "Dimensions:       (lat: 192, zlon: 1, nbnd: 2, lon: 288, lev: 32, ilev: 33,\n",
       "                   time: 120)\n",
       "Coordinates:\n",
       "  * lat           (lat) float64 -90.0 -89.06 -88.12 -87.17 ... 88.12 89.06 90.0\n",
       "  * zlon          (zlon) float64 0.0\n",
       "  * lon           (lon) float64 0.0 1.25 2.5 3.75 ... 355.0 356.2 357.5 358.8\n",
       "  * lev           (lev) float64 3.643 7.595 14.36 24.61 ... 957.5 976.3 992.6\n",
       "  * ilev          (ilev) float64 2.255 5.032 10.16 18.56 ... 967.5 985.1 1e+03\n",
       "  * time          (time) object 1850-02-01 00:00:00 ... 1860-01-01 00:00:00\n",
       "Dimensions without coordinates: nbnd\n",
       "Data variables: (12/27)\n",
       "    zlon_bnds     (zlon, nbnd) float64 ...\n",
       "    gw            (lat) float64 ...\n",
       "    hyam          (lev) float64 ...\n",
       "    hybm          (lev) float64 ...\n",
       "    P0            float64 ...\n",
       "    hyai          (ilev) float64 ...\n",
       "    ...            ...\n",
       "    n2ovmr        (time) float64 ...\n",
       "    f11vmr        (time) float64 ...\n",
       "    f12vmr        (time) float64 ...\n",
       "    sol_tsi       (time) float64 ...\n",
       "    nsteph        (time) float64 ...\n",
       "    PRECT         (time, lat, lon) float32 ...\n",
       "Attributes:\n",
       "    Conventions:       CF-1.0\n",
       "    source:            CAM\n",
       "    case:              b.e21.BHISTcmip6.f09_g17.LE2-1001.001\n",
       "    logname:           sunseon\n",
       "    host:              mom1\n",
       "    initial_file:      b.e21.B1850.f09_g17.CMIP6-piControl.001.cam.i.1001-01-...\n",
       "    topography_file:   /mnt/lustre/share/CESM/cesm_input/atm/cam/topo/fv_0.9x...\n",
       "    model_doi_url:     https://doi.org/10.5065/D67H1H0V\n",
       "    time_period_freq:  month_1"
      ]
     },
     "execution_count": 21,
     "metadata": {},
     "output_type": "execute_result"
    }
   ],
   "source": [
    "file_xr  = xr.open_dataset(ncFile_param) \n",
    "file_xr"
   ]
  },
  {
   "cell_type": "code",
   "execution_count": 22,
   "metadata": {},
   "outputs": [
    {
     "name": "stdout",
     "output_type": "stream",
     "text": [
      "(120, 192, 288)\n",
      "<xarray.DataArray 'PRECT' (time: 120, lat: 192, lon: 288)>\n",
      "[6635520 values with dtype=float32]\n",
      "Coordinates:\n",
      "  * lat      (lat) float64 -90.0 -89.06 -88.12 -87.17 ... 87.17 88.12 89.06 90.0\n",
      "  * lon      (lon) float64 0.0 1.25 2.5 3.75 5.0 ... 355.0 356.2 357.5 358.8\n",
      "  * time     (time) object 1850-02-01 00:00:00 ... 1860-01-01 00:00:00\n",
      "Attributes:\n",
      "    units:         m/s\n",
      "    long_name:     Total (convective and large-scale) precipitation rate (liq...\n",
      "    cell_methods:  time: mean\n"
     ]
    }
   ],
   "source": [
    "param_val = file_xr['PRECT']\n",
    "print(param_val.shape)\n",
    "print(param_val)"
   ]
  },
  {
   "cell_type": "code",
   "execution_count": 23,
   "metadata": {},
   "outputs": [
    {
     "name": "stdout",
     "output_type": "stream",
     "text": [
      "120\n",
      "(120, 192, 288)\n",
      "\n"
     ]
    }
   ],
   "source": [
    "\n",
    "file_paramHist = Dataset(ncFile_param, mode='r')\n",
    "file_paramHist\n",
    "\n",
    "lons = file_paramHist.variables['lon'][:]\n",
    "lats = file_paramHist.variables['lat'][:]\n",
    "times = file_paramHist.variables['time'][:]\n",
    "ntim = times.shape[0]\n",
    "print(ntim)\n",
    "\n",
    "time = np.arange(ntim)\n",
    "time\n",
    "\n",
    "#prcp_26 = file_26.variables['tasmax'][:]\n",
    "param_valHist = file_paramHist.variables['PRECT'][:]*86400*30\n",
    "\n",
    "print(param_valHist.shape)\n",
    "print('')\n",
    "\n",
    "#++++++++++++++++++++++++++++++++++++++++++++++++++++++++++++\n",
    "    \n",
    "    "
   ]
  },
  {
   "cell_type": "code",
   "execution_count": null,
   "metadata": {},
   "outputs": [],
   "source": []
  },
  {
   "cell_type": "code",
   "execution_count": null,
   "metadata": {},
   "outputs": [],
   "source": []
  },
  {
   "cell_type": "markdown",
   "metadata": {},
   "source": [
    "## Setting US boundaries"
   ]
  },
  {
   "cell_type": "code",
   "execution_count": 24,
   "metadata": {},
   "outputs": [],
   "source": [
    "# Save only U.S. \n",
    "latboundsUs = [ 25 , 55]\n",
    "lonboundsUs = [230 , 300]\n"
   ]
  },
  {
   "cell_type": "code",
   "execution_count": 25,
   "metadata": {},
   "outputs": [],
   "source": [
    "# latitude lower and upper index\n",
    "latli = np.argmin( np.abs( lats - latboundsUs[0] ) )\n",
    "latui = np.argmin( np.abs( lats - latboundsUs[1] ) ) \n",
    "\n",
    "# longitude lower and upper index\n",
    "lonli = np.argmin( np.abs( lons - lonboundsUs[0] ) )\n",
    "lonui = np.argmin( np.abs( lons - lonboundsUs[1] ) )  "
   ]
  },
  {
   "cell_type": "code",
   "execution_count": 26,
   "metadata": {},
   "outputs": [
    {
     "name": "stdout",
     "output_type": "stream",
     "text": [
      "122 154\n"
     ]
    }
   ],
   "source": [
    "print(latli, latui)\n"
   ]
  },
  {
   "cell_type": "code",
   "execution_count": 27,
   "metadata": {},
   "outputs": [
    {
     "name": "stdout",
     "output_type": "stream",
     "text": [
      "184 240\n"
     ]
    }
   ],
   "source": [
    "print(lonli, lonui)"
   ]
  },
  {
   "cell_type": "code",
   "execution_count": 28,
   "metadata": {},
   "outputs": [
    {
     "name": "stdout",
     "output_type": "stream",
     "text": [
      "(120, 32, 56)\n"
     ]
    }
   ],
   "source": [
    "param_val_sample_Us = param_val[:, latli:latui , lonli:lonui]\n",
    "print(param_val_sample_Us.shape)"
   ]
  },
  {
   "cell_type": "code",
   "execution_count": 29,
   "metadata": {},
   "outputs": [
    {
     "name": "stdout",
     "output_type": "stream",
     "text": [
      "32\n",
      "56\n",
      "120\n"
     ]
    }
   ],
   "source": [
    "t,y_Us,x_Us = param_val_sample_Us.shape\n",
    "print(y_Us)\n",
    "print(x_Us)\n",
    "print(t)"
   ]
  },
  {
   "cell_type": "code",
   "execution_count": 30,
   "metadata": {},
   "outputs": [
    {
     "name": "stdout",
     "output_type": "stream",
     "text": [
      "[24.97382199 25.91623037 26.85863874 27.80104712 28.7434555  29.68586387\n",
      " 30.62827225 31.57068063 32.51308901 33.45549738 34.39790576 35.34031414\n",
      " 36.28272251 37.22513089 38.16753927 39.10994764 40.05235602 40.9947644\n",
      " 41.93717277 42.87958115 43.82198953 44.76439791 45.70680628 46.64921466\n",
      " 47.59162304 48.53403141 49.47643979 50.41884817 51.36125654 52.30366492\n",
      " 53.2460733  54.18848168]\n"
     ]
    }
   ],
   "source": [
    "lats_Us = lats[latli:latui]\n",
    "print(lats_Us)"
   ]
  },
  {
   "cell_type": "code",
   "execution_count": 31,
   "metadata": {},
   "outputs": [
    {
     "name": "stdout",
     "output_type": "stream",
     "text": [
      "[230.   231.25 232.5  233.75 235.   236.25 237.5  238.75 240.   241.25\n",
      " 242.5  243.75 245.   246.25 247.5  248.75 250.   251.25 252.5  253.75\n",
      " 255.   256.25 257.5  258.75 260.   261.25 262.5  263.75 265.   266.25\n",
      " 267.5  268.75 270.   271.25 272.5  273.75 275.   276.25 277.5  278.75\n",
      " 280.   281.25 282.5  283.75 285.   286.25 287.5  288.75 290.   291.25\n",
      " 292.5  293.75 295.   296.25 297.5  298.75]\n"
     ]
    }
   ],
   "source": [
    "lons_Us = lons[lonli:lonui]\n",
    "print(lons_Us)"
   ]
  },
  {
   "cell_type": "code",
   "execution_count": null,
   "metadata": {},
   "outputs": [],
   "source": []
  },
  {
   "cell_type": "code",
   "execution_count": null,
   "metadata": {},
   "outputs": [],
   "source": []
  },
  {
   "cell_type": "markdown",
   "metadata": {},
   "source": [
    "## Using data from Ensemble Members"
   ]
  },
  {
   "cell_type": "markdown",
   "metadata": {},
   "source": [
    "### Lat Lon info from CESM2"
   ]
  },
  {
   "cell_type": "code",
   "execution_count": 32,
   "metadata": {},
   "outputs": [
    {
     "name": "stdout",
     "output_type": "stream",
     "text": [
      "(32,)\n",
      "[24.973822 25.916231 26.858639 27.801046 28.743456 29.685863 30.628273\n",
      " 31.57068  32.51309  33.455498 34.397907 35.340313 36.282722 37.225132\n",
      " 38.167538 39.109947 40.052357 40.994766 41.937172 42.87958  43.82199\n",
      " 44.764397 45.706806 46.649216 47.59162  48.53403  49.47644  50.41885\n",
      " 51.361256 52.303665 53.246075 54.18848 ]\n"
     ]
    }
   ],
   "source": [
    "file_LatUs = 'C:/rezaul/1.academic/1.research/2.project/mrb/dt/cesm/cesm2LE/param/CESM2_FLOOD/sm/latsUsArr.npy'\n",
    "latUs_cesm2 = np.load(file_LatUs)\n",
    "print(latUs_cesm2.shape)\n",
    "print(latUs_cesm2)"
   ]
  },
  {
   "cell_type": "code",
   "execution_count": 33,
   "metadata": {},
   "outputs": [
    {
     "name": "stdout",
     "output_type": "stream",
     "text": [
      "(56,)\n",
      "[230.   231.25 232.5  233.75 235.   236.25 237.5  238.75 240.   241.25\n",
      " 242.5  243.75 245.   246.25 247.5  248.75 250.   251.25 252.5  253.75\n",
      " 255.   256.25 257.5  258.75 260.   261.25 262.5  263.75 265.   266.25\n",
      " 267.5  268.75 270.   271.25 272.5  273.75 275.   276.25 277.5  278.75\n",
      " 280.   281.25 282.5  283.75 285.   286.25 287.5  288.75 290.   291.25\n",
      " 292.5  293.75 295.   296.25 297.5  298.75]\n"
     ]
    }
   ],
   "source": [
    "file_LonUs = 'C:/rezaul/1.academic/1.research/2.project/mrb/dt/cesm/cesm2LE/param/CESM2_FLOOD/sm/lonsUsArr.npy'\n",
    "lonUs_cesm2 = np.load(file_LonUs)\n",
    "print(lonUs_cesm2.shape)\n",
    "print(lonUs_cesm2)"
   ]
  },
  {
   "cell_type": "code",
   "execution_count": null,
   "metadata": {},
   "outputs": [],
   "source": []
  },
  {
   "cell_type": "markdown",
   "metadata": {},
   "source": [
    "### Historical (1850-2014): 1980 months"
   ]
  },
  {
   "cell_type": "code",
   "execution_count": 34,
   "metadata": {},
   "outputs": [
    {
     "name": "stdout",
     "output_type": "stream",
     "text": [
      "(1980, 32, 56, 50)\n"
     ]
    },
    {
     "data": {
      "text/plain": [
       "1416.2439802021254"
      ]
     },
     "execution_count": 34,
     "metadata": {},
     "output_type": "execute_result"
    }
   ],
   "source": [
    "#file_hist_ensMems = 'C:/rezaul/1.academic/1.research/2.project/mrb/dt/cesm/cesm2LE/mon/precip/monPrecipUsHistEnsMems.npy'\n",
    "file_hist_ensMems = 'C:/rezaul/1.academic/1.research/2.project/mrb/dt/cesm/cesm2LE/param/precip/mon/monPrecipUsHistEnsMems.npy'\n",
    "\n",
    "file_hist_ensMems_loaded = np.load(file_hist_ensMems)\n",
    "print(file_hist_ensMems_loaded.shape)\n",
    "maxVal = np.nanmax(file_hist_ensMems_loaded)\n",
    "maxVal"
   ]
  },
  {
   "cell_type": "markdown",
   "metadata": {},
   "source": [
    "## Historical years and 3 time periods (i.e., Era) in Scenario years"
   ]
  },
  {
   "cell_type": "code",
   "execution_count": 35,
   "metadata": {},
   "outputs": [
    {
     "name": "stdout",
     "output_type": "stream",
     "text": [
      "12\n"
     ]
    }
   ],
   "source": [
    "nMonsPerYr = 12     \n",
    "print(nMonsPerYr)"
   ]
  },
  {
   "cell_type": "code",
   "execution_count": 36,
   "metadata": {},
   "outputs": [],
   "source": [
    "histYrSt = 1850\n",
    "histYrSelSt = 1930\n",
    "\n",
    "refPeriodYrSt = 1971\n",
    "refPeriodYrEnd = 2000\n",
    "\n",
    "scenYrSt = 2015\n",
    "scenEraTwoYrSt = 2045\n",
    "scenEraThreeYrSt = 2075\n",
    "\n",
    "scenYrEnd = 2100\n",
    "#"
   ]
  },
  {
   "cell_type": "code",
   "execution_count": 37,
   "metadata": {},
   "outputs": [
    {
     "name": "stdout",
     "output_type": "stream",
     "text": [
      "960\n"
     ]
    }
   ],
   "source": [
    "refPeriodStepSt = (histYrSelSt - histYrSt)*nMonsPerYr\n",
    "print(refPeriodStepSt)"
   ]
  },
  {
   "cell_type": "code",
   "execution_count": 38,
   "metadata": {},
   "outputs": [
    {
     "name": "stdout",
     "output_type": "stream",
     "text": [
      "(1020, 32, 56, 50)\n"
     ]
    }
   ],
   "source": [
    "file_histSel_ensMems_loaded = file_hist_ensMems_loaded[refPeriodStepSt::, :, :, :]\n",
    "\n",
    "print(file_histSel_ensMems_loaded.shape)"
   ]
  },
  {
   "cell_type": "code",
   "execution_count": 39,
   "metadata": {},
   "outputs": [
    {
     "name": "stdout",
     "output_type": "stream",
     "text": [
      "171\n"
     ]
    }
   ],
   "source": [
    "nYrsHistSelScen = scenYrEnd - histYrSelSt + 1\n",
    "print(nYrsHistSelScen)"
   ]
  },
  {
   "cell_type": "code",
   "execution_count": 40,
   "metadata": {},
   "outputs": [
    {
     "name": "stdout",
     "output_type": "stream",
     "text": [
      "30\n",
      "30\n",
      "26\n"
     ]
    }
   ],
   "source": [
    "nYrsEraOne = scenEraTwoYrSt - scenYrSt\n",
    "print(nYrsEraOne)\n",
    "\n",
    "nYrsEraTwo = scenEraThreeYrSt - scenEraTwoYrSt\n",
    "print(nYrsEraTwo)\n",
    "\n",
    "nYrsEraThree = scenYrEnd - scenEraThreeYrSt+1\n",
    "print(nYrsEraThree)"
   ]
  },
  {
   "cell_type": "code",
   "execution_count": 41,
   "metadata": {},
   "outputs": [],
   "source": [
    "nBasins = 4"
   ]
  },
  {
   "cell_type": "code",
   "execution_count": null,
   "metadata": {},
   "outputs": [],
   "source": []
  },
  {
   "cell_type": "code",
   "execution_count": null,
   "metadata": {},
   "outputs": [],
   "source": []
  },
  {
   "cell_type": "markdown",
   "metadata": {},
   "source": [
    "### Scenario (2105-2100): 1032 months"
   ]
  },
  {
   "cell_type": "code",
   "execution_count": 42,
   "metadata": {},
   "outputs": [
    {
     "name": "stdout",
     "output_type": "stream",
     "text": [
      "(1032, 32, 56, 50)\n"
     ]
    },
    {
     "data": {
      "text/plain": [
       "1645.1687024527928"
      ]
     },
     "execution_count": 42,
     "metadata": {},
     "output_type": "execute_result"
    }
   ],
   "source": [
    "#file_Scen_ensMems = 'C:/rezaul/1.academic/1.research/2.project/mrb/dt/cesm/cesm2LE/param/CESM2_FLOOD/sm/monSoilMoistUsScenEnsMems.npy'\n",
    "#file_scen_ensMems = 'C:/rezaul/1.academic/1.research/2.project/mrb/dt/cesm/cesm2LE/mon/precip/monPrecipUsScenEnsMems.npy'\n",
    "file_scen_ensMems = 'C:/rezaul/1.academic/1.research/2.project/mrb/dt/cesm/cesm2LE/param/precip/mon/monPrecipUsScenEnsMems.npy'\n",
    "\n",
    "file_scen_ensMems_loaded = np.load(file_scen_ensMems)\n",
    "print(file_scen_ensMems_loaded.shape)\n",
    "maxVal = np.nanmax(file_scen_ensMems_loaded)\n",
    "maxVal"
   ]
  },
  {
   "cell_type": "code",
   "execution_count": null,
   "metadata": {},
   "outputs": [],
   "source": []
  },
  {
   "cell_type": "markdown",
   "metadata": {},
   "source": [
    "## Concatenate two data arrays"
   ]
  },
  {
   "cell_type": "code",
   "execution_count": 43,
   "metadata": {},
   "outputs": [
    {
     "name": "stdout",
     "output_type": "stream",
     "text": [
      "(1020, 32, 56, 50)\n",
      "(1032, 32, 56, 50)\n"
     ]
    }
   ],
   "source": [
    "print(file_histSel_ensMems_loaded.shape)\n",
    "print(file_scen_ensMems_loaded.shape)\n"
   ]
  },
  {
   "cell_type": "code",
   "execution_count": 44,
   "metadata": {},
   "outputs": [
    {
     "name": "stdout",
     "output_type": "stream",
     "text": [
      "(2052, 32, 56, 50)\n"
     ]
    }
   ],
   "source": [
    "param_histSel_scen_ensMems_Us = np.concatenate((file_histSel_ensMems_loaded, file_scen_ensMems_loaded), axis=0)\n",
    "print(param_histSel_scen_ensMems_Us.shape)"
   ]
  },
  {
   "cell_type": "code",
   "execution_count": null,
   "metadata": {},
   "outputs": [],
   "source": []
  },
  {
   "cell_type": "markdown",
   "metadata": {},
   "source": [
    "## Writing in an Xarray Data array"
   ]
  },
  {
   "cell_type": "code",
   "execution_count": 45,
   "metadata": {},
   "outputs": [
    {
     "name": "stdout",
     "output_type": "stream",
     "text": [
      "(2052, 32, 56, 50)\n"
     ]
    }
   ],
   "source": [
    "print(param_histSel_scen_ensMems_Us.shape)"
   ]
  },
  {
   "cell_type": "code",
   "execution_count": 46,
   "metadata": {},
   "outputs": [
    {
     "name": "stdout",
     "output_type": "stream",
     "text": [
      "2052\n",
      "32\n",
      "56\n",
      "50\n"
     ]
    }
   ],
   "source": [
    "t_histSel_scen, y_Us, x_Us, ens_size = param_histSel_scen_ensMems_Us.shape\n",
    "\n",
    "print(t_histSel_scen)\n",
    "print(y_Us)\n",
    "print(x_Us)\n",
    "print(ens_size)"
   ]
  },
  {
   "cell_type": "code",
   "execution_count": 47,
   "metadata": {},
   "outputs": [],
   "source": [
    "Month_steps = [x for x in range(t_histSel_scen)]\n",
    "#print(Month_steps)"
   ]
  },
  {
   "cell_type": "code",
   "execution_count": 48,
   "metadata": {},
   "outputs": [
    {
     "name": "stdout",
     "output_type": "stream",
     "text": [
      "[0, 1, 2, 3, 4, 5, 6, 7, 8, 9, 10, 11, 12, 13, 14, 15, 16, 17, 18, 19, 20, 21, 22, 23, 24, 25, 26, 27, 28, 29, 30, 31, 32, 33, 34, 35, 36, 37, 38, 39, 40, 41, 42, 43, 44, 45, 46, 47, 48, 49]\n"
     ]
    }
   ],
   "source": [
    "Ensembles = [x for x in range(ens_size)]\n",
    "print(Ensembles)"
   ]
  },
  {
   "cell_type": "code",
   "execution_count": null,
   "metadata": {},
   "outputs": [],
   "source": []
  },
  {
   "cell_type": "code",
   "execution_count": 49,
   "metadata": {},
   "outputs": [
    {
     "name": "stdout",
     "output_type": "stream",
     "text": [
      "(2052, 32, 56, 50)\n",
      "<xarray.DataArray (Month_steps: 2052, Lat: 32, Lon: 56, Ensembles: 50)>\n",
      "array([[[[ 20.07818526,  11.19035718,  11.68577018, ...,   7.80117705,\n",
      "            7.23375197,  17.65783743],\n",
      "         [ 16.48232769,  10.8801586 ,  12.29858864, ...,   8.28420903,\n",
      "            7.2019016 ,  22.21288011],\n",
      "         [ 17.45689814,  11.52741621,  13.70356487, ...,   7.8408818 ,\n",
      "            7.76351086,  29.15179522],\n",
      "         ...,\n",
      "         [ 34.21497607, 116.20024213,  45.20972345, ...,  50.36126805,\n",
      "           39.42566542,  56.01781413],\n",
      "         [ 29.72116044, 120.74077085,  40.24395844, ...,  47.82572137,\n",
      "           36.41055611,  72.61486184],\n",
      "         [ 25.98553078, 125.4082498 ,  36.52603237, ...,  45.23264835,\n",
      "           37.33044568,  90.46835396]],\n",
      "\n",
      "        [[ 19.75600279,  14.48792868,  12.44468017, ...,   6.03978697,\n",
      "            8.06010714,  15.80729109],\n",
      "         [ 15.0048634 ,  14.57229243,  11.81146688, ...,   5.86759876,\n",
      "            6.97212835,  17.0243122 ],\n",
      "         [ 14.69873273,  15.20707234,  12.42358894, ...,   5.24840561,\n",
      "            8.05895721,  21.80965475],\n",
      "...\n",
      "         [ 52.72870192,  73.98484871, 113.9757585 , ...,  69.26413005,\n",
      "          106.60296709,  20.10058526],\n",
      "         [ 49.99354888,  71.51144189, 109.51564877, ...,  63.79465736,\n",
      "          112.12904064,  20.69327826],\n",
      "         [ 54.20003441,  68.45609545, 127.16208016, ...,  60.48546112,\n",
      "          118.3743085 ,  23.74245491]],\n",
      "\n",
      "        [[361.32167133, 390.70583261, 327.94508843, ..., 226.82867143,\n",
      "          310.44437446, 407.89194281],\n",
      "         [282.07021614, 340.43509004, 260.63761811, ..., 198.69990479,\n",
      "          299.24175828, 316.67640951],\n",
      "         [171.46363894, 244.88671033, 152.91406157, ..., 133.72760588,\n",
      "          202.11831543, 183.84674672],\n",
      "         ...,\n",
      "         [ 52.50158478,  65.74578731, 125.15613582, ...,  64.75846061,\n",
      "           94.01620116,  16.43220855],\n",
      "         [ 48.33363738,  67.4498358 , 116.03504845, ...,  60.04640267,\n",
      "           95.53722805,  16.16227242],\n",
      "         [ 51.3069441 ,  70.79331118, 113.61409861, ...,  53.91691036,\n",
      "           96.53116194,  19.47579327]]]])\n",
      "Coordinates:\n",
      "  * Month_steps  (Month_steps) int32 0 1 2 3 4 5 ... 2047 2048 2049 2050 2051\n",
      "  * Lat          (Lat) float32 24.97 25.92 26.86 27.8 ... 51.36 52.3 53.25 54.19\n",
      "  * Lon          (Lon) float32 230.0 231.2 232.5 233.8 ... 296.2 297.5 298.8\n",
      "  * Ensembles    (Ensembles) int32 0 1 2 3 4 5 6 7 8 ... 42 43 44 45 46 47 48 49\n"
     ]
    }
   ],
   "source": [
    "#param_histSel_scen_ensMems_Us_xarray = xr.DataArray(param_histSel_scen_ensMems_Us, coords=[Month_steps, lats_Us, lons_Us, Ensembles], dims=[\"Month_steps\",\"Lat\",\"Lon\",\"Ensembles\"])\n",
    "param_histSel_scen_ensMems_Us_xarray = xr.DataArray(param_histSel_scen_ensMems_Us, coords=[Month_steps, latUs_cesm2, lonUs_cesm2, Ensembles], dims=[\"Month_steps\",\"Lat\",\"Lon\",\"Ensembles\"])\n",
    "\n",
    "print(param_histSel_scen_ensMems_Us_xarray.shape)\n",
    "print(param_histSel_scen_ensMems_Us_xarray)"
   ]
  },
  {
   "cell_type": "code",
   "execution_count": null,
   "metadata": {},
   "outputs": [],
   "source": []
  },
  {
   "cell_type": "code",
   "execution_count": null,
   "metadata": {},
   "outputs": [],
   "source": []
  },
  {
   "cell_type": "markdown",
   "metadata": {},
   "source": [
    "## Creating Mask files for the US Domain only"
   ]
  },
  {
   "cell_type": "markdown",
   "metadata": {},
   "source": [
    "### Mississippi"
   ]
  },
  {
   "cell_type": "code",
   "execution_count": 50,
   "metadata": {},
   "outputs": [
    {
     "name": "stdout",
     "output_type": "stream",
     "text": [
      "C:/rezaul/1.academic/1.research/2.project/mrb/dt/shapeFile/mask/mrb_us/mask_missiWri_us_CESM_longThree.nc\n"
     ]
    }
   ],
   "source": [
    "# Make commented of the following lines if you want to make the Mask file for the first time\n",
    "# C:/rezaul/1.academic/1.research/2.project/mrb/dt/shapeFile/mask/mrb_us/mask_missiWri_us_CESM_longThree.nc\n",
    "MaskFile_Missi_to_load = 'C:/rezaul/1.academic/1.research/2.project/mrb/dt/shapeFile/mask/mrb_us/mask_missiWri_us_CESM_longThree.nc'\n",
    "print(MaskFile_Missi_to_load)"
   ]
  },
  {
   "cell_type": "code",
   "execution_count": 51,
   "metadata": {},
   "outputs": [
    {
     "name": "stdout",
     "output_type": "stream",
     "text": [
      "<xarray.DataArray 'Mask' (Lat: 32, Lon: 56)>\n",
      "array([[0, 0, 0, ..., 0, 0, 0],\n",
      "       [0, 0, 0, ..., 0, 0, 0],\n",
      "       [0, 0, 0, ..., 0, 0, 0],\n",
      "       ...,\n",
      "       [0, 0, 0, ..., 0, 0, 0],\n",
      "       [0, 0, 0, ..., 0, 0, 0],\n",
      "       [0, 0, 0, ..., 0, 0, 0]])\n",
      "Coordinates:\n",
      "  * Lat      (Lat) float32 24.97 25.92 26.86 27.8 ... 51.36 52.3 53.25 54.19\n",
      "  * Lon      (Lon) float32 230.0 231.2 232.5 233.8 ... 295.0 296.2 297.5 298.8\n"
     ]
    }
   ],
   "source": [
    "MaskFile_Missi = xr.open_dataset(MaskFile_Missi_to_load)['Mask']\n",
    "print(MaskFile_Missi)"
   ]
  },
  {
   "cell_type": "code",
   "execution_count": 52,
   "metadata": {},
   "outputs": [
    {
     "name": "stdout",
     "output_type": "stream",
     "text": [
      "(2052, 32, 56, 50)\n"
     ]
    }
   ],
   "source": [
    "param_masked_Missi = param_histSel_scen_ensMems_Us_xarray.where(MaskFile_Missi>0)\n",
    "print(param_masked_Missi.shape)\n",
    "#print(param_masked_Missi)"
   ]
  },
  {
   "cell_type": "code",
   "execution_count": null,
   "metadata": {},
   "outputs": [],
   "source": []
  },
  {
   "cell_type": "markdown",
   "metadata": {},
   "source": [
    "### Missouri"
   ]
  },
  {
   "cell_type": "code",
   "execution_count": 53,
   "metadata": {},
   "outputs": [
    {
     "name": "stdout",
     "output_type": "stream",
     "text": [
      "C:/rezaul/1.academic/1.research/2.project/mrb/dt/shapeFile/mask/mrb_us/mask_missouri_us_CESM_longThree.nc\n"
     ]
    }
   ],
   "source": [
    "# Make commented of the following lines if you want to make the Mask file for the first time\n",
    "# C:/rezaul/1.academic/1.research/2.project/mrb/dt/shapeFile/mask/mrb_us/mask_missiWri_us_CESM_longThree.nc\n",
    "MaskFile_Missouri_to_load = 'C:/rezaul/1.academic/1.research/2.project/mrb/dt/shapeFile/mask/mrb_us/mask_missouri_us_CESM_longThree.nc'\n",
    "print(MaskFile_Missouri_to_load)"
   ]
  },
  {
   "cell_type": "code",
   "execution_count": 54,
   "metadata": {},
   "outputs": [
    {
     "name": "stdout",
     "output_type": "stream",
     "text": [
      "<xarray.DataArray 'Mask' (Lat: 32, Lon: 56)>\n",
      "array([[0, 0, 0, ..., 0, 0, 0],\n",
      "       [0, 0, 0, ..., 0, 0, 0],\n",
      "       [0, 0, 0, ..., 0, 0, 0],\n",
      "       ...,\n",
      "       [0, 0, 0, ..., 0, 0, 0],\n",
      "       [0, 0, 0, ..., 0, 0, 0],\n",
      "       [0, 0, 0, ..., 0, 0, 0]])\n",
      "Coordinates:\n",
      "  * Lat      (Lat) float32 24.97 25.92 26.86 27.8 ... 51.36 52.3 53.25 54.19\n",
      "  * Lon      (Lon) float32 230.0 231.2 232.5 233.8 ... 295.0 296.2 297.5 298.8\n"
     ]
    }
   ],
   "source": [
    "MaskFile_Missouri = xr.open_dataset(MaskFile_Missouri_to_load)['Mask']\n",
    "print(MaskFile_Missouri)"
   ]
  },
  {
   "cell_type": "code",
   "execution_count": 55,
   "metadata": {},
   "outputs": [
    {
     "name": "stdout",
     "output_type": "stream",
     "text": [
      "(2052, 32, 56, 50)\n"
     ]
    }
   ],
   "source": [
    "param_masked_Missouri = param_histSel_scen_ensMems_Us_xarray.where(MaskFile_Missouri>0)\n",
    "print(param_masked_Missouri.shape)\n",
    "#print(param_masked_Missouri)"
   ]
  },
  {
   "cell_type": "code",
   "execution_count": null,
   "metadata": {},
   "outputs": [],
   "source": []
  },
  {
   "cell_type": "markdown",
   "metadata": {},
   "source": [
    "## Arkansas"
   ]
  },
  {
   "cell_type": "code",
   "execution_count": 56,
   "metadata": {},
   "outputs": [
    {
     "name": "stdout",
     "output_type": "stream",
     "text": [
      "C:/rezaul/1.academic/1.research/2.project/mrb/dt/shapeFile/mask/mrb_us/mask_arkansas_us_CESM_longThree.nc\n"
     ]
    }
   ],
   "source": [
    "# Make commented of the following lines if you want to make the Mask file for the first time\n",
    "# C:/rezaul/1.academic/1.research/2.project/mrb/dt/shapeFile/mask/mrb_us/mask_missiWri_us_CESM_longThree.nc\n",
    "MaskFile_Arkansas_to_load = 'C:/rezaul/1.academic/1.research/2.project/mrb/dt/shapeFile/mask/mrb_us/mask_arkansas_us_CESM_longThree.nc'\n",
    "print(MaskFile_Arkansas_to_load)"
   ]
  },
  {
   "cell_type": "code",
   "execution_count": 57,
   "metadata": {},
   "outputs": [
    {
     "name": "stdout",
     "output_type": "stream",
     "text": [
      "<xarray.DataArray 'Mask' (Lat: 32, Lon: 56)>\n",
      "array([[0, 0, 0, ..., 0, 0, 0],\n",
      "       [0, 0, 0, ..., 0, 0, 0],\n",
      "       [0, 0, 0, ..., 0, 0, 0],\n",
      "       ...,\n",
      "       [0, 0, 0, ..., 0, 0, 0],\n",
      "       [0, 0, 0, ..., 0, 0, 0],\n",
      "       [0, 0, 0, ..., 0, 0, 0]])\n",
      "Coordinates:\n",
      "  * Lat      (Lat) float32 24.97 25.92 26.86 27.8 ... 51.36 52.3 53.25 54.19\n",
      "  * Lon      (Lon) float32 230.0 231.2 232.5 233.8 ... 295.0 296.2 297.5 298.8\n"
     ]
    }
   ],
   "source": [
    "MaskFile_Arkansas = xr.open_dataset(MaskFile_Arkansas_to_load)['Mask']\n",
    "print(MaskFile_Arkansas)"
   ]
  },
  {
   "cell_type": "code",
   "execution_count": 58,
   "metadata": {},
   "outputs": [
    {
     "name": "stdout",
     "output_type": "stream",
     "text": [
      "(2052, 32, 56, 50)\n"
     ]
    }
   ],
   "source": [
    "param_masked_Arkansas = param_histSel_scen_ensMems_Us_xarray.where(MaskFile_Arkansas>0)\n",
    "print(param_masked_Arkansas.shape)\n",
    "#print(param_masked_Arkansas)"
   ]
  },
  {
   "cell_type": "code",
   "execution_count": null,
   "metadata": {},
   "outputs": [],
   "source": []
  },
  {
   "cell_type": "markdown",
   "metadata": {},
   "source": [
    "## Ohio"
   ]
  },
  {
   "cell_type": "code",
   "execution_count": 59,
   "metadata": {},
   "outputs": [
    {
     "name": "stdout",
     "output_type": "stream",
     "text": [
      "C:/rezaul/1.academic/1.research/2.project/mrb/dt/shapeFile/mask/mrb_us/mask_ohio_us_CESM_longThree.nc\n"
     ]
    }
   ],
   "source": [
    "# Make commented of the following lines if you want to make the Mask file for the first time\n",
    "# C:/rezaul/1.academic/1.research/2.project/mrb/dt/shapeFile/mask/mrb_us/mask_missiWri_us_CESM_longThree.nc\n",
    "MaskFile_Ohio_to_load = 'C:/rezaul/1.academic/1.research/2.project/mrb/dt/shapeFile/mask/mrb_us/mask_ohio_us_CESM_longThree.nc'\n",
    "print(MaskFile_Ohio_to_load)"
   ]
  },
  {
   "cell_type": "code",
   "execution_count": 60,
   "metadata": {},
   "outputs": [
    {
     "name": "stdout",
     "output_type": "stream",
     "text": [
      "<xarray.DataArray 'Mask' (Lat: 32, Lon: 56)>\n",
      "array([[0, 0, 0, ..., 0, 0, 0],\n",
      "       [0, 0, 0, ..., 0, 0, 0],\n",
      "       [0, 0, 0, ..., 0, 0, 0],\n",
      "       ...,\n",
      "       [0, 0, 0, ..., 0, 0, 0],\n",
      "       [0, 0, 0, ..., 0, 0, 0],\n",
      "       [0, 0, 0, ..., 0, 0, 0]])\n",
      "Coordinates:\n",
      "  * Lat      (Lat) float32 24.97 25.92 26.86 27.8 ... 51.36 52.3 53.25 54.19\n",
      "  * Lon      (Lon) float32 230.0 231.2 232.5 233.8 ... 295.0 296.2 297.5 298.8\n"
     ]
    }
   ],
   "source": [
    "MaskFile_Ohio = xr.open_dataset(MaskFile_Ohio_to_load)['Mask']\n",
    "print(MaskFile_Ohio)"
   ]
  },
  {
   "cell_type": "code",
   "execution_count": 61,
   "metadata": {},
   "outputs": [
    {
     "name": "stdout",
     "output_type": "stream",
     "text": [
      "(2052, 32, 56, 50)\n"
     ]
    }
   ],
   "source": [
    "param_masked_Ohio = param_histSel_scen_ensMems_Us_xarray.where(MaskFile_Ohio>0)\n",
    "print(param_masked_Ohio.shape)\n",
    "#print(param_masked_Ohio)"
   ]
  },
  {
   "cell_type": "code",
   "execution_count": null,
   "metadata": {},
   "outputs": [],
   "source": []
  },
  {
   "cell_type": "markdown",
   "metadata": {},
   "source": [
    "## Lower Mississippi River Basin"
   ]
  },
  {
   "cell_type": "code",
   "execution_count": 62,
   "metadata": {},
   "outputs": [
    {
     "name": "stdout",
     "output_type": "stream",
     "text": [
      "(2052, 32, 56, 50)\n"
     ]
    }
   ],
   "source": [
    "print(param_histSel_scen_ensMems_Us_xarray.shape)"
   ]
  },
  {
   "cell_type": "code",
   "execution_count": 63,
   "metadata": {},
   "outputs": [
    {
     "name": "stdout",
     "output_type": "stream",
     "text": [
      "(2052, 7, 2, 50)\n"
     ]
    }
   ],
   "source": [
    "param_masked_lowMissi = param_histSel_scen_ensMems_Us_xarray.sel(Lat=slice(30.,37.), Lon = slice(268., 271.))\n",
    "print(param_masked_lowMissi.shape)"
   ]
  },
  {
   "cell_type": "code",
   "execution_count": 64,
   "metadata": {},
   "outputs": [
    {
     "name": "stdout",
     "output_type": "stream",
     "text": [
      "(2052, 7, 2)\n"
     ]
    }
   ],
   "source": [
    "param_masked_ensMean_lowMissi = np.nanmean(param_masked_lowMissi, axis = 3)\n",
    "print(param_masked_ensMean_lowMissi.shape)"
   ]
  },
  {
   "cell_type": "code",
   "execution_count": 65,
   "metadata": {},
   "outputs": [
    {
     "name": "stdout",
     "output_type": "stream",
     "text": [
      "(2052,)\n"
     ]
    }
   ],
   "source": [
    "param_masked_ensMean_basinAvg_lowMissi = np.nanmean(param_masked_ensMean_lowMissi, axis=(1,2))\n",
    "print(param_masked_ensMean_basinAvg_lowMissi.shape)"
   ]
  },
  {
   "cell_type": "code",
   "execution_count": null,
   "metadata": {},
   "outputs": [],
   "source": []
  },
  {
   "cell_type": "markdown",
   "metadata": {},
   "source": [
    "## The masked rasters for different basins"
   ]
  },
  {
   "cell_type": "code",
   "execution_count": 66,
   "metadata": {},
   "outputs": [
    {
     "name": "stdout",
     "output_type": "stream",
     "text": [
      "(2052, 32, 56, 50)\n",
      "(2052, 32, 56, 50)\n",
      "(2052, 32, 56, 50)\n",
      "(2052, 32, 56, 50)\n",
      "(2052, 7, 2, 50)\n"
     ]
    }
   ],
   "source": [
    "print(param_masked_Missi.shape)\n",
    "print(param_masked_Missouri.shape)\n",
    "print(param_masked_Arkansas.shape)\n",
    "print(param_masked_Ohio.shape)\n",
    "print(param_masked_lowMissi.shape)"
   ]
  },
  {
   "cell_type": "code",
   "execution_count": null,
   "metadata": {},
   "outputs": [],
   "source": []
  },
  {
   "cell_type": "markdown",
   "metadata": {},
   "source": [
    "## Time series for basin-average Param value: Monthly resolution"
   ]
  },
  {
   "cell_type": "code",
   "execution_count": 67,
   "metadata": {},
   "outputs": [
    {
     "name": "stdout",
     "output_type": "stream",
     "text": [
      "(2052, 50)\n"
     ]
    }
   ],
   "source": [
    "param_masked_ensMem_basinAvg_Missi = np.nanmean(param_masked_Missi, axis=(1,2))\n",
    "print(param_masked_ensMem_basinAvg_Missi.shape)"
   ]
  },
  {
   "cell_type": "code",
   "execution_count": 68,
   "metadata": {},
   "outputs": [
    {
     "name": "stdout",
     "output_type": "stream",
     "text": [
      "(2052, 50)\n"
     ]
    }
   ],
   "source": [
    "param_masked_ensMem_basinAvg_Missouri = np.nanmean(param_masked_Missouri, axis=(1,2))\n",
    "print(param_masked_ensMem_basinAvg_Missouri.shape)"
   ]
  },
  {
   "cell_type": "code",
   "execution_count": 69,
   "metadata": {},
   "outputs": [
    {
     "name": "stdout",
     "output_type": "stream",
     "text": [
      "(2052, 50)\n"
     ]
    }
   ],
   "source": [
    "param_masked_ensMem_basinAvg_Arkansas = np.nanmean(param_masked_Arkansas, axis=(1,2))\n",
    "print(param_masked_ensMem_basinAvg_Arkansas.shape)"
   ]
  },
  {
   "cell_type": "code",
   "execution_count": 70,
   "metadata": {},
   "outputs": [
    {
     "name": "stdout",
     "output_type": "stream",
     "text": [
      "(2052, 50)\n"
     ]
    }
   ],
   "source": [
    "param_masked_ensMem_basinAvg_Ohio = np.nanmean(param_masked_Ohio, axis=(1,2))\n",
    "print(param_masked_ensMem_basinAvg_Ohio.shape)"
   ]
  },
  {
   "cell_type": "code",
   "execution_count": 71,
   "metadata": {},
   "outputs": [
    {
     "name": "stdout",
     "output_type": "stream",
     "text": [
      "(2052, 50)\n"
     ]
    }
   ],
   "source": [
    "param_masked_ensMem_basinAvg_lowMissi = np.nanmean(param_masked_lowMissi, axis=(1,2))\n",
    "print(param_masked_ensMem_basinAvg_lowMissi.shape)"
   ]
  },
  {
   "cell_type": "code",
   "execution_count": null,
   "metadata": {},
   "outputs": [],
   "source": []
  },
  {
   "cell_type": "markdown",
   "metadata": {},
   "source": [
    "## Ensemble Mean"
   ]
  },
  {
   "cell_type": "code",
   "execution_count": 72,
   "metadata": {},
   "outputs": [
    {
     "name": "stdout",
     "output_type": "stream",
     "text": [
      "(2052,)\n",
      "[51.54646862 51.66520934 58.95606332 ... 50.779775   64.75033688\n",
      " 66.51196693]\n"
     ]
    }
   ],
   "source": [
    "param_masked_ensMean_basinAvg_Missi = np.nanmean(param_masked_ensMem_basinAvg_Missi, axis =1)\n",
    "print(param_masked_ensMean_basinAvg_Missi.shape)\n",
    "print(param_masked_ensMean_basinAvg_Missi)\n"
   ]
  },
  {
   "cell_type": "code",
   "execution_count": 73,
   "metadata": {},
   "outputs": [
    {
     "name": "stdout",
     "output_type": "stream",
     "text": [
      "(2052,)\n",
      "[27.34115757 27.44920615 33.53488854 ... 34.78054992 39.22076002\n",
      " 35.3271365 ]\n"
     ]
    }
   ],
   "source": [
    "param_masked_ensMean_basinAvg_Missouri = np.nanmean(param_masked_ensMem_basinAvg_Missouri, axis =1)\n",
    "print(param_masked_ensMean_basinAvg_Missouri.shape)\n",
    "print(param_masked_ensMean_basinAvg_Missouri)\n"
   ]
  },
  {
   "cell_type": "code",
   "execution_count": 74,
   "metadata": {},
   "outputs": [
    {
     "name": "stdout",
     "output_type": "stream",
     "text": [
      "(2052,)\n",
      "[45.77816042 52.8953356  55.01010673 ... 47.09226295 53.07093668\n",
      " 52.98572102]\n"
     ]
    }
   ],
   "source": [
    "param_masked_ensMean_basinAvg_Arkansas = np.nanmean(param_masked_ensMem_basinAvg_Arkansas, axis =1)\n",
    "print(param_masked_ensMean_basinAvg_Arkansas.shape)\n",
    "print(param_masked_ensMean_basinAvg_Arkansas)\n"
   ]
  },
  {
   "cell_type": "code",
   "execution_count": 75,
   "metadata": {},
   "outputs": [
    {
     "name": "stdout",
     "output_type": "stream",
     "text": [
      "(2052,)\n",
      "[109.6756834   99.40381857 115.74808547 ...  79.50836331 129.52854612\n",
      " 144.10041449]\n"
     ]
    }
   ],
   "source": [
    "param_masked_ensMean_basinAvg_Ohio = np.nanmean(param_masked_ensMem_basinAvg_Ohio, axis =1)\n",
    "print(param_masked_ensMean_basinAvg_Ohio.shape)\n",
    "print(param_masked_ensMean_basinAvg_Ohio)\n"
   ]
  },
  {
   "cell_type": "code",
   "execution_count": 76,
   "metadata": {},
   "outputs": [
    {
     "name": "stdout",
     "output_type": "stream",
     "text": [
      "(2052,)\n",
      "[106.76868651 106.61268857 118.55483639 ...  76.12450022 112.37746711\n",
      " 131.90343644]\n"
     ]
    }
   ],
   "source": [
    "param_masked_ensMean_basinAvg_lowMissi = np.nanmean(param_masked_ensMem_basinAvg_lowMissi, axis =1)\n",
    "print(param_masked_ensMean_basinAvg_lowMissi.shape)\n",
    "print(param_masked_ensMean_basinAvg_lowMissi)\n"
   ]
  },
  {
   "cell_type": "code",
   "execution_count": null,
   "metadata": {},
   "outputs": [],
   "source": []
  },
  {
   "cell_type": "code",
   "execution_count": null,
   "metadata": {},
   "outputs": [],
   "source": []
  },
  {
   "cell_type": "code",
   "execution_count": null,
   "metadata": {},
   "outputs": [],
   "source": []
  },
  {
   "cell_type": "code",
   "execution_count": null,
   "metadata": {},
   "outputs": [],
   "source": []
  },
  {
   "cell_type": "markdown",
   "metadata": {},
   "source": [
    "## Get Yearly value"
   ]
  },
  {
   "cell_type": "code",
   "execution_count": 77,
   "metadata": {},
   "outputs": [
    {
     "name": "stdout",
     "output_type": "stream",
     "text": [
      "(171, 12)\n",
      "(171, 12)\n",
      "(171, 12)\n",
      "(171, 12)\n",
      "(171, 12)\n"
     ]
    }
   ],
   "source": [
    "param_masked_ensMean_basinAvg_Yr_Missi=np.reshape(param_masked_ensMean_basinAvg_Missi,(nYrsHistSelScen, nMonsPerYr))\n",
    "print(param_masked_ensMean_basinAvg_Yr_Missi.shape)\n",
    "\n",
    "param_masked_ensMean_basinAvg_Yr_Missouri=np.reshape(param_masked_ensMean_basinAvg_Missouri,(nYrsHistSelScen, nMonsPerYr))\n",
    "print(param_masked_ensMean_basinAvg_Yr_Missouri.shape)\n",
    "\n",
    "param_masked_ensMean_basinAvg_Yr_Arkansas=np.reshape(param_masked_ensMean_basinAvg_Arkansas,(nYrsHistSelScen, nMonsPerYr))\n",
    "print(param_masked_ensMean_basinAvg_Yr_Arkansas.shape)\n",
    "\n",
    "\n",
    "param_masked_ensMean_basinAvg_Yr_Ohio=np.reshape(param_masked_ensMean_basinAvg_Ohio,(nYrsHistSelScen, nMonsPerYr))\n",
    "print(param_masked_ensMean_basinAvg_Yr_Ohio.shape)\n",
    "\n",
    "\n",
    "param_masked_ensMean_basinAvg_Yr_lowMissi=np.reshape(param_masked_ensMean_basinAvg_lowMissi,(nYrsHistSelScen, nMonsPerYr))\n",
    "print(param_masked_ensMean_basinAvg_Yr_lowMissi.shape)\n"
   ]
  },
  {
   "cell_type": "code",
   "execution_count": 78,
   "metadata": {},
   "outputs": [
    {
     "name": "stdout",
     "output_type": "stream",
     "text": [
      "(171,)\n",
      "(171,)\n",
      "(171,)\n",
      "(171,)\n",
      "(171,)\n"
     ]
    }
   ],
   "source": [
    "param_masked_ensMean_basinAvg_YrAvg_Missi = np.nanmean(param_masked_ensMean_basinAvg_Yr_Missi, axis = 1)\n",
    "print(param_masked_ensMean_basinAvg_YrAvg_Missi.shape)\n",
    "\n",
    "param_masked_ensMean_basinAvg_YrAvg_Missouri = np.nanmean(param_masked_ensMean_basinAvg_Yr_Missouri, axis = 1)\n",
    "print(param_masked_ensMean_basinAvg_YrAvg_Missouri.shape)\n",
    "\n",
    "param_masked_ensMean_basinAvg_YrAvg_Arkansas = np.nanmean(param_masked_ensMean_basinAvg_Yr_Arkansas, axis = 1)\n",
    "print(param_masked_ensMean_basinAvg_YrAvg_Arkansas.shape)\n",
    "\n",
    "param_masked_ensMean_basinAvg_YrAvg_Ohio = np.nanmean(param_masked_ensMean_basinAvg_Yr_Ohio, axis = 1)\n",
    "print(param_masked_ensMean_basinAvg_YrAvg_Ohio.shape)\n",
    "\n",
    "param_masked_ensMean_basinAvg_YrAvg_lowMissi = np.nanmean(param_masked_ensMean_basinAvg_Yr_lowMissi, axis = 1)\n",
    "print(param_masked_ensMean_basinAvg_YrAvg_lowMissi.shape)\n"
   ]
  },
  {
   "cell_type": "code",
   "execution_count": null,
   "metadata": {},
   "outputs": [],
   "source": []
  },
  {
   "cell_type": "markdown",
   "metadata": {},
   "source": [
    "## Historical years and 3 time periods (i.e., Era) in Scenario years"
   ]
  },
  {
   "cell_type": "markdown",
   "metadata": {},
   "source": [
    "## Reference Period"
   ]
  },
  {
   "cell_type": "code",
   "execution_count": 79,
   "metadata": {},
   "outputs": [
    {
     "name": "stdout",
     "output_type": "stream",
     "text": [
      "41 71\n",
      "30\n"
     ]
    }
   ],
   "source": [
    "refPeriodStepSt = (refPeriodYrSt - histYrSelSt)*1\n",
    "refPeriodStepEnd = (refPeriodYrEnd - histYrSelSt + 1)*1\n",
    "\n",
    "print(refPeriodStepSt, refPeriodStepEnd)\n",
    "print(refPeriodStepEnd-refPeriodStepSt)"
   ]
  },
  {
   "cell_type": "markdown",
   "metadata": {},
   "source": [
    "## Era1"
   ]
  },
  {
   "cell_type": "code",
   "execution_count": 80,
   "metadata": {},
   "outputs": [
    {
     "name": "stdout",
     "output_type": "stream",
     "text": [
      "85 115\n",
      "30\n"
     ]
    }
   ],
   "source": [
    "scenEraOneStepSt = (scenYrSt - histYrSelSt)*1\n",
    "scenEraOneStepEnd = (scenEraTwoYrSt - histYrSelSt)*1\n",
    "\n",
    "print(scenEraOneStepSt, scenEraOneStepEnd)\n",
    "print(scenEraOneStepEnd-scenEraOneStepSt)"
   ]
  },
  {
   "cell_type": "markdown",
   "metadata": {},
   "source": [
    "## Era2"
   ]
  },
  {
   "cell_type": "code",
   "execution_count": 81,
   "metadata": {},
   "outputs": [
    {
     "name": "stdout",
     "output_type": "stream",
     "text": [
      "115 145\n",
      "30\n"
     ]
    }
   ],
   "source": [
    "scenEraTwoStepSt = (scenEraTwoYrSt - histYrSelSt)*1\n",
    "scenEraTwoStepEnd = (scenEraThreeYrSt - histYrSelSt)*1\n",
    "\n",
    "print(scenEraTwoStepSt, scenEraTwoStepEnd)\n",
    "print(scenEraTwoStepEnd-scenEraTwoStepSt)"
   ]
  },
  {
   "cell_type": "markdown",
   "metadata": {},
   "source": [
    "## Era3"
   ]
  },
  {
   "cell_type": "code",
   "execution_count": 82,
   "metadata": {},
   "outputs": [
    {
     "name": "stdout",
     "output_type": "stream",
     "text": [
      "145 171\n",
      "26\n"
     ]
    }
   ],
   "source": [
    "scenEraThreeStepSt = (scenEraThreeYrSt - histYrSelSt)*1\n",
    "scenEraThreeStepEnd = (scenYrEnd - histYrSelSt + 1)*1\n",
    "\n",
    "print(scenEraThreeStepSt, scenEraThreeStepEnd)\n",
    "print(scenEraThreeStepEnd-scenEraThreeStepSt)"
   ]
  },
  {
   "cell_type": "code",
   "execution_count": null,
   "metadata": {},
   "outputs": [],
   "source": []
  },
  {
   "cell_type": "markdown",
   "metadata": {},
   "source": [
    "## Mississippi"
   ]
  },
  {
   "cell_type": "code",
   "execution_count": 83,
   "metadata": {},
   "outputs": [
    {
     "name": "stdout",
     "output_type": "stream",
     "text": [
      "(30,)\n",
      "(30,)\n",
      "(30,)\n",
      "(26,)\n"
     ]
    }
   ],
   "source": [
    "param_refPeriod_masked_ensMean_basinAvg_YrAvg_Missi = param_masked_ensMean_basinAvg_YrAvg_Missi[refPeriodStepSt:refPeriodStepEnd]\n",
    "print(param_refPeriod_masked_ensMean_basinAvg_YrAvg_Missi.shape)\n",
    "\n",
    "param_eraOne_masked_ensMean_basinAvg_YrAvg_Missi = param_masked_ensMean_basinAvg_YrAvg_Missi[scenEraOneStepSt:scenEraOneStepEnd]\n",
    "print(param_eraOne_masked_ensMean_basinAvg_YrAvg_Missi.shape)\n",
    "\n",
    "param_eraTwo_masked_ensMean_basinAvg_YrAvg_Missi = param_masked_ensMean_basinAvg_YrAvg_Missi[scenEraTwoStepSt:scenEraTwoStepEnd]\n",
    "print(param_eraTwo_masked_ensMean_basinAvg_YrAvg_Missi.shape)\n",
    "\n",
    "param_eraThree_masked_ensMean_basinAvg_YrAvg_Missi = param_masked_ensMean_basinAvg_YrAvg_Missi[scenEraThreeStepSt:scenEraThreeStepEnd]\n",
    "print(param_eraThree_masked_ensMean_basinAvg_YrAvg_Missi.shape)\n"
   ]
  },
  {
   "cell_type": "markdown",
   "metadata": {},
   "source": [
    "## Missouri"
   ]
  },
  {
   "cell_type": "code",
   "execution_count": 84,
   "metadata": {},
   "outputs": [
    {
     "name": "stdout",
     "output_type": "stream",
     "text": [
      "(30,)\n",
      "(30,)\n",
      "(30,)\n",
      "(26,)\n"
     ]
    }
   ],
   "source": [
    "param_refPeriod_masked_ensMean_basinAvg_YrAvg_Missouri = param_masked_ensMean_basinAvg_YrAvg_Missouri[refPeriodStepSt:refPeriodStepEnd]\n",
    "print(param_refPeriod_masked_ensMean_basinAvg_YrAvg_Missouri.shape)\n",
    "\n",
    "param_eraOne_masked_ensMean_basinAvg_YrAvg_Missouri = param_masked_ensMean_basinAvg_YrAvg_Missouri[scenEraOneStepSt:scenEraOneStepEnd]\n",
    "print(param_eraOne_masked_ensMean_basinAvg_YrAvg_Missouri.shape)\n",
    "\n",
    "param_eraTwo_masked_ensMean_basinAvg_YrAvg_Missouri = param_masked_ensMean_basinAvg_YrAvg_Missouri[scenEraTwoStepSt:scenEraTwoStepEnd]\n",
    "print(param_eraTwo_masked_ensMean_basinAvg_YrAvg_Missouri.shape)\n",
    "\n",
    "param_eraThree_masked_ensMean_basinAvg_YrAvg_Missouri = param_masked_ensMean_basinAvg_YrAvg_Missouri[scenEraThreeStepSt:scenEraThreeStepEnd]\n",
    "print(param_eraThree_masked_ensMean_basinAvg_YrAvg_Missouri.shape)\n"
   ]
  },
  {
   "cell_type": "markdown",
   "metadata": {},
   "source": [
    "## Arkansas"
   ]
  },
  {
   "cell_type": "code",
   "execution_count": 85,
   "metadata": {},
   "outputs": [
    {
     "name": "stdout",
     "output_type": "stream",
     "text": [
      "(30,)\n",
      "(30,)\n",
      "(30,)\n",
      "(26,)\n"
     ]
    }
   ],
   "source": [
    "param_refPeriod_masked_ensMean_basinAvg_YrAvg_Arkansas = param_masked_ensMean_basinAvg_YrAvg_Arkansas[refPeriodStepSt:refPeriodStepEnd]\n",
    "print(param_refPeriod_masked_ensMean_basinAvg_YrAvg_Arkansas.shape)\n",
    "\n",
    "param_eraOne_masked_ensMean_basinAvg_YrAvg_Arkansas = param_masked_ensMean_basinAvg_YrAvg_Arkansas[scenEraOneStepSt:scenEraOneStepEnd]\n",
    "print(param_eraOne_masked_ensMean_basinAvg_YrAvg_Arkansas.shape)\n",
    "\n",
    "param_eraTwo_masked_ensMean_basinAvg_YrAvg_Arkansas = param_masked_ensMean_basinAvg_YrAvg_Arkansas[scenEraTwoStepSt:scenEraTwoStepEnd]\n",
    "print(param_eraTwo_masked_ensMean_basinAvg_YrAvg_Arkansas.shape)\n",
    "\n",
    "param_eraThree_masked_ensMean_basinAvg_YrAvg_Arkansas = param_masked_ensMean_basinAvg_YrAvg_Arkansas[scenEraThreeStepSt:scenEraThreeStepEnd]\n",
    "print(param_eraThree_masked_ensMean_basinAvg_YrAvg_Arkansas.shape)\n"
   ]
  },
  {
   "cell_type": "markdown",
   "metadata": {},
   "source": [
    "## Ohio"
   ]
  },
  {
   "cell_type": "code",
   "execution_count": 86,
   "metadata": {},
   "outputs": [
    {
     "name": "stdout",
     "output_type": "stream",
     "text": [
      "(30,)\n",
      "(30,)\n",
      "(30,)\n",
      "(26,)\n"
     ]
    }
   ],
   "source": [
    "param_refPeriod_masked_ensMean_basinAvg_YrAvg_Ohio = param_masked_ensMean_basinAvg_YrAvg_Ohio[refPeriodStepSt:refPeriodStepEnd]\n",
    "print(param_refPeriod_masked_ensMean_basinAvg_YrAvg_Ohio.shape)\n",
    "\n",
    "param_eraOne_masked_ensMean_basinAvg_YrAvg_Ohio = param_masked_ensMean_basinAvg_YrAvg_Ohio[scenEraOneStepSt:scenEraOneStepEnd]\n",
    "print(param_eraOne_masked_ensMean_basinAvg_YrAvg_Ohio.shape)\n",
    "\n",
    "param_eraTwo_masked_ensMean_basinAvg_YrAvg_Ohio = param_masked_ensMean_basinAvg_YrAvg_Ohio[scenEraTwoStepSt:scenEraTwoStepEnd]\n",
    "print(param_eraTwo_masked_ensMean_basinAvg_YrAvg_Ohio.shape)\n",
    "\n",
    "param_eraThree_masked_ensMean_basinAvg_YrAvg_Ohio = param_masked_ensMean_basinAvg_YrAvg_Ohio[scenEraThreeStepSt:scenEraThreeStepEnd]\n",
    "print(param_eraThree_masked_ensMean_basinAvg_YrAvg_Ohio.shape)\n"
   ]
  },
  {
   "cell_type": "markdown",
   "metadata": {},
   "source": [
    "## Lower Mississippir"
   ]
  },
  {
   "cell_type": "code",
   "execution_count": 87,
   "metadata": {},
   "outputs": [
    {
     "name": "stdout",
     "output_type": "stream",
     "text": [
      "(30,)\n",
      "(30,)\n",
      "(30,)\n",
      "(26,)\n"
     ]
    }
   ],
   "source": [
    "param_refPeriod_masked_ensMean_basinAvg_YrAvg_lowMissi = param_masked_ensMean_basinAvg_YrAvg_lowMissi[refPeriodStepSt:refPeriodStepEnd]\n",
    "print(param_refPeriod_masked_ensMean_basinAvg_YrAvg_lowMissi.shape)\n",
    "\n",
    "param_eraOne_masked_ensMean_basinAvg_YrAvg_lowMissi = param_masked_ensMean_basinAvg_YrAvg_lowMissi[scenEraOneStepSt:scenEraOneStepEnd]\n",
    "print(param_eraOne_masked_ensMean_basinAvg_YrAvg_lowMissi.shape)\n",
    "\n",
    "param_eraTwo_masked_ensMean_basinAvg_YrAvg_lowMissi = param_masked_ensMean_basinAvg_YrAvg_lowMissi[scenEraTwoStepSt:scenEraTwoStepEnd]\n",
    "print(param_eraTwo_masked_ensMean_basinAvg_YrAvg_lowMissi.shape)\n",
    "\n",
    "param_eraThree_masked_ensMean_basinAvg_YrAvg_lowMissi = param_masked_ensMean_basinAvg_YrAvg_lowMissi[scenEraThreeStepSt:scenEraThreeStepEnd]\n",
    "print(param_eraThree_masked_ensMean_basinAvg_YrAvg_lowMissi.shape)\n"
   ]
  },
  {
   "cell_type": "code",
   "execution_count": null,
   "metadata": {},
   "outputs": [],
   "source": []
  },
  {
   "cell_type": "code",
   "execution_count": null,
   "metadata": {},
   "outputs": [],
   "source": []
  },
  {
   "cell_type": "markdown",
   "metadata": {},
   "source": [
    "## Find the mean and standard deviation of the reference period values"
   ]
  },
  {
   "cell_type": "code",
   "execution_count": 88,
   "metadata": {},
   "outputs": [
    {
     "name": "stdout",
     "output_type": "stream",
     "text": [
      "60.35717738765144\n",
      "40.8268303360165\n",
      "54.98674861557566\n",
      "105.58350630997846\n",
      "97.2235849051885\n"
     ]
    }
   ],
   "source": [
    "param_refPeriodMean_masked_ensMean_basinAvg_YrAvg_Missi = np.nanmean(param_refPeriod_masked_ensMean_basinAvg_YrAvg_Missi)\n",
    "print(param_refPeriodMean_masked_ensMean_basinAvg_YrAvg_Missi)\n",
    "\n",
    "param_refPeriodMean_masked_ensMean_basinAvg_YrAvg_Missouri = np.nanmean(param_refPeriod_masked_ensMean_basinAvg_YrAvg_Missouri)\n",
    "print(param_refPeriodMean_masked_ensMean_basinAvg_YrAvg_Missouri)\n",
    "\n",
    "param_refPeriodMean_masked_ensMean_basinAvg_YrAvg_Arkansas = np.nanmean(param_refPeriod_masked_ensMean_basinAvg_YrAvg_Arkansas)\n",
    "print(param_refPeriodMean_masked_ensMean_basinAvg_YrAvg_Arkansas)\n",
    "\n",
    "param_refPeriodMean_masked_ensMean_basinAvg_YrAvg_Ohio = np.nanmean(param_refPeriod_masked_ensMean_basinAvg_YrAvg_Ohio)\n",
    "print(param_refPeriodMean_masked_ensMean_basinAvg_YrAvg_Ohio)\n",
    "\n",
    "param_refPeriodMean_masked_ensMean_basinAvg_YrAvg_lowMissi = np.nanmean(param_refPeriod_masked_ensMean_basinAvg_YrAvg_lowMissi)\n",
    "print(param_refPeriodMean_masked_ensMean_basinAvg_YrAvg_lowMissi)"
   ]
  },
  {
   "cell_type": "code",
   "execution_count": null,
   "metadata": {},
   "outputs": [],
   "source": []
  },
  {
   "cell_type": "code",
   "execution_count": 89,
   "metadata": {},
   "outputs": [
    {
     "name": "stdout",
     "output_type": "stream",
     "text": [
      "0.7721089659574901\n",
      "0.5712519734995797\n",
      "1.249337403227635\n",
      "1.9916777317217507\n",
      "1.8050781413220958\n"
     ]
    }
   ],
   "source": [
    "param_refPeriodStd_masked_ensMean_basinAvg_YrAvg_Missi = np.nanstd(param_refPeriod_masked_ensMean_basinAvg_YrAvg_Missi)\n",
    "print(param_refPeriodStd_masked_ensMean_basinAvg_YrAvg_Missi)\n",
    "\n",
    "param_refPeriodStd_masked_ensMean_basinAvg_YrAvg_Missouri = np.nanstd(param_refPeriod_masked_ensMean_basinAvg_YrAvg_Missouri)\n",
    "print(param_refPeriodStd_masked_ensMean_basinAvg_YrAvg_Missouri)\n",
    "\n",
    "param_refPeriodStd_masked_ensMean_basinAvg_YrAvg_Arkansas = np.nanstd(param_refPeriod_masked_ensMean_basinAvg_YrAvg_Arkansas)\n",
    "print(param_refPeriodStd_masked_ensMean_basinAvg_YrAvg_Arkansas)\n",
    "\n",
    "param_refPeriodStd_masked_ensMean_basinAvg_YrAvg_Ohio = np.nanstd(param_refPeriod_masked_ensMean_basinAvg_YrAvg_Ohio)\n",
    "print(param_refPeriodStd_masked_ensMean_basinAvg_YrAvg_Ohio)\n",
    "\n",
    "param_refPeriodStd_masked_ensMean_basinAvg_YrAvg_lowMissi = np.nanstd(param_refPeriod_masked_ensMean_basinAvg_YrAvg_lowMissi)\n",
    "print(param_refPeriodStd_masked_ensMean_basinAvg_YrAvg_lowMissi)\n"
   ]
  },
  {
   "cell_type": "code",
   "execution_count": null,
   "metadata": {},
   "outputs": [],
   "source": []
  },
  {
   "cell_type": "markdown",
   "metadata": {},
   "source": [
    "## Find Anomalies"
   ]
  },
  {
   "cell_type": "code",
   "execution_count": 90,
   "metadata": {},
   "outputs": [
    {
     "name": "stdout",
     "output_type": "stream",
     "text": [
      "(171,)\n",
      "(171,)\n",
      "(171,)\n",
      "(171,)\n",
      "(171,)\n"
     ]
    }
   ],
   "source": [
    "print(param_masked_ensMean_basinAvg_YrAvg_Missi.shape)\n",
    "print(param_masked_ensMean_basinAvg_YrAvg_Missouri.shape)\n",
    "print(param_masked_ensMean_basinAvg_YrAvg_Arkansas.shape)\n",
    "print(param_masked_ensMean_basinAvg_YrAvg_Ohio.shape)\n",
    "print(param_masked_ensMean_basinAvg_YrAvg_lowMissi.shape)\n"
   ]
  },
  {
   "cell_type": "code",
   "execution_count": null,
   "metadata": {},
   "outputs": [],
   "source": []
  },
  {
   "cell_type": "code",
   "execution_count": null,
   "metadata": {},
   "outputs": [],
   "source": []
  },
  {
   "cell_type": "code",
   "execution_count": 91,
   "metadata": {},
   "outputs": [
    {
     "name": "stdout",
     "output_type": "stream",
     "text": [
      "(171,)\n",
      "(171,)\n",
      "(171,)\n",
      "(171,)\n",
      "(171,)\n"
     ]
    }
   ],
   "source": [
    "param_masked_ensMean_basinAvg_YrAvgAnom_Missi = (param_masked_ensMean_basinAvg_YrAvg_Missi - param_refPeriodMean_masked_ensMean_basinAvg_YrAvg_Missi)\n",
    "print(param_masked_ensMean_basinAvg_YrAvgAnom_Missi.shape)\n",
    "\n",
    "param_masked_ensMean_basinAvg_YrAvgAnom_Missouri = (param_masked_ensMean_basinAvg_YrAvg_Missouri - param_refPeriodMean_masked_ensMean_basinAvg_YrAvg_Missouri)\n",
    "print(param_masked_ensMean_basinAvg_YrAvgAnom_Missouri.shape)\n",
    "\n",
    "param_masked_ensMean_basinAvg_YrAvgAnom_Arkansas = (param_masked_ensMean_basinAvg_YrAvg_Arkansas - param_refPeriodMean_masked_ensMean_basinAvg_YrAvg_Arkansas)\n",
    "print(param_masked_ensMean_basinAvg_YrAvgAnom_Arkansas.shape)\n",
    "\n",
    "param_masked_ensMean_basinAvg_YrAvgAnom_Ohio = (param_masked_ensMean_basinAvg_YrAvg_Ohio - param_refPeriodMean_masked_ensMean_basinAvg_YrAvg_Ohio)\n",
    "print(param_masked_ensMean_basinAvg_YrAvgAnom_Ohio.shape)\n",
    "\n",
    "param_masked_ensMean_basinAvg_YrAvgAnom_lowMissi = (param_masked_ensMean_basinAvg_YrAvg_lowMissi - param_refPeriodMean_masked_ensMean_basinAvg_YrAvg_lowMissi)\n",
    "print(param_masked_ensMean_basinAvg_YrAvgAnom_lowMissi.shape)\n"
   ]
  },
  {
   "cell_type": "code",
   "execution_count": null,
   "metadata": {},
   "outputs": [],
   "source": []
  },
  {
   "cell_type": "code",
   "execution_count": null,
   "metadata": {},
   "outputs": [],
   "source": []
  },
  {
   "cell_type": "code",
   "execution_count": null,
   "metadata": {},
   "outputs": [],
   "source": []
  },
  {
   "cell_type": "code",
   "execution_count": null,
   "metadata": {},
   "outputs": [],
   "source": []
  },
  {
   "cell_type": "code",
   "execution_count": null,
   "metadata": {},
   "outputs": [],
   "source": []
  },
  {
   "cell_type": "code",
   "execution_count": null,
   "metadata": {},
   "outputs": [],
   "source": []
  },
  {
   "cell_type": "code",
   "execution_count": null,
   "metadata": {},
   "outputs": [],
   "source": []
  },
  {
   "cell_type": "code",
   "execution_count": null,
   "metadata": {},
   "outputs": [],
   "source": []
  },
  {
   "cell_type": "code",
   "execution_count": null,
   "metadata": {},
   "outputs": [],
   "source": []
  },
  {
   "cell_type": "code",
   "execution_count": null,
   "metadata": {},
   "outputs": [],
   "source": []
  },
  {
   "cell_type": "code",
   "execution_count": null,
   "metadata": {},
   "outputs": [],
   "source": []
  },
  {
   "cell_type": "code",
   "execution_count": null,
   "metadata": {},
   "outputs": [],
   "source": []
  },
  {
   "cell_type": "code",
   "execution_count": null,
   "metadata": {},
   "outputs": [],
   "source": []
  },
  {
   "cell_type": "code",
   "execution_count": null,
   "metadata": {},
   "outputs": [],
   "source": []
  },
  {
   "cell_type": "code",
   "execution_count": null,
   "metadata": {},
   "outputs": [],
   "source": []
  },
  {
   "cell_type": "markdown",
   "metadata": {},
   "source": [
    "## Mississippi"
   ]
  },
  {
   "cell_type": "code",
   "execution_count": 92,
   "metadata": {},
   "outputs": [
    {
     "name": "stdout",
     "output_type": "stream",
     "text": [
      "(30,)\n",
      "(30,)\n",
      "(26,)\n"
     ]
    }
   ],
   "source": [
    "param_masked_ensMean_basinAvg_YrAvgAnom_eraOne_Missi = param_masked_ensMean_basinAvg_YrAvgAnom_Missi[scenEraOneStepSt:scenEraOneStepEnd]\n",
    "print(param_masked_ensMean_basinAvg_YrAvgAnom_eraOne_Missi.shape)\n",
    "\n",
    "param_masked_ensMean_basinAvg_YrAvgAnom_eraTwo_Missi = param_masked_ensMean_basinAvg_YrAvgAnom_Missi[scenEraTwoStepSt:scenEraTwoStepEnd]\n",
    "print(param_masked_ensMean_basinAvg_YrAvgAnom_eraTwo_Missi.shape)\n",
    "\n",
    "param_masked_ensMean_basinAvg_YrAvgAnom_eraThree_Missi = param_masked_ensMean_basinAvg_YrAvgAnom_Missi[scenEraThreeStepSt:scenEraThreeStepEnd]\n",
    "print(param_masked_ensMean_basinAvg_YrAvgAnom_eraThree_Missi.shape)\n"
   ]
  },
  {
   "cell_type": "markdown",
   "metadata": {},
   "source": [
    "## Missouri"
   ]
  },
  {
   "cell_type": "code",
   "execution_count": 93,
   "metadata": {},
   "outputs": [
    {
     "name": "stdout",
     "output_type": "stream",
     "text": [
      "(30,)\n",
      "(30,)\n",
      "(26,)\n"
     ]
    }
   ],
   "source": [
    "param_masked_ensMean_basinAvg_YrAvgAnom_eraOne_Missouri = param_masked_ensMean_basinAvg_YrAvgAnom_Missouri[scenEraOneStepSt:scenEraOneStepEnd]\n",
    "print(param_masked_ensMean_basinAvg_YrAvgAnom_eraOne_Missouri.shape)\n",
    "\n",
    "param_masked_ensMean_basinAvg_YrAvgAnom_eraTwo_Missouri = param_masked_ensMean_basinAvg_YrAvgAnom_Missouri[scenEraTwoStepSt:scenEraTwoStepEnd]\n",
    "print(param_masked_ensMean_basinAvg_YrAvgAnom_eraTwo_Missouri.shape)\n",
    "\n",
    "param_masked_ensMean_basinAvg_YrAvgAnom_eraThree_Missouri = param_masked_ensMean_basinAvg_YrAvgAnom_Missouri[scenEraThreeStepSt:scenEraThreeStepEnd]\n",
    "print(param_masked_ensMean_basinAvg_YrAvgAnom_eraThree_Missouri.shape)\n"
   ]
  },
  {
   "cell_type": "markdown",
   "metadata": {},
   "source": [
    "## Arkansas"
   ]
  },
  {
   "cell_type": "code",
   "execution_count": 94,
   "metadata": {},
   "outputs": [
    {
     "name": "stdout",
     "output_type": "stream",
     "text": [
      "(30,)\n",
      "(30,)\n",
      "(26,)\n"
     ]
    }
   ],
   "source": [
    "param_masked_ensMean_basinAvg_YrAvgAnom_eraOne_Arkansas = param_masked_ensMean_basinAvg_YrAvgAnom_Arkansas[scenEraOneStepSt:scenEraOneStepEnd]\n",
    "print(param_masked_ensMean_basinAvg_YrAvgAnom_eraOne_Arkansas.shape)\n",
    "\n",
    "param_masked_ensMean_basinAvg_YrAvgAnom_eraTwo_Arkansas = param_masked_ensMean_basinAvg_YrAvgAnom_Arkansas[scenEraTwoStepSt:scenEraTwoStepEnd]\n",
    "print(param_masked_ensMean_basinAvg_YrAvgAnom_eraTwo_Arkansas.shape)\n",
    "\n",
    "param_masked_ensMean_basinAvg_YrAvgAnom_eraThree_Arkansas = param_masked_ensMean_basinAvg_YrAvgAnom_Arkansas[scenEraThreeStepSt:scenEraThreeStepEnd]\n",
    "print(param_masked_ensMean_basinAvg_YrAvgAnom_eraThree_Arkansas.shape)\n"
   ]
  },
  {
   "cell_type": "markdown",
   "metadata": {},
   "source": [
    "## Ohio"
   ]
  },
  {
   "cell_type": "code",
   "execution_count": 95,
   "metadata": {},
   "outputs": [
    {
     "name": "stdout",
     "output_type": "stream",
     "text": [
      "(30,)\n",
      "(30,)\n",
      "(26,)\n"
     ]
    }
   ],
   "source": [
    "param_masked_ensMean_basinAvg_YrAvgAnom_eraOne_Ohio = param_masked_ensMean_basinAvg_YrAvgAnom_Ohio[scenEraOneStepSt:scenEraOneStepEnd]\n",
    "print(param_masked_ensMean_basinAvg_YrAvgAnom_eraOne_Ohio.shape)\n",
    "\n",
    "param_masked_ensMean_basinAvg_YrAvgAnom_eraTwo_Ohio = param_masked_ensMean_basinAvg_YrAvgAnom_Ohio[scenEraTwoStepSt:scenEraTwoStepEnd]\n",
    "print(param_masked_ensMean_basinAvg_YrAvgAnom_eraTwo_Ohio.shape)\n",
    "\n",
    "param_masked_ensMean_basinAvg_YrAvgAnom_eraThree_Ohio = param_masked_ensMean_basinAvg_YrAvgAnom_Ohio[scenEraThreeStepSt:scenEraThreeStepEnd]\n",
    "print(param_masked_ensMean_basinAvg_YrAvgAnom_eraThree_Ohio.shape)\n"
   ]
  },
  {
   "cell_type": "markdown",
   "metadata": {},
   "source": [
    "## Lower Mississippi"
   ]
  },
  {
   "cell_type": "code",
   "execution_count": 96,
   "metadata": {},
   "outputs": [
    {
     "name": "stdout",
     "output_type": "stream",
     "text": [
      "(30,)\n",
      "(30,)\n",
      "(26,)\n"
     ]
    }
   ],
   "source": [
    "param_masked_ensMean_basinAvg_YrAvgAnom_eraOne_lowMissi = param_masked_ensMean_basinAvg_YrAvgAnom_lowMissi[scenEraOneStepSt:scenEraOneStepEnd]\n",
    "print(param_masked_ensMean_basinAvg_YrAvgAnom_eraOne_lowMissi.shape)\n",
    "\n",
    "param_masked_ensMean_basinAvg_YrAvgAnom_eraTwo_lowMissi = param_masked_ensMean_basinAvg_YrAvgAnom_lowMissi[scenEraTwoStepSt:scenEraTwoStepEnd]\n",
    "print(param_masked_ensMean_basinAvg_YrAvgAnom_eraTwo_lowMissi.shape)\n",
    "\n",
    "param_masked_ensMean_basinAvg_YrAvgAnom_eraThree_lowMissi = param_masked_ensMean_basinAvg_YrAvgAnom_lowMissi[scenEraThreeStepSt:scenEraThreeStepEnd]\n",
    "print(param_masked_ensMean_basinAvg_YrAvgAnom_eraThree_lowMissi.shape)\n"
   ]
  },
  {
   "cell_type": "code",
   "execution_count": null,
   "metadata": {},
   "outputs": [],
   "source": []
  },
  {
   "cell_type": "markdown",
   "metadata": {},
   "source": [
    "## Z-score"
   ]
  },
  {
   "cell_type": "code",
   "execution_count": 97,
   "metadata": {},
   "outputs": [
    {
     "name": "stdout",
     "output_type": "stream",
     "text": [
      "(171,)\n",
      "(171,)\n",
      "(171,)\n",
      "(171,)\n",
      "(171,)\n"
     ]
    }
   ],
   "source": [
    "param_masked_ensMean_basinAvg_YrAvgAnomScore_Missi = (param_masked_ensMean_basinAvg_YrAvg_Missi - param_refPeriodMean_masked_ensMean_basinAvg_YrAvg_Missi)/param_refPeriodMean_masked_ensMean_basinAvg_YrAvg_Missi\n",
    "print(param_masked_ensMean_basinAvg_YrAvgAnomScore_Missi.shape)\n",
    "\n",
    "param_masked_ensMean_basinAvg_YrAvgAnomScore_Missouri = (param_masked_ensMean_basinAvg_YrAvg_Missouri - param_refPeriodMean_masked_ensMean_basinAvg_YrAvg_Missouri)/param_refPeriodMean_masked_ensMean_basinAvg_YrAvg_Missouri\n",
    "print(param_masked_ensMean_basinAvg_YrAvgAnomScore_Missouri.shape)\n",
    "\n",
    "param_masked_ensMean_basinAvg_YrAvgAnomScore_Arkansas = (param_masked_ensMean_basinAvg_YrAvg_Arkansas - param_refPeriodMean_masked_ensMean_basinAvg_YrAvg_Arkansas)/param_refPeriodMean_masked_ensMean_basinAvg_YrAvg_Arkansas\n",
    "print(param_masked_ensMean_basinAvg_YrAvgAnomScore_Arkansas.shape)\n",
    "\n",
    "param_masked_ensMean_basinAvg_YrAvgAnomScore_Ohio = (param_masked_ensMean_basinAvg_YrAvg_Ohio - param_refPeriodMean_masked_ensMean_basinAvg_YrAvg_Ohio)/param_refPeriodMean_masked_ensMean_basinAvg_YrAvg_Ohio\n",
    "print(param_masked_ensMean_basinAvg_YrAvgAnomScore_Ohio.shape)\n",
    "\n",
    "param_masked_ensMean_basinAvg_YrAvgAnomScore_lowMissi = (param_masked_ensMean_basinAvg_YrAvg_lowMissi - param_refPeriodMean_masked_ensMean_basinAvg_YrAvg_lowMissi)/param_refPeriodMean_masked_ensMean_basinAvg_YrAvg_lowMissi\n",
    "print(param_masked_ensMean_basinAvg_YrAvgAnomScore_lowMissi.shape)\n"
   ]
  },
  {
   "cell_type": "code",
   "execution_count": null,
   "metadata": {},
   "outputs": [],
   "source": []
  },
  {
   "cell_type": "code",
   "execution_count": null,
   "metadata": {},
   "outputs": [],
   "source": []
  },
  {
   "cell_type": "code",
   "execution_count": null,
   "metadata": {},
   "outputs": [],
   "source": []
  },
  {
   "cell_type": "code",
   "execution_count": null,
   "metadata": {},
   "outputs": [],
   "source": []
  },
  {
   "cell_type": "code",
   "execution_count": 98,
   "metadata": {},
   "outputs": [
    {
     "data": {
      "text/html": [
       "<div>\n",
       "<style scoped>\n",
       "    .dataframe tbody tr th:only-of-type {\n",
       "        vertical-align: middle;\n",
       "    }\n",
       "\n",
       "    .dataframe tbody tr th {\n",
       "        vertical-align: top;\n",
       "    }\n",
       "\n",
       "    .dataframe thead th {\n",
       "        text-align: right;\n",
       "    }\n",
       "</style>\n",
       "<table border=\"1\" class=\"dataframe\">\n",
       "  <thead>\n",
       "    <tr style=\"text-align: right;\">\n",
       "      <th></th>\n",
       "      <th>t1</th>\n",
       "    </tr>\n",
       "  </thead>\n",
       "  <tbody>\n",
       "    <tr>\n",
       "      <th>0</th>\n",
       "      <td>1930-01-01</td>\n",
       "    </tr>\n",
       "    <tr>\n",
       "      <th>1</th>\n",
       "      <td>1931-01-01</td>\n",
       "    </tr>\n",
       "    <tr>\n",
       "      <th>2</th>\n",
       "      <td>1932-01-01</td>\n",
       "    </tr>\n",
       "    <tr>\n",
       "      <th>3</th>\n",
       "      <td>1933-01-01</td>\n",
       "    </tr>\n",
       "    <tr>\n",
       "      <th>4</th>\n",
       "      <td>1934-01-01</td>\n",
       "    </tr>\n",
       "    <tr>\n",
       "      <th>...</th>\n",
       "      <td>...</td>\n",
       "    </tr>\n",
       "    <tr>\n",
       "      <th>166</th>\n",
       "      <td>2096-01-01</td>\n",
       "    </tr>\n",
       "    <tr>\n",
       "      <th>167</th>\n",
       "      <td>2097-01-01</td>\n",
       "    </tr>\n",
       "    <tr>\n",
       "      <th>168</th>\n",
       "      <td>2098-01-01</td>\n",
       "    </tr>\n",
       "    <tr>\n",
       "      <th>169</th>\n",
       "      <td>2099-01-01</td>\n",
       "    </tr>\n",
       "    <tr>\n",
       "      <th>170</th>\n",
       "      <td>2100-01-01</td>\n",
       "    </tr>\n",
       "  </tbody>\n",
       "</table>\n",
       "<p>171 rows × 1 columns</p>\n",
       "</div>"
      ],
      "text/plain": [
       "            t1\n",
       "0   1930-01-01\n",
       "1   1931-01-01\n",
       "2   1932-01-01\n",
       "3   1933-01-01\n",
       "4   1934-01-01\n",
       "..         ...\n",
       "166 2096-01-01\n",
       "167 2097-01-01\n",
       "168 2098-01-01\n",
       "169 2099-01-01\n",
       "170 2100-01-01\n",
       "\n",
       "[171 rows x 1 columns]"
      ]
     },
     "execution_count": 98,
     "metadata": {},
     "output_type": "execute_result"
    }
   ],
   "source": [
    "yrSt = 1930\n",
    "yrEnd = 2100\n",
    "\n",
    "\n",
    "timeList = []\n",
    "for yr in range(yrSt, yrEnd+1):   \n",
    "    \n",
    "    yMD = datetime.datetime(yr,1,1)    \n",
    "    timeList.append(yMD)\n",
    "                   \n",
    "                        \n",
    "timeListDf = pd.DataFrame(timeList)\n",
    "\n",
    "timeListDf.columns = ['t1']\n",
    "timeListDf\n"
   ]
  },
  {
   "cell_type": "code",
   "execution_count": 99,
   "metadata": {},
   "outputs": [
    {
     "data": {
      "text/plain": [
       "Int64Index([0, 10, 20, 30, 40, 50, 60, 70, 80, 90, 100, 110, 120, 130, 140,\n",
       "            150, 160, 170],\n",
       "           dtype='int64')"
      ]
     },
     "execution_count": 99,
     "metadata": {},
     "output_type": "execute_result"
    }
   ],
   "source": [
    "yMD = timeListDf['t1'].dt.strftime('%Y').sort_values()\n",
    "\n",
    "multiple = 10\n",
    "\n",
    "multiple = np.ceil(multiple)\n",
    "timeTickLebels = yMD[yMD.index % multiple == 0]\n",
    "timeTicks = yMD.index[yMD.index % multiple == 0]\n",
    "timeTicks\n"
   ]
  },
  {
   "cell_type": "code",
   "execution_count": 100,
   "metadata": {},
   "outputs": [
    {
     "name": "stdout",
     "output_type": "stream",
     "text": [
      "(18,)\n"
     ]
    }
   ],
   "source": [
    "print(timeTicks.shape)"
   ]
  },
  {
   "cell_type": "code",
   "execution_count": 101,
   "metadata": {},
   "outputs": [
    {
     "data": {
      "text/plain": [
       "0      1930\n",
       "10     1940\n",
       "20     1950\n",
       "30     1960\n",
       "40     1970\n",
       "50     1980\n",
       "60     1990\n",
       "70     2000\n",
       "80     2010\n",
       "90     2020\n",
       "100    2030\n",
       "110    2040\n",
       "120    2050\n",
       "130    2060\n",
       "140    2070\n",
       "150    2080\n",
       "160    2090\n",
       "170    2100\n",
       "Name: t1, dtype: object"
      ]
     },
     "execution_count": 101,
     "metadata": {},
     "output_type": "execute_result"
    }
   ],
   "source": [
    "timeTickLebels"
   ]
  },
  {
   "cell_type": "code",
   "execution_count": null,
   "metadata": {},
   "outputs": [],
   "source": []
  },
  {
   "cell_type": "code",
   "execution_count": null,
   "metadata": {},
   "outputs": [],
   "source": []
  },
  {
   "cell_type": "code",
   "execution_count": 102,
   "metadata": {},
   "outputs": [
    {
     "name": "stdout",
     "output_type": "stream",
     "text": [
      "8.702043921692997\n",
      "0.14417579314226447\n"
     ]
    }
   ],
   "source": [
    "maxVal_Missi = np.nanmax(param_masked_ensMean_basinAvg_YrAvgAnom_Missi)\n",
    "print(maxVal_Missi)\n",
    "\n",
    "maxVal_Score_Missi = np.nanmax(param_masked_ensMean_basinAvg_YrAvgAnomScore_Missi)\n",
    "print(maxVal_Score_Missi)"
   ]
  },
  {
   "cell_type": "code",
   "execution_count": null,
   "metadata": {},
   "outputs": [],
   "source": []
  },
  {
   "cell_type": "code",
   "execution_count": null,
   "metadata": {},
   "outputs": [],
   "source": []
  },
  {
   "cell_type": "code",
   "execution_count": null,
   "metadata": {},
   "outputs": [],
   "source": []
  },
  {
   "cell_type": "code",
   "execution_count": null,
   "metadata": {},
   "outputs": [],
   "source": []
  },
  {
   "cell_type": "markdown",
   "metadata": {},
   "source": [
    "## Forming a dataframe for the box plot"
   ]
  },
  {
   "cell_type": "markdown",
   "metadata": {},
   "source": [
    "### Era 1"
   ]
  },
  {
   "cell_type": "code",
   "execution_count": 103,
   "metadata": {},
   "outputs": [
    {
     "name": "stdout",
     "output_type": "stream",
     "text": [
      "(30,)\n",
      "(30,)\n",
      "(30,)\n",
      "(30,)\n",
      "(30,)\n"
     ]
    }
   ],
   "source": [
    "print(param_masked_ensMean_basinAvg_YrAvgAnom_eraOne_Missi.shape)\n",
    "print(param_masked_ensMean_basinAvg_YrAvgAnom_eraOne_Missouri.shape)\n",
    "print(param_masked_ensMean_basinAvg_YrAvgAnom_eraOne_Arkansas.shape)\n",
    "print(param_masked_ensMean_basinAvg_YrAvgAnom_eraOne_Ohio.shape)\n",
    "print(param_masked_ensMean_basinAvg_YrAvgAnom_eraOne_lowMissi.shape)\n"
   ]
  },
  {
   "cell_type": "markdown",
   "metadata": {},
   "source": [
    "### Era 2"
   ]
  },
  {
   "cell_type": "code",
   "execution_count": 104,
   "metadata": {},
   "outputs": [
    {
     "name": "stdout",
     "output_type": "stream",
     "text": [
      "(30,)\n",
      "(30,)\n",
      "(30,)\n",
      "(30,)\n",
      "(30,)\n"
     ]
    }
   ],
   "source": [
    "print(param_masked_ensMean_basinAvg_YrAvgAnom_eraTwo_Missi.shape)\n",
    "print(param_masked_ensMean_basinAvg_YrAvgAnom_eraTwo_Missouri.shape)\n",
    "print(param_masked_ensMean_basinAvg_YrAvgAnom_eraTwo_Arkansas.shape)\n",
    "print(param_masked_ensMean_basinAvg_YrAvgAnom_eraTwo_Ohio.shape)\n",
    "print(param_masked_ensMean_basinAvg_YrAvgAnom_eraTwo_lowMissi.shape)\n"
   ]
  },
  {
   "cell_type": "markdown",
   "metadata": {},
   "source": [
    "### Era 3"
   ]
  },
  {
   "cell_type": "code",
   "execution_count": 105,
   "metadata": {},
   "outputs": [
    {
     "name": "stdout",
     "output_type": "stream",
     "text": [
      "(26,)\n",
      "(26,)\n",
      "(26,)\n",
      "(26,)\n",
      "(26,)\n"
     ]
    }
   ],
   "source": [
    "print(param_masked_ensMean_basinAvg_YrAvgAnom_eraThree_Missi.shape)\n",
    "print(param_masked_ensMean_basinAvg_YrAvgAnom_eraThree_Missouri.shape)\n",
    "print(param_masked_ensMean_basinAvg_YrAvgAnom_eraThree_Arkansas.shape)\n",
    "print(param_masked_ensMean_basinAvg_YrAvgAnom_eraThree_Ohio.shape)\n",
    "print(param_masked_ensMean_basinAvg_YrAvgAnom_eraThree_lowMissi.shape)\n"
   ]
  },
  {
   "cell_type": "code",
   "execution_count": 106,
   "metadata": {},
   "outputs": [
    {
     "name": "stdout",
     "output_type": "stream",
     "text": [
      "(30, 5)\n"
     ]
    },
    {
     "data": {
      "text/html": [
       "<div>\n",
       "<style scoped>\n",
       "    .dataframe tbody tr th:only-of-type {\n",
       "        vertical-align: middle;\n",
       "    }\n",
       "\n",
       "    .dataframe tbody tr th {\n",
       "        vertical-align: top;\n",
       "    }\n",
       "\n",
       "    .dataframe thead th {\n",
       "        text-align: right;\n",
       "    }\n",
       "</style>\n",
       "<table border=\"1\" class=\"dataframe\">\n",
       "  <thead>\n",
       "    <tr style=\"text-align: right;\">\n",
       "      <th></th>\n",
       "      <th>Missouri</th>\n",
       "      <th>Arkansas</th>\n",
       "      <th>Ohio</th>\n",
       "      <th>Lower_Mississippi</th>\n",
       "      <th>Years</th>\n",
       "    </tr>\n",
       "  </thead>\n",
       "  <tbody>\n",
       "    <tr>\n",
       "      <th>0</th>\n",
       "      <td>-0.571346</td>\n",
       "      <td>-0.901248</td>\n",
       "      <td>2.045515</td>\n",
       "      <td>-0.468075</td>\n",
       "      <td>2015-2044</td>\n",
       "    </tr>\n",
       "    <tr>\n",
       "      <th>1</th>\n",
       "      <td>0.905413</td>\n",
       "      <td>-0.512556</td>\n",
       "      <td>5.125518</td>\n",
       "      <td>2.425993</td>\n",
       "      <td>2015-2044</td>\n",
       "    </tr>\n",
       "    <tr>\n",
       "      <th>2</th>\n",
       "      <td>1.285261</td>\n",
       "      <td>0.868096</td>\n",
       "      <td>5.476731</td>\n",
       "      <td>4.926778</td>\n",
       "      <td>2015-2044</td>\n",
       "    </tr>\n",
       "    <tr>\n",
       "      <th>3</th>\n",
       "      <td>0.110538</td>\n",
       "      <td>-0.263248</td>\n",
       "      <td>0.428379</td>\n",
       "      <td>-1.904018</td>\n",
       "      <td>2015-2044</td>\n",
       "    </tr>\n",
       "    <tr>\n",
       "      <th>4</th>\n",
       "      <td>0.924169</td>\n",
       "      <td>1.584207</td>\n",
       "      <td>3.910825</td>\n",
       "      <td>5.514933</td>\n",
       "      <td>2015-2044</td>\n",
       "    </tr>\n",
       "  </tbody>\n",
       "</table>\n",
       "</div>"
      ],
      "text/plain": [
       "   Missouri  Arkansas      Ohio  Lower_Mississippi      Years\n",
       "0 -0.571346 -0.901248  2.045515          -0.468075  2015-2044\n",
       "1  0.905413 -0.512556  5.125518           2.425993  2015-2044\n",
       "2  1.285261  0.868096  5.476731           4.926778  2015-2044\n",
       "3  0.110538 -0.263248  0.428379          -1.904018  2015-2044\n",
       "4  0.924169  1.584207  3.910825           5.514933  2015-2044"
      ]
     },
     "execution_count": 106,
     "metadata": {},
     "output_type": "execute_result"
    }
   ],
   "source": [
    "dfBasinsPrecipEraOne=pd.DataFrame(np.zeros((nYrsEraOne, nBasins)), columns=['Missouri','Arkansas','Ohio','Lower_Mississippi']).assign(Years='2015-2044')\n",
    "\n",
    "#dfBasinsPrecipEraOne.Mississippi = param_masked_ensMean_basinAvg_YrAvgAnom_eraOne_Missi\n",
    "dfBasinsPrecipEraOne.Missouri = param_masked_ensMean_basinAvg_YrAvgAnom_eraOne_Missouri\n",
    "dfBasinsPrecipEraOne.Arkansas = param_masked_ensMean_basinAvg_YrAvgAnom_eraOne_Arkansas\n",
    "dfBasinsPrecipEraOne.Ohio = param_masked_ensMean_basinAvg_YrAvgAnom_eraOne_Ohio\n",
    "dfBasinsPrecipEraOne.Lower_Mississippi = param_masked_ensMean_basinAvg_YrAvgAnom_eraOne_lowMissi\n",
    "print(dfBasinsPrecipEraOne.shape)\n",
    "dfBasinsPrecipEraOne.head()"
   ]
  },
  {
   "cell_type": "code",
   "execution_count": 107,
   "metadata": {},
   "outputs": [
    {
     "name": "stdout",
     "output_type": "stream",
     "text": [
      "(30, 5)\n"
     ]
    },
    {
     "data": {
      "text/html": [
       "<div>\n",
       "<style scoped>\n",
       "    .dataframe tbody tr th:only-of-type {\n",
       "        vertical-align: middle;\n",
       "    }\n",
       "\n",
       "    .dataframe tbody tr th {\n",
       "        vertical-align: top;\n",
       "    }\n",
       "\n",
       "    .dataframe thead th {\n",
       "        text-align: right;\n",
       "    }\n",
       "</style>\n",
       "<table border=\"1\" class=\"dataframe\">\n",
       "  <thead>\n",
       "    <tr style=\"text-align: right;\">\n",
       "      <th></th>\n",
       "      <th>Missouri</th>\n",
       "      <th>Arkansas</th>\n",
       "      <th>Ohio</th>\n",
       "      <th>Lower_Mississippi</th>\n",
       "      <th>Years</th>\n",
       "    </tr>\n",
       "  </thead>\n",
       "  <tbody>\n",
       "    <tr>\n",
       "      <th>0</th>\n",
       "      <td>1.897211</td>\n",
       "      <td>3.154913</td>\n",
       "      <td>3.586366</td>\n",
       "      <td>3.067834</td>\n",
       "      <td>2045-2074</td>\n",
       "    </tr>\n",
       "    <tr>\n",
       "      <th>1</th>\n",
       "      <td>1.835760</td>\n",
       "      <td>3.800062</td>\n",
       "      <td>9.026361</td>\n",
       "      <td>6.637232</td>\n",
       "      <td>2045-2074</td>\n",
       "    </tr>\n",
       "    <tr>\n",
       "      <th>2</th>\n",
       "      <td>1.878414</td>\n",
       "      <td>2.878515</td>\n",
       "      <td>7.837641</td>\n",
       "      <td>9.098925</td>\n",
       "      <td>2045-2074</td>\n",
       "    </tr>\n",
       "    <tr>\n",
       "      <th>3</th>\n",
       "      <td>1.743894</td>\n",
       "      <td>2.763541</td>\n",
       "      <td>5.860389</td>\n",
       "      <td>5.276115</td>\n",
       "      <td>2045-2074</td>\n",
       "    </tr>\n",
       "    <tr>\n",
       "      <th>4</th>\n",
       "      <td>0.914522</td>\n",
       "      <td>0.930832</td>\n",
       "      <td>5.056939</td>\n",
       "      <td>3.629261</td>\n",
       "      <td>2045-2074</td>\n",
       "    </tr>\n",
       "  </tbody>\n",
       "</table>\n",
       "</div>"
      ],
      "text/plain": [
       "   Missouri  Arkansas      Ohio  Lower_Mississippi      Years\n",
       "0  1.897211  3.154913  3.586366           3.067834  2045-2074\n",
       "1  1.835760  3.800062  9.026361           6.637232  2045-2074\n",
       "2  1.878414  2.878515  7.837641           9.098925  2045-2074\n",
       "3  1.743894  2.763541  5.860389           5.276115  2045-2074\n",
       "4  0.914522  0.930832  5.056939           3.629261  2045-2074"
      ]
     },
     "execution_count": 107,
     "metadata": {},
     "output_type": "execute_result"
    }
   ],
   "source": [
    "dfBasinsPrecipEraTwo=pd.DataFrame(np.zeros((nYrsEraTwo, nBasins)), columns=['Missouri','Arkansas','Ohio','Lower_Mississippi']).assign(Years='2045-2074')\n",
    "\n",
    "#dfBasinsPrecipEraTwo.Mississippi = param_masked_ensMean_basinAvg_YrAvgAnom_eraTwo_Missi\n",
    "dfBasinsPrecipEraTwo.Missouri = param_masked_ensMean_basinAvg_YrAvgAnom_eraTwo_Missouri\n",
    "dfBasinsPrecipEraTwo.Arkansas = param_masked_ensMean_basinAvg_YrAvgAnom_eraTwo_Arkansas\n",
    "dfBasinsPrecipEraTwo.Ohio = param_masked_ensMean_basinAvg_YrAvgAnom_eraTwo_Ohio\n",
    "dfBasinsPrecipEraTwo.Lower_Mississippi = param_masked_ensMean_basinAvg_YrAvgAnom_eraTwo_lowMissi\n",
    "print(dfBasinsPrecipEraTwo.shape)\n",
    "dfBasinsPrecipEraTwo.head()"
   ]
  },
  {
   "cell_type": "code",
   "execution_count": 108,
   "metadata": {},
   "outputs": [
    {
     "name": "stdout",
     "output_type": "stream",
     "text": [
      "(26, 5)\n"
     ]
    },
    {
     "data": {
      "text/html": [
       "<div>\n",
       "<style scoped>\n",
       "    .dataframe tbody tr th:only-of-type {\n",
       "        vertical-align: middle;\n",
       "    }\n",
       "\n",
       "    .dataframe tbody tr th {\n",
       "        vertical-align: top;\n",
       "    }\n",
       "\n",
       "    .dataframe thead th {\n",
       "        text-align: right;\n",
       "    }\n",
       "</style>\n",
       "<table border=\"1\" class=\"dataframe\">\n",
       "  <thead>\n",
       "    <tr style=\"text-align: right;\">\n",
       "      <th></th>\n",
       "      <th>Missouri</th>\n",
       "      <th>Arkansas</th>\n",
       "      <th>Ohio</th>\n",
       "      <th>Lower_Mississippi</th>\n",
       "      <th>Years</th>\n",
       "    </tr>\n",
       "  </thead>\n",
       "  <tbody>\n",
       "    <tr>\n",
       "      <th>0</th>\n",
       "      <td>4.239943</td>\n",
       "      <td>6.302409</td>\n",
       "      <td>10.891473</td>\n",
       "      <td>11.991797</td>\n",
       "      <td>2075-2100</td>\n",
       "    </tr>\n",
       "    <tr>\n",
       "      <th>1</th>\n",
       "      <td>2.354119</td>\n",
       "      <td>2.656600</td>\n",
       "      <td>7.997383</td>\n",
       "      <td>5.447938</td>\n",
       "      <td>2075-2100</td>\n",
       "    </tr>\n",
       "    <tr>\n",
       "      <th>2</th>\n",
       "      <td>3.481617</td>\n",
       "      <td>4.564967</td>\n",
       "      <td>10.523015</td>\n",
       "      <td>12.604458</td>\n",
       "      <td>2075-2100</td>\n",
       "    </tr>\n",
       "    <tr>\n",
       "      <th>3</th>\n",
       "      <td>3.658363</td>\n",
       "      <td>5.658112</td>\n",
       "      <td>13.419637</td>\n",
       "      <td>11.833486</td>\n",
       "      <td>2075-2100</td>\n",
       "    </tr>\n",
       "    <tr>\n",
       "      <th>4</th>\n",
       "      <td>4.484071</td>\n",
       "      <td>4.893991</td>\n",
       "      <td>9.272243</td>\n",
       "      <td>7.249615</td>\n",
       "      <td>2075-2100</td>\n",
       "    </tr>\n",
       "  </tbody>\n",
       "</table>\n",
       "</div>"
      ],
      "text/plain": [
       "   Missouri  Arkansas       Ohio  Lower_Mississippi      Years\n",
       "0  4.239943  6.302409  10.891473          11.991797  2075-2100\n",
       "1  2.354119  2.656600   7.997383           5.447938  2075-2100\n",
       "2  3.481617  4.564967  10.523015          12.604458  2075-2100\n",
       "3  3.658363  5.658112  13.419637          11.833486  2075-2100\n",
       "4  4.484071  4.893991   9.272243           7.249615  2075-2100"
      ]
     },
     "execution_count": 108,
     "metadata": {},
     "output_type": "execute_result"
    }
   ],
   "source": [
    "dfBasinsPrecipEraThree=pd.DataFrame(np.zeros((nYrsEraThree, nBasins)), columns=['Missouri','Arkansas','Ohio','Lower_Mississippi']).assign(Years='2075-2100')\n",
    "\n",
    "#dfBasinsPrecipEraThree.Mississippi = param_masked_ensMean_basinAvg_YrAvgAnom_eraThree_Missi\n",
    "dfBasinsPrecipEraThree.Missouri = param_masked_ensMean_basinAvg_YrAvgAnom_eraThree_Missouri\n",
    "dfBasinsPrecipEraThree.Arkansas = param_masked_ensMean_basinAvg_YrAvgAnom_eraThree_Arkansas\n",
    "dfBasinsPrecipEraThree.Ohio = param_masked_ensMean_basinAvg_YrAvgAnom_eraThree_Ohio\n",
    "dfBasinsPrecipEraThree.Lower_Mississippi = param_masked_ensMean_basinAvg_YrAvgAnom_eraThree_lowMissi\n",
    "print(dfBasinsPrecipEraThree.shape)\n",
    "dfBasinsPrecipEraThree.head()"
   ]
  },
  {
   "cell_type": "code",
   "execution_count": null,
   "metadata": {},
   "outputs": [],
   "source": []
  },
  {
   "cell_type": "code",
   "execution_count": 109,
   "metadata": {},
   "outputs": [
    {
     "name": "stdout",
     "output_type": "stream",
     "text": [
      "       Years    Basins   Anomaly\n",
      "0  2015-2044  Missouri -0.571346\n",
      "1  2015-2044  Missouri  0.905413\n",
      "2  2015-2044  Missouri  1.285261\n",
      "3  2015-2044  Missouri  0.110538\n",
      "4  2015-2044  Missouri  0.924169\n"
     ]
    },
    {
     "data": {
      "text/html": [
       "<div>\n",
       "<style scoped>\n",
       "    .dataframe tbody tr th:only-of-type {\n",
       "        vertical-align: middle;\n",
       "    }\n",
       "\n",
       "    .dataframe tbody tr th {\n",
       "        vertical-align: top;\n",
       "    }\n",
       "\n",
       "    .dataframe thead th {\n",
       "        text-align: right;\n",
       "    }\n",
       "</style>\n",
       "<table border=\"1\" class=\"dataframe\">\n",
       "  <thead>\n",
       "    <tr style=\"text-align: right;\">\n",
       "      <th></th>\n",
       "      <th>Years</th>\n",
       "      <th>Basins</th>\n",
       "      <th>Anomaly</th>\n",
       "    </tr>\n",
       "  </thead>\n",
       "  <tbody>\n",
       "    <tr>\n",
       "      <th>0</th>\n",
       "      <td>2015-2044</td>\n",
       "      <td>Missouri</td>\n",
       "      <td>-0.571346</td>\n",
       "    </tr>\n",
       "    <tr>\n",
       "      <th>1</th>\n",
       "      <td>2015-2044</td>\n",
       "      <td>Missouri</td>\n",
       "      <td>0.905413</td>\n",
       "    </tr>\n",
       "    <tr>\n",
       "      <th>2</th>\n",
       "      <td>2015-2044</td>\n",
       "      <td>Missouri</td>\n",
       "      <td>1.285261</td>\n",
       "    </tr>\n",
       "    <tr>\n",
       "      <th>3</th>\n",
       "      <td>2015-2044</td>\n",
       "      <td>Missouri</td>\n",
       "      <td>0.110538</td>\n",
       "    </tr>\n",
       "    <tr>\n",
       "      <th>4</th>\n",
       "      <td>2015-2044</td>\n",
       "      <td>Missouri</td>\n",
       "      <td>0.924169</td>\n",
       "    </tr>\n",
       "    <tr>\n",
       "      <th>...</th>\n",
       "      <td>...</td>\n",
       "      <td>...</td>\n",
       "      <td>...</td>\n",
       "    </tr>\n",
       "    <tr>\n",
       "      <th>339</th>\n",
       "      <td>2075-2100</td>\n",
       "      <td>Lower_Mississippi</td>\n",
       "      <td>13.963384</td>\n",
       "    </tr>\n",
       "    <tr>\n",
       "      <th>340</th>\n",
       "      <td>2075-2100</td>\n",
       "      <td>Lower_Mississippi</td>\n",
       "      <td>9.779652</td>\n",
       "    </tr>\n",
       "    <tr>\n",
       "      <th>341</th>\n",
       "      <td>2075-2100</td>\n",
       "      <td>Lower_Mississippi</td>\n",
       "      <td>11.013003</td>\n",
       "    </tr>\n",
       "    <tr>\n",
       "      <th>342</th>\n",
       "      <td>2075-2100</td>\n",
       "      <td>Lower_Mississippi</td>\n",
       "      <td>7.570049</td>\n",
       "    </tr>\n",
       "    <tr>\n",
       "      <th>343</th>\n",
       "      <td>2075-2100</td>\n",
       "      <td>Lower_Mississippi</td>\n",
       "      <td>9.470820</td>\n",
       "    </tr>\n",
       "  </tbody>\n",
       "</table>\n",
       "<p>344 rows × 3 columns</p>\n",
       "</div>"
      ],
      "text/plain": [
       "         Years             Basins    Anomaly\n",
       "0    2015-2044           Missouri  -0.571346\n",
       "1    2015-2044           Missouri   0.905413\n",
       "2    2015-2044           Missouri   1.285261\n",
       "3    2015-2044           Missouri   0.110538\n",
       "4    2015-2044           Missouri   0.924169\n",
       "..         ...                ...        ...\n",
       "339  2075-2100  Lower_Mississippi  13.963384\n",
       "340  2075-2100  Lower_Mississippi   9.779652\n",
       "341  2075-2100  Lower_Mississippi  11.013003\n",
       "342  2075-2100  Lower_Mississippi   7.570049\n",
       "343  2075-2100  Lower_Mississippi   9.470820\n",
       "\n",
       "[344 rows x 3 columns]"
      ]
     },
     "execution_count": 109,
     "metadata": {},
     "output_type": "execute_result"
    }
   ],
   "source": [
    "cdfBasinsPrecipEras = pd.concat([dfBasinsPrecipEraOne, dfBasinsPrecipEraTwo, dfBasinsPrecipEraThree ])    \n",
    "mdfBasinsPrecipEras = pd.melt(cdfBasinsPrecipEras, id_vars=['Years'], var_name=['Basins'], value_name=\"Anomaly\") \n",
    "mdfBasinsPrecipEras\n",
    "print(mdfBasinsPrecipEras.head())\n",
    "mdfBasinsPrecipEras"
   ]
  },
  {
   "cell_type": "code",
   "execution_count": 110,
   "metadata": {},
   "outputs": [
    {
     "name": "stdout",
     "output_type": "stream",
     "text": [
      "(344, 3)\n"
     ]
    }
   ],
   "source": [
    "print(mdfBasinsPrecipEras.shape)"
   ]
  },
  {
   "cell_type": "code",
   "execution_count": null,
   "metadata": {},
   "outputs": [],
   "source": []
  },
  {
   "cell_type": "code",
   "execution_count": null,
   "metadata": {},
   "outputs": [],
   "source": []
  },
  {
   "cell_type": "markdown",
   "metadata": {},
   "source": [
    "## Loading data for the other parameters from the disk"
   ]
  },
  {
   "cell_type": "code",
   "execution_count": null,
   "metadata": {},
   "outputs": [],
   "source": []
  },
  {
   "cell_type": "markdown",
   "metadata": {},
   "source": [
    "## ET"
   ]
  },
  {
   "cell_type": "code",
   "execution_count": 111,
   "metadata": {},
   "outputs": [
    {
     "name": "stdout",
     "output_type": "stream",
     "text": [
      "(171,)\n",
      "(171,)\n",
      "(171,)\n",
      "(171,)\n",
      "(171,)\n"
     ]
    }
   ],
   "source": [
    "file_et_Missi = 'C:/rezaul/1.academic/1.research/2.project/mrb/dt/cesm/cesm2LE/param/et/mon/output/anom/et_EnsMeanYrAvgAnom_Missi.npy'\n",
    "et_masked_ensMean_basinAvg_YrAvgAnom_Missi = np.load(file_et_Missi)\n",
    "print(et_masked_ensMean_basinAvg_YrAvgAnom_Missi.shape)\n",
    "#print(et_masked_ensMean_basinAvg_YrAvgAnom_Missi)\n",
    "\n",
    "file_et_Missouri = 'C:/rezaul/1.academic/1.research/2.project/mrb/dt/cesm/cesm2LE/param/et/mon/output/anom/et_EnsMeanYrAvgAnom_Missouri.npy'\n",
    "et_masked_ensMean_basinAvg_YrAvgAnom_Missouri = np.load(file_et_Missouri)\n",
    "print(et_masked_ensMean_basinAvg_YrAvgAnom_Missouri.shape)\n",
    "\n",
    "file_et_Arkansas = 'C:/rezaul/1.academic/1.research/2.project/mrb/dt/cesm/cesm2LE/param/et/mon/output/anom/et_EnsMeanYrAvgAnom_Arkansas.npy'\n",
    "et_masked_ensMean_basinAvg_YrAvgAnom_Arkansas = np.load(file_et_Arkansas)\n",
    "print(et_masked_ensMean_basinAvg_YrAvgAnom_Arkansas.shape)\n",
    "\n",
    "file_et_Ohio = 'C:/rezaul/1.academic/1.research/2.project/mrb/dt/cesm/cesm2LE/param/et/mon/output/anom/et_EnsMeanYrAvgAnom_Ohio.npy'\n",
    "et_masked_ensMean_basinAvg_YrAvgAnom_Ohio = np.load(file_et_Ohio)\n",
    "print(et_masked_ensMean_basinAvg_YrAvgAnom_Ohio.shape)\n",
    "\n",
    "file_et_lowMissi = 'C:/rezaul/1.academic/1.research/2.project/mrb/dt/cesm/cesm2LE/param/et/mon/output/anom/et_EnsMeanYrAvgAnom_lowMissi.npy'\n",
    "et_masked_ensMean_basinAvg_YrAvgAnom_lowMissi = np.load(file_et_lowMissi)\n",
    "print(et_masked_ensMean_basinAvg_YrAvgAnom_lowMissi.shape)\n"
   ]
  },
  {
   "cell_type": "markdown",
   "metadata": {},
   "source": [
    "### Split into Eras"
   ]
  },
  {
   "cell_type": "code",
   "execution_count": 112,
   "metadata": {},
   "outputs": [
    {
     "name": "stdout",
     "output_type": "stream",
     "text": [
      "(26,)\n",
      "(26,)\n",
      "(26,)\n",
      "(26,)\n",
      "(26,)\n"
     ]
    }
   ],
   "source": [
    "# Mississippi\n",
    "et_masked_ensMean_basinAvg_YrAvgAnom_eraOne_Missi = et_masked_ensMean_basinAvg_YrAvgAnom_Missi[scenEraOneStepSt:scenEraOneStepEnd]\n",
    "#print(et_masked_ensMean_basinAvg_YrAvgAnom_eraOne_Missi.shape)\n",
    "\n",
    "et_masked_ensMean_basinAvg_YrAvgAnom_eraTwo_Missi = et_masked_ensMean_basinAvg_YrAvgAnom_Missi[scenEraTwoStepSt:scenEraTwoStepEnd]\n",
    "#print(et_masked_ensMean_basinAvg_YrAvgAnom_eraTwo_Missi.shape)\n",
    "\n",
    "et_masked_ensMean_basinAvg_YrAvgAnom_eraThree_Missi = et_masked_ensMean_basinAvg_YrAvgAnom_Missi[scenEraThreeStepSt:scenEraThreeStepEnd]\n",
    "print(et_masked_ensMean_basinAvg_YrAvgAnom_eraThree_Missi.shape)\n",
    "#+++++++++++++++++++++++++++++++++++++++++++++++++++++++++++++++++++++++++\n",
    "\n",
    "## Missouri\n",
    "et_masked_ensMean_basinAvg_YrAvgAnom_eraOne_Missouri = et_masked_ensMean_basinAvg_YrAvgAnom_Missouri[scenEraOneStepSt:scenEraOneStepEnd]\n",
    "#print(et_masked_ensMean_basinAvg_YrAvgAnom_eraOne_Missouri.shape)\n",
    "\n",
    "et_masked_ensMean_basinAvg_YrAvgAnom_eraTwo_Missouri = et_masked_ensMean_basinAvg_YrAvgAnom_Missouri[scenEraTwoStepSt:scenEraTwoStepEnd]\n",
    "#print(et_masked_ensMean_basinAvg_YrAvgAnom_eraTwo_Missouri.shape)\n",
    "\n",
    "et_masked_ensMean_basinAvg_YrAvgAnom_eraThree_Missouri = et_masked_ensMean_basinAvg_YrAvgAnom_Missouri[scenEraThreeStepSt:scenEraThreeStepEnd]\n",
    "print(et_masked_ensMean_basinAvg_YrAvgAnom_eraThree_Missouri.shape)\n",
    "#+++++++++++++++++++++++++++++++++++++++++++++++++++++++++++++++++++++++++\n",
    "\n",
    "# Arkansas\n",
    "et_masked_ensMean_basinAvg_YrAvgAnom_eraOne_Arkansas = et_masked_ensMean_basinAvg_YrAvgAnom_Arkansas[scenEraOneStepSt:scenEraOneStepEnd]\n",
    "#print(et_masked_ensMean_basinAvg_YrAvgAnom_eraOne_Arkansas.shape)\n",
    "\n",
    "et_masked_ensMean_basinAvg_YrAvgAnom_eraTwo_Arkansas = et_masked_ensMean_basinAvg_YrAvgAnom_Arkansas[scenEraTwoStepSt:scenEraTwoStepEnd]\n",
    "#print(et_masked_ensMean_basinAvg_YrAvgAnom_eraTwo_Arkansas.shape)\n",
    "\n",
    "et_masked_ensMean_basinAvg_YrAvgAnom_eraThree_Arkansas = et_masked_ensMean_basinAvg_YrAvgAnom_Arkansas[scenEraThreeStepSt:scenEraThreeStepEnd]\n",
    "print(et_masked_ensMean_basinAvg_YrAvgAnom_eraThree_Arkansas.shape)\n",
    "#+++++++++++++++++++++++++++++++++++++++++++++++++++++++++++++++++++++++++\n",
    "\n",
    "# Ohio\n",
    "et_masked_ensMean_basinAvg_YrAvgAnom_eraOne_Ohio = et_masked_ensMean_basinAvg_YrAvgAnom_Ohio[scenEraOneStepSt:scenEraOneStepEnd]\n",
    "#print(et_masked_ensMean_basinAvg_YrAvgAnom_eraOne_Ohio.shape)\n",
    "\n",
    "et_masked_ensMean_basinAvg_YrAvgAnom_eraTwo_Ohio = et_masked_ensMean_basinAvg_YrAvgAnom_Ohio[scenEraTwoStepSt:scenEraTwoStepEnd]\n",
    "#print(et_masked_ensMean_basinAvg_YrAvgAnom_eraTwo_Ohio.shape)\n",
    "\n",
    "et_masked_ensMean_basinAvg_YrAvgAnom_eraThree_Ohio = et_masked_ensMean_basinAvg_YrAvgAnom_Ohio[scenEraThreeStepSt:scenEraThreeStepEnd]\n",
    "print(et_masked_ensMean_basinAvg_YrAvgAnom_eraThree_Ohio.shape)\n",
    "#+++++++++++++++++++++++++++++++++++++++++++++++++++++++++++++++++++++++++\n",
    "\n",
    "# Lower Mississippi\n",
    "et_masked_ensMean_basinAvg_YrAvgAnom_eraOne_lowMissi = et_masked_ensMean_basinAvg_YrAvgAnom_lowMissi[scenEraOneStepSt:scenEraOneStepEnd]\n",
    "#print(et_masked_ensMean_basinAvg_YrAvgAnom_eraOne_lowMissi.shape)\n",
    "\n",
    "et_masked_ensMean_basinAvg_YrAvgAnom_eraTwo_lowMissi = et_masked_ensMean_basinAvg_YrAvgAnom_lowMissi[scenEraTwoStepSt:scenEraTwoStepEnd]\n",
    "#print(et_masked_ensMean_basinAvg_YrAvgAnom_eraTwo_lowMissi.shape)\n",
    "\n",
    "et_masked_ensMean_basinAvg_YrAvgAnom_eraThree_lowMissi = et_masked_ensMean_basinAvg_YrAvgAnom_lowMissi[scenEraThreeStepSt:scenEraThreeStepEnd]\n",
    "print(et_masked_ensMean_basinAvg_YrAvgAnom_eraThree_lowMissi.shape)\n",
    "\n",
    "#+++++++++++++++++++++++++++++++++++++++++++++++++++++++++++++++++++++++++\n"
   ]
  },
  {
   "cell_type": "code",
   "execution_count": null,
   "metadata": {},
   "outputs": [],
   "source": []
  },
  {
   "cell_type": "code",
   "execution_count": 113,
   "metadata": {},
   "outputs": [
    {
     "name": "stdout",
     "output_type": "stream",
     "text": [
      "(30, 5)\n"
     ]
    },
    {
     "data": {
      "text/html": [
       "<div>\n",
       "<style scoped>\n",
       "    .dataframe tbody tr th:only-of-type {\n",
       "        vertical-align: middle;\n",
       "    }\n",
       "\n",
       "    .dataframe tbody tr th {\n",
       "        vertical-align: top;\n",
       "    }\n",
       "\n",
       "    .dataframe thead th {\n",
       "        text-align: right;\n",
       "    }\n",
       "</style>\n",
       "<table border=\"1\" class=\"dataframe\">\n",
       "  <thead>\n",
       "    <tr style=\"text-align: right;\">\n",
       "      <th></th>\n",
       "      <th>Missouri</th>\n",
       "      <th>Arkansas</th>\n",
       "      <th>Ohio</th>\n",
       "      <th>Lower_Mississippi</th>\n",
       "      <th>Years</th>\n",
       "    </tr>\n",
       "  </thead>\n",
       "  <tbody>\n",
       "    <tr>\n",
       "      <th>0</th>\n",
       "      <td>0.753913</td>\n",
       "      <td>1.054878</td>\n",
       "      <td>3.270532</td>\n",
       "      <td>3.157524</td>\n",
       "      <td>2015-2044</td>\n",
       "    </tr>\n",
       "    <tr>\n",
       "      <th>1</th>\n",
       "      <td>0.929454</td>\n",
       "      <td>1.242201</td>\n",
       "      <td>3.278550</td>\n",
       "      <td>3.349297</td>\n",
       "      <td>2015-2044</td>\n",
       "    </tr>\n",
       "    <tr>\n",
       "      <th>2</th>\n",
       "      <td>1.277914</td>\n",
       "      <td>1.976530</td>\n",
       "      <td>3.824654</td>\n",
       "      <td>4.196988</td>\n",
       "      <td>2015-2044</td>\n",
       "    </tr>\n",
       "    <tr>\n",
       "      <th>3</th>\n",
       "      <td>1.257611</td>\n",
       "      <td>1.895163</td>\n",
       "      <td>3.314297</td>\n",
       "      <td>3.833193</td>\n",
       "      <td>2015-2044</td>\n",
       "    </tr>\n",
       "    <tr>\n",
       "      <th>4</th>\n",
       "      <td>1.238481</td>\n",
       "      <td>2.209953</td>\n",
       "      <td>2.986254</td>\n",
       "      <td>4.378313</td>\n",
       "      <td>2015-2044</td>\n",
       "    </tr>\n",
       "  </tbody>\n",
       "</table>\n",
       "</div>"
      ],
      "text/plain": [
       "   Missouri  Arkansas      Ohio  Lower_Mississippi      Years\n",
       "0  0.753913  1.054878  3.270532           3.157524  2015-2044\n",
       "1  0.929454  1.242201  3.278550           3.349297  2015-2044\n",
       "2  1.277914  1.976530  3.824654           4.196988  2015-2044\n",
       "3  1.257611  1.895163  3.314297           3.833193  2015-2044\n",
       "4  1.238481  2.209953  2.986254           4.378313  2015-2044"
      ]
     },
     "execution_count": 113,
     "metadata": {},
     "output_type": "execute_result"
    }
   ],
   "source": [
    "#dfBasinsEtEraOne=pd.DataFrame(np.zeros((30,5)), columns=['Mississippi','Missouri','Arkansas','Ohio','Lower_Mississippi']).assign(Years='2015-2044')\n",
    "dfBasinsEtEraOne=pd.DataFrame(np.zeros((30,4)), columns=['Missouri','Arkansas','Ohio','Lower_Mississippi']).assign(Years='2015-2044')\n",
    "\n",
    "#dfBasinsEtEraOne.Mississippi = et_masked_ensMean_basinAvg_YrAvgAnom_eraOne_Missi\n",
    "dfBasinsEtEraOne.Missouri = et_masked_ensMean_basinAvg_YrAvgAnom_eraOne_Missouri\n",
    "dfBasinsEtEraOne.Arkansas = et_masked_ensMean_basinAvg_YrAvgAnom_eraOne_Arkansas\n",
    "dfBasinsEtEraOne.Ohio = et_masked_ensMean_basinAvg_YrAvgAnom_eraOne_Ohio\n",
    "dfBasinsEtEraOne.Lower_Mississippi = et_masked_ensMean_basinAvg_YrAvgAnom_eraOne_lowMissi\n",
    "print(dfBasinsEtEraOne.shape)\n",
    "dfBasinsEtEraOne.head()"
   ]
  },
  {
   "cell_type": "code",
   "execution_count": 114,
   "metadata": {},
   "outputs": [
    {
     "name": "stdout",
     "output_type": "stream",
     "text": [
      "(30, 5)\n"
     ]
    },
    {
     "data": {
      "text/html": [
       "<div>\n",
       "<style scoped>\n",
       "    .dataframe tbody tr th:only-of-type {\n",
       "        vertical-align: middle;\n",
       "    }\n",
       "\n",
       "    .dataframe tbody tr th {\n",
       "        vertical-align: top;\n",
       "    }\n",
       "\n",
       "    .dataframe thead th {\n",
       "        text-align: right;\n",
       "    }\n",
       "</style>\n",
       "<table border=\"1\" class=\"dataframe\">\n",
       "  <thead>\n",
       "    <tr style=\"text-align: right;\">\n",
       "      <th></th>\n",
       "      <th>Missouri</th>\n",
       "      <th>Arkansas</th>\n",
       "      <th>Ohio</th>\n",
       "      <th>Lower_Mississippi</th>\n",
       "      <th>Years</th>\n",
       "    </tr>\n",
       "  </thead>\n",
       "  <tbody>\n",
       "    <tr>\n",
       "      <th>0</th>\n",
       "      <td>2.370793</td>\n",
       "      <td>3.583048</td>\n",
       "      <td>3.687725</td>\n",
       "      <td>4.908207</td>\n",
       "      <td>2045-2074</td>\n",
       "    </tr>\n",
       "    <tr>\n",
       "      <th>1</th>\n",
       "      <td>2.468644</td>\n",
       "      <td>4.174024</td>\n",
       "      <td>4.220734</td>\n",
       "      <td>5.387354</td>\n",
       "      <td>2045-2074</td>\n",
       "    </tr>\n",
       "    <tr>\n",
       "      <th>2</th>\n",
       "      <td>2.330499</td>\n",
       "      <td>3.665114</td>\n",
       "      <td>4.184668</td>\n",
       "      <td>5.321232</td>\n",
       "      <td>2045-2074</td>\n",
       "    </tr>\n",
       "    <tr>\n",
       "      <th>3</th>\n",
       "      <td>2.402525</td>\n",
       "      <td>3.864331</td>\n",
       "      <td>4.159423</td>\n",
       "      <td>5.325100</td>\n",
       "      <td>2045-2074</td>\n",
       "    </tr>\n",
       "    <tr>\n",
       "      <th>4</th>\n",
       "      <td>2.189715</td>\n",
       "      <td>3.425900</td>\n",
       "      <td>3.910769</td>\n",
       "      <td>5.253968</td>\n",
       "      <td>2045-2074</td>\n",
       "    </tr>\n",
       "  </tbody>\n",
       "</table>\n",
       "</div>"
      ],
      "text/plain": [
       "   Missouri  Arkansas      Ohio  Lower_Mississippi      Years\n",
       "0  2.370793  3.583048  3.687725           4.908207  2045-2074\n",
       "1  2.468644  4.174024  4.220734           5.387354  2045-2074\n",
       "2  2.330499  3.665114  4.184668           5.321232  2045-2074\n",
       "3  2.402525  3.864331  4.159423           5.325100  2045-2074\n",
       "4  2.189715  3.425900  3.910769           5.253968  2045-2074"
      ]
     },
     "execution_count": 114,
     "metadata": {},
     "output_type": "execute_result"
    }
   ],
   "source": [
    "#dfBasinsEtEraTwo=pd.DataFrame(np.zeros((30,5)), columns=['Mississippi','Missouri','Arkansas','Ohio','Lower_Mississippi']).assign(Years='2045-2074')\n",
    "dfBasinsEtEraTwo=pd.DataFrame(np.zeros((30,4)), columns=['Missouri','Arkansas','Ohio','Lower_Mississippi']).assign(Years='2045-2074')\n",
    "\n",
    "#dfBasinsEtEraTwo.Mississippi = et_masked_ensMean_basinAvg_YrAvgAnom_eraTwo_Missi\n",
    "dfBasinsEtEraTwo.Missouri = et_masked_ensMean_basinAvg_YrAvgAnom_eraTwo_Missouri\n",
    "dfBasinsEtEraTwo.Arkansas = et_masked_ensMean_basinAvg_YrAvgAnom_eraTwo_Arkansas\n",
    "dfBasinsEtEraTwo.Ohio = et_masked_ensMean_basinAvg_YrAvgAnom_eraTwo_Ohio\n",
    "dfBasinsEtEraTwo.Lower_Mississippi = et_masked_ensMean_basinAvg_YrAvgAnom_eraTwo_lowMissi\n",
    "print(dfBasinsEtEraTwo.shape)\n",
    "dfBasinsEtEraTwo.head()"
   ]
  },
  {
   "cell_type": "code",
   "execution_count": 115,
   "metadata": {},
   "outputs": [
    {
     "name": "stdout",
     "output_type": "stream",
     "text": [
      "(26, 5)\n"
     ]
    },
    {
     "data": {
      "text/html": [
       "<div>\n",
       "<style scoped>\n",
       "    .dataframe tbody tr th:only-of-type {\n",
       "        vertical-align: middle;\n",
       "    }\n",
       "\n",
       "    .dataframe tbody tr th {\n",
       "        vertical-align: top;\n",
       "    }\n",
       "\n",
       "    .dataframe thead th {\n",
       "        text-align: right;\n",
       "    }\n",
       "</style>\n",
       "<table border=\"1\" class=\"dataframe\">\n",
       "  <thead>\n",
       "    <tr style=\"text-align: right;\">\n",
       "      <th></th>\n",
       "      <th>Missouri</th>\n",
       "      <th>Arkansas</th>\n",
       "      <th>Ohio</th>\n",
       "      <th>Lower_Mississippi</th>\n",
       "      <th>Years</th>\n",
       "    </tr>\n",
       "  </thead>\n",
       "  <tbody>\n",
       "    <tr>\n",
       "      <th>0</th>\n",
       "      <td>3.769933</td>\n",
       "      <td>5.092377</td>\n",
       "      <td>4.709364</td>\n",
       "      <td>6.586588</td>\n",
       "      <td>2075-2100</td>\n",
       "    </tr>\n",
       "    <tr>\n",
       "      <th>1</th>\n",
       "      <td>3.459059</td>\n",
       "      <td>4.135801</td>\n",
       "      <td>4.608645</td>\n",
       "      <td>6.137782</td>\n",
       "      <td>2075-2100</td>\n",
       "    </tr>\n",
       "    <tr>\n",
       "      <th>2</th>\n",
       "      <td>3.763421</td>\n",
       "      <td>5.052920</td>\n",
       "      <td>4.579819</td>\n",
       "      <td>6.737839</td>\n",
       "      <td>2075-2100</td>\n",
       "    </tr>\n",
       "    <tr>\n",
       "      <th>3</th>\n",
       "      <td>3.510497</td>\n",
       "      <td>4.921161</td>\n",
       "      <td>4.845140</td>\n",
       "      <td>6.296140</td>\n",
       "      <td>2075-2100</td>\n",
       "    </tr>\n",
       "    <tr>\n",
       "      <th>4</th>\n",
       "      <td>4.227026</td>\n",
       "      <td>5.228961</td>\n",
       "      <td>4.549820</td>\n",
       "      <td>6.150410</td>\n",
       "      <td>2075-2100</td>\n",
       "    </tr>\n",
       "  </tbody>\n",
       "</table>\n",
       "</div>"
      ],
      "text/plain": [
       "   Missouri  Arkansas      Ohio  Lower_Mississippi      Years\n",
       "0  3.769933  5.092377  4.709364           6.586588  2075-2100\n",
       "1  3.459059  4.135801  4.608645           6.137782  2075-2100\n",
       "2  3.763421  5.052920  4.579819           6.737839  2075-2100\n",
       "3  3.510497  4.921161  4.845140           6.296140  2075-2100\n",
       "4  4.227026  5.228961  4.549820           6.150410  2075-2100"
      ]
     },
     "execution_count": 115,
     "metadata": {},
     "output_type": "execute_result"
    }
   ],
   "source": [
    "#dfBasinsEtEraThree=pd.DataFrame(np.zeros((26,5)), columns=['Mississippi','Missouri','Arkansas','Ohio','Lower_Mississippi']).assign(Years='2075-2100')\n",
    "dfBasinsEtEraThree=pd.DataFrame(np.zeros((26,4)), columns=['Missouri','Arkansas','Ohio','Lower_Mississippi']).assign(Years='2075-2100')\n",
    "\n",
    "#dfBasinsEtEraThree.Mississippi = et_masked_ensMean_basinAvg_YrAvgAnom_eraThree_Missi\n",
    "dfBasinsEtEraThree.Missouri = et_masked_ensMean_basinAvg_YrAvgAnom_eraThree_Missouri\n",
    "dfBasinsEtEraThree.Arkansas = et_masked_ensMean_basinAvg_YrAvgAnom_eraThree_Arkansas\n",
    "dfBasinsEtEraThree.Ohio = et_masked_ensMean_basinAvg_YrAvgAnom_eraThree_Ohio\n",
    "dfBasinsEtEraThree.Lower_Mississippi = et_masked_ensMean_basinAvg_YrAvgAnom_eraThree_lowMissi\n",
    "print(dfBasinsEtEraThree.shape)\n",
    "dfBasinsEtEraThree.head()"
   ]
  },
  {
   "cell_type": "code",
   "execution_count": 116,
   "metadata": {},
   "outputs": [
    {
     "name": "stdout",
     "output_type": "stream",
     "text": [
      "       Years    Basins   Anomaly\n",
      "0  2015-2044  Missouri  0.753913\n",
      "1  2015-2044  Missouri  0.929454\n",
      "2  2015-2044  Missouri  1.277914\n",
      "3  2015-2044  Missouri  1.257611\n",
      "4  2015-2044  Missouri  1.238481\n"
     ]
    },
    {
     "data": {
      "text/html": [
       "<div>\n",
       "<style scoped>\n",
       "    .dataframe tbody tr th:only-of-type {\n",
       "        vertical-align: middle;\n",
       "    }\n",
       "\n",
       "    .dataframe tbody tr th {\n",
       "        vertical-align: top;\n",
       "    }\n",
       "\n",
       "    .dataframe thead th {\n",
       "        text-align: right;\n",
       "    }\n",
       "</style>\n",
       "<table border=\"1\" class=\"dataframe\">\n",
       "  <thead>\n",
       "    <tr style=\"text-align: right;\">\n",
       "      <th></th>\n",
       "      <th>Years</th>\n",
       "      <th>Basins</th>\n",
       "      <th>Anomaly</th>\n",
       "    </tr>\n",
       "  </thead>\n",
       "  <tbody>\n",
       "    <tr>\n",
       "      <th>0</th>\n",
       "      <td>2015-2044</td>\n",
       "      <td>Missouri</td>\n",
       "      <td>0.753913</td>\n",
       "    </tr>\n",
       "    <tr>\n",
       "      <th>1</th>\n",
       "      <td>2015-2044</td>\n",
       "      <td>Missouri</td>\n",
       "      <td>0.929454</td>\n",
       "    </tr>\n",
       "    <tr>\n",
       "      <th>2</th>\n",
       "      <td>2015-2044</td>\n",
       "      <td>Missouri</td>\n",
       "      <td>1.277914</td>\n",
       "    </tr>\n",
       "    <tr>\n",
       "      <th>3</th>\n",
       "      <td>2015-2044</td>\n",
       "      <td>Missouri</td>\n",
       "      <td>1.257611</td>\n",
       "    </tr>\n",
       "    <tr>\n",
       "      <th>4</th>\n",
       "      <td>2015-2044</td>\n",
       "      <td>Missouri</td>\n",
       "      <td>1.238481</td>\n",
       "    </tr>\n",
       "    <tr>\n",
       "      <th>...</th>\n",
       "      <td>...</td>\n",
       "      <td>...</td>\n",
       "      <td>...</td>\n",
       "    </tr>\n",
       "    <tr>\n",
       "      <th>339</th>\n",
       "      <td>2075-2100</td>\n",
       "      <td>Lower_Mississippi</td>\n",
       "      <td>7.357987</td>\n",
       "    </tr>\n",
       "    <tr>\n",
       "      <th>340</th>\n",
       "      <td>2075-2100</td>\n",
       "      <td>Lower_Mississippi</td>\n",
       "      <td>6.571957</td>\n",
       "    </tr>\n",
       "    <tr>\n",
       "      <th>341</th>\n",
       "      <td>2075-2100</td>\n",
       "      <td>Lower_Mississippi</td>\n",
       "      <td>6.811618</td>\n",
       "    </tr>\n",
       "    <tr>\n",
       "      <th>342</th>\n",
       "      <td>2075-2100</td>\n",
       "      <td>Lower_Mississippi</td>\n",
       "      <td>6.983200</td>\n",
       "    </tr>\n",
       "    <tr>\n",
       "      <th>343</th>\n",
       "      <td>2075-2100</td>\n",
       "      <td>Lower_Mississippi</td>\n",
       "      <td>6.749772</td>\n",
       "    </tr>\n",
       "  </tbody>\n",
       "</table>\n",
       "<p>344 rows × 3 columns</p>\n",
       "</div>"
      ],
      "text/plain": [
       "         Years             Basins   Anomaly\n",
       "0    2015-2044           Missouri  0.753913\n",
       "1    2015-2044           Missouri  0.929454\n",
       "2    2015-2044           Missouri  1.277914\n",
       "3    2015-2044           Missouri  1.257611\n",
       "4    2015-2044           Missouri  1.238481\n",
       "..         ...                ...       ...\n",
       "339  2075-2100  Lower_Mississippi  7.357987\n",
       "340  2075-2100  Lower_Mississippi  6.571957\n",
       "341  2075-2100  Lower_Mississippi  6.811618\n",
       "342  2075-2100  Lower_Mississippi  6.983200\n",
       "343  2075-2100  Lower_Mississippi  6.749772\n",
       "\n",
       "[344 rows x 3 columns]"
      ]
     },
     "execution_count": 116,
     "metadata": {},
     "output_type": "execute_result"
    }
   ],
   "source": [
    "cdfBasinsEtEras = pd.concat([dfBasinsEtEraOne, dfBasinsEtEraTwo, dfBasinsEtEraThree ])    \n",
    "mdfBasinsEtEras = pd.melt(cdfBasinsEtEras, id_vars=['Years'], var_name=['Basins'], value_name=\"Anomaly\") \n",
    "mdfBasinsEtEras\n",
    "print(mdfBasinsEtEras.head())\n",
    "mdfBasinsEtEras"
   ]
  },
  {
   "cell_type": "code",
   "execution_count": 117,
   "metadata": {},
   "outputs": [
    {
     "name": "stdout",
     "output_type": "stream",
     "text": [
      "(344, 3)\n"
     ]
    }
   ],
   "source": [
    "print(mdfBasinsEtEras.shape)"
   ]
  },
  {
   "cell_type": "code",
   "execution_count": null,
   "metadata": {},
   "outputs": [],
   "source": []
  },
  {
   "cell_type": "code",
   "execution_count": null,
   "metadata": {},
   "outputs": [],
   "source": []
  },
  {
   "cell_type": "markdown",
   "metadata": {},
   "source": [
    "## Snow Melt"
   ]
  },
  {
   "cell_type": "code",
   "execution_count": 118,
   "metadata": {},
   "outputs": [
    {
     "name": "stdout",
     "output_type": "stream",
     "text": [
      "(171,)\n",
      "(171,)\n",
      "(171,)\n",
      "(171,)\n",
      "(171,)\n"
     ]
    }
   ],
   "source": [
    "file_snowMelt_Missi = 'C:/rezaul/1.academic/1.research/2.project/mrb/dt/cesm/cesm2LE/param/snowMelt/mon/output/anom/snowMelt_EnsMeanYrAvgAnom_Missi.npy'\n",
    "snowMelt_masked_ensMean_basinAvg_YrAvgAnom_Missi = np.load(file_snowMelt_Missi)\n",
    "print(snowMelt_masked_ensMean_basinAvg_YrAvgAnom_Missi.shape)\n",
    "#print(snowMelt_masked_ensMean_basinAvg_YrAvgAnom_Missi)\n",
    "\n",
    "file_snowMelt_Missouri = 'C:/rezaul/1.academic/1.research/2.project/mrb/dt/cesm/cesm2LE/param/snowMelt/mon/output/anom/snowMelt_EnsMeanYrAvgAnom_Missouri.npy'\n",
    "snowMelt_masked_ensMean_basinAvg_YrAvgAnom_Missouri = np.load(file_snowMelt_Missouri)\n",
    "print(snowMelt_masked_ensMean_basinAvg_YrAvgAnom_Missouri.shape)\n",
    "\n",
    "file_snowMelt_Arkansas = 'C:/rezaul/1.academic/1.research/2.project/mrb/dt/cesm/cesm2LE/param/snowMelt/mon/output/anom/snowMelt_EnsMeanYrAvgAnom_Arkansas.npy'\n",
    "snowMelt_masked_ensMean_basinAvg_YrAvgAnom_Arkansas = np.load(file_snowMelt_Arkansas)\n",
    "print(snowMelt_masked_ensMean_basinAvg_YrAvgAnom_Arkansas.shape)\n",
    "\n",
    "file_snowMelt_Ohio = 'C:/rezaul/1.academic/1.research/2.project/mrb/dt/cesm/cesm2LE/param/snowMelt/mon/output/anom/snowMelt_EnsMeanYrAvgAnom_Ohio.npy'\n",
    "snowMelt_masked_ensMean_basinAvg_YrAvgAnom_Ohio = np.load(file_snowMelt_Ohio)\n",
    "print(snowMelt_masked_ensMean_basinAvg_YrAvgAnom_Ohio.shape)\n",
    "\n",
    "file_snowMelt_lowMissi = 'C:/rezaul/1.academic/1.research/2.project/mrb/dt/cesm/cesm2LE/param/snowMelt/mon/output/anom/snowMelt_EnsMeanYrAvgAnom_lowMissi.npy'\n",
    "snowMelt_masked_ensMean_basinAvg_YrAvgAnom_lowMissi = np.load(file_snowMelt_lowMissi)\n",
    "print(snowMelt_masked_ensMean_basinAvg_YrAvgAnom_lowMissi.shape)\n"
   ]
  },
  {
   "cell_type": "markdown",
   "metadata": {},
   "source": [
    "## Split into Eras"
   ]
  },
  {
   "cell_type": "code",
   "execution_count": 119,
   "metadata": {},
   "outputs": [
    {
     "name": "stdout",
     "output_type": "stream",
     "text": [
      "(26,)\n",
      "(26,)\n",
      "(26,)\n",
      "(26,)\n",
      "(26,)\n"
     ]
    }
   ],
   "source": [
    "# Mississippi\n",
    "snowMelt_masked_ensMean_basinAvg_YrAvgAnom_eraOne_Missi = snowMelt_masked_ensMean_basinAvg_YrAvgAnom_Missi[scenEraOneStepSt:scenEraOneStepEnd]\n",
    "#print(snowMelt_masked_ensMean_basinAvg_YrAvgAnom_eraOne_Missi.shape)\n",
    "\n",
    "snowMelt_masked_ensMean_basinAvg_YrAvgAnom_eraTwo_Missi = snowMelt_masked_ensMean_basinAvg_YrAvgAnom_Missi[scenEraTwoStepSt:scenEraTwoStepEnd]\n",
    "#print(snowMelt_masked_ensMean_basinAvg_YrAvgAnom_eraTwo_Missi.shape)\n",
    "\n",
    "snowMelt_masked_ensMean_basinAvg_YrAvgAnom_eraThree_Missi = snowMelt_masked_ensMean_basinAvg_YrAvgAnom_Missi[scenEraThreeStepSt:scenEraThreeStepEnd]\n",
    "print(snowMelt_masked_ensMean_basinAvg_YrAvgAnom_eraThree_Missi.shape)\n",
    "#+++++++++++++++++++++++++++++++++++++++++++++++++++++++++++++++++++++++++\n",
    "\n",
    "## Missouri\n",
    "snowMelt_masked_ensMean_basinAvg_YrAvgAnom_eraOne_Missouri = snowMelt_masked_ensMean_basinAvg_YrAvgAnom_Missouri[scenEraOneStepSt:scenEraOneStepEnd]\n",
    "#print(snowMelt_masked_ensMean_basinAvg_YrAvgAnom_eraOne_Missouri.shape)\n",
    "\n",
    "snowMelt_masked_ensMean_basinAvg_YrAvgAnom_eraTwo_Missouri = snowMelt_masked_ensMean_basinAvg_YrAvgAnom_Missouri[scenEraTwoStepSt:scenEraTwoStepEnd]\n",
    "#print(snowMelt_masked_ensMean_basinAvg_YrAvgAnom_eraTwo_Missouri.shape)\n",
    "\n",
    "snowMelt_masked_ensMean_basinAvg_YrAvgAnom_eraThree_Missouri = snowMelt_masked_ensMean_basinAvg_YrAvgAnom_Missouri[scenEraThreeStepSt:scenEraThreeStepEnd]\n",
    "print(snowMelt_masked_ensMean_basinAvg_YrAvgAnom_eraThree_Missouri.shape)\n",
    "#+++++++++++++++++++++++++++++++++++++++++++++++++++++++++++++++++++++++++\n",
    "\n",
    "# Arkansas\n",
    "snowMelt_masked_ensMean_basinAvg_YrAvgAnom_eraOne_Arkansas = snowMelt_masked_ensMean_basinAvg_YrAvgAnom_Arkansas[scenEraOneStepSt:scenEraOneStepEnd]\n",
    "#print(snowMelt_masked_ensMean_basinAvg_YrAvgAnom_eraOne_Arkansas.shape)\n",
    "\n",
    "snowMelt_masked_ensMean_basinAvg_YrAvgAnom_eraTwo_Arkansas = snowMelt_masked_ensMean_basinAvg_YrAvgAnom_Arkansas[scenEraTwoStepSt:scenEraTwoStepEnd]\n",
    "#print(snowMelt_masked_ensMean_basinAvg_YrAvgAnom_eraTwo_Arkansas.shape)\n",
    "\n",
    "snowMelt_masked_ensMean_basinAvg_YrAvgAnom_eraThree_Arkansas = snowMelt_masked_ensMean_basinAvg_YrAvgAnom_Arkansas[scenEraThreeStepSt:scenEraThreeStepEnd]\n",
    "print(snowMelt_masked_ensMean_basinAvg_YrAvgAnom_eraThree_Arkansas.shape)\n",
    "#+++++++++++++++++++++++++++++++++++++++++++++++++++++++++++++++++++++++++\n",
    "\n",
    "# Ohio\n",
    "snowMelt_masked_ensMean_basinAvg_YrAvgAnom_eraOne_Ohio = snowMelt_masked_ensMean_basinAvg_YrAvgAnom_Ohio[scenEraOneStepSt:scenEraOneStepEnd]\n",
    "#print(snowMelt_masked_ensMean_basinAvg_YrAvgAnom_eraOne_Ohio.shape)\n",
    "\n",
    "snowMelt_masked_ensMean_basinAvg_YrAvgAnom_eraTwo_Ohio = snowMelt_masked_ensMean_basinAvg_YrAvgAnom_Ohio[scenEraTwoStepSt:scenEraTwoStepEnd]\n",
    "#print(snowMelt_masked_ensMean_basinAvg_YrAvgAnom_eraTwo_Ohio.shape)\n",
    "\n",
    "snowMelt_masked_ensMean_basinAvg_YrAvgAnom_eraThree_Ohio = snowMelt_masked_ensMean_basinAvg_YrAvgAnom_Ohio[scenEraThreeStepSt:scenEraThreeStepEnd]\n",
    "print(snowMelt_masked_ensMean_basinAvg_YrAvgAnom_eraThree_Ohio.shape)\n",
    "#+++++++++++++++++++++++++++++++++++++++++++++++++++++++++++++++++++++++++\n",
    "\n",
    "# Lower Mississippi\n",
    "snowMelt_masked_ensMean_basinAvg_YrAvgAnom_eraOne_lowMissi = snowMelt_masked_ensMean_basinAvg_YrAvgAnom_lowMissi[scenEraOneStepSt:scenEraOneStepEnd]\n",
    "#print(snowMelt_masked_ensMean_basinAvg_YrAvgAnom_eraOne_lowMissi.shape)\n",
    "\n",
    "snowMelt_masked_ensMean_basinAvg_YrAvgAnom_eraTwo_lowMissi = snowMelt_masked_ensMean_basinAvg_YrAvgAnom_lowMissi[scenEraTwoStepSt:scenEraTwoStepEnd]\n",
    "#print(snowMelt_masked_ensMean_basinAvg_YrAvgAnom_eraTwo_lowMissi.shape)\n",
    "\n",
    "snowMelt_masked_ensMean_basinAvg_YrAvgAnom_eraThree_lowMissi = snowMelt_masked_ensMean_basinAvg_YrAvgAnom_lowMissi[scenEraThreeStepSt:scenEraThreeStepEnd]\n",
    "print(snowMelt_masked_ensMean_basinAvg_YrAvgAnom_eraThree_lowMissi.shape)\n",
    "\n",
    "#+++++++++++++++++++++++++++++++++++++++++++++++++++++++++++++++++++++++++\n"
   ]
  },
  {
   "cell_type": "code",
   "execution_count": null,
   "metadata": {},
   "outputs": [],
   "source": []
  },
  {
   "cell_type": "code",
   "execution_count": 120,
   "metadata": {},
   "outputs": [
    {
     "name": "stdout",
     "output_type": "stream",
     "text": [
      "(30, 5)\n"
     ]
    },
    {
     "data": {
      "text/html": [
       "<div>\n",
       "<style scoped>\n",
       "    .dataframe tbody tr th:only-of-type {\n",
       "        vertical-align: middle;\n",
       "    }\n",
       "\n",
       "    .dataframe tbody tr th {\n",
       "        vertical-align: top;\n",
       "    }\n",
       "\n",
       "    .dataframe thead th {\n",
       "        text-align: right;\n",
       "    }\n",
       "</style>\n",
       "<table border=\"1\" class=\"dataframe\">\n",
       "  <thead>\n",
       "    <tr style=\"text-align: right;\">\n",
       "      <th></th>\n",
       "      <th>Missouri</th>\n",
       "      <th>Arkansas</th>\n",
       "      <th>Ohio</th>\n",
       "      <th>Lower_Mississippi</th>\n",
       "      <th>Years</th>\n",
       "    </tr>\n",
       "  </thead>\n",
       "  <tbody>\n",
       "    <tr>\n",
       "      <th>0</th>\n",
       "      <td>-1.383714</td>\n",
       "      <td>-1.652696</td>\n",
       "      <td>-5.588285</td>\n",
       "      <td>-1.092999</td>\n",
       "      <td>2015-2044</td>\n",
       "    </tr>\n",
       "    <tr>\n",
       "      <th>1</th>\n",
       "      <td>-1.892678</td>\n",
       "      <td>-1.826195</td>\n",
       "      <td>-5.225765</td>\n",
       "      <td>-0.786380</td>\n",
       "      <td>2015-2044</td>\n",
       "    </tr>\n",
       "    <tr>\n",
       "      <th>2</th>\n",
       "      <td>-1.851447</td>\n",
       "      <td>-1.510556</td>\n",
       "      <td>-5.574511</td>\n",
       "      <td>-0.982601</td>\n",
       "      <td>2015-2044</td>\n",
       "    </tr>\n",
       "    <tr>\n",
       "      <th>3</th>\n",
       "      <td>-2.271774</td>\n",
       "      <td>-1.749717</td>\n",
       "      <td>-6.333021</td>\n",
       "      <td>-1.023815</td>\n",
       "      <td>2015-2044</td>\n",
       "    </tr>\n",
       "    <tr>\n",
       "      <th>4</th>\n",
       "      <td>-2.018886</td>\n",
       "      <td>-1.587954</td>\n",
       "      <td>-4.244882</td>\n",
       "      <td>-0.674887</td>\n",
       "      <td>2015-2044</td>\n",
       "    </tr>\n",
       "  </tbody>\n",
       "</table>\n",
       "</div>"
      ],
      "text/plain": [
       "   Missouri  Arkansas      Ohio  Lower_Mississippi      Years\n",
       "0 -1.383714 -1.652696 -5.588285          -1.092999  2015-2044\n",
       "1 -1.892678 -1.826195 -5.225765          -0.786380  2015-2044\n",
       "2 -1.851447 -1.510556 -5.574511          -0.982601  2015-2044\n",
       "3 -2.271774 -1.749717 -6.333021          -1.023815  2015-2044\n",
       "4 -2.018886 -1.587954 -4.244882          -0.674887  2015-2044"
      ]
     },
     "execution_count": 120,
     "metadata": {},
     "output_type": "execute_result"
    }
   ],
   "source": [
    "#dfBasinsSnowMeltEraOne=pd.DataFrame(np.zeros((30,5)), columns=['Mississippi','Missouri','Arkansas','Ohio','Lower_Mississippi']).assign(Years='2015-2044')\n",
    "dfBasinsSnowMeltEraOne=pd.DataFrame(np.zeros((30,4)), columns=['Missouri','Arkansas','Ohio','Lower_Mississippi']).assign(Years='2015-2044')\n",
    "\n",
    "#dfBasinsSnowMeltEraOne.Mississippi = snowMelt_masked_ensMean_basinAvg_YrAvgAnom_eraOne_Missi\n",
    "dfBasinsSnowMeltEraOne.Missouri = snowMelt_masked_ensMean_basinAvg_YrAvgAnom_eraOne_Missouri\n",
    "dfBasinsSnowMeltEraOne.Arkansas = snowMelt_masked_ensMean_basinAvg_YrAvgAnom_eraOne_Arkansas\n",
    "dfBasinsSnowMeltEraOne.Ohio = snowMelt_masked_ensMean_basinAvg_YrAvgAnom_eraOne_Ohio\n",
    "dfBasinsSnowMeltEraOne.Lower_Mississippi = snowMelt_masked_ensMean_basinAvg_YrAvgAnom_eraOne_lowMissi\n",
    "print(dfBasinsSnowMeltEraOne.shape)\n",
    "dfBasinsSnowMeltEraOne.head()"
   ]
  },
  {
   "cell_type": "code",
   "execution_count": 121,
   "metadata": {},
   "outputs": [
    {
     "name": "stdout",
     "output_type": "stream",
     "text": [
      "(30, 5)\n"
     ]
    },
    {
     "data": {
      "text/html": [
       "<div>\n",
       "<style scoped>\n",
       "    .dataframe tbody tr th:only-of-type {\n",
       "        vertical-align: middle;\n",
       "    }\n",
       "\n",
       "    .dataframe tbody tr th {\n",
       "        vertical-align: top;\n",
       "    }\n",
       "\n",
       "    .dataframe thead th {\n",
       "        text-align: right;\n",
       "    }\n",
       "</style>\n",
       "<table border=\"1\" class=\"dataframe\">\n",
       "  <thead>\n",
       "    <tr style=\"text-align: right;\">\n",
       "      <th></th>\n",
       "      <th>Missouri</th>\n",
       "      <th>Arkansas</th>\n",
       "      <th>Ohio</th>\n",
       "      <th>Lower_Mississippi</th>\n",
       "      <th>Years</th>\n",
       "    </tr>\n",
       "  </thead>\n",
       "  <tbody>\n",
       "    <tr>\n",
       "      <th>0</th>\n",
       "      <td>-4.374477</td>\n",
       "      <td>-2.447689</td>\n",
       "      <td>-7.848287</td>\n",
       "      <td>-1.214744</td>\n",
       "      <td>2045-2074</td>\n",
       "    </tr>\n",
       "    <tr>\n",
       "      <th>1</th>\n",
       "      <td>-4.345620</td>\n",
       "      <td>-2.551209</td>\n",
       "      <td>-7.631082</td>\n",
       "      <td>-1.198618</td>\n",
       "      <td>2045-2074</td>\n",
       "    </tr>\n",
       "    <tr>\n",
       "      <th>2</th>\n",
       "      <td>-3.829638</td>\n",
       "      <td>-2.659623</td>\n",
       "      <td>-7.390199</td>\n",
       "      <td>-1.214697</td>\n",
       "      <td>2045-2074</td>\n",
       "    </tr>\n",
       "    <tr>\n",
       "      <th>3</th>\n",
       "      <td>-4.039272</td>\n",
       "      <td>-2.462568</td>\n",
       "      <td>-8.094998</td>\n",
       "      <td>-1.360315</td>\n",
       "      <td>2045-2074</td>\n",
       "    </tr>\n",
       "    <tr>\n",
       "      <th>4</th>\n",
       "      <td>-4.781835</td>\n",
       "      <td>-2.638590</td>\n",
       "      <td>-9.059947</td>\n",
       "      <td>-1.362255</td>\n",
       "      <td>2045-2074</td>\n",
       "    </tr>\n",
       "  </tbody>\n",
       "</table>\n",
       "</div>"
      ],
      "text/plain": [
       "   Missouri  Arkansas      Ohio  Lower_Mississippi      Years\n",
       "0 -4.374477 -2.447689 -7.848287          -1.214744  2045-2074\n",
       "1 -4.345620 -2.551209 -7.631082          -1.198618  2045-2074\n",
       "2 -3.829638 -2.659623 -7.390199          -1.214697  2045-2074\n",
       "3 -4.039272 -2.462568 -8.094998          -1.360315  2045-2074\n",
       "4 -4.781835 -2.638590 -9.059947          -1.362255  2045-2074"
      ]
     },
     "execution_count": 121,
     "metadata": {},
     "output_type": "execute_result"
    }
   ],
   "source": [
    "#dfBasinsSnowMeltEraTwo=pd.DataFrame(np.zeros((30,5)), columns=['Mississippi','Missouri','Arkansas','Ohio','Lower_Mississippi']).assign(Years='2045-2074')\n",
    "dfBasinsSnowMeltEraTwo=pd.DataFrame(np.zeros((30,4)), columns=['Missouri','Arkansas','Ohio','Lower_Mississippi']).assign(Years='2045-2074')\n",
    "\n",
    "#dfBasinsSnowMeltEraTwo.Mississippi = snowMelt_masked_ensMean_basinAvg_YrAvgAnom_eraTwo_Missi\n",
    "dfBasinsSnowMeltEraTwo.Missouri = snowMelt_masked_ensMean_basinAvg_YrAvgAnom_eraTwo_Missouri\n",
    "dfBasinsSnowMeltEraTwo.Arkansas = snowMelt_masked_ensMean_basinAvg_YrAvgAnom_eraTwo_Arkansas\n",
    "dfBasinsSnowMeltEraTwo.Ohio = snowMelt_masked_ensMean_basinAvg_YrAvgAnom_eraTwo_Ohio\n",
    "dfBasinsSnowMeltEraTwo.Lower_Mississippi = snowMelt_masked_ensMean_basinAvg_YrAvgAnom_eraTwo_lowMissi\n",
    "print(dfBasinsSnowMeltEraTwo.shape)\n",
    "dfBasinsSnowMeltEraTwo.head()"
   ]
  },
  {
   "cell_type": "code",
   "execution_count": 122,
   "metadata": {},
   "outputs": [
    {
     "name": "stdout",
     "output_type": "stream",
     "text": [
      "(26, 5)\n"
     ]
    },
    {
     "data": {
      "text/html": [
       "<div>\n",
       "<style scoped>\n",
       "    .dataframe tbody tr th:only-of-type {\n",
       "        vertical-align: middle;\n",
       "    }\n",
       "\n",
       "    .dataframe tbody tr th {\n",
       "        vertical-align: top;\n",
       "    }\n",
       "\n",
       "    .dataframe thead th {\n",
       "        text-align: right;\n",
       "    }\n",
       "</style>\n",
       "<table border=\"1\" class=\"dataframe\">\n",
       "  <thead>\n",
       "    <tr style=\"text-align: right;\">\n",
       "      <th></th>\n",
       "      <th>Missouri</th>\n",
       "      <th>Arkansas</th>\n",
       "      <th>Ohio</th>\n",
       "      <th>Lower_Mississippi</th>\n",
       "      <th>Years</th>\n",
       "    </tr>\n",
       "  </thead>\n",
       "  <tbody>\n",
       "    <tr>\n",
       "      <th>0</th>\n",
       "      <td>-6.575897</td>\n",
       "      <td>-3.244907</td>\n",
       "      <td>-10.478039</td>\n",
       "      <td>-1.687188</td>\n",
       "      <td>2075-2100</td>\n",
       "    </tr>\n",
       "    <tr>\n",
       "      <th>1</th>\n",
       "      <td>-6.234499</td>\n",
       "      <td>-3.226008</td>\n",
       "      <td>-10.193867</td>\n",
       "      <td>-1.456894</td>\n",
       "      <td>2075-2100</td>\n",
       "    </tr>\n",
       "    <tr>\n",
       "      <th>2</th>\n",
       "      <td>-6.046697</td>\n",
       "      <td>-3.393146</td>\n",
       "      <td>-10.412630</td>\n",
       "      <td>-1.587893</td>\n",
       "      <td>2075-2100</td>\n",
       "    </tr>\n",
       "    <tr>\n",
       "      <th>3</th>\n",
       "      <td>-6.095286</td>\n",
       "      <td>-3.201668</td>\n",
       "      <td>-10.236723</td>\n",
       "      <td>-1.420802</td>\n",
       "      <td>2075-2100</td>\n",
       "    </tr>\n",
       "    <tr>\n",
       "      <th>4</th>\n",
       "      <td>-6.340459</td>\n",
       "      <td>-3.093634</td>\n",
       "      <td>-9.854096</td>\n",
       "      <td>-1.491651</td>\n",
       "      <td>2075-2100</td>\n",
       "    </tr>\n",
       "  </tbody>\n",
       "</table>\n",
       "</div>"
      ],
      "text/plain": [
       "   Missouri  Arkansas       Ohio  Lower_Mississippi      Years\n",
       "0 -6.575897 -3.244907 -10.478039          -1.687188  2075-2100\n",
       "1 -6.234499 -3.226008 -10.193867          -1.456894  2075-2100\n",
       "2 -6.046697 -3.393146 -10.412630          -1.587893  2075-2100\n",
       "3 -6.095286 -3.201668 -10.236723          -1.420802  2075-2100\n",
       "4 -6.340459 -3.093634  -9.854096          -1.491651  2075-2100"
      ]
     },
     "execution_count": 122,
     "metadata": {},
     "output_type": "execute_result"
    }
   ],
   "source": [
    "#dfBasinsSnowMeltEraThree=pd.DataFrame(np.zeros((26,5)), columns=['Mississippi','Missouri','Arkansas','Ohio','Lower_Mississippi']).assign(Years='2075-2100')\n",
    "dfBasinsSnowMeltEraThree=pd.DataFrame(np.zeros((26,4)), columns=['Missouri','Arkansas','Ohio','Lower_Mississippi']).assign(Years='2075-2100')\n",
    "\n",
    "#dfBasinsSnowMeltEraThree.Mississippi = snowMelt_masked_ensMean_basinAvg_YrAvgAnom_eraThree_Missi\n",
    "dfBasinsSnowMeltEraThree.Missouri = snowMelt_masked_ensMean_basinAvg_YrAvgAnom_eraThree_Missouri\n",
    "dfBasinsSnowMeltEraThree.Arkansas = snowMelt_masked_ensMean_basinAvg_YrAvgAnom_eraThree_Arkansas\n",
    "dfBasinsSnowMeltEraThree.Ohio = snowMelt_masked_ensMean_basinAvg_YrAvgAnom_eraThree_Ohio\n",
    "dfBasinsSnowMeltEraThree.Lower_Mississippi = snowMelt_masked_ensMean_basinAvg_YrAvgAnom_eraThree_lowMissi\n",
    "print(dfBasinsSnowMeltEraThree.shape)\n",
    "dfBasinsSnowMeltEraThree.head()"
   ]
  },
  {
   "cell_type": "code",
   "execution_count": 123,
   "metadata": {},
   "outputs": [
    {
     "name": "stdout",
     "output_type": "stream",
     "text": [
      "       Years    Basins   Anomaly\n",
      "0  2015-2044  Missouri -1.383714\n",
      "1  2015-2044  Missouri -1.892678\n",
      "2  2015-2044  Missouri -1.851447\n",
      "3  2015-2044  Missouri -2.271774\n",
      "4  2015-2044  Missouri -2.018886\n"
     ]
    },
    {
     "data": {
      "text/html": [
       "<div>\n",
       "<style scoped>\n",
       "    .dataframe tbody tr th:only-of-type {\n",
       "        vertical-align: middle;\n",
       "    }\n",
       "\n",
       "    .dataframe tbody tr th {\n",
       "        vertical-align: top;\n",
       "    }\n",
       "\n",
       "    .dataframe thead th {\n",
       "        text-align: right;\n",
       "    }\n",
       "</style>\n",
       "<table border=\"1\" class=\"dataframe\">\n",
       "  <thead>\n",
       "    <tr style=\"text-align: right;\">\n",
       "      <th></th>\n",
       "      <th>Years</th>\n",
       "      <th>Basins</th>\n",
       "      <th>Anomaly</th>\n",
       "    </tr>\n",
       "  </thead>\n",
       "  <tbody>\n",
       "    <tr>\n",
       "      <th>0</th>\n",
       "      <td>2015-2044</td>\n",
       "      <td>Missouri</td>\n",
       "      <td>-1.383714</td>\n",
       "    </tr>\n",
       "    <tr>\n",
       "      <th>1</th>\n",
       "      <td>2015-2044</td>\n",
       "      <td>Missouri</td>\n",
       "      <td>-1.892678</td>\n",
       "    </tr>\n",
       "    <tr>\n",
       "      <th>2</th>\n",
       "      <td>2015-2044</td>\n",
       "      <td>Missouri</td>\n",
       "      <td>-1.851447</td>\n",
       "    </tr>\n",
       "    <tr>\n",
       "      <th>3</th>\n",
       "      <td>2015-2044</td>\n",
       "      <td>Missouri</td>\n",
       "      <td>-2.271774</td>\n",
       "    </tr>\n",
       "    <tr>\n",
       "      <th>4</th>\n",
       "      <td>2015-2044</td>\n",
       "      <td>Missouri</td>\n",
       "      <td>-2.018886</td>\n",
       "    </tr>\n",
       "    <tr>\n",
       "      <th>...</th>\n",
       "      <td>...</td>\n",
       "      <td>...</td>\n",
       "      <td>...</td>\n",
       "    </tr>\n",
       "    <tr>\n",
       "      <th>339</th>\n",
       "      <td>2075-2100</td>\n",
       "      <td>Lower_Mississippi</td>\n",
       "      <td>-1.674502</td>\n",
       "    </tr>\n",
       "    <tr>\n",
       "      <th>340</th>\n",
       "      <td>2075-2100</td>\n",
       "      <td>Lower_Mississippi</td>\n",
       "      <td>-1.615657</td>\n",
       "    </tr>\n",
       "    <tr>\n",
       "      <th>341</th>\n",
       "      <td>2075-2100</td>\n",
       "      <td>Lower_Mississippi</td>\n",
       "      <td>-1.684659</td>\n",
       "    </tr>\n",
       "    <tr>\n",
       "      <th>342</th>\n",
       "      <td>2075-2100</td>\n",
       "      <td>Lower_Mississippi</td>\n",
       "      <td>-1.649247</td>\n",
       "    </tr>\n",
       "    <tr>\n",
       "      <th>343</th>\n",
       "      <td>2075-2100</td>\n",
       "      <td>Lower_Mississippi</td>\n",
       "      <td>-1.596140</td>\n",
       "    </tr>\n",
       "  </tbody>\n",
       "</table>\n",
       "<p>344 rows × 3 columns</p>\n",
       "</div>"
      ],
      "text/plain": [
       "         Years             Basins   Anomaly\n",
       "0    2015-2044           Missouri -1.383714\n",
       "1    2015-2044           Missouri -1.892678\n",
       "2    2015-2044           Missouri -1.851447\n",
       "3    2015-2044           Missouri -2.271774\n",
       "4    2015-2044           Missouri -2.018886\n",
       "..         ...                ...       ...\n",
       "339  2075-2100  Lower_Mississippi -1.674502\n",
       "340  2075-2100  Lower_Mississippi -1.615657\n",
       "341  2075-2100  Lower_Mississippi -1.684659\n",
       "342  2075-2100  Lower_Mississippi -1.649247\n",
       "343  2075-2100  Lower_Mississippi -1.596140\n",
       "\n",
       "[344 rows x 3 columns]"
      ]
     },
     "execution_count": 123,
     "metadata": {},
     "output_type": "execute_result"
    }
   ],
   "source": [
    "cdfBasinsSnowMeltEras = pd.concat([dfBasinsSnowMeltEraOne, dfBasinsSnowMeltEraTwo, dfBasinsSnowMeltEraThree ])    \n",
    "mdfBasinsSnowMeltEras = pd.melt(cdfBasinsSnowMeltEras, id_vars=['Years'], var_name=['Basins'], value_name=\"Anomaly\") \n",
    "mdfBasinsSnowMeltEras\n",
    "print(mdfBasinsSnowMeltEras.head())\n",
    "mdfBasinsSnowMeltEras"
   ]
  },
  {
   "cell_type": "code",
   "execution_count": 124,
   "metadata": {},
   "outputs": [
    {
     "name": "stdout",
     "output_type": "stream",
     "text": [
      "(344, 3)\n"
     ]
    }
   ],
   "source": [
    "print(mdfBasinsSnowMeltEras.shape)"
   ]
  },
  {
   "cell_type": "code",
   "execution_count": null,
   "metadata": {},
   "outputs": [],
   "source": []
  },
  {
   "cell_type": "code",
   "execution_count": null,
   "metadata": {},
   "outputs": [],
   "source": []
  },
  {
   "cell_type": "markdown",
   "metadata": {},
   "source": [
    "## Soil Moisture"
   ]
  },
  {
   "cell_type": "code",
   "execution_count": 125,
   "metadata": {},
   "outputs": [
    {
     "name": "stdout",
     "output_type": "stream",
     "text": [
      "(171,)\n",
      "(171,)\n",
      "(171,)\n",
      "(171,)\n",
      "(171,)\n"
     ]
    }
   ],
   "source": [
    "file_soilMoist_Missi = 'C:/rezaul/1.academic/1.research/2.project/mrb/dt/cesm/cesm2LE/param/soilMoist/mon/output/anom/soilMoist_EnsMeanYrAvgAnom_Missi.npy'\n",
    "soilMoist_masked_ensMean_basinAvg_YrAvgAnom_Missi = np.load(file_soilMoist_Missi)\n",
    "print(soilMoist_masked_ensMean_basinAvg_YrAvgAnom_Missi.shape)\n",
    "#print(soilMoist_masked_ensMean_basinAvg_YrAvgAnom_Missi)\n",
    "\n",
    "file_soilMoist_Missouri = 'C:/rezaul/1.academic/1.research/2.project/mrb/dt/cesm/cesm2LE/param/soilMoist/mon/output/anom/soilMoist_EnsMeanYrAvgAnom_Missouri.npy'\n",
    "soilMoist_masked_ensMean_basinAvg_YrAvgAnom_Missouri = np.load(file_soilMoist_Missouri)\n",
    "print(soilMoist_masked_ensMean_basinAvg_YrAvgAnom_Missouri.shape)\n",
    "\n",
    "file_soilMoist_Arkansas = 'C:/rezaul/1.academic/1.research/2.project/mrb/dt/cesm/cesm2LE/param/soilMoist/mon/output/anom/soilMoist_EnsMeanYrAvgAnom_Arkansas.npy'\n",
    "soilMoist_masked_ensMean_basinAvg_YrAvgAnom_Arkansas = np.load(file_soilMoist_Arkansas)\n",
    "print(soilMoist_masked_ensMean_basinAvg_YrAvgAnom_Arkansas.shape)\n",
    "\n",
    "file_soilMoist_Ohio = 'C:/rezaul/1.academic/1.research/2.project/mrb/dt/cesm/cesm2LE/param/soilMoist/mon/output/anom/soilMoist_EnsMeanYrAvgAnom_Ohio.npy'\n",
    "soilMoist_masked_ensMean_basinAvg_YrAvgAnom_Ohio = np.load(file_soilMoist_Ohio)\n",
    "print(soilMoist_masked_ensMean_basinAvg_YrAvgAnom_Ohio.shape)\n",
    "\n",
    "file_soilMoist_lowMissi = 'C:/rezaul/1.academic/1.research/2.project/mrb/dt/cesm/cesm2LE/param/soilMoist/mon/output/anom/soilMoist_EnsMeanYrAvgAnom_lowMissi.npy'\n",
    "soilMoist_masked_ensMean_basinAvg_YrAvgAnom_lowMissi = np.load(file_soilMoist_lowMissi)\n",
    "print(soilMoist_masked_ensMean_basinAvg_YrAvgAnom_lowMissi.shape)\n"
   ]
  },
  {
   "cell_type": "markdown",
   "metadata": {},
   "source": [
    "## Split into Eras"
   ]
  },
  {
   "cell_type": "code",
   "execution_count": 126,
   "metadata": {},
   "outputs": [
    {
     "name": "stdout",
     "output_type": "stream",
     "text": [
      "(26,)\n",
      "(26,)\n",
      "(26,)\n",
      "(26,)\n",
      "(26,)\n"
     ]
    }
   ],
   "source": [
    "# Mississippi\n",
    "soilMoist_masked_ensMean_basinAvg_YrAvgAnom_eraOne_Missi = soilMoist_masked_ensMean_basinAvg_YrAvgAnom_Missi[scenEraOneStepSt:scenEraOneStepEnd]\n",
    "#print(soilMoist_masked_ensMean_basinAvg_YrAvgAnom_eraOne_Missi.shape)\n",
    "\n",
    "soilMoist_masked_ensMean_basinAvg_YrAvgAnom_eraTwo_Missi = soilMoist_masked_ensMean_basinAvg_YrAvgAnom_Missi[scenEraTwoStepSt:scenEraTwoStepEnd]\n",
    "#print(soilMoist_masked_ensMean_basinAvg_YrAvgAnom_eraTwo_Missi.shape)\n",
    "\n",
    "soilMoist_masked_ensMean_basinAvg_YrAvgAnom_eraThree_Missi = soilMoist_masked_ensMean_basinAvg_YrAvgAnom_Missi[scenEraThreeStepSt:scenEraThreeStepEnd]\n",
    "print(soilMoist_masked_ensMean_basinAvg_YrAvgAnom_eraThree_Missi.shape)\n",
    "#+++++++++++++++++++++++++++++++++++++++++++++++++++++++++++++++++++++++++\n",
    "\n",
    "## Missouri\n",
    "soilMoist_masked_ensMean_basinAvg_YrAvgAnom_eraOne_Missouri = soilMoist_masked_ensMean_basinAvg_YrAvgAnom_Missouri[scenEraOneStepSt:scenEraOneStepEnd]\n",
    "#print(soilMoist_masked_ensMean_basinAvg_YrAvgAnom_eraOne_Missouri.shape)\n",
    "\n",
    "soilMoist_masked_ensMean_basinAvg_YrAvgAnom_eraTwo_Missouri = soilMoist_masked_ensMean_basinAvg_YrAvgAnom_Missouri[scenEraTwoStepSt:scenEraTwoStepEnd]\n",
    "#print(soilMoist_masked_ensMean_basinAvg_YrAvgAnom_eraTwo_Missouri.shape)\n",
    "\n",
    "soilMoist_masked_ensMean_basinAvg_YrAvgAnom_eraThree_Missouri = soilMoist_masked_ensMean_basinAvg_YrAvgAnom_Missouri[scenEraThreeStepSt:scenEraThreeStepEnd]\n",
    "print(soilMoist_masked_ensMean_basinAvg_YrAvgAnom_eraThree_Missouri.shape)\n",
    "#+++++++++++++++++++++++++++++++++++++++++++++++++++++++++++++++++++++++++\n",
    "\n",
    "# Arkansas\n",
    "soilMoist_masked_ensMean_basinAvg_YrAvgAnom_eraOne_Arkansas = soilMoist_masked_ensMean_basinAvg_YrAvgAnom_Arkansas[scenEraOneStepSt:scenEraOneStepEnd]\n",
    "#print(soilMoist_masked_ensMean_basinAvg_YrAvgAnom_eraOne_Arkansas.shape)\n",
    "\n",
    "soilMoist_masked_ensMean_basinAvg_YrAvgAnom_eraTwo_Arkansas = soilMoist_masked_ensMean_basinAvg_YrAvgAnom_Arkansas[scenEraTwoStepSt:scenEraTwoStepEnd]\n",
    "#print(soilMoist_masked_ensMean_basinAvg_YrAvgAnom_eraTwo_Arkansas.shape)\n",
    "\n",
    "soilMoist_masked_ensMean_basinAvg_YrAvgAnom_eraThree_Arkansas = soilMoist_masked_ensMean_basinAvg_YrAvgAnom_Arkansas[scenEraThreeStepSt:scenEraThreeStepEnd]\n",
    "print(soilMoist_masked_ensMean_basinAvg_YrAvgAnom_eraThree_Arkansas.shape)\n",
    "#+++++++++++++++++++++++++++++++++++++++++++++++++++++++++++++++++++++++++\n",
    "\n",
    "# Ohio\n",
    "soilMoist_masked_ensMean_basinAvg_YrAvgAnom_eraOne_Ohio = soilMoist_masked_ensMean_basinAvg_YrAvgAnom_Ohio[scenEraOneStepSt:scenEraOneStepEnd]\n",
    "#print(soilMoist_masked_ensMean_basinAvg_YrAvgAnom_eraOne_Ohio.shape)\n",
    "\n",
    "soilMoist_masked_ensMean_basinAvg_YrAvgAnom_eraTwo_Ohio = soilMoist_masked_ensMean_basinAvg_YrAvgAnom_Ohio[scenEraTwoStepSt:scenEraTwoStepEnd]\n",
    "#print(soilMoist_masked_ensMean_basinAvg_YrAvgAnom_eraTwo_Ohio.shape)\n",
    "\n",
    "soilMoist_masked_ensMean_basinAvg_YrAvgAnom_eraThree_Ohio = soilMoist_masked_ensMean_basinAvg_YrAvgAnom_Ohio[scenEraThreeStepSt:scenEraThreeStepEnd]\n",
    "print(soilMoist_masked_ensMean_basinAvg_YrAvgAnom_eraThree_Ohio.shape)\n",
    "#+++++++++++++++++++++++++++++++++++++++++++++++++++++++++++++++++++++++++\n",
    "\n",
    "# Lower Mississippi\n",
    "soilMoist_masked_ensMean_basinAvg_YrAvgAnom_eraOne_lowMissi = soilMoist_masked_ensMean_basinAvg_YrAvgAnom_lowMissi[scenEraOneStepSt:scenEraOneStepEnd]\n",
    "#print(soilMoist_masked_ensMean_basinAvg_YrAvgAnom_eraOne_lowMissi.shape)\n",
    "\n",
    "soilMoist_masked_ensMean_basinAvg_YrAvgAnom_eraTwo_lowMissi = soilMoist_masked_ensMean_basinAvg_YrAvgAnom_lowMissi[scenEraTwoStepSt:scenEraTwoStepEnd]\n",
    "#print(soilMoist_masked_ensMean_basinAvg_YrAvgAnom_eraTwo_lowMissi.shape)\n",
    "\n",
    "soilMoist_masked_ensMean_basinAvg_YrAvgAnom_eraThree_lowMissi = soilMoist_masked_ensMean_basinAvg_YrAvgAnom_lowMissi[scenEraThreeStepSt:scenEraThreeStepEnd]\n",
    "print(soilMoist_masked_ensMean_basinAvg_YrAvgAnom_eraThree_lowMissi.shape)\n",
    "\n",
    "#+++++++++++++++++++++++++++++++++++++++++++++++++++++++++++++++++++++++++\n"
   ]
  },
  {
   "cell_type": "code",
   "execution_count": null,
   "metadata": {},
   "outputs": [],
   "source": []
  },
  {
   "cell_type": "code",
   "execution_count": 127,
   "metadata": {},
   "outputs": [
    {
     "name": "stdout",
     "output_type": "stream",
     "text": [
      "(30, 5)\n"
     ]
    },
    {
     "data": {
      "text/html": [
       "<div>\n",
       "<style scoped>\n",
       "    .dataframe tbody tr th:only-of-type {\n",
       "        vertical-align: middle;\n",
       "    }\n",
       "\n",
       "    .dataframe tbody tr th {\n",
       "        vertical-align: top;\n",
       "    }\n",
       "\n",
       "    .dataframe thead th {\n",
       "        text-align: right;\n",
       "    }\n",
       "</style>\n",
       "<table border=\"1\" class=\"dataframe\">\n",
       "  <thead>\n",
       "    <tr style=\"text-align: right;\">\n",
       "      <th></th>\n",
       "      <th>Missouri</th>\n",
       "      <th>Arkansas</th>\n",
       "      <th>Ohio</th>\n",
       "      <th>Lower_Mississippi</th>\n",
       "      <th>Years</th>\n",
       "    </tr>\n",
       "  </thead>\n",
       "  <tbody>\n",
       "    <tr>\n",
       "      <th>0</th>\n",
       "      <td>-0.973563</td>\n",
       "      <td>-1.185624</td>\n",
       "      <td>-1.114079</td>\n",
       "      <td>-0.763952</td>\n",
       "      <td>2015-2044</td>\n",
       "    </tr>\n",
       "    <tr>\n",
       "      <th>1</th>\n",
       "      <td>-0.786694</td>\n",
       "      <td>-1.031379</td>\n",
       "      <td>-0.476373</td>\n",
       "      <td>-0.555476</td>\n",
       "      <td>2015-2044</td>\n",
       "    </tr>\n",
       "    <tr>\n",
       "      <th>2</th>\n",
       "      <td>-0.613122</td>\n",
       "      <td>-0.926199</td>\n",
       "      <td>-0.561133</td>\n",
       "      <td>-0.314303</td>\n",
       "      <td>2015-2044</td>\n",
       "    </tr>\n",
       "    <tr>\n",
       "      <th>3</th>\n",
       "      <td>-0.796989</td>\n",
       "      <td>-1.041176</td>\n",
       "      <td>-1.180392</td>\n",
       "      <td>-0.876960</td>\n",
       "      <td>2015-2044</td>\n",
       "    </tr>\n",
       "    <tr>\n",
       "      <th>4</th>\n",
       "      <td>-0.664812</td>\n",
       "      <td>-0.712662</td>\n",
       "      <td>-0.448637</td>\n",
       "      <td>-0.140740</td>\n",
       "      <td>2015-2044</td>\n",
       "    </tr>\n",
       "  </tbody>\n",
       "</table>\n",
       "</div>"
      ],
      "text/plain": [
       "   Missouri  Arkansas      Ohio  Lower_Mississippi      Years\n",
       "0 -0.973563 -1.185624 -1.114079          -0.763952  2015-2044\n",
       "1 -0.786694 -1.031379 -0.476373          -0.555476  2015-2044\n",
       "2 -0.613122 -0.926199 -0.561133          -0.314303  2015-2044\n",
       "3 -0.796989 -1.041176 -1.180392          -0.876960  2015-2044\n",
       "4 -0.664812 -0.712662 -0.448637          -0.140740  2015-2044"
      ]
     },
     "execution_count": 127,
     "metadata": {},
     "output_type": "execute_result"
    }
   ],
   "source": [
    "#dfBasinsSoilMoistEraOne=pd.DataFrame(np.zeros((30,5)), columns=['Mississippi','Missouri','Arkansas','Ohio','Lower_Mississippi']).assign(Years='2015-2044')\n",
    "dfBasinsSoilMoistEraOne=pd.DataFrame(np.zeros((30,4)), columns=['Missouri','Arkansas','Ohio','Lower_Mississippi']).assign(Years='2015-2044')\n",
    "\n",
    "#dfBasinsSoilMoistEraOne.Mississippi = soilMoist_masked_ensMean_basinAvg_YrAvgAnom_eraOne_Missi\n",
    "dfBasinsSoilMoistEraOne.Missouri = soilMoist_masked_ensMean_basinAvg_YrAvgAnom_eraOne_Missouri\n",
    "dfBasinsSoilMoistEraOne.Arkansas = soilMoist_masked_ensMean_basinAvg_YrAvgAnom_eraOne_Arkansas\n",
    "dfBasinsSoilMoistEraOne.Ohio = soilMoist_masked_ensMean_basinAvg_YrAvgAnom_eraOne_Ohio\n",
    "dfBasinsSoilMoistEraOne.Lower_Mississippi = soilMoist_masked_ensMean_basinAvg_YrAvgAnom_eraOne_lowMissi\n",
    "print(dfBasinsSoilMoistEraOne.shape)\n",
    "dfBasinsSoilMoistEraOne.head()"
   ]
  },
  {
   "cell_type": "code",
   "execution_count": 128,
   "metadata": {},
   "outputs": [
    {
     "name": "stdout",
     "output_type": "stream",
     "text": [
      "(30, 5)\n"
     ]
    },
    {
     "data": {
      "text/html": [
       "<div>\n",
       "<style scoped>\n",
       "    .dataframe tbody tr th:only-of-type {\n",
       "        vertical-align: middle;\n",
       "    }\n",
       "\n",
       "    .dataframe tbody tr th {\n",
       "        vertical-align: top;\n",
       "    }\n",
       "\n",
       "    .dataframe thead th {\n",
       "        text-align: right;\n",
       "    }\n",
       "</style>\n",
       "<table border=\"1\" class=\"dataframe\">\n",
       "  <thead>\n",
       "    <tr style=\"text-align: right;\">\n",
       "      <th></th>\n",
       "      <th>Missouri</th>\n",
       "      <th>Arkansas</th>\n",
       "      <th>Ohio</th>\n",
       "      <th>Lower_Mississippi</th>\n",
       "      <th>Years</th>\n",
       "    </tr>\n",
       "  </thead>\n",
       "  <tbody>\n",
       "    <tr>\n",
       "      <th>0</th>\n",
       "      <td>-1.432191</td>\n",
       "      <td>-1.091194</td>\n",
       "      <td>-1.221126</td>\n",
       "      <td>-0.710912</td>\n",
       "      <td>2045-2074</td>\n",
       "    </tr>\n",
       "    <tr>\n",
       "      <th>1</th>\n",
       "      <td>-1.338395</td>\n",
       "      <td>-0.827161</td>\n",
       "      <td>-0.497166</td>\n",
       "      <td>-0.344931</td>\n",
       "      <td>2045-2074</td>\n",
       "    </tr>\n",
       "    <tr>\n",
       "      <th>2</th>\n",
       "      <td>-1.391203</td>\n",
       "      <td>-1.010958</td>\n",
       "      <td>-0.948251</td>\n",
       "      <td>-0.357183</td>\n",
       "      <td>2045-2074</td>\n",
       "    </tr>\n",
       "    <tr>\n",
       "      <th>3</th>\n",
       "      <td>-1.446160</td>\n",
       "      <td>-1.175159</td>\n",
       "      <td>-1.128430</td>\n",
       "      <td>-0.553421</td>\n",
       "      <td>2045-2074</td>\n",
       "    </tr>\n",
       "    <tr>\n",
       "      <th>4</th>\n",
       "      <td>-1.592774</td>\n",
       "      <td>-1.283381</td>\n",
       "      <td>-1.182682</td>\n",
       "      <td>-0.493247</td>\n",
       "      <td>2045-2074</td>\n",
       "    </tr>\n",
       "  </tbody>\n",
       "</table>\n",
       "</div>"
      ],
      "text/plain": [
       "   Missouri  Arkansas      Ohio  Lower_Mississippi      Years\n",
       "0 -1.432191 -1.091194 -1.221126          -0.710912  2045-2074\n",
       "1 -1.338395 -0.827161 -0.497166          -0.344931  2045-2074\n",
       "2 -1.391203 -1.010958 -0.948251          -0.357183  2045-2074\n",
       "3 -1.446160 -1.175159 -1.128430          -0.553421  2045-2074\n",
       "4 -1.592774 -1.283381 -1.182682          -0.493247  2045-2074"
      ]
     },
     "execution_count": 128,
     "metadata": {},
     "output_type": "execute_result"
    }
   ],
   "source": [
    "#dfBasinsSoilMoistEraTwo=pd.DataFrame(np.zeros((30,5)), columns=['Mississippi','Missouri','Arkansas','Ohio','Lower_Mississippi']).assign(Years='2045-2074')\n",
    "dfBasinsSoilMoistEraTwo=pd.DataFrame(np.zeros((30,4)), columns=['Missouri','Arkansas','Ohio','Lower_Mississippi']).assign(Years='2045-2074')\n",
    "\n",
    "#dfBasinsSoilMoistEraTwo.Mississippi = soilMoist_masked_ensMean_basinAvg_YrAvgAnom_eraTwo_Missi\n",
    "dfBasinsSoilMoistEraTwo.Missouri = soilMoist_masked_ensMean_basinAvg_YrAvgAnom_eraTwo_Missouri\n",
    "dfBasinsSoilMoistEraTwo.Arkansas = soilMoist_masked_ensMean_basinAvg_YrAvgAnom_eraTwo_Arkansas\n",
    "dfBasinsSoilMoistEraTwo.Ohio = soilMoist_masked_ensMean_basinAvg_YrAvgAnom_eraTwo_Ohio\n",
    "dfBasinsSoilMoistEraTwo.Lower_Mississippi = soilMoist_masked_ensMean_basinAvg_YrAvgAnom_eraTwo_lowMissi\n",
    "print(dfBasinsSoilMoistEraTwo.shape)\n",
    "dfBasinsSoilMoistEraTwo.head()"
   ]
  },
  {
   "cell_type": "code",
   "execution_count": 129,
   "metadata": {},
   "outputs": [
    {
     "name": "stdout",
     "output_type": "stream",
     "text": [
      "(26, 5)\n"
     ]
    },
    {
     "data": {
      "text/html": [
       "<div>\n",
       "<style scoped>\n",
       "    .dataframe tbody tr th:only-of-type {\n",
       "        vertical-align: middle;\n",
       "    }\n",
       "\n",
       "    .dataframe tbody tr th {\n",
       "        vertical-align: top;\n",
       "    }\n",
       "\n",
       "    .dataframe thead th {\n",
       "        text-align: right;\n",
       "    }\n",
       "</style>\n",
       "<table border=\"1\" class=\"dataframe\">\n",
       "  <thead>\n",
       "    <tr style=\"text-align: right;\">\n",
       "      <th></th>\n",
       "      <th>Missouri</th>\n",
       "      <th>Arkansas</th>\n",
       "      <th>Ohio</th>\n",
       "      <th>Lower_Mississippi</th>\n",
       "      <th>Years</th>\n",
       "    </tr>\n",
       "  </thead>\n",
       "  <tbody>\n",
       "    <tr>\n",
       "      <th>0</th>\n",
       "      <td>-1.763450</td>\n",
       "      <td>-1.007008</td>\n",
       "      <td>-0.648357</td>\n",
       "      <td>0.051122</td>\n",
       "      <td>2075-2100</td>\n",
       "    </tr>\n",
       "    <tr>\n",
       "      <th>1</th>\n",
       "      <td>-1.873270</td>\n",
       "      <td>-1.343881</td>\n",
       "      <td>-1.005697</td>\n",
       "      <td>-0.548087</td>\n",
       "      <td>2075-2100</td>\n",
       "    </tr>\n",
       "    <tr>\n",
       "      <th>2</th>\n",
       "      <td>-1.835697</td>\n",
       "      <td>-1.053552</td>\n",
       "      <td>-0.780287</td>\n",
       "      <td>0.068826</td>\n",
       "      <td>2075-2100</td>\n",
       "    </tr>\n",
       "    <tr>\n",
       "      <th>3</th>\n",
       "      <td>-1.824111</td>\n",
       "      <td>-1.142819</td>\n",
       "      <td>-0.836082</td>\n",
       "      <td>-0.320167</td>\n",
       "      <td>2075-2100</td>\n",
       "    </tr>\n",
       "    <tr>\n",
       "      <th>4</th>\n",
       "      <td>-1.623011</td>\n",
       "      <td>-0.983648</td>\n",
       "      <td>-0.747073</td>\n",
       "      <td>-0.329251</td>\n",
       "      <td>2075-2100</td>\n",
       "    </tr>\n",
       "  </tbody>\n",
       "</table>\n",
       "</div>"
      ],
      "text/plain": [
       "   Missouri  Arkansas      Ohio  Lower_Mississippi      Years\n",
       "0 -1.763450 -1.007008 -0.648357           0.051122  2075-2100\n",
       "1 -1.873270 -1.343881 -1.005697          -0.548087  2075-2100\n",
       "2 -1.835697 -1.053552 -0.780287           0.068826  2075-2100\n",
       "3 -1.824111 -1.142819 -0.836082          -0.320167  2075-2100\n",
       "4 -1.623011 -0.983648 -0.747073          -0.329251  2075-2100"
      ]
     },
     "execution_count": 129,
     "metadata": {},
     "output_type": "execute_result"
    }
   ],
   "source": [
    "#dfBasinsSoilMoistEraThree=pd.DataFrame(np.zeros((26,5)), columns=['Mississippi','Missouri','Arkansas','Ohio','Lower_Mississippi']).assign(Years='2075-2100')\n",
    "dfBasinsSoilMoistEraThree=pd.DataFrame(np.zeros((26,4)), columns=['Missouri','Arkansas','Ohio','Lower_Mississippi']).assign(Years='2075-2100')\n",
    "\n",
    "#dfBasinsSoilMoistEraThree.Mississippi = soilMoist_masked_ensMean_basinAvg_YrAvgAnom_eraThree_Missi\n",
    "dfBasinsSoilMoistEraThree.Missouri = soilMoist_masked_ensMean_basinAvg_YrAvgAnom_eraThree_Missouri\n",
    "dfBasinsSoilMoistEraThree.Arkansas = soilMoist_masked_ensMean_basinAvg_YrAvgAnom_eraThree_Arkansas\n",
    "dfBasinsSoilMoistEraThree.Ohio = soilMoist_masked_ensMean_basinAvg_YrAvgAnom_eraThree_Ohio\n",
    "dfBasinsSoilMoistEraThree.Lower_Mississippi = soilMoist_masked_ensMean_basinAvg_YrAvgAnom_eraThree_lowMissi\n",
    "print(dfBasinsSoilMoistEraThree.shape)\n",
    "dfBasinsSoilMoistEraThree.head()"
   ]
  },
  {
   "cell_type": "code",
   "execution_count": 130,
   "metadata": {},
   "outputs": [
    {
     "name": "stdout",
     "output_type": "stream",
     "text": [
      "       Years    Basins   Anomaly\n",
      "0  2015-2044  Missouri -0.973563\n",
      "1  2015-2044  Missouri -0.786694\n",
      "2  2015-2044  Missouri -0.613122\n",
      "3  2015-2044  Missouri -0.796989\n",
      "4  2015-2044  Missouri -0.664812\n"
     ]
    },
    {
     "data": {
      "text/html": [
       "<div>\n",
       "<style scoped>\n",
       "    .dataframe tbody tr th:only-of-type {\n",
       "        vertical-align: middle;\n",
       "    }\n",
       "\n",
       "    .dataframe tbody tr th {\n",
       "        vertical-align: top;\n",
       "    }\n",
       "\n",
       "    .dataframe thead th {\n",
       "        text-align: right;\n",
       "    }\n",
       "</style>\n",
       "<table border=\"1\" class=\"dataframe\">\n",
       "  <thead>\n",
       "    <tr style=\"text-align: right;\">\n",
       "      <th></th>\n",
       "      <th>Years</th>\n",
       "      <th>Basins</th>\n",
       "      <th>Anomaly</th>\n",
       "    </tr>\n",
       "  </thead>\n",
       "  <tbody>\n",
       "    <tr>\n",
       "      <th>0</th>\n",
       "      <td>2015-2044</td>\n",
       "      <td>Missouri</td>\n",
       "      <td>-0.973563</td>\n",
       "    </tr>\n",
       "    <tr>\n",
       "      <th>1</th>\n",
       "      <td>2015-2044</td>\n",
       "      <td>Missouri</td>\n",
       "      <td>-0.786694</td>\n",
       "    </tr>\n",
       "    <tr>\n",
       "      <th>2</th>\n",
       "      <td>2015-2044</td>\n",
       "      <td>Missouri</td>\n",
       "      <td>-0.613122</td>\n",
       "    </tr>\n",
       "    <tr>\n",
       "      <th>3</th>\n",
       "      <td>2015-2044</td>\n",
       "      <td>Missouri</td>\n",
       "      <td>-0.796989</td>\n",
       "    </tr>\n",
       "    <tr>\n",
       "      <th>4</th>\n",
       "      <td>2015-2044</td>\n",
       "      <td>Missouri</td>\n",
       "      <td>-0.664812</td>\n",
       "    </tr>\n",
       "    <tr>\n",
       "      <th>...</th>\n",
       "      <td>...</td>\n",
       "      <td>...</td>\n",
       "      <td>...</td>\n",
       "    </tr>\n",
       "    <tr>\n",
       "      <th>339</th>\n",
       "      <td>2075-2100</td>\n",
       "      <td>Lower_Mississippi</td>\n",
       "      <td>-0.259453</td>\n",
       "    </tr>\n",
       "    <tr>\n",
       "      <th>340</th>\n",
       "      <td>2075-2100</td>\n",
       "      <td>Lower_Mississippi</td>\n",
       "      <td>-0.385110</td>\n",
       "    </tr>\n",
       "    <tr>\n",
       "      <th>341</th>\n",
       "      <td>2075-2100</td>\n",
       "      <td>Lower_Mississippi</td>\n",
       "      <td>-0.436048</td>\n",
       "    </tr>\n",
       "    <tr>\n",
       "      <th>342</th>\n",
       "      <td>2075-2100</td>\n",
       "      <td>Lower_Mississippi</td>\n",
       "      <td>-0.507962</td>\n",
       "    </tr>\n",
       "    <tr>\n",
       "      <th>343</th>\n",
       "      <td>2075-2100</td>\n",
       "      <td>Lower_Mississippi</td>\n",
       "      <td>-0.586617</td>\n",
       "    </tr>\n",
       "  </tbody>\n",
       "</table>\n",
       "<p>344 rows × 3 columns</p>\n",
       "</div>"
      ],
      "text/plain": [
       "         Years             Basins   Anomaly\n",
       "0    2015-2044           Missouri -0.973563\n",
       "1    2015-2044           Missouri -0.786694\n",
       "2    2015-2044           Missouri -0.613122\n",
       "3    2015-2044           Missouri -0.796989\n",
       "4    2015-2044           Missouri -0.664812\n",
       "..         ...                ...       ...\n",
       "339  2075-2100  Lower_Mississippi -0.259453\n",
       "340  2075-2100  Lower_Mississippi -0.385110\n",
       "341  2075-2100  Lower_Mississippi -0.436048\n",
       "342  2075-2100  Lower_Mississippi -0.507962\n",
       "343  2075-2100  Lower_Mississippi -0.586617\n",
       "\n",
       "[344 rows x 3 columns]"
      ]
     },
     "execution_count": 130,
     "metadata": {},
     "output_type": "execute_result"
    }
   ],
   "source": [
    "cdfBasinsSoilMoistEras = pd.concat([dfBasinsSoilMoistEraOne, dfBasinsSoilMoistEraTwo, dfBasinsSoilMoistEraThree ])    \n",
    "mdfBasinsSoilMoistEras = pd.melt(cdfBasinsSoilMoistEras, id_vars=['Years'], var_name=['Basins'], value_name=\"Anomaly\") \n",
    "mdfBasinsSoilMoistEras\n",
    "print(mdfBasinsSoilMoistEras.head())\n",
    "mdfBasinsSoilMoistEras"
   ]
  },
  {
   "cell_type": "code",
   "execution_count": 131,
   "metadata": {},
   "outputs": [
    {
     "name": "stdout",
     "output_type": "stream",
     "text": [
      "(344, 3)\n"
     ]
    }
   ],
   "source": [
    "print(mdfBasinsSoilMoistEras.shape)"
   ]
  },
  {
   "cell_type": "code",
   "execution_count": null,
   "metadata": {},
   "outputs": [],
   "source": []
  },
  {
   "cell_type": "code",
   "execution_count": null,
   "metadata": {},
   "outputs": [],
   "source": []
  },
  {
   "cell_type": "markdown",
   "metadata": {},
   "source": [
    "## Runoff"
   ]
  },
  {
   "cell_type": "code",
   "execution_count": 132,
   "metadata": {},
   "outputs": [
    {
     "name": "stdout",
     "output_type": "stream",
     "text": [
      "(171,)\n",
      "(171,)\n",
      "(171,)\n",
      "(171,)\n",
      "(171,)\n"
     ]
    }
   ],
   "source": [
    "file_runoff_Missi = 'C:/rezaul/1.academic/1.research/2.project/mrb/dt/cesm/cesm2LE/param/runoff/mon/output/anom/runoff_EnsMeanYrAvgAnom_Missi.npy'\n",
    "runoff_masked_ensMean_basinAvg_YrAvgAnom_Missi = np.load(file_runoff_Missi)\n",
    "print(runoff_masked_ensMean_basinAvg_YrAvgAnom_Missi.shape)\n",
    "#print(runoff_masked_ensMean_basinAvg_YrAvgAnom_Missi)\n",
    "\n",
    "file_runoff_Missouri = 'C:/rezaul/1.academic/1.research/2.project/mrb/dt/cesm/cesm2LE/param/runoff/mon/output/anom/runoff_EnsMeanYrAvgAnom_Missouri.npy'\n",
    "runoff_masked_ensMean_basinAvg_YrAvgAnom_Missouri = np.load(file_runoff_Missouri)\n",
    "print(runoff_masked_ensMean_basinAvg_YrAvgAnom_Missouri.shape)\n",
    "\n",
    "file_runoff_Arkansas = 'C:/rezaul/1.academic/1.research/2.project/mrb/dt/cesm/cesm2LE/param/runoff/mon/output/anom/runoff_EnsMeanYrAvgAnom_Arkansas.npy'\n",
    "runoff_masked_ensMean_basinAvg_YrAvgAnom_Arkansas = np.load(file_runoff_Arkansas)\n",
    "print(runoff_masked_ensMean_basinAvg_YrAvgAnom_Arkansas.shape)\n",
    "\n",
    "file_runoff_Ohio = 'C:/rezaul/1.academic/1.research/2.project/mrb/dt/cesm/cesm2LE/param/runoff/mon/output/anom/runoff_EnsMeanYrAvgAnom_Ohio.npy'\n",
    "runoff_masked_ensMean_basinAvg_YrAvgAnom_Ohio = np.load(file_runoff_Ohio)\n",
    "print(runoff_masked_ensMean_basinAvg_YrAvgAnom_Ohio.shape)\n",
    "\n",
    "file_runoff_lowMissi = 'C:/rezaul/1.academic/1.research/2.project/mrb/dt/cesm/cesm2LE/param/runoff/mon/output/anom/runoff_EnsMeanYrAvgAnom_lowMissi.npy'\n",
    "runoff_masked_ensMean_basinAvg_YrAvgAnom_lowMissi = np.load(file_runoff_lowMissi)\n",
    "print(runoff_masked_ensMean_basinAvg_YrAvgAnom_lowMissi.shape)\n"
   ]
  },
  {
   "cell_type": "markdown",
   "metadata": {},
   "source": [
    "## Split into Eras"
   ]
  },
  {
   "cell_type": "code",
   "execution_count": 133,
   "metadata": {},
   "outputs": [
    {
     "name": "stdout",
     "output_type": "stream",
     "text": [
      "(26,)\n",
      "(26,)\n",
      "(26,)\n",
      "(26,)\n",
      "(26,)\n"
     ]
    }
   ],
   "source": [
    "# Mississippi\n",
    "runoff_masked_ensMean_basinAvg_YrAvgAnom_eraOne_Missi = runoff_masked_ensMean_basinAvg_YrAvgAnom_Missi[scenEraOneStepSt:scenEraOneStepEnd]\n",
    "#print(runoff_masked_ensMean_basinAvg_YrAvgAnom_eraOne_Missi.shape)\n",
    "\n",
    "runoff_masked_ensMean_basinAvg_YrAvgAnom_eraTwo_Missi = runoff_masked_ensMean_basinAvg_YrAvgAnom_Missi[scenEraTwoStepSt:scenEraTwoStepEnd]\n",
    "#print(runoff_masked_ensMean_basinAvg_YrAvgAnom_eraTwo_Missi.shape)\n",
    "\n",
    "runoff_masked_ensMean_basinAvg_YrAvgAnom_eraThree_Missi = runoff_masked_ensMean_basinAvg_YrAvgAnom_Missi[scenEraThreeStepSt:scenEraThreeStepEnd]\n",
    "print(runoff_masked_ensMean_basinAvg_YrAvgAnom_eraThree_Missi.shape)\n",
    "#+++++++++++++++++++++++++++++++++++++++++++++++++++++++++++++++++++++++++\n",
    "\n",
    "## Missouri\n",
    "runoff_masked_ensMean_basinAvg_YrAvgAnom_eraOne_Missouri = runoff_masked_ensMean_basinAvg_YrAvgAnom_Missouri[scenEraOneStepSt:scenEraOneStepEnd]\n",
    "#print(runoff_masked_ensMean_basinAvg_YrAvgAnom_eraOne_Missouri.shape)\n",
    "\n",
    "runoff_masked_ensMean_basinAvg_YrAvgAnom_eraTwo_Missouri = runoff_masked_ensMean_basinAvg_YrAvgAnom_Missouri[scenEraTwoStepSt:scenEraTwoStepEnd]\n",
    "#print(runoff_masked_ensMean_basinAvg_YrAvgAnom_eraTwo_Missouri.shape)\n",
    "\n",
    "runoff_masked_ensMean_basinAvg_YrAvgAnom_eraThree_Missouri = runoff_masked_ensMean_basinAvg_YrAvgAnom_Missouri[scenEraThreeStepSt:scenEraThreeStepEnd]\n",
    "print(runoff_masked_ensMean_basinAvg_YrAvgAnom_eraThree_Missouri.shape)\n",
    "#+++++++++++++++++++++++++++++++++++++++++++++++++++++++++++++++++++++++++\n",
    "\n",
    "# Arkansas\n",
    "runoff_masked_ensMean_basinAvg_YrAvgAnom_eraOne_Arkansas = runoff_masked_ensMean_basinAvg_YrAvgAnom_Arkansas[scenEraOneStepSt:scenEraOneStepEnd]\n",
    "#print(runoff_masked_ensMean_basinAvg_YrAvgAnom_eraOne_Arkansas.shape)\n",
    "\n",
    "runoff_masked_ensMean_basinAvg_YrAvgAnom_eraTwo_Arkansas = runoff_masked_ensMean_basinAvg_YrAvgAnom_Arkansas[scenEraTwoStepSt:scenEraTwoStepEnd]\n",
    "#print(runoff_masked_ensMean_basinAvg_YrAvgAnom_eraTwo_Arkansas.shape)\n",
    "\n",
    "runoff_masked_ensMean_basinAvg_YrAvgAnom_eraThree_Arkansas = runoff_masked_ensMean_basinAvg_YrAvgAnom_Arkansas[scenEraThreeStepSt:scenEraThreeStepEnd]\n",
    "print(runoff_masked_ensMean_basinAvg_YrAvgAnom_eraThree_Arkansas.shape)\n",
    "#+++++++++++++++++++++++++++++++++++++++++++++++++++++++++++++++++++++++++\n",
    "\n",
    "# Ohio\n",
    "runoff_masked_ensMean_basinAvg_YrAvgAnom_eraOne_Ohio = runoff_masked_ensMean_basinAvg_YrAvgAnom_Ohio[scenEraOneStepSt:scenEraOneStepEnd]\n",
    "#print(runoff_masked_ensMean_basinAvg_YrAvgAnom_eraOne_Ohio.shape)\n",
    "\n",
    "runoff_masked_ensMean_basinAvg_YrAvgAnom_eraTwo_Ohio = runoff_masked_ensMean_basinAvg_YrAvgAnom_Ohio[scenEraTwoStepSt:scenEraTwoStepEnd]\n",
    "#print(runoff_masked_ensMean_basinAvg_YrAvgAnom_eraTwo_Ohio.shape)\n",
    "\n",
    "runoff_masked_ensMean_basinAvg_YrAvgAnom_eraThree_Ohio = runoff_masked_ensMean_basinAvg_YrAvgAnom_Ohio[scenEraThreeStepSt:scenEraThreeStepEnd]\n",
    "print(runoff_masked_ensMean_basinAvg_YrAvgAnom_eraThree_Ohio.shape)\n",
    "#+++++++++++++++++++++++++++++++++++++++++++++++++++++++++++++++++++++++++\n",
    "\n",
    "# Lower Mississippi\n",
    "runoff_masked_ensMean_basinAvg_YrAvgAnom_eraOne_lowMissi = runoff_masked_ensMean_basinAvg_YrAvgAnom_lowMissi[scenEraOneStepSt:scenEraOneStepEnd]\n",
    "#print(runoff_masked_ensMean_basinAvg_YrAvgAnom_eraOne_lowMissi.shape)\n",
    "\n",
    "runoff_masked_ensMean_basinAvg_YrAvgAnom_eraTwo_lowMissi = runoff_masked_ensMean_basinAvg_YrAvgAnom_lowMissi[scenEraTwoStepSt:scenEraTwoStepEnd]\n",
    "#print(runoff_masked_ensMean_basinAvg_YrAvgAnom_eraTwo_lowMissi.shape)\n",
    "\n",
    "runoff_masked_ensMean_basinAvg_YrAvgAnom_eraThree_lowMissi = runoff_masked_ensMean_basinAvg_YrAvgAnom_lowMissi[scenEraThreeStepSt:scenEraThreeStepEnd]\n",
    "print(runoff_masked_ensMean_basinAvg_YrAvgAnom_eraThree_lowMissi.shape)\n",
    "\n",
    "#+++++++++++++++++++++++++++++++++++++++++++++++++++++++++++++++++++++++++\n"
   ]
  },
  {
   "cell_type": "code",
   "execution_count": null,
   "metadata": {},
   "outputs": [],
   "source": []
  },
  {
   "cell_type": "code",
   "execution_count": 134,
   "metadata": {},
   "outputs": [
    {
     "name": "stdout",
     "output_type": "stream",
     "text": [
      "(30, 5)\n"
     ]
    },
    {
     "data": {
      "text/html": [
       "<div>\n",
       "<style scoped>\n",
       "    .dataframe tbody tr th:only-of-type {\n",
       "        vertical-align: middle;\n",
       "    }\n",
       "\n",
       "    .dataframe tbody tr th {\n",
       "        vertical-align: top;\n",
       "    }\n",
       "\n",
       "    .dataframe thead th {\n",
       "        text-align: right;\n",
       "    }\n",
       "</style>\n",
       "<table border=\"1\" class=\"dataframe\">\n",
       "  <thead>\n",
       "    <tr style=\"text-align: right;\">\n",
       "      <th></th>\n",
       "      <th>Missouri</th>\n",
       "      <th>Arkansas</th>\n",
       "      <th>Ohio</th>\n",
       "      <th>Lower_Mississippi</th>\n",
       "      <th>Years</th>\n",
       "    </tr>\n",
       "  </thead>\n",
       "  <tbody>\n",
       "    <tr>\n",
       "      <th>0</th>\n",
       "      <td>-0.211539</td>\n",
       "      <td>-0.199888</td>\n",
       "      <td>-0.619463</td>\n",
       "      <td>-0.430324</td>\n",
       "      <td>2015-2044</td>\n",
       "    </tr>\n",
       "    <tr>\n",
       "      <th>1</th>\n",
       "      <td>-0.141494</td>\n",
       "      <td>-0.197111</td>\n",
       "      <td>0.159153</td>\n",
       "      <td>-0.291843</td>\n",
       "      <td>2015-2044</td>\n",
       "    </tr>\n",
       "    <tr>\n",
       "      <th>2</th>\n",
       "      <td>-0.117917</td>\n",
       "      <td>-0.035580</td>\n",
       "      <td>0.407978</td>\n",
       "      <td>0.081854</td>\n",
       "      <td>2015-2044</td>\n",
       "    </tr>\n",
       "    <tr>\n",
       "      <th>3</th>\n",
       "      <td>-0.202256</td>\n",
       "      <td>-0.311730</td>\n",
       "      <td>-1.043095</td>\n",
       "      <td>-0.826453</td>\n",
       "      <td>2015-2044</td>\n",
       "    </tr>\n",
       "    <tr>\n",
       "      <th>4</th>\n",
       "      <td>-0.115997</td>\n",
       "      <td>-0.024791</td>\n",
       "      <td>-0.269738</td>\n",
       "      <td>-0.171457</td>\n",
       "      <td>2015-2044</td>\n",
       "    </tr>\n",
       "  </tbody>\n",
       "</table>\n",
       "</div>"
      ],
      "text/plain": [
       "   Missouri  Arkansas      Ohio  Lower_Mississippi      Years\n",
       "0 -0.211539 -0.199888 -0.619463          -0.430324  2015-2044\n",
       "1 -0.141494 -0.197111  0.159153          -0.291843  2015-2044\n",
       "2 -0.117917 -0.035580  0.407978           0.081854  2015-2044\n",
       "3 -0.202256 -0.311730 -1.043095          -0.826453  2015-2044\n",
       "4 -0.115997 -0.024791 -0.269738          -0.171457  2015-2044"
      ]
     },
     "execution_count": 134,
     "metadata": {},
     "output_type": "execute_result"
    }
   ],
   "source": [
    "#dfBasinsRunoffEraOne=pd.DataFrame(np.zeros((30,5)), columns=['Mississippi','Missouri','Arkansas','Ohio','Lower_Mississippi']).assign(Years='2015-2044')\n",
    "dfBasinsRunoffEraOne=pd.DataFrame(np.zeros((30,4)), columns=['Missouri','Arkansas','Ohio','Lower_Mississippi']).assign(Years='2015-2044')\n",
    "\n",
    "#dfBasinsRunoffEraOne.Mississippi = runoff_masked_ensMean_basinAvg_YrAvgAnom_eraOne_Missi\n",
    "dfBasinsRunoffEraOne.Missouri = runoff_masked_ensMean_basinAvg_YrAvgAnom_eraOne_Missouri\n",
    "dfBasinsRunoffEraOne.Arkansas = runoff_masked_ensMean_basinAvg_YrAvgAnom_eraOne_Arkansas\n",
    "dfBasinsRunoffEraOne.Ohio = runoff_masked_ensMean_basinAvg_YrAvgAnom_eraOne_Ohio\n",
    "dfBasinsRunoffEraOne.Lower_Mississippi = runoff_masked_ensMean_basinAvg_YrAvgAnom_eraOne_lowMissi\n",
    "print(dfBasinsRunoffEraOne.shape)\n",
    "dfBasinsRunoffEraOne.head()"
   ]
  },
  {
   "cell_type": "code",
   "execution_count": 135,
   "metadata": {},
   "outputs": [
    {
     "name": "stdout",
     "output_type": "stream",
     "text": [
      "(30, 5)\n"
     ]
    },
    {
     "data": {
      "text/html": [
       "<div>\n",
       "<style scoped>\n",
       "    .dataframe tbody tr th:only-of-type {\n",
       "        vertical-align: middle;\n",
       "    }\n",
       "\n",
       "    .dataframe tbody tr th {\n",
       "        vertical-align: top;\n",
       "    }\n",
       "\n",
       "    .dataframe thead th {\n",
       "        text-align: right;\n",
       "    }\n",
       "</style>\n",
       "<table border=\"1\" class=\"dataframe\">\n",
       "  <thead>\n",
       "    <tr style=\"text-align: right;\">\n",
       "      <th></th>\n",
       "      <th>Missouri</th>\n",
       "      <th>Arkansas</th>\n",
       "      <th>Ohio</th>\n",
       "      <th>Lower_Mississippi</th>\n",
       "      <th>Years</th>\n",
       "    </tr>\n",
       "  </thead>\n",
       "  <tbody>\n",
       "    <tr>\n",
       "      <th>0</th>\n",
       "      <td>-0.318367</td>\n",
       "      <td>0.044942</td>\n",
       "      <td>-0.621650</td>\n",
       "      <td>-0.097417</td>\n",
       "      <td>2045-2074</td>\n",
       "    </tr>\n",
       "    <tr>\n",
       "      <th>1</th>\n",
       "      <td>-0.284508</td>\n",
       "      <td>0.182638</td>\n",
       "      <td>0.907250</td>\n",
       "      <td>0.198074</td>\n",
       "      <td>2045-2074</td>\n",
       "    </tr>\n",
       "    <tr>\n",
       "      <th>2</th>\n",
       "      <td>-0.256618</td>\n",
       "      <td>0.087911</td>\n",
       "      <td>0.971431</td>\n",
       "      <td>0.773309</td>\n",
       "      <td>2045-2074</td>\n",
       "    </tr>\n",
       "    <tr>\n",
       "      <th>3</th>\n",
       "      <td>-0.289542</td>\n",
       "      <td>-0.016659</td>\n",
       "      <td>-0.106620</td>\n",
       "      <td>0.271864</td>\n",
       "      <td>2045-2074</td>\n",
       "    </tr>\n",
       "    <tr>\n",
       "      <th>4</th>\n",
       "      <td>-0.449802</td>\n",
       "      <td>-0.251777</td>\n",
       "      <td>-0.456687</td>\n",
       "      <td>-0.204743</td>\n",
       "      <td>2045-2074</td>\n",
       "    </tr>\n",
       "  </tbody>\n",
       "</table>\n",
       "</div>"
      ],
      "text/plain": [
       "   Missouri  Arkansas      Ohio  Lower_Mississippi      Years\n",
       "0 -0.318367  0.044942 -0.621650          -0.097417  2045-2074\n",
       "1 -0.284508  0.182638  0.907250           0.198074  2045-2074\n",
       "2 -0.256618  0.087911  0.971431           0.773309  2045-2074\n",
       "3 -0.289542 -0.016659 -0.106620           0.271864  2045-2074\n",
       "4 -0.449802 -0.251777 -0.456687          -0.204743  2045-2074"
      ]
     },
     "execution_count": 135,
     "metadata": {},
     "output_type": "execute_result"
    }
   ],
   "source": [
    "#dfBasinsRunoffEraTwo=pd.DataFrame(np.zeros((30,5)), columns=['Mississippi','Missouri','Arkansas','Ohio','Lower_Mississippi']).assign(Years='2045-2074')\n",
    "dfBasinsRunoffEraTwo=pd.DataFrame(np.zeros((30,4)), columns=['Missouri','Arkansas','Ohio','Lower_Mississippi']).assign(Years='2045-2074')\n",
    "\n",
    "#dfBasinsRunoffEraTwo.Mississippi = runoff_masked_ensMean_basinAvg_YrAvgAnom_eraTwo_Missi\n",
    "dfBasinsRunoffEraTwo.Missouri = runoff_masked_ensMean_basinAvg_YrAvgAnom_eraTwo_Missouri\n",
    "dfBasinsRunoffEraTwo.Arkansas = runoff_masked_ensMean_basinAvg_YrAvgAnom_eraTwo_Arkansas\n",
    "dfBasinsRunoffEraTwo.Ohio = runoff_masked_ensMean_basinAvg_YrAvgAnom_eraTwo_Ohio\n",
    "dfBasinsRunoffEraTwo.Lower_Mississippi = runoff_masked_ensMean_basinAvg_YrAvgAnom_eraTwo_lowMissi\n",
    "print(dfBasinsRunoffEraTwo.shape)\n",
    "dfBasinsRunoffEraTwo.head()"
   ]
  },
  {
   "cell_type": "code",
   "execution_count": 136,
   "metadata": {},
   "outputs": [
    {
     "name": "stdout",
     "output_type": "stream",
     "text": [
      "(26, 5)\n"
     ]
    },
    {
     "data": {
      "text/html": [
       "<div>\n",
       "<style scoped>\n",
       "    .dataframe tbody tr th:only-of-type {\n",
       "        vertical-align: middle;\n",
       "    }\n",
       "\n",
       "    .dataframe tbody tr th {\n",
       "        vertical-align: top;\n",
       "    }\n",
       "\n",
       "    .dataframe thead th {\n",
       "        text-align: right;\n",
       "    }\n",
       "</style>\n",
       "<table border=\"1\" class=\"dataframe\">\n",
       "  <thead>\n",
       "    <tr style=\"text-align: right;\">\n",
       "      <th></th>\n",
       "      <th>Missouri</th>\n",
       "      <th>Arkansas</th>\n",
       "      <th>Ohio</th>\n",
       "      <th>Lower_Mississippi</th>\n",
       "      <th>Years</th>\n",
       "    </tr>\n",
       "  </thead>\n",
       "  <tbody>\n",
       "    <tr>\n",
       "      <th>0</th>\n",
       "      <td>-0.316640</td>\n",
       "      <td>0.453650</td>\n",
       "      <td>1.129960</td>\n",
       "      <td>1.131028</td>\n",
       "      <td>2075-2100</td>\n",
       "    </tr>\n",
       "    <tr>\n",
       "      <th>1</th>\n",
       "      <td>-0.442789</td>\n",
       "      <td>-0.048436</td>\n",
       "      <td>0.468863</td>\n",
       "      <td>0.290263</td>\n",
       "      <td>2075-2100</td>\n",
       "    </tr>\n",
       "    <tr>\n",
       "      <th>2</th>\n",
       "      <td>-0.354725</td>\n",
       "      <td>0.180399</td>\n",
       "      <td>1.218556</td>\n",
       "      <td>0.989850</td>\n",
       "      <td>2075-2100</td>\n",
       "    </tr>\n",
       "    <tr>\n",
       "      <th>3</th>\n",
       "      <td>-0.344368</td>\n",
       "      <td>0.277565</td>\n",
       "      <td>1.893296</td>\n",
       "      <td>1.003851</td>\n",
       "      <td>2075-2100</td>\n",
       "    </tr>\n",
       "    <tr>\n",
       "      <th>4</th>\n",
       "      <td>-0.302124</td>\n",
       "      <td>0.175318</td>\n",
       "      <td>1.069705</td>\n",
       "      <td>0.728119</td>\n",
       "      <td>2075-2100</td>\n",
       "    </tr>\n",
       "  </tbody>\n",
       "</table>\n",
       "</div>"
      ],
      "text/plain": [
       "   Missouri  Arkansas      Ohio  Lower_Mississippi      Years\n",
       "0 -0.316640  0.453650  1.129960           1.131028  2075-2100\n",
       "1 -0.442789 -0.048436  0.468863           0.290263  2075-2100\n",
       "2 -0.354725  0.180399  1.218556           0.989850  2075-2100\n",
       "3 -0.344368  0.277565  1.893296           1.003851  2075-2100\n",
       "4 -0.302124  0.175318  1.069705           0.728119  2075-2100"
      ]
     },
     "execution_count": 136,
     "metadata": {},
     "output_type": "execute_result"
    }
   ],
   "source": [
    "#dfBasinsRunoffEraThree=pd.DataFrame(np.zeros((26,5)), columns=['Mississippi','Missouri','Arkansas','Ohio','Lower_Mississippi']).assign(Years='2075-2100')\n",
    "dfBasinsRunoffEraThree=pd.DataFrame(np.zeros((26,4)), columns=['Missouri','Arkansas','Ohio','Lower_Mississippi']).assign(Years='2075-2100')\n",
    "\n",
    "#dfBasinsRunoffEraThree.Mississippi = runoff_masked_ensMean_basinAvg_YrAvgAnom_eraThree_Missi\n",
    "dfBasinsRunoffEraThree.Missouri = runoff_masked_ensMean_basinAvg_YrAvgAnom_eraThree_Missouri\n",
    "dfBasinsRunoffEraThree.Arkansas = runoff_masked_ensMean_basinAvg_YrAvgAnom_eraThree_Arkansas\n",
    "dfBasinsRunoffEraThree.Ohio = runoff_masked_ensMean_basinAvg_YrAvgAnom_eraThree_Ohio\n",
    "dfBasinsRunoffEraThree.Lower_Mississippi = runoff_masked_ensMean_basinAvg_YrAvgAnom_eraThree_lowMissi\n",
    "print(dfBasinsRunoffEraThree.shape)\n",
    "dfBasinsRunoffEraThree.head()"
   ]
  },
  {
   "cell_type": "code",
   "execution_count": 137,
   "metadata": {},
   "outputs": [
    {
     "name": "stdout",
     "output_type": "stream",
     "text": [
      "       Years    Basins   Anomaly\n",
      "0  2015-2044  Missouri -0.211539\n",
      "1  2015-2044  Missouri -0.141494\n",
      "2  2015-2044  Missouri -0.117917\n",
      "3  2015-2044  Missouri -0.202256\n",
      "4  2015-2044  Missouri -0.115997\n"
     ]
    },
    {
     "data": {
      "text/html": [
       "<div>\n",
       "<style scoped>\n",
       "    .dataframe tbody tr th:only-of-type {\n",
       "        vertical-align: middle;\n",
       "    }\n",
       "\n",
       "    .dataframe tbody tr th {\n",
       "        vertical-align: top;\n",
       "    }\n",
       "\n",
       "    .dataframe thead th {\n",
       "        text-align: right;\n",
       "    }\n",
       "</style>\n",
       "<table border=\"1\" class=\"dataframe\">\n",
       "  <thead>\n",
       "    <tr style=\"text-align: right;\">\n",
       "      <th></th>\n",
       "      <th>Years</th>\n",
       "      <th>Basins</th>\n",
       "      <th>Anomaly</th>\n",
       "    </tr>\n",
       "  </thead>\n",
       "  <tbody>\n",
       "    <tr>\n",
       "      <th>0</th>\n",
       "      <td>2015-2044</td>\n",
       "      <td>Missouri</td>\n",
       "      <td>-0.211539</td>\n",
       "    </tr>\n",
       "    <tr>\n",
       "      <th>1</th>\n",
       "      <td>2015-2044</td>\n",
       "      <td>Missouri</td>\n",
       "      <td>-0.141494</td>\n",
       "    </tr>\n",
       "    <tr>\n",
       "      <th>2</th>\n",
       "      <td>2015-2044</td>\n",
       "      <td>Missouri</td>\n",
       "      <td>-0.117917</td>\n",
       "    </tr>\n",
       "    <tr>\n",
       "      <th>3</th>\n",
       "      <td>2015-2044</td>\n",
       "      <td>Missouri</td>\n",
       "      <td>-0.202256</td>\n",
       "    </tr>\n",
       "    <tr>\n",
       "      <th>4</th>\n",
       "      <td>2015-2044</td>\n",
       "      <td>Missouri</td>\n",
       "      <td>-0.115997</td>\n",
       "    </tr>\n",
       "    <tr>\n",
       "      <th>...</th>\n",
       "      <td>...</td>\n",
       "      <td>...</td>\n",
       "      <td>...</td>\n",
       "    </tr>\n",
       "    <tr>\n",
       "      <th>339</th>\n",
       "      <td>2075-2100</td>\n",
       "      <td>Lower_Mississippi</td>\n",
       "      <td>1.166044</td>\n",
       "    </tr>\n",
       "    <tr>\n",
       "      <th>340</th>\n",
       "      <td>2075-2100</td>\n",
       "      <td>Lower_Mississippi</td>\n",
       "      <td>1.190877</td>\n",
       "    </tr>\n",
       "    <tr>\n",
       "      <th>341</th>\n",
       "      <td>2075-2100</td>\n",
       "      <td>Lower_Mississippi</td>\n",
       "      <td>0.839951</td>\n",
       "    </tr>\n",
       "    <tr>\n",
       "      <th>342</th>\n",
       "      <td>2075-2100</td>\n",
       "      <td>Lower_Mississippi</td>\n",
       "      <td>0.277318</td>\n",
       "    </tr>\n",
       "    <tr>\n",
       "      <th>343</th>\n",
       "      <td>2075-2100</td>\n",
       "      <td>Lower_Mississippi</td>\n",
       "      <td>0.406870</td>\n",
       "    </tr>\n",
       "  </tbody>\n",
       "</table>\n",
       "<p>344 rows × 3 columns</p>\n",
       "</div>"
      ],
      "text/plain": [
       "         Years             Basins   Anomaly\n",
       "0    2015-2044           Missouri -0.211539\n",
       "1    2015-2044           Missouri -0.141494\n",
       "2    2015-2044           Missouri -0.117917\n",
       "3    2015-2044           Missouri -0.202256\n",
       "4    2015-2044           Missouri -0.115997\n",
       "..         ...                ...       ...\n",
       "339  2075-2100  Lower_Mississippi  1.166044\n",
       "340  2075-2100  Lower_Mississippi  1.190877\n",
       "341  2075-2100  Lower_Mississippi  0.839951\n",
       "342  2075-2100  Lower_Mississippi  0.277318\n",
       "343  2075-2100  Lower_Mississippi  0.406870\n",
       "\n",
       "[344 rows x 3 columns]"
      ]
     },
     "execution_count": 137,
     "metadata": {},
     "output_type": "execute_result"
    }
   ],
   "source": [
    "cdfBasinsRunoffEras = pd.concat([dfBasinsRunoffEraOne, dfBasinsRunoffEraTwo, dfBasinsRunoffEraThree ])    \n",
    "mdfBasinsRunoffEras = pd.melt(cdfBasinsRunoffEras, id_vars=['Years'], var_name=['Basins'], value_name=\"Anomaly\") \n",
    "mdfBasinsRunoffEras\n",
    "print(mdfBasinsRunoffEras.head())\n",
    "mdfBasinsRunoffEras"
   ]
  },
  {
   "cell_type": "code",
   "execution_count": 138,
   "metadata": {},
   "outputs": [
    {
     "name": "stdout",
     "output_type": "stream",
     "text": [
      "(344, 3)\n"
     ]
    }
   ],
   "source": [
    "print(mdfBasinsRunoffEras.shape)"
   ]
  },
  {
   "cell_type": "code",
   "execution_count": null,
   "metadata": {},
   "outputs": [],
   "source": []
  },
  {
   "cell_type": "code",
   "execution_count": null,
   "metadata": {},
   "outputs": [],
   "source": []
  },
  {
   "cell_type": "markdown",
   "metadata": {},
   "source": [
    "## Grouped Figures for the time series Anomaly"
   ]
  },
  {
   "cell_type": "markdown",
   "metadata": {},
   "source": [
    "## Figure formatting"
   ]
  },
  {
   "cell_type": "code",
   "execution_count": 139,
   "metadata": {},
   "outputs": [
    {
     "data": {
      "text/html": [
       "<div>\n",
       "<style scoped>\n",
       "    .dataframe tbody tr th:only-of-type {\n",
       "        vertical-align: middle;\n",
       "    }\n",
       "\n",
       "    .dataframe tbody tr th {\n",
       "        vertical-align: top;\n",
       "    }\n",
       "\n",
       "    .dataframe thead th {\n",
       "        text-align: right;\n",
       "    }\n",
       "</style>\n",
       "<table border=\"1\" class=\"dataframe\">\n",
       "  <thead>\n",
       "    <tr style=\"text-align: right;\">\n",
       "      <th></th>\n",
       "      <th>t1</th>\n",
       "    </tr>\n",
       "  </thead>\n",
       "  <tbody>\n",
       "    <tr>\n",
       "      <th>0</th>\n",
       "      <td>1930-01-01</td>\n",
       "    </tr>\n",
       "    <tr>\n",
       "      <th>1</th>\n",
       "      <td>1931-01-01</td>\n",
       "    </tr>\n",
       "    <tr>\n",
       "      <th>2</th>\n",
       "      <td>1932-01-01</td>\n",
       "    </tr>\n",
       "    <tr>\n",
       "      <th>3</th>\n",
       "      <td>1933-01-01</td>\n",
       "    </tr>\n",
       "    <tr>\n",
       "      <th>4</th>\n",
       "      <td>1934-01-01</td>\n",
       "    </tr>\n",
       "    <tr>\n",
       "      <th>...</th>\n",
       "      <td>...</td>\n",
       "    </tr>\n",
       "    <tr>\n",
       "      <th>166</th>\n",
       "      <td>2096-01-01</td>\n",
       "    </tr>\n",
       "    <tr>\n",
       "      <th>167</th>\n",
       "      <td>2097-01-01</td>\n",
       "    </tr>\n",
       "    <tr>\n",
       "      <th>168</th>\n",
       "      <td>2098-01-01</td>\n",
       "    </tr>\n",
       "    <tr>\n",
       "      <th>169</th>\n",
       "      <td>2099-01-01</td>\n",
       "    </tr>\n",
       "    <tr>\n",
       "      <th>170</th>\n",
       "      <td>2100-01-01</td>\n",
       "    </tr>\n",
       "  </tbody>\n",
       "</table>\n",
       "<p>171 rows × 1 columns</p>\n",
       "</div>"
      ],
      "text/plain": [
       "            t1\n",
       "0   1930-01-01\n",
       "1   1931-01-01\n",
       "2   1932-01-01\n",
       "3   1933-01-01\n",
       "4   1934-01-01\n",
       "..         ...\n",
       "166 2096-01-01\n",
       "167 2097-01-01\n",
       "168 2098-01-01\n",
       "169 2099-01-01\n",
       "170 2100-01-01\n",
       "\n",
       "[171 rows x 1 columns]"
      ]
     },
     "execution_count": 139,
     "metadata": {},
     "output_type": "execute_result"
    }
   ],
   "source": [
    "yrSt = 1930\n",
    "yrEnd = 2100\n",
    "\n",
    "#monSt = 1\n",
    "#monEnd = 12\n",
    "\n",
    "\n",
    "timeList = []\n",
    "for yr in range(yrSt, yrEnd+1):    \n",
    "    \n",
    "    \n",
    "    yMD = datetime.datetime(yr,1,1)    \n",
    "    timeList.append(yMD)\n",
    "                   \n",
    "                        \n",
    "timeListDf = pd.DataFrame(timeList)\n",
    "\n",
    "timeListDf.columns = ['t1']\n",
    "timeListDf\n"
   ]
  },
  {
   "cell_type": "code",
   "execution_count": 140,
   "metadata": {},
   "outputs": [
    {
     "data": {
      "text/plain": [
       "Int64Index([0, 20, 40, 60, 80, 100, 120, 140, 160], dtype='int64')"
      ]
     },
     "execution_count": 140,
     "metadata": {},
     "output_type": "execute_result"
    }
   ],
   "source": [
    "#yMDH = timeListDf['t1'].dt.strftime('%Y-%m-%d-%H').sort_values()\n",
    "#yMD = timeListDf['t1'].dt.strftime('%Y-%m-%d').sort_values()\n",
    "#yMD = timeListDf['t1'].dt.strftime('%Y').sort_values()\n",
    "#yMD = timeListDf['t1'].dt.strftime('%Y-%m').sort_values()\n",
    "yMD = timeListDf['t1'].dt.strftime('%Y').sort_values()\n",
    "\n",
    "#multiple = (tStepMonYrs[monRed-1,0]+1)/12\n",
    "#multiple = (tStepMonYrs[monRed-1,0]+1)/6\n",
    "#multiple = 10\n",
    "multiple = 20\n",
    "\n",
    "\n",
    "multiple = np.ceil(multiple)\n",
    "timeTickLebels = yMD[yMD.index % multiple == 0]\n",
    "timeTicks = yMD.index[yMD.index % multiple == 0]\n",
    "timeTicks\n"
   ]
  },
  {
   "cell_type": "code",
   "execution_count": 141,
   "metadata": {},
   "outputs": [
    {
     "name": "stdout",
     "output_type": "stream",
     "text": [
      "(9,)\n"
     ]
    }
   ],
   "source": [
    "print(timeTicks.shape)"
   ]
  },
  {
   "cell_type": "code",
   "execution_count": 142,
   "metadata": {},
   "outputs": [
    {
     "data": {
      "text/plain": [
       "0      1930\n",
       "20     1950\n",
       "40     1970\n",
       "60     1990\n",
       "80     2010\n",
       "100    2030\n",
       "120    2050\n",
       "140    2070\n",
       "160    2090\n",
       "Name: t1, dtype: object"
      ]
     },
     "execution_count": 142,
     "metadata": {},
     "output_type": "execute_result"
    }
   ],
   "source": [
    "timeTickLebels"
   ]
  },
  {
   "cell_type": "code",
   "execution_count": null,
   "metadata": {},
   "outputs": [],
   "source": []
  },
  {
   "cell_type": "code",
   "execution_count": 143,
   "metadata": {},
   "outputs": [
    {
     "name": "stderr",
     "output_type": "stream",
     "text": [
      "<ipython-input-143-4457c226493c>:44: UserWarning: FixedFormatter should only be used together with FixedLocator\n",
      "  ax1.xaxis.set_major_formatter(plt.FixedFormatter(yMD))\n",
      "<ipython-input-143-4457c226493c>:76: UserWarning: FixedFormatter should only be used together with FixedLocator\n",
      "  ax2.xaxis.set_major_formatter(plt.FixedFormatter(yMD))\n",
      "<ipython-input-143-4457c226493c>:114: UserWarning: FixedFormatter should only be used together with FixedLocator\n",
      "  ax3.xaxis.set_major_formatter(plt.FixedFormatter(yMD))\n",
      "<ipython-input-143-4457c226493c>:148: UserWarning: FixedFormatter should only be used together with FixedLocator\n",
      "  ax4.xaxis.set_major_formatter(plt.FixedFormatter(yMD))\n",
      "<ipython-input-143-4457c226493c>:178: UserWarning: FixedFormatter should only be used together with FixedLocator\n",
      "  ax5.xaxis.set_major_formatter(plt.FixedFormatter(yMD))\n"
     ]
    },
    {
     "data": {
      "image/png": "[encoded data removed]",
      "text/plain": [
       "<Figure size 792x576 with 5 Axes>"
      ]
     },
     "metadata": {
      "needs_background": "light"
     },
     "output_type": "display_data"
    }
   ],
   "source": [
    "#%matplotlib notebook\n",
    "# https://matplotlib.org/stable/tutorials/colors/colors.html\n",
    "\n",
    "#fontSize = 14\n",
    "#textFontVal = 16\n",
    "#linewidth = 0.8\n",
    "\n",
    "\n",
    "tickFontSize = 14\n",
    "textFontSize = 16\n",
    "legendFontSize = 15\n",
    "titleFontSize = 16\n",
    "\n",
    "linewidth = 0.8\n",
    "dashLinewidth = 0.7\n",
    "\n",
    "\n",
    "#++++++++++++++++++++++++++++++++++++++++++++++++++++++++++++++++++++++++++\n",
    "\n",
    "#fig = plt.figure(figsize=(15, 7), constrained_layout=False)\n",
    "#fig = plt.figure(figsize=(11, 12), constrained_layout=False)\n",
    "fig = plt.figure(figsize=(11, 8), constrained_layout=False)\n",
    "\n",
    "#axs = [plt.subplot(4, 1, x + 1,) for x in range(4)]\n",
    "axs = [plt.subplot(5, 1, x + 1,) for x in range(5)]\n",
    "\n",
    "ax1 = axs[0]\n",
    "\n",
    "#ln11=ax1.plot(range(171), param_masked_ensMean_basinAvg_YrAvgAnom_Missi, label=\"Mississippi\", color = 'blue', linestyle='-', linewidth=1.0)\n",
    "ln12=ax1.plot(range(171), param_masked_ensMean_basinAvg_YrAvgAnom_Missouri, label=\"Missouri\", color = 'green', linestyle='-', linewidth=1.0)\n",
    "ln13=ax1.plot(range(171), param_masked_ensMean_basinAvg_YrAvgAnom_Arkansas, label=\"Arkansas\", color = 'blue', linestyle='-', linewidth=1.0)\n",
    "ln14=ax1.plot(range(171), param_masked_ensMean_basinAvg_YrAvgAnom_Ohio, label=\"Ohio\", color = 'orange', linestyle='-', linewidth=1.0)\n",
    "ln15=ax1.plot(range(171), param_masked_ensMean_basinAvg_YrAvgAnom_lowMissi, label=\"Lower Mississippi\", color = 'red', linestyle='-', linewidth=1.0)\n",
    "#ln16=ax1.axhline(y = 0, color = 'k', label = 'Zero-line', linestyle='--', linewidth=0.7)\n",
    "ln16=ax1.axhline(y = 0, color = 'k', label = '', linestyle='--', linewidth=0.7)\n",
    "\n",
    "ln17=ax1.axvspan(1, 84.5, color='C0',alpha=0.075)\n",
    "\n",
    "#ax1.set_title('(a) Precipitation' )\n",
    "#ax1.set_title('(a) Precipitation', y=0.98, pad=-14, fontsize = textFontVal)\n",
    "#ax1.set_title('(a) Precipitation (mm/mon)', y=0.98, pad=-14, fontsize = titleFontSize, loc='left')\n",
    "ax1.set_title('(a) Precipitation (mm/mon)', y=0.98, pad=-14, fontsize = titleFontSize, loc='left')\n",
    "\n",
    "ax1.xaxis.set_major_formatter(plt.FixedFormatter(yMD))\n",
    "ax1.set_xticks(timeTicks)\n",
    "#ax1.set_xticklabels(timeTickLebels, minor=False)\n",
    "ax1.set_xticklabels('', )\n",
    "\n",
    "ax1.set_xlim([0, 170])\n",
    "\n",
    "ax1.set_yticks([0, 10, 20]) \n",
    "ax1.set_yticklabels(['0', '10', '20'],  fontsize = tickFontSize) \n",
    "\n",
    "#ax1.axvline(x = 84.5, color = 'k', label = 'Divide', linestyle='--', linewidth=1.0)\n",
    "\n",
    "#ax1.set_xlabel('Time (Year)')\n",
    "#plt.ylabel('Discharge anomaly, $\\mathregular{m^{3}}$/s')\n",
    "#ax1.set_ylabel('Anomaly, mm/mon')\n",
    "#ax1.legend(frameon=False,fontsize='large')\n",
    "\n",
    "#plt.title('Historical discharge over Missouri basin at a selected time step (' + str(tsSel) +')' )\n",
    "#plt.gcf().autofmt_xdate()\n",
    "\n",
    "#+++++++++++++++++++++++++++++++++++++\n",
    "ax2 = axs[1]\n",
    "#ln21=ax2.plot(range(171), et_masked_ensMean_basinAvg_YrAvgAnom_Missi, label=\"Mississippi\", color = 'blue', linestyle='-', linewidth=1.0)\n",
    "ln22=ax2.plot(range(171), et_masked_ensMean_basinAvg_YrAvgAnom_Missouri, label=\"Missouri\", color = 'green', linestyle='-', linewidth=1.0)\n",
    "ln23=ax2.plot(range(171), et_masked_ensMean_basinAvg_YrAvgAnom_Arkansas, label=\"Arkansas\", color = 'blue', linestyle='-', linewidth=1.0)\n",
    "ln24=ax2.plot(range(171), et_masked_ensMean_basinAvg_YrAvgAnom_Ohio, label=\"Ohio\", color = 'orange', linestyle='-', linewidth=1.0)\n",
    "ln25=ax2.plot(range(171), et_masked_ensMean_basinAvg_YrAvgAnom_lowMissi, label=\"Lower Mississippi\", color = 'red', linestyle='-', linewidth=1.0)\n",
    "ln26=ax2.axhline(y = 0, color = 'k', label = '', linestyle='--', linewidth=0.7)\n",
    "ln27=ax2.axvspan(1, 84.5, color='C0',alpha=0.075)\n",
    "\n",
    "ax2.set_title('(b) Evapotranspiration (mm/mon)', y=0.98, pad=-14, fontsize = titleFontSize, loc='left')\n",
    "\n",
    "ax2.xaxis.set_major_formatter(plt.FixedFormatter(yMD))\n",
    "ax2.set_xticks(timeTicks)\n",
    "#ax2.set_xticklabels(timeTickLebels, minor=False)\n",
    "ax2.set_xticklabels('', )\n",
    "\n",
    "ax2.set_xlim([0, 170])\n",
    "#ax2.axvline(x = 84.5, color = 'k', label = 'Divide', linestyle='--', linewidth=1.0)\n",
    "\n",
    "#ax2.set_xlabel('Time (Year)')\n",
    "#ax2.set_ylabel('Discharge anomaly, $\\mathregular{m^{3}}$/s')\n",
    "#ax2.set_ylabel('Anomaly', loc='center', fontsize = textFontVal )\n",
    "ax2.set_ylabel('Anomaly', fontsize = textFontSize )\n",
    "#ax2.yaxis.set_label_coords(.9, -.1)\n",
    "\n",
    "#ax2.yaxis.set_label_coords(-.03, -.6)\n",
    "#ax4.yaxis.set_label_coords(-.05, 1.1)\n",
    "ax2.yaxis.set_label_coords(-.05, -0.7)\n",
    "\n",
    "ax2.set_yticks([0, 5]) \n",
    "ax2.set_yticklabels(['0', '5'],  fontsize = tickFontSize) \n",
    "\n",
    "#ax2.legend(frameon=False,fontsize='large')\n",
    "#ax2.legend(ncol=1, loc=(+1.02, -0.58),frameon=True)\n",
    "\n",
    "\n",
    "#+++++++++++++++++++++++++++++++++++++\n",
    "#+++++++++++++++++++++++++++++++++++++\n",
    "ax3 = axs[2]\n",
    "#ln31=ax3.plot(range(171), snowMelt_masked_ensMean_basinAvg_YrAvgAnom_Missi, label=\"Mississippi\", color = 'blue', linestyle='-', linewidth=1.0)\n",
    "ln32=ax3.plot(range(171), snowMelt_masked_ensMean_basinAvg_YrAvgAnom_Missouri, label=\"Missouri\", color = 'green', linestyle='-', linewidth=1.0)\n",
    "ln33=ax3.plot(range(171), snowMelt_masked_ensMean_basinAvg_YrAvgAnom_Arkansas, label=\"Arkansas\", color = 'blue', linestyle='-', linewidth=1.0)\n",
    "ln34=ax3.plot(range(171), snowMelt_masked_ensMean_basinAvg_YrAvgAnom_Ohio, label=\"Ohio\", color = 'orange', linestyle='-', linewidth=1.0)\n",
    "ln35=ax3.plot(range(171), snowMelt_masked_ensMean_basinAvg_YrAvgAnom_lowMissi, label=\"Lower Mississippi\", color = 'red', linestyle='-', linewidth=1.0)\n",
    "ln36=ax3.axhline(y = 0, color = 'k', label = '', linestyle='--', linewidth=0.7)\n",
    "ln37=ax3.axvspan(1, 84.5, color='C0',alpha=0.075)\n",
    "\n",
    "ax3.set_title('(c) Snow Melt (mm/mon)', y=0.98, pad=-14, fontsize = titleFontSize, loc='left')\n",
    "\n",
    "ax3.xaxis.set_major_formatter(plt.FixedFormatter(yMD))\n",
    "ax3.set_xticks(timeTicks)\n",
    "#ax3.set_xticklabels(timeTickLebels, minor=False)\n",
    "ax3.set_xticklabels('', )\n",
    "\n",
    "ax3.set_xlim([0, 170])\n",
    "ax3.set_ylim([-12.5, 9.0])\n",
    "\n",
    "ax3.set_yticks([-10, 0]) \n",
    "ax3.set_yticklabels(['-10', '0'],  fontsize = tickFontSize) \n",
    "\n",
    "#ax3.axvline(x = 84.5, color = 'k', label = 'Divide', linestyle='--', linewidth=1.0)\n",
    "\n",
    "#ax3.set_xlabel('Time (Year)')\n",
    "#ax3.set_ylabel('Discharge anomaly, $\\mathregular{m^{3}}$/s')\n",
    "#ax3.set_ylabel('Anomaly, mm/mon',)\n",
    "#ax3.legend(frameon=False,fontsize='large')\n",
    "#ax3.legend(ncol=1, loc=(+1.02, 0.1),frameon=True)\n",
    "#ax3.legend(ncol=5, loc=(-0.05, -3.5),frameon=False, fontsize=legendFontSize)\n",
    "ax3.legend(ncol=5, loc=(+0.04, -3.3),frameon=False, fontsize=legendFontSize)\n",
    "\n",
    "\n",
    "#+++++++++++++++++++++++++++++++++++++\n",
    "ax4 = axs[3]\n",
    "#ln41=ax4.plot(range(171), soilMoist_masked_ensMean_basinAvg_YrAvgAnom_Missi, label=\"Mississippi\", color = 'blue', linestyle='-', linewidth=1.0)\n",
    "ln42=ax4.plot(range(171), soilMoist_masked_ensMean_basinAvg_YrAvgAnom_Missouri, label=\"Missouri\", color = 'green', linestyle='-', linewidth=1.0)\n",
    "ln43=ax4.plot(range(171), soilMoist_masked_ensMean_basinAvg_YrAvgAnom_Arkansas, label=\"Arkansas\", color = 'blue', linestyle='-', linewidth=1.0)\n",
    "ln44=ax4.plot(range(171), soilMoist_masked_ensMean_basinAvg_YrAvgAnom_Ohio, label=\"Ohio\", color = 'orange', linestyle='-', linewidth=1.0)\n",
    "ln45=ax4.plot(range(171), soilMoist_masked_ensMean_basinAvg_YrAvgAnom_lowMissi, label=\"Lower Mississippi\", color = 'red', linestyle='-', linewidth=1.0)\n",
    "ln46=ax4.axhline(y = 0, color = 'k', label = '', linestyle='--', linewidth=0.7)\n",
    "ln47=ax4.axvspan(1, 84.5, color='C0',alpha=0.075)\n",
    "\n",
    "ax4.set_title('(d) Soil Moisture (kg/$\\mathregular{m^{2}}$)', y=0.98, pad=-14, fontsize = titleFontSize, loc='left')\n",
    "\n",
    "ax4.xaxis.set_major_formatter(plt.FixedFormatter(yMD))\n",
    "ax4.set_xticks(timeTicks)\n",
    "#ax4.set_xticklabels(timeTickLebels, minor=False)\n",
    "ax4.set_xticklabels('', )\n",
    "\n",
    "ax4.set_xlim([0, 170])\n",
    "ax4.set_ylim([-2.4, 2.0])\n",
    "\n",
    "ax4.set_yticks([-2, 0]) \n",
    "ax4.set_yticklabels(['-2', '0'],  fontsize = tickFontSize) \n",
    "\n",
    "#ax4.axvline(x = 84.5, color = 'k', label = 'Divide', linestyle='--', linewidth=1.0)\n",
    "\n",
    "#ax4.set_xlabel('Time (Year)')\n",
    "#ax4.set_ylabel('Discharge anomaly, $\\mathregular{m^{3}}$/s')\n",
    "#ax4.set_ylabel('Anomaly, mm/mon',)\n",
    "#ax4.legend(frameon=False,fontsize='large')\n",
    "\n",
    "#+++++++++++++++++++++++++++++++++++++\n",
    "ax5 = axs[4]\n",
    "#ln51=ax5.plot(range(171), runoff_masked_ensMean_basinAvg_YrAvgAnom_Missi, label=\"Mississippi\", color = 'blue', linestyle='-', linewidth=1.0)\n",
    "ln52=ax5.plot(range(171), runoff_masked_ensMean_basinAvg_YrAvgAnom_Missouri, label=\"Missouri\", color = 'green', linestyle='-', linewidth=1.0)\n",
    "ln53=ax5.plot(range(171), runoff_masked_ensMean_basinAvg_YrAvgAnom_Arkansas, label=\"Arkansas\", color = 'blue', linestyle='-', linewidth=1.0)\n",
    "ln54=ax5.plot(range(171), runoff_masked_ensMean_basinAvg_YrAvgAnom_Ohio, label=\"Ohio\", color = 'orange', linestyle='-', linewidth=1.0)\n",
    "ln55=ax5.plot(range(171), runoff_masked_ensMean_basinAvg_YrAvgAnom_lowMissi, label=\"Lower Mississippi\", color = 'red', linestyle='-', linewidth=1.0)\n",
    "ln56=ax5.axhline(y = 0, color = 'k', label = '', linestyle='--', linewidth=0.7)\n",
    "ln57=ax5.axvspan(1, 84.5, color='C0',alpha=0.075)\n",
    "\n",
    "ax5.set_title('(e) Runoff (mm/mon)', y=0.98, pad=-14, fontsize = titleFontSize, loc='left')\n",
    "\n",
    "ax5.xaxis.set_major_formatter(plt.FixedFormatter(yMD))\n",
    "ax5.set_xticks(timeTicks)\n",
    "ax5.set_xticklabels(timeTickLebels, minor=False, rotation=0, fontsize=tickFontSize)\n",
    "#ax5.set_xticklabels('', )\n",
    "\n",
    "ax5.set_xlim([0, 170])\n",
    "\n",
    "ax5.set_yticks([0, 2]) \n",
    "ax5.set_yticklabels(['0', '2'],  fontsize = tickFontSize) \n",
    "\n",
    "#ax5.axvline(x = 84.5, color = 'k', label = 'Divide', linestyle='--', linewidth=1.0)\n",
    "\n",
    "ax5.set_xlabel('Time', fontsize = textFontSize)\n",
    "#ax5.set_ylabel('Anomaly, mm/mon')\n",
    "#ax5.legend(frameon=False,fontsize='large')\n",
    "\n",
    "#+++++++++++++++++++++++++++++++++++++\n",
    "#+++++++++++++++++++++++++++++++++++++\n",
    "#st = fig.suptitle(\"Basin-average time series for different parameters\", fontsize = 20)\n",
    "#st.set_y(0.92)\n",
    "#st.set_x(0.515)\n",
    "\n",
    "#plt.savefig(r'C:\\rezaul\\1.academic\\1.research\\2.project\\mrb\\output\\fig\\paperOne\\param\\gr\\anom\\paramAnnualAnom.pdf')  \n",
    "#plt.savefig(r'C:\\rezaul\\1.academic\\1.research\\2.project\\mrb\\output\\fig\\paperOne\\param\\gr\\anom\\paramAnnualAnom.png', dpi=600)  \n",
    "\n",
    "plt.show()\n",
    "\n"
   ]
  },
  {
   "cell_type": "code",
   "execution_count": null,
   "metadata": {},
   "outputs": [],
   "source": []
  },
  {
   "cell_type": "code",
   "execution_count": null,
   "metadata": {},
   "outputs": [],
   "source": []
  },
  {
   "cell_type": "code",
   "execution_count": null,
   "metadata": {},
   "outputs": [],
   "source": []
  },
  {
   "cell_type": "code",
   "execution_count": null,
   "metadata": {},
   "outputs": [],
   "source": []
  },
  {
   "cell_type": "markdown",
   "metadata": {},
   "source": [
    "## Groued Figure for the Box plot"
   ]
  },
  {
   "cell_type": "code",
   "execution_count": 144,
   "metadata": {},
   "outputs": [],
   "source": [
    "width = 0.35  # the width of the bars"
   ]
  },
  {
   "cell_type": "code",
   "execution_count": null,
   "metadata": {},
   "outputs": [],
   "source": []
  },
  {
   "cell_type": "code",
   "execution_count": 145,
   "metadata": {},
   "outputs": [
    {
     "data": {
      "image/png": "[encoded data removed]",
      "text/plain": [
       "<Figure size 720x792 with 5 Axes>"
      ]
     },
     "metadata": {
      "needs_background": "light"
     },
     "output_type": "display_data"
    }
   ],
   "source": [
    "#%matplotlib notebook\n",
    "# https://matplotlib.org/stable/tutorials/colors/colors.html\n",
    "\n",
    "#fontSize = 14\n",
    "#textFontVal = 16\n",
    "#linewidth = 0.8\n",
    "\n",
    "tickFontSize = 14\n",
    "textFontSize = 16\n",
    "legendFontSize = 15\n",
    "titleFontSize = 16\n",
    "\n",
    "\n",
    "my_colors = [\"green\", \"blue\", \n",
    "             \"orange\", \"red\"]\n",
    "\n",
    "yrTickLebels = ['2015-2044', '2045-2074', '2075-2100']\n",
    "sns.set_palette( my_colors )\n",
    "#++++++++++++++++++++++++++++++++++++++++++++++++++++++++++++++++++++++++++\n",
    "\n",
    "#fig = plt.figure(figsize=(15, 7), constrained_layout=False)\n",
    "#fig = plt.figure(figsize=(12, 15), constrained_layout=False)\n",
    "#fig = plt.figure(figsize=(10, 14), constrained_layout=False)\n",
    "fig = plt.figure(figsize=(10, 11), constrained_layout=False)\n",
    "\n",
    "\n",
    "#axs = [plt.subplot(4, 1, x + 1,) for x in range(4)]\n",
    "axs = [plt.subplot(5, 1, x + 1,) for x in range(5)]\n",
    "\n",
    "ax1 = axs[0]\n",
    "#+++++++++++++++\n",
    "\n",
    "ax1 = sns.boxplot(x=\"Years\", y=\"Anomaly\", ax=ax1, hue=\"Basins\", data=mdfBasinsPrecipEras, width = width, showfliers = False) # RUN PLOT \n",
    "#ax1.axhline(y = 0, color = 'k', label = 'Zero-line', linestyle='--', linewidth=0.7)\n",
    "ax1.axhline(y = 0, color = 'k', label = '', linestyle='--', linewidth=0.7)\n",
    "\n",
    "#ax1.legend(frameon=False,fontsize='large')\n",
    "ax1.set_title('(a) Precipitation (mm/mon)', y=0.98, pad=-14, fontsize = titleFontSize, loc='left')\n",
    "#+++++++++++++++++++++++++++\n",
    "\n",
    "#ax1.set_xticks(timeTicks)\n",
    "ax1.set_xticklabels(yrTickLebels, minor=False)\n",
    "ax1.set_xticklabels('', )\n",
    "ax1.set_xlim([-0.5, 2.5])\n",
    "ax1.set_ylim([-3, 19.5])\n",
    "\n",
    "ax1.set_yticks([0, 5, 10, 15]) \n",
    "ax1.set_yticklabels(['0', '5', '10', '15'],  fontsize = tickFontSize) \n",
    "\n",
    "#ax1.set_xlabel('Time (Year)')\n",
    "ax1.set_xlabel('')\n",
    "ax1.set_ylabel('')\n",
    "ax1.get_legend().remove()\n",
    "\n",
    "#+++++++++++++++++++++++++++++++++++++++++++++++++++++++\n",
    "\n",
    "ax2 = axs[1]\n",
    "ax2 = sns.boxplot(x=\"Years\", y=\"Anomaly\", ax=ax2, hue=\"Basins\", data=mdfBasinsEtEras, width = width, showfliers = False) # RUN PLOT \n",
    "ax2.axhline(y = 0, color = 'k', label = '', linestyle='--', linewidth=0.7)\n",
    "\n",
    "#ax2.legend(ncol=1, loc=(+1.02, -0.285),frameon=True)\n",
    "\n",
    "ax2.set_title('(b) Evapotranspiration (mm/mon)', y=0.98, pad=-14, fontsize = titleFontSize, loc='left')\n",
    "#+++++++++++++++++++++++++++\n",
    "#ax2.set_xticks(timeTicks)\n",
    "ax2.set_xticklabels(yrTickLebels, minor=False)\n",
    "ax2.set_xticklabels('', )\n",
    "ax2.set_xlim([-0.5, 2.5])\n",
    "ax2.set_ylim([-0.5, 8])\n",
    "\n",
    "ax2.set_yticks([0, 2, 4, 6, 8]) \n",
    "ax2.set_yticklabels(['0', '2', '4', '6', '8'],  fontsize = tickFontSize) \n",
    "\n",
    "\n",
    "#ax2.set_xlabel('Time (Year)')\n",
    "ax2.set_xlabel('')\n",
    "ax2.set_ylabel('')\n",
    "\n",
    "#ax2.set_ylabel('Anomaly', loc='center', )\n",
    "ax2.yaxis.set_label_coords(-.05, .2)\n",
    "ax2.get_legend().remove()\n",
    "\n",
    "#+++++++++++++++++++++++++++++++++++++++++++++++++++++++\n",
    "\n",
    "ax3 = axs[2]\n",
    "ax3 = sns.boxplot(x=\"Years\", y=\"Anomaly\", ax=ax3, hue=\"Basins\", data=mdfBasinsSnowMeltEras, width = width, showfliers = False) # RUN PLOT \n",
    "#ax3.axhline(y = 0, color = 'k', label = 'Zero-anomaly', linestyle='--', linewidth=0.7)\n",
    "ax3.axhline(y = 0, color = 'k', label = '', linestyle='--', linewidth=0.7)\n",
    "\n",
    "#ax3.legend(ncol=1, loc=(+1.02, -0.285),frameon=True)\n",
    "\n",
    "ax3.set_title('(c) Snow Melt (mm/mon)', y=0.98, pad=-14, fontsize = titleFontSize, loc='left')\n",
    "#+++++++++++++++++++++++++++\n",
    "\n",
    "#+++++++++++++++++++++++++++\n",
    "#ax3.set_xticks(timeTicks)\n",
    "ax3.set_xticklabels(yrTickLebels, minor=False)\n",
    "ax3.set_xticklabels('', )\n",
    "ax3.set_xlim([-0.5, 2.5])\n",
    "ax3.set_ylim([-12, 3])\n",
    "\n",
    "ax3.set_yticks([-10, -5, 0]) \n",
    "ax3.set_yticklabels(['-10', '-5', '0'],  fontsize = tickFontSize) \n",
    "\n",
    "\n",
    "#ax3.set_xlabel('Time (Year)')\n",
    "ax3.set_xlabel('')\n",
    "ax3.set_ylabel('')\n",
    "ax3.get_legend().remove()\n",
    "ax3.set_ylabel('Anomaly', loc='center', fontsize = textFontSize)\n",
    "ax3.yaxis.set_label_coords(-0.05, +0.5)\n",
    "\n",
    "#ax3.legend(ncol=1, loc=(+1.02, 0.15),frameon=True)\n",
    "#ax3.legend(ncol=5, loc=(-0.05, -3.5),frameon=False, fontsize=fontSize)\n",
    "ax3.legend(ncol=4, loc=(-0.01, -3.1),frameon=False, fontsize=legendFontSize )\n",
    "\n",
    "# replace labels\n",
    "leg = ax3.axes.get_legend()\n",
    "\n",
    "new_labels = ['Missouri', 'Arkansas', 'Ohio', 'Lower Mississippi']\n",
    "for t, l in zip(leg.texts, new_labels):\n",
    "    t.set_text(l)\n",
    "    \n",
    "    \n",
    "#+++++++++++++++++++++++++++++++++++++++++++++++++++++++\n",
    "\n",
    "ax4 = axs[3]\n",
    "ax4 = sns.boxplot(x=\"Years\", y=\"Anomaly\", ax=ax4, hue=\"Basins\", data=mdfBasinsSoilMoistEras, width = width, showfliers = False) # RUN PLOT \n",
    "ax4.axhline(y = 0, color = 'k', label = '', linestyle='--', linewidth=0.7)\n",
    "\n",
    "#ax4.legend(ncol=1, loc=(+1.02, -0.285),frameon=True)\n",
    "\n",
    "ax4.set_title('(d) Soil Moisture (kg/$\\mathregular{m^{2}}$)', y=0.98, pad=-14, fontsize = titleFontSize, loc='left')\n",
    "\n",
    "#+++++++++++++++++++++++++++\n",
    "\n",
    "#+++++++++++++++++++++++++++\n",
    "#ax4.set_xticks(timeTicks)\n",
    "ax4.set_xticklabels(yrTickLebels, minor=False)\n",
    "ax4.set_xticklabels('', )\n",
    "ax4.set_xlim([-0.5, 2.5])\n",
    "ax4.set_ylim([-2.3, 0.6])\n",
    "\n",
    "ax4.set_yticks([-2, -1, 0]) \n",
    "ax4.set_yticklabels(['-2', '-1', '0'],  fontsize = tickFontSize) \n",
    "\n",
    "#ax4.set_xlabel('Time (Year)')\n",
    "ax4.set_xlabel('')\n",
    "ax4.set_ylabel('')\n",
    "ax4.get_legend().remove()\n",
    "#ax4.set_ylabel('Anomaly, mm/mon', loc='top')\n",
    "\n",
    "#+++++++++++++++++++++++++++++++++++++++++++++++++++++++\n",
    "ax5 = axs[4]\n",
    "ax5 = sns.boxplot(x=\"Years\", y=\"Anomaly\", ax=ax5, hue=\"Basins\", data=mdfBasinsRunoffEras, width = width, showfliers = False) # RUN PLOT \n",
    "ax5.axhline(y = 0, color = 'k', label = '', linestyle='--', linewidth=0.7)\n",
    "\n",
    "#ax5.legend(ncol=1, loc=(+1.02, -0.285),frameon=True)\n",
    "#ax5.legend(ncol=1, loc=(+1.02, -0.255),frameon=True)\n",
    "#ax5.legend(ncol=1, loc=(+1.05, -0.26),frameon=True)\n",
    "#ax5.legend(ncol=1, loc=(+1.05, -0.26),frameon=True, labels=['Missouri', 'Arkansas', 'Ohio', 'Lower Mississippi'])\n",
    "\n",
    "\n",
    "ax5.set_title('(e) Runoff (mm/mon)', y=0.98, pad=-14, fontsize = titleFontSize, loc='left')\n",
    "#+++++++++++++++++++++++++++\n",
    "#ax5.set_xticks(timeTicks)\n",
    "ax5.set_xticklabels(yrTickLebels, fontsize = tickFontSize)\n",
    "#ax5.set_xticklabels('', )\n",
    "ax5.set_xlim([-0.5, 2.5])\n",
    "\n",
    "ax5.set_yticks([0, 2]) \n",
    "ax5.set_yticklabels(['0', '2'],  fontsize = tickFontSize) \n",
    "\n",
    "\n",
    "ax5.set_xlabel('Time', fontsize = textFontSize)\n",
    "#ax5.set_xlabel('')\n",
    "ax5.set_ylabel('')\n",
    "\n",
    "ax5.get_legend().remove()\n",
    "#+++++++++++++++++++++++++++++++++++++++++++++++++++++++\n",
    "#st = fig.suptitle(\"Basin-average anomaly for different parameters\", fontsize = 20)\n",
    "#st.set_y(0.905)\n",
    "\n",
    "#st.set_x(0.515)\n",
    "plt.subplots_adjust(bottom=0.2)\n",
    "\n",
    "\n",
    "\n",
    "#plt.savefig(r'C:\\rezaul\\1.academic\\1.research\\2.project\\mrb\\output\\fig\\paperOne\\param\\gr\\anom\\anomParamBox.pdf')  \n",
    "#plt.savefig(r'C:\\rezaul\\1.academic\\1.research\\2.project\\mrb\\output\\fig\\paperOne\\param\\gr\\anom\\anomParamBox.png', dpi=600)  \n",
    "\n",
    "\n",
    "\n",
    "plt.show()\n"
   ]
  },
  {
   "cell_type": "code",
   "execution_count": null,
   "metadata": {},
   "outputs": [],
   "source": []
  },
  {
   "cell_type": "code",
   "execution_count": null,
   "metadata": {},
   "outputs": [],
   "source": []
  },
  {
   "cell_type": "code",
   "execution_count": null,
   "metadata": {},
   "outputs": [],
   "source": []
  },
  {
   "cell_type": "code",
   "execution_count": null,
   "metadata": {},
   "outputs": [],
   "source": []
  },
  {
   "cell_type": "markdown",
   "metadata": {},
   "source": [
    "## Extract the statistics for different Eras for Snowmelt"
   ]
  },
  {
   "cell_type": "code",
   "execution_count": 146,
   "metadata": {},
   "outputs": [
    {
     "name": "stdout",
     "output_type": "stream",
     "text": [
      "(171,)\n",
      "(171,)\n",
      "(171,)\n",
      "(171,)\n"
     ]
    }
   ],
   "source": [
    "print(param_masked_ensMean_basinAvg_YrAvgAnom_Missouri.shape)\n",
    "print(param_masked_ensMean_basinAvg_YrAvgAnom_Arkansas.shape)\n",
    "print(param_masked_ensMean_basinAvg_YrAvgAnom_Ohio.shape)\n",
    "print(param_masked_ensMean_basinAvg_YrAvgAnom_lowMissi.shape)\n"
   ]
  },
  {
   "cell_type": "markdown",
   "metadata": {},
   "source": [
    "### Missouri"
   ]
  },
  {
   "cell_type": "code",
   "execution_count": 147,
   "metadata": {},
   "outputs": [
    {
     "name": "stdout",
     "output_type": "stream",
     "text": [
      "(30,)\n",
      "(30,)\n",
      "(26,)\n"
     ]
    }
   ],
   "source": [
    "param_masked_ensMean_basinAvg_YrAvgAnom_eraOne_Missouri = param_masked_ensMean_basinAvg_YrAvgAnom_Missouri[scenEraOneStepSt:scenEraOneStepEnd]\n",
    "print(param_masked_ensMean_basinAvg_YrAvgAnom_eraOne_Missouri.shape)\n",
    "\n",
    "param_masked_ensMean_basinAvg_YrAvgAnom_eraTwo_Missouri = param_masked_ensMean_basinAvg_YrAvgAnom_Missouri[scenEraTwoStepSt:scenEraTwoStepEnd]\n",
    "print(param_masked_ensMean_basinAvg_YrAvgAnom_eraTwo_Missouri.shape)\n",
    "\n",
    "param_masked_ensMean_basinAvg_YrAvgAnom_eraThree_Missouri = param_masked_ensMean_basinAvg_YrAvgAnom_Missouri[scenEraThreeStepSt:scenEraThreeStepEnd]\n",
    "print(param_masked_ensMean_basinAvg_YrAvgAnom_eraThree_Missouri.shape)\n"
   ]
  },
  {
   "cell_type": "markdown",
   "metadata": {},
   "source": [
    "### Arkansas"
   ]
  },
  {
   "cell_type": "code",
   "execution_count": 148,
   "metadata": {},
   "outputs": [
    {
     "name": "stdout",
     "output_type": "stream",
     "text": [
      "(30,)\n",
      "(30,)\n",
      "(26,)\n"
     ]
    }
   ],
   "source": [
    "param_masked_ensMean_basinAvg_YrAvgAnom_eraOne_Arkansas = param_masked_ensMean_basinAvg_YrAvgAnom_Arkansas[scenEraOneStepSt:scenEraOneStepEnd]\n",
    "print(param_masked_ensMean_basinAvg_YrAvgAnom_eraOne_Arkansas.shape)\n",
    "\n",
    "param_masked_ensMean_basinAvg_YrAvgAnom_eraTwo_Arkansas = param_masked_ensMean_basinAvg_YrAvgAnom_Arkansas[scenEraTwoStepSt:scenEraTwoStepEnd]\n",
    "print(param_masked_ensMean_basinAvg_YrAvgAnom_eraTwo_Arkansas.shape)\n",
    "\n",
    "param_masked_ensMean_basinAvg_YrAvgAnom_eraThree_Arkansas = param_masked_ensMean_basinAvg_YrAvgAnom_Arkansas[scenEraThreeStepSt:scenEraThreeStepEnd]\n",
    "print(param_masked_ensMean_basinAvg_YrAvgAnom_eraThree_Arkansas.shape)\n"
   ]
  },
  {
   "cell_type": "markdown",
   "metadata": {},
   "source": [
    "### Ohio"
   ]
  },
  {
   "cell_type": "code",
   "execution_count": 149,
   "metadata": {},
   "outputs": [
    {
     "name": "stdout",
     "output_type": "stream",
     "text": [
      "(30,)\n",
      "(30,)\n",
      "(26,)\n"
     ]
    }
   ],
   "source": [
    "param_masked_ensMean_basinAvg_YrAvgAnom_eraOne_Ohio = param_masked_ensMean_basinAvg_YrAvgAnom_Ohio[scenEraOneStepSt:scenEraOneStepEnd]\n",
    "print(param_masked_ensMean_basinAvg_YrAvgAnom_eraOne_Ohio.shape)\n",
    "\n",
    "param_masked_ensMean_basinAvg_YrAvgAnom_eraTwo_Ohio = param_masked_ensMean_basinAvg_YrAvgAnom_Ohio[scenEraTwoStepSt:scenEraTwoStepEnd]\n",
    "print(param_masked_ensMean_basinAvg_YrAvgAnom_eraTwo_Ohio.shape)\n",
    "\n",
    "param_masked_ensMean_basinAvg_YrAvgAnom_eraThree_Ohio = param_masked_ensMean_basinAvg_YrAvgAnom_Ohio[scenEraThreeStepSt:scenEraThreeStepEnd]\n",
    "print(param_masked_ensMean_basinAvg_YrAvgAnom_eraThree_Ohio.shape)\n"
   ]
  },
  {
   "cell_type": "markdown",
   "metadata": {},
   "source": [
    "### Lower Mississippi"
   ]
  },
  {
   "cell_type": "code",
   "execution_count": 150,
   "metadata": {},
   "outputs": [
    {
     "name": "stdout",
     "output_type": "stream",
     "text": [
      "(30,)\n",
      "(30,)\n",
      "(26,)\n"
     ]
    }
   ],
   "source": [
    "param_masked_ensMean_basinAvg_YrAvgAnom_eraOne_lowMissi = param_masked_ensMean_basinAvg_YrAvgAnom_lowMissi[scenEraOneStepSt:scenEraOneStepEnd]\n",
    "print(param_masked_ensMean_basinAvg_YrAvgAnom_eraOne_lowMissi.shape)\n",
    "\n",
    "param_masked_ensMean_basinAvg_YrAvgAnom_eraTwo_lowMissi = param_masked_ensMean_basinAvg_YrAvgAnom_lowMissi[scenEraTwoStepSt:scenEraTwoStepEnd]\n",
    "print(param_masked_ensMean_basinAvg_YrAvgAnom_eraTwo_lowMissi.shape)\n",
    "\n",
    "param_masked_ensMean_basinAvg_YrAvgAnom_eraThree_lowMissi = param_masked_ensMean_basinAvg_YrAvgAnom_lowMissi[scenEraThreeStepSt:scenEraThreeStepEnd]\n",
    "print(param_masked_ensMean_basinAvg_YrAvgAnom_eraThree_lowMissi.shape)\n"
   ]
  },
  {
   "cell_type": "code",
   "execution_count": null,
   "metadata": {},
   "outputs": [],
   "source": []
  },
  {
   "cell_type": "markdown",
   "metadata": {},
   "source": [
    "## Picking the max and min only"
   ]
  },
  {
   "cell_type": "markdown",
   "metadata": {},
   "source": [
    "### Missouri"
   ]
  },
  {
   "cell_type": "code",
   "execution_count": 151,
   "metadata": {},
   "outputs": [
    {
     "name": "stdout",
     "output_type": "stream",
     "text": [
      "2.3347659158639473\n",
      "4.970816765969644\n",
      "5.630694145382748\n",
      "\n",
      "-0.5713455532083813\n",
      "0.9145216904700817\n",
      "2.3541188576959726\n"
     ]
    }
   ],
   "source": [
    "param_masked_ensMean_basinAvg_YrAvgAnom_max_eraOne_Missouri = np.nanmax(param_masked_ensMean_basinAvg_YrAvgAnom_eraOne_Missouri)\n",
    "print(param_masked_ensMean_basinAvg_YrAvgAnom_max_eraOne_Missouri)\n",
    "\n",
    "param_masked_ensMean_basinAvg_YrAvgAnom_max_eraTwo_Missouri = np.nanmax(param_masked_ensMean_basinAvg_YrAvgAnom_eraTwo_Missouri)\n",
    "print(param_masked_ensMean_basinAvg_YrAvgAnom_max_eraTwo_Missouri)\n",
    "\n",
    "param_masked_ensMean_basinAvg_YrAvgAnom_max_eraThree_Missouri = np.nanmax(param_masked_ensMean_basinAvg_YrAvgAnom_eraThree_Missouri)\n",
    "print(param_masked_ensMean_basinAvg_YrAvgAnom_max_eraThree_Missouri)\n",
    "print('')\n",
    "\n",
    "param_masked_ensMean_basinAvg_YrAvgAnom_min_eraOne_Missouri = np.nanmin(param_masked_ensMean_basinAvg_YrAvgAnom_eraOne_Missouri)\n",
    "print(param_masked_ensMean_basinAvg_YrAvgAnom_min_eraOne_Missouri)\n",
    "\n",
    "param_masked_ensMean_basinAvg_YrAvgAnom_min_eraTwo_Missouri = np.nanmin(param_masked_ensMean_basinAvg_YrAvgAnom_eraTwo_Missouri)\n",
    "print(param_masked_ensMean_basinAvg_YrAvgAnom_min_eraTwo_Missouri)\n",
    "\n",
    "param_masked_ensMean_basinAvg_YrAvgAnom_min_eraThree_Missouri = np.nanmin(param_masked_ensMean_basinAvg_YrAvgAnom_eraThree_Missouri)\n",
    "print(param_masked_ensMean_basinAvg_YrAvgAnom_min_eraThree_Missouri)\n",
    "\n"
   ]
  },
  {
   "cell_type": "markdown",
   "metadata": {},
   "source": [
    "### Arkansas"
   ]
  },
  {
   "cell_type": "code",
   "execution_count": 152,
   "metadata": {},
   "outputs": [
    {
     "name": "stdout",
     "output_type": "stream",
     "text": [
      "5.853725040595279\n",
      "7.431091413813803\n",
      "8.628792548792575\n",
      "\n",
      "-0.9012480005694385\n",
      "0.9308322431174787\n",
      "2.6565995257730037\n"
     ]
    }
   ],
   "source": [
    "param_masked_ensMean_basinAvg_YrAvgAnom_max_eraOne_Arkansas = np.nanmax(param_masked_ensMean_basinAvg_YrAvgAnom_eraOne_Arkansas)\n",
    "print(param_masked_ensMean_basinAvg_YrAvgAnom_max_eraOne_Arkansas)\n",
    "\n",
    "param_masked_ensMean_basinAvg_YrAvgAnom_max_eraTwo_Arkansas = np.nanmax(param_masked_ensMean_basinAvg_YrAvgAnom_eraTwo_Arkansas)\n",
    "print(param_masked_ensMean_basinAvg_YrAvgAnom_max_eraTwo_Arkansas)\n",
    "\n",
    "param_masked_ensMean_basinAvg_YrAvgAnom_max_eraThree_Arkansas = np.nanmax(param_masked_ensMean_basinAvg_YrAvgAnom_eraThree_Arkansas)\n",
    "print(param_masked_ensMean_basinAvg_YrAvgAnom_max_eraThree_Arkansas)\n",
    "print('')\n",
    "\n",
    "param_masked_ensMean_basinAvg_YrAvgAnom_min_eraOne_Arkansas = np.nanmin(param_masked_ensMean_basinAvg_YrAvgAnom_eraOne_Arkansas)\n",
    "print(param_masked_ensMean_basinAvg_YrAvgAnom_min_eraOne_Arkansas)\n",
    "\n",
    "param_masked_ensMean_basinAvg_YrAvgAnom_min_eraTwo_Arkansas = np.nanmin(param_masked_ensMean_basinAvg_YrAvgAnom_eraTwo_Arkansas)\n",
    "print(param_masked_ensMean_basinAvg_YrAvgAnom_min_eraTwo_Arkansas)\n",
    "\n",
    "param_masked_ensMean_basinAvg_YrAvgAnom_min_eraThree_Arkansas = np.nanmin(param_masked_ensMean_basinAvg_YrAvgAnom_eraThree_Arkansas)\n",
    "print(param_masked_ensMean_basinAvg_YrAvgAnom_min_eraThree_Arkansas)\n",
    "\n"
   ]
  },
  {
   "cell_type": "markdown",
   "metadata": {},
   "source": [
    "### Ohio"
   ]
  },
  {
   "cell_type": "code",
   "execution_count": 153,
   "metadata": {},
   "outputs": [
    {
     "name": "stdout",
     "output_type": "stream",
     "text": [
      "9.081876226203406\n",
      "11.969996323763297\n",
      "18.655790213146034\n",
      "\n",
      "0.36491195583789704\n",
      "2.7669128932107583\n",
      "7.99738325391678\n"
     ]
    }
   ],
   "source": [
    "param_masked_ensMean_basinAvg_YrAvgAnom_max_eraOne_Ohio = np.nanmax(param_masked_ensMean_basinAvg_YrAvgAnom_eraOne_Ohio)\n",
    "print(param_masked_ensMean_basinAvg_YrAvgAnom_max_eraOne_Ohio)\n",
    "\n",
    "param_masked_ensMean_basinAvg_YrAvgAnom_max_eraTwo_Ohio = np.nanmax(param_masked_ensMean_basinAvg_YrAvgAnom_eraTwo_Ohio)\n",
    "print(param_masked_ensMean_basinAvg_YrAvgAnom_max_eraTwo_Ohio)\n",
    "\n",
    "param_masked_ensMean_basinAvg_YrAvgAnom_max_eraThree_Ohio = np.nanmax(param_masked_ensMean_basinAvg_YrAvgAnom_eraThree_Ohio)\n",
    "print(param_masked_ensMean_basinAvg_YrAvgAnom_max_eraThree_Ohio)\n",
    "print('')\n",
    "\n",
    "param_masked_ensMean_basinAvg_YrAvgAnom_min_eraOne_Ohio = np.nanmin(param_masked_ensMean_basinAvg_YrAvgAnom_eraOne_Ohio)\n",
    "print(param_masked_ensMean_basinAvg_YrAvgAnom_min_eraOne_Ohio)\n",
    "\n",
    "param_masked_ensMean_basinAvg_YrAvgAnom_min_eraTwo_Ohio = np.nanmin(param_masked_ensMean_basinAvg_YrAvgAnom_eraTwo_Ohio)\n",
    "print(param_masked_ensMean_basinAvg_YrAvgAnom_min_eraTwo_Ohio)\n",
    "\n",
    "param_masked_ensMean_basinAvg_YrAvgAnom_min_eraThree_Ohio = np.nanmin(param_masked_ensMean_basinAvg_YrAvgAnom_eraThree_Ohio)\n",
    "print(param_masked_ensMean_basinAvg_YrAvgAnom_min_eraThree_Ohio)\n",
    "\n",
    "\n"
   ]
  },
  {
   "cell_type": "markdown",
   "metadata": {},
   "source": [
    "### Lower Mississippi"
   ]
  },
  {
   "cell_type": "code",
   "execution_count": 154,
   "metadata": {},
   "outputs": [
    {
     "name": "stdout",
     "output_type": "stream",
     "text": [
      "8.045370845240868\n",
      "13.314687509827465\n",
      "15.118357957993226\n",
      "\n",
      "-1.9040179755342734\n",
      "3.06783390770822\n",
      "5.447938257533735\n"
     ]
    }
   ],
   "source": [
    "param_masked_ensMean_basinAvg_YrAvgAnom_max_eraOne_lowMissi = np.nanmax(param_masked_ensMean_basinAvg_YrAvgAnom_eraOne_lowMissi)\n",
    "print(param_masked_ensMean_basinAvg_YrAvgAnom_max_eraOne_lowMissi)\n",
    "\n",
    "param_masked_ensMean_basinAvg_YrAvgAnom_max_eraTwo_lowMissi = np.nanmax(param_masked_ensMean_basinAvg_YrAvgAnom_eraTwo_lowMissi)\n",
    "print(param_masked_ensMean_basinAvg_YrAvgAnom_max_eraTwo_lowMissi)\n",
    "\n",
    "param_masked_ensMean_basinAvg_YrAvgAnom_max_eraThree_lowMissi = np.nanmax(param_masked_ensMean_basinAvg_YrAvgAnom_eraThree_lowMissi)\n",
    "print(param_masked_ensMean_basinAvg_YrAvgAnom_max_eraThree_lowMissi)\n",
    "print('')\n",
    "\n",
    "param_masked_ensMean_basinAvg_YrAvgAnom_min_eraOne_lowMissi = np.nanmin(param_masked_ensMean_basinAvg_YrAvgAnom_eraOne_lowMissi)\n",
    "print(param_masked_ensMean_basinAvg_YrAvgAnom_min_eraOne_lowMissi)\n",
    "\n",
    "param_masked_ensMean_basinAvg_YrAvgAnom_min_eraTwo_lowMissi = np.nanmin(param_masked_ensMean_basinAvg_YrAvgAnom_eraTwo_lowMissi)\n",
    "print(param_masked_ensMean_basinAvg_YrAvgAnom_min_eraTwo_lowMissi)\n",
    "\n",
    "param_masked_ensMean_basinAvg_YrAvgAnom_min_eraThree_lowMissi = np.nanmin(param_masked_ensMean_basinAvg_YrAvgAnom_eraThree_lowMissi)\n",
    "print(param_masked_ensMean_basinAvg_YrAvgAnom_min_eraThree_lowMissi)\n",
    "\n",
    "\n"
   ]
  },
  {
   "cell_type": "code",
   "execution_count": null,
   "metadata": {},
   "outputs": [],
   "source": []
  },
  {
   "cell_type": "code",
   "execution_count": null,
   "metadata": {},
   "outputs": [],
   "source": []
  },
  {
   "cell_type": "code",
   "execution_count": null,
   "metadata": {},
   "outputs": [],
   "source": []
  },
  {
   "cell_type": "code",
   "execution_count": null,
   "metadata": {},
   "outputs": [],
   "source": []
  },
  {
   "cell_type": "markdown",
   "metadata": {},
   "source": [
    "## Percent difference calculation"
   ]
  },
  {
   "cell_type": "markdown",
   "metadata": {},
   "source": [
    "## First: \"param\" refers to \"precip\""
   ]
  },
  {
   "cell_type": "code",
   "execution_count": 155,
   "metadata": {},
   "outputs": [
    {
     "name": "stdout",
     "output_type": "stream",
     "text": [
      "(171,)\n",
      "(171,)\n",
      "(171,)\n",
      "(171,)\n"
     ]
    }
   ],
   "source": [
    "\n",
    "param_masked_ensMean_basinAvg_YrAvgPercCh_Missouri = (param_masked_ensMean_basinAvg_YrAvg_Missouri - param_refPeriodMean_masked_ensMean_basinAvg_YrAvg_Missouri)/param_refPeriodMean_masked_ensMean_basinAvg_YrAvg_Missouri*100\n",
    "print(param_masked_ensMean_basinAvg_YrAvgPercCh_Missouri.shape)\n",
    "\n",
    "param_masked_ensMean_basinAvg_YrAvgPercCh_Arkansas = (param_masked_ensMean_basinAvg_YrAvg_Arkansas - param_refPeriodMean_masked_ensMean_basinAvg_YrAvg_Arkansas)/param_refPeriodMean_masked_ensMean_basinAvg_YrAvg_Arkansas*100\n",
    "print(param_masked_ensMean_basinAvg_YrAvgPercCh_Arkansas.shape)\n",
    "\n",
    "param_masked_ensMean_basinAvg_YrAvgPercCh_Ohio = (param_masked_ensMean_basinAvg_YrAvg_Ohio - param_refPeriodMean_masked_ensMean_basinAvg_YrAvg_Ohio)/param_refPeriodMean_masked_ensMean_basinAvg_YrAvg_Ohio*100\n",
    "print(param_masked_ensMean_basinAvg_YrAvgPercCh_Ohio.shape)\n",
    "\n",
    "param_masked_ensMean_basinAvg_YrAvgPercCh_lowMissi = (param_masked_ensMean_basinAvg_YrAvg_lowMissi - param_refPeriodMean_masked_ensMean_basinAvg_YrAvg_lowMissi)/param_refPeriodMean_masked_ensMean_basinAvg_YrAvg_lowMissi*100\n",
    "print(param_masked_ensMean_basinAvg_YrAvgPercCh_lowMissi.shape)\n"
   ]
  },
  {
   "cell_type": "markdown",
   "metadata": {},
   "source": [
    "## Splitting into Eras"
   ]
  },
  {
   "cell_type": "code",
   "execution_count": 156,
   "metadata": {},
   "outputs": [
    {
     "name": "stdout",
     "output_type": "stream",
     "text": [
      "(30,)\n",
      "(30,)\n",
      "(26,)\n"
     ]
    }
   ],
   "source": [
    "param_masked_ensMean_basinAvg_YrAvgPercCh_eraOne_Missouri = param_masked_ensMean_basinAvg_YrAvgPercCh_Missouri[scenEraOneStepSt:scenEraOneStepEnd]\n",
    "print(param_masked_ensMean_basinAvg_YrAvgPercCh_eraOne_Missouri.shape)\n",
    "\n",
    "param_masked_ensMean_basinAvg_YrAvgPercCh_eraTwo_Missouri = param_masked_ensMean_basinAvg_YrAvgPercCh_Missouri[scenEraTwoStepSt:scenEraTwoStepEnd]\n",
    "print(param_masked_ensMean_basinAvg_YrAvgPercCh_eraTwo_Missouri.shape)\n",
    "\n",
    "param_masked_ensMean_basinAvg_YrAvgPercCh_eraThree_Missouri = param_masked_ensMean_basinAvg_YrAvgPercCh_Missouri[scenEraThreeStepSt:scenEraThreeStepEnd]\n",
    "print(param_masked_ensMean_basinAvg_YrAvgPercCh_eraThree_Missouri.shape)\n"
   ]
  },
  {
   "cell_type": "code",
   "execution_count": 157,
   "metadata": {},
   "outputs": [
    {
     "name": "stdout",
     "output_type": "stream",
     "text": [
      "(30,)\n",
      "(30,)\n",
      "(26,)\n"
     ]
    }
   ],
   "source": [
    "param_masked_ensMean_basinAvg_YrAvgPercCh_eraOne_Arkansas = param_masked_ensMean_basinAvg_YrAvgPercCh_Arkansas[scenEraOneStepSt:scenEraOneStepEnd]\n",
    "print(param_masked_ensMean_basinAvg_YrAvgPercCh_eraOne_Arkansas.shape)\n",
    "\n",
    "param_masked_ensMean_basinAvg_YrAvgPercCh_eraTwo_Arkansas = param_masked_ensMean_basinAvg_YrAvgPercCh_Arkansas[scenEraTwoStepSt:scenEraTwoStepEnd]\n",
    "print(param_masked_ensMean_basinAvg_YrAvgPercCh_eraTwo_Arkansas.shape)\n",
    "\n",
    "param_masked_ensMean_basinAvg_YrAvgPercCh_eraThree_Arkansas = param_masked_ensMean_basinAvg_YrAvgPercCh_Arkansas[scenEraThreeStepSt:scenEraThreeStepEnd]\n",
    "print(param_masked_ensMean_basinAvg_YrAvgPercCh_eraThree_Arkansas.shape)\n"
   ]
  },
  {
   "cell_type": "code",
   "execution_count": 158,
   "metadata": {},
   "outputs": [
    {
     "name": "stdout",
     "output_type": "stream",
     "text": [
      "(30,)\n",
      "(30,)\n",
      "(26,)\n"
     ]
    }
   ],
   "source": [
    "param_masked_ensMean_basinAvg_YrAvgPercCh_eraOne_Ohio = param_masked_ensMean_basinAvg_YrAvgPercCh_Ohio[scenEraOneStepSt:scenEraOneStepEnd]\n",
    "print(param_masked_ensMean_basinAvg_YrAvgPercCh_eraOne_Ohio.shape)\n",
    "\n",
    "param_masked_ensMean_basinAvg_YrAvgPercCh_eraTwo_Ohio = param_masked_ensMean_basinAvg_YrAvgPercCh_Ohio[scenEraTwoStepSt:scenEraTwoStepEnd]\n",
    "print(param_masked_ensMean_basinAvg_YrAvgPercCh_eraTwo_Ohio.shape)\n",
    "\n",
    "param_masked_ensMean_basinAvg_YrAvgPercCh_eraThree_Ohio = param_masked_ensMean_basinAvg_YrAvgPercCh_Ohio[scenEraThreeStepSt:scenEraThreeStepEnd]\n",
    "print(param_masked_ensMean_basinAvg_YrAvgPercCh_eraThree_Ohio.shape)\n"
   ]
  },
  {
   "cell_type": "code",
   "execution_count": 159,
   "metadata": {},
   "outputs": [
    {
     "name": "stdout",
     "output_type": "stream",
     "text": [
      "(30,)\n",
      "(30,)\n",
      "(26,)\n"
     ]
    }
   ],
   "source": [
    "param_masked_ensMean_basinAvg_YrAvgPercCh_eraOne_lowMissi = param_masked_ensMean_basinAvg_YrAvgPercCh_lowMissi[scenEraOneStepSt:scenEraOneStepEnd]\n",
    "print(param_masked_ensMean_basinAvg_YrAvgPercCh_eraOne_lowMissi.shape)\n",
    "\n",
    "param_masked_ensMean_basinAvg_YrAvgPercCh_eraTwo_lowMissi = param_masked_ensMean_basinAvg_YrAvgPercCh_lowMissi[scenEraTwoStepSt:scenEraTwoStepEnd]\n",
    "print(param_masked_ensMean_basinAvg_YrAvgPercCh_eraTwo_lowMissi.shape)\n",
    "\n",
    "param_masked_ensMean_basinAvg_YrAvgPercCh_eraThree_lowMissi = param_masked_ensMean_basinAvg_YrAvgPercCh_lowMissi[scenEraThreeStepSt:scenEraThreeStepEnd]\n",
    "print(param_masked_ensMean_basinAvg_YrAvgPercCh_eraThree_lowMissi.shape)\n"
   ]
  },
  {
   "cell_type": "code",
   "execution_count": null,
   "metadata": {},
   "outputs": [],
   "source": []
  },
  {
   "cell_type": "code",
   "execution_count": null,
   "metadata": {},
   "outputs": [],
   "source": []
  },
  {
   "cell_type": "code",
   "execution_count": null,
   "metadata": {},
   "outputs": [],
   "source": []
  },
  {
   "cell_type": "code",
   "execution_count": null,
   "metadata": {},
   "outputs": [],
   "source": []
  },
  {
   "cell_type": "markdown",
   "metadata": {},
   "source": [
    "## Pick Statistics"
   ]
  },
  {
   "cell_type": "code",
   "execution_count": 160,
   "metadata": {},
   "outputs": [
    {
     "name": "stdout",
     "output_type": "stream",
     "text": [
      "(30,)\n"
     ]
    }
   ],
   "source": [
    "print(param_masked_ensMean_basinAvg_YrAvgPercCh_eraOne_Missouri.shape)\n"
   ]
  },
  {
   "cell_type": "code",
   "execution_count": null,
   "metadata": {},
   "outputs": [],
   "source": []
  },
  {
   "cell_type": "code",
   "execution_count": null,
   "metadata": {},
   "outputs": [],
   "source": []
  },
  {
   "cell_type": "markdown",
   "metadata": {},
   "source": [
    "## Missouri"
   ]
  },
  {
   "cell_type": "code",
   "execution_count": 161,
   "metadata": {},
   "outputs": [
    {
     "name": "stdout",
     "output_type": "stream",
     "text": [
      "5.718704823882128\n",
      "-1.399436469855837\n",
      "2.263878480636128\n",
      "2.4747952356577523\n"
     ]
    }
   ],
   "source": [
    "param_masked_ensMean_basinAvg_YrAvgPercCh_max_eraOne_Missouri = np.nanmax(param_masked_ensMean_basinAvg_YrAvgPercCh_eraOne_Missouri)\n",
    "print(param_masked_ensMean_basinAvg_YrAvgPercCh_max_eraOne_Missouri)\n",
    "\n",
    "param_masked_ensMean_basinAvg_YrAvgPercCh_min_eraOne_Missouri = np.nanmin(param_masked_ensMean_basinAvg_YrAvgPercCh_eraOne_Missouri)\n",
    "print(param_masked_ensMean_basinAvg_YrAvgPercCh_min_eraOne_Missouri)\n",
    "\n",
    "param_masked_ensMean_basinAvg_YrAvgPercCh_mean_eraOne_Missouri = np.nanmean(param_masked_ensMean_basinAvg_YrAvgPercCh_eraOne_Missouri)\n",
    "print(param_masked_ensMean_basinAvg_YrAvgPercCh_mean_eraOne_Missouri)\n",
    "\n",
    "param_masked_ensMean_basinAvg_YrAvgPercCh_median_eraOne_Missouri = np.nanmedian(param_masked_ensMean_basinAvg_YrAvgPercCh_eraOne_Missouri)\n",
    "print(param_masked_ensMean_basinAvg_YrAvgPercCh_median_eraOne_Missouri)\n",
    "\n"
   ]
  },
  {
   "cell_type": "code",
   "execution_count": 162,
   "metadata": {},
   "outputs": [
    {
     "name": "stdout",
     "output_type": "stream",
     "text": [
      "12.175367828113032\n",
      "2.240001692375593\n",
      "6.041504702467844\n",
      "5.021903638476164\n"
     ]
    }
   ],
   "source": [
    "param_masked_ensMean_basinAvg_YrAvgPercCh_max_eraTwo_Missouri = np.nanmax(param_masked_ensMean_basinAvg_YrAvgPercCh_eraTwo_Missouri)\n",
    "print(param_masked_ensMean_basinAvg_YrAvgPercCh_max_eraTwo_Missouri)\n",
    "\n",
    "param_masked_ensMean_basinAvg_YrAvgPercCh_min_eraTwo_Missouri = np.nanmin(param_masked_ensMean_basinAvg_YrAvgPercCh_eraTwo_Missouri)\n",
    "print(param_masked_ensMean_basinAvg_YrAvgPercCh_min_eraTwo_Missouri)\n",
    "\n",
    "param_masked_ensMean_basinAvg_YrAvgPercCh_mean_eraTwo_Missouri = np.nanmean(param_masked_ensMean_basinAvg_YrAvgPercCh_eraTwo_Missouri)\n",
    "print(param_masked_ensMean_basinAvg_YrAvgPercCh_mean_eraTwo_Missouri)\n",
    "\n",
    "param_masked_ensMean_basinAvg_YrAvgPercCh_median_eraTwo_Missouri = np.nanmedian(param_masked_ensMean_basinAvg_YrAvgPercCh_eraTwo_Missouri)\n",
    "print(param_masked_ensMean_basinAvg_YrAvgPercCh_median_eraTwo_Missouri)\n",
    "\n"
   ]
  },
  {
   "cell_type": "code",
   "execution_count": 163,
   "metadata": {},
   "outputs": [
    {
     "name": "stdout",
     "output_type": "stream",
     "text": [
      "13.79165146801876\n",
      "5.766107332655757\n",
      "10.548878535334426\n",
      "10.539944841492735\n"
     ]
    }
   ],
   "source": [
    "param_masked_ensMean_basinAvg_YrAvgPercCh_max_eraThree_Missouri = np.nanmax(param_masked_ensMean_basinAvg_YrAvgPercCh_eraThree_Missouri)\n",
    "print(param_masked_ensMean_basinAvg_YrAvgPercCh_max_eraThree_Missouri)\n",
    "\n",
    "param_masked_ensMean_basinAvg_YrAvgPercCh_min_eraThree_Missouri = np.nanmin(param_masked_ensMean_basinAvg_YrAvgPercCh_eraThree_Missouri)\n",
    "print(param_masked_ensMean_basinAvg_YrAvgPercCh_min_eraThree_Missouri)\n",
    "\n",
    "param_masked_ensMean_basinAvg_YrAvgPercCh_mean_eraThree_Missouri = np.nanmean(param_masked_ensMean_basinAvg_YrAvgPercCh_eraThree_Missouri)\n",
    "print(param_masked_ensMean_basinAvg_YrAvgPercCh_mean_eraThree_Missouri)\n",
    "\n",
    "param_masked_ensMean_basinAvg_YrAvgPercCh_median_eraThree_Missouri = np.nanmedian(param_masked_ensMean_basinAvg_YrAvgPercCh_eraThree_Missouri)\n",
    "print(param_masked_ensMean_basinAvg_YrAvgPercCh_median_eraThree_Missouri)\n",
    "\n",
    "\n"
   ]
  },
  {
   "cell_type": "code",
   "execution_count": null,
   "metadata": {},
   "outputs": [],
   "source": []
  },
  {
   "cell_type": "code",
   "execution_count": null,
   "metadata": {},
   "outputs": [],
   "source": []
  },
  {
   "cell_type": "markdown",
   "metadata": {},
   "source": [
    "## Arkansas"
   ]
  },
  {
   "cell_type": "code",
   "execution_count": 164,
   "metadata": {},
   "outputs": [
    {
     "name": "stdout",
     "output_type": "stream",
     "text": [
      "10.64570135164737\n",
      "-1.6390276262200183\n",
      "2.685850301406091\n",
      "2.4622523256297666\n"
     ]
    }
   ],
   "source": [
    "param_masked_ensMean_basinAvg_YrAvgPercCh_max_eraOne_Arkansas = np.nanmax(param_masked_ensMean_basinAvg_YrAvgPercCh_eraOne_Arkansas)\n",
    "print(param_masked_ensMean_basinAvg_YrAvgPercCh_max_eraOne_Arkansas)\n",
    "\n",
    "param_masked_ensMean_basinAvg_YrAvgPercCh_min_eraOne_Arkansas = np.nanmin(param_masked_ensMean_basinAvg_YrAvgPercCh_eraOne_Arkansas)\n",
    "print(param_masked_ensMean_basinAvg_YrAvgPercCh_min_eraOne_Arkansas)\n",
    "\n",
    "param_masked_ensMean_basinAvg_YrAvgPercCh_mean_eraOne_Arkansas = np.nanmean(param_masked_ensMean_basinAvg_YrAvgPercCh_eraOne_Arkansas)\n",
    "print(param_masked_ensMean_basinAvg_YrAvgPercCh_mean_eraOne_Arkansas)\n",
    "\n",
    "param_masked_ensMean_basinAvg_YrAvgPercCh_median_eraOne_Arkansas = np.nanmedian(param_masked_ensMean_basinAvg_YrAvgPercCh_eraOne_Arkansas)\n",
    "print(param_masked_ensMean_basinAvg_YrAvgPercCh_median_eraOne_Arkansas)\n",
    "\n"
   ]
  },
  {
   "cell_type": "code",
   "execution_count": 165,
   "metadata": {},
   "outputs": [
    {
     "name": "stdout",
     "output_type": "stream",
     "text": [
      "13.514331363300244\n",
      "1.6928301209899312\n",
      "7.60188635947822\n",
      "7.427715583270784\n"
     ]
    }
   ],
   "source": [
    "param_masked_ensMean_basinAvg_YrAvgPercCh_max_eraTwo_Arkansas = np.nanmax(param_masked_ensMean_basinAvg_YrAvgPercCh_eraTwo_Arkansas)\n",
    "print(param_masked_ensMean_basinAvg_YrAvgPercCh_max_eraTwo_Arkansas)\n",
    "\n",
    "param_masked_ensMean_basinAvg_YrAvgPercCh_min_eraTwo_Arkansas = np.nanmin(param_masked_ensMean_basinAvg_YrAvgPercCh_eraTwo_Arkansas)\n",
    "print(param_masked_ensMean_basinAvg_YrAvgPercCh_min_eraTwo_Arkansas)\n",
    "\n",
    "param_masked_ensMean_basinAvg_YrAvgPercCh_mean_eraTwo_Arkansas = np.nanmean(param_masked_ensMean_basinAvg_YrAvgPercCh_eraTwo_Arkansas)\n",
    "print(param_masked_ensMean_basinAvg_YrAvgPercCh_mean_eraTwo_Arkansas)\n",
    "\n",
    "param_masked_ensMean_basinAvg_YrAvgPercCh_median_eraTwo_Arkansas = np.nanmedian(param_masked_ensMean_basinAvg_YrAvgPercCh_eraTwo_Arkansas)\n",
    "print(param_masked_ensMean_basinAvg_YrAvgPercCh_median_eraTwo_Arkansas)\n"
   ]
  },
  {
   "cell_type": "code",
   "execution_count": 166,
   "metadata": {},
   "outputs": [
    {
     "name": "stdout",
     "output_type": "stream",
     "text": [
      "15.6924945846832\n",
      "4.83134499249241\n",
      "9.978417890795592\n",
      "10.045822457375564\n"
     ]
    }
   ],
   "source": [
    "param_masked_ensMean_basinAvg_YrAvgPercCh_max_eraThree_Arkansas = np.nanmax(param_masked_ensMean_basinAvg_YrAvgPercCh_eraThree_Arkansas)\n",
    "print(param_masked_ensMean_basinAvg_YrAvgPercCh_max_eraThree_Arkansas)\n",
    "\n",
    "param_masked_ensMean_basinAvg_YrAvgPercCh_min_eraThree_Arkansas = np.nanmin(param_masked_ensMean_basinAvg_YrAvgPercCh_eraThree_Arkansas)\n",
    "print(param_masked_ensMean_basinAvg_YrAvgPercCh_min_eraThree_Arkansas)\n",
    "\n",
    "param_masked_ensMean_basinAvg_YrAvgPercCh_mean_eraThree_Arkansas = np.nanmean(param_masked_ensMean_basinAvg_YrAvgPercCh_eraThree_Arkansas)\n",
    "print(param_masked_ensMean_basinAvg_YrAvgPercCh_mean_eraThree_Arkansas)\n",
    "\n",
    "param_masked_ensMean_basinAvg_YrAvgPercCh_median_eraThree_Arkansas = np.nanmedian(param_masked_ensMean_basinAvg_YrAvgPercCh_eraThree_Arkansas)\n",
    "print(param_masked_ensMean_basinAvg_YrAvgPercCh_median_eraThree_Arkansas)\n"
   ]
  },
  {
   "cell_type": "code",
   "execution_count": null,
   "metadata": {},
   "outputs": [],
   "source": []
  },
  {
   "cell_type": "code",
   "execution_count": null,
   "metadata": {},
   "outputs": [],
   "source": []
  },
  {
   "cell_type": "markdown",
   "metadata": {},
   "source": [
    "## Ohio"
   ]
  },
  {
   "cell_type": "code",
   "execution_count": 167,
   "metadata": {},
   "outputs": [
    {
     "name": "stdout",
     "output_type": "stream",
     "text": [
      "8.601605064658758\n",
      "0.3456145458615159\n",
      "3.894376645350215\n",
      "3.4889006607998336\n"
     ]
    }
   ],
   "source": [
    "param_masked_ensMean_basinAvg_YrAvgPercCh_max_eraOne_Ohio = np.nanmax(param_masked_ensMean_basinAvg_YrAvgPercCh_eraOne_Ohio)\n",
    "print(param_masked_ensMean_basinAvg_YrAvgPercCh_max_eraOne_Ohio)\n",
    "\n",
    "param_masked_ensMean_basinAvg_YrAvgPercCh_min_eraOne_Ohio = np.nanmin(param_masked_ensMean_basinAvg_YrAvgPercCh_eraOne_Ohio)\n",
    "print(param_masked_ensMean_basinAvg_YrAvgPercCh_min_eraOne_Ohio)\n",
    "\n",
    "param_masked_ensMean_basinAvg_YrAvgPercCh_mean_eraOne_Ohio = np.nanmean(param_masked_ensMean_basinAvg_YrAvgPercCh_eraOne_Ohio)\n",
    "print(param_masked_ensMean_basinAvg_YrAvgPercCh_mean_eraOne_Ohio)\n",
    "\n",
    "param_masked_ensMean_basinAvg_YrAvgPercCh_median_eraOne_Ohio = np.nanmedian(param_masked_ensMean_basinAvg_YrAvgPercCh_eraOne_Ohio)\n",
    "print(param_masked_ensMean_basinAvg_YrAvgPercCh_median_eraOne_Ohio)\n"
   ]
  },
  {
   "cell_type": "code",
   "execution_count": 168,
   "metadata": {},
   "outputs": [
    {
     "name": "stdout",
     "output_type": "stream",
     "text": [
      "11.336994519410121\n",
      "2.62059197493166\n",
      "7.453144104864746\n",
      "7.814408717789156\n"
     ]
    }
   ],
   "source": [
    "param_masked_ensMean_basinAvg_YrAvgPercCh_max_eraTwo_Ohio = np.nanmax(param_masked_ensMean_basinAvg_YrAvgPercCh_eraTwo_Ohio)\n",
    "print(param_masked_ensMean_basinAvg_YrAvgPercCh_max_eraTwo_Ohio)\n",
    "\n",
    "param_masked_ensMean_basinAvg_YrAvgPercCh_min_eraTwo_Ohio = np.nanmin(param_masked_ensMean_basinAvg_YrAvgPercCh_eraTwo_Ohio)\n",
    "print(param_masked_ensMean_basinAvg_YrAvgPercCh_min_eraTwo_Ohio)\n",
    "\n",
    "param_masked_ensMean_basinAvg_YrAvgPercCh_mean_eraTwo_Ohio = np.nanmean(param_masked_ensMean_basinAvg_YrAvgPercCh_eraTwo_Ohio)\n",
    "print(param_masked_ensMean_basinAvg_YrAvgPercCh_mean_eraTwo_Ohio)\n",
    "\n",
    "param_masked_ensMean_basinAvg_YrAvgPercCh_median_eraTwo_Ohio = np.nanmedian(param_masked_ensMean_basinAvg_YrAvgPercCh_eraTwo_Ohio)\n",
    "print(param_masked_ensMean_basinAvg_YrAvgPercCh_median_eraTwo_Ohio)\n"
   ]
  },
  {
   "cell_type": "code",
   "execution_count": 169,
   "metadata": {},
   "outputs": [
    {
     "name": "stdout",
     "output_type": "stream",
     "text": [
      "17.669227765911877\n",
      "7.574462653700453\n",
      "11.742777429642825\n",
      "12.243469517767299\n"
     ]
    }
   ],
   "source": [
    "param_masked_ensMean_basinAvg_YrAvgPercCh_max_eraThree_Ohio = np.nanmax(param_masked_ensMean_basinAvg_YrAvgPercCh_eraThree_Ohio)\n",
    "print(param_masked_ensMean_basinAvg_YrAvgPercCh_max_eraThree_Ohio)\n",
    "\n",
    "param_masked_ensMean_basinAvg_YrAvgPercCh_min_eraThree_Ohio = np.nanmin(param_masked_ensMean_basinAvg_YrAvgPercCh_eraThree_Ohio)\n",
    "print(param_masked_ensMean_basinAvg_YrAvgPercCh_min_eraThree_Ohio)\n",
    "\n",
    "param_masked_ensMean_basinAvg_YrAvgPercCh_mean_eraThree_Ohio = np.nanmean(param_masked_ensMean_basinAvg_YrAvgPercCh_eraThree_Ohio)\n",
    "print(param_masked_ensMean_basinAvg_YrAvgPercCh_mean_eraThree_Ohio)\n",
    "\n",
    "param_masked_ensMean_basinAvg_YrAvgPercCh_median_eraThree_Ohio = np.nanmedian(param_masked_ensMean_basinAvg_YrAvgPercCh_eraThree_Ohio)\n",
    "print(param_masked_ensMean_basinAvg_YrAvgPercCh_median_eraThree_Ohio)\n",
    "\n"
   ]
  },
  {
   "cell_type": "code",
   "execution_count": null,
   "metadata": {},
   "outputs": [],
   "source": []
  },
  {
   "cell_type": "code",
   "execution_count": null,
   "metadata": {},
   "outputs": [],
   "source": []
  },
  {
   "cell_type": "code",
   "execution_count": null,
   "metadata": {},
   "outputs": [],
   "source": []
  },
  {
   "cell_type": "markdown",
   "metadata": {},
   "source": [
    "## Lower Mississippi"
   ]
  },
  {
   "cell_type": "code",
   "execution_count": 170,
   "metadata": {},
   "outputs": [
    {
     "name": "stdout",
     "output_type": "stream",
     "text": [
      "8.275122598170634\n",
      "-1.95839103998382\n",
      "3.7246342647676816\n",
      "3.731837570068727\n"
     ]
    }
   ],
   "source": [
    "param_masked_ensMean_basinAvg_YrAvgPercCh_max_eraOne_lowMissi = np.nanmax(param_masked_ensMean_basinAvg_YrAvgPercCh_eraOne_lowMissi)\n",
    "print(param_masked_ensMean_basinAvg_YrAvgPercCh_max_eraOne_lowMissi)\n",
    "\n",
    "param_masked_ensMean_basinAvg_YrAvgPercCh_min_eraOne_lowMissi = np.nanmin(param_masked_ensMean_basinAvg_YrAvgPercCh_eraOne_lowMissi)\n",
    "print(param_masked_ensMean_basinAvg_YrAvgPercCh_min_eraOne_lowMissi)\n",
    "\n",
    "param_masked_ensMean_basinAvg_YrAvgPercCh_mean_eraOne_lowMissi = np.nanmean(param_masked_ensMean_basinAvg_YrAvgPercCh_eraOne_lowMissi)\n",
    "print(param_masked_ensMean_basinAvg_YrAvgPercCh_mean_eraOne_lowMissi)\n",
    "\n",
    "param_masked_ensMean_basinAvg_YrAvgPercCh_median_eraOne_lowMissi = np.nanmedian(param_masked_ensMean_basinAvg_YrAvgPercCh_eraOne_lowMissi)\n",
    "print(param_masked_ensMean_basinAvg_YrAvgPercCh_median_eraOne_lowMissi)\n"
   ]
  },
  {
   "cell_type": "code",
   "execution_count": 171,
   "metadata": {},
   "outputs": [
    {
     "name": "stdout",
     "output_type": "stream",
     "text": [
      "13.694915202737915\n",
      "3.155442077866129\n",
      "8.27081479563896\n",
      "8.121588589989631\n"
     ]
    }
   ],
   "source": [
    "param_masked_ensMean_basinAvg_YrAvgPercCh_max_eraTwo_lowMissi = np.nanmax(param_masked_ensMean_basinAvg_YrAvgPercCh_eraTwo_lowMissi)\n",
    "print(param_masked_ensMean_basinAvg_YrAvgPercCh_max_eraTwo_lowMissi)\n",
    "\n",
    "param_masked_ensMean_basinAvg_YrAvgPercCh_min_eraTwo_lowMissi = np.nanmin(param_masked_ensMean_basinAvg_YrAvgPercCh_eraTwo_lowMissi)\n",
    "print(param_masked_ensMean_basinAvg_YrAvgPercCh_min_eraTwo_lowMissi)\n",
    "\n",
    "param_masked_ensMean_basinAvg_YrAvgPercCh_mean_eraTwo_lowMissi = np.nanmean(param_masked_ensMean_basinAvg_YrAvgPercCh_eraTwo_lowMissi)\n",
    "print(param_masked_ensMean_basinAvg_YrAvgPercCh_mean_eraTwo_lowMissi)\n",
    "\n",
    "param_masked_ensMean_basinAvg_YrAvgPercCh_median_eraTwo_lowMissi = np.nanmedian(param_masked_ensMean_basinAvg_YrAvgPercCh_eraTwo_lowMissi)\n",
    "print(param_masked_ensMean_basinAvg_YrAvgPercCh_median_eraTwo_lowMissi)\n"
   ]
  },
  {
   "cell_type": "code",
   "execution_count": 172,
   "metadata": {},
   "outputs": [
    {
     "name": "stdout",
     "output_type": "stream",
     "text": [
      "15.55009308979555\n",
      "5.603515096513374\n",
      "10.740672030822962\n",
      "11.045540699209527\n"
     ]
    }
   ],
   "source": [
    "param_masked_ensMean_basinAvg_YrAvgPercCh_max_eraThree_lowMissi = np.nanmax(param_masked_ensMean_basinAvg_YrAvgPercCh_eraThree_lowMissi)\n",
    "print(param_masked_ensMean_basinAvg_YrAvgPercCh_max_eraThree_lowMissi)\n",
    "\n",
    "param_masked_ensMean_basinAvg_YrAvgPercCh_min_eraThree_lowMissi = np.nanmin(param_masked_ensMean_basinAvg_YrAvgPercCh_eraThree_lowMissi)\n",
    "print(param_masked_ensMean_basinAvg_YrAvgPercCh_min_eraThree_lowMissi)\n",
    "\n",
    "param_masked_ensMean_basinAvg_YrAvgPercCh_mean_eraThree_lowMissi = np.nanmean(param_masked_ensMean_basinAvg_YrAvgPercCh_eraThree_lowMissi)\n",
    "print(param_masked_ensMean_basinAvg_YrAvgPercCh_mean_eraThree_lowMissi)\n",
    "\n",
    "param_masked_ensMean_basinAvg_YrAvgPercCh_median_eraThree_lowMissi = np.nanmedian(param_masked_ensMean_basinAvg_YrAvgPercCh_eraThree_lowMissi)\n",
    "print(param_masked_ensMean_basinAvg_YrAvgPercCh_median_eraThree_lowMissi)\n"
   ]
  },
  {
   "cell_type": "code",
   "execution_count": null,
   "metadata": {},
   "outputs": [],
   "source": []
  },
  {
   "cell_type": "code",
   "execution_count": null,
   "metadata": {},
   "outputs": [],
   "source": []
  },
  {
   "cell_type": "code",
   "execution_count": null,
   "metadata": {},
   "outputs": [],
   "source": []
  },
  {
   "cell_type": "code",
   "execution_count": null,
   "metadata": {},
   "outputs": [],
   "source": []
  },
  {
   "cell_type": "code",
   "execution_count": 173,
   "metadata": {},
   "outputs": [
    {
     "ename": "SyntaxError",
     "evalue": "invalid syntax (<ipython-input-173-f3db6e1961f9>, line 1)",
     "output_type": "error",
     "traceback": [
      "\u001b[1;36m  File \u001b[1;32m\"<ipython-input-173-f3db6e1961f9>\"\u001b[1;36m, line \u001b[1;32m1\u001b[0m\n\u001b[1;33m    STOP here ===================\u001b[0m\n\u001b[1;37m         ^\u001b[0m\n\u001b[1;31mSyntaxError\u001b[0m\u001b[1;31m:\u001b[0m invalid syntax\n"
     ]
    }
   ],
   "source": [
    "STOP here ==================="
   ]
  },
  {
   "cell_type": "code",
   "execution_count": null,
   "metadata": {},
   "outputs": [],
   "source": []
  },
  {
   "cell_type": "code",
   "execution_count": null,
   "metadata": {},
   "outputs": [],
   "source": []
  },
  {
   "cell_type": "code",
   "execution_count": null,
   "metadata": {},
   "outputs": [],
   "source": []
  }
 ],
 "metadata": {
  "kernelspec": {
   "display_name": "Python 3",
   "language": "python",
   "name": "python3"
  },
  "language_info": {
   "codemirror_mode": {
    "name": "ipython",
    "version": 3
   },
   "file_extension": ".py",
   "mimetype": "text/x-python",
   "name": "python",
   "nbconvert_exporter": "python",
   "pygments_lexer": "ipython3",
   "version": "3.8.5"
  }
 },
 "nbformat": 4,
 "nbformat_minor": 4
}
