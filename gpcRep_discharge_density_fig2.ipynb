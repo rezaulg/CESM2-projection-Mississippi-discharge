{
 "cells": [
  {
   "cell_type": "markdown",
   "metadata": {},
   "source": [
    "This script reads the Nc file for Mosart Discharge downloaded from Casper log-in"
   ]
  },
  {
   "cell_type": "code",
   "execution_count": 1,
   "metadata": {},
   "outputs": [],
   "source": [
    "# To support both python 2 and python 3\n",
    "from __future__ import division, print_function, unicode_literals\n",
    "\n",
    "# Common imports\n",
    "import numpy as np\n",
    "import os\n",
    "\n",
    "# to make this notebook's output stable across runs\n",
    "np.random.seed(42)\n",
    "# To plot pretty figures\n",
    "%matplotlib inline\n",
    "#%matplotlib notebook\n",
    "\n",
    "import matplotlib as mpl\n",
    "import matplotlib.pyplot as plt\n",
    "mpl.rc('axes', labelsize=14)\n",
    "mpl.rc('xtick', labelsize=12)\n",
    "mpl.rc('ytick', labelsize=12)\n",
    "\n",
    "\n",
    "# Where to save the figures\n",
    "PROJECT_ROOT_DIR = \".\"  \n",
    "\n",
    "outputPath2Create = r'C:/rezaul/1.academic/1.research/2.project/mrb/output/'\n",
    " \n",
    "if not os.path.exists(outputPath2Create):\n",
    "    os.makedirs(outputPath2Create)    \n",
    "    \n",
    "path2Save = 'C:/rezaul/1.academic/1.research/2.project/mrb/output/fig/paperOne/figures/'\n",
    "\n",
    "if not os.path.exists(path2Save):\n",
    "    os.makedirs(path2Save)    \n",
    "\n",
    "IMAGES_PATH = os.path.join(path2Save)\n",
    "outputPath = os.path.join(outputPath2Create)\n",
    "\n",
    "def save_fig(fig_id, tight_layout=True, fig_extension=\"png\", resolution=600):\n",
    "    path = os.path.join(IMAGES_PATH, fig_id + \".\" + fig_extension)\n",
    "    \n",
    "    print(\"Saving figure\", fig_id)\n",
    "    if tight_layout:\n",
    "        plt.tight_layout()\n",
    "    plt.savefig(path, format=fig_extension, dpi=resolution)\n"
   ]
  },
  {
   "cell_type": "code",
   "execution_count": null,
   "metadata": {},
   "outputs": [],
   "source": []
  },
  {
   "cell_type": "markdown",
   "metadata": {},
   "source": [
    "## Import Libraries"
   ]
  },
  {
   "cell_type": "markdown",
   "metadata": {},
   "source": [
    "## for USGS"
   ]
  },
  {
   "cell_type": "code",
   "execution_count": 2,
   "metadata": {},
   "outputs": [],
   "source": [
    "from dataretrieval import nwis\n",
    "from IPython.display import display"
   ]
  },
  {
   "cell_type": "markdown",
   "metadata": {},
   "source": [
    "## Regular usage"
   ]
  },
  {
   "cell_type": "code",
   "execution_count": 3,
   "metadata": {},
   "outputs": [],
   "source": [
    "# Common imports\n",
    "import numpy as np\n",
    "import pandas as pd\n",
    "import os\n",
    "import glob\n",
    "from datetime import datetime\n",
    "#from osgeo import gdal # Import the GDAL library\n",
    "#import gdal\n",
    "\n",
    "import cmocean\n",
    "\n",
    "#import matplotlib.pyplot as plt # Import the Matplotlib package\n",
    "from matplotlib import pyplot as plt  # Import the Matplotlib package\n",
    "from numpy import linspace # Import the Linspace numpy library\n",
    "from numpy import meshgrid # Import the Meshgrid numpy library\n",
    "\n",
    "#from init import *\n",
    "import scipy.io as sio\n",
    "# Common imports\n",
    "import calendar\n",
    "import datetime\n",
    "import matplotlib.dates as mdates\n",
    "from numpy import array, ma\n",
    "#import scipy.io\n",
    "from scipy.io import loadmat   # https://scipy-cookbook.readthedocs.io/items/Reading_mat_files.html\n",
    "import xarray as xr\n"
   ]
  },
  {
   "cell_type": "code",
   "execution_count": 4,
   "metadata": {},
   "outputs": [],
   "source": [
    "# Stats\n",
    "from statsmodels.distributions.empirical_distribution import ECDF\n",
    "from scipy.stats import gamma, norm\n",
    "from scipy.signal import detrend\n",
    "\n",
    "from netCDF4 import Dataset   # http://code.google.com/p/netcdf4-python/\n",
    "from numpy.random import normal\n",
    "from numpy import hstack\n",
    "\n",
    "import math\n"
   ]
  },
  {
   "cell_type": "code",
   "execution_count": 5,
   "metadata": {},
   "outputs": [],
   "source": [
    "# Plotting\n",
    "import matplotlib.colors as colors\n",
    "from copy import copy\n",
    "import matplotlib.cm as cm\n",
    "#from matplotlib_scalebar.scalebar import ScaleBar\n",
    "\n",
    "import seaborn as sns\n",
    "import matplotlib.gridspec as gridspec\n"
   ]
  },
  {
   "cell_type": "code",
   "execution_count": 6,
   "metadata": {},
   "outputs": [],
   "source": [
    "# Projection\n",
    "import cartopy.crs as ccrs\n",
    "\n",
    "import cartopy.feature as cfeature\n",
    "import cartopy.io.shapereader as shpreader\n",
    "from descartes import PolygonPatch\n",
    "import shapefile as shp  # Requires the pyshp package\n",
    "\n",
    "#from cartopy.feature import ShapelyFeature\n",
    "#from cartopy.io.shapereader import Reader"
   ]
  },
  {
   "cell_type": "code",
   "execution_count": 7,
   "metadata": {},
   "outputs": [],
   "source": [
    "import warnings"
   ]
  },
  {
   "cell_type": "code",
   "execution_count": null,
   "metadata": {},
   "outputs": [],
   "source": []
  },
  {
   "cell_type": "markdown",
   "metadata": {},
   "source": [
    "## Read Lat, Lon, and discharge data from CESM2 processed from \"GLADE\" in Casper of NCAR HPC"
   ]
  },
  {
   "cell_type": "markdown",
   "metadata": {},
   "source": [
    "### Lat"
   ]
  },
  {
   "cell_type": "code",
   "execution_count": 8,
   "metadata": {},
   "outputs": [
    {
     "name": "stdout",
     "output_type": "stream",
     "text": [
      "(60,)\n",
      "[24.75 25.25 25.75 26.25 26.75 27.25 27.75 28.25 28.75 29.25 29.75 30.25\n",
      " 30.75 31.25 31.75 32.25 32.75 33.25 33.75 34.25 34.75 35.25 35.75 36.25\n",
      " 36.75 37.25 37.75 38.25 38.75 39.25 39.75 40.25 40.75 41.25 41.75 42.25\n",
      " 42.75 43.25 43.75 44.25 44.75 45.25 45.75 46.25 46.75 47.25 47.75 48.25\n",
      " 48.75 49.25 49.75 50.25 50.75 51.25 51.75 52.25 52.75 53.25 53.75 54.25]\n"
     ]
    }
   ],
   "source": [
    "#file_LatUs = 'C:/rezaul/1.academic/1.research/2.project/mrb/dt/cesm/cesm2LE/param/discharge/mon/latsUsArr.npy'\n",
    "file_LatUs = 'https://github.com/rezaulg/CESM2-projection-Mississippi-discharge/blob/main/latsUsArr.npy'\n",
    "\n",
    "lats_US = np.load(file_LatUs)\n",
    "print(lats_US.shape)\n",
    "print(lats_US)"
   ]
  },
  {
   "cell_type": "markdown",
   "metadata": {},
   "source": [
    "### Lon"
   ]
  },
  {
   "cell_type": "code",
   "execution_count": 9,
   "metadata": {},
   "outputs": [
    {
     "name": "stdout",
     "output_type": "stream",
     "text": [
      "(140,)\n",
      "[-130.25 -129.75 -129.25 -128.75 -128.25 -127.75 -127.25 -126.75 -126.25\n",
      " -125.75 -125.25 -124.75 -124.25 -123.75 -123.25 -122.75 -122.25 -121.75\n",
      " -121.25 -120.75 -120.25 -119.75 -119.25 -118.75 -118.25 -117.75 -117.25\n",
      " -116.75 -116.25 -115.75 -115.25 -114.75 -114.25 -113.75 -113.25 -112.75\n",
      " -112.25 -111.75 -111.25 -110.75 -110.25 -109.75 -109.25 -108.75 -108.25\n",
      " -107.75 -107.25 -106.75 -106.25 -105.75 -105.25 -104.75 -104.25 -103.75\n",
      " -103.25 -102.75 -102.25 -101.75 -101.25 -100.75 -100.25  -99.75  -99.25\n",
      "  -98.75  -98.25  -97.75  -97.25  -96.75  -96.25  -95.75  -95.25  -94.75\n",
      "  -94.25  -93.75  -93.25  -92.75  -92.25  -91.75  -91.25  -90.75  -90.25\n",
      "  -89.75  -89.25  -88.75  -88.25  -87.75  -87.25  -86.75  -86.25  -85.75\n",
      "  -85.25  -84.75  -84.25  -83.75  -83.25  -82.75  -82.25  -81.75  -81.25\n",
      "  -80.75  -80.25  -79.75  -79.25  -78.75  -78.25  -77.75  -77.25  -76.75\n",
      "  -76.25  -75.75  -75.25  -74.75  -74.25  -73.75  -73.25  -72.75  -72.25\n",
      "  -71.75  -71.25  -70.75  -70.25  -69.75  -69.25  -68.75  -68.25  -67.75\n",
      "  -67.25  -66.75  -66.25  -65.75  -65.25  -64.75  -64.25  -63.75  -63.25\n",
      "  -62.75  -62.25  -61.75  -61.25  -60.75]\n"
     ]
    }
   ],
   "source": [
    "file_LonUs = 'C:/rezaul/1.academic/1.research/2.project/mrb/dt/cesm/cesm2LE/param/discharge/mon/lonsUsArr.npy'\n",
    "lons_US = np.load(file_LonUs)\n",
    "print(lons_US.shape)\n",
    "print(lons_US)"
   ]
  },
  {
   "cell_type": "markdown",
   "metadata": {},
   "source": [
    "### Historical data"
   ]
  },
  {
   "cell_type": "code",
   "execution_count": 10,
   "metadata": {},
   "outputs": [
    {
     "name": "stdout",
     "output_type": "stream",
     "text": [
      "(1020, 60, 140, 50)\n"
     ]
    },
    {
     "data": {
      "text/plain": [
       "1e+36"
      ]
     },
     "execution_count": 10,
     "metadata": {},
     "output_type": "execute_result"
    }
   ],
   "source": [
    "file_histSel_Us_ensMem = 'C:/rezaul/1.academic/1.research/2.project/mrb/dt/cesm/cesm2LE/param/discharge/mon/monDischUsHistSelEnsMembers.npy'\n",
    "file_histSel_Us_ensMem_loaded = np.load(file_histSel_Us_ensMem)\n",
    "print(file_histSel_Us_ensMem_loaded.shape)\n",
    "maxVal = np.nanmax(file_histSel_Us_ensMem_loaded)\n",
    "maxVal"
   ]
  },
  {
   "cell_type": "markdown",
   "metadata": {},
   "source": [
    "### Scenatio data"
   ]
  },
  {
   "cell_type": "code",
   "execution_count": 11,
   "metadata": {},
   "outputs": [
    {
     "name": "stdout",
     "output_type": "stream",
     "text": [
      "(1032, 60, 140, 50)\n"
     ]
    },
    {
     "data": {
      "text/plain": [
       "1e+36"
      ]
     },
     "execution_count": 11,
     "metadata": {},
     "output_type": "execute_result"
    }
   ],
   "source": [
    "file_scen_Us_ensMem = 'C:/rezaul/1.academic/1.research/2.project/mrb/dt/cesm/cesm2LE/param/discharge/mon/monDischUsScenEnsMems.npy'\n",
    "file_scen_Us_ensMem_loaded = np.load(file_scen_Us_ensMem)\n",
    "print(file_scen_Us_ensMem_loaded.shape)\n",
    "maxVal = np.nanmax(file_scen_Us_ensMem_loaded)\n",
    "maxVal"
   ]
  },
  {
   "cell_type": "markdown",
   "metadata": {},
   "source": [
    "## Concatenate the historical and scenario data arrays"
   ]
  },
  {
   "cell_type": "code",
   "execution_count": 12,
   "metadata": {},
   "outputs": [
    {
     "name": "stdout",
     "output_type": "stream",
     "text": [
      "(2052, 60, 140, 50)\n"
     ]
    }
   ],
   "source": [
    "disch_histSel_scen_Us_ensMems = np.concatenate((file_histSel_Us_ensMem_loaded, file_scen_Us_ensMem_loaded), axis=0)\n",
    "print(disch_histSel_scen_Us_ensMems.shape)"
   ]
  },
  {
   "cell_type": "code",
   "execution_count": 13,
   "metadata": {},
   "outputs": [
    {
     "name": "stdout",
     "output_type": "stream",
     "text": [
      "50\n"
     ]
    }
   ],
   "source": [
    "ens_size = disch_histSel_scen_Us_ensMems.shape[3]\n",
    "print(ens_size)"
   ]
  },
  {
   "cell_type": "markdown",
   "metadata": {},
   "source": [
    "## Coordinates at the outlet of the basins"
   ]
  },
  {
   "cell_type": "code",
   "execution_count": 14,
   "metadata": {},
   "outputs": [],
   "source": [
    "# Missouri at Hermann\n",
    "latTrgt_MissouriHermann = 38.71\n",
    "lonTrgt_MissouriHermann = -91.44\n",
    "\n",
    "# Arkansas at Murray Dam near Little Rock\n",
    "latTrgt_ArkansasMurrayLittleRock = 34.79\n",
    "lonTrgt_ArkansasMurrayLittleRock = -92.36\n",
    "\n",
    "# Ohio at Olmsted\n",
    "latTrgt_OhioOlmsted = 37.18\n",
    "lonTrgt_OhioOlmsted = -89.06\n",
    "\n",
    "# Mississippi at Vicksburg\n",
    "latTrgt_MissiVicks = 32.32\n",
    "lonTrgt_MissiVicks = -90.91\n"
   ]
  },
  {
   "cell_type": "code",
   "execution_count": 15,
   "metadata": {},
   "outputs": [
    {
     "name": "stdout",
     "output_type": "stream",
     "text": [
      "28 78\n",
      "20 76\n",
      "25 82\n",
      "15 79\n"
     ]
    }
   ],
   "source": [
    "# Missouri at Hermann\n",
    "latTrgtIndex_MissouriHermann = np.argmin( np.abs(lats_US - latTrgt_MissouriHermann))\n",
    "lonTrgtIndex_MissouriHermann = np.argmin( np.abs(lons_US - lonTrgt_MissouriHermann))\n",
    "print(latTrgtIndex_MissouriHermann, lonTrgtIndex_MissouriHermann)\n",
    "\n",
    "# Arkansas at Murray Dam near Little Rock\n",
    "latTrgtIndex_ArkansasMurrayLittleRock = np.argmin( np.abs(lats_US - latTrgt_ArkansasMurrayLittleRock))\n",
    "lonTrgtIndex_ArkansasMurrayLittleRock = np.argmin( np.abs(lons_US - lonTrgt_ArkansasMurrayLittleRock))\n",
    "print(latTrgtIndex_ArkansasMurrayLittleRock, lonTrgtIndex_ArkansasMurrayLittleRock)\n",
    "\n",
    "# Ohio at Olmsted\n",
    "latTrgtIndex_OhioOlmsted = np.argmin( np.abs(lats_US - latTrgt_OhioOlmsted))\n",
    "lonTrgtIndex_OhioOlmsted = np.argmin( np.abs(lons_US - lonTrgt_OhioOlmsted))\n",
    "print(latTrgtIndex_OhioOlmsted, lonTrgtIndex_OhioOlmsted)\n",
    "\n",
    "# Mississippi at Vicksburg\n",
    "latTrgtIndex_MissiVicks = np.argmin( np.abs(lats_US - latTrgt_MissiVicks))\n",
    "lonTrgtIndex_MissiVicks = np.argmin( np.abs(lons_US - lonTrgt_MissiVicks))\n",
    "print(latTrgtIndex_MissiVicks, lonTrgtIndex_MissiVicks)\n"
   ]
  },
  {
   "cell_type": "markdown",
   "metadata": {},
   "source": [
    "## Extracting discharge values at different outlet points"
   ]
  },
  {
   "cell_type": "code",
   "execution_count": 16,
   "metadata": {},
   "outputs": [
    {
     "name": "stdout",
     "output_type": "stream",
     "text": [
      "(2052, 50)\n",
      "(2052, 50)\n",
      "(2052, 50)\n",
      "(2052, 50)\n"
     ]
    }
   ],
   "source": [
    "disch_histSel_scen_ensMems_MissouriHermann = disch_histSel_scen_Us_ensMems[:, latTrgtIndex_MissouriHermann, lonTrgtIndex_MissouriHermann, :]\n",
    "print(disch_histSel_scen_ensMems_MissouriHermann.shape)\n",
    "\n",
    "disch_histSel_scen_ensMems_ArkansasMurrayLittleRock = disch_histSel_scen_Us_ensMems[:, latTrgtIndex_ArkansasMurrayLittleRock, lonTrgtIndex_ArkansasMurrayLittleRock, :]\n",
    "print(disch_histSel_scen_ensMems_ArkansasMurrayLittleRock.shape)\n",
    "\n",
    "disch_histSel_scen_ensMems_OhioOlmsted = disch_histSel_scen_Us_ensMems[:, latTrgtIndex_OhioOlmsted, lonTrgtIndex_OhioOlmsted, :]\n",
    "print(disch_histSel_scen_ensMems_OhioOlmsted.shape)\n",
    "\n",
    "disch_histSel_scen_ensMems_MissiVicks = disch_histSel_scen_Us_ensMems[:, latTrgtIndex_MissiVicks, lonTrgtIndex_MissiVicks, :]\n",
    "print(disch_histSel_scen_ensMems_MissiVicks.shape)\n"
   ]
  },
  {
   "cell_type": "code",
   "execution_count": null,
   "metadata": {},
   "outputs": [],
   "source": []
  },
  {
   "cell_type": "markdown",
   "metadata": {},
   "source": [
    "## Subsetting the data into different periods / Eras"
   ]
  },
  {
   "cell_type": "markdown",
   "metadata": {},
   "source": [
    "### The four time (1971-2000, 2015-2044, 2045-2074, and 2075-2100) slots"
   ]
  },
  {
   "cell_type": "code",
   "execution_count": 17,
   "metadata": {},
   "outputs": [],
   "source": [
    "histYrSelSt = 1930\n",
    "\n",
    "refPeriodYrSt = 1971\n",
    "refPeriodYrEnd = 2000\n",
    "\n",
    "scenYrSt = 2015\n",
    "scenEraTwoYrSt = 2045\n",
    "scenEraThreeYrSt = 2075\n",
    "\n",
    "scenYrEnd = 2100"
   ]
  },
  {
   "cell_type": "code",
   "execution_count": 18,
   "metadata": {},
   "outputs": [
    {
     "name": "stdout",
     "output_type": "stream",
     "text": [
      "171\n",
      "12\n"
     ]
    }
   ],
   "source": [
    "nYrsHistSelScen = scenYrEnd - histYrSelSt + 1\n",
    "print(nYrsHistSelScen)\n",
    "\n",
    "nMonsPerYr = 12     \n",
    "print(nMonsPerYr)"
   ]
  },
  {
   "cell_type": "markdown",
   "metadata": {},
   "source": [
    "### Reference Period"
   ]
  },
  {
   "cell_type": "code",
   "execution_count": 19,
   "metadata": {},
   "outputs": [
    {
     "name": "stdout",
     "output_type": "stream",
     "text": [
      "492 852\n",
      "360\n"
     ]
    }
   ],
   "source": [
    "refPeriodStepSt = (refPeriodYrSt - histYrSelSt)*nMonsPerYr\n",
    "\n",
    "refPeriodStepEnd = (refPeriodYrEnd - histYrSelSt + 1)*nMonsPerYr\n",
    "print(refPeriodStepSt, refPeriodStepEnd)\n",
    "print(refPeriodStepEnd-refPeriodStepSt)"
   ]
  },
  {
   "cell_type": "markdown",
   "metadata": {},
   "source": [
    "### Era 1"
   ]
  },
  {
   "cell_type": "code",
   "execution_count": 20,
   "metadata": {},
   "outputs": [
    {
     "name": "stdout",
     "output_type": "stream",
     "text": [
      "1020 1380\n",
      "360\n"
     ]
    }
   ],
   "source": [
    "scenEraOneStepSt = (scenYrSt - histYrSelSt)*nMonsPerYr\n",
    "scenEraOneStepEnd = (scenEraTwoYrSt - histYrSelSt)*nMonsPerYr\n",
    "\n",
    "print(scenEraOneStepSt, scenEraOneStepEnd)\n",
    "print(scenEraOneStepEnd-scenEraOneStepSt)"
   ]
  },
  {
   "cell_type": "markdown",
   "metadata": {},
   "source": [
    "### Era 2"
   ]
  },
  {
   "cell_type": "code",
   "execution_count": 21,
   "metadata": {},
   "outputs": [
    {
     "name": "stdout",
     "output_type": "stream",
     "text": [
      "1380 1740\n",
      "360\n"
     ]
    }
   ],
   "source": [
    "scenEraTwoStepSt = (scenEraTwoYrSt - histYrSelSt)*nMonsPerYr\n",
    "scenEraTwoStepEnd = (scenEraThreeYrSt - histYrSelSt)*nMonsPerYr\n",
    "\n",
    "print(scenEraTwoStepSt, scenEraTwoStepEnd)\n",
    "print(scenEraTwoStepEnd-scenEraTwoStepSt)"
   ]
  },
  {
   "cell_type": "markdown",
   "metadata": {},
   "source": [
    "### Era 3"
   ]
  },
  {
   "cell_type": "code",
   "execution_count": 22,
   "metadata": {},
   "outputs": [
    {
     "name": "stdout",
     "output_type": "stream",
     "text": [
      "1740 2052\n",
      "312\n"
     ]
    }
   ],
   "source": [
    "scenEraThreeStepSt = (scenEraThreeYrSt - histYrSelSt)*12\n",
    "scenEraThreeStepEnd = (scenYrEnd - histYrSelSt + 1)*12\n",
    "\n",
    "print(scenEraThreeStepSt, scenEraThreeStepEnd)\n",
    "print(scenEraThreeStepEnd-scenEraThreeStepSt)"
   ]
  },
  {
   "cell_type": "markdown",
   "metadata": {},
   "source": [
    "### Missouri at Hermann"
   ]
  },
  {
   "cell_type": "code",
   "execution_count": 23,
   "metadata": {},
   "outputs": [
    {
     "name": "stdout",
     "output_type": "stream",
     "text": [
      "(360, 50)\n",
      "(360, 50)\n",
      "(360, 50)\n",
      "(312, 50)\n"
     ]
    }
   ],
   "source": [
    "disch_refPeriod_mems_MissouriHermann = disch_histSel_scen_ensMems_MissouriHermann[refPeriodStepSt:refPeriodStepEnd, :]\n",
    "print(disch_refPeriod_mems_MissouriHermann.shape)\n",
    "\n",
    "disch_scenEraOne_mems_MissouriHermann = disch_histSel_scen_ensMems_MissouriHermann[scenEraOneStepSt:scenEraOneStepEnd, :]\n",
    "print(disch_scenEraOne_mems_MissouriHermann.shape)\n",
    "\n",
    "disch_scenEraTwo_mems_MissouriHermann = disch_histSel_scen_ensMems_MissouriHermann[scenEraTwoStepSt:scenEraTwoStepEnd, :]\n",
    "print(disch_scenEraTwo_mems_MissouriHermann.shape)\n",
    "\n",
    "disch_scenEraThree_mems_MissouriHermann = disch_histSel_scen_ensMems_MissouriHermann[scenEraThreeStepSt:scenEraThreeStepEnd, :]\n",
    "print(disch_scenEraThree_mems_MissouriHermann.shape)\n"
   ]
  },
  {
   "cell_type": "markdown",
   "metadata": {},
   "source": [
    "### Arkansas at Murray Dam near Little Rock"
   ]
  },
  {
   "cell_type": "code",
   "execution_count": 24,
   "metadata": {},
   "outputs": [
    {
     "name": "stdout",
     "output_type": "stream",
     "text": [
      "(360, 50)\n",
      "(360, 50)\n",
      "(360, 50)\n",
      "(312, 50)\n"
     ]
    }
   ],
   "source": [
    "disch_refPeriod_mems_ArkansasMurrayLittleRock = disch_histSel_scen_ensMems_ArkansasMurrayLittleRock[refPeriodStepSt:refPeriodStepEnd, :]\n",
    "print(disch_refPeriod_mems_ArkansasMurrayLittleRock.shape)\n",
    "\n",
    "disch_scenEraOne_mems_ArkansasMurrayLittleRock = disch_histSel_scen_ensMems_ArkansasMurrayLittleRock[scenEraOneStepSt:scenEraOneStepEnd, :]\n",
    "print(disch_scenEraOne_mems_ArkansasMurrayLittleRock.shape)\n",
    "\n",
    "disch_scenEraTwo_mems_ArkansasMurrayLittleRock = disch_histSel_scen_ensMems_ArkansasMurrayLittleRock[scenEraTwoStepSt:scenEraTwoStepEnd, :]\n",
    "print(disch_scenEraTwo_mems_ArkansasMurrayLittleRock.shape)\n",
    "\n",
    "disch_scenEraThree_mems_ArkansasMurrayLittleRock = disch_histSel_scen_ensMems_ArkansasMurrayLittleRock[scenEraThreeStepSt:scenEraThreeStepEnd, :]\n",
    "print(disch_scenEraThree_mems_ArkansasMurrayLittleRock.shape)\n"
   ]
  },
  {
   "cell_type": "markdown",
   "metadata": {},
   "source": [
    "### Ohio at Olmsted"
   ]
  },
  {
   "cell_type": "code",
   "execution_count": 25,
   "metadata": {},
   "outputs": [
    {
     "name": "stdout",
     "output_type": "stream",
     "text": [
      "(360, 50)\n",
      "(360, 50)\n",
      "(360, 50)\n",
      "(312, 50)\n"
     ]
    }
   ],
   "source": [
    "disch_refPeriod_mems_OhioOlmsted = disch_histSel_scen_ensMems_OhioOlmsted[refPeriodStepSt:refPeriodStepEnd, :]\n",
    "print(disch_refPeriod_mems_OhioOlmsted.shape)\n",
    "\n",
    "disch_scenEraOne_mems_OhioOlmsted = disch_histSel_scen_ensMems_OhioOlmsted[scenEraOneStepSt:scenEraOneStepEnd, :]\n",
    "print(disch_scenEraOne_mems_OhioOlmsted.shape)\n",
    "\n",
    "disch_scenEraTwo_mems_OhioOlmsted = disch_histSel_scen_ensMems_OhioOlmsted[scenEraTwoStepSt:scenEraTwoStepEnd, :]\n",
    "print(disch_scenEraTwo_mems_OhioOlmsted.shape)\n",
    "\n",
    "disch_scenEraThree_mems_OhioOlmsted = disch_histSel_scen_ensMems_OhioOlmsted[scenEraThreeStepSt:scenEraThreeStepEnd, :]\n",
    "print(disch_scenEraThree_mems_OhioOlmsted.shape)\n",
    "\n"
   ]
  },
  {
   "cell_type": "markdown",
   "metadata": {},
   "source": [
    "### Mississippi at Vicksburg"
   ]
  },
  {
   "cell_type": "code",
   "execution_count": 26,
   "metadata": {},
   "outputs": [
    {
     "name": "stdout",
     "output_type": "stream",
     "text": [
      "(360, 50)\n",
      "(360, 50)\n",
      "(360, 50)\n",
      "(312, 50)\n"
     ]
    }
   ],
   "source": [
    "disch_refPeriod_mems_MissiVicks = disch_histSel_scen_ensMems_MissiVicks[refPeriodStepSt:refPeriodStepEnd, :]\n",
    "print(disch_refPeriod_mems_MissiVicks.shape)\n",
    "\n",
    "disch_scenEraOne_mems_MissiVicks = disch_histSel_scen_ensMems_MissiVicks[scenEraOneStepSt:scenEraOneStepEnd, :]\n",
    "print(disch_scenEraOne_mems_MissiVicks.shape)\n",
    "\n",
    "disch_scenEraTwo_mems_MissiVicks = disch_histSel_scen_ensMems_MissiVicks[scenEraTwoStepSt:scenEraTwoStepEnd, :]\n",
    "print(disch_scenEraTwo_mems_MissiVicks.shape)\n",
    "\n",
    "disch_scenEraThree_mems_MissiVicks = disch_histSel_scen_ensMems_MissiVicks[scenEraThreeStepSt:scenEraThreeStepEnd, :]\n",
    "print(disch_scenEraThree_mems_MissiVicks.shape)\n",
    "\n"
   ]
  },
  {
   "cell_type": "code",
   "execution_count": null,
   "metadata": {},
   "outputs": [],
   "source": []
  },
  {
   "cell_type": "markdown",
   "metadata": {},
   "source": [
    "## Ensemble Mean for stations"
   ]
  },
  {
   "cell_type": "markdown",
   "metadata": {},
   "source": [
    "### Missouri at Hermann"
   ]
  },
  {
   "cell_type": "code",
   "execution_count": 27,
   "metadata": {},
   "outputs": [
    {
     "name": "stdout",
     "output_type": "stream",
     "text": [
      "(360,)\n",
      "(360,)\n",
      "(360,)\n",
      "(312,)\n"
     ]
    }
   ],
   "source": [
    "disch_refPeriod_ensMean_MissouriHermann = np.nanmean(disch_refPeriod_mems_MissouriHermann, axis = 1)\n",
    "print(disch_refPeriod_ensMean_MissouriHermann.shape)\n",
    "\n",
    "disch_scenEraOne_ensMean_MissouriHermann = np.nanmean(disch_scenEraOne_mems_MissouriHermann, axis = 1)\n",
    "print(disch_scenEraOne_ensMean_MissouriHermann.shape)\n",
    "\n",
    "disch_scenEraTwo_ensMean_MissouriHermann = np.nanmean(disch_scenEraTwo_mems_MissouriHermann, axis = 1)\n",
    "print(disch_scenEraTwo_ensMean_MissouriHermann.shape)\n",
    "\n",
    "disch_scenEraThree_ensMean_MissouriHermann = np.nanmean(disch_scenEraThree_mems_MissouriHermann, axis = 1)\n",
    "print(disch_scenEraThree_ensMean_MissouriHermann.shape)\n"
   ]
  },
  {
   "cell_type": "markdown",
   "metadata": {},
   "source": [
    "### Arkansas at Murray Dam near Little Rock"
   ]
  },
  {
   "cell_type": "code",
   "execution_count": 28,
   "metadata": {},
   "outputs": [
    {
     "name": "stdout",
     "output_type": "stream",
     "text": [
      "(360,)\n",
      "(360,)\n",
      "(360,)\n",
      "(312,)\n"
     ]
    }
   ],
   "source": [
    "disch_refPeriod_ensMean_ArkansasMurrayLittleRock = np.nanmean(disch_refPeriod_mems_ArkansasMurrayLittleRock, axis = 1)\n",
    "print(disch_refPeriod_ensMean_ArkansasMurrayLittleRock.shape)\n",
    "\n",
    "disch_scenEraOne_ensMean_ArkansasMurrayLittleRock = np.nanmean(disch_scenEraOne_mems_ArkansasMurrayLittleRock, axis = 1)\n",
    "print(disch_scenEraOne_ensMean_ArkansasMurrayLittleRock.shape)\n",
    "\n",
    "disch_scenEraTwo_ensMean_ArkansasMurrayLittleRock = np.nanmean(disch_scenEraTwo_mems_ArkansasMurrayLittleRock, axis = 1)\n",
    "print(disch_scenEraTwo_ensMean_ArkansasMurrayLittleRock.shape)\n",
    "\n",
    "disch_scenEraThree_ensMean_ArkansasMurrayLittleRock = np.nanmean(disch_scenEraThree_mems_ArkansasMurrayLittleRock, axis = 1)\n",
    "print(disch_scenEraThree_ensMean_ArkansasMurrayLittleRock.shape)\n"
   ]
  },
  {
   "cell_type": "markdown",
   "metadata": {},
   "source": [
    "### Ohio at Olmsted"
   ]
  },
  {
   "cell_type": "code",
   "execution_count": 29,
   "metadata": {},
   "outputs": [
    {
     "name": "stdout",
     "output_type": "stream",
     "text": [
      "(360,)\n",
      "(360,)\n",
      "(360,)\n",
      "(312,)\n"
     ]
    }
   ],
   "source": [
    "disch_refPeriod_ensMean_OhioOlmsted = np.nanmean(disch_refPeriod_mems_OhioOlmsted, axis = 1)\n",
    "print(disch_refPeriod_ensMean_OhioOlmsted.shape)\n",
    "\n",
    "disch_scenEraOne_ensMean_OhioOlmsted = np.nanmean(disch_scenEraOne_mems_OhioOlmsted, axis = 1)\n",
    "print(disch_scenEraOne_ensMean_OhioOlmsted.shape)\n",
    "\n",
    "disch_scenEraTwo_ensMean_OhioOlmsted = np.nanmean(disch_scenEraTwo_mems_OhioOlmsted, axis = 1)\n",
    "print(disch_scenEraTwo_ensMean_OhioOlmsted.shape)\n",
    "\n",
    "disch_scenEraThree_ensMean_OhioOlmsted = np.nanmean(disch_scenEraThree_mems_OhioOlmsted, axis = 1)\n",
    "print(disch_scenEraThree_ensMean_OhioOlmsted.shape)\n"
   ]
  },
  {
   "cell_type": "markdown",
   "metadata": {},
   "source": [
    "### Mississippi River at Vicksburg"
   ]
  },
  {
   "cell_type": "code",
   "execution_count": 30,
   "metadata": {},
   "outputs": [
    {
     "name": "stdout",
     "output_type": "stream",
     "text": [
      "(360,)\n",
      "(360,)\n",
      "(360,)\n",
      "(312,)\n"
     ]
    }
   ],
   "source": [
    "disch_refPeriod_ensMean_MissiVicks = np.nanmean(disch_refPeriod_mems_MissiVicks, axis = 1)\n",
    "print(disch_refPeriod_ensMean_MissiVicks.shape)\n",
    "\n",
    "disch_scenEraOne_ensMean_MissiVicks = np.nanmean(disch_scenEraOne_mems_MissiVicks, axis = 1)\n",
    "print(disch_scenEraOne_ensMean_MissiVicks.shape)\n",
    "\n",
    "disch_scenEraTwo_ensMean_MissiVicks = np.nanmean(disch_scenEraTwo_mems_MissiVicks, axis = 1)\n",
    "print(disch_scenEraTwo_ensMean_MissiVicks.shape)\n",
    "\n",
    "disch_scenEraThree_ensMean_MissiVicks = np.nanmean(disch_scenEraThree_mems_MissiVicks, axis = 1)\n",
    "print(disch_scenEraThree_ensMean_MissiVicks.shape)\n"
   ]
  },
  {
   "cell_type": "code",
   "execution_count": null,
   "metadata": {},
   "outputs": [],
   "source": []
  },
  {
   "cell_type": "markdown",
   "metadata": {},
   "source": [
    "## Discharge Statistics (mean and stdev) for Ensemble Mean of Historical Reference Period"
   ]
  },
  {
   "cell_type": "markdown",
   "metadata": {},
   "source": [
    "### Missouri"
   ]
  },
  {
   "cell_type": "code",
   "execution_count": 31,
   "metadata": {},
   "outputs": [
    {
     "name": "stdout",
     "output_type": "stream",
     "text": [
      "4269.254595404185\n",
      "1367.0712508312927\n"
     ]
    }
   ],
   "source": [
    "disch_refPeriodMean_ensMean_MissouriHermann = np.nanmean(disch_refPeriod_ensMean_MissouriHermann)\n",
    "print(disch_refPeriodMean_ensMean_MissouriHermann)\n",
    "\n",
    "disch_refPeriodStd_ensMean_MissouriHermann = np.nanstd(disch_refPeriod_ensMean_MissouriHermann)\n",
    "print(disch_refPeriodStd_ensMean_MissouriHermann)"
   ]
  },
  {
   "cell_type": "markdown",
   "metadata": {},
   "source": [
    "### Arkansas"
   ]
  },
  {
   "cell_type": "code",
   "execution_count": 32,
   "metadata": {},
   "outputs": [
    {
     "name": "stdout",
     "output_type": "stream",
     "text": [
      "1798.0349709062727\n",
      "466.70740069042\n"
     ]
    }
   ],
   "source": [
    "disch_refPeriodMean_ensMean_ArkansasMurrayLittleRock = np.nanmean(disch_refPeriod_ensMean_ArkansasMurrayLittleRock)\n",
    "print(disch_refPeriodMean_ensMean_ArkansasMurrayLittleRock)\n",
    "\n",
    "disch_refPeriodStd_ensMean_ArkansasMurrayLittleRock = np.nanstd(disch_refPeriod_ensMean_ArkansasMurrayLittleRock)\n",
    "print(disch_refPeriodStd_ensMean_ArkansasMurrayLittleRock)"
   ]
  },
  {
   "cell_type": "markdown",
   "metadata": {},
   "source": [
    "### Ohio at Olmsted"
   ]
  },
  {
   "cell_type": "code",
   "execution_count": 33,
   "metadata": {},
   "outputs": [
    {
     "name": "stdout",
     "output_type": "stream",
     "text": [
      "7890.239422232167\n",
      "2172.8832232156274\n"
     ]
    }
   ],
   "source": [
    "disch_refPeriodMean_ensMean_OhioOlmsted = np.nanmean(disch_refPeriod_ensMean_OhioOlmsted)\n",
    "print(disch_refPeriodMean_ensMean_OhioOlmsted)\n",
    "\n",
    "disch_refPeriodStd_ensMean_OhioOlmsted = np.nanstd(disch_refPeriod_ensMean_OhioOlmsted)\n",
    "print(disch_refPeriodStd_ensMean_OhioOlmsted)"
   ]
  },
  {
   "cell_type": "markdown",
   "metadata": {},
   "source": [
    "### Mississippi at Vicksburg"
   ]
  },
  {
   "cell_type": "code",
   "execution_count": 34,
   "metadata": {},
   "outputs": [
    {
     "name": "stdout",
     "output_type": "stream",
     "text": [
      "22716.041475665006\n",
      "6258.326570579285\n"
     ]
    }
   ],
   "source": [
    "disch_refPeriodMean_ensMean_MissiVicks = np.nanmean(disch_refPeriod_ensMean_MissiVicks)\n",
    "print(disch_refPeriodMean_ensMean_MissiVicks)\n",
    "\n",
    "disch_refPeriodStd_ensMean_MissiVicks = np.nanstd(disch_refPeriod_ensMean_MissiVicks)\n",
    "print(disch_refPeriodStd_ensMean_MissiVicks)"
   ]
  },
  {
   "cell_type": "code",
   "execution_count": null,
   "metadata": {},
   "outputs": [],
   "source": []
  },
  {
   "cell_type": "markdown",
   "metadata": {},
   "source": [
    "## Calculate Z-score (Ensemble Mean of the members)"
   ]
  },
  {
   "cell_type": "markdown",
   "metadata": {},
   "source": [
    "### Missouri"
   ]
  },
  {
   "cell_type": "code",
   "execution_count": 35,
   "metadata": {},
   "outputs": [
    {
     "name": "stdout",
     "output_type": "stream",
     "text": [
      "(360,)\n",
      "(360,)\n",
      "(312,)\n"
     ]
    }
   ],
   "source": [
    "    \n",
    "disch_scenEraOne_zScore_ensMean_MissouriHermann = (disch_scenEraOne_ensMean_MissouriHermann - disch_refPeriodMean_ensMean_MissouriHermann)/disch_refPeriodStd_ensMean_MissouriHermann        \n",
    "disch_scenEraTwo_zScore_ensMean_MissouriHermann = (disch_scenEraTwo_ensMean_MissouriHermann - disch_refPeriodMean_ensMean_MissouriHermann)/disch_refPeriodStd_ensMean_MissouriHermann        \n",
    "disch_scenEraThree_zScore_ensMean_MissouriHermann = (disch_scenEraThree_ensMean_MissouriHermann - disch_refPeriodMean_ensMean_MissouriHermann)/disch_refPeriodStd_ensMean_MissouriHermann        \n",
    "    \n",
    "print(disch_scenEraOne_zScore_ensMean_MissouriHermann.shape)\n",
    "print(disch_scenEraTwo_zScore_ensMean_MissouriHermann.shape)\n",
    "print(disch_scenEraThree_zScore_ensMean_MissouriHermann.shape)\n"
   ]
  },
  {
   "cell_type": "markdown",
   "metadata": {},
   "source": [
    "### Arkansas"
   ]
  },
  {
   "cell_type": "code",
   "execution_count": 36,
   "metadata": {},
   "outputs": [
    {
     "name": "stdout",
     "output_type": "stream",
     "text": [
      "(360,)\n",
      "(360,)\n",
      "(312,)\n"
     ]
    }
   ],
   "source": [
    "    \n",
    "disch_scenEraOne_zScore_ensMean_ArkansasMurrayLittleRock = (disch_scenEraOne_ensMean_ArkansasMurrayLittleRock - disch_refPeriodMean_ensMean_ArkansasMurrayLittleRock)/disch_refPeriodStd_ensMean_ArkansasMurrayLittleRock        \n",
    "disch_scenEraTwo_zScore_ensMean_ArkansasMurrayLittleRock = (disch_scenEraTwo_ensMean_ArkansasMurrayLittleRock - disch_refPeriodMean_ensMean_ArkansasMurrayLittleRock)/disch_refPeriodStd_ensMean_ArkansasMurrayLittleRock        \n",
    "disch_scenEraThree_zScore_ensMean_ArkansasMurrayLittleRock = (disch_scenEraThree_ensMean_ArkansasMurrayLittleRock - disch_refPeriodMean_ensMean_ArkansasMurrayLittleRock)/disch_refPeriodStd_ensMean_ArkansasMurrayLittleRock        \n",
    "    \n",
    "print(disch_scenEraOne_zScore_ensMean_ArkansasMurrayLittleRock.shape)\n",
    "print(disch_scenEraTwo_zScore_ensMean_ArkansasMurrayLittleRock.shape)\n",
    "print(disch_scenEraThree_zScore_ensMean_ArkansasMurrayLittleRock.shape)\n"
   ]
  },
  {
   "cell_type": "markdown",
   "metadata": {},
   "source": [
    "### Ohio at Olmsted"
   ]
  },
  {
   "cell_type": "code",
   "execution_count": 37,
   "metadata": {},
   "outputs": [
    {
     "name": "stdout",
     "output_type": "stream",
     "text": [
      "(360,)\n",
      "(360,)\n",
      "(312,)\n"
     ]
    }
   ],
   "source": [
    "    \n",
    "disch_scenEraOne_zScore_ensMean_OhioOlmsted = (disch_scenEraOne_ensMean_OhioOlmsted - disch_refPeriodMean_ensMean_OhioOlmsted)/disch_refPeriodStd_ensMean_OhioOlmsted        \n",
    "disch_scenEraTwo_zScore_ensMean_OhioOlmsted = (disch_scenEraTwo_ensMean_OhioOlmsted - disch_refPeriodMean_ensMean_OhioOlmsted)/disch_refPeriodStd_ensMean_OhioOlmsted        \n",
    "disch_scenEraThree_zScore_ensMean_OhioOlmsted = (disch_scenEraThree_ensMean_OhioOlmsted - disch_refPeriodMean_ensMean_OhioOlmsted)/disch_refPeriodStd_ensMean_OhioOlmsted        \n",
    "    \n",
    "print(disch_scenEraOne_zScore_ensMean_OhioOlmsted.shape)\n",
    "print(disch_scenEraTwo_zScore_ensMean_OhioOlmsted.shape)\n",
    "print(disch_scenEraThree_zScore_ensMean_OhioOlmsted.shape)\n"
   ]
  },
  {
   "cell_type": "markdown",
   "metadata": {},
   "source": [
    "### Mississippi at Vicksburg"
   ]
  },
  {
   "cell_type": "code",
   "execution_count": 38,
   "metadata": {},
   "outputs": [
    {
     "name": "stdout",
     "output_type": "stream",
     "text": [
      "(360,)\n",
      "(360,)\n",
      "(312,)\n"
     ]
    }
   ],
   "source": [
    "    \n",
    "disch_scenEraOne_zScore_ensMean_MissiVicks = (disch_scenEraOne_ensMean_MissiVicks - disch_refPeriodMean_ensMean_MissiVicks)/disch_refPeriodStd_ensMean_MissiVicks        \n",
    "disch_scenEraTwo_zScore_ensMean_MissiVicks = (disch_scenEraTwo_ensMean_MissiVicks - disch_refPeriodMean_ensMean_MissiVicks)/disch_refPeriodStd_ensMean_MissiVicks        \n",
    "disch_scenEraThree_zScore_ensMean_MissiVicks = (disch_scenEraThree_ensMean_MissiVicks - disch_refPeriodMean_ensMean_MissiVicks)/disch_refPeriodStd_ensMean_MissiVicks        \n",
    "    \n",
    "print(disch_scenEraOne_zScore_ensMean_MissiVicks.shape)\n",
    "print(disch_scenEraTwo_zScore_ensMean_MissiVicks.shape)\n",
    "print(disch_scenEraThree_zScore_ensMean_MissiVicks.shape)\n"
   ]
  },
  {
   "cell_type": "code",
   "execution_count": null,
   "metadata": {},
   "outputs": [],
   "source": []
  },
  {
   "cell_type": "markdown",
   "metadata": {},
   "source": [
    "## Group plot for the Relative Discharges (the Z-score)"
   ]
  },
  {
   "cell_type": "code",
   "execution_count": 39,
   "metadata": {},
   "outputs": [
    {
     "name": "stderr",
     "output_type": "stream",
     "text": [
      "C:\\Users\\muham\\anaconda3\\lib\\site-packages\\seaborn\\distributions.py:2551: FutureWarning: `distplot` is a deprecated function and will be removed in a future version. Please adapt your code to use either `displot` (a figure-level function with similar flexibility) or `kdeplot` (an axes-level function for kernel density plots).\n",
      "  warnings.warn(msg, FutureWarning)\n",
      "C:\\Users\\muham\\anaconda3\\lib\\site-packages\\seaborn\\distributions.py:2551: FutureWarning: `distplot` is a deprecated function and will be removed in a future version. Please adapt your code to use either `displot` (a figure-level function with similar flexibility) or `kdeplot` (an axes-level function for kernel density plots).\n",
      "  warnings.warn(msg, FutureWarning)\n",
      "C:\\Users\\muham\\anaconda3\\lib\\site-packages\\seaborn\\distributions.py:2551: FutureWarning: `distplot` is a deprecated function and will be removed in a future version. Please adapt your code to use either `displot` (a figure-level function with similar flexibility) or `kdeplot` (an axes-level function for kernel density plots).\n",
      "  warnings.warn(msg, FutureWarning)\n",
      "C:\\Users\\muham\\anaconda3\\lib\\site-packages\\seaborn\\distributions.py:2551: FutureWarning: `distplot` is a deprecated function and will be removed in a future version. Please adapt your code to use either `displot` (a figure-level function with similar flexibility) or `kdeplot` (an axes-level function for kernel density plots).\n",
      "  warnings.warn(msg, FutureWarning)\n",
      "C:\\Users\\muham\\anaconda3\\lib\\site-packages\\seaborn\\distributions.py:2551: FutureWarning: `distplot` is a deprecated function and will be removed in a future version. Please adapt your code to use either `displot` (a figure-level function with similar flexibility) or `kdeplot` (an axes-level function for kernel density plots).\n",
      "  warnings.warn(msg, FutureWarning)\n",
      "C:\\Users\\muham\\anaconda3\\lib\\site-packages\\seaborn\\distributions.py:2551: FutureWarning: `distplot` is a deprecated function and will be removed in a future version. Please adapt your code to use either `displot` (a figure-level function with similar flexibility) or `kdeplot` (an axes-level function for kernel density plots).\n",
      "  warnings.warn(msg, FutureWarning)\n",
      "C:\\Users\\muham\\anaconda3\\lib\\site-packages\\seaborn\\distributions.py:2551: FutureWarning: `distplot` is a deprecated function and will be removed in a future version. Please adapt your code to use either `displot` (a figure-level function with similar flexibility) or `kdeplot` (an axes-level function for kernel density plots).\n",
      "  warnings.warn(msg, FutureWarning)\n",
      "C:\\Users\\muham\\anaconda3\\lib\\site-packages\\seaborn\\distributions.py:2551: FutureWarning: `distplot` is a deprecated function and will be removed in a future version. Please adapt your code to use either `displot` (a figure-level function with similar flexibility) or `kdeplot` (an axes-level function for kernel density plots).\n",
      "  warnings.warn(msg, FutureWarning)\n",
      "C:\\Users\\muham\\anaconda3\\lib\\site-packages\\seaborn\\distributions.py:2551: FutureWarning: `distplot` is a deprecated function and will be removed in a future version. Please adapt your code to use either `displot` (a figure-level function with similar flexibility) or `kdeplot` (an axes-level function for kernel density plots).\n",
      "  warnings.warn(msg, FutureWarning)\n",
      "C:\\Users\\muham\\anaconda3\\lib\\site-packages\\seaborn\\distributions.py:2551: FutureWarning: `distplot` is a deprecated function and will be removed in a future version. Please adapt your code to use either `displot` (a figure-level function with similar flexibility) or `kdeplot` (an axes-level function for kernel density plots).\n",
      "  warnings.warn(msg, FutureWarning)\n",
      "C:\\Users\\muham\\anaconda3\\lib\\site-packages\\seaborn\\distributions.py:2551: FutureWarning: `distplot` is a deprecated function and will be removed in a future version. Please adapt your code to use either `displot` (a figure-level function with similar flexibility) or `kdeplot` (an axes-level function for kernel density plots).\n",
      "  warnings.warn(msg, FutureWarning)\n",
      "C:\\Users\\muham\\anaconda3\\lib\\site-packages\\seaborn\\distributions.py:2551: FutureWarning: `distplot` is a deprecated function and will be removed in a future version. Please adapt your code to use either `displot` (a figure-level function with similar flexibility) or `kdeplot` (an axes-level function for kernel density plots).\n",
      "  warnings.warn(msg, FutureWarning)\n"
     ]
    },
    {
     "name": "stdout",
     "output_type": "stream",
     "text": [
      "Saving figure fig2\n"
     ]
    },
    {
     "data": {
      "image/png": "[encoded data removed]",
      "text/plain": [
       "<Figure size 864x576 with 4 Axes>"
      ]
     },
     "metadata": {
      "needs_background": "light"
     },
     "output_type": "display_data"
    }
   ],
   "source": [
    "#%matplotlib notebook\n",
    "\n",
    "tickFontSize = 14\n",
    "textFontSize = 16\n",
    "legendFontSize = 15\n",
    "titleFontSize = 16\n",
    "\n",
    "\n",
    "linewidth = 0.8\n",
    "dashLinewidth = 0.7\n",
    "\n",
    "densityTicks = [0, 0.25, 0.5, 0.75]\n",
    "densityTicksLebels = ['0', '0.25', '0.5', '0.75']\n",
    "\n",
    "dischTicks = [-3, -2, -1, 0, 1, 2, 3]\n",
    "dischTickLebels = ['-3','-2', '-1', '0', '1', '2', '3']\n",
    "\n",
    "yLow = 0\n",
    "yHigh = 0.78\n",
    "\n",
    "xLow = -3.00\n",
    "xHigh = 3.4\n",
    "\n",
    "#+++++++++++++++++++++++++++++++++++++++++++++++++++++++++++++++++++++++++++++++++++++++++++++++++++++++++++++++\n",
    "\n",
    "fig = plt.figure(figsize=(12, 8), constrained_layout=False)\n",
    "\n",
    "axs = [plt.subplot(2, 2, x + 1,) for x in range(4)]\n",
    "ax1 = axs[0]\n",
    "\n",
    "sns.distplot(disch_scenEraOne_zScore_ensMean_MissouriHermann, color='tab:blue', hist=False, kde = True, rug=False,ax=ax1, \n",
    "             kde_kws = {'shade': True, 'linewidth': linewidth}, label=\"2015-2045\")\n",
    "ax1.axvline(x=np.nanmean(disch_scenEraOne_zScore_ensMean_MissouriHermann), ls=':', color='tab:blue')\n",
    "\n",
    "sns.distplot(disch_scenEraTwo_zScore_ensMean_MissouriHermann, color='tab:orange', hist=False, kde = True, rug=False,ax=ax1,\n",
    "             kde_kws = {'shade': True, 'linewidth': linewidth}, label=\"2045-2074\")\n",
    "ax1.axvline(x=np.nanmean(disch_scenEraTwo_zScore_ensMean_MissouriHermann), ls=':', color='tab:orange')\n",
    "\n",
    "sns.distplot(disch_scenEraThree_zScore_ensMean_MissouriHermann, color='tab:red', hist=False, kde = True, rug=False,ax=ax1,\n",
    "             kde_kws = {'shade': True, 'linewidth': linewidth}, rug_kws={\"color\": \"r\", \"alpha\": 0.3, \"linewidth\": 2, \"height\":0.05},\n",
    "             label=\"2045-2074\")\n",
    "ax1.axvline(x=np.nanmean(disch_scenEraThree_zScore_ensMean_MissouriHermann), ls=':', color='tab:red')\n",
    "\n",
    "ax1.set_title('(a) Missouri', y=0.98, pad=-14, fontsize = titleFontSize, loc='left')\n",
    "\n",
    "ax1.legend('', frameon=False,fontsize='large')\n",
    "ax1.set_ylim([yLow, yHigh])\n",
    "ax1.set_xlim([xLow, xHigh])\n",
    "\n",
    "ax1.set_yticks(densityTicks )\n",
    "ax1.set_yticklabels(densityTicksLebels, fontsize=tickFontSize)\n",
    "ax1.set_xticks(dischTicks)\n",
    "ax1.set_xticklabels('', fontsize=tickFontSize)\n",
    "\n",
    "ax1.set_ylabel('', fontsize = textFontSize)\n",
    "ax1.set_xlabel('', fontsize = textFontSize)\n",
    "#++++++++++++++++++++++++++++++++++++++++++++++++++++++++++++++++++++++++++++++++++++++++\n",
    "#++++++++++++++++++++++++++++++++++++++++++++++++++++++++++++++++++++++++++++++++++++++++\n",
    "\n",
    "\n",
    "ax2 = axs[1]\n",
    "\n",
    "sns.distplot(disch_scenEraOne_zScore_ensMean_ArkansasMurrayLittleRock, color='tab:blue', hist=False, kde = True, rug=False,ax=ax2, \n",
    "             kde_kws = {'shade': True, 'linewidth': linewidth}, label=\"2015-2045\")\n",
    "ax2.axvline(x=np.nanmean(disch_scenEraOne_zScore_ensMean_ArkansasMurrayLittleRock), ls=':', color='tab:blue')\n",
    "\n",
    "sns.distplot(disch_scenEraTwo_zScore_ensMean_ArkansasMurrayLittleRock, color='tab:orange', hist=False, kde = True, rug=False,ax=ax2,\n",
    "             kde_kws = {'shade': True, 'linewidth': linewidth}, label=\"2045-2074\")\n",
    "ax2.axvline(x=np.nanmean(disch_scenEraTwo_zScore_ensMean_ArkansasMurrayLittleRock), ls=':', color='tab:orange')\n",
    "\n",
    "sns.distplot(disch_scenEraThree_zScore_ensMean_ArkansasMurrayLittleRock, color='tab:red', hist=False, kde = True, rug=False,ax=ax2,\n",
    "             kde_kws = {'shade': True, 'linewidth': linewidth}, rug_kws={\"color\": \"r\", \"alpha\": 0.3, \"linewidth\": 2, \"height\":0.05},\n",
    "             label=\"2045-2074\")\n",
    "ax2.axvline(x=np.nanmean(disch_scenEraThree_zScore_ensMean_ArkansasMurrayLittleRock), ls=':', color='tab:red')\n",
    "\n",
    "ax2.set_title('(b) Arkansas', y=0.98, pad=-14, fontsize = titleFontSize, loc='left')\n",
    "\n",
    "ax2.legend('', frameon=False,fontsize='large')\n",
    "ax2.set_ylim([yLow, yHigh])\n",
    "ax2.set_xlim([xLow, xHigh])\n",
    "\n",
    "\n",
    "ax2.set_yticks(densityTicks)\n",
    "ax2.set_yticklabels('', fontsize=tickFontSize)\n",
    "\n",
    "ax2.set_xticks(dischTicks)\n",
    "ax2.set_xticklabels('', fontsize=tickFontSize)\n",
    "ax2.set_ylabel('', fontsize = textFontSize)\n",
    "ax2.set_xlabel('', fontsize = textFontSize)\n",
    "#++++++++++++++++++++++++++++++++++++++++++++++++++++++++++++++++++++++++++++++++++++++++\n",
    "#++++++++++++++++++++++++++++++++++++++++++++++++++++++++++++++++++++++++++++++++++++++++\n",
    "\n",
    "ax3 = axs[2]\n",
    "sns.distplot(disch_scenEraOne_zScore_ensMean_OhioOlmsted, color='tab:blue', hist=False, kde = True, rug=False,ax=ax3, \n",
    "             kde_kws = {'shade': True, 'linewidth': linewidth}, label=\"2015-2045\")\n",
    "ax3.axvline(x=np.nanmean(disch_scenEraOne_zScore_ensMean_OhioOlmsted), ls=':', color='tab:blue')\n",
    "sns.distplot(disch_scenEraTwo_zScore_ensMean_OhioOlmsted, color='tab:orange', hist=False, kde = True, rug=False,ax=ax3,\n",
    "             kde_kws = {'shade': True, 'linewidth': linewidth}, label=\"2045-2074\")\n",
    "ax3.axvline(x=np.nanmean(disch_scenEraTwo_zScore_ensMean_OhioOlmsted), ls=':', color='tab:orange')\n",
    "sns.distplot(disch_scenEraThree_zScore_ensMean_OhioOlmsted, color='tab:red', hist=False, kde = True, rug=False,ax=ax3,\n",
    "             kde_kws = {'shade': True, 'linewidth': linewidth}, rug_kws={\"color\": \"r\", \"alpha\": 0.3, \"linewidth\": 2, \"height\":0.05},\n",
    "             label=\"2045-2074\")\n",
    "ax3.axvline(x=np.nanmean(disch_scenEraThree_zScore_ensMean_OhioOlmsted), ls=':', color='tab:red')\n",
    "ax3.set_title('(c) Ohio', y=0.98, pad=-14, fontsize =  titleFontSize, loc='left')\n",
    "ax3.legend('', frameon=False,fontsize='large')\n",
    "ax3.set_ylim([yLow, yHigh])\n",
    "ax3.set_xlim([xLow, xHigh])\n",
    "\n",
    "ax3.set_xticks(dischTicks)\n",
    "ax3.set_xticklabels(dischTickLebels, fontsize=tickFontSize)\n",
    "ax3.set_yticks(densityTicks)\n",
    "ax3.set_yticklabels(densityTicksLebels, fontsize=tickFontSize)\n",
    "\n",
    "ax3.set_ylabel('Density', fontsize = textFontSize)\n",
    "ax3.yaxis.set_label_coords(-0.16, +1.10)\n",
    "ax3.set_xlabel('', fontsize = textFontSize)\n",
    "#++++++++++++++++++++++++++++++++++++++++++++++++++++++++++++++++++++++++++++++++++++++++\n",
    "#++++++++++++++++++++++++++++++++++++++++++++++++++++++++++++++++++++++++++++++++++++++++\n",
    "\n",
    "\n",
    "ax4 = axs[3]\n",
    "sns.distplot(disch_scenEraOne_zScore_ensMean_MissiVicks,color='tab:blue', hist=False, kde = True, rug=False,ax=ax4, \n",
    "             kde_kws = {'shade': True, 'linewidth': linewidth}, label=\"2015-2045\")\n",
    "ax4.axvline(x=np.nanmean(disch_scenEraOne_zScore_ensMean_MissiVicks), ls=':', color='tab:blue')\n",
    "sns.distplot(disch_scenEraTwo_zScore_ensMean_MissiVicks,color='tab:orange', hist=False, kde = True, rug=False,ax=ax4,\n",
    "             kde_kws = {'shade': True, 'linewidth': linewidth}, label=\"2045-2074\")\n",
    "ax4.axvline(x=np.nanmean(disch_scenEraTwo_zScore_ensMean_MissiVicks), ls=':', color='tab:orange')\n",
    "sns.distplot(disch_scenEraThree_zScore_ensMean_MissiVicks,color='tab:red', hist=False, kde = True, rug=False,ax=ax4,\n",
    "             kde_kws = {'shade': True, 'linewidth': linewidth}, rug_kws={\"color\": \"r\", \"alpha\": 0.3, \"linewidth\": 2, \"height\":0.05},\n",
    "             label=\"2045-2074\")\n",
    "ax4.axvline(x=np.nanmean(disch_scenEraThree_zScore_ensMean_MissiVicks), ls=':', color='tab:red')\n",
    "ax4.set_title('(d) Lower\\nMississippi', y=0.88, pad=-14, fontsize = titleFontSize, loc='left')\n",
    "\n",
    "ax4.legend('', frameon=False,fontsize='large')\n",
    "ax4.set_ylim([yLow, yHigh])\n",
    "ax4.set_xlim([xLow, xHigh])\n",
    "\n",
    "ax4.set_yticks(densityTicks)\n",
    "ax4.set_yticklabels('', fontsize=tickFontSize)\n",
    "\n",
    "ax4.set_xticks(dischTicks)\n",
    "ax4.set_xticklabels(dischTickLebels, fontsize=tickFontSize)\n",
    "ax4.set_ylabel('', fontsize = textFontSize)\n",
    "ax4.set_xlabel('Z-score', fontsize = textFontSize)\n",
    "ax4.xaxis.set_label_coords(-0.10, -0.14)\n",
    "ax4.legend(ncol=3, loc=(-0.82, -0.38),frameon=False, fontsize=legendFontSize)\n",
    "#++++++++++++++++++++++++++++++++++++++++++++++++++++++++++++++++++++++++++++++++++++++++\n",
    "#++++++++++++++++++++++++++++++++++++++++++++++++++++++++++++++++++++++++++++++++++++++++\n",
    "\n",
    "plt.subplots_adjust(left = 0.2, wspace=0.2, bottom=0.2)\n",
    "\n",
    "with warnings.catch_warnings():\n",
    "    warnings.filterwarnings(\"ignore\", category=DeprecationWarning)\n",
    "\n",
    "\n",
    "#plt.savefig(r'C:\\rezaul\\1.academic\\1.research\\2.project\\mrb\\output\\fig\\paperOne\\figures\\fig2.pdf') \n",
    "#plt.savefig(r'C:\\rezaul\\1.academic\\1.research\\2.project\\mrb\\output\\fig\\paperOne\\figures\\fig2.png', dpi=600)  \n",
    "\n",
    "\n",
    "plt.show()\n"
   ]
  },
  {
   "cell_type": "code",
   "execution_count": null,
   "metadata": {},
   "outputs": [],
   "source": []
  },
  {
   "cell_type": "code",
   "execution_count": null,
   "metadata": {},
   "outputs": [],
   "source": []
  },
  {
   "cell_type": "code",
   "execution_count": null,
   "metadata": {},
   "outputs": [],
   "source": []
  },
  {
   "cell_type": "code",
   "execution_count": null,
   "metadata": {},
   "outputs": [],
   "source": []
  }
 ],
 "metadata": {
  "kernelspec": {
   "display_name": "Python 3",
   "language": "python",
   "name": "python3"
  },
  "language_info": {
   "codemirror_mode": {
    "name": "ipython",
    "version": 3
   },
   "file_extension": ".py",
   "mimetype": "text/x-python",
   "name": "python",
   "nbconvert_exporter": "python",
   "pygments_lexer": "ipython3",
   "version": "3.8.5"
  }
 },
 "nbformat": 4,
 "nbformat_minor": 4
}
