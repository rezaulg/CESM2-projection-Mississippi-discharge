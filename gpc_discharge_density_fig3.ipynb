{
 "cells": [
  {
   "cell_type": "markdown",
   "metadata": {},
   "source": [
    "This script reads the Nc file for Mosart Discharge downloaded from Casper log-in"
   ]
  },
  {
   "cell_type": "code",
   "execution_count": 1,
   "metadata": {},
   "outputs": [],
   "source": [
    "# To support both python 2 and python 3\n",
    "from __future__ import division, print_function, unicode_literals\n",
    "\n",
    "# Common imports\n",
    "import numpy as np\n",
    "import os\n",
    "\n",
    "# to make this notebook's output stable across runs\n",
    "np.random.seed(42)\n",
    "# To plot pretty figures\n",
    "%matplotlib inline\n",
    "#%matplotlib notebook\n",
    "\n",
    "import matplotlib as mpl\n",
    "import matplotlib.pyplot as plt\n",
    "mpl.rc('axes', labelsize=14)\n",
    "mpl.rc('xtick', labelsize=12)\n",
    "mpl.rc('ytick', labelsize=12)\n",
    "\n",
    "\n",
    "# Where to save the figures\n",
    "PROJECT_ROOT_DIR = \".\"  \n",
    "\n",
    "path2Create = r'C:/rezaul/1.academic/1.research/2.project/mrb/output/'\n",
    " \n",
    "if not os.path.exists(path2Create):\n",
    "    os.makedirs(path2Create)    \n",
    "    \n",
    "path2Save = 'C:/rezaul/1.academic/1.research/2.project/mrb/output/fig/disch/'\n",
    "\n",
    "if not os.path.exists(path2Save):\n",
    "    os.makedirs(path2Save)    \n",
    "\n",
    "IMAGES_PATH = os.path.join(path2Save)\n",
    "outputPath = os.path.join(path2Save)\n",
    "\n",
    "def save_fig(fig_id, tight_layout=True, fig_extension=\"png\", resolution=300):\n",
    "    path = os.path.join(IMAGES_PATH, fig_id + \".\" + fig_extension)\n",
    "    \n",
    "    print(\"Saving figure\", fig_id)\n",
    "    if tight_layout:\n",
    "        plt.tight_layout()\n",
    "    plt.savefig(path, format=fig_extension, dpi=resolution)\n"
   ]
  },
  {
   "cell_type": "code",
   "execution_count": null,
   "metadata": {},
   "outputs": [],
   "source": []
  },
  {
   "cell_type": "markdown",
   "metadata": {},
   "source": [
    "## Import Libraries"
   ]
  },
  {
   "cell_type": "markdown",
   "metadata": {},
   "source": [
    "## for USGS"
   ]
  },
  {
   "cell_type": "code",
   "execution_count": 2,
   "metadata": {},
   "outputs": [],
   "source": [
    "from dataretrieval import nwis\n",
    "from IPython.display import display"
   ]
  },
  {
   "cell_type": "markdown",
   "metadata": {},
   "source": [
    "## Regular usage"
   ]
  },
  {
   "cell_type": "code",
   "execution_count": 3,
   "metadata": {},
   "outputs": [],
   "source": [
    "# Common imports\n",
    "import numpy as np\n",
    "import pandas as pd\n",
    "import os\n",
    "import glob\n",
    "from datetime import datetime\n",
    "#from osgeo import gdal # Import the GDAL library\n",
    "#import gdal\n",
    "\n",
    "import cmocean\n",
    "\n",
    "#import matplotlib.pyplot as plt # Import the Matplotlib package\n",
    "from matplotlib import pyplot as plt  # Import the Matplotlib package\n",
    "from numpy import linspace # Import the Linspace numpy library\n",
    "from numpy import meshgrid # Import the Meshgrid numpy library\n",
    "\n",
    "#from init import *\n",
    "import scipy.io as sio\n",
    "# Common imports\n",
    "import calendar\n",
    "import datetime\n",
    "import matplotlib.dates as mdates\n",
    "from numpy import array, ma\n",
    "#import scipy.io\n",
    "from scipy.io import loadmat   # https://scipy-cookbook.readthedocs.io/items/Reading_mat_files.html\n",
    "import xarray as xr\n"
   ]
  },
  {
   "cell_type": "code",
   "execution_count": 4,
   "metadata": {},
   "outputs": [],
   "source": [
    "# Stats\n",
    "from statsmodels.distributions.empirical_distribution import ECDF\n",
    "from scipy.stats import gamma, norm\n",
    "from scipy.signal import detrend\n",
    "\n",
    "from netCDF4 import Dataset   # http://code.google.com/p/netcdf4-python/\n",
    "from numpy.random import normal\n",
    "from numpy import hstack\n",
    "\n",
    "import math\n"
   ]
  },
  {
   "cell_type": "code",
   "execution_count": 5,
   "metadata": {},
   "outputs": [],
   "source": [
    "# Plotting\n",
    "import matplotlib.colors as colors\n",
    "from copy import copy\n",
    "import matplotlib.cm as cm\n",
    "#from matplotlib_scalebar.scalebar import ScaleBar\n",
    "\n",
    "import seaborn as sns\n",
    "import matplotlib.gridspec as gridspec\n"
   ]
  },
  {
   "cell_type": "code",
   "execution_count": 6,
   "metadata": {},
   "outputs": [],
   "source": [
    "# Projection\n",
    "import cartopy.crs as ccrs\n",
    "\n",
    "import cartopy.feature as cfeature\n",
    "import cartopy.io.shapereader as shpreader\n",
    "from descartes import PolygonPatch\n",
    "import shapefile as shp  # Requires the pyshp package\n",
    "\n",
    "#from cartopy.feature import ShapelyFeature\n",
    "#from cartopy.io.shapereader import Reader"
   ]
  },
  {
   "cell_type": "code",
   "execution_count": 7,
   "metadata": {},
   "outputs": [],
   "source": [
    "import warnings"
   ]
  },
  {
   "cell_type": "code",
   "execution_count": null,
   "metadata": {},
   "outputs": [],
   "source": []
  },
  {
   "cell_type": "markdown",
   "metadata": {},
   "source": [
    "## Read Nc file downloaded from \"GLADE\" in Casper of NCAR HPC"
   ]
  },
  {
   "cell_type": "code",
   "execution_count": 8,
   "metadata": {},
   "outputs": [
    {
     "name": "stdout",
     "output_type": "stream",
     "text": [
      "C:/rezaul/1.academic/1.research/2.project/mrb/dt/cesm/cesm2LE/mon/b.e21.BHISTcmip6.f09_g17.LE2-1001.001.mosart.h0.RIVER_DISCHARGE_OVER_LAND_LIQ.185001-185912.nc\n"
     ]
    }
   ],
   "source": [
    "filePath = 'C:/rezaul/1.academic/1.research/2.project/mrb/dt/cesm/cesm2LE/mon'\n",
    "fileName = 'b.e21.BHISTcmip6.f09_g17.LE2-1001.001.mosart.h0.RIVER_DISCHARGE_OVER_LAND_LIQ.185001-185912.nc'\n",
    "ncFile_disch = str(filePath) + '/' + str(fileName)\n",
    "print(ncFile_disch)"
   ]
  },
  {
   "cell_type": "code",
   "execution_count": 9,
   "metadata": {},
   "outputs": [],
   "source": [
    "file_disch = Dataset(ncFile_disch, mode='r')\n",
    "file_disch\n",
    "\n",
    "lons = file_disch.variables['lon'][:]\n",
    "lats = file_disch.variables['lat'][:]"
   ]
  },
  {
   "cell_type": "code",
   "execution_count": 10,
   "metadata": {},
   "outputs": [
    {
     "name": "stdout",
     "output_type": "stream",
     "text": [
      "[-89.75 -89.25 -88.75 -88.25]\n",
      "[-179.75 -179.25 -178.75 -178.25]\n"
     ]
    }
   ],
   "source": [
    "print(lats[0:4])\n",
    "print(lons[0:4])"
   ]
  },
  {
   "cell_type": "code",
   "execution_count": 11,
   "metadata": {},
   "outputs": [
    {
     "name": "stderr",
     "output_type": "stream",
     "text": [
      "C:\\Users\\muham\\anaconda3\\lib\\site-packages\\xarray\\backends\\plugins.py:61: RuntimeWarning: Engine 'rasterio' loading failed:\n",
      "DLL load failed while importing _base: The specified procedure could not be found.\n",
      "  warnings.warn(f\"Engine {name!r} loading failed:\\n{ex}\", RuntimeWarning)\n"
     ]
    },
    {
     "data": {
      "text/html": [
       "<div><svg style=\"position: absolute; width: 0; height: 0; overflow: hidden\">\n",
       "<defs>\n",
       "<symbol id=\"icon-database\" viewBox=\"0 0 32 32\">\n",
       "<path d=\"M16 0c-8.837 0-16 2.239-16 5v4c0 2.761 7.163 5 16 5s16-2.239 16-5v-4c0-2.761-7.163-5-16-5z\"></path>\n",
       "<path d=\"M16 17c-8.837 0-16-2.239-16-5v6c0 2.761 7.163 5 16 5s16-2.239 16-5v-6c0 2.761-7.163 5-16 5z\"></path>\n",
       "<path d=\"M16 26c-8.837 0-16-2.239-16-5v6c0 2.761 7.163 5 16 5s16-2.239 16-5v-6c0 2.761-7.163 5-16 5z\"></path>\n",
       "</symbol>\n",
       "<symbol id=\"icon-file-text2\" viewBox=\"0 0 32 32\">\n",
       "<path d=\"M28.681 7.159c-0.694-0.947-1.662-2.053-2.724-3.116s-2.169-2.030-3.116-2.724c-1.612-1.182-2.393-1.319-2.841-1.319h-15.5c-1.378 0-2.5 1.121-2.5 2.5v27c0 1.378 1.122 2.5 2.5 2.5h23c1.378 0 2.5-1.122 2.5-2.5v-19.5c0-0.448-0.137-1.23-1.319-2.841zM24.543 5.457c0.959 0.959 1.712 1.825 2.268 2.543h-4.811v-4.811c0.718 0.556 1.584 1.309 2.543 2.268zM28 29.5c0 0.271-0.229 0.5-0.5 0.5h-23c-0.271 0-0.5-0.229-0.5-0.5v-27c0-0.271 0.229-0.5 0.5-0.5 0 0 15.499-0 15.5 0v7c0 0.552 0.448 1 1 1h7v19.5z\"></path>\n",
       "<path d=\"M23 26h-14c-0.552 0-1-0.448-1-1s0.448-1 1-1h14c0.552 0 1 0.448 1 1s-0.448 1-1 1z\"></path>\n",
       "<path d=\"M23 22h-14c-0.552 0-1-0.448-1-1s0.448-1 1-1h14c0.552 0 1 0.448 1 1s-0.448 1-1 1z\"></path>\n",
       "<path d=\"M23 18h-14c-0.552 0-1-0.448-1-1s0.448-1 1-1h14c0.552 0 1 0.448 1 1s-0.448 1-1 1z\"></path>\n",
       "</symbol>\n",
       "</defs>\n",
       "</svg>\n",
       "<style>/* CSS stylesheet for displaying xarray objects in jupyterlab.\n",
       " *\n",
       " */\n",
       "\n",
       ":root {\n",
       "  --xr-font-color0: var(--jp-content-font-color0, rgba(0, 0, 0, 1));\n",
       "  --xr-font-color2: var(--jp-content-font-color2, rgba(0, 0, 0, 0.54));\n",
       "  --xr-font-color3: var(--jp-content-font-color3, rgba(0, 0, 0, 0.38));\n",
       "  --xr-border-color: var(--jp-border-color2, #e0e0e0);\n",
       "  --xr-disabled-color: var(--jp-layout-color3, #bdbdbd);\n",
       "  --xr-background-color: var(--jp-layout-color0, white);\n",
       "  --xr-background-color-row-even: var(--jp-layout-color1, white);\n",
       "  --xr-background-color-row-odd: var(--jp-layout-color2, #eeeeee);\n",
       "}\n",
       "\n",
       "html[theme=dark],\n",
       "body.vscode-dark {\n",
       "  --xr-font-color0: rgba(255, 255, 255, 1);\n",
       "  --xr-font-color2: rgba(255, 255, 255, 0.54);\n",
       "  --xr-font-color3: rgba(255, 255, 255, 0.38);\n",
       "  --xr-border-color: #1F1F1F;\n",
       "  --xr-disabled-color: #515151;\n",
       "  --xr-background-color: #111111;\n",
       "  --xr-background-color-row-even: #111111;\n",
       "  --xr-background-color-row-odd: #313131;\n",
       "}\n",
       "\n",
       ".xr-wrap {\n",
       "  display: block !important;\n",
       "  min-width: 300px;\n",
       "  max-width: 700px;\n",
       "}\n",
       "\n",
       ".xr-text-repr-fallback {\n",
       "  /* fallback to plain text repr when CSS is not injected (untrusted notebook) */\n",
       "  display: none;\n",
       "}\n",
       "\n",
       ".xr-header {\n",
       "  padding-top: 6px;\n",
       "  padding-bottom: 6px;\n",
       "  margin-bottom: 4px;\n",
       "  border-bottom: solid 1px var(--xr-border-color);\n",
       "}\n",
       "\n",
       ".xr-header > div,\n",
       ".xr-header > ul {\n",
       "  display: inline;\n",
       "  margin-top: 0;\n",
       "  margin-bottom: 0;\n",
       "}\n",
       "\n",
       ".xr-obj-type,\n",
       ".xr-array-name {\n",
       "  margin-left: 2px;\n",
       "  margin-right: 10px;\n",
       "}\n",
       "\n",
       ".xr-obj-type {\n",
       "  color: var(--xr-font-color2);\n",
       "}\n",
       "\n",
       ".xr-sections {\n",
       "  padding-left: 0 !important;\n",
       "  display: grid;\n",
       "  grid-template-columns: 150px auto auto 1fr 20px 20px;\n",
       "}\n",
       "\n",
       ".xr-section-item {\n",
       "  display: contents;\n",
       "}\n",
       "\n",
       ".xr-section-item input {\n",
       "  display: none;\n",
       "}\n",
       "\n",
       ".xr-section-item input + label {\n",
       "  color: var(--xr-disabled-color);\n",
       "}\n",
       "\n",
       ".xr-section-item input:enabled + label {\n",
       "  cursor: pointer;\n",
       "  color: var(--xr-font-color2);\n",
       "}\n",
       "\n",
       ".xr-section-item input:enabled + label:hover {\n",
       "  color: var(--xr-font-color0);\n",
       "}\n",
       "\n",
       ".xr-section-summary {\n",
       "  grid-column: 1;\n",
       "  color: var(--xr-font-color2);\n",
       "  font-weight: 500;\n",
       "}\n",
       "\n",
       ".xr-section-summary > span {\n",
       "  display: inline-block;\n",
       "  padding-left: 0.5em;\n",
       "}\n",
       "\n",
       ".xr-section-summary-in:disabled + label {\n",
       "  color: var(--xr-font-color2);\n",
       "}\n",
       "\n",
       ".xr-section-summary-in + label:before {\n",
       "  display: inline-block;\n",
       "  content: '►';\n",
       "  font-size: 11px;\n",
       "  width: 15px;\n",
       "  text-align: center;\n",
       "}\n",
       "\n",
       ".xr-section-summary-in:disabled + label:before {\n",
       "  color: var(--xr-disabled-color);\n",
       "}\n",
       "\n",
       ".xr-section-summary-in:checked + label:before {\n",
       "  content: '▼';\n",
       "}\n",
       "\n",
       ".xr-section-summary-in:checked + label > span {\n",
       "  display: none;\n",
       "}\n",
       "\n",
       ".xr-section-summary,\n",
       ".xr-section-inline-details {\n",
       "  padding-top: 4px;\n",
       "  padding-bottom: 4px;\n",
       "}\n",
       "\n",
       ".xr-section-inline-details {\n",
       "  grid-column: 2 / -1;\n",
       "}\n",
       "\n",
       ".xr-section-details {\n",
       "  display: none;\n",
       "  grid-column: 1 / -1;\n",
       "  margin-bottom: 5px;\n",
       "}\n",
       "\n",
       ".xr-section-summary-in:checked ~ .xr-section-details {\n",
       "  display: contents;\n",
       "}\n",
       "\n",
       ".xr-array-wrap {\n",
       "  grid-column: 1 / -1;\n",
       "  display: grid;\n",
       "  grid-template-columns: 20px auto;\n",
       "}\n",
       "\n",
       ".xr-array-wrap > label {\n",
       "  grid-column: 1;\n",
       "  vertical-align: top;\n",
       "}\n",
       "\n",
       ".xr-preview {\n",
       "  color: var(--xr-font-color3);\n",
       "}\n",
       "\n",
       ".xr-array-preview,\n",
       ".xr-array-data {\n",
       "  padding: 0 5px !important;\n",
       "  grid-column: 2;\n",
       "}\n",
       "\n",
       ".xr-array-data,\n",
       ".xr-array-in:checked ~ .xr-array-preview {\n",
       "  display: none;\n",
       "}\n",
       "\n",
       ".xr-array-in:checked ~ .xr-array-data,\n",
       ".xr-array-preview {\n",
       "  display: inline-block;\n",
       "}\n",
       "\n",
       ".xr-dim-list {\n",
       "  display: inline-block !important;\n",
       "  list-style: none;\n",
       "  padding: 0 !important;\n",
       "  margin: 0;\n",
       "}\n",
       "\n",
       ".xr-dim-list li {\n",
       "  display: inline-block;\n",
       "  padding: 0;\n",
       "  margin: 0;\n",
       "}\n",
       "\n",
       ".xr-dim-list:before {\n",
       "  content: '(';\n",
       "}\n",
       "\n",
       ".xr-dim-list:after {\n",
       "  content: ')';\n",
       "}\n",
       "\n",
       ".xr-dim-list li:not(:last-child):after {\n",
       "  content: ',';\n",
       "  padding-right: 5px;\n",
       "}\n",
       "\n",
       ".xr-has-index {\n",
       "  font-weight: bold;\n",
       "}\n",
       "\n",
       ".xr-var-list,\n",
       ".xr-var-item {\n",
       "  display: contents;\n",
       "}\n",
       "\n",
       ".xr-var-item > div,\n",
       ".xr-var-item label,\n",
       ".xr-var-item > .xr-var-name span {\n",
       "  background-color: var(--xr-background-color-row-even);\n",
       "  margin-bottom: 0;\n",
       "}\n",
       "\n",
       ".xr-var-item > .xr-var-name:hover span {\n",
       "  padding-right: 5px;\n",
       "}\n",
       "\n",
       ".xr-var-list > li:nth-child(odd) > div,\n",
       ".xr-var-list > li:nth-child(odd) > label,\n",
       ".xr-var-list > li:nth-child(odd) > .xr-var-name span {\n",
       "  background-color: var(--xr-background-color-row-odd);\n",
       "}\n",
       "\n",
       ".xr-var-name {\n",
       "  grid-column: 1;\n",
       "}\n",
       "\n",
       ".xr-var-dims {\n",
       "  grid-column: 2;\n",
       "}\n",
       "\n",
       ".xr-var-dtype {\n",
       "  grid-column: 3;\n",
       "  text-align: right;\n",
       "  color: var(--xr-font-color2);\n",
       "}\n",
       "\n",
       ".xr-var-preview {\n",
       "  grid-column: 4;\n",
       "}\n",
       "\n",
       ".xr-var-name,\n",
       ".xr-var-dims,\n",
       ".xr-var-dtype,\n",
       ".xr-preview,\n",
       ".xr-attrs dt {\n",
       "  white-space: nowrap;\n",
       "  overflow: hidden;\n",
       "  text-overflow: ellipsis;\n",
       "  padding-right: 10px;\n",
       "}\n",
       "\n",
       ".xr-var-name:hover,\n",
       ".xr-var-dims:hover,\n",
       ".xr-var-dtype:hover,\n",
       ".xr-attrs dt:hover {\n",
       "  overflow: visible;\n",
       "  width: auto;\n",
       "  z-index: 1;\n",
       "}\n",
       "\n",
       ".xr-var-attrs,\n",
       ".xr-var-data {\n",
       "  display: none;\n",
       "  background-color: var(--xr-background-color) !important;\n",
       "  padding-bottom: 5px !important;\n",
       "}\n",
       "\n",
       ".xr-var-attrs-in:checked ~ .xr-var-attrs,\n",
       ".xr-var-data-in:checked ~ .xr-var-data {\n",
       "  display: block;\n",
       "}\n",
       "\n",
       ".xr-var-data > table {\n",
       "  float: right;\n",
       "}\n",
       "\n",
       ".xr-var-name span,\n",
       ".xr-var-data,\n",
       ".xr-attrs {\n",
       "  padding-left: 25px !important;\n",
       "}\n",
       "\n",
       ".xr-attrs,\n",
       ".xr-var-attrs,\n",
       ".xr-var-data {\n",
       "  grid-column: 1 / -1;\n",
       "}\n",
       "\n",
       "dl.xr-attrs {\n",
       "  padding: 0;\n",
       "  margin: 0;\n",
       "  display: grid;\n",
       "  grid-template-columns: 125px auto;\n",
       "}\n",
       "\n",
       ".xr-attrs dt,\n",
       ".xr-attrs dd {\n",
       "  padding: 0;\n",
       "  margin: 0;\n",
       "  float: left;\n",
       "  padding-right: 10px;\n",
       "  width: auto;\n",
       "}\n",
       "\n",
       ".xr-attrs dt {\n",
       "  font-weight: normal;\n",
       "  grid-column: 1;\n",
       "}\n",
       "\n",
       ".xr-attrs dt:hover span {\n",
       "  display: inline-block;\n",
       "  background: var(--xr-background-color);\n",
       "  padding-right: 10px;\n",
       "}\n",
       "\n",
       ".xr-attrs dd {\n",
       "  grid-column: 2;\n",
       "  white-space: pre-wrap;\n",
       "  word-break: break-all;\n",
       "}\n",
       "\n",
       ".xr-icon-database,\n",
       ".xr-icon-file-text2 {\n",
       "  display: inline-block;\n",
       "  vertical-align: middle;\n",
       "  width: 1em;\n",
       "  height: 1.5em !important;\n",
       "  stroke-width: 0;\n",
       "  stroke: currentColor;\n",
       "  fill: currentColor;\n",
       "}\n",
       "</style><pre class='xr-text-repr-fallback'>&lt;xarray.Dataset&gt;\n",
       "Dimensions:                        (lon: 720, lat: 360, time: 120,\n",
       "                                    hist_interval: 2)\n",
       "Coordinates:\n",
       "  * lon                            (lon) float64 -179.8 -179.2 ... 179.2 179.8\n",
       "  * lat                            (lat) float64 -89.75 -89.25 ... 89.25 89.75\n",
       "  * time                           (time) object 1850-02-01 00:00:00 ... 1860...\n",
       "Dimensions without coordinates: hist_interval\n",
       "Data variables: (12/13)\n",
       "    mask                           (lat, lon) float64 ...\n",
       "    area                           (lat, lon) float64 ...\n",
       "    areatotal                      (lat, lon) float64 ...\n",
       "    areatotal2                     (lat, lon) float64 ...\n",
       "    mcdate                         (time) float64 1.85e+07 1.85e+07 ... 1.86e+07\n",
       "    mcsec                          (time) float64 0.0 0.0 0.0 ... 0.0 0.0 0.0\n",
       "    ...                             ...\n",
       "    mscur                          (time) float64 0.0 0.0 0.0 ... 0.0 0.0 0.0\n",
       "    nstep                          (time) float64 248.0 472.0 ... 2.92e+04\n",
       "    time_bounds                    (time, hist_interval) object 1849-12-31 21...\n",
       "    date_written                   (time) object b&#x27;01/31/20&#x27; ... b&#x27;02/01/20&#x27;\n",
       "    time_written                   (time) object b&#x27;16:34:55&#x27; ... b&#x27;09:31:26&#x27;\n",
       "    RIVER_DISCHARGE_OVER_LAND_LIQ  (time, lat, lon) float64 ...\n",
       "Attributes: (12/13)\n",
       "    title:              MOSART History file information\n",
       "    comment:            NOTE: None of the variables are weighted by land frac...\n",
       "    Conventions:        CF-1.0\n",
       "    history:            created on 01/31/20 16:34:55\n",
       "    source:             Model for Scale Adaptive River Transport MOSART1.0\n",
       "    hostname:           aleph\n",
       "    ...                 ...\n",
       "    version:            cesm2.1.2-rc.03-18-g4ee0b23\n",
       "    model_doi_url:      https://doi.org/10.5065/D67H1H0V\n",
       "    case_title:         UNSET\n",
       "    case_id:            b.e21.BHISTcmip6.f09_g17.LE2-1001.001\n",
       "    RTM_input_dataset:  MOSART_routing_Global_0.5x0.5_c170601.nc\n",
       "    time_period_freq:   month_1</pre><div class='xr-wrap' style='display:none'><div class='xr-header'><div class='xr-obj-type'>xarray.Dataset</div></div><ul class='xr-sections'><li class='xr-section-item'><input id='section-e33cfdba-2e33-4511-be29-a7de47db71ec' class='xr-section-summary-in' type='checkbox' disabled ><label for='section-e33cfdba-2e33-4511-be29-a7de47db71ec' class='xr-section-summary'  title='Expand/collapse section'>Dimensions:</label><div class='xr-section-inline-details'><ul class='xr-dim-list'><li><span class='xr-has-index'>lon</span>: 720</li><li><span class='xr-has-index'>lat</span>: 360</li><li><span class='xr-has-index'>time</span>: 120</li><li><span>hist_interval</span>: 2</li></ul></div><div class='xr-section-details'></div></li><li class='xr-section-item'><input id='section-fa33a984-a32c-41ef-9b4c-88c47034a456' class='xr-section-summary-in' type='checkbox'  checked><label for='section-fa33a984-a32c-41ef-9b4c-88c47034a456' class='xr-section-summary' >Coordinates: <span>(3)</span></label><div class='xr-section-inline-details'></div><div class='xr-section-details'><ul class='xr-var-list'><li class='xr-var-item'><div class='xr-var-name'><span class='xr-has-index'>lon</span></div><div class='xr-var-dims'>(lon)</div><div class='xr-var-dtype'>float64</div><div class='xr-var-preview xr-preview'>-179.8 -179.2 ... 179.2 179.8</div><input id='attrs-7ccfe63a-0752-409d-91b7-edce0bf37da3' class='xr-var-attrs-in' type='checkbox' ><label for='attrs-7ccfe63a-0752-409d-91b7-edce0bf37da3' title='Show/Hide attributes'><svg class='icon xr-icon-file-text2'><use xlink:href='#icon-file-text2'></use></svg></label><input id='data-cc14261e-7fa9-48c6-8e15-770e5ed20edf' class='xr-var-data-in' type='checkbox'><label for='data-cc14261e-7fa9-48c6-8e15-770e5ed20edf' title='Show/Hide data repr'><svg class='icon xr-icon-database'><use xlink:href='#icon-database'></use></svg></label><div class='xr-var-attrs'><dl class='xr-attrs'><dt><span>long_name :</span></dt><dd>runoff coordinate longitude</dd><dt><span>units :</span></dt><dd>degrees_east</dd></dl></div><div class='xr-var-data'><pre>array([-179.75, -179.25, -178.75, ...,  178.75,  179.25,  179.75])</pre></div></li><li class='xr-var-item'><div class='xr-var-name'><span class='xr-has-index'>lat</span></div><div class='xr-var-dims'>(lat)</div><div class='xr-var-dtype'>float64</div><div class='xr-var-preview xr-preview'>-89.75 -89.25 ... 89.25 89.75</div><input id='attrs-ca82b74c-bad5-4518-a6ed-9ba109f6d6b3' class='xr-var-attrs-in' type='checkbox' ><label for='attrs-ca82b74c-bad5-4518-a6ed-9ba109f6d6b3' title='Show/Hide attributes'><svg class='icon xr-icon-file-text2'><use xlink:href='#icon-file-text2'></use></svg></label><input id='data-a9d41c12-e3f4-4d95-a883-680bbe05f5e9' class='xr-var-data-in' type='checkbox'><label for='data-a9d41c12-e3f4-4d95-a883-680bbe05f5e9' title='Show/Hide data repr'><svg class='icon xr-icon-database'><use xlink:href='#icon-database'></use></svg></label><div class='xr-var-attrs'><dl class='xr-attrs'><dt><span>long_name :</span></dt><dd>runoff coordinate latitude</dd><dt><span>units :</span></dt><dd>degrees_north</dd></dl></div><div class='xr-var-data'><pre>array([-89.75, -89.25, -88.75, ...,  88.75,  89.25,  89.75])</pre></div></li><li class='xr-var-item'><div class='xr-var-name'><span class='xr-has-index'>time</span></div><div class='xr-var-dims'>(time)</div><div class='xr-var-dtype'>object</div><div class='xr-var-preview xr-preview'>1850-02-01 00:00:00 ... 1860-01-...</div><input id='attrs-c47e8567-d291-41f3-9c9b-fc7956601389' class='xr-var-attrs-in' type='checkbox' ><label for='attrs-c47e8567-d291-41f3-9c9b-fc7956601389' title='Show/Hide attributes'><svg class='icon xr-icon-file-text2'><use xlink:href='#icon-file-text2'></use></svg></label><input id='data-7be2d351-ee53-4e9a-b653-860ab9151bbb' class='xr-var-data-in' type='checkbox'><label for='data-7be2d351-ee53-4e9a-b653-860ab9151bbb' title='Show/Hide data repr'><svg class='icon xr-icon-database'><use xlink:href='#icon-database'></use></svg></label><div class='xr-var-attrs'><dl class='xr-attrs'><dt><span>long_name :</span></dt><dd>time</dd><dt><span>bounds :</span></dt><dd>time_bounds</dd></dl></div><div class='xr-var-data'><pre>array([cftime.DatetimeNoLeap(1850, 2, 1, 0, 0, 0, 0),\n",
       "       cftime.DatetimeNoLeap(1850, 3, 1, 0, 0, 0, 0),\n",
       "       cftime.DatetimeNoLeap(1850, 4, 1, 0, 0, 0, 0),\n",
       "       cftime.DatetimeNoLeap(1850, 5, 1, 0, 0, 0, 0),\n",
       "       cftime.DatetimeNoLeap(1850, 6, 1, 0, 0, 0, 0),\n",
       "       cftime.DatetimeNoLeap(1850, 7, 1, 0, 0, 0, 0),\n",
       "       cftime.DatetimeNoLeap(1850, 8, 1, 0, 0, 0, 0),\n",
       "       cftime.DatetimeNoLeap(1850, 9, 1, 0, 0, 0, 0),\n",
       "       cftime.DatetimeNoLeap(1850, 10, 1, 0, 0, 0, 0),\n",
       "       cftime.DatetimeNoLeap(1850, 11, 1, 0, 0, 0, 0),\n",
       "       cftime.DatetimeNoLeap(1850, 12, 1, 0, 0, 0, 0),\n",
       "       cftime.DatetimeNoLeap(1851, 1, 1, 0, 0, 0, 0),\n",
       "       cftime.DatetimeNoLeap(1851, 2, 1, 0, 0, 0, 0),\n",
       "       cftime.DatetimeNoLeap(1851, 3, 1, 0, 0, 0, 0),\n",
       "       cftime.DatetimeNoLeap(1851, 4, 1, 0, 0, 0, 0),\n",
       "       cftime.DatetimeNoLeap(1851, 5, 1, 0, 0, 0, 0),\n",
       "       cftime.DatetimeNoLeap(1851, 6, 1, 0, 0, 0, 0),\n",
       "       cftime.DatetimeNoLeap(1851, 7, 1, 0, 0, 0, 0),\n",
       "       cftime.DatetimeNoLeap(1851, 8, 1, 0, 0, 0, 0),\n",
       "       cftime.DatetimeNoLeap(1851, 9, 1, 0, 0, 0, 0),\n",
       "       cftime.DatetimeNoLeap(1851, 10, 1, 0, 0, 0, 0),\n",
       "       cftime.DatetimeNoLeap(1851, 11, 1, 0, 0, 0, 0),\n",
       "       cftime.DatetimeNoLeap(1851, 12, 1, 0, 0, 0, 0),\n",
       "       cftime.DatetimeNoLeap(1852, 1, 1, 0, 0, 0, 0),\n",
       "       cftime.DatetimeNoLeap(1852, 2, 1, 0, 0, 0, 0),\n",
       "       cftime.DatetimeNoLeap(1852, 3, 1, 0, 0, 0, 0),\n",
       "       cftime.DatetimeNoLeap(1852, 4, 1, 0, 0, 0, 0),\n",
       "       cftime.DatetimeNoLeap(1852, 5, 1, 0, 0, 0, 0),\n",
       "       cftime.DatetimeNoLeap(1852, 6, 1, 0, 0, 0, 0),\n",
       "       cftime.DatetimeNoLeap(1852, 7, 1, 0, 0, 0, 0),\n",
       "       cftime.DatetimeNoLeap(1852, 8, 1, 0, 0, 0, 0),\n",
       "       cftime.DatetimeNoLeap(1852, 9, 1, 0, 0, 0, 0),\n",
       "       cftime.DatetimeNoLeap(1852, 10, 1, 0, 0, 0, 0),\n",
       "       cftime.DatetimeNoLeap(1852, 11, 1, 0, 0, 0, 0),\n",
       "       cftime.DatetimeNoLeap(1852, 12, 1, 0, 0, 0, 0),\n",
       "       cftime.DatetimeNoLeap(1853, 1, 1, 0, 0, 0, 0),\n",
       "       cftime.DatetimeNoLeap(1853, 2, 1, 0, 0, 0, 0),\n",
       "       cftime.DatetimeNoLeap(1853, 3, 1, 0, 0, 0, 0),\n",
       "       cftime.DatetimeNoLeap(1853, 4, 1, 0, 0, 0, 0),\n",
       "       cftime.DatetimeNoLeap(1853, 5, 1, 0, 0, 0, 0),\n",
       "       cftime.DatetimeNoLeap(1853, 6, 1, 0, 0, 0, 0),\n",
       "       cftime.DatetimeNoLeap(1853, 7, 1, 0, 0, 0, 0),\n",
       "       cftime.DatetimeNoLeap(1853, 8, 1, 0, 0, 0, 0),\n",
       "       cftime.DatetimeNoLeap(1853, 9, 1, 0, 0, 0, 0),\n",
       "       cftime.DatetimeNoLeap(1853, 10, 1, 0, 0, 0, 0),\n",
       "       cftime.DatetimeNoLeap(1853, 11, 1, 0, 0, 0, 0),\n",
       "       cftime.DatetimeNoLeap(1853, 12, 1, 0, 0, 0, 0),\n",
       "       cftime.DatetimeNoLeap(1854, 1, 1, 0, 0, 0, 0),\n",
       "       cftime.DatetimeNoLeap(1854, 2, 1, 0, 0, 0, 0),\n",
       "       cftime.DatetimeNoLeap(1854, 3, 1, 0, 0, 0, 0),\n",
       "       cftime.DatetimeNoLeap(1854, 4, 1, 0, 0, 0, 0),\n",
       "       cftime.DatetimeNoLeap(1854, 5, 1, 0, 0, 0, 0),\n",
       "       cftime.DatetimeNoLeap(1854, 6, 1, 0, 0, 0, 0),\n",
       "       cftime.DatetimeNoLeap(1854, 7, 1, 0, 0, 0, 0),\n",
       "       cftime.DatetimeNoLeap(1854, 8, 1, 0, 0, 0, 0),\n",
       "       cftime.DatetimeNoLeap(1854, 9, 1, 0, 0, 0, 0),\n",
       "       cftime.DatetimeNoLeap(1854, 10, 1, 0, 0, 0, 0),\n",
       "       cftime.DatetimeNoLeap(1854, 11, 1, 0, 0, 0, 0),\n",
       "       cftime.DatetimeNoLeap(1854, 12, 1, 0, 0, 0, 0),\n",
       "       cftime.DatetimeNoLeap(1855, 1, 1, 0, 0, 0, 0),\n",
       "       cftime.DatetimeNoLeap(1855, 2, 1, 0, 0, 0, 0),\n",
       "       cftime.DatetimeNoLeap(1855, 3, 1, 0, 0, 0, 0),\n",
       "       cftime.DatetimeNoLeap(1855, 4, 1, 0, 0, 0, 0),\n",
       "       cftime.DatetimeNoLeap(1855, 5, 1, 0, 0, 0, 0),\n",
       "       cftime.DatetimeNoLeap(1855, 6, 1, 0, 0, 0, 0),\n",
       "       cftime.DatetimeNoLeap(1855, 7, 1, 0, 0, 0, 0),\n",
       "       cftime.DatetimeNoLeap(1855, 8, 1, 0, 0, 0, 0),\n",
       "       cftime.DatetimeNoLeap(1855, 9, 1, 0, 0, 0, 0),\n",
       "       cftime.DatetimeNoLeap(1855, 10, 1, 0, 0, 0, 0),\n",
       "       cftime.DatetimeNoLeap(1855, 11, 1, 0, 0, 0, 0),\n",
       "       cftime.DatetimeNoLeap(1855, 12, 1, 0, 0, 0, 0),\n",
       "       cftime.DatetimeNoLeap(1856, 1, 1, 0, 0, 0, 0),\n",
       "       cftime.DatetimeNoLeap(1856, 2, 1, 0, 0, 0, 0),\n",
       "       cftime.DatetimeNoLeap(1856, 3, 1, 0, 0, 0, 0),\n",
       "       cftime.DatetimeNoLeap(1856, 4, 1, 0, 0, 0, 0),\n",
       "       cftime.DatetimeNoLeap(1856, 5, 1, 0, 0, 0, 0),\n",
       "       cftime.DatetimeNoLeap(1856, 6, 1, 0, 0, 0, 0),\n",
       "       cftime.DatetimeNoLeap(1856, 7, 1, 0, 0, 0, 0),\n",
       "       cftime.DatetimeNoLeap(1856, 8, 1, 0, 0, 0, 0),\n",
       "       cftime.DatetimeNoLeap(1856, 9, 1, 0, 0, 0, 0),\n",
       "       cftime.DatetimeNoLeap(1856, 10, 1, 0, 0, 0, 0),\n",
       "       cftime.DatetimeNoLeap(1856, 11, 1, 0, 0, 0, 0),\n",
       "       cftime.DatetimeNoLeap(1856, 12, 1, 0, 0, 0, 0),\n",
       "       cftime.DatetimeNoLeap(1857, 1, 1, 0, 0, 0, 0),\n",
       "       cftime.DatetimeNoLeap(1857, 2, 1, 0, 0, 0, 0),\n",
       "       cftime.DatetimeNoLeap(1857, 3, 1, 0, 0, 0, 0),\n",
       "       cftime.DatetimeNoLeap(1857, 4, 1, 0, 0, 0, 0),\n",
       "       cftime.DatetimeNoLeap(1857, 5, 1, 0, 0, 0, 0),\n",
       "       cftime.DatetimeNoLeap(1857, 6, 1, 0, 0, 0, 0),\n",
       "       cftime.DatetimeNoLeap(1857, 7, 1, 0, 0, 0, 0),\n",
       "       cftime.DatetimeNoLeap(1857, 8, 1, 0, 0, 0, 0),\n",
       "       cftime.DatetimeNoLeap(1857, 9, 1, 0, 0, 0, 0),\n",
       "       cftime.DatetimeNoLeap(1857, 10, 1, 0, 0, 0, 0),\n",
       "       cftime.DatetimeNoLeap(1857, 11, 1, 0, 0, 0, 0),\n",
       "       cftime.DatetimeNoLeap(1857, 12, 1, 0, 0, 0, 0),\n",
       "       cftime.DatetimeNoLeap(1858, 1, 1, 0, 0, 0, 0),\n",
       "       cftime.DatetimeNoLeap(1858, 2, 1, 0, 0, 0, 0),\n",
       "       cftime.DatetimeNoLeap(1858, 3, 1, 0, 0, 0, 0),\n",
       "       cftime.DatetimeNoLeap(1858, 4, 1, 0, 0, 0, 0),\n",
       "       cftime.DatetimeNoLeap(1858, 5, 1, 0, 0, 0, 0),\n",
       "       cftime.DatetimeNoLeap(1858, 6, 1, 0, 0, 0, 0),\n",
       "       cftime.DatetimeNoLeap(1858, 7, 1, 0, 0, 0, 0),\n",
       "       cftime.DatetimeNoLeap(1858, 8, 1, 0, 0, 0, 0),\n",
       "       cftime.DatetimeNoLeap(1858, 9, 1, 0, 0, 0, 0),\n",
       "       cftime.DatetimeNoLeap(1858, 10, 1, 0, 0, 0, 0),\n",
       "       cftime.DatetimeNoLeap(1858, 11, 1, 0, 0, 0, 0),\n",
       "       cftime.DatetimeNoLeap(1858, 12, 1, 0, 0, 0, 0),\n",
       "       cftime.DatetimeNoLeap(1859, 1, 1, 0, 0, 0, 0),\n",
       "       cftime.DatetimeNoLeap(1859, 2, 1, 0, 0, 0, 0),\n",
       "       cftime.DatetimeNoLeap(1859, 3, 1, 0, 0, 0, 0),\n",
       "       cftime.DatetimeNoLeap(1859, 4, 1, 0, 0, 0, 0),\n",
       "       cftime.DatetimeNoLeap(1859, 5, 1, 0, 0, 0, 0),\n",
       "       cftime.DatetimeNoLeap(1859, 6, 1, 0, 0, 0, 0),\n",
       "       cftime.DatetimeNoLeap(1859, 7, 1, 0, 0, 0, 0),\n",
       "       cftime.DatetimeNoLeap(1859, 8, 1, 0, 0, 0, 0),\n",
       "       cftime.DatetimeNoLeap(1859, 9, 1, 0, 0, 0, 0),\n",
       "       cftime.DatetimeNoLeap(1859, 10, 1, 0, 0, 0, 0),\n",
       "       cftime.DatetimeNoLeap(1859, 11, 1, 0, 0, 0, 0),\n",
       "       cftime.DatetimeNoLeap(1859, 12, 1, 0, 0, 0, 0),\n",
       "       cftime.DatetimeNoLeap(1860, 1, 1, 0, 0, 0, 0)], dtype=object)</pre></div></li></ul></div></li><li class='xr-section-item'><input id='section-a4daf982-8ed5-4962-9f65-a89d36986166' class='xr-section-summary-in' type='checkbox'  checked><label for='section-a4daf982-8ed5-4962-9f65-a89d36986166' class='xr-section-summary' >Data variables: <span>(13)</span></label><div class='xr-section-inline-details'></div><div class='xr-section-details'><ul class='xr-var-list'><li class='xr-var-item'><div class='xr-var-name'><span>mask</span></div><div class='xr-var-dims'>(lat, lon)</div><div class='xr-var-dtype'>float64</div><div class='xr-var-preview xr-preview'>...</div><input id='attrs-9f0c1f05-2139-489d-a7fb-f71bc7b51be2' class='xr-var-attrs-in' type='checkbox' ><label for='attrs-9f0c1f05-2139-489d-a7fb-f71bc7b51be2' title='Show/Hide attributes'><svg class='icon xr-icon-file-text2'><use xlink:href='#icon-file-text2'></use></svg></label><input id='data-efb5262d-2d1b-4e57-8167-465e7f22d947' class='xr-var-data-in' type='checkbox'><label for='data-efb5262d-2d1b-4e57-8167-465e7f22d947' title='Show/Hide data repr'><svg class='icon xr-icon-database'><use xlink:href='#icon-database'></use></svg></label><div class='xr-var-attrs'><dl class='xr-attrs'><dt><span>long_name :</span></dt><dd>runoff mask</dd><dt><span>units :</span></dt><dd>unitless</dd></dl></div><div class='xr-var-data'><pre>[259200 values with dtype=float64]</pre></div></li><li class='xr-var-item'><div class='xr-var-name'><span>area</span></div><div class='xr-var-dims'>(lat, lon)</div><div class='xr-var-dtype'>float64</div><div class='xr-var-preview xr-preview'>...</div><input id='attrs-b8b8f2c4-1b18-4482-bd12-8d06a06c9f66' class='xr-var-attrs-in' type='checkbox' ><label for='attrs-b8b8f2c4-1b18-4482-bd12-8d06a06c9f66' title='Show/Hide attributes'><svg class='icon xr-icon-file-text2'><use xlink:href='#icon-file-text2'></use></svg></label><input id='data-f0bdda31-522e-4c47-8692-785f72ab4678' class='xr-var-data-in' type='checkbox'><label for='data-f0bdda31-522e-4c47-8692-785f72ab4678' title='Show/Hide data repr'><svg class='icon xr-icon-database'><use xlink:href='#icon-database'></use></svg></label><div class='xr-var-attrs'><dl class='xr-attrs'><dt><span>long_name :</span></dt><dd>runoff grid area</dd><dt><span>units :</span></dt><dd>m2</dd></dl></div><div class='xr-var-data'><pre>[259200 values with dtype=float64]</pre></div></li><li class='xr-var-item'><div class='xr-var-name'><span>areatotal</span></div><div class='xr-var-dims'>(lat, lon)</div><div class='xr-var-dtype'>float64</div><div class='xr-var-preview xr-preview'>...</div><input id='attrs-fab89a77-be18-4d14-a552-99b55bd13319' class='xr-var-attrs-in' type='checkbox' ><label for='attrs-fab89a77-be18-4d14-a552-99b55bd13319' title='Show/Hide attributes'><svg class='icon xr-icon-file-text2'><use xlink:href='#icon-file-text2'></use></svg></label><input id='data-a2ab1769-67ae-4b88-b8be-e312e4fbe350' class='xr-var-data-in' type='checkbox'><label for='data-a2ab1769-67ae-4b88-b8be-e312e4fbe350' title='Show/Hide data repr'><svg class='icon xr-icon-database'><use xlink:href='#icon-database'></use></svg></label><div class='xr-var-attrs'><dl class='xr-attrs'><dt><span>long_name :</span></dt><dd>basin upstream areatotal</dd><dt><span>units :</span></dt><dd>m2</dd></dl></div><div class='xr-var-data'><pre>[259200 values with dtype=float64]</pre></div></li><li class='xr-var-item'><div class='xr-var-name'><span>areatotal2</span></div><div class='xr-var-dims'>(lat, lon)</div><div class='xr-var-dtype'>float64</div><div class='xr-var-preview xr-preview'>...</div><input id='attrs-c1f120df-264f-4a6f-824b-32ca909d1e48' class='xr-var-attrs-in' type='checkbox' ><label for='attrs-c1f120df-264f-4a6f-824b-32ca909d1e48' title='Show/Hide attributes'><svg class='icon xr-icon-file-text2'><use xlink:href='#icon-file-text2'></use></svg></label><input id='data-63ba53f0-7160-48ad-a53b-351ef5f54da1' class='xr-var-data-in' type='checkbox'><label for='data-63ba53f0-7160-48ad-a53b-351ef5f54da1' title='Show/Hide data repr'><svg class='icon xr-icon-database'><use xlink:href='#icon-database'></use></svg></label><div class='xr-var-attrs'><dl class='xr-attrs'><dt><span>long_name :</span></dt><dd>computed basin upstream areatotal</dd><dt><span>units :</span></dt><dd>m2</dd></dl></div><div class='xr-var-data'><pre>[259200 values with dtype=float64]</pre></div></li><li class='xr-var-item'><div class='xr-var-name'><span>mcdate</span></div><div class='xr-var-dims'>(time)</div><div class='xr-var-dtype'>float64</div><div class='xr-var-preview xr-preview'>...</div><input id='attrs-8de93bb6-9d95-4145-80c2-fd75f94e7ef3' class='xr-var-attrs-in' type='checkbox' ><label for='attrs-8de93bb6-9d95-4145-80c2-fd75f94e7ef3' title='Show/Hide attributes'><svg class='icon xr-icon-file-text2'><use xlink:href='#icon-file-text2'></use></svg></label><input id='data-4e053810-d86e-4696-bac6-d903874453a5' class='xr-var-data-in' type='checkbox'><label for='data-4e053810-d86e-4696-bac6-d903874453a5' title='Show/Hide data repr'><svg class='icon xr-icon-database'><use xlink:href='#icon-database'></use></svg></label><div class='xr-var-attrs'><dl class='xr-attrs'><dt><span>long_name :</span></dt><dd>current date (YYYYMMDD)</dd></dl></div><div class='xr-var-data'><pre>array([18500201., 18500301., 18500401., 18500501., 18500601., 18500701.,\n",
       "       18500801., 18500901., 18501001., 18501101., 18501201., 18510101.,\n",
       "       18510201., 18510301., 18510401., 18510501., 18510601., 18510701.,\n",
       "       18510801., 18510901., 18511001., 18511101., 18511201., 18520101.,\n",
       "       18520201., 18520301., 18520401., 18520501., 18520601., 18520701.,\n",
       "       18520801., 18520901., 18521001., 18521101., 18521201., 18530101.,\n",
       "       18530201., 18530301., 18530401., 18530501., 18530601., 18530701.,\n",
       "       18530801., 18530901., 18531001., 18531101., 18531201., 18540101.,\n",
       "       18540201., 18540301., 18540401., 18540501., 18540601., 18540701.,\n",
       "       18540801., 18540901., 18541001., 18541101., 18541201., 18550101.,\n",
       "       18550201., 18550301., 18550401., 18550501., 18550601., 18550701.,\n",
       "       18550801., 18550901., 18551001., 18551101., 18551201., 18560101.,\n",
       "       18560201., 18560301., 18560401., 18560501., 18560601., 18560701.,\n",
       "       18560801., 18560901., 18561001., 18561101., 18561201., 18570101.,\n",
       "       18570201., 18570301., 18570401., 18570501., 18570601., 18570701.,\n",
       "       18570801., 18570901., 18571001., 18571101., 18571201., 18580101.,\n",
       "       18580201., 18580301., 18580401., 18580501., 18580601., 18580701.,\n",
       "       18580801., 18580901., 18581001., 18581101., 18581201., 18590101.,\n",
       "       18590201., 18590301., 18590401., 18590501., 18590601., 18590701.,\n",
       "       18590801., 18590901., 18591001., 18591101., 18591201., 18600101.])</pre></div></li><li class='xr-var-item'><div class='xr-var-name'><span>mcsec</span></div><div class='xr-var-dims'>(time)</div><div class='xr-var-dtype'>float64</div><div class='xr-var-preview xr-preview'>...</div><input id='attrs-215a47ed-2b8d-4999-bb2d-a3f3fb0258d4' class='xr-var-attrs-in' type='checkbox' ><label for='attrs-215a47ed-2b8d-4999-bb2d-a3f3fb0258d4' title='Show/Hide attributes'><svg class='icon xr-icon-file-text2'><use xlink:href='#icon-file-text2'></use></svg></label><input id='data-96594e4f-f7d1-4908-aa07-82ef8ed39dcb' class='xr-var-data-in' type='checkbox'><label for='data-96594e4f-f7d1-4908-aa07-82ef8ed39dcb' title='Show/Hide data repr'><svg class='icon xr-icon-database'><use xlink:href='#icon-database'></use></svg></label><div class='xr-var-attrs'><dl class='xr-attrs'><dt><span>long_name :</span></dt><dd>current seconds of current date</dd><dt><span>units :</span></dt><dd>s</dd></dl></div><div class='xr-var-data'><pre>array([0., 0., 0., 0., 0., 0., 0., 0., 0., 0., 0., 0., 0., 0., 0., 0., 0., 0.,\n",
       "       0., 0., 0., 0., 0., 0., 0., 0., 0., 0., 0., 0., 0., 0., 0., 0., 0., 0.,\n",
       "       0., 0., 0., 0., 0., 0., 0., 0., 0., 0., 0., 0., 0., 0., 0., 0., 0., 0.,\n",
       "       0., 0., 0., 0., 0., 0., 0., 0., 0., 0., 0., 0., 0., 0., 0., 0., 0., 0.,\n",
       "       0., 0., 0., 0., 0., 0., 0., 0., 0., 0., 0., 0., 0., 0., 0., 0., 0., 0.,\n",
       "       0., 0., 0., 0., 0., 0., 0., 0., 0., 0., 0., 0., 0., 0., 0., 0., 0., 0.,\n",
       "       0., 0., 0., 0., 0., 0., 0., 0., 0., 0., 0., 0.])</pre></div></li><li class='xr-var-item'><div class='xr-var-name'><span>mdcur</span></div><div class='xr-var-dims'>(time)</div><div class='xr-var-dtype'>float64</div><div class='xr-var-preview xr-preview'>...</div><input id='attrs-3de3ce00-58fc-4800-9683-4e50470c41cc' class='xr-var-attrs-in' type='checkbox' ><label for='attrs-3de3ce00-58fc-4800-9683-4e50470c41cc' title='Show/Hide attributes'><svg class='icon xr-icon-file-text2'><use xlink:href='#icon-file-text2'></use></svg></label><input id='data-fce59083-ee90-4223-91ce-51315807c2b3' class='xr-var-data-in' type='checkbox'><label for='data-fce59083-ee90-4223-91ce-51315807c2b3' title='Show/Hide data repr'><svg class='icon xr-icon-database'><use xlink:href='#icon-database'></use></svg></label><div class='xr-var-attrs'><dl class='xr-attrs'><dt><span>long_name :</span></dt><dd>current day (from base day)</dd></dl></div><div class='xr-var-data'><pre>array([  31.,   59.,   90.,  120.,  151.,  181.,  212.,  243.,  273.,  304.,\n",
       "        334.,  365.,  396.,  424.,  455.,  485.,  516.,  546.,  577.,  608.,\n",
       "        638.,  669.,  699.,  730.,  761.,  789.,  820.,  850.,  881.,  911.,\n",
       "        942.,  973., 1003., 1034., 1064., 1095., 1126., 1154., 1185., 1215.,\n",
       "       1246., 1276., 1307., 1338., 1368., 1399., 1429., 1460., 1491., 1519.,\n",
       "       1550., 1580., 1611., 1641., 1672., 1703., 1733., 1764., 1794., 1825.,\n",
       "       1856., 1884., 1915., 1945., 1976., 2006., 2037., 2068., 2098., 2129.,\n",
       "       2159., 2190., 2221., 2249., 2280., 2310., 2341., 2371., 2402., 2433.,\n",
       "       2463., 2494., 2524., 2555., 2586., 2614., 2645., 2675., 2706., 2736.,\n",
       "       2767., 2798., 2828., 2859., 2889., 2920., 2951., 2979., 3010., 3040.,\n",
       "       3071., 3101., 3132., 3163., 3193., 3224., 3254., 3285., 3316., 3344.,\n",
       "       3375., 3405., 3436., 3466., 3497., 3528., 3558., 3589., 3619., 3650.])</pre></div></li><li class='xr-var-item'><div class='xr-var-name'><span>mscur</span></div><div class='xr-var-dims'>(time)</div><div class='xr-var-dtype'>float64</div><div class='xr-var-preview xr-preview'>...</div><input id='attrs-014e5d08-ee36-49fb-bc15-48fb84fa67a5' class='xr-var-attrs-in' type='checkbox' ><label for='attrs-014e5d08-ee36-49fb-bc15-48fb84fa67a5' title='Show/Hide attributes'><svg class='icon xr-icon-file-text2'><use xlink:href='#icon-file-text2'></use></svg></label><input id='data-3ee0f1eb-f353-4698-9a6c-bab004d9ff9e' class='xr-var-data-in' type='checkbox'><label for='data-3ee0f1eb-f353-4698-9a6c-bab004d9ff9e' title='Show/Hide data repr'><svg class='icon xr-icon-database'><use xlink:href='#icon-database'></use></svg></label><div class='xr-var-attrs'><dl class='xr-attrs'><dt><span>long_name :</span></dt><dd>current seconds of current day</dd></dl></div><div class='xr-var-data'><pre>array([0., 0., 0., 0., 0., 0., 0., 0., 0., 0., 0., 0., 0., 0., 0., 0., 0., 0.,\n",
       "       0., 0., 0., 0., 0., 0., 0., 0., 0., 0., 0., 0., 0., 0., 0., 0., 0., 0.,\n",
       "       0., 0., 0., 0., 0., 0., 0., 0., 0., 0., 0., 0., 0., 0., 0., 0., 0., 0.,\n",
       "       0., 0., 0., 0., 0., 0., 0., 0., 0., 0., 0., 0., 0., 0., 0., 0., 0., 0.,\n",
       "       0., 0., 0., 0., 0., 0., 0., 0., 0., 0., 0., 0., 0., 0., 0., 0., 0., 0.,\n",
       "       0., 0., 0., 0., 0., 0., 0., 0., 0., 0., 0., 0., 0., 0., 0., 0., 0., 0.,\n",
       "       0., 0., 0., 0., 0., 0., 0., 0., 0., 0., 0., 0.])</pre></div></li><li class='xr-var-item'><div class='xr-var-name'><span>nstep</span></div><div class='xr-var-dims'>(time)</div><div class='xr-var-dtype'>float64</div><div class='xr-var-preview xr-preview'>...</div><input id='attrs-bbc9f6a4-b826-42cb-bfd0-c900a922cc4c' class='xr-var-attrs-in' type='checkbox' ><label for='attrs-bbc9f6a4-b826-42cb-bfd0-c900a922cc4c' title='Show/Hide attributes'><svg class='icon xr-icon-file-text2'><use xlink:href='#icon-file-text2'></use></svg></label><input id='data-407765bd-72b9-4536-a3c0-388320c30c94' class='xr-var-data-in' type='checkbox'><label for='data-407765bd-72b9-4536-a3c0-388320c30c94' title='Show/Hide data repr'><svg class='icon xr-icon-database'><use xlink:href='#icon-database'></use></svg></label><div class='xr-var-attrs'><dl class='xr-attrs'><dt><span>long_name :</span></dt><dd>time step</dd></dl></div><div class='xr-var-data'><pre>array([  248.,   472.,   720.,   960.,  1208.,  1448.,  1696.,  1944.,  2184.,\n",
       "        2432.,  2672.,  2920.,  3168.,  3392.,  3640.,  3880.,  4128.,  4368.,\n",
       "        4616.,  4864.,  5104.,  5352.,  5592.,  5840.,  6088.,  6312.,  6560.,\n",
       "        6800.,  7048.,  7288.,  7536.,  7784.,  8024.,  8272.,  8512.,  8760.,\n",
       "        9008.,  9232.,  9480.,  9720.,  9968., 10208., 10456., 10704., 10944.,\n",
       "       11192., 11432., 11680., 11928., 12152., 12400., 12640., 12888., 13128.,\n",
       "       13376., 13624., 13864., 14112., 14352., 14600., 14848., 15072., 15320.,\n",
       "       15560., 15808., 16048., 16296., 16544., 16784., 17032., 17272., 17520.,\n",
       "       17768., 17992., 18240., 18480., 18728., 18968., 19216., 19464., 19704.,\n",
       "       19952., 20192., 20440., 20688., 20912., 21160., 21400., 21648., 21888.,\n",
       "       22136., 22384., 22624., 22872., 23112., 23360., 23608., 23832., 24080.,\n",
       "       24320., 24568., 24808., 25056., 25304., 25544., 25792., 26032., 26280.,\n",
       "       26528., 26752., 27000., 27240., 27488., 27728., 27976., 28224., 28464.,\n",
       "       28712., 28952., 29200.])</pre></div></li><li class='xr-var-item'><div class='xr-var-name'><span>time_bounds</span></div><div class='xr-var-dims'>(time, hist_interval)</div><div class='xr-var-dtype'>object</div><div class='xr-var-preview xr-preview'>...</div><input id='attrs-270957c1-fae3-456f-84eb-acb6173e9904' class='xr-var-attrs-in' type='checkbox' ><label for='attrs-270957c1-fae3-456f-84eb-acb6173e9904' title='Show/Hide attributes'><svg class='icon xr-icon-file-text2'><use xlink:href='#icon-file-text2'></use></svg></label><input id='data-0d64ade2-5d2c-4a04-88c5-4184ede6d150' class='xr-var-data-in' type='checkbox'><label for='data-0d64ade2-5d2c-4a04-88c5-4184ede6d150' title='Show/Hide data repr'><svg class='icon xr-icon-database'><use xlink:href='#icon-database'></use></svg></label><div class='xr-var-attrs'><dl class='xr-attrs'><dt><span>long_name :</span></dt><dd>history time interval endpoints</dd></dl></div><div class='xr-var-data'><pre>array([[cftime.DatetimeNoLeap(1849, 12, 31, 21, 0, 0, 0),\n",
       "        cftime.DatetimeNoLeap(1850, 2, 1, 0, 0, 0, 0)],\n",
       "       [cftime.DatetimeNoLeap(1850, 2, 1, 0, 0, 0, 0),\n",
       "        cftime.DatetimeNoLeap(1850, 3, 1, 0, 0, 0, 0)],\n",
       "       [cftime.DatetimeNoLeap(1850, 3, 1, 0, 0, 0, 0),\n",
       "        cftime.DatetimeNoLeap(1850, 4, 1, 0, 0, 0, 0)],\n",
       "       ...,\n",
       "       [cftime.DatetimeNoLeap(1859, 10, 1, 0, 0, 0, 0),\n",
       "        cftime.DatetimeNoLeap(1859, 11, 1, 0, 0, 0, 0)],\n",
       "       [cftime.DatetimeNoLeap(1859, 11, 1, 0, 0, 0, 0),\n",
       "        cftime.DatetimeNoLeap(1859, 12, 1, 0, 0, 0, 0)],\n",
       "       [cftime.DatetimeNoLeap(1859, 12, 1, 0, 0, 0, 0),\n",
       "        cftime.DatetimeNoLeap(1860, 1, 1, 0, 0, 0, 0)]], dtype=object)</pre></div></li><li class='xr-var-item'><div class='xr-var-name'><span>date_written</span></div><div class='xr-var-dims'>(time)</div><div class='xr-var-dtype'>object</div><div class='xr-var-preview xr-preview'>...</div><input id='attrs-7b02823a-22ec-40b2-bd58-36439c84fe8e' class='xr-var-attrs-in' type='checkbox' disabled><label for='attrs-7b02823a-22ec-40b2-bd58-36439c84fe8e' title='Show/Hide attributes'><svg class='icon xr-icon-file-text2'><use xlink:href='#icon-file-text2'></use></svg></label><input id='data-b51e5b34-1a60-46a1-bbdd-1588c8f64794' class='xr-var-data-in' type='checkbox'><label for='data-b51e5b34-1a60-46a1-bbdd-1588c8f64794' title='Show/Hide data repr'><svg class='icon xr-icon-database'><use xlink:href='#icon-database'></use></svg></label><div class='xr-var-attrs'><dl class='xr-attrs'></dl></div><div class='xr-var-data'><pre>array([b&#x27;01/31/20&#x27;, b&#x27;01/31/20&#x27;, b&#x27;01/31/20&#x27;, b&#x27;01/31/20&#x27;, b&#x27;01/31/20&#x27;,\n",
       "       b&#x27;01/31/20&#x27;, b&#x27;01/31/20&#x27;, b&#x27;01/31/20&#x27;, b&#x27;01/31/20&#x27;, b&#x27;01/31/20&#x27;,\n",
       "       b&#x27;01/31/20&#x27;, b&#x27;01/31/20&#x27;, b&#x27;01/31/20&#x27;, b&#x27;01/31/20&#x27;, b&#x27;01/31/20&#x27;,\n",
       "       b&#x27;01/31/20&#x27;, b&#x27;01/31/20&#x27;, b&#x27;01/31/20&#x27;, b&#x27;01/31/20&#x27;, b&#x27;01/31/20&#x27;,\n",
       "       b&#x27;01/31/20&#x27;, b&#x27;01/31/20&#x27;, b&#x27;01/31/20&#x27;, b&#x27;01/31/20&#x27;, b&#x27;01/31/20&#x27;,\n",
       "       b&#x27;01/31/20&#x27;, b&#x27;01/31/20&#x27;, b&#x27;01/31/20&#x27;, b&#x27;01/31/20&#x27;, b&#x27;01/31/20&#x27;,\n",
       "       b&#x27;01/31/20&#x27;, b&#x27;01/31/20&#x27;, b&#x27;01/31/20&#x27;, b&#x27;01/31/20&#x27;, b&#x27;01/31/20&#x27;,\n",
       "       b&#x27;01/31/20&#x27;, b&#x27;01/31/20&#x27;, b&#x27;01/31/20&#x27;, b&#x27;01/31/20&#x27;, b&#x27;01/31/20&#x27;,\n",
       "       b&#x27;01/31/20&#x27;, b&#x27;01/31/20&#x27;, b&#x27;01/31/20&#x27;, b&#x27;01/31/20&#x27;, b&#x27;01/31/20&#x27;,\n",
       "       b&#x27;01/31/20&#x27;, b&#x27;01/31/20&#x27;, b&#x27;01/31/20&#x27;, b&#x27;01/31/20&#x27;, b&#x27;01/31/20&#x27;,\n",
       "       b&#x27;01/31/20&#x27;, b&#x27;01/31/20&#x27;, b&#x27;01/31/20&#x27;, b&#x27;02/01/20&#x27;, b&#x27;02/01/20&#x27;,\n",
       "       b&#x27;02/01/20&#x27;, b&#x27;02/01/20&#x27;, b&#x27;02/01/20&#x27;, b&#x27;02/01/20&#x27;, b&#x27;02/01/20&#x27;,\n",
       "       b&#x27;02/01/20&#x27;, b&#x27;02/01/20&#x27;, b&#x27;02/01/20&#x27;, b&#x27;02/01/20&#x27;, b&#x27;02/01/20&#x27;,\n",
       "       b&#x27;02/01/20&#x27;, b&#x27;02/01/20&#x27;, b&#x27;02/01/20&#x27;, b&#x27;02/01/20&#x27;, b&#x27;02/01/20&#x27;,\n",
       "       b&#x27;02/01/20&#x27;, b&#x27;02/01/20&#x27;, b&#x27;02/01/20&#x27;, b&#x27;02/01/20&#x27;, b&#x27;02/01/20&#x27;,\n",
       "       b&#x27;02/01/20&#x27;, b&#x27;02/01/20&#x27;, b&#x27;02/01/20&#x27;, b&#x27;02/01/20&#x27;, b&#x27;02/01/20&#x27;,\n",
       "       b&#x27;02/01/20&#x27;, b&#x27;02/01/20&#x27;, b&#x27;02/01/20&#x27;, b&#x27;02/01/20&#x27;, b&#x27;02/01/20&#x27;,\n",
       "       b&#x27;02/01/20&#x27;, b&#x27;02/01/20&#x27;, b&#x27;02/01/20&#x27;, b&#x27;02/01/20&#x27;, b&#x27;02/01/20&#x27;,\n",
       "       b&#x27;02/01/20&#x27;, b&#x27;02/01/20&#x27;, b&#x27;02/01/20&#x27;, b&#x27;02/01/20&#x27;, b&#x27;02/01/20&#x27;,\n",
       "       b&#x27;02/01/20&#x27;, b&#x27;02/01/20&#x27;, b&#x27;02/01/20&#x27;, b&#x27;02/01/20&#x27;, b&#x27;02/01/20&#x27;,\n",
       "       b&#x27;02/01/20&#x27;, b&#x27;02/01/20&#x27;, b&#x27;02/01/20&#x27;, b&#x27;02/01/20&#x27;, b&#x27;02/01/20&#x27;,\n",
       "       b&#x27;02/01/20&#x27;, b&#x27;02/01/20&#x27;, b&#x27;02/01/20&#x27;, b&#x27;02/01/20&#x27;, b&#x27;02/01/20&#x27;,\n",
       "       b&#x27;02/01/20&#x27;, b&#x27;02/01/20&#x27;, b&#x27;02/01/20&#x27;, b&#x27;02/01/20&#x27;, b&#x27;02/01/20&#x27;,\n",
       "       b&#x27;02/01/20&#x27;, b&#x27;02/01/20&#x27;, b&#x27;02/01/20&#x27;, b&#x27;02/01/20&#x27;, b&#x27;02/01/20&#x27;],\n",
       "      dtype=object)</pre></div></li><li class='xr-var-item'><div class='xr-var-name'><span>time_written</span></div><div class='xr-var-dims'>(time)</div><div class='xr-var-dtype'>object</div><div class='xr-var-preview xr-preview'>...</div><input id='attrs-cd79e405-b8b7-4a82-87e8-284c1a56e89e' class='xr-var-attrs-in' type='checkbox' disabled><label for='attrs-cd79e405-b8b7-4a82-87e8-284c1a56e89e' title='Show/Hide attributes'><svg class='icon xr-icon-file-text2'><use xlink:href='#icon-file-text2'></use></svg></label><input id='data-bd94a59a-45c5-4cb7-ba9e-75189da51443' class='xr-var-data-in' type='checkbox'><label for='data-bd94a59a-45c5-4cb7-ba9e-75189da51443' title='Show/Hide data repr'><svg class='icon xr-icon-database'><use xlink:href='#icon-database'></use></svg></label><div class='xr-var-attrs'><dl class='xr-attrs'></dl></div><div class='xr-var-data'><pre>array([b&#x27;16:34:55&#x27;, b&#x27;16:42:49&#x27;, b&#x27;16:51:38&#x27;, b&#x27;17:00:02&#x27;, b&#x27;17:08:40&#x27;,\n",
       "       b&#x27;17:17:01&#x27;, b&#x27;17:25:38&#x27;, b&#x27;17:34:18&#x27;, b&#x27;17:42:45&#x27;, b&#x27;17:51:28&#x27;,\n",
       "       b&#x27;17:59:53&#x27;, b&#x27;18:08:36&#x27;, b&#x27;18:17:23&#x27;, b&#x27;18:25:15&#x27;, b&#x27;18:33:55&#x27;,\n",
       "       b&#x27;18:42:20&#x27;, b&#x27;18:50:57&#x27;, b&#x27;18:59:21&#x27;, b&#x27;19:08:01&#x27;, b&#x27;19:16:41&#x27;,\n",
       "       b&#x27;19:25:04&#x27;, b&#x27;19:33:44&#x27;, b&#x27;19:42:13&#x27;, b&#x27;19:51:02&#x27;, b&#x27;19:59:47&#x27;,\n",
       "       b&#x27;20:07:43&#x27;, b&#x27;20:16:23&#x27;, b&#x27;20:24:47&#x27;, b&#x27;20:33:25&#x27;, b&#x27;20:41:46&#x27;,\n",
       "       b&#x27;20:50:25&#x27;, b&#x27;20:59:03&#x27;, b&#x27;21:07:24&#x27;, b&#x27;21:16:03&#x27;, b&#x27;21:24:27&#x27;,\n",
       "       b&#x27;21:33:05&#x27;, b&#x27;21:41:52&#x27;, b&#x27;21:49:44&#x27;, b&#x27;21:58:31&#x27;, b&#x27;22:06:52&#x27;,\n",
       "       b&#x27;22:15:29&#x27;, b&#x27;22:23:51&#x27;, b&#x27;22:32:29&#x27;, b&#x27;22:41:13&#x27;, b&#x27;22:49:39&#x27;,\n",
       "       b&#x27;22:58:21&#x27;, b&#x27;23:06:45&#x27;, b&#x27;23:15:25&#x27;, b&#x27;23:24:18&#x27;, b&#x27;23:32:14&#x27;,\n",
       "       b&#x27;23:41:00&#x27;, b&#x27;23:49:22&#x27;, b&#x27;23:58:01&#x27;, b&#x27;00:06:25&#x27;, b&#x27;00:15:06&#x27;,\n",
       "       b&#x27;00:23:45&#x27;, b&#x27;00:32:10&#x27;, b&#x27;00:40:53&#x27;, b&#x27;00:49:24&#x27;, b&#x27;00:58:01&#x27;,\n",
       "       b&#x27;01:06:45&#x27;, b&#x27;01:14:40&#x27;, b&#x27;01:23:22&#x27;, b&#x27;01:31:44&#x27;, b&#x27;01:40:24&#x27;,\n",
       "       b&#x27;01:48:47&#x27;, b&#x27;01:57:28&#x27;, b&#x27;02:06:09&#x27;, b&#x27;02:14:40&#x27;, b&#x27;02:23:32&#x27;,\n",
       "       b&#x27;02:32:02&#x27;, b&#x27;02:40:44&#x27;, b&#x27;02:49:29&#x27;, b&#x27;02:57:28&#x27;, b&#x27;03:06:14&#x27;,\n",
       "       b&#x27;03:14:36&#x27;, b&#x27;03:23:11&#x27;, b&#x27;03:31:31&#x27;, b&#x27;03:40:07&#x27;, b&#x27;03:48:50&#x27;,\n",
       "       b&#x27;03:57:21&#x27;, b&#x27;04:06:09&#x27;, b&#x27;04:14:37&#x27;, b&#x27;04:23:18&#x27;, b&#x27;04:31:58&#x27;,\n",
       "       b&#x27;04:39:57&#x27;, b&#x27;04:48:42&#x27;, b&#x27;04:57:06&#x27;, b&#x27;05:05:44&#x27;, b&#x27;05:14:10&#x27;,\n",
       "       b&#x27;05:22:49&#x27;, b&#x27;05:31:35&#x27;, b&#x27;05:40:01&#x27;, b&#x27;05:48:44&#x27;, b&#x27;05:57:18&#x27;,\n",
       "       b&#x27;06:05:59&#x27;, b&#x27;06:14:48&#x27;, b&#x27;06:22:43&#x27;, b&#x27;06:31:22&#x27;, b&#x27;06:39:44&#x27;,\n",
       "       b&#x27;06:48:30&#x27;, b&#x27;06:57:05&#x27;, b&#x27;07:05:41&#x27;, b&#x27;07:14:30&#x27;, b&#x27;07:23:00&#x27;,\n",
       "       b&#x27;07:31:42&#x27;, b&#x27;07:40:06&#x27;, b&#x27;07:48:57&#x27;, b&#x27;07:57:41&#x27;, b&#x27;08:05:37&#x27;,\n",
       "       b&#x27;08:14:22&#x27;, b&#x27;08:22:44&#x27;, b&#x27;08:31:23&#x27;, b&#x27;08:39:46&#x27;, b&#x27;08:48:25&#x27;,\n",
       "       b&#x27;08:57:10&#x27;, b&#x27;09:05:33&#x27;, b&#x27;09:14:17&#x27;, b&#x27;09:22:49&#x27;, b&#x27;09:31:26&#x27;],\n",
       "      dtype=object)</pre></div></li><li class='xr-var-item'><div class='xr-var-name'><span>RIVER_DISCHARGE_OVER_LAND_LIQ</span></div><div class='xr-var-dims'>(time, lat, lon)</div><div class='xr-var-dtype'>float64</div><div class='xr-var-preview xr-preview'>...</div><input id='attrs-3b96f492-ba8e-4e4a-91ca-a3a6a1103a48' class='xr-var-attrs-in' type='checkbox' ><label for='attrs-3b96f492-ba8e-4e4a-91ca-a3a6a1103a48' title='Show/Hide attributes'><svg class='icon xr-icon-file-text2'><use xlink:href='#icon-file-text2'></use></svg></label><input id='data-4e169a50-2696-4258-aaf5-06e12f0bb73a' class='xr-var-data-in' type='checkbox'><label for='data-4e169a50-2696-4258-aaf5-06e12f0bb73a' title='Show/Hide data repr'><svg class='icon xr-icon-database'><use xlink:href='#icon-database'></use></svg></label><div class='xr-var-attrs'><dl class='xr-attrs'><dt><span>long_name :</span></dt><dd>MOSART river basin flow: LIQ</dd><dt><span>units :</span></dt><dd>m3/s</dd><dt><span>cell_methods :</span></dt><dd>time: mean</dd></dl></div><div class='xr-var-data'><pre>[31104000 values with dtype=float64]</pre></div></li></ul></div></li><li class='xr-section-item'><input id='section-dcafbec0-67ed-4864-a936-8f55795cf328' class='xr-section-summary-in' type='checkbox'  ><label for='section-dcafbec0-67ed-4864-a936-8f55795cf328' class='xr-section-summary' >Attributes: <span>(13)</span></label><div class='xr-section-inline-details'></div><div class='xr-section-details'><dl class='xr-attrs'><dt><span>title :</span></dt><dd>MOSART History file information</dd><dt><span>comment :</span></dt><dd>NOTE: None of the variables are weighted by land fraction!</dd><dt><span>Conventions :</span></dt><dd>CF-1.0</dd><dt><span>history :</span></dt><dd>created on 01/31/20 16:34:55</dd><dt><span>source :</span></dt><dd>Model for Scale Adaptive River Transport MOSART1.0</dd><dt><span>hostname :</span></dt><dd>aleph</dd><dt><span>username :</span></dt><dd>sunseon</dd><dt><span>version :</span></dt><dd>cesm2.1.2-rc.03-18-g4ee0b23</dd><dt><span>model_doi_url :</span></dt><dd>https://doi.org/10.5065/D67H1H0V</dd><dt><span>case_title :</span></dt><dd>UNSET</dd><dt><span>case_id :</span></dt><dd>b.e21.BHISTcmip6.f09_g17.LE2-1001.001</dd><dt><span>RTM_input_dataset :</span></dt><dd>MOSART_routing_Global_0.5x0.5_c170601.nc</dd><dt><span>time_period_freq :</span></dt><dd>month_1</dd></dl></div></li></ul></div></div>"
      ],
      "text/plain": [
       "<xarray.Dataset>\n",
       "Dimensions:                        (lon: 720, lat: 360, time: 120,\n",
       "                                    hist_interval: 2)\n",
       "Coordinates:\n",
       "  * lon                            (lon) float64 -179.8 -179.2 ... 179.2 179.8\n",
       "  * lat                            (lat) float64 -89.75 -89.25 ... 89.25 89.75\n",
       "  * time                           (time) object 1850-02-01 00:00:00 ... 1860...\n",
       "Dimensions without coordinates: hist_interval\n",
       "Data variables: (12/13)\n",
       "    mask                           (lat, lon) float64 ...\n",
       "    area                           (lat, lon) float64 ...\n",
       "    areatotal                      (lat, lon) float64 ...\n",
       "    areatotal2                     (lat, lon) float64 ...\n",
       "    mcdate                         (time) float64 ...\n",
       "    mcsec                          (time) float64 ...\n",
       "    ...                             ...\n",
       "    mscur                          (time) float64 ...\n",
       "    nstep                          (time) float64 ...\n",
       "    time_bounds                    (time, hist_interval) object ...\n",
       "    date_written                   (time) object ...\n",
       "    time_written                   (time) object ...\n",
       "    RIVER_DISCHARGE_OVER_LAND_LIQ  (time, lat, lon) float64 ...\n",
       "Attributes: (12/13)\n",
       "    title:              MOSART History file information\n",
       "    comment:            NOTE: None of the variables are weighted by land frac...\n",
       "    Conventions:        CF-1.0\n",
       "    history:            created on 01/31/20 16:34:55\n",
       "    source:             Model for Scale Adaptive River Transport MOSART1.0\n",
       "    hostname:           aleph\n",
       "    ...                 ...\n",
       "    version:            cesm2.1.2-rc.03-18-g4ee0b23\n",
       "    model_doi_url:      https://doi.org/10.5065/D67H1H0V\n",
       "    case_title:         UNSET\n",
       "    case_id:            b.e21.BHISTcmip6.f09_g17.LE2-1001.001\n",
       "    RTM_input_dataset:  MOSART_routing_Global_0.5x0.5_c170601.nc\n",
       "    time_period_freq:   month_1"
      ]
     },
     "execution_count": 11,
     "metadata": {},
     "output_type": "execute_result"
    }
   ],
   "source": [
    "file_xr  = xr.open_dataset(ncFile_disch) \n",
    "file_xr"
   ]
  },
  {
   "cell_type": "code",
   "execution_count": 12,
   "metadata": {},
   "outputs": [
    {
     "name": "stdout",
     "output_type": "stream",
     "text": [
      "(120, 360, 720)\n",
      "<xarray.DataArray 'RIVER_DISCHARGE_OVER_LAND_LIQ' (time: 120, lat: 360, lon: 720)>\n",
      "[31104000 values with dtype=float64]\n",
      "Coordinates:\n",
      "  * lon      (lon) float64 -179.8 -179.2 -178.8 -178.2 ... 178.8 179.2 179.8\n",
      "  * lat      (lat) float64 -89.75 -89.25 -88.75 -88.25 ... 88.75 89.25 89.75\n",
      "  * time     (time) object 1850-02-01 00:00:00 ... 1860-01-01 00:00:00\n",
      "Attributes:\n",
      "    long_name:     MOSART river basin flow: LIQ\n",
      "    units:         m3/s\n",
      "    cell_methods:  time: mean\n"
     ]
    }
   ],
   "source": [
    "param_disch = file_xr['RIVER_DISCHARGE_OVER_LAND_LIQ']\n",
    "print(param_disch.shape)\n",
    "print(param_disch)"
   ]
  },
  {
   "cell_type": "code",
   "execution_count": null,
   "metadata": {},
   "outputs": [],
   "source": []
  },
  {
   "cell_type": "code",
   "execution_count": null,
   "metadata": {},
   "outputs": [],
   "source": []
  },
  {
   "cell_type": "markdown",
   "metadata": {},
   "source": [
    "## Setting US boundaries"
   ]
  },
  {
   "cell_type": "code",
   "execution_count": 13,
   "metadata": {},
   "outputs": [],
   "source": [
    "# Save only U.S. \n",
    "latboundsUs = [ 25 , 55]\n",
    "lonboundsUs = [-130 , -60]\n"
   ]
  },
  {
   "cell_type": "code",
   "execution_count": 14,
   "metadata": {},
   "outputs": [],
   "source": [
    "# latitude lower and upper index\n",
    "latli = np.argmin( np.abs( lats - latboundsUs[0] ) )\n",
    "latui = np.argmin( np.abs( lats - latboundsUs[1] ) ) \n",
    "\n",
    "# longitude lower and upper index\n",
    "lonli = np.argmin( np.abs( lons - lonboundsUs[0] ) )\n",
    "lonui = np.argmin( np.abs( lons - lonboundsUs[1] ) )  "
   ]
  },
  {
   "cell_type": "code",
   "execution_count": 15,
   "metadata": {},
   "outputs": [
    {
     "name": "stdout",
     "output_type": "stream",
     "text": [
      "(120, 60, 140)\n"
     ]
    }
   ],
   "source": [
    "param_disch_Sample_US = param_disch[:, latli:latui , lonli:lonui]\n",
    "print(param_disch_Sample_US.shape)"
   ]
  },
  {
   "cell_type": "code",
   "execution_count": 16,
   "metadata": {},
   "outputs": [
    {
     "name": "stdout",
     "output_type": "stream",
     "text": [
      "[24.75 25.25 25.75 26.25 26.75 27.25 27.75 28.25 28.75 29.25 29.75 30.25\n",
      " 30.75 31.25 31.75 32.25 32.75 33.25 33.75 34.25 34.75 35.25 35.75 36.25\n",
      " 36.75 37.25 37.75 38.25 38.75 39.25 39.75 40.25 40.75 41.25 41.75 42.25\n",
      " 42.75 43.25 43.75 44.25 44.75 45.25 45.75 46.25 46.75 47.25 47.75 48.25\n",
      " 48.75 49.25 49.75 50.25 50.75 51.25 51.75 52.25 52.75 53.25 53.75 54.25]\n"
     ]
    }
   ],
   "source": [
    "lats_US = lats[latli:latui]\n",
    "print(lats_US)"
   ]
  },
  {
   "cell_type": "code",
   "execution_count": 17,
   "metadata": {},
   "outputs": [
    {
     "name": "stdout",
     "output_type": "stream",
     "text": [
      "[-130.25 -129.75 -129.25 -128.75 -128.25 -127.75 -127.25 -126.75 -126.25\n",
      " -125.75 -125.25 -124.75 -124.25 -123.75 -123.25 -122.75 -122.25 -121.75\n",
      " -121.25 -120.75 -120.25 -119.75 -119.25 -118.75 -118.25 -117.75 -117.25\n",
      " -116.75 -116.25 -115.75 -115.25 -114.75 -114.25 -113.75 -113.25 -112.75\n",
      " -112.25 -111.75 -111.25 -110.75 -110.25 -109.75 -109.25 -108.75 -108.25\n",
      " -107.75 -107.25 -106.75 -106.25 -105.75 -105.25 -104.75 -104.25 -103.75\n",
      " -103.25 -102.75 -102.25 -101.75 -101.25 -100.75 -100.25  -99.75  -99.25\n",
      "  -98.75  -98.25  -97.75  -97.25  -96.75  -96.25  -95.75  -95.25  -94.75\n",
      "  -94.25  -93.75  -93.25  -92.75  -92.25  -91.75  -91.25  -90.75  -90.25\n",
      "  -89.75  -89.25  -88.75  -88.25  -87.75  -87.25  -86.75  -86.25  -85.75\n",
      "  -85.25  -84.75  -84.25  -83.75  -83.25  -82.75  -82.25  -81.75  -81.25\n",
      "  -80.75  -80.25  -79.75  -79.25  -78.75  -78.25  -77.75  -77.25  -76.75\n",
      "  -76.25  -75.75  -75.25  -74.75  -74.25  -73.75  -73.25  -72.75  -72.25\n",
      "  -71.75  -71.25  -70.75  -70.25  -69.75  -69.25  -68.75  -68.25  -67.75\n",
      "  -67.25  -66.75  -66.25  -65.75  -65.25  -64.75  -64.25  -63.75  -63.25\n",
      "  -62.75  -62.25  -61.75  -61.25  -60.75]\n"
     ]
    }
   ],
   "source": [
    "lons_US = lons[lonli:lonui]\n",
    "print(lons_US)"
   ]
  },
  {
   "cell_type": "code",
   "execution_count": null,
   "metadata": {},
   "outputs": [],
   "source": []
  },
  {
   "cell_type": "markdown",
   "metadata": {},
   "source": [
    "## Using Monthly Data (Historical + Scen) for the US domain prepared from \"GLADE\" "
   ]
  },
  {
   "cell_type": "code",
   "execution_count": 18,
   "metadata": {},
   "outputs": [
    {
     "name": "stdout",
     "output_type": "stream",
     "text": [
      "(1020, 60, 140, 50)\n"
     ]
    },
    {
     "data": {
      "text/plain": [
       "1e+36"
      ]
     },
     "execution_count": 18,
     "metadata": {},
     "output_type": "execute_result"
    }
   ],
   "source": [
    "file_histSel_Us_ensMem = 'C:/rezaul/1.academic/1.research/2.project/mrb/dt/cesm/cesm2LE/param/discharge/mon/monDischUsHistSelEnsMembers.npy'\n",
    "file_histSel_Us_ensMem_loaded = np.load(file_histSel_Us_ensMem)\n",
    "print(file_histSel_Us_ensMem_loaded.shape)\n",
    "maxVal = np.nanmax(file_histSel_Us_ensMem_loaded)\n",
    "maxVal"
   ]
  },
  {
   "cell_type": "code",
   "execution_count": 19,
   "metadata": {},
   "outputs": [
    {
     "name": "stdout",
     "output_type": "stream",
     "text": [
      "(1032, 60, 140, 50)\n"
     ]
    },
    {
     "data": {
      "text/plain": [
       "1e+36"
      ]
     },
     "execution_count": 19,
     "metadata": {},
     "output_type": "execute_result"
    }
   ],
   "source": [
    "file_scen_Us_ensMem = 'C:/rezaul/1.academic/1.research/2.project/mrb/dt/cesm/cesm2LE/param/discharge/mon/monDischUsScenEnsMems.npy'\n",
    "file_scen_Us_ensMem_loaded = np.load(file_scen_Us_ensMem)\n",
    "print(file_scen_Us_ensMem_loaded.shape)\n",
    "maxVal = np.nanmax(file_scen_Us_ensMem_loaded)\n",
    "maxVal"
   ]
  },
  {
   "cell_type": "markdown",
   "metadata": {},
   "source": [
    "## Concatenate the historical and scenario data arrays"
   ]
  },
  {
   "cell_type": "code",
   "execution_count": 20,
   "metadata": {},
   "outputs": [
    {
     "name": "stdout",
     "output_type": "stream",
     "text": [
      "(1020, 60, 140, 50)\n",
      "(1032, 60, 140, 50)\n"
     ]
    }
   ],
   "source": [
    "print(file_histSel_Us_ensMem_loaded.shape)\n",
    "print(file_scen_Us_ensMem_loaded.shape)\n"
   ]
  },
  {
   "cell_type": "code",
   "execution_count": 21,
   "metadata": {},
   "outputs": [
    {
     "name": "stdout",
     "output_type": "stream",
     "text": [
      "(2052, 60, 140, 50)\n"
     ]
    }
   ],
   "source": [
    "disch_histSel_scen_Us_ensMems = np.concatenate((file_histSel_Us_ensMem_loaded, file_scen_Us_ensMem_loaded), axis=0)\n",
    "print(disch_histSel_scen_Us_ensMems.shape)"
   ]
  },
  {
   "cell_type": "code",
   "execution_count": 22,
   "metadata": {},
   "outputs": [
    {
     "name": "stdout",
     "output_type": "stream",
     "text": [
      "50\n"
     ]
    }
   ],
   "source": [
    "ens_size = disch_histSel_scen_Us_ensMems.shape[3]\n",
    "print(ens_size)"
   ]
  },
  {
   "cell_type": "markdown",
   "metadata": {},
   "source": [
    "## The four time (1971-2000, 2015-2044, 2045-2074, and 2075-2100) slots"
   ]
  },
  {
   "cell_type": "code",
   "execution_count": 23,
   "metadata": {},
   "outputs": [],
   "source": [
    "histYrSelSt = 1930\n",
    "\n",
    "refPeriodYrSt = 1971\n",
    "refPeriodYrEnd = 2000\n",
    "\n",
    "scenYrSt = 2015\n",
    "scenEraTwoYrSt = 2045\n",
    "scenEraThreeYrSt = 2075\n",
    "\n",
    "scenYrEnd = 2100"
   ]
  },
  {
   "cell_type": "code",
   "execution_count": 24,
   "metadata": {},
   "outputs": [
    {
     "name": "stdout",
     "output_type": "stream",
     "text": [
      "171\n",
      "12\n"
     ]
    }
   ],
   "source": [
    "nYrsHistSelScen = scenYrEnd - histYrSelSt + 1\n",
    "print(nYrsHistSelScen)\n",
    "\n",
    "nMonsPerYr = 12     \n",
    "print(nMonsPerYr)"
   ]
  },
  {
   "cell_type": "code",
   "execution_count": null,
   "metadata": {},
   "outputs": [],
   "source": []
  },
  {
   "cell_type": "markdown",
   "metadata": {},
   "source": [
    "### Coordinates at the outlet of the basins"
   ]
  },
  {
   "cell_type": "code",
   "execution_count": 25,
   "metadata": {},
   "outputs": [],
   "source": [
    "# Missouri at Hermann\n",
    "latTrgt_MissouriHermann = 38.71\n",
    "lonTrgt_MissouriHermann = -91.44\n",
    "\n",
    "# Arkansas at Murray Dam near Little Rock\n",
    "latTrgt_ArkansasMurrayLittleRock = 34.79\n",
    "lonTrgt_ArkansasMurrayLittleRock = -92.36\n",
    "\n",
    "# Ohio at Olmsted\n",
    "latTrgt_OhioOlmsted = 37.18\n",
    "lonTrgt_OhioOlmsted = -89.06\n",
    "\n",
    "# Mississippi at Vicksburg\n",
    "latTrgt_MissiVicks = 32.32\n",
    "lonTrgt_MissiVicks = -90.91\n"
   ]
  },
  {
   "cell_type": "code",
   "execution_count": 26,
   "metadata": {},
   "outputs": [
    {
     "name": "stdout",
     "output_type": "stream",
     "text": [
      "28 78\n",
      "20 76\n",
      "25 82\n",
      "15 79\n"
     ]
    }
   ],
   "source": [
    "# Missouri at Hermann\n",
    "latTrgtIndex_MissouriHermann = np.argmin( np.abs(lats_US - latTrgt_MissouriHermann))\n",
    "lonTrgtIndex_MissouriHermann = np.argmin( np.abs(lons_US - lonTrgt_MissouriHermann))\n",
    "print(latTrgtIndex_MissouriHermann, lonTrgtIndex_MissouriHermann)\n",
    "\n",
    "# Arkansas at Murray Dam near Little Rock\n",
    "latTrgtIndex_ArkansasMurrayLittleRock = np.argmin( np.abs(lats_US - latTrgt_ArkansasMurrayLittleRock))\n",
    "lonTrgtIndex_ArkansasMurrayLittleRock = np.argmin( np.abs(lons_US - lonTrgt_ArkansasMurrayLittleRock))\n",
    "print(latTrgtIndex_ArkansasMurrayLittleRock, lonTrgtIndex_ArkansasMurrayLittleRock)\n",
    "\n",
    "# Ohio at Olmsted\n",
    "latTrgtIndex_OhioOlmsted = np.argmin( np.abs(lats_US - latTrgt_OhioOlmsted))\n",
    "lonTrgtIndex_OhioOlmsted = np.argmin( np.abs(lons_US - lonTrgt_OhioOlmsted))\n",
    "print(latTrgtIndex_OhioOlmsted, lonTrgtIndex_OhioOlmsted)\n",
    "\n",
    "# Mississippi at Vicksburg\n",
    "latTrgtIndex_MissiVicks = np.argmin( np.abs(lats_US - latTrgt_MissiVicks))\n",
    "lonTrgtIndex_MissiVicks = np.argmin( np.abs(lons_US - lonTrgt_MissiVicks))\n",
    "print(latTrgtIndex_MissiVicks, lonTrgtIndex_MissiVicks)\n"
   ]
  },
  {
   "cell_type": "code",
   "execution_count": 27,
   "metadata": {},
   "outputs": [
    {
     "name": "stdout",
     "output_type": "stream",
     "text": [
      "(2052, 60, 140, 50)\n"
     ]
    }
   ],
   "source": [
    "print(disch_histSel_scen_Us_ensMems.shape)"
   ]
  },
  {
   "cell_type": "code",
   "execution_count": null,
   "metadata": {},
   "outputs": [],
   "source": []
  },
  {
   "cell_type": "markdown",
   "metadata": {},
   "source": [
    "## Extracting discharge values at different outlet points"
   ]
  },
  {
   "cell_type": "markdown",
   "metadata": {},
   "source": [
    "### Missouri at Hermann"
   ]
  },
  {
   "cell_type": "code",
   "execution_count": 28,
   "metadata": {},
   "outputs": [
    {
     "name": "stdout",
     "output_type": "stream",
     "text": [
      "(2052, 50)\n",
      "(2052,)\n",
      "(171, 12)\n"
     ]
    }
   ],
   "source": [
    "disch_histSel_scen_ensMems_MissouriHermann = disch_histSel_scen_Us_ensMems[:, latTrgtIndex_MissouriHermann, lonTrgtIndex_MissouriHermann, :]\n",
    "print(disch_histSel_scen_ensMems_MissouriHermann.shape)\n",
    "\n",
    "disch_histSel_scen_ensMean_MissouriHermann = np.nanmean(disch_histSel_scen_ensMems_MissouriHermann, axis =1)\n",
    "print(disch_histSel_scen_ensMean_MissouriHermann.shape)\n",
    "\n",
    "disch_histSel_scen_ensMean_Yr_MissouriHermann = np.reshape(disch_histSel_scen_ensMean_MissouriHermann,(nYrsHistSelScen, nMonsPerYr))\n",
    "print(disch_histSel_scen_ensMean_Yr_MissouriHermann.shape)\n"
   ]
  },
  {
   "cell_type": "markdown",
   "metadata": {},
   "source": [
    "### Arkansas at Murray Dam near Little Rock"
   ]
  },
  {
   "cell_type": "code",
   "execution_count": 29,
   "metadata": {},
   "outputs": [
    {
     "name": "stdout",
     "output_type": "stream",
     "text": [
      "(2052, 50)\n",
      "(2052,)\n",
      "(171, 12)\n"
     ]
    }
   ],
   "source": [
    "disch_histSel_scen_ensMems_ArkansasMurrayLittleRock = disch_histSel_scen_Us_ensMems[:, latTrgtIndex_ArkansasMurrayLittleRock, lonTrgtIndex_ArkansasMurrayLittleRock, :]\n",
    "print(disch_histSel_scen_ensMems_ArkansasMurrayLittleRock.shape)\n",
    "\n",
    "disch_histSel_scen_ensMean_ArkansasMurrayLittleRock = np.nanmean(disch_histSel_scen_ensMems_ArkansasMurrayLittleRock, axis =1)\n",
    "print(disch_histSel_scen_ensMean_ArkansasMurrayLittleRock.shape)\n",
    "\n",
    "disch_histSel_scen_ensMean_Yr_ArkansasMurrayLittleRock = np.reshape(disch_histSel_scen_ensMean_ArkansasMurrayLittleRock,(nYrsHistSelScen, nMonsPerYr))\n",
    "print(disch_histSel_scen_ensMean_Yr_ArkansasMurrayLittleRock.shape)\n"
   ]
  },
  {
   "cell_type": "markdown",
   "metadata": {},
   "source": [
    "### Ohio River at Olmsted"
   ]
  },
  {
   "cell_type": "code",
   "execution_count": 30,
   "metadata": {},
   "outputs": [
    {
     "name": "stdout",
     "output_type": "stream",
     "text": [
      "(2052, 50)\n",
      "(2052,)\n",
      "(171, 12)\n"
     ]
    }
   ],
   "source": [
    "disch_histSel_scen_ensMems_OhioOlmsted = disch_histSel_scen_Us_ensMems[:, latTrgtIndex_OhioOlmsted, lonTrgtIndex_OhioOlmsted, :]\n",
    "print(disch_histSel_scen_ensMems_OhioOlmsted.shape)\n",
    "\n",
    "disch_histSel_scen_ensMean_OhioOlmsted = np.nanmean(disch_histSel_scen_ensMems_OhioOlmsted, axis =1)\n",
    "print(disch_histSel_scen_ensMean_OhioOlmsted.shape)\n",
    "\n",
    "disch_histSel_scen_ensMean_Yr_OhioOlmsted = np.reshape(disch_histSel_scen_ensMean_OhioOlmsted,(nYrsHistSelScen, nMonsPerYr))\n",
    "print(disch_histSel_scen_ensMean_Yr_OhioOlmsted.shape)\n"
   ]
  },
  {
   "cell_type": "markdown",
   "metadata": {},
   "source": [
    "### Mississippi at Vicksburg"
   ]
  },
  {
   "cell_type": "code",
   "execution_count": 31,
   "metadata": {},
   "outputs": [
    {
     "name": "stdout",
     "output_type": "stream",
     "text": [
      "(2052, 50)\n",
      "(2052,)\n",
      "(171, 12)\n"
     ]
    }
   ],
   "source": [
    "disch_histSel_scen_ensMems_MissiVicks = disch_histSel_scen_Us_ensMems[:, latTrgtIndex_MissiVicks, lonTrgtIndex_MissiVicks, :]\n",
    "print(disch_histSel_scen_ensMems_MissiVicks.shape)\n",
    "\n",
    "disch_histSel_scen_ensMean_MissiVicks = np.nanmean(disch_histSel_scen_ensMems_MissiVicks, axis =1)\n",
    "print(disch_histSel_scen_ensMean_MissiVicks.shape)\n",
    "\n",
    "disch_histSel_scen_ensMean_Yr_MissiVicks=np.reshape(disch_histSel_scen_ensMean_MissiVicks,(nYrsHistSelScen, nMonsPerYr))\n",
    "print(disch_histSel_scen_ensMean_Yr_MissiVicks.shape)\n"
   ]
  },
  {
   "cell_type": "code",
   "execution_count": null,
   "metadata": {},
   "outputs": [],
   "source": []
  },
  {
   "cell_type": "code",
   "execution_count": null,
   "metadata": {},
   "outputs": [],
   "source": []
  },
  {
   "cell_type": "markdown",
   "metadata": {},
   "source": [
    "## Subsetting the data into different periods / Eras"
   ]
  },
  {
   "cell_type": "markdown",
   "metadata": {},
   "source": [
    "## Reference Period"
   ]
  },
  {
   "cell_type": "code",
   "execution_count": 32,
   "metadata": {},
   "outputs": [
    {
     "name": "stdout",
     "output_type": "stream",
     "text": [
      "41 71\n",
      "30\n"
     ]
    }
   ],
   "source": [
    "\n",
    "refPeriodStepSt = refPeriodYrSt - histYrSelSt\n",
    "refPeriodStepEnd = refPeriodYrEnd - histYrSelSt + 1\n",
    "\n",
    "print(refPeriodStepSt, refPeriodStepEnd)\n",
    "print(refPeriodStepEnd-refPeriodStepSt)"
   ]
  },
  {
   "cell_type": "markdown",
   "metadata": {},
   "source": [
    "## Era1"
   ]
  },
  {
   "cell_type": "code",
   "execution_count": 33,
   "metadata": {},
   "outputs": [
    {
     "name": "stdout",
     "output_type": "stream",
     "text": [
      "85 115\n",
      "30\n"
     ]
    }
   ],
   "source": [
    "scenEraOneStepSt = scenYrSt - histYrSelSt\n",
    "scenEraOneStepEnd = scenEraTwoYrSt - histYrSelSt\n",
    "\n",
    "print(scenEraOneStepSt, scenEraOneStepEnd)\n",
    "print(scenEraOneStepEnd-scenEraOneStepSt)"
   ]
  },
  {
   "cell_type": "markdown",
   "metadata": {},
   "source": [
    "## Era2"
   ]
  },
  {
   "cell_type": "code",
   "execution_count": 34,
   "metadata": {},
   "outputs": [
    {
     "name": "stdout",
     "output_type": "stream",
     "text": [
      "115 145\n",
      "30\n"
     ]
    }
   ],
   "source": [
    "scenEraTwoStepSt = scenEraTwoYrSt - histYrSelSt\n",
    "scenEraTwoStepEnd = scenEraThreeYrSt - histYrSelSt\n",
    "\n",
    "print(scenEraTwoStepSt, scenEraTwoStepEnd)\n",
    "print(scenEraTwoStepEnd-scenEraTwoStepSt)"
   ]
  },
  {
   "cell_type": "markdown",
   "metadata": {},
   "source": [
    "## Era3"
   ]
  },
  {
   "cell_type": "code",
   "execution_count": 35,
   "metadata": {},
   "outputs": [
    {
     "name": "stdout",
     "output_type": "stream",
     "text": [
      "145 171\n",
      "26\n"
     ]
    }
   ],
   "source": [
    "scenEraThreeStepSt = scenEraThreeYrSt - histYrSelSt\n",
    "scenEraThreeStepEnd = scenYrEnd - histYrSelSt + 1\n",
    "\n",
    "print(scenEraThreeStepSt, scenEraThreeStepEnd)\n",
    "print(scenEraThreeStepEnd-scenEraThreeStepSt)"
   ]
  },
  {
   "cell_type": "markdown",
   "metadata": {},
   "source": [
    "## Missouri at Hermann"
   ]
  },
  {
   "cell_type": "code",
   "execution_count": 36,
   "metadata": {},
   "outputs": [
    {
     "name": "stdout",
     "output_type": "stream",
     "text": [
      "(30, 12)\n",
      "(30, 12)\n",
      "(30, 12)\n",
      "(26, 12)\n"
     ]
    }
   ],
   "source": [
    "disch_yrMon_refPeriod_ensMean_MissouriHermann = disch_histSel_scen_ensMean_Yr_MissouriHermann[refPeriodStepSt:refPeriodStepEnd,:]\n",
    "print(disch_yrMon_refPeriod_ensMean_MissouriHermann.shape)\n",
    "\n",
    "disch_yrMon_eraOne_ensMean_MissouriHermann = disch_histSel_scen_ensMean_Yr_MissouriHermann[scenEraOneStepSt:scenEraOneStepEnd,:]\n",
    "print(disch_yrMon_eraOne_ensMean_MissouriHermann.shape)\n",
    "\n",
    "disch_yrMon_eraTwo_ensMean_MissouriHermann = disch_histSel_scen_ensMean_Yr_MissouriHermann[scenEraTwoStepSt:scenEraTwoStepEnd,:]\n",
    "print(disch_yrMon_eraTwo_ensMean_MissouriHermann.shape)\n",
    "\n",
    "disch_yrMon_eraThree_ensMean_MissouriHermann = disch_histSel_scen_ensMean_Yr_MissouriHermann[scenEraThreeStepSt:scenEraThreeStepEnd,:]\n",
    "print(disch_yrMon_eraThree_ensMean_MissouriHermann.shape)\n",
    "\n"
   ]
  },
  {
   "cell_type": "code",
   "execution_count": 37,
   "metadata": {},
   "outputs": [
    {
     "name": "stdout",
     "output_type": "stream",
     "text": [
      "(12,)\n",
      "(12,)\n",
      "(12,)\n",
      "(12,)\n"
     ]
    }
   ],
   "source": [
    "\n",
    "disch_monClim_refPeriod_ensMean_MissouriHermann = np.nanmean(disch_yrMon_refPeriod_ensMean_MissouriHermann, axis = 0)\n",
    "print(disch_monClim_refPeriod_ensMean_MissouriHermann.shape)\n",
    "\n",
    "disch_monClim_eraOne_ensMean_MissouriHermann = np.nanmean(disch_yrMon_eraOne_ensMean_MissouriHermann, axis = 0)\n",
    "print(disch_monClim_eraOne_ensMean_MissouriHermann.shape)\n",
    "\n",
    "disch_monClim_eraTwo_ensMean_MissouriHermann = np.nanmean(disch_yrMon_eraTwo_ensMean_MissouriHermann, axis = 0)\n",
    "print(disch_monClim_eraTwo_ensMean_MissouriHermann.shape)\n",
    "\n",
    "disch_monClim_eraThree_ensMean_MissouriHermann = np.nanmean(disch_yrMon_eraThree_ensMean_MissouriHermann, axis = 0)\n",
    "print(disch_monClim_eraThree_ensMean_MissouriHermann.shape)\n"
   ]
  },
  {
   "cell_type": "markdown",
   "metadata": {},
   "source": [
    "## Arkansas at Murray Dam near Little Rock"
   ]
  },
  {
   "cell_type": "code",
   "execution_count": 38,
   "metadata": {},
   "outputs": [
    {
     "name": "stdout",
     "output_type": "stream",
     "text": [
      "(30, 12)\n",
      "(30, 12)\n",
      "(30, 12)\n",
      "(26, 12)\n"
     ]
    }
   ],
   "source": [
    "disch_yrMon_refPeriod_ensMean_ArkansasMurrayLittleRock = disch_histSel_scen_ensMean_Yr_ArkansasMurrayLittleRock[refPeriodStepSt:refPeriodStepEnd,:]\n",
    "print(disch_yrMon_refPeriod_ensMean_ArkansasMurrayLittleRock.shape)\n",
    "\n",
    "disch_yrMon_eraOne_ensMean_ArkansasMurrayLittleRock = disch_histSel_scen_ensMean_Yr_ArkansasMurrayLittleRock[scenEraOneStepSt:scenEraOneStepEnd,:]\n",
    "print(disch_yrMon_eraOne_ensMean_ArkansasMurrayLittleRock.shape)\n",
    "\n",
    "disch_yrMon_eraTwo_ensMean_ArkansasMurrayLittleRock = disch_histSel_scen_ensMean_Yr_ArkansasMurrayLittleRock[scenEraTwoStepSt:scenEraTwoStepEnd,:]\n",
    "print(disch_yrMon_eraTwo_ensMean_ArkansasMurrayLittleRock.shape)\n",
    "\n",
    "disch_yrMon_eraThree_ensMean_ArkansasMurrayLittleRock = disch_histSel_scen_ensMean_Yr_ArkansasMurrayLittleRock[scenEraThreeStepSt:scenEraThreeStepEnd,:]\n",
    "print(disch_yrMon_eraThree_ensMean_ArkansasMurrayLittleRock.shape)\n",
    "\n"
   ]
  },
  {
   "cell_type": "code",
   "execution_count": 39,
   "metadata": {},
   "outputs": [
    {
     "name": "stdout",
     "output_type": "stream",
     "text": [
      "(12,)\n",
      "(12,)\n",
      "(12,)\n",
      "(12,)\n"
     ]
    }
   ],
   "source": [
    "\n",
    "disch_monClim_refPeriod_ensMean_ArkansasMurrayLittleRock = np.nanmean(disch_yrMon_refPeriod_ensMean_ArkansasMurrayLittleRock, axis = 0)\n",
    "print(disch_monClim_refPeriod_ensMean_ArkansasMurrayLittleRock.shape)\n",
    "\n",
    "disch_monClim_eraOne_ensMean_ArkansasMurrayLittleRock = np.nanmean(disch_yrMon_eraOne_ensMean_ArkansasMurrayLittleRock, axis = 0)\n",
    "print(disch_monClim_eraOne_ensMean_ArkansasMurrayLittleRock.shape)\n",
    "\n",
    "disch_monClim_eraTwo_ensMean_ArkansasMurrayLittleRock = np.nanmean(disch_yrMon_eraTwo_ensMean_ArkansasMurrayLittleRock, axis = 0)\n",
    "print(disch_monClim_eraTwo_ensMean_ArkansasMurrayLittleRock.shape)\n",
    "\n",
    "disch_monClim_eraThree_ensMean_ArkansasMurrayLittleRock = np.nanmean(disch_yrMon_eraThree_ensMean_ArkansasMurrayLittleRock, axis = 0)\n",
    "print(disch_monClim_eraThree_ensMean_ArkansasMurrayLittleRock.shape)\n"
   ]
  },
  {
   "cell_type": "markdown",
   "metadata": {},
   "source": [
    "## Ohio River at Olmsted"
   ]
  },
  {
   "cell_type": "code",
   "execution_count": 40,
   "metadata": {},
   "outputs": [
    {
     "name": "stdout",
     "output_type": "stream",
     "text": [
      "(30, 12)\n",
      "(30, 12)\n",
      "(30, 12)\n",
      "(26, 12)\n"
     ]
    }
   ],
   "source": [
    "disch_yrMon_refPeriod_ensMean_OhioOlmsted = disch_histSel_scen_ensMean_Yr_OhioOlmsted[refPeriodStepSt:refPeriodStepEnd,:]\n",
    "print(disch_yrMon_refPeriod_ensMean_OhioOlmsted.shape)\n",
    "\n",
    "disch_yrMon_eraOne_ensMean_OhioOlmsted = disch_histSel_scen_ensMean_Yr_OhioOlmsted[scenEraOneStepSt:scenEraOneStepEnd,:]\n",
    "print(disch_yrMon_eraOne_ensMean_OhioOlmsted.shape)\n",
    "\n",
    "disch_yrMon_eraTwo_ensMean_OhioOlmsted = disch_histSel_scen_ensMean_Yr_OhioOlmsted[scenEraTwoStepSt:scenEraTwoStepEnd,:]\n",
    "print(disch_yrMon_eraTwo_ensMean_OhioOlmsted.shape)\n",
    "\n",
    "disch_yrMon_eraThree_ensMean_OhioOlmsted = disch_histSel_scen_ensMean_Yr_OhioOlmsted[scenEraThreeStepSt:scenEraThreeStepEnd,:]\n",
    "print(disch_yrMon_eraThree_ensMean_OhioOlmsted.shape)\n",
    "\n"
   ]
  },
  {
   "cell_type": "code",
   "execution_count": 41,
   "metadata": {},
   "outputs": [
    {
     "name": "stdout",
     "output_type": "stream",
     "text": [
      "(12,)\n",
      "(12,)\n",
      "(12,)\n",
      "(12,)\n"
     ]
    }
   ],
   "source": [
    "\n",
    "disch_monClim_refPeriod_ensMean_OhioOlmsted = np.nanmean(disch_yrMon_refPeriod_ensMean_OhioOlmsted, axis = 0)\n",
    "print(disch_monClim_refPeriod_ensMean_OhioOlmsted.shape)\n",
    "\n",
    "disch_monClim_eraOne_ensMean_OhioOlmsted = np.nanmean(disch_yrMon_eraOne_ensMean_OhioOlmsted, axis = 0)\n",
    "print(disch_monClim_eraOne_ensMean_OhioOlmsted.shape)\n",
    "\n",
    "disch_monClim_eraTwo_ensMean_OhioOlmsted = np.nanmean(disch_yrMon_eraTwo_ensMean_OhioOlmsted, axis = 0)\n",
    "print(disch_monClim_eraTwo_ensMean_OhioOlmsted.shape)\n",
    "\n",
    "disch_monClim_eraThree_ensMean_OhioOlmsted = np.nanmean(disch_yrMon_eraThree_ensMean_OhioOlmsted, axis = 0)\n",
    "print(disch_monClim_eraThree_ensMean_OhioOlmsted.shape)\n"
   ]
  },
  {
   "cell_type": "markdown",
   "metadata": {},
   "source": [
    "## Mississippi River at Vicksburg"
   ]
  },
  {
   "cell_type": "code",
   "execution_count": 42,
   "metadata": {},
   "outputs": [
    {
     "name": "stdout",
     "output_type": "stream",
     "text": [
      "(30, 12)\n",
      "(30, 12)\n",
      "(30, 12)\n",
      "(26, 12)\n"
     ]
    }
   ],
   "source": [
    "disch_yrMon_refPeriod_ensMean_MissiVicks = disch_histSel_scen_ensMean_Yr_MissiVicks[refPeriodStepSt:refPeriodStepEnd,:]\n",
    "print(disch_yrMon_refPeriod_ensMean_MissiVicks.shape)\n",
    "\n",
    "disch_yrMon_eraOne_ensMean_MissiVicks = disch_histSel_scen_ensMean_Yr_MissiVicks[scenEraOneStepSt:scenEraOneStepEnd,:]\n",
    "print(disch_yrMon_eraOne_ensMean_MissiVicks.shape)\n",
    "\n",
    "disch_yrMon_eraTwo_ensMean_MissiVicks = disch_histSel_scen_ensMean_Yr_MissiVicks[scenEraTwoStepSt:scenEraTwoStepEnd,:]\n",
    "print(disch_yrMon_eraTwo_ensMean_MissiVicks.shape)\n",
    "\n",
    "disch_yrMon_eraThree_ensMean_MissiVicks = disch_histSel_scen_ensMean_Yr_MissiVicks[scenEraThreeStepSt:scenEraThreeStepEnd,:]\n",
    "print(disch_yrMon_eraThree_ensMean_MissiVicks.shape)\n",
    "\n"
   ]
  },
  {
   "cell_type": "code",
   "execution_count": 43,
   "metadata": {},
   "outputs": [
    {
     "name": "stdout",
     "output_type": "stream",
     "text": [
      "(12,)\n",
      "(12,)\n",
      "(12,)\n",
      "(12,)\n"
     ]
    }
   ],
   "source": [
    "\n",
    "disch_monClim_refPeriod_ensMean_MissiVicks = np.nanmean(disch_yrMon_refPeriod_ensMean_MissiVicks, axis = 0)\n",
    "print(disch_monClim_refPeriod_ensMean_MissiVicks.shape)\n",
    "\n",
    "disch_monClim_eraOne_ensMean_MissiVicks = np.nanmean(disch_yrMon_eraOne_ensMean_MissiVicks, axis = 0)\n",
    "print(disch_monClim_eraOne_ensMean_MissiVicks.shape)\n",
    "\n",
    "disch_monClim_eraTwo_ensMean_MissiVicks = np.nanmean(disch_yrMon_eraTwo_ensMean_MissiVicks, axis = 0)\n",
    "print(disch_monClim_eraTwo_ensMean_MissiVicks.shape)\n",
    "\n",
    "disch_monClim_eraThree_ensMean_MissiVicks = np.nanmean(disch_yrMon_eraThree_ensMean_MissiVicks, axis = 0)\n",
    "print(disch_monClim_eraThree_ensMean_MissiVicks.shape)\n"
   ]
  },
  {
   "cell_type": "markdown",
   "metadata": {},
   "source": [
    "## Percent change relative to Historical Reference Period"
   ]
  },
  {
   "cell_type": "markdown",
   "metadata": {},
   "source": [
    "### Missouri"
   ]
  },
  {
   "cell_type": "code",
   "execution_count": 44,
   "metadata": {},
   "outputs": [
    {
     "name": "stdout",
     "output_type": "stream",
     "text": [
      "(12,)\n",
      "(12,)\n",
      "(12,)\n",
      "(12,)\n"
     ]
    }
   ],
   "source": [
    "print(disch_monClim_refPeriod_ensMean_MissouriHermann.shape)\n",
    "print(disch_monClim_eraOne_ensMean_MissouriHermann.shape)\n",
    "print(disch_monClim_eraTwo_ensMean_MissouriHermann.shape)\n",
    "print(disch_monClim_eraThree_ensMean_MissouriHermann.shape)\n"
   ]
  },
  {
   "cell_type": "code",
   "execution_count": 45,
   "metadata": {},
   "outputs": [
    {
     "name": "stdout",
     "output_type": "stream",
     "text": [
      "[ -3.9560132   -0.417961    -1.15300913  -7.97944646 -17.250192\n",
      "  -8.67410436 -11.34635558  -6.98415717   2.72670338  -4.87869839\n",
      "  -6.50506192  -4.87096468]\n",
      "\n",
      "2.7267033785562953\n",
      "-17.250192002390747\n"
     ]
    }
   ],
   "source": [
    "disch_percCh_monClim_eraOne_ensMean_MissouriHermann = (disch_monClim_eraOne_ensMean_MissouriHermann-disch_monClim_refPeriod_ensMean_MissouriHermann)/disch_monClim_refPeriod_ensMean_MissouriHermann*100\n",
    "print(disch_percCh_monClim_eraOne_ensMean_MissouriHermann)\n",
    "print('')\n",
    "maxPercCh_eraOne_MissouriHermann = np.nanmax(disch_percCh_monClim_eraOne_ensMean_MissouriHermann)\n",
    "minPercCh_eraOne_MissouriHermann = np.nanmin(disch_percCh_monClim_eraOne_ensMean_MissouriHermann)\n",
    "\n",
    "print(maxPercCh_eraOne_MissouriHermann)\n",
    "print(minPercCh_eraOne_MissouriHermann)\n"
   ]
  },
  {
   "cell_type": "code",
   "execution_count": 46,
   "metadata": {},
   "outputs": [
    {
     "name": "stdout",
     "output_type": "stream",
     "text": [
      "[ -1.53073636   3.40801417   2.50231323 -13.31481706 -23.10998582\n",
      "  -8.17363171  -9.64306489   0.86111037   5.77739201  -3.86231676\n",
      "  -5.15846117  -2.35375092]\n",
      "\n",
      "5.7773920108311625\n",
      "-23.109985816251104\n"
     ]
    }
   ],
   "source": [
    "disch_percCh_monClim_eraTwo_ensMean_MissouriHermann = (disch_monClim_eraTwo_ensMean_MissouriHermann-disch_monClim_refPeriod_ensMean_MissouriHermann)/disch_monClim_refPeriod_ensMean_MissouriHermann*100\n",
    "print(disch_percCh_monClim_eraTwo_ensMean_MissouriHermann)\n",
    "print('')\n",
    "maxPercCh_eraTwo_MissouriHermann = np.nanmax(disch_percCh_monClim_eraTwo_ensMean_MissouriHermann)\n",
    "minPercCh_eraTwo_MissouriHermann = np.nanmin(disch_percCh_monClim_eraTwo_ensMean_MissouriHermann)\n",
    "\n",
    "print(maxPercCh_eraTwo_MissouriHermann)\n",
    "print(minPercCh_eraTwo_MissouriHermann)\n"
   ]
  },
  {
   "cell_type": "code",
   "execution_count": 47,
   "metadata": {},
   "outputs": [
    {
     "name": "stdout",
     "output_type": "stream",
     "text": [
      "[  6.94451647  11.65956682   7.97879895 -17.23161204 -21.24633013\n",
      "  -3.95578247  -5.62943348  12.40307336  12.35464612   2.13658262\n",
      "   1.24640085   4.98109927]\n",
      "\n",
      "12.403073358506363\n",
      "-21.246330134958168\n"
     ]
    }
   ],
   "source": [
    "disch_percCh_monClim_eraThree_ensMean_MissouriHermann = (disch_monClim_eraThree_ensMean_MissouriHermann-disch_monClim_refPeriod_ensMean_MissouriHermann)/disch_monClim_refPeriod_ensMean_MissouriHermann*100\n",
    "print(disch_percCh_monClim_eraThree_ensMean_MissouriHermann)\n",
    "print('')\n",
    "maxPercCh_eraThree_MissouriHermann = np.nanmax(disch_percCh_monClim_eraThree_ensMean_MissouriHermann)\n",
    "minPercCh_eraThree_MissouriHermann = np.nanmin(disch_percCh_monClim_eraThree_ensMean_MissouriHermann)\n",
    "\n",
    "print(maxPercCh_eraThree_MissouriHermann)\n",
    "print(minPercCh_eraThree_MissouriHermann)\n"
   ]
  },
  {
   "cell_type": "markdown",
   "metadata": {},
   "source": [
    "## Arkansas"
   ]
  },
  {
   "cell_type": "code",
   "execution_count": 48,
   "metadata": {},
   "outputs": [
    {
     "name": "stdout",
     "output_type": "stream",
     "text": [
      "(12,)\n",
      "(12,)\n",
      "(12,)\n",
      "(12,)\n"
     ]
    }
   ],
   "source": [
    "print(disch_monClim_refPeriod_ensMean_ArkansasMurrayLittleRock.shape)\n",
    "print(disch_monClim_eraOne_ensMean_ArkansasMurrayLittleRock.shape)\n",
    "print(disch_monClim_eraTwo_ensMean_ArkansasMurrayLittleRock.shape)\n",
    "print(disch_monClim_eraThree_ensMean_ArkansasMurrayLittleRock.shape)\n",
    "\n",
    "#print(dischObsMonClim_ArkansasMurrayLittleRock.shape)\n"
   ]
  },
  {
   "cell_type": "code",
   "execution_count": 49,
   "metadata": {},
   "outputs": [
    {
     "name": "stdout",
     "output_type": "stream",
     "text": [
      "[-11.49216418 -11.97736554  -9.98536194  -7.89889002  -9.23815323\n",
      " -11.08472576 -13.99635743  -5.11053739  -9.22535311  -9.13998803\n",
      "  -9.72323508 -10.18540267]\n",
      "\n",
      "-5.110537394690868\n",
      "-13.996357430838845\n"
     ]
    }
   ],
   "source": [
    "disch_percCh_monClim_eraOne_ensMean_ArkansasMurrayLittleRock = (disch_monClim_eraOne_ensMean_ArkansasMurrayLittleRock-disch_monClim_refPeriod_ensMean_ArkansasMurrayLittleRock)/disch_monClim_refPeriod_ensMean_ArkansasMurrayLittleRock*100\n",
    "print(disch_percCh_monClim_eraOne_ensMean_ArkansasMurrayLittleRock)\n",
    "print('')\n",
    "maxPercCh_eraOne_ArkansasMurrayLittleRock = np.nanmax(disch_percCh_monClim_eraOne_ensMean_ArkansasMurrayLittleRock)\n",
    "minPercCh_eraOne_ArkansasMurrayLittleRock = np.nanmin(disch_percCh_monClim_eraOne_ensMean_ArkansasMurrayLittleRock)\n",
    "\n",
    "print(maxPercCh_eraOne_ArkansasMurrayLittleRock)\n",
    "print(minPercCh_eraOne_ArkansasMurrayLittleRock)\n"
   ]
  },
  {
   "cell_type": "code",
   "execution_count": 50,
   "metadata": {},
   "outputs": [
    {
     "name": "stdout",
     "output_type": "stream",
     "text": [
      "[-8.30137916 -9.28372068 -6.97625281 -3.63233592 -2.73958852 -4.99698848\n",
      " -3.3356589   9.95245825 -5.45334534 -6.97978754 -7.38521515 -6.86680539]\n",
      "\n",
      "9.952458254586812\n",
      "-9.283720682872646\n"
     ]
    }
   ],
   "source": [
    "disch_percCh_monClim_eraTwo_ensMean_ArkansasMurrayLittleRock = (disch_monClim_eraTwo_ensMean_ArkansasMurrayLittleRock-disch_monClim_refPeriod_ensMean_ArkansasMurrayLittleRock)/disch_monClim_refPeriod_ensMean_ArkansasMurrayLittleRock*100\n",
    "print(disch_percCh_monClim_eraTwo_ensMean_ArkansasMurrayLittleRock)\n",
    "print('')\n",
    "maxPercCh_eraTwo_ArkansasMurrayLittleRock = np.nanmax(disch_percCh_monClim_eraTwo_ensMean_ArkansasMurrayLittleRock)\n",
    "minPercCh_eraTwo_ArkansasMurrayLittleRock = np.nanmin(disch_percCh_monClim_eraTwo_ensMean_ArkansasMurrayLittleRock)\n",
    "\n",
    "print(maxPercCh_eraTwo_ArkansasMurrayLittleRock)\n",
    "print(minPercCh_eraTwo_ArkansasMurrayLittleRock)\n"
   ]
  },
  {
   "cell_type": "code",
   "execution_count": 51,
   "metadata": {},
   "outputs": [
    {
     "name": "stdout",
     "output_type": "stream",
     "text": [
      "[-5.64099235 -8.20085984 -4.81254191 -2.71485023  0.31271203 -1.73740213\n",
      "  6.74263232 21.34070997 -1.34791811 -3.08541433 -3.99341723 -4.38766283]\n",
      "\n",
      "21.340709968228925\n",
      "-8.20085984380405\n"
     ]
    }
   ],
   "source": [
    "disch_percCh_monClim_eraThree_ensMean_ArkansasMurrayLittleRock = (disch_monClim_eraThree_ensMean_ArkansasMurrayLittleRock-disch_monClim_refPeriod_ensMean_ArkansasMurrayLittleRock)/disch_monClim_refPeriod_ensMean_ArkansasMurrayLittleRock*100\n",
    "print(disch_percCh_monClim_eraThree_ensMean_ArkansasMurrayLittleRock)\n",
    "print('')\n",
    "maxPercCh_eraThree_ArkansasMurrayLittleRock = np.nanmax(disch_percCh_monClim_eraThree_ensMean_ArkansasMurrayLittleRock)\n",
    "minPercCh_eraThree_ArkansasMurrayLittleRock = np.nanmin(disch_percCh_monClim_eraThree_ensMean_ArkansasMurrayLittleRock)\n",
    "\n",
    "print(maxPercCh_eraThree_ArkansasMurrayLittleRock)\n",
    "print(minPercCh_eraThree_ArkansasMurrayLittleRock)\n"
   ]
  },
  {
   "cell_type": "markdown",
   "metadata": {},
   "source": [
    "## Ohio at Olmsted"
   ]
  },
  {
   "cell_type": "code",
   "execution_count": 52,
   "metadata": {},
   "outputs": [
    {
     "name": "stdout",
     "output_type": "stream",
     "text": [
      "(12,)\n",
      "(12,)\n",
      "(12,)\n",
      "(12,)\n"
     ]
    }
   ],
   "source": [
    "print(disch_monClim_refPeriod_ensMean_OhioOlmsted.shape)\n",
    "print(disch_monClim_eraOne_ensMean_OhioOlmsted.shape)\n",
    "print(disch_monClim_eraTwo_ensMean_OhioOlmsted.shape)\n",
    "print(disch_monClim_eraThree_ensMean_OhioOlmsted.shape)\n",
    "\n",
    "#print(dischObsMonClim_OhioOlmsted.shape)\n"
   ]
  },
  {
   "cell_type": "code",
   "execution_count": 53,
   "metadata": {},
   "outputs": [
    {
     "name": "stdout",
     "output_type": "stream",
     "text": [
      "[  0.98803489   4.95630331   2.63986904 -10.02536309 -12.77004738\n",
      "  -1.52932666  -4.35218889  -2.53076201   3.68515449  -0.27948304\n",
      "  -1.0526196   -0.43685529]\n",
      "\n",
      "4.956303306317254\n",
      "-12.77004738269011\n"
     ]
    }
   ],
   "source": [
    "disch_percCh_monClim_eraOne_ensMean_OhioOlmsted = (disch_monClim_eraOne_ensMean_OhioOlmsted-disch_monClim_refPeriod_ensMean_OhioOlmsted)/disch_monClim_refPeriod_ensMean_OhioOlmsted*100\n",
    "print(disch_percCh_monClim_eraOne_ensMean_OhioOlmsted)\n",
    "print('')\n",
    "maxPercCh_eraOne_OhioOlmsted = np.nanmax(disch_percCh_monClim_eraOne_ensMean_OhioOlmsted)\n",
    "minPercCh_eraOne_OhioOlmsted = np.nanmin(disch_percCh_monClim_eraOne_ensMean_OhioOlmsted)\n",
    "\n",
    "print(maxPercCh_eraOne_OhioOlmsted)\n",
    "print(minPercCh_eraOne_OhioOlmsted)\n"
   ]
  },
  {
   "cell_type": "code",
   "execution_count": 54,
   "metadata": {},
   "outputs": [
    {
     "name": "stdout",
     "output_type": "stream",
     "text": [
      "[  6.42651044  11.0495541    6.1741391  -15.33830091 -14.5753278\n",
      "   3.37563654   0.22389648   4.81890669   8.82415074   3.41605236\n",
      "   3.07965817   5.01299587]\n",
      "\n",
      "11.049554101120515\n",
      "-15.338300914561056\n"
     ]
    }
   ],
   "source": [
    "disch_percCh_monClim_eraTwo_ensMean_OhioOlmsted = (disch_monClim_eraTwo_ensMean_OhioOlmsted-disch_monClim_refPeriod_ensMean_OhioOlmsted)/disch_monClim_refPeriod_ensMean_OhioOlmsted*100\n",
    "print(disch_percCh_monClim_eraTwo_ensMean_OhioOlmsted)\n",
    "print('')\n",
    "maxPercCh_eraTwo_OhioOlmsted = np.nanmax(disch_percCh_monClim_eraTwo_ensMean_OhioOlmsted)\n",
    "minPercCh_eraTwo_OhioOlmsted = np.nanmin(disch_percCh_monClim_eraTwo_ensMean_OhioOlmsted)\n",
    "\n",
    "print(maxPercCh_eraTwo_OhioOlmsted)\n",
    "print(minPercCh_eraTwo_OhioOlmsted)\n"
   ]
  },
  {
   "cell_type": "code",
   "execution_count": 55,
   "metadata": {},
   "outputs": [
    {
     "name": "stdout",
     "output_type": "stream",
     "text": [
      "[ 15.94681854  19.59890484  10.22997643 -18.50381673 -10.26554827\n",
      "  10.18133929   6.00204428  14.31526995  15.24528095   9.61698851\n",
      "  10.09664994  12.62668202]\n",
      "\n",
      "19.59890483607522\n",
      "-18.503816728958927\n"
     ]
    }
   ],
   "source": [
    "disch_percCh_monClim_eraThree_ensMean_OhioOlmsted = (disch_monClim_eraThree_ensMean_OhioOlmsted-disch_monClim_refPeriod_ensMean_OhioOlmsted)/disch_monClim_refPeriod_ensMean_OhioOlmsted*100\n",
    "print(disch_percCh_monClim_eraThree_ensMean_OhioOlmsted)\n",
    "print('')\n",
    "maxPercCh_eraThree_OhioOlmsted = np.nanmax(disch_percCh_monClim_eraThree_ensMean_OhioOlmsted)\n",
    "minPercCh_eraThree_OhioOlmsted = np.nanmin(disch_percCh_monClim_eraThree_ensMean_OhioOlmsted)\n",
    "\n",
    "print(maxPercCh_eraThree_OhioOlmsted)\n",
    "print(minPercCh_eraThree_OhioOlmsted)\n"
   ]
  },
  {
   "cell_type": "markdown",
   "metadata": {},
   "source": [
    "## Mississippi at Vicksburg"
   ]
  },
  {
   "cell_type": "code",
   "execution_count": 56,
   "metadata": {},
   "outputs": [
    {
     "name": "stdout",
     "output_type": "stream",
     "text": [
      "(12,)\n",
      "(12,)\n",
      "(12,)\n",
      "(12,)\n"
     ]
    }
   ],
   "source": [
    "print(disch_monClim_refPeriod_ensMean_MissiVicks.shape)\n",
    "print(disch_monClim_eraOne_ensMean_MissiVicks.shape)\n",
    "print(disch_monClim_eraTwo_ensMean_MissiVicks.shape)\n",
    "print(disch_monClim_eraThree_ensMean_MissiVicks.shape)\n"
   ]
  },
  {
   "cell_type": "code",
   "execution_count": 57,
   "metadata": {},
   "outputs": [
    {
     "name": "stdout",
     "output_type": "stream",
     "text": [
      "[ 1.17701093  3.36291611  0.16039276 -4.95232979 -5.51233409 -1.9810531\n",
      " -3.22442087 -0.06497738  0.32976214 -0.39469904 -1.41969194 -0.70701853]\n",
      "\n",
      "3.3629161136960026\n",
      "-5.512334086636112\n"
     ]
    }
   ],
   "source": [
    "disch_percCh_monClim_eraOne_ensMean_MissiVicks = (disch_monClim_eraOne_ensMean_MissiVicks-disch_monClim_refPeriod_ensMean_MissiVicks)/disch_monClim_refPeriod_ensMean_MissiVicks*100\n",
    "print(disch_percCh_monClim_eraOne_ensMean_MissiVicks)\n",
    "print('')\n",
    "maxPercCh_eraOne_MissiVicks = np.nanmax(disch_percCh_monClim_eraOne_ensMean_MissiVicks)\n",
    "minPercCh_eraOne_MissiVicks = np.nanmin(disch_percCh_monClim_eraOne_ensMean_MissiVicks)\n",
    "\n",
    "print(maxPercCh_eraOne_MissiVicks)\n",
    "print(minPercCh_eraOne_MissiVicks)\n"
   ]
  },
  {
   "cell_type": "code",
   "execution_count": 58,
   "metadata": {},
   "outputs": [
    {
     "name": "stdout",
     "output_type": "stream",
     "text": [
      "[10.78999696 11.39532956  6.19920727 -2.39393841 -2.38357152  2.98921019\n",
      "  1.97375009  6.64793548  5.09798928  2.71931027  3.50880423  6.75728255]\n",
      "\n",
      "11.395329558359922\n",
      "-2.393938406850445\n"
     ]
    }
   ],
   "source": [
    "disch_percCh_monClim_eraTwo_ensMean_MissiVicks = (disch_monClim_eraTwo_ensMean_MissiVicks-disch_monClim_refPeriod_ensMean_MissiVicks)/disch_monClim_refPeriod_ensMean_MissiVicks*100\n",
    "print(disch_percCh_monClim_eraTwo_ensMean_MissiVicks)\n",
    "print('')\n",
    "maxPercCh_eraTwo_MissiVicks = np.nanmax(disch_percCh_monClim_eraTwo_ensMean_MissiVicks)\n",
    "minPercCh_eraTwo_MissiVicks = np.nanmin(disch_percCh_monClim_eraTwo_ensMean_MissiVicks)\n",
    "\n",
    "print(maxPercCh_eraTwo_MissiVicks)\n",
    "print(minPercCh_eraTwo_MissiVicks)\n"
   ]
  },
  {
   "cell_type": "code",
   "execution_count": 59,
   "metadata": {},
   "outputs": [
    {
     "name": "stdout",
     "output_type": "stream",
     "text": [
      "[20.53875796 20.3039239  11.82348753  0.47528169  3.53501498  8.26103792\n",
      "  7.84807558 15.55369153 10.83309111  7.90833843  9.59293741 14.70533676]\n",
      "\n",
      "20.538757958170184\n",
      "0.4752816939895204\n"
     ]
    }
   ],
   "source": [
    "disch_percCh_monClim_eraThree_ensMean_MissiVicks = (disch_monClim_eraThree_ensMean_MissiVicks-disch_monClim_refPeriod_ensMean_MissiVicks)/disch_monClim_refPeriod_ensMean_MissiVicks*100\n",
    "print(disch_percCh_monClim_eraThree_ensMean_MissiVicks)\n",
    "print('')\n",
    "maxPercCh_eraThree_MissiVicks = np.nanmax(disch_percCh_monClim_eraThree_ensMean_MissiVicks)\n",
    "minPercCh_eraThree_MissiVicks = np.nanmin(disch_percCh_monClim_eraThree_ensMean_MissiVicks)\n",
    "\n",
    "print(maxPercCh_eraThree_MissiVicks)\n",
    "print(minPercCh_eraThree_MissiVicks)\n"
   ]
  },
  {
   "cell_type": "markdown",
   "metadata": {},
   "source": [
    "## Plotting the percent change discharge climatology relative to Historical Referenc period climatology"
   ]
  },
  {
   "cell_type": "code",
   "execution_count": 60,
   "metadata": {},
   "outputs": [
    {
     "name": "stdout",
     "output_type": "stream",
     "text": [
      "('Jan', 'Feb', 'Mar', 'Apr', 'May', 'Jun', 'Jul', 'Aug', 'Sep', 'Oct', 'Nov', 'Dec')\n"
     ]
    }
   ],
   "source": [
    "monsStr = 'Jan','Feb','Mar','Apr','May','Jun','Jul', 'Aug', 'Sep','Oct', 'Nov', 'Dec'\n",
    "print(monsStr)"
   ]
  },
  {
   "cell_type": "code",
   "execution_count": 61,
   "metadata": {},
   "outputs": [
    {
     "data": {
      "image/png": "[encoded data removed]",
      "text/plain": [
       "<Figure size 792x648 with 4 Axes>"
      ]
     },
     "metadata": {
      "needs_background": "light"
     },
     "output_type": "display_data"
    }
   ],
   "source": [
    "\n",
    "#%matplotlib notebook\n",
    "\n",
    "\n",
    "tickFontSize = 17\n",
    "textFontSize = 19\n",
    "legendFontSize = 18\n",
    "titleFontSize = 19\n",
    "\n",
    "\n",
    "linewidth = 0.8\n",
    "dashLinewidth = 0.7\n",
    "\n",
    "#++++++++++++++++++++++++++++++++++++++++++++++++++++++++++++++++++++++++++\n",
    "fig = plt.figure(figsize=(11, 9), constrained_layout=False)\n",
    "\n",
    "axs = [plt.subplot(2, 2, x + 1,) for x in range(4)]\n",
    "ax1 = axs[0]\n",
    "\n",
    "ln12=ax1.plot(range(nMonsPerYr), disch_percCh_monClim_eraOne_ensMean_MissouriHermann, label=\"2015-2044\", color = 'blue', linewidth=1)\n",
    "ln13=ax1.plot(range(nMonsPerYr), disch_percCh_monClim_eraTwo_ensMean_MissouriHermann, label=\"2045-2074\", color = 'orange', linewidth=1.5)\n",
    "ln14=ax1.plot(range(nMonsPerYr), disch_percCh_monClim_eraThree_ensMean_MissouriHermann, label=\"2075-2100\", color = 'red', linewidth=1)\n",
    "ln16 = ax1.axhline(y = 0, color = 'k', label = '', linestyle='--', linewidth=0.7)\n",
    "\n",
    "ax1.set_title('(a) Missouri', y=0.98, pad=-14, fontsize = titleFontSize, loc='left')\n",
    "ax1.set_xticks(range(nMonsPerYr))\n",
    "ax1.set_xticklabels(monsStr, minor=False)\n",
    "ax1.set_xticklabels('', )\n",
    "\n",
    "ax1.set_yticks([-20, -10, 0, 10, 20]) \n",
    "ax1.set_yticklabels(['-20', '-10', '0', '10', '20'],  fontsize = tickFontSize) \n",
    "\n",
    "\n",
    "ax1.set_xlim([0, 11])\n",
    "ax1.set_ylim([-25, 28])\n",
    "\n",
    "ax1.set_xlabel('')\n",
    "#+++++++++++++++++++++++++++++++++++++++++++++++++++++++\n",
    "\n",
    "ax2 = axs[1]\n",
    "ln22=ax2.plot(range(nMonsPerYr), disch_percCh_monClim_eraOne_ensMean_ArkansasMurrayLittleRock, label=\"2015-2044\", color = 'blue', linewidth=1)\n",
    "ln23=ax2.plot(range(nMonsPerYr), disch_percCh_monClim_eraTwo_ensMean_ArkansasMurrayLittleRock, label=\"2045-2074\", color = 'orange', linewidth=1.5)\n",
    "ln24=ax2.plot(range(nMonsPerYr), disch_percCh_monClim_eraThree_ensMean_ArkansasMurrayLittleRock, label=\"2075-2100\", color = 'red', linewidth=1)\n",
    "ln26 = ax2.axhline(y = 0, color = 'k', label = '', linestyle='--', linewidth=0.7)\n",
    "\n",
    "ax2.set_title('(b) Arkansas', y=0.98, pad=-14, fontsize = titleFontSize, loc='left')\n",
    "\n",
    "ax2.set_xticks(range(nMonsPerYr))\n",
    "ax2.set_xticklabels(monsStr, minor=False)\n",
    "ax2.set_xticklabels('', )\n",
    "\n",
    "ax2.set_yticks([-20, -10, 0, 10, 20]) \n",
    "ax2.set_yticklabels(['-20', '-10', '0', '10', '20'],  fontsize = tickFontSize) \n",
    "ax2.set_yticklabels('', )\n",
    "\n",
    "ax2.set_xlim([0, 11])\n",
    "ax2.set_ylim([-25, 28])\n",
    "\n",
    "ax2.set_xlabel('')\n",
    "ax2.set_ylabel('')\n",
    "#+++++++++++++++++++++++++++++++++++++++++++++++++++++++\n",
    "\n",
    "ax3 = axs[2]\n",
    "ln32=ax3.plot(range(nMonsPerYr), disch_percCh_monClim_eraOne_ensMean_OhioOlmsted, label=\"2015-2044\", color = 'blue', linewidth=1)\n",
    "ln33=ax3.plot(range(nMonsPerYr), disch_percCh_monClim_eraTwo_ensMean_OhioOlmsted, label=\"2045-2074\", color = 'orange', linewidth=1.5)\n",
    "ln34=ax3.plot(range(nMonsPerYr), disch_percCh_monClim_eraThree_ensMean_OhioOlmsted, label=\"2075-2100\", color = 'red', linewidth=1)\n",
    "ln36 = ax3.axhline(y = 0, color = 'k', label = '', linestyle='--', linewidth=0.7)\n",
    "\n",
    "ax3.set_title('(c) Ohio', y=0.98, pad=-14, fontsize =  titleFontSize, loc='left')\n",
    "\n",
    "ax3.set_xticks(range(nMonsPerYr))\n",
    "ax3.set_xticklabels(monsStr, minor=False)\n",
    "ax3.set_xticklabels(monsStr, minor=False, rotation = 45,  fontsize = tickFontSize)\n",
    "\n",
    "ax3.set_yticks([-20, -10, 0, 10, 20]) \n",
    "ax3.set_yticklabels(['-20', '-10', '0', '10', '20'],  fontsize = tickFontSize) \n",
    "\n",
    "\n",
    "ax3.set_xlim([0, 11])\n",
    "ax3.set_ylim([-25, 28])\n",
    "\n",
    "ax3.set_ylabel('Percent difference', fontsize = textFontSize )\n",
    "ax3.yaxis.set_label_coords(-0.10, +1.07)\n",
    "\n",
    "ax3.set_xlabel('')\n",
    "#+++++++++++++++++++++++++++++++++++++++++++++++++++++++\n",
    "\n",
    "\n",
    "ax4 = axs[3]\n",
    "ln42=ax4.plot(range(nMonsPerYr), disch_percCh_monClim_eraOne_ensMean_MissiVicks, label=\"2015-2044\", color = 'blue', linewidth=1)\n",
    "ln43=ax4.plot(range(nMonsPerYr), disch_percCh_monClim_eraTwo_ensMean_MissiVicks, label=\"2045-2074\", color = 'orange', linewidth=1.5)\n",
    "ln44=ax4.plot(range(nMonsPerYr), disch_percCh_monClim_eraThree_ensMean_MissiVicks, label=\"2075-2100\", color = 'red', linewidth=1)\n",
    "ln46 = ax4.axhline(y = 0, color = 'k', label = '', linestyle='--', linewidth=0.7)\n",
    "\n",
    "ax4.set_title('(d) Lower Mississippi', y=0.98, pad=-14, fontsize = titleFontSize, loc='left')\n",
    "\n",
    "ax4.set_xticks(range(nMonsPerYr))\n",
    "ax4.set_xticklabels(monsStr, minor=False, rotation = 45,  fontsize = tickFontSize)\n",
    "\n",
    "ax4.set_yticks([-20, -10, 0, 10, 20]) \n",
    "ax4.set_yticklabels(['-20', '-10', '0', '10', '20'],  fontsize = tickFontSize) \n",
    "ax4.set_yticklabels('', )\n",
    "\n",
    "ax4.set_xlim([0, 11])\n",
    "ax4.set_ylim([-25, 28])\n",
    "\n",
    "ax4.set_xlabel('Months', fontsize = textFontSize )\n",
    "ax4.xaxis.set_label_coords(-0.11, -0.23)\n",
    "ax4.legend(ncol=3, loc=(-0.82, -0.46),frameon=False, fontsize=legendFontSize)\n",
    "\n",
    "#+++++++++++++++++++++++++++++++++++++++++++++++++++++++\n",
    "#+++++++++++++++++++++++++++++++++++++++++++++++++++++++\n",
    "#st = fig.suptitle(\"Annual cycle at a gage-station per basin\", fontsize = 20)\n",
    "#st.set_y(0.92)\n",
    "#st.set_x(0.515)\n",
    "\n",
    "with warnings.catch_warnings():\n",
    "    warnings.filterwarnings(\"ignore\", category=DeprecationWarning)\n",
    "\n",
    "plt.subplots_adjust(wspace=0.3, bottom=0.2)\n",
    "\n",
    "plt.show()"
   ]
  },
  {
   "cell_type": "code",
   "execution_count": null,
   "metadata": {},
   "outputs": [],
   "source": []
  },
  {
   "cell_type": "code",
   "execution_count": null,
   "metadata": {},
   "outputs": [],
   "source": []
  },
  {
   "cell_type": "code",
   "execution_count": null,
   "metadata": {},
   "outputs": [],
   "source": []
  },
  {
   "cell_type": "code",
   "execution_count": null,
   "metadata": {},
   "outputs": [],
   "source": []
  },
  {
   "cell_type": "code",
   "execution_count": 62,
   "metadata": {},
   "outputs": [
    {
     "ename": "SyntaxError",
     "evalue": "invalid syntax (<ipython-input-62-76345b92dc7b>, line 1)",
     "output_type": "error",
     "traceback": [
      "\u001b[1;36m  File \u001b[1;32m\"<ipython-input-62-76345b92dc7b>\"\u001b[1;36m, line \u001b[1;32m1\u001b[0m\n\u001b[1;33m    STOP here ============\u001b[0m\n\u001b[1;37m         ^\u001b[0m\n\u001b[1;31mSyntaxError\u001b[0m\u001b[1;31m:\u001b[0m invalid syntax\n"
     ]
    }
   ],
   "source": [
    "STOP here ============"
   ]
  },
  {
   "cell_type": "code",
   "execution_count": null,
   "metadata": {},
   "outputs": [],
   "source": []
  },
  {
   "cell_type": "code",
   "execution_count": null,
   "metadata": {},
   "outputs": [],
   "source": []
  },
  {
   "cell_type": "code",
   "execution_count": null,
   "metadata": {},
   "outputs": [],
   "source": []
  }
 ],
 "metadata": {
  "kernelspec": {
   "display_name": "Python 3",
   "language": "python",
   "name": "python3"
  },
  "language_info": {
   "codemirror_mode": {
    "name": "ipython",
    "version": 3
   },
   "file_extension": ".py",
   "mimetype": "text/x-python",
   "name": "python",
   "nbconvert_exporter": "python",
   "pygments_lexer": "ipython3",
   "version": "3.8.5"
  }
 },
 "nbformat": 4,
 "nbformat_minor": 4
}
